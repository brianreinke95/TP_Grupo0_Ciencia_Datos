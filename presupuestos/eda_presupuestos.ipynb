{
 "cells": [
  {
   "cell_type": "markdown",
   "metadata": {},
   "source": [
    "# EDA presupuestos"
   ]
  },
  {
   "cell_type": "markdown",
   "metadata": {},
   "source": [
    "### Imports"
   ]
  },
  {
   "cell_type": "code",
   "execution_count": 1,
   "metadata": {},
   "outputs": [
    {
     "data": {
      "text/html": [
       "<style>.container { width:80% !important; }</style>"
      ],
      "text/plain": [
       "<IPython.core.display.HTML object>"
      ]
     },
     "metadata": {},
     "output_type": "display_data"
    }
   ],
   "source": [
    "from IPython.core.display import display, HTML\n",
    "display(HTML(\"<style>.container { width:80% !important; }</style>\"))  # Agranda el ancho de la ventana."
   ]
  },
  {
   "cell_type": "code",
   "execution_count": 2,
   "metadata": {},
   "outputs": [],
   "source": [
    "import pandas as pd\n",
    "import numpy as np"
   ]
  },
  {
   "cell_type": "code",
   "execution_count": 3,
   "metadata": {},
   "outputs": [],
   "source": [
    "import warnings\n",
    "warnings.filterwarnings('ignore') \n",
    "from IPython.core.interactiveshell import InteractiveShell\n",
    "InteractiveShell.ast_node_interactivity = \"all\"  \n",
    "pd.set_option('display.max_colwidth', None)  \n",
    "pd.set_option('display.max_rows', 1000)  \n",
    "pd.set_option('display.max_columns', 1000) \n",
    "pd.options.display.float_format = '{:.2f}'.format"
   ]
  },
  {
   "cell_type": "code",
   "execution_count": 4,
   "metadata": {},
   "outputs": [],
   "source": [
    "import matplotlib.pyplot as plt\n",
    "import seaborn as sns\n",
    "import plotly.express as px\n",
    "import plotly.graph_objects as go"
   ]
  },
  {
   "cell_type": "code",
   "execution_count": 185,
   "metadata": {
    "scrolled": false
   },
   "outputs": [],
   "source": [
    "%run Funciones_Auxiliares.ipynb"
   ]
  },
  {
   "cell_type": "markdown",
   "metadata": {},
   "source": [
    "# Lectura de la base unificada y selección de los campos a analizar\n",
    "\n",
    "La base contiene todos los gastos que demande el desenvolvimiento de los órganos del gobierno central, de los entes descentralizados y comunas, el servicio de la deuda pública, las inversiones patrimoniales y los recursos para cubrir tales erogaciones. Los recursos publicados detallan la distribución de los créditos aprobados al máximo nivel de desagregación.\n",
    "\n",
    "De todas las áreas querremos analizar la destinada a espacios verdes."
   ]
  },
  {
   "cell_type": "code",
   "execution_count": 85,
   "metadata": {},
   "outputs": [],
   "source": [
    "presupuesto_sancionado = pd.read_csv(\"datasets/presupuesto_sancionado_clean.csv\")"
   ]
  },
  {
   "cell_type": "code",
   "execution_count": 86,
   "metadata": {},
   "outputs": [],
   "source": [
    "presupuesto_sancionado['SANCION'] = presupuesto_sancionado['SANCION'].astype(float)"
   ]
  },
  {
   "cell_type": "code",
   "execution_count": 87,
   "metadata": {
    "scrolled": true
   },
   "outputs": [],
   "source": [
    "presupuesto_sancionado = presupuesto_sancionado.loc[presupuesto_sancionado['SANCION'] != 0]\n",
    "presupuesto_sancionado = presupuesto_sancionado.loc[presupuesto_sancionado['AÑO'] > 2009]"
   ]
  },
  {
   "cell_type": "code",
   "execution_count": 88,
   "metadata": {},
   "outputs": [
    {
     "data": {
      "text/plain": [
       "array([2010, 2011, 2012, 2013, 2014, 2015, 2016, 2017, 2018, 2019, 2020],\n",
       "      dtype=int64)"
      ]
     },
     "execution_count": 88,
     "metadata": {},
     "output_type": "execute_result"
    }
   ],
   "source": [
    "presupuesto_sancionado.AÑO.unique()"
   ]
  },
  {
   "cell_type": "code",
   "execution_count": 89,
   "metadata": {},
   "outputs": [
    {
     "data": {
      "text/plain": [
       "(401068, 22)"
      ]
     },
     "execution_count": 89,
     "metadata": {},
     "output_type": "execute_result"
    }
   ],
   "source": [
    "presupuesto_sancionado.shape"
   ]
  },
  {
   "cell_type": "code",
   "execution_count": 90,
   "metadata": {},
   "outputs": [],
   "source": [
    "cols = presupuesto_sancionado.dtypes[(presupuesto_sancionado.dtypes == 'object')].index\n",
    "for col in cols:\n",
    "    presupuesto_sancionado[col] = presupuesto_sancionado[col].astype(str)"
   ]
  },
  {
   "cell_type": "code",
   "execution_count": 91,
   "metadata": {},
   "outputs": [
    {
     "name": "stdout",
     "output_type": "stream",
     "text": [
      "CARACTER []\n",
      "CARACTER 0\n",
      "\n",
      "JURISDICCION ['MINISTERIO DE AMBIENTE Y ESPACIO PUBLICO']\n",
      "JURISDICCION 40142\n",
      "\n",
      "SUBJURISDICCION ['MINISTERIO DE AMBIENTE Y ESPACIO PUBLICO' 'SECRETARIA DE AMBIENTE']\n",
      "SUBJURISDICCION 41141\n",
      "\n",
      "ENTIDAD ['MINISTERIO DE AMBIENTE Y ESPACIO PUBLICO' 'SECRETARIA DE AMBIENTE']\n",
      "ENTIDAD 29001\n",
      "\n",
      "SERVICIO ['MINISTERIO DE AMBIENTE Y ESPACIO PUBLICO' 'SEC. AMBIENTE']\n",
      "SERVICIO 29001\n",
      "\n",
      "UNIDAD_EJECUTORA ['MINISTERIO AMBIENTE Y ESPACIO PUBLICO'\n",
      " 'MINISTERIO DE AMBIENTE Y ESPACIO PUBLICO']\n",
      "UNIDAD_EJECUTORA 1371\n",
      "\n",
      "PROGRAMA ['ACTIVIDADES CENTRALES AMBIENTE Y ESPACIO PUBLICO']\n",
      "PROGRAMA 1232\n",
      "\n",
      "SUBPROGRAMA ['ACTIVIDADES CENTRALES AMBIENTE Y ESPACIO PUBLICO']\n",
      "SUBPROGRAMA 1232\n",
      "\n",
      "PROYECTO ['ACTIVIDADES CENTRALES AMBIENTE Y ESPACIO PUBLICO']\n",
      "PROYECTO 1232\n",
      "\n",
      "ACTIVIDAD []\n",
      "ACTIVIDAD 0\n",
      "\n",
      "OBRA ['AMBIENTE Y ESPACIO PUBLICO']\n",
      "OBRA 3\n",
      "\n",
      "FINALIDAD []\n",
      "FINALIDAD 0\n",
      "\n",
      "FUNCION []\n",
      "FUNCION 0\n",
      "\n",
      "INCISO []\n",
      "INCISO 0\n",
      "\n",
      "PRINCIPAL []\n",
      "PRINCIPAL 0\n",
      "\n",
      "PARCIAL []\n",
      "PARCIAL 0\n",
      "\n",
      "SUBPARCIAL []\n",
      "SUBPARCIAL 0\n",
      "\n",
      "CLAS_ECONOMICO []\n",
      "CLAS_ECONOMICO 0\n",
      "\n",
      "FUENTE_FIN []\n",
      "FUENTE_FIN 0\n",
      "\n",
      "UBICACION_GEOGRAFICA []\n",
      "UBICACION_GEOGRAFICA 0\n",
      "\n"
     ]
    }
   ],
   "source": [
    "for col in cols:\n",
    "    print(col, presupuesto_sancionado.loc[presupuesto_sancionado[col].str.contains('AMBIENTE'), col].unique())\n",
    "\n",
    "    print(col, presupuesto_sancionado[col].str.contains('AMBIENTE').sum())\n",
    "\n",
    "    print()"
   ]
  },
  {
   "cell_type": "markdown",
   "metadata": {},
   "source": [
    "**El Ministerio de Ambiente pasa a ser una secretaria en 2020 bajo la dependencia de la Jefatura de Gobierno**"
   ]
  },
  {
   "cell_type": "code",
   "execution_count": 92,
   "metadata": {},
   "outputs": [],
   "source": [
    "jef_gob = presupuesto_sancionado.groupby('JURISDICCION').get_group(\"JEFATURA DE GOBIERNO\")\n",
    "sec_ambiente = jef_gob.groupby('SUBJURISDICCION').get_group(\"SECRETARIA DE AMBIENTE\")\n",
    "min_ambiente = presupuesto_sancionado.groupby('JURISDICCION').get_group(\"MINISTERIO DE AMBIENTE Y ESPACIO PUBLICO\")\n",
    "\n",
    "ambiente = pd.concat([min_ambiente, sec_ambiente])"
   ]
  },
  {
   "cell_type": "code",
   "execution_count": 93,
   "metadata": {},
   "outputs": [
    {
     "data": {
      "text/plain": [
       "MINISTERIO DE AMBIENTE Y ESPACIO PUBLICO    40142\n",
       "JEFATURA DE GOBIERNO                         1248\n",
       "Name: JURISDICCION, dtype: int64"
      ]
     },
     "execution_count": 93,
     "metadata": {},
     "output_type": "execute_result"
    }
   ],
   "source": [
    "ambiente['JURISDICCION'].value_counts()"
   ]
  },
  {
   "cell_type": "code",
   "execution_count": 94,
   "metadata": {},
   "outputs": [
    {
     "data": {
      "text/plain": [
       "SERVICIOS URBANOS                17757\n",
       "ECOLOGIA                         17417\n",
       "AGUA POTABLE Y ALCANTARILLADO     1486\n",
       "SEGURIDAD INTERIOR                1480\n",
       "TRABAJO                           1289\n",
       "INDUSTRIA Y COMERCIO              1255\n",
       "DIRECCION EJECUTIVA                340\n",
       "CONTROL DE LA GESTION              194\n",
       "PROMOCION Y ACCION SOCIAL           83\n",
       "EDUCACION                           51\n",
       "SALUD                               38\n",
       "Name: FUNCION, dtype: int64"
      ]
     },
     "execution_count": 94,
     "metadata": {},
     "output_type": "execute_result"
    }
   ],
   "source": [
    "ambiente['FUNCION'].value_counts()"
   ]
  },
  {
   "cell_type": "code",
   "execution_count": 95,
   "metadata": {},
   "outputs": [],
   "source": [
    "ecologia = ambiente[ambiente['FUNCION'] == 'ECOLOGIA']\n",
    "ecologia = ecologia.T.drop_duplicates().T  # Elimino columnas que contienen la misma información."
   ]
  },
  {
   "cell_type": "code",
   "execution_count": 96,
   "metadata": {},
   "outputs": [
    {
     "data": {
      "text/plain": [
       "(17417, 21)"
      ]
     },
     "execution_count": 96,
     "metadata": {},
     "output_type": "execute_result"
    }
   ],
   "source": [
    "ecologia.shape"
   ]
  },
  {
   "cell_type": "code",
   "execution_count": 97,
   "metadata": {},
   "outputs": [],
   "source": [
    "def repr_high_values(series):\n",
    "\n",
    "        series = series.apply(lambda x: f\"${x:,.0f}\" if not pd.isnull(x) else x)\n",
    "        series = series.str.replace(\",\", \".\")\n",
    "\n",
    "        return series"
   ]
  },
  {
   "cell_type": "code",
   "execution_count": 98,
   "metadata": {},
   "outputs": [],
   "source": [
    "def repr_sancion_by_subset(df, subset):\n",
    "\n",
    "    sancion_by_subset = df.groupby(subset).agg({'SANCION': 'sum'})\\\n",
    "                                .sort_values(by='SANCION', ascending=False)\n",
    "    \n",
    "    sancion_by_subset['SANCION_repr'] = repr_high_values(sancion_by_subset['SANCION'])\n",
    "    \n",
    "    return sancion_by_subset"
   ]
  },
  {
   "cell_type": "code",
   "execution_count": 99,
   "metadata": {},
   "outputs": [],
   "source": [
    "ecologia['SANCION'] = ecologia['SANCION'].astype(float)"
   ]
  },
  {
   "cell_type": "code",
   "execution_count": 100,
   "metadata": {},
   "outputs": [
    {
     "data": {
      "text/html": [
       "<div>\n",
       "<style scoped>\n",
       "    .dataframe tbody tr th:only-of-type {\n",
       "        vertical-align: middle;\n",
       "    }\n",
       "\n",
       "    .dataframe tbody tr th {\n",
       "        vertical-align: top;\n",
       "    }\n",
       "\n",
       "    .dataframe thead th {\n",
       "        text-align: right;\n",
       "    }\n",
       "</style>\n",
       "<table border=\"1\" class=\"dataframe\">\n",
       "  <thead>\n",
       "    <tr style=\"text-align: right;\">\n",
       "      <th>UNIDAD_EJECUTORA</th>\n",
       "      <th>DIRECCION GENERAL DE ESPACIOS VERDES</th>\n",
       "      <th>MINISTERIO AMBIENTE Y ESPACIO PUBLICO</th>\n",
       "      <th>AGENCIA AMBIENTAL</th>\n",
       "      <th>DIRECCION GENERAL DE LIMPIEZA</th>\n",
       "      <th>UPE ECOPARQUE</th>\n",
       "      <th>DIRECCION GENERAL DE CONTROL</th>\n",
       "      <th>UPE ECOPARQUE INTERACTIVO DE LA CABA</th>\n",
       "      <th>DIRECCION GENERAL DE ARBOLADO</th>\n",
       "    </tr>\n",
       "    <tr>\n",
       "      <th>AÑO</th>\n",
       "      <th></th>\n",
       "      <th></th>\n",
       "      <th></th>\n",
       "      <th></th>\n",
       "      <th></th>\n",
       "      <th></th>\n",
       "      <th></th>\n",
       "      <th></th>\n",
       "    </tr>\n",
       "  </thead>\n",
       "  <tbody>\n",
       "    <tr>\n",
       "      <th>2010</th>\n",
       "      <td>$146.668.026</td>\n",
       "      <td>$38.084.880</td>\n",
       "      <td>$14.923.403</td>\n",
       "      <td>$127.527.400</td>\n",
       "      <td>-</td>\n",
       "      <td>$10.766.941</td>\n",
       "      <td>-</td>\n",
       "      <td>$43.122.015</td>\n",
       "    </tr>\n",
       "    <tr>\n",
       "      <th>2011</th>\n",
       "      <td>$182.039.510</td>\n",
       "      <td>$68.517.305</td>\n",
       "      <td>$32.563.320</td>\n",
       "      <td>-</td>\n",
       "      <td>-</td>\n",
       "      <td>$21.151.940</td>\n",
       "      <td>-</td>\n",
       "      <td>$64.493.450</td>\n",
       "    </tr>\n",
       "    <tr>\n",
       "      <th>2012</th>\n",
       "      <td>$222.624.631</td>\n",
       "      <td>$100.779.083</td>\n",
       "      <td>$54.986.204</td>\n",
       "      <td>-</td>\n",
       "      <td>-</td>\n",
       "      <td>$25.179.169</td>\n",
       "      <td>-</td>\n",
       "      <td>$61.170.726</td>\n",
       "    </tr>\n",
       "    <tr>\n",
       "      <th>2013</th>\n",
       "      <td>$306.709.216</td>\n",
       "      <td>$169.267.432</td>\n",
       "      <td>$72.848.780</td>\n",
       "      <td>-</td>\n",
       "      <td>-</td>\n",
       "      <td>$20.069.991</td>\n",
       "      <td>-</td>\n",
       "      <td>$30.258.926</td>\n",
       "    </tr>\n",
       "    <tr>\n",
       "      <th>2014</th>\n",
       "      <td>$322.560.420</td>\n",
       "      <td>$193.351.900</td>\n",
       "      <td>$59.441.809</td>\n",
       "      <td>$51.969.614</td>\n",
       "      <td>-</td>\n",
       "      <td>$23.531.004</td>\n",
       "      <td>-</td>\n",
       "      <td>$23.341.940</td>\n",
       "    </tr>\n",
       "    <tr>\n",
       "      <th>2015</th>\n",
       "      <td>$472.147.712</td>\n",
       "      <td>$234.650.667</td>\n",
       "      <td>$70.025.885</td>\n",
       "      <td>$32.017.440</td>\n",
       "      <td>-</td>\n",
       "      <td>$40.675.736</td>\n",
       "      <td>-</td>\n",
       "      <td>-</td>\n",
       "    </tr>\n",
       "    <tr>\n",
       "      <th>2016</th>\n",
       "      <td>$572.810.988</td>\n",
       "      <td>$454.087.661</td>\n",
       "      <td>$118.034.376</td>\n",
       "      <td>$95.616.323</td>\n",
       "      <td>-</td>\n",
       "      <td>$52.159.459</td>\n",
       "      <td>-</td>\n",
       "      <td>-</td>\n",
       "    </tr>\n",
       "    <tr>\n",
       "      <th>2017</th>\n",
       "      <td>$848.066.208</td>\n",
       "      <td>$253.895.885</td>\n",
       "      <td>$166.254.462</td>\n",
       "      <td>$128.619.395</td>\n",
       "      <td>-</td>\n",
       "      <td>$78.202.278</td>\n",
       "      <td>-</td>\n",
       "      <td>-</td>\n",
       "    </tr>\n",
       "    <tr>\n",
       "      <th>2018</th>\n",
       "      <td>$1.000.632.878</td>\n",
       "      <td>$237.399.998</td>\n",
       "      <td>$164.934.725</td>\n",
       "      <td>$224.316.115</td>\n",
       "      <td>-</td>\n",
       "      <td>$92.794.733</td>\n",
       "      <td>-</td>\n",
       "      <td>-</td>\n",
       "    </tr>\n",
       "    <tr>\n",
       "      <th>2019</th>\n",
       "      <td>$1.453.447.832</td>\n",
       "      <td>$286.020.781</td>\n",
       "      <td>$197.755.291</td>\n",
       "      <td>$235.851.798</td>\n",
       "      <td>-</td>\n",
       "      <td>$125.344.536</td>\n",
       "      <td>$341.296.051</td>\n",
       "      <td>-</td>\n",
       "    </tr>\n",
       "    <tr>\n",
       "      <th>2020</th>\n",
       "      <td>-</td>\n",
       "      <td>-</td>\n",
       "      <td>$264.106.419</td>\n",
       "      <td>-</td>\n",
       "      <td>$735.324.504</td>\n",
       "      <td>$149.731.728</td>\n",
       "      <td>-</td>\n",
       "      <td>-</td>\n",
       "    </tr>\n",
       "    <tr>\n",
       "      <th>Total</th>\n",
       "      <td>$5.527.707.421</td>\n",
       "      <td>$2.036.055.592</td>\n",
       "      <td>$1.215.874.674</td>\n",
       "      <td>$895.918.085</td>\n",
       "      <td>$735.324.504</td>\n",
       "      <td>$639.607.515</td>\n",
       "      <td>$341.296.051</td>\n",
       "      <td>$222.387.057</td>\n",
       "    </tr>\n",
       "  </tbody>\n",
       "</table>\n",
       "</div>"
      ],
      "text/plain": [
       "UNIDAD_EJECUTORA DIRECCION GENERAL DE ESPACIOS VERDES  \\\n",
       "AÑO                                                     \n",
       "2010                                     $146.668.026   \n",
       "2011                                     $182.039.510   \n",
       "2012                                     $222.624.631   \n",
       "2013                                     $306.709.216   \n",
       "2014                                     $322.560.420   \n",
       "2015                                     $472.147.712   \n",
       "2016                                     $572.810.988   \n",
       "2017                                     $848.066.208   \n",
       "2018                                   $1.000.632.878   \n",
       "2019                                   $1.453.447.832   \n",
       "2020                                                -   \n",
       "Total                                  $5.527.707.421   \n",
       "\n",
       "UNIDAD_EJECUTORA MINISTERIO AMBIENTE Y ESPACIO PUBLICO AGENCIA AMBIENTAL  \\\n",
       "AÑO                                                                        \n",
       "2010                                       $38.084.880       $14.923.403   \n",
       "2011                                       $68.517.305       $32.563.320   \n",
       "2012                                      $100.779.083       $54.986.204   \n",
       "2013                                      $169.267.432       $72.848.780   \n",
       "2014                                      $193.351.900       $59.441.809   \n",
       "2015                                      $234.650.667       $70.025.885   \n",
       "2016                                      $454.087.661      $118.034.376   \n",
       "2017                                      $253.895.885      $166.254.462   \n",
       "2018                                      $237.399.998      $164.934.725   \n",
       "2019                                      $286.020.781      $197.755.291   \n",
       "2020                                                 -      $264.106.419   \n",
       "Total                                   $2.036.055.592    $1.215.874.674   \n",
       "\n",
       "UNIDAD_EJECUTORA DIRECCION GENERAL DE LIMPIEZA UPE ECOPARQUE  \\\n",
       "AÑO                                                            \n",
       "2010                              $127.527.400             -   \n",
       "2011                                         -             -   \n",
       "2012                                         -             -   \n",
       "2013                                         -             -   \n",
       "2014                               $51.969.614             -   \n",
       "2015                               $32.017.440             -   \n",
       "2016                               $95.616.323             -   \n",
       "2017                              $128.619.395             -   \n",
       "2018                              $224.316.115             -   \n",
       "2019                              $235.851.798             -   \n",
       "2020                                         -  $735.324.504   \n",
       "Total                             $895.918.085  $735.324.504   \n",
       "\n",
       "UNIDAD_EJECUTORA DIRECCION GENERAL DE CONTROL  \\\n",
       "AÑO                                             \n",
       "2010                              $10.766.941   \n",
       "2011                              $21.151.940   \n",
       "2012                              $25.179.169   \n",
       "2013                              $20.069.991   \n",
       "2014                              $23.531.004   \n",
       "2015                              $40.675.736   \n",
       "2016                              $52.159.459   \n",
       "2017                              $78.202.278   \n",
       "2018                              $92.794.733   \n",
       "2019                             $125.344.536   \n",
       "2020                             $149.731.728   \n",
       "Total                            $639.607.515   \n",
       "\n",
       "UNIDAD_EJECUTORA UPE ECOPARQUE INTERACTIVO DE LA CABA  \\\n",
       "AÑO                                                     \n",
       "2010                                                -   \n",
       "2011                                                -   \n",
       "2012                                                -   \n",
       "2013                                                -   \n",
       "2014                                                -   \n",
       "2015                                                -   \n",
       "2016                                                -   \n",
       "2017                                                -   \n",
       "2018                                                -   \n",
       "2019                                     $341.296.051   \n",
       "2020                                                -   \n",
       "Total                                    $341.296.051   \n",
       "\n",
       "UNIDAD_EJECUTORA DIRECCION GENERAL DE ARBOLADO  \n",
       "AÑO                                             \n",
       "2010                               $43.122.015  \n",
       "2011                               $64.493.450  \n",
       "2012                               $61.170.726  \n",
       "2013                               $30.258.926  \n",
       "2014                               $23.341.940  \n",
       "2015                                         -  \n",
       "2016                                         -  \n",
       "2017                                         -  \n",
       "2018                                         -  \n",
       "2019                                         -  \n",
       "2020                                         -  \n",
       "Total                             $222.387.057  "
      ]
     },
     "execution_count": 100,
     "metadata": {},
     "output_type": "execute_result"
    }
   ],
   "source": [
    "sancion_por_unidad_ejecutora_año = ecologia.pivot_table(index='AÑO', columns='UNIDAD_EJECUTORA', values='SANCION', aggfunc='sum')\n",
    "sancion_por_unidad_ejecutora_año.loc['Total'] = sancion_por_unidad_ejecutora_año.apply('sum', axis=0) \n",
    "sancion_por_unidad_ejecutora_año = sancion_por_unidad_ejecutora_año.T.sort_values(by='Total', ascending=False).T\n",
    "\n",
    "sancion_por_unidad_ejecutora_año = sancion_por_unidad_ejecutora_año.apply(repr_high_values, axis=1).fillna('-')\n",
    "\n",
    "sancion_por_unidad_ejecutora_año.T.head(8).T"
   ]
  },
  {
   "cell_type": "markdown",
   "metadata": {},
   "source": [
    "1. DIRECCION GENERAL DE ESPACIOS VERDES: https://www.buenosaires.gob.ar/gestioncomunal/institucional-subsecretaria-de-gestion-comunal/direccion-general-de\n",
    "2. DIRECCION GENERAL DE ARBOLADO: https://www.buenosaires.gob.ar/gestioncomunal/institucional-subsecretaria-de-gestion-comunal/dg-de-arbolado"
   ]
  },
  {
   "cell_type": "code",
   "execution_count": 101,
   "metadata": {},
   "outputs": [
    {
     "data": {
      "text/html": [
       "<div>\n",
       "<style scoped>\n",
       "    .dataframe tbody tr th:only-of-type {\n",
       "        vertical-align: middle;\n",
       "    }\n",
       "\n",
       "    .dataframe tbody tr th {\n",
       "        vertical-align: top;\n",
       "    }\n",
       "\n",
       "    .dataframe thead th {\n",
       "        text-align: right;\n",
       "    }\n",
       "</style>\n",
       "<table border=\"1\" class=\"dataframe\">\n",
       "  <thead>\n",
       "    <tr style=\"text-align: right;\">\n",
       "      <th>UNIDAD_EJECUTORA</th>\n",
       "      <th>DIRECCION GENERAL DE ESPACIOS VERDES</th>\n",
       "      <th>DIRECCION GENERAL DE ARBOLADO</th>\n",
       "    </tr>\n",
       "    <tr>\n",
       "      <th>AÑO</th>\n",
       "      <th></th>\n",
       "      <th></th>\n",
       "    </tr>\n",
       "  </thead>\n",
       "  <tbody>\n",
       "    <tr>\n",
       "      <th>2010</th>\n",
       "      <td>$146.668.026</td>\n",
       "      <td>$43.122.015</td>\n",
       "    </tr>\n",
       "    <tr>\n",
       "      <th>2011</th>\n",
       "      <td>$182.039.510</td>\n",
       "      <td>$64.493.450</td>\n",
       "    </tr>\n",
       "    <tr>\n",
       "      <th>2012</th>\n",
       "      <td>$222.624.631</td>\n",
       "      <td>$61.170.726</td>\n",
       "    </tr>\n",
       "    <tr>\n",
       "      <th>2013</th>\n",
       "      <td>$306.709.216</td>\n",
       "      <td>$30.258.926</td>\n",
       "    </tr>\n",
       "    <tr>\n",
       "      <th>2014</th>\n",
       "      <td>$322.560.420</td>\n",
       "      <td>$23.341.940</td>\n",
       "    </tr>\n",
       "    <tr>\n",
       "      <th>2015</th>\n",
       "      <td>$472.147.712</td>\n",
       "      <td>-</td>\n",
       "    </tr>\n",
       "    <tr>\n",
       "      <th>2016</th>\n",
       "      <td>$572.810.988</td>\n",
       "      <td>-</td>\n",
       "    </tr>\n",
       "    <tr>\n",
       "      <th>2017</th>\n",
       "      <td>$848.066.208</td>\n",
       "      <td>-</td>\n",
       "    </tr>\n",
       "    <tr>\n",
       "      <th>2018</th>\n",
       "      <td>$1.000.632.878</td>\n",
       "      <td>-</td>\n",
       "    </tr>\n",
       "    <tr>\n",
       "      <th>2019</th>\n",
       "      <td>$1.453.447.832</td>\n",
       "      <td>-</td>\n",
       "    </tr>\n",
       "    <tr>\n",
       "      <th>2020</th>\n",
       "      <td>-</td>\n",
       "      <td>-</td>\n",
       "    </tr>\n",
       "    <tr>\n",
       "      <th>Total</th>\n",
       "      <td>$5.527.707.421</td>\n",
       "      <td>$222.387.057</td>\n",
       "    </tr>\n",
       "  </tbody>\n",
       "</table>\n",
       "</div>"
      ],
      "text/plain": [
       "UNIDAD_EJECUTORA DIRECCION GENERAL DE ESPACIOS VERDES  \\\n",
       "AÑO                                                     \n",
       "2010                                     $146.668.026   \n",
       "2011                                     $182.039.510   \n",
       "2012                                     $222.624.631   \n",
       "2013                                     $306.709.216   \n",
       "2014                                     $322.560.420   \n",
       "2015                                     $472.147.712   \n",
       "2016                                     $572.810.988   \n",
       "2017                                     $848.066.208   \n",
       "2018                                   $1.000.632.878   \n",
       "2019                                   $1.453.447.832   \n",
       "2020                                                -   \n",
       "Total                                  $5.527.707.421   \n",
       "\n",
       "UNIDAD_EJECUTORA DIRECCION GENERAL DE ARBOLADO  \n",
       "AÑO                                             \n",
       "2010                               $43.122.015  \n",
       "2011                               $64.493.450  \n",
       "2012                               $61.170.726  \n",
       "2013                               $30.258.926  \n",
       "2014                               $23.341.940  \n",
       "2015                                         -  \n",
       "2016                                         -  \n",
       "2017                                         -  \n",
       "2018                                         -  \n",
       "2019                                         -  \n",
       "2020                                         -  \n",
       "Total                             $222.387.057  "
      ]
     },
     "execution_count": 101,
     "metadata": {},
     "output_type": "execute_result"
    }
   ],
   "source": [
    "sancion_por_unidad_ejecutora_año[[\"DIRECCION GENERAL DE ESPACIOS VERDES\", 'DIRECCION GENERAL DE ARBOLADO']]"
   ]
  },
  {
   "cell_type": "markdown",
   "metadata": {},
   "source": [
    "**Los datos sobre la dirección general de arbolado están desactualizados.**\n",
    "\n",
    "**Y Falta información del 2020 sobre espacios verdes**"
   ]
  },
  {
   "cell_type": "markdown",
   "metadata": {},
   "source": [
    "### Acá filtramos la base finalmente para espacios verdes\n",
    "\n",
    "Los datos de arbolados en principio no se usarán por estar desactualizados"
   ]
  },
  {
   "cell_type": "code",
   "execution_count": 102,
   "metadata": {},
   "outputs": [],
   "source": [
    "espacios_verdes = ecologia[ecologia['UNIDAD_EJECUTORA'] == 'DIRECCION GENERAL DE ESPACIOS VERDES']"
   ]
  },
  {
   "cell_type": "code",
   "execution_count": 103,
   "metadata": {},
   "outputs": [
    {
     "data": {
      "text/plain": [
       "(4226, 21)"
      ]
     },
     "execution_count": 103,
     "metadata": {},
     "output_type": "execute_result"
    }
   ],
   "source": [
    "espacios_verdes.shape"
   ]
  },
  {
   "cell_type": "markdown",
   "metadata": {},
   "source": [
    "### Sanción de presupuesto por año para Espacios Verdes"
   ]
  },
  {
   "cell_type": "code",
   "execution_count": 104,
   "metadata": {},
   "outputs": [
    {
     "data": {
      "text/html": [
       "<div>\n",
       "<style scoped>\n",
       "    .dataframe tbody tr th:only-of-type {\n",
       "        vertical-align: middle;\n",
       "    }\n",
       "\n",
       "    .dataframe tbody tr th {\n",
       "        vertical-align: top;\n",
       "    }\n",
       "\n",
       "    .dataframe thead th {\n",
       "        text-align: right;\n",
       "    }\n",
       "</style>\n",
       "<table border=\"1\" class=\"dataframe\">\n",
       "  <thead>\n",
       "    <tr style=\"text-align: right;\">\n",
       "      <th>AÑO</th>\n",
       "      <th>2010</th>\n",
       "      <th>2011</th>\n",
       "      <th>2012</th>\n",
       "      <th>2013</th>\n",
       "      <th>2014</th>\n",
       "      <th>2015</th>\n",
       "      <th>2016</th>\n",
       "      <th>2017</th>\n",
       "      <th>2018</th>\n",
       "      <th>2019</th>\n",
       "      <th>2020</th>\n",
       "      <th>Total</th>\n",
       "    </tr>\n",
       "    <tr>\n",
       "      <th>UNIDAD_EJECUTORA</th>\n",
       "      <th></th>\n",
       "      <th></th>\n",
       "      <th></th>\n",
       "      <th></th>\n",
       "      <th></th>\n",
       "      <th></th>\n",
       "      <th></th>\n",
       "      <th></th>\n",
       "      <th></th>\n",
       "      <th></th>\n",
       "      <th></th>\n",
       "      <th></th>\n",
       "    </tr>\n",
       "  </thead>\n",
       "  <tbody>\n",
       "    <tr>\n",
       "      <th>DIRECCION GENERAL DE ESPACIOS VERDES</th>\n",
       "      <td>$146.668.026</td>\n",
       "      <td>$182.039.510</td>\n",
       "      <td>$222.624.631</td>\n",
       "      <td>$306.709.216</td>\n",
       "      <td>$322.560.420</td>\n",
       "      <td>$472.147.712</td>\n",
       "      <td>$572.810.988</td>\n",
       "      <td>$848.066.208</td>\n",
       "      <td>$1.000.632.878</td>\n",
       "      <td>$1.453.447.832</td>\n",
       "      <td>-</td>\n",
       "      <td>$5.527.707.421</td>\n",
       "    </tr>\n",
       "  </tbody>\n",
       "</table>\n",
       "</div>"
      ],
      "text/plain": [
       "AÑO                                           2010          2011  \\\n",
       "UNIDAD_EJECUTORA                                                   \n",
       "DIRECCION GENERAL DE ESPACIOS VERDES  $146.668.026  $182.039.510   \n",
       "\n",
       "AÑO                                           2012          2013  \\\n",
       "UNIDAD_EJECUTORA                                                   \n",
       "DIRECCION GENERAL DE ESPACIOS VERDES  $222.624.631  $306.709.216   \n",
       "\n",
       "AÑO                                           2014          2015  \\\n",
       "UNIDAD_EJECUTORA                                                   \n",
       "DIRECCION GENERAL DE ESPACIOS VERDES  $322.560.420  $472.147.712   \n",
       "\n",
       "AÑO                                           2016          2017  \\\n",
       "UNIDAD_EJECUTORA                                                   \n",
       "DIRECCION GENERAL DE ESPACIOS VERDES  $572.810.988  $848.066.208   \n",
       "\n",
       "AÑO                                             2018            2019 2020  \\\n",
       "UNIDAD_EJECUTORA                                                            \n",
       "DIRECCION GENERAL DE ESPACIOS VERDES  $1.000.632.878  $1.453.447.832    -   \n",
       "\n",
       "AÑO                                            Total  \n",
       "UNIDAD_EJECUTORA                                      \n",
       "DIRECCION GENERAL DE ESPACIOS VERDES  $5.527.707.421  "
      ]
     },
     "execution_count": 104,
     "metadata": {},
     "output_type": "execute_result"
    }
   ],
   "source": [
    "sancion_por_unidad_ejecutora_año[[\"DIRECCION GENERAL DE ESPACIOS VERDES\"]].T"
   ]
  },
  {
   "cell_type": "code",
   "execution_count": 105,
   "metadata": {},
   "outputs": [
    {
     "data": {
      "image/png": "[encoded data removed]",
      "text/plain": [
       "<Figure size 864x432 with 1 Axes>"
      ]
     },
     "metadata": {
      "needs_background": "light"
     },
     "output_type": "display_data"
    }
   ],
   "source": [
    "sancion_espacios_verdes_año = espacios_verdes.groupby('AÑO').agg({'SANCION': 'sum'})['SANCION']\n",
    "g = sancion_espacios_verdes_año.plot(kind='bar', figsize=(12, 6));\n",
    "\n",
    "ylabels = ['$ {:,.0f}'.format(x) + ' M' for x in g.get_yticks()/1000000];\n",
    "g.set_yticklabels(ylabels);\n",
    "plt.title(\"Sanción de presupuesto por año para Espacios Verdes\", fontsize=18);"
   ]
  },
  {
   "cell_type": "markdown",
   "metadata": {},
   "source": [
    "### Pasaremos los datos de presupuestos a valores del 2010 para ver si realmente aumentó la inversión en el área"
   ]
  },
  {
   "cell_type": "code",
   "execution_count": 106,
   "metadata": {},
   "outputs": [
    {
     "data": {
      "text/html": [
       "<div>\n",
       "<style scoped>\n",
       "    .dataframe tbody tr th:only-of-type {\n",
       "        vertical-align: middle;\n",
       "    }\n",
       "\n",
       "    .dataframe tbody tr th {\n",
       "        vertical-align: top;\n",
       "    }\n",
       "\n",
       "    .dataframe thead th {\n",
       "        text-align: right;\n",
       "    }\n",
       "</style>\n",
       "<table border=\"1\" class=\"dataframe\">\n",
       "  <thead>\n",
       "    <tr style=\"text-align: right;\">\n",
       "      <th></th>\n",
       "      <th>AÑO</th>\n",
       "      <th>PORC_ANUAL</th>\n",
       "      <th>ENE</th>\n",
       "      <th>FEB</th>\n",
       "      <th>MAR</th>\n",
       "      <th>ABR</th>\n",
       "      <th>MAY</th>\n",
       "      <th>JUN</th>\n",
       "      <th>JUL</th>\n",
       "      <th>AGO</th>\n",
       "      <th>SEP</th>\n",
       "      <th>OCT</th>\n",
       "      <th>NOV</th>\n",
       "      <th>DIC</th>\n",
       "    </tr>\n",
       "  </thead>\n",
       "  <tbody>\n",
       "    <tr>\n",
       "      <th>0</th>\n",
       "      <td>2011</td>\n",
       "      <td>23.97</td>\n",
       "      <td>2.10</td>\n",
       "      <td>1.50</td>\n",
       "      <td>2.10</td>\n",
       "      <td>1.80</td>\n",
       "      <td>1.33</td>\n",
       "      <td>1.56</td>\n",
       "      <td>1.66</td>\n",
       "      <td>1.85</td>\n",
       "      <td>1.82</td>\n",
       "      <td>1.52</td>\n",
       "      <td>1.46</td>\n",
       "      <td>1.86</td>\n",
       "    </tr>\n",
       "    <tr>\n",
       "      <th>1</th>\n",
       "      <td>2012</td>\n",
       "      <td>25.98</td>\n",
       "      <td>1.84</td>\n",
       "      <td>1.79</td>\n",
       "      <td>2.27</td>\n",
       "      <td>2.19</td>\n",
       "      <td>1.81</td>\n",
       "      <td>1.63</td>\n",
       "      <td>1.80</td>\n",
       "      <td>1.93</td>\n",
       "      <td>1.92</td>\n",
       "      <td>1.72</td>\n",
       "      <td>1.81</td>\n",
       "      <td>2.04</td>\n",
       "    </tr>\n",
       "    <tr>\n",
       "      <th>2</th>\n",
       "      <td>2013</td>\n",
       "      <td>23.28</td>\n",
       "      <td>2.61</td>\n",
       "      <td>1.14</td>\n",
       "      <td>1.50</td>\n",
       "      <td>1.43</td>\n",
       "      <td>1.63</td>\n",
       "      <td>2.19</td>\n",
       "      <td>2.63</td>\n",
       "      <td>2.14</td>\n",
       "      <td>2.12</td>\n",
       "      <td>2.11</td>\n",
       "      <td>2.38</td>\n",
       "      <td>3.30</td>\n",
       "    </tr>\n",
       "    <tr>\n",
       "      <th>3</th>\n",
       "      <td>2014</td>\n",
       "      <td>38.53</td>\n",
       "      <td>4.62</td>\n",
       "      <td>4.31</td>\n",
       "      <td>3.42</td>\n",
       "      <td>2.59</td>\n",
       "      <td>2.28</td>\n",
       "      <td>2.20</td>\n",
       "      <td>2.47</td>\n",
       "      <td>2.65</td>\n",
       "      <td>2.48</td>\n",
       "      <td>2.25</td>\n",
       "      <td>1.86</td>\n",
       "      <td>1.87</td>\n",
       "    </tr>\n",
       "    <tr>\n",
       "      <th>4</th>\n",
       "      <td>2015</td>\n",
       "      <td>27.50</td>\n",
       "      <td>2.08</td>\n",
       "      <td>1.48</td>\n",
       "      <td>2.12</td>\n",
       "      <td>2.01</td>\n",
       "      <td>2.00</td>\n",
       "      <td>1.53</td>\n",
       "      <td>1.92</td>\n",
       "      <td>2.17</td>\n",
       "      <td>1.92</td>\n",
       "      <td>1.52</td>\n",
       "      <td>2.20</td>\n",
       "      <td>3.80</td>\n",
       "    </tr>\n",
       "    <tr>\n",
       "      <th>5</th>\n",
       "      <td>2016</td>\n",
       "      <td>40.30</td>\n",
       "      <td>3.60</td>\n",
       "      <td>4.80</td>\n",
       "      <td>3.20</td>\n",
       "      <td>6.70</td>\n",
       "      <td>3.50</td>\n",
       "      <td>2.90</td>\n",
       "      <td>2.40</td>\n",
       "      <td>0.50</td>\n",
       "      <td>0.80</td>\n",
       "      <td>2.90</td>\n",
       "      <td>1.90</td>\n",
       "      <td>1.60</td>\n",
       "    </tr>\n",
       "    <tr>\n",
       "      <th>6</th>\n",
       "      <td>2017</td>\n",
       "      <td>24.80</td>\n",
       "      <td>1.60</td>\n",
       "      <td>2.10</td>\n",
       "      <td>2.20</td>\n",
       "      <td>2.10</td>\n",
       "      <td>1.80</td>\n",
       "      <td>1.30</td>\n",
       "      <td>2.10</td>\n",
       "      <td>1.50</td>\n",
       "      <td>1.60</td>\n",
       "      <td>1.50</td>\n",
       "      <td>1.40</td>\n",
       "      <td>3.10</td>\n",
       "    </tr>\n",
       "    <tr>\n",
       "      <th>7</th>\n",
       "      <td>2018</td>\n",
       "      <td>47.65</td>\n",
       "      <td>1.76</td>\n",
       "      <td>2.42</td>\n",
       "      <td>2.34</td>\n",
       "      <td>2.74</td>\n",
       "      <td>2.08</td>\n",
       "      <td>3.74</td>\n",
       "      <td>3.10</td>\n",
       "      <td>3.89</td>\n",
       "      <td>6.53</td>\n",
       "      <td>5.39</td>\n",
       "      <td>3.15</td>\n",
       "      <td>2.57</td>\n",
       "    </tr>\n",
       "    <tr>\n",
       "      <th>8</th>\n",
       "      <td>2019</td>\n",
       "      <td>53.83</td>\n",
       "      <td>2.91</td>\n",
       "      <td>3.77</td>\n",
       "      <td>4.68</td>\n",
       "      <td>3.44</td>\n",
       "      <td>3.06</td>\n",
       "      <td>2.72</td>\n",
       "      <td>2.20</td>\n",
       "      <td>3.95</td>\n",
       "      <td>5.89</td>\n",
       "      <td>3.29</td>\n",
       "      <td>4.25</td>\n",
       "      <td>3.74</td>\n",
       "    </tr>\n",
       "    <tr>\n",
       "      <th>9</th>\n",
       "      <td>2020</td>\n",
       "      <td>36.62</td>\n",
       "      <td>2.25</td>\n",
       "      <td>2.01</td>\n",
       "      <td>3.34</td>\n",
       "      <td>1.50</td>\n",
       "      <td>1.54</td>\n",
       "      <td>2.24</td>\n",
       "      <td>1.93</td>\n",
       "      <td>2.70</td>\n",
       "      <td>2.84</td>\n",
       "      <td>nan</td>\n",
       "      <td>nan</td>\n",
       "      <td>nan</td>\n",
       "    </tr>\n",
       "  </tbody>\n",
       "</table>\n",
       "</div>"
      ],
      "text/plain": [
       "    AÑO  PORC_ANUAL  ENE  FEB  MAR  ABR  MAY  JUN  JUL  AGO  SEP  OCT  NOV  \\\n",
       "0  2011       23.97 2.10 1.50 2.10 1.80 1.33 1.56 1.66 1.85 1.82 1.52 1.46   \n",
       "1  2012       25.98 1.84 1.79 2.27 2.19 1.81 1.63 1.80 1.93 1.92 1.72 1.81   \n",
       "2  2013       23.28 2.61 1.14 1.50 1.43 1.63 2.19 2.63 2.14 2.12 2.11 2.38   \n",
       "3  2014       38.53 4.62 4.31 3.42 2.59 2.28 2.20 2.47 2.65 2.48 2.25 1.86   \n",
       "4  2015       27.50 2.08 1.48 2.12 2.01 2.00 1.53 1.92 2.17 1.92 1.52 2.20   \n",
       "5  2016       40.30 3.60 4.80 3.20 6.70 3.50 2.90 2.40 0.50 0.80 2.90 1.90   \n",
       "6  2017       24.80 1.60 2.10 2.20 2.10 1.80 1.30 2.10 1.50 1.60 1.50 1.40   \n",
       "7  2018       47.65 1.76 2.42 2.34 2.74 2.08 3.74 3.10 3.89 6.53 5.39 3.15   \n",
       "8  2019       53.83 2.91 3.77 4.68 3.44 3.06 2.72 2.20 3.95 5.89 3.29 4.25   \n",
       "9  2020       36.62 2.25 2.01 3.34 1.50 1.54 2.24 1.93 2.70 2.84  nan  nan   \n",
       "\n",
       "   DIC  \n",
       "0 1.86  \n",
       "1 2.04  \n",
       "2 3.30  \n",
       "3 1.87  \n",
       "4 3.80  \n",
       "5 1.60  \n",
       "6 3.10  \n",
       "7 2.57  \n",
       "8 3.74  \n",
       "9  nan  "
      ]
     },
     "execution_count": 106,
     "metadata": {},
     "output_type": "execute_result"
    }
   ],
   "source": [
    "# http://estudiodelamo.com/inflacion-argentina-anual-mensual-2020/\n",
    "\n",
    "header = [\"AÑO\",\"PORC_ANUAL\", \"ENE\",\"FEB\",\"MAR\",\"ABR\",\"MAY\",\"JUN\",\"JUL\",\"AGO\",\"SEP\",\"OCT\",\"NOV\",\"DIC\"]\n",
    "inflacion = pd.DataFrame(([ 2011,  23.97, 2.10, 1.50, 2.10, 1.80, 1.33, 1.56, 1.66, 1.85, 1.82, 1.52, 1.46, 1.86],\n",
    "                          [ 2012,  25.98, 1.84, 1.79, 2.27, 2.19, 1.81, 1.63, 1.80, 1.93, 1.92, 1.72, 1.81, 2.04],\n",
    "                          [ 2013,  23.28, 2.61, 1.14, 1.50, 1.43, 1.63, 2.19, 2.63, 2.14, 2.12, 2.11, 2.38, 3.30],\n",
    "                          [ 2014,  38.53, 4.62, 4.31, 3.42, 2.59, 2.28, 2.20, 2.47, 2.65, 2.48, 2.25, 1.86, 1.87],\n",
    "                          [ 2015,  27.50, 2.08, 1.48, 2.12, 2.01, 2.00, 1.53, 1.92, 2.17, 1.92, 1.52, 2.20, 3.80],\n",
    "                          [ 2016,  40.30, 3.60, 4.80, 3.20, 6.70, 3.50, 2.90, 2.40, 0.50, 0.80, 2.90, 1.90, 1.60],\n",
    "                          [ 2017,  24.80, 1.60, 2.10, 2.20, 2.10, 1.80, 1.30, 2.10, 1.50, 1.60, 1.50, 1.40, 3.10],\n",
    "                          [ 2018,  47.65, 1.76, 2.42, 2.34, 2.74, 2.08, 3.74, 3.10, 3.89, 6.53, 5.39, 3.15, 2.57],\n",
    "                          [ 2019,  53.83, 2.91, 3.77, 4.68, 3.44, 3.06, 2.72, 2.20, 3.95, 5.89, 3.29, 4.25, 3.74],\n",
    "                          [ 2020,  36.62, 2.25, 2.01, 3.34, 1.50, 1.54, 2.24, 1.93, 2.70, 2.84,]), columns=header)\n",
    "\n",
    "inflacion"
   ]
  },
  {
   "cell_type": "code",
   "execution_count": 107,
   "metadata": {},
   "outputs": [
    {
     "data": {
      "text/plain": [
       "AÑO\n",
       "2011   0.24\n",
       "2012   0.26\n",
       "2013   0.23\n",
       "2014   0.39\n",
       "2015   0.28\n",
       "2016   0.40\n",
       "2017   0.25\n",
       "2018   0.48\n",
       "2019   0.54\n",
       "2020   0.37\n",
       "Name: PORC_ANUAL, dtype: float64"
      ]
     },
     "execution_count": 107,
     "metadata": {},
     "output_type": "execute_result"
    }
   ],
   "source": [
    "inflacion_anual = inflacion.set_index('AÑO')['PORC_ANUAL'] / 100\n",
    "inflacion_anual"
   ]
  },
  {
   "cell_type": "code",
   "execution_count": 108,
   "metadata": {},
   "outputs": [],
   "source": [
    "def presupuestos_a_valores_2010(sancion_espacios_verdes_año):\n",
    "    presupuestos_llevados_2010 = []\n",
    "    for start_year, presupuesto in sancion_espacios_verdes_año.items():\n",
    "#         print('Pesos presupuestados finales del año {}:  $ {:,.0f}'.format(start_year, presupuesto))\n",
    "\n",
    "        for tasa_inflacion in inflacion_anual.loc[start_year::-1]:\n",
    "\n",
    "            presupuesto = presupuesto / (1+tasa_inflacion)\n",
    "\n",
    "        presupuestos_llevados_2010.append(presupuesto)    \n",
    "#         print(\"Pesos finales llevados a principios 2010:   $ {:,.0f}\\n\".format(presupuesto))\n",
    "\n",
    "    presupuestos_llevados_2010 = pd.Series(presupuestos_llevados_2010)\n",
    "    presupuestos_llevados_2010.index = sancion_espacios_verdes_año.index\n",
    "    \n",
    "    return presupuestos_llevados_2010"
   ]
  },
  {
   "cell_type": "code",
   "execution_count": 109,
   "metadata": {},
   "outputs": [
    {
     "data": {
      "image/png": "[encoded data removed]",
      "text/plain": [
       "<Figure size 864x432 with 1 Axes>"
      ]
     },
     "metadata": {
      "needs_background": "light"
     },
     "output_type": "display_data"
    }
   ],
   "source": [
    "presupuestos_llevados_2010 = presupuestos_a_valores_2010(sancion_espacios_verdes_año)\n",
    "\n",
    "aux = pd.concat([presupuestos_llevados_2010, sancion_espacios_verdes_año], axis=1)\n",
    "aux.columns = ['presupuestos llevados a pesos del 2010', 'presupuestos sancionados para espacios verdes']\n",
    "g = aux.plot(figsize=(12,6))\n",
    "\n",
    "ylabels = ['$ {:,.0f}'.format(x) + ' M' for x in g.get_yticks()/1000000];\n",
    "g.set_yticklabels(ylabels);\n",
    "plt.title(\"Sanción de presupuesto por año para Espacios Verdes\", fontsize=18);"
   ]
  },
  {
   "cell_type": "code",
   "execution_count": 110,
   "metadata": {},
   "outputs": [],
   "source": [
    "presupuestos_llevados_2010 = presupuestos_llevados_2010.reset_index()\n",
    "presupuestos_llevados_2010.columns = ['AÑO', 'SANCION']\n",
    "presupuestos_llevados_2010['SANCION_repr'] = repr_high_values(presupuestos_llevados_2010['SANCION'])"
   ]
  },
  {
   "cell_type": "code",
   "execution_count": 111,
   "metadata": {},
   "outputs": [
    {
     "data": {
      "text/html": [
       "<div>\n",
       "<style scoped>\n",
       "    .dataframe tbody tr th:only-of-type {\n",
       "        vertical-align: middle;\n",
       "    }\n",
       "\n",
       "    .dataframe tbody tr th {\n",
       "        vertical-align: top;\n",
       "    }\n",
       "\n",
       "    .dataframe thead th {\n",
       "        text-align: right;\n",
       "    }\n",
       "</style>\n",
       "<table border=\"1\" class=\"dataframe\">\n",
       "  <thead>\n",
       "    <tr style=\"text-align: right;\">\n",
       "      <th>AÑO</th>\n",
       "      <th>2010</th>\n",
       "      <th>2011</th>\n",
       "      <th>2012</th>\n",
       "      <th>2013</th>\n",
       "      <th>2014</th>\n",
       "      <th>2015</th>\n",
       "      <th>2016</th>\n",
       "      <th>2017</th>\n",
       "      <th>2018</th>\n",
       "      <th>2019</th>\n",
       "    </tr>\n",
       "  </thead>\n",
       "  <tbody>\n",
       "    <tr>\n",
       "      <th>SANCION</th>\n",
       "      <td>146668026.00</td>\n",
       "      <td>146841582.64</td>\n",
       "      <td>142545990.94</td>\n",
       "      <td>159300080.38</td>\n",
       "      <td>120936225.75</td>\n",
       "      <td>138839499.54</td>\n",
       "      <td>120057368.33</td>\n",
       "      <td>142427106.82</td>\n",
       "      <td>113816233.87</td>\n",
       "      <td>107470148.95</td>\n",
       "    </tr>\n",
       "    <tr>\n",
       "      <th>SANCION_repr</th>\n",
       "      <td>$146.668.026</td>\n",
       "      <td>$146.841.583</td>\n",
       "      <td>$142.545.991</td>\n",
       "      <td>$159.300.080</td>\n",
       "      <td>$120.936.226</td>\n",
       "      <td>$138.839.500</td>\n",
       "      <td>$120.057.368</td>\n",
       "      <td>$142.427.107</td>\n",
       "      <td>$113.816.234</td>\n",
       "      <td>$107.470.149</td>\n",
       "    </tr>\n",
       "  </tbody>\n",
       "</table>\n",
       "</div>"
      ],
      "text/plain": [
       "AÑO                   2010          2011          2012          2013  \\\n",
       "SANCION       146668026.00  146841582.64  142545990.94  159300080.38   \n",
       "SANCION_repr  $146.668.026  $146.841.583  $142.545.991  $159.300.080   \n",
       "\n",
       "AÑO                   2014          2015          2016          2017  \\\n",
       "SANCION       120936225.75  138839499.54  120057368.33  142427106.82   \n",
       "SANCION_repr  $120.936.226  $138.839.500  $120.057.368  $142.427.107   \n",
       "\n",
       "AÑO                   2018          2019  \n",
       "SANCION       113816233.87  107470148.95  \n",
       "SANCION_repr  $113.816.234  $107.470.149  "
      ]
     },
     "execution_count": 111,
     "metadata": {},
     "output_type": "execute_result"
    }
   ],
   "source": [
    "presupuestos_llevados_2010 = presupuestos_llevados_2010.set_index('AÑO')\n",
    "presupuestos_llevados_2010.T"
   ]
  },
  {
   "cell_type": "code",
   "execution_count": 112,
   "metadata": {},
   "outputs": [
    {
     "data": {
      "image/png": "[encoded data removed]",
      "text/plain": [
       "<Figure size 576x432 with 1 Axes>"
      ]
     },
     "metadata": {
      "needs_background": "light"
     },
     "output_type": "display_data"
    }
   ],
   "source": [
    "g = presupuestos_llevados_2010.plot(figsize=(8, 6))\n",
    "\n",
    "ylabels = ['$ {:,.0f}'.format(x) + ' M' for x in g.get_yticks()/1000000];\n",
    "g.set_yticklabels(ylabels);\n",
    "plt.title(\"Sanción de presupuesto llevado a valores $ del 2010\", fontsize=14);\n",
    "plt.grid(True);"
   ]
  },
  {
   "cell_type": "markdown",
   "metadata": {},
   "source": [
    "**Se puede observar que la inversión real en el área viene bajando año a año con picos en los años impares**\n",
    "\n",
    "**Esta subida seguro viene asociada a años electorales**\n"
   ]
  },
  {
   "cell_type": "markdown",
   "metadata": {},
   "source": [
    "### Sanciones por Proyecto, Actividad y Obra."
   ]
  },
  {
   "cell_type": "code",
   "execution_count": 113,
   "metadata": {},
   "outputs": [],
   "source": [
    "aux = espacios_verdes[espacios_verdes.AÑO==2019]"
   ]
  },
  {
   "cell_type": "code",
   "execution_count": 114,
   "metadata": {},
   "outputs": [
    {
     "data": {
      "text/html": [
       "<div>\n",
       "<style scoped>\n",
       "    .dataframe tbody tr th:only-of-type {\n",
       "        vertical-align: middle;\n",
       "    }\n",
       "\n",
       "    .dataframe tbody tr th {\n",
       "        vertical-align: top;\n",
       "    }\n",
       "\n",
       "    .dataframe thead th {\n",
       "        text-align: right;\n",
       "    }\n",
       "</style>\n",
       "<table border=\"1\" class=\"dataframe\">\n",
       "  <thead>\n",
       "    <tr style=\"text-align: right;\">\n",
       "      <th></th>\n",
       "      <th>CARACTER</th>\n",
       "      <th>JURISDICCION</th>\n",
       "      <th>SUBJURISDICCION</th>\n",
       "      <th>ENTIDAD</th>\n",
       "      <th>SERVICIO</th>\n",
       "      <th>UNIDAD_EJECUTORA</th>\n",
       "      <th>PROGRAMA</th>\n",
       "      <th>PROYECTO</th>\n",
       "      <th>ACTIVIDAD</th>\n",
       "      <th>OBRA</th>\n",
       "      <th>FINALIDAD</th>\n",
       "      <th>FUNCION</th>\n",
       "      <th>INCISO</th>\n",
       "      <th>PRINCIPAL</th>\n",
       "      <th>PARCIAL</th>\n",
       "      <th>SUBPARCIAL</th>\n",
       "      <th>CLAS_ECONOMICO</th>\n",
       "      <th>FUENTE_FIN</th>\n",
       "      <th>UBICACION_GEOGRAFICA</th>\n",
       "      <th>SANCION</th>\n",
       "      <th>AÑO</th>\n",
       "    </tr>\n",
       "  </thead>\n",
       "  <tbody>\n",
       "    <tr>\n",
       "      <th>583152</th>\n",
       "      <td>ADMINISTRACION CENTRAL</td>\n",
       "      <td>MINISTERIO DE AMBIENTE Y ESPACIO PUBLICO</td>\n",
       "      <td>MINISTERIO DE AMBIENTE Y ESPACIO PUBLICO</td>\n",
       "      <td>MINISTERIO DE AMBIENTE Y ESPACIO PUBLICO</td>\n",
       "      <td>MINISTERIO DE AMBIENTE Y ESPACIO PUBLICO</td>\n",
       "      <td>DIRECCION GENERAL DE ESPACIOS VERDES</td>\n",
       "      <td>CUIDADO Y PUESTA EN VALOR DE ESPACIOS VERDES</td>\n",
       "      <td>OBRAS BA ELIGE EV</td>\n",
       "      <td>PARQUE DE VOLEY PLAYA- VELODROMO</td>\n",
       "      <td>PARQUE DE VOLEY PLAYA- VELODROMO</td>\n",
       "      <td>SERVICIOS ECONOMICOS</td>\n",
       "      <td>ECOLOGIA</td>\n",
       "      <td>BIENES DE USO</td>\n",
       "      <td>CONSTRUCCIONES</td>\n",
       "      <td>CONSTRUCCIONES EN BIENES DE DOMINIO PUBLICO</td>\n",
       "      <td>CONSTRUCCIONES EN BIENES DE DOMINIO PUBLICO</td>\n",
       "      <td>GASTOS DE CAPITAL</td>\n",
       "      <td>TESORO DE LA CIUDAD</td>\n",
       "      <td>COMUNA 14</td>\n",
       "      <td>3500000.00</td>\n",
       "      <td>2019</td>\n",
       "    </tr>\n",
       "    <tr>\n",
       "      <th>583153</th>\n",
       "      <td>ADMINISTRACION CENTRAL</td>\n",
       "      <td>MINISTERIO DE AMBIENTE Y ESPACIO PUBLICO</td>\n",
       "      <td>MINISTERIO DE AMBIENTE Y ESPACIO PUBLICO</td>\n",
       "      <td>MINISTERIO DE AMBIENTE Y ESPACIO PUBLICO</td>\n",
       "      <td>MINISTERIO DE AMBIENTE Y ESPACIO PUBLICO</td>\n",
       "      <td>DIRECCION GENERAL DE ESPACIOS VERDES</td>\n",
       "      <td>CUIDADO Y PUESTA EN VALOR DE ESPACIOS VERDES</td>\n",
       "      <td>OBRAS BA ELIGE EV</td>\n",
       "      <td>PARQUE DE VOLEY PLAYA- VELODROMO</td>\n",
       "      <td>NUEVO CIRCUITO AEROBICO AGRONOMIA</td>\n",
       "      <td>SERVICIOS ECONOMICOS</td>\n",
       "      <td>ECOLOGIA</td>\n",
       "      <td>BIENES DE USO</td>\n",
       "      <td>CONSTRUCCIONES</td>\n",
       "      <td>CONSTRUCCIONES EN BIENES DE DOMINIO PUBLICO</td>\n",
       "      <td>CONSTRUCCIONES EN BIENES DE DOMINIO PUBLICO</td>\n",
       "      <td>GASTOS DE CAPITAL</td>\n",
       "      <td>TESORO DE LA CIUDAD</td>\n",
       "      <td>COMUNA 15</td>\n",
       "      <td>2752834.00</td>\n",
       "      <td>2019</td>\n",
       "    </tr>\n",
       "    <tr>\n",
       "      <th>583154</th>\n",
       "      <td>ADMINISTRACION CENTRAL</td>\n",
       "      <td>MINISTERIO DE AMBIENTE Y ESPACIO PUBLICO</td>\n",
       "      <td>MINISTERIO DE AMBIENTE Y ESPACIO PUBLICO</td>\n",
       "      <td>MINISTERIO DE AMBIENTE Y ESPACIO PUBLICO</td>\n",
       "      <td>MINISTERIO DE AMBIENTE Y ESPACIO PUBLICO</td>\n",
       "      <td>DIRECCION GENERAL DE ESPACIOS VERDES</td>\n",
       "      <td>CUIDADO Y PUESTA EN VALOR DE ESPACIOS VERDES</td>\n",
       "      <td>OBRAS BA ELIGE EV</td>\n",
       "      <td>PARQUE DE VOLEY PLAYA- VELODROMO</td>\n",
       "      <td>NUEVOS ESPACIOS VERDES EN LATERALES VIAS DEL TREN VILLA DEL PARQUE</td>\n",
       "      <td>SERVICIOS ECONOMICOS</td>\n",
       "      <td>ECOLOGIA</td>\n",
       "      <td>BIENES DE USO</td>\n",
       "      <td>CONSTRUCCIONES</td>\n",
       "      <td>CONSTRUCCIONES EN BIENES DE DOMINIO PUBLICO</td>\n",
       "      <td>CONSTRUCCIONES EN BIENES DE DOMINIO PUBLICO</td>\n",
       "      <td>GASTOS DE CAPITAL</td>\n",
       "      <td>TESORO DE LA CIUDAD</td>\n",
       "      <td>COMUNA 11</td>\n",
       "      <td>1000000.00</td>\n",
       "      <td>2019</td>\n",
       "    </tr>\n",
       "  </tbody>\n",
       "</table>\n",
       "</div>"
      ],
      "text/plain": [
       "                      CARACTER                              JURISDICCION  \\\n",
       "583152  ADMINISTRACION CENTRAL  MINISTERIO DE AMBIENTE Y ESPACIO PUBLICO   \n",
       "583153  ADMINISTRACION CENTRAL  MINISTERIO DE AMBIENTE Y ESPACIO PUBLICO   \n",
       "583154  ADMINISTRACION CENTRAL  MINISTERIO DE AMBIENTE Y ESPACIO PUBLICO   \n",
       "\n",
       "                                 SUBJURISDICCION  \\\n",
       "583152  MINISTERIO DE AMBIENTE Y ESPACIO PUBLICO   \n",
       "583153  MINISTERIO DE AMBIENTE Y ESPACIO PUBLICO   \n",
       "583154  MINISTERIO DE AMBIENTE Y ESPACIO PUBLICO   \n",
       "\n",
       "                                         ENTIDAD  \\\n",
       "583152  MINISTERIO DE AMBIENTE Y ESPACIO PUBLICO   \n",
       "583153  MINISTERIO DE AMBIENTE Y ESPACIO PUBLICO   \n",
       "583154  MINISTERIO DE AMBIENTE Y ESPACIO PUBLICO   \n",
       "\n",
       "                                        SERVICIO  \\\n",
       "583152  MINISTERIO DE AMBIENTE Y ESPACIO PUBLICO   \n",
       "583153  MINISTERIO DE AMBIENTE Y ESPACIO PUBLICO   \n",
       "583154  MINISTERIO DE AMBIENTE Y ESPACIO PUBLICO   \n",
       "\n",
       "                            UNIDAD_EJECUTORA  \\\n",
       "583152  DIRECCION GENERAL DE ESPACIOS VERDES   \n",
       "583153  DIRECCION GENERAL DE ESPACIOS VERDES   \n",
       "583154  DIRECCION GENERAL DE ESPACIOS VERDES   \n",
       "\n",
       "                                            PROGRAMA           PROYECTO  \\\n",
       "583152  CUIDADO Y PUESTA EN VALOR DE ESPACIOS VERDES  OBRAS BA ELIGE EV   \n",
       "583153  CUIDADO Y PUESTA EN VALOR DE ESPACIOS VERDES  OBRAS BA ELIGE EV   \n",
       "583154  CUIDADO Y PUESTA EN VALOR DE ESPACIOS VERDES  OBRAS BA ELIGE EV   \n",
       "\n",
       "                               ACTIVIDAD  \\\n",
       "583152  PARQUE DE VOLEY PLAYA- VELODROMO   \n",
       "583153  PARQUE DE VOLEY PLAYA- VELODROMO   \n",
       "583154  PARQUE DE VOLEY PLAYA- VELODROMO   \n",
       "\n",
       "                                                                      OBRA  \\\n",
       "583152                                    PARQUE DE VOLEY PLAYA- VELODROMO   \n",
       "583153                                   NUEVO CIRCUITO AEROBICO AGRONOMIA   \n",
       "583154  NUEVOS ESPACIOS VERDES EN LATERALES VIAS DEL TREN VILLA DEL PARQUE   \n",
       "\n",
       "                   FINALIDAD   FUNCION         INCISO       PRINCIPAL  \\\n",
       "583152  SERVICIOS ECONOMICOS  ECOLOGIA  BIENES DE USO  CONSTRUCCIONES   \n",
       "583153  SERVICIOS ECONOMICOS  ECOLOGIA  BIENES DE USO  CONSTRUCCIONES   \n",
       "583154  SERVICIOS ECONOMICOS  ECOLOGIA  BIENES DE USO  CONSTRUCCIONES   \n",
       "\n",
       "                                            PARCIAL  \\\n",
       "583152  CONSTRUCCIONES EN BIENES DE DOMINIO PUBLICO   \n",
       "583153  CONSTRUCCIONES EN BIENES DE DOMINIO PUBLICO   \n",
       "583154  CONSTRUCCIONES EN BIENES DE DOMINIO PUBLICO   \n",
       "\n",
       "                                         SUBPARCIAL     CLAS_ECONOMICO  \\\n",
       "583152  CONSTRUCCIONES EN BIENES DE DOMINIO PUBLICO  GASTOS DE CAPITAL   \n",
       "583153  CONSTRUCCIONES EN BIENES DE DOMINIO PUBLICO  GASTOS DE CAPITAL   \n",
       "583154  CONSTRUCCIONES EN BIENES DE DOMINIO PUBLICO  GASTOS DE CAPITAL   \n",
       "\n",
       "                 FUENTE_FIN UBICACION_GEOGRAFICA    SANCION   AÑO  \n",
       "583152  TESORO DE LA CIUDAD            COMUNA 14 3500000.00  2019  \n",
       "583153  TESORO DE LA CIUDAD            COMUNA 15 2752834.00  2019  \n",
       "583154  TESORO DE LA CIUDAD            COMUNA 11 1000000.00  2019  "
      ]
     },
     "execution_count": 114,
     "metadata": {},
     "output_type": "execute_result"
    }
   ],
   "source": [
    "aux[aux.PROYECTO=='OBRAS BA ELIGE EV']"
   ]
  },
  {
   "cell_type": "code",
   "execution_count": 115,
   "metadata": {},
   "outputs": [
    {
     "data": {
      "text/html": [
       "<div>\n",
       "<style scoped>\n",
       "    .dataframe tbody tr th:only-of-type {\n",
       "        vertical-align: middle;\n",
       "    }\n",
       "\n",
       "    .dataframe tbody tr th {\n",
       "        vertical-align: top;\n",
       "    }\n",
       "\n",
       "    .dataframe thead th {\n",
       "        text-align: right;\n",
       "    }\n",
       "</style>\n",
       "<table border=\"1\" class=\"dataframe\">\n",
       "  <thead>\n",
       "    <tr style=\"text-align: right;\">\n",
       "      <th></th>\n",
       "      <th>SANCION</th>\n",
       "      <th>SANCION_repr</th>\n",
       "    </tr>\n",
       "    <tr>\n",
       "      <th>PROYECTO</th>\n",
       "      <th></th>\n",
       "      <th></th>\n",
       "    </tr>\n",
       "  </thead>\n",
       "  <tbody>\n",
       "    <tr>\n",
       "      <th>VALORIZACION DE LOS ESPACIOS VERDES</th>\n",
       "      <td>1040075483.00</td>\n",
       "      <td>$1.040.075.483</td>\n",
       "    </tr>\n",
       "    <tr>\n",
       "      <th>CUIDADO Y PUESTA EN VALOR DE ESPACIOS VERDES</th>\n",
       "      <td>273729024.00</td>\n",
       "      <td>$273.729.024</td>\n",
       "    </tr>\n",
       "    <tr>\n",
       "      <th>OBRAS DE ESPACIOS VERDES II</th>\n",
       "      <td>102530490.00</td>\n",
       "      <td>$102.530.490</td>\n",
       "    </tr>\n",
       "    <tr>\n",
       "      <th>OBRAS DE ESPACIOS VERDES</th>\n",
       "      <td>29860001.00</td>\n",
       "      <td>$29.860.001</td>\n",
       "    </tr>\n",
       "    <tr>\n",
       "      <th>OBRAS BA ELIGE EV</th>\n",
       "      <td>7252834.00</td>\n",
       "      <td>$7.252.834</td>\n",
       "    </tr>\n",
       "  </tbody>\n",
       "</table>\n",
       "</div>"
      ],
      "text/plain": [
       "                                                   SANCION    SANCION_repr\n",
       "PROYECTO                                                                  \n",
       "VALORIZACION DE LOS ESPACIOS VERDES          1040075483.00  $1.040.075.483\n",
       "CUIDADO Y PUESTA EN VALOR DE ESPACIOS VERDES  273729024.00    $273.729.024\n",
       "OBRAS DE ESPACIOS VERDES II                   102530490.00    $102.530.490\n",
       "OBRAS DE ESPACIOS VERDES                       29860001.00     $29.860.001\n",
       "OBRAS BA ELIGE EV                               7252834.00      $7.252.834"
      ]
     },
     "execution_count": 115,
     "metadata": {},
     "output_type": "execute_result"
    }
   ],
   "source": [
    "repr_sancion_by_subset(aux, subset='PROYECTO')"
   ]
  },
  {
   "cell_type": "code",
   "execution_count": 116,
   "metadata": {
    "scrolled": true
   },
   "outputs": [
    {
     "data": {
      "text/html": [
       "<div>\n",
       "<style scoped>\n",
       "    .dataframe tbody tr th:only-of-type {\n",
       "        vertical-align: middle;\n",
       "    }\n",
       "\n",
       "    .dataframe tbody tr th {\n",
       "        vertical-align: top;\n",
       "    }\n",
       "\n",
       "    .dataframe thead th {\n",
       "        text-align: right;\n",
       "    }\n",
       "</style>\n",
       "<table border=\"1\" class=\"dataframe\">\n",
       "  <thead>\n",
       "    <tr style=\"text-align: right;\">\n",
       "      <th></th>\n",
       "      <th>SANCION</th>\n",
       "      <th>SANCION_repr</th>\n",
       "    </tr>\n",
       "    <tr>\n",
       "      <th>ACTIVIDAD</th>\n",
       "      <th></th>\n",
       "      <th></th>\n",
       "    </tr>\n",
       "  </thead>\n",
       "  <tbody>\n",
       "    <tr>\n",
       "      <th>PRESERVACION Y PUESTA EN VALOR DE ESPEJOS DE AGUA</th>\n",
       "      <td>1040075483.00</td>\n",
       "      <td>$1.040.075.483</td>\n",
       "    </tr>\n",
       "    <tr>\n",
       "      <th>ADMINISTRACION Y SERVICIOS GENERALES</th>\n",
       "      <td>106641842.00</td>\n",
       "      <td>$106.641.842</td>\n",
       "    </tr>\n",
       "    <tr>\n",
       "      <th>PARQUE ESTACION BUENOS AIRES</th>\n",
       "      <td>102530490.00</td>\n",
       "      <td>$102.530.490</td>\n",
       "    </tr>\n",
       "    <tr>\n",
       "      <th>MANTENIMIENTO DE FUENTES, MONUMENTOS Y OBRAS DE ARTE</th>\n",
       "      <td>39905314.00</td>\n",
       "      <td>$39.905.314</td>\n",
       "    </tr>\n",
       "    <tr>\n",
       "      <th>CONDUCCION</th>\n",
       "      <td>38925455.00</td>\n",
       "      <td>$38.925.455</td>\n",
       "    </tr>\n",
       "    <tr>\n",
       "      <th>LICITACION PUBLICA MANTENIMIENTO INTEGRAL DE MUROS VERDES Y ZONAS ANEXAS</th>\n",
       "      <td>29860001.00</td>\n",
       "      <td>$29.860.001</td>\n",
       "    </tr>\n",
       "    <tr>\n",
       "      <th>CUIDADO Y PUESTA EN VALOR PATRIMONIO CULTURAL Y NATURAL DE LOS ESPACIOS VERDES</th>\n",
       "      <td>25357681.00</td>\n",
       "      <td>$25.357.681</td>\n",
       "    </tr>\n",
       "    <tr>\n",
       "      <th>JARDIN BOTANICO \"CARLOS THAYS\"</th>\n",
       "      <td>22597092.00</td>\n",
       "      <td>$22.597.092</td>\n",
       "    </tr>\n",
       "    <tr>\n",
       "      <th>RESERVA ECOLOGICA COSTANERA SUR</th>\n",
       "      <td>20198341.00</td>\n",
       "      <td>$20.198.341</td>\n",
       "    </tr>\n",
       "    <tr>\n",
       "      <th>PARQUE 3 DE FEBRERO</th>\n",
       "      <td>20103299.00</td>\n",
       "      <td>$20.103.299</td>\n",
       "    </tr>\n",
       "    <tr>\n",
       "      <th>PARQUE DE VOLEY PLAYA- VELODROMO</th>\n",
       "      <td>7252834.00</td>\n",
       "      <td>$7.252.834</td>\n",
       "    </tr>\n",
       "  </tbody>\n",
       "</table>\n",
       "</div>"
      ],
      "text/plain": [
       "                                                                                     SANCION  \\\n",
       "ACTIVIDAD                                                                                      \n",
       "PRESERVACION Y PUESTA EN VALOR DE ESPEJOS DE AGUA                              1040075483.00   \n",
       "ADMINISTRACION Y SERVICIOS GENERALES                                            106641842.00   \n",
       "PARQUE ESTACION BUENOS AIRES                                                    102530490.00   \n",
       "MANTENIMIENTO DE FUENTES, MONUMENTOS Y OBRAS DE ARTE                             39905314.00   \n",
       "CONDUCCION                                                                       38925455.00   \n",
       "LICITACION PUBLICA MANTENIMIENTO INTEGRAL DE MUROS VERDES Y ZONAS ANEXAS         29860001.00   \n",
       "CUIDADO Y PUESTA EN VALOR PATRIMONIO CULTURAL Y NATURAL DE LOS ESPACIOS VERDES   25357681.00   \n",
       "JARDIN BOTANICO \"CARLOS THAYS\"                                                   22597092.00   \n",
       "RESERVA ECOLOGICA COSTANERA SUR                                                  20198341.00   \n",
       "PARQUE 3 DE FEBRERO                                                              20103299.00   \n",
       "PARQUE DE VOLEY PLAYA- VELODROMO                                                  7252834.00   \n",
       "\n",
       "                                                                                  SANCION_repr  \n",
       "ACTIVIDAD                                                                                       \n",
       "PRESERVACION Y PUESTA EN VALOR DE ESPEJOS DE AGUA                               $1.040.075.483  \n",
       "ADMINISTRACION Y SERVICIOS GENERALES                                              $106.641.842  \n",
       "PARQUE ESTACION BUENOS AIRES                                                      $102.530.490  \n",
       "MANTENIMIENTO DE FUENTES, MONUMENTOS Y OBRAS DE ARTE                               $39.905.314  \n",
       "CONDUCCION                                                                         $38.925.455  \n",
       "LICITACION PUBLICA MANTENIMIENTO INTEGRAL DE MUROS VERDES Y ZONAS ANEXAS           $29.860.001  \n",
       "CUIDADO Y PUESTA EN VALOR PATRIMONIO CULTURAL Y NATURAL DE LOS ESPACIOS VERDES     $25.357.681  \n",
       "JARDIN BOTANICO \"CARLOS THAYS\"                                                     $22.597.092  \n",
       "RESERVA ECOLOGICA COSTANERA SUR                                                    $20.198.341  \n",
       "PARQUE 3 DE FEBRERO                                                                $20.103.299  \n",
       "PARQUE DE VOLEY PLAYA- VELODROMO                                                    $7.252.834  "
      ]
     },
     "execution_count": 116,
     "metadata": {},
     "output_type": "execute_result"
    }
   ],
   "source": [
    "repr_sancion_by_subset(aux, subset='ACTIVIDAD')"
   ]
  },
  {
   "cell_type": "code",
   "execution_count": 190,
   "metadata": {
    "scrolled": true
   },
   "outputs": [],
   "source": [
    "sancion_obras = repr_sancion_by_subset(espacios_verdes, subset='OBRA')"
   ]
  },
  {
   "cell_type": "code",
   "execution_count": 203,
   "metadata": {},
   "outputs": [],
   "source": [
    "def pie_chart(data, categorias):\n",
    "    \n",
    "    data = data.to_list()\n",
    "    categorias = categorias.to_list()\n",
    "    \n",
    "    fig, ax = plt.subplots(figsize=(10, 6), subplot_kw=dict(aspect=\"equal\"))\n",
    "\n",
    "    wedges, texts = ax.pie(data, wedgeprops=dict(width=0.5), startangle=-40)\n",
    "\n",
    "    bbox_props = dict(boxstyle=\"square,pad=0.3\", fc=\"w\", ec=\"k\", lw=0.72)\n",
    "    kw = dict(arrowprops=dict(arrowstyle=\"-\"),\n",
    "              bbox=bbox_props, zorder=0, va=\"center\")\n",
    "\n",
    "    for i, p in enumerate(wedges):\n",
    "        ang = (p.theta2 - p.theta1)/2. + p.theta1\n",
    "        y = np.sin(np.deg2rad(ang))\n",
    "        x = np.cos(np.deg2rad(ang))\n",
    "        horizontalalignment = {-1: \"right\", 1: \"left\"}[int(np.sign(x))]\n",
    "        connectionstyle = \"angle,angleA=0,angleB={}\".format(ang)\n",
    "        kw[\"arrowprops\"].update({\"connectionstyle\": connectionstyle})\n",
    "        ax.annotate(categorias[i], xy=(x, y), xytext=(1.35*np.sign(x), 1.4*y),\n",
    "                    horizontalalignment=horizontalalignment, **kw)\n",
    "\n",
    "    ax.set_title(\"Cantidad presupuestada por Obras\", fontsize=16)\n",
    "\n",
    "    percents = [str(round((x/np.array(data).sum())*100, 1))+\"%   \" + y for x, y in zip(data, categorias)]\n",
    "    plt.legend(wedges, percents, loc='right center', bbox_to_anchor=(0, -0.2),\n",
    "               fontsize=14)\n",
    "    plt.tight_layout()\n",
    "    plt.show()"
   ]
  },
  {
   "cell_type": "code",
   "execution_count": 204,
   "metadata": {
    "scrolled": false
   },
   "outputs": [
    {
     "data": {
      "image/png": "[encoded data removed]",
      "text/plain": [
       "<Figure size 720x432 with 1 Axes>"
      ]
     },
     "metadata": {},
     "output_type": "display_data"
    }
   ],
   "source": [
    "pie_chart(data= sancion_obras['SANCION'].head(6), categorias=sancion_obras.head(6).index)"
   ]
  },
  {
   "cell_type": "markdown",
   "metadata": {},
   "source": [
    "### Sanción por Comuna"
   ]
  },
  {
   "cell_type": "code",
   "execution_count": 119,
   "metadata": {},
   "outputs": [],
   "source": [
    "sancion_espacios_verdes = repr_sancion_by_subset(espacios_verdes, subset=['AÑO', 'UBICACION_GEOGRAFICA']).reset_index()"
   ]
  },
  {
   "cell_type": "code",
   "execution_count": 181,
   "metadata": {},
   "outputs": [],
   "source": [
    "sancion_espacios_verdes = sancion_espacios_verdes.loc[sancion_espacios_verdes['UBICACION_GEOGRAFICA'] != \"A CLASIFICAR\"]"
   ]
  },
  {
   "cell_type": "code",
   "execution_count": 184,
   "metadata": {},
   "outputs": [
    {
     "data": {
      "application/vnd.plotly.v1+json": {
       "config": {
        "plotlyServerURL": "https://plot.ly"
       },
       "data": [
        {
         "alignmentgroup": "True",
         "hovertemplate": "variable=SANCION<br>UBICACION_GEOGRAFICA=%{x}<br>value=%{y}<extra></extra>",
         "legendgroup": "SANCION",
         "marker": {
          "color": "#636efa"
         },
         "name": "SANCION",
         "offsetgroup": "SANCION",
         "orientation": "v",
         "showlegend": true,
         "textposition": "auto",
         "type": "bar",
         "x": [
          "COMUNA 1",
          "COMUNA 14",
          "COMUNA 13",
          "COMUNA 15",
          "COMUNA 4",
          "COMUNA 7",
          "COMUNA 12",
          "COMUNA 9",
          "COMUNA 6",
          "COMUNA 8",
          "COMUNA 2",
          "COMUNA 10",
          "COMUNA 3",
          "COMUNA 11",
          "COMUNA 5"
         ],
         "xaxis": "x",
         "y": [
          2076825469,
          944158319,
          373872150,
          325100412,
          260999011,
          248645368,
          239037958,
          234453975,
          189793247,
          173224339,
          119982964,
          82824820,
          82011402,
          58206696,
          50171291
         ],
         "yaxis": "y"
        }
       ],
       "layout": {
        "barmode": "relative",
        "legend": {
         "title": {
          "text": "variable"
         },
         "tracegroupgap": 0
        },
        "plot_bgcolor": "white",
        "template": {
         "data": {
          "bar": [
           {
            "error_x": {
             "color": "#2a3f5f"
            },
            "error_y": {
             "color": "#2a3f5f"
            },
            "marker": {
             "line": {
              "color": "#E5ECF6",
              "width": 0.5
             }
            },
            "type": "bar"
           }
          ],
          "barpolar": [
           {
            "marker": {
             "line": {
              "color": "#E5ECF6",
              "width": 0.5
             }
            },
            "type": "barpolar"
           }
          ],
          "carpet": [
           {
            "aaxis": {
             "endlinecolor": "#2a3f5f",
             "gridcolor": "white",
             "linecolor": "white",
             "minorgridcolor": "white",
             "startlinecolor": "#2a3f5f"
            },
            "baxis": {
             "endlinecolor": "#2a3f5f",
             "gridcolor": "white",
             "linecolor": "white",
             "minorgridcolor": "white",
             "startlinecolor": "#2a3f5f"
            },
            "type": "carpet"
           }
          ],
          "choropleth": [
           {
            "colorbar": {
             "outlinewidth": 0,
             "ticks": ""
            },
            "type": "choropleth"
           }
          ],
          "contour": [
           {
            "colorbar": {
             "outlinewidth": 0,
             "ticks": ""
            },
            "colorscale": [
             [
              0,
              "#0d0887"
             ],
             [
              0.1111111111111111,
              "#46039f"
             ],
             [
              0.2222222222222222,
              "#7201a8"
             ],
             [
              0.3333333333333333,
              "#9c179e"
             ],
             [
              0.4444444444444444,
              "#bd3786"
             ],
             [
              0.5555555555555556,
              "#d8576b"
             ],
             [
              0.6666666666666666,
              "#ed7953"
             ],
             [
              0.7777777777777778,
              "#fb9f3a"
             ],
             [
              0.8888888888888888,
              "#fdca26"
             ],
             [
              1,
              "#f0f921"
             ]
            ],
            "type": "contour"
           }
          ],
          "contourcarpet": [
           {
            "colorbar": {
             "outlinewidth": 0,
             "ticks": ""
            },
            "type": "contourcarpet"
           }
          ],
          "heatmap": [
           {
            "colorbar": {
             "outlinewidth": 0,
             "ticks": ""
            },
            "colorscale": [
             [
              0,
              "#0d0887"
             ],
             [
              0.1111111111111111,
              "#46039f"
             ],
             [
              0.2222222222222222,
              "#7201a8"
             ],
             [
              0.3333333333333333,
              "#9c179e"
             ],
             [
              0.4444444444444444,
              "#bd3786"
             ],
             [
              0.5555555555555556,
              "#d8576b"
             ],
             [
              0.6666666666666666,
              "#ed7953"
             ],
             [
              0.7777777777777778,
              "#fb9f3a"
             ],
             [
              0.8888888888888888,
              "#fdca26"
             ],
             [
              1,
              "#f0f921"
             ]
            ],
            "type": "heatmap"
           }
          ],
          "heatmapgl": [
           {
            "colorbar": {
             "outlinewidth": 0,
             "ticks": ""
            },
            "colorscale": [
             [
              0,
              "#0d0887"
             ],
             [
              0.1111111111111111,
              "#46039f"
             ],
             [
              0.2222222222222222,
              "#7201a8"
             ],
             [
              0.3333333333333333,
              "#9c179e"
             ],
             [
              0.4444444444444444,
              "#bd3786"
             ],
             [
              0.5555555555555556,
              "#d8576b"
             ],
             [
              0.6666666666666666,
              "#ed7953"
             ],
             [
              0.7777777777777778,
              "#fb9f3a"
             ],
             [
              0.8888888888888888,
              "#fdca26"
             ],
             [
              1,
              "#f0f921"
             ]
            ],
            "type": "heatmapgl"
           }
          ],
          "histogram": [
           {
            "marker": {
             "colorbar": {
              "outlinewidth": 0,
              "ticks": ""
             }
            },
            "type": "histogram"
           }
          ],
          "histogram2d": [
           {
            "colorbar": {
             "outlinewidth": 0,
             "ticks": ""
            },
            "colorscale": [
             [
              0,
              "#0d0887"
             ],
             [
              0.1111111111111111,
              "#46039f"
             ],
             [
              0.2222222222222222,
              "#7201a8"
             ],
             [
              0.3333333333333333,
              "#9c179e"
             ],
             [
              0.4444444444444444,
              "#bd3786"
             ],
             [
              0.5555555555555556,
              "#d8576b"
             ],
             [
              0.6666666666666666,
              "#ed7953"
             ],
             [
              0.7777777777777778,
              "#fb9f3a"
             ],
             [
              0.8888888888888888,
              "#fdca26"
             ],
             [
              1,
              "#f0f921"
             ]
            ],
            "type": "histogram2d"
           }
          ],
          "histogram2dcontour": [
           {
            "colorbar": {
             "outlinewidth": 0,
             "ticks": ""
            },
            "colorscale": [
             [
              0,
              "#0d0887"
             ],
             [
              0.1111111111111111,
              "#46039f"
             ],
             [
              0.2222222222222222,
              "#7201a8"
             ],
             [
              0.3333333333333333,
              "#9c179e"
             ],
             [
              0.4444444444444444,
              "#bd3786"
             ],
             [
              0.5555555555555556,
              "#d8576b"
             ],
             [
              0.6666666666666666,
              "#ed7953"
             ],
             [
              0.7777777777777778,
              "#fb9f3a"
             ],
             [
              0.8888888888888888,
              "#fdca26"
             ],
             [
              1,
              "#f0f921"
             ]
            ],
            "type": "histogram2dcontour"
           }
          ],
          "mesh3d": [
           {
            "colorbar": {
             "outlinewidth": 0,
             "ticks": ""
            },
            "type": "mesh3d"
           }
          ],
          "parcoords": [
           {
            "line": {
             "colorbar": {
              "outlinewidth": 0,
              "ticks": ""
             }
            },
            "type": "parcoords"
           }
          ],
          "pie": [
           {
            "automargin": true,
            "type": "pie"
           }
          ],
          "scatter": [
           {
            "marker": {
             "colorbar": {
              "outlinewidth": 0,
              "ticks": ""
             }
            },
            "type": "scatter"
           }
          ],
          "scatter3d": [
           {
            "line": {
             "colorbar": {
              "outlinewidth": 0,
              "ticks": ""
             }
            },
            "marker": {
             "colorbar": {
              "outlinewidth": 0,
              "ticks": ""
             }
            },
            "type": "scatter3d"
           }
          ],
          "scattercarpet": [
           {
            "marker": {
             "colorbar": {
              "outlinewidth": 0,
              "ticks": ""
             }
            },
            "type": "scattercarpet"
           }
          ],
          "scattergeo": [
           {
            "marker": {
             "colorbar": {
              "outlinewidth": 0,
              "ticks": ""
             }
            },
            "type": "scattergeo"
           }
          ],
          "scattergl": [
           {
            "marker": {
             "colorbar": {
              "outlinewidth": 0,
              "ticks": ""
             }
            },
            "type": "scattergl"
           }
          ],
          "scattermapbox": [
           {
            "marker": {
             "colorbar": {
              "outlinewidth": 0,
              "ticks": ""
             }
            },
            "type": "scattermapbox"
           }
          ],
          "scatterpolar": [
           {
            "marker": {
             "colorbar": {
              "outlinewidth": 0,
              "ticks": ""
             }
            },
            "type": "scatterpolar"
           }
          ],
          "scatterpolargl": [
           {
            "marker": {
             "colorbar": {
              "outlinewidth": 0,
              "ticks": ""
             }
            },
            "type": "scatterpolargl"
           }
          ],
          "scatterternary": [
           {
            "marker": {
             "colorbar": {
              "outlinewidth": 0,
              "ticks": ""
             }
            },
            "type": "scatterternary"
           }
          ],
          "surface": [
           {
            "colorbar": {
             "outlinewidth": 0,
             "ticks": ""
            },
            "colorscale": [
             [
              0,
              "#0d0887"
             ],
             [
              0.1111111111111111,
              "#46039f"
             ],
             [
              0.2222222222222222,
              "#7201a8"
             ],
             [
              0.3333333333333333,
              "#9c179e"
             ],
             [
              0.4444444444444444,
              "#bd3786"
             ],
             [
              0.5555555555555556,
              "#d8576b"
             ],
             [
              0.6666666666666666,
              "#ed7953"
             ],
             [
              0.7777777777777778,
              "#fb9f3a"
             ],
             [
              0.8888888888888888,
              "#fdca26"
             ],
             [
              1,
              "#f0f921"
             ]
            ],
            "type": "surface"
           }
          ],
          "table": [
           {
            "cells": {
             "fill": {
              "color": "#EBF0F8"
             },
             "line": {
              "color": "white"
             }
            },
            "header": {
             "fill": {
              "color": "#C8D4E3"
             },
             "line": {
              "color": "white"
             }
            },
            "type": "table"
           }
          ]
         },
         "layout": {
          "annotationdefaults": {
           "arrowcolor": "#2a3f5f",
           "arrowhead": 0,
           "arrowwidth": 1
          },
          "coloraxis": {
           "colorbar": {
            "outlinewidth": 0,
            "ticks": ""
           }
          },
          "colorscale": {
           "diverging": [
            [
             0,
             "#8e0152"
            ],
            [
             0.1,
             "#c51b7d"
            ],
            [
             0.2,
             "#de77ae"
            ],
            [
             0.3,
             "#f1b6da"
            ],
            [
             0.4,
             "#fde0ef"
            ],
            [
             0.5,
             "#f7f7f7"
            ],
            [
             0.6,
             "#e6f5d0"
            ],
            [
             0.7,
             "#b8e186"
            ],
            [
             0.8,
             "#7fbc41"
            ],
            [
             0.9,
             "#4d9221"
            ],
            [
             1,
             "#276419"
            ]
           ],
           "sequential": [
            [
             0,
             "#0d0887"
            ],
            [
             0.1111111111111111,
             "#46039f"
            ],
            [
             0.2222222222222222,
             "#7201a8"
            ],
            [
             0.3333333333333333,
             "#9c179e"
            ],
            [
             0.4444444444444444,
             "#bd3786"
            ],
            [
             0.5555555555555556,
             "#d8576b"
            ],
            [
             0.6666666666666666,
             "#ed7953"
            ],
            [
             0.7777777777777778,
             "#fb9f3a"
            ],
            [
             0.8888888888888888,
             "#fdca26"
            ],
            [
             1,
             "#f0f921"
            ]
           ],
           "sequentialminus": [
            [
             0,
             "#0d0887"
            ],
            [
             0.1111111111111111,
             "#46039f"
            ],
            [
             0.2222222222222222,
             "#7201a8"
            ],
            [
             0.3333333333333333,
             "#9c179e"
            ],
            [
             0.4444444444444444,
             "#bd3786"
            ],
            [
             0.5555555555555556,
             "#d8576b"
            ],
            [
             0.6666666666666666,
             "#ed7953"
            ],
            [
             0.7777777777777778,
             "#fb9f3a"
            ],
            [
             0.8888888888888888,
             "#fdca26"
            ],
            [
             1,
             "#f0f921"
            ]
           ]
          },
          "colorway": [
           "#636efa",
           "#EF553B",
           "#00cc96",
           "#ab63fa",
           "#FFA15A",
           "#19d3f3",
           "#FF6692",
           "#B6E880",
           "#FF97FF",
           "#FECB52"
          ],
          "font": {
           "color": "#2a3f5f"
          },
          "geo": {
           "bgcolor": "white",
           "lakecolor": "white",
           "landcolor": "#E5ECF6",
           "showlakes": true,
           "showland": true,
           "subunitcolor": "white"
          },
          "hoverlabel": {
           "align": "left"
          },
          "hovermode": "closest",
          "mapbox": {
           "style": "light"
          },
          "paper_bgcolor": "white",
          "plot_bgcolor": "#E5ECF6",
          "polar": {
           "angularaxis": {
            "gridcolor": "white",
            "linecolor": "white",
            "ticks": ""
           },
           "bgcolor": "#E5ECF6",
           "radialaxis": {
            "gridcolor": "white",
            "linecolor": "white",
            "ticks": ""
           }
          },
          "scene": {
           "xaxis": {
            "backgroundcolor": "#E5ECF6",
            "gridcolor": "white",
            "gridwidth": 2,
            "linecolor": "white",
            "showbackground": true,
            "ticks": "",
            "zerolinecolor": "white"
           },
           "yaxis": {
            "backgroundcolor": "#E5ECF6",
            "gridcolor": "white",
            "gridwidth": 2,
            "linecolor": "white",
            "showbackground": true,
            "ticks": "",
            "zerolinecolor": "white"
           },
           "zaxis": {
            "backgroundcolor": "#E5ECF6",
            "gridcolor": "white",
            "gridwidth": 2,
            "linecolor": "white",
            "showbackground": true,
            "ticks": "",
            "zerolinecolor": "white"
           }
          },
          "shapedefaults": {
           "line": {
            "color": "#2a3f5f"
           }
          },
          "ternary": {
           "aaxis": {
            "gridcolor": "white",
            "linecolor": "white",
            "ticks": ""
           },
           "baxis": {
            "gridcolor": "white",
            "linecolor": "white",
            "ticks": ""
           },
           "bgcolor": "#E5ECF6",
           "caxis": {
            "gridcolor": "white",
            "linecolor": "white",
            "ticks": ""
           }
          },
          "title": {
           "x": 0.05
          },
          "xaxis": {
           "automargin": true,
           "gridcolor": "white",
           "linecolor": "white",
           "ticks": "",
           "title": {
            "standoff": 15
           },
           "zerolinecolor": "white",
           "zerolinewidth": 2
          },
          "yaxis": {
           "automargin": true,
           "gridcolor": "white",
           "linecolor": "white",
           "ticks": "",
           "title": {
            "standoff": 15
           },
           "zerolinecolor": "white",
           "zerolinewidth": 2
          }
         }
        },
        "title": {
         "text": "<b>Sanción por Comuna<b>",
         "x": 0.135,
         "xanchor": "left",
         "y": 0.9,
         "yanchor": "top"
        },
        "xaxis": {
         "anchor": "y",
         "domain": [
          0,
          1
         ],
         "title": {
          "text": "UBICACION_GEOGRAFICA"
         }
        },
        "yaxis": {
         "anchor": "x",
         "domain": [
          0,
          1
         ],
         "tickformat": "$,.",
         "title": {
          "text": "value"
         }
        }
       }
      },
      "text/html": [
       "<div>                            <div id=\"d9ae13ed-8335-49fb-a20c-98bd71e384ea\" class=\"plotly-graph-div\" style=\"height:525px; width:100%;\"></div>            <script type=\"text/javascript\">                require([\"plotly\"], function(Plotly) {                    window.PLOTLYENV=window.PLOTLYENV || {};                                    if (document.getElementById(\"d9ae13ed-8335-49fb-a20c-98bd71e384ea\")) {                    Plotly.newPlot(                        \"d9ae13ed-8335-49fb-a20c-98bd71e384ea\",                        [{\"alignmentgroup\": \"True\", \"hovertemplate\": \"variable=SANCION<br>UBICACION_GEOGRAFICA=%{x}<br>value=%{y}<extra></extra>\", \"legendgroup\": \"SANCION\", \"marker\": {\"color\": \"#636efa\"}, \"name\": \"SANCION\", \"offsetgroup\": \"SANCION\", \"orientation\": \"v\", \"showlegend\": true, \"textposition\": \"auto\", \"type\": \"bar\", \"x\": [\"COMUNA 1\", \"COMUNA 14\", \"COMUNA 13\", \"COMUNA 15\", \"COMUNA 4\", \"COMUNA 7\", \"COMUNA 12\", \"COMUNA 9\", \"COMUNA 6\", \"COMUNA 8\", \"COMUNA 2\", \"COMUNA 10\", \"COMUNA 3\", \"COMUNA 11\", \"COMUNA 5\"], \"xaxis\": \"x\", \"y\": [2076825469.0, 944158319.0, 373872150.0, 325100412.0, 260999011.0, 248645368.0, 239037958.0, 234453975.0, 189793247.0, 173224339.0, 119982964.0, 82824820.0, 82011402.0, 58206696.0, 50171291.0], \"yaxis\": \"y\"}],                        {\"barmode\": \"relative\", \"legend\": {\"title\": {\"text\": \"variable\"}, \"tracegroupgap\": 0}, \"plot_bgcolor\": \"white\", \"template\": {\"data\": {\"bar\": [{\"error_x\": {\"color\": \"#2a3f5f\"}, \"error_y\": {\"color\": \"#2a3f5f\"}, \"marker\": {\"line\": {\"color\": \"#E5ECF6\", \"width\": 0.5}}, \"type\": \"bar\"}], \"barpolar\": [{\"marker\": {\"line\": {\"color\": \"#E5ECF6\", \"width\": 0.5}}, \"type\": \"barpolar\"}], \"carpet\": [{\"aaxis\": {\"endlinecolor\": \"#2a3f5f\", \"gridcolor\": \"white\", \"linecolor\": \"white\", \"minorgridcolor\": \"white\", \"startlinecolor\": \"#2a3f5f\"}, \"baxis\": {\"endlinecolor\": \"#2a3f5f\", \"gridcolor\": \"white\", \"linecolor\": \"white\", \"minorgridcolor\": \"white\", \"startlinecolor\": \"#2a3f5f\"}, \"type\": \"carpet\"}], \"choropleth\": [{\"colorbar\": {\"outlinewidth\": 0, \"ticks\": \"\"}, \"type\": \"choropleth\"}], \"contour\": [{\"colorbar\": {\"outlinewidth\": 0, \"ticks\": \"\"}, \"colorscale\": [[0.0, \"#0d0887\"], [0.1111111111111111, \"#46039f\"], [0.2222222222222222, \"#7201a8\"], [0.3333333333333333, \"#9c179e\"], [0.4444444444444444, \"#bd3786\"], [0.5555555555555556, \"#d8576b\"], [0.6666666666666666, \"#ed7953\"], [0.7777777777777778, \"#fb9f3a\"], [0.8888888888888888, \"#fdca26\"], [1.0, \"#f0f921\"]], \"type\": \"contour\"}], \"contourcarpet\": [{\"colorbar\": {\"outlinewidth\": 0, \"ticks\": \"\"}, \"type\": \"contourcarpet\"}], \"heatmap\": [{\"colorbar\": {\"outlinewidth\": 0, \"ticks\": \"\"}, \"colorscale\": [[0.0, \"#0d0887\"], [0.1111111111111111, \"#46039f\"], [0.2222222222222222, \"#7201a8\"], [0.3333333333333333, \"#9c179e\"], [0.4444444444444444, \"#bd3786\"], [0.5555555555555556, \"#d8576b\"], [0.6666666666666666, \"#ed7953\"], [0.7777777777777778, \"#fb9f3a\"], [0.8888888888888888, \"#fdca26\"], [1.0, \"#f0f921\"]], \"type\": \"heatmap\"}], \"heatmapgl\": [{\"colorbar\": {\"outlinewidth\": 0, \"ticks\": \"\"}, \"colorscale\": [[0.0, \"#0d0887\"], [0.1111111111111111, \"#46039f\"], [0.2222222222222222, \"#7201a8\"], [0.3333333333333333, \"#9c179e\"], [0.4444444444444444, \"#bd3786\"], [0.5555555555555556, \"#d8576b\"], [0.6666666666666666, \"#ed7953\"], [0.7777777777777778, \"#fb9f3a\"], [0.8888888888888888, \"#fdca26\"], [1.0, \"#f0f921\"]], \"type\": \"heatmapgl\"}], \"histogram\": [{\"marker\": {\"colorbar\": {\"outlinewidth\": 0, \"ticks\": \"\"}}, \"type\": \"histogram\"}], \"histogram2d\": [{\"colorbar\": {\"outlinewidth\": 0, \"ticks\": \"\"}, \"colorscale\": [[0.0, \"#0d0887\"], [0.1111111111111111, \"#46039f\"], [0.2222222222222222, \"#7201a8\"], [0.3333333333333333, \"#9c179e\"], [0.4444444444444444, \"#bd3786\"], [0.5555555555555556, \"#d8576b\"], [0.6666666666666666, \"#ed7953\"], [0.7777777777777778, \"#fb9f3a\"], [0.8888888888888888, \"#fdca26\"], [1.0, \"#f0f921\"]], \"type\": \"histogram2d\"}], \"histogram2dcontour\": [{\"colorbar\": {\"outlinewidth\": 0, \"ticks\": \"\"}, \"colorscale\": [[0.0, \"#0d0887\"], [0.1111111111111111, \"#46039f\"], [0.2222222222222222, \"#7201a8\"], [0.3333333333333333, \"#9c179e\"], [0.4444444444444444, \"#bd3786\"], [0.5555555555555556, \"#d8576b\"], [0.6666666666666666, \"#ed7953\"], [0.7777777777777778, \"#fb9f3a\"], [0.8888888888888888, \"#fdca26\"], [1.0, \"#f0f921\"]], \"type\": \"histogram2dcontour\"}], \"mesh3d\": [{\"colorbar\": {\"outlinewidth\": 0, \"ticks\": \"\"}, \"type\": \"mesh3d\"}], \"parcoords\": [{\"line\": {\"colorbar\": {\"outlinewidth\": 0, \"ticks\": \"\"}}, \"type\": \"parcoords\"}], \"pie\": [{\"automargin\": true, \"type\": \"pie\"}], \"scatter\": [{\"marker\": {\"colorbar\": {\"outlinewidth\": 0, \"ticks\": \"\"}}, \"type\": \"scatter\"}], \"scatter3d\": [{\"line\": {\"colorbar\": {\"outlinewidth\": 0, \"ticks\": \"\"}}, \"marker\": {\"colorbar\": {\"outlinewidth\": 0, \"ticks\": \"\"}}, \"type\": \"scatter3d\"}], \"scattercarpet\": [{\"marker\": {\"colorbar\": {\"outlinewidth\": 0, \"ticks\": \"\"}}, \"type\": \"scattercarpet\"}], \"scattergeo\": [{\"marker\": {\"colorbar\": {\"outlinewidth\": 0, \"ticks\": \"\"}}, \"type\": \"scattergeo\"}], \"scattergl\": [{\"marker\": {\"colorbar\": {\"outlinewidth\": 0, \"ticks\": \"\"}}, \"type\": \"scattergl\"}], \"scattermapbox\": [{\"marker\": {\"colorbar\": {\"outlinewidth\": 0, \"ticks\": \"\"}}, \"type\": \"scattermapbox\"}], \"scatterpolar\": [{\"marker\": {\"colorbar\": {\"outlinewidth\": 0, \"ticks\": \"\"}}, \"type\": \"scatterpolar\"}], \"scatterpolargl\": [{\"marker\": {\"colorbar\": {\"outlinewidth\": 0, \"ticks\": \"\"}}, \"type\": \"scatterpolargl\"}], \"scatterternary\": [{\"marker\": {\"colorbar\": {\"outlinewidth\": 0, \"ticks\": \"\"}}, \"type\": \"scatterternary\"}], \"surface\": [{\"colorbar\": {\"outlinewidth\": 0, \"ticks\": \"\"}, \"colorscale\": [[0.0, \"#0d0887\"], [0.1111111111111111, \"#46039f\"], [0.2222222222222222, \"#7201a8\"], [0.3333333333333333, \"#9c179e\"], [0.4444444444444444, \"#bd3786\"], [0.5555555555555556, \"#d8576b\"], [0.6666666666666666, \"#ed7953\"], [0.7777777777777778, \"#fb9f3a\"], [0.8888888888888888, \"#fdca26\"], [1.0, \"#f0f921\"]], \"type\": \"surface\"}], \"table\": [{\"cells\": {\"fill\": {\"color\": \"#EBF0F8\"}, \"line\": {\"color\": \"white\"}}, \"header\": {\"fill\": {\"color\": \"#C8D4E3\"}, \"line\": {\"color\": \"white\"}}, \"type\": \"table\"}]}, \"layout\": {\"annotationdefaults\": {\"arrowcolor\": \"#2a3f5f\", \"arrowhead\": 0, \"arrowwidth\": 1}, \"coloraxis\": {\"colorbar\": {\"outlinewidth\": 0, \"ticks\": \"\"}}, \"colorscale\": {\"diverging\": [[0, \"#8e0152\"], [0.1, \"#c51b7d\"], [0.2, \"#de77ae\"], [0.3, \"#f1b6da\"], [0.4, \"#fde0ef\"], [0.5, \"#f7f7f7\"], [0.6, \"#e6f5d0\"], [0.7, \"#b8e186\"], [0.8, \"#7fbc41\"], [0.9, \"#4d9221\"], [1, \"#276419\"]], \"sequential\": [[0.0, \"#0d0887\"], [0.1111111111111111, \"#46039f\"], [0.2222222222222222, \"#7201a8\"], [0.3333333333333333, \"#9c179e\"], [0.4444444444444444, \"#bd3786\"], [0.5555555555555556, \"#d8576b\"], [0.6666666666666666, \"#ed7953\"], [0.7777777777777778, \"#fb9f3a\"], [0.8888888888888888, \"#fdca26\"], [1.0, \"#f0f921\"]], \"sequentialminus\": [[0.0, \"#0d0887\"], [0.1111111111111111, \"#46039f\"], [0.2222222222222222, \"#7201a8\"], [0.3333333333333333, \"#9c179e\"], [0.4444444444444444, \"#bd3786\"], [0.5555555555555556, \"#d8576b\"], [0.6666666666666666, \"#ed7953\"], [0.7777777777777778, \"#fb9f3a\"], [0.8888888888888888, \"#fdca26\"], [1.0, \"#f0f921\"]]}, \"colorway\": [\"#636efa\", \"#EF553B\", \"#00cc96\", \"#ab63fa\", \"#FFA15A\", \"#19d3f3\", \"#FF6692\", \"#B6E880\", \"#FF97FF\", \"#FECB52\"], \"font\": {\"color\": \"#2a3f5f\"}, \"geo\": {\"bgcolor\": \"white\", \"lakecolor\": \"white\", \"landcolor\": \"#E5ECF6\", \"showlakes\": true, \"showland\": true, \"subunitcolor\": \"white\"}, \"hoverlabel\": {\"align\": \"left\"}, \"hovermode\": \"closest\", \"mapbox\": {\"style\": \"light\"}, \"paper_bgcolor\": \"white\", \"plot_bgcolor\": \"#E5ECF6\", \"polar\": {\"angularaxis\": {\"gridcolor\": \"white\", \"linecolor\": \"white\", \"ticks\": \"\"}, \"bgcolor\": \"#E5ECF6\", \"radialaxis\": {\"gridcolor\": \"white\", \"linecolor\": \"white\", \"ticks\": \"\"}}, \"scene\": {\"xaxis\": {\"backgroundcolor\": \"#E5ECF6\", \"gridcolor\": \"white\", \"gridwidth\": 2, \"linecolor\": \"white\", \"showbackground\": true, \"ticks\": \"\", \"zerolinecolor\": \"white\"}, \"yaxis\": {\"backgroundcolor\": \"#E5ECF6\", \"gridcolor\": \"white\", \"gridwidth\": 2, \"linecolor\": \"white\", \"showbackground\": true, \"ticks\": \"\", \"zerolinecolor\": \"white\"}, \"zaxis\": {\"backgroundcolor\": \"#E5ECF6\", \"gridcolor\": \"white\", \"gridwidth\": 2, \"linecolor\": \"white\", \"showbackground\": true, \"ticks\": \"\", \"zerolinecolor\": \"white\"}}, \"shapedefaults\": {\"line\": {\"color\": \"#2a3f5f\"}}, \"ternary\": {\"aaxis\": {\"gridcolor\": \"white\", \"linecolor\": \"white\", \"ticks\": \"\"}, \"baxis\": {\"gridcolor\": \"white\", \"linecolor\": \"white\", \"ticks\": \"\"}, \"bgcolor\": \"#E5ECF6\", \"caxis\": {\"gridcolor\": \"white\", \"linecolor\": \"white\", \"ticks\": \"\"}}, \"title\": {\"x\": 0.05}, \"xaxis\": {\"automargin\": true, \"gridcolor\": \"white\", \"linecolor\": \"white\", \"ticks\": \"\", \"title\": {\"standoff\": 15}, \"zerolinecolor\": \"white\", \"zerolinewidth\": 2}, \"yaxis\": {\"automargin\": true, \"gridcolor\": \"white\", \"linecolor\": \"white\", \"ticks\": \"\", \"title\": {\"standoff\": 15}, \"zerolinecolor\": \"white\", \"zerolinewidth\": 2}}}, \"title\": {\"text\": \"<b>Sanci\\u00f3n por Comuna<b>\", \"x\": 0.135, \"xanchor\": \"left\", \"y\": 0.9, \"yanchor\": \"top\"}, \"xaxis\": {\"anchor\": \"y\", \"domain\": [0.0, 1.0], \"title\": {\"text\": \"UBICACION_GEOGRAFICA\"}}, \"yaxis\": {\"anchor\": \"x\", \"domain\": [0.0, 1.0], \"tickformat\": \"$,.\", \"title\": {\"text\": \"value\"}}},                        {\"responsive\": true}                    ).then(function(){\n",
       "                            \n",
       "var gd = document.getElementById('d9ae13ed-8335-49fb-a20c-98bd71e384ea');\n",
       "var x = new MutationObserver(function (mutations, observer) {{\n",
       "        var display = window.getComputedStyle(gd).display;\n",
       "        if (!display || display === 'none') {{\n",
       "            console.log([gd, 'removed!']);\n",
       "            Plotly.purge(gd);\n",
       "            observer.disconnect();\n",
       "        }}\n",
       "}});\n",
       "\n",
       "// Listen for the removal of the full notebook cells\n",
       "var notebookContainer = gd.closest('#notebook-container');\n",
       "if (notebookContainer) {{\n",
       "    x.observe(notebookContainer, {childList: true});\n",
       "}}\n",
       "\n",
       "// Listen for the clearing of the current output cell\n",
       "var outputEl = gd.closest('.output');\n",
       "if (outputEl) {{\n",
       "    x.observe(outputEl, {childList: true});\n",
       "}}\n",
       "\n",
       "                        })                };                });            </script>        </div>"
      ]
     },
     "metadata": {},
     "output_type": "display_data"
    }
   ],
   "source": [
    "sancion_espacios_verdes['AÑO'] = sancion_espacios_verdes['AÑO'].astype('category')\n",
    "\n",
    "\n",
    "fig = px.bar(aux,\n",
    "             title=\"<b>Sanción por Comuna<b>\")\n",
    "fig = fig.update_layout(\n",
    "    title={\n",
    "        'y':0.9,\n",
    "        'x':0.135,\n",
    "        'xanchor': 'left',\n",
    "        'yanchor': 'top'},\n",
    "        plot_bgcolor='white')\n",
    "\n",
    "fig = fig.update_layout(yaxis_tickformat = '$,.')\n",
    "\n",
    "fig.show()"
   ]
  },
  {
   "cell_type": "code",
   "execution_count": 182,
   "metadata": {},
   "outputs": [
    {
     "data": {
      "application/vnd.plotly.v1+json": {
       "config": {
        "plotlyServerURL": "https://plot.ly"
       },
       "data": [
        {
         "alignmentgroup": "True",
         "hovertemplate": "UBICACION_GEOGRAFICA=COMUNA 10<br>AÑO=%{x}<br>SANCION=%{y}<extra></extra>",
         "legendgroup": "COMUNA 10",
         "marker": {
          "color": "#636efa"
         },
         "name": "COMUNA 10",
         "offsetgroup": "COMUNA 10",
         "orientation": "v",
         "showlegend": true,
         "textposition": "auto",
         "type": "bar",
         "x": [
          2017,
          2016,
          2011,
          2018,
          2013,
          2012,
          2015,
          2014,
          2019
         ],
         "xaxis": "x",
         "y": [
          288000,
          358621,
          4041091,
          4423160,
          5191485,
          6404320,
          9031933,
          14236300,
          38849910
         ],
         "yaxis": "y"
        },
        {
         "alignmentgroup": "True",
         "hovertemplate": "UBICACION_GEOGRAFICA=COMUNA 11<br>AÑO=%{x}<br>SANCION=%{y}<extra></extra>",
         "legendgroup": "COMUNA 11",
         "marker": {
          "color": "#EF553B"
         },
         "name": "COMUNA 11",
         "offsetgroup": "COMUNA 11",
         "orientation": "v",
         "showlegend": true,
         "textposition": "auto",
         "type": "bar",
         "x": [
          2016,
          2018,
          2017,
          2011,
          2019,
          2012,
          2013,
          2014,
          2015
         ],
         "xaxis": "x",
         "y": [
          358621,
          2245430,
          3125916,
          3357126,
          4790279,
          6818835,
          8834906,
          14236300,
          14439283
         ],
         "yaxis": "y"
        },
        {
         "alignmentgroup": "True",
         "hovertemplate": "UBICACION_GEOGRAFICA=COMUNA 5<br>AÑO=%{x}<br>SANCION=%{y}<extra></extra>",
         "legendgroup": "COMUNA 5",
         "marker": {
          "color": "#00cc96"
         },
         "name": "COMUNA 5",
         "offsetgroup": "COMUNA 5",
         "orientation": "v",
         "showlegend": true,
         "textposition": "auto",
         "type": "bar",
         "x": [
          2016,
          2011,
          2015,
          2013,
          2012,
          2017,
          2018,
          2019,
          2014
         ],
         "xaxis": "x",
         "y": [
          717242,
          2506366,
          2677533,
          2759967,
          4106099,
          6725916,
          7597820,
          8824048,
          14256300
         ],
         "yaxis": "y"
        },
        {
         "alignmentgroup": "True",
         "hovertemplate": "UBICACION_GEOGRAFICA=COMUNA 8<br>AÑO=%{x}<br>SANCION=%{y}<extra></extra>",
         "legendgroup": "COMUNA 8",
         "marker": {
          "color": "#ab63fa"
         },
         "name": "COMUNA 8",
         "offsetgroup": "COMUNA 8",
         "orientation": "v",
         "showlegend": true,
         "textposition": "auto",
         "type": "bar",
         "x": [
          2017,
          2016,
          2018,
          2011,
          2015,
          2014,
          2012,
          2013,
          2019
         ],
         "xaxis": "x",
         "y": [
          752002,
          3265354,
          10815070,
          11433311,
          20549283,
          25906800,
          27352340,
          29264293,
          43885886
         ],
         "yaxis": "y"
        },
        {
         "alignmentgroup": "True",
         "hovertemplate": "UBICACION_GEOGRAFICA=COMUNA 14<br>AÑO=%{x}<br>SANCION=%{y}<extra></extra>",
         "legendgroup": "COMUNA 14",
         "marker": {
          "color": "#FFA15A"
         },
         "name": "COMUNA 14",
         "offsetgroup": "COMUNA 14",
         "orientation": "v",
         "showlegend": true,
         "textposition": "auto",
         "type": "bar",
         "x": [
          2010,
          2012,
          2011,
          2013,
          2014,
          2015,
          2016,
          2019,
          2018,
          2017
         ],
         "xaxis": "x",
         "y": [
          1400000,
          18606574,
          19527989,
          25637586,
          41432647,
          94621559,
          123591476,
          184815781,
          199629904,
          234894803
         ],
         "yaxis": "y"
        },
        {
         "alignmentgroup": "True",
         "hovertemplate": "UBICACION_GEOGRAFICA=COMUNA 3<br>AÑO=%{x}<br>SANCION=%{y}<extra></extra>",
         "legendgroup": "COMUNA 3",
         "marker": {
          "color": "#19d3f3"
         },
         "name": "COMUNA 3",
         "offsetgroup": "COMUNA 3",
         "orientation": "v",
         "showlegend": true,
         "textposition": "auto",
         "type": "bar",
         "x": [
          2012,
          2016,
          2013,
          2011,
          2015,
          2018,
          2017,
          2014,
          2019
         ],
         "xaxis": "x",
         "y": [
          1409086,
          2016884,
          2255674,
          2506366,
          4571633,
          5422188,
          7191458,
          14261300,
          42376813
         ],
         "yaxis": "y"
        },
        {
         "alignmentgroup": "True",
         "hovertemplate": "UBICACION_GEOGRAFICA=COMUNA 2<br>AÑO=%{x}<br>SANCION=%{y}<extra></extra>",
         "legendgroup": "COMUNA 2",
         "marker": {
          "color": "#FF6692"
         },
         "name": "COMUNA 2",
         "offsetgroup": "COMUNA 2",
         "orientation": "v",
         "showlegend": true,
         "textposition": "auto",
         "type": "bar",
         "x": [
          2011,
          2016,
          2017,
          2012,
          2013,
          2018,
          2014,
          2015,
          2019
         ],
         "xaxis": "x",
         "y": [
          2506366,
          3048276,
          5000000,
          6581970,
          10630954,
          13180620,
          14256300,
          17555383,
          47223095
         ],
         "yaxis": "y"
        },
        {
         "alignmentgroup": "True",
         "hovertemplate": "UBICACION_GEOGRAFICA=COMUNA 6<br>AÑO=%{x}<br>SANCION=%{y}<extra></extra>",
         "legendgroup": "COMUNA 6",
         "marker": {
          "color": "#B6E880"
         },
         "name": "COMUNA 6",
         "offsetgroup": "COMUNA 6",
         "orientation": "v",
         "showlegend": true,
         "textposition": "auto",
         "type": "bar",
         "x": [
          2011,
          2012,
          2016,
          2013,
          2015,
          2014,
          2017,
          2018,
          2019
         ],
         "xaxis": "x",
         "y": [
          2506366,
          8318049,
          9589567,
          10008073,
          13477316,
          14415300,
          18919833,
          40180008,
          72378735
         ],
         "yaxis": "y"
        },
        {
         "alignmentgroup": "True",
         "hovertemplate": "UBICACION_GEOGRAFICA=COMUNA 12<br>AÑO=%{x}<br>SANCION=%{y}<extra></extra>",
         "legendgroup": "COMUNA 12",
         "marker": {
          "color": "#FF97FF"
         },
         "name": "COMUNA 12",
         "offsetgroup": "COMUNA 12",
         "orientation": "v",
         "showlegend": true,
         "textposition": "auto",
         "type": "bar",
         "x": [
          2011,
          2012,
          2014,
          2013,
          2015,
          2016,
          2017,
          2018,
          2019
         ],
         "xaxis": "x",
         "y": [
          3357126,
          8343438,
          14236300,
          18468298,
          21740733,
          27889099,
          38014427,
          47496266,
          59492271
         ],
         "yaxis": "y"
        },
        {
         "alignmentgroup": "True",
         "hovertemplate": "UBICACION_GEOGRAFICA=COMUNA 15<br>AÑO=%{x}<br>SANCION=%{y}<extra></extra>",
         "legendgroup": "COMUNA 15",
         "marker": {
          "color": "#FECB52"
         },
         "name": "COMUNA 15",
         "offsetgroup": "COMUNA 15",
         "orientation": "v",
         "showlegend": true,
         "textposition": "auto",
         "type": "bar",
         "x": [
          2011,
          2012,
          2014,
          2015,
          2013,
          2016,
          2017,
          2018,
          2019
         ],
         "xaxis": "x",
         "y": [
          3357126,
          5780012,
          14588827,
          14653133,
          20831082,
          35750817,
          67839794,
          68863620,
          93436001
         ],
         "yaxis": "y"
        },
        {
         "alignmentgroup": "True",
         "hovertemplate": "UBICACION_GEOGRAFICA=COMUNA 7<br>AÑO=%{x}<br>SANCION=%{y}<extra></extra>",
         "legendgroup": "COMUNA 7",
         "marker": {
          "color": "#636efa"
         },
         "name": "COMUNA 7",
         "offsetgroup": "COMUNA 7",
         "orientation": "v",
         "showlegend": true,
         "textposition": "auto",
         "type": "bar",
         "x": [
          2011,
          2012,
          2014,
          2016,
          2013,
          2015,
          2017,
          2018,
          2019
         ],
         "xaxis": "x",
         "y": [
          4041091,
          11814303,
          14241300,
          16640953,
          23515684,
          28834033,
          39834514,
          41510062,
          68213428
         ],
         "yaxis": "y"
        },
        {
         "alignmentgroup": "True",
         "hovertemplate": "UBICACION_GEOGRAFICA=COMUNA 4<br>AÑO=%{x}<br>SANCION=%{y}<extra></extra>",
         "legendgroup": "COMUNA 4",
         "marker": {
          "color": "#EF553B"
         },
         "name": "COMUNA 4",
         "offsetgroup": "COMUNA 4",
         "orientation": "v",
         "showlegend": true,
         "textposition": "auto",
         "type": "bar",
         "x": [
          2018,
          2011,
          2012,
          2017,
          2014,
          2013,
          2016,
          2015,
          2019
         ],
         "xaxis": "x",
         "y": [
          5487340,
          7097918,
          11364805,
          11439658,
          14261300,
          18858723,
          24372650,
          25009583,
          143107034
         ],
         "yaxis": "y"
        },
        {
         "alignmentgroup": "True",
         "hovertemplate": "UBICACION_GEOGRAFICA=COMUNA 9<br>AÑO=%{x}<br>SANCION=%{y}<extra></extra>",
         "legendgroup": "COMUNA 9",
         "marker": {
          "color": "#00cc96"
         },
         "name": "COMUNA 9",
         "offsetgroup": "COMUNA 9",
         "orientation": "v",
         "showlegend": true,
         "textposition": "auto",
         "type": "bar",
         "x": [
          2011,
          2015,
          2013,
          2016,
          2014,
          2012,
          2017,
          2018,
          2019
         ],
         "xaxis": "x",
         "y": [
          5679141,
          10645167,
          12326941,
          14242118,
          14938300,
          29249610,
          38094114,
          42484011,
          66794573
         ],
         "yaxis": "y"
        },
        {
         "alignmentgroup": "True",
         "hovertemplate": "UBICACION_GEOGRAFICA=COMUNA 13<br>AÑO=%{x}<br>SANCION=%{y}<extra></extra>",
         "legendgroup": "COMUNA 13",
         "marker": {
          "color": "#ab63fa"
         },
         "name": "COMUNA 13",
         "offsetgroup": "COMUNA 13",
         "orientation": "v",
         "showlegend": true,
         "textposition": "auto",
         "type": "bar",
         "x": [
          2011,
          2013,
          2012,
          2014,
          2016,
          2015,
          2017,
          2018,
          2019
         ],
         "xaxis": "x",
         "y": [
          9699505,
          11315877,
          13078107,
          14358300,
          26513349,
          39332587,
          58439089,
          95083050,
          106052286
         ],
         "yaxis": "y"
        },
        {
         "alignmentgroup": "True",
         "hovertemplate": "UBICACION_GEOGRAFICA=COMUNA 1<br>AÑO=%{x}<br>SANCION=%{y}<extra></extra>",
         "legendgroup": "COMUNA 1",
         "marker": {
          "color": "#FFA15A"
         },
         "name": "COMUNA 1",
         "offsetgroup": "COMUNA 1",
         "orientation": "v",
         "showlegend": true,
         "textposition": "auto",
         "type": "bar",
         "x": [
          2012,
          2010,
          2014,
          2011,
          2013,
          2015,
          2016,
          2017,
          2018,
          2019
         ],
         "xaxis": "x",
         "y": [
          63397083,
          76868026,
          82934846,
          100422622,
          106809673,
          155008553,
          284455961,
          317506684,
          416214329,
          473207692
         ],
         "yaxis": "y"
        }
       ],
       "layout": {
        "barmode": "relative",
        "legend": {
         "title": {
          "text": "UBICACION_GEOGRAFICA"
         },
         "tracegroupgap": 0
        },
        "plot_bgcolor": "white",
        "template": {
         "data": {
          "bar": [
           {
            "error_x": {
             "color": "#2a3f5f"
            },
            "error_y": {
             "color": "#2a3f5f"
            },
            "marker": {
             "line": {
              "color": "#E5ECF6",
              "width": 0.5
             }
            },
            "type": "bar"
           }
          ],
          "barpolar": [
           {
            "marker": {
             "line": {
              "color": "#E5ECF6",
              "width": 0.5
             }
            },
            "type": "barpolar"
           }
          ],
          "carpet": [
           {
            "aaxis": {
             "endlinecolor": "#2a3f5f",
             "gridcolor": "white",
             "linecolor": "white",
             "minorgridcolor": "white",
             "startlinecolor": "#2a3f5f"
            },
            "baxis": {
             "endlinecolor": "#2a3f5f",
             "gridcolor": "white",
             "linecolor": "white",
             "minorgridcolor": "white",
             "startlinecolor": "#2a3f5f"
            },
            "type": "carpet"
           }
          ],
          "choropleth": [
           {
            "colorbar": {
             "outlinewidth": 0,
             "ticks": ""
            },
            "type": "choropleth"
           }
          ],
          "contour": [
           {
            "colorbar": {
             "outlinewidth": 0,
             "ticks": ""
            },
            "colorscale": [
             [
              0,
              "#0d0887"
             ],
             [
              0.1111111111111111,
              "#46039f"
             ],
             [
              0.2222222222222222,
              "#7201a8"
             ],
             [
              0.3333333333333333,
              "#9c179e"
             ],
             [
              0.4444444444444444,
              "#bd3786"
             ],
             [
              0.5555555555555556,
              "#d8576b"
             ],
             [
              0.6666666666666666,
              "#ed7953"
             ],
             [
              0.7777777777777778,
              "#fb9f3a"
             ],
             [
              0.8888888888888888,
              "#fdca26"
             ],
             [
              1,
              "#f0f921"
             ]
            ],
            "type": "contour"
           }
          ],
          "contourcarpet": [
           {
            "colorbar": {
             "outlinewidth": 0,
             "ticks": ""
            },
            "type": "contourcarpet"
           }
          ],
          "heatmap": [
           {
            "colorbar": {
             "outlinewidth": 0,
             "ticks": ""
            },
            "colorscale": [
             [
              0,
              "#0d0887"
             ],
             [
              0.1111111111111111,
              "#46039f"
             ],
             [
              0.2222222222222222,
              "#7201a8"
             ],
             [
              0.3333333333333333,
              "#9c179e"
             ],
             [
              0.4444444444444444,
              "#bd3786"
             ],
             [
              0.5555555555555556,
              "#d8576b"
             ],
             [
              0.6666666666666666,
              "#ed7953"
             ],
             [
              0.7777777777777778,
              "#fb9f3a"
             ],
             [
              0.8888888888888888,
              "#fdca26"
             ],
             [
              1,
              "#f0f921"
             ]
            ],
            "type": "heatmap"
           }
          ],
          "heatmapgl": [
           {
            "colorbar": {
             "outlinewidth": 0,
             "ticks": ""
            },
            "colorscale": [
             [
              0,
              "#0d0887"
             ],
             [
              0.1111111111111111,
              "#46039f"
             ],
             [
              0.2222222222222222,
              "#7201a8"
             ],
             [
              0.3333333333333333,
              "#9c179e"
             ],
             [
              0.4444444444444444,
              "#bd3786"
             ],
             [
              0.5555555555555556,
              "#d8576b"
             ],
             [
              0.6666666666666666,
              "#ed7953"
             ],
             [
              0.7777777777777778,
              "#fb9f3a"
             ],
             [
              0.8888888888888888,
              "#fdca26"
             ],
             [
              1,
              "#f0f921"
             ]
            ],
            "type": "heatmapgl"
           }
          ],
          "histogram": [
           {
            "marker": {
             "colorbar": {
              "outlinewidth": 0,
              "ticks": ""
             }
            },
            "type": "histogram"
           }
          ],
          "histogram2d": [
           {
            "colorbar": {
             "outlinewidth": 0,
             "ticks": ""
            },
            "colorscale": [
             [
              0,
              "#0d0887"
             ],
             [
              0.1111111111111111,
              "#46039f"
             ],
             [
              0.2222222222222222,
              "#7201a8"
             ],
             [
              0.3333333333333333,
              "#9c179e"
             ],
             [
              0.4444444444444444,
              "#bd3786"
             ],
             [
              0.5555555555555556,
              "#d8576b"
             ],
             [
              0.6666666666666666,
              "#ed7953"
             ],
             [
              0.7777777777777778,
              "#fb9f3a"
             ],
             [
              0.8888888888888888,
              "#fdca26"
             ],
             [
              1,
              "#f0f921"
             ]
            ],
            "type": "histogram2d"
           }
          ],
          "histogram2dcontour": [
           {
            "colorbar": {
             "outlinewidth": 0,
             "ticks": ""
            },
            "colorscale": [
             [
              0,
              "#0d0887"
             ],
             [
              0.1111111111111111,
              "#46039f"
             ],
             [
              0.2222222222222222,
              "#7201a8"
             ],
             [
              0.3333333333333333,
              "#9c179e"
             ],
             [
              0.4444444444444444,
              "#bd3786"
             ],
             [
              0.5555555555555556,
              "#d8576b"
             ],
             [
              0.6666666666666666,
              "#ed7953"
             ],
             [
              0.7777777777777778,
              "#fb9f3a"
             ],
             [
              0.8888888888888888,
              "#fdca26"
             ],
             [
              1,
              "#f0f921"
             ]
            ],
            "type": "histogram2dcontour"
           }
          ],
          "mesh3d": [
           {
            "colorbar": {
             "outlinewidth": 0,
             "ticks": ""
            },
            "type": "mesh3d"
           }
          ],
          "parcoords": [
           {
            "line": {
             "colorbar": {
              "outlinewidth": 0,
              "ticks": ""
             }
            },
            "type": "parcoords"
           }
          ],
          "pie": [
           {
            "automargin": true,
            "type": "pie"
           }
          ],
          "scatter": [
           {
            "marker": {
             "colorbar": {
              "outlinewidth": 0,
              "ticks": ""
             }
            },
            "type": "scatter"
           }
          ],
          "scatter3d": [
           {
            "line": {
             "colorbar": {
              "outlinewidth": 0,
              "ticks": ""
             }
            },
            "marker": {
             "colorbar": {
              "outlinewidth": 0,
              "ticks": ""
             }
            },
            "type": "scatter3d"
           }
          ],
          "scattercarpet": [
           {
            "marker": {
             "colorbar": {
              "outlinewidth": 0,
              "ticks": ""
             }
            },
            "type": "scattercarpet"
           }
          ],
          "scattergeo": [
           {
            "marker": {
             "colorbar": {
              "outlinewidth": 0,
              "ticks": ""
             }
            },
            "type": "scattergeo"
           }
          ],
          "scattergl": [
           {
            "marker": {
             "colorbar": {
              "outlinewidth": 0,
              "ticks": ""
             }
            },
            "type": "scattergl"
           }
          ],
          "scattermapbox": [
           {
            "marker": {
             "colorbar": {
              "outlinewidth": 0,
              "ticks": ""
             }
            },
            "type": "scattermapbox"
           }
          ],
          "scatterpolar": [
           {
            "marker": {
             "colorbar": {
              "outlinewidth": 0,
              "ticks": ""
             }
            },
            "type": "scatterpolar"
           }
          ],
          "scatterpolargl": [
           {
            "marker": {
             "colorbar": {
              "outlinewidth": 0,
              "ticks": ""
             }
            },
            "type": "scatterpolargl"
           }
          ],
          "scatterternary": [
           {
            "marker": {
             "colorbar": {
              "outlinewidth": 0,
              "ticks": ""
             }
            },
            "type": "scatterternary"
           }
          ],
          "surface": [
           {
            "colorbar": {
             "outlinewidth": 0,
             "ticks": ""
            },
            "colorscale": [
             [
              0,
              "#0d0887"
             ],
             [
              0.1111111111111111,
              "#46039f"
             ],
             [
              0.2222222222222222,
              "#7201a8"
             ],
             [
              0.3333333333333333,
              "#9c179e"
             ],
             [
              0.4444444444444444,
              "#bd3786"
             ],
             [
              0.5555555555555556,
              "#d8576b"
             ],
             [
              0.6666666666666666,
              "#ed7953"
             ],
             [
              0.7777777777777778,
              "#fb9f3a"
             ],
             [
              0.8888888888888888,
              "#fdca26"
             ],
             [
              1,
              "#f0f921"
             ]
            ],
            "type": "surface"
           }
          ],
          "table": [
           {
            "cells": {
             "fill": {
              "color": "#EBF0F8"
             },
             "line": {
              "color": "white"
             }
            },
            "header": {
             "fill": {
              "color": "#C8D4E3"
             },
             "line": {
              "color": "white"
             }
            },
            "type": "table"
           }
          ]
         },
         "layout": {
          "annotationdefaults": {
           "arrowcolor": "#2a3f5f",
           "arrowhead": 0,
           "arrowwidth": 1
          },
          "coloraxis": {
           "colorbar": {
            "outlinewidth": 0,
            "ticks": ""
           }
          },
          "colorscale": {
           "diverging": [
            [
             0,
             "#8e0152"
            ],
            [
             0.1,
             "#c51b7d"
            ],
            [
             0.2,
             "#de77ae"
            ],
            [
             0.3,
             "#f1b6da"
            ],
            [
             0.4,
             "#fde0ef"
            ],
            [
             0.5,
             "#f7f7f7"
            ],
            [
             0.6,
             "#e6f5d0"
            ],
            [
             0.7,
             "#b8e186"
            ],
            [
             0.8,
             "#7fbc41"
            ],
            [
             0.9,
             "#4d9221"
            ],
            [
             1,
             "#276419"
            ]
           ],
           "sequential": [
            [
             0,
             "#0d0887"
            ],
            [
             0.1111111111111111,
             "#46039f"
            ],
            [
             0.2222222222222222,
             "#7201a8"
            ],
            [
             0.3333333333333333,
             "#9c179e"
            ],
            [
             0.4444444444444444,
             "#bd3786"
            ],
            [
             0.5555555555555556,
             "#d8576b"
            ],
            [
             0.6666666666666666,
             "#ed7953"
            ],
            [
             0.7777777777777778,
             "#fb9f3a"
            ],
            [
             0.8888888888888888,
             "#fdca26"
            ],
            [
             1,
             "#f0f921"
            ]
           ],
           "sequentialminus": [
            [
             0,
             "#0d0887"
            ],
            [
             0.1111111111111111,
             "#46039f"
            ],
            [
             0.2222222222222222,
             "#7201a8"
            ],
            [
             0.3333333333333333,
             "#9c179e"
            ],
            [
             0.4444444444444444,
             "#bd3786"
            ],
            [
             0.5555555555555556,
             "#d8576b"
            ],
            [
             0.6666666666666666,
             "#ed7953"
            ],
            [
             0.7777777777777778,
             "#fb9f3a"
            ],
            [
             0.8888888888888888,
             "#fdca26"
            ],
            [
             1,
             "#f0f921"
            ]
           ]
          },
          "colorway": [
           "#636efa",
           "#EF553B",
           "#00cc96",
           "#ab63fa",
           "#FFA15A",
           "#19d3f3",
           "#FF6692",
           "#B6E880",
           "#FF97FF",
           "#FECB52"
          ],
          "font": {
           "color": "#2a3f5f"
          },
          "geo": {
           "bgcolor": "white",
           "lakecolor": "white",
           "landcolor": "#E5ECF6",
           "showlakes": true,
           "showland": true,
           "subunitcolor": "white"
          },
          "hoverlabel": {
           "align": "left"
          },
          "hovermode": "closest",
          "mapbox": {
           "style": "light"
          },
          "paper_bgcolor": "white",
          "plot_bgcolor": "#E5ECF6",
          "polar": {
           "angularaxis": {
            "gridcolor": "white",
            "linecolor": "white",
            "ticks": ""
           },
           "bgcolor": "#E5ECF6",
           "radialaxis": {
            "gridcolor": "white",
            "linecolor": "white",
            "ticks": ""
           }
          },
          "scene": {
           "xaxis": {
            "backgroundcolor": "#E5ECF6",
            "gridcolor": "white",
            "gridwidth": 2,
            "linecolor": "white",
            "showbackground": true,
            "ticks": "",
            "zerolinecolor": "white"
           },
           "yaxis": {
            "backgroundcolor": "#E5ECF6",
            "gridcolor": "white",
            "gridwidth": 2,
            "linecolor": "white",
            "showbackground": true,
            "ticks": "",
            "zerolinecolor": "white"
           },
           "zaxis": {
            "backgroundcolor": "#E5ECF6",
            "gridcolor": "white",
            "gridwidth": 2,
            "linecolor": "white",
            "showbackground": true,
            "ticks": "",
            "zerolinecolor": "white"
           }
          },
          "shapedefaults": {
           "line": {
            "color": "#2a3f5f"
           }
          },
          "ternary": {
           "aaxis": {
            "gridcolor": "white",
            "linecolor": "white",
            "ticks": ""
           },
           "baxis": {
            "gridcolor": "white",
            "linecolor": "white",
            "ticks": ""
           },
           "bgcolor": "#E5ECF6",
           "caxis": {
            "gridcolor": "white",
            "linecolor": "white",
            "ticks": ""
           }
          },
          "title": {
           "x": 0.05
          },
          "xaxis": {
           "automargin": true,
           "gridcolor": "white",
           "linecolor": "white",
           "ticks": "",
           "title": {
            "standoff": 15
           },
           "zerolinecolor": "white",
           "zerolinewidth": 2
          },
          "yaxis": {
           "automargin": true,
           "gridcolor": "white",
           "linecolor": "white",
           "ticks": "",
           "title": {
            "standoff": 15
           },
           "zerolinecolor": "white",
           "zerolinewidth": 2
          }
         }
        },
        "title": {
         "text": "<b>Sanción por Comuna<b>",
         "x": 0.135,
         "xanchor": "left",
         "y": 0.9,
         "yanchor": "top"
        },
        "xaxis": {
         "anchor": "y",
         "domain": [
          0,
          1
         ],
         "title": {
          "text": "AÑO"
         }
        },
        "yaxis": {
         "anchor": "x",
         "domain": [
          0,
          1
         ],
         "tickformat": "$,.",
         "title": {
          "text": "SANCION"
         }
        }
       }
      },
      "text/html": [
       "<div>                            <div id=\"5bfee493-c44c-4161-923b-fa4bfab8a41c\" class=\"plotly-graph-div\" style=\"height:525px; width:100%;\"></div>            <script type=\"text/javascript\">                require([\"plotly\"], function(Plotly) {                    window.PLOTLYENV=window.PLOTLYENV || {};                                    if (document.getElementById(\"5bfee493-c44c-4161-923b-fa4bfab8a41c\")) {                    Plotly.newPlot(                        \"5bfee493-c44c-4161-923b-fa4bfab8a41c\",                        [{\"alignmentgroup\": \"True\", \"hovertemplate\": \"UBICACION_GEOGRAFICA=COMUNA 10<br>A\\u00d1O=%{x}<br>SANCION=%{y}<extra></extra>\", \"legendgroup\": \"COMUNA 10\", \"marker\": {\"color\": \"#636efa\"}, \"name\": \"COMUNA 10\", \"offsetgroup\": \"COMUNA 10\", \"orientation\": \"v\", \"showlegend\": true, \"textposition\": \"auto\", \"type\": \"bar\", \"x\": [2017, 2016, 2011, 2018, 2013, 2012, 2015, 2014, 2019], \"xaxis\": \"x\", \"y\": [288000.0, 358621.0, 4041091.0, 4423160.0, 5191485.0, 6404320.0, 9031933.0, 14236300.0, 38849910.0], \"yaxis\": \"y\"}, {\"alignmentgroup\": \"True\", \"hovertemplate\": \"UBICACION_GEOGRAFICA=COMUNA 11<br>A\\u00d1O=%{x}<br>SANCION=%{y}<extra></extra>\", \"legendgroup\": \"COMUNA 11\", \"marker\": {\"color\": \"#EF553B\"}, \"name\": \"COMUNA 11\", \"offsetgroup\": \"COMUNA 11\", \"orientation\": \"v\", \"showlegend\": true, \"textposition\": \"auto\", \"type\": \"bar\", \"x\": [2016, 2018, 2017, 2011, 2019, 2012, 2013, 2014, 2015], \"xaxis\": \"x\", \"y\": [358621.0, 2245430.0, 3125916.0, 3357126.0, 4790279.0, 6818835.0, 8834906.0, 14236300.0, 14439283.0], \"yaxis\": \"y\"}, {\"alignmentgroup\": \"True\", \"hovertemplate\": \"UBICACION_GEOGRAFICA=COMUNA 5<br>A\\u00d1O=%{x}<br>SANCION=%{y}<extra></extra>\", \"legendgroup\": \"COMUNA 5\", \"marker\": {\"color\": \"#00cc96\"}, \"name\": \"COMUNA 5\", \"offsetgroup\": \"COMUNA 5\", \"orientation\": \"v\", \"showlegend\": true, \"textposition\": \"auto\", \"type\": \"bar\", \"x\": [2016, 2011, 2015, 2013, 2012, 2017, 2018, 2019, 2014], \"xaxis\": \"x\", \"y\": [717242.0, 2506366.0, 2677533.0, 2759967.0, 4106099.0, 6725916.0, 7597820.0, 8824048.0, 14256300.0], \"yaxis\": \"y\"}, {\"alignmentgroup\": \"True\", \"hovertemplate\": \"UBICACION_GEOGRAFICA=COMUNA 8<br>A\\u00d1O=%{x}<br>SANCION=%{y}<extra></extra>\", \"legendgroup\": \"COMUNA 8\", \"marker\": {\"color\": \"#ab63fa\"}, \"name\": \"COMUNA 8\", \"offsetgroup\": \"COMUNA 8\", \"orientation\": \"v\", \"showlegend\": true, \"textposition\": \"auto\", \"type\": \"bar\", \"x\": [2017, 2016, 2018, 2011, 2015, 2014, 2012, 2013, 2019], \"xaxis\": \"x\", \"y\": [752002.0, 3265354.0, 10815070.0, 11433311.0, 20549283.0, 25906800.0, 27352340.0, 29264293.0, 43885886.0], \"yaxis\": \"y\"}, {\"alignmentgroup\": \"True\", \"hovertemplate\": \"UBICACION_GEOGRAFICA=COMUNA 14<br>A\\u00d1O=%{x}<br>SANCION=%{y}<extra></extra>\", \"legendgroup\": \"COMUNA 14\", \"marker\": {\"color\": \"#FFA15A\"}, \"name\": \"COMUNA 14\", \"offsetgroup\": \"COMUNA 14\", \"orientation\": \"v\", \"showlegend\": true, \"textposition\": \"auto\", \"type\": \"bar\", \"x\": [2010, 2012, 2011, 2013, 2014, 2015, 2016, 2019, 2018, 2017], \"xaxis\": \"x\", \"y\": [1400000.0, 18606574.0, 19527989.0, 25637586.0, 41432647.0, 94621559.0, 123591476.0, 184815781.0, 199629904.0, 234894803.0], \"yaxis\": \"y\"}, {\"alignmentgroup\": \"True\", \"hovertemplate\": \"UBICACION_GEOGRAFICA=COMUNA 3<br>A\\u00d1O=%{x}<br>SANCION=%{y}<extra></extra>\", \"legendgroup\": \"COMUNA 3\", \"marker\": {\"color\": \"#19d3f3\"}, \"name\": \"COMUNA 3\", \"offsetgroup\": \"COMUNA 3\", \"orientation\": \"v\", \"showlegend\": true, \"textposition\": \"auto\", \"type\": \"bar\", \"x\": [2012, 2016, 2013, 2011, 2015, 2018, 2017, 2014, 2019], \"xaxis\": \"x\", \"y\": [1409086.0, 2016884.0, 2255674.0, 2506366.0, 4571633.0, 5422188.0, 7191458.0, 14261300.0, 42376813.0], \"yaxis\": \"y\"}, {\"alignmentgroup\": \"True\", \"hovertemplate\": \"UBICACION_GEOGRAFICA=COMUNA 2<br>A\\u00d1O=%{x}<br>SANCION=%{y}<extra></extra>\", \"legendgroup\": \"COMUNA 2\", \"marker\": {\"color\": \"#FF6692\"}, \"name\": \"COMUNA 2\", \"offsetgroup\": \"COMUNA 2\", \"orientation\": \"v\", \"showlegend\": true, \"textposition\": \"auto\", \"type\": \"bar\", \"x\": [2011, 2016, 2017, 2012, 2013, 2018, 2014, 2015, 2019], \"xaxis\": \"x\", \"y\": [2506366.0, 3048276.0, 5000000.0, 6581970.0, 10630954.0, 13180620.0, 14256300.0, 17555383.0, 47223095.0], \"yaxis\": \"y\"}, {\"alignmentgroup\": \"True\", \"hovertemplate\": \"UBICACION_GEOGRAFICA=COMUNA 6<br>A\\u00d1O=%{x}<br>SANCION=%{y}<extra></extra>\", \"legendgroup\": \"COMUNA 6\", \"marker\": {\"color\": \"#B6E880\"}, \"name\": \"COMUNA 6\", \"offsetgroup\": \"COMUNA 6\", \"orientation\": \"v\", \"showlegend\": true, \"textposition\": \"auto\", \"type\": \"bar\", \"x\": [2011, 2012, 2016, 2013, 2015, 2014, 2017, 2018, 2019], \"xaxis\": \"x\", \"y\": [2506366.0, 8318049.0, 9589567.0, 10008073.0, 13477316.0, 14415300.0, 18919833.0, 40180008.0, 72378735.0], \"yaxis\": \"y\"}, {\"alignmentgroup\": \"True\", \"hovertemplate\": \"UBICACION_GEOGRAFICA=COMUNA 12<br>A\\u00d1O=%{x}<br>SANCION=%{y}<extra></extra>\", \"legendgroup\": \"COMUNA 12\", \"marker\": {\"color\": \"#FF97FF\"}, \"name\": \"COMUNA 12\", \"offsetgroup\": \"COMUNA 12\", \"orientation\": \"v\", \"showlegend\": true, \"textposition\": \"auto\", \"type\": \"bar\", \"x\": [2011, 2012, 2014, 2013, 2015, 2016, 2017, 2018, 2019], \"xaxis\": \"x\", \"y\": [3357126.0, 8343438.0, 14236300.0, 18468298.0, 21740733.0, 27889099.0, 38014427.0, 47496266.0, 59492271.0], \"yaxis\": \"y\"}, {\"alignmentgroup\": \"True\", \"hovertemplate\": \"UBICACION_GEOGRAFICA=COMUNA 15<br>A\\u00d1O=%{x}<br>SANCION=%{y}<extra></extra>\", \"legendgroup\": \"COMUNA 15\", \"marker\": {\"color\": \"#FECB52\"}, \"name\": \"COMUNA 15\", \"offsetgroup\": \"COMUNA 15\", \"orientation\": \"v\", \"showlegend\": true, \"textposition\": \"auto\", \"type\": \"bar\", \"x\": [2011, 2012, 2014, 2015, 2013, 2016, 2017, 2018, 2019], \"xaxis\": \"x\", \"y\": [3357126.0, 5780012.0, 14588827.0, 14653133.0, 20831082.0, 35750817.0, 67839794.0, 68863620.0, 93436001.0], \"yaxis\": \"y\"}, {\"alignmentgroup\": \"True\", \"hovertemplate\": \"UBICACION_GEOGRAFICA=COMUNA 7<br>A\\u00d1O=%{x}<br>SANCION=%{y}<extra></extra>\", \"legendgroup\": \"COMUNA 7\", \"marker\": {\"color\": \"#636efa\"}, \"name\": \"COMUNA 7\", \"offsetgroup\": \"COMUNA 7\", \"orientation\": \"v\", \"showlegend\": true, \"textposition\": \"auto\", \"type\": \"bar\", \"x\": [2011, 2012, 2014, 2016, 2013, 2015, 2017, 2018, 2019], \"xaxis\": \"x\", \"y\": [4041091.0, 11814303.0, 14241300.0, 16640953.0, 23515684.0, 28834033.0, 39834514.0, 41510062.0, 68213428.0], \"yaxis\": \"y\"}, {\"alignmentgroup\": \"True\", \"hovertemplate\": \"UBICACION_GEOGRAFICA=COMUNA 4<br>A\\u00d1O=%{x}<br>SANCION=%{y}<extra></extra>\", \"legendgroup\": \"COMUNA 4\", \"marker\": {\"color\": \"#EF553B\"}, \"name\": \"COMUNA 4\", \"offsetgroup\": \"COMUNA 4\", \"orientation\": \"v\", \"showlegend\": true, \"textposition\": \"auto\", \"type\": \"bar\", \"x\": [2018, 2011, 2012, 2017, 2014, 2013, 2016, 2015, 2019], \"xaxis\": \"x\", \"y\": [5487340.0, 7097918.0, 11364805.0, 11439658.0, 14261300.0, 18858723.0, 24372650.0, 25009583.0, 143107034.0], \"yaxis\": \"y\"}, {\"alignmentgroup\": \"True\", \"hovertemplate\": \"UBICACION_GEOGRAFICA=COMUNA 9<br>A\\u00d1O=%{x}<br>SANCION=%{y}<extra></extra>\", \"legendgroup\": \"COMUNA 9\", \"marker\": {\"color\": \"#00cc96\"}, \"name\": \"COMUNA 9\", \"offsetgroup\": \"COMUNA 9\", \"orientation\": \"v\", \"showlegend\": true, \"textposition\": \"auto\", \"type\": \"bar\", \"x\": [2011, 2015, 2013, 2016, 2014, 2012, 2017, 2018, 2019], \"xaxis\": \"x\", \"y\": [5679141.0, 10645167.0, 12326941.0, 14242118.0, 14938300.0, 29249610.0, 38094114.0, 42484011.0, 66794573.0], \"yaxis\": \"y\"}, {\"alignmentgroup\": \"True\", \"hovertemplate\": \"UBICACION_GEOGRAFICA=COMUNA 13<br>A\\u00d1O=%{x}<br>SANCION=%{y}<extra></extra>\", \"legendgroup\": \"COMUNA 13\", \"marker\": {\"color\": \"#ab63fa\"}, \"name\": \"COMUNA 13\", \"offsetgroup\": \"COMUNA 13\", \"orientation\": \"v\", \"showlegend\": true, \"textposition\": \"auto\", \"type\": \"bar\", \"x\": [2011, 2013, 2012, 2014, 2016, 2015, 2017, 2018, 2019], \"xaxis\": \"x\", \"y\": [9699505.0, 11315877.0, 13078107.0, 14358300.0, 26513349.0, 39332587.0, 58439089.0, 95083050.0, 106052286.0], \"yaxis\": \"y\"}, {\"alignmentgroup\": \"True\", \"hovertemplate\": \"UBICACION_GEOGRAFICA=COMUNA 1<br>A\\u00d1O=%{x}<br>SANCION=%{y}<extra></extra>\", \"legendgroup\": \"COMUNA 1\", \"marker\": {\"color\": \"#FFA15A\"}, \"name\": \"COMUNA 1\", \"offsetgroup\": \"COMUNA 1\", \"orientation\": \"v\", \"showlegend\": true, \"textposition\": \"auto\", \"type\": \"bar\", \"x\": [2012, 2010, 2014, 2011, 2013, 2015, 2016, 2017, 2018, 2019], \"xaxis\": \"x\", \"y\": [63397083.0, 76868026.0, 82934846.0, 100422622.0, 106809673.0, 155008553.0, 284455961.0, 317506684.0, 416214329.0, 473207692.0], \"yaxis\": \"y\"}],                        {\"barmode\": \"relative\", \"legend\": {\"title\": {\"text\": \"UBICACION_GEOGRAFICA\"}, \"tracegroupgap\": 0}, \"plot_bgcolor\": \"white\", \"template\": {\"data\": {\"bar\": [{\"error_x\": {\"color\": \"#2a3f5f\"}, \"error_y\": {\"color\": \"#2a3f5f\"}, \"marker\": {\"line\": {\"color\": \"#E5ECF6\", \"width\": 0.5}}, \"type\": \"bar\"}], \"barpolar\": [{\"marker\": {\"line\": {\"color\": \"#E5ECF6\", \"width\": 0.5}}, \"type\": \"barpolar\"}], \"carpet\": [{\"aaxis\": {\"endlinecolor\": \"#2a3f5f\", \"gridcolor\": \"white\", \"linecolor\": \"white\", \"minorgridcolor\": \"white\", \"startlinecolor\": \"#2a3f5f\"}, \"baxis\": {\"endlinecolor\": \"#2a3f5f\", \"gridcolor\": \"white\", \"linecolor\": \"white\", \"minorgridcolor\": \"white\", \"startlinecolor\": \"#2a3f5f\"}, \"type\": \"carpet\"}], \"choropleth\": [{\"colorbar\": {\"outlinewidth\": 0, \"ticks\": \"\"}, \"type\": \"choropleth\"}], \"contour\": [{\"colorbar\": {\"outlinewidth\": 0, \"ticks\": \"\"}, \"colorscale\": [[0.0, \"#0d0887\"], [0.1111111111111111, \"#46039f\"], [0.2222222222222222, \"#7201a8\"], [0.3333333333333333, \"#9c179e\"], [0.4444444444444444, \"#bd3786\"], [0.5555555555555556, \"#d8576b\"], [0.6666666666666666, \"#ed7953\"], [0.7777777777777778, \"#fb9f3a\"], [0.8888888888888888, \"#fdca26\"], [1.0, \"#f0f921\"]], \"type\": \"contour\"}], \"contourcarpet\": [{\"colorbar\": {\"outlinewidth\": 0, \"ticks\": \"\"}, \"type\": \"contourcarpet\"}], \"heatmap\": [{\"colorbar\": {\"outlinewidth\": 0, \"ticks\": \"\"}, \"colorscale\": [[0.0, \"#0d0887\"], [0.1111111111111111, \"#46039f\"], [0.2222222222222222, \"#7201a8\"], [0.3333333333333333, \"#9c179e\"], [0.4444444444444444, \"#bd3786\"], [0.5555555555555556, \"#d8576b\"], [0.6666666666666666, \"#ed7953\"], [0.7777777777777778, \"#fb9f3a\"], [0.8888888888888888, \"#fdca26\"], [1.0, \"#f0f921\"]], \"type\": \"heatmap\"}], \"heatmapgl\": [{\"colorbar\": {\"outlinewidth\": 0, \"ticks\": \"\"}, \"colorscale\": [[0.0, \"#0d0887\"], [0.1111111111111111, \"#46039f\"], [0.2222222222222222, \"#7201a8\"], [0.3333333333333333, \"#9c179e\"], [0.4444444444444444, \"#bd3786\"], [0.5555555555555556, \"#d8576b\"], [0.6666666666666666, \"#ed7953\"], [0.7777777777777778, \"#fb9f3a\"], [0.8888888888888888, \"#fdca26\"], [1.0, \"#f0f921\"]], \"type\": \"heatmapgl\"}], \"histogram\": [{\"marker\": {\"colorbar\": {\"outlinewidth\": 0, \"ticks\": \"\"}}, \"type\": \"histogram\"}], \"histogram2d\": [{\"colorbar\": {\"outlinewidth\": 0, \"ticks\": \"\"}, \"colorscale\": [[0.0, \"#0d0887\"], [0.1111111111111111, \"#46039f\"], [0.2222222222222222, \"#7201a8\"], [0.3333333333333333, \"#9c179e\"], [0.4444444444444444, \"#bd3786\"], [0.5555555555555556, \"#d8576b\"], [0.6666666666666666, \"#ed7953\"], [0.7777777777777778, \"#fb9f3a\"], [0.8888888888888888, \"#fdca26\"], [1.0, \"#f0f921\"]], \"type\": \"histogram2d\"}], \"histogram2dcontour\": [{\"colorbar\": {\"outlinewidth\": 0, \"ticks\": \"\"}, \"colorscale\": [[0.0, \"#0d0887\"], [0.1111111111111111, \"#46039f\"], [0.2222222222222222, \"#7201a8\"], [0.3333333333333333, \"#9c179e\"], [0.4444444444444444, \"#bd3786\"], [0.5555555555555556, \"#d8576b\"], [0.6666666666666666, \"#ed7953\"], [0.7777777777777778, \"#fb9f3a\"], [0.8888888888888888, \"#fdca26\"], [1.0, \"#f0f921\"]], \"type\": \"histogram2dcontour\"}], \"mesh3d\": [{\"colorbar\": {\"outlinewidth\": 0, \"ticks\": \"\"}, \"type\": \"mesh3d\"}], \"parcoords\": [{\"line\": {\"colorbar\": {\"outlinewidth\": 0, \"ticks\": \"\"}}, \"type\": \"parcoords\"}], \"pie\": [{\"automargin\": true, \"type\": \"pie\"}], \"scatter\": [{\"marker\": {\"colorbar\": {\"outlinewidth\": 0, \"ticks\": \"\"}}, \"type\": \"scatter\"}], \"scatter3d\": [{\"line\": {\"colorbar\": {\"outlinewidth\": 0, \"ticks\": \"\"}}, \"marker\": {\"colorbar\": {\"outlinewidth\": 0, \"ticks\": \"\"}}, \"type\": \"scatter3d\"}], \"scattercarpet\": [{\"marker\": {\"colorbar\": {\"outlinewidth\": 0, \"ticks\": \"\"}}, \"type\": \"scattercarpet\"}], \"scattergeo\": [{\"marker\": {\"colorbar\": {\"outlinewidth\": 0, \"ticks\": \"\"}}, \"type\": \"scattergeo\"}], \"scattergl\": [{\"marker\": {\"colorbar\": {\"outlinewidth\": 0, \"ticks\": \"\"}}, \"type\": \"scattergl\"}], \"scattermapbox\": [{\"marker\": {\"colorbar\": {\"outlinewidth\": 0, \"ticks\": \"\"}}, \"type\": \"scattermapbox\"}], \"scatterpolar\": [{\"marker\": {\"colorbar\": {\"outlinewidth\": 0, \"ticks\": \"\"}}, \"type\": \"scatterpolar\"}], \"scatterpolargl\": [{\"marker\": {\"colorbar\": {\"outlinewidth\": 0, \"ticks\": \"\"}}, \"type\": \"scatterpolargl\"}], \"scatterternary\": [{\"marker\": {\"colorbar\": {\"outlinewidth\": 0, \"ticks\": \"\"}}, \"type\": \"scatterternary\"}], \"surface\": [{\"colorbar\": {\"outlinewidth\": 0, \"ticks\": \"\"}, \"colorscale\": [[0.0, \"#0d0887\"], [0.1111111111111111, \"#46039f\"], [0.2222222222222222, \"#7201a8\"], [0.3333333333333333, \"#9c179e\"], [0.4444444444444444, \"#bd3786\"], [0.5555555555555556, \"#d8576b\"], [0.6666666666666666, \"#ed7953\"], [0.7777777777777778, \"#fb9f3a\"], [0.8888888888888888, \"#fdca26\"], [1.0, \"#f0f921\"]], \"type\": \"surface\"}], \"table\": [{\"cells\": {\"fill\": {\"color\": \"#EBF0F8\"}, \"line\": {\"color\": \"white\"}}, \"header\": {\"fill\": {\"color\": \"#C8D4E3\"}, \"line\": {\"color\": \"white\"}}, \"type\": \"table\"}]}, \"layout\": {\"annotationdefaults\": {\"arrowcolor\": \"#2a3f5f\", \"arrowhead\": 0, \"arrowwidth\": 1}, \"coloraxis\": {\"colorbar\": {\"outlinewidth\": 0, \"ticks\": \"\"}}, \"colorscale\": {\"diverging\": [[0, \"#8e0152\"], [0.1, \"#c51b7d\"], [0.2, \"#de77ae\"], [0.3, \"#f1b6da\"], [0.4, \"#fde0ef\"], [0.5, \"#f7f7f7\"], [0.6, \"#e6f5d0\"], [0.7, \"#b8e186\"], [0.8, \"#7fbc41\"], [0.9, \"#4d9221\"], [1, \"#276419\"]], \"sequential\": [[0.0, \"#0d0887\"], [0.1111111111111111, \"#46039f\"], [0.2222222222222222, \"#7201a8\"], [0.3333333333333333, \"#9c179e\"], [0.4444444444444444, \"#bd3786\"], [0.5555555555555556, \"#d8576b\"], [0.6666666666666666, \"#ed7953\"], [0.7777777777777778, \"#fb9f3a\"], [0.8888888888888888, \"#fdca26\"], [1.0, \"#f0f921\"]], \"sequentialminus\": [[0.0, \"#0d0887\"], [0.1111111111111111, \"#46039f\"], [0.2222222222222222, \"#7201a8\"], [0.3333333333333333, \"#9c179e\"], [0.4444444444444444, \"#bd3786\"], [0.5555555555555556, \"#d8576b\"], [0.6666666666666666, \"#ed7953\"], [0.7777777777777778, \"#fb9f3a\"], [0.8888888888888888, \"#fdca26\"], [1.0, \"#f0f921\"]]}, \"colorway\": [\"#636efa\", \"#EF553B\", \"#00cc96\", \"#ab63fa\", \"#FFA15A\", \"#19d3f3\", \"#FF6692\", \"#B6E880\", \"#FF97FF\", \"#FECB52\"], \"font\": {\"color\": \"#2a3f5f\"}, \"geo\": {\"bgcolor\": \"white\", \"lakecolor\": \"white\", \"landcolor\": \"#E5ECF6\", \"showlakes\": true, \"showland\": true, \"subunitcolor\": \"white\"}, \"hoverlabel\": {\"align\": \"left\"}, \"hovermode\": \"closest\", \"mapbox\": {\"style\": \"light\"}, \"paper_bgcolor\": \"white\", \"plot_bgcolor\": \"#E5ECF6\", \"polar\": {\"angularaxis\": {\"gridcolor\": \"white\", \"linecolor\": \"white\", \"ticks\": \"\"}, \"bgcolor\": \"#E5ECF6\", \"radialaxis\": {\"gridcolor\": \"white\", \"linecolor\": \"white\", \"ticks\": \"\"}}, \"scene\": {\"xaxis\": {\"backgroundcolor\": \"#E5ECF6\", \"gridcolor\": \"white\", \"gridwidth\": 2, \"linecolor\": \"white\", \"showbackground\": true, \"ticks\": \"\", \"zerolinecolor\": \"white\"}, \"yaxis\": {\"backgroundcolor\": \"#E5ECF6\", \"gridcolor\": \"white\", \"gridwidth\": 2, \"linecolor\": \"white\", \"showbackground\": true, \"ticks\": \"\", \"zerolinecolor\": \"white\"}, \"zaxis\": {\"backgroundcolor\": \"#E5ECF6\", \"gridcolor\": \"white\", \"gridwidth\": 2, \"linecolor\": \"white\", \"showbackground\": true, \"ticks\": \"\", \"zerolinecolor\": \"white\"}}, \"shapedefaults\": {\"line\": {\"color\": \"#2a3f5f\"}}, \"ternary\": {\"aaxis\": {\"gridcolor\": \"white\", \"linecolor\": \"white\", \"ticks\": \"\"}, \"baxis\": {\"gridcolor\": \"white\", \"linecolor\": \"white\", \"ticks\": \"\"}, \"bgcolor\": \"#E5ECF6\", \"caxis\": {\"gridcolor\": \"white\", \"linecolor\": \"white\", \"ticks\": \"\"}}, \"title\": {\"x\": 0.05}, \"xaxis\": {\"automargin\": true, \"gridcolor\": \"white\", \"linecolor\": \"white\", \"ticks\": \"\", \"title\": {\"standoff\": 15}, \"zerolinecolor\": \"white\", \"zerolinewidth\": 2}, \"yaxis\": {\"automargin\": true, \"gridcolor\": \"white\", \"linecolor\": \"white\", \"ticks\": \"\", \"title\": {\"standoff\": 15}, \"zerolinecolor\": \"white\", \"zerolinewidth\": 2}}}, \"title\": {\"text\": \"<b>Sanci\\u00f3n por Comuna<b>\", \"x\": 0.135, \"xanchor\": \"left\", \"y\": 0.9, \"yanchor\": \"top\"}, \"xaxis\": {\"anchor\": \"y\", \"domain\": [0.0, 1.0], \"title\": {\"text\": \"A\\u00d1O\"}}, \"yaxis\": {\"anchor\": \"x\", \"domain\": [0.0, 1.0], \"tickformat\": \"$,.\", \"title\": {\"text\": \"SANCION\"}}},                        {\"responsive\": true}                    ).then(function(){\n",
       "                            \n",
       "var gd = document.getElementById('5bfee493-c44c-4161-923b-fa4bfab8a41c');\n",
       "var x = new MutationObserver(function (mutations, observer) {{\n",
       "        var display = window.getComputedStyle(gd).display;\n",
       "        if (!display || display === 'none') {{\n",
       "            console.log([gd, 'removed!']);\n",
       "            Plotly.purge(gd);\n",
       "            observer.disconnect();\n",
       "        }}\n",
       "}});\n",
       "\n",
       "// Listen for the removal of the full notebook cells\n",
       "var notebookContainer = gd.closest('#notebook-container');\n",
       "if (notebookContainer) {{\n",
       "    x.observe(notebookContainer, {childList: true});\n",
       "}}\n",
       "\n",
       "// Listen for the clearing of the current output cell\n",
       "var outputEl = gd.closest('.output');\n",
       "if (outputEl) {{\n",
       "    x.observe(outputEl, {childList: true});\n",
       "}}\n",
       "\n",
       "                        })                };                });            </script>        </div>"
      ]
     },
     "metadata": {},
     "output_type": "display_data"
    }
   ],
   "source": [
    "fig = px.bar(sancion_espacios_verdes, x=\"AÑO\", y=\"SANCION\", color=\"UBICACION_GEOGRAFICA\",\n",
    "             title=\"<b>Sanción por Comuna<b>\")\n",
    "fig = fig.update_layout(\n",
    "    title={\n",
    "        'y':0.9,\n",
    "        'x':0.135,\n",
    "        'xanchor': 'left',\n",
    "        'yanchor': 'top'},\n",
    "        plot_bgcolor='white')\n",
    "\n",
    "fig = fig.update_layout(yaxis_tickformat = '$,.')\n",
    "\n",
    "fig.show()"
   ]
  },
  {
   "cell_type": "code",
   "execution_count": 183,
   "metadata": {},
   "outputs": [],
   "source": [
    "aux = sancion_espacios_verdes.groupby('UBICACION_GEOGRAFICA').sum().sort_values(by='SANCION', ascending=False)"
   ]
  },
  {
   "cell_type": "markdown",
   "metadata": {},
   "source": [
    "1. **Comuna 1:**  Sigue tendencia creciente\n",
    "9. **Comuna 9:**  Sigue tendencia creciente\n",
    "6. **Comuna 6:**  Sigue tendencia creciente\n",
    "12. **Comuna 12:** Sigue tendencia creciente\n",
    "13. **Comuna 13:** Sigue tendencia creciente\n",
    "15. **Comuna 15:** Sigue tendencia creciente\n",
    "\n",
    "\n",
    "2. **Comuna 2:**  Revisar datos. En 2016 hay una caida muy fuerte.\n",
    "7. **Comuna 7:**  Caida en 2016\n",
    "8. **Comuna 8:**  Brusca caida 2016 y 2017. Pico fuerte en 2019\n",
    "10. **Comuna 10:** Brusca caida 2016 y 2017. Pico fuerte en 2019\n",
    "\n",
    "\n",
    "\n",
    "3. **Comuna 3:**  Picos de inversión muy fuertes en 2014 y 2019\n",
    "4. **Comuna 4:**  Pico de inversión muy fuerte en 2019\n",
    "\n",
    "5. **Comuna 5:**  Mayor inversión en 2014, cae mucho en 2016.\n",
    "11. **Comuna 11:** Inversión hasta 2015 y luego cae bruscamente y queda en niveles bajos.\n",
    "14. **Comuna 14:** Inversión hasta 2017, cae en los últimos años\n",
    "\n"
   ]
  },
  {
   "cell_type": "code",
   "execution_count": 158,
   "metadata": {
    "scrolled": true
   },
   "outputs": [
    {
     "data": {
      "text/html": [
       "<div>\n",
       "<style scoped>\n",
       "    .dataframe tbody tr th:only-of-type {\n",
       "        vertical-align: middle;\n",
       "    }\n",
       "\n",
       "    .dataframe tbody tr th {\n",
       "        vertical-align: top;\n",
       "    }\n",
       "\n",
       "    .dataframe thead tr th {\n",
       "        text-align: left;\n",
       "    }\n",
       "\n",
       "    .dataframe thead tr:last-of-type th {\n",
       "        text-align: right;\n",
       "    }\n",
       "</style>\n",
       "<table border=\"1\" class=\"dataframe\">\n",
       "  <thead>\n",
       "    <tr>\n",
       "      <th></th>\n",
       "      <th colspan=\"7\" halign=\"left\">SANCION</th>\n",
       "    </tr>\n",
       "    <tr>\n",
       "      <th>OBRA</th>\n",
       "      <th>ARBOLES HISTORICOS</th>\n",
       "      <th>CEMENTERIO RECOLETA CINERARIO Y MURO VERDE</th>\n",
       "      <th>MANTENIMIENTO DE MONUMENTOS</th>\n",
       "      <th>MANTENIMIENTO ESPACIOS VERDES LIC 248/2011</th>\n",
       "      <th>MANTENIMIENTO INTEGRAL Y LIMPIEZA DE FUENTES ORNAMENTALES</th>\n",
       "      <th>PROVISION Y EJECUCION DE SOLADO DRENANTE</th>\n",
       "      <th>TRABAJOS COMPLEMENTARIOS MANTENIMIENTO ESPACIOS VERDES</th>\n",
       "    </tr>\n",
       "    <tr>\n",
       "      <th>AÑO</th>\n",
       "      <th></th>\n",
       "      <th></th>\n",
       "      <th></th>\n",
       "      <th></th>\n",
       "      <th></th>\n",
       "      <th></th>\n",
       "      <th></th>\n",
       "    </tr>\n",
       "  </thead>\n",
       "  <tbody>\n",
       "    <tr>\n",
       "      <th>2015</th>\n",
       "      <td>nan</td>\n",
       "      <td>nan</td>\n",
       "      <td>nan</td>\n",
       "      <td>16222050.00</td>\n",
       "      <td>1333333.00</td>\n",
       "      <td>nan</td>\n",
       "      <td>nan</td>\n",
       "    </tr>\n",
       "    <tr>\n",
       "      <th>2016</th>\n",
       "      <td>nan</td>\n",
       "      <td>nan</td>\n",
       "      <td>nan</td>\n",
       "      <td>nan</td>\n",
       "      <td>3048276.00</td>\n",
       "      <td>nan</td>\n",
       "      <td>nan</td>\n",
       "    </tr>\n",
       "    <tr>\n",
       "      <th>2017</th>\n",
       "      <td>nan</td>\n",
       "      <td>5000000.00</td>\n",
       "      <td>nan</td>\n",
       "      <td>nan</td>\n",
       "      <td>nan</td>\n",
       "      <td>nan</td>\n",
       "      <td>nan</td>\n",
       "    </tr>\n",
       "    <tr>\n",
       "      <th>2018</th>\n",
       "      <td>405380.00</td>\n",
       "      <td>nan</td>\n",
       "      <td>846170.00</td>\n",
       "      <td>4563810.00</td>\n",
       "      <td>3917730.00</td>\n",
       "      <td>1094520.00</td>\n",
       "      <td>2353010.00</td>\n",
       "    </tr>\n",
       "    <tr>\n",
       "      <th>2019</th>\n",
       "      <td>1697342.00</td>\n",
       "      <td>nan</td>\n",
       "      <td>1140305.00</td>\n",
       "      <td>5058288.00</td>\n",
       "      <td>4414097.00</td>\n",
       "      <td>1196992.00</td>\n",
       "      <td>33716071.00</td>\n",
       "    </tr>\n",
       "  </tbody>\n",
       "</table>\n",
       "</div>"
      ],
      "text/plain": [
       "                SANCION                                             \\\n",
       "OBRA ARBOLES HISTORICOS CEMENTERIO RECOLETA CINERARIO Y MURO VERDE   \n",
       "AÑO                                                                  \n",
       "2015                nan                                        nan   \n",
       "2016                nan                                        nan   \n",
       "2017                nan                                 5000000.00   \n",
       "2018          405380.00                                        nan   \n",
       "2019         1697342.00                                        nan   \n",
       "\n",
       "                                                                             \\\n",
       "OBRA MANTENIMIENTO DE MONUMENTOS MANTENIMIENTO ESPACIOS VERDES LIC 248/2011   \n",
       "AÑO                                                                           \n",
       "2015                         nan                                16222050.00   \n",
       "2016                         nan                                        nan   \n",
       "2017                         nan                                        nan   \n",
       "2018                   846170.00                                 4563810.00   \n",
       "2019                  1140305.00                                 5058288.00   \n",
       "\n",
       "                                                                \\\n",
       "OBRA MANTENIMIENTO INTEGRAL Y LIMPIEZA DE FUENTES ORNAMENTALES   \n",
       "AÑO                                                              \n",
       "2015                                                1333333.00   \n",
       "2016                                                3048276.00   \n",
       "2017                                                       nan   \n",
       "2018                                                3917730.00   \n",
       "2019                                                4414097.00   \n",
       "\n",
       "                                               \\\n",
       "OBRA PROVISION Y EJECUCION DE SOLADO DRENANTE   \n",
       "AÑO                                             \n",
       "2015                                      nan   \n",
       "2016                                      nan   \n",
       "2017                                      nan   \n",
       "2018                               1094520.00   \n",
       "2019                               1196992.00   \n",
       "\n",
       "                                                             \n",
       "OBRA TRABAJOS COMPLEMENTARIOS MANTENIMIENTO ESPACIOS VERDES  \n",
       "AÑO                                                          \n",
       "2015                                                    nan  \n",
       "2016                                                    nan  \n",
       "2017                                                    nan  \n",
       "2018                                             2353010.00  \n",
       "2019                                            33716071.00  "
      ]
     },
     "execution_count": 158,
     "metadata": {},
     "output_type": "execute_result"
    }
   ],
   "source": [
    "c3 = espacios_verdes.loc[(espacios_verdes['UBICACION_GEOGRAFICA']=='COMUNA 2')]\n",
    "c3.groupby(['AÑO', 'OBRA']).sum().unstack().loc[2015:2019].dropna(how='all', axis=1)\n",
    "# espacios_verdes.loc[(espacios_verdes['UBICACION_GEOGRAFICA']=='COMUNA 2')&(espacios_verdes['AÑO']==2018)]"
   ]
  },
  {
   "cell_type": "code",
   "execution_count": null,
   "metadata": {},
   "outputs": [],
   "source": []
  },
  {
   "cell_type": "markdown",
   "metadata": {},
   "source": [
    "### Búsqueda de match por categoría de espacios verdes"
   ]
  },
  {
   "cell_type": "code",
   "execution_count": 122,
   "metadata": {
    "scrolled": true
   },
   "outputs": [
    {
     "data": {
      "text/plain": [
       "array(['PARQUE 3 DE FEBRERO',\n",
       "       'CUIDADO Y PUESTA EN VALOR DE GRANDES PARQUES',\n",
       "       'PARQUE AVELLANEDA', 'PARQUE INDOAMERICANO',\n",
       "       'PARQUE TRES DE FEBRERO - APERTURA GOLF MUNICIPAL',\n",
       "       'PARQUE DE LOS NIÑOS SECTOR LADO PROVINCIA',\n",
       "       'REUCN PARQUE URBANO Y RESERVA', 'PARQUE CHACABUCO',\n",
       "       'PARQUE ISLA DE LA PATERNAL', 'PARQUE LAS HERAS', 'PARQUE ALBERDI',\n",
       "       'PARQUE DE VOLEY PLAYA- VELODROMO', 'PARQUE ESTACION BUENOS AIRES'],\n",
       "      dtype=object)"
      ]
     },
     "execution_count": 122,
     "metadata": {},
     "output_type": "execute_result"
    }
   ],
   "source": [
    "a = espacios_verdes['ACTIVIDAD'].unique()\n",
    "a[['PARQUE' in x for x in a]]"
   ]
  },
  {
   "cell_type": "code",
   "execution_count": 123,
   "metadata": {
    "scrolled": true
   },
   "outputs": [
    {
     "data": {
      "text/plain": [
       "['CONDUCCION',\n",
       " 'ADMINISTRACION Y SERVICIOS GENERALES',\n",
       " 'CONTROL Y MANTENIMIENTO DE ESPACIOS VERDES',\n",
       " 'ESTUDIOS Y PROYECTOS',\n",
       " 'SERVICIOS ESPECIALES',\n",
       " 'GUARDIANES DE PLAZA',\n",
       " 'PARQUE 3 DE FEBRERO',\n",
       " 'RESERVA ECOLOGICA \"COSTANERA SUR\"',\n",
       " 'JARDIN BOTANICO \"CARLOS THAYS\"',\n",
       " 'VALORIZACION DE LOS ESPACIOS VERDES DE LA CIUDAD',\n",
       " 'ESTUDIOS, INVESTIGACIONES Y PROYECTOS DE FACTIBILIDAD',\n",
       " 'CUIDADO Y PUESTA EN VALOR DE GRANDES PARQUES',\n",
       " 'CUIDADO Y PUESTA EN VALOR DEL PATRIMONIO CULTURAL Y NATURAL DE LOS ESPACIOS VERDES',\n",
       " 'OPERATIVOS DE CONTROL Y MANTENIMIENTO DE ESPACIOS VERDES',\n",
       " 'PARQUE AVELLANEDA',\n",
       " 'PARQUE INDOAMERICANO',\n",
       " 'PUESTA EN VALOR EDIFICIOS',\n",
       " 'CUIDADO Y PUESTA EN VALOR PATRIMONIO CULTURAL Y NATURAL DE LOS ESPACIOS VERDES',\n",
       " 'RESERVA ECOLOGICA COSTANERA SUR',\n",
       " 'VALORIZACION DE LOS ESPACIOS VERDES',\n",
       " 'CUIDADO Y PUESTA EN VALOR PARIMONIO CULTURAL Y NATURAL DE LOS ESPACIOS VERDES',\n",
       " 'CUIDADO Y PRESERVACION DEL ARBOLADO URBANO',\n",
       " 'JARDIN BOTANICO CARLOS THAYS',\n",
       " 'A.CU.MAR - VALORIZACION DE LOS ESPACIOS VERDES',\n",
       " 'MANTENIMIENTO DE FUENTES, MONUMENTOS Y OBRAS DE ARTE',\n",
       " 'NUEVO ACCESO JARDIN BOTANICO DE LA CIUDAD DE BUENOS AIRES CARLOS THAYS',\n",
       " 'LICITACION PUBLICA MANTENIMIENTO INTEGRAL DE MUROS VERDES Y ZONAS ANEXAS',\n",
       " 'PARQUE TRES DE FEBRERO - APERTURA GOLF MUNICIPAL',\n",
       " '2DA ETAPA PM CHACARITA PLAZAS SOBRE GUZMAN',\n",
       " 'CIRCUITO AEROBICO ENTORNO GOLF',\n",
       " 'PUESTA EN VALOR DEL EX VELODROMO MUNICIPAL Y ENTORNO',\n",
       " 'PLAN MAESTRO CEMENTERIO FLORES',\n",
       " '2DA ETAPA PM CHACARITA PLAZA NEWBERY Y TRASL. OSARIO',\n",
       " 'CEMENTERIO RECOLETA CINERARIO Y MURO VERDE',\n",
       " 'EDIFICIO EX-PADELAI ETAPA 2',\n",
       " 'INTERVENCION CASONA OLIVERA Y PROYECTO AUSA',\n",
       " 'PARQUE DE LOS NIÑOS SECTOR LADO PROVINCIA',\n",
       " 'REUCN PARQUE URBANO Y RESERVA',\n",
       " '2DA ETAPA PLAYAS DE BOLSILLOS Y NODO 2 PLAYA',\n",
       " 'RESERVA ECOLOGICA LAGO LUGANO',\n",
       " '2DA ETAPA SENDEROS JARDIN BOTANICO, INGRESO PLAZA ITALIA',\n",
       " 'TERMINACION SECTOR ESPIGON PLUS ULTRA Y ENTORNO',\n",
       " 'PUERTO ARGENTINO COLON',\n",
       " 'PLAZAS PROVINCIALES 9 DE JULIO',\n",
       " 'PLAZA GOULD PUESTA EN VALOR INTEGRAL',\n",
       " 'PLAZA SICILIA RECUPERACION Y PUESTA EN VALOR',\n",
       " 'PLAZA HAITI RECUPERACION Y PUESTA EN VALOR',\n",
       " 'TRATAMIENTO ARCOS DORREGO Y ENTORNO',\n",
       " 'TRATAMIENTO CALLE LA PAMPA Y PLAZA RUSIA',\n",
       " 'ENTORNO ESTACION SALUDABLE SARMIENTO Y REGATAS',\n",
       " 'LA BOYERA RECUP. Y PUESTA EN VALOR',\n",
       " 'TRATAMIENTO ENTORNO VELODROMO SOBRE ALCORTA',\n",
       " 'TRATAMIENTO BAJO PUENTES ALCORTA',\n",
       " 'PUESTA EN VALOR PLAZA EGIPTO',\n",
       " 'HABILITACION TUNEL LIBERTADOR',\n",
       " 'PLAZA PUEYRREDON',\n",
       " 'MODULOS BAÑOS LAGO REGATAS',\n",
       " 'PLAZA DE MAYO',\n",
       " 'PADELAI ETAPA I',\n",
       " 'PARQUE CHACABUCO',\n",
       " 'EX ESMA',\n",
       " 'PARQUE ISLA DE LA PATERNAL',\n",
       " 'PLAZA CONGRESO',\n",
       " 'PARQUE LAS HERAS',\n",
       " 'PARQUE ALBERDI',\n",
       " 'MANTENIMIENTO ESPACIOS VERDES LIC 248/2011',\n",
       " 'MANTENIMIENTO INTEGRAL Y LIMPIEZA DE FUENTES ORNAMENTALES',\n",
       " 'PRESERVACION Y PUESTA EN VALOR DE ESPEJOS DE AGUA',\n",
       " 'TRABAJOS COMPLEMENTARIOS MANTENIMIENTO ESPACIOS VERDES',\n",
       " 'OBRAS DE ESPACIOS VERDES',\n",
       " 'PARQUE DE VOLEY PLAYA- VELODROMO',\n",
       " 'PARQUE ESTACION BUENOS AIRES']"
      ]
     },
     "execution_count": 123,
     "metadata": {},
     "output_type": "execute_result"
    }
   ],
   "source": [
    "a.tolist()"
   ]
  },
  {
   "cell_type": "code",
   "execution_count": 124,
   "metadata": {},
   "outputs": [
    {
     "data": {
      "text/plain": [
       "['CUIDADO Y PUESTA EN VALOR DE ESPACIOS VERDES',\n",
       " 'VALORIZACION DE LOS ESPACIOS VERDES DE LA CIUDAD',\n",
       " 'CUIDADO Y PUESTA EN VALOR DE GRANDES PARQUES',\n",
       " 'CUIDADO Y PUESTA EN VALOR DEL PATRIMONIO CULTURAL Y NATURAL DE LOS ESPACIOS VERDES',\n",
       " 'PUESTA EN VALOR EDIFICIOS',\n",
       " 'VALORIZACION DE LOS ESPACIOS VERDES',\n",
       " 'CUIDADO Y PRESERVACION DEL ARBOLADO URBANO',\n",
       " 'JARDIN BOTANICO CARLOS THAYS',\n",
       " 'A.CU.MAR - VALORIZACION DE LOS ESPACIOS VERDES',\n",
       " 'OBRAS DE ESPACIOS VERDES',\n",
       " 'OBRAS BA ELIGE EV',\n",
       " 'OBRAS DE ESPACIOS VERDES II']"
      ]
     },
     "execution_count": 124,
     "metadata": {},
     "output_type": "execute_result"
    }
   ],
   "source": [
    "espacios_verdes['PROYECTO'].unique().tolist()"
   ]
  },
  {
   "cell_type": "code",
   "execution_count": 125,
   "metadata": {},
   "outputs": [],
   "source": [
    "clasificaciones_espacios_verdes = ['PLAZOLETA', 'PARQUE', 'PLAZA', 'CANTERO', 'JARDIN',\n",
    "                                   'PASEO', 'PATIO',\n",
    "                                   'BARRIO', 'COMPLEJO', 'JARDIN BOTANICO',]"
   ]
  },
  {
   "cell_type": "markdown",
   "metadata": {},
   "source": [
    "**plazoleta, barrio, complejo, cantero central . No se encuentran en espacios verdes pero hay referencias en otras categorías.**"
   ]
  },
  {
   "cell_type": "code",
   "execution_count": 130,
   "metadata": {},
   "outputs": [
    {
     "name": "stdout",
     "output_type": "stream",
     "text": [
      "PROGRAMA PLAZOLETA 0\n",
      "[]\n",
      "\n",
      "SUBPROGRAMA PLAZOLETA 0\n",
      "[]\n",
      "\n",
      "PROYECTO PLAZOLETA 0\n",
      "[]\n",
      "\n",
      "ACTIVIDAD PLAZOLETA 0\n",
      "[]\n",
      "\n",
      "OBRA PLAZOLETA 14\n",
      "['PLAZOLETA WILLIAM MORRIS' 'PLAZOLETA GUANELLA' 'PLAZOLETA DISCEPOLO'\n",
      " 'PLAZOLETA HOMERO MANZI' 'PLAZOLETA JOSE LUIS ROMERO'\n",
      " 'PLAZOLETA AGUSTIN MAGALDI / MIGUEL UNAMUNO' 'PLAZOLETA TRONCOSO'\n",
      " 'PLAZOLETA VERACRUZ - VALPARAISO Y MARACAIBO']\n",
      "\n",
      "PROGRAMA PARQUE 1740\n",
      "['GESTION DEL PARQUE DE LA MEMORIA Y DEL MONUMENTO A LAS VICTIMAS'\n",
      " 'PARQUE DE LA CIUDAD' 'RECUPERACION BARRIO PARQUE DONADO-HOLMBERG'\n",
      " 'PARQUE DE LA INNOVACION']\n",
      "\n",
      "SUBPROGRAMA PARQUE 1740\n",
      "['GESTION DEL PARQUE DE LA MEMORIA Y DEL MONUMENTO A LAS VICTIMAS'\n",
      " 'PARQUE DE LA CIUDAD' 'RECUPERACION BARRIO PARQUE DONADO-HOLMBERG'\n",
      " 'PARQUE DE LA INNOVACION']\n",
      "\n",
      "PROYECTO PARQUE 1789\n",
      "['GESTION DEL PARQUE DE LA MEMORIA Y DEL MONUMENTO A LAS VICTIMAS'\n",
      " 'CENTRO RECREATIVO PARQUE SARMIENTO'\n",
      " 'CUIDADO Y PUESTA EN VALOR DE GRANDES PARQUES' 'PARQUE DE LA CIUDAD'\n",
      " 'OBRAS EN PARQUE DE LA CIUDAD' 'PUESTA EN VALOR DEL PARQUE SARMIENTO'\n",
      " 'PUESTA EN VALOR DE PLAYAS DEL PARQUE ROCA Y DEL PARQUE DE LOS NIÑOS'\n",
      " 'RECUPERACION BARRIO PARQUE DONADO-HOLMBERG'\n",
      " 'OBRAS COMPLEMENTARIAS BARRIO PARQUE DONADO-HOLMBEG'\n",
      " 'ACTUALIZACION PARQUE TECNOLOGICO DE LA SRH'\n",
      " 'MEJORA Y AMPLIACION DE INFRAESTRUCTURA DEL PARQUE'\n",
      " 'OBRAS DE INGENIERIA MECANICA PARQUE ROCA.'\n",
      " 'EXPANSION DE ESPACIOS VERDES EN TODA LA CIUDAD GRANDES PARQUES URBANOS'\n",
      " 'REFUNCIONALIZACION PARQUE POLIDEPORTIVO JULIO A. ROCA' 'PARQUES URBANOS'\n",
      " 'PUESTA EN VALOR DE ECOPARQUE'\n",
      " 'CENTRO DE DESARROLLO DEPORTIVO EN PARQUE SARMIENTO'\n",
      " 'PARQUE INDOAMERICANO' 'PARQUE DE LA INNOVACION' 'OBRAS ECOPARQUE MAYEP'\n",
      " 'ASISTENCIA OPERATIVA GRANDES PARQUES' 'PARQUE DE LA CULTURA'\n",
      " 'MANTENIMIENTO INTEGRAL INSTALACIONES DEL PARQUE DE LA CIUDAD']\n",
      "\n",
      "ACTIVIDAD PARQUE 716\n",
      "['CENTRO RECREATIVO PARQUE SARMIENTO' 'PARQUE 3 DE FEBRERO'\n",
      " 'CUIDADO Y PUESTA EN VALOR DE GRANDES PARQUES'\n",
      " 'OBRAS EN PARQUE DE LA CIUDAD' 'PUESTA EN VALOR DEL PARQUE SARMIENTO'\n",
      " 'PUESTA EN VALOR DE PLAYAS DEL PARQUE ROCA Y DEL PARQUE DE LOS NIÑOS'\n",
      " 'OBRAS COMPLEMENTARIAS BARRIO PARQUE DONADO-HOLMBEG' 'PARQUE AVELLANEDA'\n",
      " 'ACTUALIZACION PARQUE TECNOLOGICO DE LA SRH'\n",
      " 'GESTION DEL PARQUE DE LA MEMORIA Y DEL MONUMENTO A LAS VICTIMAS'\n",
      " 'PARQUE INDOAMERICANO'\n",
      " 'MEJORA Y AMPLIACION DE INFRAESTRUCTURA DEL PARQUE'\n",
      " 'OBRAS DE INGENIERIA MECANICA PARQUE ROCA.'\n",
      " 'EXPANSION DE ESPACIOS VERDES EN TODA LA CIUDAD GRANDES PARQUES URBANOS'\n",
      " 'CONSTRUCCION DEL DESTACAMENTO POLICIAL EN ESTACION DE PEAJE DE PARQUE AVELLANEDA'\n",
      " 'SOLUCIONES HABITACIONALES BARRIO PARQUE DONADO-HOLMBERG'\n",
      " 'CUBIERTA ARENA PARQUE ROCA'\n",
      " 'DISEÑO, DIRECCION Y SEGUIMIENTO EN EL PARQUE JULIO A. ROCA'\n",
      " 'AREAS DE SERVICIOS EN ESPACIOS VERDES EN EL PARQUE DE LOS PATRICIOS'\n",
      " 'PUESTA EN VALOR DE LA FACHADA RACING CLUB - SEDE VILLA DEL PARQUE'\n",
      " 'ENTORNO POLIDEPORTIVO PARQUE PATRICIOS'\n",
      " 'CORREDOR VERDE II (PARQUE SAAVEDRA - CABILDO)'\n",
      " 'PARQUE URBANO CORREDOR VERDE ALMANCIO ALCORTA'\n",
      " 'PUESTA EN VALOR ENTORNO PARQUE AVELLANEDA ETAPA I'\n",
      " 'PARQUE DEL BICENTENARIO - ETAPA I.'\n",
      " 'PARQUE TRES DE FEBRERO - APERTURA GOLF MUNICIPAL'\n",
      " 'PARQUE DE LOS NIÑOS SECTOR LADO PROVINCIA'\n",
      " 'REUCN PARQUE URBANO Y RESERVA' 'PARQUE CHACABUCO'\n",
      " 'PARQUE ISLA DE LA PATERNAL' 'PARQUE LAS HERAS' 'PARQUE ALBERDI'\n",
      " 'FINALIZACION PUESTA EN VALOR POLIDEPORTIVO PARQUE PATRICIOS'\n",
      " 'CENTRO DE DESARROLLO DEPORTIVO EN PARQUE SARMIENTO'\n",
      " 'REFUNCIONALIZACION PARQUE POLIDEPORTIVO JULIO A. ROCA'\n",
      " 'DISEÑO, DIRECCION Y SEGUIMIENTO DE PROYECTOS PARQUE OLIMPICO'\n",
      " 'ASISTENCIA TECNICA PROYECTO PARQUE DE LA INNOVACION'\n",
      " 'PARQUE INNOVACION - MODELO DE GESTION' 'PUESTA EN VALOR DE ECOPARQUE'\n",
      " 'PISTA DE ATLETISMO PARQUE INDOAMERICANO'\n",
      " 'COMUNICACION Y LANZAMIENTO PARQUE DE LA INNOVACION'\n",
      " 'PARQUE OLIMPICO-ADECUACION POST JJOO' 'PARQUE DEL BAJO'\n",
      " 'PARQUE DE VOLEY PLAYA- VELODROMO' 'PARQUE ESTACION BUENOS AIRES'\n",
      " 'ECOPARQUE ZONA -1B LAS HERAS' 'OBRAS ECOPARQUE MAYEP'\n",
      " 'ASISTENCIA OPERATIVA GRANDES PARQUES' 'PARQUE DE LA CULTURA'\n",
      " 'COMUNICACION Y DIFUSION DEL PARQUE DE LA INNOVACION'\n",
      " 'PARQUE DE LA INNOVACION'\n",
      " 'MANTENIMIENTO INTEGRAL INSTALACIONES DEL PARQUE DE LA CIUDAD']\n",
      "\n",
      "OBRA PARQUE 784\n",
      "['OBRAS EN EL PARQUE DE LA MEMORIA' 'CENTRO RECREATIVO PARQUE SARMIENTO'\n",
      " 'TRABAJOS PRELIMINARES PARQUE LINEAL DEL SUR'\n",
      " 'TRABAJOS PRELIMINARES DISTRITO TECNOLOGICO PARQUE PATRICIOS'\n",
      " 'TRABAJOS PRELIMINARES INTERVENCION EN MEJORAMIENTO DE GRANDES PARQUES'\n",
      " 'LINEA H COCHERA PARQUE PATRICIOS'\n",
      " 'TRABAJOS PRELIMINARES PARQUES ESCALA URBANA'\n",
      " 'TRABAJOS PRELIMINARES PARQUES A ESCALA METROPOLITANA'\n",
      " 'PARQUE 3 DE FEBRERO' 'OBRAS EN PLAZAS Y PARQUES'\n",
      " 'PARQUE DE LAS VICTORIAS'\n",
      " 'PUESTA EN VALOR DE PLAYAS DEL PARQUE ROCA Y DEL PARQUE DE LOS NIÑOS'\n",
      " 'BARRIO PARQUE AVELLANEDA OBRA 1 SARAZA 4274-4312'\n",
      " 'BARRIO PARQUE AVELLANEDA OBRA 2 SARAZA 4244-4214'\n",
      " 'SOLUCIONES HABITACIONALES BARRIO PARQUE DONADO-HOLMBERG'\n",
      " 'PARQUE AVELLANEDA' 'PRESERVACION Y PUESTA EN VALOR PARQUE AVELLANEDA'\n",
      " 'POLO TECNOLOGICO PARQUE PATRICIOS' 'RENOVACION DEL PARQUE INFORMATICO'\n",
      " 'POLIDEPORTIVO PARQUE PATRICIOS' 'PARQUE PEREYRA'\n",
      " 'PARQUE MANUEL BELGRANO (EX - KDT)' 'PARQUE PRESIDENTE SARMIENTO'\n",
      " 'GESTION DEL PARQUE DE LA MEMORIA Y DEL MONUMENTO A LAS VICTIMAS'\n",
      " 'PARQUE INDOAMERICANO'\n",
      " 'PRESERVACION Y PUESTA EN VALOR PARQUE INDOAMERICANO'\n",
      " 'POLO TECNOLOGICO PARQUE PATRICIOS AVDA. ALMAFUERTE 545/583/585'\n",
      " 'CONSTRUCCION DE PISTA DE ATLETISMO DE TARTAN EN PARQUE SARMIENTO'\n",
      " 'PUESTA EN VALOR DEL ESTADIO DEL PARQUE SARMIENTO'\n",
      " 'CONSTRUCCION DE ALOJAMIENTO PARA DEPORTISTAS EN PARQUE SARMIENTO'\n",
      " 'PARQUE AVELLANEDA OBRA 1' 'PARQUE AVELLANEDA OBRA 2'\n",
      " 'PARQUE AVELLANEDA OBRA 3' 'PARQUE AVELLANEDA OBRA 4'\n",
      " 'TALLER PARQUE PATRICIOS' 'PARQUE LINEAL SECTORES I A IV'\n",
      " 'REMODELACION PARQUE CENTENARIO' 'PARQUE DEPORTIVO EXTREMO SAINT TROPEZ'\n",
      " 'MANTENIMIENTO RIEGO PARQUE INDOAMERICANO' 'ANFITEATRO PARQUE CENTENARIO'\n",
      " 'PARQUE NORTE-EX OBRADOR MALDONADO'\n",
      " 'PARQUE Y CENTRO DE EXPOSICIONES Y CONVENCIONES DE LA CABA.'\n",
      " 'CUBIERTA ARENA PARQUE ROCA' 'PARQUE LEZAMA' 'PARQUE TRES FEBRERO'\n",
      " 'ORGANICO PARQUES & ESCUELAS'\n",
      " 'PUESTOS DE COMIDA DE CATEGORIA III PARA PARQUES'\n",
      " 'MANTENIMIENTO RESERVORIOS PARQUE SARMIENTO'\n",
      " 'TABESTACADO DEL RESERVORIO DEL PARQUE SARMIENTO'\n",
      " 'SERVICIO DE MOVIMIENTO DE SUELOS ACOPIADO EN PARQUE SARMIENTO'\n",
      " 'BARES EN PARQUES PUBLICOS' 'PARQUE NORTE ETAPA II - PUENTE PEATONAL.'\n",
      " 'PARQUE DEL BICENTENARIO'\n",
      " 'PARQUE INDUSTRIAL, AMBIENTAL Y ENERGETICO Y DE ESPARCIMIENTO GRAN SUR.'\n",
      " 'PARQUE NATURAL' 'EDIFICIO CENTRO CIVICO PARQUE PATRICIOS (C.C.P.P.)'\n",
      " 'CONSTRUCCION DEL DESTACAMENTO POLICIAL EN ESTACION DE PEAJE DE PARQUE AVELLANEDA'\n",
      " 'DISEÑO, DIRECCION Y SEGUIMIENTO EN EL PARQUE JULIO A. ROCA'\n",
      " 'AREAS DE SERVICIOS EN ESPACIOS VERDES EN EL PARQUE DE LOS PATRICIOS'\n",
      " 'PUESTA EN VALOR DE LA FACHADA RACING CLUB - SEDE VILLA DEL PARQUE'\n",
      " 'ENTORNO POLIDEPORTIVO PARQUE PATRICIOS'\n",
      " 'CORREDOR VERDE II (PARQUE SAAVEDRA - CABILDO)'\n",
      " 'PARQUE URBANO CORREDOR VERDE ALMANCIO ALCORTA'\n",
      " 'PUESTA EN VALOR ENTORNO PARQUE AVELLANEDA ETAPA I'\n",
      " 'PARQUE DEL BICENTENARIO - ETAPA I.'\n",
      " 'PARQUE TRES DE FEBRERO - APERTURA GOLF MUNICIPAL'\n",
      " 'PARQUE DE LOS NIÑOS SECTOR LADO PROVINCIA'\n",
      " 'REUCN PARQUE URBANO Y RESERVA' 'PARQUE CHACABUCO'\n",
      " 'PARQUE ISLA DE LA PATERNAL' 'PARQUE LAS HERAS' 'PARQUE ALBERDI'\n",
      " 'FINALIZACION PUESTA EN VALOR POLIDEPORTIVO PARQUE PATRICIOS'\n",
      " 'CENTRO DE DESARROLLO DEPORTIVO EN PARQUE SARMIENTO'\n",
      " 'DISEÑO, DIRECCION Y SEGUIMIENTO DE PROYECTOS PARQUE OLIMPICO'\n",
      " 'PARQUE DEL BAJO' 'PARQUE DE LA ESTACION'\n",
      " 'PLAYA ESTACIONAMIENTO SUBTERRANEA Y REGULACION DE COLECTIVOS PARQUE DEL BAJO'\n",
      " 'ASISTENCIA TECNICA PROYECTO PARQUE DE LA INNOVACION'\n",
      " 'PARQUE INNOVACION - MODELO DE GESTION'\n",
      " 'PISTA DE ATLETISMO PARQUE INDOAMERICANO'\n",
      " 'COMUNICACION Y LANZAMIENTO PARQUE DE LA INNOVACION'\n",
      " 'PARQUE OLIMPICO-ADECUACION POST JJOO' 'PARQUE DE VOLEY PLAYA- VELODROMO'\n",
      " 'NUEVOS ESPACIOS VERDES EN LATERALES VIAS DEL TREN VILLA DEL PARQUE'\n",
      " 'PARQUE ESTACION BUENOS AIRES' 'ECOPARQUE ZONA -1B LAS HERAS'\n",
      " 'OBRAS EEVV EN ACOPARQUE' 'RESTAURACION DEL VIVERO ECOPARQUE'\n",
      " 'GESTION DE PREDIO ECOPARQUE' 'CONTENIDO ECOPARQUE'\n",
      " 'OBRAS DE EMUI EN ECOPARQUE' 'PLAZA TEMATICA PARQUE RIVADAVIA'\n",
      " 'EJECUCION RESERVORIO PARQUE SARMIENTO ETAPA 2'\n",
      " 'ASISTENCIA OPERATIVA GRANDES PARQUES'\n",
      " 'COMUNICACION Y DIFUSION DEL PARQUE DE LA INNOVACION'\n",
      " 'PARQUE DE LA INNOVACION']\n",
      "\n"
     ]
    },
    {
     "name": "stdout",
     "output_type": "stream",
     "text": [
      "PROGRAMA PLAZA 0\n",
      "[]\n",
      "\n",
      "SUBPROGRAMA PLAZA 0\n",
      "[]\n",
      "\n",
      "PROYECTO PLAZA 1\n",
      "['ANFITEATRO INTERRELIGIOSO PLAZA CAMPAÑA DE CHACO']\n",
      "\n",
      "ACTIVIDAD PLAZA 337\n",
      "['GUARDIANES DE PLAZA' 'PLAZAS ACTIVAS'\n",
      " 'PUESTA EN VALOR DE LA PLAZA LAVALLE'\n",
      " 'AREA AMBIENTAL SALTA / BRASIL + ENTORNO PLAZA CONSTITUCION.'\n",
      " 'RECOLETA ETAPA II - PLAZA INTENDENTE ALVEAR Y ENTORNO. JUAN XXIII'\n",
      " 'ENTORNO PLAZA MISERERE (ONCE)'\n",
      " 'ACCESO ESTACION TRIBUNALES PLAZA LAVALLE'\n",
      " '2DA ETAPA PM CHACARITA PLAZAS SOBRE GUZMAN'\n",
      " '2DA ETAPA PM CHACARITA PLAZA NEWBERY Y TRASL. OSARIO'\n",
      " '2DA ETAPA SENDEROS JARDIN BOTANICO, INGRESO PLAZA ITALIA'\n",
      " 'PLAZAS PROVINCIALES 9 DE JULIO' 'PLAZA GOULD PUESTA EN VALOR INTEGRAL'\n",
      " 'PLAZA SICILIA RECUPERACION Y PUESTA EN VALOR'\n",
      " 'PLAZA HAITI RECUPERACION Y PUESTA EN VALOR'\n",
      " 'TRATAMIENTO CALLE LA PAMPA Y PLAZA RUSIA' 'PUESTA EN VALOR PLAZA EGIPTO'\n",
      " 'PLAZA PUEYRREDON' 'PLAZA DE MAYO' 'PLAZA CONGRESO'\n",
      " 'ANFITEATRO INTERRELIGIOSO PLAZA CAMPAÑA DE CHACO' 'PLAZA ROMA'\n",
      " 'PLAZA BARRIAL ETAPA 1']\n",
      "\n",
      "OBRA PLAZA 430\n",
      "['DEMOLICION EX TALLERES T.A.T.A. Y CONSTRUCCION DE PLAZA BOEDO'\n",
      " 'GUARDIANES DE PLAZA' 'OBRAS EN PLAZAS Y PARQUES'\n",
      " 'PLAZA PRESBITERO SAENZ' 'PLAZAS ACTIVAS'\n",
      " 'PROYECTOS DE MEJORAS Y PUESTA EN VALOR DE LAS PLAZAS JOSE C. PAZ Y NICARAGUA'\n",
      " 'PLAZA ELISA BROWN' 'PLAZA DE LOS VIRREYES'\n",
      " 'PUESTA EN VALOR PLAZA CONSTITUCION'\n",
      " 'PUESTA EN VALOR ENTORNO TEATRO COLON Y PLAZAS CIRCUNDANTES'\n",
      " 'PUESTA EN VALOR PLAZA FRANCIA' 'EMPLAZAMIENTO DE ESCULTURAS'\n",
      " 'MACROMANZANA PLAZA LAVALLE'\n",
      " 'PUESTA EN VALOR Y REMODELACION DEL ACCESO POR PLAZA ITALIA AL JARDIN ZOOLOGICO, DEMOLICION'\n",
      " 'PLAZA VILLA REAL' 'PLAZA GOULD - PUESTA EN VALOR'\n",
      " 'NUEVAS PLAZAS DE PROXIMIDAD' 'AMPLIACION DE PLAZAS INTEGRADAS.'\n",
      " 'PUESTA EN VALOR DE LA PLAZA LAVALLE'\n",
      " 'AREA AMBIENTAL SALTA / BRASIL + ENTORNO PLAZA CONSTITUCION.'\n",
      " 'RECOLETA ETAPA II - PLAZA INTENDENTE ALVEAR Y ENTORNO. JUAN XXIII'\n",
      " 'ENTORNO PLAZA MISERERE (ONCE)'\n",
      " 'ACCESO ESTACION TRIBUNALES PLAZA LAVALLE'\n",
      " '2DA ETAPA PM CHACARITA PLAZAS SOBRE GUZMAN'\n",
      " '2DA ETAPA PM CHACARITA PLAZA NEWBERY Y TRASL. OSARIO'\n",
      " '2DA ETAPA SENDEROS JARDIN BOTANICO, INGRESO PLAZA ITALIA'\n",
      " 'PLAZAS PROVINCIALES 9 DE JULIO' 'PLAZA GOULD PUESTA EN VALOR INTEGRAL'\n",
      " 'PLAZA SICILIA RECUPERACION Y PUESTA EN VALOR'\n",
      " 'PLAZA HAITI RECUPERACION Y PUESTA EN VALOR'\n",
      " 'TRATAMIENTO CALLE LA PAMPA Y PLAZA RUSIA' 'PUESTA EN VALOR PLAZA EGIPTO'\n",
      " 'PLAZA PUEYRREDON' 'PLAZA DE MAYO' 'PLAZA CONGRESO'\n",
      " 'READECUACION Y PUESTA A PUNTO ANFITEATRO PLAZA CAMPAÑA DE CHACO'\n",
      " 'PLAZA CORRALON DE FLORESTA' 'PUESTOS GASTRONOMICOS PLAZA MISERERE'\n",
      " 'PLAZA ROMA' 'PLAZA VERA PEÑALOZA' 'PLAZA GUILLERMO Y ALFREDO BARBIERI'\n",
      " 'PLAZA BORDES Y ACCESO PERILAGO' 'PLAZA BARRIAL ETAPA 1'\n",
      " 'PLAZA BARRIAL ETAPA 2' 'PLAZA TEMATICA PARQUE RIVADAVIA'\n",
      " 'CARTELERIA EN PLAZAS']\n",
      "\n",
      "PROGRAMA CANTERO 0\n",
      "[]\n",
      "\n",
      "SUBPROGRAMA CANTERO 0\n",
      "[]\n",
      "\n",
      "PROYECTO CANTERO 0\n",
      "[]\n",
      "\n",
      "ACTIVIDAD CANTERO 0\n",
      "[]\n",
      "\n",
      "OBRA CANTERO 2\n",
      "['CANTEROS CENTRALES RAMON L.FALCON' 'CANTEROS CENTRALES CALABRIA']\n",
      "\n",
      "PROGRAMA JARDIN 0\n",
      "[]\n",
      "\n",
      "SUBPROGRAMA JARDIN 0\n",
      "[]\n",
      "\n",
      "PROYECTO JARDIN 2\n",
      "['JARDIN BOTANICO CARLOS THAYS'\n",
      " 'REMODELACION ACCESO PRINCIPAL JARDIN ZOOLOGICO']\n",
      "\n",
      "ACTIVIDAD JARDIN 4835\n",
      "['JARDIN BOTANICO \"CARLOS THAYS\"' 'JARDINES MATERNALES'\n",
      " 'JARDINES INTEGRALES, NUCLEADOS Y COMUNES'\n",
      " 'JARDIN MATERNAL - EDIFICIO DEL PLATA' 'JARDIN BOTANICO CARLOS THAYS'\n",
      " 'REMODELACION ACCESO PRINCIPAL JARDIN ZOOLOGICO'\n",
      " 'JARDIN MATERNAL VILLA OLIMPICA'\n",
      " 'PROVISION Y COLOCACION DE JARDINES VERTICALES'\n",
      " 'NUEVO ACCESO JARDIN BOTANICO DE LA CIUDAD DE BUENOS AIRES CARLOS THAYS'\n",
      " '2DA ETAPA SENDEROS JARDIN BOTANICO, INGRESO PLAZA ITALIA'\n",
      " 'ESCUELA PRIMARIA COMUN NDA 25 -JARDIN DE INFANTES NUCLEADO \"C\" - AV. SAN JUAN 2277'\n",
      " 'JARDIN MITRE D.E. NDA 9 DORREGO 3723'\n",
      " 'JARDIN DE INFANTES COMUN NDA 13 \"COMPLEJO BERMEJO\" - BERMEJO Y PIEDRA BUENA'\n",
      " 'JARDIN MATERNAL HOSPITAL RIVADAVIA - AV. LAS HERAS 2670'\n",
      " 'ESCUELA PRIMARIA COMUN NDA 6 \"PROF. F. BOERO\"/ JARDIN NUCLEADO A - AV EVA PERON 7449'\n",
      " 'JARDIN INICIAL DE CREACION - HUMBERTO 1DA 1584/86'\n",
      " 'JARDIN MATERNAL D.E. 17 - AV. FRANCISCO BEIRO 4418'\n",
      " 'JARDIN INICIAL ESTIMULACION TEMPRANA D.E. 5 - FALUCHO 556'\n",
      " 'JARDIN INICIAL D.E. 21 - AV. LARRAZABAL 5430'\n",
      " 'JARDIN DE INFANTES COMUN N° 13 COMPLEJO BERMEJO BERMEJO Y PIEDRA BUENA'\n",
      " 'ESC JORN COMP 24 PADRE CASTAÑEDA JARDIN INF NUCLEADO LETRA D 24/12 MORON 3745'\n",
      " 'JARDIN DE INFANTES COMUN Nº 2 MONTIEL N° 1174']\n",
      "\n",
      "OBRA JARDIN 4891\n",
      "['JARDIN BOTANICO \"CARLOS THAYS\"'\n",
      " 'PRESERVACION Y PUESTA EN VALOR DEL JARDIN BOTANICO \"CARLOS THAYS\"'\n",
      " 'JARDINES MATERNALES' 'JARDINES INTEGRALES, NUCLEADOS Y COMUNES'\n",
      " 'JARDIN MATERNAL - EDIFICIO DEL PLATA'\n",
      " 'JARDIN DE INFANTES JOSE CUBAS 2410 Y ZAMUDIO 4386'\n",
      " 'JARDIN MATERNAL JOSE LEON SUAREZ 3651'\n",
      " 'JARDIN INFANTES NUCLEADO B/19U SEDE MOM 2380'\n",
      " 'JARDIN DE INFANTES INTEGRAL 2 DE 6 INDEPENDENCIA 3354'\n",
      " 'JARDIN DE INFANTES INTEGRAL 4 BLANCO ENCALADA 4863'\n",
      " 'ESC JORN COMP 24 PADRE CASTAÑEDA JARDIN INF NUCLEADO LETRA D 24/12 MORON 3745'\n",
      " 'JARDIN INFANTES NUCLEADO C (EPC 07/02U) RIO DE JANEIRO 986/46'\n",
      " 'JARDIN DE INFANTES INTEGRAL 4 AVDA. EVA PERON 6336'\n",
      " 'JARDIN DE INFANTES EN JOSE CUBAS Y ZAMUDIO'\n",
      " 'PUESTA EN VALOR DE JARDINES Y OBRAS DE ACCESIBILIDAD FISICA EN ESCUELAS DEL GCBA'\n",
      " 'CAMINOS INTERNOS JARDIN BOTANICO'\n",
      " 'ESCUELA PRIMARIA COMUN 16 JARDIN DE INFANTES NUCLEADO \"C\" D.E. 10 AV. CONGRESO 3045'\n",
      " 'ESCUELA PRIMARIA COMUN NU 21 JARDIN DE INFANTES NUCLEADO \"E\" D.E. 10U PINTO 3910'\n",
      " 'JARDIN MITRE D.E. NDA 9 DORREGO 3723'\n",
      " 'INSTALACION ELECTRICA - JARDIN DE INFANTES NUCLEADO NDA 4 - EVA PERON 6336'\n",
      " 'JARDIN DE INFANTES COMUN NU 2 MONTIEL NDA 1174'\n",
      " 'ESCUELA PRIM COM N 15 REP ARG/JARDIN DE INFANTES COMUN N 2 CASTAÑARES 4689 DELLEPIANE 4750'\n",
      " 'PUESTA EN VALOR Y REMODELACION DEL ACCESO POR PLAZA ITALIA AL JARDIN ZOOLOGICO, DEMOLICION'\n",
      " 'JARDIN BOTANICO - JARDIN DE LOS SENTIDOS'\n",
      " 'JARDIN BOTANICO - ACCESO Y TRATAMIENTO DE SENDEROS - 2DA ETAPA'\n",
      " 'JARDIN DE INFANTES COMUN NDA 13 \"COMPLEJO BERMEJO\" - BERMEJO Y PIEDRA BUENA'\n",
      " 'JARDIN DE INFANTES NDA 2 - CAMPICHUELO 100'\n",
      " 'CENTRO DE FORMACION PROFESIONAL NDA4 - JARDIN I. INTEGRAL NDA7 - AV. L. DE LA TORRE 2288'\n",
      " 'ESCUELA PRIMARIA COMUN NDA 20 - JARDIN I. NUCLEADO NDA20 - BALDOMERO F. MORENO 3652'\n",
      " 'JARDIN MATERNAL VILLA OLIMPICA'\n",
      " 'PROVISION Y COLOCACION DE JARDINES VERTICALES'\n",
      " 'JARDIN BOTANICO CARLOS THAYS'\n",
      " 'NUEVO ACCESO JARDIN BOTANICO DE LA CIUDAD DE BUENOS AIRES CARLOS THAYS'\n",
      " '2DA ETAPA SENDEROS JARDIN BOTANICO, INGRESO PLAZA ITALIA'\n",
      " 'ESCUELA PRIMARIA COMUN NDA 25 -JARDIN DE INFANTES NUCLEADO \"C\" - AV. SAN JUAN 2277'\n",
      " 'JARDIN MATERNAL HOSPITAL RIVADAVIA - AV. LAS HERAS 2670'\n",
      " 'ESCUELA PRIMARIA COMUN NDA 6 \"PROF. F. BOERO\"/ JARDIN NUCLEADO A - AV EVA PERON 7449'\n",
      " 'JARDIN INICIAL DE CREACION - HUMBERTO 1DA 1584/86'\n",
      " 'JARDIN MATERNAL D.E. 17 - AV. FRANCISCO BEIRO 4418'\n",
      " 'JARDIN INICIAL ESTIMULACION TEMPRANA D.E. 5 - FALUCHO 556'\n",
      " 'JARDIN INICIAL D.E. 21 - AV. LARRAZABAL 5430'\n",
      " 'JARDIN DE INFANTES NDA 3 \"SAN TELMO\" D.E. 3DA - PIEDRAS 860'\n",
      " 'JARDIN DE INFANTES Y GIMNASIO \"FEDERICO GARCIA LORCA\" D.E. 14 - CHORROARIN 305'\n",
      " 'JARDIN DE INFANTES S/N D.E NDA6 - VENEZUELA 3269/71'\n",
      " 'ESCUELA PRIMARIA COMUN N° 25 -JARDIN DE INFANTES NUCLEADO \"C\" - AV. SAN JUAN 2277'\n",
      " 'JARDIN DE INFANTES COMUN N° 13 COMPLEJO BERMEJO BERMEJO Y PIEDRA BUENA'\n",
      " 'ESCUELA PRIMARIA COMUN N° 6 \"PROF. F. BOERO\"/ JARDIN NUCLEADO A - AV EVA PERON 7449'\n",
      " 'JARDIN DE INFANTES NUCLEADO \"B\" D.E. 13° - MANUEL DE ARTIGAS 5951'\n",
      " 'JARDIN DE INFANTES INTEGRAL N° 7 D.E. 20° - LISANDRO DE LA TORRE 2288'\n",
      " 'ESCUELA PRIM. COMUN N° 16 \"DR. TOMAR LE BRETON\"/ JARDIN NUC C - GRAL. E. GARZON 4346'\n",
      " 'JARDIN DE INFANTES COMUN Nº 2 MONTIEL N° 1174'\n",
      " 'JARDIN DE INFANTES NUCLEADO C D.E. 16 - VALLEJOS 2555'\n",
      " 'ESCUELA PRIMARIA COMUN NU 23 - JARDIN DE INFANTES NUCLEADO NU 03 D.E. 10 - SUCRE 1367'\n",
      " 'JARDIN DE INFANTES INTEGRAL NDA 4 D.E. 15DA - BLANCO ENCALADA 4863'\n",
      " 'JARDIN DE INFANTES COMUN NDA 1 D.E. 2 ARENALES 2733'\n",
      " 'JARDIN DE INFANTES INTEGRAL NDA 7 D.E. 20DA - LISANDRO DE LA TORRE 2288'\n",
      " 'ESCUELA PRIMARIA COMUN NDA 9 -JARDIN DE INFANTES NDA 3 / D.E. 21 - BERON DE ASTRADA 5920'\n",
      " 'JARDIN MATERNAL NDA 15 D.E. 19DA - M.CASTRO Y RIESTRA 3300 VILLA 3 FATIMA'\n",
      " 'ESCUELA PRIMARIA COMUN NDA13 / JARDIN NUCLEADO A - JUAN FRANCISCO SEGUI 2580'\n",
      " 'CFP - JARDIN DE INFANTES NU 38 D.E. 1U - BARRIO 31 \"LA CONTAINERA\"'\n",
      " 'ESCUELA PRIMARIA COMUN NU 05 - JARDIN DE INFANTES COMUN NU 4 D.E. 5U - CACHI 77'\n",
      " 'JARDIN DE INFANTES COMUN NDA 03/07DA LA PORTEÑA - ESTRADA 627'\n",
      " 'ESC. PRIMARIA COMUN NDA 14 FRAY MARTIN DEL BARCO CENTENERA / JARDIN DE INFANTES COMUN NU 10'\n",
      " 'JARDIN DE INFANTES INTEGRAL NDA 01/11DA - AVDA. SAN PEDRITO 341'\n",
      " 'JARDIN DE INFANTES COMUN NU 3 D.E. 7U \"LA PORTEÑA\" - YERBAL 1548/RIVADAVIA 6065'\n",
      " 'JARDIN DE INFANTES NU1 D.E. 4U - GREGORIO ARAOZ DE LAMADRID 648'\n",
      " 'JARDIN MATERNAL NU 7 \"DELFINA MARULL DE SARDA\" - CATULO CASTILLO 2856'\n",
      " 'JARDIN NUCELADO C D.E. 13U \"NIÑOS LATINOAMERICANOS\" - SARAVIA 2358'\n",
      " 'JARDIN DE INFANTES INTEGRAL NU 14/20U']\n",
      "\n"
     ]
    },
    {
     "name": "stdout",
     "output_type": "stream",
     "text": [
      "PROGRAMA PASEO 0\n",
      "[]\n",
      "\n",
      "SUBPROGRAMA PASEO 0\n",
      "[]\n",
      "\n",
      "PROYECTO PASEO 2\n",
      "['MANTENIMIENTO PASEO DE LAS FLORES']\n",
      "\n",
      "ACTIVIDAD PASEO 42\n",
      "['PASEO PORTEÑO DE LAS COLECTIVIDADES' 'MANTENIMIENTO PASEO DE LAS FLORES'\n",
      " 'PUESTA EN VALOR DE LA FERIA DE RETIRO Y PASEO COMERCIAL DEL PLAYON'\n",
      " 'METROBUS ALEM-PASEO COLON']\n",
      "\n",
      "OBRA PASEO 103\n",
      "['REPARACION Y/O MANTENIMIENTO DE VEREDAS PERIMETRALES EN BARRIOS Y PASEOS PUBLICOS'\n",
      " 'ESCUELA TECNICA NDA 1 - D.E. 4DA - AV.PASEO COLON 650'\n",
      " 'REMODELACION NUEVO PASEO COSTANERA SUR'\n",
      " 'ADULTOS 2000 ISAURO ARANCIBIA AVDA. PASEO COLON 1318'\n",
      " 'EDIFICIO MINISTERIO EDUCACION AVDA. PASEO COLON 255'\n",
      " 'REP. Y/O MANT. VER. PERI. EN CONJUNTOS HABIT. Y PASEOS PUBLICOS'\n",
      " 'PUESTA EN VALOR PASEO COLON Y AV. ALEM'\n",
      " 'PASEO PORTEÑO DE LAS COLECTIVIDADES'\n",
      " 'ESCUELA TECNICA NU 01 PASEO COLON 650 TRABAJOS DE INTERVENCION GRAL E INS CONTRA INCENDIOS'\n",
      " 'EDIFICIO MINISTERIO EDUCACION AVDA. PASEO COLON 255 - REFACCIONES'\n",
      " 'MANTENIMIENTO PASEO DE LAS FLORES'\n",
      " 'PUESTA EN VALOR DE LA FERIA DE RETIRO Y PASEO COMERCIAL DEL PLAYON'\n",
      " 'METROBUS ALEM-PASEO COLON' 'METROBUS PASEO COLON - ALM. BROWN'\n",
      " 'BARRERAS PASEO DEL BAJO']\n",
      "\n",
      "PROGRAMA PATIO 0\n",
      "[]\n",
      "\n",
      "SUBPROGRAMA PATIO 0\n",
      "[]\n",
      "\n",
      "PROYECTO PATIO 0\n",
      "[]\n",
      "\n",
      "ACTIVIDAD PATIO 1\n",
      "['PATIO GASTRONOMICO']\n",
      "\n",
      "OBRA PATIO 33\n",
      "['INCLUSION E INNOVACION DE PATIOS DE JUEGOS'\n",
      " 'INSTALACION EQUIPO REFRIGERACION PATIO SAN LUIS'\n",
      " 'RECONSTRUCCION DE SOLADOS Y DESAGÃŒES PATIO OPERACIONES'\n",
      " 'PATIO GASTRONOMICO' 'PATIO DE JUEGOS']\n",
      "\n",
      "PROGRAMA BARRIO 699\n",
      "['PROGRAMA CULTURAL EN BARRIOS'\n",
      " 'RECUPERACION BARRIO PARQUE DONADO-HOLMBERG' 'LEY 3199 - BARRIO CASTEX'\n",
      " 'PLANEAMIENTO Y GESTION COMUNITARIA EN BARRIOS 31 Y 31 BIS'\n",
      " 'INFRAESTRUCTURA URBANA Y COORDINACION GUBERNAMENTAL EN BARRIOS 31 Y 31 BIS'\n",
      " 'INCLUSION SOCIAL ARTE EN BARRIOS']\n",
      "\n",
      "SUBPROGRAMA BARRIO 699\n",
      "['PROGRAMA CULTURAL EN BARRIOS'\n",
      " 'RECUPERACION BARRIO PARQUE DONADO-HOLMBERG' 'LEY 3199 - BARRIO CASTEX'\n",
      " 'PLANEAMIENTO Y GESTION COMUNITARIA EN BARRIOS 31 Y 31 BIS'\n",
      " 'INFRAESTRUCTURA URBANA Y COORDINACION GUBERNAMENTAL EN BARRIOS 31 Y 31 BIS'\n",
      " 'INCLUSION SOCIAL ARTE EN BARRIOS']\n",
      "\n",
      "PROYECTO BARRIO 870\n",
      "['PROGRAMA CULTURAL EN BARRIOS' 'BARRIO LUGANO'\n",
      " 'RECUPERACION BARRIO PARQUE DONADO-HOLMBERG'\n",
      " 'OBRAS COMPLEMENTARIAS BARRIO PARQUE DONADO-HOLMBEG'\n",
      " 'REPARACION Y MEJORAS EN BARRIOS DE BUENOS AIRES' 'ACUMAR - BARRIOS'\n",
      " 'OBRAS MANTENIMIENTO EN BARRIOS'\n",
      " 'PLANEAMIENTO Y GESTION COMUNITARIA EN BARRIOS 31 Y 31 BIS'\n",
      " 'INFRAESTRUCTURA URBANA Y COORDINACION GUBERNAMENTAL EN BARRIOS 31 Y 31 BIS'\n",
      " 'OBRAS E INFRAESTRUCTURA EN BARRIOS 31 Y 31 BIS'\n",
      " 'PUESTA EN VALOR DE POLIDEPORTIVO EN BARRIO MATADEROS'\n",
      " 'OBRAS INFRAESTRUCTURA EN BARRIOS 31 Y 31 BIS'\n",
      " 'INCLUSION SOCIAL ARTE EN BARRIOS'\n",
      " 'MANTENIMINIENTO EN BARRIOS CARENCIADOS Y NHT'\n",
      " 'FORTALECIMIENTO SOCIAL Y ECONOMICO DEL BARRIO PADRE CARLOS MUGICA'\n",
      " 'OBRAS E INFRAESTRUCTURA EN BARRIO PADRE CARLOS MUGICA'\n",
      " 'MANTENIMIENTOS DEL BARRIO PADRE CARLOS MUGICA']\n",
      "\n",
      "ACTIVIDAD BARRIO 379\n",
      "['BARRIO LUGANO' 'ACCIONES CREATIVAS EN LOS BARRIOS'\n",
      " 'OBRAS COMPLEMENTARIAS BARRIO PARQUE DONADO-HOLMBEG'\n",
      " 'REPARACION Y MEJORAS EN BARRIOS DE BUENOS AIRES'\n",
      " 'DISEÑO, DIRECCION Y SEGUIMIENTO DE PROYECTOS OBRAS COMPLEMANTARIAS BARRIO DONADO HOLMBERG'\n",
      " 'ACUMAR - BARRIOS' 'CULTURA JOVEN BANDAS POR BARRIOS'\n",
      " 'FORTALECIMIENTO Y ASESORIA A CLUBES DE BARRIO Y FEDERACIONES'\n",
      " 'CULTURA JOVEN - BANDAS X BARRIOS' 'OBRAS MANTENIMIENTO EN BARRIOS'\n",
      " 'BANDAS POR BARRIOS' 'CLUBES DE BARRIO Y FEDERACIONES'\n",
      " 'SOLUCIONES HABITACIONALES BARRIO PARQUE DONADO-HOLMBERG'\n",
      " 'SAN MARTIN EN LOS BARRIOS' 'OBRAS MENORES EN BARRIOS' 'BARRIO LUJAN'\n",
      " 'BARRIO RIBERA IGUAZU' 'YO AMO MI BARRIO'\n",
      " 'PUESTA EN VALOR DE POLIDEPORTIVO EN BARRIO MATADEROS'\n",
      " 'OBRAS INFRAESTRUCTURA EN BARRIOS 31 Y 31 BIS'\n",
      " 'PROGRAMA DE CONVIVENCIA EN EL BARRIO' 'EL ESTADO EN TU BARRIO'\n",
      " 'INSPECCION BARRIOS TRES ROSAS Y SAN BLAS' 'ESTRELLAS DE TU BARRIO'\n",
      " 'CULTURA JOVEN - BANDA X BARRIOS' 'ESTRELLAS EN TU BARRIO'\n",
      " 'CAMERATA EN TU BARRIO' 'COMERCIOS EN REGLA BARRIO 31'\n",
      " 'MANTENIMINIENTO EN BARRIOS CARENCIADOS Y NHT'\n",
      " 'BARRIO 1.11.14- AV. PERITO MORENO' 'BARRIO 1-11-14'\n",
      " 'FORTALECIMIENTO SOCIAL DEL BARRIO PADRE CARLOS MUGICA'\n",
      " 'FORTALECIMIENTO ECONOMICO DEL BARRIO PADRE CARLOS MUGICA'\n",
      " 'OBRAS E INFRAESTRUCTURA EN BARRIO PADRE CARLOS MUGICA'\n",
      " 'MANTENIMIENTOS DEL BARRIO PADRE CARLOS MUGICA']\n",
      "\n",
      "OBRA BARRIO 321\n",
      "['BARRIO GENERAL SAVIO - ETAPA I'\n",
      " 'TRABAJOS PRELIMINARES REVALORIZACION BARRIOS DEL OESTE'\n",
      " 'BARRIO RIVADAVIA III EX PERITO MORENO' 'BARRIO ILLIA'\n",
      " 'BARRIO RIVADAVIA 1' 'ACCIONES CREATIVAS EN LOS BARRIOS'\n",
      " 'BARRIO RIVADAVIA III RIESTRA Y TENORIO' 'VILLA 20 - BARRIO LUGANO'\n",
      " 'VILLA 19 - BARRIO INTA' 'BARRIO CARRILLO' 'VILLA 6 - BARRIO CILDAÑEZ'\n",
      " 'BARRIO PARQUE AVELLANEDA OBRA 1 SARAZA 4274-4312'\n",
      " 'BARRIO PARQUE AVELLANEDA OBRA 2 SARAZA 4244-4214' 'BARRIO LOS PERALES'\n",
      " 'SOLUCIONES HABITACIONALES BARRIO PARQUE DONADO-HOLMBERG'\n",
      " 'REPARACION Y/O MANTENIMIENTO DE VEREDAS PERIMETRALES EN BARRIOS Y PASEOS PUBLICOS'\n",
      " 'BARRIO GRAL.SAVIO ETAPA II'\n",
      " 'REHABILITACION CONJUNTOS URBANOS LEY 1333 BARRIO RAMON CARRILLO'\n",
      " 'DISEÑO, DIRECCION Y SEGUIMIENTO DE PROYECTOS OBRAS COMPLEMANTARIAS BARRIO DONADO HOLMBERG'\n",
      " 'OBRAS MENORES EN BARRIOS' \"'BARRIO RIBERA IGUAZU\"\n",
      " 'CULTURA JOVEN BANDAS POR BARRIOS'\n",
      " 'FORTALECIMIENTO Y ASESORIA A CLUBES DE BARRIO Y FEDERACIONES'\n",
      " 'CULTURA JOVEN - BANDAS X BARRIOS' 'BARRIO LUJAN' 'BANDAS POR BARRIOS'\n",
      " 'CLUBES DE BARRIO Y FEDERACIONES' 'SAN MARTIN EN LOS BARRIOS'\n",
      " 'BARRIO LUGANO' 'BARRIO RIBERA IGUAZU' 'YO AMO MI BARRIO'\n",
      " 'ACUEDUTO BARRIO 31 Y 31 BIS - LEY 5846'\n",
      " 'PROGRAMA DE CONVIVENCIA EN EL BARRIO' 'EL ESTADO EN TU BARRIO'\n",
      " 'INSPECCION BARRIOS TRES ROSAS Y SAN BLAS' 'ESTRELLAS DE TU BARRIO'\n",
      " 'CULTURA JOVEN - BANDA X BARRIOS' 'ESTRELLAS EN TU BARRIO'\n",
      " 'CAMERATA EN TU BARRIO' 'COMERCIOS EN REGLA BARRIO 31' 'BARRIO 1-11-14'\n",
      " 'EMERGENCIAS EN BARRIOS CARENCIADOS' 'BARRIO 1.11.14- AVENIDA RIESTRA'\n",
      " 'BARRIO 1.11.14- AV. PERITO MORENO'\n",
      " 'FORTALECIMIENTO SOCIAL DEL BARRIO PADRE CARLOS MUGICA'\n",
      " 'FORTALECIMIENTO ECONOMICO DEL BARRIO PADRE CARLOS MUGICA'\n",
      " 'CFP - JARDIN DE INFANTES NU 38 D.E. 1U - BARRIO 31 \"LA CONTAINERA\"'\n",
      " 'ESCUELA DE CREACION PRIMARIA D.E. 1U \"INDIRA GHANDI\" - BARRIO 31'\n",
      " 'ESCUELA DE CREACION PRIMARIA D.E. 1U \"BARRIO ESTACION BUENOS AIRES\" - MIRAVE Y LAFAYETTE'\n",
      " 'ESCUELA DE CREACION INICIAL \"BARRIO ESTACION BUENOS AIRES\"- MIRAVE Y LAFAYETTE']\n",
      "\n",
      "PROGRAMA COMPLEJO 969\n",
      "['EXPRESIONES ARTISTICAS EN EL COMPLEJO TEATRAL'\n",
      " 'FORMACION ARTISTICA EN EL COMPLEJO TEATRAL'\n",
      " 'ADMINISTRACION DEL COMPLEJO TEATRAL'\n",
      " 'ARTES ESCENICAS EN EL COMPLEJO TEATRAL BUENOS AIRES']\n",
      "\n",
      "SUBPROGRAMA COMPLEJO 969\n",
      "['EXPRESIONES ARTISTICAS EN EL COMPLEJO TEATRAL'\n",
      " 'FORMACION ARTISTICA EN EL COMPLEJO TEATRAL'\n",
      " 'ADMINISTRACION DEL COMPLEJO TEATRAL'\n",
      " 'ARTES ESCENICAS EN EL COMPLEJO TEATRAL BUENOS AIRES']\n",
      "\n",
      "PROYECTO COMPLEJO 976\n",
      "['COMPLEJO TEATRAL DE BUENOS AIRES'\n",
      " 'EXPRESIONES ARTISTICAS EN EL COMPLEJO TEATRAL'\n",
      " 'FORMACION ARTISTICA EN EL COMPLEJO TEATRAL'\n",
      " 'PUESTAS EN VALOR EN VILLAS Y COMPLEJOS HABITACIONALES'\n",
      " 'PUESTA EN VALOR EN VILLAS Y COMPLEJOS HABITACIONALES DENTRO DE LA JURISDICCION ACUMAR'\n",
      " 'REMODELACION COMPLEJO TEATRAL BUENOS AIRES'\n",
      " 'ADMINISTRACION DEL COMPLEJO TEATRAL' 'COMPLEJO HOSPITALARIO EN ZONA SUR'\n",
      " 'ARTES ESCENICAS EN EL COMPLEJO TEATRAL BUENOS AIRES']\n",
      "\n",
      "ACTIVIDAD COMPLEJO 209\n",
      "['COMPLEJO TEATRAL DE BUENOS AIRES'\n",
      " 'PUESTAS EN VALOR EN VILLAS Y COMPLEJOS HABITACIONALES'\n",
      " 'PUESTA EN VALOR DE ESPACIOS COMUNITARIOS DE VILLAS, N.H.T. Y COMPLEJOS HABITACIONALES'\n",
      " 'PUESTA EN VALOR DE ESPACIOS COMUNITARIOS DE VILLAS, NHT Y COMPLEJOS HABITACIONALES'\n",
      " 'PUESTA EN VALOR EN VILLAS Y COMPLEJOS HABITACIONALES DENTRO DE LA JURISDICCION ACUMAR'\n",
      " 'INTERVENCION EN COMPLEJOS HABITACIONALES Y EFECTORES'\n",
      " 'REMODELACION COMPLEJO TEATRAL BUENOS AIRES'\n",
      " 'PUESTA EN VALOR DE ESPACIOS COMUNITARIO DE VILLAS NHT Y COMPLEJOS HABITACIONALES'\n",
      " 'JARDIN DE INFANTES COMUN NDA 13 \"COMPLEJO BERMEJO\" - BERMEJO Y PIEDRA BUENA'\n",
      " 'INTERVENCION EN COMPLEJOS HABITACIONALES Y EFECTORES '\n",
      " 'PUESTA EN VALOR DE ESPACIO COMUNITARIO DE VILLAS, NHT Y COMPLEJOS HABITACIONALES'\n",
      " 'COMPLEJO HOSPITALARIO EN ZONA SUR'\n",
      " 'JARDIN DE INFANTES COMUN N° 13 COMPLEJO BERMEJO BERMEJO Y PIEDRA BUENA']\n",
      "\n",
      "OBRA COMPLEJO 207\n",
      "['REMODELACION COMPLEJO TEATRAL BUENOS AIRES'\n",
      " 'PUESTA EN VALOR DE AREA SOCIAL Y DEPORTIVA COMPLEJO HABITACIONAL'\n",
      " 'PUESTA EN VALOR DE ESPACIOS COMUNITARIOS DE VILLAS, N.H.T. Y COMPLEJOS HABITACIONALES'\n",
      " 'PUESTA EN VALOR DE ESPACIOS COMUNITARIOS DE VILLAS, NHT Y COMPLEJOS HABITACIONALES'\n",
      " 'INTERVENCION EN COMPLEJOS HABITACIONALES Y EFECTORES'\n",
      " 'JARDIN DE INFANTES COMUN NDA 13 \"COMPLEJO BERMEJO\" - BERMEJO Y PIEDRA BUENA'\n",
      " 'PUESTA EN VALOR DE ESPACIOS COMUNITARIO DE VILLAS NHT Y COMPLEJOS HABITACIONALES'\n",
      " 'INTERVENCION EN COMPLEJOS HABITACIONALES Y EFECTORES '\n",
      " 'PUESTA EN VALOR DE ESPACIO COMUNITARIO DE VILLAS, NHT Y COMPLEJOS HABITACIONALES'\n",
      " 'COMPLEJO 8 TORRES' 'COMPLEJO HOSPITALARIO EN ZONA SUR'\n",
      " 'JARDIN DE INFANTES COMUN N° 13 COMPLEJO BERMEJO BERMEJO Y PIEDRA BUENA']\n",
      "\n"
     ]
    },
    {
     "name": "stdout",
     "output_type": "stream",
     "text": [
      "PROGRAMA JARDIN BOTANICO 0\n",
      "[]\n",
      "\n",
      "SUBPROGRAMA JARDIN BOTANICO 0\n",
      "[]\n",
      "\n",
      "PROYECTO JARDIN BOTANICO 1\n",
      "['JARDIN BOTANICO CARLOS THAYS']\n",
      "\n",
      "ACTIVIDAD JARDIN BOTANICO 432\n",
      "['JARDIN BOTANICO \"CARLOS THAYS\"' 'JARDIN BOTANICO CARLOS THAYS'\n",
      " 'NUEVO ACCESO JARDIN BOTANICO DE LA CIUDAD DE BUENOS AIRES CARLOS THAYS'\n",
      " '2DA ETAPA SENDEROS JARDIN BOTANICO, INGRESO PLAZA ITALIA']\n",
      "\n",
      "OBRA JARDIN BOTANICO 437\n",
      "['JARDIN BOTANICO \"CARLOS THAYS\"'\n",
      " 'PRESERVACION Y PUESTA EN VALOR DEL JARDIN BOTANICO \"CARLOS THAYS\"'\n",
      " 'CAMINOS INTERNOS JARDIN BOTANICO'\n",
      " 'JARDIN BOTANICO - JARDIN DE LOS SENTIDOS'\n",
      " 'JARDIN BOTANICO - ACCESO Y TRATAMIENTO DE SENDEROS - 2DA ETAPA'\n",
      " 'JARDIN BOTANICO CARLOS THAYS'\n",
      " 'NUEVO ACCESO JARDIN BOTANICO DE LA CIUDAD DE BUENOS AIRES CARLOS THAYS'\n",
      " '2DA ETAPA SENDEROS JARDIN BOTANICO, INGRESO PLAZA ITALIA']\n",
      "\n"
     ]
    }
   ],
   "source": [
    "for clas in clasificaciones_espacios_verdes:\n",
    " \n",
    "    for col in presupuesto_sancionado.loc[:, 'PROGRAMA':'OBRA'].columns:\n",
    "        \n",
    "        print(col, clas, presupuesto_sancionado[col].str.contains(clas).sum())\n",
    "        print(presupuesto_sancionado.loc[presupuesto_sancionado[col].str.contains(clas), col].unique())\n",
    "\n",
    "        print()"
   ]
  },
  {
   "cell_type": "code",
   "execution_count": 127,
   "metadata": {
    "scrolled": true
   },
   "outputs": [
    {
     "data": {
      "text/plain": [
       "ECOLOGIA    70\n",
       "Name: FUNCION, dtype: int64"
      ]
     },
     "execution_count": 127,
     "metadata": {},
     "output_type": "execute_result"
    }
   ],
   "source": [
    "espacios_verdes.loc[espacios_verdes['PROYECTO'] == \"OBRAS DE ESPACIOS VERDES\", \"FUNCION\"].value_counts()"
   ]
  },
  {
   "cell_type": "code",
   "execution_count": 128,
   "metadata": {},
   "outputs": [
    {
     "data": {
      "text/plain": [
       "(4226, 21)"
      ]
     },
     "execution_count": 128,
     "metadata": {},
     "output_type": "execute_result"
    }
   ],
   "source": [
    "ecologia.loc[ecologia['UNIDAD_EJECUTORA'] == 'DIRECCION GENERAL DE ESPACIOS VERDES'].shape\n",
    "# .unique().tolist()"
   ]
  },
  {
   "cell_type": "code",
   "execution_count": 129,
   "metadata": {},
   "outputs": [
    {
     "data": {
      "text/plain": [
       "(4226, 21)"
      ]
     },
     "execution_count": 129,
     "metadata": {},
     "output_type": "execute_result"
    }
   ],
   "source": [
    "espacios_verdes.shape"
   ]
  },
  {
   "cell_type": "code",
   "execution_count": 62,
   "metadata": {},
   "outputs": [
    {
     "ename": "NameError",
     "evalue": "name 'df' is not defined",
     "output_type": "error",
     "traceback": [
      "\u001b[1;31m---------------------------------------------------------------------------\u001b[0m",
      "\u001b[1;31mNameError\u001b[0m                                 Traceback (most recent call last)",
      "\u001b[1;32m<ipython-input-62-262e7b138989>\u001b[0m in \u001b[0;36m<module>\u001b[1;34m\u001b[0m\n\u001b[1;32m----> 1\u001b[1;33m \u001b[0mdf\u001b[0m\u001b[1;33m.\u001b[0m\u001b[0mloc\u001b[0m\u001b[1;33m[\u001b[0m\u001b[1;33m(\u001b[0m\u001b[0mdf\u001b[0m\u001b[1;33m[\u001b[0m\u001b[1;34m'OBRA'\u001b[0m\u001b[1;33m]\u001b[0m \u001b[1;33m==\u001b[0m \u001b[1;34m\"CANTEROS CENTRALES CALABRIA\"\u001b[0m\u001b[1;33m)\u001b[0m\u001b[1;33m|\u001b[0m\u001b[1;33m(\u001b[0m\u001b[0mdf\u001b[0m\u001b[1;33m[\u001b[0m\u001b[1;34m'OBRA'\u001b[0m\u001b[1;33m]\u001b[0m \u001b[1;33m==\u001b[0m \u001b[1;34m\"CANTEROS CENTRALES RAMON L.FALCON\"\u001b[0m\u001b[1;33m)\u001b[0m\u001b[1;33m]\u001b[0m\u001b[1;33m\u001b[0m\u001b[1;33m\u001b[0m\u001b[0m\n\u001b[0m\u001b[0;32m      2\u001b[0m \u001b[1;33m\u001b[0m\u001b[0m\n",
      "\u001b[1;31mNameError\u001b[0m: name 'df' is not defined"
     ]
    }
   ],
   "source": [
    "df.loc[(df['OBRA'] == \"CANTEROS CENTRALES CALABRIA\")|(df['OBRA'] == \"CANTEROS CENTRALES RAMON L.FALCON\")]\n",
    "\n"
   ]
  },
  {
   "cell_type": "code",
   "execution_count": null,
   "metadata": {},
   "outputs": [],
   "source": []
  },
  {
   "cell_type": "code",
   "execution_count": null,
   "metadata": {},
   "outputs": [],
   "source": []
  },
  {
   "cell_type": "code",
   "execution_count": null,
   "metadata": {},
   "outputs": [],
   "source": []
  },
  {
   "cell_type": "code",
   "execution_count": null,
   "metadata": {},
   "outputs": [],
   "source": []
  }
 ],
 "metadata": {
  "kernelspec": {
   "display_name": "Python 3",
   "language": "python",
   "name": "python3"
  },
  "language_info": {
   "codemirror_mode": {
    "name": "ipython",
    "version": 3
   },
   "file_extension": ".py",
   "mimetype": "text/x-python",
   "name": "python",
   "nbconvert_exporter": "python",
   "pygments_lexer": "ipython3",
   "version": "3.8.3"
  },
  "toc": {
   "base_numbering": 1,
   "nav_menu": {},
   "number_sections": false,
   "sideBar": true,
   "skip_h1_title": false,
   "title_cell": "Table of Contents",
   "title_sidebar": "Contents",
   "toc_cell": false,
   "toc_position": {},
   "toc_section_display": true,
   "toc_window_display": false
  }
 },
 "nbformat": 4,
 "nbformat_minor": 2
}
