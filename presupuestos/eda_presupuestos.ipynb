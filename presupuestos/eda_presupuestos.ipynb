{
 "cells": [
  {
   "cell_type": "code",
   "execution_count": 1,
   "metadata": {},
   "outputs": [
    {
     "data": {
      "text/html": [
       "<style>.container { width:80% !important; }</style>"
      ],
      "text/plain": [
       "<IPython.core.display.HTML object>"
      ]
     },
     "metadata": {},
     "output_type": "display_data"
    }
   ],
   "source": [
    "from IPython.core.display import display, HTML\n",
    "display(HTML(\"<style>.container { width:80% !important; }</style>\"))  # Agranda el ancho de la ventana."
   ]
  },
  {
   "cell_type": "code",
   "execution_count": 2,
   "metadata": {},
   "outputs": [],
   "source": [
    "import pandas as pd\n",
    "import numpy as np"
   ]
  },
  {
   "cell_type": "code",
   "execution_count": 3,
   "metadata": {},
   "outputs": [],
   "source": [
    "import warnings\n",
    "warnings.filterwarnings('ignore') \n",
    "from IPython.core.interactiveshell import InteractiveShell\n",
    "InteractiveShell.ast_node_interactivity = \"all\"  \n",
    "pd.set_option('display.max_colwidth', -1)  \n",
    "pd.set_option('display.max_rows', 1000)  \n",
    "pd.set_option('display.max_columns', 1000) "
   ]
  },
  {
   "cell_type": "code",
   "execution_count": 179,
   "metadata": {},
   "outputs": [],
   "source": [
    "import matplotlib.pyplot as plt\n",
    "import seaborn as sns\n",
    "import plotly.express as px\n",
    "import plotly.graph_objects as go"
   ]
  },
  {
   "cell_type": "code",
   "execution_count": 5,
   "metadata": {},
   "outputs": [],
   "source": [
    "df = pd.read_csv(\"presupuesto_sancionado_clean.csv\")"
   ]
  },
  {
   "cell_type": "code",
   "execution_count": 6,
   "metadata": {
    "scrolled": true
   },
   "outputs": [],
   "source": [
    "df = df.loc[df['SANCION'] != 0]\n",
    "df = df.loc[df['AÑO'] > 2009]"
   ]
  },
  {
   "cell_type": "code",
   "execution_count": 7,
   "metadata": {},
   "outputs": [
    {
     "data": {
      "text/plain": [
       "array([2010, 2011, 2012, 2013, 2014, 2015, 2016, 2017, 2018, 2019, 2020],\n",
       "      dtype=int64)"
      ]
     },
     "execution_count": 7,
     "metadata": {},
     "output_type": "execute_result"
    }
   ],
   "source": [
    "df.AÑO.unique()"
   ]
  },
  {
   "cell_type": "code",
   "execution_count": 8,
   "metadata": {},
   "outputs": [
    {
     "data": {
      "text/plain": [
       "(401068, 22)"
      ]
     },
     "execution_count": 8,
     "metadata": {},
     "output_type": "execute_result"
    }
   ],
   "source": [
    "df.shape"
   ]
  },
  {
   "cell_type": "code",
   "execution_count": 9,
   "metadata": {},
   "outputs": [],
   "source": [
    "cols = df.dtypes[(df.dtypes == 'object')].index\n",
    "for col in cols:\n",
    "    df[col] = df[col].astype(str)"
   ]
  },
  {
   "cell_type": "code",
   "execution_count": 147,
   "metadata": {
    "scrolled": true
   },
   "outputs": [
    {
     "data": {
      "text/html": [
       "<div>\n",
       "<style scoped>\n",
       "    .dataframe tbody tr th:only-of-type {\n",
       "        vertical-align: middle;\n",
       "    }\n",
       "\n",
       "    .dataframe tbody tr th {\n",
       "        vertical-align: top;\n",
       "    }\n",
       "\n",
       "    .dataframe thead th {\n",
       "        text-align: right;\n",
       "    }\n",
       "</style>\n",
       "<table border=\"1\" class=\"dataframe\">\n",
       "  <thead>\n",
       "    <tr style=\"text-align: right;\">\n",
       "      <th></th>\n",
       "      <th>CARACTER</th>\n",
       "      <th>JURISDICCION</th>\n",
       "      <th>SUBJURISDICCION</th>\n",
       "      <th>ENTIDAD</th>\n",
       "      <th>SERVICIO</th>\n",
       "      <th>UNIDAD_EJECUTORA</th>\n",
       "      <th>PROGRAMA</th>\n",
       "      <th>SUBPROGRAMA</th>\n",
       "      <th>PROYECTO</th>\n",
       "      <th>ACTIVIDAD</th>\n",
       "      <th>OBRA</th>\n",
       "      <th>FINALIDAD</th>\n",
       "      <th>FUNCION</th>\n",
       "      <th>INCISO</th>\n",
       "      <th>PRINCIPAL</th>\n",
       "      <th>PARCIAL</th>\n",
       "      <th>SUBPARCIAL</th>\n",
       "      <th>CLAS_ECONOMICO</th>\n",
       "      <th>FUENTE_FIN</th>\n",
       "      <th>UBICACION_GEOGRAFICA</th>\n",
       "      <th>SANCION</th>\n",
       "      <th>AÑO</th>\n",
       "    </tr>\n",
       "  </thead>\n",
       "  <tbody>\n",
       "    <tr>\n",
       "      <th>606525</th>\n",
       "      <td>ADMINISTRACION CENTRAL</td>\n",
       "      <td>JEFATURA DE GOBIERNO</td>\n",
       "      <td>SECRETARIA DE AMBIENTE</td>\n",
       "      <td>SECRETARIA DE AMBIENTE</td>\n",
       "      <td>SEC. AMBIENTE</td>\n",
       "      <td>UPE ECOPARQUE</td>\n",
       "      <td>CONSERVACION DE LA BIODIVERSIDAD</td>\n",
       "      <td>CONSERVACION DE LA BIODIVERSIDAD</td>\n",
       "      <td>CONSERVACION DE LA BIODIVERSIDAD</td>\n",
       "      <td>CONDUCCION</td>\n",
       "      <td>CONDUCCION</td>\n",
       "      <td>SERVICIOS ECONOMICOS</td>\n",
       "      <td>ECOLOGIA</td>\n",
       "      <td>GASTOS EN PERSONAL</td>\n",
       "      <td>PERSONAL PERMANENTE</td>\n",
       "      <td>RETRIBUCION DEL CARGO</td>\n",
       "      <td>RETRIBUCION DEL CARGO</td>\n",
       "      <td>REMUNERACIONES AL PERSONAL</td>\n",
       "      <td>TESORO DE LA CIUDAD</td>\n",
       "      <td>COMUNA 14</td>\n",
       "      <td>6382817.0</td>\n",
       "      <td>2020</td>\n",
       "    </tr>\n",
       "    <tr>\n",
       "      <th>606526</th>\n",
       "      <td>ADMINISTRACION CENTRAL</td>\n",
       "      <td>JEFATURA DE GOBIERNO</td>\n",
       "      <td>SECRETARIA DE AMBIENTE</td>\n",
       "      <td>SECRETARIA DE AMBIENTE</td>\n",
       "      <td>SEC. AMBIENTE</td>\n",
       "      <td>UPE ECOPARQUE</td>\n",
       "      <td>CONSERVACION DE LA BIODIVERSIDAD</td>\n",
       "      <td>CONSERVACION DE LA BIODIVERSIDAD</td>\n",
       "      <td>CONSERVACION DE LA BIODIVERSIDAD</td>\n",
       "      <td>CONDUCCION</td>\n",
       "      <td>CONDUCCION</td>\n",
       "      <td>SERVICIOS ECONOMICOS</td>\n",
       "      <td>ECOLOGIA</td>\n",
       "      <td>GASTOS EN PERSONAL</td>\n",
       "      <td>PERSONAL PERMANENTE</td>\n",
       "      <td>SUELDO ANUAL COMPLEMENTARIO</td>\n",
       "      <td>SUELDO ANUAL COMPLEMENTARIO</td>\n",
       "      <td>REMUNERACIONES AL PERSONAL</td>\n",
       "      <td>TESORO DE LA CIUDAD</td>\n",
       "      <td>COMUNA 14</td>\n",
       "      <td>531902.0</td>\n",
       "      <td>2020</td>\n",
       "    </tr>\n",
       "    <tr>\n",
       "      <th>606527</th>\n",
       "      <td>ADMINISTRACION CENTRAL</td>\n",
       "      <td>JEFATURA DE GOBIERNO</td>\n",
       "      <td>SECRETARIA DE AMBIENTE</td>\n",
       "      <td>SECRETARIA DE AMBIENTE</td>\n",
       "      <td>SEC. AMBIENTE</td>\n",
       "      <td>UPE ECOPARQUE</td>\n",
       "      <td>CONSERVACION DE LA BIODIVERSIDAD</td>\n",
       "      <td>CONSERVACION DE LA BIODIVERSIDAD</td>\n",
       "      <td>CONSERVACION DE LA BIODIVERSIDAD</td>\n",
       "      <td>CONDUCCION</td>\n",
       "      <td>CONDUCCION</td>\n",
       "      <td>SERVICIOS ECONOMICOS</td>\n",
       "      <td>ECOLOGIA</td>\n",
       "      <td>GASTOS EN PERSONAL</td>\n",
       "      <td>PERSONAL PERMANENTE</td>\n",
       "      <td>CONTRIBUCIONES PATRONALES</td>\n",
       "      <td>CONTRIBUCIONES PATRONALES</td>\n",
       "      <td>REMUNERACIONES AL PERSONAL</td>\n",
       "      <td>TESORO DE LA CIUDAD</td>\n",
       "      <td>COMUNA 14</td>\n",
       "      <td>1277732.0</td>\n",
       "      <td>2020</td>\n",
       "    </tr>\n",
       "    <tr>\n",
       "      <th>606528</th>\n",
       "      <td>ADMINISTRACION CENTRAL</td>\n",
       "      <td>JEFATURA DE GOBIERNO</td>\n",
       "      <td>SECRETARIA DE AMBIENTE</td>\n",
       "      <td>SECRETARIA DE AMBIENTE</td>\n",
       "      <td>SEC. AMBIENTE</td>\n",
       "      <td>UPE ECOPARQUE</td>\n",
       "      <td>CONSERVACION DE LA BIODIVERSIDAD</td>\n",
       "      <td>CONSERVACION DE LA BIODIVERSIDAD</td>\n",
       "      <td>CONSERVACION DE LA BIODIVERSIDAD</td>\n",
       "      <td>CONDUCCION</td>\n",
       "      <td>CONDUCCION</td>\n",
       "      <td>SERVICIOS ECONOMICOS</td>\n",
       "      <td>ECOLOGIA</td>\n",
       "      <td>GASTOS EN PERSONAL</td>\n",
       "      <td>ASISTENCIA SOCIAL AL PERSONAL</td>\n",
       "      <td>SEGUROS DE RIESGO DE TRABAJO</td>\n",
       "      <td>SEGUROS DE RIESGO DE TRABAJO</td>\n",
       "      <td>REMUNERACIONES AL PERSONAL</td>\n",
       "      <td>TESORO DE LA CIUDAD</td>\n",
       "      <td>COMUNA 14</td>\n",
       "      <td>199300.0</td>\n",
       "      <td>2020</td>\n",
       "    </tr>\n",
       "    <tr>\n",
       "      <th>606529</th>\n",
       "      <td>ADMINISTRACION CENTRAL</td>\n",
       "      <td>JEFATURA DE GOBIERNO</td>\n",
       "      <td>SECRETARIA DE AMBIENTE</td>\n",
       "      <td>SECRETARIA DE AMBIENTE</td>\n",
       "      <td>SEC. AMBIENTE</td>\n",
       "      <td>UPE ECOPARQUE</td>\n",
       "      <td>CONSERVACION DE LA BIODIVERSIDAD</td>\n",
       "      <td>CONSERVACION DE LA BIODIVERSIDAD</td>\n",
       "      <td>CONSERVACION DE LA BIODIVERSIDAD</td>\n",
       "      <td>CONDUCCION</td>\n",
       "      <td>CONDUCCION</td>\n",
       "      <td>SERVICIOS ECONOMICOS</td>\n",
       "      <td>ECOLOGIA</td>\n",
       "      <td>GASTOS EN PERSONAL</td>\n",
       "      <td>GABINETE DE AUTORIDADES SUPERIORES</td>\n",
       "      <td>RETRIBUCION DEL CARGO</td>\n",
       "      <td>RETRIBUCION DEL CARGO</td>\n",
       "      <td>REMUNERACIONES AL PERSONAL</td>\n",
       "      <td>TESORO DE LA CIUDAD</td>\n",
       "      <td>COMUNA 14</td>\n",
       "      <td>4019592.0</td>\n",
       "      <td>2020</td>\n",
       "    </tr>\n",
       "    <tr>\n",
       "      <th>...</th>\n",
       "      <td>...</td>\n",
       "      <td>...</td>\n",
       "      <td>...</td>\n",
       "      <td>...</td>\n",
       "      <td>...</td>\n",
       "      <td>...</td>\n",
       "      <td>...</td>\n",
       "      <td>...</td>\n",
       "      <td>...</td>\n",
       "      <td>...</td>\n",
       "      <td>...</td>\n",
       "      <td>...</td>\n",
       "      <td>...</td>\n",
       "      <td>...</td>\n",
       "      <td>...</td>\n",
       "      <td>...</td>\n",
       "      <td>...</td>\n",
       "      <td>...</td>\n",
       "      <td>...</td>\n",
       "      <td>...</td>\n",
       "      <td>...</td>\n",
       "      <td>...</td>\n",
       "    </tr>\n",
       "    <tr>\n",
       "      <th>635402</th>\n",
       "      <td>ORGANISMOS DESCENTRALIZADOS</td>\n",
       "      <td>JEFATURA DE GOBIERNO</td>\n",
       "      <td>SECRETARIA DE AMBIENTE</td>\n",
       "      <td>AGENCIA DE PROTECCION AMBIENTAL</td>\n",
       "      <td>AGENCIA DE PROTECCION AMBIENTAL</td>\n",
       "      <td>DIRECCION GENERAL POLITICA Y ESTRATEGIA AMBIENTAL</td>\n",
       "      <td>PROGRAMA DE RESIDUOS SUJETOS A MANEJO ESPECIAL</td>\n",
       "      <td>PROGRAMA DE RESIDUOS SUJETOS A MANEJO ESPECIAL</td>\n",
       "      <td>PROGRAMA DE RESIDUOS SUJETOS A MANEJO ESPECIAL</td>\n",
       "      <td>ADMINISTRACION Y SERVICIOS GENERALES</td>\n",
       "      <td>ADMINISTRACION Y SERVICIOS GENERALES</td>\n",
       "      <td>SERVICIOS ECONOMICOS</td>\n",
       "      <td>ECOLOGIA</td>\n",
       "      <td>BIENES DE CONSUMO</td>\n",
       "      <td>PRODUCTOS QUIMICOS, COMBUSTIBLES Y LUBRICANTES</td>\n",
       "      <td>INSECTICIDAS, FUMIGANTES Y OTROS</td>\n",
       "      <td>INSECTICIDAS, FUMIGANTES Y OTROS</td>\n",
       "      <td>BIENES DE CONSUMO</td>\n",
       "      <td>TESORO DE LA CIUDAD</td>\n",
       "      <td>COMUNA 1</td>\n",
       "      <td>800.0</td>\n",
       "      <td>2020</td>\n",
       "    </tr>\n",
       "    <tr>\n",
       "      <th>635403</th>\n",
       "      <td>ORGANISMOS DESCENTRALIZADOS</td>\n",
       "      <td>JEFATURA DE GOBIERNO</td>\n",
       "      <td>SECRETARIA DE AMBIENTE</td>\n",
       "      <td>AGENCIA DE PROTECCION AMBIENTAL</td>\n",
       "      <td>AGENCIA DE PROTECCION AMBIENTAL</td>\n",
       "      <td>DIRECCION GENERAL POLITICA Y ESTRATEGIA AMBIENTAL</td>\n",
       "      <td>PROGRAMA DE RESIDUOS SUJETOS A MANEJO ESPECIAL</td>\n",
       "      <td>PROGRAMA DE RESIDUOS SUJETOS A MANEJO ESPECIAL</td>\n",
       "      <td>PROGRAMA DE RESIDUOS SUJETOS A MANEJO ESPECIAL</td>\n",
       "      <td>ADMINISTRACION Y SERVICIOS GENERALES</td>\n",
       "      <td>ADMINISTRACION Y SERVICIOS GENERALES</td>\n",
       "      <td>SERVICIOS ECONOMICOS</td>\n",
       "      <td>ECOLOGIA</td>\n",
       "      <td>BIENES DE CONSUMO</td>\n",
       "      <td>PRODUCTOS QUIMICOS, COMBUSTIBLES Y LUBRICANTES</td>\n",
       "      <td>PRODUCTOS DE MATERIAL PLASTICO</td>\n",
       "      <td>PRODUCTOS DE MATERIAL PLASTICO</td>\n",
       "      <td>BIENES DE CONSUMO</td>\n",
       "      <td>TESORO DE LA CIUDAD</td>\n",
       "      <td>COMUNA 1</td>\n",
       "      <td>2000.0</td>\n",
       "      <td>2020</td>\n",
       "    </tr>\n",
       "    <tr>\n",
       "      <th>635404</th>\n",
       "      <td>ORGANISMOS DESCENTRALIZADOS</td>\n",
       "      <td>JEFATURA DE GOBIERNO</td>\n",
       "      <td>SECRETARIA DE AMBIENTE</td>\n",
       "      <td>AGENCIA DE PROTECCION AMBIENTAL</td>\n",
       "      <td>AGENCIA DE PROTECCION AMBIENTAL</td>\n",
       "      <td>DIRECCION GENERAL POLITICA Y ESTRATEGIA AMBIENTAL</td>\n",
       "      <td>PROGRAMA DE RESIDUOS SUJETOS A MANEJO ESPECIAL</td>\n",
       "      <td>PROGRAMA DE RESIDUOS SUJETOS A MANEJO ESPECIAL</td>\n",
       "      <td>PROGRAMA DE RESIDUOS SUJETOS A MANEJO ESPECIAL</td>\n",
       "      <td>ADMINISTRACION Y SERVICIOS GENERALES</td>\n",
       "      <td>ADMINISTRACION Y SERVICIOS GENERALES</td>\n",
       "      <td>SERVICIOS ECONOMICOS</td>\n",
       "      <td>ECOLOGIA</td>\n",
       "      <td>SERVICIOS NO PERSONALES</td>\n",
       "      <td>SERVICIOS ESPECIALIZADOS, COMERCIALES Y FINANCIEROS</td>\n",
       "      <td>SERVICIOS ESPECIALIZADOS</td>\n",
       "      <td>SERVICIOS ESPECIALIZADOS</td>\n",
       "      <td>SERVICIOS NO PERSONALES</td>\n",
       "      <td>TESORO DE LA CIUDAD</td>\n",
       "      <td>COMUNA 1</td>\n",
       "      <td>800000.0</td>\n",
       "      <td>2020</td>\n",
       "    </tr>\n",
       "    <tr>\n",
       "      <th>635405</th>\n",
       "      <td>ORGANISMOS DESCENTRALIZADOS</td>\n",
       "      <td>JEFATURA DE GOBIERNO</td>\n",
       "      <td>SECRETARIA DE AMBIENTE</td>\n",
       "      <td>AGENCIA DE PROTECCION AMBIENTAL</td>\n",
       "      <td>AGENCIA DE PROTECCION AMBIENTAL</td>\n",
       "      <td>DIRECCION GENERAL POLITICA Y ESTRATEGIA AMBIENTAL</td>\n",
       "      <td>PROGRAMA DE RESIDUOS SUJETOS A MANEJO ESPECIAL</td>\n",
       "      <td>PROGRAMA DE RESIDUOS SUJETOS A MANEJO ESPECIAL</td>\n",
       "      <td>PROGRAMA DE RESIDUOS SUJETOS A MANEJO ESPECIAL</td>\n",
       "      <td>ADMINISTRACION Y SERVICIOS GENERALES</td>\n",
       "      <td>ADMINISTRACION Y SERVICIOS GENERALES</td>\n",
       "      <td>SERVICIOS ECONOMICOS</td>\n",
       "      <td>ECOLOGIA</td>\n",
       "      <td>SERVICIOS NO PERSONALES</td>\n",
       "      <td>SERVICIOS ESPECIALIZADOS, COMERCIALES Y FINANCIEROS</td>\n",
       "      <td>IMPRENTA, PUBLICACIONES Y REPRODUCCIONES</td>\n",
       "      <td>IMPRENTA, PUBLICACIONES Y REPRODUCCIONES</td>\n",
       "      <td>SERVICIOS NO PERSONALES</td>\n",
       "      <td>TESORO DE LA CIUDAD</td>\n",
       "      <td>COMUNA 1</td>\n",
       "      <td>273260.0</td>\n",
       "      <td>2020</td>\n",
       "    </tr>\n",
       "    <tr>\n",
       "      <th>635406</th>\n",
       "      <td>ORGANISMOS DESCENTRALIZADOS</td>\n",
       "      <td>JEFATURA DE GOBIERNO</td>\n",
       "      <td>SECRETARIA DE AMBIENTE</td>\n",
       "      <td>AGENCIA DE PROTECCION AMBIENTAL</td>\n",
       "      <td>AGENCIA DE PROTECCION AMBIENTAL</td>\n",
       "      <td>DIRECCION GENERAL POLITICA Y ESTRATEGIA AMBIENTAL</td>\n",
       "      <td>PROGRAMA DE RESIDUOS SUJETOS A MANEJO ESPECIAL</td>\n",
       "      <td>PROGRAMA DE RESIDUOS SUJETOS A MANEJO ESPECIAL</td>\n",
       "      <td>PROGRAMA DE RESIDUOS SUJETOS A MANEJO ESPECIAL</td>\n",
       "      <td>ADMINISTRACION Y SERVICIOS GENERALES</td>\n",
       "      <td>ADMINISTRACION Y SERVICIOS GENERALES</td>\n",
       "      <td>SERVICIOS ECONOMICOS</td>\n",
       "      <td>ECOLOGIA</td>\n",
       "      <td>BIENES DE USO</td>\n",
       "      <td>MAQUINARIA Y EQUIPO</td>\n",
       "      <td>EQUIPO SANITARIO Y DE LABORATORIO</td>\n",
       "      <td>EQUIPO SANITARIO Y DE LABORATORIO</td>\n",
       "      <td>MAQUINARIA Y EQUIPO</td>\n",
       "      <td>TESORO DE LA CIUDAD</td>\n",
       "      <td>COMUNA 1</td>\n",
       "      <td>80000.0</td>\n",
       "      <td>2020</td>\n",
       "    </tr>\n",
       "  </tbody>\n",
       "</table>\n",
       "<p>1248 rows × 22 columns</p>\n",
       "</div>"
      ],
      "text/plain": [
       "                           CARACTER          JURISDICCION  \\\n",
       "606525  ADMINISTRACION CENTRAL       JEFATURA DE GOBIERNO   \n",
       "606526  ADMINISTRACION CENTRAL       JEFATURA DE GOBIERNO   \n",
       "606527  ADMINISTRACION CENTRAL       JEFATURA DE GOBIERNO   \n",
       "606528  ADMINISTRACION CENTRAL       JEFATURA DE GOBIERNO   \n",
       "606529  ADMINISTRACION CENTRAL       JEFATURA DE GOBIERNO   \n",
       "...                        ...                        ...   \n",
       "635402  ORGANISMOS DESCENTRALIZADOS  JEFATURA DE GOBIERNO   \n",
       "635403  ORGANISMOS DESCENTRALIZADOS  JEFATURA DE GOBIERNO   \n",
       "635404  ORGANISMOS DESCENTRALIZADOS  JEFATURA DE GOBIERNO   \n",
       "635405  ORGANISMOS DESCENTRALIZADOS  JEFATURA DE GOBIERNO   \n",
       "635406  ORGANISMOS DESCENTRALIZADOS  JEFATURA DE GOBIERNO   \n",
       "\n",
       "               SUBJURISDICCION                          ENTIDAD  \\\n",
       "606525  SECRETARIA DE AMBIENTE  SECRETARIA DE AMBIENTE            \n",
       "606526  SECRETARIA DE AMBIENTE  SECRETARIA DE AMBIENTE            \n",
       "606527  SECRETARIA DE AMBIENTE  SECRETARIA DE AMBIENTE            \n",
       "606528  SECRETARIA DE AMBIENTE  SECRETARIA DE AMBIENTE            \n",
       "606529  SECRETARIA DE AMBIENTE  SECRETARIA DE AMBIENTE            \n",
       "...                        ...                     ...            \n",
       "635402  SECRETARIA DE AMBIENTE  AGENCIA DE PROTECCION AMBIENTAL   \n",
       "635403  SECRETARIA DE AMBIENTE  AGENCIA DE PROTECCION AMBIENTAL   \n",
       "635404  SECRETARIA DE AMBIENTE  AGENCIA DE PROTECCION AMBIENTAL   \n",
       "635405  SECRETARIA DE AMBIENTE  AGENCIA DE PROTECCION AMBIENTAL   \n",
       "635406  SECRETARIA DE AMBIENTE  AGENCIA DE PROTECCION AMBIENTAL   \n",
       "\n",
       "                               SERVICIO  \\\n",
       "606525  SEC. AMBIENTE                     \n",
       "606526  SEC. AMBIENTE                     \n",
       "606527  SEC. AMBIENTE                     \n",
       "606528  SEC. AMBIENTE                     \n",
       "606529  SEC. AMBIENTE                     \n",
       "...               ...                     \n",
       "635402  AGENCIA DE PROTECCION AMBIENTAL   \n",
       "635403  AGENCIA DE PROTECCION AMBIENTAL   \n",
       "635404  AGENCIA DE PROTECCION AMBIENTAL   \n",
       "635405  AGENCIA DE PROTECCION AMBIENTAL   \n",
       "635406  AGENCIA DE PROTECCION AMBIENTAL   \n",
       "\n",
       "                                         UNIDAD_EJECUTORA  \\\n",
       "606525  UPE ECOPARQUE                                       \n",
       "606526  UPE ECOPARQUE                                       \n",
       "606527  UPE ECOPARQUE                                       \n",
       "606528  UPE ECOPARQUE                                       \n",
       "606529  UPE ECOPARQUE                                       \n",
       "...               ...                                       \n",
       "635402  DIRECCION GENERAL POLITICA Y ESTRATEGIA AMBIENTAL   \n",
       "635403  DIRECCION GENERAL POLITICA Y ESTRATEGIA AMBIENTAL   \n",
       "635404  DIRECCION GENERAL POLITICA Y ESTRATEGIA AMBIENTAL   \n",
       "635405  DIRECCION GENERAL POLITICA Y ESTRATEGIA AMBIENTAL   \n",
       "635406  DIRECCION GENERAL POLITICA Y ESTRATEGIA AMBIENTAL   \n",
       "\n",
       "                                              PROGRAMA  \\\n",
       "606525  CONSERVACION DE LA BIODIVERSIDAD                 \n",
       "606526  CONSERVACION DE LA BIODIVERSIDAD                 \n",
       "606527  CONSERVACION DE LA BIODIVERSIDAD                 \n",
       "606528  CONSERVACION DE LA BIODIVERSIDAD                 \n",
       "606529  CONSERVACION DE LA BIODIVERSIDAD                 \n",
       "...                                  ...                 \n",
       "635402  PROGRAMA DE RESIDUOS SUJETOS A MANEJO ESPECIAL   \n",
       "635403  PROGRAMA DE RESIDUOS SUJETOS A MANEJO ESPECIAL   \n",
       "635404  PROGRAMA DE RESIDUOS SUJETOS A MANEJO ESPECIAL   \n",
       "635405  PROGRAMA DE RESIDUOS SUJETOS A MANEJO ESPECIAL   \n",
       "635406  PROGRAMA DE RESIDUOS SUJETOS A MANEJO ESPECIAL   \n",
       "\n",
       "                                           SUBPROGRAMA  \\\n",
       "606525  CONSERVACION DE LA BIODIVERSIDAD                 \n",
       "606526  CONSERVACION DE LA BIODIVERSIDAD                 \n",
       "606527  CONSERVACION DE LA BIODIVERSIDAD                 \n",
       "606528  CONSERVACION DE LA BIODIVERSIDAD                 \n",
       "606529  CONSERVACION DE LA BIODIVERSIDAD                 \n",
       "...                                  ...                 \n",
       "635402  PROGRAMA DE RESIDUOS SUJETOS A MANEJO ESPECIAL   \n",
       "635403  PROGRAMA DE RESIDUOS SUJETOS A MANEJO ESPECIAL   \n",
       "635404  PROGRAMA DE RESIDUOS SUJETOS A MANEJO ESPECIAL   \n",
       "635405  PROGRAMA DE RESIDUOS SUJETOS A MANEJO ESPECIAL   \n",
       "635406  PROGRAMA DE RESIDUOS SUJETOS A MANEJO ESPECIAL   \n",
       "\n",
       "                                              PROYECTO  \\\n",
       "606525  CONSERVACION DE LA BIODIVERSIDAD                 \n",
       "606526  CONSERVACION DE LA BIODIVERSIDAD                 \n",
       "606527  CONSERVACION DE LA BIODIVERSIDAD                 \n",
       "606528  CONSERVACION DE LA BIODIVERSIDAD                 \n",
       "606529  CONSERVACION DE LA BIODIVERSIDAD                 \n",
       "...                                  ...                 \n",
       "635402  PROGRAMA DE RESIDUOS SUJETOS A MANEJO ESPECIAL   \n",
       "635403  PROGRAMA DE RESIDUOS SUJETOS A MANEJO ESPECIAL   \n",
       "635404  PROGRAMA DE RESIDUOS SUJETOS A MANEJO ESPECIAL   \n",
       "635405  PROGRAMA DE RESIDUOS SUJETOS A MANEJO ESPECIAL   \n",
       "635406  PROGRAMA DE RESIDUOS SUJETOS A MANEJO ESPECIAL   \n",
       "\n",
       "                                   ACTIVIDAD  \\\n",
       "606525  CONDUCCION                             \n",
       "606526  CONDUCCION                             \n",
       "606527  CONDUCCION                             \n",
       "606528  CONDUCCION                             \n",
       "606529  CONDUCCION                             \n",
       "...            ...                             \n",
       "635402  ADMINISTRACION Y SERVICIOS GENERALES   \n",
       "635403  ADMINISTRACION Y SERVICIOS GENERALES   \n",
       "635404  ADMINISTRACION Y SERVICIOS GENERALES   \n",
       "635405  ADMINISTRACION Y SERVICIOS GENERALES   \n",
       "635406  ADMINISTRACION Y SERVICIOS GENERALES   \n",
       "\n",
       "                                        OBRA             FINALIDAD   FUNCION  \\\n",
       "606525  CONDUCCION                            SERVICIOS ECONOMICOS  ECOLOGIA   \n",
       "606526  CONDUCCION                            SERVICIOS ECONOMICOS  ECOLOGIA   \n",
       "606527  CONDUCCION                            SERVICIOS ECONOMICOS  ECOLOGIA   \n",
       "606528  CONDUCCION                            SERVICIOS ECONOMICOS  ECOLOGIA   \n",
       "606529  CONDUCCION                            SERVICIOS ECONOMICOS  ECOLOGIA   \n",
       "...            ...                                             ...       ...   \n",
       "635402  ADMINISTRACION Y SERVICIOS GENERALES  SERVICIOS ECONOMICOS  ECOLOGIA   \n",
       "635403  ADMINISTRACION Y SERVICIOS GENERALES  SERVICIOS ECONOMICOS  ECOLOGIA   \n",
       "635404  ADMINISTRACION Y SERVICIOS GENERALES  SERVICIOS ECONOMICOS  ECOLOGIA   \n",
       "635405  ADMINISTRACION Y SERVICIOS GENERALES  SERVICIOS ECONOMICOS  ECOLOGIA   \n",
       "635406  ADMINISTRACION Y SERVICIOS GENERALES  SERVICIOS ECONOMICOS  ECOLOGIA   \n",
       "\n",
       "                         INCISO  \\\n",
       "606525  GASTOS EN PERSONAL        \n",
       "606526  GASTOS EN PERSONAL        \n",
       "606527  GASTOS EN PERSONAL        \n",
       "606528  GASTOS EN PERSONAL        \n",
       "606529  GASTOS EN PERSONAL        \n",
       "...                    ...        \n",
       "635402  BIENES DE CONSUMO         \n",
       "635403  BIENES DE CONSUMO         \n",
       "635404  SERVICIOS NO PERSONALES   \n",
       "635405  SERVICIOS NO PERSONALES   \n",
       "635406  BIENES DE USO             \n",
       "\n",
       "                                                  PRINCIPAL  \\\n",
       "606525  PERSONAL PERMANENTE                                   \n",
       "606526  PERSONAL PERMANENTE                                   \n",
       "606527  PERSONAL PERMANENTE                                   \n",
       "606528  ASISTENCIA SOCIAL AL PERSONAL                         \n",
       "606529  GABINETE DE AUTORIDADES SUPERIORES                    \n",
       "...                                    ...                    \n",
       "635402  PRODUCTOS QUIMICOS, COMBUSTIBLES Y LUBRICANTES        \n",
       "635403  PRODUCTOS QUIMICOS, COMBUSTIBLES Y LUBRICANTES        \n",
       "635404  SERVICIOS ESPECIALIZADOS, COMERCIALES Y FINANCIEROS   \n",
       "635405  SERVICIOS ESPECIALIZADOS, COMERCIALES Y FINANCIEROS   \n",
       "635406  MAQUINARIA Y EQUIPO                                   \n",
       "\n",
       "                                         PARCIAL  \\\n",
       "606525  RETRIBUCION DEL CARGO                      \n",
       "606526  SUELDO ANUAL COMPLEMENTARIO                \n",
       "606527  CONTRIBUCIONES PATRONALES                  \n",
       "606528  SEGUROS DE RIESGO DE TRABAJO               \n",
       "606529  RETRIBUCION DEL CARGO                      \n",
       "...                       ...                      \n",
       "635402  INSECTICIDAS, FUMIGANTES Y OTROS           \n",
       "635403  PRODUCTOS DE MATERIAL PLASTICO             \n",
       "635404  SERVICIOS ESPECIALIZADOS                   \n",
       "635405  IMPRENTA, PUBLICACIONES Y REPRODUCCIONES   \n",
       "635406  EQUIPO SANITARIO Y DE LABORATORIO          \n",
       "\n",
       "                                      SUBPARCIAL              CLAS_ECONOMICO  \\\n",
       "606525  RETRIBUCION DEL CARGO                     REMUNERACIONES AL PERSONAL   \n",
       "606526  SUELDO ANUAL COMPLEMENTARIO               REMUNERACIONES AL PERSONAL   \n",
       "606527  CONTRIBUCIONES PATRONALES                 REMUNERACIONES AL PERSONAL   \n",
       "606528  SEGUROS DE RIESGO DE TRABAJO              REMUNERACIONES AL PERSONAL   \n",
       "606529  RETRIBUCION DEL CARGO                     REMUNERACIONES AL PERSONAL   \n",
       "...                       ...                                            ...   \n",
       "635402  INSECTICIDAS, FUMIGANTES Y OTROS          BIENES DE CONSUMO            \n",
       "635403  PRODUCTOS DE MATERIAL PLASTICO            BIENES DE CONSUMO            \n",
       "635404  SERVICIOS ESPECIALIZADOS                  SERVICIOS NO PERSONALES      \n",
       "635405  IMPRENTA, PUBLICACIONES Y REPRODUCCIONES  SERVICIOS NO PERSONALES      \n",
       "635406  EQUIPO SANITARIO Y DE LABORATORIO         MAQUINARIA Y EQUIPO          \n",
       "\n",
       "                 FUENTE_FIN UBICACION_GEOGRAFICA    SANCION   AÑO  \n",
       "606525  TESORO DE LA CIUDAD  COMUNA 14            6382817.0  2020  \n",
       "606526  TESORO DE LA CIUDAD  COMUNA 14            531902.0   2020  \n",
       "606527  TESORO DE LA CIUDAD  COMUNA 14            1277732.0  2020  \n",
       "606528  TESORO DE LA CIUDAD  COMUNA 14            199300.0   2020  \n",
       "606529  TESORO DE LA CIUDAD  COMUNA 14            4019592.0  2020  \n",
       "...                     ...        ...                  ...   ...  \n",
       "635402  TESORO DE LA CIUDAD  COMUNA 1             800.0      2020  \n",
       "635403  TESORO DE LA CIUDAD  COMUNA 1             2000.0     2020  \n",
       "635404  TESORO DE LA CIUDAD  COMUNA 1             800000.0   2020  \n",
       "635405  TESORO DE LA CIUDAD  COMUNA 1             273260.0   2020  \n",
       "635406  TESORO DE LA CIUDAD  COMUNA 1             80000.0    2020  \n",
       "\n",
       "[1248 rows x 22 columns]"
      ]
     },
     "execution_count": 147,
     "metadata": {},
     "output_type": "execute_result"
    }
   ],
   "source": [
    "df.groupby('SUBJURISDICCION').get_group('SECRETARIA DE AMBIENTE')"
   ]
  },
  {
   "cell_type": "code",
   "execution_count": 152,
   "metadata": {
    "collapsed": true
   },
   "outputs": [
    {
     "name": "stdout",
     "output_type": "stream",
     "text": [
      "CARACTER []\n",
      "CARACTER 0\n",
      "\n",
      "JURISDICCION ['MINISTERIO DE AMBIENTE Y ESPACIO PUBLICO']\n",
      "JURISDICCION 40142\n",
      "\n",
      "SUBJURISDICCION ['MINISTERIO DE AMBIENTE Y ESPACIO PUBLICO' 'SECRETARIA DE AMBIENTE']\n",
      "SUBJURISDICCION 41141\n",
      "\n",
      "ENTIDAD ['MINISTERIO DE AMBIENTE Y ESPACIO PUBLICO' 'SECRETARIA DE AMBIENTE']\n",
      "ENTIDAD 29001\n",
      "\n",
      "SERVICIO ['MINISTERIO DE AMBIENTE Y ESPACIO PUBLICO' 'SEC. AMBIENTE']\n",
      "SERVICIO 29001\n",
      "\n",
      "UNIDAD_EJECUTORA ['MINISTERIO AMBIENTE Y ESPACIO PUBLICO']\n",
      "UNIDAD_EJECUTORA 1287\n",
      "\n",
      "PROGRAMA ['ACTIVIDADES CENTRALES AMBIENTE Y ESPACIO PUBLICO']\n",
      "PROGRAMA 1232\n",
      "\n",
      "SUBPROGRAMA ['ACTIVIDADES CENTRALES AMBIENTE Y ESPACIO PUBLICO']\n",
      "SUBPROGRAMA 1232\n",
      "\n",
      "PROYECTO ['ACTIVIDADES CENTRALES AMBIENTE Y ESPACIO PUBLICO']\n",
      "PROYECTO 1232\n",
      "\n",
      "ACTIVIDAD []\n",
      "ACTIVIDAD 0\n",
      "\n",
      "OBRA ['AMBIENTE Y ESPACIO PUBLICO']\n",
      "OBRA 3\n",
      "\n",
      "FINALIDAD []\n",
      "FINALIDAD 0\n",
      "\n",
      "FUNCION []\n",
      "FUNCION 0\n",
      "\n",
      "INCISO []\n",
      "INCISO 0\n",
      "\n",
      "PRINCIPAL []\n",
      "PRINCIPAL 0\n",
      "\n",
      "PARCIAL []\n",
      "PARCIAL 0\n",
      "\n",
      "SUBPARCIAL []\n",
      "SUBPARCIAL 0\n",
      "\n",
      "CLAS_ECONOMICO []\n",
      "CLAS_ECONOMICO 0\n",
      "\n",
      "FUENTE_FIN []\n",
      "FUENTE_FIN 0\n",
      "\n",
      "UBICACION_GEOGRAFICA []\n",
      "UBICACION_GEOGRAFICA 0\n",
      "\n"
     ]
    }
   ],
   "source": [
    "for col in cols:\n",
    "    print(col, df.loc[df[col].str.contains('AMBIENTE'), col].unique())\n",
    "\n",
    "    print(col, df[col].str.contains('AMBIENTE').sum())\n",
    "\n",
    "    print()"
   ]
  },
  {
   "cell_type": "markdown",
   "metadata": {},
   "source": [
    "**El Ministerio de Ambiente pasa a ser una secretaria en 2020 bajo la dependencia de la Jefatura de Gobierno**"
   ]
  },
  {
   "cell_type": "code",
   "execution_count": 148,
   "metadata": {},
   "outputs": [],
   "source": [
    "aux = df.groupby('JURISDICCION').get_group(\"JEFATURA DE GOBIERNO\")\n",
    "aux = aux.groupby('SUBJURISDICCION').get_group(\"SECRETARIA DE AMBIENTE\")\n",
    "\n",
    "gf = pd.concat([df.groupby('JURISDICCION').get_group(\"MINISTERIO DE AMBIENTE Y ESPACIO PUBLICO\"), aux])"
   ]
  },
  {
   "cell_type": "code",
   "execution_count": 153,
   "metadata": {},
   "outputs": [],
   "source": [
    "gf['SANCION'] = gf['SANCION'].astype(float)"
   ]
  },
  {
   "cell_type": "code",
   "execution_count": 155,
   "metadata": {},
   "outputs": [
    {
     "data": {
      "text/plain": [
       "SERVICIOS URBANOS                17757\n",
       "ECOLOGIA                         17417\n",
       "AGUA POTABLE Y ALCANTARILLADO    1486 \n",
       "SEGURIDAD INTERIOR               1480 \n",
       "TRABAJO                          1289 \n",
       "INDUSTRIA Y COMERCIO             1255 \n",
       "DIRECCION EJECUTIVA              340  \n",
       "CONTROL DE LA GESTION            194  \n",
       "PROMOCION Y ACCION SOCIAL        83   \n",
       "EDUCACION                        51   \n",
       "SALUD                            38   \n",
       "Name: FUNCION, dtype: int64"
      ]
     },
     "execution_count": 155,
     "metadata": {},
     "output_type": "execute_result"
    }
   ],
   "source": [
    "gf['FUNCION'].value_counts()"
   ]
  },
  {
   "cell_type": "code",
   "execution_count": 156,
   "metadata": {},
   "outputs": [
    {
     "data": {
      "text/plain": [
       "Index(['CARACTER', 'JURISDICCION', 'SUBJURISDICCION', 'ENTIDAD', 'SERVICIO',\n",
       "       'UNIDAD_EJECUTORA', 'PROGRAMA', 'SUBPROGRAMA', 'PROYECTO', 'ACTIVIDAD',\n",
       "       'OBRA', 'FINALIDAD', 'FUNCION', 'INCISO', 'PRINCIPAL', 'PARCIAL',\n",
       "       'SUBPARCIAL', 'CLAS_ECONOMICO', 'FUENTE_FIN', 'UBICACION_GEOGRAFICA',\n",
       "       'SANCION', 'AÑO'],\n",
       "      dtype='object')"
      ]
     },
     "execution_count": 156,
     "metadata": {},
     "output_type": "execute_result"
    }
   ],
   "source": [
    "gf.columns"
   ]
  },
  {
   "cell_type": "code",
   "execution_count": 158,
   "metadata": {},
   "outputs": [],
   "source": [
    "ecologia = gf[gf['FUNCION'] == 'ECOLOGIA']"
   ]
  },
  {
   "cell_type": "code",
   "execution_count": 159,
   "metadata": {},
   "outputs": [
    {
     "data": {
      "text/plain": [
       "Index(['CARACTER', 'JURISDICCION', 'SUBJURISDICCION', 'ENTIDAD', 'SERVICIO',\n",
       "       'UNIDAD_EJECUTORA', 'PROGRAMA', 'SUBPROGRAMA', 'PROYECTO', 'ACTIVIDAD',\n",
       "       'OBRA', 'FINALIDAD', 'FUNCION', 'INCISO', 'PRINCIPAL', 'PARCIAL',\n",
       "       'SUBPARCIAL', 'CLAS_ECONOMICO', 'FUENTE_FIN', 'UBICACION_GEOGRAFICA',\n",
       "       'SANCION', 'AÑO'],\n",
       "      dtype='object')"
      ]
     },
     "execution_count": 159,
     "metadata": {},
     "output_type": "execute_result"
    }
   ],
   "source": [
    "ecologia.columns"
   ]
  },
  {
   "cell_type": "code",
   "execution_count": 160,
   "metadata": {},
   "outputs": [
    {
     "data": {
      "text/plain": [
       "Index(['CARACTER', 'JURISDICCION', 'SUBJURISDICCION', 'ENTIDAD', 'SERVICIO',\n",
       "       'UNIDAD_EJECUTORA', 'PROGRAMA', 'PROYECTO', 'ACTIVIDAD', 'OBRA',\n",
       "       'FINALIDAD', 'FUNCION', 'INCISO', 'PRINCIPAL', 'PARCIAL', 'SUBPARCIAL',\n",
       "       'CLAS_ECONOMICO', 'FUENTE_FIN', 'UBICACION_GEOGRAFICA', 'SANCION',\n",
       "       'AÑO'],\n",
       "      dtype='object')"
      ]
     },
     "execution_count": 160,
     "metadata": {},
     "output_type": "execute_result"
    }
   ],
   "source": [
    "ecologia = ecologia.T.drop_duplicates().T  # Elimino columnas que contienen la misma información.\n",
    "\n",
    "ecologia.columns  "
   ]
  },
  {
   "cell_type": "code",
   "execution_count": 96,
   "metadata": {
    "collapsed": true
   },
   "outputs": [
    {
     "data": {
      "text/plain": [
       "<Figure size 432x576 with 0 Axes>"
      ]
     },
     "execution_count": 96,
     "metadata": {},
     "output_type": "execute_result"
    },
    {
     "data": {
      "text/plain": [
       "<matplotlib.axes._subplots.AxesSubplot at 0x27406c5d128>"
      ]
     },
     "execution_count": 96,
     "metadata": {},
     "output_type": "execute_result"
    },
    {
     "data": {
      "image/png": "[encoded data removed]",
      "text/plain": [
       "<Figure size 432x576 with 1 Axes>"
      ]
     },
     "metadata": {
      "needs_background": "light"
     },
     "output_type": "display_data"
    }
   ],
   "source": [
    "plt.figure(figsize=(6 ,8))\n",
    "ecologia['UNIDAD_EJECUTORA'].value_counts(ascending=True).plot(kind='barh')\n",
    "\n",
    "espacios_verdes = ecologia[ecologia['UNIDAD_EJECUTORA'] == 'DIRECCION GENERAL DE ESPACIOS VERDES']\n",
    "arbolado = ecologia[ecologia['UNIDAD_EJECUTORA'] == 'DIRECCION GENERAL DE ARBOLADO']"
   ]
  },
  {
   "cell_type": "code",
   "execution_count": 111,
   "metadata": {},
   "outputs": [
    {
     "data": {
      "text/html": [
       "<div>\n",
       "<style scoped>\n",
       "    .dataframe tbody tr th:only-of-type {\n",
       "        vertical-align: middle;\n",
       "    }\n",
       "\n",
       "    .dataframe tbody tr th {\n",
       "        vertical-align: top;\n",
       "    }\n",
       "\n",
       "    .dataframe thead th {\n",
       "        text-align: right;\n",
       "    }\n",
       "</style>\n",
       "<table border=\"1\" class=\"dataframe\">\n",
       "  <thead>\n",
       "    <tr style=\"text-align: right;\">\n",
       "      <th></th>\n",
       "      <th>CARACTER</th>\n",
       "      <th>JURISDICCION</th>\n",
       "      <th>ENTIDAD</th>\n",
       "      <th>UNIDAD_EJECUTORA</th>\n",
       "      <th>PROGRAMA</th>\n",
       "      <th>PROYECTO</th>\n",
       "      <th>ACTIVIDAD</th>\n",
       "      <th>OBRA</th>\n",
       "      <th>FINALIDAD</th>\n",
       "      <th>FUNCION</th>\n",
       "      <th>INCISO</th>\n",
       "      <th>PRINCIPAL</th>\n",
       "      <th>PARCIAL</th>\n",
       "      <th>SUBPARCIAL</th>\n",
       "      <th>CLAS_ECONOMICO</th>\n",
       "      <th>FUENTE_FIN</th>\n",
       "      <th>UBICACION_GEOGRAFICA</th>\n",
       "      <th>SANCION</th>\n",
       "      <th>AÑO</th>\n",
       "    </tr>\n",
       "  </thead>\n",
       "  <tbody>\n",
       "    <tr>\n",
       "      <th>154031</th>\n",
       "      <td>ADMINISTRACION CENTRAL</td>\n",
       "      <td>MINISTERIO DE AMBIENTE Y ESPACIO PUBLICO</td>\n",
       "      <td>MINISTERIO DE AMBIENTE Y ESPACIO PUBLICO</td>\n",
       "      <td>MINISTERIO AMBIENTE Y ESPACIO PUBLICO</td>\n",
       "      <td>ACTIVIDADES CENTRALES AMBIENTE Y ESPACIO PUBLICO</td>\n",
       "      <td>ACTIVIDADES CENTRALES AMBIENTE Y ESPACIO PUBLICO</td>\n",
       "      <td>CONDUCCION</td>\n",
       "      <td>CONDUCCION</td>\n",
       "      <td>SERVICIOS ECONOMICOS</td>\n",
       "      <td>ECOLOGIA</td>\n",
       "      <td>GASTOS EN PERSONAL</td>\n",
       "      <td>PERSONAL PERMANENTE</td>\n",
       "      <td>RETRIBUCION DEL CARGO</td>\n",
       "      <td>RETRIBUCION DEL CARGO</td>\n",
       "      <td>REMUNERACIONES AL PERSONAL</td>\n",
       "      <td>TESORO DE LA CIUDAD</td>\n",
       "      <td>COMUNA 1</td>\n",
       "      <td>666520</td>\n",
       "      <td>2010</td>\n",
       "    </tr>\n",
       "    <tr>\n",
       "      <th>154034</th>\n",
       "      <td>ADMINISTRACION CENTRAL</td>\n",
       "      <td>MINISTERIO DE AMBIENTE Y ESPACIO PUBLICO</td>\n",
       "      <td>MINISTERIO DE AMBIENTE Y ESPACIO PUBLICO</td>\n",
       "      <td>MINISTERIO AMBIENTE Y ESPACIO PUBLICO</td>\n",
       "      <td>ACTIVIDADES CENTRALES AMBIENTE Y ESPACIO PUBLICO</td>\n",
       "      <td>ACTIVIDADES CENTRALES AMBIENTE Y ESPACIO PUBLICO</td>\n",
       "      <td>CONDUCCION</td>\n",
       "      <td>CONDUCCION</td>\n",
       "      <td>SERVICIOS ECONOMICOS</td>\n",
       "      <td>ECOLOGIA</td>\n",
       "      <td>GASTOS EN PERSONAL</td>\n",
       "      <td>PERSONAL PERMANENTE</td>\n",
       "      <td>SUELDO ANUAL COMPLEMENTARIO</td>\n",
       "      <td>SUELDO ANUAL COMPLEMENTARIO</td>\n",
       "      <td>REMUNERACIONES AL PERSONAL</td>\n",
       "      <td>TESORO DE LA CIUDAD</td>\n",
       "      <td>COMUNA 1</td>\n",
       "      <td>3980</td>\n",
       "      <td>2010</td>\n",
       "    </tr>\n",
       "    <tr>\n",
       "      <th>154037</th>\n",
       "      <td>ADMINISTRACION CENTRAL</td>\n",
       "      <td>MINISTERIO DE AMBIENTE Y ESPACIO PUBLICO</td>\n",
       "      <td>MINISTERIO DE AMBIENTE Y ESPACIO PUBLICO</td>\n",
       "      <td>MINISTERIO AMBIENTE Y ESPACIO PUBLICO</td>\n",
       "      <td>ACTIVIDADES CENTRALES AMBIENTE Y ESPACIO PUBLICO</td>\n",
       "      <td>ACTIVIDADES CENTRALES AMBIENTE Y ESPACIO PUBLICO</td>\n",
       "      <td>CONDUCCION</td>\n",
       "      <td>CONDUCCION</td>\n",
       "      <td>SERVICIOS ECONOMICOS</td>\n",
       "      <td>ECOLOGIA</td>\n",
       "      <td>GASTOS EN PERSONAL</td>\n",
       "      <td>PERSONAL PERMANENTE</td>\n",
       "      <td>CONTRIBUCIONES PATRONALES</td>\n",
       "      <td>CONTRIBUCIONES PATRONALES</td>\n",
       "      <td>REMUNERACIONES AL PERSONAL</td>\n",
       "      <td>TESORO DE LA CIUDAD</td>\n",
       "      <td>COMUNA 1</td>\n",
       "      <td>8360</td>\n",
       "      <td>2010</td>\n",
       "    </tr>\n",
       "    <tr>\n",
       "      <th>154040</th>\n",
       "      <td>ADMINISTRACION CENTRAL</td>\n",
       "      <td>MINISTERIO DE AMBIENTE Y ESPACIO PUBLICO</td>\n",
       "      <td>MINISTERIO DE AMBIENTE Y ESPACIO PUBLICO</td>\n",
       "      <td>MINISTERIO AMBIENTE Y ESPACIO PUBLICO</td>\n",
       "      <td>ACTIVIDADES CENTRALES AMBIENTE Y ESPACIO PUBLICO</td>\n",
       "      <td>ACTIVIDADES CENTRALES AMBIENTE Y ESPACIO PUBLICO</td>\n",
       "      <td>CONDUCCION</td>\n",
       "      <td>CONDUCCION</td>\n",
       "      <td>SERVICIOS ECONOMICOS</td>\n",
       "      <td>ECOLOGIA</td>\n",
       "      <td>GASTOS EN PERSONAL</td>\n",
       "      <td>PERSONAL PERMANENTE</td>\n",
       "      <td>COMPLEMENTOS</td>\n",
       "      <td>COMPLEMENTOS</td>\n",
       "      <td>REMUNERACIONES AL PERSONAL</td>\n",
       "      <td>TESORO DE LA CIUDAD</td>\n",
       "      <td>COMUNA 1</td>\n",
       "      <td>6000</td>\n",
       "      <td>2010</td>\n",
       "    </tr>\n",
       "    <tr>\n",
       "      <th>154047</th>\n",
       "      <td>ADMINISTRACION CENTRAL</td>\n",
       "      <td>MINISTERIO DE AMBIENTE Y ESPACIO PUBLICO</td>\n",
       "      <td>MINISTERIO DE AMBIENTE Y ESPACIO PUBLICO</td>\n",
       "      <td>MINISTERIO AMBIENTE Y ESPACIO PUBLICO</td>\n",
       "      <td>ACTIVIDADES CENTRALES AMBIENTE Y ESPACIO PUBLICO</td>\n",
       "      <td>ACTIVIDADES CENTRALES AMBIENTE Y ESPACIO PUBLICO</td>\n",
       "      <td>CONDUCCION</td>\n",
       "      <td>CONDUCCION</td>\n",
       "      <td>SERVICIOS ECONOMICOS</td>\n",
       "      <td>ECOLOGIA</td>\n",
       "      <td>GASTOS EN PERSONAL</td>\n",
       "      <td>ASISTENCIA SOCIAL AL PERSONAL</td>\n",
       "      <td>SEGUROS DE RIESGO DE TRABAJO</td>\n",
       "      <td>SEGUROS DE RIESGO DE TRABAJO</td>\n",
       "      <td>REMUNERACIONES AL PERSONAL</td>\n",
       "      <td>TESORO DE LA CIUDAD</td>\n",
       "      <td>COMUNA 1</td>\n",
       "      <td>9670</td>\n",
       "      <td>2010</td>\n",
       "    </tr>\n",
       "  </tbody>\n",
       "</table>\n",
       "</div>"
      ],
      "text/plain": [
       "                      CARACTER                              JURISDICCION  \\\n",
       "154031  ADMINISTRACION CENTRAL  MINISTERIO DE AMBIENTE Y ESPACIO PUBLICO   \n",
       "154034  ADMINISTRACION CENTRAL  MINISTERIO DE AMBIENTE Y ESPACIO PUBLICO   \n",
       "154037  ADMINISTRACION CENTRAL  MINISTERIO DE AMBIENTE Y ESPACIO PUBLICO   \n",
       "154040  ADMINISTRACION CENTRAL  MINISTERIO DE AMBIENTE Y ESPACIO PUBLICO   \n",
       "154047  ADMINISTRACION CENTRAL  MINISTERIO DE AMBIENTE Y ESPACIO PUBLICO   \n",
       "\n",
       "                                         ENTIDAD  \\\n",
       "154031  MINISTERIO DE AMBIENTE Y ESPACIO PUBLICO   \n",
       "154034  MINISTERIO DE AMBIENTE Y ESPACIO PUBLICO   \n",
       "154037  MINISTERIO DE AMBIENTE Y ESPACIO PUBLICO   \n",
       "154040  MINISTERIO DE AMBIENTE Y ESPACIO PUBLICO   \n",
       "154047  MINISTERIO DE AMBIENTE Y ESPACIO PUBLICO   \n",
       "\n",
       "                             UNIDAD_EJECUTORA  \\\n",
       "154031  MINISTERIO AMBIENTE Y ESPACIO PUBLICO   \n",
       "154034  MINISTERIO AMBIENTE Y ESPACIO PUBLICO   \n",
       "154037  MINISTERIO AMBIENTE Y ESPACIO PUBLICO   \n",
       "154040  MINISTERIO AMBIENTE Y ESPACIO PUBLICO   \n",
       "154047  MINISTERIO AMBIENTE Y ESPACIO PUBLICO   \n",
       "\n",
       "                                                PROGRAMA  \\\n",
       "154031  ACTIVIDADES CENTRALES AMBIENTE Y ESPACIO PUBLICO   \n",
       "154034  ACTIVIDADES CENTRALES AMBIENTE Y ESPACIO PUBLICO   \n",
       "154037  ACTIVIDADES CENTRALES AMBIENTE Y ESPACIO PUBLICO   \n",
       "154040  ACTIVIDADES CENTRALES AMBIENTE Y ESPACIO PUBLICO   \n",
       "154047  ACTIVIDADES CENTRALES AMBIENTE Y ESPACIO PUBLICO   \n",
       "\n",
       "                                                PROYECTO   ACTIVIDAD  \\\n",
       "154031  ACTIVIDADES CENTRALES AMBIENTE Y ESPACIO PUBLICO  CONDUCCION   \n",
       "154034  ACTIVIDADES CENTRALES AMBIENTE Y ESPACIO PUBLICO  CONDUCCION   \n",
       "154037  ACTIVIDADES CENTRALES AMBIENTE Y ESPACIO PUBLICO  CONDUCCION   \n",
       "154040  ACTIVIDADES CENTRALES AMBIENTE Y ESPACIO PUBLICO  CONDUCCION   \n",
       "154047  ACTIVIDADES CENTRALES AMBIENTE Y ESPACIO PUBLICO  CONDUCCION   \n",
       "\n",
       "              OBRA             FINALIDAD   FUNCION              INCISO  \\\n",
       "154031  CONDUCCION  SERVICIOS ECONOMICOS  ECOLOGIA  GASTOS EN PERSONAL   \n",
       "154034  CONDUCCION  SERVICIOS ECONOMICOS  ECOLOGIA  GASTOS EN PERSONAL   \n",
       "154037  CONDUCCION  SERVICIOS ECONOMICOS  ECOLOGIA  GASTOS EN PERSONAL   \n",
       "154040  CONDUCCION  SERVICIOS ECONOMICOS  ECOLOGIA  GASTOS EN PERSONAL   \n",
       "154047  CONDUCCION  SERVICIOS ECONOMICOS  ECOLOGIA  GASTOS EN PERSONAL   \n",
       "\n",
       "                            PRINCIPAL                       PARCIAL  \\\n",
       "154031  PERSONAL PERMANENTE            RETRIBUCION DEL CARGO          \n",
       "154034  PERSONAL PERMANENTE            SUELDO ANUAL COMPLEMENTARIO    \n",
       "154037  PERSONAL PERMANENTE            CONTRIBUCIONES PATRONALES      \n",
       "154040  PERSONAL PERMANENTE            COMPLEMENTOS                   \n",
       "154047  ASISTENCIA SOCIAL AL PERSONAL  SEGUROS DE RIESGO DE TRABAJO   \n",
       "\n",
       "                          SUBPARCIAL              CLAS_ECONOMICO  \\\n",
       "154031  RETRIBUCION DEL CARGO         REMUNERACIONES AL PERSONAL   \n",
       "154034  SUELDO ANUAL COMPLEMENTARIO   REMUNERACIONES AL PERSONAL   \n",
       "154037  CONTRIBUCIONES PATRONALES     REMUNERACIONES AL PERSONAL   \n",
       "154040  COMPLEMENTOS                  REMUNERACIONES AL PERSONAL   \n",
       "154047  SEGUROS DE RIESGO DE TRABAJO  REMUNERACIONES AL PERSONAL   \n",
       "\n",
       "                 FUENTE_FIN UBICACION_GEOGRAFICA SANCION   AÑO  \n",
       "154031  TESORO DE LA CIUDAD  COMUNA 1             666520  2010  \n",
       "154034  TESORO DE LA CIUDAD  COMUNA 1             3980    2010  \n",
       "154037  TESORO DE LA CIUDAD  COMUNA 1             8360    2010  \n",
       "154040  TESORO DE LA CIUDAD  COMUNA 1             6000    2010  \n",
       "154047  TESORO DE LA CIUDAD  COMUNA 1             9670    2010  "
      ]
     },
     "execution_count": 111,
     "metadata": {},
     "output_type": "execute_result"
    }
   ],
   "source": [
    "ecologia.head(5)"
   ]
  },
  {
   "cell_type": "code",
   "execution_count": 86,
   "metadata": {},
   "outputs": [
    {
     "data": {
      "text/plain": [
       "(16457, 22)"
      ]
     },
     "execution_count": 86,
     "metadata": {},
     "output_type": "execute_result"
    }
   ],
   "source": [
    "ecologia.shape"
   ]
  },
  {
   "cell_type": "code",
   "execution_count": 167,
   "metadata": {},
   "outputs": [
    {
     "data": {
      "text/plain": [
       "MINISTERIO DE AMBIENTE Y ESPACIO PUBLICO    16190\n",
       "JEFATURA DE GOBIERNO                        1227 \n",
       "Name: JURISDICCION, dtype: int64"
      ]
     },
     "execution_count": 167,
     "metadata": {},
     "output_type": "execute_result"
    }
   ],
   "source": [
    "ecologia['JURISDICCION'].value_counts()"
   ]
  },
  {
   "cell_type": "code",
   "execution_count": 168,
   "metadata": {
    "scrolled": true
   },
   "outputs": [
    {
     "data": {
      "text/plain": [
       "MINISTERIO DE AMBIENTE Y ESPACIO PUBLICO    8629\n",
       "AGENCIA AMBIENTAL                           7544\n",
       "AGENCIA DE PROTECCION AMBIENTAL             1088\n",
       "SECRETARIA DE AMBIENTE                      139 \n",
       "ENTE DE HIGIENE URBANA                      17  \n",
       "Name: ENTIDAD, dtype: int64"
      ]
     },
     "execution_count": 168,
     "metadata": {},
     "output_type": "execute_result"
    }
   ],
   "source": [
    "ecologia['ENTIDAD'].value_counts()"
   ]
  },
  {
   "cell_type": "markdown",
   "metadata": {},
   "source": [
    "1. DIRECCION GENERAL DE ESPACIOS VERDES: https://www.buenosaires.gob.ar/gestioncomunal/institucional-subsecretaria-de-gestion-comunal/direccion-general-de\n",
    "2. DIRECCION GENERAL DE ARBOLADO: https://www.buenosaires.gob.ar/gestioncomunal/institucional-subsecretaria-de-gestion-comunal/dg-de-arbolado"
   ]
  },
  {
   "cell_type": "code",
   "execution_count": 125,
   "metadata": {
    "collapsed": true
   },
   "outputs": [
    {
     "data": {
      "text/plain": [
       "CUIDADO Y PUESTA EN VALOR DE ESPACIOS VERDES                       4226\n",
       "ACTIVIDADES CENTRALES AMBIENTE Y ESPACIO PUBLICO                   1184\n",
       "ESTRATEGIAS AMBIENTALES                                            1019\n",
       "CONTROL AMBIENTAL                                                  964 \n",
       "SANIDAD Y TENENCIA RESPONSABLE DE MASCOTAS                         868 \n",
       "CONTROL DE HIGIENE EN VIA PUBLICA E INMUEBLES                      796 \n",
       "EVALUACION TECNICA                                                 691 \n",
       "ARBOLADO URBANO                                                    675 \n",
       "PREVENCION AMBIENTAL EVALUACION TECNICA Y REGISTROS AMBIENTALES    600 \n",
       "ACTIVIDADES COMUNES A LOS PROG. 91,92,93, 94,95 Y 96               465 \n",
       "CONTROL DE PLAGAS                                                  439 \n",
       "PREVENC.AMB.EVALUAC.TECNICA Y CERTIFICADOS AMBIENTALES             384 \n",
       "LABORATORIO DE ANALISIS Y CALIDAD AMBIENTAL                        363 \n",
       "INTERVENCIONES VETERINARIAS                                        311 \n",
       "CONTROL DE GESTION Y RECLAMOS                                      288 \n",
       "ACTIV. COMUNES A LOS PROG. 91,92 Y93                               251 \n",
       "ACTIVIDADES COMUNES A LOS PROGRAMAS 91,92 Y 93                     240 \n",
       "ACTIV. COMUNES A LOS PROG. 91,92 ,93 Y 94                          223 \n",
       "PROTECCION Y SANIDAD ANIMAL                                        182 \n",
       "ACTIVIDADES COMUMES A LOS PROGRAMAS 91,92,93,94,95,96              162 \n",
       "BUENOS AIRES PRODUCE MAS LIMPIO (P+L)                              149 \n",
       "PLANEAMIENTO DE LA GESTION AMBIENTAL SOSTENIBLE                    140 \n",
       "ACTIVIDADES COMUNES A LOS PROG 21 Y 22                             135 \n",
       "ACTIVIDADES COMUNES A LOS PROG. 91,92,93, 94,95, 96 Y 100          130 \n",
       "ACTIVIDADES COMUNES A LOS PROGRAMAS: 11-52-53-56-57-85             111 \n",
       "CONSERVACION DE LA BIODIVERSIDAD                                   99  \n",
       "CONTROL DE GESTION                                                 93  \n",
       "ACTIVIDADES COMUNES A LOS PROGRAMAS: 11-52-53-56-57-58-59 Y 85     93  \n",
       "RECICLADO DE RESIDUOS URBANOS                                      87  \n",
       "ACTIVIDADES COMUNES A LOS PROGRAMAS: 52.53.56.57 Y 85              85  \n",
       "ACTIVIDADES COMUNES A LOS PROGRAMAS: 11-52-53-56-57-58-59-79-85    76  \n",
       "ASUNTOS LEGALES Y PRESUPUESTO                                      72  \n",
       "COMPENSACION AMBIENTAL                                             67  \n",
       "ACTIVIDADES COMUNES A LOS PROG. 91 AL 100 Y 102                    67  \n",
       "ACT.CEN.ESP.PUB.HIG.URBANA                                         65  \n",
       "ACTIVIDADES COMUNES A LOS PROG. 91 AL 103                          63  \n",
       "GESTION AMBIENTAL                                                  63  \n",
       "ACTIVIDADES COMUNES A LOS PROG 22 Y 23                             58  \n",
       "ACCIONES PARA LA RESTAURACION ECOLOGICA                            51  \n",
       "SERVICIOS DE ADMINISTRACION                                        45  \n",
       "TECNICA ADMINISTRATIVA Y LEGAL                                     44  \n",
       "ACTIVIDADES COMUNES A LOS PROGRAMAS: 11-52-53-57-58-59             41  \n",
       "ACTIVIDADES COMUNES A LOS PROGRAMAS: 11-52-53-56-57-58-59          41  \n",
       "ACTIVIDADES COMUNES A LOS PROGRAMAS: 11-52-53-57-58-59 Y 85        39  \n",
       "PROGRAMA DE RESIDUOS DE MANEJO ESPECIAL                            32  \n",
       "SERVICIOS DE HIGIENE URBANA                                        31  \n",
       "ACTIVIDADES COMUNES A LOS PROGRAMAS: 11-52-57-58 Y 85              31  \n",
       "PLANIFICACION Y PRESUPUESTO                                        21  \n",
       "REDES AMBIENTALES                                                  19  \n",
       "RECOLECCION, BARRIDO E HIGIENE DE LA CIUDAD DE BUENOS AIRES        17  \n",
       "PROGRAMA DE CAMBIO CLIMATICO E INFORMACION AMBIENTAL               15  \n",
       "PROGRAMA DE GESTION ENERGETICA                                     13  \n",
       "CENTROS DE ATENCION VETERINARIA                                    12  \n",
       "TRATAMIENTO DE RESIDUOS SOLIDOS URBANOS                            11  \n",
       "REGENERACION URBANA                                                7   \n",
       "OBRAS DE REGENERACIONURBANA                                        1   \n",
       "ACTIVIDADES COMUNES A LOS PROG 21,22,23,75,76 Y 77                 1   \n",
       "MANTENIMIENTO ZONA PUERTO MADERO                                   1   \n",
       "Name: PROGRAMA, dtype: int64"
      ]
     },
     "execution_count": 125,
     "metadata": {},
     "output_type": "execute_result"
    }
   ],
   "source": [
    "ecologia['PROGRAMA'].value_counts()"
   ]
  },
  {
   "cell_type": "code",
   "execution_count": 161,
   "metadata": {
    "scrolled": false
   },
   "outputs": [],
   "source": [
    "def sunburst(df):\n",
    "\n",
    "    fig = px.sunburst(df, \n",
    "                      path=['JURISDICCION', 'ENTIDAD','UNIDAD_EJECUTORA', 'PROGRAMA','PROYECTO',],\n",
    "                      values='SANCION', ids=None,\n",
    "    #                   width=1200, height=700,\n",
    "                      maxdepth=10,\n",
    "\n",
    "                      hover_data=['JURISDICCION', 'ENTIDAD','UNIDAD_EJECUTORA', 'PROGRAMA','PROYECTO',],\n",
    "                     )\n",
    "\n",
    "    # fig = fig.update_traces(textinfo='label+percent entry')\n",
    "    fig = fig.update_traces(textinfo='percent entry')\n",
    "\n",
    "    template = \"\"\"<b>%{label}</b> <br>$%{value:,.0f}</b> \n",
    "                <br>\n",
    "                    <br>JURISDICCION: %{customdata[0]}</b>\n",
    "                    <br>UNIDAD_EJECUTORA: %{customdata[2]}</b> \n",
    "                    <br>\n",
    "                        <br>PROGRAMA: %{customdata[3]}</b> \n",
    "                        <br>PROYECTO: %{customdata[4]}</b>\n",
    "                    </b>\n",
    "                </b> \"\"\"\n",
    "\n",
    "    fig = fig.update_traces(\n",
    "\n",
    "            go.Sunburst(\n",
    "            hovertemplate=template,\n",
    "            insidetextorientation='auto',       \n",
    "        ))\n",
    "    \n",
    "\n",
    "    # fig.write_html('sunburst_cause_deads.html')\n",
    "    fig.show()"
   ]
  },
  {
   "cell_type": "code",
   "execution_count": 163,
   "metadata": {
    "scrolled": true
   },
   "outputs": [
    {
     "data": {
      "application/vnd.plotly.v1+json": {
       "config": {
        "plotlyServerURL": "https://plot.ly"
       },
       "data": [
        {
         "branchvalues": "total",
         "customdata": [
          [
           "MINISTERIO DE AMBIENTE Y ESPACIO PUBLICO",
           "MINISTERIO DE AMBIENTE Y ESPACIO PUBLICO",
           "DIRECCION GENERAL DE RECICLADO",
           "RECICLADO DE RESIDUOS URBANOS",
           "A.CU.MAR - CENTROS VERDES"
          ],
          [
           "MINISTERIO DE AMBIENTE Y ESPACIO PUBLICO",
           "MINISTERIO DE AMBIENTE Y ESPACIO PUBLICO",
           "DIRECCION GENERAL DE LIMPIEZA",
           "SERVICIOS DE HIGIENE URBANA",
           "A.CU.MAR - RIACHUELO"
          ],
          [
           "MINISTERIO DE AMBIENTE Y ESPACIO PUBLICO",
           "MINISTERIO DE AMBIENTE Y ESPACIO PUBLICO",
           "DIRECCION GENERAL DE ESPACIOS VERDES",
           "CUIDADO Y PUESTA EN VALOR DE ESPACIOS VERDES",
           "A.CU.MAR - VALORIZACION DE LOS ESPACIOS VERDES"
          ],
          [
           "MINISTERIO DE AMBIENTE Y ESPACIO PUBLICO",
           "AGENCIA AMBIENTAL",
           "AGENCIA AMBIENTAL",
           "ACTIV. COMUNES A LOS PROG. 91,92 ,93 Y 94",
           "ACCIONES AMBIENTALES CABA"
          ],
          [
           "MINISTERIO DE AMBIENTE Y ESPACIO PUBLICO",
           "AGENCIA AMBIENTAL",
           "DIRECCION GENERAL DE CONTROL",
           "ACCIONES PARA LA RESTAURACION ECOLOGICA",
           "ACCIONES PARA LA RESTAURACION ECOLOGICA"
          ],
          [
           "JEFATURA DE GOBIERNO",
           "AGENCIA DE PROTECCION AMBIENTAL",
           "DIRECCION GENERAL DE CONTROL",
           "ACCIONES PARA LA RESTAURACION ECOLOGICA",
           "ACCIONES PARA LA RESTAURACION ECOLOGICA"
          ],
          [
           "JEFATURA DE GOBIERNO",
           "AGENCIA DE PROTECCION AMBIENTAL",
           "AGENCIA AMBIENTAL",
           "ACT. COMUNES A PROG. 91 A 103",
           "ACT. COMUNES A PROG. 91 A 103"
          ],
          [
           "MINISTERIO DE AMBIENTE Y ESPACIO PUBLICO",
           "AGENCIA AMBIENTAL",
           "AGENCIA AMBIENTAL",
           "ACTIV. COMUNES A LOS PROG. 91,92 ,93 Y 94",
           "ACTIV. COMUNES A LOS PROG. 91,92 ,93 Y 94"
          ],
          [
           "MINISTERIO DE AMBIENTE Y ESPACIO PUBLICO",
           "AGENCIA AMBIENTAL",
           "AGENCIA AMBIENTAL",
           "ACTIV. COMUNES A LOS PROG. 91,92 Y93",
           "ACTIV. COMUNES A LOS PROG. 91,92 Y93"
          ],
          [
           "MINISTERIO DE AMBIENTE Y ESPACIO PUBLICO",
           "MINISTERIO DE AMBIENTE Y ESPACIO PUBLICO",
           "MINISTERIO AMBIENTE Y ESPACIO PUBLICO",
           "ACTIVIDADES CENTRALES AMBIENTE Y ESPACIO PUBLICO",
           "ACTIVIDADES CENTRALES AMBIENTE Y ESPACIO PUBLICO"
          ],
          [
           "MINISTERIO DE AMBIENTE Y ESPACIO PUBLICO",
           "AGENCIA AMBIENTAL",
           "AGENCIA AMBIENTAL",
           "ACTIVIDADES COMUMES A LOS PROGRAMAS 91,92,93,94,95,96",
           "ACTIVIDADES COMUMES A LOS PROGRAMAS 91,92,93,94,95,96"
          ],
          [
           "MINISTERIO DE AMBIENTE Y ESPACIO PUBLICO",
           "MINISTERIO DE AMBIENTE Y ESPACIO PUBLICO",
           "SUBSECRETARIA DE ADMINISTRACION",
           "ACTIVIDADES COMUNES A LOS PROG 21 Y 22",
           "ACTIVIDADES COMUNES A LOS PROG 21 Y 22"
          ],
          [
           "MINISTERIO DE AMBIENTE Y ESPACIO PUBLICO",
           "MINISTERIO DE AMBIENTE Y ESPACIO PUBLICO",
           "SUBSECRETARIA DE ADMINISTRACION GENERAL Y DE USO DEL ESPACIO PUBLICO",
           "ACTIVIDADES COMUNES A LOS PROG 21,22,23,75,76 Y 77",
           "ACTIVIDADES COMUNES A LOS PROG 21,22,23,75,76 Y 77"
          ],
          [
           "MINISTERIO DE AMBIENTE Y ESPACIO PUBLICO",
           "AGENCIA AMBIENTAL",
           "AGENCIA AMBIENTAL",
           "ACTIVIDADES COMUNES A LOS PROG. 91 AL 100 Y 102",
           "ACTIVIDADES COMUNES A LOS PROG. 91 AL 100 Y 102"
          ],
          [
           "MINISTERIO DE AMBIENTE Y ESPACIO PUBLICO",
           "AGENCIA AMBIENTAL",
           "AGENCIA AMBIENTAL",
           "ACTIVIDADES COMUNES A LOS PROG. 91 AL 103",
           "ACTIVIDADES COMUNES A LOS PROG. 91 AL 103"
          ],
          [
           "MINISTERIO DE AMBIENTE Y ESPACIO PUBLICO",
           "AGENCIA AMBIENTAL",
           "AGENCIA AMBIENTAL",
           "ACTIVIDADES COMUNES A LOS PROG. 91,92,93, 94,95 Y 96",
           "ACTIVIDADES COMUNES A LOS PROG. 91,92,93, 94,95 Y 96"
          ],
          [
           "MINISTERIO DE AMBIENTE Y ESPACIO PUBLICO",
           "AGENCIA AMBIENTAL",
           "AGENCIA AMBIENTAL",
           "ACTIVIDADES COMUNES A LOS PROG. 91,92,93, 94,95, 96 Y 100",
           "ACTIVIDADES COMUNES A LOS PROG. 91,92,93, 94,95, 96 Y 100"
          ],
          [
           "MINISTERIO DE AMBIENTE Y ESPACIO PUBLICO",
           "AGENCIA AMBIENTAL",
           "AGENCIA AMBIENTAL",
           "ACTIVIDADES COMUNES A LOS PROGRAMAS 91,92 Y 93",
           "ACTIVIDADES COMUNES A LOS PROGRAMAS 91,92 Y 93"
          ],
          [
           "MINISTERIO DE AMBIENTE Y ESPACIO PUBLICO",
           "MINISTERIO DE AMBIENTE Y ESPACIO PUBLICO",
           "SUBSECRETARIA DE HIGIENE URBANA",
           "ACTIVIDADES COMUNES A LOS PROGRAMAS: 11-52-53-56-57-58-59",
           "ACTIVIDADES COMUNES A LOS PROGRAMAS: 11-52-53-56-57-58-59"
          ],
          [
           "MINISTERIO DE AMBIENTE Y ESPACIO PUBLICO",
           "MINISTERIO DE AMBIENTE Y ESPACIO PUBLICO",
           "SUBSECRETARIA DE HIGIENE URBANA",
           "ACTIVIDADES COMUNES A LOS PROGRAMAS: 11-52-53-56-57-58-59 Y 85",
           "ACTIVIDADES COMUNES A LOS PROGRAMAS: 11-52-53-56-57-58-59 Y 85"
          ],
          [
           "MINISTERIO DE AMBIENTE Y ESPACIO PUBLICO",
           "MINISTERIO DE AMBIENTE Y ESPACIO PUBLICO",
           "SUBSECRETARIA DE HIGIENE URBANA",
           "ACTIVIDADES COMUNES A LOS PROGRAMAS: 11-52-53-56-57-58-59-79-85",
           "ACTIVIDADES COMUNES A LOS PROGRAMAS: 11-52-53-56-57-58-59-79-85"
          ],
          [
           "MINISTERIO DE AMBIENTE Y ESPACIO PUBLICO",
           "MINISTERIO DE AMBIENTE Y ESPACIO PUBLICO",
           "SUBSECRETARIA DE HIGIENE URBANA",
           "ACTIVIDADES COMUNES A LOS PROGRAMAS: 11-52-53-56-57-85",
           "ACTIVIDADES COMUNES A LOS PROGRAMAS: 11-52-53-56-57-85"
          ],
          [
           "MINISTERIO DE AMBIENTE Y ESPACIO PUBLICO",
           "MINISTERIO DE AMBIENTE Y ESPACIO PUBLICO",
           "SUBSECRETARIA DE HIGIENE URBANA",
           "ACTIVIDADES COMUNES A LOS PROGRAMAS: 11-52-53-57-58-59",
           "ACTIVIDADES COMUNES A LOS PROGRAMAS: 11-52-53-57-58-59"
          ],
          [
           "MINISTERIO DE AMBIENTE Y ESPACIO PUBLICO",
           "MINISTERIO DE AMBIENTE Y ESPACIO PUBLICO",
           "SUBSECRETARIA DE HIGIENE URBANA",
           "ACTIVIDADES COMUNES A LOS PROGRAMAS: 11-52-53-57-58-59 Y 85",
           "ACTIVIDADES COMUNES A LOS PROGRAMAS: 11-52-53-57-58-59 Y 85"
          ],
          [
           "MINISTERIO DE AMBIENTE Y ESPACIO PUBLICO",
           "MINISTERIO DE AMBIENTE Y ESPACIO PUBLICO",
           "SUBSECRETARIA DE HIGIENE URBANA",
           "ACTIVIDADES COMUNES A LOS PROGRAMAS: 52.53.56.57 Y 85",
           "ACTIVIDADES COMUNES A LOS PROGRAMAS: 52.53.56.57 Y 85"
          ],
          [
           "MINISTERIO DE AMBIENTE Y ESPACIO PUBLICO",
           "AGENCIA AMBIENTAL",
           "AGENCIA AMBIENTAL",
           "ACTIVIDADES COMUMES A LOS PROGRAMAS 91,92,93,94,95,96",
           "AMPLIACION CIFA PARA SU TRANSFORMACION EN CENTRO METROPOLITANO VERDE"
          ],
          [
           "MINISTERIO DE AMBIENTE Y ESPACIO PUBLICO",
           "AGENCIA AMBIENTAL",
           "AGENCIA AMBIENTAL",
           "ACTIVIDADES COMUNES A LOS PROGRAMAS 91,92 Y 93",
           "ANALISIS DE SUSTANCIAS CONTAMINANTES EN AGUA, AIRE Y SUELO"
          ],
          [
           "MINISTERIO DE AMBIENTE Y ESPACIO PUBLICO",
           "MINISTERIO DE AMBIENTE Y ESPACIO PUBLICO",
           "DIRECCION GENERAL DE ARBOLADO",
           "ARBOLADO URBANO",
           "ARBOLADO URBANO"
          ],
          [
           "MINISTERIO DE AMBIENTE Y ESPACIO PUBLICO",
           "MINISTERIO DE AMBIENTE Y ESPACIO PUBLICO",
           "DIRECCION GENERAL TECNICO ADMINISTRATIVA Y LEGAL",
           "ASUNTOS LEGALES Y PRESUPUESTO",
           "ASUNTOS LEGALES Y PRESUPUESTO"
          ],
          [
           "MINISTERIO DE AMBIENTE Y ESPACIO PUBLICO",
           "AGENCIA AMBIENTAL",
           "DIRECCION GENERAL DE EVALUACION TECNICA",
           "BUENOS AIRES PRODUCE MAS LIMPIO (P+L)",
           "BUENOS AIRES PRODUCE MAS LIMPIO (P+L)"
          ],
          [
           "MINISTERIO DE AMBIENTE Y ESPACIO PUBLICO",
           "AGENCIA AMBIENTAL",
           "DIRECCION GENERAL ESTRATEGIAS AMBIENTALES",
           "BUENOS AIRES PRODUCE MAS LIMPIO (P+L)",
           "BUENOS AIRES PRODUCE MAS LIMPIO (P+L)"
          ],
          [
           "MINISTERIO DE AMBIENTE Y ESPACIO PUBLICO",
           "AGENCIA AMBIENTAL",
           "DIRECCION GENERAL POLITICA Y ESTRATEGIA AMBIENTAL",
           "BUENOS AIRES PRODUCE MAS LIMPIO (P+L)",
           "BUENOS AIRES PRODUCE MAS LIMPIO (P+L)"
          ],
          [
           "MINISTERIO DE AMBIENTE Y ESPACIO PUBLICO",
           "AGENCIA AMBIENTAL",
           "AGENCIA AMBIENTAL",
           "ACTIV. COMUNES A LOS PROG. 91,92 ,93 Y 94",
           "CENTRO DE INFORMACION Y FORMACION AMBIENTAL"
          ],
          [
           "MINISTERIO DE AMBIENTE Y ESPACIO PUBLICO",
           "AGENCIA AMBIENTAL",
           "AGENCIA AMBIENTAL",
           "CENTROS DE ATENCION VETERINARIA",
           "CENTROS DE ATENCION VETERINARIA"
          ],
          [
           "MINISTERIO DE AMBIENTE Y ESPACIO PUBLICO",
           "AGENCIA AMBIENTAL",
           "DIRECCION GENERAL ESTRATEGIAS AMBIENTALES",
           "CENTROS DE ATENCION VETERINARIA",
           "CENTROS DE ATENCION VETERINARIA"
          ],
          [
           "MINISTERIO DE AMBIENTE Y ESPACIO PUBLICO",
           "MINISTERIO DE AMBIENTE Y ESPACIO PUBLICO",
           "DIRECCION GENERAL DE RECICLADO",
           "RECICLADO DE RESIDUOS URBANOS",
           "CENTROS VERDES"
          ],
          [
           "MINISTERIO DE AMBIENTE Y ESPACIO PUBLICO",
           "AGENCIA AMBIENTAL",
           "AGENCIA AMBIENTAL",
           "COMPENSACION AMBIENTAL",
           "COMPENSACION AMBIENTAL"
          ],
          [
           "MINISTERIO DE AMBIENTE Y ESPACIO PUBLICO",
           "AGENCIA AMBIENTAL",
           "DIRECCION GENERAL DE EVALUACION AMBIENTAL",
           "COMPENSACION AMBIENTAL",
           "COMPENSACION AMBIENTAL"
          ],
          [
           "JEFATURA DE GOBIERNO",
           "SECRETARIA DE AMBIENTE",
           "UPE ECOPARQUE",
           "CONSERVACION DE LA BIODIVERSIDAD",
           "CONSERVACION DE LA BIODIVERSIDAD"
          ],
          [
           "MINISTERIO DE AMBIENTE Y ESPACIO PUBLICO",
           "MINISTERIO DE AMBIENTE Y ESPACIO PUBLICO",
           "UPE ECOPARQUE INTERACTIVO DE LA CABA",
           "CONSERVACION DE LA BIODIVERSIDAD",
           "CONSERVACION DE LA BIODIVERSIDAD"
          ],
          [
           "MINISTERIO DE AMBIENTE Y ESPACIO PUBLICO",
           "MINISTERIO DE AMBIENTE Y ESPACIO PUBLICO",
           "DIRECCION GENERAL DE LIMPIEZA",
           "SERVICIOS DE HIGIENE URBANA",
           "CONTENERIZACION"
          ],
          [
           "MINISTERIO DE AMBIENTE Y ESPACIO PUBLICO",
           "AGENCIA AMBIENTAL",
           "DIRECCION GENERAL DE CONTROL",
           "CONTROL AMBIENTAL",
           "CONTROL AMBIENTAL"
          ],
          [
           "JEFATURA DE GOBIERNO",
           "AGENCIA DE PROTECCION AMBIENTAL",
           "DIRECCION GENERAL DE CONTROL",
           "CONTROL AMBIENTAL",
           "CONTROL AMBIENTAL"
          ],
          [
           "MINISTERIO DE AMBIENTE Y ESPACIO PUBLICO",
           "MINISTERIO DE AMBIENTE Y ESPACIO PUBLICO",
           "DIRECCION GENERAL CONTROL DE GESTION",
           "CONTROL DE GESTION",
           "CONTROL DE GESTION"
          ],
          [
           "MINISTERIO DE AMBIENTE Y ESPACIO PUBLICO",
           "MINISTERIO DE AMBIENTE Y ESPACIO PUBLICO",
           "DIRECCION GENERAL CONTROL DE GESTION",
           "CONTROL DE GESTION Y RECLAMOS",
           "CONTROL DE GESTION Y RECLAMOS"
          ],
          [
           "MINISTERIO DE AMBIENTE Y ESPACIO PUBLICO",
           "MINISTERIO DE AMBIENTE Y ESPACIO PUBLICO",
           "DIRECCION GENERAL DE LIMPIEZA",
           "CONTROL DE HIGIENE EN VIA PUBLICA E INMUEBLES",
           "CONTROL DE HIGIENE EN VIA PUBLICA E INMUEBLES"
          ],
          [
           "MINISTERIO DE AMBIENTE Y ESPACIO PUBLICO",
           "MINISTERIO DE AMBIENTE Y ESPACIO PUBLICO",
           "DIRECCION GENERAL INSPECCION DE HIGIENE URBANA",
           "CONTROL DE HIGIENE EN VIA PUBLICA E INMUEBLES",
           "CONTROL DE HIGIENE EN VIA PUBLICA E INMUEBLES"
          ],
          [
           "MINISTERIO DE AMBIENTE Y ESPACIO PUBLICO",
           "MINISTERIO DE AMBIENTE Y ESPACIO PUBLICO",
           "SUBSECRETARIA DE HIGIENE URBANA",
           "CONTROL DE HIGIENE EN VIA PUBLICA E INMUEBLES",
           "CONTROL DE HIGIENE EN VIA PUBLICA E INMUEBLES"
          ],
          [
           "MINISTERIO DE AMBIENTE Y ESPACIO PUBLICO",
           "MINISTERIO DE AMBIENTE Y ESPACIO PUBLICO",
           "DIRECCION GENERAL DE LIMPIEZA",
           "CONTROL DE PLAGAS",
           "CONTROL DE PLAGAS"
          ],
          [
           "MINISTERIO DE AMBIENTE Y ESPACIO PUBLICO",
           "MINISTERIO DE AMBIENTE Y ESPACIO PUBLICO",
           "DIRECCION GENERAL INSPECCION DE HIGIENE URBANA",
           "CONTROL DE PLAGAS",
           "CONTROL DE PLAGAS"
          ],
          [
           "MINISTERIO DE AMBIENTE Y ESPACIO PUBLICO",
           "AGENCIA AMBIENTAL",
           "DIRECCION GENERAL ESTRATEGIAS AMBIENTALES",
           "ESTRATEGIAS AMBIENTALES",
           "CUBIERTA VERDE"
          ],
          [
           "MINISTERIO DE AMBIENTE Y ESPACIO PUBLICO",
           "AGENCIA AMBIENTAL",
           "DIRECCION GENERAL ESTRATEGIAS AMBIENTALES",
           "ESTRATEGIAS AMBIENTALES",
           "CUBIERTA VERDE EN LA CABA"
          ],
          [
           "MINISTERIO DE AMBIENTE Y ESPACIO PUBLICO",
           "MINISTERIO DE AMBIENTE Y ESPACIO PUBLICO",
           "DIRECCION GENERAL DE ARBOLADO",
           "ARBOLADO URBANO",
           "CUIDADO Y PRESERVACION DEL ARBOLADO URBANO"
          ],
          [
           "MINISTERIO DE AMBIENTE Y ESPACIO PUBLICO",
           "MINISTERIO DE AMBIENTE Y ESPACIO PUBLICO",
           "DIRECCION GENERAL DE ESPACIOS VERDES",
           "CUIDADO Y PUESTA EN VALOR DE ESPACIOS VERDES",
           "CUIDADO Y PRESERVACION DEL ARBOLADO URBANO"
          ],
          [
           "MINISTERIO DE AMBIENTE Y ESPACIO PUBLICO",
           "MINISTERIO DE AMBIENTE Y ESPACIO PUBLICO",
           "DIRECCION GENERAL DE ESPACIOS VERDES",
           "CUIDADO Y PUESTA EN VALOR DE ESPACIOS VERDES",
           "CUIDADO Y PUESTA EN VALOR DE ESPACIOS VERDES"
          ],
          [
           "MINISTERIO DE AMBIENTE Y ESPACIO PUBLICO",
           "MINISTERIO DE AMBIENTE Y ESPACIO PUBLICO",
           "DIRECCION GENERAL DE ESPACIOS VERDES",
           "CUIDADO Y PUESTA EN VALOR DE ESPACIOS VERDES",
           "CUIDADO Y PUESTA EN VALOR DE GRANDES PARQUES"
          ],
          [
           "MINISTERIO DE AMBIENTE Y ESPACIO PUBLICO",
           "MINISTERIO DE AMBIENTE Y ESPACIO PUBLICO",
           "DIRECCION GENERAL DE ESPACIOS VERDES",
           "CUIDADO Y PUESTA EN VALOR DE ESPACIOS VERDES",
           "CUIDADO Y PUESTA EN VALOR DEL PATRIMONIO CULTURAL Y NATURAL DE LOS ESPACIOS VERDES"
          ],
          [
           "MINISTERIO DE AMBIENTE Y ESPACIO PUBLICO",
           "AGENCIA AMBIENTAL",
           "DIRECCION GENERAL ESTRATEGIAS AMBIENTALES",
           "ESTRATEGIAS AMBIENTALES",
           "DESARROLLO DE LA RED DE AIRE Y RUIDO EN LA CIUDAD DE BUENOS AIRES."
          ],
          [
           "MINISTERIO DE AMBIENTE Y ESPACIO PUBLICO",
           "AGENCIA AMBIENTAL",
           "DIRECCION GENERAL ESTRATEGIAS AMBIENTALES",
           "PLANEAMIENTO DE LA GESTION AMBIENTAL SOSTENIBLE",
           "DESARROLLO DE LA RED DE AIRE Y RUIDO EN LA CIUDAD DE BUENOS AIRES."
          ],
          [
           "MINISTERIO DE AMBIENTE Y ESPACIO PUBLICO",
           "MINISTERIO DE AMBIENTE Y ESPACIO PUBLICO",
           "DIRECCION GENERAL DE LIMPIEZA",
           "SERVICIOS DE HIGIENE URBANA",
           "DISPOSICION FINAL RESIDUOS SOLIDOS URBANOS"
          ],
          [
           "MINISTERIO DE AMBIENTE Y ESPACIO PUBLICO",
           "AGENCIA AMBIENTAL",
           "AGENCIA AMBIENTAL",
           "REDES AMBIENTALES",
           "ESTACIONES MONITOREO CALIDAD DEL AGUA EN RED DE HIDROMETEREOLOGIA DE CABA"
          ],
          [
           "MINISTERIO DE AMBIENTE Y ESPACIO PUBLICO",
           "AGENCIA AMBIENTAL",
           "DIRECCION GENERAL ESTRATEGIAS AMBIENTALES",
           "ESTRATEGIAS AMBIENTALES",
           "ESTRATEGIAS AMBIENTALES"
          ],
          [
           "MINISTERIO DE AMBIENTE Y ESPACIO PUBLICO",
           "AGENCIA AMBIENTAL",
           "DIRECCION GENERAL POLITICA Y ESTRATEGIA AMBIENTAL",
           "ESTRATEGIAS AMBIENTALES",
           "ESTRATEGIAS AMBIENTALES"
          ],
          [
           "MINISTERIO DE AMBIENTE Y ESPACIO PUBLICO",
           "AGENCIA AMBIENTAL",
           "DIRECCION GENERAL DE EVALUACION AMBIENTAL",
           "EVALUACION TECNICA",
           "EVALUACION TECNICA"
          ],
          [
           "MINISTERIO DE AMBIENTE Y ESPACIO PUBLICO",
           "AGENCIA AMBIENTAL",
           "DIRECCION GENERAL DE EVALUACION TECNICA",
           "EVALUACION TECNICA",
           "EVALUACION TECNICA"
          ],
          [
           "JEFATURA DE GOBIERNO",
           "AGENCIA DE PROTECCION AMBIENTAL",
           "DIRECCION GENERAL EVALUACION AMBIAENTAL",
           "EVALUACION TECNICA",
           "EVALUACION TECNICA"
          ],
          [
           "MINISTERIO DE AMBIENTE Y ESPACIO PUBLICO",
           "AGENCIA AMBIENTAL",
           "AGENCIA AMBIENTAL",
           "GESTION AMBIENTAL",
           "GESTION AMBIENTAL"
          ],
          [
           "MINISTERIO DE AMBIENTE Y ESPACIO PUBLICO",
           "AGENCIA AMBIENTAL",
           "DIRECCION GENERAL ESTRATEGIAS AMBIENTALES",
           "ESTRATEGIAS AMBIENTALES",
           "HOGAR TRANSITORIO DE MASCOTAS"
          ],
          [
           "MINISTERIO DE AMBIENTE Y ESPACIO PUBLICO",
           "MINISTERIO DE AMBIENTE Y ESPACIO PUBLICO",
           "DIRECCION GENERAL DE ARBOLADO",
           "ARBOLADO URBANO",
           "INTERVENCIONES SOBRE EL ARBOLADO"
          ],
          [
           "MINISTERIO DE AMBIENTE Y ESPACIO PUBLICO",
           "AGENCIA AMBIENTAL",
           "AGENCIA AMBIENTAL",
           "INTERVENCIONES VETERINARIAS",
           "INTERVENCIONES VETERINARIAS"
          ],
          [
           "JEFATURA DE GOBIERNO",
           "AGENCIA DE PROTECCION AMBIENTAL",
           "AGENCIA AMBIENTAL",
           "INTERVENCIONES VETERINARIAS",
           "INTERVENCIONES VETERINARIAS"
          ],
          [
           "MINISTERIO DE AMBIENTE Y ESPACIO PUBLICO",
           "MINISTERIO DE AMBIENTE Y ESPACIO PUBLICO",
           "DIRECCION GENERAL DE ESPACIOS VERDES",
           "CUIDADO Y PUESTA EN VALOR DE ESPACIOS VERDES",
           "JARDIN BOTANICO CARLOS THAYS"
          ],
          [
           "MINISTERIO DE AMBIENTE Y ESPACIO PUBLICO",
           "AGENCIA AMBIENTAL",
           "DIRECCION GENERAL DE CONTROL",
           "LABORATORIO DE ANALISIS Y CALIDAD AMBIENTAL",
           "LABORATORIO DE ANALISIS Y CALIDAD AMBIENTAL"
          ],
          [
           "JEFATURA DE GOBIERNO",
           "AGENCIA DE PROTECCION AMBIENTAL",
           "DIRECCION GENERAL DE CONTROL",
           "LABORATORIO DE ANALISIS Y CALIDAD AMBIENTAL",
           "LABORATORIO DE ANALISIS Y CALIDAD AMBIENTAL"
          ],
          [
           "MINISTERIO DE AMBIENTE Y ESPACIO PUBLICO",
           "AGENCIA AMBIENTAL",
           "DIRECCION GENERAL DE EVALUACION TECNICA",
           "LABORATORIO DE ANALISIS Y CALIDAD AMBIENTAL",
           "LABORATORIO DE ANALISIS Y CALIDAD AMBIENTAL"
          ],
          [
           "MINISTERIO DE AMBIENTE Y ESPACIO PUBLICO",
           "MINISTERIO DE AMBIENTE Y ESPACIO PUBLICO",
           "DIRECCION GENERAL DE ESPACIOS VERDES",
           "CUIDADO Y PUESTA EN VALOR DE ESPACIOS VERDES",
           "OBRAS BA ELIGE EV"
          ],
          [
           "MINISTERIO DE AMBIENTE Y ESPACIO PUBLICO",
           "AGENCIA AMBIENTAL",
           "AGENCIA AMBIENTAL",
           "COMPENSACION AMBIENTAL",
           "OBRAS CORRECTIVAS DE RECOMPOSICION PREDIOS CONTAMINADOS REQUERIDOS POR IVC"
          ],
          [
           "MINISTERIO DE AMBIENTE Y ESPACIO PUBLICO",
           "AGENCIA AMBIENTAL",
           "DIRECCION GENERAL DE EVALUACION TECNICA",
           "COMPENSACION AMBIENTAL",
           "OBRAS CORRECTIVAS DE RECOMPOSICION PREDIOS CONTAMINADOS REQUERIDOS POR IVC"
          ],
          [
           "MINISTERIO DE AMBIENTE Y ESPACIO PUBLICO",
           "MINISTERIO DE AMBIENTE Y ESPACIO PUBLICO",
           "DIRECCION GENERAL DE ESPACIOS VERDES",
           "CUIDADO Y PUESTA EN VALOR DE ESPACIOS VERDES",
           "OBRAS DE ESPACIOS VERDES"
          ],
          [
           "MINISTERIO DE AMBIENTE Y ESPACIO PUBLICO",
           "MINISTERIO DE AMBIENTE Y ESPACIO PUBLICO",
           "DIRECCION GENERAL DE ESPACIOS VERDES",
           "CUIDADO Y PUESTA EN VALOR DE ESPACIOS VERDES",
           "OBRAS DE ESPACIOS VERDES II"
          ],
          [
           "MINISTERIO DE AMBIENTE Y ESPACIO PUBLICO",
           "MINISTERIO DE AMBIENTE Y ESPACIO PUBLICO",
           "DIRECCION GENERAL REGENERACION URBANA",
           "REGENERACION URBANA",
           "OBRAS DE REGENERACION URBANA"
          ],
          [
           "JEFATURA DE GOBIERNO",
           "SECRETARIA DE AMBIENTE",
           "UPE ECOPARQUE",
           "CONSERVACION DE LA BIODIVERSIDAD",
           "OBRAS ECOPARQUE MAYEP"
          ],
          [
           "MINISTERIO DE AMBIENTE Y ESPACIO PUBLICO",
           "MINISTERIO DE AMBIENTE Y ESPACIO PUBLICO",
           "UPE ECOPARQUE INTERACTIVO DE LA CABA",
           "CONSERVACION DE LA BIODIVERSIDAD",
           "OBRAS ECOPARQUE MAYEP"
          ],
          [
           "MINISTERIO DE AMBIENTE Y ESPACIO PUBLICO",
           "MINISTERIO DE AMBIENTE Y ESPACIO PUBLICO",
           "DIRECCION GENERAL OBRAS REGENERACION URBANA",
           "OBRAS DE REGENERACIONURBANA",
           "PARQUES URBANOS"
          ],
          [
           "MINISTERIO DE AMBIENTE Y ESPACIO PUBLICO",
           "AGENCIA AMBIENTAL",
           "DIRECCION GENERAL ESTRATEGIAS AMBIENTALES",
           "PLANEAMIENTO DE LA GESTION AMBIENTAL SOSTENIBLE",
           "PLANEAMIENTO DE LA GESTION AMBIENTAL SOSTENIBLE"
          ],
          [
           "MINISTERIO DE AMBIENTE Y ESPACIO PUBLICO",
           "MINISTERIO DE AMBIENTE Y ESPACIO PUBLICO",
           "DIRECCION GENERAL PLANIFICACION Y PRESUPUESTO",
           "PLANIFICACION Y PRESUPUESTO",
           "PLANIFICACION Y PRESUPUESTO"
          ],
          [
           "JEFATURA DE GOBIERNO",
           "AGENCIA DE PROTECCION AMBIENTAL",
           "DIRECCION GENERAL POLITICA Y ESTRATEGIA AMBIENTAL",
           "POLITICA Y ESTRATEGIA AMBIENTAL",
           "POLITICA Y ESTRATEGIA AMBIENTAL"
          ],
          [
           "MINISTERIO DE AMBIENTE Y ESPACIO PUBLICO",
           "AGENCIA AMBIENTAL",
           "DIRECCION GENERAL DE EVALUACION TECNICA",
           "PREVENC.AMB.EVALUAC.TECNICA Y CERTIFICADOS AMBIENTALES",
           "PREVENC.AMB.EVALUAC.TECNICA Y CERTIFICADOS AMBIENTALES"
          ],
          [
           "MINISTERIO DE AMBIENTE Y ESPACIO PUBLICO",
           "AGENCIA AMBIENTAL",
           "DIRECCION GENERAL DE EVALUACION TECNICA",
           "PREVENCION AMBIENTAL EVALUACION TECNICA Y REGISTROS AMBIENTALES",
           "PREVENCION AMBIENTAL EVALUACION TECNICA Y REGISTROS AMBIENTALES"
          ],
          [
           "MINISTERIO DE AMBIENTE Y ESPACIO PUBLICO",
           "AGENCIA AMBIENTAL",
           "DIRECCION GENERAL POLITICA Y ESTRATEGIA AMBIENTAL",
           "PROGRAMA DE CAMBIO CLIMATICO E INFORMACION AMBIENTAL",
           "PROGRAMA DE CAMBIO CLIMATICO E INFORMACION AMBIENTAL"
          ],
          [
           "JEFATURA DE GOBIERNO",
           "AGENCIA DE PROTECCION AMBIENTAL",
           "DIRECCION GENERAL POLITICA Y ESTRATEGIA AMBIENTAL",
           "PROGRAMA DE CAMBIO CLIMATICO E INFORMACION AMBIENTAL",
           "PROGRAMA DE CAMBIO CLIMATICO E INFORMACION AMBIENTAL"
          ],
          [
           "JEFATURA DE GOBIERNO",
           "AGENCIA DE PROTECCION AMBIENTAL",
           "DIRECCION GENERAL POLITICA Y ESTRATEGIA AMBIENTAL",
           "PROGRAMA DE DESARROLLO SUSTENTABLE",
           "PROGRAMA DE DESARROLLO SUSTENTABLE"
          ],
          [
           "MINISTERIO DE AMBIENTE Y ESPACIO PUBLICO",
           "AGENCIA AMBIENTAL",
           "DIRECCION GENERAL POLITICA Y ESTRATEGIA AMBIENTAL",
           "PROGRAMA DE GESTION ENERGETICA",
           "PROGRAMA DE GESTION ENERGETICA"
          ],
          [
           "JEFATURA DE GOBIERNO",
           "AGENCIA DE PROTECCION AMBIENTAL",
           "DIRECCION GENERAL POLITICA Y ESTRATEGIA AMBIENTAL",
           "PROGRAMA DE GESTION ENERGETICA",
           "PROGRAMA DE GESTION ENERGETICA"
          ],
          [
           "MINISTERIO DE AMBIENTE Y ESPACIO PUBLICO",
           "AGENCIA AMBIENTAL",
           "DIRECCION GENERAL POLITICA Y ESTRATEGIA AMBIENTAL",
           "PROGRAMA DE RESIDUOS DE MANEJO ESPECIAL",
           "PROGRAMA DE RESIDUOS DE MANEJO ESPECIAL"
          ],
          [
           "JEFATURA DE GOBIERNO",
           "AGENCIA DE PROTECCION AMBIENTAL",
           "DIRECCION GENERAL POLITICA Y ESTRATEGIA AMBIENTAL",
           "PROGRAMA DE RESIDUOS SUJETOS A MANEJO ESPECIAL",
           "PROGRAMA DE RESIDUOS SUJETOS A MANEJO ESPECIAL"
          ],
          [
           "MINISTERIO DE AMBIENTE Y ESPACIO PUBLICO",
           "AGENCIA AMBIENTAL",
           "AGENCIA AMBIENTAL",
           "PROTECCION Y SANIDAD ANIMAL",
           "PROTECCION Y SANIDAD ANIMAL"
          ],
          [
           "MINISTERIO DE AMBIENTE Y ESPACIO PUBLICO",
           "AGENCIA AMBIENTAL",
           "DIRECCION GENERAL ESTRATEGIAS AMBIENTALES",
           "PROTECCION Y SANIDAD ANIMAL",
           "PROTECCION Y SANIDAD ANIMAL"
          ],
          [
           "MINISTERIO DE AMBIENTE Y ESPACIO PUBLICO",
           "AGENCIA AMBIENTAL",
           "AGENCIA AMBIENTAL",
           "GESTION AMBIENTAL",
           "PROYECTOS ACUMAR"
          ],
          [
           "MINISTERIO DE AMBIENTE Y ESPACIO PUBLICO",
           "MINISTERIO DE AMBIENTE Y ESPACIO PUBLICO",
           "DIRECCION GENERAL INSPECCION DE HIGIENE URBANA",
           "CONTROL DE HIGIENE EN VIA PUBLICA E INMUEBLES",
           "PUESTA EN VALOR DE EDIFICIOS"
          ],
          [
           "MINISTERIO DE AMBIENTE Y ESPACIO PUBLICO",
           "AGENCIA AMBIENTAL",
           "AGENCIA AMBIENTAL",
           "ACTIV. COMUNES A LOS PROG. 91,92 ,93 Y 94",
           "PUESTA EN VALOR DE LAS OFICINAS DE LA AGENCIA DE PROTECCION AMBIENTAL"
          ],
          [
           "MINISTERIO DE AMBIENTE Y ESPACIO PUBLICO",
           "AGENCIA AMBIENTAL",
           "DIRECCION GENERAL ESTRATEGIAS AMBIENTALES",
           "ESTRATEGIAS AMBIENTALES",
           "PUESTA EN VALOR DEPOSITO RAES"
          ],
          [
           "MINISTERIO DE AMBIENTE Y ESPACIO PUBLICO",
           "MINISTERIO DE AMBIENTE Y ESPACIO PUBLICO",
           "DIRECCION GENERAL DE ESPACIOS VERDES",
           "CUIDADO Y PUESTA EN VALOR DE ESPACIOS VERDES",
           "PUESTA EN VALOR EDIFICIOS"
          ],
          [
           "MINISTERIO DE AMBIENTE Y ESPACIO PUBLICO",
           "MINISTERIO DE AMBIENTE Y ESPACIO PUBLICO",
           "DIRECCION GENERAL DE RECICLADO",
           "RECICLADO DE RESIDUOS URBANOS",
           "RECICLADO DE RESIDUOS URBANOS"
          ],
          [
           "MINISTERIO DE AMBIENTE Y ESPACIO PUBLICO",
           "ENTE DE HIGIENE URBANA",
           "ENTE DE HIGIENE URBANA",
           "RECOLECCION, BARRIDO E HIGIENE DE LA CIUDAD DE BUENOS AIRES",
           "RECOLECCION, BARRIDO E HIGIENE DE LA CIUDAD DE BUENOS AIRES"
          ],
          [
           "MINISTERIO DE AMBIENTE Y ESPACIO PUBLICO",
           "AGENCIA AMBIENTAL",
           "DIRECCION GENERAL ESTRATEGIAS AMBIENTALES",
           "ESTRATEGIAS AMBIENTALES",
           "RED DE MONITOREO AMBIENTAL"
          ],
          [
           "MINISTERIO DE AMBIENTE Y ESPACIO PUBLICO",
           "AGENCIA AMBIENTAL",
           "DIRECCION GENERAL ESTRATEGIAS AMBIENTALES",
           "ESTRATEGIAS AMBIENTALES",
           "RED DE MONITOREO DE LA CALIDAD DEL AGUA SUPERFICIAL DE LA CABA."
          ],
          [
           "MINISTERIO DE AMBIENTE Y ESPACIO PUBLICO",
           "AGENCIA AMBIENTAL",
           "DIRECCION GENERAL ESTRATEGIAS AMBIENTALES",
           "PLANEAMIENTO DE LA GESTION AMBIENTAL SOSTENIBLE",
           "RED DE MONITOREO DE LA CALIDAD DEL AGUA SUPERFICIAL DE LA CABA."
          ],
          [
           "MINISTERIO DE AMBIENTE Y ESPACIO PUBLICO",
           "AGENCIA AMBIENTAL",
           "AGENCIA AMBIENTAL",
           "REDES AMBIENTALES",
           "REDES AMBIENTALES"
          ],
          [
           "MINISTERIO DE AMBIENTE Y ESPACIO PUBLICO",
           "AGENCIA AMBIENTAL",
           "DIRECCION GENERAL DE CONTROL",
           "REDES AMBIENTALES",
           "REDES AMBIENTALES"
          ],
          [
           "JEFATURA DE GOBIERNO",
           "AGENCIA DE PROTECCION AMBIENTAL",
           "DIRECCION GENERAL DE CONTROL",
           "REDES AMBIENTALES",
           "REDES AMBIENTALES"
          ],
          [
           "MINISTERIO DE AMBIENTE Y ESPACIO PUBLICO",
           "AGENCIA AMBIENTAL",
           "AGENCIA AMBIENTAL",
           "ACTIV. COMUNES A LOS PROG. 91,92 ,93 Y 94",
           "REMEDIACION AMBIENTAL GCBA"
          ],
          [
           "MINISTERIO DE AMBIENTE Y ESPACIO PUBLICO",
           "AGENCIA AMBIENTAL",
           "AGENCIA AMBIENTAL",
           "COMPENSACION AMBIENTAL",
           "REMEDIACION Y MITIGACION AMBIENTAL"
          ],
          [
           "MINISTERIO DE AMBIENTE Y ESPACIO PUBLICO",
           "MINISTERIO DE AMBIENTE Y ESPACIO PUBLICO",
           "MINISTERIO AMBIENTE Y ESPACIO PUBLICO",
           "MANTENIMIENTO ZONA PUERTO MADERO",
           "REPARACION Y MEJORAS EN BARRIOS DE BUENOS AIRES"
          ],
          [
           "MINISTERIO DE AMBIENTE Y ESPACIO PUBLICO",
           "AGENCIA AMBIENTAL",
           "AGENCIA AMBIENTAL",
           "ACTIV. COMUNES A LOS PROG. 91,92 ,93 Y 94",
           "RESTAURACION Y MITIGACION GCBA"
          ],
          [
           "MINISTERIO DE AMBIENTE Y ESPACIO PUBLICO",
           "AGENCIA AMBIENTAL",
           "AGENCIA AMBIENTAL",
           "ACTIV. COMUNES A LOS PROG. 91,92 ,93 Y 94",
           "SANEAMIENTO Y REMEDIACION DE SUELOS CONTAMINADOS ACHA 2102/04 Y MENDOZA"
          ],
          [
           "MINISTERIO DE AMBIENTE Y ESPACIO PUBLICO",
           "AGENCIA AMBIENTAL",
           "AGENCIA AMBIENTAL",
           "SANIDAD Y TENENCIA RESPONSABLE DE MASCOTAS",
           "SANIDAD Y TENENCIA RESPONSABLE DE MASCOTAS"
          ],
          [
           "JEFATURA DE GOBIERNO",
           "AGENCIA DE PROTECCION AMBIENTAL",
           "AGENCIA AMBIENTAL",
           "SANIDAD Y TENENCIA RESPONSABLE DE MASCOTAS",
           "SANIDAD Y TENENCIA RESPONSABLE DE MASCOTAS"
          ],
          [
           "MINISTERIO DE AMBIENTE Y ESPACIO PUBLICO",
           "MINISTERIO DE AMBIENTE Y ESPACIO PUBLICO",
           "DIRECCION GENERAL DE LIMPIEZA",
           "SERVICIOS DE HIGIENE URBANA",
           "SERVICIO DE LIMPIEZA DE ARROYOS"
          ],
          [
           "MINISTERIO DE AMBIENTE Y ESPACIO PUBLICO",
           "MINISTERIO DE AMBIENTE Y ESPACIO PUBLICO",
           "MINISTERIO AMBIENTE Y ESPACIO PUBLICO",
           "SERVICIOS DE ADMINISTRACION",
           "SERVICIOS DE ADMINISTRACION"
          ],
          [
           "MINISTERIO DE AMBIENTE Y ESPACIO PUBLICO",
           "AGENCIA AMBIENTAL",
           "DIRECCION GENERAL DE EVALUACION TECNICA",
           "COMPENSACION AMBIENTAL",
           "SITIOS CONTAMINADOS"
          ],
          [
           "JEFATURA DE GOBIERNO",
           "AGENCIA DE PROTECCION AMBIENTAL",
           "DIRECCION GENERAL POLITICA Y ESTRATEGIA AMBIENTAL",
           "POLITICA Y ESTRATEGIA AMBIENTAL",
           "SITIOS CONTAMINADOS"
          ],
          [
           "MINISTERIO DE AMBIENTE Y ESPACIO PUBLICO",
           "MINISTERIO DE AMBIENTE Y ESPACIO PUBLICO",
           "DIRECCION GENERAL TECNICO ADMINISTRATIVA Y LEGAL",
           "TECNICA ADMINISTRATIVA Y LEGAL",
           "TECNICA ADMINISTRATIVA Y LEGAL"
          ],
          [
           "MINISTERIO DE AMBIENTE Y ESPACIO PUBLICO",
           "MINISTERIO DE AMBIENTE Y ESPACIO PUBLICO",
           "DIRECCION GENERAL TRATAMIENTO Y NUEVAS TECNOLOGIAS",
           "TRATAMIENTO DE RESIDUOS SOLIDOS URBANOS",
           "TRATAMIENTO DE RESIDUOS ORGANICOS"
          ],
          [
           "MINISTERIO DE AMBIENTE Y ESPACIO PUBLICO",
           "MINISTERIO DE AMBIENTE Y ESPACIO PUBLICO",
           "DIRECCION GENERAL DE ESPACIOS VERDES",
           "CUIDADO Y PUESTA EN VALOR DE ESPACIOS VERDES",
           "VALORIZACION DE LOS ESPACIOS VERDES"
          ],
          [
           "MINISTERIO DE AMBIENTE Y ESPACIO PUBLICO",
           "MINISTERIO DE AMBIENTE Y ESPACIO PUBLICO",
           "DIRECCION GENERAL DE ESPACIOS VERDES",
           "CUIDADO Y PUESTA EN VALOR DE ESPACIOS VERDES",
           "VALORIZACION DE LOS ESPACIOS VERDES DE LA CIUDAD"
          ],
          [
           "MINISTERIO DE AMBIENTE Y ESPACIO PUBLICO",
           "AGENCIA AMBIENTAL",
           "DIRECCION GENERAL DE CONTROL",
           "ACCIONES PARA LA RESTAURACION ECOLOGICA",
           "ACCIONES PARA LA RESTAURACION ECOLOGICA"
          ],
          [
           "JEFATURA DE GOBIERNO",
           "AGENCIA DE PROTECCION AMBIENTAL",
           "DIRECCION GENERAL DE CONTROL",
           "ACCIONES PARA LA RESTAURACION ECOLOGICA",
           "ACCIONES PARA LA RESTAURACION ECOLOGICA"
          ],
          [
           "JEFATURA DE GOBIERNO",
           "AGENCIA DE PROTECCION AMBIENTAL",
           "AGENCIA AMBIENTAL",
           "ACT. COMUNES A PROG. 91 A 103",
           "ACT. COMUNES A PROG. 91 A 103"
          ],
          [
           "MINISTERIO DE AMBIENTE Y ESPACIO PUBLICO",
           "AGENCIA AMBIENTAL",
           "AGENCIA AMBIENTAL",
           "ACTIV. COMUNES A LOS PROG. 91,92 ,93 Y 94",
           "(?)"
          ],
          [
           "MINISTERIO DE AMBIENTE Y ESPACIO PUBLICO",
           "AGENCIA AMBIENTAL",
           "AGENCIA AMBIENTAL",
           "ACTIV. COMUNES A LOS PROG. 91,92 Y93",
           "ACTIV. COMUNES A LOS PROG. 91,92 Y93"
          ],
          [
           "MINISTERIO DE AMBIENTE Y ESPACIO PUBLICO",
           "MINISTERIO DE AMBIENTE Y ESPACIO PUBLICO",
           "MINISTERIO AMBIENTE Y ESPACIO PUBLICO",
           "ACTIVIDADES CENTRALES AMBIENTE Y ESPACIO PUBLICO",
           "ACTIVIDADES CENTRALES AMBIENTE Y ESPACIO PUBLICO"
          ],
          [
           "MINISTERIO DE AMBIENTE Y ESPACIO PUBLICO",
           "AGENCIA AMBIENTAL",
           "AGENCIA AMBIENTAL",
           "ACTIVIDADES COMUMES A LOS PROGRAMAS 91,92,93,94,95,96",
           "(?)"
          ],
          [
           "MINISTERIO DE AMBIENTE Y ESPACIO PUBLICO",
           "MINISTERIO DE AMBIENTE Y ESPACIO PUBLICO",
           "SUBSECRETARIA DE ADMINISTRACION",
           "ACTIVIDADES COMUNES A LOS PROG 21 Y 22",
           "ACTIVIDADES COMUNES A LOS PROG 21 Y 22"
          ],
          [
           "MINISTERIO DE AMBIENTE Y ESPACIO PUBLICO",
           "MINISTERIO DE AMBIENTE Y ESPACIO PUBLICO",
           "SUBSECRETARIA DE ADMINISTRACION GENERAL Y DE USO DEL ESPACIO PUBLICO",
           "ACTIVIDADES COMUNES A LOS PROG 21,22,23,75,76 Y 77",
           "ACTIVIDADES COMUNES A LOS PROG 21,22,23,75,76 Y 77"
          ],
          [
           "MINISTERIO DE AMBIENTE Y ESPACIO PUBLICO",
           "AGENCIA AMBIENTAL",
           "AGENCIA AMBIENTAL",
           "ACTIVIDADES COMUNES A LOS PROG. 91 AL 100 Y 102",
           "ACTIVIDADES COMUNES A LOS PROG. 91 AL 100 Y 102"
          ],
          [
           "MINISTERIO DE AMBIENTE Y ESPACIO PUBLICO",
           "AGENCIA AMBIENTAL",
           "AGENCIA AMBIENTAL",
           "ACTIVIDADES COMUNES A LOS PROG. 91 AL 103",
           "ACTIVIDADES COMUNES A LOS PROG. 91 AL 103"
          ],
          [
           "MINISTERIO DE AMBIENTE Y ESPACIO PUBLICO",
           "AGENCIA AMBIENTAL",
           "AGENCIA AMBIENTAL",
           "ACTIVIDADES COMUNES A LOS PROG. 91,92,93, 94,95 Y 96",
           "ACTIVIDADES COMUNES A LOS PROG. 91,92,93, 94,95 Y 96"
          ],
          [
           "MINISTERIO DE AMBIENTE Y ESPACIO PUBLICO",
           "AGENCIA AMBIENTAL",
           "AGENCIA AMBIENTAL",
           "ACTIVIDADES COMUNES A LOS PROG. 91,92,93, 94,95, 96 Y 100",
           "ACTIVIDADES COMUNES A LOS PROG. 91,92,93, 94,95, 96 Y 100"
          ],
          [
           "MINISTERIO DE AMBIENTE Y ESPACIO PUBLICO",
           "AGENCIA AMBIENTAL",
           "AGENCIA AMBIENTAL",
           "ACTIVIDADES COMUNES A LOS PROGRAMAS 91,92 Y 93",
           "(?)"
          ],
          [
           "MINISTERIO DE AMBIENTE Y ESPACIO PUBLICO",
           "MINISTERIO DE AMBIENTE Y ESPACIO PUBLICO",
           "SUBSECRETARIA DE HIGIENE URBANA",
           "ACTIVIDADES COMUNES A LOS PROGRAMAS: 11-52-53-56-57-58-59",
           "ACTIVIDADES COMUNES A LOS PROGRAMAS: 11-52-53-56-57-58-59"
          ],
          [
           "MINISTERIO DE AMBIENTE Y ESPACIO PUBLICO",
           "MINISTERIO DE AMBIENTE Y ESPACIO PUBLICO",
           "SUBSECRETARIA DE HIGIENE URBANA",
           "ACTIVIDADES COMUNES A LOS PROGRAMAS: 11-52-53-56-57-58-59 Y 85",
           "ACTIVIDADES COMUNES A LOS PROGRAMAS: 11-52-53-56-57-58-59 Y 85"
          ],
          [
           "MINISTERIO DE AMBIENTE Y ESPACIO PUBLICO",
           "MINISTERIO DE AMBIENTE Y ESPACIO PUBLICO",
           "SUBSECRETARIA DE HIGIENE URBANA",
           "ACTIVIDADES COMUNES A LOS PROGRAMAS: 11-52-53-56-57-58-59-79-85",
           "ACTIVIDADES COMUNES A LOS PROGRAMAS: 11-52-53-56-57-58-59-79-85"
          ],
          [
           "MINISTERIO DE AMBIENTE Y ESPACIO PUBLICO",
           "MINISTERIO DE AMBIENTE Y ESPACIO PUBLICO",
           "SUBSECRETARIA DE HIGIENE URBANA",
           "ACTIVIDADES COMUNES A LOS PROGRAMAS: 11-52-53-56-57-85",
           "ACTIVIDADES COMUNES A LOS PROGRAMAS: 11-52-53-56-57-85"
          ],
          [
           "MINISTERIO DE AMBIENTE Y ESPACIO PUBLICO",
           "MINISTERIO DE AMBIENTE Y ESPACIO PUBLICO",
           "SUBSECRETARIA DE HIGIENE URBANA",
           "ACTIVIDADES COMUNES A LOS PROGRAMAS: 11-52-53-57-58-59",
           "ACTIVIDADES COMUNES A LOS PROGRAMAS: 11-52-53-57-58-59"
          ],
          [
           "MINISTERIO DE AMBIENTE Y ESPACIO PUBLICO",
           "MINISTERIO DE AMBIENTE Y ESPACIO PUBLICO",
           "SUBSECRETARIA DE HIGIENE URBANA",
           "ACTIVIDADES COMUNES A LOS PROGRAMAS: 11-52-53-57-58-59 Y 85",
           "ACTIVIDADES COMUNES A LOS PROGRAMAS: 11-52-53-57-58-59 Y 85"
          ],
          [
           "MINISTERIO DE AMBIENTE Y ESPACIO PUBLICO",
           "MINISTERIO DE AMBIENTE Y ESPACIO PUBLICO",
           "SUBSECRETARIA DE HIGIENE URBANA",
           "ACTIVIDADES COMUNES A LOS PROGRAMAS: 52.53.56.57 Y 85",
           "ACTIVIDADES COMUNES A LOS PROGRAMAS: 52.53.56.57 Y 85"
          ],
          [
           "MINISTERIO DE AMBIENTE Y ESPACIO PUBLICO",
           "MINISTERIO DE AMBIENTE Y ESPACIO PUBLICO",
           "DIRECCION GENERAL DE ARBOLADO",
           "ARBOLADO URBANO",
           "(?)"
          ],
          [
           "MINISTERIO DE AMBIENTE Y ESPACIO PUBLICO",
           "MINISTERIO DE AMBIENTE Y ESPACIO PUBLICO",
           "DIRECCION GENERAL TECNICO ADMINISTRATIVA Y LEGAL",
           "ASUNTOS LEGALES Y PRESUPUESTO",
           "ASUNTOS LEGALES Y PRESUPUESTO"
          ],
          [
           "MINISTERIO DE AMBIENTE Y ESPACIO PUBLICO",
           "AGENCIA AMBIENTAL",
           "DIRECCION GENERAL DE EVALUACION TECNICA",
           "BUENOS AIRES PRODUCE MAS LIMPIO (P+L)",
           "BUENOS AIRES PRODUCE MAS LIMPIO (P+L)"
          ],
          [
           "MINISTERIO DE AMBIENTE Y ESPACIO PUBLICO",
           "AGENCIA AMBIENTAL",
           "DIRECCION GENERAL ESTRATEGIAS AMBIENTALES",
           "BUENOS AIRES PRODUCE MAS LIMPIO (P+L)",
           "BUENOS AIRES PRODUCE MAS LIMPIO (P+L)"
          ],
          [
           "MINISTERIO DE AMBIENTE Y ESPACIO PUBLICO",
           "AGENCIA AMBIENTAL",
           "DIRECCION GENERAL POLITICA Y ESTRATEGIA AMBIENTAL",
           "BUENOS AIRES PRODUCE MAS LIMPIO (P+L)",
           "BUENOS AIRES PRODUCE MAS LIMPIO (P+L)"
          ],
          [
           "MINISTERIO DE AMBIENTE Y ESPACIO PUBLICO",
           "AGENCIA AMBIENTAL",
           "AGENCIA AMBIENTAL",
           "CENTROS DE ATENCION VETERINARIA",
           "CENTROS DE ATENCION VETERINARIA"
          ],
          [
           "MINISTERIO DE AMBIENTE Y ESPACIO PUBLICO",
           "AGENCIA AMBIENTAL",
           "DIRECCION GENERAL ESTRATEGIAS AMBIENTALES",
           "CENTROS DE ATENCION VETERINARIA",
           "CENTROS DE ATENCION VETERINARIA"
          ],
          [
           "MINISTERIO DE AMBIENTE Y ESPACIO PUBLICO",
           "AGENCIA AMBIENTAL",
           "AGENCIA AMBIENTAL",
           "COMPENSACION AMBIENTAL",
           "(?)"
          ],
          [
           "MINISTERIO DE AMBIENTE Y ESPACIO PUBLICO",
           "AGENCIA AMBIENTAL",
           "DIRECCION GENERAL DE EVALUACION AMBIENTAL",
           "COMPENSACION AMBIENTAL",
           "COMPENSACION AMBIENTAL"
          ],
          [
           "MINISTERIO DE AMBIENTE Y ESPACIO PUBLICO",
           "AGENCIA AMBIENTAL",
           "DIRECCION GENERAL DE EVALUACION TECNICA",
           "COMPENSACION AMBIENTAL",
           "(?)"
          ],
          [
           "JEFATURA DE GOBIERNO",
           "SECRETARIA DE AMBIENTE",
           "UPE ECOPARQUE",
           "CONSERVACION DE LA BIODIVERSIDAD",
           "(?)"
          ],
          [
           "MINISTERIO DE AMBIENTE Y ESPACIO PUBLICO",
           "MINISTERIO DE AMBIENTE Y ESPACIO PUBLICO",
           "UPE ECOPARQUE INTERACTIVO DE LA CABA",
           "CONSERVACION DE LA BIODIVERSIDAD",
           "(?)"
          ],
          [
           "MINISTERIO DE AMBIENTE Y ESPACIO PUBLICO",
           "AGENCIA AMBIENTAL",
           "DIRECCION GENERAL DE CONTROL",
           "CONTROL AMBIENTAL",
           "CONTROL AMBIENTAL"
          ],
          [
           "JEFATURA DE GOBIERNO",
           "AGENCIA DE PROTECCION AMBIENTAL",
           "DIRECCION GENERAL DE CONTROL",
           "CONTROL AMBIENTAL",
           "CONTROL AMBIENTAL"
          ],
          [
           "MINISTERIO DE AMBIENTE Y ESPACIO PUBLICO",
           "MINISTERIO DE AMBIENTE Y ESPACIO PUBLICO",
           "DIRECCION GENERAL CONTROL DE GESTION",
           "CONTROL DE GESTION",
           "CONTROL DE GESTION"
          ],
          [
           "MINISTERIO DE AMBIENTE Y ESPACIO PUBLICO",
           "MINISTERIO DE AMBIENTE Y ESPACIO PUBLICO",
           "DIRECCION GENERAL CONTROL DE GESTION",
           "CONTROL DE GESTION Y RECLAMOS",
           "CONTROL DE GESTION Y RECLAMOS"
          ],
          [
           "MINISTERIO DE AMBIENTE Y ESPACIO PUBLICO",
           "MINISTERIO DE AMBIENTE Y ESPACIO PUBLICO",
           "DIRECCION GENERAL DE LIMPIEZA",
           "CONTROL DE HIGIENE EN VIA PUBLICA E INMUEBLES",
           "CONTROL DE HIGIENE EN VIA PUBLICA E INMUEBLES"
          ],
          [
           "MINISTERIO DE AMBIENTE Y ESPACIO PUBLICO",
           "MINISTERIO DE AMBIENTE Y ESPACIO PUBLICO",
           "DIRECCION GENERAL INSPECCION DE HIGIENE URBANA",
           "CONTROL DE HIGIENE EN VIA PUBLICA E INMUEBLES",
           "(?)"
          ],
          [
           "MINISTERIO DE AMBIENTE Y ESPACIO PUBLICO",
           "MINISTERIO DE AMBIENTE Y ESPACIO PUBLICO",
           "SUBSECRETARIA DE HIGIENE URBANA",
           "CONTROL DE HIGIENE EN VIA PUBLICA E INMUEBLES",
           "CONTROL DE HIGIENE EN VIA PUBLICA E INMUEBLES"
          ],
          [
           "MINISTERIO DE AMBIENTE Y ESPACIO PUBLICO",
           "MINISTERIO DE AMBIENTE Y ESPACIO PUBLICO",
           "DIRECCION GENERAL DE LIMPIEZA",
           "CONTROL DE PLAGAS",
           "CONTROL DE PLAGAS"
          ],
          [
           "MINISTERIO DE AMBIENTE Y ESPACIO PUBLICO",
           "MINISTERIO DE AMBIENTE Y ESPACIO PUBLICO",
           "DIRECCION GENERAL INSPECCION DE HIGIENE URBANA",
           "CONTROL DE PLAGAS",
           "CONTROL DE PLAGAS"
          ],
          [
           "MINISTERIO DE AMBIENTE Y ESPACIO PUBLICO",
           "MINISTERIO DE AMBIENTE Y ESPACIO PUBLICO",
           "DIRECCION GENERAL DE ESPACIOS VERDES",
           "CUIDADO Y PUESTA EN VALOR DE ESPACIOS VERDES",
           "(?)"
          ],
          [
           "MINISTERIO DE AMBIENTE Y ESPACIO PUBLICO",
           "AGENCIA AMBIENTAL",
           "DIRECCION GENERAL ESTRATEGIAS AMBIENTALES",
           "ESTRATEGIAS AMBIENTALES",
           "(?)"
          ],
          [
           "MINISTERIO DE AMBIENTE Y ESPACIO PUBLICO",
           "AGENCIA AMBIENTAL",
           "DIRECCION GENERAL POLITICA Y ESTRATEGIA AMBIENTAL",
           "ESTRATEGIAS AMBIENTALES",
           "ESTRATEGIAS AMBIENTALES"
          ],
          [
           "MINISTERIO DE AMBIENTE Y ESPACIO PUBLICO",
           "AGENCIA AMBIENTAL",
           "DIRECCION GENERAL DE EVALUACION AMBIENTAL",
           "EVALUACION TECNICA",
           "EVALUACION TECNICA"
          ],
          [
           "MINISTERIO DE AMBIENTE Y ESPACIO PUBLICO",
           "AGENCIA AMBIENTAL",
           "DIRECCION GENERAL DE EVALUACION TECNICA",
           "EVALUACION TECNICA",
           "EVALUACION TECNICA"
          ],
          [
           "JEFATURA DE GOBIERNO",
           "AGENCIA DE PROTECCION AMBIENTAL",
           "DIRECCION GENERAL EVALUACION AMBIAENTAL",
           "EVALUACION TECNICA",
           "EVALUACION TECNICA"
          ],
          [
           "MINISTERIO DE AMBIENTE Y ESPACIO PUBLICO",
           "AGENCIA AMBIENTAL",
           "AGENCIA AMBIENTAL",
           "GESTION AMBIENTAL",
           "(?)"
          ],
          [
           "MINISTERIO DE AMBIENTE Y ESPACIO PUBLICO",
           "AGENCIA AMBIENTAL",
           "AGENCIA AMBIENTAL",
           "INTERVENCIONES VETERINARIAS",
           "INTERVENCIONES VETERINARIAS"
          ],
          [
           "JEFATURA DE GOBIERNO",
           "AGENCIA DE PROTECCION AMBIENTAL",
           "AGENCIA AMBIENTAL",
           "INTERVENCIONES VETERINARIAS",
           "INTERVENCIONES VETERINARIAS"
          ],
          [
           "MINISTERIO DE AMBIENTE Y ESPACIO PUBLICO",
           "AGENCIA AMBIENTAL",
           "DIRECCION GENERAL DE CONTROL",
           "LABORATORIO DE ANALISIS Y CALIDAD AMBIENTAL",
           "LABORATORIO DE ANALISIS Y CALIDAD AMBIENTAL"
          ],
          [
           "JEFATURA DE GOBIERNO",
           "AGENCIA DE PROTECCION AMBIENTAL",
           "DIRECCION GENERAL DE CONTROL",
           "LABORATORIO DE ANALISIS Y CALIDAD AMBIENTAL",
           "LABORATORIO DE ANALISIS Y CALIDAD AMBIENTAL"
          ],
          [
           "MINISTERIO DE AMBIENTE Y ESPACIO PUBLICO",
           "AGENCIA AMBIENTAL",
           "DIRECCION GENERAL DE EVALUACION TECNICA",
           "LABORATORIO DE ANALISIS Y CALIDAD AMBIENTAL",
           "LABORATORIO DE ANALISIS Y CALIDAD AMBIENTAL"
          ],
          [
           "MINISTERIO DE AMBIENTE Y ESPACIO PUBLICO",
           "MINISTERIO DE AMBIENTE Y ESPACIO PUBLICO",
           "MINISTERIO AMBIENTE Y ESPACIO PUBLICO",
           "MANTENIMIENTO ZONA PUERTO MADERO",
           "REPARACION Y MEJORAS EN BARRIOS DE BUENOS AIRES"
          ],
          [
           "MINISTERIO DE AMBIENTE Y ESPACIO PUBLICO",
           "MINISTERIO DE AMBIENTE Y ESPACIO PUBLICO",
           "DIRECCION GENERAL OBRAS REGENERACION URBANA",
           "OBRAS DE REGENERACIONURBANA",
           "PARQUES URBANOS"
          ],
          [
           "MINISTERIO DE AMBIENTE Y ESPACIO PUBLICO",
           "AGENCIA AMBIENTAL",
           "DIRECCION GENERAL ESTRATEGIAS AMBIENTALES",
           "PLANEAMIENTO DE LA GESTION AMBIENTAL SOSTENIBLE",
           "(?)"
          ],
          [
           "MINISTERIO DE AMBIENTE Y ESPACIO PUBLICO",
           "MINISTERIO DE AMBIENTE Y ESPACIO PUBLICO",
           "DIRECCION GENERAL PLANIFICACION Y PRESUPUESTO",
           "PLANIFICACION Y PRESUPUESTO",
           "PLANIFICACION Y PRESUPUESTO"
          ],
          [
           "JEFATURA DE GOBIERNO",
           "AGENCIA DE PROTECCION AMBIENTAL",
           "DIRECCION GENERAL POLITICA Y ESTRATEGIA AMBIENTAL",
           "POLITICA Y ESTRATEGIA AMBIENTAL",
           "(?)"
          ],
          [
           "MINISTERIO DE AMBIENTE Y ESPACIO PUBLICO",
           "AGENCIA AMBIENTAL",
           "DIRECCION GENERAL DE EVALUACION TECNICA",
           "PREVENC.AMB.EVALUAC.TECNICA Y CERTIFICADOS AMBIENTALES",
           "PREVENC.AMB.EVALUAC.TECNICA Y CERTIFICADOS AMBIENTALES"
          ],
          [
           "MINISTERIO DE AMBIENTE Y ESPACIO PUBLICO",
           "AGENCIA AMBIENTAL",
           "DIRECCION GENERAL DE EVALUACION TECNICA",
           "PREVENCION AMBIENTAL EVALUACION TECNICA Y REGISTROS AMBIENTALES",
           "PREVENCION AMBIENTAL EVALUACION TECNICA Y REGISTROS AMBIENTALES"
          ],
          [
           "MINISTERIO DE AMBIENTE Y ESPACIO PUBLICO",
           "AGENCIA AMBIENTAL",
           "DIRECCION GENERAL POLITICA Y ESTRATEGIA AMBIENTAL",
           "PROGRAMA DE CAMBIO CLIMATICO E INFORMACION AMBIENTAL",
           "PROGRAMA DE CAMBIO CLIMATICO E INFORMACION AMBIENTAL"
          ],
          [
           "JEFATURA DE GOBIERNO",
           "AGENCIA DE PROTECCION AMBIENTAL",
           "DIRECCION GENERAL POLITICA Y ESTRATEGIA AMBIENTAL",
           "PROGRAMA DE CAMBIO CLIMATICO E INFORMACION AMBIENTAL",
           "PROGRAMA DE CAMBIO CLIMATICO E INFORMACION AMBIENTAL"
          ],
          [
           "JEFATURA DE GOBIERNO",
           "AGENCIA DE PROTECCION AMBIENTAL",
           "DIRECCION GENERAL POLITICA Y ESTRATEGIA AMBIENTAL",
           "PROGRAMA DE DESARROLLO SUSTENTABLE",
           "PROGRAMA DE DESARROLLO SUSTENTABLE"
          ],
          [
           "MINISTERIO DE AMBIENTE Y ESPACIO PUBLICO",
           "AGENCIA AMBIENTAL",
           "DIRECCION GENERAL POLITICA Y ESTRATEGIA AMBIENTAL",
           "PROGRAMA DE GESTION ENERGETICA",
           "PROGRAMA DE GESTION ENERGETICA"
          ],
          [
           "JEFATURA DE GOBIERNO",
           "AGENCIA DE PROTECCION AMBIENTAL",
           "DIRECCION GENERAL POLITICA Y ESTRATEGIA AMBIENTAL",
           "PROGRAMA DE GESTION ENERGETICA",
           "PROGRAMA DE GESTION ENERGETICA"
          ],
          [
           "MINISTERIO DE AMBIENTE Y ESPACIO PUBLICO",
           "AGENCIA AMBIENTAL",
           "DIRECCION GENERAL POLITICA Y ESTRATEGIA AMBIENTAL",
           "PROGRAMA DE RESIDUOS DE MANEJO ESPECIAL",
           "PROGRAMA DE RESIDUOS DE MANEJO ESPECIAL"
          ],
          [
           "JEFATURA DE GOBIERNO",
           "AGENCIA DE PROTECCION AMBIENTAL",
           "DIRECCION GENERAL POLITICA Y ESTRATEGIA AMBIENTAL",
           "PROGRAMA DE RESIDUOS SUJETOS A MANEJO ESPECIAL",
           "PROGRAMA DE RESIDUOS SUJETOS A MANEJO ESPECIAL"
          ],
          [
           "MINISTERIO DE AMBIENTE Y ESPACIO PUBLICO",
           "AGENCIA AMBIENTAL",
           "AGENCIA AMBIENTAL",
           "PROTECCION Y SANIDAD ANIMAL",
           "PROTECCION Y SANIDAD ANIMAL"
          ],
          [
           "MINISTERIO DE AMBIENTE Y ESPACIO PUBLICO",
           "AGENCIA AMBIENTAL",
           "DIRECCION GENERAL ESTRATEGIAS AMBIENTALES",
           "PROTECCION Y SANIDAD ANIMAL",
           "PROTECCION Y SANIDAD ANIMAL"
          ],
          [
           "MINISTERIO DE AMBIENTE Y ESPACIO PUBLICO",
           "MINISTERIO DE AMBIENTE Y ESPACIO PUBLICO",
           "DIRECCION GENERAL DE RECICLADO",
           "RECICLADO DE RESIDUOS URBANOS",
           "(?)"
          ],
          [
           "MINISTERIO DE AMBIENTE Y ESPACIO PUBLICO",
           "ENTE DE HIGIENE URBANA",
           "ENTE DE HIGIENE URBANA",
           "RECOLECCION, BARRIDO E HIGIENE DE LA CIUDAD DE BUENOS AIRES",
           "RECOLECCION, BARRIDO E HIGIENE DE LA CIUDAD DE BUENOS AIRES"
          ],
          [
           "MINISTERIO DE AMBIENTE Y ESPACIO PUBLICO",
           "AGENCIA AMBIENTAL",
           "AGENCIA AMBIENTAL",
           "REDES AMBIENTALES",
           "(?)"
          ],
          [
           "MINISTERIO DE AMBIENTE Y ESPACIO PUBLICO",
           "AGENCIA AMBIENTAL",
           "DIRECCION GENERAL DE CONTROL",
           "REDES AMBIENTALES",
           "REDES AMBIENTALES"
          ],
          [
           "JEFATURA DE GOBIERNO",
           "AGENCIA DE PROTECCION AMBIENTAL",
           "DIRECCION GENERAL DE CONTROL",
           "REDES AMBIENTALES",
           "REDES AMBIENTALES"
          ],
          [
           "MINISTERIO DE AMBIENTE Y ESPACIO PUBLICO",
           "MINISTERIO DE AMBIENTE Y ESPACIO PUBLICO",
           "DIRECCION GENERAL REGENERACION URBANA",
           "REGENERACION URBANA",
           "OBRAS DE REGENERACION URBANA"
          ],
          [
           "MINISTERIO DE AMBIENTE Y ESPACIO PUBLICO",
           "AGENCIA AMBIENTAL",
           "AGENCIA AMBIENTAL",
           "SANIDAD Y TENENCIA RESPONSABLE DE MASCOTAS",
           "SANIDAD Y TENENCIA RESPONSABLE DE MASCOTAS"
          ],
          [
           "JEFATURA DE GOBIERNO",
           "AGENCIA DE PROTECCION AMBIENTAL",
           "AGENCIA AMBIENTAL",
           "SANIDAD Y TENENCIA RESPONSABLE DE MASCOTAS",
           "SANIDAD Y TENENCIA RESPONSABLE DE MASCOTAS"
          ],
          [
           "MINISTERIO DE AMBIENTE Y ESPACIO PUBLICO",
           "MINISTERIO DE AMBIENTE Y ESPACIO PUBLICO",
           "MINISTERIO AMBIENTE Y ESPACIO PUBLICO",
           "SERVICIOS DE ADMINISTRACION",
           "SERVICIOS DE ADMINISTRACION"
          ],
          [
           "MINISTERIO DE AMBIENTE Y ESPACIO PUBLICO",
           "MINISTERIO DE AMBIENTE Y ESPACIO PUBLICO",
           "DIRECCION GENERAL DE LIMPIEZA",
           "SERVICIOS DE HIGIENE URBANA",
           "(?)"
          ],
          [
           "MINISTERIO DE AMBIENTE Y ESPACIO PUBLICO",
           "MINISTERIO DE AMBIENTE Y ESPACIO PUBLICO",
           "DIRECCION GENERAL TECNICO ADMINISTRATIVA Y LEGAL",
           "TECNICA ADMINISTRATIVA Y LEGAL",
           "TECNICA ADMINISTRATIVA Y LEGAL"
          ],
          [
           "MINISTERIO DE AMBIENTE Y ESPACIO PUBLICO",
           "MINISTERIO DE AMBIENTE Y ESPACIO PUBLICO",
           "DIRECCION GENERAL TRATAMIENTO Y NUEVAS TECNOLOGIAS",
           "TRATAMIENTO DE RESIDUOS SOLIDOS URBANOS",
           "TRATAMIENTO DE RESIDUOS ORGANICOS"
          ],
          [
           "MINISTERIO DE AMBIENTE Y ESPACIO PUBLICO",
           "AGENCIA AMBIENTAL",
           "AGENCIA AMBIENTAL",
           "(?)",
           "(?)"
          ],
          [
           "JEFATURA DE GOBIERNO",
           "AGENCIA DE PROTECCION AMBIENTAL",
           "AGENCIA AMBIENTAL",
           "(?)",
           "(?)"
          ],
          [
           "MINISTERIO DE AMBIENTE Y ESPACIO PUBLICO",
           "MINISTERIO DE AMBIENTE Y ESPACIO PUBLICO",
           "DIRECCION GENERAL CONTROL DE GESTION",
           "(?)",
           "(?)"
          ],
          [
           "MINISTERIO DE AMBIENTE Y ESPACIO PUBLICO",
           "MINISTERIO DE AMBIENTE Y ESPACIO PUBLICO",
           "DIRECCION GENERAL DE ARBOLADO",
           "ARBOLADO URBANO",
           "(?)"
          ],
          [
           "MINISTERIO DE AMBIENTE Y ESPACIO PUBLICO",
           "AGENCIA AMBIENTAL",
           "DIRECCION GENERAL DE CONTROL",
           "(?)",
           "(?)"
          ],
          [
           "JEFATURA DE GOBIERNO",
           "AGENCIA DE PROTECCION AMBIENTAL",
           "DIRECCION GENERAL DE CONTROL",
           "(?)",
           "(?)"
          ],
          [
           "MINISTERIO DE AMBIENTE Y ESPACIO PUBLICO",
           "MINISTERIO DE AMBIENTE Y ESPACIO PUBLICO",
           "DIRECCION GENERAL DE ESPACIOS VERDES",
           "CUIDADO Y PUESTA EN VALOR DE ESPACIOS VERDES",
           "(?)"
          ],
          [
           "MINISTERIO DE AMBIENTE Y ESPACIO PUBLICO",
           "AGENCIA AMBIENTAL",
           "DIRECCION GENERAL DE EVALUACION AMBIENTAL",
           "(?)",
           "(?)"
          ],
          [
           "MINISTERIO DE AMBIENTE Y ESPACIO PUBLICO",
           "AGENCIA AMBIENTAL",
           "DIRECCION GENERAL DE EVALUACION TECNICA",
           "(?)",
           "(?)"
          ],
          [
           "MINISTERIO DE AMBIENTE Y ESPACIO PUBLICO",
           "MINISTERIO DE AMBIENTE Y ESPACIO PUBLICO",
           "DIRECCION GENERAL DE LIMPIEZA",
           "(?)",
           "(?)"
          ],
          [
           "MINISTERIO DE AMBIENTE Y ESPACIO PUBLICO",
           "MINISTERIO DE AMBIENTE Y ESPACIO PUBLICO",
           "DIRECCION GENERAL DE RECICLADO",
           "RECICLADO DE RESIDUOS URBANOS",
           "(?)"
          ],
          [
           "MINISTERIO DE AMBIENTE Y ESPACIO PUBLICO",
           "AGENCIA AMBIENTAL",
           "DIRECCION GENERAL ESTRATEGIAS AMBIENTALES",
           "(?)",
           "(?)"
          ],
          [
           "JEFATURA DE GOBIERNO",
           "AGENCIA DE PROTECCION AMBIENTAL",
           "DIRECCION GENERAL EVALUACION AMBIAENTAL",
           "EVALUACION TECNICA",
           "EVALUACION TECNICA"
          ],
          [
           "MINISTERIO DE AMBIENTE Y ESPACIO PUBLICO",
           "MINISTERIO DE AMBIENTE Y ESPACIO PUBLICO",
           "DIRECCION GENERAL INSPECCION DE HIGIENE URBANA",
           "(?)",
           "(?)"
          ],
          [
           "MINISTERIO DE AMBIENTE Y ESPACIO PUBLICO",
           "MINISTERIO DE AMBIENTE Y ESPACIO PUBLICO",
           "DIRECCION GENERAL OBRAS REGENERACION URBANA",
           "OBRAS DE REGENERACIONURBANA",
           "PARQUES URBANOS"
          ],
          [
           "MINISTERIO DE AMBIENTE Y ESPACIO PUBLICO",
           "MINISTERIO DE AMBIENTE Y ESPACIO PUBLICO",
           "DIRECCION GENERAL PLANIFICACION Y PRESUPUESTO",
           "PLANIFICACION Y PRESUPUESTO",
           "PLANIFICACION Y PRESUPUESTO"
          ],
          [
           "MINISTERIO DE AMBIENTE Y ESPACIO PUBLICO",
           "AGENCIA AMBIENTAL",
           "DIRECCION GENERAL POLITICA Y ESTRATEGIA AMBIENTAL",
           "(?)",
           "(?)"
          ],
          [
           "JEFATURA DE GOBIERNO",
           "AGENCIA DE PROTECCION AMBIENTAL",
           "DIRECCION GENERAL POLITICA Y ESTRATEGIA AMBIENTAL",
           "(?)",
           "(?)"
          ],
          [
           "MINISTERIO DE AMBIENTE Y ESPACIO PUBLICO",
           "MINISTERIO DE AMBIENTE Y ESPACIO PUBLICO",
           "DIRECCION GENERAL REGENERACION URBANA",
           "REGENERACION URBANA",
           "OBRAS DE REGENERACION URBANA"
          ],
          [
           "MINISTERIO DE AMBIENTE Y ESPACIO PUBLICO",
           "MINISTERIO DE AMBIENTE Y ESPACIO PUBLICO",
           "DIRECCION GENERAL TECNICO ADMINISTRATIVA Y LEGAL",
           "(?)",
           "(?)"
          ],
          [
           "MINISTERIO DE AMBIENTE Y ESPACIO PUBLICO",
           "MINISTERIO DE AMBIENTE Y ESPACIO PUBLICO",
           "DIRECCION GENERAL TRATAMIENTO Y NUEVAS TECNOLOGIAS",
           "TRATAMIENTO DE RESIDUOS SOLIDOS URBANOS",
           "TRATAMIENTO DE RESIDUOS ORGANICOS"
          ],
          [
           "MINISTERIO DE AMBIENTE Y ESPACIO PUBLICO",
           "ENTE DE HIGIENE URBANA",
           "ENTE DE HIGIENE URBANA",
           "RECOLECCION, BARRIDO E HIGIENE DE LA CIUDAD DE BUENOS AIRES",
           "RECOLECCION, BARRIDO E HIGIENE DE LA CIUDAD DE BUENOS AIRES"
          ],
          [
           "MINISTERIO DE AMBIENTE Y ESPACIO PUBLICO",
           "MINISTERIO DE AMBIENTE Y ESPACIO PUBLICO",
           "MINISTERIO AMBIENTE Y ESPACIO PUBLICO",
           "(?)",
           "(?)"
          ],
          [
           "MINISTERIO DE AMBIENTE Y ESPACIO PUBLICO",
           "MINISTERIO DE AMBIENTE Y ESPACIO PUBLICO",
           "SUBSECRETARIA DE ADMINISTRACION",
           "ACTIVIDADES COMUNES A LOS PROG 21 Y 22",
           "ACTIVIDADES COMUNES A LOS PROG 21 Y 22"
          ],
          [
           "MINISTERIO DE AMBIENTE Y ESPACIO PUBLICO",
           "MINISTERIO DE AMBIENTE Y ESPACIO PUBLICO",
           "SUBSECRETARIA DE ADMINISTRACION GENERAL Y DE USO DEL ESPACIO PUBLICO",
           "ACTIVIDADES COMUNES A LOS PROG 21,22,23,75,76 Y 77",
           "ACTIVIDADES COMUNES A LOS PROG 21,22,23,75,76 Y 77"
          ],
          [
           "MINISTERIO DE AMBIENTE Y ESPACIO PUBLICO",
           "MINISTERIO DE AMBIENTE Y ESPACIO PUBLICO",
           "SUBSECRETARIA DE HIGIENE URBANA",
           "(?)",
           "(?)"
          ],
          [
           "JEFATURA DE GOBIERNO",
           "SECRETARIA DE AMBIENTE",
           "UPE ECOPARQUE",
           "CONSERVACION DE LA BIODIVERSIDAD",
           "(?)"
          ],
          [
           "MINISTERIO DE AMBIENTE Y ESPACIO PUBLICO",
           "MINISTERIO DE AMBIENTE Y ESPACIO PUBLICO",
           "UPE ECOPARQUE INTERACTIVO DE LA CABA",
           "CONSERVACION DE LA BIODIVERSIDAD",
           "(?)"
          ],
          [
           "MINISTERIO DE AMBIENTE Y ESPACIO PUBLICO",
           "AGENCIA AMBIENTAL",
           "(?)",
           "(?)",
           "(?)"
          ],
          [
           "JEFATURA DE GOBIERNO",
           "AGENCIA DE PROTECCION AMBIENTAL",
           "(?)",
           "(?)",
           "(?)"
          ],
          [
           "MINISTERIO DE AMBIENTE Y ESPACIO PUBLICO",
           "ENTE DE HIGIENE URBANA",
           "ENTE DE HIGIENE URBANA",
           "RECOLECCION, BARRIDO E HIGIENE DE LA CIUDAD DE BUENOS AIRES",
           "RECOLECCION, BARRIDO E HIGIENE DE LA CIUDAD DE BUENOS AIRES"
          ],
          [
           "MINISTERIO DE AMBIENTE Y ESPACIO PUBLICO",
           "MINISTERIO DE AMBIENTE Y ESPACIO PUBLICO",
           "(?)",
           "(?)",
           "(?)"
          ],
          [
           "JEFATURA DE GOBIERNO",
           "SECRETARIA DE AMBIENTE",
           "UPE ECOPARQUE",
           "CONSERVACION DE LA BIODIVERSIDAD",
           "(?)"
          ],
          [
           "JEFATURA DE GOBIERNO",
           "(?)",
           "(?)",
           "(?)",
           "(?)"
          ],
          [
           "MINISTERIO DE AMBIENTE Y ESPACIO PUBLICO",
           "(?)",
           "(?)",
           "(?)",
           "(?)"
          ]
         ],
         "domain": {
          "x": [
           0,
           1
          ],
          "y": [
           0,
           1
          ]
         },
         "hovertemplate": "<b>%{label}</b> <br>$%{value:,.0f}</b> \n                <br>\n                    <br>JURISDICCION: %{customdata[0]}</b>\n                    <br>UNIDAD_EJECUTORA: %{customdata[2]}</b> \n                    <br>\n                        <br>PROGRAMA: %{customdata[3]}</b> \n                        <br>PROYECTO: %{customdata[4]}</b>\n                    </b>\n                </b> ",
         "ids": [
          "MINISTERIO DE AMBIENTE Y ESPACIO PUBLICO/MINISTERIO DE AMBIENTE Y ESPACIO PUBLICO/DIRECCION GENERAL DE RECICLADO/RECICLADO DE RESIDUOS URBANOS/A.CU.MAR - CENTROS VERDES",
          "MINISTERIO DE AMBIENTE Y ESPACIO PUBLICO/MINISTERIO DE AMBIENTE Y ESPACIO PUBLICO/DIRECCION GENERAL DE LIMPIEZA/SERVICIOS DE HIGIENE URBANA/A.CU.MAR - RIACHUELO",
          "MINISTERIO DE AMBIENTE Y ESPACIO PUBLICO/MINISTERIO DE AMBIENTE Y ESPACIO PUBLICO/DIRECCION GENERAL DE ESPACIOS VERDES/CUIDADO Y PUESTA EN VALOR DE ESPACIOS VERDES/A.CU.MAR - VALORIZACION DE LOS ESPACIOS VERDES",
          "MINISTERIO DE AMBIENTE Y ESPACIO PUBLICO/AGENCIA AMBIENTAL/AGENCIA AMBIENTAL/ACTIV. COMUNES A LOS PROG. 91,92 ,93 Y 94/ACCIONES AMBIENTALES CABA",
          "MINISTERIO DE AMBIENTE Y ESPACIO PUBLICO/AGENCIA AMBIENTAL/DIRECCION GENERAL DE CONTROL/ACCIONES PARA LA RESTAURACION ECOLOGICA/ACCIONES PARA LA RESTAURACION ECOLOGICA",
          "JEFATURA DE GOBIERNO/AGENCIA DE PROTECCION AMBIENTAL/DIRECCION GENERAL DE CONTROL/ACCIONES PARA LA RESTAURACION ECOLOGICA/ACCIONES PARA LA RESTAURACION ECOLOGICA",
          "JEFATURA DE GOBIERNO/AGENCIA DE PROTECCION AMBIENTAL/AGENCIA AMBIENTAL/ACT. COMUNES A PROG. 91 A 103/ACT. COMUNES A PROG. 91 A 103",
          "MINISTERIO DE AMBIENTE Y ESPACIO PUBLICO/AGENCIA AMBIENTAL/AGENCIA AMBIENTAL/ACTIV. COMUNES A LOS PROG. 91,92 ,93 Y 94/ACTIV. COMUNES A LOS PROG. 91,92 ,93 Y 94",
          "MINISTERIO DE AMBIENTE Y ESPACIO PUBLICO/AGENCIA AMBIENTAL/AGENCIA AMBIENTAL/ACTIV. COMUNES A LOS PROG. 91,92 Y93/ACTIV. COMUNES A LOS PROG. 91,92 Y93",
          "MINISTERIO DE AMBIENTE Y ESPACIO PUBLICO/MINISTERIO DE AMBIENTE Y ESPACIO PUBLICO/MINISTERIO AMBIENTE Y ESPACIO PUBLICO/ACTIVIDADES CENTRALES AMBIENTE Y ESPACIO PUBLICO/ACTIVIDADES CENTRALES AMBIENTE Y ESPACIO PUBLICO",
          "MINISTERIO DE AMBIENTE Y ESPACIO PUBLICO/AGENCIA AMBIENTAL/AGENCIA AMBIENTAL/ACTIVIDADES COMUMES A LOS PROGRAMAS 91,92,93,94,95,96/ACTIVIDADES COMUMES A LOS PROGRAMAS 91,92,93,94,95,96",
          "MINISTERIO DE AMBIENTE Y ESPACIO PUBLICO/MINISTERIO DE AMBIENTE Y ESPACIO PUBLICO/SUBSECRETARIA DE ADMINISTRACION/ACTIVIDADES COMUNES A LOS PROG 21 Y 22/ACTIVIDADES COMUNES A LOS PROG 21 Y 22",
          "MINISTERIO DE AMBIENTE Y ESPACIO PUBLICO/MINISTERIO DE AMBIENTE Y ESPACIO PUBLICO/SUBSECRETARIA DE ADMINISTRACION GENERAL Y DE USO DEL ESPACIO PUBLICO/ACTIVIDADES COMUNES A LOS PROG 21,22,23,75,76 Y 77/ACTIVIDADES COMUNES A LOS PROG 21,22,23,75,76 Y 77",
          "MINISTERIO DE AMBIENTE Y ESPACIO PUBLICO/AGENCIA AMBIENTAL/AGENCIA AMBIENTAL/ACTIVIDADES COMUNES A LOS PROG. 91 AL 100 Y 102/ACTIVIDADES COMUNES A LOS PROG. 91 AL 100 Y 102",
          "MINISTERIO DE AMBIENTE Y ESPACIO PUBLICO/AGENCIA AMBIENTAL/AGENCIA AMBIENTAL/ACTIVIDADES COMUNES A LOS PROG. 91 AL 103/ACTIVIDADES COMUNES A LOS PROG. 91 AL 103",
          "MINISTERIO DE AMBIENTE Y ESPACIO PUBLICO/AGENCIA AMBIENTAL/AGENCIA AMBIENTAL/ACTIVIDADES COMUNES A LOS PROG. 91,92,93, 94,95 Y 96/ACTIVIDADES COMUNES A LOS PROG. 91,92,93, 94,95 Y 96",
          "MINISTERIO DE AMBIENTE Y ESPACIO PUBLICO/AGENCIA AMBIENTAL/AGENCIA AMBIENTAL/ACTIVIDADES COMUNES A LOS PROG. 91,92,93, 94,95, 96 Y 100/ACTIVIDADES COMUNES A LOS PROG. 91,92,93, 94,95, 96 Y 100",
          "MINISTERIO DE AMBIENTE Y ESPACIO PUBLICO/AGENCIA AMBIENTAL/AGENCIA AMBIENTAL/ACTIVIDADES COMUNES A LOS PROGRAMAS 91,92 Y 93/ACTIVIDADES COMUNES A LOS PROGRAMAS 91,92 Y 93",
          "MINISTERIO DE AMBIENTE Y ESPACIO PUBLICO/MINISTERIO DE AMBIENTE Y ESPACIO PUBLICO/SUBSECRETARIA DE HIGIENE URBANA/ACTIVIDADES COMUNES A LOS PROGRAMAS: 11-52-53-56-57-58-59/ACTIVIDADES COMUNES A LOS PROGRAMAS: 11-52-53-56-57-58-59",
          "MINISTERIO DE AMBIENTE Y ESPACIO PUBLICO/MINISTERIO DE AMBIENTE Y ESPACIO PUBLICO/SUBSECRETARIA DE HIGIENE URBANA/ACTIVIDADES COMUNES A LOS PROGRAMAS: 11-52-53-56-57-58-59 Y 85/ACTIVIDADES COMUNES A LOS PROGRAMAS: 11-52-53-56-57-58-59 Y 85",
          "MINISTERIO DE AMBIENTE Y ESPACIO PUBLICO/MINISTERIO DE AMBIENTE Y ESPACIO PUBLICO/SUBSECRETARIA DE HIGIENE URBANA/ACTIVIDADES COMUNES A LOS PROGRAMAS: 11-52-53-56-57-58-59-79-85/ACTIVIDADES COMUNES A LOS PROGRAMAS: 11-52-53-56-57-58-59-79-85",
          "MINISTERIO DE AMBIENTE Y ESPACIO PUBLICO/MINISTERIO DE AMBIENTE Y ESPACIO PUBLICO/SUBSECRETARIA DE HIGIENE URBANA/ACTIVIDADES COMUNES A LOS PROGRAMAS: 11-52-53-56-57-85/ACTIVIDADES COMUNES A LOS PROGRAMAS: 11-52-53-56-57-85",
          "MINISTERIO DE AMBIENTE Y ESPACIO PUBLICO/MINISTERIO DE AMBIENTE Y ESPACIO PUBLICO/SUBSECRETARIA DE HIGIENE URBANA/ACTIVIDADES COMUNES A LOS PROGRAMAS: 11-52-53-57-58-59/ACTIVIDADES COMUNES A LOS PROGRAMAS: 11-52-53-57-58-59",
          "MINISTERIO DE AMBIENTE Y ESPACIO PUBLICO/MINISTERIO DE AMBIENTE Y ESPACIO PUBLICO/SUBSECRETARIA DE HIGIENE URBANA/ACTIVIDADES COMUNES A LOS PROGRAMAS: 11-52-53-57-58-59 Y 85/ACTIVIDADES COMUNES A LOS PROGRAMAS: 11-52-53-57-58-59 Y 85",
          "MINISTERIO DE AMBIENTE Y ESPACIO PUBLICO/MINISTERIO DE AMBIENTE Y ESPACIO PUBLICO/SUBSECRETARIA DE HIGIENE URBANA/ACTIVIDADES COMUNES A LOS PROGRAMAS: 52.53.56.57 Y 85/ACTIVIDADES COMUNES A LOS PROGRAMAS: 52.53.56.57 Y 85",
          "MINISTERIO DE AMBIENTE Y ESPACIO PUBLICO/AGENCIA AMBIENTAL/AGENCIA AMBIENTAL/ACTIVIDADES COMUMES A LOS PROGRAMAS 91,92,93,94,95,96/AMPLIACION CIFA PARA SU TRANSFORMACION EN CENTRO METROPOLITANO VERDE",
          "MINISTERIO DE AMBIENTE Y ESPACIO PUBLICO/AGENCIA AMBIENTAL/AGENCIA AMBIENTAL/ACTIVIDADES COMUNES A LOS PROGRAMAS 91,92 Y 93/ANALISIS DE SUSTANCIAS CONTAMINANTES EN AGUA, AIRE Y SUELO",
          "MINISTERIO DE AMBIENTE Y ESPACIO PUBLICO/MINISTERIO DE AMBIENTE Y ESPACIO PUBLICO/DIRECCION GENERAL DE ARBOLADO/ARBOLADO URBANO/ARBOLADO URBANO",
          "MINISTERIO DE AMBIENTE Y ESPACIO PUBLICO/MINISTERIO DE AMBIENTE Y ESPACIO PUBLICO/DIRECCION GENERAL TECNICO ADMINISTRATIVA Y LEGAL/ASUNTOS LEGALES Y PRESUPUESTO/ASUNTOS LEGALES Y PRESUPUESTO",
          "MINISTERIO DE AMBIENTE Y ESPACIO PUBLICO/AGENCIA AMBIENTAL/DIRECCION GENERAL DE EVALUACION TECNICA/BUENOS AIRES PRODUCE MAS LIMPIO (P+L)/BUENOS AIRES PRODUCE MAS LIMPIO (P+L)",
          "MINISTERIO DE AMBIENTE Y ESPACIO PUBLICO/AGENCIA AMBIENTAL/DIRECCION GENERAL ESTRATEGIAS AMBIENTALES/BUENOS AIRES PRODUCE MAS LIMPIO (P+L)/BUENOS AIRES PRODUCE MAS LIMPIO (P+L)",
          "MINISTERIO DE AMBIENTE Y ESPACIO PUBLICO/AGENCIA AMBIENTAL/DIRECCION GENERAL POLITICA Y ESTRATEGIA AMBIENTAL/BUENOS AIRES PRODUCE MAS LIMPIO (P+L)/BUENOS AIRES PRODUCE MAS LIMPIO (P+L)",
          "MINISTERIO DE AMBIENTE Y ESPACIO PUBLICO/AGENCIA AMBIENTAL/AGENCIA AMBIENTAL/ACTIV. COMUNES A LOS PROG. 91,92 ,93 Y 94/CENTRO DE INFORMACION Y FORMACION AMBIENTAL",
          "MINISTERIO DE AMBIENTE Y ESPACIO PUBLICO/AGENCIA AMBIENTAL/AGENCIA AMBIENTAL/CENTROS DE ATENCION VETERINARIA/CENTROS DE ATENCION VETERINARIA",
          "MINISTERIO DE AMBIENTE Y ESPACIO PUBLICO/AGENCIA AMBIENTAL/DIRECCION GENERAL ESTRATEGIAS AMBIENTALES/CENTROS DE ATENCION VETERINARIA/CENTROS DE ATENCION VETERINARIA",
          "MINISTERIO DE AMBIENTE Y ESPACIO PUBLICO/MINISTERIO DE AMBIENTE Y ESPACIO PUBLICO/DIRECCION GENERAL DE RECICLADO/RECICLADO DE RESIDUOS URBANOS/CENTROS VERDES",
          "MINISTERIO DE AMBIENTE Y ESPACIO PUBLICO/AGENCIA AMBIENTAL/AGENCIA AMBIENTAL/COMPENSACION AMBIENTAL/COMPENSACION AMBIENTAL",
          "MINISTERIO DE AMBIENTE Y ESPACIO PUBLICO/AGENCIA AMBIENTAL/DIRECCION GENERAL DE EVALUACION AMBIENTAL/COMPENSACION AMBIENTAL/COMPENSACION AMBIENTAL",
          "JEFATURA DE GOBIERNO/SECRETARIA DE AMBIENTE/UPE ECOPARQUE/CONSERVACION DE LA BIODIVERSIDAD/CONSERVACION DE LA BIODIVERSIDAD",
          "MINISTERIO DE AMBIENTE Y ESPACIO PUBLICO/MINISTERIO DE AMBIENTE Y ESPACIO PUBLICO/UPE ECOPARQUE INTERACTIVO DE LA CABA/CONSERVACION DE LA BIODIVERSIDAD/CONSERVACION DE LA BIODIVERSIDAD",
          "MINISTERIO DE AMBIENTE Y ESPACIO PUBLICO/MINISTERIO DE AMBIENTE Y ESPACIO PUBLICO/DIRECCION GENERAL DE LIMPIEZA/SERVICIOS DE HIGIENE URBANA/CONTENERIZACION",
          "MINISTERIO DE AMBIENTE Y ESPACIO PUBLICO/AGENCIA AMBIENTAL/DIRECCION GENERAL DE CONTROL/CONTROL AMBIENTAL/CONTROL AMBIENTAL",
          "JEFATURA DE GOBIERNO/AGENCIA DE PROTECCION AMBIENTAL/DIRECCION GENERAL DE CONTROL/CONTROL AMBIENTAL/CONTROL AMBIENTAL",
          "MINISTERIO DE AMBIENTE Y ESPACIO PUBLICO/MINISTERIO DE AMBIENTE Y ESPACIO PUBLICO/DIRECCION GENERAL CONTROL DE GESTION/CONTROL DE GESTION/CONTROL DE GESTION",
          "MINISTERIO DE AMBIENTE Y ESPACIO PUBLICO/MINISTERIO DE AMBIENTE Y ESPACIO PUBLICO/DIRECCION GENERAL CONTROL DE GESTION/CONTROL DE GESTION Y RECLAMOS/CONTROL DE GESTION Y RECLAMOS",
          "MINISTERIO DE AMBIENTE Y ESPACIO PUBLICO/MINISTERIO DE AMBIENTE Y ESPACIO PUBLICO/DIRECCION GENERAL DE LIMPIEZA/CONTROL DE HIGIENE EN VIA PUBLICA E INMUEBLES/CONTROL DE HIGIENE EN VIA PUBLICA E INMUEBLES",
          "MINISTERIO DE AMBIENTE Y ESPACIO PUBLICO/MINISTERIO DE AMBIENTE Y ESPACIO PUBLICO/DIRECCION GENERAL INSPECCION DE HIGIENE URBANA/CONTROL DE HIGIENE EN VIA PUBLICA E INMUEBLES/CONTROL DE HIGIENE EN VIA PUBLICA E INMUEBLES",
          "MINISTERIO DE AMBIENTE Y ESPACIO PUBLICO/MINISTERIO DE AMBIENTE Y ESPACIO PUBLICO/SUBSECRETARIA DE HIGIENE URBANA/CONTROL DE HIGIENE EN VIA PUBLICA E INMUEBLES/CONTROL DE HIGIENE EN VIA PUBLICA E INMUEBLES",
          "MINISTERIO DE AMBIENTE Y ESPACIO PUBLICO/MINISTERIO DE AMBIENTE Y ESPACIO PUBLICO/DIRECCION GENERAL DE LIMPIEZA/CONTROL DE PLAGAS/CONTROL DE PLAGAS",
          "MINISTERIO DE AMBIENTE Y ESPACIO PUBLICO/MINISTERIO DE AMBIENTE Y ESPACIO PUBLICO/DIRECCION GENERAL INSPECCION DE HIGIENE URBANA/CONTROL DE PLAGAS/CONTROL DE PLAGAS",
          "MINISTERIO DE AMBIENTE Y ESPACIO PUBLICO/AGENCIA AMBIENTAL/DIRECCION GENERAL ESTRATEGIAS AMBIENTALES/ESTRATEGIAS AMBIENTALES/CUBIERTA VERDE",
          "MINISTERIO DE AMBIENTE Y ESPACIO PUBLICO/AGENCIA AMBIENTAL/DIRECCION GENERAL ESTRATEGIAS AMBIENTALES/ESTRATEGIAS AMBIENTALES/CUBIERTA VERDE EN LA CABA",
          "MINISTERIO DE AMBIENTE Y ESPACIO PUBLICO/MINISTERIO DE AMBIENTE Y ESPACIO PUBLICO/DIRECCION GENERAL DE ARBOLADO/ARBOLADO URBANO/CUIDADO Y PRESERVACION DEL ARBOLADO URBANO",
          "MINISTERIO DE AMBIENTE Y ESPACIO PUBLICO/MINISTERIO DE AMBIENTE Y ESPACIO PUBLICO/DIRECCION GENERAL DE ESPACIOS VERDES/CUIDADO Y PUESTA EN VALOR DE ESPACIOS VERDES/CUIDADO Y PRESERVACION DEL ARBOLADO URBANO",
          "MINISTERIO DE AMBIENTE Y ESPACIO PUBLICO/MINISTERIO DE AMBIENTE Y ESPACIO PUBLICO/DIRECCION GENERAL DE ESPACIOS VERDES/CUIDADO Y PUESTA EN VALOR DE ESPACIOS VERDES/CUIDADO Y PUESTA EN VALOR DE ESPACIOS VERDES",
          "MINISTERIO DE AMBIENTE Y ESPACIO PUBLICO/MINISTERIO DE AMBIENTE Y ESPACIO PUBLICO/DIRECCION GENERAL DE ESPACIOS VERDES/CUIDADO Y PUESTA EN VALOR DE ESPACIOS VERDES/CUIDADO Y PUESTA EN VALOR DE GRANDES PARQUES",
          "MINISTERIO DE AMBIENTE Y ESPACIO PUBLICO/MINISTERIO DE AMBIENTE Y ESPACIO PUBLICO/DIRECCION GENERAL DE ESPACIOS VERDES/CUIDADO Y PUESTA EN VALOR DE ESPACIOS VERDES/CUIDADO Y PUESTA EN VALOR DEL PATRIMONIO CULTURAL Y NATURAL DE LOS ESPACIOS VERDES",
          "MINISTERIO DE AMBIENTE Y ESPACIO PUBLICO/AGENCIA AMBIENTAL/DIRECCION GENERAL ESTRATEGIAS AMBIENTALES/ESTRATEGIAS AMBIENTALES/DESARROLLO DE LA RED DE AIRE Y RUIDO EN LA CIUDAD DE BUENOS AIRES.",
          "MINISTERIO DE AMBIENTE Y ESPACIO PUBLICO/AGENCIA AMBIENTAL/DIRECCION GENERAL ESTRATEGIAS AMBIENTALES/PLANEAMIENTO DE LA GESTION AMBIENTAL SOSTENIBLE/DESARROLLO DE LA RED DE AIRE Y RUIDO EN LA CIUDAD DE BUENOS AIRES.",
          "MINISTERIO DE AMBIENTE Y ESPACIO PUBLICO/MINISTERIO DE AMBIENTE Y ESPACIO PUBLICO/DIRECCION GENERAL DE LIMPIEZA/SERVICIOS DE HIGIENE URBANA/DISPOSICION FINAL RESIDUOS SOLIDOS URBANOS",
          "MINISTERIO DE AMBIENTE Y ESPACIO PUBLICO/AGENCIA AMBIENTAL/AGENCIA AMBIENTAL/REDES AMBIENTALES/ESTACIONES MONITOREO CALIDAD DEL AGUA EN RED DE HIDROMETEREOLOGIA DE CABA",
          "MINISTERIO DE AMBIENTE Y ESPACIO PUBLICO/AGENCIA AMBIENTAL/DIRECCION GENERAL ESTRATEGIAS AMBIENTALES/ESTRATEGIAS AMBIENTALES/ESTRATEGIAS AMBIENTALES",
          "MINISTERIO DE AMBIENTE Y ESPACIO PUBLICO/AGENCIA AMBIENTAL/DIRECCION GENERAL POLITICA Y ESTRATEGIA AMBIENTAL/ESTRATEGIAS AMBIENTALES/ESTRATEGIAS AMBIENTALES",
          "MINISTERIO DE AMBIENTE Y ESPACIO PUBLICO/AGENCIA AMBIENTAL/DIRECCION GENERAL DE EVALUACION AMBIENTAL/EVALUACION TECNICA/EVALUACION TECNICA",
          "MINISTERIO DE AMBIENTE Y ESPACIO PUBLICO/AGENCIA AMBIENTAL/DIRECCION GENERAL DE EVALUACION TECNICA/EVALUACION TECNICA/EVALUACION TECNICA",
          "JEFATURA DE GOBIERNO/AGENCIA DE PROTECCION AMBIENTAL/DIRECCION GENERAL EVALUACION AMBIAENTAL/EVALUACION TECNICA/EVALUACION TECNICA",
          "MINISTERIO DE AMBIENTE Y ESPACIO PUBLICO/AGENCIA AMBIENTAL/AGENCIA AMBIENTAL/GESTION AMBIENTAL/GESTION AMBIENTAL",
          "MINISTERIO DE AMBIENTE Y ESPACIO PUBLICO/AGENCIA AMBIENTAL/DIRECCION GENERAL ESTRATEGIAS AMBIENTALES/ESTRATEGIAS AMBIENTALES/HOGAR TRANSITORIO DE MASCOTAS",
          "MINISTERIO DE AMBIENTE Y ESPACIO PUBLICO/MINISTERIO DE AMBIENTE Y ESPACIO PUBLICO/DIRECCION GENERAL DE ARBOLADO/ARBOLADO URBANO/INTERVENCIONES SOBRE EL ARBOLADO",
          "MINISTERIO DE AMBIENTE Y ESPACIO PUBLICO/AGENCIA AMBIENTAL/AGENCIA AMBIENTAL/INTERVENCIONES VETERINARIAS/INTERVENCIONES VETERINARIAS",
          "JEFATURA DE GOBIERNO/AGENCIA DE PROTECCION AMBIENTAL/AGENCIA AMBIENTAL/INTERVENCIONES VETERINARIAS/INTERVENCIONES VETERINARIAS",
          "MINISTERIO DE AMBIENTE Y ESPACIO PUBLICO/MINISTERIO DE AMBIENTE Y ESPACIO PUBLICO/DIRECCION GENERAL DE ESPACIOS VERDES/CUIDADO Y PUESTA EN VALOR DE ESPACIOS VERDES/JARDIN BOTANICO CARLOS THAYS",
          "MINISTERIO DE AMBIENTE Y ESPACIO PUBLICO/AGENCIA AMBIENTAL/DIRECCION GENERAL DE CONTROL/LABORATORIO DE ANALISIS Y CALIDAD AMBIENTAL/LABORATORIO DE ANALISIS Y CALIDAD AMBIENTAL",
          "JEFATURA DE GOBIERNO/AGENCIA DE PROTECCION AMBIENTAL/DIRECCION GENERAL DE CONTROL/LABORATORIO DE ANALISIS Y CALIDAD AMBIENTAL/LABORATORIO DE ANALISIS Y CALIDAD AMBIENTAL",
          "MINISTERIO DE AMBIENTE Y ESPACIO PUBLICO/AGENCIA AMBIENTAL/DIRECCION GENERAL DE EVALUACION TECNICA/LABORATORIO DE ANALISIS Y CALIDAD AMBIENTAL/LABORATORIO DE ANALISIS Y CALIDAD AMBIENTAL",
          "MINISTERIO DE AMBIENTE Y ESPACIO PUBLICO/MINISTERIO DE AMBIENTE Y ESPACIO PUBLICO/DIRECCION GENERAL DE ESPACIOS VERDES/CUIDADO Y PUESTA EN VALOR DE ESPACIOS VERDES/OBRAS BA ELIGE EV",
          "MINISTERIO DE AMBIENTE Y ESPACIO PUBLICO/AGENCIA AMBIENTAL/AGENCIA AMBIENTAL/COMPENSACION AMBIENTAL/OBRAS CORRECTIVAS DE RECOMPOSICION PREDIOS CONTAMINADOS REQUERIDOS POR IVC",
          "MINISTERIO DE AMBIENTE Y ESPACIO PUBLICO/AGENCIA AMBIENTAL/DIRECCION GENERAL DE EVALUACION TECNICA/COMPENSACION AMBIENTAL/OBRAS CORRECTIVAS DE RECOMPOSICION PREDIOS CONTAMINADOS REQUERIDOS POR IVC",
          "MINISTERIO DE AMBIENTE Y ESPACIO PUBLICO/MINISTERIO DE AMBIENTE Y ESPACIO PUBLICO/DIRECCION GENERAL DE ESPACIOS VERDES/CUIDADO Y PUESTA EN VALOR DE ESPACIOS VERDES/OBRAS DE ESPACIOS VERDES",
          "MINISTERIO DE AMBIENTE Y ESPACIO PUBLICO/MINISTERIO DE AMBIENTE Y ESPACIO PUBLICO/DIRECCION GENERAL DE ESPACIOS VERDES/CUIDADO Y PUESTA EN VALOR DE ESPACIOS VERDES/OBRAS DE ESPACIOS VERDES II",
          "MINISTERIO DE AMBIENTE Y ESPACIO PUBLICO/MINISTERIO DE AMBIENTE Y ESPACIO PUBLICO/DIRECCION GENERAL REGENERACION URBANA/REGENERACION URBANA/OBRAS DE REGENERACION URBANA",
          "JEFATURA DE GOBIERNO/SECRETARIA DE AMBIENTE/UPE ECOPARQUE/CONSERVACION DE LA BIODIVERSIDAD/OBRAS ECOPARQUE MAYEP",
          "MINISTERIO DE AMBIENTE Y ESPACIO PUBLICO/MINISTERIO DE AMBIENTE Y ESPACIO PUBLICO/UPE ECOPARQUE INTERACTIVO DE LA CABA/CONSERVACION DE LA BIODIVERSIDAD/OBRAS ECOPARQUE MAYEP",
          "MINISTERIO DE AMBIENTE Y ESPACIO PUBLICO/MINISTERIO DE AMBIENTE Y ESPACIO PUBLICO/DIRECCION GENERAL OBRAS REGENERACION URBANA/OBRAS DE REGENERACIONURBANA/PARQUES URBANOS",
          "MINISTERIO DE AMBIENTE Y ESPACIO PUBLICO/AGENCIA AMBIENTAL/DIRECCION GENERAL ESTRATEGIAS AMBIENTALES/PLANEAMIENTO DE LA GESTION AMBIENTAL SOSTENIBLE/PLANEAMIENTO DE LA GESTION AMBIENTAL SOSTENIBLE",
          "MINISTERIO DE AMBIENTE Y ESPACIO PUBLICO/MINISTERIO DE AMBIENTE Y ESPACIO PUBLICO/DIRECCION GENERAL PLANIFICACION Y PRESUPUESTO/PLANIFICACION Y PRESUPUESTO/PLANIFICACION Y PRESUPUESTO",
          "JEFATURA DE GOBIERNO/AGENCIA DE PROTECCION AMBIENTAL/DIRECCION GENERAL POLITICA Y ESTRATEGIA AMBIENTAL/POLITICA Y ESTRATEGIA AMBIENTAL/POLITICA Y ESTRATEGIA AMBIENTAL",
          "MINISTERIO DE AMBIENTE Y ESPACIO PUBLICO/AGENCIA AMBIENTAL/DIRECCION GENERAL DE EVALUACION TECNICA/PREVENC.AMB.EVALUAC.TECNICA Y CERTIFICADOS AMBIENTALES/PREVENC.AMB.EVALUAC.TECNICA Y CERTIFICADOS AMBIENTALES",
          "MINISTERIO DE AMBIENTE Y ESPACIO PUBLICO/AGENCIA AMBIENTAL/DIRECCION GENERAL DE EVALUACION TECNICA/PREVENCION AMBIENTAL EVALUACION TECNICA Y REGISTROS AMBIENTALES/PREVENCION AMBIENTAL EVALUACION TECNICA Y REGISTROS AMBIENTALES",
          "MINISTERIO DE AMBIENTE Y ESPACIO PUBLICO/AGENCIA AMBIENTAL/DIRECCION GENERAL POLITICA Y ESTRATEGIA AMBIENTAL/PROGRAMA DE CAMBIO CLIMATICO E INFORMACION AMBIENTAL/PROGRAMA DE CAMBIO CLIMATICO E INFORMACION AMBIENTAL",
          "JEFATURA DE GOBIERNO/AGENCIA DE PROTECCION AMBIENTAL/DIRECCION GENERAL POLITICA Y ESTRATEGIA AMBIENTAL/PROGRAMA DE CAMBIO CLIMATICO E INFORMACION AMBIENTAL/PROGRAMA DE CAMBIO CLIMATICO E INFORMACION AMBIENTAL",
          "JEFATURA DE GOBIERNO/AGENCIA DE PROTECCION AMBIENTAL/DIRECCION GENERAL POLITICA Y ESTRATEGIA AMBIENTAL/PROGRAMA DE DESARROLLO SUSTENTABLE/PROGRAMA DE DESARROLLO SUSTENTABLE",
          "MINISTERIO DE AMBIENTE Y ESPACIO PUBLICO/AGENCIA AMBIENTAL/DIRECCION GENERAL POLITICA Y ESTRATEGIA AMBIENTAL/PROGRAMA DE GESTION ENERGETICA/PROGRAMA DE GESTION ENERGETICA",
          "JEFATURA DE GOBIERNO/AGENCIA DE PROTECCION AMBIENTAL/DIRECCION GENERAL POLITICA Y ESTRATEGIA AMBIENTAL/PROGRAMA DE GESTION ENERGETICA/PROGRAMA DE GESTION ENERGETICA",
          "MINISTERIO DE AMBIENTE Y ESPACIO PUBLICO/AGENCIA AMBIENTAL/DIRECCION GENERAL POLITICA Y ESTRATEGIA AMBIENTAL/PROGRAMA DE RESIDUOS DE MANEJO ESPECIAL/PROGRAMA DE RESIDUOS DE MANEJO ESPECIAL",
          "JEFATURA DE GOBIERNO/AGENCIA DE PROTECCION AMBIENTAL/DIRECCION GENERAL POLITICA Y ESTRATEGIA AMBIENTAL/PROGRAMA DE RESIDUOS SUJETOS A MANEJO ESPECIAL/PROGRAMA DE RESIDUOS SUJETOS A MANEJO ESPECIAL",
          "MINISTERIO DE AMBIENTE Y ESPACIO PUBLICO/AGENCIA AMBIENTAL/AGENCIA AMBIENTAL/PROTECCION Y SANIDAD ANIMAL/PROTECCION Y SANIDAD ANIMAL",
          "MINISTERIO DE AMBIENTE Y ESPACIO PUBLICO/AGENCIA AMBIENTAL/DIRECCION GENERAL ESTRATEGIAS AMBIENTALES/PROTECCION Y SANIDAD ANIMAL/PROTECCION Y SANIDAD ANIMAL",
          "MINISTERIO DE AMBIENTE Y ESPACIO PUBLICO/AGENCIA AMBIENTAL/AGENCIA AMBIENTAL/GESTION AMBIENTAL/PROYECTOS ACUMAR",
          "MINISTERIO DE AMBIENTE Y ESPACIO PUBLICO/MINISTERIO DE AMBIENTE Y ESPACIO PUBLICO/DIRECCION GENERAL INSPECCION DE HIGIENE URBANA/CONTROL DE HIGIENE EN VIA PUBLICA E INMUEBLES/PUESTA EN VALOR DE EDIFICIOS",
          "MINISTERIO DE AMBIENTE Y ESPACIO PUBLICO/AGENCIA AMBIENTAL/AGENCIA AMBIENTAL/ACTIV. COMUNES A LOS PROG. 91,92 ,93 Y 94/PUESTA EN VALOR DE LAS OFICINAS DE LA AGENCIA DE PROTECCION AMBIENTAL",
          "MINISTERIO DE AMBIENTE Y ESPACIO PUBLICO/AGENCIA AMBIENTAL/DIRECCION GENERAL ESTRATEGIAS AMBIENTALES/ESTRATEGIAS AMBIENTALES/PUESTA EN VALOR DEPOSITO RAES",
          "MINISTERIO DE AMBIENTE Y ESPACIO PUBLICO/MINISTERIO DE AMBIENTE Y ESPACIO PUBLICO/DIRECCION GENERAL DE ESPACIOS VERDES/CUIDADO Y PUESTA EN VALOR DE ESPACIOS VERDES/PUESTA EN VALOR EDIFICIOS",
          "MINISTERIO DE AMBIENTE Y ESPACIO PUBLICO/MINISTERIO DE AMBIENTE Y ESPACIO PUBLICO/DIRECCION GENERAL DE RECICLADO/RECICLADO DE RESIDUOS URBANOS/RECICLADO DE RESIDUOS URBANOS",
          "MINISTERIO DE AMBIENTE Y ESPACIO PUBLICO/ENTE DE HIGIENE URBANA/ENTE DE HIGIENE URBANA/RECOLECCION, BARRIDO E HIGIENE DE LA CIUDAD DE BUENOS AIRES/RECOLECCION, BARRIDO E HIGIENE DE LA CIUDAD DE BUENOS AIRES",
          "MINISTERIO DE AMBIENTE Y ESPACIO PUBLICO/AGENCIA AMBIENTAL/DIRECCION GENERAL ESTRATEGIAS AMBIENTALES/ESTRATEGIAS AMBIENTALES/RED DE MONITOREO AMBIENTAL",
          "MINISTERIO DE AMBIENTE Y ESPACIO PUBLICO/AGENCIA AMBIENTAL/DIRECCION GENERAL ESTRATEGIAS AMBIENTALES/ESTRATEGIAS AMBIENTALES/RED DE MONITOREO DE LA CALIDAD DEL AGUA SUPERFICIAL DE LA CABA.",
          "MINISTERIO DE AMBIENTE Y ESPACIO PUBLICO/AGENCIA AMBIENTAL/DIRECCION GENERAL ESTRATEGIAS AMBIENTALES/PLANEAMIENTO DE LA GESTION AMBIENTAL SOSTENIBLE/RED DE MONITOREO DE LA CALIDAD DEL AGUA SUPERFICIAL DE LA CABA.",
          "MINISTERIO DE AMBIENTE Y ESPACIO PUBLICO/AGENCIA AMBIENTAL/AGENCIA AMBIENTAL/REDES AMBIENTALES/REDES AMBIENTALES",
          "MINISTERIO DE AMBIENTE Y ESPACIO PUBLICO/AGENCIA AMBIENTAL/DIRECCION GENERAL DE CONTROL/REDES AMBIENTALES/REDES AMBIENTALES",
          "JEFATURA DE GOBIERNO/AGENCIA DE PROTECCION AMBIENTAL/DIRECCION GENERAL DE CONTROL/REDES AMBIENTALES/REDES AMBIENTALES",
          "MINISTERIO DE AMBIENTE Y ESPACIO PUBLICO/AGENCIA AMBIENTAL/AGENCIA AMBIENTAL/ACTIV. COMUNES A LOS PROG. 91,92 ,93 Y 94/REMEDIACION AMBIENTAL GCBA",
          "MINISTERIO DE AMBIENTE Y ESPACIO PUBLICO/AGENCIA AMBIENTAL/AGENCIA AMBIENTAL/COMPENSACION AMBIENTAL/REMEDIACION Y MITIGACION AMBIENTAL",
          "MINISTERIO DE AMBIENTE Y ESPACIO PUBLICO/MINISTERIO DE AMBIENTE Y ESPACIO PUBLICO/MINISTERIO AMBIENTE Y ESPACIO PUBLICO/MANTENIMIENTO ZONA PUERTO MADERO/REPARACION Y MEJORAS EN BARRIOS DE BUENOS AIRES",
          "MINISTERIO DE AMBIENTE Y ESPACIO PUBLICO/AGENCIA AMBIENTAL/AGENCIA AMBIENTAL/ACTIV. COMUNES A LOS PROG. 91,92 ,93 Y 94/RESTAURACION Y MITIGACION GCBA",
          "MINISTERIO DE AMBIENTE Y ESPACIO PUBLICO/AGENCIA AMBIENTAL/AGENCIA AMBIENTAL/ACTIV. COMUNES A LOS PROG. 91,92 ,93 Y 94/SANEAMIENTO Y REMEDIACION DE SUELOS CONTAMINADOS ACHA 2102/04 Y MENDOZA",
          "MINISTERIO DE AMBIENTE Y ESPACIO PUBLICO/AGENCIA AMBIENTAL/AGENCIA AMBIENTAL/SANIDAD Y TENENCIA RESPONSABLE DE MASCOTAS/SANIDAD Y TENENCIA RESPONSABLE DE MASCOTAS",
          "JEFATURA DE GOBIERNO/AGENCIA DE PROTECCION AMBIENTAL/AGENCIA AMBIENTAL/SANIDAD Y TENENCIA RESPONSABLE DE MASCOTAS/SANIDAD Y TENENCIA RESPONSABLE DE MASCOTAS",
          "MINISTERIO DE AMBIENTE Y ESPACIO PUBLICO/MINISTERIO DE AMBIENTE Y ESPACIO PUBLICO/DIRECCION GENERAL DE LIMPIEZA/SERVICIOS DE HIGIENE URBANA/SERVICIO DE LIMPIEZA DE ARROYOS",
          "MINISTERIO DE AMBIENTE Y ESPACIO PUBLICO/MINISTERIO DE AMBIENTE Y ESPACIO PUBLICO/MINISTERIO AMBIENTE Y ESPACIO PUBLICO/SERVICIOS DE ADMINISTRACION/SERVICIOS DE ADMINISTRACION",
          "MINISTERIO DE AMBIENTE Y ESPACIO PUBLICO/AGENCIA AMBIENTAL/DIRECCION GENERAL DE EVALUACION TECNICA/COMPENSACION AMBIENTAL/SITIOS CONTAMINADOS",
          "JEFATURA DE GOBIERNO/AGENCIA DE PROTECCION AMBIENTAL/DIRECCION GENERAL POLITICA Y ESTRATEGIA AMBIENTAL/POLITICA Y ESTRATEGIA AMBIENTAL/SITIOS CONTAMINADOS",
          "MINISTERIO DE AMBIENTE Y ESPACIO PUBLICO/MINISTERIO DE AMBIENTE Y ESPACIO PUBLICO/DIRECCION GENERAL TECNICO ADMINISTRATIVA Y LEGAL/TECNICA ADMINISTRATIVA Y LEGAL/TECNICA ADMINISTRATIVA Y LEGAL",
          "MINISTERIO DE AMBIENTE Y ESPACIO PUBLICO/MINISTERIO DE AMBIENTE Y ESPACIO PUBLICO/DIRECCION GENERAL TRATAMIENTO Y NUEVAS TECNOLOGIAS/TRATAMIENTO DE RESIDUOS SOLIDOS URBANOS/TRATAMIENTO DE RESIDUOS ORGANICOS",
          "MINISTERIO DE AMBIENTE Y ESPACIO PUBLICO/MINISTERIO DE AMBIENTE Y ESPACIO PUBLICO/DIRECCION GENERAL DE ESPACIOS VERDES/CUIDADO Y PUESTA EN VALOR DE ESPACIOS VERDES/VALORIZACION DE LOS ESPACIOS VERDES",
          "MINISTERIO DE AMBIENTE Y ESPACIO PUBLICO/MINISTERIO DE AMBIENTE Y ESPACIO PUBLICO/DIRECCION GENERAL DE ESPACIOS VERDES/CUIDADO Y PUESTA EN VALOR DE ESPACIOS VERDES/VALORIZACION DE LOS ESPACIOS VERDES DE LA CIUDAD",
          "MINISTERIO DE AMBIENTE Y ESPACIO PUBLICO/AGENCIA AMBIENTAL/DIRECCION GENERAL DE CONTROL/ACCIONES PARA LA RESTAURACION ECOLOGICA",
          "JEFATURA DE GOBIERNO/AGENCIA DE PROTECCION AMBIENTAL/DIRECCION GENERAL DE CONTROL/ACCIONES PARA LA RESTAURACION ECOLOGICA",
          "JEFATURA DE GOBIERNO/AGENCIA DE PROTECCION AMBIENTAL/AGENCIA AMBIENTAL/ACT. COMUNES A PROG. 91 A 103",
          "MINISTERIO DE AMBIENTE Y ESPACIO PUBLICO/AGENCIA AMBIENTAL/AGENCIA AMBIENTAL/ACTIV. COMUNES A LOS PROG. 91,92 ,93 Y 94",
          "MINISTERIO DE AMBIENTE Y ESPACIO PUBLICO/AGENCIA AMBIENTAL/AGENCIA AMBIENTAL/ACTIV. COMUNES A LOS PROG. 91,92 Y93",
          "MINISTERIO DE AMBIENTE Y ESPACIO PUBLICO/MINISTERIO DE AMBIENTE Y ESPACIO PUBLICO/MINISTERIO AMBIENTE Y ESPACIO PUBLICO/ACTIVIDADES CENTRALES AMBIENTE Y ESPACIO PUBLICO",
          "MINISTERIO DE AMBIENTE Y ESPACIO PUBLICO/AGENCIA AMBIENTAL/AGENCIA AMBIENTAL/ACTIVIDADES COMUMES A LOS PROGRAMAS 91,92,93,94,95,96",
          "MINISTERIO DE AMBIENTE Y ESPACIO PUBLICO/MINISTERIO DE AMBIENTE Y ESPACIO PUBLICO/SUBSECRETARIA DE ADMINISTRACION/ACTIVIDADES COMUNES A LOS PROG 21 Y 22",
          "MINISTERIO DE AMBIENTE Y ESPACIO PUBLICO/MINISTERIO DE AMBIENTE Y ESPACIO PUBLICO/SUBSECRETARIA DE ADMINISTRACION GENERAL Y DE USO DEL ESPACIO PUBLICO/ACTIVIDADES COMUNES A LOS PROG 21,22,23,75,76 Y 77",
          "MINISTERIO DE AMBIENTE Y ESPACIO PUBLICO/AGENCIA AMBIENTAL/AGENCIA AMBIENTAL/ACTIVIDADES COMUNES A LOS PROG. 91 AL 100 Y 102",
          "MINISTERIO DE AMBIENTE Y ESPACIO PUBLICO/AGENCIA AMBIENTAL/AGENCIA AMBIENTAL/ACTIVIDADES COMUNES A LOS PROG. 91 AL 103",
          "MINISTERIO DE AMBIENTE Y ESPACIO PUBLICO/AGENCIA AMBIENTAL/AGENCIA AMBIENTAL/ACTIVIDADES COMUNES A LOS PROG. 91,92,93, 94,95 Y 96",
          "MINISTERIO DE AMBIENTE Y ESPACIO PUBLICO/AGENCIA AMBIENTAL/AGENCIA AMBIENTAL/ACTIVIDADES COMUNES A LOS PROG. 91,92,93, 94,95, 96 Y 100",
          "MINISTERIO DE AMBIENTE Y ESPACIO PUBLICO/AGENCIA AMBIENTAL/AGENCIA AMBIENTAL/ACTIVIDADES COMUNES A LOS PROGRAMAS 91,92 Y 93",
          "MINISTERIO DE AMBIENTE Y ESPACIO PUBLICO/MINISTERIO DE AMBIENTE Y ESPACIO PUBLICO/SUBSECRETARIA DE HIGIENE URBANA/ACTIVIDADES COMUNES A LOS PROGRAMAS: 11-52-53-56-57-58-59",
          "MINISTERIO DE AMBIENTE Y ESPACIO PUBLICO/MINISTERIO DE AMBIENTE Y ESPACIO PUBLICO/SUBSECRETARIA DE HIGIENE URBANA/ACTIVIDADES COMUNES A LOS PROGRAMAS: 11-52-53-56-57-58-59 Y 85",
          "MINISTERIO DE AMBIENTE Y ESPACIO PUBLICO/MINISTERIO DE AMBIENTE Y ESPACIO PUBLICO/SUBSECRETARIA DE HIGIENE URBANA/ACTIVIDADES COMUNES A LOS PROGRAMAS: 11-52-53-56-57-58-59-79-85",
          "MINISTERIO DE AMBIENTE Y ESPACIO PUBLICO/MINISTERIO DE AMBIENTE Y ESPACIO PUBLICO/SUBSECRETARIA DE HIGIENE URBANA/ACTIVIDADES COMUNES A LOS PROGRAMAS: 11-52-53-56-57-85",
          "MINISTERIO DE AMBIENTE Y ESPACIO PUBLICO/MINISTERIO DE AMBIENTE Y ESPACIO PUBLICO/SUBSECRETARIA DE HIGIENE URBANA/ACTIVIDADES COMUNES A LOS PROGRAMAS: 11-52-53-57-58-59",
          "MINISTERIO DE AMBIENTE Y ESPACIO PUBLICO/MINISTERIO DE AMBIENTE Y ESPACIO PUBLICO/SUBSECRETARIA DE HIGIENE URBANA/ACTIVIDADES COMUNES A LOS PROGRAMAS: 11-52-53-57-58-59 Y 85",
          "MINISTERIO DE AMBIENTE Y ESPACIO PUBLICO/MINISTERIO DE AMBIENTE Y ESPACIO PUBLICO/SUBSECRETARIA DE HIGIENE URBANA/ACTIVIDADES COMUNES A LOS PROGRAMAS: 52.53.56.57 Y 85",
          "MINISTERIO DE AMBIENTE Y ESPACIO PUBLICO/MINISTERIO DE AMBIENTE Y ESPACIO PUBLICO/DIRECCION GENERAL DE ARBOLADO/ARBOLADO URBANO",
          "MINISTERIO DE AMBIENTE Y ESPACIO PUBLICO/MINISTERIO DE AMBIENTE Y ESPACIO PUBLICO/DIRECCION GENERAL TECNICO ADMINISTRATIVA Y LEGAL/ASUNTOS LEGALES Y PRESUPUESTO",
          "MINISTERIO DE AMBIENTE Y ESPACIO PUBLICO/AGENCIA AMBIENTAL/DIRECCION GENERAL DE EVALUACION TECNICA/BUENOS AIRES PRODUCE MAS LIMPIO (P+L)",
          "MINISTERIO DE AMBIENTE Y ESPACIO PUBLICO/AGENCIA AMBIENTAL/DIRECCION GENERAL ESTRATEGIAS AMBIENTALES/BUENOS AIRES PRODUCE MAS LIMPIO (P+L)",
          "MINISTERIO DE AMBIENTE Y ESPACIO PUBLICO/AGENCIA AMBIENTAL/DIRECCION GENERAL POLITICA Y ESTRATEGIA AMBIENTAL/BUENOS AIRES PRODUCE MAS LIMPIO (P+L)",
          "MINISTERIO DE AMBIENTE Y ESPACIO PUBLICO/AGENCIA AMBIENTAL/AGENCIA AMBIENTAL/CENTROS DE ATENCION VETERINARIA",
          "MINISTERIO DE AMBIENTE Y ESPACIO PUBLICO/AGENCIA AMBIENTAL/DIRECCION GENERAL ESTRATEGIAS AMBIENTALES/CENTROS DE ATENCION VETERINARIA",
          "MINISTERIO DE AMBIENTE Y ESPACIO PUBLICO/AGENCIA AMBIENTAL/AGENCIA AMBIENTAL/COMPENSACION AMBIENTAL",
          "MINISTERIO DE AMBIENTE Y ESPACIO PUBLICO/AGENCIA AMBIENTAL/DIRECCION GENERAL DE EVALUACION AMBIENTAL/COMPENSACION AMBIENTAL",
          "MINISTERIO DE AMBIENTE Y ESPACIO PUBLICO/AGENCIA AMBIENTAL/DIRECCION GENERAL DE EVALUACION TECNICA/COMPENSACION AMBIENTAL",
          "JEFATURA DE GOBIERNO/SECRETARIA DE AMBIENTE/UPE ECOPARQUE/CONSERVACION DE LA BIODIVERSIDAD",
          "MINISTERIO DE AMBIENTE Y ESPACIO PUBLICO/MINISTERIO DE AMBIENTE Y ESPACIO PUBLICO/UPE ECOPARQUE INTERACTIVO DE LA CABA/CONSERVACION DE LA BIODIVERSIDAD",
          "MINISTERIO DE AMBIENTE Y ESPACIO PUBLICO/AGENCIA AMBIENTAL/DIRECCION GENERAL DE CONTROL/CONTROL AMBIENTAL",
          "JEFATURA DE GOBIERNO/AGENCIA DE PROTECCION AMBIENTAL/DIRECCION GENERAL DE CONTROL/CONTROL AMBIENTAL",
          "MINISTERIO DE AMBIENTE Y ESPACIO PUBLICO/MINISTERIO DE AMBIENTE Y ESPACIO PUBLICO/DIRECCION GENERAL CONTROL DE GESTION/CONTROL DE GESTION",
          "MINISTERIO DE AMBIENTE Y ESPACIO PUBLICO/MINISTERIO DE AMBIENTE Y ESPACIO PUBLICO/DIRECCION GENERAL CONTROL DE GESTION/CONTROL DE GESTION Y RECLAMOS",
          "MINISTERIO DE AMBIENTE Y ESPACIO PUBLICO/MINISTERIO DE AMBIENTE Y ESPACIO PUBLICO/DIRECCION GENERAL DE LIMPIEZA/CONTROL DE HIGIENE EN VIA PUBLICA E INMUEBLES",
          "MINISTERIO DE AMBIENTE Y ESPACIO PUBLICO/MINISTERIO DE AMBIENTE Y ESPACIO PUBLICO/DIRECCION GENERAL INSPECCION DE HIGIENE URBANA/CONTROL DE HIGIENE EN VIA PUBLICA E INMUEBLES",
          "MINISTERIO DE AMBIENTE Y ESPACIO PUBLICO/MINISTERIO DE AMBIENTE Y ESPACIO PUBLICO/SUBSECRETARIA DE HIGIENE URBANA/CONTROL DE HIGIENE EN VIA PUBLICA E INMUEBLES",
          "MINISTERIO DE AMBIENTE Y ESPACIO PUBLICO/MINISTERIO DE AMBIENTE Y ESPACIO PUBLICO/DIRECCION GENERAL DE LIMPIEZA/CONTROL DE PLAGAS",
          "MINISTERIO DE AMBIENTE Y ESPACIO PUBLICO/MINISTERIO DE AMBIENTE Y ESPACIO PUBLICO/DIRECCION GENERAL INSPECCION DE HIGIENE URBANA/CONTROL DE PLAGAS",
          "MINISTERIO DE AMBIENTE Y ESPACIO PUBLICO/MINISTERIO DE AMBIENTE Y ESPACIO PUBLICO/DIRECCION GENERAL DE ESPACIOS VERDES/CUIDADO Y PUESTA EN VALOR DE ESPACIOS VERDES",
          "MINISTERIO DE AMBIENTE Y ESPACIO PUBLICO/AGENCIA AMBIENTAL/DIRECCION GENERAL ESTRATEGIAS AMBIENTALES/ESTRATEGIAS AMBIENTALES",
          "MINISTERIO DE AMBIENTE Y ESPACIO PUBLICO/AGENCIA AMBIENTAL/DIRECCION GENERAL POLITICA Y ESTRATEGIA AMBIENTAL/ESTRATEGIAS AMBIENTALES",
          "MINISTERIO DE AMBIENTE Y ESPACIO PUBLICO/AGENCIA AMBIENTAL/DIRECCION GENERAL DE EVALUACION AMBIENTAL/EVALUACION TECNICA",
          "MINISTERIO DE AMBIENTE Y ESPACIO PUBLICO/AGENCIA AMBIENTAL/DIRECCION GENERAL DE EVALUACION TECNICA/EVALUACION TECNICA",
          "JEFATURA DE GOBIERNO/AGENCIA DE PROTECCION AMBIENTAL/DIRECCION GENERAL EVALUACION AMBIAENTAL/EVALUACION TECNICA",
          "MINISTERIO DE AMBIENTE Y ESPACIO PUBLICO/AGENCIA AMBIENTAL/AGENCIA AMBIENTAL/GESTION AMBIENTAL",
          "MINISTERIO DE AMBIENTE Y ESPACIO PUBLICO/AGENCIA AMBIENTAL/AGENCIA AMBIENTAL/INTERVENCIONES VETERINARIAS",
          "JEFATURA DE GOBIERNO/AGENCIA DE PROTECCION AMBIENTAL/AGENCIA AMBIENTAL/INTERVENCIONES VETERINARIAS",
          "MINISTERIO DE AMBIENTE Y ESPACIO PUBLICO/AGENCIA AMBIENTAL/DIRECCION GENERAL DE CONTROL/LABORATORIO DE ANALISIS Y CALIDAD AMBIENTAL",
          "JEFATURA DE GOBIERNO/AGENCIA DE PROTECCION AMBIENTAL/DIRECCION GENERAL DE CONTROL/LABORATORIO DE ANALISIS Y CALIDAD AMBIENTAL",
          "MINISTERIO DE AMBIENTE Y ESPACIO PUBLICO/AGENCIA AMBIENTAL/DIRECCION GENERAL DE EVALUACION TECNICA/LABORATORIO DE ANALISIS Y CALIDAD AMBIENTAL",
          "MINISTERIO DE AMBIENTE Y ESPACIO PUBLICO/MINISTERIO DE AMBIENTE Y ESPACIO PUBLICO/MINISTERIO AMBIENTE Y ESPACIO PUBLICO/MANTENIMIENTO ZONA PUERTO MADERO",
          "MINISTERIO DE AMBIENTE Y ESPACIO PUBLICO/MINISTERIO DE AMBIENTE Y ESPACIO PUBLICO/DIRECCION GENERAL OBRAS REGENERACION URBANA/OBRAS DE REGENERACIONURBANA",
          "MINISTERIO DE AMBIENTE Y ESPACIO PUBLICO/AGENCIA AMBIENTAL/DIRECCION GENERAL ESTRATEGIAS AMBIENTALES/PLANEAMIENTO DE LA GESTION AMBIENTAL SOSTENIBLE",
          "MINISTERIO DE AMBIENTE Y ESPACIO PUBLICO/MINISTERIO DE AMBIENTE Y ESPACIO PUBLICO/DIRECCION GENERAL PLANIFICACION Y PRESUPUESTO/PLANIFICACION Y PRESUPUESTO",
          "JEFATURA DE GOBIERNO/AGENCIA DE PROTECCION AMBIENTAL/DIRECCION GENERAL POLITICA Y ESTRATEGIA AMBIENTAL/POLITICA Y ESTRATEGIA AMBIENTAL",
          "MINISTERIO DE AMBIENTE Y ESPACIO PUBLICO/AGENCIA AMBIENTAL/DIRECCION GENERAL DE EVALUACION TECNICA/PREVENC.AMB.EVALUAC.TECNICA Y CERTIFICADOS AMBIENTALES",
          "MINISTERIO DE AMBIENTE Y ESPACIO PUBLICO/AGENCIA AMBIENTAL/DIRECCION GENERAL DE EVALUACION TECNICA/PREVENCION AMBIENTAL EVALUACION TECNICA Y REGISTROS AMBIENTALES",
          "MINISTERIO DE AMBIENTE Y ESPACIO PUBLICO/AGENCIA AMBIENTAL/DIRECCION GENERAL POLITICA Y ESTRATEGIA AMBIENTAL/PROGRAMA DE CAMBIO CLIMATICO E INFORMACION AMBIENTAL",
          "JEFATURA DE GOBIERNO/AGENCIA DE PROTECCION AMBIENTAL/DIRECCION GENERAL POLITICA Y ESTRATEGIA AMBIENTAL/PROGRAMA DE CAMBIO CLIMATICO E INFORMACION AMBIENTAL",
          "JEFATURA DE GOBIERNO/AGENCIA DE PROTECCION AMBIENTAL/DIRECCION GENERAL POLITICA Y ESTRATEGIA AMBIENTAL/PROGRAMA DE DESARROLLO SUSTENTABLE",
          "MINISTERIO DE AMBIENTE Y ESPACIO PUBLICO/AGENCIA AMBIENTAL/DIRECCION GENERAL POLITICA Y ESTRATEGIA AMBIENTAL/PROGRAMA DE GESTION ENERGETICA",
          "JEFATURA DE GOBIERNO/AGENCIA DE PROTECCION AMBIENTAL/DIRECCION GENERAL POLITICA Y ESTRATEGIA AMBIENTAL/PROGRAMA DE GESTION ENERGETICA",
          "MINISTERIO DE AMBIENTE Y ESPACIO PUBLICO/AGENCIA AMBIENTAL/DIRECCION GENERAL POLITICA Y ESTRATEGIA AMBIENTAL/PROGRAMA DE RESIDUOS DE MANEJO ESPECIAL",
          "JEFATURA DE GOBIERNO/AGENCIA DE PROTECCION AMBIENTAL/DIRECCION GENERAL POLITICA Y ESTRATEGIA AMBIENTAL/PROGRAMA DE RESIDUOS SUJETOS A MANEJO ESPECIAL",
          "MINISTERIO DE AMBIENTE Y ESPACIO PUBLICO/AGENCIA AMBIENTAL/AGENCIA AMBIENTAL/PROTECCION Y SANIDAD ANIMAL",
          "MINISTERIO DE AMBIENTE Y ESPACIO PUBLICO/AGENCIA AMBIENTAL/DIRECCION GENERAL ESTRATEGIAS AMBIENTALES/PROTECCION Y SANIDAD ANIMAL",
          "MINISTERIO DE AMBIENTE Y ESPACIO PUBLICO/MINISTERIO DE AMBIENTE Y ESPACIO PUBLICO/DIRECCION GENERAL DE RECICLADO/RECICLADO DE RESIDUOS URBANOS",
          "MINISTERIO DE AMBIENTE Y ESPACIO PUBLICO/ENTE DE HIGIENE URBANA/ENTE DE HIGIENE URBANA/RECOLECCION, BARRIDO E HIGIENE DE LA CIUDAD DE BUENOS AIRES",
          "MINISTERIO DE AMBIENTE Y ESPACIO PUBLICO/AGENCIA AMBIENTAL/AGENCIA AMBIENTAL/REDES AMBIENTALES",
          "MINISTERIO DE AMBIENTE Y ESPACIO PUBLICO/AGENCIA AMBIENTAL/DIRECCION GENERAL DE CONTROL/REDES AMBIENTALES",
          "JEFATURA DE GOBIERNO/AGENCIA DE PROTECCION AMBIENTAL/DIRECCION GENERAL DE CONTROL/REDES AMBIENTALES",
          "MINISTERIO DE AMBIENTE Y ESPACIO PUBLICO/MINISTERIO DE AMBIENTE Y ESPACIO PUBLICO/DIRECCION GENERAL REGENERACION URBANA/REGENERACION URBANA",
          "MINISTERIO DE AMBIENTE Y ESPACIO PUBLICO/AGENCIA AMBIENTAL/AGENCIA AMBIENTAL/SANIDAD Y TENENCIA RESPONSABLE DE MASCOTAS",
          "JEFATURA DE GOBIERNO/AGENCIA DE PROTECCION AMBIENTAL/AGENCIA AMBIENTAL/SANIDAD Y TENENCIA RESPONSABLE DE MASCOTAS",
          "MINISTERIO DE AMBIENTE Y ESPACIO PUBLICO/MINISTERIO DE AMBIENTE Y ESPACIO PUBLICO/MINISTERIO AMBIENTE Y ESPACIO PUBLICO/SERVICIOS DE ADMINISTRACION",
          "MINISTERIO DE AMBIENTE Y ESPACIO PUBLICO/MINISTERIO DE AMBIENTE Y ESPACIO PUBLICO/DIRECCION GENERAL DE LIMPIEZA/SERVICIOS DE HIGIENE URBANA",
          "MINISTERIO DE AMBIENTE Y ESPACIO PUBLICO/MINISTERIO DE AMBIENTE Y ESPACIO PUBLICO/DIRECCION GENERAL TECNICO ADMINISTRATIVA Y LEGAL/TECNICA ADMINISTRATIVA Y LEGAL",
          "MINISTERIO DE AMBIENTE Y ESPACIO PUBLICO/MINISTERIO DE AMBIENTE Y ESPACIO PUBLICO/DIRECCION GENERAL TRATAMIENTO Y NUEVAS TECNOLOGIAS/TRATAMIENTO DE RESIDUOS SOLIDOS URBANOS",
          "MINISTERIO DE AMBIENTE Y ESPACIO PUBLICO/AGENCIA AMBIENTAL/AGENCIA AMBIENTAL",
          "JEFATURA DE GOBIERNO/AGENCIA DE PROTECCION AMBIENTAL/AGENCIA AMBIENTAL",
          "MINISTERIO DE AMBIENTE Y ESPACIO PUBLICO/MINISTERIO DE AMBIENTE Y ESPACIO PUBLICO/DIRECCION GENERAL CONTROL DE GESTION",
          "MINISTERIO DE AMBIENTE Y ESPACIO PUBLICO/MINISTERIO DE AMBIENTE Y ESPACIO PUBLICO/DIRECCION GENERAL DE ARBOLADO",
          "MINISTERIO DE AMBIENTE Y ESPACIO PUBLICO/AGENCIA AMBIENTAL/DIRECCION GENERAL DE CONTROL",
          "JEFATURA DE GOBIERNO/AGENCIA DE PROTECCION AMBIENTAL/DIRECCION GENERAL DE CONTROL",
          "MINISTERIO DE AMBIENTE Y ESPACIO PUBLICO/MINISTERIO DE AMBIENTE Y ESPACIO PUBLICO/DIRECCION GENERAL DE ESPACIOS VERDES",
          "MINISTERIO DE AMBIENTE Y ESPACIO PUBLICO/AGENCIA AMBIENTAL/DIRECCION GENERAL DE EVALUACION AMBIENTAL",
          "MINISTERIO DE AMBIENTE Y ESPACIO PUBLICO/AGENCIA AMBIENTAL/DIRECCION GENERAL DE EVALUACION TECNICA",
          "MINISTERIO DE AMBIENTE Y ESPACIO PUBLICO/MINISTERIO DE AMBIENTE Y ESPACIO PUBLICO/DIRECCION GENERAL DE LIMPIEZA",
          "MINISTERIO DE AMBIENTE Y ESPACIO PUBLICO/MINISTERIO DE AMBIENTE Y ESPACIO PUBLICO/DIRECCION GENERAL DE RECICLADO",
          "MINISTERIO DE AMBIENTE Y ESPACIO PUBLICO/AGENCIA AMBIENTAL/DIRECCION GENERAL ESTRATEGIAS AMBIENTALES",
          "JEFATURA DE GOBIERNO/AGENCIA DE PROTECCION AMBIENTAL/DIRECCION GENERAL EVALUACION AMBIAENTAL",
          "MINISTERIO DE AMBIENTE Y ESPACIO PUBLICO/MINISTERIO DE AMBIENTE Y ESPACIO PUBLICO/DIRECCION GENERAL INSPECCION DE HIGIENE URBANA",
          "MINISTERIO DE AMBIENTE Y ESPACIO PUBLICO/MINISTERIO DE AMBIENTE Y ESPACIO PUBLICO/DIRECCION GENERAL OBRAS REGENERACION URBANA",
          "MINISTERIO DE AMBIENTE Y ESPACIO PUBLICO/MINISTERIO DE AMBIENTE Y ESPACIO PUBLICO/DIRECCION GENERAL PLANIFICACION Y PRESUPUESTO",
          "MINISTERIO DE AMBIENTE Y ESPACIO PUBLICO/AGENCIA AMBIENTAL/DIRECCION GENERAL POLITICA Y ESTRATEGIA AMBIENTAL",
          "JEFATURA DE GOBIERNO/AGENCIA DE PROTECCION AMBIENTAL/DIRECCION GENERAL POLITICA Y ESTRATEGIA AMBIENTAL",
          "MINISTERIO DE AMBIENTE Y ESPACIO PUBLICO/MINISTERIO DE AMBIENTE Y ESPACIO PUBLICO/DIRECCION GENERAL REGENERACION URBANA",
          "MINISTERIO DE AMBIENTE Y ESPACIO PUBLICO/MINISTERIO DE AMBIENTE Y ESPACIO PUBLICO/DIRECCION GENERAL TECNICO ADMINISTRATIVA Y LEGAL",
          "MINISTERIO DE AMBIENTE Y ESPACIO PUBLICO/MINISTERIO DE AMBIENTE Y ESPACIO PUBLICO/DIRECCION GENERAL TRATAMIENTO Y NUEVAS TECNOLOGIAS",
          "MINISTERIO DE AMBIENTE Y ESPACIO PUBLICO/ENTE DE HIGIENE URBANA/ENTE DE HIGIENE URBANA",
          "MINISTERIO DE AMBIENTE Y ESPACIO PUBLICO/MINISTERIO DE AMBIENTE Y ESPACIO PUBLICO/MINISTERIO AMBIENTE Y ESPACIO PUBLICO",
          "MINISTERIO DE AMBIENTE Y ESPACIO PUBLICO/MINISTERIO DE AMBIENTE Y ESPACIO PUBLICO/SUBSECRETARIA DE ADMINISTRACION",
          "MINISTERIO DE AMBIENTE Y ESPACIO PUBLICO/MINISTERIO DE AMBIENTE Y ESPACIO PUBLICO/SUBSECRETARIA DE ADMINISTRACION GENERAL Y DE USO DEL ESPACIO PUBLICO",
          "MINISTERIO DE AMBIENTE Y ESPACIO PUBLICO/MINISTERIO DE AMBIENTE Y ESPACIO PUBLICO/SUBSECRETARIA DE HIGIENE URBANA",
          "JEFATURA DE GOBIERNO/SECRETARIA DE AMBIENTE/UPE ECOPARQUE",
          "MINISTERIO DE AMBIENTE Y ESPACIO PUBLICO/MINISTERIO DE AMBIENTE Y ESPACIO PUBLICO/UPE ECOPARQUE INTERACTIVO DE LA CABA",
          "MINISTERIO DE AMBIENTE Y ESPACIO PUBLICO/AGENCIA AMBIENTAL",
          "JEFATURA DE GOBIERNO/AGENCIA DE PROTECCION AMBIENTAL",
          "MINISTERIO DE AMBIENTE Y ESPACIO PUBLICO/ENTE DE HIGIENE URBANA",
          "MINISTERIO DE AMBIENTE Y ESPACIO PUBLICO/MINISTERIO DE AMBIENTE Y ESPACIO PUBLICO",
          "JEFATURA DE GOBIERNO/SECRETARIA DE AMBIENTE",
          "JEFATURA DE GOBIERNO",
          "MINISTERIO DE AMBIENTE Y ESPACIO PUBLICO"
         ],
         "insidetextorientation": "auto",
         "labels": [
          "A.CU.MAR - CENTROS VERDES",
          "A.CU.MAR - RIACHUELO",
          "A.CU.MAR - VALORIZACION DE LOS ESPACIOS VERDES",
          "ACCIONES AMBIENTALES CABA",
          "ACCIONES PARA LA RESTAURACION ECOLOGICA",
          "ACCIONES PARA LA RESTAURACION ECOLOGICA",
          "ACT. COMUNES A PROG. 91 A 103",
          "ACTIV. COMUNES A LOS PROG. 91,92 ,93 Y 94",
          "ACTIV. COMUNES A LOS PROG. 91,92 Y93",
          "ACTIVIDADES CENTRALES AMBIENTE Y ESPACIO PUBLICO",
          "ACTIVIDADES COMUMES A LOS PROGRAMAS 91,92,93,94,95,96",
          "ACTIVIDADES COMUNES A LOS PROG 21 Y 22",
          "ACTIVIDADES COMUNES A LOS PROG 21,22,23,75,76 Y 77",
          "ACTIVIDADES COMUNES A LOS PROG. 91 AL 100 Y 102",
          "ACTIVIDADES COMUNES A LOS PROG. 91 AL 103",
          "ACTIVIDADES COMUNES A LOS PROG. 91,92,93, 94,95 Y 96",
          "ACTIVIDADES COMUNES A LOS PROG. 91,92,93, 94,95, 96 Y 100",
          "ACTIVIDADES COMUNES A LOS PROGRAMAS 91,92 Y 93",
          "ACTIVIDADES COMUNES A LOS PROGRAMAS: 11-52-53-56-57-58-59",
          "ACTIVIDADES COMUNES A LOS PROGRAMAS: 11-52-53-56-57-58-59 Y 85",
          "ACTIVIDADES COMUNES A LOS PROGRAMAS: 11-52-53-56-57-58-59-79-85",
          "ACTIVIDADES COMUNES A LOS PROGRAMAS: 11-52-53-56-57-85",
          "ACTIVIDADES COMUNES A LOS PROGRAMAS: 11-52-53-57-58-59",
          "ACTIVIDADES COMUNES A LOS PROGRAMAS: 11-52-53-57-58-59 Y 85",
          "ACTIVIDADES COMUNES A LOS PROGRAMAS: 52.53.56.57 Y 85",
          "AMPLIACION CIFA PARA SU TRANSFORMACION EN CENTRO METROPOLITANO VERDE",
          "ANALISIS DE SUSTANCIAS CONTAMINANTES EN AGUA, AIRE Y SUELO",
          "ARBOLADO URBANO",
          "ASUNTOS LEGALES Y PRESUPUESTO",
          "BUENOS AIRES PRODUCE MAS LIMPIO (P+L)",
          "BUENOS AIRES PRODUCE MAS LIMPIO (P+L)",
          "BUENOS AIRES PRODUCE MAS LIMPIO (P+L)",
          "CENTRO DE INFORMACION Y FORMACION AMBIENTAL",
          "CENTROS DE ATENCION VETERINARIA",
          "CENTROS DE ATENCION VETERINARIA",
          "CENTROS VERDES",
          "COMPENSACION AMBIENTAL",
          "COMPENSACION AMBIENTAL",
          "CONSERVACION DE LA BIODIVERSIDAD",
          "CONSERVACION DE LA BIODIVERSIDAD",
          "CONTENERIZACION",
          "CONTROL AMBIENTAL",
          "CONTROL AMBIENTAL",
          "CONTROL DE GESTION",
          "CONTROL DE GESTION Y RECLAMOS",
          "CONTROL DE HIGIENE EN VIA PUBLICA E INMUEBLES",
          "CONTROL DE HIGIENE EN VIA PUBLICA E INMUEBLES",
          "CONTROL DE HIGIENE EN VIA PUBLICA E INMUEBLES",
          "CONTROL DE PLAGAS",
          "CONTROL DE PLAGAS",
          "CUBIERTA VERDE",
          "CUBIERTA VERDE EN LA CABA",
          "CUIDADO Y PRESERVACION DEL ARBOLADO URBANO",
          "CUIDADO Y PRESERVACION DEL ARBOLADO URBANO",
          "CUIDADO Y PUESTA EN VALOR DE ESPACIOS VERDES",
          "CUIDADO Y PUESTA EN VALOR DE GRANDES PARQUES",
          "CUIDADO Y PUESTA EN VALOR DEL PATRIMONIO CULTURAL Y NATURAL DE LOS ESPACIOS VERDES",
          "DESARROLLO DE LA RED DE AIRE Y RUIDO EN LA CIUDAD DE BUENOS AIRES.",
          "DESARROLLO DE LA RED DE AIRE Y RUIDO EN LA CIUDAD DE BUENOS AIRES.",
          "DISPOSICION FINAL RESIDUOS SOLIDOS URBANOS",
          "ESTACIONES MONITOREO CALIDAD DEL AGUA EN RED DE HIDROMETEREOLOGIA DE CABA",
          "ESTRATEGIAS AMBIENTALES",
          "ESTRATEGIAS AMBIENTALES",
          "EVALUACION TECNICA",
          "EVALUACION TECNICA",
          "EVALUACION TECNICA",
          "GESTION AMBIENTAL",
          "HOGAR TRANSITORIO DE MASCOTAS",
          "INTERVENCIONES SOBRE EL ARBOLADO",
          "INTERVENCIONES VETERINARIAS",
          "INTERVENCIONES VETERINARIAS",
          "JARDIN BOTANICO CARLOS THAYS",
          "LABORATORIO DE ANALISIS Y CALIDAD AMBIENTAL",
          "LABORATORIO DE ANALISIS Y CALIDAD AMBIENTAL",
          "LABORATORIO DE ANALISIS Y CALIDAD AMBIENTAL",
          "OBRAS BA ELIGE EV",
          "OBRAS CORRECTIVAS DE RECOMPOSICION PREDIOS CONTAMINADOS REQUERIDOS POR IVC",
          "OBRAS CORRECTIVAS DE RECOMPOSICION PREDIOS CONTAMINADOS REQUERIDOS POR IVC",
          "OBRAS DE ESPACIOS VERDES",
          "OBRAS DE ESPACIOS VERDES II",
          "OBRAS DE REGENERACION URBANA",
          "OBRAS ECOPARQUE MAYEP",
          "OBRAS ECOPARQUE MAYEP",
          "PARQUES URBANOS",
          "PLANEAMIENTO DE LA GESTION AMBIENTAL SOSTENIBLE",
          "PLANIFICACION Y PRESUPUESTO",
          "POLITICA Y ESTRATEGIA AMBIENTAL",
          "PREVENC.AMB.EVALUAC.TECNICA Y CERTIFICADOS AMBIENTALES",
          "PREVENCION AMBIENTAL EVALUACION TECNICA Y REGISTROS AMBIENTALES",
          "PROGRAMA DE CAMBIO CLIMATICO E INFORMACION AMBIENTAL",
          "PROGRAMA DE CAMBIO CLIMATICO E INFORMACION AMBIENTAL",
          "PROGRAMA DE DESARROLLO SUSTENTABLE",
          "PROGRAMA DE GESTION ENERGETICA",
          "PROGRAMA DE GESTION ENERGETICA",
          "PROGRAMA DE RESIDUOS DE MANEJO ESPECIAL",
          "PROGRAMA DE RESIDUOS SUJETOS A MANEJO ESPECIAL",
          "PROTECCION Y SANIDAD ANIMAL",
          "PROTECCION Y SANIDAD ANIMAL",
          "PROYECTOS ACUMAR",
          "PUESTA EN VALOR DE EDIFICIOS",
          "PUESTA EN VALOR DE LAS OFICINAS DE LA AGENCIA DE PROTECCION AMBIENTAL",
          "PUESTA EN VALOR DEPOSITO RAES",
          "PUESTA EN VALOR EDIFICIOS",
          "RECICLADO DE RESIDUOS URBANOS",
          "RECOLECCION, BARRIDO E HIGIENE DE LA CIUDAD DE BUENOS AIRES",
          "RED DE MONITOREO AMBIENTAL",
          "RED DE MONITOREO DE LA CALIDAD DEL AGUA SUPERFICIAL DE LA CABA.",
          "RED DE MONITOREO DE LA CALIDAD DEL AGUA SUPERFICIAL DE LA CABA.",
          "REDES AMBIENTALES",
          "REDES AMBIENTALES",
          "REDES AMBIENTALES",
          "REMEDIACION AMBIENTAL GCBA",
          "REMEDIACION Y MITIGACION AMBIENTAL",
          "REPARACION Y MEJORAS EN BARRIOS DE BUENOS AIRES",
          "RESTAURACION Y MITIGACION GCBA",
          "SANEAMIENTO Y REMEDIACION DE SUELOS CONTAMINADOS ACHA 2102/04 Y MENDOZA",
          "SANIDAD Y TENENCIA RESPONSABLE DE MASCOTAS",
          "SANIDAD Y TENENCIA RESPONSABLE DE MASCOTAS",
          "SERVICIO DE LIMPIEZA DE ARROYOS",
          "SERVICIOS DE ADMINISTRACION",
          "SITIOS CONTAMINADOS",
          "SITIOS CONTAMINADOS",
          "TECNICA ADMINISTRATIVA Y LEGAL",
          "TRATAMIENTO DE RESIDUOS ORGANICOS",
          "VALORIZACION DE LOS ESPACIOS VERDES",
          "VALORIZACION DE LOS ESPACIOS VERDES DE LA CIUDAD",
          "ACCIONES PARA LA RESTAURACION ECOLOGICA",
          "ACCIONES PARA LA RESTAURACION ECOLOGICA",
          "ACT. COMUNES A PROG. 91 A 103",
          "ACTIV. COMUNES A LOS PROG. 91,92 ,93 Y 94",
          "ACTIV. COMUNES A LOS PROG. 91,92 Y93",
          "ACTIVIDADES CENTRALES AMBIENTE Y ESPACIO PUBLICO",
          "ACTIVIDADES COMUMES A LOS PROGRAMAS 91,92,93,94,95,96",
          "ACTIVIDADES COMUNES A LOS PROG 21 Y 22",
          "ACTIVIDADES COMUNES A LOS PROG 21,22,23,75,76 Y 77",
          "ACTIVIDADES COMUNES A LOS PROG. 91 AL 100 Y 102",
          "ACTIVIDADES COMUNES A LOS PROG. 91 AL 103",
          "ACTIVIDADES COMUNES A LOS PROG. 91,92,93, 94,95 Y 96",
          "ACTIVIDADES COMUNES A LOS PROG. 91,92,93, 94,95, 96 Y 100",
          "ACTIVIDADES COMUNES A LOS PROGRAMAS 91,92 Y 93",
          "ACTIVIDADES COMUNES A LOS PROGRAMAS: 11-52-53-56-57-58-59",
          "ACTIVIDADES COMUNES A LOS PROGRAMAS: 11-52-53-56-57-58-59 Y 85",
          "ACTIVIDADES COMUNES A LOS PROGRAMAS: 11-52-53-56-57-58-59-79-85",
          "ACTIVIDADES COMUNES A LOS PROGRAMAS: 11-52-53-56-57-85",
          "ACTIVIDADES COMUNES A LOS PROGRAMAS: 11-52-53-57-58-59",
          "ACTIVIDADES COMUNES A LOS PROGRAMAS: 11-52-53-57-58-59 Y 85",
          "ACTIVIDADES COMUNES A LOS PROGRAMAS: 52.53.56.57 Y 85",
          "ARBOLADO URBANO",
          "ASUNTOS LEGALES Y PRESUPUESTO",
          "BUENOS AIRES PRODUCE MAS LIMPIO (P+L)",
          "BUENOS AIRES PRODUCE MAS LIMPIO (P+L)",
          "BUENOS AIRES PRODUCE MAS LIMPIO (P+L)",
          "CENTROS DE ATENCION VETERINARIA",
          "CENTROS DE ATENCION VETERINARIA",
          "COMPENSACION AMBIENTAL",
          "COMPENSACION AMBIENTAL",
          "COMPENSACION AMBIENTAL",
          "CONSERVACION DE LA BIODIVERSIDAD",
          "CONSERVACION DE LA BIODIVERSIDAD",
          "CONTROL AMBIENTAL",
          "CONTROL AMBIENTAL",
          "CONTROL DE GESTION",
          "CONTROL DE GESTION Y RECLAMOS",
          "CONTROL DE HIGIENE EN VIA PUBLICA E INMUEBLES",
          "CONTROL DE HIGIENE EN VIA PUBLICA E INMUEBLES",
          "CONTROL DE HIGIENE EN VIA PUBLICA E INMUEBLES",
          "CONTROL DE PLAGAS",
          "CONTROL DE PLAGAS",
          "CUIDADO Y PUESTA EN VALOR DE ESPACIOS VERDES",
          "ESTRATEGIAS AMBIENTALES",
          "ESTRATEGIAS AMBIENTALES",
          "EVALUACION TECNICA",
          "EVALUACION TECNICA",
          "EVALUACION TECNICA",
          "GESTION AMBIENTAL",
          "INTERVENCIONES VETERINARIAS",
          "INTERVENCIONES VETERINARIAS",
          "LABORATORIO DE ANALISIS Y CALIDAD AMBIENTAL",
          "LABORATORIO DE ANALISIS Y CALIDAD AMBIENTAL",
          "LABORATORIO DE ANALISIS Y CALIDAD AMBIENTAL",
          "MANTENIMIENTO ZONA PUERTO MADERO",
          "OBRAS DE REGENERACIONURBANA",
          "PLANEAMIENTO DE LA GESTION AMBIENTAL SOSTENIBLE",
          "PLANIFICACION Y PRESUPUESTO",
          "POLITICA Y ESTRATEGIA AMBIENTAL",
          "PREVENC.AMB.EVALUAC.TECNICA Y CERTIFICADOS AMBIENTALES",
          "PREVENCION AMBIENTAL EVALUACION TECNICA Y REGISTROS AMBIENTALES",
          "PROGRAMA DE CAMBIO CLIMATICO E INFORMACION AMBIENTAL",
          "PROGRAMA DE CAMBIO CLIMATICO E INFORMACION AMBIENTAL",
          "PROGRAMA DE DESARROLLO SUSTENTABLE",
          "PROGRAMA DE GESTION ENERGETICA",
          "PROGRAMA DE GESTION ENERGETICA",
          "PROGRAMA DE RESIDUOS DE MANEJO ESPECIAL",
          "PROGRAMA DE RESIDUOS SUJETOS A MANEJO ESPECIAL",
          "PROTECCION Y SANIDAD ANIMAL",
          "PROTECCION Y SANIDAD ANIMAL",
          "RECICLADO DE RESIDUOS URBANOS",
          "RECOLECCION, BARRIDO E HIGIENE DE LA CIUDAD DE BUENOS AIRES",
          "REDES AMBIENTALES",
          "REDES AMBIENTALES",
          "REDES AMBIENTALES",
          "REGENERACION URBANA",
          "SANIDAD Y TENENCIA RESPONSABLE DE MASCOTAS",
          "SANIDAD Y TENENCIA RESPONSABLE DE MASCOTAS",
          "SERVICIOS DE ADMINISTRACION",
          "SERVICIOS DE HIGIENE URBANA",
          "TECNICA ADMINISTRATIVA Y LEGAL",
          "TRATAMIENTO DE RESIDUOS SOLIDOS URBANOS",
          "AGENCIA AMBIENTAL",
          "AGENCIA AMBIENTAL",
          "DIRECCION GENERAL CONTROL DE GESTION",
          "DIRECCION GENERAL DE ARBOLADO",
          "DIRECCION GENERAL DE CONTROL",
          "DIRECCION GENERAL DE CONTROL",
          "DIRECCION GENERAL DE ESPACIOS VERDES",
          "DIRECCION GENERAL DE EVALUACION AMBIENTAL",
          "DIRECCION GENERAL DE EVALUACION TECNICA",
          "DIRECCION GENERAL DE LIMPIEZA",
          "DIRECCION GENERAL DE RECICLADO",
          "DIRECCION GENERAL ESTRATEGIAS AMBIENTALES",
          "DIRECCION GENERAL EVALUACION AMBIAENTAL",
          "DIRECCION GENERAL INSPECCION DE HIGIENE URBANA",
          "DIRECCION GENERAL OBRAS REGENERACION URBANA",
          "DIRECCION GENERAL PLANIFICACION Y PRESUPUESTO",
          "DIRECCION GENERAL POLITICA Y ESTRATEGIA AMBIENTAL",
          "DIRECCION GENERAL POLITICA Y ESTRATEGIA AMBIENTAL",
          "DIRECCION GENERAL REGENERACION URBANA",
          "DIRECCION GENERAL TECNICO ADMINISTRATIVA Y LEGAL",
          "DIRECCION GENERAL TRATAMIENTO Y NUEVAS TECNOLOGIAS",
          "ENTE DE HIGIENE URBANA",
          "MINISTERIO AMBIENTE Y ESPACIO PUBLICO",
          "SUBSECRETARIA DE ADMINISTRACION",
          "SUBSECRETARIA DE ADMINISTRACION GENERAL Y DE USO DEL ESPACIO PUBLICO",
          "SUBSECRETARIA DE HIGIENE URBANA",
          "UPE ECOPARQUE",
          "UPE ECOPARQUE INTERACTIVO DE LA CABA",
          "AGENCIA AMBIENTAL",
          "AGENCIA DE PROTECCION AMBIENTAL",
          "ENTE DE HIGIENE URBANA",
          "MINISTERIO DE AMBIENTE Y ESPACIO PUBLICO",
          "SECRETARIA DE AMBIENTE",
          "JEFATURA DE GOBIERNO",
          "MINISTERIO DE AMBIENTE Y ESPACIO PUBLICO"
         ],
         "maxdepth": 10,
         "name": "",
         "parents": [
          "MINISTERIO DE AMBIENTE Y ESPACIO PUBLICO/MINISTERIO DE AMBIENTE Y ESPACIO PUBLICO/DIRECCION GENERAL DE RECICLADO/RECICLADO DE RESIDUOS URBANOS",
          "MINISTERIO DE AMBIENTE Y ESPACIO PUBLICO/MINISTERIO DE AMBIENTE Y ESPACIO PUBLICO/DIRECCION GENERAL DE LIMPIEZA/SERVICIOS DE HIGIENE URBANA",
          "MINISTERIO DE AMBIENTE Y ESPACIO PUBLICO/MINISTERIO DE AMBIENTE Y ESPACIO PUBLICO/DIRECCION GENERAL DE ESPACIOS VERDES/CUIDADO Y PUESTA EN VALOR DE ESPACIOS VERDES",
          "MINISTERIO DE AMBIENTE Y ESPACIO PUBLICO/AGENCIA AMBIENTAL/AGENCIA AMBIENTAL/ACTIV. COMUNES A LOS PROG. 91,92 ,93 Y 94",
          "MINISTERIO DE AMBIENTE Y ESPACIO PUBLICO/AGENCIA AMBIENTAL/DIRECCION GENERAL DE CONTROL/ACCIONES PARA LA RESTAURACION ECOLOGICA",
          "JEFATURA DE GOBIERNO/AGENCIA DE PROTECCION AMBIENTAL/DIRECCION GENERAL DE CONTROL/ACCIONES PARA LA RESTAURACION ECOLOGICA",
          "JEFATURA DE GOBIERNO/AGENCIA DE PROTECCION AMBIENTAL/AGENCIA AMBIENTAL/ACT. COMUNES A PROG. 91 A 103",
          "MINISTERIO DE AMBIENTE Y ESPACIO PUBLICO/AGENCIA AMBIENTAL/AGENCIA AMBIENTAL/ACTIV. COMUNES A LOS PROG. 91,92 ,93 Y 94",
          "MINISTERIO DE AMBIENTE Y ESPACIO PUBLICO/AGENCIA AMBIENTAL/AGENCIA AMBIENTAL/ACTIV. COMUNES A LOS PROG. 91,92 Y93",
          "MINISTERIO DE AMBIENTE Y ESPACIO PUBLICO/MINISTERIO DE AMBIENTE Y ESPACIO PUBLICO/MINISTERIO AMBIENTE Y ESPACIO PUBLICO/ACTIVIDADES CENTRALES AMBIENTE Y ESPACIO PUBLICO",
          "MINISTERIO DE AMBIENTE Y ESPACIO PUBLICO/AGENCIA AMBIENTAL/AGENCIA AMBIENTAL/ACTIVIDADES COMUMES A LOS PROGRAMAS 91,92,93,94,95,96",
          "MINISTERIO DE AMBIENTE Y ESPACIO PUBLICO/MINISTERIO DE AMBIENTE Y ESPACIO PUBLICO/SUBSECRETARIA DE ADMINISTRACION/ACTIVIDADES COMUNES A LOS PROG 21 Y 22",
          "MINISTERIO DE AMBIENTE Y ESPACIO PUBLICO/MINISTERIO DE AMBIENTE Y ESPACIO PUBLICO/SUBSECRETARIA DE ADMINISTRACION GENERAL Y DE USO DEL ESPACIO PUBLICO/ACTIVIDADES COMUNES A LOS PROG 21,22,23,75,76 Y 77",
          "MINISTERIO DE AMBIENTE Y ESPACIO PUBLICO/AGENCIA AMBIENTAL/AGENCIA AMBIENTAL/ACTIVIDADES COMUNES A LOS PROG. 91 AL 100 Y 102",
          "MINISTERIO DE AMBIENTE Y ESPACIO PUBLICO/AGENCIA AMBIENTAL/AGENCIA AMBIENTAL/ACTIVIDADES COMUNES A LOS PROG. 91 AL 103",
          "MINISTERIO DE AMBIENTE Y ESPACIO PUBLICO/AGENCIA AMBIENTAL/AGENCIA AMBIENTAL/ACTIVIDADES COMUNES A LOS PROG. 91,92,93, 94,95 Y 96",
          "MINISTERIO DE AMBIENTE Y ESPACIO PUBLICO/AGENCIA AMBIENTAL/AGENCIA AMBIENTAL/ACTIVIDADES COMUNES A LOS PROG. 91,92,93, 94,95, 96 Y 100",
          "MINISTERIO DE AMBIENTE Y ESPACIO PUBLICO/AGENCIA AMBIENTAL/AGENCIA AMBIENTAL/ACTIVIDADES COMUNES A LOS PROGRAMAS 91,92 Y 93",
          "MINISTERIO DE AMBIENTE Y ESPACIO PUBLICO/MINISTERIO DE AMBIENTE Y ESPACIO PUBLICO/SUBSECRETARIA DE HIGIENE URBANA/ACTIVIDADES COMUNES A LOS PROGRAMAS: 11-52-53-56-57-58-59",
          "MINISTERIO DE AMBIENTE Y ESPACIO PUBLICO/MINISTERIO DE AMBIENTE Y ESPACIO PUBLICO/SUBSECRETARIA DE HIGIENE URBANA/ACTIVIDADES COMUNES A LOS PROGRAMAS: 11-52-53-56-57-58-59 Y 85",
          "MINISTERIO DE AMBIENTE Y ESPACIO PUBLICO/MINISTERIO DE AMBIENTE Y ESPACIO PUBLICO/SUBSECRETARIA DE HIGIENE URBANA/ACTIVIDADES COMUNES A LOS PROGRAMAS: 11-52-53-56-57-58-59-79-85",
          "MINISTERIO DE AMBIENTE Y ESPACIO PUBLICO/MINISTERIO DE AMBIENTE Y ESPACIO PUBLICO/SUBSECRETARIA DE HIGIENE URBANA/ACTIVIDADES COMUNES A LOS PROGRAMAS: 11-52-53-56-57-85",
          "MINISTERIO DE AMBIENTE Y ESPACIO PUBLICO/MINISTERIO DE AMBIENTE Y ESPACIO PUBLICO/SUBSECRETARIA DE HIGIENE URBANA/ACTIVIDADES COMUNES A LOS PROGRAMAS: 11-52-53-57-58-59",
          "MINISTERIO DE AMBIENTE Y ESPACIO PUBLICO/MINISTERIO DE AMBIENTE Y ESPACIO PUBLICO/SUBSECRETARIA DE HIGIENE URBANA/ACTIVIDADES COMUNES A LOS PROGRAMAS: 11-52-53-57-58-59 Y 85",
          "MINISTERIO DE AMBIENTE Y ESPACIO PUBLICO/MINISTERIO DE AMBIENTE Y ESPACIO PUBLICO/SUBSECRETARIA DE HIGIENE URBANA/ACTIVIDADES COMUNES A LOS PROGRAMAS: 52.53.56.57 Y 85",
          "MINISTERIO DE AMBIENTE Y ESPACIO PUBLICO/AGENCIA AMBIENTAL/AGENCIA AMBIENTAL/ACTIVIDADES COMUMES A LOS PROGRAMAS 91,92,93,94,95,96",
          "MINISTERIO DE AMBIENTE Y ESPACIO PUBLICO/AGENCIA AMBIENTAL/AGENCIA AMBIENTAL/ACTIVIDADES COMUNES A LOS PROGRAMAS 91,92 Y 93",
          "MINISTERIO DE AMBIENTE Y ESPACIO PUBLICO/MINISTERIO DE AMBIENTE Y ESPACIO PUBLICO/DIRECCION GENERAL DE ARBOLADO/ARBOLADO URBANO",
          "MINISTERIO DE AMBIENTE Y ESPACIO PUBLICO/MINISTERIO DE AMBIENTE Y ESPACIO PUBLICO/DIRECCION GENERAL TECNICO ADMINISTRATIVA Y LEGAL/ASUNTOS LEGALES Y PRESUPUESTO",
          "MINISTERIO DE AMBIENTE Y ESPACIO PUBLICO/AGENCIA AMBIENTAL/DIRECCION GENERAL DE EVALUACION TECNICA/BUENOS AIRES PRODUCE MAS LIMPIO (P+L)",
          "MINISTERIO DE AMBIENTE Y ESPACIO PUBLICO/AGENCIA AMBIENTAL/DIRECCION GENERAL ESTRATEGIAS AMBIENTALES/BUENOS AIRES PRODUCE MAS LIMPIO (P+L)",
          "MINISTERIO DE AMBIENTE Y ESPACIO PUBLICO/AGENCIA AMBIENTAL/DIRECCION GENERAL POLITICA Y ESTRATEGIA AMBIENTAL/BUENOS AIRES PRODUCE MAS LIMPIO (P+L)",
          "MINISTERIO DE AMBIENTE Y ESPACIO PUBLICO/AGENCIA AMBIENTAL/AGENCIA AMBIENTAL/ACTIV. COMUNES A LOS PROG. 91,92 ,93 Y 94",
          "MINISTERIO DE AMBIENTE Y ESPACIO PUBLICO/AGENCIA AMBIENTAL/AGENCIA AMBIENTAL/CENTROS DE ATENCION VETERINARIA",
          "MINISTERIO DE AMBIENTE Y ESPACIO PUBLICO/AGENCIA AMBIENTAL/DIRECCION GENERAL ESTRATEGIAS AMBIENTALES/CENTROS DE ATENCION VETERINARIA",
          "MINISTERIO DE AMBIENTE Y ESPACIO PUBLICO/MINISTERIO DE AMBIENTE Y ESPACIO PUBLICO/DIRECCION GENERAL DE RECICLADO/RECICLADO DE RESIDUOS URBANOS",
          "MINISTERIO DE AMBIENTE Y ESPACIO PUBLICO/AGENCIA AMBIENTAL/AGENCIA AMBIENTAL/COMPENSACION AMBIENTAL",
          "MINISTERIO DE AMBIENTE Y ESPACIO PUBLICO/AGENCIA AMBIENTAL/DIRECCION GENERAL DE EVALUACION AMBIENTAL/COMPENSACION AMBIENTAL",
          "JEFATURA DE GOBIERNO/SECRETARIA DE AMBIENTE/UPE ECOPARQUE/CONSERVACION DE LA BIODIVERSIDAD",
          "MINISTERIO DE AMBIENTE Y ESPACIO PUBLICO/MINISTERIO DE AMBIENTE Y ESPACIO PUBLICO/UPE ECOPARQUE INTERACTIVO DE LA CABA/CONSERVACION DE LA BIODIVERSIDAD",
          "MINISTERIO DE AMBIENTE Y ESPACIO PUBLICO/MINISTERIO DE AMBIENTE Y ESPACIO PUBLICO/DIRECCION GENERAL DE LIMPIEZA/SERVICIOS DE HIGIENE URBANA",
          "MINISTERIO DE AMBIENTE Y ESPACIO PUBLICO/AGENCIA AMBIENTAL/DIRECCION GENERAL DE CONTROL/CONTROL AMBIENTAL",
          "JEFATURA DE GOBIERNO/AGENCIA DE PROTECCION AMBIENTAL/DIRECCION GENERAL DE CONTROL/CONTROL AMBIENTAL",
          "MINISTERIO DE AMBIENTE Y ESPACIO PUBLICO/MINISTERIO DE AMBIENTE Y ESPACIO PUBLICO/DIRECCION GENERAL CONTROL DE GESTION/CONTROL DE GESTION",
          "MINISTERIO DE AMBIENTE Y ESPACIO PUBLICO/MINISTERIO DE AMBIENTE Y ESPACIO PUBLICO/DIRECCION GENERAL CONTROL DE GESTION/CONTROL DE GESTION Y RECLAMOS",
          "MINISTERIO DE AMBIENTE Y ESPACIO PUBLICO/MINISTERIO DE AMBIENTE Y ESPACIO PUBLICO/DIRECCION GENERAL DE LIMPIEZA/CONTROL DE HIGIENE EN VIA PUBLICA E INMUEBLES",
          "MINISTERIO DE AMBIENTE Y ESPACIO PUBLICO/MINISTERIO DE AMBIENTE Y ESPACIO PUBLICO/DIRECCION GENERAL INSPECCION DE HIGIENE URBANA/CONTROL DE HIGIENE EN VIA PUBLICA E INMUEBLES",
          "MINISTERIO DE AMBIENTE Y ESPACIO PUBLICO/MINISTERIO DE AMBIENTE Y ESPACIO PUBLICO/SUBSECRETARIA DE HIGIENE URBANA/CONTROL DE HIGIENE EN VIA PUBLICA E INMUEBLES",
          "MINISTERIO DE AMBIENTE Y ESPACIO PUBLICO/MINISTERIO DE AMBIENTE Y ESPACIO PUBLICO/DIRECCION GENERAL DE LIMPIEZA/CONTROL DE PLAGAS",
          "MINISTERIO DE AMBIENTE Y ESPACIO PUBLICO/MINISTERIO DE AMBIENTE Y ESPACIO PUBLICO/DIRECCION GENERAL INSPECCION DE HIGIENE URBANA/CONTROL DE PLAGAS",
          "MINISTERIO DE AMBIENTE Y ESPACIO PUBLICO/AGENCIA AMBIENTAL/DIRECCION GENERAL ESTRATEGIAS AMBIENTALES/ESTRATEGIAS AMBIENTALES",
          "MINISTERIO DE AMBIENTE Y ESPACIO PUBLICO/AGENCIA AMBIENTAL/DIRECCION GENERAL ESTRATEGIAS AMBIENTALES/ESTRATEGIAS AMBIENTALES",
          "MINISTERIO DE AMBIENTE Y ESPACIO PUBLICO/MINISTERIO DE AMBIENTE Y ESPACIO PUBLICO/DIRECCION GENERAL DE ARBOLADO/ARBOLADO URBANO",
          "MINISTERIO DE AMBIENTE Y ESPACIO PUBLICO/MINISTERIO DE AMBIENTE Y ESPACIO PUBLICO/DIRECCION GENERAL DE ESPACIOS VERDES/CUIDADO Y PUESTA EN VALOR DE ESPACIOS VERDES",
          "MINISTERIO DE AMBIENTE Y ESPACIO PUBLICO/MINISTERIO DE AMBIENTE Y ESPACIO PUBLICO/DIRECCION GENERAL DE ESPACIOS VERDES/CUIDADO Y PUESTA EN VALOR DE ESPACIOS VERDES",
          "MINISTERIO DE AMBIENTE Y ESPACIO PUBLICO/MINISTERIO DE AMBIENTE Y ESPACIO PUBLICO/DIRECCION GENERAL DE ESPACIOS VERDES/CUIDADO Y PUESTA EN VALOR DE ESPACIOS VERDES",
          "MINISTERIO DE AMBIENTE Y ESPACIO PUBLICO/MINISTERIO DE AMBIENTE Y ESPACIO PUBLICO/DIRECCION GENERAL DE ESPACIOS VERDES/CUIDADO Y PUESTA EN VALOR DE ESPACIOS VERDES",
          "MINISTERIO DE AMBIENTE Y ESPACIO PUBLICO/AGENCIA AMBIENTAL/DIRECCION GENERAL ESTRATEGIAS AMBIENTALES/ESTRATEGIAS AMBIENTALES",
          "MINISTERIO DE AMBIENTE Y ESPACIO PUBLICO/AGENCIA AMBIENTAL/DIRECCION GENERAL ESTRATEGIAS AMBIENTALES/PLANEAMIENTO DE LA GESTION AMBIENTAL SOSTENIBLE",
          "MINISTERIO DE AMBIENTE Y ESPACIO PUBLICO/MINISTERIO DE AMBIENTE Y ESPACIO PUBLICO/DIRECCION GENERAL DE LIMPIEZA/SERVICIOS DE HIGIENE URBANA",
          "MINISTERIO DE AMBIENTE Y ESPACIO PUBLICO/AGENCIA AMBIENTAL/AGENCIA AMBIENTAL/REDES AMBIENTALES",
          "MINISTERIO DE AMBIENTE Y ESPACIO PUBLICO/AGENCIA AMBIENTAL/DIRECCION GENERAL ESTRATEGIAS AMBIENTALES/ESTRATEGIAS AMBIENTALES",
          "MINISTERIO DE AMBIENTE Y ESPACIO PUBLICO/AGENCIA AMBIENTAL/DIRECCION GENERAL POLITICA Y ESTRATEGIA AMBIENTAL/ESTRATEGIAS AMBIENTALES",
          "MINISTERIO DE AMBIENTE Y ESPACIO PUBLICO/AGENCIA AMBIENTAL/DIRECCION GENERAL DE EVALUACION AMBIENTAL/EVALUACION TECNICA",
          "MINISTERIO DE AMBIENTE Y ESPACIO PUBLICO/AGENCIA AMBIENTAL/DIRECCION GENERAL DE EVALUACION TECNICA/EVALUACION TECNICA",
          "JEFATURA DE GOBIERNO/AGENCIA DE PROTECCION AMBIENTAL/DIRECCION GENERAL EVALUACION AMBIAENTAL/EVALUACION TECNICA",
          "MINISTERIO DE AMBIENTE Y ESPACIO PUBLICO/AGENCIA AMBIENTAL/AGENCIA AMBIENTAL/GESTION AMBIENTAL",
          "MINISTERIO DE AMBIENTE Y ESPACIO PUBLICO/AGENCIA AMBIENTAL/DIRECCION GENERAL ESTRATEGIAS AMBIENTALES/ESTRATEGIAS AMBIENTALES",
          "MINISTERIO DE AMBIENTE Y ESPACIO PUBLICO/MINISTERIO DE AMBIENTE Y ESPACIO PUBLICO/DIRECCION GENERAL DE ARBOLADO/ARBOLADO URBANO",
          "MINISTERIO DE AMBIENTE Y ESPACIO PUBLICO/AGENCIA AMBIENTAL/AGENCIA AMBIENTAL/INTERVENCIONES VETERINARIAS",
          "JEFATURA DE GOBIERNO/AGENCIA DE PROTECCION AMBIENTAL/AGENCIA AMBIENTAL/INTERVENCIONES VETERINARIAS",
          "MINISTERIO DE AMBIENTE Y ESPACIO PUBLICO/MINISTERIO DE AMBIENTE Y ESPACIO PUBLICO/DIRECCION GENERAL DE ESPACIOS VERDES/CUIDADO Y PUESTA EN VALOR DE ESPACIOS VERDES",
          "MINISTERIO DE AMBIENTE Y ESPACIO PUBLICO/AGENCIA AMBIENTAL/DIRECCION GENERAL DE CONTROL/LABORATORIO DE ANALISIS Y CALIDAD AMBIENTAL",
          "JEFATURA DE GOBIERNO/AGENCIA DE PROTECCION AMBIENTAL/DIRECCION GENERAL DE CONTROL/LABORATORIO DE ANALISIS Y CALIDAD AMBIENTAL",
          "MINISTERIO DE AMBIENTE Y ESPACIO PUBLICO/AGENCIA AMBIENTAL/DIRECCION GENERAL DE EVALUACION TECNICA/LABORATORIO DE ANALISIS Y CALIDAD AMBIENTAL",
          "MINISTERIO DE AMBIENTE Y ESPACIO PUBLICO/MINISTERIO DE AMBIENTE Y ESPACIO PUBLICO/DIRECCION GENERAL DE ESPACIOS VERDES/CUIDADO Y PUESTA EN VALOR DE ESPACIOS VERDES",
          "MINISTERIO DE AMBIENTE Y ESPACIO PUBLICO/AGENCIA AMBIENTAL/AGENCIA AMBIENTAL/COMPENSACION AMBIENTAL",
          "MINISTERIO DE AMBIENTE Y ESPACIO PUBLICO/AGENCIA AMBIENTAL/DIRECCION GENERAL DE EVALUACION TECNICA/COMPENSACION AMBIENTAL",
          "MINISTERIO DE AMBIENTE Y ESPACIO PUBLICO/MINISTERIO DE AMBIENTE Y ESPACIO PUBLICO/DIRECCION GENERAL DE ESPACIOS VERDES/CUIDADO Y PUESTA EN VALOR DE ESPACIOS VERDES",
          "MINISTERIO DE AMBIENTE Y ESPACIO PUBLICO/MINISTERIO DE AMBIENTE Y ESPACIO PUBLICO/DIRECCION GENERAL DE ESPACIOS VERDES/CUIDADO Y PUESTA EN VALOR DE ESPACIOS VERDES",
          "MINISTERIO DE AMBIENTE Y ESPACIO PUBLICO/MINISTERIO DE AMBIENTE Y ESPACIO PUBLICO/DIRECCION GENERAL REGENERACION URBANA/REGENERACION URBANA",
          "JEFATURA DE GOBIERNO/SECRETARIA DE AMBIENTE/UPE ECOPARQUE/CONSERVACION DE LA BIODIVERSIDAD",
          "MINISTERIO DE AMBIENTE Y ESPACIO PUBLICO/MINISTERIO DE AMBIENTE Y ESPACIO PUBLICO/UPE ECOPARQUE INTERACTIVO DE LA CABA/CONSERVACION DE LA BIODIVERSIDAD",
          "MINISTERIO DE AMBIENTE Y ESPACIO PUBLICO/MINISTERIO DE AMBIENTE Y ESPACIO PUBLICO/DIRECCION GENERAL OBRAS REGENERACION URBANA/OBRAS DE REGENERACIONURBANA",
          "MINISTERIO DE AMBIENTE Y ESPACIO PUBLICO/AGENCIA AMBIENTAL/DIRECCION GENERAL ESTRATEGIAS AMBIENTALES/PLANEAMIENTO DE LA GESTION AMBIENTAL SOSTENIBLE",
          "MINISTERIO DE AMBIENTE Y ESPACIO PUBLICO/MINISTERIO DE AMBIENTE Y ESPACIO PUBLICO/DIRECCION GENERAL PLANIFICACION Y PRESUPUESTO/PLANIFICACION Y PRESUPUESTO",
          "JEFATURA DE GOBIERNO/AGENCIA DE PROTECCION AMBIENTAL/DIRECCION GENERAL POLITICA Y ESTRATEGIA AMBIENTAL/POLITICA Y ESTRATEGIA AMBIENTAL",
          "MINISTERIO DE AMBIENTE Y ESPACIO PUBLICO/AGENCIA AMBIENTAL/DIRECCION GENERAL DE EVALUACION TECNICA/PREVENC.AMB.EVALUAC.TECNICA Y CERTIFICADOS AMBIENTALES",
          "MINISTERIO DE AMBIENTE Y ESPACIO PUBLICO/AGENCIA AMBIENTAL/DIRECCION GENERAL DE EVALUACION TECNICA/PREVENCION AMBIENTAL EVALUACION TECNICA Y REGISTROS AMBIENTALES",
          "MINISTERIO DE AMBIENTE Y ESPACIO PUBLICO/AGENCIA AMBIENTAL/DIRECCION GENERAL POLITICA Y ESTRATEGIA AMBIENTAL/PROGRAMA DE CAMBIO CLIMATICO E INFORMACION AMBIENTAL",
          "JEFATURA DE GOBIERNO/AGENCIA DE PROTECCION AMBIENTAL/DIRECCION GENERAL POLITICA Y ESTRATEGIA AMBIENTAL/PROGRAMA DE CAMBIO CLIMATICO E INFORMACION AMBIENTAL",
          "JEFATURA DE GOBIERNO/AGENCIA DE PROTECCION AMBIENTAL/DIRECCION GENERAL POLITICA Y ESTRATEGIA AMBIENTAL/PROGRAMA DE DESARROLLO SUSTENTABLE",
          "MINISTERIO DE AMBIENTE Y ESPACIO PUBLICO/AGENCIA AMBIENTAL/DIRECCION GENERAL POLITICA Y ESTRATEGIA AMBIENTAL/PROGRAMA DE GESTION ENERGETICA",
          "JEFATURA DE GOBIERNO/AGENCIA DE PROTECCION AMBIENTAL/DIRECCION GENERAL POLITICA Y ESTRATEGIA AMBIENTAL/PROGRAMA DE GESTION ENERGETICA",
          "MINISTERIO DE AMBIENTE Y ESPACIO PUBLICO/AGENCIA AMBIENTAL/DIRECCION GENERAL POLITICA Y ESTRATEGIA AMBIENTAL/PROGRAMA DE RESIDUOS DE MANEJO ESPECIAL",
          "JEFATURA DE GOBIERNO/AGENCIA DE PROTECCION AMBIENTAL/DIRECCION GENERAL POLITICA Y ESTRATEGIA AMBIENTAL/PROGRAMA DE RESIDUOS SUJETOS A MANEJO ESPECIAL",
          "MINISTERIO DE AMBIENTE Y ESPACIO PUBLICO/AGENCIA AMBIENTAL/AGENCIA AMBIENTAL/PROTECCION Y SANIDAD ANIMAL",
          "MINISTERIO DE AMBIENTE Y ESPACIO PUBLICO/AGENCIA AMBIENTAL/DIRECCION GENERAL ESTRATEGIAS AMBIENTALES/PROTECCION Y SANIDAD ANIMAL",
          "MINISTERIO DE AMBIENTE Y ESPACIO PUBLICO/AGENCIA AMBIENTAL/AGENCIA AMBIENTAL/GESTION AMBIENTAL",
          "MINISTERIO DE AMBIENTE Y ESPACIO PUBLICO/MINISTERIO DE AMBIENTE Y ESPACIO PUBLICO/DIRECCION GENERAL INSPECCION DE HIGIENE URBANA/CONTROL DE HIGIENE EN VIA PUBLICA E INMUEBLES",
          "MINISTERIO DE AMBIENTE Y ESPACIO PUBLICO/AGENCIA AMBIENTAL/AGENCIA AMBIENTAL/ACTIV. COMUNES A LOS PROG. 91,92 ,93 Y 94",
          "MINISTERIO DE AMBIENTE Y ESPACIO PUBLICO/AGENCIA AMBIENTAL/DIRECCION GENERAL ESTRATEGIAS AMBIENTALES/ESTRATEGIAS AMBIENTALES",
          "MINISTERIO DE AMBIENTE Y ESPACIO PUBLICO/MINISTERIO DE AMBIENTE Y ESPACIO PUBLICO/DIRECCION GENERAL DE ESPACIOS VERDES/CUIDADO Y PUESTA EN VALOR DE ESPACIOS VERDES",
          "MINISTERIO DE AMBIENTE Y ESPACIO PUBLICO/MINISTERIO DE AMBIENTE Y ESPACIO PUBLICO/DIRECCION GENERAL DE RECICLADO/RECICLADO DE RESIDUOS URBANOS",
          "MINISTERIO DE AMBIENTE Y ESPACIO PUBLICO/ENTE DE HIGIENE URBANA/ENTE DE HIGIENE URBANA/RECOLECCION, BARRIDO E HIGIENE DE LA CIUDAD DE BUENOS AIRES",
          "MINISTERIO DE AMBIENTE Y ESPACIO PUBLICO/AGENCIA AMBIENTAL/DIRECCION GENERAL ESTRATEGIAS AMBIENTALES/ESTRATEGIAS AMBIENTALES",
          "MINISTERIO DE AMBIENTE Y ESPACIO PUBLICO/AGENCIA AMBIENTAL/DIRECCION GENERAL ESTRATEGIAS AMBIENTALES/ESTRATEGIAS AMBIENTALES",
          "MINISTERIO DE AMBIENTE Y ESPACIO PUBLICO/AGENCIA AMBIENTAL/DIRECCION GENERAL ESTRATEGIAS AMBIENTALES/PLANEAMIENTO DE LA GESTION AMBIENTAL SOSTENIBLE",
          "MINISTERIO DE AMBIENTE Y ESPACIO PUBLICO/AGENCIA AMBIENTAL/AGENCIA AMBIENTAL/REDES AMBIENTALES",
          "MINISTERIO DE AMBIENTE Y ESPACIO PUBLICO/AGENCIA AMBIENTAL/DIRECCION GENERAL DE CONTROL/REDES AMBIENTALES",
          "JEFATURA DE GOBIERNO/AGENCIA DE PROTECCION AMBIENTAL/DIRECCION GENERAL DE CONTROL/REDES AMBIENTALES",
          "MINISTERIO DE AMBIENTE Y ESPACIO PUBLICO/AGENCIA AMBIENTAL/AGENCIA AMBIENTAL/ACTIV. COMUNES A LOS PROG. 91,92 ,93 Y 94",
          "MINISTERIO DE AMBIENTE Y ESPACIO PUBLICO/AGENCIA AMBIENTAL/AGENCIA AMBIENTAL/COMPENSACION AMBIENTAL",
          "MINISTERIO DE AMBIENTE Y ESPACIO PUBLICO/MINISTERIO DE AMBIENTE Y ESPACIO PUBLICO/MINISTERIO AMBIENTE Y ESPACIO PUBLICO/MANTENIMIENTO ZONA PUERTO MADERO",
          "MINISTERIO DE AMBIENTE Y ESPACIO PUBLICO/AGENCIA AMBIENTAL/AGENCIA AMBIENTAL/ACTIV. COMUNES A LOS PROG. 91,92 ,93 Y 94",
          "MINISTERIO DE AMBIENTE Y ESPACIO PUBLICO/AGENCIA AMBIENTAL/AGENCIA AMBIENTAL/ACTIV. COMUNES A LOS PROG. 91,92 ,93 Y 94",
          "MINISTERIO DE AMBIENTE Y ESPACIO PUBLICO/AGENCIA AMBIENTAL/AGENCIA AMBIENTAL/SANIDAD Y TENENCIA RESPONSABLE DE MASCOTAS",
          "JEFATURA DE GOBIERNO/AGENCIA DE PROTECCION AMBIENTAL/AGENCIA AMBIENTAL/SANIDAD Y TENENCIA RESPONSABLE DE MASCOTAS",
          "MINISTERIO DE AMBIENTE Y ESPACIO PUBLICO/MINISTERIO DE AMBIENTE Y ESPACIO PUBLICO/DIRECCION GENERAL DE LIMPIEZA/SERVICIOS DE HIGIENE URBANA",
          "MINISTERIO DE AMBIENTE Y ESPACIO PUBLICO/MINISTERIO DE AMBIENTE Y ESPACIO PUBLICO/MINISTERIO AMBIENTE Y ESPACIO PUBLICO/SERVICIOS DE ADMINISTRACION",
          "MINISTERIO DE AMBIENTE Y ESPACIO PUBLICO/AGENCIA AMBIENTAL/DIRECCION GENERAL DE EVALUACION TECNICA/COMPENSACION AMBIENTAL",
          "JEFATURA DE GOBIERNO/AGENCIA DE PROTECCION AMBIENTAL/DIRECCION GENERAL POLITICA Y ESTRATEGIA AMBIENTAL/POLITICA Y ESTRATEGIA AMBIENTAL",
          "MINISTERIO DE AMBIENTE Y ESPACIO PUBLICO/MINISTERIO DE AMBIENTE Y ESPACIO PUBLICO/DIRECCION GENERAL TECNICO ADMINISTRATIVA Y LEGAL/TECNICA ADMINISTRATIVA Y LEGAL",
          "MINISTERIO DE AMBIENTE Y ESPACIO PUBLICO/MINISTERIO DE AMBIENTE Y ESPACIO PUBLICO/DIRECCION GENERAL TRATAMIENTO Y NUEVAS TECNOLOGIAS/TRATAMIENTO DE RESIDUOS SOLIDOS URBANOS",
          "MINISTERIO DE AMBIENTE Y ESPACIO PUBLICO/MINISTERIO DE AMBIENTE Y ESPACIO PUBLICO/DIRECCION GENERAL DE ESPACIOS VERDES/CUIDADO Y PUESTA EN VALOR DE ESPACIOS VERDES",
          "MINISTERIO DE AMBIENTE Y ESPACIO PUBLICO/MINISTERIO DE AMBIENTE Y ESPACIO PUBLICO/DIRECCION GENERAL DE ESPACIOS VERDES/CUIDADO Y PUESTA EN VALOR DE ESPACIOS VERDES",
          "MINISTERIO DE AMBIENTE Y ESPACIO PUBLICO/AGENCIA AMBIENTAL/DIRECCION GENERAL DE CONTROL",
          "JEFATURA DE GOBIERNO/AGENCIA DE PROTECCION AMBIENTAL/DIRECCION GENERAL DE CONTROL",
          "JEFATURA DE GOBIERNO/AGENCIA DE PROTECCION AMBIENTAL/AGENCIA AMBIENTAL",
          "MINISTERIO DE AMBIENTE Y ESPACIO PUBLICO/AGENCIA AMBIENTAL/AGENCIA AMBIENTAL",
          "MINISTERIO DE AMBIENTE Y ESPACIO PUBLICO/AGENCIA AMBIENTAL/AGENCIA AMBIENTAL",
          "MINISTERIO DE AMBIENTE Y ESPACIO PUBLICO/MINISTERIO DE AMBIENTE Y ESPACIO PUBLICO/MINISTERIO AMBIENTE Y ESPACIO PUBLICO",
          "MINISTERIO DE AMBIENTE Y ESPACIO PUBLICO/AGENCIA AMBIENTAL/AGENCIA AMBIENTAL",
          "MINISTERIO DE AMBIENTE Y ESPACIO PUBLICO/MINISTERIO DE AMBIENTE Y ESPACIO PUBLICO/SUBSECRETARIA DE ADMINISTRACION",
          "MINISTERIO DE AMBIENTE Y ESPACIO PUBLICO/MINISTERIO DE AMBIENTE Y ESPACIO PUBLICO/SUBSECRETARIA DE ADMINISTRACION GENERAL Y DE USO DEL ESPACIO PUBLICO",
          "MINISTERIO DE AMBIENTE Y ESPACIO PUBLICO/AGENCIA AMBIENTAL/AGENCIA AMBIENTAL",
          "MINISTERIO DE AMBIENTE Y ESPACIO PUBLICO/AGENCIA AMBIENTAL/AGENCIA AMBIENTAL",
          "MINISTERIO DE AMBIENTE Y ESPACIO PUBLICO/AGENCIA AMBIENTAL/AGENCIA AMBIENTAL",
          "MINISTERIO DE AMBIENTE Y ESPACIO PUBLICO/AGENCIA AMBIENTAL/AGENCIA AMBIENTAL",
          "MINISTERIO DE AMBIENTE Y ESPACIO PUBLICO/AGENCIA AMBIENTAL/AGENCIA AMBIENTAL",
          "MINISTERIO DE AMBIENTE Y ESPACIO PUBLICO/MINISTERIO DE AMBIENTE Y ESPACIO PUBLICO/SUBSECRETARIA DE HIGIENE URBANA",
          "MINISTERIO DE AMBIENTE Y ESPACIO PUBLICO/MINISTERIO DE AMBIENTE Y ESPACIO PUBLICO/SUBSECRETARIA DE HIGIENE URBANA",
          "MINISTERIO DE AMBIENTE Y ESPACIO PUBLICO/MINISTERIO DE AMBIENTE Y ESPACIO PUBLICO/SUBSECRETARIA DE HIGIENE URBANA",
          "MINISTERIO DE AMBIENTE Y ESPACIO PUBLICO/MINISTERIO DE AMBIENTE Y ESPACIO PUBLICO/SUBSECRETARIA DE HIGIENE URBANA",
          "MINISTERIO DE AMBIENTE Y ESPACIO PUBLICO/MINISTERIO DE AMBIENTE Y ESPACIO PUBLICO/SUBSECRETARIA DE HIGIENE URBANA",
          "MINISTERIO DE AMBIENTE Y ESPACIO PUBLICO/MINISTERIO DE AMBIENTE Y ESPACIO PUBLICO/SUBSECRETARIA DE HIGIENE URBANA",
          "MINISTERIO DE AMBIENTE Y ESPACIO PUBLICO/MINISTERIO DE AMBIENTE Y ESPACIO PUBLICO/SUBSECRETARIA DE HIGIENE URBANA",
          "MINISTERIO DE AMBIENTE Y ESPACIO PUBLICO/MINISTERIO DE AMBIENTE Y ESPACIO PUBLICO/DIRECCION GENERAL DE ARBOLADO",
          "MINISTERIO DE AMBIENTE Y ESPACIO PUBLICO/MINISTERIO DE AMBIENTE Y ESPACIO PUBLICO/DIRECCION GENERAL TECNICO ADMINISTRATIVA Y LEGAL",
          "MINISTERIO DE AMBIENTE Y ESPACIO PUBLICO/AGENCIA AMBIENTAL/DIRECCION GENERAL DE EVALUACION TECNICA",
          "MINISTERIO DE AMBIENTE Y ESPACIO PUBLICO/AGENCIA AMBIENTAL/DIRECCION GENERAL ESTRATEGIAS AMBIENTALES",
          "MINISTERIO DE AMBIENTE Y ESPACIO PUBLICO/AGENCIA AMBIENTAL/DIRECCION GENERAL POLITICA Y ESTRATEGIA AMBIENTAL",
          "MINISTERIO DE AMBIENTE Y ESPACIO PUBLICO/AGENCIA AMBIENTAL/AGENCIA AMBIENTAL",
          "MINISTERIO DE AMBIENTE Y ESPACIO PUBLICO/AGENCIA AMBIENTAL/DIRECCION GENERAL ESTRATEGIAS AMBIENTALES",
          "MINISTERIO DE AMBIENTE Y ESPACIO PUBLICO/AGENCIA AMBIENTAL/AGENCIA AMBIENTAL",
          "MINISTERIO DE AMBIENTE Y ESPACIO PUBLICO/AGENCIA AMBIENTAL/DIRECCION GENERAL DE EVALUACION AMBIENTAL",
          "MINISTERIO DE AMBIENTE Y ESPACIO PUBLICO/AGENCIA AMBIENTAL/DIRECCION GENERAL DE EVALUACION TECNICA",
          "JEFATURA DE GOBIERNO/SECRETARIA DE AMBIENTE/UPE ECOPARQUE",
          "MINISTERIO DE AMBIENTE Y ESPACIO PUBLICO/MINISTERIO DE AMBIENTE Y ESPACIO PUBLICO/UPE ECOPARQUE INTERACTIVO DE LA CABA",
          "MINISTERIO DE AMBIENTE Y ESPACIO PUBLICO/AGENCIA AMBIENTAL/DIRECCION GENERAL DE CONTROL",
          "JEFATURA DE GOBIERNO/AGENCIA DE PROTECCION AMBIENTAL/DIRECCION GENERAL DE CONTROL",
          "MINISTERIO DE AMBIENTE Y ESPACIO PUBLICO/MINISTERIO DE AMBIENTE Y ESPACIO PUBLICO/DIRECCION GENERAL CONTROL DE GESTION",
          "MINISTERIO DE AMBIENTE Y ESPACIO PUBLICO/MINISTERIO DE AMBIENTE Y ESPACIO PUBLICO/DIRECCION GENERAL CONTROL DE GESTION",
          "MINISTERIO DE AMBIENTE Y ESPACIO PUBLICO/MINISTERIO DE AMBIENTE Y ESPACIO PUBLICO/DIRECCION GENERAL DE LIMPIEZA",
          "MINISTERIO DE AMBIENTE Y ESPACIO PUBLICO/MINISTERIO DE AMBIENTE Y ESPACIO PUBLICO/DIRECCION GENERAL INSPECCION DE HIGIENE URBANA",
          "MINISTERIO DE AMBIENTE Y ESPACIO PUBLICO/MINISTERIO DE AMBIENTE Y ESPACIO PUBLICO/SUBSECRETARIA DE HIGIENE URBANA",
          "MINISTERIO DE AMBIENTE Y ESPACIO PUBLICO/MINISTERIO DE AMBIENTE Y ESPACIO PUBLICO/DIRECCION GENERAL DE LIMPIEZA",
          "MINISTERIO DE AMBIENTE Y ESPACIO PUBLICO/MINISTERIO DE AMBIENTE Y ESPACIO PUBLICO/DIRECCION GENERAL INSPECCION DE HIGIENE URBANA",
          "MINISTERIO DE AMBIENTE Y ESPACIO PUBLICO/MINISTERIO DE AMBIENTE Y ESPACIO PUBLICO/DIRECCION GENERAL DE ESPACIOS VERDES",
          "MINISTERIO DE AMBIENTE Y ESPACIO PUBLICO/AGENCIA AMBIENTAL/DIRECCION GENERAL ESTRATEGIAS AMBIENTALES",
          "MINISTERIO DE AMBIENTE Y ESPACIO PUBLICO/AGENCIA AMBIENTAL/DIRECCION GENERAL POLITICA Y ESTRATEGIA AMBIENTAL",
          "MINISTERIO DE AMBIENTE Y ESPACIO PUBLICO/AGENCIA AMBIENTAL/DIRECCION GENERAL DE EVALUACION AMBIENTAL",
          "MINISTERIO DE AMBIENTE Y ESPACIO PUBLICO/AGENCIA AMBIENTAL/DIRECCION GENERAL DE EVALUACION TECNICA",
          "JEFATURA DE GOBIERNO/AGENCIA DE PROTECCION AMBIENTAL/DIRECCION GENERAL EVALUACION AMBIAENTAL",
          "MINISTERIO DE AMBIENTE Y ESPACIO PUBLICO/AGENCIA AMBIENTAL/AGENCIA AMBIENTAL",
          "MINISTERIO DE AMBIENTE Y ESPACIO PUBLICO/AGENCIA AMBIENTAL/AGENCIA AMBIENTAL",
          "JEFATURA DE GOBIERNO/AGENCIA DE PROTECCION AMBIENTAL/AGENCIA AMBIENTAL",
          "MINISTERIO DE AMBIENTE Y ESPACIO PUBLICO/AGENCIA AMBIENTAL/DIRECCION GENERAL DE CONTROL",
          "JEFATURA DE GOBIERNO/AGENCIA DE PROTECCION AMBIENTAL/DIRECCION GENERAL DE CONTROL",
          "MINISTERIO DE AMBIENTE Y ESPACIO PUBLICO/AGENCIA AMBIENTAL/DIRECCION GENERAL DE EVALUACION TECNICA",
          "MINISTERIO DE AMBIENTE Y ESPACIO PUBLICO/MINISTERIO DE AMBIENTE Y ESPACIO PUBLICO/MINISTERIO AMBIENTE Y ESPACIO PUBLICO",
          "MINISTERIO DE AMBIENTE Y ESPACIO PUBLICO/MINISTERIO DE AMBIENTE Y ESPACIO PUBLICO/DIRECCION GENERAL OBRAS REGENERACION URBANA",
          "MINISTERIO DE AMBIENTE Y ESPACIO PUBLICO/AGENCIA AMBIENTAL/DIRECCION GENERAL ESTRATEGIAS AMBIENTALES",
          "MINISTERIO DE AMBIENTE Y ESPACIO PUBLICO/MINISTERIO DE AMBIENTE Y ESPACIO PUBLICO/DIRECCION GENERAL PLANIFICACION Y PRESUPUESTO",
          "JEFATURA DE GOBIERNO/AGENCIA DE PROTECCION AMBIENTAL/DIRECCION GENERAL POLITICA Y ESTRATEGIA AMBIENTAL",
          "MINISTERIO DE AMBIENTE Y ESPACIO PUBLICO/AGENCIA AMBIENTAL/DIRECCION GENERAL DE EVALUACION TECNICA",
          "MINISTERIO DE AMBIENTE Y ESPACIO PUBLICO/AGENCIA AMBIENTAL/DIRECCION GENERAL DE EVALUACION TECNICA",
          "MINISTERIO DE AMBIENTE Y ESPACIO PUBLICO/AGENCIA AMBIENTAL/DIRECCION GENERAL POLITICA Y ESTRATEGIA AMBIENTAL",
          "JEFATURA DE GOBIERNO/AGENCIA DE PROTECCION AMBIENTAL/DIRECCION GENERAL POLITICA Y ESTRATEGIA AMBIENTAL",
          "JEFATURA DE GOBIERNO/AGENCIA DE PROTECCION AMBIENTAL/DIRECCION GENERAL POLITICA Y ESTRATEGIA AMBIENTAL",
          "MINISTERIO DE AMBIENTE Y ESPACIO PUBLICO/AGENCIA AMBIENTAL/DIRECCION GENERAL POLITICA Y ESTRATEGIA AMBIENTAL",
          "JEFATURA DE GOBIERNO/AGENCIA DE PROTECCION AMBIENTAL/DIRECCION GENERAL POLITICA Y ESTRATEGIA AMBIENTAL",
          "MINISTERIO DE AMBIENTE Y ESPACIO PUBLICO/AGENCIA AMBIENTAL/DIRECCION GENERAL POLITICA Y ESTRATEGIA AMBIENTAL",
          "JEFATURA DE GOBIERNO/AGENCIA DE PROTECCION AMBIENTAL/DIRECCION GENERAL POLITICA Y ESTRATEGIA AMBIENTAL",
          "MINISTERIO DE AMBIENTE Y ESPACIO PUBLICO/AGENCIA AMBIENTAL/AGENCIA AMBIENTAL",
          "MINISTERIO DE AMBIENTE Y ESPACIO PUBLICO/AGENCIA AMBIENTAL/DIRECCION GENERAL ESTRATEGIAS AMBIENTALES",
          "MINISTERIO DE AMBIENTE Y ESPACIO PUBLICO/MINISTERIO DE AMBIENTE Y ESPACIO PUBLICO/DIRECCION GENERAL DE RECICLADO",
          "MINISTERIO DE AMBIENTE Y ESPACIO PUBLICO/ENTE DE HIGIENE URBANA/ENTE DE HIGIENE URBANA",
          "MINISTERIO DE AMBIENTE Y ESPACIO PUBLICO/AGENCIA AMBIENTAL/AGENCIA AMBIENTAL",
          "MINISTERIO DE AMBIENTE Y ESPACIO PUBLICO/AGENCIA AMBIENTAL/DIRECCION GENERAL DE CONTROL",
          "JEFATURA DE GOBIERNO/AGENCIA DE PROTECCION AMBIENTAL/DIRECCION GENERAL DE CONTROL",
          "MINISTERIO DE AMBIENTE Y ESPACIO PUBLICO/MINISTERIO DE AMBIENTE Y ESPACIO PUBLICO/DIRECCION GENERAL REGENERACION URBANA",
          "MINISTERIO DE AMBIENTE Y ESPACIO PUBLICO/AGENCIA AMBIENTAL/AGENCIA AMBIENTAL",
          "JEFATURA DE GOBIERNO/AGENCIA DE PROTECCION AMBIENTAL/AGENCIA AMBIENTAL",
          "MINISTERIO DE AMBIENTE Y ESPACIO PUBLICO/MINISTERIO DE AMBIENTE Y ESPACIO PUBLICO/MINISTERIO AMBIENTE Y ESPACIO PUBLICO",
          "MINISTERIO DE AMBIENTE Y ESPACIO PUBLICO/MINISTERIO DE AMBIENTE Y ESPACIO PUBLICO/DIRECCION GENERAL DE LIMPIEZA",
          "MINISTERIO DE AMBIENTE Y ESPACIO PUBLICO/MINISTERIO DE AMBIENTE Y ESPACIO PUBLICO/DIRECCION GENERAL TECNICO ADMINISTRATIVA Y LEGAL",
          "MINISTERIO DE AMBIENTE Y ESPACIO PUBLICO/MINISTERIO DE AMBIENTE Y ESPACIO PUBLICO/DIRECCION GENERAL TRATAMIENTO Y NUEVAS TECNOLOGIAS",
          "MINISTERIO DE AMBIENTE Y ESPACIO PUBLICO/AGENCIA AMBIENTAL",
          "JEFATURA DE GOBIERNO/AGENCIA DE PROTECCION AMBIENTAL",
          "MINISTERIO DE AMBIENTE Y ESPACIO PUBLICO/MINISTERIO DE AMBIENTE Y ESPACIO PUBLICO",
          "MINISTERIO DE AMBIENTE Y ESPACIO PUBLICO/MINISTERIO DE AMBIENTE Y ESPACIO PUBLICO",
          "MINISTERIO DE AMBIENTE Y ESPACIO PUBLICO/AGENCIA AMBIENTAL",
          "JEFATURA DE GOBIERNO/AGENCIA DE PROTECCION AMBIENTAL",
          "MINISTERIO DE AMBIENTE Y ESPACIO PUBLICO/MINISTERIO DE AMBIENTE Y ESPACIO PUBLICO",
          "MINISTERIO DE AMBIENTE Y ESPACIO PUBLICO/AGENCIA AMBIENTAL",
          "MINISTERIO DE AMBIENTE Y ESPACIO PUBLICO/AGENCIA AMBIENTAL",
          "MINISTERIO DE AMBIENTE Y ESPACIO PUBLICO/MINISTERIO DE AMBIENTE Y ESPACIO PUBLICO",
          "MINISTERIO DE AMBIENTE Y ESPACIO PUBLICO/MINISTERIO DE AMBIENTE Y ESPACIO PUBLICO",
          "MINISTERIO DE AMBIENTE Y ESPACIO PUBLICO/AGENCIA AMBIENTAL",
          "JEFATURA DE GOBIERNO/AGENCIA DE PROTECCION AMBIENTAL",
          "MINISTERIO DE AMBIENTE Y ESPACIO PUBLICO/MINISTERIO DE AMBIENTE Y ESPACIO PUBLICO",
          "MINISTERIO DE AMBIENTE Y ESPACIO PUBLICO/MINISTERIO DE AMBIENTE Y ESPACIO PUBLICO",
          "MINISTERIO DE AMBIENTE Y ESPACIO PUBLICO/MINISTERIO DE AMBIENTE Y ESPACIO PUBLICO",
          "MINISTERIO DE AMBIENTE Y ESPACIO PUBLICO/AGENCIA AMBIENTAL",
          "JEFATURA DE GOBIERNO/AGENCIA DE PROTECCION AMBIENTAL",
          "MINISTERIO DE AMBIENTE Y ESPACIO PUBLICO/MINISTERIO DE AMBIENTE Y ESPACIO PUBLICO",
          "MINISTERIO DE AMBIENTE Y ESPACIO PUBLICO/MINISTERIO DE AMBIENTE Y ESPACIO PUBLICO",
          "MINISTERIO DE AMBIENTE Y ESPACIO PUBLICO/MINISTERIO DE AMBIENTE Y ESPACIO PUBLICO",
          "MINISTERIO DE AMBIENTE Y ESPACIO PUBLICO/ENTE DE HIGIENE URBANA",
          "MINISTERIO DE AMBIENTE Y ESPACIO PUBLICO/MINISTERIO DE AMBIENTE Y ESPACIO PUBLICO",
          "MINISTERIO DE AMBIENTE Y ESPACIO PUBLICO/MINISTERIO DE AMBIENTE Y ESPACIO PUBLICO",
          "MINISTERIO DE AMBIENTE Y ESPACIO PUBLICO/MINISTERIO DE AMBIENTE Y ESPACIO PUBLICO",
          "MINISTERIO DE AMBIENTE Y ESPACIO PUBLICO/MINISTERIO DE AMBIENTE Y ESPACIO PUBLICO",
          "JEFATURA DE GOBIERNO/SECRETARIA DE AMBIENTE",
          "MINISTERIO DE AMBIENTE Y ESPACIO PUBLICO/MINISTERIO DE AMBIENTE Y ESPACIO PUBLICO",
          "MINISTERIO DE AMBIENTE Y ESPACIO PUBLICO",
          "JEFATURA DE GOBIERNO",
          "MINISTERIO DE AMBIENTE Y ESPACIO PUBLICO",
          "MINISTERIO DE AMBIENTE Y ESPACIO PUBLICO",
          "JEFATURA DE GOBIERNO",
          "",
          ""
         ],
         "textinfo": "percent entry",
         "type": "sunburst",
         "values": [
          4050000,
          155469540,
          12607967,
          780000,
          14306339,
          13780657,
          193760788,
          48824258,
          32563320,
          1985095408,
          53769640,
          31815766,
          2500000,
          114924782,
          141102216,
          196058650,
          97683911,
          14223403,
          7784721,
          31645849,
          2703920,
          5518389,
          36647045,
          21695218,
          4243715,
          5000000,
          700000,
          74869104,
          45065786,
          815100,
          2943880,
          10706585,
          800000,
          10000000,
          5950000,
          69419600,
          2867774,
          1993859,
          285324504,
          235009468,
          2527400,
          418670997,
          110561073,
          19242300,
          165743542,
          24924701,
          83641483,
          3276000,
          322995646,
          27455532,
          60000,
          400000,
          7303552,
          16600001,
          1333023236,
          49100000,
          3500000,
          1800000,
          1200000,
          203036000,
          10060000,
          96277865,
          65276312,
          99837165,
          87077581,
          73715719,
          22317359,
          500000,
          140214401,
          36096324,
          16703802,
          4000000,
          53348816,
          22505498,
          2957515,
          7252834,
          14900000,
          13500000,
          169731781,
          102530490,
          1000006,
          450000000,
          106286583,
          1719000,
          6153946,
          5940950,
          36909442,
          14990880,
          19755999,
          8025542,
          4500463,
          9164165,
          6890776,
          7243911,
          19929965,
          17068886,
          14731026,
          15841445,
          9220000,
          1800000,
          800000,
          10000000,
          200000,
          36495055,
          4499450,
          10000000,
          687440,
          400000,
          14766225,
          3549635,
          2884500,
          1680000,
          4000000,
          15000000,
          780000,
          600000,
          102519367,
          53641829,
          186964798,
          35960184,
          10000000,
          30000000,
          66531500,
          50000000,
          3580602639,
          248558473,
          14306339,
          13780657,
          193760788,
          54264258,
          32563320,
          1985095408,
          58769640,
          31815766,
          2500000,
          114924782,
          141102216,
          196058650,
          97683911,
          14923403,
          7784721,
          31645849,
          2703920,
          5518389,
          36647045,
          21695218,
          4243715,
          222387057,
          45065786,
          815100,
          2943880,
          10706585,
          10000000,
          5950000,
          21767774,
          1993859,
          23500000,
          735324504,
          341296051,
          418670997,
          110561073,
          19242300,
          165743542,
          24924701,
          85441483,
          3276000,
          322995646,
          27455532,
          5527707421,
          119725305,
          65276312,
          99837165,
          87077581,
          73715719,
          31537359,
          36096324,
          16703802,
          53348816,
          22505498,
          2957515,
          15000000,
          1719000,
          7753946,
          5940950,
          66909442,
          14990880,
          19755999,
          8025542,
          4500463,
          9164165,
          6890776,
          7243911,
          19929965,
          17068886,
          14731026,
          15841445,
          109964655,
          4499450,
          24826225,
          3549635,
          2884500,
          1000006,
          102519367,
          53641829,
          35960184,
          547997738,
          66531500,
          50000000,
          951768255,
          264106419,
          184985842,
          222387057,
          489875787,
          149731728,
          5527707421,
          101831024,
          149097075,
          895918085,
          109964655,
          152214576,
          73715719,
          112897015,
          1719000,
          5940950,
          110829180,
          104886867,
          1000006,
          111597286,
          50000000,
          4499450,
          2036055592,
          31815766,
          2500000,
          113514857,
          735324504,
          341296051,
          1955615897,
          592440733,
          4499450,
          9749299583,
          735324504,
          1327765237,
          11709414930
         ]
        }
       ],
       "layout": {
        "legend": {
         "tracegroupgap": 0
        },
        "margin": {
         "t": 60
        },
        "template": {
         "data": {
          "bar": [
           {
            "error_x": {
             "color": "#2a3f5f"
            },
            "error_y": {
             "color": "#2a3f5f"
            },
            "marker": {
             "line": {
              "color": "#E5ECF6",
              "width": 0.5
             }
            },
            "type": "bar"
           }
          ],
          "barpolar": [
           {
            "marker": {
             "line": {
              "color": "#E5ECF6",
              "width": 0.5
             }
            },
            "type": "barpolar"
           }
          ],
          "carpet": [
           {
            "aaxis": {
             "endlinecolor": "#2a3f5f",
             "gridcolor": "white",
             "linecolor": "white",
             "minorgridcolor": "white",
             "startlinecolor": "#2a3f5f"
            },
            "baxis": {
             "endlinecolor": "#2a3f5f",
             "gridcolor": "white",
             "linecolor": "white",
             "minorgridcolor": "white",
             "startlinecolor": "#2a3f5f"
            },
            "type": "carpet"
           }
          ],
          "choropleth": [
           {
            "colorbar": {
             "outlinewidth": 0,
             "ticks": ""
            },
            "type": "choropleth"
           }
          ],
          "contour": [
           {
            "colorbar": {
             "outlinewidth": 0,
             "ticks": ""
            },
            "colorscale": [
             [
              0,
              "#0d0887"
             ],
             [
              0.1111111111111111,
              "#46039f"
             ],
             [
              0.2222222222222222,
              "#7201a8"
             ],
             [
              0.3333333333333333,
              "#9c179e"
             ],
             [
              0.4444444444444444,
              "#bd3786"
             ],
             [
              0.5555555555555556,
              "#d8576b"
             ],
             [
              0.6666666666666666,
              "#ed7953"
             ],
             [
              0.7777777777777778,
              "#fb9f3a"
             ],
             [
              0.8888888888888888,
              "#fdca26"
             ],
             [
              1,
              "#f0f921"
             ]
            ],
            "type": "contour"
           }
          ],
          "contourcarpet": [
           {
            "colorbar": {
             "outlinewidth": 0,
             "ticks": ""
            },
            "type": "contourcarpet"
           }
          ],
          "heatmap": [
           {
            "colorbar": {
             "outlinewidth": 0,
             "ticks": ""
            },
            "colorscale": [
             [
              0,
              "#0d0887"
             ],
             [
              0.1111111111111111,
              "#46039f"
             ],
             [
              0.2222222222222222,
              "#7201a8"
             ],
             [
              0.3333333333333333,
              "#9c179e"
             ],
             [
              0.4444444444444444,
              "#bd3786"
             ],
             [
              0.5555555555555556,
              "#d8576b"
             ],
             [
              0.6666666666666666,
              "#ed7953"
             ],
             [
              0.7777777777777778,
              "#fb9f3a"
             ],
             [
              0.8888888888888888,
              "#fdca26"
             ],
             [
              1,
              "#f0f921"
             ]
            ],
            "type": "heatmap"
           }
          ],
          "heatmapgl": [
           {
            "colorbar": {
             "outlinewidth": 0,
             "ticks": ""
            },
            "colorscale": [
             [
              0,
              "#0d0887"
             ],
             [
              0.1111111111111111,
              "#46039f"
             ],
             [
              0.2222222222222222,
              "#7201a8"
             ],
             [
              0.3333333333333333,
              "#9c179e"
             ],
             [
              0.4444444444444444,
              "#bd3786"
             ],
             [
              0.5555555555555556,
              "#d8576b"
             ],
             [
              0.6666666666666666,
              "#ed7953"
             ],
             [
              0.7777777777777778,
              "#fb9f3a"
             ],
             [
              0.8888888888888888,
              "#fdca26"
             ],
             [
              1,
              "#f0f921"
             ]
            ],
            "type": "heatmapgl"
           }
          ],
          "histogram": [
           {
            "marker": {
             "colorbar": {
              "outlinewidth": 0,
              "ticks": ""
             }
            },
            "type": "histogram"
           }
          ],
          "histogram2d": [
           {
            "colorbar": {
             "outlinewidth": 0,
             "ticks": ""
            },
            "colorscale": [
             [
              0,
              "#0d0887"
             ],
             [
              0.1111111111111111,
              "#46039f"
             ],
             [
              0.2222222222222222,
              "#7201a8"
             ],
             [
              0.3333333333333333,
              "#9c179e"
             ],
             [
              0.4444444444444444,
              "#bd3786"
             ],
             [
              0.5555555555555556,
              "#d8576b"
             ],
             [
              0.6666666666666666,
              "#ed7953"
             ],
             [
              0.7777777777777778,
              "#fb9f3a"
             ],
             [
              0.8888888888888888,
              "#fdca26"
             ],
             [
              1,
              "#f0f921"
             ]
            ],
            "type": "histogram2d"
           }
          ],
          "histogram2dcontour": [
           {
            "colorbar": {
             "outlinewidth": 0,
             "ticks": ""
            },
            "colorscale": [
             [
              0,
              "#0d0887"
             ],
             [
              0.1111111111111111,
              "#46039f"
             ],
             [
              0.2222222222222222,
              "#7201a8"
             ],
             [
              0.3333333333333333,
              "#9c179e"
             ],
             [
              0.4444444444444444,
              "#bd3786"
             ],
             [
              0.5555555555555556,
              "#d8576b"
             ],
             [
              0.6666666666666666,
              "#ed7953"
             ],
             [
              0.7777777777777778,
              "#fb9f3a"
             ],
             [
              0.8888888888888888,
              "#fdca26"
             ],
             [
              1,
              "#f0f921"
             ]
            ],
            "type": "histogram2dcontour"
           }
          ],
          "mesh3d": [
           {
            "colorbar": {
             "outlinewidth": 0,
             "ticks": ""
            },
            "type": "mesh3d"
           }
          ],
          "parcoords": [
           {
            "line": {
             "colorbar": {
              "outlinewidth": 0,
              "ticks": ""
             }
            },
            "type": "parcoords"
           }
          ],
          "pie": [
           {
            "automargin": true,
            "type": "pie"
           }
          ],
          "scatter": [
           {
            "marker": {
             "colorbar": {
              "outlinewidth": 0,
              "ticks": ""
             }
            },
            "type": "scatter"
           }
          ],
          "scatter3d": [
           {
            "line": {
             "colorbar": {
              "outlinewidth": 0,
              "ticks": ""
             }
            },
            "marker": {
             "colorbar": {
              "outlinewidth": 0,
              "ticks": ""
             }
            },
            "type": "scatter3d"
           }
          ],
          "scattercarpet": [
           {
            "marker": {
             "colorbar": {
              "outlinewidth": 0,
              "ticks": ""
             }
            },
            "type": "scattercarpet"
           }
          ],
          "scattergeo": [
           {
            "marker": {
             "colorbar": {
              "outlinewidth": 0,
              "ticks": ""
             }
            },
            "type": "scattergeo"
           }
          ],
          "scattergl": [
           {
            "marker": {
             "colorbar": {
              "outlinewidth": 0,
              "ticks": ""
             }
            },
            "type": "scattergl"
           }
          ],
          "scattermapbox": [
           {
            "marker": {
             "colorbar": {
              "outlinewidth": 0,
              "ticks": ""
             }
            },
            "type": "scattermapbox"
           }
          ],
          "scatterpolar": [
           {
            "marker": {
             "colorbar": {
              "outlinewidth": 0,
              "ticks": ""
             }
            },
            "type": "scatterpolar"
           }
          ],
          "scatterpolargl": [
           {
            "marker": {
             "colorbar": {
              "outlinewidth": 0,
              "ticks": ""
             }
            },
            "type": "scatterpolargl"
           }
          ],
          "scatterternary": [
           {
            "marker": {
             "colorbar": {
              "outlinewidth": 0,
              "ticks": ""
             }
            },
            "type": "scatterternary"
           }
          ],
          "surface": [
           {
            "colorbar": {
             "outlinewidth": 0,
             "ticks": ""
            },
            "colorscale": [
             [
              0,
              "#0d0887"
             ],
             [
              0.1111111111111111,
              "#46039f"
             ],
             [
              0.2222222222222222,
              "#7201a8"
             ],
             [
              0.3333333333333333,
              "#9c179e"
             ],
             [
              0.4444444444444444,
              "#bd3786"
             ],
             [
              0.5555555555555556,
              "#d8576b"
             ],
             [
              0.6666666666666666,
              "#ed7953"
             ],
             [
              0.7777777777777778,
              "#fb9f3a"
             ],
             [
              0.8888888888888888,
              "#fdca26"
             ],
             [
              1,
              "#f0f921"
             ]
            ],
            "type": "surface"
           }
          ],
          "table": [
           {
            "cells": {
             "fill": {
              "color": "#EBF0F8"
             },
             "line": {
              "color": "white"
             }
            },
            "header": {
             "fill": {
              "color": "#C8D4E3"
             },
             "line": {
              "color": "white"
             }
            },
            "type": "table"
           }
          ]
         },
         "layout": {
          "annotationdefaults": {
           "arrowcolor": "#2a3f5f",
           "arrowhead": 0,
           "arrowwidth": 1
          },
          "coloraxis": {
           "colorbar": {
            "outlinewidth": 0,
            "ticks": ""
           }
          },
          "colorscale": {
           "diverging": [
            [
             0,
             "#8e0152"
            ],
            [
             0.1,
             "#c51b7d"
            ],
            [
             0.2,
             "#de77ae"
            ],
            [
             0.3,
             "#f1b6da"
            ],
            [
             0.4,
             "#fde0ef"
            ],
            [
             0.5,
             "#f7f7f7"
            ],
            [
             0.6,
             "#e6f5d0"
            ],
            [
             0.7,
             "#b8e186"
            ],
            [
             0.8,
             "#7fbc41"
            ],
            [
             0.9,
             "#4d9221"
            ],
            [
             1,
             "#276419"
            ]
           ],
           "sequential": [
            [
             0,
             "#0d0887"
            ],
            [
             0.1111111111111111,
             "#46039f"
            ],
            [
             0.2222222222222222,
             "#7201a8"
            ],
            [
             0.3333333333333333,
             "#9c179e"
            ],
            [
             0.4444444444444444,
             "#bd3786"
            ],
            [
             0.5555555555555556,
             "#d8576b"
            ],
            [
             0.6666666666666666,
             "#ed7953"
            ],
            [
             0.7777777777777778,
             "#fb9f3a"
            ],
            [
             0.8888888888888888,
             "#fdca26"
            ],
            [
             1,
             "#f0f921"
            ]
           ],
           "sequentialminus": [
            [
             0,
             "#0d0887"
            ],
            [
             0.1111111111111111,
             "#46039f"
            ],
            [
             0.2222222222222222,
             "#7201a8"
            ],
            [
             0.3333333333333333,
             "#9c179e"
            ],
            [
             0.4444444444444444,
             "#bd3786"
            ],
            [
             0.5555555555555556,
             "#d8576b"
            ],
            [
             0.6666666666666666,
             "#ed7953"
            ],
            [
             0.7777777777777778,
             "#fb9f3a"
            ],
            [
             0.8888888888888888,
             "#fdca26"
            ],
            [
             1,
             "#f0f921"
            ]
           ]
          },
          "colorway": [
           "#636efa",
           "#EF553B",
           "#00cc96",
           "#ab63fa",
           "#FFA15A",
           "#19d3f3",
           "#FF6692",
           "#B6E880",
           "#FF97FF",
           "#FECB52"
          ],
          "font": {
           "color": "#2a3f5f"
          },
          "geo": {
           "bgcolor": "white",
           "lakecolor": "white",
           "landcolor": "#E5ECF6",
           "showlakes": true,
           "showland": true,
           "subunitcolor": "white"
          },
          "hoverlabel": {
           "align": "left"
          },
          "hovermode": "closest",
          "mapbox": {
           "style": "light"
          },
          "paper_bgcolor": "white",
          "plot_bgcolor": "#E5ECF6",
          "polar": {
           "angularaxis": {
            "gridcolor": "white",
            "linecolor": "white",
            "ticks": ""
           },
           "bgcolor": "#E5ECF6",
           "radialaxis": {
            "gridcolor": "white",
            "linecolor": "white",
            "ticks": ""
           }
          },
          "scene": {
           "xaxis": {
            "backgroundcolor": "#E5ECF6",
            "gridcolor": "white",
            "gridwidth": 2,
            "linecolor": "white",
            "showbackground": true,
            "ticks": "",
            "zerolinecolor": "white"
           },
           "yaxis": {
            "backgroundcolor": "#E5ECF6",
            "gridcolor": "white",
            "gridwidth": 2,
            "linecolor": "white",
            "showbackground": true,
            "ticks": "",
            "zerolinecolor": "white"
           },
           "zaxis": {
            "backgroundcolor": "#E5ECF6",
            "gridcolor": "white",
            "gridwidth": 2,
            "linecolor": "white",
            "showbackground": true,
            "ticks": "",
            "zerolinecolor": "white"
           }
          },
          "shapedefaults": {
           "line": {
            "color": "#2a3f5f"
           }
          },
          "ternary": {
           "aaxis": {
            "gridcolor": "white",
            "linecolor": "white",
            "ticks": ""
           },
           "baxis": {
            "gridcolor": "white",
            "linecolor": "white",
            "ticks": ""
           },
           "bgcolor": "#E5ECF6",
           "caxis": {
            "gridcolor": "white",
            "linecolor": "white",
            "ticks": ""
           }
          },
          "title": {
           "x": 0.05
          },
          "xaxis": {
           "automargin": true,
           "gridcolor": "white",
           "linecolor": "white",
           "ticks": "",
           "title": {
            "standoff": 15
           },
           "zerolinecolor": "white",
           "zerolinewidth": 2
          },
          "yaxis": {
           "automargin": true,
           "gridcolor": "white",
           "linecolor": "white",
           "ticks": "",
           "title": {
            "standoff": 15
           },
           "zerolinecolor": "white",
           "zerolinewidth": 2
          }
         }
        }
       }
      },
      "text/html": [
       "<div>\n",
       "        \n",
       "        \n",
       "            <div id=\"a7182562-5afb-4f64-8969-dc4d79e2e1b5\" class=\"plotly-graph-div\" style=\"height:525px; width:100%;\"></div>\n",
       "            <script type=\"text/javascript\">\n",
       "                require([\"plotly\"], function(Plotly) {\n",
       "                    window.PLOTLYENV=window.PLOTLYENV || {};\n",
       "                    \n",
       "                if (document.getElementById(\"a7182562-5afb-4f64-8969-dc4d79e2e1b5\")) {\n",
       "                    Plotly.newPlot(\n",
       "                        'a7182562-5afb-4f64-8969-dc4d79e2e1b5',\n",
       "                        [{\"branchvalues\": \"total\", \"customdata\": [[\"MINISTERIO DE AMBIENTE Y ESPACIO PUBLICO\", \"MINISTERIO DE AMBIENTE Y ESPACIO PUBLICO\", \"DIRECCION GENERAL DE RECICLADO\", \"RECICLADO DE RESIDUOS URBANOS\", \"A.CU.MAR - CENTROS VERDES\"], [\"MINISTERIO DE AMBIENTE Y ESPACIO PUBLICO\", \"MINISTERIO DE AMBIENTE Y ESPACIO PUBLICO\", \"DIRECCION GENERAL DE LIMPIEZA\", \"SERVICIOS DE HIGIENE URBANA\", \"A.CU.MAR - RIACHUELO\"], [\"MINISTERIO DE AMBIENTE Y ESPACIO PUBLICO\", \"MINISTERIO DE AMBIENTE Y ESPACIO PUBLICO\", \"DIRECCION GENERAL DE ESPACIOS VERDES\", \"CUIDADO Y PUESTA EN VALOR DE ESPACIOS VERDES\", \"A.CU.MAR - VALORIZACION DE LOS ESPACIOS VERDES\"], [\"MINISTERIO DE AMBIENTE Y ESPACIO PUBLICO\", \"AGENCIA AMBIENTAL\", \"AGENCIA AMBIENTAL\", \"ACTIV. COMUNES A LOS PROG. 91,92 ,93 Y 94\", \"ACCIONES AMBIENTALES CABA\"], [\"MINISTERIO DE AMBIENTE Y ESPACIO PUBLICO\", \"AGENCIA AMBIENTAL\", \"DIRECCION GENERAL DE CONTROL\", \"ACCIONES PARA LA RESTAURACION ECOLOGICA\", \"ACCIONES PARA LA RESTAURACION ECOLOGICA\"], [\"JEFATURA DE GOBIERNO\", \"AGENCIA DE PROTECCION AMBIENTAL\", \"DIRECCION GENERAL DE CONTROL\", \"ACCIONES PARA LA RESTAURACION ECOLOGICA\", \"ACCIONES PARA LA RESTAURACION ECOLOGICA\"], [\"JEFATURA DE GOBIERNO\", \"AGENCIA DE PROTECCION AMBIENTAL\", \"AGENCIA AMBIENTAL\", \"ACT. COMUNES A PROG. 91 A 103\", \"ACT. COMUNES A PROG. 91 A 103\"], [\"MINISTERIO DE AMBIENTE Y ESPACIO PUBLICO\", \"AGENCIA AMBIENTAL\", \"AGENCIA AMBIENTAL\", \"ACTIV. COMUNES A LOS PROG. 91,92 ,93 Y 94\", \"ACTIV. COMUNES A LOS PROG. 91,92 ,93 Y 94\"], [\"MINISTERIO DE AMBIENTE Y ESPACIO PUBLICO\", \"AGENCIA AMBIENTAL\", \"AGENCIA AMBIENTAL\", \"ACTIV. COMUNES A LOS PROG. 91,92 Y93\", \"ACTIV. COMUNES A LOS PROG. 91,92 Y93\"], [\"MINISTERIO DE AMBIENTE Y ESPACIO PUBLICO\", \"MINISTERIO DE AMBIENTE Y ESPACIO PUBLICO\", \"MINISTERIO AMBIENTE Y ESPACIO PUBLICO\", \"ACTIVIDADES CENTRALES AMBIENTE Y ESPACIO PUBLICO\", \"ACTIVIDADES CENTRALES AMBIENTE Y ESPACIO PUBLICO\"], [\"MINISTERIO DE AMBIENTE Y ESPACIO PUBLICO\", \"AGENCIA AMBIENTAL\", \"AGENCIA AMBIENTAL\", \"ACTIVIDADES COMUMES A LOS PROGRAMAS 91,92,93,94,95,96\", \"ACTIVIDADES COMUMES A LOS PROGRAMAS 91,92,93,94,95,96\"], [\"MINISTERIO DE AMBIENTE Y ESPACIO PUBLICO\", \"MINISTERIO DE AMBIENTE Y ESPACIO PUBLICO\", \"SUBSECRETARIA DE ADMINISTRACION\", \"ACTIVIDADES COMUNES A LOS PROG 21 Y 22\", \"ACTIVIDADES COMUNES A LOS PROG 21 Y 22\"], [\"MINISTERIO DE AMBIENTE Y ESPACIO PUBLICO\", \"MINISTERIO DE AMBIENTE Y ESPACIO PUBLICO\", \"SUBSECRETARIA DE ADMINISTRACION GENERAL Y DE USO DEL ESPACIO PUBLICO\", \"ACTIVIDADES COMUNES A LOS PROG 21,22,23,75,76 Y 77\", \"ACTIVIDADES COMUNES A LOS PROG 21,22,23,75,76 Y 77\"], [\"MINISTERIO DE AMBIENTE Y ESPACIO PUBLICO\", \"AGENCIA AMBIENTAL\", \"AGENCIA AMBIENTAL\", \"ACTIVIDADES COMUNES A LOS PROG. 91 AL 100 Y 102\", \"ACTIVIDADES COMUNES A LOS PROG. 91 AL 100 Y 102\"], [\"MINISTERIO DE AMBIENTE Y ESPACIO PUBLICO\", \"AGENCIA AMBIENTAL\", \"AGENCIA AMBIENTAL\", \"ACTIVIDADES COMUNES A LOS PROG. 91 AL 103\", \"ACTIVIDADES COMUNES A LOS PROG. 91 AL 103\"], [\"MINISTERIO DE AMBIENTE Y ESPACIO PUBLICO\", \"AGENCIA AMBIENTAL\", \"AGENCIA AMBIENTAL\", \"ACTIVIDADES COMUNES A LOS PROG. 91,92,93, 94,95 Y 96\", \"ACTIVIDADES COMUNES A LOS PROG. 91,92,93, 94,95 Y 96\"], [\"MINISTERIO DE AMBIENTE Y ESPACIO PUBLICO\", \"AGENCIA AMBIENTAL\", \"AGENCIA AMBIENTAL\", \"ACTIVIDADES COMUNES A LOS PROG. 91,92,93, 94,95, 96 Y 100\", \"ACTIVIDADES COMUNES A LOS PROG. 91,92,93, 94,95, 96 Y 100\"], [\"MINISTERIO DE AMBIENTE Y ESPACIO PUBLICO\", \"AGENCIA AMBIENTAL\", \"AGENCIA AMBIENTAL\", \"ACTIVIDADES COMUNES A LOS PROGRAMAS 91,92 Y 93\", \"ACTIVIDADES COMUNES A LOS PROGRAMAS 91,92 Y 93\"], [\"MINISTERIO DE AMBIENTE Y ESPACIO PUBLICO\", \"MINISTERIO DE AMBIENTE Y ESPACIO PUBLICO\", \"SUBSECRETARIA DE HIGIENE URBANA\", \"ACTIVIDADES COMUNES A LOS PROGRAMAS: 11-52-53-56-57-58-59\", \"ACTIVIDADES COMUNES A LOS PROGRAMAS: 11-52-53-56-57-58-59\"], [\"MINISTERIO DE AMBIENTE Y ESPACIO PUBLICO\", \"MINISTERIO DE AMBIENTE Y ESPACIO PUBLICO\", \"SUBSECRETARIA DE HIGIENE URBANA\", \"ACTIVIDADES COMUNES A LOS PROGRAMAS: 11-52-53-56-57-58-59 Y 85\", \"ACTIVIDADES COMUNES A LOS PROGRAMAS: 11-52-53-56-57-58-59 Y 85\"], [\"MINISTERIO DE AMBIENTE Y ESPACIO PUBLICO\", \"MINISTERIO DE AMBIENTE Y ESPACIO PUBLICO\", \"SUBSECRETARIA DE HIGIENE URBANA\", \"ACTIVIDADES COMUNES A LOS PROGRAMAS: 11-52-53-56-57-58-59-79-85\", \"ACTIVIDADES COMUNES A LOS PROGRAMAS: 11-52-53-56-57-58-59-79-85\"], [\"MINISTERIO DE AMBIENTE Y ESPACIO PUBLICO\", \"MINISTERIO DE AMBIENTE Y ESPACIO PUBLICO\", \"SUBSECRETARIA DE HIGIENE URBANA\", \"ACTIVIDADES COMUNES A LOS PROGRAMAS: 11-52-53-56-57-85\", \"ACTIVIDADES COMUNES A LOS PROGRAMAS: 11-52-53-56-57-85\"], [\"MINISTERIO DE AMBIENTE Y ESPACIO PUBLICO\", \"MINISTERIO DE AMBIENTE Y ESPACIO PUBLICO\", \"SUBSECRETARIA DE HIGIENE URBANA\", \"ACTIVIDADES COMUNES A LOS PROGRAMAS: 11-52-53-57-58-59\", \"ACTIVIDADES COMUNES A LOS PROGRAMAS: 11-52-53-57-58-59\"], [\"MINISTERIO DE AMBIENTE Y ESPACIO PUBLICO\", \"MINISTERIO DE AMBIENTE Y ESPACIO PUBLICO\", \"SUBSECRETARIA DE HIGIENE URBANA\", \"ACTIVIDADES COMUNES A LOS PROGRAMAS: 11-52-53-57-58-59 Y 85\", \"ACTIVIDADES COMUNES A LOS PROGRAMAS: 11-52-53-57-58-59 Y 85\"], [\"MINISTERIO DE AMBIENTE Y ESPACIO PUBLICO\", \"MINISTERIO DE AMBIENTE Y ESPACIO PUBLICO\", \"SUBSECRETARIA DE HIGIENE URBANA\", \"ACTIVIDADES COMUNES A LOS PROGRAMAS: 52.53.56.57 Y 85\", \"ACTIVIDADES COMUNES A LOS PROGRAMAS: 52.53.56.57 Y 85\"], [\"MINISTERIO DE AMBIENTE Y ESPACIO PUBLICO\", \"AGENCIA AMBIENTAL\", \"AGENCIA AMBIENTAL\", \"ACTIVIDADES COMUMES A LOS PROGRAMAS 91,92,93,94,95,96\", \"AMPLIACION CIFA PARA SU TRANSFORMACION EN CENTRO METROPOLITANO VERDE\"], [\"MINISTERIO DE AMBIENTE Y ESPACIO PUBLICO\", \"AGENCIA AMBIENTAL\", \"AGENCIA AMBIENTAL\", \"ACTIVIDADES COMUNES A LOS PROGRAMAS 91,92 Y 93\", \"ANALISIS DE SUSTANCIAS CONTAMINANTES EN AGUA, AIRE Y SUELO\"], [\"MINISTERIO DE AMBIENTE Y ESPACIO PUBLICO\", \"MINISTERIO DE AMBIENTE Y ESPACIO PUBLICO\", \"DIRECCION GENERAL DE ARBOLADO\", \"ARBOLADO URBANO\", \"ARBOLADO URBANO\"], [\"MINISTERIO DE AMBIENTE Y ESPACIO PUBLICO\", \"MINISTERIO DE AMBIENTE Y ESPACIO PUBLICO\", \"DIRECCION GENERAL TECNICO ADMINISTRATIVA Y LEGAL\", \"ASUNTOS LEGALES Y PRESUPUESTO\", \"ASUNTOS LEGALES Y PRESUPUESTO\"], [\"MINISTERIO DE AMBIENTE Y ESPACIO PUBLICO\", \"AGENCIA AMBIENTAL\", \"DIRECCION GENERAL DE EVALUACION TECNICA\", \"BUENOS AIRES PRODUCE MAS LIMPIO (P+L)\", \"BUENOS AIRES PRODUCE MAS LIMPIO (P+L)\"], [\"MINISTERIO DE AMBIENTE Y ESPACIO PUBLICO\", \"AGENCIA AMBIENTAL\", \"DIRECCION GENERAL ESTRATEGIAS AMBIENTALES\", \"BUENOS AIRES PRODUCE MAS LIMPIO (P+L)\", \"BUENOS AIRES PRODUCE MAS LIMPIO (P+L)\"], [\"MINISTERIO DE AMBIENTE Y ESPACIO PUBLICO\", \"AGENCIA AMBIENTAL\", \"DIRECCION GENERAL POLITICA Y ESTRATEGIA AMBIENTAL\", \"BUENOS AIRES PRODUCE MAS LIMPIO (P+L)\", \"BUENOS AIRES PRODUCE MAS LIMPIO (P+L)\"], [\"MINISTERIO DE AMBIENTE Y ESPACIO PUBLICO\", \"AGENCIA AMBIENTAL\", \"AGENCIA AMBIENTAL\", \"ACTIV. COMUNES A LOS PROG. 91,92 ,93 Y 94\", \"CENTRO DE INFORMACION Y FORMACION AMBIENTAL\"], [\"MINISTERIO DE AMBIENTE Y ESPACIO PUBLICO\", \"AGENCIA AMBIENTAL\", \"AGENCIA AMBIENTAL\", \"CENTROS DE ATENCION VETERINARIA\", \"CENTROS DE ATENCION VETERINARIA\"], [\"MINISTERIO DE AMBIENTE Y ESPACIO PUBLICO\", \"AGENCIA AMBIENTAL\", \"DIRECCION GENERAL ESTRATEGIAS AMBIENTALES\", \"CENTROS DE ATENCION VETERINARIA\", \"CENTROS DE ATENCION VETERINARIA\"], [\"MINISTERIO DE AMBIENTE Y ESPACIO PUBLICO\", \"MINISTERIO DE AMBIENTE Y ESPACIO PUBLICO\", \"DIRECCION GENERAL DE RECICLADO\", \"RECICLADO DE RESIDUOS URBANOS\", \"CENTROS VERDES\"], [\"MINISTERIO DE AMBIENTE Y ESPACIO PUBLICO\", \"AGENCIA AMBIENTAL\", \"AGENCIA AMBIENTAL\", \"COMPENSACION AMBIENTAL\", \"COMPENSACION AMBIENTAL\"], [\"MINISTERIO DE AMBIENTE Y ESPACIO PUBLICO\", \"AGENCIA AMBIENTAL\", \"DIRECCION GENERAL DE EVALUACION AMBIENTAL\", \"COMPENSACION AMBIENTAL\", \"COMPENSACION AMBIENTAL\"], [\"JEFATURA DE GOBIERNO\", \"SECRETARIA DE AMBIENTE\", \"UPE ECOPARQUE\", \"CONSERVACION DE LA BIODIVERSIDAD\", \"CONSERVACION DE LA BIODIVERSIDAD\"], [\"MINISTERIO DE AMBIENTE Y ESPACIO PUBLICO\", \"MINISTERIO DE AMBIENTE Y ESPACIO PUBLICO\", \"UPE ECOPARQUE INTERACTIVO DE LA CABA\", \"CONSERVACION DE LA BIODIVERSIDAD\", \"CONSERVACION DE LA BIODIVERSIDAD\"], [\"MINISTERIO DE AMBIENTE Y ESPACIO PUBLICO\", \"MINISTERIO DE AMBIENTE Y ESPACIO PUBLICO\", \"DIRECCION GENERAL DE LIMPIEZA\", \"SERVICIOS DE HIGIENE URBANA\", \"CONTENERIZACION\"], [\"MINISTERIO DE AMBIENTE Y ESPACIO PUBLICO\", \"AGENCIA AMBIENTAL\", \"DIRECCION GENERAL DE CONTROL\", \"CONTROL AMBIENTAL\", \"CONTROL AMBIENTAL\"], [\"JEFATURA DE GOBIERNO\", \"AGENCIA DE PROTECCION AMBIENTAL\", \"DIRECCION GENERAL DE CONTROL\", \"CONTROL AMBIENTAL\", \"CONTROL AMBIENTAL\"], [\"MINISTERIO DE AMBIENTE Y ESPACIO PUBLICO\", \"MINISTERIO DE AMBIENTE Y ESPACIO PUBLICO\", \"DIRECCION GENERAL CONTROL DE GESTION\", \"CONTROL DE GESTION\", \"CONTROL DE GESTION\"], [\"MINISTERIO DE AMBIENTE Y ESPACIO PUBLICO\", \"MINISTERIO DE AMBIENTE Y ESPACIO PUBLICO\", \"DIRECCION GENERAL CONTROL DE GESTION\", \"CONTROL DE GESTION Y RECLAMOS\", \"CONTROL DE GESTION Y RECLAMOS\"], [\"MINISTERIO DE AMBIENTE Y ESPACIO PUBLICO\", \"MINISTERIO DE AMBIENTE Y ESPACIO PUBLICO\", \"DIRECCION GENERAL DE LIMPIEZA\", \"CONTROL DE HIGIENE EN VIA PUBLICA E INMUEBLES\", \"CONTROL DE HIGIENE EN VIA PUBLICA E INMUEBLES\"], [\"MINISTERIO DE AMBIENTE Y ESPACIO PUBLICO\", \"MINISTERIO DE AMBIENTE Y ESPACIO PUBLICO\", \"DIRECCION GENERAL INSPECCION DE HIGIENE URBANA\", \"CONTROL DE HIGIENE EN VIA PUBLICA E INMUEBLES\", \"CONTROL DE HIGIENE EN VIA PUBLICA E INMUEBLES\"], [\"MINISTERIO DE AMBIENTE Y ESPACIO PUBLICO\", \"MINISTERIO DE AMBIENTE Y ESPACIO PUBLICO\", \"SUBSECRETARIA DE HIGIENE URBANA\", \"CONTROL DE HIGIENE EN VIA PUBLICA E INMUEBLES\", \"CONTROL DE HIGIENE EN VIA PUBLICA E INMUEBLES\"], [\"MINISTERIO DE AMBIENTE Y ESPACIO PUBLICO\", \"MINISTERIO DE AMBIENTE Y ESPACIO PUBLICO\", \"DIRECCION GENERAL DE LIMPIEZA\", \"CONTROL DE PLAGAS\", \"CONTROL DE PLAGAS\"], [\"MINISTERIO DE AMBIENTE Y ESPACIO PUBLICO\", \"MINISTERIO DE AMBIENTE Y ESPACIO PUBLICO\", \"DIRECCION GENERAL INSPECCION DE HIGIENE URBANA\", \"CONTROL DE PLAGAS\", \"CONTROL DE PLAGAS\"], [\"MINISTERIO DE AMBIENTE Y ESPACIO PUBLICO\", \"AGENCIA AMBIENTAL\", \"DIRECCION GENERAL ESTRATEGIAS AMBIENTALES\", \"ESTRATEGIAS AMBIENTALES\", \"CUBIERTA VERDE\"], [\"MINISTERIO DE AMBIENTE Y ESPACIO PUBLICO\", \"AGENCIA AMBIENTAL\", \"DIRECCION GENERAL ESTRATEGIAS AMBIENTALES\", \"ESTRATEGIAS AMBIENTALES\", \"CUBIERTA VERDE EN LA CABA\"], [\"MINISTERIO DE AMBIENTE Y ESPACIO PUBLICO\", \"MINISTERIO DE AMBIENTE Y ESPACIO PUBLICO\", \"DIRECCION GENERAL DE ARBOLADO\", \"ARBOLADO URBANO\", \"CUIDADO Y PRESERVACION DEL ARBOLADO URBANO\"], [\"MINISTERIO DE AMBIENTE Y ESPACIO PUBLICO\", \"MINISTERIO DE AMBIENTE Y ESPACIO PUBLICO\", \"DIRECCION GENERAL DE ESPACIOS VERDES\", \"CUIDADO Y PUESTA EN VALOR DE ESPACIOS VERDES\", \"CUIDADO Y PRESERVACION DEL ARBOLADO URBANO\"], [\"MINISTERIO DE AMBIENTE Y ESPACIO PUBLICO\", \"MINISTERIO DE AMBIENTE Y ESPACIO PUBLICO\", \"DIRECCION GENERAL DE ESPACIOS VERDES\", \"CUIDADO Y PUESTA EN VALOR DE ESPACIOS VERDES\", \"CUIDADO Y PUESTA EN VALOR DE ESPACIOS VERDES\"], [\"MINISTERIO DE AMBIENTE Y ESPACIO PUBLICO\", \"MINISTERIO DE AMBIENTE Y ESPACIO PUBLICO\", \"DIRECCION GENERAL DE ESPACIOS VERDES\", \"CUIDADO Y PUESTA EN VALOR DE ESPACIOS VERDES\", \"CUIDADO Y PUESTA EN VALOR DE GRANDES PARQUES\"], [\"MINISTERIO DE AMBIENTE Y ESPACIO PUBLICO\", \"MINISTERIO DE AMBIENTE Y ESPACIO PUBLICO\", \"DIRECCION GENERAL DE ESPACIOS VERDES\", \"CUIDADO Y PUESTA EN VALOR DE ESPACIOS VERDES\", \"CUIDADO Y PUESTA EN VALOR DEL PATRIMONIO CULTURAL Y NATURAL DE LOS ESPACIOS VERDES\"], [\"MINISTERIO DE AMBIENTE Y ESPACIO PUBLICO\", \"AGENCIA AMBIENTAL\", \"DIRECCION GENERAL ESTRATEGIAS AMBIENTALES\", \"ESTRATEGIAS AMBIENTALES\", \"DESARROLLO DE LA RED DE AIRE Y RUIDO EN LA CIUDAD DE BUENOS AIRES.\"], [\"MINISTERIO DE AMBIENTE Y ESPACIO PUBLICO\", \"AGENCIA AMBIENTAL\", \"DIRECCION GENERAL ESTRATEGIAS AMBIENTALES\", \"PLANEAMIENTO DE LA GESTION AMBIENTAL SOSTENIBLE\", \"DESARROLLO DE LA RED DE AIRE Y RUIDO EN LA CIUDAD DE BUENOS AIRES.\"], [\"MINISTERIO DE AMBIENTE Y ESPACIO PUBLICO\", \"MINISTERIO DE AMBIENTE Y ESPACIO PUBLICO\", \"DIRECCION GENERAL DE LIMPIEZA\", \"SERVICIOS DE HIGIENE URBANA\", \"DISPOSICION FINAL RESIDUOS SOLIDOS URBANOS\"], [\"MINISTERIO DE AMBIENTE Y ESPACIO PUBLICO\", \"AGENCIA AMBIENTAL\", \"AGENCIA AMBIENTAL\", \"REDES AMBIENTALES\", \"ESTACIONES MONITOREO CALIDAD DEL AGUA EN RED DE HIDROMETEREOLOGIA DE CABA\"], [\"MINISTERIO DE AMBIENTE Y ESPACIO PUBLICO\", \"AGENCIA AMBIENTAL\", \"DIRECCION GENERAL ESTRATEGIAS AMBIENTALES\", \"ESTRATEGIAS AMBIENTALES\", \"ESTRATEGIAS AMBIENTALES\"], [\"MINISTERIO DE AMBIENTE Y ESPACIO PUBLICO\", \"AGENCIA AMBIENTAL\", \"DIRECCION GENERAL POLITICA Y ESTRATEGIA AMBIENTAL\", \"ESTRATEGIAS AMBIENTALES\", \"ESTRATEGIAS AMBIENTALES\"], [\"MINISTERIO DE AMBIENTE Y ESPACIO PUBLICO\", \"AGENCIA AMBIENTAL\", \"DIRECCION GENERAL DE EVALUACION AMBIENTAL\", \"EVALUACION TECNICA\", \"EVALUACION TECNICA\"], [\"MINISTERIO DE AMBIENTE Y ESPACIO PUBLICO\", \"AGENCIA AMBIENTAL\", \"DIRECCION GENERAL DE EVALUACION TECNICA\", \"EVALUACION TECNICA\", \"EVALUACION TECNICA\"], [\"JEFATURA DE GOBIERNO\", \"AGENCIA DE PROTECCION AMBIENTAL\", \"DIRECCION GENERAL EVALUACION AMBIAENTAL\", \"EVALUACION TECNICA\", \"EVALUACION TECNICA\"], [\"MINISTERIO DE AMBIENTE Y ESPACIO PUBLICO\", \"AGENCIA AMBIENTAL\", \"AGENCIA AMBIENTAL\", \"GESTION AMBIENTAL\", \"GESTION AMBIENTAL\"], [\"MINISTERIO DE AMBIENTE Y ESPACIO PUBLICO\", \"AGENCIA AMBIENTAL\", \"DIRECCION GENERAL ESTRATEGIAS AMBIENTALES\", \"ESTRATEGIAS AMBIENTALES\", \"HOGAR TRANSITORIO DE MASCOTAS\"], [\"MINISTERIO DE AMBIENTE Y ESPACIO PUBLICO\", \"MINISTERIO DE AMBIENTE Y ESPACIO PUBLICO\", \"DIRECCION GENERAL DE ARBOLADO\", \"ARBOLADO URBANO\", \"INTERVENCIONES SOBRE EL ARBOLADO\"], [\"MINISTERIO DE AMBIENTE Y ESPACIO PUBLICO\", \"AGENCIA AMBIENTAL\", \"AGENCIA AMBIENTAL\", \"INTERVENCIONES VETERINARIAS\", \"INTERVENCIONES VETERINARIAS\"], [\"JEFATURA DE GOBIERNO\", \"AGENCIA DE PROTECCION AMBIENTAL\", \"AGENCIA AMBIENTAL\", \"INTERVENCIONES VETERINARIAS\", \"INTERVENCIONES VETERINARIAS\"], [\"MINISTERIO DE AMBIENTE Y ESPACIO PUBLICO\", \"MINISTERIO DE AMBIENTE Y ESPACIO PUBLICO\", \"DIRECCION GENERAL DE ESPACIOS VERDES\", \"CUIDADO Y PUESTA EN VALOR DE ESPACIOS VERDES\", \"JARDIN BOTANICO CARLOS THAYS\"], [\"MINISTERIO DE AMBIENTE Y ESPACIO PUBLICO\", \"AGENCIA AMBIENTAL\", \"DIRECCION GENERAL DE CONTROL\", \"LABORATORIO DE ANALISIS Y CALIDAD AMBIENTAL\", \"LABORATORIO DE ANALISIS Y CALIDAD AMBIENTAL\"], [\"JEFATURA DE GOBIERNO\", \"AGENCIA DE PROTECCION AMBIENTAL\", \"DIRECCION GENERAL DE CONTROL\", \"LABORATORIO DE ANALISIS Y CALIDAD AMBIENTAL\", \"LABORATORIO DE ANALISIS Y CALIDAD AMBIENTAL\"], [\"MINISTERIO DE AMBIENTE Y ESPACIO PUBLICO\", \"AGENCIA AMBIENTAL\", \"DIRECCION GENERAL DE EVALUACION TECNICA\", \"LABORATORIO DE ANALISIS Y CALIDAD AMBIENTAL\", \"LABORATORIO DE ANALISIS Y CALIDAD AMBIENTAL\"], [\"MINISTERIO DE AMBIENTE Y ESPACIO PUBLICO\", \"MINISTERIO DE AMBIENTE Y ESPACIO PUBLICO\", \"DIRECCION GENERAL DE ESPACIOS VERDES\", \"CUIDADO Y PUESTA EN VALOR DE ESPACIOS VERDES\", \"OBRAS BA ELIGE EV\"], [\"MINISTERIO DE AMBIENTE Y ESPACIO PUBLICO\", \"AGENCIA AMBIENTAL\", \"AGENCIA AMBIENTAL\", \"COMPENSACION AMBIENTAL\", \"OBRAS CORRECTIVAS DE RECOMPOSICION PREDIOS CONTAMINADOS REQUERIDOS POR IVC\"], [\"MINISTERIO DE AMBIENTE Y ESPACIO PUBLICO\", \"AGENCIA AMBIENTAL\", \"DIRECCION GENERAL DE EVALUACION TECNICA\", \"COMPENSACION AMBIENTAL\", \"OBRAS CORRECTIVAS DE RECOMPOSICION PREDIOS CONTAMINADOS REQUERIDOS POR IVC\"], [\"MINISTERIO DE AMBIENTE Y ESPACIO PUBLICO\", \"MINISTERIO DE AMBIENTE Y ESPACIO PUBLICO\", \"DIRECCION GENERAL DE ESPACIOS VERDES\", \"CUIDADO Y PUESTA EN VALOR DE ESPACIOS VERDES\", \"OBRAS DE ESPACIOS VERDES\"], [\"MINISTERIO DE AMBIENTE Y ESPACIO PUBLICO\", \"MINISTERIO DE AMBIENTE Y ESPACIO PUBLICO\", \"DIRECCION GENERAL DE ESPACIOS VERDES\", \"CUIDADO Y PUESTA EN VALOR DE ESPACIOS VERDES\", \"OBRAS DE ESPACIOS VERDES II\"], [\"MINISTERIO DE AMBIENTE Y ESPACIO PUBLICO\", \"MINISTERIO DE AMBIENTE Y ESPACIO PUBLICO\", \"DIRECCION GENERAL REGENERACION URBANA\", \"REGENERACION URBANA\", \"OBRAS DE REGENERACION URBANA\"], [\"JEFATURA DE GOBIERNO\", \"SECRETARIA DE AMBIENTE\", \"UPE ECOPARQUE\", \"CONSERVACION DE LA BIODIVERSIDAD\", \"OBRAS ECOPARQUE MAYEP\"], [\"MINISTERIO DE AMBIENTE Y ESPACIO PUBLICO\", \"MINISTERIO DE AMBIENTE Y ESPACIO PUBLICO\", \"UPE ECOPARQUE INTERACTIVO DE LA CABA\", \"CONSERVACION DE LA BIODIVERSIDAD\", \"OBRAS ECOPARQUE MAYEP\"], [\"MINISTERIO DE AMBIENTE Y ESPACIO PUBLICO\", \"MINISTERIO DE AMBIENTE Y ESPACIO PUBLICO\", \"DIRECCION GENERAL OBRAS REGENERACION URBANA\", \"OBRAS DE REGENERACIONURBANA\", \"PARQUES URBANOS\"], [\"MINISTERIO DE AMBIENTE Y ESPACIO PUBLICO\", \"AGENCIA AMBIENTAL\", \"DIRECCION GENERAL ESTRATEGIAS AMBIENTALES\", \"PLANEAMIENTO DE LA GESTION AMBIENTAL SOSTENIBLE\", \"PLANEAMIENTO DE LA GESTION AMBIENTAL SOSTENIBLE\"], [\"MINISTERIO DE AMBIENTE Y ESPACIO PUBLICO\", \"MINISTERIO DE AMBIENTE Y ESPACIO PUBLICO\", \"DIRECCION GENERAL PLANIFICACION Y PRESUPUESTO\", \"PLANIFICACION Y PRESUPUESTO\", \"PLANIFICACION Y PRESUPUESTO\"], [\"JEFATURA DE GOBIERNO\", \"AGENCIA DE PROTECCION AMBIENTAL\", \"DIRECCION GENERAL POLITICA Y ESTRATEGIA AMBIENTAL\", \"POLITICA Y ESTRATEGIA AMBIENTAL\", \"POLITICA Y ESTRATEGIA AMBIENTAL\"], [\"MINISTERIO DE AMBIENTE Y ESPACIO PUBLICO\", \"AGENCIA AMBIENTAL\", \"DIRECCION GENERAL DE EVALUACION TECNICA\", \"PREVENC.AMB.EVALUAC.TECNICA Y CERTIFICADOS AMBIENTALES\", \"PREVENC.AMB.EVALUAC.TECNICA Y CERTIFICADOS AMBIENTALES\"], [\"MINISTERIO DE AMBIENTE Y ESPACIO PUBLICO\", \"AGENCIA AMBIENTAL\", \"DIRECCION GENERAL DE EVALUACION TECNICA\", \"PREVENCION AMBIENTAL EVALUACION TECNICA Y REGISTROS AMBIENTALES\", \"PREVENCION AMBIENTAL EVALUACION TECNICA Y REGISTROS AMBIENTALES\"], [\"MINISTERIO DE AMBIENTE Y ESPACIO PUBLICO\", \"AGENCIA AMBIENTAL\", \"DIRECCION GENERAL POLITICA Y ESTRATEGIA AMBIENTAL\", \"PROGRAMA DE CAMBIO CLIMATICO E INFORMACION AMBIENTAL\", \"PROGRAMA DE CAMBIO CLIMATICO E INFORMACION AMBIENTAL\"], [\"JEFATURA DE GOBIERNO\", \"AGENCIA DE PROTECCION AMBIENTAL\", \"DIRECCION GENERAL POLITICA Y ESTRATEGIA AMBIENTAL\", \"PROGRAMA DE CAMBIO CLIMATICO E INFORMACION AMBIENTAL\", \"PROGRAMA DE CAMBIO CLIMATICO E INFORMACION AMBIENTAL\"], [\"JEFATURA DE GOBIERNO\", \"AGENCIA DE PROTECCION AMBIENTAL\", \"DIRECCION GENERAL POLITICA Y ESTRATEGIA AMBIENTAL\", \"PROGRAMA DE DESARROLLO SUSTENTABLE\", \"PROGRAMA DE DESARROLLO SUSTENTABLE\"], [\"MINISTERIO DE AMBIENTE Y ESPACIO PUBLICO\", \"AGENCIA AMBIENTAL\", \"DIRECCION GENERAL POLITICA Y ESTRATEGIA AMBIENTAL\", \"PROGRAMA DE GESTION ENERGETICA\", \"PROGRAMA DE GESTION ENERGETICA\"], [\"JEFATURA DE GOBIERNO\", \"AGENCIA DE PROTECCION AMBIENTAL\", \"DIRECCION GENERAL POLITICA Y ESTRATEGIA AMBIENTAL\", \"PROGRAMA DE GESTION ENERGETICA\", \"PROGRAMA DE GESTION ENERGETICA\"], [\"MINISTERIO DE AMBIENTE Y ESPACIO PUBLICO\", \"AGENCIA AMBIENTAL\", \"DIRECCION GENERAL POLITICA Y ESTRATEGIA AMBIENTAL\", \"PROGRAMA DE RESIDUOS DE MANEJO ESPECIAL\", \"PROGRAMA DE RESIDUOS DE MANEJO ESPECIAL\"], [\"JEFATURA DE GOBIERNO\", \"AGENCIA DE PROTECCION AMBIENTAL\", \"DIRECCION GENERAL POLITICA Y ESTRATEGIA AMBIENTAL\", \"PROGRAMA DE RESIDUOS SUJETOS A MANEJO ESPECIAL\", \"PROGRAMA DE RESIDUOS SUJETOS A MANEJO ESPECIAL\"], [\"MINISTERIO DE AMBIENTE Y ESPACIO PUBLICO\", \"AGENCIA AMBIENTAL\", \"AGENCIA AMBIENTAL\", \"PROTECCION Y SANIDAD ANIMAL\", \"PROTECCION Y SANIDAD ANIMAL\"], [\"MINISTERIO DE AMBIENTE Y ESPACIO PUBLICO\", \"AGENCIA AMBIENTAL\", \"DIRECCION GENERAL ESTRATEGIAS AMBIENTALES\", \"PROTECCION Y SANIDAD ANIMAL\", \"PROTECCION Y SANIDAD ANIMAL\"], [\"MINISTERIO DE AMBIENTE Y ESPACIO PUBLICO\", \"AGENCIA AMBIENTAL\", \"AGENCIA AMBIENTAL\", \"GESTION AMBIENTAL\", \"PROYECTOS ACUMAR\"], [\"MINISTERIO DE AMBIENTE Y ESPACIO PUBLICO\", \"MINISTERIO DE AMBIENTE Y ESPACIO PUBLICO\", \"DIRECCION GENERAL INSPECCION DE HIGIENE URBANA\", \"CONTROL DE HIGIENE EN VIA PUBLICA E INMUEBLES\", \"PUESTA EN VALOR DE EDIFICIOS\"], [\"MINISTERIO DE AMBIENTE Y ESPACIO PUBLICO\", \"AGENCIA AMBIENTAL\", \"AGENCIA AMBIENTAL\", \"ACTIV. COMUNES A LOS PROG. 91,92 ,93 Y 94\", \"PUESTA EN VALOR DE LAS OFICINAS DE LA AGENCIA DE PROTECCION AMBIENTAL\"], [\"MINISTERIO DE AMBIENTE Y ESPACIO PUBLICO\", \"AGENCIA AMBIENTAL\", \"DIRECCION GENERAL ESTRATEGIAS AMBIENTALES\", \"ESTRATEGIAS AMBIENTALES\", \"PUESTA EN VALOR DEPOSITO RAES\"], [\"MINISTERIO DE AMBIENTE Y ESPACIO PUBLICO\", \"MINISTERIO DE AMBIENTE Y ESPACIO PUBLICO\", \"DIRECCION GENERAL DE ESPACIOS VERDES\", \"CUIDADO Y PUESTA EN VALOR DE ESPACIOS VERDES\", \"PUESTA EN VALOR EDIFICIOS\"], [\"MINISTERIO DE AMBIENTE Y ESPACIO PUBLICO\", \"MINISTERIO DE AMBIENTE Y ESPACIO PUBLICO\", \"DIRECCION GENERAL DE RECICLADO\", \"RECICLADO DE RESIDUOS URBANOS\", \"RECICLADO DE RESIDUOS URBANOS\"], [\"MINISTERIO DE AMBIENTE Y ESPACIO PUBLICO\", \"ENTE DE HIGIENE URBANA\", \"ENTE DE HIGIENE URBANA\", \"RECOLECCION, BARRIDO E HIGIENE DE LA CIUDAD DE BUENOS AIRES\", \"RECOLECCION, BARRIDO E HIGIENE DE LA CIUDAD DE BUENOS AIRES\"], [\"MINISTERIO DE AMBIENTE Y ESPACIO PUBLICO\", \"AGENCIA AMBIENTAL\", \"DIRECCION GENERAL ESTRATEGIAS AMBIENTALES\", \"ESTRATEGIAS AMBIENTALES\", \"RED DE MONITOREO AMBIENTAL\"], [\"MINISTERIO DE AMBIENTE Y ESPACIO PUBLICO\", \"AGENCIA AMBIENTAL\", \"DIRECCION GENERAL ESTRATEGIAS AMBIENTALES\", \"ESTRATEGIAS AMBIENTALES\", \"RED DE MONITOREO DE LA CALIDAD DEL AGUA SUPERFICIAL DE LA CABA.\"], [\"MINISTERIO DE AMBIENTE Y ESPACIO PUBLICO\", \"AGENCIA AMBIENTAL\", \"DIRECCION GENERAL ESTRATEGIAS AMBIENTALES\", \"PLANEAMIENTO DE LA GESTION AMBIENTAL SOSTENIBLE\", \"RED DE MONITOREO DE LA CALIDAD DEL AGUA SUPERFICIAL DE LA CABA.\"], [\"MINISTERIO DE AMBIENTE Y ESPACIO PUBLICO\", \"AGENCIA AMBIENTAL\", \"AGENCIA AMBIENTAL\", \"REDES AMBIENTALES\", \"REDES AMBIENTALES\"], [\"MINISTERIO DE AMBIENTE Y ESPACIO PUBLICO\", \"AGENCIA AMBIENTAL\", \"DIRECCION GENERAL DE CONTROL\", \"REDES AMBIENTALES\", \"REDES AMBIENTALES\"], [\"JEFATURA DE GOBIERNO\", \"AGENCIA DE PROTECCION AMBIENTAL\", \"DIRECCION GENERAL DE CONTROL\", \"REDES AMBIENTALES\", \"REDES AMBIENTALES\"], [\"MINISTERIO DE AMBIENTE Y ESPACIO PUBLICO\", \"AGENCIA AMBIENTAL\", \"AGENCIA AMBIENTAL\", \"ACTIV. COMUNES A LOS PROG. 91,92 ,93 Y 94\", \"REMEDIACION AMBIENTAL GCBA\"], [\"MINISTERIO DE AMBIENTE Y ESPACIO PUBLICO\", \"AGENCIA AMBIENTAL\", \"AGENCIA AMBIENTAL\", \"COMPENSACION AMBIENTAL\", \"REMEDIACION Y MITIGACION AMBIENTAL\"], [\"MINISTERIO DE AMBIENTE Y ESPACIO PUBLICO\", \"MINISTERIO DE AMBIENTE Y ESPACIO PUBLICO\", \"MINISTERIO AMBIENTE Y ESPACIO PUBLICO\", \"MANTENIMIENTO ZONA PUERTO MADERO\", \"REPARACION Y MEJORAS EN BARRIOS DE BUENOS AIRES\"], [\"MINISTERIO DE AMBIENTE Y ESPACIO PUBLICO\", \"AGENCIA AMBIENTAL\", \"AGENCIA AMBIENTAL\", \"ACTIV. COMUNES A LOS PROG. 91,92 ,93 Y 94\", \"RESTAURACION Y MITIGACION GCBA\"], [\"MINISTERIO DE AMBIENTE Y ESPACIO PUBLICO\", \"AGENCIA AMBIENTAL\", \"AGENCIA AMBIENTAL\", \"ACTIV. COMUNES A LOS PROG. 91,92 ,93 Y 94\", \"SANEAMIENTO Y REMEDIACION DE SUELOS CONTAMINADOS ACHA 2102/04 Y MENDOZA\"], [\"MINISTERIO DE AMBIENTE Y ESPACIO PUBLICO\", \"AGENCIA AMBIENTAL\", \"AGENCIA AMBIENTAL\", \"SANIDAD Y TENENCIA RESPONSABLE DE MASCOTAS\", \"SANIDAD Y TENENCIA RESPONSABLE DE MASCOTAS\"], [\"JEFATURA DE GOBIERNO\", \"AGENCIA DE PROTECCION AMBIENTAL\", \"AGENCIA AMBIENTAL\", \"SANIDAD Y TENENCIA RESPONSABLE DE MASCOTAS\", \"SANIDAD Y TENENCIA RESPONSABLE DE MASCOTAS\"], [\"MINISTERIO DE AMBIENTE Y ESPACIO PUBLICO\", \"MINISTERIO DE AMBIENTE Y ESPACIO PUBLICO\", \"DIRECCION GENERAL DE LIMPIEZA\", \"SERVICIOS DE HIGIENE URBANA\", \"SERVICIO DE LIMPIEZA DE ARROYOS\"], [\"MINISTERIO DE AMBIENTE Y ESPACIO PUBLICO\", \"MINISTERIO DE AMBIENTE Y ESPACIO PUBLICO\", \"MINISTERIO AMBIENTE Y ESPACIO PUBLICO\", \"SERVICIOS DE ADMINISTRACION\", \"SERVICIOS DE ADMINISTRACION\"], [\"MINISTERIO DE AMBIENTE Y ESPACIO PUBLICO\", \"AGENCIA AMBIENTAL\", \"DIRECCION GENERAL DE EVALUACION TECNICA\", \"COMPENSACION AMBIENTAL\", \"SITIOS CONTAMINADOS\"], [\"JEFATURA DE GOBIERNO\", \"AGENCIA DE PROTECCION AMBIENTAL\", \"DIRECCION GENERAL POLITICA Y ESTRATEGIA AMBIENTAL\", \"POLITICA Y ESTRATEGIA AMBIENTAL\", \"SITIOS CONTAMINADOS\"], [\"MINISTERIO DE AMBIENTE Y ESPACIO PUBLICO\", \"MINISTERIO DE AMBIENTE Y ESPACIO PUBLICO\", \"DIRECCION GENERAL TECNICO ADMINISTRATIVA Y LEGAL\", \"TECNICA ADMINISTRATIVA Y LEGAL\", \"TECNICA ADMINISTRATIVA Y LEGAL\"], [\"MINISTERIO DE AMBIENTE Y ESPACIO PUBLICO\", \"MINISTERIO DE AMBIENTE Y ESPACIO PUBLICO\", \"DIRECCION GENERAL TRATAMIENTO Y NUEVAS TECNOLOGIAS\", \"TRATAMIENTO DE RESIDUOS SOLIDOS URBANOS\", \"TRATAMIENTO DE RESIDUOS ORGANICOS\"], [\"MINISTERIO DE AMBIENTE Y ESPACIO PUBLICO\", \"MINISTERIO DE AMBIENTE Y ESPACIO PUBLICO\", \"DIRECCION GENERAL DE ESPACIOS VERDES\", \"CUIDADO Y PUESTA EN VALOR DE ESPACIOS VERDES\", \"VALORIZACION DE LOS ESPACIOS VERDES\"], [\"MINISTERIO DE AMBIENTE Y ESPACIO PUBLICO\", \"MINISTERIO DE AMBIENTE Y ESPACIO PUBLICO\", \"DIRECCION GENERAL DE ESPACIOS VERDES\", \"CUIDADO Y PUESTA EN VALOR DE ESPACIOS VERDES\", \"VALORIZACION DE LOS ESPACIOS VERDES DE LA CIUDAD\"], [\"MINISTERIO DE AMBIENTE Y ESPACIO PUBLICO\", \"AGENCIA AMBIENTAL\", \"DIRECCION GENERAL DE CONTROL\", \"ACCIONES PARA LA RESTAURACION ECOLOGICA\", \"ACCIONES PARA LA RESTAURACION ECOLOGICA\"], [\"JEFATURA DE GOBIERNO\", \"AGENCIA DE PROTECCION AMBIENTAL\", \"DIRECCION GENERAL DE CONTROL\", \"ACCIONES PARA LA RESTAURACION ECOLOGICA\", \"ACCIONES PARA LA RESTAURACION ECOLOGICA\"], [\"JEFATURA DE GOBIERNO\", \"AGENCIA DE PROTECCION AMBIENTAL\", \"AGENCIA AMBIENTAL\", \"ACT. COMUNES A PROG. 91 A 103\", \"ACT. COMUNES A PROG. 91 A 103\"], [\"MINISTERIO DE AMBIENTE Y ESPACIO PUBLICO\", \"AGENCIA AMBIENTAL\", \"AGENCIA AMBIENTAL\", \"ACTIV. COMUNES A LOS PROG. 91,92 ,93 Y 94\", \"(?)\"], [\"MINISTERIO DE AMBIENTE Y ESPACIO PUBLICO\", \"AGENCIA AMBIENTAL\", \"AGENCIA AMBIENTAL\", \"ACTIV. COMUNES A LOS PROG. 91,92 Y93\", \"ACTIV. COMUNES A LOS PROG. 91,92 Y93\"], [\"MINISTERIO DE AMBIENTE Y ESPACIO PUBLICO\", \"MINISTERIO DE AMBIENTE Y ESPACIO PUBLICO\", \"MINISTERIO AMBIENTE Y ESPACIO PUBLICO\", \"ACTIVIDADES CENTRALES AMBIENTE Y ESPACIO PUBLICO\", \"ACTIVIDADES CENTRALES AMBIENTE Y ESPACIO PUBLICO\"], [\"MINISTERIO DE AMBIENTE Y ESPACIO PUBLICO\", \"AGENCIA AMBIENTAL\", \"AGENCIA AMBIENTAL\", \"ACTIVIDADES COMUMES A LOS PROGRAMAS 91,92,93,94,95,96\", \"(?)\"], [\"MINISTERIO DE AMBIENTE Y ESPACIO PUBLICO\", \"MINISTERIO DE AMBIENTE Y ESPACIO PUBLICO\", \"SUBSECRETARIA DE ADMINISTRACION\", \"ACTIVIDADES COMUNES A LOS PROG 21 Y 22\", \"ACTIVIDADES COMUNES A LOS PROG 21 Y 22\"], [\"MINISTERIO DE AMBIENTE Y ESPACIO PUBLICO\", \"MINISTERIO DE AMBIENTE Y ESPACIO PUBLICO\", \"SUBSECRETARIA DE ADMINISTRACION GENERAL Y DE USO DEL ESPACIO PUBLICO\", \"ACTIVIDADES COMUNES A LOS PROG 21,22,23,75,76 Y 77\", \"ACTIVIDADES COMUNES A LOS PROG 21,22,23,75,76 Y 77\"], [\"MINISTERIO DE AMBIENTE Y ESPACIO PUBLICO\", \"AGENCIA AMBIENTAL\", \"AGENCIA AMBIENTAL\", \"ACTIVIDADES COMUNES A LOS PROG. 91 AL 100 Y 102\", \"ACTIVIDADES COMUNES A LOS PROG. 91 AL 100 Y 102\"], [\"MINISTERIO DE AMBIENTE Y ESPACIO PUBLICO\", \"AGENCIA AMBIENTAL\", \"AGENCIA AMBIENTAL\", \"ACTIVIDADES COMUNES A LOS PROG. 91 AL 103\", \"ACTIVIDADES COMUNES A LOS PROG. 91 AL 103\"], [\"MINISTERIO DE AMBIENTE Y ESPACIO PUBLICO\", \"AGENCIA AMBIENTAL\", \"AGENCIA AMBIENTAL\", \"ACTIVIDADES COMUNES A LOS PROG. 91,92,93, 94,95 Y 96\", \"ACTIVIDADES COMUNES A LOS PROG. 91,92,93, 94,95 Y 96\"], [\"MINISTERIO DE AMBIENTE Y ESPACIO PUBLICO\", \"AGENCIA AMBIENTAL\", \"AGENCIA AMBIENTAL\", \"ACTIVIDADES COMUNES A LOS PROG. 91,92,93, 94,95, 96 Y 100\", \"ACTIVIDADES COMUNES A LOS PROG. 91,92,93, 94,95, 96 Y 100\"], [\"MINISTERIO DE AMBIENTE Y ESPACIO PUBLICO\", \"AGENCIA AMBIENTAL\", \"AGENCIA AMBIENTAL\", \"ACTIVIDADES COMUNES A LOS PROGRAMAS 91,92 Y 93\", \"(?)\"], [\"MINISTERIO DE AMBIENTE Y ESPACIO PUBLICO\", \"MINISTERIO DE AMBIENTE Y ESPACIO PUBLICO\", \"SUBSECRETARIA DE HIGIENE URBANA\", \"ACTIVIDADES COMUNES A LOS PROGRAMAS: 11-52-53-56-57-58-59\", \"ACTIVIDADES COMUNES A LOS PROGRAMAS: 11-52-53-56-57-58-59\"], [\"MINISTERIO DE AMBIENTE Y ESPACIO PUBLICO\", \"MINISTERIO DE AMBIENTE Y ESPACIO PUBLICO\", \"SUBSECRETARIA DE HIGIENE URBANA\", \"ACTIVIDADES COMUNES A LOS PROGRAMAS: 11-52-53-56-57-58-59 Y 85\", \"ACTIVIDADES COMUNES A LOS PROGRAMAS: 11-52-53-56-57-58-59 Y 85\"], [\"MINISTERIO DE AMBIENTE Y ESPACIO PUBLICO\", \"MINISTERIO DE AMBIENTE Y ESPACIO PUBLICO\", \"SUBSECRETARIA DE HIGIENE URBANA\", \"ACTIVIDADES COMUNES A LOS PROGRAMAS: 11-52-53-56-57-58-59-79-85\", \"ACTIVIDADES COMUNES A LOS PROGRAMAS: 11-52-53-56-57-58-59-79-85\"], [\"MINISTERIO DE AMBIENTE Y ESPACIO PUBLICO\", \"MINISTERIO DE AMBIENTE Y ESPACIO PUBLICO\", \"SUBSECRETARIA DE HIGIENE URBANA\", \"ACTIVIDADES COMUNES A LOS PROGRAMAS: 11-52-53-56-57-85\", \"ACTIVIDADES COMUNES A LOS PROGRAMAS: 11-52-53-56-57-85\"], [\"MINISTERIO DE AMBIENTE Y ESPACIO PUBLICO\", \"MINISTERIO DE AMBIENTE Y ESPACIO PUBLICO\", \"SUBSECRETARIA DE HIGIENE URBANA\", \"ACTIVIDADES COMUNES A LOS PROGRAMAS: 11-52-53-57-58-59\", \"ACTIVIDADES COMUNES A LOS PROGRAMAS: 11-52-53-57-58-59\"], [\"MINISTERIO DE AMBIENTE Y ESPACIO PUBLICO\", \"MINISTERIO DE AMBIENTE Y ESPACIO PUBLICO\", \"SUBSECRETARIA DE HIGIENE URBANA\", \"ACTIVIDADES COMUNES A LOS PROGRAMAS: 11-52-53-57-58-59 Y 85\", \"ACTIVIDADES COMUNES A LOS PROGRAMAS: 11-52-53-57-58-59 Y 85\"], [\"MINISTERIO DE AMBIENTE Y ESPACIO PUBLICO\", \"MINISTERIO DE AMBIENTE Y ESPACIO PUBLICO\", \"SUBSECRETARIA DE HIGIENE URBANA\", \"ACTIVIDADES COMUNES A LOS PROGRAMAS: 52.53.56.57 Y 85\", \"ACTIVIDADES COMUNES A LOS PROGRAMAS: 52.53.56.57 Y 85\"], [\"MINISTERIO DE AMBIENTE Y ESPACIO PUBLICO\", \"MINISTERIO DE AMBIENTE Y ESPACIO PUBLICO\", \"DIRECCION GENERAL DE ARBOLADO\", \"ARBOLADO URBANO\", \"(?)\"], [\"MINISTERIO DE AMBIENTE Y ESPACIO PUBLICO\", \"MINISTERIO DE AMBIENTE Y ESPACIO PUBLICO\", \"DIRECCION GENERAL TECNICO ADMINISTRATIVA Y LEGAL\", \"ASUNTOS LEGALES Y PRESUPUESTO\", \"ASUNTOS LEGALES Y PRESUPUESTO\"], [\"MINISTERIO DE AMBIENTE Y ESPACIO PUBLICO\", \"AGENCIA AMBIENTAL\", \"DIRECCION GENERAL DE EVALUACION TECNICA\", \"BUENOS AIRES PRODUCE MAS LIMPIO (P+L)\", \"BUENOS AIRES PRODUCE MAS LIMPIO (P+L)\"], [\"MINISTERIO DE AMBIENTE Y ESPACIO PUBLICO\", \"AGENCIA AMBIENTAL\", \"DIRECCION GENERAL ESTRATEGIAS AMBIENTALES\", \"BUENOS AIRES PRODUCE MAS LIMPIO (P+L)\", \"BUENOS AIRES PRODUCE MAS LIMPIO (P+L)\"], [\"MINISTERIO DE AMBIENTE Y ESPACIO PUBLICO\", \"AGENCIA AMBIENTAL\", \"DIRECCION GENERAL POLITICA Y ESTRATEGIA AMBIENTAL\", \"BUENOS AIRES PRODUCE MAS LIMPIO (P+L)\", \"BUENOS AIRES PRODUCE MAS LIMPIO (P+L)\"], [\"MINISTERIO DE AMBIENTE Y ESPACIO PUBLICO\", \"AGENCIA AMBIENTAL\", \"AGENCIA AMBIENTAL\", \"CENTROS DE ATENCION VETERINARIA\", \"CENTROS DE ATENCION VETERINARIA\"], [\"MINISTERIO DE AMBIENTE Y ESPACIO PUBLICO\", \"AGENCIA AMBIENTAL\", \"DIRECCION GENERAL ESTRATEGIAS AMBIENTALES\", \"CENTROS DE ATENCION VETERINARIA\", \"CENTROS DE ATENCION VETERINARIA\"], [\"MINISTERIO DE AMBIENTE Y ESPACIO PUBLICO\", \"AGENCIA AMBIENTAL\", \"AGENCIA AMBIENTAL\", \"COMPENSACION AMBIENTAL\", \"(?)\"], [\"MINISTERIO DE AMBIENTE Y ESPACIO PUBLICO\", \"AGENCIA AMBIENTAL\", \"DIRECCION GENERAL DE EVALUACION AMBIENTAL\", \"COMPENSACION AMBIENTAL\", \"COMPENSACION AMBIENTAL\"], [\"MINISTERIO DE AMBIENTE Y ESPACIO PUBLICO\", \"AGENCIA AMBIENTAL\", \"DIRECCION GENERAL DE EVALUACION TECNICA\", \"COMPENSACION AMBIENTAL\", \"(?)\"], [\"JEFATURA DE GOBIERNO\", \"SECRETARIA DE AMBIENTE\", \"UPE ECOPARQUE\", \"CONSERVACION DE LA BIODIVERSIDAD\", \"(?)\"], [\"MINISTERIO DE AMBIENTE Y ESPACIO PUBLICO\", \"MINISTERIO DE AMBIENTE Y ESPACIO PUBLICO\", \"UPE ECOPARQUE INTERACTIVO DE LA CABA\", \"CONSERVACION DE LA BIODIVERSIDAD\", \"(?)\"], [\"MINISTERIO DE AMBIENTE Y ESPACIO PUBLICO\", \"AGENCIA AMBIENTAL\", \"DIRECCION GENERAL DE CONTROL\", \"CONTROL AMBIENTAL\", \"CONTROL AMBIENTAL\"], [\"JEFATURA DE GOBIERNO\", \"AGENCIA DE PROTECCION AMBIENTAL\", \"DIRECCION GENERAL DE CONTROL\", \"CONTROL AMBIENTAL\", \"CONTROL AMBIENTAL\"], [\"MINISTERIO DE AMBIENTE Y ESPACIO PUBLICO\", \"MINISTERIO DE AMBIENTE Y ESPACIO PUBLICO\", \"DIRECCION GENERAL CONTROL DE GESTION\", \"CONTROL DE GESTION\", \"CONTROL DE GESTION\"], [\"MINISTERIO DE AMBIENTE Y ESPACIO PUBLICO\", \"MINISTERIO DE AMBIENTE Y ESPACIO PUBLICO\", \"DIRECCION GENERAL CONTROL DE GESTION\", \"CONTROL DE GESTION Y RECLAMOS\", \"CONTROL DE GESTION Y RECLAMOS\"], [\"MINISTERIO DE AMBIENTE Y ESPACIO PUBLICO\", \"MINISTERIO DE AMBIENTE Y ESPACIO PUBLICO\", \"DIRECCION GENERAL DE LIMPIEZA\", \"CONTROL DE HIGIENE EN VIA PUBLICA E INMUEBLES\", \"CONTROL DE HIGIENE EN VIA PUBLICA E INMUEBLES\"], [\"MINISTERIO DE AMBIENTE Y ESPACIO PUBLICO\", \"MINISTERIO DE AMBIENTE Y ESPACIO PUBLICO\", \"DIRECCION GENERAL INSPECCION DE HIGIENE URBANA\", \"CONTROL DE HIGIENE EN VIA PUBLICA E INMUEBLES\", \"(?)\"], [\"MINISTERIO DE AMBIENTE Y ESPACIO PUBLICO\", \"MINISTERIO DE AMBIENTE Y ESPACIO PUBLICO\", \"SUBSECRETARIA DE HIGIENE URBANA\", \"CONTROL DE HIGIENE EN VIA PUBLICA E INMUEBLES\", \"CONTROL DE HIGIENE EN VIA PUBLICA E INMUEBLES\"], [\"MINISTERIO DE AMBIENTE Y ESPACIO PUBLICO\", \"MINISTERIO DE AMBIENTE Y ESPACIO PUBLICO\", \"DIRECCION GENERAL DE LIMPIEZA\", \"CONTROL DE PLAGAS\", \"CONTROL DE PLAGAS\"], [\"MINISTERIO DE AMBIENTE Y ESPACIO PUBLICO\", \"MINISTERIO DE AMBIENTE Y ESPACIO PUBLICO\", \"DIRECCION GENERAL INSPECCION DE HIGIENE URBANA\", \"CONTROL DE PLAGAS\", \"CONTROL DE PLAGAS\"], [\"MINISTERIO DE AMBIENTE Y ESPACIO PUBLICO\", \"MINISTERIO DE AMBIENTE Y ESPACIO PUBLICO\", \"DIRECCION GENERAL DE ESPACIOS VERDES\", \"CUIDADO Y PUESTA EN VALOR DE ESPACIOS VERDES\", \"(?)\"], [\"MINISTERIO DE AMBIENTE Y ESPACIO PUBLICO\", \"AGENCIA AMBIENTAL\", \"DIRECCION GENERAL ESTRATEGIAS AMBIENTALES\", \"ESTRATEGIAS AMBIENTALES\", \"(?)\"], [\"MINISTERIO DE AMBIENTE Y ESPACIO PUBLICO\", \"AGENCIA AMBIENTAL\", \"DIRECCION GENERAL POLITICA Y ESTRATEGIA AMBIENTAL\", \"ESTRATEGIAS AMBIENTALES\", \"ESTRATEGIAS AMBIENTALES\"], [\"MINISTERIO DE AMBIENTE Y ESPACIO PUBLICO\", \"AGENCIA AMBIENTAL\", \"DIRECCION GENERAL DE EVALUACION AMBIENTAL\", \"EVALUACION TECNICA\", \"EVALUACION TECNICA\"], [\"MINISTERIO DE AMBIENTE Y ESPACIO PUBLICO\", \"AGENCIA AMBIENTAL\", \"DIRECCION GENERAL DE EVALUACION TECNICA\", \"EVALUACION TECNICA\", \"EVALUACION TECNICA\"], [\"JEFATURA DE GOBIERNO\", \"AGENCIA DE PROTECCION AMBIENTAL\", \"DIRECCION GENERAL EVALUACION AMBIAENTAL\", \"EVALUACION TECNICA\", \"EVALUACION TECNICA\"], [\"MINISTERIO DE AMBIENTE Y ESPACIO PUBLICO\", \"AGENCIA AMBIENTAL\", \"AGENCIA AMBIENTAL\", \"GESTION AMBIENTAL\", \"(?)\"], [\"MINISTERIO DE AMBIENTE Y ESPACIO PUBLICO\", \"AGENCIA AMBIENTAL\", \"AGENCIA AMBIENTAL\", \"INTERVENCIONES VETERINARIAS\", \"INTERVENCIONES VETERINARIAS\"], [\"JEFATURA DE GOBIERNO\", \"AGENCIA DE PROTECCION AMBIENTAL\", \"AGENCIA AMBIENTAL\", \"INTERVENCIONES VETERINARIAS\", \"INTERVENCIONES VETERINARIAS\"], [\"MINISTERIO DE AMBIENTE Y ESPACIO PUBLICO\", \"AGENCIA AMBIENTAL\", \"DIRECCION GENERAL DE CONTROL\", \"LABORATORIO DE ANALISIS Y CALIDAD AMBIENTAL\", \"LABORATORIO DE ANALISIS Y CALIDAD AMBIENTAL\"], [\"JEFATURA DE GOBIERNO\", \"AGENCIA DE PROTECCION AMBIENTAL\", \"DIRECCION GENERAL DE CONTROL\", \"LABORATORIO DE ANALISIS Y CALIDAD AMBIENTAL\", \"LABORATORIO DE ANALISIS Y CALIDAD AMBIENTAL\"], [\"MINISTERIO DE AMBIENTE Y ESPACIO PUBLICO\", \"AGENCIA AMBIENTAL\", \"DIRECCION GENERAL DE EVALUACION TECNICA\", \"LABORATORIO DE ANALISIS Y CALIDAD AMBIENTAL\", \"LABORATORIO DE ANALISIS Y CALIDAD AMBIENTAL\"], [\"MINISTERIO DE AMBIENTE Y ESPACIO PUBLICO\", \"MINISTERIO DE AMBIENTE Y ESPACIO PUBLICO\", \"MINISTERIO AMBIENTE Y ESPACIO PUBLICO\", \"MANTENIMIENTO ZONA PUERTO MADERO\", \"REPARACION Y MEJORAS EN BARRIOS DE BUENOS AIRES\"], [\"MINISTERIO DE AMBIENTE Y ESPACIO PUBLICO\", \"MINISTERIO DE AMBIENTE Y ESPACIO PUBLICO\", \"DIRECCION GENERAL OBRAS REGENERACION URBANA\", \"OBRAS DE REGENERACIONURBANA\", \"PARQUES URBANOS\"], [\"MINISTERIO DE AMBIENTE Y ESPACIO PUBLICO\", \"AGENCIA AMBIENTAL\", \"DIRECCION GENERAL ESTRATEGIAS AMBIENTALES\", \"PLANEAMIENTO DE LA GESTION AMBIENTAL SOSTENIBLE\", \"(?)\"], [\"MINISTERIO DE AMBIENTE Y ESPACIO PUBLICO\", \"MINISTERIO DE AMBIENTE Y ESPACIO PUBLICO\", \"DIRECCION GENERAL PLANIFICACION Y PRESUPUESTO\", \"PLANIFICACION Y PRESUPUESTO\", \"PLANIFICACION Y PRESUPUESTO\"], [\"JEFATURA DE GOBIERNO\", \"AGENCIA DE PROTECCION AMBIENTAL\", \"DIRECCION GENERAL POLITICA Y ESTRATEGIA AMBIENTAL\", \"POLITICA Y ESTRATEGIA AMBIENTAL\", \"(?)\"], [\"MINISTERIO DE AMBIENTE Y ESPACIO PUBLICO\", \"AGENCIA AMBIENTAL\", \"DIRECCION GENERAL DE EVALUACION TECNICA\", \"PREVENC.AMB.EVALUAC.TECNICA Y CERTIFICADOS AMBIENTALES\", \"PREVENC.AMB.EVALUAC.TECNICA Y CERTIFICADOS AMBIENTALES\"], [\"MINISTERIO DE AMBIENTE Y ESPACIO PUBLICO\", \"AGENCIA AMBIENTAL\", \"DIRECCION GENERAL DE EVALUACION TECNICA\", \"PREVENCION AMBIENTAL EVALUACION TECNICA Y REGISTROS AMBIENTALES\", \"PREVENCION AMBIENTAL EVALUACION TECNICA Y REGISTROS AMBIENTALES\"], [\"MINISTERIO DE AMBIENTE Y ESPACIO PUBLICO\", \"AGENCIA AMBIENTAL\", \"DIRECCION GENERAL POLITICA Y ESTRATEGIA AMBIENTAL\", \"PROGRAMA DE CAMBIO CLIMATICO E INFORMACION AMBIENTAL\", \"PROGRAMA DE CAMBIO CLIMATICO E INFORMACION AMBIENTAL\"], [\"JEFATURA DE GOBIERNO\", \"AGENCIA DE PROTECCION AMBIENTAL\", \"DIRECCION GENERAL POLITICA Y ESTRATEGIA AMBIENTAL\", \"PROGRAMA DE CAMBIO CLIMATICO E INFORMACION AMBIENTAL\", \"PROGRAMA DE CAMBIO CLIMATICO E INFORMACION AMBIENTAL\"], [\"JEFATURA DE GOBIERNO\", \"AGENCIA DE PROTECCION AMBIENTAL\", \"DIRECCION GENERAL POLITICA Y ESTRATEGIA AMBIENTAL\", \"PROGRAMA DE DESARROLLO SUSTENTABLE\", \"PROGRAMA DE DESARROLLO SUSTENTABLE\"], [\"MINISTERIO DE AMBIENTE Y ESPACIO PUBLICO\", \"AGENCIA AMBIENTAL\", \"DIRECCION GENERAL POLITICA Y ESTRATEGIA AMBIENTAL\", \"PROGRAMA DE GESTION ENERGETICA\", \"PROGRAMA DE GESTION ENERGETICA\"], [\"JEFATURA DE GOBIERNO\", \"AGENCIA DE PROTECCION AMBIENTAL\", \"DIRECCION GENERAL POLITICA Y ESTRATEGIA AMBIENTAL\", \"PROGRAMA DE GESTION ENERGETICA\", \"PROGRAMA DE GESTION ENERGETICA\"], [\"MINISTERIO DE AMBIENTE Y ESPACIO PUBLICO\", \"AGENCIA AMBIENTAL\", \"DIRECCION GENERAL POLITICA Y ESTRATEGIA AMBIENTAL\", \"PROGRAMA DE RESIDUOS DE MANEJO ESPECIAL\", \"PROGRAMA DE RESIDUOS DE MANEJO ESPECIAL\"], [\"JEFATURA DE GOBIERNO\", \"AGENCIA DE PROTECCION AMBIENTAL\", \"DIRECCION GENERAL POLITICA Y ESTRATEGIA AMBIENTAL\", \"PROGRAMA DE RESIDUOS SUJETOS A MANEJO ESPECIAL\", \"PROGRAMA DE RESIDUOS SUJETOS A MANEJO ESPECIAL\"], [\"MINISTERIO DE AMBIENTE Y ESPACIO PUBLICO\", \"AGENCIA AMBIENTAL\", \"AGENCIA AMBIENTAL\", \"PROTECCION Y SANIDAD ANIMAL\", \"PROTECCION Y SANIDAD ANIMAL\"], [\"MINISTERIO DE AMBIENTE Y ESPACIO PUBLICO\", \"AGENCIA AMBIENTAL\", \"DIRECCION GENERAL ESTRATEGIAS AMBIENTALES\", \"PROTECCION Y SANIDAD ANIMAL\", \"PROTECCION Y SANIDAD ANIMAL\"], [\"MINISTERIO DE AMBIENTE Y ESPACIO PUBLICO\", \"MINISTERIO DE AMBIENTE Y ESPACIO PUBLICO\", \"DIRECCION GENERAL DE RECICLADO\", \"RECICLADO DE RESIDUOS URBANOS\", \"(?)\"], [\"MINISTERIO DE AMBIENTE Y ESPACIO PUBLICO\", \"ENTE DE HIGIENE URBANA\", \"ENTE DE HIGIENE URBANA\", \"RECOLECCION, BARRIDO E HIGIENE DE LA CIUDAD DE BUENOS AIRES\", \"RECOLECCION, BARRIDO E HIGIENE DE LA CIUDAD DE BUENOS AIRES\"], [\"MINISTERIO DE AMBIENTE Y ESPACIO PUBLICO\", \"AGENCIA AMBIENTAL\", \"AGENCIA AMBIENTAL\", \"REDES AMBIENTALES\", \"(?)\"], [\"MINISTERIO DE AMBIENTE Y ESPACIO PUBLICO\", \"AGENCIA AMBIENTAL\", \"DIRECCION GENERAL DE CONTROL\", \"REDES AMBIENTALES\", \"REDES AMBIENTALES\"], [\"JEFATURA DE GOBIERNO\", \"AGENCIA DE PROTECCION AMBIENTAL\", \"DIRECCION GENERAL DE CONTROL\", \"REDES AMBIENTALES\", \"REDES AMBIENTALES\"], [\"MINISTERIO DE AMBIENTE Y ESPACIO PUBLICO\", \"MINISTERIO DE AMBIENTE Y ESPACIO PUBLICO\", \"DIRECCION GENERAL REGENERACION URBANA\", \"REGENERACION URBANA\", \"OBRAS DE REGENERACION URBANA\"], [\"MINISTERIO DE AMBIENTE Y ESPACIO PUBLICO\", \"AGENCIA AMBIENTAL\", \"AGENCIA AMBIENTAL\", \"SANIDAD Y TENENCIA RESPONSABLE DE MASCOTAS\", \"SANIDAD Y TENENCIA RESPONSABLE DE MASCOTAS\"], [\"JEFATURA DE GOBIERNO\", \"AGENCIA DE PROTECCION AMBIENTAL\", \"AGENCIA AMBIENTAL\", \"SANIDAD Y TENENCIA RESPONSABLE DE MASCOTAS\", \"SANIDAD Y TENENCIA RESPONSABLE DE MASCOTAS\"], [\"MINISTERIO DE AMBIENTE Y ESPACIO PUBLICO\", \"MINISTERIO DE AMBIENTE Y ESPACIO PUBLICO\", \"MINISTERIO AMBIENTE Y ESPACIO PUBLICO\", \"SERVICIOS DE ADMINISTRACION\", \"SERVICIOS DE ADMINISTRACION\"], [\"MINISTERIO DE AMBIENTE Y ESPACIO PUBLICO\", \"MINISTERIO DE AMBIENTE Y ESPACIO PUBLICO\", \"DIRECCION GENERAL DE LIMPIEZA\", \"SERVICIOS DE HIGIENE URBANA\", \"(?)\"], [\"MINISTERIO DE AMBIENTE Y ESPACIO PUBLICO\", \"MINISTERIO DE AMBIENTE Y ESPACIO PUBLICO\", \"DIRECCION GENERAL TECNICO ADMINISTRATIVA Y LEGAL\", \"TECNICA ADMINISTRATIVA Y LEGAL\", \"TECNICA ADMINISTRATIVA Y LEGAL\"], [\"MINISTERIO DE AMBIENTE Y ESPACIO PUBLICO\", \"MINISTERIO DE AMBIENTE Y ESPACIO PUBLICO\", \"DIRECCION GENERAL TRATAMIENTO Y NUEVAS TECNOLOGIAS\", \"TRATAMIENTO DE RESIDUOS SOLIDOS URBANOS\", \"TRATAMIENTO DE RESIDUOS ORGANICOS\"], [\"MINISTERIO DE AMBIENTE Y ESPACIO PUBLICO\", \"AGENCIA AMBIENTAL\", \"AGENCIA AMBIENTAL\", \"(?)\", \"(?)\"], [\"JEFATURA DE GOBIERNO\", \"AGENCIA DE PROTECCION AMBIENTAL\", \"AGENCIA AMBIENTAL\", \"(?)\", \"(?)\"], [\"MINISTERIO DE AMBIENTE Y ESPACIO PUBLICO\", \"MINISTERIO DE AMBIENTE Y ESPACIO PUBLICO\", \"DIRECCION GENERAL CONTROL DE GESTION\", \"(?)\", \"(?)\"], [\"MINISTERIO DE AMBIENTE Y ESPACIO PUBLICO\", \"MINISTERIO DE AMBIENTE Y ESPACIO PUBLICO\", \"DIRECCION GENERAL DE ARBOLADO\", \"ARBOLADO URBANO\", \"(?)\"], [\"MINISTERIO DE AMBIENTE Y ESPACIO PUBLICO\", \"AGENCIA AMBIENTAL\", \"DIRECCION GENERAL DE CONTROL\", \"(?)\", \"(?)\"], [\"JEFATURA DE GOBIERNO\", \"AGENCIA DE PROTECCION AMBIENTAL\", \"DIRECCION GENERAL DE CONTROL\", \"(?)\", \"(?)\"], [\"MINISTERIO DE AMBIENTE Y ESPACIO PUBLICO\", \"MINISTERIO DE AMBIENTE Y ESPACIO PUBLICO\", \"DIRECCION GENERAL DE ESPACIOS VERDES\", \"CUIDADO Y PUESTA EN VALOR DE ESPACIOS VERDES\", \"(?)\"], [\"MINISTERIO DE AMBIENTE Y ESPACIO PUBLICO\", \"AGENCIA AMBIENTAL\", \"DIRECCION GENERAL DE EVALUACION AMBIENTAL\", \"(?)\", \"(?)\"], [\"MINISTERIO DE AMBIENTE Y ESPACIO PUBLICO\", \"AGENCIA AMBIENTAL\", \"DIRECCION GENERAL DE EVALUACION TECNICA\", \"(?)\", \"(?)\"], [\"MINISTERIO DE AMBIENTE Y ESPACIO PUBLICO\", \"MINISTERIO DE AMBIENTE Y ESPACIO PUBLICO\", \"DIRECCION GENERAL DE LIMPIEZA\", \"(?)\", \"(?)\"], [\"MINISTERIO DE AMBIENTE Y ESPACIO PUBLICO\", \"MINISTERIO DE AMBIENTE Y ESPACIO PUBLICO\", \"DIRECCION GENERAL DE RECICLADO\", \"RECICLADO DE RESIDUOS URBANOS\", \"(?)\"], [\"MINISTERIO DE AMBIENTE Y ESPACIO PUBLICO\", \"AGENCIA AMBIENTAL\", \"DIRECCION GENERAL ESTRATEGIAS AMBIENTALES\", \"(?)\", \"(?)\"], [\"JEFATURA DE GOBIERNO\", \"AGENCIA DE PROTECCION AMBIENTAL\", \"DIRECCION GENERAL EVALUACION AMBIAENTAL\", \"EVALUACION TECNICA\", \"EVALUACION TECNICA\"], [\"MINISTERIO DE AMBIENTE Y ESPACIO PUBLICO\", \"MINISTERIO DE AMBIENTE Y ESPACIO PUBLICO\", \"DIRECCION GENERAL INSPECCION DE HIGIENE URBANA\", \"(?)\", \"(?)\"], [\"MINISTERIO DE AMBIENTE Y ESPACIO PUBLICO\", \"MINISTERIO DE AMBIENTE Y ESPACIO PUBLICO\", \"DIRECCION GENERAL OBRAS REGENERACION URBANA\", \"OBRAS DE REGENERACIONURBANA\", \"PARQUES URBANOS\"], [\"MINISTERIO DE AMBIENTE Y ESPACIO PUBLICO\", \"MINISTERIO DE AMBIENTE Y ESPACIO PUBLICO\", \"DIRECCION GENERAL PLANIFICACION Y PRESUPUESTO\", \"PLANIFICACION Y PRESUPUESTO\", \"PLANIFICACION Y PRESUPUESTO\"], [\"MINISTERIO DE AMBIENTE Y ESPACIO PUBLICO\", \"AGENCIA AMBIENTAL\", \"DIRECCION GENERAL POLITICA Y ESTRATEGIA AMBIENTAL\", \"(?)\", \"(?)\"], [\"JEFATURA DE GOBIERNO\", \"AGENCIA DE PROTECCION AMBIENTAL\", \"DIRECCION GENERAL POLITICA Y ESTRATEGIA AMBIENTAL\", \"(?)\", \"(?)\"], [\"MINISTERIO DE AMBIENTE Y ESPACIO PUBLICO\", \"MINISTERIO DE AMBIENTE Y ESPACIO PUBLICO\", \"DIRECCION GENERAL REGENERACION URBANA\", \"REGENERACION URBANA\", \"OBRAS DE REGENERACION URBANA\"], [\"MINISTERIO DE AMBIENTE Y ESPACIO PUBLICO\", \"MINISTERIO DE AMBIENTE Y ESPACIO PUBLICO\", \"DIRECCION GENERAL TECNICO ADMINISTRATIVA Y LEGAL\", \"(?)\", \"(?)\"], [\"MINISTERIO DE AMBIENTE Y ESPACIO PUBLICO\", \"MINISTERIO DE AMBIENTE Y ESPACIO PUBLICO\", \"DIRECCION GENERAL TRATAMIENTO Y NUEVAS TECNOLOGIAS\", \"TRATAMIENTO DE RESIDUOS SOLIDOS URBANOS\", \"TRATAMIENTO DE RESIDUOS ORGANICOS\"], [\"MINISTERIO DE AMBIENTE Y ESPACIO PUBLICO\", \"ENTE DE HIGIENE URBANA\", \"ENTE DE HIGIENE URBANA\", \"RECOLECCION, BARRIDO E HIGIENE DE LA CIUDAD DE BUENOS AIRES\", \"RECOLECCION, BARRIDO E HIGIENE DE LA CIUDAD DE BUENOS AIRES\"], [\"MINISTERIO DE AMBIENTE Y ESPACIO PUBLICO\", \"MINISTERIO DE AMBIENTE Y ESPACIO PUBLICO\", \"MINISTERIO AMBIENTE Y ESPACIO PUBLICO\", \"(?)\", \"(?)\"], [\"MINISTERIO DE AMBIENTE Y ESPACIO PUBLICO\", \"MINISTERIO DE AMBIENTE Y ESPACIO PUBLICO\", \"SUBSECRETARIA DE ADMINISTRACION\", \"ACTIVIDADES COMUNES A LOS PROG 21 Y 22\", \"ACTIVIDADES COMUNES A LOS PROG 21 Y 22\"], [\"MINISTERIO DE AMBIENTE Y ESPACIO PUBLICO\", \"MINISTERIO DE AMBIENTE Y ESPACIO PUBLICO\", \"SUBSECRETARIA DE ADMINISTRACION GENERAL Y DE USO DEL ESPACIO PUBLICO\", \"ACTIVIDADES COMUNES A LOS PROG 21,22,23,75,76 Y 77\", \"ACTIVIDADES COMUNES A LOS PROG 21,22,23,75,76 Y 77\"], [\"MINISTERIO DE AMBIENTE Y ESPACIO PUBLICO\", \"MINISTERIO DE AMBIENTE Y ESPACIO PUBLICO\", \"SUBSECRETARIA DE HIGIENE URBANA\", \"(?)\", \"(?)\"], [\"JEFATURA DE GOBIERNO\", \"SECRETARIA DE AMBIENTE\", \"UPE ECOPARQUE\", \"CONSERVACION DE LA BIODIVERSIDAD\", \"(?)\"], [\"MINISTERIO DE AMBIENTE Y ESPACIO PUBLICO\", \"MINISTERIO DE AMBIENTE Y ESPACIO PUBLICO\", \"UPE ECOPARQUE INTERACTIVO DE LA CABA\", \"CONSERVACION DE LA BIODIVERSIDAD\", \"(?)\"], [\"MINISTERIO DE AMBIENTE Y ESPACIO PUBLICO\", \"AGENCIA AMBIENTAL\", \"(?)\", \"(?)\", \"(?)\"], [\"JEFATURA DE GOBIERNO\", \"AGENCIA DE PROTECCION AMBIENTAL\", \"(?)\", \"(?)\", \"(?)\"], [\"MINISTERIO DE AMBIENTE Y ESPACIO PUBLICO\", \"ENTE DE HIGIENE URBANA\", \"ENTE DE HIGIENE URBANA\", \"RECOLECCION, BARRIDO E HIGIENE DE LA CIUDAD DE BUENOS AIRES\", \"RECOLECCION, BARRIDO E HIGIENE DE LA CIUDAD DE BUENOS AIRES\"], [\"MINISTERIO DE AMBIENTE Y ESPACIO PUBLICO\", \"MINISTERIO DE AMBIENTE Y ESPACIO PUBLICO\", \"(?)\", \"(?)\", \"(?)\"], [\"JEFATURA DE GOBIERNO\", \"SECRETARIA DE AMBIENTE\", \"UPE ECOPARQUE\", \"CONSERVACION DE LA BIODIVERSIDAD\", \"(?)\"], [\"JEFATURA DE GOBIERNO\", \"(?)\", \"(?)\", \"(?)\", \"(?)\"], [\"MINISTERIO DE AMBIENTE Y ESPACIO PUBLICO\", \"(?)\", \"(?)\", \"(?)\", \"(?)\"]], \"domain\": {\"x\": [0.0, 1.0], \"y\": [0.0, 1.0]}, \"hovertemplate\": \"<b>%{label}</b> <br>$%{value:,.0f}</b> \\n                <br>\\n                    <br>JURISDICCION: %{customdata[0]}</b>\\n                    <br>UNIDAD_EJECUTORA: %{customdata[2]}</b> \\n                    <br>\\n                        <br>PROGRAMA: %{customdata[3]}</b> \\n                        <br>PROYECTO: %{customdata[4]}</b>\\n                    </b>\\n                </b> \", \"ids\": [\"MINISTERIO DE AMBIENTE Y ESPACIO PUBLICO/MINISTERIO DE AMBIENTE Y ESPACIO PUBLICO/DIRECCION GENERAL DE RECICLADO/RECICLADO DE RESIDUOS URBANOS/A.CU.MAR - CENTROS VERDES\", \"MINISTERIO DE AMBIENTE Y ESPACIO PUBLICO/MINISTERIO DE AMBIENTE Y ESPACIO PUBLICO/DIRECCION GENERAL DE LIMPIEZA/SERVICIOS DE HIGIENE URBANA/A.CU.MAR - RIACHUELO\", \"MINISTERIO DE AMBIENTE Y ESPACIO PUBLICO/MINISTERIO DE AMBIENTE Y ESPACIO PUBLICO/DIRECCION GENERAL DE ESPACIOS VERDES/CUIDADO Y PUESTA EN VALOR DE ESPACIOS VERDES/A.CU.MAR - VALORIZACION DE LOS ESPACIOS VERDES\", \"MINISTERIO DE AMBIENTE Y ESPACIO PUBLICO/AGENCIA AMBIENTAL/AGENCIA AMBIENTAL/ACTIV. COMUNES A LOS PROG. 91,92 ,93 Y 94/ACCIONES AMBIENTALES CABA\", \"MINISTERIO DE AMBIENTE Y ESPACIO PUBLICO/AGENCIA AMBIENTAL/DIRECCION GENERAL DE CONTROL/ACCIONES PARA LA RESTAURACION ECOLOGICA/ACCIONES PARA LA RESTAURACION ECOLOGICA\", \"JEFATURA DE GOBIERNO/AGENCIA DE PROTECCION AMBIENTAL/DIRECCION GENERAL DE CONTROL/ACCIONES PARA LA RESTAURACION ECOLOGICA/ACCIONES PARA LA RESTAURACION ECOLOGICA\", \"JEFATURA DE GOBIERNO/AGENCIA DE PROTECCION AMBIENTAL/AGENCIA AMBIENTAL/ACT. COMUNES A PROG. 91 A 103/ACT. COMUNES A PROG. 91 A 103\", \"MINISTERIO DE AMBIENTE Y ESPACIO PUBLICO/AGENCIA AMBIENTAL/AGENCIA AMBIENTAL/ACTIV. COMUNES A LOS PROG. 91,92 ,93 Y 94/ACTIV. COMUNES A LOS PROG. 91,92 ,93 Y 94\", \"MINISTERIO DE AMBIENTE Y ESPACIO PUBLICO/AGENCIA AMBIENTAL/AGENCIA AMBIENTAL/ACTIV. COMUNES A LOS PROG. 91,92 Y93/ACTIV. COMUNES A LOS PROG. 91,92 Y93\", \"MINISTERIO DE AMBIENTE Y ESPACIO PUBLICO/MINISTERIO DE AMBIENTE Y ESPACIO PUBLICO/MINISTERIO AMBIENTE Y ESPACIO PUBLICO/ACTIVIDADES CENTRALES AMBIENTE Y ESPACIO PUBLICO/ACTIVIDADES CENTRALES AMBIENTE Y ESPACIO PUBLICO\", \"MINISTERIO DE AMBIENTE Y ESPACIO PUBLICO/AGENCIA AMBIENTAL/AGENCIA AMBIENTAL/ACTIVIDADES COMUMES A LOS PROGRAMAS 91,92,93,94,95,96/ACTIVIDADES COMUMES A LOS PROGRAMAS 91,92,93,94,95,96\", \"MINISTERIO DE AMBIENTE Y ESPACIO PUBLICO/MINISTERIO DE AMBIENTE Y ESPACIO PUBLICO/SUBSECRETARIA DE ADMINISTRACION/ACTIVIDADES COMUNES A LOS PROG 21 Y 22/ACTIVIDADES COMUNES A LOS PROG 21 Y 22\", \"MINISTERIO DE AMBIENTE Y ESPACIO PUBLICO/MINISTERIO DE AMBIENTE Y ESPACIO PUBLICO/SUBSECRETARIA DE ADMINISTRACION GENERAL Y DE USO DEL ESPACIO PUBLICO/ACTIVIDADES COMUNES A LOS PROG 21,22,23,75,76 Y 77/ACTIVIDADES COMUNES A LOS PROG 21,22,23,75,76 Y 77\", \"MINISTERIO DE AMBIENTE Y ESPACIO PUBLICO/AGENCIA AMBIENTAL/AGENCIA AMBIENTAL/ACTIVIDADES COMUNES A LOS PROG. 91 AL 100 Y 102/ACTIVIDADES COMUNES A LOS PROG. 91 AL 100 Y 102\", \"MINISTERIO DE AMBIENTE Y ESPACIO PUBLICO/AGENCIA AMBIENTAL/AGENCIA AMBIENTAL/ACTIVIDADES COMUNES A LOS PROG. 91 AL 103/ACTIVIDADES COMUNES A LOS PROG. 91 AL 103\", \"MINISTERIO DE AMBIENTE Y ESPACIO PUBLICO/AGENCIA AMBIENTAL/AGENCIA AMBIENTAL/ACTIVIDADES COMUNES A LOS PROG. 91,92,93, 94,95 Y 96/ACTIVIDADES COMUNES A LOS PROG. 91,92,93, 94,95 Y 96\", \"MINISTERIO DE AMBIENTE Y ESPACIO PUBLICO/AGENCIA AMBIENTAL/AGENCIA AMBIENTAL/ACTIVIDADES COMUNES A LOS PROG. 91,92,93, 94,95, 96 Y 100/ACTIVIDADES COMUNES A LOS PROG. 91,92,93, 94,95, 96 Y 100\", \"MINISTERIO DE AMBIENTE Y ESPACIO PUBLICO/AGENCIA AMBIENTAL/AGENCIA AMBIENTAL/ACTIVIDADES COMUNES A LOS PROGRAMAS 91,92 Y 93/ACTIVIDADES COMUNES A LOS PROGRAMAS 91,92 Y 93\", \"MINISTERIO DE AMBIENTE Y ESPACIO PUBLICO/MINISTERIO DE AMBIENTE Y ESPACIO PUBLICO/SUBSECRETARIA DE HIGIENE URBANA/ACTIVIDADES COMUNES A LOS PROGRAMAS: 11-52-53-56-57-58-59/ACTIVIDADES COMUNES A LOS PROGRAMAS: 11-52-53-56-57-58-59\", \"MINISTERIO DE AMBIENTE Y ESPACIO PUBLICO/MINISTERIO DE AMBIENTE Y ESPACIO PUBLICO/SUBSECRETARIA DE HIGIENE URBANA/ACTIVIDADES COMUNES A LOS PROGRAMAS: 11-52-53-56-57-58-59 Y 85/ACTIVIDADES COMUNES A LOS PROGRAMAS: 11-52-53-56-57-58-59 Y 85\", \"MINISTERIO DE AMBIENTE Y ESPACIO PUBLICO/MINISTERIO DE AMBIENTE Y ESPACIO PUBLICO/SUBSECRETARIA DE HIGIENE URBANA/ACTIVIDADES COMUNES A LOS PROGRAMAS: 11-52-53-56-57-58-59-79-85/ACTIVIDADES COMUNES A LOS PROGRAMAS: 11-52-53-56-57-58-59-79-85\", \"MINISTERIO DE AMBIENTE Y ESPACIO PUBLICO/MINISTERIO DE AMBIENTE Y ESPACIO PUBLICO/SUBSECRETARIA DE HIGIENE URBANA/ACTIVIDADES COMUNES A LOS PROGRAMAS: 11-52-53-56-57-85/ACTIVIDADES COMUNES A LOS PROGRAMAS: 11-52-53-56-57-85\", \"MINISTERIO DE AMBIENTE Y ESPACIO PUBLICO/MINISTERIO DE AMBIENTE Y ESPACIO PUBLICO/SUBSECRETARIA DE HIGIENE URBANA/ACTIVIDADES COMUNES A LOS PROGRAMAS: 11-52-53-57-58-59/ACTIVIDADES COMUNES A LOS PROGRAMAS: 11-52-53-57-58-59\", \"MINISTERIO DE AMBIENTE Y ESPACIO PUBLICO/MINISTERIO DE AMBIENTE Y ESPACIO PUBLICO/SUBSECRETARIA DE HIGIENE URBANA/ACTIVIDADES COMUNES A LOS PROGRAMAS: 11-52-53-57-58-59 Y 85/ACTIVIDADES COMUNES A LOS PROGRAMAS: 11-52-53-57-58-59 Y 85\", \"MINISTERIO DE AMBIENTE Y ESPACIO PUBLICO/MINISTERIO DE AMBIENTE Y ESPACIO PUBLICO/SUBSECRETARIA DE HIGIENE URBANA/ACTIVIDADES COMUNES A LOS PROGRAMAS: 52.53.56.57 Y 85/ACTIVIDADES COMUNES A LOS PROGRAMAS: 52.53.56.57 Y 85\", \"MINISTERIO DE AMBIENTE Y ESPACIO PUBLICO/AGENCIA AMBIENTAL/AGENCIA AMBIENTAL/ACTIVIDADES COMUMES A LOS PROGRAMAS 91,92,93,94,95,96/AMPLIACION CIFA PARA SU TRANSFORMACION EN CENTRO METROPOLITANO VERDE\", \"MINISTERIO DE AMBIENTE Y ESPACIO PUBLICO/AGENCIA AMBIENTAL/AGENCIA AMBIENTAL/ACTIVIDADES COMUNES A LOS PROGRAMAS 91,92 Y 93/ANALISIS DE SUSTANCIAS CONTAMINANTES EN AGUA, AIRE Y SUELO\", \"MINISTERIO DE AMBIENTE Y ESPACIO PUBLICO/MINISTERIO DE AMBIENTE Y ESPACIO PUBLICO/DIRECCION GENERAL DE ARBOLADO/ARBOLADO URBANO/ARBOLADO URBANO\", \"MINISTERIO DE AMBIENTE Y ESPACIO PUBLICO/MINISTERIO DE AMBIENTE Y ESPACIO PUBLICO/DIRECCION GENERAL TECNICO ADMINISTRATIVA Y LEGAL/ASUNTOS LEGALES Y PRESUPUESTO/ASUNTOS LEGALES Y PRESUPUESTO\", \"MINISTERIO DE AMBIENTE Y ESPACIO PUBLICO/AGENCIA AMBIENTAL/DIRECCION GENERAL DE EVALUACION TECNICA/BUENOS AIRES PRODUCE MAS LIMPIO (P+L)/BUENOS AIRES PRODUCE MAS LIMPIO (P+L)\", \"MINISTERIO DE AMBIENTE Y ESPACIO PUBLICO/AGENCIA AMBIENTAL/DIRECCION GENERAL ESTRATEGIAS AMBIENTALES/BUENOS AIRES PRODUCE MAS LIMPIO (P+L)/BUENOS AIRES PRODUCE MAS LIMPIO (P+L)\", \"MINISTERIO DE AMBIENTE Y ESPACIO PUBLICO/AGENCIA AMBIENTAL/DIRECCION GENERAL POLITICA Y ESTRATEGIA AMBIENTAL/BUENOS AIRES PRODUCE MAS LIMPIO (P+L)/BUENOS AIRES PRODUCE MAS LIMPIO (P+L)\", \"MINISTERIO DE AMBIENTE Y ESPACIO PUBLICO/AGENCIA AMBIENTAL/AGENCIA AMBIENTAL/ACTIV. COMUNES A LOS PROG. 91,92 ,93 Y 94/CENTRO DE INFORMACION Y FORMACION AMBIENTAL\", \"MINISTERIO DE AMBIENTE Y ESPACIO PUBLICO/AGENCIA AMBIENTAL/AGENCIA AMBIENTAL/CENTROS DE ATENCION VETERINARIA/CENTROS DE ATENCION VETERINARIA\", \"MINISTERIO DE AMBIENTE Y ESPACIO PUBLICO/AGENCIA AMBIENTAL/DIRECCION GENERAL ESTRATEGIAS AMBIENTALES/CENTROS DE ATENCION VETERINARIA/CENTROS DE ATENCION VETERINARIA\", \"MINISTERIO DE AMBIENTE Y ESPACIO PUBLICO/MINISTERIO DE AMBIENTE Y ESPACIO PUBLICO/DIRECCION GENERAL DE RECICLADO/RECICLADO DE RESIDUOS URBANOS/CENTROS VERDES\", \"MINISTERIO DE AMBIENTE Y ESPACIO PUBLICO/AGENCIA AMBIENTAL/AGENCIA AMBIENTAL/COMPENSACION AMBIENTAL/COMPENSACION AMBIENTAL\", \"MINISTERIO DE AMBIENTE Y ESPACIO PUBLICO/AGENCIA AMBIENTAL/DIRECCION GENERAL DE EVALUACION AMBIENTAL/COMPENSACION AMBIENTAL/COMPENSACION AMBIENTAL\", \"JEFATURA DE GOBIERNO/SECRETARIA DE AMBIENTE/UPE ECOPARQUE/CONSERVACION DE LA BIODIVERSIDAD/CONSERVACION DE LA BIODIVERSIDAD\", \"MINISTERIO DE AMBIENTE Y ESPACIO PUBLICO/MINISTERIO DE AMBIENTE Y ESPACIO PUBLICO/UPE ECOPARQUE INTERACTIVO DE LA CABA/CONSERVACION DE LA BIODIVERSIDAD/CONSERVACION DE LA BIODIVERSIDAD\", \"MINISTERIO DE AMBIENTE Y ESPACIO PUBLICO/MINISTERIO DE AMBIENTE Y ESPACIO PUBLICO/DIRECCION GENERAL DE LIMPIEZA/SERVICIOS DE HIGIENE URBANA/CONTENERIZACION\", \"MINISTERIO DE AMBIENTE Y ESPACIO PUBLICO/AGENCIA AMBIENTAL/DIRECCION GENERAL DE CONTROL/CONTROL AMBIENTAL/CONTROL AMBIENTAL\", \"JEFATURA DE GOBIERNO/AGENCIA DE PROTECCION AMBIENTAL/DIRECCION GENERAL DE CONTROL/CONTROL AMBIENTAL/CONTROL AMBIENTAL\", \"MINISTERIO DE AMBIENTE Y ESPACIO PUBLICO/MINISTERIO DE AMBIENTE Y ESPACIO PUBLICO/DIRECCION GENERAL CONTROL DE GESTION/CONTROL DE GESTION/CONTROL DE GESTION\", \"MINISTERIO DE AMBIENTE Y ESPACIO PUBLICO/MINISTERIO DE AMBIENTE Y ESPACIO PUBLICO/DIRECCION GENERAL CONTROL DE GESTION/CONTROL DE GESTION Y RECLAMOS/CONTROL DE GESTION Y RECLAMOS\", \"MINISTERIO DE AMBIENTE Y ESPACIO PUBLICO/MINISTERIO DE AMBIENTE Y ESPACIO PUBLICO/DIRECCION GENERAL DE LIMPIEZA/CONTROL DE HIGIENE EN VIA PUBLICA E INMUEBLES/CONTROL DE HIGIENE EN VIA PUBLICA E INMUEBLES\", \"MINISTERIO DE AMBIENTE Y ESPACIO PUBLICO/MINISTERIO DE AMBIENTE Y ESPACIO PUBLICO/DIRECCION GENERAL INSPECCION DE HIGIENE URBANA/CONTROL DE HIGIENE EN VIA PUBLICA E INMUEBLES/CONTROL DE HIGIENE EN VIA PUBLICA E INMUEBLES\", \"MINISTERIO DE AMBIENTE Y ESPACIO PUBLICO/MINISTERIO DE AMBIENTE Y ESPACIO PUBLICO/SUBSECRETARIA DE HIGIENE URBANA/CONTROL DE HIGIENE EN VIA PUBLICA E INMUEBLES/CONTROL DE HIGIENE EN VIA PUBLICA E INMUEBLES\", \"MINISTERIO DE AMBIENTE Y ESPACIO PUBLICO/MINISTERIO DE AMBIENTE Y ESPACIO PUBLICO/DIRECCION GENERAL DE LIMPIEZA/CONTROL DE PLAGAS/CONTROL DE PLAGAS\", \"MINISTERIO DE AMBIENTE Y ESPACIO PUBLICO/MINISTERIO DE AMBIENTE Y ESPACIO PUBLICO/DIRECCION GENERAL INSPECCION DE HIGIENE URBANA/CONTROL DE PLAGAS/CONTROL DE PLAGAS\", \"MINISTERIO DE AMBIENTE Y ESPACIO PUBLICO/AGENCIA AMBIENTAL/DIRECCION GENERAL ESTRATEGIAS AMBIENTALES/ESTRATEGIAS AMBIENTALES/CUBIERTA VERDE\", \"MINISTERIO DE AMBIENTE Y ESPACIO PUBLICO/AGENCIA AMBIENTAL/DIRECCION GENERAL ESTRATEGIAS AMBIENTALES/ESTRATEGIAS AMBIENTALES/CUBIERTA VERDE EN LA CABA\", \"MINISTERIO DE AMBIENTE Y ESPACIO PUBLICO/MINISTERIO DE AMBIENTE Y ESPACIO PUBLICO/DIRECCION GENERAL DE ARBOLADO/ARBOLADO URBANO/CUIDADO Y PRESERVACION DEL ARBOLADO URBANO\", \"MINISTERIO DE AMBIENTE Y ESPACIO PUBLICO/MINISTERIO DE AMBIENTE Y ESPACIO PUBLICO/DIRECCION GENERAL DE ESPACIOS VERDES/CUIDADO Y PUESTA EN VALOR DE ESPACIOS VERDES/CUIDADO Y PRESERVACION DEL ARBOLADO URBANO\", \"MINISTERIO DE AMBIENTE Y ESPACIO PUBLICO/MINISTERIO DE AMBIENTE Y ESPACIO PUBLICO/DIRECCION GENERAL DE ESPACIOS VERDES/CUIDADO Y PUESTA EN VALOR DE ESPACIOS VERDES/CUIDADO Y PUESTA EN VALOR DE ESPACIOS VERDES\", \"MINISTERIO DE AMBIENTE Y ESPACIO PUBLICO/MINISTERIO DE AMBIENTE Y ESPACIO PUBLICO/DIRECCION GENERAL DE ESPACIOS VERDES/CUIDADO Y PUESTA EN VALOR DE ESPACIOS VERDES/CUIDADO Y PUESTA EN VALOR DE GRANDES PARQUES\", \"MINISTERIO DE AMBIENTE Y ESPACIO PUBLICO/MINISTERIO DE AMBIENTE Y ESPACIO PUBLICO/DIRECCION GENERAL DE ESPACIOS VERDES/CUIDADO Y PUESTA EN VALOR DE ESPACIOS VERDES/CUIDADO Y PUESTA EN VALOR DEL PATRIMONIO CULTURAL Y NATURAL DE LOS ESPACIOS VERDES\", \"MINISTERIO DE AMBIENTE Y ESPACIO PUBLICO/AGENCIA AMBIENTAL/DIRECCION GENERAL ESTRATEGIAS AMBIENTALES/ESTRATEGIAS AMBIENTALES/DESARROLLO DE LA RED DE AIRE Y RUIDO EN LA CIUDAD DE BUENOS AIRES.\", \"MINISTERIO DE AMBIENTE Y ESPACIO PUBLICO/AGENCIA AMBIENTAL/DIRECCION GENERAL ESTRATEGIAS AMBIENTALES/PLANEAMIENTO DE LA GESTION AMBIENTAL SOSTENIBLE/DESARROLLO DE LA RED DE AIRE Y RUIDO EN LA CIUDAD DE BUENOS AIRES.\", \"MINISTERIO DE AMBIENTE Y ESPACIO PUBLICO/MINISTERIO DE AMBIENTE Y ESPACIO PUBLICO/DIRECCION GENERAL DE LIMPIEZA/SERVICIOS DE HIGIENE URBANA/DISPOSICION FINAL RESIDUOS SOLIDOS URBANOS\", \"MINISTERIO DE AMBIENTE Y ESPACIO PUBLICO/AGENCIA AMBIENTAL/AGENCIA AMBIENTAL/REDES AMBIENTALES/ESTACIONES MONITOREO CALIDAD DEL AGUA EN RED DE HIDROMETEREOLOGIA DE CABA\", \"MINISTERIO DE AMBIENTE Y ESPACIO PUBLICO/AGENCIA AMBIENTAL/DIRECCION GENERAL ESTRATEGIAS AMBIENTALES/ESTRATEGIAS AMBIENTALES/ESTRATEGIAS AMBIENTALES\", \"MINISTERIO DE AMBIENTE Y ESPACIO PUBLICO/AGENCIA AMBIENTAL/DIRECCION GENERAL POLITICA Y ESTRATEGIA AMBIENTAL/ESTRATEGIAS AMBIENTALES/ESTRATEGIAS AMBIENTALES\", \"MINISTERIO DE AMBIENTE Y ESPACIO PUBLICO/AGENCIA AMBIENTAL/DIRECCION GENERAL DE EVALUACION AMBIENTAL/EVALUACION TECNICA/EVALUACION TECNICA\", \"MINISTERIO DE AMBIENTE Y ESPACIO PUBLICO/AGENCIA AMBIENTAL/DIRECCION GENERAL DE EVALUACION TECNICA/EVALUACION TECNICA/EVALUACION TECNICA\", \"JEFATURA DE GOBIERNO/AGENCIA DE PROTECCION AMBIENTAL/DIRECCION GENERAL EVALUACION AMBIAENTAL/EVALUACION TECNICA/EVALUACION TECNICA\", \"MINISTERIO DE AMBIENTE Y ESPACIO PUBLICO/AGENCIA AMBIENTAL/AGENCIA AMBIENTAL/GESTION AMBIENTAL/GESTION AMBIENTAL\", \"MINISTERIO DE AMBIENTE Y ESPACIO PUBLICO/AGENCIA AMBIENTAL/DIRECCION GENERAL ESTRATEGIAS AMBIENTALES/ESTRATEGIAS AMBIENTALES/HOGAR TRANSITORIO DE MASCOTAS\", \"MINISTERIO DE AMBIENTE Y ESPACIO PUBLICO/MINISTERIO DE AMBIENTE Y ESPACIO PUBLICO/DIRECCION GENERAL DE ARBOLADO/ARBOLADO URBANO/INTERVENCIONES SOBRE EL ARBOLADO\", \"MINISTERIO DE AMBIENTE Y ESPACIO PUBLICO/AGENCIA AMBIENTAL/AGENCIA AMBIENTAL/INTERVENCIONES VETERINARIAS/INTERVENCIONES VETERINARIAS\", \"JEFATURA DE GOBIERNO/AGENCIA DE PROTECCION AMBIENTAL/AGENCIA AMBIENTAL/INTERVENCIONES VETERINARIAS/INTERVENCIONES VETERINARIAS\", \"MINISTERIO DE AMBIENTE Y ESPACIO PUBLICO/MINISTERIO DE AMBIENTE Y ESPACIO PUBLICO/DIRECCION GENERAL DE ESPACIOS VERDES/CUIDADO Y PUESTA EN VALOR DE ESPACIOS VERDES/JARDIN BOTANICO CARLOS THAYS\", \"MINISTERIO DE AMBIENTE Y ESPACIO PUBLICO/AGENCIA AMBIENTAL/DIRECCION GENERAL DE CONTROL/LABORATORIO DE ANALISIS Y CALIDAD AMBIENTAL/LABORATORIO DE ANALISIS Y CALIDAD AMBIENTAL\", \"JEFATURA DE GOBIERNO/AGENCIA DE PROTECCION AMBIENTAL/DIRECCION GENERAL DE CONTROL/LABORATORIO DE ANALISIS Y CALIDAD AMBIENTAL/LABORATORIO DE ANALISIS Y CALIDAD AMBIENTAL\", \"MINISTERIO DE AMBIENTE Y ESPACIO PUBLICO/AGENCIA AMBIENTAL/DIRECCION GENERAL DE EVALUACION TECNICA/LABORATORIO DE ANALISIS Y CALIDAD AMBIENTAL/LABORATORIO DE ANALISIS Y CALIDAD AMBIENTAL\", \"MINISTERIO DE AMBIENTE Y ESPACIO PUBLICO/MINISTERIO DE AMBIENTE Y ESPACIO PUBLICO/DIRECCION GENERAL DE ESPACIOS VERDES/CUIDADO Y PUESTA EN VALOR DE ESPACIOS VERDES/OBRAS BA ELIGE EV\", \"MINISTERIO DE AMBIENTE Y ESPACIO PUBLICO/AGENCIA AMBIENTAL/AGENCIA AMBIENTAL/COMPENSACION AMBIENTAL/OBRAS CORRECTIVAS DE RECOMPOSICION PREDIOS CONTAMINADOS REQUERIDOS POR IVC\", \"MINISTERIO DE AMBIENTE Y ESPACIO PUBLICO/AGENCIA AMBIENTAL/DIRECCION GENERAL DE EVALUACION TECNICA/COMPENSACION AMBIENTAL/OBRAS CORRECTIVAS DE RECOMPOSICION PREDIOS CONTAMINADOS REQUERIDOS POR IVC\", \"MINISTERIO DE AMBIENTE Y ESPACIO PUBLICO/MINISTERIO DE AMBIENTE Y ESPACIO PUBLICO/DIRECCION GENERAL DE ESPACIOS VERDES/CUIDADO Y PUESTA EN VALOR DE ESPACIOS VERDES/OBRAS DE ESPACIOS VERDES\", \"MINISTERIO DE AMBIENTE Y ESPACIO PUBLICO/MINISTERIO DE AMBIENTE Y ESPACIO PUBLICO/DIRECCION GENERAL DE ESPACIOS VERDES/CUIDADO Y PUESTA EN VALOR DE ESPACIOS VERDES/OBRAS DE ESPACIOS VERDES II\", \"MINISTERIO DE AMBIENTE Y ESPACIO PUBLICO/MINISTERIO DE AMBIENTE Y ESPACIO PUBLICO/DIRECCION GENERAL REGENERACION URBANA/REGENERACION URBANA/OBRAS DE REGENERACION URBANA\", \"JEFATURA DE GOBIERNO/SECRETARIA DE AMBIENTE/UPE ECOPARQUE/CONSERVACION DE LA BIODIVERSIDAD/OBRAS ECOPARQUE MAYEP\", \"MINISTERIO DE AMBIENTE Y ESPACIO PUBLICO/MINISTERIO DE AMBIENTE Y ESPACIO PUBLICO/UPE ECOPARQUE INTERACTIVO DE LA CABA/CONSERVACION DE LA BIODIVERSIDAD/OBRAS ECOPARQUE MAYEP\", \"MINISTERIO DE AMBIENTE Y ESPACIO PUBLICO/MINISTERIO DE AMBIENTE Y ESPACIO PUBLICO/DIRECCION GENERAL OBRAS REGENERACION URBANA/OBRAS DE REGENERACIONURBANA/PARQUES URBANOS\", \"MINISTERIO DE AMBIENTE Y ESPACIO PUBLICO/AGENCIA AMBIENTAL/DIRECCION GENERAL ESTRATEGIAS AMBIENTALES/PLANEAMIENTO DE LA GESTION AMBIENTAL SOSTENIBLE/PLANEAMIENTO DE LA GESTION AMBIENTAL SOSTENIBLE\", \"MINISTERIO DE AMBIENTE Y ESPACIO PUBLICO/MINISTERIO DE AMBIENTE Y ESPACIO PUBLICO/DIRECCION GENERAL PLANIFICACION Y PRESUPUESTO/PLANIFICACION Y PRESUPUESTO/PLANIFICACION Y PRESUPUESTO\", \"JEFATURA DE GOBIERNO/AGENCIA DE PROTECCION AMBIENTAL/DIRECCION GENERAL POLITICA Y ESTRATEGIA AMBIENTAL/POLITICA Y ESTRATEGIA AMBIENTAL/POLITICA Y ESTRATEGIA AMBIENTAL\", \"MINISTERIO DE AMBIENTE Y ESPACIO PUBLICO/AGENCIA AMBIENTAL/DIRECCION GENERAL DE EVALUACION TECNICA/PREVENC.AMB.EVALUAC.TECNICA Y CERTIFICADOS AMBIENTALES/PREVENC.AMB.EVALUAC.TECNICA Y CERTIFICADOS AMBIENTALES\", \"MINISTERIO DE AMBIENTE Y ESPACIO PUBLICO/AGENCIA AMBIENTAL/DIRECCION GENERAL DE EVALUACION TECNICA/PREVENCION AMBIENTAL EVALUACION TECNICA Y REGISTROS AMBIENTALES/PREVENCION AMBIENTAL EVALUACION TECNICA Y REGISTROS AMBIENTALES\", \"MINISTERIO DE AMBIENTE Y ESPACIO PUBLICO/AGENCIA AMBIENTAL/DIRECCION GENERAL POLITICA Y ESTRATEGIA AMBIENTAL/PROGRAMA DE CAMBIO CLIMATICO E INFORMACION AMBIENTAL/PROGRAMA DE CAMBIO CLIMATICO E INFORMACION AMBIENTAL\", \"JEFATURA DE GOBIERNO/AGENCIA DE PROTECCION AMBIENTAL/DIRECCION GENERAL POLITICA Y ESTRATEGIA AMBIENTAL/PROGRAMA DE CAMBIO CLIMATICO E INFORMACION AMBIENTAL/PROGRAMA DE CAMBIO CLIMATICO E INFORMACION AMBIENTAL\", \"JEFATURA DE GOBIERNO/AGENCIA DE PROTECCION AMBIENTAL/DIRECCION GENERAL POLITICA Y ESTRATEGIA AMBIENTAL/PROGRAMA DE DESARROLLO SUSTENTABLE/PROGRAMA DE DESARROLLO SUSTENTABLE\", \"MINISTERIO DE AMBIENTE Y ESPACIO PUBLICO/AGENCIA AMBIENTAL/DIRECCION GENERAL POLITICA Y ESTRATEGIA AMBIENTAL/PROGRAMA DE GESTION ENERGETICA/PROGRAMA DE GESTION ENERGETICA\", \"JEFATURA DE GOBIERNO/AGENCIA DE PROTECCION AMBIENTAL/DIRECCION GENERAL POLITICA Y ESTRATEGIA AMBIENTAL/PROGRAMA DE GESTION ENERGETICA/PROGRAMA DE GESTION ENERGETICA\", \"MINISTERIO DE AMBIENTE Y ESPACIO PUBLICO/AGENCIA AMBIENTAL/DIRECCION GENERAL POLITICA Y ESTRATEGIA AMBIENTAL/PROGRAMA DE RESIDUOS DE MANEJO ESPECIAL/PROGRAMA DE RESIDUOS DE MANEJO ESPECIAL\", \"JEFATURA DE GOBIERNO/AGENCIA DE PROTECCION AMBIENTAL/DIRECCION GENERAL POLITICA Y ESTRATEGIA AMBIENTAL/PROGRAMA DE RESIDUOS SUJETOS A MANEJO ESPECIAL/PROGRAMA DE RESIDUOS SUJETOS A MANEJO ESPECIAL\", \"MINISTERIO DE AMBIENTE Y ESPACIO PUBLICO/AGENCIA AMBIENTAL/AGENCIA AMBIENTAL/PROTECCION Y SANIDAD ANIMAL/PROTECCION Y SANIDAD ANIMAL\", \"MINISTERIO DE AMBIENTE Y ESPACIO PUBLICO/AGENCIA AMBIENTAL/DIRECCION GENERAL ESTRATEGIAS AMBIENTALES/PROTECCION Y SANIDAD ANIMAL/PROTECCION Y SANIDAD ANIMAL\", \"MINISTERIO DE AMBIENTE Y ESPACIO PUBLICO/AGENCIA AMBIENTAL/AGENCIA AMBIENTAL/GESTION AMBIENTAL/PROYECTOS ACUMAR\", \"MINISTERIO DE AMBIENTE Y ESPACIO PUBLICO/MINISTERIO DE AMBIENTE Y ESPACIO PUBLICO/DIRECCION GENERAL INSPECCION DE HIGIENE URBANA/CONTROL DE HIGIENE EN VIA PUBLICA E INMUEBLES/PUESTA EN VALOR DE EDIFICIOS\", \"MINISTERIO DE AMBIENTE Y ESPACIO PUBLICO/AGENCIA AMBIENTAL/AGENCIA AMBIENTAL/ACTIV. COMUNES A LOS PROG. 91,92 ,93 Y 94/PUESTA EN VALOR DE LAS OFICINAS DE LA AGENCIA DE PROTECCION AMBIENTAL\", \"MINISTERIO DE AMBIENTE Y ESPACIO PUBLICO/AGENCIA AMBIENTAL/DIRECCION GENERAL ESTRATEGIAS AMBIENTALES/ESTRATEGIAS AMBIENTALES/PUESTA EN VALOR DEPOSITO RAES\", \"MINISTERIO DE AMBIENTE Y ESPACIO PUBLICO/MINISTERIO DE AMBIENTE Y ESPACIO PUBLICO/DIRECCION GENERAL DE ESPACIOS VERDES/CUIDADO Y PUESTA EN VALOR DE ESPACIOS VERDES/PUESTA EN VALOR EDIFICIOS\", \"MINISTERIO DE AMBIENTE Y ESPACIO PUBLICO/MINISTERIO DE AMBIENTE Y ESPACIO PUBLICO/DIRECCION GENERAL DE RECICLADO/RECICLADO DE RESIDUOS URBANOS/RECICLADO DE RESIDUOS URBANOS\", \"MINISTERIO DE AMBIENTE Y ESPACIO PUBLICO/ENTE DE HIGIENE URBANA/ENTE DE HIGIENE URBANA/RECOLECCION, BARRIDO E HIGIENE DE LA CIUDAD DE BUENOS AIRES/RECOLECCION, BARRIDO E HIGIENE DE LA CIUDAD DE BUENOS AIRES\", \"MINISTERIO DE AMBIENTE Y ESPACIO PUBLICO/AGENCIA AMBIENTAL/DIRECCION GENERAL ESTRATEGIAS AMBIENTALES/ESTRATEGIAS AMBIENTALES/RED DE MONITOREO AMBIENTAL\", \"MINISTERIO DE AMBIENTE Y ESPACIO PUBLICO/AGENCIA AMBIENTAL/DIRECCION GENERAL ESTRATEGIAS AMBIENTALES/ESTRATEGIAS AMBIENTALES/RED DE MONITOREO DE LA CALIDAD DEL AGUA SUPERFICIAL DE LA CABA.\", \"MINISTERIO DE AMBIENTE Y ESPACIO PUBLICO/AGENCIA AMBIENTAL/DIRECCION GENERAL ESTRATEGIAS AMBIENTALES/PLANEAMIENTO DE LA GESTION AMBIENTAL SOSTENIBLE/RED DE MONITOREO DE LA CALIDAD DEL AGUA SUPERFICIAL DE LA CABA.\", \"MINISTERIO DE AMBIENTE Y ESPACIO PUBLICO/AGENCIA AMBIENTAL/AGENCIA AMBIENTAL/REDES AMBIENTALES/REDES AMBIENTALES\", \"MINISTERIO DE AMBIENTE Y ESPACIO PUBLICO/AGENCIA AMBIENTAL/DIRECCION GENERAL DE CONTROL/REDES AMBIENTALES/REDES AMBIENTALES\", \"JEFATURA DE GOBIERNO/AGENCIA DE PROTECCION AMBIENTAL/DIRECCION GENERAL DE CONTROL/REDES AMBIENTALES/REDES AMBIENTALES\", \"MINISTERIO DE AMBIENTE Y ESPACIO PUBLICO/AGENCIA AMBIENTAL/AGENCIA AMBIENTAL/ACTIV. COMUNES A LOS PROG. 91,92 ,93 Y 94/REMEDIACION AMBIENTAL GCBA\", \"MINISTERIO DE AMBIENTE Y ESPACIO PUBLICO/AGENCIA AMBIENTAL/AGENCIA AMBIENTAL/COMPENSACION AMBIENTAL/REMEDIACION Y MITIGACION AMBIENTAL\", \"MINISTERIO DE AMBIENTE Y ESPACIO PUBLICO/MINISTERIO DE AMBIENTE Y ESPACIO PUBLICO/MINISTERIO AMBIENTE Y ESPACIO PUBLICO/MANTENIMIENTO ZONA PUERTO MADERO/REPARACION Y MEJORAS EN BARRIOS DE BUENOS AIRES\", \"MINISTERIO DE AMBIENTE Y ESPACIO PUBLICO/AGENCIA AMBIENTAL/AGENCIA AMBIENTAL/ACTIV. COMUNES A LOS PROG. 91,92 ,93 Y 94/RESTAURACION Y MITIGACION GCBA\", \"MINISTERIO DE AMBIENTE Y ESPACIO PUBLICO/AGENCIA AMBIENTAL/AGENCIA AMBIENTAL/ACTIV. COMUNES A LOS PROG. 91,92 ,93 Y 94/SANEAMIENTO Y REMEDIACION DE SUELOS CONTAMINADOS ACHA 2102/04 Y MENDOZA\", \"MINISTERIO DE AMBIENTE Y ESPACIO PUBLICO/AGENCIA AMBIENTAL/AGENCIA AMBIENTAL/SANIDAD Y TENENCIA RESPONSABLE DE MASCOTAS/SANIDAD Y TENENCIA RESPONSABLE DE MASCOTAS\", \"JEFATURA DE GOBIERNO/AGENCIA DE PROTECCION AMBIENTAL/AGENCIA AMBIENTAL/SANIDAD Y TENENCIA RESPONSABLE DE MASCOTAS/SANIDAD Y TENENCIA RESPONSABLE DE MASCOTAS\", \"MINISTERIO DE AMBIENTE Y ESPACIO PUBLICO/MINISTERIO DE AMBIENTE Y ESPACIO PUBLICO/DIRECCION GENERAL DE LIMPIEZA/SERVICIOS DE HIGIENE URBANA/SERVICIO DE LIMPIEZA DE ARROYOS\", \"MINISTERIO DE AMBIENTE Y ESPACIO PUBLICO/MINISTERIO DE AMBIENTE Y ESPACIO PUBLICO/MINISTERIO AMBIENTE Y ESPACIO PUBLICO/SERVICIOS DE ADMINISTRACION/SERVICIOS DE ADMINISTRACION\", \"MINISTERIO DE AMBIENTE Y ESPACIO PUBLICO/AGENCIA AMBIENTAL/DIRECCION GENERAL DE EVALUACION TECNICA/COMPENSACION AMBIENTAL/SITIOS CONTAMINADOS\", \"JEFATURA DE GOBIERNO/AGENCIA DE PROTECCION AMBIENTAL/DIRECCION GENERAL POLITICA Y ESTRATEGIA AMBIENTAL/POLITICA Y ESTRATEGIA AMBIENTAL/SITIOS CONTAMINADOS\", \"MINISTERIO DE AMBIENTE Y ESPACIO PUBLICO/MINISTERIO DE AMBIENTE Y ESPACIO PUBLICO/DIRECCION GENERAL TECNICO ADMINISTRATIVA Y LEGAL/TECNICA ADMINISTRATIVA Y LEGAL/TECNICA ADMINISTRATIVA Y LEGAL\", \"MINISTERIO DE AMBIENTE Y ESPACIO PUBLICO/MINISTERIO DE AMBIENTE Y ESPACIO PUBLICO/DIRECCION GENERAL TRATAMIENTO Y NUEVAS TECNOLOGIAS/TRATAMIENTO DE RESIDUOS SOLIDOS URBANOS/TRATAMIENTO DE RESIDUOS ORGANICOS\", \"MINISTERIO DE AMBIENTE Y ESPACIO PUBLICO/MINISTERIO DE AMBIENTE Y ESPACIO PUBLICO/DIRECCION GENERAL DE ESPACIOS VERDES/CUIDADO Y PUESTA EN VALOR DE ESPACIOS VERDES/VALORIZACION DE LOS ESPACIOS VERDES\", \"MINISTERIO DE AMBIENTE Y ESPACIO PUBLICO/MINISTERIO DE AMBIENTE Y ESPACIO PUBLICO/DIRECCION GENERAL DE ESPACIOS VERDES/CUIDADO Y PUESTA EN VALOR DE ESPACIOS VERDES/VALORIZACION DE LOS ESPACIOS VERDES DE LA CIUDAD\", \"MINISTERIO DE AMBIENTE Y ESPACIO PUBLICO/AGENCIA AMBIENTAL/DIRECCION GENERAL DE CONTROL/ACCIONES PARA LA RESTAURACION ECOLOGICA\", \"JEFATURA DE GOBIERNO/AGENCIA DE PROTECCION AMBIENTAL/DIRECCION GENERAL DE CONTROL/ACCIONES PARA LA RESTAURACION ECOLOGICA\", \"JEFATURA DE GOBIERNO/AGENCIA DE PROTECCION AMBIENTAL/AGENCIA AMBIENTAL/ACT. COMUNES A PROG. 91 A 103\", \"MINISTERIO DE AMBIENTE Y ESPACIO PUBLICO/AGENCIA AMBIENTAL/AGENCIA AMBIENTAL/ACTIV. COMUNES A LOS PROG. 91,92 ,93 Y 94\", \"MINISTERIO DE AMBIENTE Y ESPACIO PUBLICO/AGENCIA AMBIENTAL/AGENCIA AMBIENTAL/ACTIV. COMUNES A LOS PROG. 91,92 Y93\", \"MINISTERIO DE AMBIENTE Y ESPACIO PUBLICO/MINISTERIO DE AMBIENTE Y ESPACIO PUBLICO/MINISTERIO AMBIENTE Y ESPACIO PUBLICO/ACTIVIDADES CENTRALES AMBIENTE Y ESPACIO PUBLICO\", \"MINISTERIO DE AMBIENTE Y ESPACIO PUBLICO/AGENCIA AMBIENTAL/AGENCIA AMBIENTAL/ACTIVIDADES COMUMES A LOS PROGRAMAS 91,92,93,94,95,96\", \"MINISTERIO DE AMBIENTE Y ESPACIO PUBLICO/MINISTERIO DE AMBIENTE Y ESPACIO PUBLICO/SUBSECRETARIA DE ADMINISTRACION/ACTIVIDADES COMUNES A LOS PROG 21 Y 22\", \"MINISTERIO DE AMBIENTE Y ESPACIO PUBLICO/MINISTERIO DE AMBIENTE Y ESPACIO PUBLICO/SUBSECRETARIA DE ADMINISTRACION GENERAL Y DE USO DEL ESPACIO PUBLICO/ACTIVIDADES COMUNES A LOS PROG 21,22,23,75,76 Y 77\", \"MINISTERIO DE AMBIENTE Y ESPACIO PUBLICO/AGENCIA AMBIENTAL/AGENCIA AMBIENTAL/ACTIVIDADES COMUNES A LOS PROG. 91 AL 100 Y 102\", \"MINISTERIO DE AMBIENTE Y ESPACIO PUBLICO/AGENCIA AMBIENTAL/AGENCIA AMBIENTAL/ACTIVIDADES COMUNES A LOS PROG. 91 AL 103\", \"MINISTERIO DE AMBIENTE Y ESPACIO PUBLICO/AGENCIA AMBIENTAL/AGENCIA AMBIENTAL/ACTIVIDADES COMUNES A LOS PROG. 91,92,93, 94,95 Y 96\", \"MINISTERIO DE AMBIENTE Y ESPACIO PUBLICO/AGENCIA AMBIENTAL/AGENCIA AMBIENTAL/ACTIVIDADES COMUNES A LOS PROG. 91,92,93, 94,95, 96 Y 100\", \"MINISTERIO DE AMBIENTE Y ESPACIO PUBLICO/AGENCIA AMBIENTAL/AGENCIA AMBIENTAL/ACTIVIDADES COMUNES A LOS PROGRAMAS 91,92 Y 93\", \"MINISTERIO DE AMBIENTE Y ESPACIO PUBLICO/MINISTERIO DE AMBIENTE Y ESPACIO PUBLICO/SUBSECRETARIA DE HIGIENE URBANA/ACTIVIDADES COMUNES A LOS PROGRAMAS: 11-52-53-56-57-58-59\", \"MINISTERIO DE AMBIENTE Y ESPACIO PUBLICO/MINISTERIO DE AMBIENTE Y ESPACIO PUBLICO/SUBSECRETARIA DE HIGIENE URBANA/ACTIVIDADES COMUNES A LOS PROGRAMAS: 11-52-53-56-57-58-59 Y 85\", \"MINISTERIO DE AMBIENTE Y ESPACIO PUBLICO/MINISTERIO DE AMBIENTE Y ESPACIO PUBLICO/SUBSECRETARIA DE HIGIENE URBANA/ACTIVIDADES COMUNES A LOS PROGRAMAS: 11-52-53-56-57-58-59-79-85\", \"MINISTERIO DE AMBIENTE Y ESPACIO PUBLICO/MINISTERIO DE AMBIENTE Y ESPACIO PUBLICO/SUBSECRETARIA DE HIGIENE URBANA/ACTIVIDADES COMUNES A LOS PROGRAMAS: 11-52-53-56-57-85\", \"MINISTERIO DE AMBIENTE Y ESPACIO PUBLICO/MINISTERIO DE AMBIENTE Y ESPACIO PUBLICO/SUBSECRETARIA DE HIGIENE URBANA/ACTIVIDADES COMUNES A LOS PROGRAMAS: 11-52-53-57-58-59\", \"MINISTERIO DE AMBIENTE Y ESPACIO PUBLICO/MINISTERIO DE AMBIENTE Y ESPACIO PUBLICO/SUBSECRETARIA DE HIGIENE URBANA/ACTIVIDADES COMUNES A LOS PROGRAMAS: 11-52-53-57-58-59 Y 85\", \"MINISTERIO DE AMBIENTE Y ESPACIO PUBLICO/MINISTERIO DE AMBIENTE Y ESPACIO PUBLICO/SUBSECRETARIA DE HIGIENE URBANA/ACTIVIDADES COMUNES A LOS PROGRAMAS: 52.53.56.57 Y 85\", \"MINISTERIO DE AMBIENTE Y ESPACIO PUBLICO/MINISTERIO DE AMBIENTE Y ESPACIO PUBLICO/DIRECCION GENERAL DE ARBOLADO/ARBOLADO URBANO\", \"MINISTERIO DE AMBIENTE Y ESPACIO PUBLICO/MINISTERIO DE AMBIENTE Y ESPACIO PUBLICO/DIRECCION GENERAL TECNICO ADMINISTRATIVA Y LEGAL/ASUNTOS LEGALES Y PRESUPUESTO\", \"MINISTERIO DE AMBIENTE Y ESPACIO PUBLICO/AGENCIA AMBIENTAL/DIRECCION GENERAL DE EVALUACION TECNICA/BUENOS AIRES PRODUCE MAS LIMPIO (P+L)\", \"MINISTERIO DE AMBIENTE Y ESPACIO PUBLICO/AGENCIA AMBIENTAL/DIRECCION GENERAL ESTRATEGIAS AMBIENTALES/BUENOS AIRES PRODUCE MAS LIMPIO (P+L)\", \"MINISTERIO DE AMBIENTE Y ESPACIO PUBLICO/AGENCIA AMBIENTAL/DIRECCION GENERAL POLITICA Y ESTRATEGIA AMBIENTAL/BUENOS AIRES PRODUCE MAS LIMPIO (P+L)\", \"MINISTERIO DE AMBIENTE Y ESPACIO PUBLICO/AGENCIA AMBIENTAL/AGENCIA AMBIENTAL/CENTROS DE ATENCION VETERINARIA\", \"MINISTERIO DE AMBIENTE Y ESPACIO PUBLICO/AGENCIA AMBIENTAL/DIRECCION GENERAL ESTRATEGIAS AMBIENTALES/CENTROS DE ATENCION VETERINARIA\", \"MINISTERIO DE AMBIENTE Y ESPACIO PUBLICO/AGENCIA AMBIENTAL/AGENCIA AMBIENTAL/COMPENSACION AMBIENTAL\", \"MINISTERIO DE AMBIENTE Y ESPACIO PUBLICO/AGENCIA AMBIENTAL/DIRECCION GENERAL DE EVALUACION AMBIENTAL/COMPENSACION AMBIENTAL\", \"MINISTERIO DE AMBIENTE Y ESPACIO PUBLICO/AGENCIA AMBIENTAL/DIRECCION GENERAL DE EVALUACION TECNICA/COMPENSACION AMBIENTAL\", \"JEFATURA DE GOBIERNO/SECRETARIA DE AMBIENTE/UPE ECOPARQUE/CONSERVACION DE LA BIODIVERSIDAD\", \"MINISTERIO DE AMBIENTE Y ESPACIO PUBLICO/MINISTERIO DE AMBIENTE Y ESPACIO PUBLICO/UPE ECOPARQUE INTERACTIVO DE LA CABA/CONSERVACION DE LA BIODIVERSIDAD\", \"MINISTERIO DE AMBIENTE Y ESPACIO PUBLICO/AGENCIA AMBIENTAL/DIRECCION GENERAL DE CONTROL/CONTROL AMBIENTAL\", \"JEFATURA DE GOBIERNO/AGENCIA DE PROTECCION AMBIENTAL/DIRECCION GENERAL DE CONTROL/CONTROL AMBIENTAL\", \"MINISTERIO DE AMBIENTE Y ESPACIO PUBLICO/MINISTERIO DE AMBIENTE Y ESPACIO PUBLICO/DIRECCION GENERAL CONTROL DE GESTION/CONTROL DE GESTION\", \"MINISTERIO DE AMBIENTE Y ESPACIO PUBLICO/MINISTERIO DE AMBIENTE Y ESPACIO PUBLICO/DIRECCION GENERAL CONTROL DE GESTION/CONTROL DE GESTION Y RECLAMOS\", \"MINISTERIO DE AMBIENTE Y ESPACIO PUBLICO/MINISTERIO DE AMBIENTE Y ESPACIO PUBLICO/DIRECCION GENERAL DE LIMPIEZA/CONTROL DE HIGIENE EN VIA PUBLICA E INMUEBLES\", \"MINISTERIO DE AMBIENTE Y ESPACIO PUBLICO/MINISTERIO DE AMBIENTE Y ESPACIO PUBLICO/DIRECCION GENERAL INSPECCION DE HIGIENE URBANA/CONTROL DE HIGIENE EN VIA PUBLICA E INMUEBLES\", \"MINISTERIO DE AMBIENTE Y ESPACIO PUBLICO/MINISTERIO DE AMBIENTE Y ESPACIO PUBLICO/SUBSECRETARIA DE HIGIENE URBANA/CONTROL DE HIGIENE EN VIA PUBLICA E INMUEBLES\", \"MINISTERIO DE AMBIENTE Y ESPACIO PUBLICO/MINISTERIO DE AMBIENTE Y ESPACIO PUBLICO/DIRECCION GENERAL DE LIMPIEZA/CONTROL DE PLAGAS\", \"MINISTERIO DE AMBIENTE Y ESPACIO PUBLICO/MINISTERIO DE AMBIENTE Y ESPACIO PUBLICO/DIRECCION GENERAL INSPECCION DE HIGIENE URBANA/CONTROL DE PLAGAS\", \"MINISTERIO DE AMBIENTE Y ESPACIO PUBLICO/MINISTERIO DE AMBIENTE Y ESPACIO PUBLICO/DIRECCION GENERAL DE ESPACIOS VERDES/CUIDADO Y PUESTA EN VALOR DE ESPACIOS VERDES\", \"MINISTERIO DE AMBIENTE Y ESPACIO PUBLICO/AGENCIA AMBIENTAL/DIRECCION GENERAL ESTRATEGIAS AMBIENTALES/ESTRATEGIAS AMBIENTALES\", \"MINISTERIO DE AMBIENTE Y ESPACIO PUBLICO/AGENCIA AMBIENTAL/DIRECCION GENERAL POLITICA Y ESTRATEGIA AMBIENTAL/ESTRATEGIAS AMBIENTALES\", \"MINISTERIO DE AMBIENTE Y ESPACIO PUBLICO/AGENCIA AMBIENTAL/DIRECCION GENERAL DE EVALUACION AMBIENTAL/EVALUACION TECNICA\", \"MINISTERIO DE AMBIENTE Y ESPACIO PUBLICO/AGENCIA AMBIENTAL/DIRECCION GENERAL DE EVALUACION TECNICA/EVALUACION TECNICA\", \"JEFATURA DE GOBIERNO/AGENCIA DE PROTECCION AMBIENTAL/DIRECCION GENERAL EVALUACION AMBIAENTAL/EVALUACION TECNICA\", \"MINISTERIO DE AMBIENTE Y ESPACIO PUBLICO/AGENCIA AMBIENTAL/AGENCIA AMBIENTAL/GESTION AMBIENTAL\", \"MINISTERIO DE AMBIENTE Y ESPACIO PUBLICO/AGENCIA AMBIENTAL/AGENCIA AMBIENTAL/INTERVENCIONES VETERINARIAS\", \"JEFATURA DE GOBIERNO/AGENCIA DE PROTECCION AMBIENTAL/AGENCIA AMBIENTAL/INTERVENCIONES VETERINARIAS\", \"MINISTERIO DE AMBIENTE Y ESPACIO PUBLICO/AGENCIA AMBIENTAL/DIRECCION GENERAL DE CONTROL/LABORATORIO DE ANALISIS Y CALIDAD AMBIENTAL\", \"JEFATURA DE GOBIERNO/AGENCIA DE PROTECCION AMBIENTAL/DIRECCION GENERAL DE CONTROL/LABORATORIO DE ANALISIS Y CALIDAD AMBIENTAL\", \"MINISTERIO DE AMBIENTE Y ESPACIO PUBLICO/AGENCIA AMBIENTAL/DIRECCION GENERAL DE EVALUACION TECNICA/LABORATORIO DE ANALISIS Y CALIDAD AMBIENTAL\", \"MINISTERIO DE AMBIENTE Y ESPACIO PUBLICO/MINISTERIO DE AMBIENTE Y ESPACIO PUBLICO/MINISTERIO AMBIENTE Y ESPACIO PUBLICO/MANTENIMIENTO ZONA PUERTO MADERO\", \"MINISTERIO DE AMBIENTE Y ESPACIO PUBLICO/MINISTERIO DE AMBIENTE Y ESPACIO PUBLICO/DIRECCION GENERAL OBRAS REGENERACION URBANA/OBRAS DE REGENERACIONURBANA\", \"MINISTERIO DE AMBIENTE Y ESPACIO PUBLICO/AGENCIA AMBIENTAL/DIRECCION GENERAL ESTRATEGIAS AMBIENTALES/PLANEAMIENTO DE LA GESTION AMBIENTAL SOSTENIBLE\", \"MINISTERIO DE AMBIENTE Y ESPACIO PUBLICO/MINISTERIO DE AMBIENTE Y ESPACIO PUBLICO/DIRECCION GENERAL PLANIFICACION Y PRESUPUESTO/PLANIFICACION Y PRESUPUESTO\", \"JEFATURA DE GOBIERNO/AGENCIA DE PROTECCION AMBIENTAL/DIRECCION GENERAL POLITICA Y ESTRATEGIA AMBIENTAL/POLITICA Y ESTRATEGIA AMBIENTAL\", \"MINISTERIO DE AMBIENTE Y ESPACIO PUBLICO/AGENCIA AMBIENTAL/DIRECCION GENERAL DE EVALUACION TECNICA/PREVENC.AMB.EVALUAC.TECNICA Y CERTIFICADOS AMBIENTALES\", \"MINISTERIO DE AMBIENTE Y ESPACIO PUBLICO/AGENCIA AMBIENTAL/DIRECCION GENERAL DE EVALUACION TECNICA/PREVENCION AMBIENTAL EVALUACION TECNICA Y REGISTROS AMBIENTALES\", \"MINISTERIO DE AMBIENTE Y ESPACIO PUBLICO/AGENCIA AMBIENTAL/DIRECCION GENERAL POLITICA Y ESTRATEGIA AMBIENTAL/PROGRAMA DE CAMBIO CLIMATICO E INFORMACION AMBIENTAL\", \"JEFATURA DE GOBIERNO/AGENCIA DE PROTECCION AMBIENTAL/DIRECCION GENERAL POLITICA Y ESTRATEGIA AMBIENTAL/PROGRAMA DE CAMBIO CLIMATICO E INFORMACION AMBIENTAL\", \"JEFATURA DE GOBIERNO/AGENCIA DE PROTECCION AMBIENTAL/DIRECCION GENERAL POLITICA Y ESTRATEGIA AMBIENTAL/PROGRAMA DE DESARROLLO SUSTENTABLE\", \"MINISTERIO DE AMBIENTE Y ESPACIO PUBLICO/AGENCIA AMBIENTAL/DIRECCION GENERAL POLITICA Y ESTRATEGIA AMBIENTAL/PROGRAMA DE GESTION ENERGETICA\", \"JEFATURA DE GOBIERNO/AGENCIA DE PROTECCION AMBIENTAL/DIRECCION GENERAL POLITICA Y ESTRATEGIA AMBIENTAL/PROGRAMA DE GESTION ENERGETICA\", \"MINISTERIO DE AMBIENTE Y ESPACIO PUBLICO/AGENCIA AMBIENTAL/DIRECCION GENERAL POLITICA Y ESTRATEGIA AMBIENTAL/PROGRAMA DE RESIDUOS DE MANEJO ESPECIAL\", \"JEFATURA DE GOBIERNO/AGENCIA DE PROTECCION AMBIENTAL/DIRECCION GENERAL POLITICA Y ESTRATEGIA AMBIENTAL/PROGRAMA DE RESIDUOS SUJETOS A MANEJO ESPECIAL\", \"MINISTERIO DE AMBIENTE Y ESPACIO PUBLICO/AGENCIA AMBIENTAL/AGENCIA AMBIENTAL/PROTECCION Y SANIDAD ANIMAL\", \"MINISTERIO DE AMBIENTE Y ESPACIO PUBLICO/AGENCIA AMBIENTAL/DIRECCION GENERAL ESTRATEGIAS AMBIENTALES/PROTECCION Y SANIDAD ANIMAL\", \"MINISTERIO DE AMBIENTE Y ESPACIO PUBLICO/MINISTERIO DE AMBIENTE Y ESPACIO PUBLICO/DIRECCION GENERAL DE RECICLADO/RECICLADO DE RESIDUOS URBANOS\", \"MINISTERIO DE AMBIENTE Y ESPACIO PUBLICO/ENTE DE HIGIENE URBANA/ENTE DE HIGIENE URBANA/RECOLECCION, BARRIDO E HIGIENE DE LA CIUDAD DE BUENOS AIRES\", \"MINISTERIO DE AMBIENTE Y ESPACIO PUBLICO/AGENCIA AMBIENTAL/AGENCIA AMBIENTAL/REDES AMBIENTALES\", \"MINISTERIO DE AMBIENTE Y ESPACIO PUBLICO/AGENCIA AMBIENTAL/DIRECCION GENERAL DE CONTROL/REDES AMBIENTALES\", \"JEFATURA DE GOBIERNO/AGENCIA DE PROTECCION AMBIENTAL/DIRECCION GENERAL DE CONTROL/REDES AMBIENTALES\", \"MINISTERIO DE AMBIENTE Y ESPACIO PUBLICO/MINISTERIO DE AMBIENTE Y ESPACIO PUBLICO/DIRECCION GENERAL REGENERACION URBANA/REGENERACION URBANA\", \"MINISTERIO DE AMBIENTE Y ESPACIO PUBLICO/AGENCIA AMBIENTAL/AGENCIA AMBIENTAL/SANIDAD Y TENENCIA RESPONSABLE DE MASCOTAS\", \"JEFATURA DE GOBIERNO/AGENCIA DE PROTECCION AMBIENTAL/AGENCIA AMBIENTAL/SANIDAD Y TENENCIA RESPONSABLE DE MASCOTAS\", \"MINISTERIO DE AMBIENTE Y ESPACIO PUBLICO/MINISTERIO DE AMBIENTE Y ESPACIO PUBLICO/MINISTERIO AMBIENTE Y ESPACIO PUBLICO/SERVICIOS DE ADMINISTRACION\", \"MINISTERIO DE AMBIENTE Y ESPACIO PUBLICO/MINISTERIO DE AMBIENTE Y ESPACIO PUBLICO/DIRECCION GENERAL DE LIMPIEZA/SERVICIOS DE HIGIENE URBANA\", \"MINISTERIO DE AMBIENTE Y ESPACIO PUBLICO/MINISTERIO DE AMBIENTE Y ESPACIO PUBLICO/DIRECCION GENERAL TECNICO ADMINISTRATIVA Y LEGAL/TECNICA ADMINISTRATIVA Y LEGAL\", \"MINISTERIO DE AMBIENTE Y ESPACIO PUBLICO/MINISTERIO DE AMBIENTE Y ESPACIO PUBLICO/DIRECCION GENERAL TRATAMIENTO Y NUEVAS TECNOLOGIAS/TRATAMIENTO DE RESIDUOS SOLIDOS URBANOS\", \"MINISTERIO DE AMBIENTE Y ESPACIO PUBLICO/AGENCIA AMBIENTAL/AGENCIA AMBIENTAL\", \"JEFATURA DE GOBIERNO/AGENCIA DE PROTECCION AMBIENTAL/AGENCIA AMBIENTAL\", \"MINISTERIO DE AMBIENTE Y ESPACIO PUBLICO/MINISTERIO DE AMBIENTE Y ESPACIO PUBLICO/DIRECCION GENERAL CONTROL DE GESTION\", \"MINISTERIO DE AMBIENTE Y ESPACIO PUBLICO/MINISTERIO DE AMBIENTE Y ESPACIO PUBLICO/DIRECCION GENERAL DE ARBOLADO\", \"MINISTERIO DE AMBIENTE Y ESPACIO PUBLICO/AGENCIA AMBIENTAL/DIRECCION GENERAL DE CONTROL\", \"JEFATURA DE GOBIERNO/AGENCIA DE PROTECCION AMBIENTAL/DIRECCION GENERAL DE CONTROL\", \"MINISTERIO DE AMBIENTE Y ESPACIO PUBLICO/MINISTERIO DE AMBIENTE Y ESPACIO PUBLICO/DIRECCION GENERAL DE ESPACIOS VERDES\", \"MINISTERIO DE AMBIENTE Y ESPACIO PUBLICO/AGENCIA AMBIENTAL/DIRECCION GENERAL DE EVALUACION AMBIENTAL\", \"MINISTERIO DE AMBIENTE Y ESPACIO PUBLICO/AGENCIA AMBIENTAL/DIRECCION GENERAL DE EVALUACION TECNICA\", \"MINISTERIO DE AMBIENTE Y ESPACIO PUBLICO/MINISTERIO DE AMBIENTE Y ESPACIO PUBLICO/DIRECCION GENERAL DE LIMPIEZA\", \"MINISTERIO DE AMBIENTE Y ESPACIO PUBLICO/MINISTERIO DE AMBIENTE Y ESPACIO PUBLICO/DIRECCION GENERAL DE RECICLADO\", \"MINISTERIO DE AMBIENTE Y ESPACIO PUBLICO/AGENCIA AMBIENTAL/DIRECCION GENERAL ESTRATEGIAS AMBIENTALES\", \"JEFATURA DE GOBIERNO/AGENCIA DE PROTECCION AMBIENTAL/DIRECCION GENERAL EVALUACION AMBIAENTAL\", \"MINISTERIO DE AMBIENTE Y ESPACIO PUBLICO/MINISTERIO DE AMBIENTE Y ESPACIO PUBLICO/DIRECCION GENERAL INSPECCION DE HIGIENE URBANA\", \"MINISTERIO DE AMBIENTE Y ESPACIO PUBLICO/MINISTERIO DE AMBIENTE Y ESPACIO PUBLICO/DIRECCION GENERAL OBRAS REGENERACION URBANA\", \"MINISTERIO DE AMBIENTE Y ESPACIO PUBLICO/MINISTERIO DE AMBIENTE Y ESPACIO PUBLICO/DIRECCION GENERAL PLANIFICACION Y PRESUPUESTO\", \"MINISTERIO DE AMBIENTE Y ESPACIO PUBLICO/AGENCIA AMBIENTAL/DIRECCION GENERAL POLITICA Y ESTRATEGIA AMBIENTAL\", \"JEFATURA DE GOBIERNO/AGENCIA DE PROTECCION AMBIENTAL/DIRECCION GENERAL POLITICA Y ESTRATEGIA AMBIENTAL\", \"MINISTERIO DE AMBIENTE Y ESPACIO PUBLICO/MINISTERIO DE AMBIENTE Y ESPACIO PUBLICO/DIRECCION GENERAL REGENERACION URBANA\", \"MINISTERIO DE AMBIENTE Y ESPACIO PUBLICO/MINISTERIO DE AMBIENTE Y ESPACIO PUBLICO/DIRECCION GENERAL TECNICO ADMINISTRATIVA Y LEGAL\", \"MINISTERIO DE AMBIENTE Y ESPACIO PUBLICO/MINISTERIO DE AMBIENTE Y ESPACIO PUBLICO/DIRECCION GENERAL TRATAMIENTO Y NUEVAS TECNOLOGIAS\", \"MINISTERIO DE AMBIENTE Y ESPACIO PUBLICO/ENTE DE HIGIENE URBANA/ENTE DE HIGIENE URBANA\", \"MINISTERIO DE AMBIENTE Y ESPACIO PUBLICO/MINISTERIO DE AMBIENTE Y ESPACIO PUBLICO/MINISTERIO AMBIENTE Y ESPACIO PUBLICO\", \"MINISTERIO DE AMBIENTE Y ESPACIO PUBLICO/MINISTERIO DE AMBIENTE Y ESPACIO PUBLICO/SUBSECRETARIA DE ADMINISTRACION\", \"MINISTERIO DE AMBIENTE Y ESPACIO PUBLICO/MINISTERIO DE AMBIENTE Y ESPACIO PUBLICO/SUBSECRETARIA DE ADMINISTRACION GENERAL Y DE USO DEL ESPACIO PUBLICO\", \"MINISTERIO DE AMBIENTE Y ESPACIO PUBLICO/MINISTERIO DE AMBIENTE Y ESPACIO PUBLICO/SUBSECRETARIA DE HIGIENE URBANA\", \"JEFATURA DE GOBIERNO/SECRETARIA DE AMBIENTE/UPE ECOPARQUE\", \"MINISTERIO DE AMBIENTE Y ESPACIO PUBLICO/MINISTERIO DE AMBIENTE Y ESPACIO PUBLICO/UPE ECOPARQUE INTERACTIVO DE LA CABA\", \"MINISTERIO DE AMBIENTE Y ESPACIO PUBLICO/AGENCIA AMBIENTAL\", \"JEFATURA DE GOBIERNO/AGENCIA DE PROTECCION AMBIENTAL\", \"MINISTERIO DE AMBIENTE Y ESPACIO PUBLICO/ENTE DE HIGIENE URBANA\", \"MINISTERIO DE AMBIENTE Y ESPACIO PUBLICO/MINISTERIO DE AMBIENTE Y ESPACIO PUBLICO\", \"JEFATURA DE GOBIERNO/SECRETARIA DE AMBIENTE\", \"JEFATURA DE GOBIERNO\", \"MINISTERIO DE AMBIENTE Y ESPACIO PUBLICO\"], \"insidetextorientation\": \"auto\", \"labels\": [\"A.CU.MAR - CENTROS VERDES\", \"A.CU.MAR - RIACHUELO\", \"A.CU.MAR - VALORIZACION DE LOS ESPACIOS VERDES\", \"ACCIONES AMBIENTALES CABA\", \"ACCIONES PARA LA RESTAURACION ECOLOGICA\", \"ACCIONES PARA LA RESTAURACION ECOLOGICA\", \"ACT. COMUNES A PROG. 91 A 103\", \"ACTIV. COMUNES A LOS PROG. 91,92 ,93 Y 94\", \"ACTIV. COMUNES A LOS PROG. 91,92 Y93\", \"ACTIVIDADES CENTRALES AMBIENTE Y ESPACIO PUBLICO\", \"ACTIVIDADES COMUMES A LOS PROGRAMAS 91,92,93,94,95,96\", \"ACTIVIDADES COMUNES A LOS PROG 21 Y 22\", \"ACTIVIDADES COMUNES A LOS PROG 21,22,23,75,76 Y 77\", \"ACTIVIDADES COMUNES A LOS PROG. 91 AL 100 Y 102\", \"ACTIVIDADES COMUNES A LOS PROG. 91 AL 103\", \"ACTIVIDADES COMUNES A LOS PROG. 91,92,93, 94,95 Y 96\", \"ACTIVIDADES COMUNES A LOS PROG. 91,92,93, 94,95, 96 Y 100\", \"ACTIVIDADES COMUNES A LOS PROGRAMAS 91,92 Y 93\", \"ACTIVIDADES COMUNES A LOS PROGRAMAS: 11-52-53-56-57-58-59\", \"ACTIVIDADES COMUNES A LOS PROGRAMAS: 11-52-53-56-57-58-59 Y 85\", \"ACTIVIDADES COMUNES A LOS PROGRAMAS: 11-52-53-56-57-58-59-79-85\", \"ACTIVIDADES COMUNES A LOS PROGRAMAS: 11-52-53-56-57-85\", \"ACTIVIDADES COMUNES A LOS PROGRAMAS: 11-52-53-57-58-59\", \"ACTIVIDADES COMUNES A LOS PROGRAMAS: 11-52-53-57-58-59 Y 85\", \"ACTIVIDADES COMUNES A LOS PROGRAMAS: 52.53.56.57 Y 85\", \"AMPLIACION CIFA PARA SU TRANSFORMACION EN CENTRO METROPOLITANO VERDE\", \"ANALISIS DE SUSTANCIAS CONTAMINANTES EN AGUA, AIRE Y SUELO\", \"ARBOLADO URBANO\", \"ASUNTOS LEGALES Y PRESUPUESTO\", \"BUENOS AIRES PRODUCE MAS LIMPIO (P+L)\", \"BUENOS AIRES PRODUCE MAS LIMPIO (P+L)\", \"BUENOS AIRES PRODUCE MAS LIMPIO (P+L)\", \"CENTRO DE INFORMACION Y FORMACION AMBIENTAL\", \"CENTROS DE ATENCION VETERINARIA\", \"CENTROS DE ATENCION VETERINARIA\", \"CENTROS VERDES\", \"COMPENSACION AMBIENTAL\", \"COMPENSACION AMBIENTAL\", \"CONSERVACION DE LA BIODIVERSIDAD\", \"CONSERVACION DE LA BIODIVERSIDAD\", \"CONTENERIZACION\", \"CONTROL AMBIENTAL\", \"CONTROL AMBIENTAL\", \"CONTROL DE GESTION\", \"CONTROL DE GESTION Y RECLAMOS\", \"CONTROL DE HIGIENE EN VIA PUBLICA E INMUEBLES\", \"CONTROL DE HIGIENE EN VIA PUBLICA E INMUEBLES\", \"CONTROL DE HIGIENE EN VIA PUBLICA E INMUEBLES\", \"CONTROL DE PLAGAS\", \"CONTROL DE PLAGAS\", \"CUBIERTA VERDE\", \"CUBIERTA VERDE EN LA CABA\", \"CUIDADO Y PRESERVACION DEL ARBOLADO URBANO\", \"CUIDADO Y PRESERVACION DEL ARBOLADO URBANO\", \"CUIDADO Y PUESTA EN VALOR DE ESPACIOS VERDES\", \"CUIDADO Y PUESTA EN VALOR DE GRANDES PARQUES\", \"CUIDADO Y PUESTA EN VALOR DEL PATRIMONIO CULTURAL Y NATURAL DE LOS ESPACIOS VERDES\", \"DESARROLLO DE LA RED DE AIRE Y RUIDO EN LA CIUDAD DE BUENOS AIRES.\", \"DESARROLLO DE LA RED DE AIRE Y RUIDO EN LA CIUDAD DE BUENOS AIRES.\", \"DISPOSICION FINAL RESIDUOS SOLIDOS URBANOS\", \"ESTACIONES MONITOREO CALIDAD DEL AGUA EN RED DE HIDROMETEREOLOGIA DE CABA\", \"ESTRATEGIAS AMBIENTALES\", \"ESTRATEGIAS AMBIENTALES\", \"EVALUACION TECNICA\", \"EVALUACION TECNICA\", \"EVALUACION TECNICA\", \"GESTION AMBIENTAL\", \"HOGAR TRANSITORIO DE MASCOTAS\", \"INTERVENCIONES SOBRE EL ARBOLADO\", \"INTERVENCIONES VETERINARIAS\", \"INTERVENCIONES VETERINARIAS\", \"JARDIN BOTANICO CARLOS THAYS\", \"LABORATORIO DE ANALISIS Y CALIDAD AMBIENTAL\", \"LABORATORIO DE ANALISIS Y CALIDAD AMBIENTAL\", \"LABORATORIO DE ANALISIS Y CALIDAD AMBIENTAL\", \"OBRAS BA ELIGE EV\", \"OBRAS CORRECTIVAS DE RECOMPOSICION PREDIOS CONTAMINADOS REQUERIDOS POR IVC\", \"OBRAS CORRECTIVAS DE RECOMPOSICION PREDIOS CONTAMINADOS REQUERIDOS POR IVC\", \"OBRAS DE ESPACIOS VERDES\", \"OBRAS DE ESPACIOS VERDES II\", \"OBRAS DE REGENERACION URBANA\", \"OBRAS ECOPARQUE MAYEP\", \"OBRAS ECOPARQUE MAYEP\", \"PARQUES URBANOS\", \"PLANEAMIENTO DE LA GESTION AMBIENTAL SOSTENIBLE\", \"PLANIFICACION Y PRESUPUESTO\", \"POLITICA Y ESTRATEGIA AMBIENTAL\", \"PREVENC.AMB.EVALUAC.TECNICA Y CERTIFICADOS AMBIENTALES\", \"PREVENCION AMBIENTAL EVALUACION TECNICA Y REGISTROS AMBIENTALES\", \"PROGRAMA DE CAMBIO CLIMATICO E INFORMACION AMBIENTAL\", \"PROGRAMA DE CAMBIO CLIMATICO E INFORMACION AMBIENTAL\", \"PROGRAMA DE DESARROLLO SUSTENTABLE\", \"PROGRAMA DE GESTION ENERGETICA\", \"PROGRAMA DE GESTION ENERGETICA\", \"PROGRAMA DE RESIDUOS DE MANEJO ESPECIAL\", \"PROGRAMA DE RESIDUOS SUJETOS A MANEJO ESPECIAL\", \"PROTECCION Y SANIDAD ANIMAL\", \"PROTECCION Y SANIDAD ANIMAL\", \"PROYECTOS ACUMAR\", \"PUESTA EN VALOR DE EDIFICIOS\", \"PUESTA EN VALOR DE LAS OFICINAS DE LA AGENCIA DE PROTECCION AMBIENTAL\", \"PUESTA EN VALOR DEPOSITO RAES\", \"PUESTA EN VALOR EDIFICIOS\", \"RECICLADO DE RESIDUOS URBANOS\", \"RECOLECCION, BARRIDO E HIGIENE DE LA CIUDAD DE BUENOS AIRES\", \"RED DE MONITOREO AMBIENTAL\", \"RED DE MONITOREO DE LA CALIDAD DEL AGUA SUPERFICIAL DE LA CABA.\", \"RED DE MONITOREO DE LA CALIDAD DEL AGUA SUPERFICIAL DE LA CABA.\", \"REDES AMBIENTALES\", \"REDES AMBIENTALES\", \"REDES AMBIENTALES\", \"REMEDIACION AMBIENTAL GCBA\", \"REMEDIACION Y MITIGACION AMBIENTAL\", \"REPARACION Y MEJORAS EN BARRIOS DE BUENOS AIRES\", \"RESTAURACION Y MITIGACION GCBA\", \"SANEAMIENTO Y REMEDIACION DE SUELOS CONTAMINADOS ACHA 2102/04 Y MENDOZA\", \"SANIDAD Y TENENCIA RESPONSABLE DE MASCOTAS\", \"SANIDAD Y TENENCIA RESPONSABLE DE MASCOTAS\", \"SERVICIO DE LIMPIEZA DE ARROYOS\", \"SERVICIOS DE ADMINISTRACION\", \"SITIOS CONTAMINADOS\", \"SITIOS CONTAMINADOS\", \"TECNICA ADMINISTRATIVA Y LEGAL\", \"TRATAMIENTO DE RESIDUOS ORGANICOS\", \"VALORIZACION DE LOS ESPACIOS VERDES\", \"VALORIZACION DE LOS ESPACIOS VERDES DE LA CIUDAD\", \"ACCIONES PARA LA RESTAURACION ECOLOGICA\", \"ACCIONES PARA LA RESTAURACION ECOLOGICA\", \"ACT. COMUNES A PROG. 91 A 103\", \"ACTIV. COMUNES A LOS PROG. 91,92 ,93 Y 94\", \"ACTIV. COMUNES A LOS PROG. 91,92 Y93\", \"ACTIVIDADES CENTRALES AMBIENTE Y ESPACIO PUBLICO\", \"ACTIVIDADES COMUMES A LOS PROGRAMAS 91,92,93,94,95,96\", \"ACTIVIDADES COMUNES A LOS PROG 21 Y 22\", \"ACTIVIDADES COMUNES A LOS PROG 21,22,23,75,76 Y 77\", \"ACTIVIDADES COMUNES A LOS PROG. 91 AL 100 Y 102\", \"ACTIVIDADES COMUNES A LOS PROG. 91 AL 103\", \"ACTIVIDADES COMUNES A LOS PROG. 91,92,93, 94,95 Y 96\", \"ACTIVIDADES COMUNES A LOS PROG. 91,92,93, 94,95, 96 Y 100\", \"ACTIVIDADES COMUNES A LOS PROGRAMAS 91,92 Y 93\", \"ACTIVIDADES COMUNES A LOS PROGRAMAS: 11-52-53-56-57-58-59\", \"ACTIVIDADES COMUNES A LOS PROGRAMAS: 11-52-53-56-57-58-59 Y 85\", \"ACTIVIDADES COMUNES A LOS PROGRAMAS: 11-52-53-56-57-58-59-79-85\", \"ACTIVIDADES COMUNES A LOS PROGRAMAS: 11-52-53-56-57-85\", \"ACTIVIDADES COMUNES A LOS PROGRAMAS: 11-52-53-57-58-59\", \"ACTIVIDADES COMUNES A LOS PROGRAMAS: 11-52-53-57-58-59 Y 85\", \"ACTIVIDADES COMUNES A LOS PROGRAMAS: 52.53.56.57 Y 85\", \"ARBOLADO URBANO\", \"ASUNTOS LEGALES Y PRESUPUESTO\", \"BUENOS AIRES PRODUCE MAS LIMPIO (P+L)\", \"BUENOS AIRES PRODUCE MAS LIMPIO (P+L)\", \"BUENOS AIRES PRODUCE MAS LIMPIO (P+L)\", \"CENTROS DE ATENCION VETERINARIA\", \"CENTROS DE ATENCION VETERINARIA\", \"COMPENSACION AMBIENTAL\", \"COMPENSACION AMBIENTAL\", \"COMPENSACION AMBIENTAL\", \"CONSERVACION DE LA BIODIVERSIDAD\", \"CONSERVACION DE LA BIODIVERSIDAD\", \"CONTROL AMBIENTAL\", \"CONTROL AMBIENTAL\", \"CONTROL DE GESTION\", \"CONTROL DE GESTION Y RECLAMOS\", \"CONTROL DE HIGIENE EN VIA PUBLICA E INMUEBLES\", \"CONTROL DE HIGIENE EN VIA PUBLICA E INMUEBLES\", \"CONTROL DE HIGIENE EN VIA PUBLICA E INMUEBLES\", \"CONTROL DE PLAGAS\", \"CONTROL DE PLAGAS\", \"CUIDADO Y PUESTA EN VALOR DE ESPACIOS VERDES\", \"ESTRATEGIAS AMBIENTALES\", \"ESTRATEGIAS AMBIENTALES\", \"EVALUACION TECNICA\", \"EVALUACION TECNICA\", \"EVALUACION TECNICA\", \"GESTION AMBIENTAL\", \"INTERVENCIONES VETERINARIAS\", \"INTERVENCIONES VETERINARIAS\", \"LABORATORIO DE ANALISIS Y CALIDAD AMBIENTAL\", \"LABORATORIO DE ANALISIS Y CALIDAD AMBIENTAL\", \"LABORATORIO DE ANALISIS Y CALIDAD AMBIENTAL\", \"MANTENIMIENTO ZONA PUERTO MADERO\", \"OBRAS DE REGENERACIONURBANA\", \"PLANEAMIENTO DE LA GESTION AMBIENTAL SOSTENIBLE\", \"PLANIFICACION Y PRESUPUESTO\", \"POLITICA Y ESTRATEGIA AMBIENTAL\", \"PREVENC.AMB.EVALUAC.TECNICA Y CERTIFICADOS AMBIENTALES\", \"PREVENCION AMBIENTAL EVALUACION TECNICA Y REGISTROS AMBIENTALES\", \"PROGRAMA DE CAMBIO CLIMATICO E INFORMACION AMBIENTAL\", \"PROGRAMA DE CAMBIO CLIMATICO E INFORMACION AMBIENTAL\", \"PROGRAMA DE DESARROLLO SUSTENTABLE\", \"PROGRAMA DE GESTION ENERGETICA\", \"PROGRAMA DE GESTION ENERGETICA\", \"PROGRAMA DE RESIDUOS DE MANEJO ESPECIAL\", \"PROGRAMA DE RESIDUOS SUJETOS A MANEJO ESPECIAL\", \"PROTECCION Y SANIDAD ANIMAL\", \"PROTECCION Y SANIDAD ANIMAL\", \"RECICLADO DE RESIDUOS URBANOS\", \"RECOLECCION, BARRIDO E HIGIENE DE LA CIUDAD DE BUENOS AIRES\", \"REDES AMBIENTALES\", \"REDES AMBIENTALES\", \"REDES AMBIENTALES\", \"REGENERACION URBANA\", \"SANIDAD Y TENENCIA RESPONSABLE DE MASCOTAS\", \"SANIDAD Y TENENCIA RESPONSABLE DE MASCOTAS\", \"SERVICIOS DE ADMINISTRACION\", \"SERVICIOS DE HIGIENE URBANA\", \"TECNICA ADMINISTRATIVA Y LEGAL\", \"TRATAMIENTO DE RESIDUOS SOLIDOS URBANOS\", \"AGENCIA AMBIENTAL\", \"AGENCIA AMBIENTAL\", \"DIRECCION GENERAL CONTROL DE GESTION\", \"DIRECCION GENERAL DE ARBOLADO\", \"DIRECCION GENERAL DE CONTROL\", \"DIRECCION GENERAL DE CONTROL\", \"DIRECCION GENERAL DE ESPACIOS VERDES\", \"DIRECCION GENERAL DE EVALUACION AMBIENTAL\", \"DIRECCION GENERAL DE EVALUACION TECNICA\", \"DIRECCION GENERAL DE LIMPIEZA\", \"DIRECCION GENERAL DE RECICLADO\", \"DIRECCION GENERAL ESTRATEGIAS AMBIENTALES\", \"DIRECCION GENERAL EVALUACION AMBIAENTAL\", \"DIRECCION GENERAL INSPECCION DE HIGIENE URBANA\", \"DIRECCION GENERAL OBRAS REGENERACION URBANA\", \"DIRECCION GENERAL PLANIFICACION Y PRESUPUESTO\", \"DIRECCION GENERAL POLITICA Y ESTRATEGIA AMBIENTAL\", \"DIRECCION GENERAL POLITICA Y ESTRATEGIA AMBIENTAL\", \"DIRECCION GENERAL REGENERACION URBANA\", \"DIRECCION GENERAL TECNICO ADMINISTRATIVA Y LEGAL\", \"DIRECCION GENERAL TRATAMIENTO Y NUEVAS TECNOLOGIAS\", \"ENTE DE HIGIENE URBANA\", \"MINISTERIO AMBIENTE Y ESPACIO PUBLICO\", \"SUBSECRETARIA DE ADMINISTRACION\", \"SUBSECRETARIA DE ADMINISTRACION GENERAL Y DE USO DEL ESPACIO PUBLICO\", \"SUBSECRETARIA DE HIGIENE URBANA\", \"UPE ECOPARQUE\", \"UPE ECOPARQUE INTERACTIVO DE LA CABA\", \"AGENCIA AMBIENTAL\", \"AGENCIA DE PROTECCION AMBIENTAL\", \"ENTE DE HIGIENE URBANA\", \"MINISTERIO DE AMBIENTE Y ESPACIO PUBLICO\", \"SECRETARIA DE AMBIENTE\", \"JEFATURA DE GOBIERNO\", \"MINISTERIO DE AMBIENTE Y ESPACIO PUBLICO\"], \"maxdepth\": 10, \"name\": \"\", \"parents\": [\"MINISTERIO DE AMBIENTE Y ESPACIO PUBLICO/MINISTERIO DE AMBIENTE Y ESPACIO PUBLICO/DIRECCION GENERAL DE RECICLADO/RECICLADO DE RESIDUOS URBANOS\", \"MINISTERIO DE AMBIENTE Y ESPACIO PUBLICO/MINISTERIO DE AMBIENTE Y ESPACIO PUBLICO/DIRECCION GENERAL DE LIMPIEZA/SERVICIOS DE HIGIENE URBANA\", \"MINISTERIO DE AMBIENTE Y ESPACIO PUBLICO/MINISTERIO DE AMBIENTE Y ESPACIO PUBLICO/DIRECCION GENERAL DE ESPACIOS VERDES/CUIDADO Y PUESTA EN VALOR DE ESPACIOS VERDES\", \"MINISTERIO DE AMBIENTE Y ESPACIO PUBLICO/AGENCIA AMBIENTAL/AGENCIA AMBIENTAL/ACTIV. COMUNES A LOS PROG. 91,92 ,93 Y 94\", \"MINISTERIO DE AMBIENTE Y ESPACIO PUBLICO/AGENCIA AMBIENTAL/DIRECCION GENERAL DE CONTROL/ACCIONES PARA LA RESTAURACION ECOLOGICA\", \"JEFATURA DE GOBIERNO/AGENCIA DE PROTECCION AMBIENTAL/DIRECCION GENERAL DE CONTROL/ACCIONES PARA LA RESTAURACION ECOLOGICA\", \"JEFATURA DE GOBIERNO/AGENCIA DE PROTECCION AMBIENTAL/AGENCIA AMBIENTAL/ACT. COMUNES A PROG. 91 A 103\", \"MINISTERIO DE AMBIENTE Y ESPACIO PUBLICO/AGENCIA AMBIENTAL/AGENCIA AMBIENTAL/ACTIV. COMUNES A LOS PROG. 91,92 ,93 Y 94\", \"MINISTERIO DE AMBIENTE Y ESPACIO PUBLICO/AGENCIA AMBIENTAL/AGENCIA AMBIENTAL/ACTIV. COMUNES A LOS PROG. 91,92 Y93\", \"MINISTERIO DE AMBIENTE Y ESPACIO PUBLICO/MINISTERIO DE AMBIENTE Y ESPACIO PUBLICO/MINISTERIO AMBIENTE Y ESPACIO PUBLICO/ACTIVIDADES CENTRALES AMBIENTE Y ESPACIO PUBLICO\", \"MINISTERIO DE AMBIENTE Y ESPACIO PUBLICO/AGENCIA AMBIENTAL/AGENCIA AMBIENTAL/ACTIVIDADES COMUMES A LOS PROGRAMAS 91,92,93,94,95,96\", \"MINISTERIO DE AMBIENTE Y ESPACIO PUBLICO/MINISTERIO DE AMBIENTE Y ESPACIO PUBLICO/SUBSECRETARIA DE ADMINISTRACION/ACTIVIDADES COMUNES A LOS PROG 21 Y 22\", \"MINISTERIO DE AMBIENTE Y ESPACIO PUBLICO/MINISTERIO DE AMBIENTE Y ESPACIO PUBLICO/SUBSECRETARIA DE ADMINISTRACION GENERAL Y DE USO DEL ESPACIO PUBLICO/ACTIVIDADES COMUNES A LOS PROG 21,22,23,75,76 Y 77\", \"MINISTERIO DE AMBIENTE Y ESPACIO PUBLICO/AGENCIA AMBIENTAL/AGENCIA AMBIENTAL/ACTIVIDADES COMUNES A LOS PROG. 91 AL 100 Y 102\", \"MINISTERIO DE AMBIENTE Y ESPACIO PUBLICO/AGENCIA AMBIENTAL/AGENCIA AMBIENTAL/ACTIVIDADES COMUNES A LOS PROG. 91 AL 103\", \"MINISTERIO DE AMBIENTE Y ESPACIO PUBLICO/AGENCIA AMBIENTAL/AGENCIA AMBIENTAL/ACTIVIDADES COMUNES A LOS PROG. 91,92,93, 94,95 Y 96\", \"MINISTERIO DE AMBIENTE Y ESPACIO PUBLICO/AGENCIA AMBIENTAL/AGENCIA AMBIENTAL/ACTIVIDADES COMUNES A LOS PROG. 91,92,93, 94,95, 96 Y 100\", \"MINISTERIO DE AMBIENTE Y ESPACIO PUBLICO/AGENCIA AMBIENTAL/AGENCIA AMBIENTAL/ACTIVIDADES COMUNES A LOS PROGRAMAS 91,92 Y 93\", \"MINISTERIO DE AMBIENTE Y ESPACIO PUBLICO/MINISTERIO DE AMBIENTE Y ESPACIO PUBLICO/SUBSECRETARIA DE HIGIENE URBANA/ACTIVIDADES COMUNES A LOS PROGRAMAS: 11-52-53-56-57-58-59\", \"MINISTERIO DE AMBIENTE Y ESPACIO PUBLICO/MINISTERIO DE AMBIENTE Y ESPACIO PUBLICO/SUBSECRETARIA DE HIGIENE URBANA/ACTIVIDADES COMUNES A LOS PROGRAMAS: 11-52-53-56-57-58-59 Y 85\", \"MINISTERIO DE AMBIENTE Y ESPACIO PUBLICO/MINISTERIO DE AMBIENTE Y ESPACIO PUBLICO/SUBSECRETARIA DE HIGIENE URBANA/ACTIVIDADES COMUNES A LOS PROGRAMAS: 11-52-53-56-57-58-59-79-85\", \"MINISTERIO DE AMBIENTE Y ESPACIO PUBLICO/MINISTERIO DE AMBIENTE Y ESPACIO PUBLICO/SUBSECRETARIA DE HIGIENE URBANA/ACTIVIDADES COMUNES A LOS PROGRAMAS: 11-52-53-56-57-85\", \"MINISTERIO DE AMBIENTE Y ESPACIO PUBLICO/MINISTERIO DE AMBIENTE Y ESPACIO PUBLICO/SUBSECRETARIA DE HIGIENE URBANA/ACTIVIDADES COMUNES A LOS PROGRAMAS: 11-52-53-57-58-59\", \"MINISTERIO DE AMBIENTE Y ESPACIO PUBLICO/MINISTERIO DE AMBIENTE Y ESPACIO PUBLICO/SUBSECRETARIA DE HIGIENE URBANA/ACTIVIDADES COMUNES A LOS PROGRAMAS: 11-52-53-57-58-59 Y 85\", \"MINISTERIO DE AMBIENTE Y ESPACIO PUBLICO/MINISTERIO DE AMBIENTE Y ESPACIO PUBLICO/SUBSECRETARIA DE HIGIENE URBANA/ACTIVIDADES COMUNES A LOS PROGRAMAS: 52.53.56.57 Y 85\", \"MINISTERIO DE AMBIENTE Y ESPACIO PUBLICO/AGENCIA AMBIENTAL/AGENCIA AMBIENTAL/ACTIVIDADES COMUMES A LOS PROGRAMAS 91,92,93,94,95,96\", \"MINISTERIO DE AMBIENTE Y ESPACIO PUBLICO/AGENCIA AMBIENTAL/AGENCIA AMBIENTAL/ACTIVIDADES COMUNES A LOS PROGRAMAS 91,92 Y 93\", \"MINISTERIO DE AMBIENTE Y ESPACIO PUBLICO/MINISTERIO DE AMBIENTE Y ESPACIO PUBLICO/DIRECCION GENERAL DE ARBOLADO/ARBOLADO URBANO\", \"MINISTERIO DE AMBIENTE Y ESPACIO PUBLICO/MINISTERIO DE AMBIENTE Y ESPACIO PUBLICO/DIRECCION GENERAL TECNICO ADMINISTRATIVA Y LEGAL/ASUNTOS LEGALES Y PRESUPUESTO\", \"MINISTERIO DE AMBIENTE Y ESPACIO PUBLICO/AGENCIA AMBIENTAL/DIRECCION GENERAL DE EVALUACION TECNICA/BUENOS AIRES PRODUCE MAS LIMPIO (P+L)\", \"MINISTERIO DE AMBIENTE Y ESPACIO PUBLICO/AGENCIA AMBIENTAL/DIRECCION GENERAL ESTRATEGIAS AMBIENTALES/BUENOS AIRES PRODUCE MAS LIMPIO (P+L)\", \"MINISTERIO DE AMBIENTE Y ESPACIO PUBLICO/AGENCIA AMBIENTAL/DIRECCION GENERAL POLITICA Y ESTRATEGIA AMBIENTAL/BUENOS AIRES PRODUCE MAS LIMPIO (P+L)\", \"MINISTERIO DE AMBIENTE Y ESPACIO PUBLICO/AGENCIA AMBIENTAL/AGENCIA AMBIENTAL/ACTIV. COMUNES A LOS PROG. 91,92 ,93 Y 94\", \"MINISTERIO DE AMBIENTE Y ESPACIO PUBLICO/AGENCIA AMBIENTAL/AGENCIA AMBIENTAL/CENTROS DE ATENCION VETERINARIA\", \"MINISTERIO DE AMBIENTE Y ESPACIO PUBLICO/AGENCIA AMBIENTAL/DIRECCION GENERAL ESTRATEGIAS AMBIENTALES/CENTROS DE ATENCION VETERINARIA\", \"MINISTERIO DE AMBIENTE Y ESPACIO PUBLICO/MINISTERIO DE AMBIENTE Y ESPACIO PUBLICO/DIRECCION GENERAL DE RECICLADO/RECICLADO DE RESIDUOS URBANOS\", \"MINISTERIO DE AMBIENTE Y ESPACIO PUBLICO/AGENCIA AMBIENTAL/AGENCIA AMBIENTAL/COMPENSACION AMBIENTAL\", \"MINISTERIO DE AMBIENTE Y ESPACIO PUBLICO/AGENCIA AMBIENTAL/DIRECCION GENERAL DE EVALUACION AMBIENTAL/COMPENSACION AMBIENTAL\", \"JEFATURA DE GOBIERNO/SECRETARIA DE AMBIENTE/UPE ECOPARQUE/CONSERVACION DE LA BIODIVERSIDAD\", \"MINISTERIO DE AMBIENTE Y ESPACIO PUBLICO/MINISTERIO DE AMBIENTE Y ESPACIO PUBLICO/UPE ECOPARQUE INTERACTIVO DE LA CABA/CONSERVACION DE LA BIODIVERSIDAD\", \"MINISTERIO DE AMBIENTE Y ESPACIO PUBLICO/MINISTERIO DE AMBIENTE Y ESPACIO PUBLICO/DIRECCION GENERAL DE LIMPIEZA/SERVICIOS DE HIGIENE URBANA\", \"MINISTERIO DE AMBIENTE Y ESPACIO PUBLICO/AGENCIA AMBIENTAL/DIRECCION GENERAL DE CONTROL/CONTROL AMBIENTAL\", \"JEFATURA DE GOBIERNO/AGENCIA DE PROTECCION AMBIENTAL/DIRECCION GENERAL DE CONTROL/CONTROL AMBIENTAL\", \"MINISTERIO DE AMBIENTE Y ESPACIO PUBLICO/MINISTERIO DE AMBIENTE Y ESPACIO PUBLICO/DIRECCION GENERAL CONTROL DE GESTION/CONTROL DE GESTION\", \"MINISTERIO DE AMBIENTE Y ESPACIO PUBLICO/MINISTERIO DE AMBIENTE Y ESPACIO PUBLICO/DIRECCION GENERAL CONTROL DE GESTION/CONTROL DE GESTION Y RECLAMOS\", \"MINISTERIO DE AMBIENTE Y ESPACIO PUBLICO/MINISTERIO DE AMBIENTE Y ESPACIO PUBLICO/DIRECCION GENERAL DE LIMPIEZA/CONTROL DE HIGIENE EN VIA PUBLICA E INMUEBLES\", \"MINISTERIO DE AMBIENTE Y ESPACIO PUBLICO/MINISTERIO DE AMBIENTE Y ESPACIO PUBLICO/DIRECCION GENERAL INSPECCION DE HIGIENE URBANA/CONTROL DE HIGIENE EN VIA PUBLICA E INMUEBLES\", \"MINISTERIO DE AMBIENTE Y ESPACIO PUBLICO/MINISTERIO DE AMBIENTE Y ESPACIO PUBLICO/SUBSECRETARIA DE HIGIENE URBANA/CONTROL DE HIGIENE EN VIA PUBLICA E INMUEBLES\", \"MINISTERIO DE AMBIENTE Y ESPACIO PUBLICO/MINISTERIO DE AMBIENTE Y ESPACIO PUBLICO/DIRECCION GENERAL DE LIMPIEZA/CONTROL DE PLAGAS\", \"MINISTERIO DE AMBIENTE Y ESPACIO PUBLICO/MINISTERIO DE AMBIENTE Y ESPACIO PUBLICO/DIRECCION GENERAL INSPECCION DE HIGIENE URBANA/CONTROL DE PLAGAS\", \"MINISTERIO DE AMBIENTE Y ESPACIO PUBLICO/AGENCIA AMBIENTAL/DIRECCION GENERAL ESTRATEGIAS AMBIENTALES/ESTRATEGIAS AMBIENTALES\", \"MINISTERIO DE AMBIENTE Y ESPACIO PUBLICO/AGENCIA AMBIENTAL/DIRECCION GENERAL ESTRATEGIAS AMBIENTALES/ESTRATEGIAS AMBIENTALES\", \"MINISTERIO DE AMBIENTE Y ESPACIO PUBLICO/MINISTERIO DE AMBIENTE Y ESPACIO PUBLICO/DIRECCION GENERAL DE ARBOLADO/ARBOLADO URBANO\", \"MINISTERIO DE AMBIENTE Y ESPACIO PUBLICO/MINISTERIO DE AMBIENTE Y ESPACIO PUBLICO/DIRECCION GENERAL DE ESPACIOS VERDES/CUIDADO Y PUESTA EN VALOR DE ESPACIOS VERDES\", \"MINISTERIO DE AMBIENTE Y ESPACIO PUBLICO/MINISTERIO DE AMBIENTE Y ESPACIO PUBLICO/DIRECCION GENERAL DE ESPACIOS VERDES/CUIDADO Y PUESTA EN VALOR DE ESPACIOS VERDES\", \"MINISTERIO DE AMBIENTE Y ESPACIO PUBLICO/MINISTERIO DE AMBIENTE Y ESPACIO PUBLICO/DIRECCION GENERAL DE ESPACIOS VERDES/CUIDADO Y PUESTA EN VALOR DE ESPACIOS VERDES\", \"MINISTERIO DE AMBIENTE Y ESPACIO PUBLICO/MINISTERIO DE AMBIENTE Y ESPACIO PUBLICO/DIRECCION GENERAL DE ESPACIOS VERDES/CUIDADO Y PUESTA EN VALOR DE ESPACIOS VERDES\", \"MINISTERIO DE AMBIENTE Y ESPACIO PUBLICO/AGENCIA AMBIENTAL/DIRECCION GENERAL ESTRATEGIAS AMBIENTALES/ESTRATEGIAS AMBIENTALES\", \"MINISTERIO DE AMBIENTE Y ESPACIO PUBLICO/AGENCIA AMBIENTAL/DIRECCION GENERAL ESTRATEGIAS AMBIENTALES/PLANEAMIENTO DE LA GESTION AMBIENTAL SOSTENIBLE\", \"MINISTERIO DE AMBIENTE Y ESPACIO PUBLICO/MINISTERIO DE AMBIENTE Y ESPACIO PUBLICO/DIRECCION GENERAL DE LIMPIEZA/SERVICIOS DE HIGIENE URBANA\", \"MINISTERIO DE AMBIENTE Y ESPACIO PUBLICO/AGENCIA AMBIENTAL/AGENCIA AMBIENTAL/REDES AMBIENTALES\", \"MINISTERIO DE AMBIENTE Y ESPACIO PUBLICO/AGENCIA AMBIENTAL/DIRECCION GENERAL ESTRATEGIAS AMBIENTALES/ESTRATEGIAS AMBIENTALES\", \"MINISTERIO DE AMBIENTE Y ESPACIO PUBLICO/AGENCIA AMBIENTAL/DIRECCION GENERAL POLITICA Y ESTRATEGIA AMBIENTAL/ESTRATEGIAS AMBIENTALES\", \"MINISTERIO DE AMBIENTE Y ESPACIO PUBLICO/AGENCIA AMBIENTAL/DIRECCION GENERAL DE EVALUACION AMBIENTAL/EVALUACION TECNICA\", \"MINISTERIO DE AMBIENTE Y ESPACIO PUBLICO/AGENCIA AMBIENTAL/DIRECCION GENERAL DE EVALUACION TECNICA/EVALUACION TECNICA\", \"JEFATURA DE GOBIERNO/AGENCIA DE PROTECCION AMBIENTAL/DIRECCION GENERAL EVALUACION AMBIAENTAL/EVALUACION TECNICA\", \"MINISTERIO DE AMBIENTE Y ESPACIO PUBLICO/AGENCIA AMBIENTAL/AGENCIA AMBIENTAL/GESTION AMBIENTAL\", \"MINISTERIO DE AMBIENTE Y ESPACIO PUBLICO/AGENCIA AMBIENTAL/DIRECCION GENERAL ESTRATEGIAS AMBIENTALES/ESTRATEGIAS AMBIENTALES\", \"MINISTERIO DE AMBIENTE Y ESPACIO PUBLICO/MINISTERIO DE AMBIENTE Y ESPACIO PUBLICO/DIRECCION GENERAL DE ARBOLADO/ARBOLADO URBANO\", \"MINISTERIO DE AMBIENTE Y ESPACIO PUBLICO/AGENCIA AMBIENTAL/AGENCIA AMBIENTAL/INTERVENCIONES VETERINARIAS\", \"JEFATURA DE GOBIERNO/AGENCIA DE PROTECCION AMBIENTAL/AGENCIA AMBIENTAL/INTERVENCIONES VETERINARIAS\", \"MINISTERIO DE AMBIENTE Y ESPACIO PUBLICO/MINISTERIO DE AMBIENTE Y ESPACIO PUBLICO/DIRECCION GENERAL DE ESPACIOS VERDES/CUIDADO Y PUESTA EN VALOR DE ESPACIOS VERDES\", \"MINISTERIO DE AMBIENTE Y ESPACIO PUBLICO/AGENCIA AMBIENTAL/DIRECCION GENERAL DE CONTROL/LABORATORIO DE ANALISIS Y CALIDAD AMBIENTAL\", \"JEFATURA DE GOBIERNO/AGENCIA DE PROTECCION AMBIENTAL/DIRECCION GENERAL DE CONTROL/LABORATORIO DE ANALISIS Y CALIDAD AMBIENTAL\", \"MINISTERIO DE AMBIENTE Y ESPACIO PUBLICO/AGENCIA AMBIENTAL/DIRECCION GENERAL DE EVALUACION TECNICA/LABORATORIO DE ANALISIS Y CALIDAD AMBIENTAL\", \"MINISTERIO DE AMBIENTE Y ESPACIO PUBLICO/MINISTERIO DE AMBIENTE Y ESPACIO PUBLICO/DIRECCION GENERAL DE ESPACIOS VERDES/CUIDADO Y PUESTA EN VALOR DE ESPACIOS VERDES\", \"MINISTERIO DE AMBIENTE Y ESPACIO PUBLICO/AGENCIA AMBIENTAL/AGENCIA AMBIENTAL/COMPENSACION AMBIENTAL\", \"MINISTERIO DE AMBIENTE Y ESPACIO PUBLICO/AGENCIA AMBIENTAL/DIRECCION GENERAL DE EVALUACION TECNICA/COMPENSACION AMBIENTAL\", \"MINISTERIO DE AMBIENTE Y ESPACIO PUBLICO/MINISTERIO DE AMBIENTE Y ESPACIO PUBLICO/DIRECCION GENERAL DE ESPACIOS VERDES/CUIDADO Y PUESTA EN VALOR DE ESPACIOS VERDES\", \"MINISTERIO DE AMBIENTE Y ESPACIO PUBLICO/MINISTERIO DE AMBIENTE Y ESPACIO PUBLICO/DIRECCION GENERAL DE ESPACIOS VERDES/CUIDADO Y PUESTA EN VALOR DE ESPACIOS VERDES\", \"MINISTERIO DE AMBIENTE Y ESPACIO PUBLICO/MINISTERIO DE AMBIENTE Y ESPACIO PUBLICO/DIRECCION GENERAL REGENERACION URBANA/REGENERACION URBANA\", \"JEFATURA DE GOBIERNO/SECRETARIA DE AMBIENTE/UPE ECOPARQUE/CONSERVACION DE LA BIODIVERSIDAD\", \"MINISTERIO DE AMBIENTE Y ESPACIO PUBLICO/MINISTERIO DE AMBIENTE Y ESPACIO PUBLICO/UPE ECOPARQUE INTERACTIVO DE LA CABA/CONSERVACION DE LA BIODIVERSIDAD\", \"MINISTERIO DE AMBIENTE Y ESPACIO PUBLICO/MINISTERIO DE AMBIENTE Y ESPACIO PUBLICO/DIRECCION GENERAL OBRAS REGENERACION URBANA/OBRAS DE REGENERACIONURBANA\", \"MINISTERIO DE AMBIENTE Y ESPACIO PUBLICO/AGENCIA AMBIENTAL/DIRECCION GENERAL ESTRATEGIAS AMBIENTALES/PLANEAMIENTO DE LA GESTION AMBIENTAL SOSTENIBLE\", \"MINISTERIO DE AMBIENTE Y ESPACIO PUBLICO/MINISTERIO DE AMBIENTE Y ESPACIO PUBLICO/DIRECCION GENERAL PLANIFICACION Y PRESUPUESTO/PLANIFICACION Y PRESUPUESTO\", \"JEFATURA DE GOBIERNO/AGENCIA DE PROTECCION AMBIENTAL/DIRECCION GENERAL POLITICA Y ESTRATEGIA AMBIENTAL/POLITICA Y ESTRATEGIA AMBIENTAL\", \"MINISTERIO DE AMBIENTE Y ESPACIO PUBLICO/AGENCIA AMBIENTAL/DIRECCION GENERAL DE EVALUACION TECNICA/PREVENC.AMB.EVALUAC.TECNICA Y CERTIFICADOS AMBIENTALES\", \"MINISTERIO DE AMBIENTE Y ESPACIO PUBLICO/AGENCIA AMBIENTAL/DIRECCION GENERAL DE EVALUACION TECNICA/PREVENCION AMBIENTAL EVALUACION TECNICA Y REGISTROS AMBIENTALES\", \"MINISTERIO DE AMBIENTE Y ESPACIO PUBLICO/AGENCIA AMBIENTAL/DIRECCION GENERAL POLITICA Y ESTRATEGIA AMBIENTAL/PROGRAMA DE CAMBIO CLIMATICO E INFORMACION AMBIENTAL\", \"JEFATURA DE GOBIERNO/AGENCIA DE PROTECCION AMBIENTAL/DIRECCION GENERAL POLITICA Y ESTRATEGIA AMBIENTAL/PROGRAMA DE CAMBIO CLIMATICO E INFORMACION AMBIENTAL\", \"JEFATURA DE GOBIERNO/AGENCIA DE PROTECCION AMBIENTAL/DIRECCION GENERAL POLITICA Y ESTRATEGIA AMBIENTAL/PROGRAMA DE DESARROLLO SUSTENTABLE\", \"MINISTERIO DE AMBIENTE Y ESPACIO PUBLICO/AGENCIA AMBIENTAL/DIRECCION GENERAL POLITICA Y ESTRATEGIA AMBIENTAL/PROGRAMA DE GESTION ENERGETICA\", \"JEFATURA DE GOBIERNO/AGENCIA DE PROTECCION AMBIENTAL/DIRECCION GENERAL POLITICA Y ESTRATEGIA AMBIENTAL/PROGRAMA DE GESTION ENERGETICA\", \"MINISTERIO DE AMBIENTE Y ESPACIO PUBLICO/AGENCIA AMBIENTAL/DIRECCION GENERAL POLITICA Y ESTRATEGIA AMBIENTAL/PROGRAMA DE RESIDUOS DE MANEJO ESPECIAL\", \"JEFATURA DE GOBIERNO/AGENCIA DE PROTECCION AMBIENTAL/DIRECCION GENERAL POLITICA Y ESTRATEGIA AMBIENTAL/PROGRAMA DE RESIDUOS SUJETOS A MANEJO ESPECIAL\", \"MINISTERIO DE AMBIENTE Y ESPACIO PUBLICO/AGENCIA AMBIENTAL/AGENCIA AMBIENTAL/PROTECCION Y SANIDAD ANIMAL\", \"MINISTERIO DE AMBIENTE Y ESPACIO PUBLICO/AGENCIA AMBIENTAL/DIRECCION GENERAL ESTRATEGIAS AMBIENTALES/PROTECCION Y SANIDAD ANIMAL\", \"MINISTERIO DE AMBIENTE Y ESPACIO PUBLICO/AGENCIA AMBIENTAL/AGENCIA AMBIENTAL/GESTION AMBIENTAL\", \"MINISTERIO DE AMBIENTE Y ESPACIO PUBLICO/MINISTERIO DE AMBIENTE Y ESPACIO PUBLICO/DIRECCION GENERAL INSPECCION DE HIGIENE URBANA/CONTROL DE HIGIENE EN VIA PUBLICA E INMUEBLES\", \"MINISTERIO DE AMBIENTE Y ESPACIO PUBLICO/AGENCIA AMBIENTAL/AGENCIA AMBIENTAL/ACTIV. COMUNES A LOS PROG. 91,92 ,93 Y 94\", \"MINISTERIO DE AMBIENTE Y ESPACIO PUBLICO/AGENCIA AMBIENTAL/DIRECCION GENERAL ESTRATEGIAS AMBIENTALES/ESTRATEGIAS AMBIENTALES\", \"MINISTERIO DE AMBIENTE Y ESPACIO PUBLICO/MINISTERIO DE AMBIENTE Y ESPACIO PUBLICO/DIRECCION GENERAL DE ESPACIOS VERDES/CUIDADO Y PUESTA EN VALOR DE ESPACIOS VERDES\", \"MINISTERIO DE AMBIENTE Y ESPACIO PUBLICO/MINISTERIO DE AMBIENTE Y ESPACIO PUBLICO/DIRECCION GENERAL DE RECICLADO/RECICLADO DE RESIDUOS URBANOS\", \"MINISTERIO DE AMBIENTE Y ESPACIO PUBLICO/ENTE DE HIGIENE URBANA/ENTE DE HIGIENE URBANA/RECOLECCION, BARRIDO E HIGIENE DE LA CIUDAD DE BUENOS AIRES\", \"MINISTERIO DE AMBIENTE Y ESPACIO PUBLICO/AGENCIA AMBIENTAL/DIRECCION GENERAL ESTRATEGIAS AMBIENTALES/ESTRATEGIAS AMBIENTALES\", \"MINISTERIO DE AMBIENTE Y ESPACIO PUBLICO/AGENCIA AMBIENTAL/DIRECCION GENERAL ESTRATEGIAS AMBIENTALES/ESTRATEGIAS AMBIENTALES\", \"MINISTERIO DE AMBIENTE Y ESPACIO PUBLICO/AGENCIA AMBIENTAL/DIRECCION GENERAL ESTRATEGIAS AMBIENTALES/PLANEAMIENTO DE LA GESTION AMBIENTAL SOSTENIBLE\", \"MINISTERIO DE AMBIENTE Y ESPACIO PUBLICO/AGENCIA AMBIENTAL/AGENCIA AMBIENTAL/REDES AMBIENTALES\", \"MINISTERIO DE AMBIENTE Y ESPACIO PUBLICO/AGENCIA AMBIENTAL/DIRECCION GENERAL DE CONTROL/REDES AMBIENTALES\", \"JEFATURA DE GOBIERNO/AGENCIA DE PROTECCION AMBIENTAL/DIRECCION GENERAL DE CONTROL/REDES AMBIENTALES\", \"MINISTERIO DE AMBIENTE Y ESPACIO PUBLICO/AGENCIA AMBIENTAL/AGENCIA AMBIENTAL/ACTIV. COMUNES A LOS PROG. 91,92 ,93 Y 94\", \"MINISTERIO DE AMBIENTE Y ESPACIO PUBLICO/AGENCIA AMBIENTAL/AGENCIA AMBIENTAL/COMPENSACION AMBIENTAL\", \"MINISTERIO DE AMBIENTE Y ESPACIO PUBLICO/MINISTERIO DE AMBIENTE Y ESPACIO PUBLICO/MINISTERIO AMBIENTE Y ESPACIO PUBLICO/MANTENIMIENTO ZONA PUERTO MADERO\", \"MINISTERIO DE AMBIENTE Y ESPACIO PUBLICO/AGENCIA AMBIENTAL/AGENCIA AMBIENTAL/ACTIV. COMUNES A LOS PROG. 91,92 ,93 Y 94\", \"MINISTERIO DE AMBIENTE Y ESPACIO PUBLICO/AGENCIA AMBIENTAL/AGENCIA AMBIENTAL/ACTIV. COMUNES A LOS PROG. 91,92 ,93 Y 94\", \"MINISTERIO DE AMBIENTE Y ESPACIO PUBLICO/AGENCIA AMBIENTAL/AGENCIA AMBIENTAL/SANIDAD Y TENENCIA RESPONSABLE DE MASCOTAS\", \"JEFATURA DE GOBIERNO/AGENCIA DE PROTECCION AMBIENTAL/AGENCIA AMBIENTAL/SANIDAD Y TENENCIA RESPONSABLE DE MASCOTAS\", \"MINISTERIO DE AMBIENTE Y ESPACIO PUBLICO/MINISTERIO DE AMBIENTE Y ESPACIO PUBLICO/DIRECCION GENERAL DE LIMPIEZA/SERVICIOS DE HIGIENE URBANA\", \"MINISTERIO DE AMBIENTE Y ESPACIO PUBLICO/MINISTERIO DE AMBIENTE Y ESPACIO PUBLICO/MINISTERIO AMBIENTE Y ESPACIO PUBLICO/SERVICIOS DE ADMINISTRACION\", \"MINISTERIO DE AMBIENTE Y ESPACIO PUBLICO/AGENCIA AMBIENTAL/DIRECCION GENERAL DE EVALUACION TECNICA/COMPENSACION AMBIENTAL\", \"JEFATURA DE GOBIERNO/AGENCIA DE PROTECCION AMBIENTAL/DIRECCION GENERAL POLITICA Y ESTRATEGIA AMBIENTAL/POLITICA Y ESTRATEGIA AMBIENTAL\", \"MINISTERIO DE AMBIENTE Y ESPACIO PUBLICO/MINISTERIO DE AMBIENTE Y ESPACIO PUBLICO/DIRECCION GENERAL TECNICO ADMINISTRATIVA Y LEGAL/TECNICA ADMINISTRATIVA Y LEGAL\", \"MINISTERIO DE AMBIENTE Y ESPACIO PUBLICO/MINISTERIO DE AMBIENTE Y ESPACIO PUBLICO/DIRECCION GENERAL TRATAMIENTO Y NUEVAS TECNOLOGIAS/TRATAMIENTO DE RESIDUOS SOLIDOS URBANOS\", \"MINISTERIO DE AMBIENTE Y ESPACIO PUBLICO/MINISTERIO DE AMBIENTE Y ESPACIO PUBLICO/DIRECCION GENERAL DE ESPACIOS VERDES/CUIDADO Y PUESTA EN VALOR DE ESPACIOS VERDES\", \"MINISTERIO DE AMBIENTE Y ESPACIO PUBLICO/MINISTERIO DE AMBIENTE Y ESPACIO PUBLICO/DIRECCION GENERAL DE ESPACIOS VERDES/CUIDADO Y PUESTA EN VALOR DE ESPACIOS VERDES\", \"MINISTERIO DE AMBIENTE Y ESPACIO PUBLICO/AGENCIA AMBIENTAL/DIRECCION GENERAL DE CONTROL\", \"JEFATURA DE GOBIERNO/AGENCIA DE PROTECCION AMBIENTAL/DIRECCION GENERAL DE CONTROL\", \"JEFATURA DE GOBIERNO/AGENCIA DE PROTECCION AMBIENTAL/AGENCIA AMBIENTAL\", \"MINISTERIO DE AMBIENTE Y ESPACIO PUBLICO/AGENCIA AMBIENTAL/AGENCIA AMBIENTAL\", \"MINISTERIO DE AMBIENTE Y ESPACIO PUBLICO/AGENCIA AMBIENTAL/AGENCIA AMBIENTAL\", \"MINISTERIO DE AMBIENTE Y ESPACIO PUBLICO/MINISTERIO DE AMBIENTE Y ESPACIO PUBLICO/MINISTERIO AMBIENTE Y ESPACIO PUBLICO\", \"MINISTERIO DE AMBIENTE Y ESPACIO PUBLICO/AGENCIA AMBIENTAL/AGENCIA AMBIENTAL\", \"MINISTERIO DE AMBIENTE Y ESPACIO PUBLICO/MINISTERIO DE AMBIENTE Y ESPACIO PUBLICO/SUBSECRETARIA DE ADMINISTRACION\", \"MINISTERIO DE AMBIENTE Y ESPACIO PUBLICO/MINISTERIO DE AMBIENTE Y ESPACIO PUBLICO/SUBSECRETARIA DE ADMINISTRACION GENERAL Y DE USO DEL ESPACIO PUBLICO\", \"MINISTERIO DE AMBIENTE Y ESPACIO PUBLICO/AGENCIA AMBIENTAL/AGENCIA AMBIENTAL\", \"MINISTERIO DE AMBIENTE Y ESPACIO PUBLICO/AGENCIA AMBIENTAL/AGENCIA AMBIENTAL\", \"MINISTERIO DE AMBIENTE Y ESPACIO PUBLICO/AGENCIA AMBIENTAL/AGENCIA AMBIENTAL\", \"MINISTERIO DE AMBIENTE Y ESPACIO PUBLICO/AGENCIA AMBIENTAL/AGENCIA AMBIENTAL\", \"MINISTERIO DE AMBIENTE Y ESPACIO PUBLICO/AGENCIA AMBIENTAL/AGENCIA AMBIENTAL\", \"MINISTERIO DE AMBIENTE Y ESPACIO PUBLICO/MINISTERIO DE AMBIENTE Y ESPACIO PUBLICO/SUBSECRETARIA DE HIGIENE URBANA\", \"MINISTERIO DE AMBIENTE Y ESPACIO PUBLICO/MINISTERIO DE AMBIENTE Y ESPACIO PUBLICO/SUBSECRETARIA DE HIGIENE URBANA\", \"MINISTERIO DE AMBIENTE Y ESPACIO PUBLICO/MINISTERIO DE AMBIENTE Y ESPACIO PUBLICO/SUBSECRETARIA DE HIGIENE URBANA\", \"MINISTERIO DE AMBIENTE Y ESPACIO PUBLICO/MINISTERIO DE AMBIENTE Y ESPACIO PUBLICO/SUBSECRETARIA DE HIGIENE URBANA\", \"MINISTERIO DE AMBIENTE Y ESPACIO PUBLICO/MINISTERIO DE AMBIENTE Y ESPACIO PUBLICO/SUBSECRETARIA DE HIGIENE URBANA\", \"MINISTERIO DE AMBIENTE Y ESPACIO PUBLICO/MINISTERIO DE AMBIENTE Y ESPACIO PUBLICO/SUBSECRETARIA DE HIGIENE URBANA\", \"MINISTERIO DE AMBIENTE Y ESPACIO PUBLICO/MINISTERIO DE AMBIENTE Y ESPACIO PUBLICO/SUBSECRETARIA DE HIGIENE URBANA\", \"MINISTERIO DE AMBIENTE Y ESPACIO PUBLICO/MINISTERIO DE AMBIENTE Y ESPACIO PUBLICO/DIRECCION GENERAL DE ARBOLADO\", \"MINISTERIO DE AMBIENTE Y ESPACIO PUBLICO/MINISTERIO DE AMBIENTE Y ESPACIO PUBLICO/DIRECCION GENERAL TECNICO ADMINISTRATIVA Y LEGAL\", \"MINISTERIO DE AMBIENTE Y ESPACIO PUBLICO/AGENCIA AMBIENTAL/DIRECCION GENERAL DE EVALUACION TECNICA\", \"MINISTERIO DE AMBIENTE Y ESPACIO PUBLICO/AGENCIA AMBIENTAL/DIRECCION GENERAL ESTRATEGIAS AMBIENTALES\", \"MINISTERIO DE AMBIENTE Y ESPACIO PUBLICO/AGENCIA AMBIENTAL/DIRECCION GENERAL POLITICA Y ESTRATEGIA AMBIENTAL\", \"MINISTERIO DE AMBIENTE Y ESPACIO PUBLICO/AGENCIA AMBIENTAL/AGENCIA AMBIENTAL\", \"MINISTERIO DE AMBIENTE Y ESPACIO PUBLICO/AGENCIA AMBIENTAL/DIRECCION GENERAL ESTRATEGIAS AMBIENTALES\", \"MINISTERIO DE AMBIENTE Y ESPACIO PUBLICO/AGENCIA AMBIENTAL/AGENCIA AMBIENTAL\", \"MINISTERIO DE AMBIENTE Y ESPACIO PUBLICO/AGENCIA AMBIENTAL/DIRECCION GENERAL DE EVALUACION AMBIENTAL\", \"MINISTERIO DE AMBIENTE Y ESPACIO PUBLICO/AGENCIA AMBIENTAL/DIRECCION GENERAL DE EVALUACION TECNICA\", \"JEFATURA DE GOBIERNO/SECRETARIA DE AMBIENTE/UPE ECOPARQUE\", \"MINISTERIO DE AMBIENTE Y ESPACIO PUBLICO/MINISTERIO DE AMBIENTE Y ESPACIO PUBLICO/UPE ECOPARQUE INTERACTIVO DE LA CABA\", \"MINISTERIO DE AMBIENTE Y ESPACIO PUBLICO/AGENCIA AMBIENTAL/DIRECCION GENERAL DE CONTROL\", \"JEFATURA DE GOBIERNO/AGENCIA DE PROTECCION AMBIENTAL/DIRECCION GENERAL DE CONTROL\", \"MINISTERIO DE AMBIENTE Y ESPACIO PUBLICO/MINISTERIO DE AMBIENTE Y ESPACIO PUBLICO/DIRECCION GENERAL CONTROL DE GESTION\", \"MINISTERIO DE AMBIENTE Y ESPACIO PUBLICO/MINISTERIO DE AMBIENTE Y ESPACIO PUBLICO/DIRECCION GENERAL CONTROL DE GESTION\", \"MINISTERIO DE AMBIENTE Y ESPACIO PUBLICO/MINISTERIO DE AMBIENTE Y ESPACIO PUBLICO/DIRECCION GENERAL DE LIMPIEZA\", \"MINISTERIO DE AMBIENTE Y ESPACIO PUBLICO/MINISTERIO DE AMBIENTE Y ESPACIO PUBLICO/DIRECCION GENERAL INSPECCION DE HIGIENE URBANA\", \"MINISTERIO DE AMBIENTE Y ESPACIO PUBLICO/MINISTERIO DE AMBIENTE Y ESPACIO PUBLICO/SUBSECRETARIA DE HIGIENE URBANA\", \"MINISTERIO DE AMBIENTE Y ESPACIO PUBLICO/MINISTERIO DE AMBIENTE Y ESPACIO PUBLICO/DIRECCION GENERAL DE LIMPIEZA\", \"MINISTERIO DE AMBIENTE Y ESPACIO PUBLICO/MINISTERIO DE AMBIENTE Y ESPACIO PUBLICO/DIRECCION GENERAL INSPECCION DE HIGIENE URBANA\", \"MINISTERIO DE AMBIENTE Y ESPACIO PUBLICO/MINISTERIO DE AMBIENTE Y ESPACIO PUBLICO/DIRECCION GENERAL DE ESPACIOS VERDES\", \"MINISTERIO DE AMBIENTE Y ESPACIO PUBLICO/AGENCIA AMBIENTAL/DIRECCION GENERAL ESTRATEGIAS AMBIENTALES\", \"MINISTERIO DE AMBIENTE Y ESPACIO PUBLICO/AGENCIA AMBIENTAL/DIRECCION GENERAL POLITICA Y ESTRATEGIA AMBIENTAL\", \"MINISTERIO DE AMBIENTE Y ESPACIO PUBLICO/AGENCIA AMBIENTAL/DIRECCION GENERAL DE EVALUACION AMBIENTAL\", \"MINISTERIO DE AMBIENTE Y ESPACIO PUBLICO/AGENCIA AMBIENTAL/DIRECCION GENERAL DE EVALUACION TECNICA\", \"JEFATURA DE GOBIERNO/AGENCIA DE PROTECCION AMBIENTAL/DIRECCION GENERAL EVALUACION AMBIAENTAL\", \"MINISTERIO DE AMBIENTE Y ESPACIO PUBLICO/AGENCIA AMBIENTAL/AGENCIA AMBIENTAL\", \"MINISTERIO DE AMBIENTE Y ESPACIO PUBLICO/AGENCIA AMBIENTAL/AGENCIA AMBIENTAL\", \"JEFATURA DE GOBIERNO/AGENCIA DE PROTECCION AMBIENTAL/AGENCIA AMBIENTAL\", \"MINISTERIO DE AMBIENTE Y ESPACIO PUBLICO/AGENCIA AMBIENTAL/DIRECCION GENERAL DE CONTROL\", \"JEFATURA DE GOBIERNO/AGENCIA DE PROTECCION AMBIENTAL/DIRECCION GENERAL DE CONTROL\", \"MINISTERIO DE AMBIENTE Y ESPACIO PUBLICO/AGENCIA AMBIENTAL/DIRECCION GENERAL DE EVALUACION TECNICA\", \"MINISTERIO DE AMBIENTE Y ESPACIO PUBLICO/MINISTERIO DE AMBIENTE Y ESPACIO PUBLICO/MINISTERIO AMBIENTE Y ESPACIO PUBLICO\", \"MINISTERIO DE AMBIENTE Y ESPACIO PUBLICO/MINISTERIO DE AMBIENTE Y ESPACIO PUBLICO/DIRECCION GENERAL OBRAS REGENERACION URBANA\", \"MINISTERIO DE AMBIENTE Y ESPACIO PUBLICO/AGENCIA AMBIENTAL/DIRECCION GENERAL ESTRATEGIAS AMBIENTALES\", \"MINISTERIO DE AMBIENTE Y ESPACIO PUBLICO/MINISTERIO DE AMBIENTE Y ESPACIO PUBLICO/DIRECCION GENERAL PLANIFICACION Y PRESUPUESTO\", \"JEFATURA DE GOBIERNO/AGENCIA DE PROTECCION AMBIENTAL/DIRECCION GENERAL POLITICA Y ESTRATEGIA AMBIENTAL\", \"MINISTERIO DE AMBIENTE Y ESPACIO PUBLICO/AGENCIA AMBIENTAL/DIRECCION GENERAL DE EVALUACION TECNICA\", \"MINISTERIO DE AMBIENTE Y ESPACIO PUBLICO/AGENCIA AMBIENTAL/DIRECCION GENERAL DE EVALUACION TECNICA\", \"MINISTERIO DE AMBIENTE Y ESPACIO PUBLICO/AGENCIA AMBIENTAL/DIRECCION GENERAL POLITICA Y ESTRATEGIA AMBIENTAL\", \"JEFATURA DE GOBIERNO/AGENCIA DE PROTECCION AMBIENTAL/DIRECCION GENERAL POLITICA Y ESTRATEGIA AMBIENTAL\", \"JEFATURA DE GOBIERNO/AGENCIA DE PROTECCION AMBIENTAL/DIRECCION GENERAL POLITICA Y ESTRATEGIA AMBIENTAL\", \"MINISTERIO DE AMBIENTE Y ESPACIO PUBLICO/AGENCIA AMBIENTAL/DIRECCION GENERAL POLITICA Y ESTRATEGIA AMBIENTAL\", \"JEFATURA DE GOBIERNO/AGENCIA DE PROTECCION AMBIENTAL/DIRECCION GENERAL POLITICA Y ESTRATEGIA AMBIENTAL\", \"MINISTERIO DE AMBIENTE Y ESPACIO PUBLICO/AGENCIA AMBIENTAL/DIRECCION GENERAL POLITICA Y ESTRATEGIA AMBIENTAL\", \"JEFATURA DE GOBIERNO/AGENCIA DE PROTECCION AMBIENTAL/DIRECCION GENERAL POLITICA Y ESTRATEGIA AMBIENTAL\", \"MINISTERIO DE AMBIENTE Y ESPACIO PUBLICO/AGENCIA AMBIENTAL/AGENCIA AMBIENTAL\", \"MINISTERIO DE AMBIENTE Y ESPACIO PUBLICO/AGENCIA AMBIENTAL/DIRECCION GENERAL ESTRATEGIAS AMBIENTALES\", \"MINISTERIO DE AMBIENTE Y ESPACIO PUBLICO/MINISTERIO DE AMBIENTE Y ESPACIO PUBLICO/DIRECCION GENERAL DE RECICLADO\", \"MINISTERIO DE AMBIENTE Y ESPACIO PUBLICO/ENTE DE HIGIENE URBANA/ENTE DE HIGIENE URBANA\", \"MINISTERIO DE AMBIENTE Y ESPACIO PUBLICO/AGENCIA AMBIENTAL/AGENCIA AMBIENTAL\", \"MINISTERIO DE AMBIENTE Y ESPACIO PUBLICO/AGENCIA AMBIENTAL/DIRECCION GENERAL DE CONTROL\", \"JEFATURA DE GOBIERNO/AGENCIA DE PROTECCION AMBIENTAL/DIRECCION GENERAL DE CONTROL\", \"MINISTERIO DE AMBIENTE Y ESPACIO PUBLICO/MINISTERIO DE AMBIENTE Y ESPACIO PUBLICO/DIRECCION GENERAL REGENERACION URBANA\", \"MINISTERIO DE AMBIENTE Y ESPACIO PUBLICO/AGENCIA AMBIENTAL/AGENCIA AMBIENTAL\", \"JEFATURA DE GOBIERNO/AGENCIA DE PROTECCION AMBIENTAL/AGENCIA AMBIENTAL\", \"MINISTERIO DE AMBIENTE Y ESPACIO PUBLICO/MINISTERIO DE AMBIENTE Y ESPACIO PUBLICO/MINISTERIO AMBIENTE Y ESPACIO PUBLICO\", \"MINISTERIO DE AMBIENTE Y ESPACIO PUBLICO/MINISTERIO DE AMBIENTE Y ESPACIO PUBLICO/DIRECCION GENERAL DE LIMPIEZA\", \"MINISTERIO DE AMBIENTE Y ESPACIO PUBLICO/MINISTERIO DE AMBIENTE Y ESPACIO PUBLICO/DIRECCION GENERAL TECNICO ADMINISTRATIVA Y LEGAL\", \"MINISTERIO DE AMBIENTE Y ESPACIO PUBLICO/MINISTERIO DE AMBIENTE Y ESPACIO PUBLICO/DIRECCION GENERAL TRATAMIENTO Y NUEVAS TECNOLOGIAS\", \"MINISTERIO DE AMBIENTE Y ESPACIO PUBLICO/AGENCIA AMBIENTAL\", \"JEFATURA DE GOBIERNO/AGENCIA DE PROTECCION AMBIENTAL\", \"MINISTERIO DE AMBIENTE Y ESPACIO PUBLICO/MINISTERIO DE AMBIENTE Y ESPACIO PUBLICO\", \"MINISTERIO DE AMBIENTE Y ESPACIO PUBLICO/MINISTERIO DE AMBIENTE Y ESPACIO PUBLICO\", \"MINISTERIO DE AMBIENTE Y ESPACIO PUBLICO/AGENCIA AMBIENTAL\", \"JEFATURA DE GOBIERNO/AGENCIA DE PROTECCION AMBIENTAL\", \"MINISTERIO DE AMBIENTE Y ESPACIO PUBLICO/MINISTERIO DE AMBIENTE Y ESPACIO PUBLICO\", \"MINISTERIO DE AMBIENTE Y ESPACIO PUBLICO/AGENCIA AMBIENTAL\", \"MINISTERIO DE AMBIENTE Y ESPACIO PUBLICO/AGENCIA AMBIENTAL\", \"MINISTERIO DE AMBIENTE Y ESPACIO PUBLICO/MINISTERIO DE AMBIENTE Y ESPACIO PUBLICO\", \"MINISTERIO DE AMBIENTE Y ESPACIO PUBLICO/MINISTERIO DE AMBIENTE Y ESPACIO PUBLICO\", \"MINISTERIO DE AMBIENTE Y ESPACIO PUBLICO/AGENCIA AMBIENTAL\", \"JEFATURA DE GOBIERNO/AGENCIA DE PROTECCION AMBIENTAL\", \"MINISTERIO DE AMBIENTE Y ESPACIO PUBLICO/MINISTERIO DE AMBIENTE Y ESPACIO PUBLICO\", \"MINISTERIO DE AMBIENTE Y ESPACIO PUBLICO/MINISTERIO DE AMBIENTE Y ESPACIO PUBLICO\", \"MINISTERIO DE AMBIENTE Y ESPACIO PUBLICO/MINISTERIO DE AMBIENTE Y ESPACIO PUBLICO\", \"MINISTERIO DE AMBIENTE Y ESPACIO PUBLICO/AGENCIA AMBIENTAL\", \"JEFATURA DE GOBIERNO/AGENCIA DE PROTECCION AMBIENTAL\", \"MINISTERIO DE AMBIENTE Y ESPACIO PUBLICO/MINISTERIO DE AMBIENTE Y ESPACIO PUBLICO\", \"MINISTERIO DE AMBIENTE Y ESPACIO PUBLICO/MINISTERIO DE AMBIENTE Y ESPACIO PUBLICO\", \"MINISTERIO DE AMBIENTE Y ESPACIO PUBLICO/MINISTERIO DE AMBIENTE Y ESPACIO PUBLICO\", \"MINISTERIO DE AMBIENTE Y ESPACIO PUBLICO/ENTE DE HIGIENE URBANA\", \"MINISTERIO DE AMBIENTE Y ESPACIO PUBLICO/MINISTERIO DE AMBIENTE Y ESPACIO PUBLICO\", \"MINISTERIO DE AMBIENTE Y ESPACIO PUBLICO/MINISTERIO DE AMBIENTE Y ESPACIO PUBLICO\", \"MINISTERIO DE AMBIENTE Y ESPACIO PUBLICO/MINISTERIO DE AMBIENTE Y ESPACIO PUBLICO\", \"MINISTERIO DE AMBIENTE Y ESPACIO PUBLICO/MINISTERIO DE AMBIENTE Y ESPACIO PUBLICO\", \"JEFATURA DE GOBIERNO/SECRETARIA DE AMBIENTE\", \"MINISTERIO DE AMBIENTE Y ESPACIO PUBLICO/MINISTERIO DE AMBIENTE Y ESPACIO PUBLICO\", \"MINISTERIO DE AMBIENTE Y ESPACIO PUBLICO\", \"JEFATURA DE GOBIERNO\", \"MINISTERIO DE AMBIENTE Y ESPACIO PUBLICO\", \"MINISTERIO DE AMBIENTE Y ESPACIO PUBLICO\", \"JEFATURA DE GOBIERNO\", \"\", \"\"], \"textinfo\": \"percent entry\", \"type\": \"sunburst\", \"values\": [4050000.0, 155469540.0, 12607967.0, 780000.0, 14306339.0, 13780657.0, 193760788.0, 48824258.0, 32563320.0, 1985095408.0, 53769640.0, 31815766.0, 2500000.0, 114924782.0, 141102216.0, 196058650.0, 97683911.0, 14223403.0, 7784721.0, 31645849.0, 2703920.0, 5518389.0, 36647045.0, 21695218.0, 4243715.0, 5000000.0, 700000.0, 74869104.0, 45065786.0, 815100.0, 2943880.0, 10706585.0, 800000.0, 10000000.0, 5950000.0, 69419600.0, 2867774.0, 1993859.0, 285324504.0, 235009468.0, 2527400.0, 418670997.0, 110561073.0, 19242300.0, 165743542.0, 24924701.0, 83641483.0, 3276000.0, 322995646.0, 27455532.0, 60000.0, 400000.0, 7303552.0, 16600001.0, 1333023236.0, 49100000.0, 3500000.0, 1800000.0, 1200000.0, 203036000.0, 10060000.0, 96277865.0, 65276312.0, 99837165.0, 87077581.0, 73715719.0, 22317359.0, 500000.0, 140214401.0, 36096324.0, 16703802.0, 4000000.0, 53348816.0, 22505498.0, 2957515.0, 7252834.0, 14900000.0, 13500000.0, 169731781.0, 102530490.0, 1000006.0, 450000000.0, 106286583.0, 1719000.0, 6153946.0, 5940950.0, 36909442.0, 14990880.0, 19755999.0, 8025542.0, 4500463.0, 9164165.0, 6890776.0, 7243911.0, 19929965.0, 17068886.0, 14731026.0, 15841445.0, 9220000.0, 1800000.0, 800000.0, 10000000.0, 200000.0, 36495055.0, 4499450.0, 10000000.0, 687440.0, 400000.0, 14766225.0, 3549635.0, 2884500.0, 1680000.0, 4000000.0, 15000000.0, 780000.0, 600000.0, 102519367.0, 53641829.0, 186964798.0, 35960184.0, 10000000.0, 30000000.0, 66531500.0, 50000000.0, 3580602639.0, 248558473.0, 14306339.0, 13780657.0, 193760788.0, 54264258.0, 32563320.0, 1985095408.0, 58769640.0, 31815766.0, 2500000.0, 114924782.0, 141102216.0, 196058650.0, 97683911.0, 14923403.0, 7784721.0, 31645849.0, 2703920.0, 5518389.0, 36647045.0, 21695218.0, 4243715.0, 222387057.0, 45065786.0, 815100.0, 2943880.0, 10706585.0, 10000000.0, 5950000.0, 21767774.0, 1993859.0, 23500000.0, 735324504.0, 341296051.0, 418670997.0, 110561073.0, 19242300.0, 165743542.0, 24924701.0, 85441483.0, 3276000.0, 322995646.0, 27455532.0, 5527707421.0, 119725305.0, 65276312.0, 99837165.0, 87077581.0, 73715719.0, 31537359.0, 36096324.0, 16703802.0, 53348816.0, 22505498.0, 2957515.0, 15000000.0, 1719000.0, 7753946.0, 5940950.0, 66909442.0, 14990880.0, 19755999.0, 8025542.0, 4500463.0, 9164165.0, 6890776.0, 7243911.0, 19929965.0, 17068886.0, 14731026.0, 15841445.0, 109964655.0, 4499450.0, 24826225.0, 3549635.0, 2884500.0, 1000006.0, 102519367.0, 53641829.0, 35960184.0, 547997738.0, 66531500.0, 50000000.0, 951768255.0, 264106419.0, 184985842.0, 222387057.0, 489875787.0, 149731728.0, 5527707421.0, 101831024.0, 149097075.0, 895918085.0, 109964655.0, 152214576.0, 73715719.0, 112897015.0, 1719000.0, 5940950.0, 110829180.0, 104886867.0, 1000006.0, 111597286.0, 50000000.0, 4499450.0, 2036055592.0, 31815766.0, 2500000.0, 113514857.0, 735324504.0, 341296051.0, 1955615897.0, 592440733.0, 4499450.0, 9749299583.0, 735324504.0, 1327765237.0, 11709414930.0]}],\n",
       "                        {\"legend\": {\"tracegroupgap\": 0}, \"margin\": {\"t\": 60}, \"template\": {\"data\": {\"bar\": [{\"error_x\": {\"color\": \"#2a3f5f\"}, \"error_y\": {\"color\": \"#2a3f5f\"}, \"marker\": {\"line\": {\"color\": \"#E5ECF6\", \"width\": 0.5}}, \"type\": \"bar\"}], \"barpolar\": [{\"marker\": {\"line\": {\"color\": \"#E5ECF6\", \"width\": 0.5}}, \"type\": \"barpolar\"}], \"carpet\": [{\"aaxis\": {\"endlinecolor\": \"#2a3f5f\", \"gridcolor\": \"white\", \"linecolor\": \"white\", \"minorgridcolor\": \"white\", \"startlinecolor\": \"#2a3f5f\"}, \"baxis\": {\"endlinecolor\": \"#2a3f5f\", \"gridcolor\": \"white\", \"linecolor\": \"white\", \"minorgridcolor\": \"white\", \"startlinecolor\": \"#2a3f5f\"}, \"type\": \"carpet\"}], \"choropleth\": [{\"colorbar\": {\"outlinewidth\": 0, \"ticks\": \"\"}, \"type\": \"choropleth\"}], \"contour\": [{\"colorbar\": {\"outlinewidth\": 0, \"ticks\": \"\"}, \"colorscale\": [[0.0, \"#0d0887\"], [0.1111111111111111, \"#46039f\"], [0.2222222222222222, \"#7201a8\"], [0.3333333333333333, \"#9c179e\"], [0.4444444444444444, \"#bd3786\"], [0.5555555555555556, \"#d8576b\"], [0.6666666666666666, \"#ed7953\"], [0.7777777777777778, \"#fb9f3a\"], [0.8888888888888888, \"#fdca26\"], [1.0, \"#f0f921\"]], \"type\": \"contour\"}], \"contourcarpet\": [{\"colorbar\": {\"outlinewidth\": 0, \"ticks\": \"\"}, \"type\": \"contourcarpet\"}], \"heatmap\": [{\"colorbar\": {\"outlinewidth\": 0, \"ticks\": \"\"}, \"colorscale\": [[0.0, \"#0d0887\"], [0.1111111111111111, \"#46039f\"], [0.2222222222222222, \"#7201a8\"], [0.3333333333333333, \"#9c179e\"], [0.4444444444444444, \"#bd3786\"], [0.5555555555555556, \"#d8576b\"], [0.6666666666666666, \"#ed7953\"], [0.7777777777777778, \"#fb9f3a\"], [0.8888888888888888, \"#fdca26\"], [1.0, \"#f0f921\"]], \"type\": \"heatmap\"}], \"heatmapgl\": [{\"colorbar\": {\"outlinewidth\": 0, \"ticks\": \"\"}, \"colorscale\": [[0.0, \"#0d0887\"], [0.1111111111111111, \"#46039f\"], [0.2222222222222222, \"#7201a8\"], [0.3333333333333333, \"#9c179e\"], [0.4444444444444444, \"#bd3786\"], [0.5555555555555556, \"#d8576b\"], [0.6666666666666666, \"#ed7953\"], [0.7777777777777778, \"#fb9f3a\"], [0.8888888888888888, \"#fdca26\"], [1.0, \"#f0f921\"]], \"type\": \"heatmapgl\"}], \"histogram\": [{\"marker\": {\"colorbar\": {\"outlinewidth\": 0, \"ticks\": \"\"}}, \"type\": \"histogram\"}], \"histogram2d\": [{\"colorbar\": {\"outlinewidth\": 0, \"ticks\": \"\"}, \"colorscale\": [[0.0, \"#0d0887\"], [0.1111111111111111, \"#46039f\"], [0.2222222222222222, \"#7201a8\"], [0.3333333333333333, \"#9c179e\"], [0.4444444444444444, \"#bd3786\"], [0.5555555555555556, \"#d8576b\"], [0.6666666666666666, \"#ed7953\"], [0.7777777777777778, \"#fb9f3a\"], [0.8888888888888888, \"#fdca26\"], [1.0, \"#f0f921\"]], \"type\": \"histogram2d\"}], \"histogram2dcontour\": [{\"colorbar\": {\"outlinewidth\": 0, \"ticks\": \"\"}, \"colorscale\": [[0.0, \"#0d0887\"], [0.1111111111111111, \"#46039f\"], [0.2222222222222222, \"#7201a8\"], [0.3333333333333333, \"#9c179e\"], [0.4444444444444444, \"#bd3786\"], [0.5555555555555556, \"#d8576b\"], [0.6666666666666666, \"#ed7953\"], [0.7777777777777778, \"#fb9f3a\"], [0.8888888888888888, \"#fdca26\"], [1.0, \"#f0f921\"]], \"type\": \"histogram2dcontour\"}], \"mesh3d\": [{\"colorbar\": {\"outlinewidth\": 0, \"ticks\": \"\"}, \"type\": \"mesh3d\"}], \"parcoords\": [{\"line\": {\"colorbar\": {\"outlinewidth\": 0, \"ticks\": \"\"}}, \"type\": \"parcoords\"}], \"pie\": [{\"automargin\": true, \"type\": \"pie\"}], \"scatter\": [{\"marker\": {\"colorbar\": {\"outlinewidth\": 0, \"ticks\": \"\"}}, \"type\": \"scatter\"}], \"scatter3d\": [{\"line\": {\"colorbar\": {\"outlinewidth\": 0, \"ticks\": \"\"}}, \"marker\": {\"colorbar\": {\"outlinewidth\": 0, \"ticks\": \"\"}}, \"type\": \"scatter3d\"}], \"scattercarpet\": [{\"marker\": {\"colorbar\": {\"outlinewidth\": 0, \"ticks\": \"\"}}, \"type\": \"scattercarpet\"}], \"scattergeo\": [{\"marker\": {\"colorbar\": {\"outlinewidth\": 0, \"ticks\": \"\"}}, \"type\": \"scattergeo\"}], \"scattergl\": [{\"marker\": {\"colorbar\": {\"outlinewidth\": 0, \"ticks\": \"\"}}, \"type\": \"scattergl\"}], \"scattermapbox\": [{\"marker\": {\"colorbar\": {\"outlinewidth\": 0, \"ticks\": \"\"}}, \"type\": \"scattermapbox\"}], \"scatterpolar\": [{\"marker\": {\"colorbar\": {\"outlinewidth\": 0, \"ticks\": \"\"}}, \"type\": \"scatterpolar\"}], \"scatterpolargl\": [{\"marker\": {\"colorbar\": {\"outlinewidth\": 0, \"ticks\": \"\"}}, \"type\": \"scatterpolargl\"}], \"scatterternary\": [{\"marker\": {\"colorbar\": {\"outlinewidth\": 0, \"ticks\": \"\"}}, \"type\": \"scatterternary\"}], \"surface\": [{\"colorbar\": {\"outlinewidth\": 0, \"ticks\": \"\"}, \"colorscale\": [[0.0, \"#0d0887\"], [0.1111111111111111, \"#46039f\"], [0.2222222222222222, \"#7201a8\"], [0.3333333333333333, \"#9c179e\"], [0.4444444444444444, \"#bd3786\"], [0.5555555555555556, \"#d8576b\"], [0.6666666666666666, \"#ed7953\"], [0.7777777777777778, \"#fb9f3a\"], [0.8888888888888888, \"#fdca26\"], [1.0, \"#f0f921\"]], \"type\": \"surface\"}], \"table\": [{\"cells\": {\"fill\": {\"color\": \"#EBF0F8\"}, \"line\": {\"color\": \"white\"}}, \"header\": {\"fill\": {\"color\": \"#C8D4E3\"}, \"line\": {\"color\": \"white\"}}, \"type\": \"table\"}]}, \"layout\": {\"annotationdefaults\": {\"arrowcolor\": \"#2a3f5f\", \"arrowhead\": 0, \"arrowwidth\": 1}, \"coloraxis\": {\"colorbar\": {\"outlinewidth\": 0, \"ticks\": \"\"}}, \"colorscale\": {\"diverging\": [[0, \"#8e0152\"], [0.1, \"#c51b7d\"], [0.2, \"#de77ae\"], [0.3, \"#f1b6da\"], [0.4, \"#fde0ef\"], [0.5, \"#f7f7f7\"], [0.6, \"#e6f5d0\"], [0.7, \"#b8e186\"], [0.8, \"#7fbc41\"], [0.9, \"#4d9221\"], [1, \"#276419\"]], \"sequential\": [[0.0, \"#0d0887\"], [0.1111111111111111, \"#46039f\"], [0.2222222222222222, \"#7201a8\"], [0.3333333333333333, \"#9c179e\"], [0.4444444444444444, \"#bd3786\"], [0.5555555555555556, \"#d8576b\"], [0.6666666666666666, \"#ed7953\"], [0.7777777777777778, \"#fb9f3a\"], [0.8888888888888888, \"#fdca26\"], [1.0, \"#f0f921\"]], \"sequentialminus\": [[0.0, \"#0d0887\"], [0.1111111111111111, \"#46039f\"], [0.2222222222222222, \"#7201a8\"], [0.3333333333333333, \"#9c179e\"], [0.4444444444444444, \"#bd3786\"], [0.5555555555555556, \"#d8576b\"], [0.6666666666666666, \"#ed7953\"], [0.7777777777777778, \"#fb9f3a\"], [0.8888888888888888, \"#fdca26\"], [1.0, \"#f0f921\"]]}, \"colorway\": [\"#636efa\", \"#EF553B\", \"#00cc96\", \"#ab63fa\", \"#FFA15A\", \"#19d3f3\", \"#FF6692\", \"#B6E880\", \"#FF97FF\", \"#FECB52\"], \"font\": {\"color\": \"#2a3f5f\"}, \"geo\": {\"bgcolor\": \"white\", \"lakecolor\": \"white\", \"landcolor\": \"#E5ECF6\", \"showlakes\": true, \"showland\": true, \"subunitcolor\": \"white\"}, \"hoverlabel\": {\"align\": \"left\"}, \"hovermode\": \"closest\", \"mapbox\": {\"style\": \"light\"}, \"paper_bgcolor\": \"white\", \"plot_bgcolor\": \"#E5ECF6\", \"polar\": {\"angularaxis\": {\"gridcolor\": \"white\", \"linecolor\": \"white\", \"ticks\": \"\"}, \"bgcolor\": \"#E5ECF6\", \"radialaxis\": {\"gridcolor\": \"white\", \"linecolor\": \"white\", \"ticks\": \"\"}}, \"scene\": {\"xaxis\": {\"backgroundcolor\": \"#E5ECF6\", \"gridcolor\": \"white\", \"gridwidth\": 2, \"linecolor\": \"white\", \"showbackground\": true, \"ticks\": \"\", \"zerolinecolor\": \"white\"}, \"yaxis\": {\"backgroundcolor\": \"#E5ECF6\", \"gridcolor\": \"white\", \"gridwidth\": 2, \"linecolor\": \"white\", \"showbackground\": true, \"ticks\": \"\", \"zerolinecolor\": \"white\"}, \"zaxis\": {\"backgroundcolor\": \"#E5ECF6\", \"gridcolor\": \"white\", \"gridwidth\": 2, \"linecolor\": \"white\", \"showbackground\": true, \"ticks\": \"\", \"zerolinecolor\": \"white\"}}, \"shapedefaults\": {\"line\": {\"color\": \"#2a3f5f\"}}, \"ternary\": {\"aaxis\": {\"gridcolor\": \"white\", \"linecolor\": \"white\", \"ticks\": \"\"}, \"baxis\": {\"gridcolor\": \"white\", \"linecolor\": \"white\", \"ticks\": \"\"}, \"bgcolor\": \"#E5ECF6\", \"caxis\": {\"gridcolor\": \"white\", \"linecolor\": \"white\", \"ticks\": \"\"}}, \"title\": {\"x\": 0.05}, \"xaxis\": {\"automargin\": true, \"gridcolor\": \"white\", \"linecolor\": \"white\", \"ticks\": \"\", \"title\": {\"standoff\": 15}, \"zerolinecolor\": \"white\", \"zerolinewidth\": 2}, \"yaxis\": {\"automargin\": true, \"gridcolor\": \"white\", \"linecolor\": \"white\", \"ticks\": \"\", \"title\": {\"standoff\": 15}, \"zerolinecolor\": \"white\", \"zerolinewidth\": 2}}}},\n",
       "                        {\"responsive\": true}\n",
       "                    ).then(function(){\n",
       "                            \n",
       "var gd = document.getElementById('a7182562-5afb-4f64-8969-dc4d79e2e1b5');\n",
       "var x = new MutationObserver(function (mutations, observer) {{\n",
       "        var display = window.getComputedStyle(gd).display;\n",
       "        if (!display || display === 'none') {{\n",
       "            console.log([gd, 'removed!']);\n",
       "            Plotly.purge(gd);\n",
       "            observer.disconnect();\n",
       "        }}\n",
       "}});\n",
       "\n",
       "// Listen for the removal of the full notebook cells\n",
       "var notebookContainer = gd.closest('#notebook-container');\n",
       "if (notebookContainer) {{\n",
       "    x.observe(notebookContainer, {childList: true});\n",
       "}}\n",
       "\n",
       "// Listen for the clearing of the current output cell\n",
       "var outputEl = gd.closest('.output');\n",
       "if (outputEl) {{\n",
       "    x.observe(outputEl, {childList: true});\n",
       "}}\n",
       "\n",
       "                        })\n",
       "                };\n",
       "                });\n",
       "            </script>\n",
       "        </div>"
      ]
     },
     "metadata": {},
     "output_type": "display_data"
    }
   ],
   "source": [
    "sunburst(ecologia)"
   ]
  },
  {
   "cell_type": "code",
   "execution_count": 164,
   "metadata": {
    "scrolled": true
   },
   "outputs": [
    {
     "data": {
      "application/vnd.plotly.v1+json": {
       "config": {
        "plotlyServerURL": "https://plot.ly"
       },
       "data": [
        {
         "branchvalues": "total",
         "customdata": [
          [
           "MINISTERIO DE AMBIENTE Y ESPACIO PUBLICO",
           "MINISTERIO DE AMBIENTE Y ESPACIO PUBLICO",
           "DIRECCION GENERAL DE LIMPIEZA",
           "SERVICIOS DE HIGIENE URBANA",
           "A.CU.MAR - RIACHUELO"
          ],
          [
           "MINISTERIO DE AMBIENTE Y ESPACIO PUBLICO",
           "AGENCIA AMBIENTAL",
           "DIRECCION GENERAL DE CONTROL",
           "ACCIONES PARA LA RESTAURACION ECOLOGICA",
           "ACCIONES PARA LA RESTAURACION ECOLOGICA"
          ],
          [
           "MINISTERIO DE AMBIENTE Y ESPACIO PUBLICO",
           "MINISTERIO DE AMBIENTE Y ESPACIO PUBLICO",
           "MINISTERIO AMBIENTE Y ESPACIO PUBLICO",
           "ACTIVIDADES CENTRALES AMBIENTE Y ESPACIO PUBLICO",
           "ACTIVIDADES CENTRALES AMBIENTE Y ESPACIO PUBLICO"
          ],
          [
           "MINISTERIO DE AMBIENTE Y ESPACIO PUBLICO",
           "MINISTERIO DE AMBIENTE Y ESPACIO PUBLICO",
           "SUBSECRETARIA DE ADMINISTRACION GENERAL Y DE USO DEL ESPACIO PUBLICO",
           "ACTIVIDADES COMUNES A LOS PROG 21,22,23,75,76 Y 77",
           "ACTIVIDADES COMUNES A LOS PROG 21,22,23,75,76 Y 77"
          ],
          [
           "MINISTERIO DE AMBIENTE Y ESPACIO PUBLICO",
           "AGENCIA AMBIENTAL",
           "AGENCIA AMBIENTAL",
           "ACTIVIDADES COMUNES A LOS PROG. 91 AL 103",
           "ACTIVIDADES COMUNES A LOS PROG. 91 AL 103"
          ],
          [
           "MINISTERIO DE AMBIENTE Y ESPACIO PUBLICO",
           "MINISTERIO DE AMBIENTE Y ESPACIO PUBLICO",
           "SUBSECRETARIA DE HIGIENE URBANA",
           "ACTIVIDADES COMUNES A LOS PROGRAMAS: 11-52-53-57-58-59",
           "ACTIVIDADES COMUNES A LOS PROGRAMAS: 11-52-53-57-58-59"
          ],
          [
           "MINISTERIO DE AMBIENTE Y ESPACIO PUBLICO",
           "AGENCIA AMBIENTAL",
           "DIRECCION GENERAL POLITICA Y ESTRATEGIA AMBIENTAL",
           "BUENOS AIRES PRODUCE MAS LIMPIO (P+L)",
           "BUENOS AIRES PRODUCE MAS LIMPIO (P+L)"
          ],
          [
           "MINISTERIO DE AMBIENTE Y ESPACIO PUBLICO",
           "AGENCIA AMBIENTAL",
           "DIRECCION GENERAL DE EVALUACION AMBIENTAL",
           "COMPENSACION AMBIENTAL",
           "COMPENSACION AMBIENTAL"
          ],
          [
           "MINISTERIO DE AMBIENTE Y ESPACIO PUBLICO",
           "MINISTERIO DE AMBIENTE Y ESPACIO PUBLICO",
           "UPE ECOPARQUE INTERACTIVO DE LA CABA",
           "CONSERVACION DE LA BIODIVERSIDAD",
           "CONSERVACION DE LA BIODIVERSIDAD"
          ],
          [
           "MINISTERIO DE AMBIENTE Y ESPACIO PUBLICO",
           "AGENCIA AMBIENTAL",
           "DIRECCION GENERAL DE CONTROL",
           "CONTROL AMBIENTAL",
           "CONTROL AMBIENTAL"
          ],
          [
           "MINISTERIO DE AMBIENTE Y ESPACIO PUBLICO",
           "MINISTERIO DE AMBIENTE Y ESPACIO PUBLICO",
           "DIRECCION GENERAL CONTROL DE GESTION",
           "CONTROL DE GESTION Y RECLAMOS",
           "CONTROL DE GESTION Y RECLAMOS"
          ],
          [
           "MINISTERIO DE AMBIENTE Y ESPACIO PUBLICO",
           "MINISTERIO DE AMBIENTE Y ESPACIO PUBLICO",
           "DIRECCION GENERAL DE LIMPIEZA",
           "CONTROL DE PLAGAS",
           "CONTROL DE PLAGAS"
          ],
          [
           "MINISTERIO DE AMBIENTE Y ESPACIO PUBLICO",
           "MINISTERIO DE AMBIENTE Y ESPACIO PUBLICO",
           "DIRECCION GENERAL DE ESPACIOS VERDES",
           "CUIDADO Y PUESTA EN VALOR DE ESPACIOS VERDES",
           "CUIDADO Y PUESTA EN VALOR DE ESPACIOS VERDES"
          ],
          [
           "MINISTERIO DE AMBIENTE Y ESPACIO PUBLICO",
           "AGENCIA AMBIENTAL",
           "DIRECCION GENERAL POLITICA Y ESTRATEGIA AMBIENTAL",
           "ESTRATEGIAS AMBIENTALES",
           "ESTRATEGIAS AMBIENTALES"
          ],
          [
           "MINISTERIO DE AMBIENTE Y ESPACIO PUBLICO",
           "AGENCIA AMBIENTAL",
           "DIRECCION GENERAL DE EVALUACION AMBIENTAL",
           "EVALUACION TECNICA",
           "EVALUACION TECNICA"
          ],
          [
           "MINISTERIO DE AMBIENTE Y ESPACIO PUBLICO",
           "AGENCIA AMBIENTAL",
           "AGENCIA AMBIENTAL",
           "INTERVENCIONES VETERINARIAS",
           "INTERVENCIONES VETERINARIAS"
          ],
          [
           "MINISTERIO DE AMBIENTE Y ESPACIO PUBLICO",
           "AGENCIA AMBIENTAL",
           "DIRECCION GENERAL DE CONTROL",
           "LABORATORIO DE ANALISIS Y CALIDAD AMBIENTAL",
           "LABORATORIO DE ANALISIS Y CALIDAD AMBIENTAL"
          ],
          [
           "MINISTERIO DE AMBIENTE Y ESPACIO PUBLICO",
           "MINISTERIO DE AMBIENTE Y ESPACIO PUBLICO",
           "DIRECCION GENERAL DE ESPACIOS VERDES",
           "CUIDADO Y PUESTA EN VALOR DE ESPACIOS VERDES",
           "OBRAS BA ELIGE EV"
          ],
          [
           "MINISTERIO DE AMBIENTE Y ESPACIO PUBLICO",
           "MINISTERIO DE AMBIENTE Y ESPACIO PUBLICO",
           "DIRECCION GENERAL DE ESPACIOS VERDES",
           "CUIDADO Y PUESTA EN VALOR DE ESPACIOS VERDES",
           "OBRAS DE ESPACIOS VERDES"
          ],
          [
           "MINISTERIO DE AMBIENTE Y ESPACIO PUBLICO",
           "MINISTERIO DE AMBIENTE Y ESPACIO PUBLICO",
           "DIRECCION GENERAL DE ESPACIOS VERDES",
           "CUIDADO Y PUESTA EN VALOR DE ESPACIOS VERDES",
           "OBRAS DE ESPACIOS VERDES II"
          ],
          [
           "MINISTERIO DE AMBIENTE Y ESPACIO PUBLICO",
           "MINISTERIO DE AMBIENTE Y ESPACIO PUBLICO",
           "UPE ECOPARQUE INTERACTIVO DE LA CABA",
           "CONSERVACION DE LA BIODIVERSIDAD",
           "OBRAS ECOPARQUE MAYEP"
          ],
          [
           "MINISTERIO DE AMBIENTE Y ESPACIO PUBLICO",
           "AGENCIA AMBIENTAL",
           "DIRECCION GENERAL POLITICA Y ESTRATEGIA AMBIENTAL",
           "PROGRAMA DE CAMBIO CLIMATICO E INFORMACION AMBIENTAL",
           "PROGRAMA DE CAMBIO CLIMATICO E INFORMACION AMBIENTAL"
          ],
          [
           "MINISTERIO DE AMBIENTE Y ESPACIO PUBLICO",
           "AGENCIA AMBIENTAL",
           "DIRECCION GENERAL POLITICA Y ESTRATEGIA AMBIENTAL",
           "PROGRAMA DE GESTION ENERGETICA",
           "PROGRAMA DE GESTION ENERGETICA"
          ],
          [
           "MINISTERIO DE AMBIENTE Y ESPACIO PUBLICO",
           "AGENCIA AMBIENTAL",
           "DIRECCION GENERAL POLITICA Y ESTRATEGIA AMBIENTAL",
           "PROGRAMA DE RESIDUOS DE MANEJO ESPECIAL",
           "PROGRAMA DE RESIDUOS DE MANEJO ESPECIAL"
          ],
          [
           "MINISTERIO DE AMBIENTE Y ESPACIO PUBLICO",
           "AGENCIA AMBIENTAL",
           "DIRECCION GENERAL DE CONTROL",
           "REDES AMBIENTALES",
           "REDES AMBIENTALES"
          ],
          [
           "MINISTERIO DE AMBIENTE Y ESPACIO PUBLICO",
           "AGENCIA AMBIENTAL",
           "AGENCIA AMBIENTAL",
           "SANIDAD Y TENENCIA RESPONSABLE DE MASCOTAS",
           "SANIDAD Y TENENCIA RESPONSABLE DE MASCOTAS"
          ],
          [
           "MINISTERIO DE AMBIENTE Y ESPACIO PUBLICO",
           "MINISTERIO DE AMBIENTE Y ESPACIO PUBLICO",
           "DIRECCION GENERAL DE LIMPIEZA",
           "SERVICIOS DE HIGIENE URBANA",
           "SERVICIO DE LIMPIEZA DE ARROYOS"
          ],
          [
           "MINISTERIO DE AMBIENTE Y ESPACIO PUBLICO",
           "MINISTERIO DE AMBIENTE Y ESPACIO PUBLICO",
           "DIRECCION GENERAL TECNICO ADMINISTRATIVA Y LEGAL",
           "TECNICA ADMINISTRATIVA Y LEGAL",
           "TECNICA ADMINISTRATIVA Y LEGAL"
          ],
          [
           "MINISTERIO DE AMBIENTE Y ESPACIO PUBLICO",
           "MINISTERIO DE AMBIENTE Y ESPACIO PUBLICO",
           "DIRECCION GENERAL DE ESPACIOS VERDES",
           "CUIDADO Y PUESTA EN VALOR DE ESPACIOS VERDES",
           "VALORIZACION DE LOS ESPACIOS VERDES"
          ],
          [
           "MINISTERIO DE AMBIENTE Y ESPACIO PUBLICO",
           "AGENCIA AMBIENTAL",
           "DIRECCION GENERAL DE CONTROL",
           "ACCIONES PARA LA RESTAURACION ECOLOGICA",
           "ACCIONES PARA LA RESTAURACION ECOLOGICA"
          ],
          [
           "MINISTERIO DE AMBIENTE Y ESPACIO PUBLICO",
           "MINISTERIO DE AMBIENTE Y ESPACIO PUBLICO",
           "MINISTERIO AMBIENTE Y ESPACIO PUBLICO",
           "ACTIVIDADES CENTRALES AMBIENTE Y ESPACIO PUBLICO",
           "ACTIVIDADES CENTRALES AMBIENTE Y ESPACIO PUBLICO"
          ],
          [
           "MINISTERIO DE AMBIENTE Y ESPACIO PUBLICO",
           "MINISTERIO DE AMBIENTE Y ESPACIO PUBLICO",
           "SUBSECRETARIA DE ADMINISTRACION GENERAL Y DE USO DEL ESPACIO PUBLICO",
           "ACTIVIDADES COMUNES A LOS PROG 21,22,23,75,76 Y 77",
           "ACTIVIDADES COMUNES A LOS PROG 21,22,23,75,76 Y 77"
          ],
          [
           "MINISTERIO DE AMBIENTE Y ESPACIO PUBLICO",
           "AGENCIA AMBIENTAL",
           "AGENCIA AMBIENTAL",
           "ACTIVIDADES COMUNES A LOS PROG. 91 AL 103",
           "ACTIVIDADES COMUNES A LOS PROG. 91 AL 103"
          ],
          [
           "MINISTERIO DE AMBIENTE Y ESPACIO PUBLICO",
           "MINISTERIO DE AMBIENTE Y ESPACIO PUBLICO",
           "SUBSECRETARIA DE HIGIENE URBANA",
           "ACTIVIDADES COMUNES A LOS PROGRAMAS: 11-52-53-57-58-59",
           "ACTIVIDADES COMUNES A LOS PROGRAMAS: 11-52-53-57-58-59"
          ],
          [
           "MINISTERIO DE AMBIENTE Y ESPACIO PUBLICO",
           "AGENCIA AMBIENTAL",
           "DIRECCION GENERAL POLITICA Y ESTRATEGIA AMBIENTAL",
           "BUENOS AIRES PRODUCE MAS LIMPIO (P+L)",
           "BUENOS AIRES PRODUCE MAS LIMPIO (P+L)"
          ],
          [
           "MINISTERIO DE AMBIENTE Y ESPACIO PUBLICO",
           "AGENCIA AMBIENTAL",
           "DIRECCION GENERAL DE EVALUACION AMBIENTAL",
           "COMPENSACION AMBIENTAL",
           "COMPENSACION AMBIENTAL"
          ],
          [
           "MINISTERIO DE AMBIENTE Y ESPACIO PUBLICO",
           "MINISTERIO DE AMBIENTE Y ESPACIO PUBLICO",
           "UPE ECOPARQUE INTERACTIVO DE LA CABA",
           "CONSERVACION DE LA BIODIVERSIDAD",
           "(?)"
          ],
          [
           "MINISTERIO DE AMBIENTE Y ESPACIO PUBLICO",
           "AGENCIA AMBIENTAL",
           "DIRECCION GENERAL DE CONTROL",
           "CONTROL AMBIENTAL",
           "CONTROL AMBIENTAL"
          ],
          [
           "MINISTERIO DE AMBIENTE Y ESPACIO PUBLICO",
           "MINISTERIO DE AMBIENTE Y ESPACIO PUBLICO",
           "DIRECCION GENERAL CONTROL DE GESTION",
           "CONTROL DE GESTION Y RECLAMOS",
           "CONTROL DE GESTION Y RECLAMOS"
          ],
          [
           "MINISTERIO DE AMBIENTE Y ESPACIO PUBLICO",
           "MINISTERIO DE AMBIENTE Y ESPACIO PUBLICO",
           "DIRECCION GENERAL DE LIMPIEZA",
           "CONTROL DE PLAGAS",
           "CONTROL DE PLAGAS"
          ],
          [
           "MINISTERIO DE AMBIENTE Y ESPACIO PUBLICO",
           "MINISTERIO DE AMBIENTE Y ESPACIO PUBLICO",
           "DIRECCION GENERAL DE ESPACIOS VERDES",
           "CUIDADO Y PUESTA EN VALOR DE ESPACIOS VERDES",
           "(?)"
          ],
          [
           "MINISTERIO DE AMBIENTE Y ESPACIO PUBLICO",
           "AGENCIA AMBIENTAL",
           "DIRECCION GENERAL POLITICA Y ESTRATEGIA AMBIENTAL",
           "ESTRATEGIAS AMBIENTALES",
           "ESTRATEGIAS AMBIENTALES"
          ],
          [
           "MINISTERIO DE AMBIENTE Y ESPACIO PUBLICO",
           "AGENCIA AMBIENTAL",
           "DIRECCION GENERAL DE EVALUACION AMBIENTAL",
           "EVALUACION TECNICA",
           "EVALUACION TECNICA"
          ],
          [
           "MINISTERIO DE AMBIENTE Y ESPACIO PUBLICO",
           "AGENCIA AMBIENTAL",
           "AGENCIA AMBIENTAL",
           "INTERVENCIONES VETERINARIAS",
           "INTERVENCIONES VETERINARIAS"
          ],
          [
           "MINISTERIO DE AMBIENTE Y ESPACIO PUBLICO",
           "AGENCIA AMBIENTAL",
           "DIRECCION GENERAL DE CONTROL",
           "LABORATORIO DE ANALISIS Y CALIDAD AMBIENTAL",
           "LABORATORIO DE ANALISIS Y CALIDAD AMBIENTAL"
          ],
          [
           "MINISTERIO DE AMBIENTE Y ESPACIO PUBLICO",
           "AGENCIA AMBIENTAL",
           "DIRECCION GENERAL POLITICA Y ESTRATEGIA AMBIENTAL",
           "PROGRAMA DE CAMBIO CLIMATICO E INFORMACION AMBIENTAL",
           "PROGRAMA DE CAMBIO CLIMATICO E INFORMACION AMBIENTAL"
          ],
          [
           "MINISTERIO DE AMBIENTE Y ESPACIO PUBLICO",
           "AGENCIA AMBIENTAL",
           "DIRECCION GENERAL POLITICA Y ESTRATEGIA AMBIENTAL",
           "PROGRAMA DE GESTION ENERGETICA",
           "PROGRAMA DE GESTION ENERGETICA"
          ],
          [
           "MINISTERIO DE AMBIENTE Y ESPACIO PUBLICO",
           "AGENCIA AMBIENTAL",
           "DIRECCION GENERAL POLITICA Y ESTRATEGIA AMBIENTAL",
           "PROGRAMA DE RESIDUOS DE MANEJO ESPECIAL",
           "PROGRAMA DE RESIDUOS DE MANEJO ESPECIAL"
          ],
          [
           "MINISTERIO DE AMBIENTE Y ESPACIO PUBLICO",
           "AGENCIA AMBIENTAL",
           "DIRECCION GENERAL DE CONTROL",
           "REDES AMBIENTALES",
           "REDES AMBIENTALES"
          ],
          [
           "MINISTERIO DE AMBIENTE Y ESPACIO PUBLICO",
           "AGENCIA AMBIENTAL",
           "AGENCIA AMBIENTAL",
           "SANIDAD Y TENENCIA RESPONSABLE DE MASCOTAS",
           "SANIDAD Y TENENCIA RESPONSABLE DE MASCOTAS"
          ],
          [
           "MINISTERIO DE AMBIENTE Y ESPACIO PUBLICO",
           "MINISTERIO DE AMBIENTE Y ESPACIO PUBLICO",
           "DIRECCION GENERAL DE LIMPIEZA",
           "SERVICIOS DE HIGIENE URBANA",
           "(?)"
          ],
          [
           "MINISTERIO DE AMBIENTE Y ESPACIO PUBLICO",
           "MINISTERIO DE AMBIENTE Y ESPACIO PUBLICO",
           "DIRECCION GENERAL TECNICO ADMINISTRATIVA Y LEGAL",
           "TECNICA ADMINISTRATIVA Y LEGAL",
           "TECNICA ADMINISTRATIVA Y LEGAL"
          ],
          [
           "MINISTERIO DE AMBIENTE Y ESPACIO PUBLICO",
           "AGENCIA AMBIENTAL",
           "AGENCIA AMBIENTAL",
           "(?)",
           "(?)"
          ],
          [
           "MINISTERIO DE AMBIENTE Y ESPACIO PUBLICO",
           "MINISTERIO DE AMBIENTE Y ESPACIO PUBLICO",
           "DIRECCION GENERAL CONTROL DE GESTION",
           "CONTROL DE GESTION Y RECLAMOS",
           "CONTROL DE GESTION Y RECLAMOS"
          ],
          [
           "MINISTERIO DE AMBIENTE Y ESPACIO PUBLICO",
           "AGENCIA AMBIENTAL",
           "DIRECCION GENERAL DE CONTROL",
           "(?)",
           "(?)"
          ],
          [
           "MINISTERIO DE AMBIENTE Y ESPACIO PUBLICO",
           "MINISTERIO DE AMBIENTE Y ESPACIO PUBLICO",
           "DIRECCION GENERAL DE ESPACIOS VERDES",
           "CUIDADO Y PUESTA EN VALOR DE ESPACIOS VERDES",
           "(?)"
          ],
          [
           "MINISTERIO DE AMBIENTE Y ESPACIO PUBLICO",
           "AGENCIA AMBIENTAL",
           "DIRECCION GENERAL DE EVALUACION AMBIENTAL",
           "(?)",
           "(?)"
          ],
          [
           "MINISTERIO DE AMBIENTE Y ESPACIO PUBLICO",
           "MINISTERIO DE AMBIENTE Y ESPACIO PUBLICO",
           "DIRECCION GENERAL DE LIMPIEZA",
           "(?)",
           "(?)"
          ],
          [
           "MINISTERIO DE AMBIENTE Y ESPACIO PUBLICO",
           "AGENCIA AMBIENTAL",
           "DIRECCION GENERAL POLITICA Y ESTRATEGIA AMBIENTAL",
           "(?)",
           "(?)"
          ],
          [
           "MINISTERIO DE AMBIENTE Y ESPACIO PUBLICO",
           "MINISTERIO DE AMBIENTE Y ESPACIO PUBLICO",
           "DIRECCION GENERAL TECNICO ADMINISTRATIVA Y LEGAL",
           "TECNICA ADMINISTRATIVA Y LEGAL",
           "TECNICA ADMINISTRATIVA Y LEGAL"
          ],
          [
           "MINISTERIO DE AMBIENTE Y ESPACIO PUBLICO",
           "MINISTERIO DE AMBIENTE Y ESPACIO PUBLICO",
           "MINISTERIO AMBIENTE Y ESPACIO PUBLICO",
           "ACTIVIDADES CENTRALES AMBIENTE Y ESPACIO PUBLICO",
           "ACTIVIDADES CENTRALES AMBIENTE Y ESPACIO PUBLICO"
          ],
          [
           "MINISTERIO DE AMBIENTE Y ESPACIO PUBLICO",
           "MINISTERIO DE AMBIENTE Y ESPACIO PUBLICO",
           "SUBSECRETARIA DE ADMINISTRACION GENERAL Y DE USO DEL ESPACIO PUBLICO",
           "ACTIVIDADES COMUNES A LOS PROG 21,22,23,75,76 Y 77",
           "ACTIVIDADES COMUNES A LOS PROG 21,22,23,75,76 Y 77"
          ],
          [
           "MINISTERIO DE AMBIENTE Y ESPACIO PUBLICO",
           "MINISTERIO DE AMBIENTE Y ESPACIO PUBLICO",
           "SUBSECRETARIA DE HIGIENE URBANA",
           "ACTIVIDADES COMUNES A LOS PROGRAMAS: 11-52-53-57-58-59",
           "ACTIVIDADES COMUNES A LOS PROGRAMAS: 11-52-53-57-58-59"
          ],
          [
           "MINISTERIO DE AMBIENTE Y ESPACIO PUBLICO",
           "MINISTERIO DE AMBIENTE Y ESPACIO PUBLICO",
           "UPE ECOPARQUE INTERACTIVO DE LA CABA",
           "CONSERVACION DE LA BIODIVERSIDAD",
           "(?)"
          ],
          [
           "MINISTERIO DE AMBIENTE Y ESPACIO PUBLICO",
           "AGENCIA AMBIENTAL",
           "(?)",
           "(?)",
           "(?)"
          ],
          [
           "MINISTERIO DE AMBIENTE Y ESPACIO PUBLICO",
           "MINISTERIO DE AMBIENTE Y ESPACIO PUBLICO",
           "(?)",
           "(?)",
           "(?)"
          ],
          [
           "MINISTERIO DE AMBIENTE Y ESPACIO PUBLICO",
           "(?)",
           "(?)",
           "(?)",
           "(?)"
          ]
         ],
         "domain": {
          "x": [
           0,
           1
          ],
          "y": [
           0,
           1
          ]
         },
         "hovertemplate": "<b>%{label}</b> <br>$%{value:,.0f}</b> \n                <br>\n                    <br>JURISDICCION: %{customdata[0]}</b>\n                    <br>UNIDAD_EJECUTORA: %{customdata[2]}</b> \n                    <br>\n                        <br>PROGRAMA: %{customdata[3]}</b> \n                        <br>PROYECTO: %{customdata[4]}</b>\n                    </b>\n                </b> ",
         "ids": [
          "MINISTERIO DE AMBIENTE Y ESPACIO PUBLICO/MINISTERIO DE AMBIENTE Y ESPACIO PUBLICO/DIRECCION GENERAL DE LIMPIEZA/SERVICIOS DE HIGIENE URBANA/A.CU.MAR - RIACHUELO",
          "MINISTERIO DE AMBIENTE Y ESPACIO PUBLICO/AGENCIA AMBIENTAL/DIRECCION GENERAL DE CONTROL/ACCIONES PARA LA RESTAURACION ECOLOGICA/ACCIONES PARA LA RESTAURACION ECOLOGICA",
          "MINISTERIO DE AMBIENTE Y ESPACIO PUBLICO/MINISTERIO DE AMBIENTE Y ESPACIO PUBLICO/MINISTERIO AMBIENTE Y ESPACIO PUBLICO/ACTIVIDADES CENTRALES AMBIENTE Y ESPACIO PUBLICO/ACTIVIDADES CENTRALES AMBIENTE Y ESPACIO PUBLICO",
          "MINISTERIO DE AMBIENTE Y ESPACIO PUBLICO/MINISTERIO DE AMBIENTE Y ESPACIO PUBLICO/SUBSECRETARIA DE ADMINISTRACION GENERAL Y DE USO DEL ESPACIO PUBLICO/ACTIVIDADES COMUNES A LOS PROG 21,22,23,75,76 Y 77/ACTIVIDADES COMUNES A LOS PROG 21,22,23,75,76 Y 77",
          "MINISTERIO DE AMBIENTE Y ESPACIO PUBLICO/AGENCIA AMBIENTAL/AGENCIA AMBIENTAL/ACTIVIDADES COMUNES A LOS PROG. 91 AL 103/ACTIVIDADES COMUNES A LOS PROG. 91 AL 103",
          "MINISTERIO DE AMBIENTE Y ESPACIO PUBLICO/MINISTERIO DE AMBIENTE Y ESPACIO PUBLICO/SUBSECRETARIA DE HIGIENE URBANA/ACTIVIDADES COMUNES A LOS PROGRAMAS: 11-52-53-57-58-59/ACTIVIDADES COMUNES A LOS PROGRAMAS: 11-52-53-57-58-59",
          "MINISTERIO DE AMBIENTE Y ESPACIO PUBLICO/AGENCIA AMBIENTAL/DIRECCION GENERAL POLITICA Y ESTRATEGIA AMBIENTAL/BUENOS AIRES PRODUCE MAS LIMPIO (P+L)/BUENOS AIRES PRODUCE MAS LIMPIO (P+L)",
          "MINISTERIO DE AMBIENTE Y ESPACIO PUBLICO/AGENCIA AMBIENTAL/DIRECCION GENERAL DE EVALUACION AMBIENTAL/COMPENSACION AMBIENTAL/COMPENSACION AMBIENTAL",
          "MINISTERIO DE AMBIENTE Y ESPACIO PUBLICO/MINISTERIO DE AMBIENTE Y ESPACIO PUBLICO/UPE ECOPARQUE INTERACTIVO DE LA CABA/CONSERVACION DE LA BIODIVERSIDAD/CONSERVACION DE LA BIODIVERSIDAD",
          "MINISTERIO DE AMBIENTE Y ESPACIO PUBLICO/AGENCIA AMBIENTAL/DIRECCION GENERAL DE CONTROL/CONTROL AMBIENTAL/CONTROL AMBIENTAL",
          "MINISTERIO DE AMBIENTE Y ESPACIO PUBLICO/MINISTERIO DE AMBIENTE Y ESPACIO PUBLICO/DIRECCION GENERAL CONTROL DE GESTION/CONTROL DE GESTION Y RECLAMOS/CONTROL DE GESTION Y RECLAMOS",
          "MINISTERIO DE AMBIENTE Y ESPACIO PUBLICO/MINISTERIO DE AMBIENTE Y ESPACIO PUBLICO/DIRECCION GENERAL DE LIMPIEZA/CONTROL DE PLAGAS/CONTROL DE PLAGAS",
          "MINISTERIO DE AMBIENTE Y ESPACIO PUBLICO/MINISTERIO DE AMBIENTE Y ESPACIO PUBLICO/DIRECCION GENERAL DE ESPACIOS VERDES/CUIDADO Y PUESTA EN VALOR DE ESPACIOS VERDES/CUIDADO Y PUESTA EN VALOR DE ESPACIOS VERDES",
          "MINISTERIO DE AMBIENTE Y ESPACIO PUBLICO/AGENCIA AMBIENTAL/DIRECCION GENERAL POLITICA Y ESTRATEGIA AMBIENTAL/ESTRATEGIAS AMBIENTALES/ESTRATEGIAS AMBIENTALES",
          "MINISTERIO DE AMBIENTE Y ESPACIO PUBLICO/AGENCIA AMBIENTAL/DIRECCION GENERAL DE EVALUACION AMBIENTAL/EVALUACION TECNICA/EVALUACION TECNICA",
          "MINISTERIO DE AMBIENTE Y ESPACIO PUBLICO/AGENCIA AMBIENTAL/AGENCIA AMBIENTAL/INTERVENCIONES VETERINARIAS/INTERVENCIONES VETERINARIAS",
          "MINISTERIO DE AMBIENTE Y ESPACIO PUBLICO/AGENCIA AMBIENTAL/DIRECCION GENERAL DE CONTROL/LABORATORIO DE ANALISIS Y CALIDAD AMBIENTAL/LABORATORIO DE ANALISIS Y CALIDAD AMBIENTAL",
          "MINISTERIO DE AMBIENTE Y ESPACIO PUBLICO/MINISTERIO DE AMBIENTE Y ESPACIO PUBLICO/DIRECCION GENERAL DE ESPACIOS VERDES/CUIDADO Y PUESTA EN VALOR DE ESPACIOS VERDES/OBRAS BA ELIGE EV",
          "MINISTERIO DE AMBIENTE Y ESPACIO PUBLICO/MINISTERIO DE AMBIENTE Y ESPACIO PUBLICO/DIRECCION GENERAL DE ESPACIOS VERDES/CUIDADO Y PUESTA EN VALOR DE ESPACIOS VERDES/OBRAS DE ESPACIOS VERDES",
          "MINISTERIO DE AMBIENTE Y ESPACIO PUBLICO/MINISTERIO DE AMBIENTE Y ESPACIO PUBLICO/DIRECCION GENERAL DE ESPACIOS VERDES/CUIDADO Y PUESTA EN VALOR DE ESPACIOS VERDES/OBRAS DE ESPACIOS VERDES II",
          "MINISTERIO DE AMBIENTE Y ESPACIO PUBLICO/MINISTERIO DE AMBIENTE Y ESPACIO PUBLICO/UPE ECOPARQUE INTERACTIVO DE LA CABA/CONSERVACION DE LA BIODIVERSIDAD/OBRAS ECOPARQUE MAYEP",
          "MINISTERIO DE AMBIENTE Y ESPACIO PUBLICO/AGENCIA AMBIENTAL/DIRECCION GENERAL POLITICA Y ESTRATEGIA AMBIENTAL/PROGRAMA DE CAMBIO CLIMATICO E INFORMACION AMBIENTAL/PROGRAMA DE CAMBIO CLIMATICO E INFORMACION AMBIENTAL",
          "MINISTERIO DE AMBIENTE Y ESPACIO PUBLICO/AGENCIA AMBIENTAL/DIRECCION GENERAL POLITICA Y ESTRATEGIA AMBIENTAL/PROGRAMA DE GESTION ENERGETICA/PROGRAMA DE GESTION ENERGETICA",
          "MINISTERIO DE AMBIENTE Y ESPACIO PUBLICO/AGENCIA AMBIENTAL/DIRECCION GENERAL POLITICA Y ESTRATEGIA AMBIENTAL/PROGRAMA DE RESIDUOS DE MANEJO ESPECIAL/PROGRAMA DE RESIDUOS DE MANEJO ESPECIAL",
          "MINISTERIO DE AMBIENTE Y ESPACIO PUBLICO/AGENCIA AMBIENTAL/DIRECCION GENERAL DE CONTROL/REDES AMBIENTALES/REDES AMBIENTALES",
          "MINISTERIO DE AMBIENTE Y ESPACIO PUBLICO/AGENCIA AMBIENTAL/AGENCIA AMBIENTAL/SANIDAD Y TENENCIA RESPONSABLE DE MASCOTAS/SANIDAD Y TENENCIA RESPONSABLE DE MASCOTAS",
          "MINISTERIO DE AMBIENTE Y ESPACIO PUBLICO/MINISTERIO DE AMBIENTE Y ESPACIO PUBLICO/DIRECCION GENERAL DE LIMPIEZA/SERVICIOS DE HIGIENE URBANA/SERVICIO DE LIMPIEZA DE ARROYOS",
          "MINISTERIO DE AMBIENTE Y ESPACIO PUBLICO/MINISTERIO DE AMBIENTE Y ESPACIO PUBLICO/DIRECCION GENERAL TECNICO ADMINISTRATIVA Y LEGAL/TECNICA ADMINISTRATIVA Y LEGAL/TECNICA ADMINISTRATIVA Y LEGAL",
          "MINISTERIO DE AMBIENTE Y ESPACIO PUBLICO/MINISTERIO DE AMBIENTE Y ESPACIO PUBLICO/DIRECCION GENERAL DE ESPACIOS VERDES/CUIDADO Y PUESTA EN VALOR DE ESPACIOS VERDES/VALORIZACION DE LOS ESPACIOS VERDES",
          "MINISTERIO DE AMBIENTE Y ESPACIO PUBLICO/AGENCIA AMBIENTAL/DIRECCION GENERAL DE CONTROL/ACCIONES PARA LA RESTAURACION ECOLOGICA",
          "MINISTERIO DE AMBIENTE Y ESPACIO PUBLICO/MINISTERIO DE AMBIENTE Y ESPACIO PUBLICO/MINISTERIO AMBIENTE Y ESPACIO PUBLICO/ACTIVIDADES CENTRALES AMBIENTE Y ESPACIO PUBLICO",
          "MINISTERIO DE AMBIENTE Y ESPACIO PUBLICO/MINISTERIO DE AMBIENTE Y ESPACIO PUBLICO/SUBSECRETARIA DE ADMINISTRACION GENERAL Y DE USO DEL ESPACIO PUBLICO/ACTIVIDADES COMUNES A LOS PROG 21,22,23,75,76 Y 77",
          "MINISTERIO DE AMBIENTE Y ESPACIO PUBLICO/AGENCIA AMBIENTAL/AGENCIA AMBIENTAL/ACTIVIDADES COMUNES A LOS PROG. 91 AL 103",
          "MINISTERIO DE AMBIENTE Y ESPACIO PUBLICO/MINISTERIO DE AMBIENTE Y ESPACIO PUBLICO/SUBSECRETARIA DE HIGIENE URBANA/ACTIVIDADES COMUNES A LOS PROGRAMAS: 11-52-53-57-58-59",
          "MINISTERIO DE AMBIENTE Y ESPACIO PUBLICO/AGENCIA AMBIENTAL/DIRECCION GENERAL POLITICA Y ESTRATEGIA AMBIENTAL/BUENOS AIRES PRODUCE MAS LIMPIO (P+L)",
          "MINISTERIO DE AMBIENTE Y ESPACIO PUBLICO/AGENCIA AMBIENTAL/DIRECCION GENERAL DE EVALUACION AMBIENTAL/COMPENSACION AMBIENTAL",
          "MINISTERIO DE AMBIENTE Y ESPACIO PUBLICO/MINISTERIO DE AMBIENTE Y ESPACIO PUBLICO/UPE ECOPARQUE INTERACTIVO DE LA CABA/CONSERVACION DE LA BIODIVERSIDAD",
          "MINISTERIO DE AMBIENTE Y ESPACIO PUBLICO/AGENCIA AMBIENTAL/DIRECCION GENERAL DE CONTROL/CONTROL AMBIENTAL",
          "MINISTERIO DE AMBIENTE Y ESPACIO PUBLICO/MINISTERIO DE AMBIENTE Y ESPACIO PUBLICO/DIRECCION GENERAL CONTROL DE GESTION/CONTROL DE GESTION Y RECLAMOS",
          "MINISTERIO DE AMBIENTE Y ESPACIO PUBLICO/MINISTERIO DE AMBIENTE Y ESPACIO PUBLICO/DIRECCION GENERAL DE LIMPIEZA/CONTROL DE PLAGAS",
          "MINISTERIO DE AMBIENTE Y ESPACIO PUBLICO/MINISTERIO DE AMBIENTE Y ESPACIO PUBLICO/DIRECCION GENERAL DE ESPACIOS VERDES/CUIDADO Y PUESTA EN VALOR DE ESPACIOS VERDES",
          "MINISTERIO DE AMBIENTE Y ESPACIO PUBLICO/AGENCIA AMBIENTAL/DIRECCION GENERAL POLITICA Y ESTRATEGIA AMBIENTAL/ESTRATEGIAS AMBIENTALES",
          "MINISTERIO DE AMBIENTE Y ESPACIO PUBLICO/AGENCIA AMBIENTAL/DIRECCION GENERAL DE EVALUACION AMBIENTAL/EVALUACION TECNICA",
          "MINISTERIO DE AMBIENTE Y ESPACIO PUBLICO/AGENCIA AMBIENTAL/AGENCIA AMBIENTAL/INTERVENCIONES VETERINARIAS",
          "MINISTERIO DE AMBIENTE Y ESPACIO PUBLICO/AGENCIA AMBIENTAL/DIRECCION GENERAL DE CONTROL/LABORATORIO DE ANALISIS Y CALIDAD AMBIENTAL",
          "MINISTERIO DE AMBIENTE Y ESPACIO PUBLICO/AGENCIA AMBIENTAL/DIRECCION GENERAL POLITICA Y ESTRATEGIA AMBIENTAL/PROGRAMA DE CAMBIO CLIMATICO E INFORMACION AMBIENTAL",
          "MINISTERIO DE AMBIENTE Y ESPACIO PUBLICO/AGENCIA AMBIENTAL/DIRECCION GENERAL POLITICA Y ESTRATEGIA AMBIENTAL/PROGRAMA DE GESTION ENERGETICA",
          "MINISTERIO DE AMBIENTE Y ESPACIO PUBLICO/AGENCIA AMBIENTAL/DIRECCION GENERAL POLITICA Y ESTRATEGIA AMBIENTAL/PROGRAMA DE RESIDUOS DE MANEJO ESPECIAL",
          "MINISTERIO DE AMBIENTE Y ESPACIO PUBLICO/AGENCIA AMBIENTAL/DIRECCION GENERAL DE CONTROL/REDES AMBIENTALES",
          "MINISTERIO DE AMBIENTE Y ESPACIO PUBLICO/AGENCIA AMBIENTAL/AGENCIA AMBIENTAL/SANIDAD Y TENENCIA RESPONSABLE DE MASCOTAS",
          "MINISTERIO DE AMBIENTE Y ESPACIO PUBLICO/MINISTERIO DE AMBIENTE Y ESPACIO PUBLICO/DIRECCION GENERAL DE LIMPIEZA/SERVICIOS DE HIGIENE URBANA",
          "MINISTERIO DE AMBIENTE Y ESPACIO PUBLICO/MINISTERIO DE AMBIENTE Y ESPACIO PUBLICO/DIRECCION GENERAL TECNICO ADMINISTRATIVA Y LEGAL/TECNICA ADMINISTRATIVA Y LEGAL",
          "MINISTERIO DE AMBIENTE Y ESPACIO PUBLICO/AGENCIA AMBIENTAL/AGENCIA AMBIENTAL",
          "MINISTERIO DE AMBIENTE Y ESPACIO PUBLICO/MINISTERIO DE AMBIENTE Y ESPACIO PUBLICO/DIRECCION GENERAL CONTROL DE GESTION",
          "MINISTERIO DE AMBIENTE Y ESPACIO PUBLICO/AGENCIA AMBIENTAL/DIRECCION GENERAL DE CONTROL",
          "MINISTERIO DE AMBIENTE Y ESPACIO PUBLICO/MINISTERIO DE AMBIENTE Y ESPACIO PUBLICO/DIRECCION GENERAL DE ESPACIOS VERDES",
          "MINISTERIO DE AMBIENTE Y ESPACIO PUBLICO/AGENCIA AMBIENTAL/DIRECCION GENERAL DE EVALUACION AMBIENTAL",
          "MINISTERIO DE AMBIENTE Y ESPACIO PUBLICO/MINISTERIO DE AMBIENTE Y ESPACIO PUBLICO/DIRECCION GENERAL DE LIMPIEZA",
          "MINISTERIO DE AMBIENTE Y ESPACIO PUBLICO/AGENCIA AMBIENTAL/DIRECCION GENERAL POLITICA Y ESTRATEGIA AMBIENTAL",
          "MINISTERIO DE AMBIENTE Y ESPACIO PUBLICO/MINISTERIO DE AMBIENTE Y ESPACIO PUBLICO/DIRECCION GENERAL TECNICO ADMINISTRATIVA Y LEGAL",
          "MINISTERIO DE AMBIENTE Y ESPACIO PUBLICO/MINISTERIO DE AMBIENTE Y ESPACIO PUBLICO/MINISTERIO AMBIENTE Y ESPACIO PUBLICO",
          "MINISTERIO DE AMBIENTE Y ESPACIO PUBLICO/MINISTERIO DE AMBIENTE Y ESPACIO PUBLICO/SUBSECRETARIA DE ADMINISTRACION GENERAL Y DE USO DEL ESPACIO PUBLICO",
          "MINISTERIO DE AMBIENTE Y ESPACIO PUBLICO/MINISTERIO DE AMBIENTE Y ESPACIO PUBLICO/SUBSECRETARIA DE HIGIENE URBANA",
          "MINISTERIO DE AMBIENTE Y ESPACIO PUBLICO/MINISTERIO DE AMBIENTE Y ESPACIO PUBLICO/UPE ECOPARQUE INTERACTIVO DE LA CABA",
          "MINISTERIO DE AMBIENTE Y ESPACIO PUBLICO/AGENCIA AMBIENTAL",
          "MINISTERIO DE AMBIENTE Y ESPACIO PUBLICO/MINISTERIO DE AMBIENTE Y ESPACIO PUBLICO",
          "MINISTERIO DE AMBIENTE Y ESPACIO PUBLICO"
         ],
         "insidetextorientation": "auto",
         "labels": [
          "A.CU.MAR - RIACHUELO",
          "ACCIONES PARA LA RESTAURACION ECOLOGICA",
          "ACTIVIDADES CENTRALES AMBIENTE Y ESPACIO PUBLICO",
          "ACTIVIDADES COMUNES A LOS PROG 21,22,23,75,76 Y 77",
          "ACTIVIDADES COMUNES A LOS PROG. 91 AL 103",
          "ACTIVIDADES COMUNES A LOS PROGRAMAS: 11-52-53-57-58-59",
          "BUENOS AIRES PRODUCE MAS LIMPIO (P+L)",
          "COMPENSACION AMBIENTAL",
          "CONSERVACION DE LA BIODIVERSIDAD",
          "CONTROL AMBIENTAL",
          "CONTROL DE GESTION Y RECLAMOS",
          "CONTROL DE PLAGAS",
          "CUIDADO Y PUESTA EN VALOR DE ESPACIOS VERDES",
          "ESTRATEGIAS AMBIENTALES",
          "EVALUACION TECNICA",
          "INTERVENCIONES VETERINARIAS",
          "LABORATORIO DE ANALISIS Y CALIDAD AMBIENTAL",
          "OBRAS BA ELIGE EV",
          "OBRAS DE ESPACIOS VERDES",
          "OBRAS DE ESPACIOS VERDES II",
          "OBRAS ECOPARQUE MAYEP",
          "PROGRAMA DE CAMBIO CLIMATICO E INFORMACION AMBIENTAL",
          "PROGRAMA DE GESTION ENERGETICA",
          "PROGRAMA DE RESIDUOS DE MANEJO ESPECIAL",
          "REDES AMBIENTALES",
          "SANIDAD Y TENENCIA RESPONSABLE DE MASCOTAS",
          "SERVICIO DE LIMPIEZA DE ARROYOS",
          "TECNICA ADMINISTRATIVA Y LEGAL",
          "VALORIZACION DE LOS ESPACIOS VERDES",
          "ACCIONES PARA LA RESTAURACION ECOLOGICA",
          "ACTIVIDADES CENTRALES AMBIENTE Y ESPACIO PUBLICO",
          "ACTIVIDADES COMUNES A LOS PROG 21,22,23,75,76 Y 77",
          "ACTIVIDADES COMUNES A LOS PROG. 91 AL 103",
          "ACTIVIDADES COMUNES A LOS PROGRAMAS: 11-52-53-57-58-59",
          "BUENOS AIRES PRODUCE MAS LIMPIO (P+L)",
          "COMPENSACION AMBIENTAL",
          "CONSERVACION DE LA BIODIVERSIDAD",
          "CONTROL AMBIENTAL",
          "CONTROL DE GESTION Y RECLAMOS",
          "CONTROL DE PLAGAS",
          "CUIDADO Y PUESTA EN VALOR DE ESPACIOS VERDES",
          "ESTRATEGIAS AMBIENTALES",
          "EVALUACION TECNICA",
          "INTERVENCIONES VETERINARIAS",
          "LABORATORIO DE ANALISIS Y CALIDAD AMBIENTAL",
          "PROGRAMA DE CAMBIO CLIMATICO E INFORMACION AMBIENTAL",
          "PROGRAMA DE GESTION ENERGETICA",
          "PROGRAMA DE RESIDUOS DE MANEJO ESPECIAL",
          "REDES AMBIENTALES",
          "SANIDAD Y TENENCIA RESPONSABLE DE MASCOTAS",
          "SERVICIOS DE HIGIENE URBANA",
          "TECNICA ADMINISTRATIVA Y LEGAL",
          "AGENCIA AMBIENTAL",
          "DIRECCION GENERAL CONTROL DE GESTION",
          "DIRECCION GENERAL DE CONTROL",
          "DIRECCION GENERAL DE ESPACIOS VERDES",
          "DIRECCION GENERAL DE EVALUACION AMBIENTAL",
          "DIRECCION GENERAL DE LIMPIEZA",
          "DIRECCION GENERAL POLITICA Y ESTRATEGIA AMBIENTAL",
          "DIRECCION GENERAL TECNICO ADMINISTRATIVA Y LEGAL",
          "MINISTERIO AMBIENTE Y ESPACIO PUBLICO",
          "SUBSECRETARIA DE ADMINISTRACION GENERAL Y DE USO DEL ESPACIO PUBLICO",
          "SUBSECRETARIA DE HIGIENE URBANA",
          "UPE ECOPARQUE INTERACTIVO DE LA CABA",
          "AGENCIA AMBIENTAL",
          "MINISTERIO DE AMBIENTE Y ESPACIO PUBLICO",
          "MINISTERIO DE AMBIENTE Y ESPACIO PUBLICO"
         ],
         "maxdepth": 10,
         "name": "",
         "parents": [
          "MINISTERIO DE AMBIENTE Y ESPACIO PUBLICO/MINISTERIO DE AMBIENTE Y ESPACIO PUBLICO/DIRECCION GENERAL DE LIMPIEZA/SERVICIOS DE HIGIENE URBANA",
          "MINISTERIO DE AMBIENTE Y ESPACIO PUBLICO/AGENCIA AMBIENTAL/DIRECCION GENERAL DE CONTROL/ACCIONES PARA LA RESTAURACION ECOLOGICA",
          "MINISTERIO DE AMBIENTE Y ESPACIO PUBLICO/MINISTERIO DE AMBIENTE Y ESPACIO PUBLICO/MINISTERIO AMBIENTE Y ESPACIO PUBLICO/ACTIVIDADES CENTRALES AMBIENTE Y ESPACIO PUBLICO",
          "MINISTERIO DE AMBIENTE Y ESPACIO PUBLICO/MINISTERIO DE AMBIENTE Y ESPACIO PUBLICO/SUBSECRETARIA DE ADMINISTRACION GENERAL Y DE USO DEL ESPACIO PUBLICO/ACTIVIDADES COMUNES A LOS PROG 21,22,23,75,76 Y 77",
          "MINISTERIO DE AMBIENTE Y ESPACIO PUBLICO/AGENCIA AMBIENTAL/AGENCIA AMBIENTAL/ACTIVIDADES COMUNES A LOS PROG. 91 AL 103",
          "MINISTERIO DE AMBIENTE Y ESPACIO PUBLICO/MINISTERIO DE AMBIENTE Y ESPACIO PUBLICO/SUBSECRETARIA DE HIGIENE URBANA/ACTIVIDADES COMUNES A LOS PROGRAMAS: 11-52-53-57-58-59",
          "MINISTERIO DE AMBIENTE Y ESPACIO PUBLICO/AGENCIA AMBIENTAL/DIRECCION GENERAL POLITICA Y ESTRATEGIA AMBIENTAL/BUENOS AIRES PRODUCE MAS LIMPIO (P+L)",
          "MINISTERIO DE AMBIENTE Y ESPACIO PUBLICO/AGENCIA AMBIENTAL/DIRECCION GENERAL DE EVALUACION AMBIENTAL/COMPENSACION AMBIENTAL",
          "MINISTERIO DE AMBIENTE Y ESPACIO PUBLICO/MINISTERIO DE AMBIENTE Y ESPACIO PUBLICO/UPE ECOPARQUE INTERACTIVO DE LA CABA/CONSERVACION DE LA BIODIVERSIDAD",
          "MINISTERIO DE AMBIENTE Y ESPACIO PUBLICO/AGENCIA AMBIENTAL/DIRECCION GENERAL DE CONTROL/CONTROL AMBIENTAL",
          "MINISTERIO DE AMBIENTE Y ESPACIO PUBLICO/MINISTERIO DE AMBIENTE Y ESPACIO PUBLICO/DIRECCION GENERAL CONTROL DE GESTION/CONTROL DE GESTION Y RECLAMOS",
          "MINISTERIO DE AMBIENTE Y ESPACIO PUBLICO/MINISTERIO DE AMBIENTE Y ESPACIO PUBLICO/DIRECCION GENERAL DE LIMPIEZA/CONTROL DE PLAGAS",
          "MINISTERIO DE AMBIENTE Y ESPACIO PUBLICO/MINISTERIO DE AMBIENTE Y ESPACIO PUBLICO/DIRECCION GENERAL DE ESPACIOS VERDES/CUIDADO Y PUESTA EN VALOR DE ESPACIOS VERDES",
          "MINISTERIO DE AMBIENTE Y ESPACIO PUBLICO/AGENCIA AMBIENTAL/DIRECCION GENERAL POLITICA Y ESTRATEGIA AMBIENTAL/ESTRATEGIAS AMBIENTALES",
          "MINISTERIO DE AMBIENTE Y ESPACIO PUBLICO/AGENCIA AMBIENTAL/DIRECCION GENERAL DE EVALUACION AMBIENTAL/EVALUACION TECNICA",
          "MINISTERIO DE AMBIENTE Y ESPACIO PUBLICO/AGENCIA AMBIENTAL/AGENCIA AMBIENTAL/INTERVENCIONES VETERINARIAS",
          "MINISTERIO DE AMBIENTE Y ESPACIO PUBLICO/AGENCIA AMBIENTAL/DIRECCION GENERAL DE CONTROL/LABORATORIO DE ANALISIS Y CALIDAD AMBIENTAL",
          "MINISTERIO DE AMBIENTE Y ESPACIO PUBLICO/MINISTERIO DE AMBIENTE Y ESPACIO PUBLICO/DIRECCION GENERAL DE ESPACIOS VERDES/CUIDADO Y PUESTA EN VALOR DE ESPACIOS VERDES",
          "MINISTERIO DE AMBIENTE Y ESPACIO PUBLICO/MINISTERIO DE AMBIENTE Y ESPACIO PUBLICO/DIRECCION GENERAL DE ESPACIOS VERDES/CUIDADO Y PUESTA EN VALOR DE ESPACIOS VERDES",
          "MINISTERIO DE AMBIENTE Y ESPACIO PUBLICO/MINISTERIO DE AMBIENTE Y ESPACIO PUBLICO/DIRECCION GENERAL DE ESPACIOS VERDES/CUIDADO Y PUESTA EN VALOR DE ESPACIOS VERDES",
          "MINISTERIO DE AMBIENTE Y ESPACIO PUBLICO/MINISTERIO DE AMBIENTE Y ESPACIO PUBLICO/UPE ECOPARQUE INTERACTIVO DE LA CABA/CONSERVACION DE LA BIODIVERSIDAD",
          "MINISTERIO DE AMBIENTE Y ESPACIO PUBLICO/AGENCIA AMBIENTAL/DIRECCION GENERAL POLITICA Y ESTRATEGIA AMBIENTAL/PROGRAMA DE CAMBIO CLIMATICO E INFORMACION AMBIENTAL",
          "MINISTERIO DE AMBIENTE Y ESPACIO PUBLICO/AGENCIA AMBIENTAL/DIRECCION GENERAL POLITICA Y ESTRATEGIA AMBIENTAL/PROGRAMA DE GESTION ENERGETICA",
          "MINISTERIO DE AMBIENTE Y ESPACIO PUBLICO/AGENCIA AMBIENTAL/DIRECCION GENERAL POLITICA Y ESTRATEGIA AMBIENTAL/PROGRAMA DE RESIDUOS DE MANEJO ESPECIAL",
          "MINISTERIO DE AMBIENTE Y ESPACIO PUBLICO/AGENCIA AMBIENTAL/DIRECCION GENERAL DE CONTROL/REDES AMBIENTALES",
          "MINISTERIO DE AMBIENTE Y ESPACIO PUBLICO/AGENCIA AMBIENTAL/AGENCIA AMBIENTAL/SANIDAD Y TENENCIA RESPONSABLE DE MASCOTAS",
          "MINISTERIO DE AMBIENTE Y ESPACIO PUBLICO/MINISTERIO DE AMBIENTE Y ESPACIO PUBLICO/DIRECCION GENERAL DE LIMPIEZA/SERVICIOS DE HIGIENE URBANA",
          "MINISTERIO DE AMBIENTE Y ESPACIO PUBLICO/MINISTERIO DE AMBIENTE Y ESPACIO PUBLICO/DIRECCION GENERAL TECNICO ADMINISTRATIVA Y LEGAL/TECNICA ADMINISTRATIVA Y LEGAL",
          "MINISTERIO DE AMBIENTE Y ESPACIO PUBLICO/MINISTERIO DE AMBIENTE Y ESPACIO PUBLICO/DIRECCION GENERAL DE ESPACIOS VERDES/CUIDADO Y PUESTA EN VALOR DE ESPACIOS VERDES",
          "MINISTERIO DE AMBIENTE Y ESPACIO PUBLICO/AGENCIA AMBIENTAL/DIRECCION GENERAL DE CONTROL",
          "MINISTERIO DE AMBIENTE Y ESPACIO PUBLICO/MINISTERIO DE AMBIENTE Y ESPACIO PUBLICO/MINISTERIO AMBIENTE Y ESPACIO PUBLICO",
          "MINISTERIO DE AMBIENTE Y ESPACIO PUBLICO/MINISTERIO DE AMBIENTE Y ESPACIO PUBLICO/SUBSECRETARIA DE ADMINISTRACION GENERAL Y DE USO DEL ESPACIO PUBLICO",
          "MINISTERIO DE AMBIENTE Y ESPACIO PUBLICO/AGENCIA AMBIENTAL/AGENCIA AMBIENTAL",
          "MINISTERIO DE AMBIENTE Y ESPACIO PUBLICO/MINISTERIO DE AMBIENTE Y ESPACIO PUBLICO/SUBSECRETARIA DE HIGIENE URBANA",
          "MINISTERIO DE AMBIENTE Y ESPACIO PUBLICO/AGENCIA AMBIENTAL/DIRECCION GENERAL POLITICA Y ESTRATEGIA AMBIENTAL",
          "MINISTERIO DE AMBIENTE Y ESPACIO PUBLICO/AGENCIA AMBIENTAL/DIRECCION GENERAL DE EVALUACION AMBIENTAL",
          "MINISTERIO DE AMBIENTE Y ESPACIO PUBLICO/MINISTERIO DE AMBIENTE Y ESPACIO PUBLICO/UPE ECOPARQUE INTERACTIVO DE LA CABA",
          "MINISTERIO DE AMBIENTE Y ESPACIO PUBLICO/AGENCIA AMBIENTAL/DIRECCION GENERAL DE CONTROL",
          "MINISTERIO DE AMBIENTE Y ESPACIO PUBLICO/MINISTERIO DE AMBIENTE Y ESPACIO PUBLICO/DIRECCION GENERAL CONTROL DE GESTION",
          "MINISTERIO DE AMBIENTE Y ESPACIO PUBLICO/MINISTERIO DE AMBIENTE Y ESPACIO PUBLICO/DIRECCION GENERAL DE LIMPIEZA",
          "MINISTERIO DE AMBIENTE Y ESPACIO PUBLICO/MINISTERIO DE AMBIENTE Y ESPACIO PUBLICO/DIRECCION GENERAL DE ESPACIOS VERDES",
          "MINISTERIO DE AMBIENTE Y ESPACIO PUBLICO/AGENCIA AMBIENTAL/DIRECCION GENERAL POLITICA Y ESTRATEGIA AMBIENTAL",
          "MINISTERIO DE AMBIENTE Y ESPACIO PUBLICO/AGENCIA AMBIENTAL/DIRECCION GENERAL DE EVALUACION AMBIENTAL",
          "MINISTERIO DE AMBIENTE Y ESPACIO PUBLICO/AGENCIA AMBIENTAL/AGENCIA AMBIENTAL",
          "MINISTERIO DE AMBIENTE Y ESPACIO PUBLICO/AGENCIA AMBIENTAL/DIRECCION GENERAL DE CONTROL",
          "MINISTERIO DE AMBIENTE Y ESPACIO PUBLICO/AGENCIA AMBIENTAL/DIRECCION GENERAL POLITICA Y ESTRATEGIA AMBIENTAL",
          "MINISTERIO DE AMBIENTE Y ESPACIO PUBLICO/AGENCIA AMBIENTAL/DIRECCION GENERAL POLITICA Y ESTRATEGIA AMBIENTAL",
          "MINISTERIO DE AMBIENTE Y ESPACIO PUBLICO/AGENCIA AMBIENTAL/DIRECCION GENERAL POLITICA Y ESTRATEGIA AMBIENTAL",
          "MINISTERIO DE AMBIENTE Y ESPACIO PUBLICO/AGENCIA AMBIENTAL/DIRECCION GENERAL DE CONTROL",
          "MINISTERIO DE AMBIENTE Y ESPACIO PUBLICO/AGENCIA AMBIENTAL/AGENCIA AMBIENTAL",
          "MINISTERIO DE AMBIENTE Y ESPACIO PUBLICO/MINISTERIO DE AMBIENTE Y ESPACIO PUBLICO/DIRECCION GENERAL DE LIMPIEZA",
          "MINISTERIO DE AMBIENTE Y ESPACIO PUBLICO/MINISTERIO DE AMBIENTE Y ESPACIO PUBLICO/DIRECCION GENERAL TECNICO ADMINISTRATIVA Y LEGAL",
          "MINISTERIO DE AMBIENTE Y ESPACIO PUBLICO/AGENCIA AMBIENTAL",
          "MINISTERIO DE AMBIENTE Y ESPACIO PUBLICO/MINISTERIO DE AMBIENTE Y ESPACIO PUBLICO",
          "MINISTERIO DE AMBIENTE Y ESPACIO PUBLICO/AGENCIA AMBIENTAL",
          "MINISTERIO DE AMBIENTE Y ESPACIO PUBLICO/MINISTERIO DE AMBIENTE Y ESPACIO PUBLICO",
          "MINISTERIO DE AMBIENTE Y ESPACIO PUBLICO/AGENCIA AMBIENTAL",
          "MINISTERIO DE AMBIENTE Y ESPACIO PUBLICO/MINISTERIO DE AMBIENTE Y ESPACIO PUBLICO",
          "MINISTERIO DE AMBIENTE Y ESPACIO PUBLICO/AGENCIA AMBIENTAL",
          "MINISTERIO DE AMBIENTE Y ESPACIO PUBLICO/MINISTERIO DE AMBIENTE Y ESPACIO PUBLICO",
          "MINISTERIO DE AMBIENTE Y ESPACIO PUBLICO/MINISTERIO DE AMBIENTE Y ESPACIO PUBLICO",
          "MINISTERIO DE AMBIENTE Y ESPACIO PUBLICO/MINISTERIO DE AMBIENTE Y ESPACIO PUBLICO",
          "MINISTERIO DE AMBIENTE Y ESPACIO PUBLICO/MINISTERIO DE AMBIENTE Y ESPACIO PUBLICO",
          "MINISTERIO DE AMBIENTE Y ESPACIO PUBLICO/MINISTERIO DE AMBIENTE Y ESPACIO PUBLICO",
          "MINISTERIO DE AMBIENTE Y ESPACIO PUBLICO",
          "MINISTERIO DE AMBIENTE Y ESPACIO PUBLICO",
          ""
         ],
         "textinfo": "percent entry",
         "type": "sunburst",
         "values": [
          72814770,
          10818489,
          286020781,
          2500000,
          141102216,
          36647045,
          4115146,
          1993859,
          235009468,
          94456267,
          37152961,
          94193870,
          273729024,
          34392092,
          56195595,
          14300001,
          18769780,
          7252834,
          29860001,
          102530490,
          106286583,
          8025542,
          6890776,
          10483260,
          1300000,
          42353074,
          68843158,
          66531500,
          1040075483,
          10818489,
          286020781,
          2500000,
          141102216,
          36647045,
          4115146,
          1993859,
          341296051,
          94456267,
          37152961,
          94193870,
          1453447832,
          34392092,
          56195595,
          14300001,
          18769780,
          8025542,
          6890776,
          10483260,
          1300000,
          42353074,
          141657928,
          66531500,
          197755291,
          37152961,
          125344536,
          1453447832,
          58189454,
          235851798,
          63906816,
          66531500,
          286020781,
          2500000,
          36647045,
          341296051,
          445196097,
          2459447968,
          2904644065
         ]
        }
       ],
       "layout": {
        "legend": {
         "tracegroupgap": 0
        },
        "margin": {
         "t": 60
        },
        "template": {
         "data": {
          "bar": [
           {
            "error_x": {
             "color": "#2a3f5f"
            },
            "error_y": {
             "color": "#2a3f5f"
            },
            "marker": {
             "line": {
              "color": "#E5ECF6",
              "width": 0.5
             }
            },
            "type": "bar"
           }
          ],
          "barpolar": [
           {
            "marker": {
             "line": {
              "color": "#E5ECF6",
              "width": 0.5
             }
            },
            "type": "barpolar"
           }
          ],
          "carpet": [
           {
            "aaxis": {
             "endlinecolor": "#2a3f5f",
             "gridcolor": "white",
             "linecolor": "white",
             "minorgridcolor": "white",
             "startlinecolor": "#2a3f5f"
            },
            "baxis": {
             "endlinecolor": "#2a3f5f",
             "gridcolor": "white",
             "linecolor": "white",
             "minorgridcolor": "white",
             "startlinecolor": "#2a3f5f"
            },
            "type": "carpet"
           }
          ],
          "choropleth": [
           {
            "colorbar": {
             "outlinewidth": 0,
             "ticks": ""
            },
            "type": "choropleth"
           }
          ],
          "contour": [
           {
            "colorbar": {
             "outlinewidth": 0,
             "ticks": ""
            },
            "colorscale": [
             [
              0,
              "#0d0887"
             ],
             [
              0.1111111111111111,
              "#46039f"
             ],
             [
              0.2222222222222222,
              "#7201a8"
             ],
             [
              0.3333333333333333,
              "#9c179e"
             ],
             [
              0.4444444444444444,
              "#bd3786"
             ],
             [
              0.5555555555555556,
              "#d8576b"
             ],
             [
              0.6666666666666666,
              "#ed7953"
             ],
             [
              0.7777777777777778,
              "#fb9f3a"
             ],
             [
              0.8888888888888888,
              "#fdca26"
             ],
             [
              1,
              "#f0f921"
             ]
            ],
            "type": "contour"
           }
          ],
          "contourcarpet": [
           {
            "colorbar": {
             "outlinewidth": 0,
             "ticks": ""
            },
            "type": "contourcarpet"
           }
          ],
          "heatmap": [
           {
            "colorbar": {
             "outlinewidth": 0,
             "ticks": ""
            },
            "colorscale": [
             [
              0,
              "#0d0887"
             ],
             [
              0.1111111111111111,
              "#46039f"
             ],
             [
              0.2222222222222222,
              "#7201a8"
             ],
             [
              0.3333333333333333,
              "#9c179e"
             ],
             [
              0.4444444444444444,
              "#bd3786"
             ],
             [
              0.5555555555555556,
              "#d8576b"
             ],
             [
              0.6666666666666666,
              "#ed7953"
             ],
             [
              0.7777777777777778,
              "#fb9f3a"
             ],
             [
              0.8888888888888888,
              "#fdca26"
             ],
             [
              1,
              "#f0f921"
             ]
            ],
            "type": "heatmap"
           }
          ],
          "heatmapgl": [
           {
            "colorbar": {
             "outlinewidth": 0,
             "ticks": ""
            },
            "colorscale": [
             [
              0,
              "#0d0887"
             ],
             [
              0.1111111111111111,
              "#46039f"
             ],
             [
              0.2222222222222222,
              "#7201a8"
             ],
             [
              0.3333333333333333,
              "#9c179e"
             ],
             [
              0.4444444444444444,
              "#bd3786"
             ],
             [
              0.5555555555555556,
              "#d8576b"
             ],
             [
              0.6666666666666666,
              "#ed7953"
             ],
             [
              0.7777777777777778,
              "#fb9f3a"
             ],
             [
              0.8888888888888888,
              "#fdca26"
             ],
             [
              1,
              "#f0f921"
             ]
            ],
            "type": "heatmapgl"
           }
          ],
          "histogram": [
           {
            "marker": {
             "colorbar": {
              "outlinewidth": 0,
              "ticks": ""
             }
            },
            "type": "histogram"
           }
          ],
          "histogram2d": [
           {
            "colorbar": {
             "outlinewidth": 0,
             "ticks": ""
            },
            "colorscale": [
             [
              0,
              "#0d0887"
             ],
             [
              0.1111111111111111,
              "#46039f"
             ],
             [
              0.2222222222222222,
              "#7201a8"
             ],
             [
              0.3333333333333333,
              "#9c179e"
             ],
             [
              0.4444444444444444,
              "#bd3786"
             ],
             [
              0.5555555555555556,
              "#d8576b"
             ],
             [
              0.6666666666666666,
              "#ed7953"
             ],
             [
              0.7777777777777778,
              "#fb9f3a"
             ],
             [
              0.8888888888888888,
              "#fdca26"
             ],
             [
              1,
              "#f0f921"
             ]
            ],
            "type": "histogram2d"
           }
          ],
          "histogram2dcontour": [
           {
            "colorbar": {
             "outlinewidth": 0,
             "ticks": ""
            },
            "colorscale": [
             [
              0,
              "#0d0887"
             ],
             [
              0.1111111111111111,
              "#46039f"
             ],
             [
              0.2222222222222222,
              "#7201a8"
             ],
             [
              0.3333333333333333,
              "#9c179e"
             ],
             [
              0.4444444444444444,
              "#bd3786"
             ],
             [
              0.5555555555555556,
              "#d8576b"
             ],
             [
              0.6666666666666666,
              "#ed7953"
             ],
             [
              0.7777777777777778,
              "#fb9f3a"
             ],
             [
              0.8888888888888888,
              "#fdca26"
             ],
             [
              1,
              "#f0f921"
             ]
            ],
            "type": "histogram2dcontour"
           }
          ],
          "mesh3d": [
           {
            "colorbar": {
             "outlinewidth": 0,
             "ticks": ""
            },
            "type": "mesh3d"
           }
          ],
          "parcoords": [
           {
            "line": {
             "colorbar": {
              "outlinewidth": 0,
              "ticks": ""
             }
            },
            "type": "parcoords"
           }
          ],
          "pie": [
           {
            "automargin": true,
            "type": "pie"
           }
          ],
          "scatter": [
           {
            "marker": {
             "colorbar": {
              "outlinewidth": 0,
              "ticks": ""
             }
            },
            "type": "scatter"
           }
          ],
          "scatter3d": [
           {
            "line": {
             "colorbar": {
              "outlinewidth": 0,
              "ticks": ""
             }
            },
            "marker": {
             "colorbar": {
              "outlinewidth": 0,
              "ticks": ""
             }
            },
            "type": "scatter3d"
           }
          ],
          "scattercarpet": [
           {
            "marker": {
             "colorbar": {
              "outlinewidth": 0,
              "ticks": ""
             }
            },
            "type": "scattercarpet"
           }
          ],
          "scattergeo": [
           {
            "marker": {
             "colorbar": {
              "outlinewidth": 0,
              "ticks": ""
             }
            },
            "type": "scattergeo"
           }
          ],
          "scattergl": [
           {
            "marker": {
             "colorbar": {
              "outlinewidth": 0,
              "ticks": ""
             }
            },
            "type": "scattergl"
           }
          ],
          "scattermapbox": [
           {
            "marker": {
             "colorbar": {
              "outlinewidth": 0,
              "ticks": ""
             }
            },
            "type": "scattermapbox"
           }
          ],
          "scatterpolar": [
           {
            "marker": {
             "colorbar": {
              "outlinewidth": 0,
              "ticks": ""
             }
            },
            "type": "scatterpolar"
           }
          ],
          "scatterpolargl": [
           {
            "marker": {
             "colorbar": {
              "outlinewidth": 0,
              "ticks": ""
             }
            },
            "type": "scatterpolargl"
           }
          ],
          "scatterternary": [
           {
            "marker": {
             "colorbar": {
              "outlinewidth": 0,
              "ticks": ""
             }
            },
            "type": "scatterternary"
           }
          ],
          "surface": [
           {
            "colorbar": {
             "outlinewidth": 0,
             "ticks": ""
            },
            "colorscale": [
             [
              0,
              "#0d0887"
             ],
             [
              0.1111111111111111,
              "#46039f"
             ],
             [
              0.2222222222222222,
              "#7201a8"
             ],
             [
              0.3333333333333333,
              "#9c179e"
             ],
             [
              0.4444444444444444,
              "#bd3786"
             ],
             [
              0.5555555555555556,
              "#d8576b"
             ],
             [
              0.6666666666666666,
              "#ed7953"
             ],
             [
              0.7777777777777778,
              "#fb9f3a"
             ],
             [
              0.8888888888888888,
              "#fdca26"
             ],
             [
              1,
              "#f0f921"
             ]
            ],
            "type": "surface"
           }
          ],
          "table": [
           {
            "cells": {
             "fill": {
              "color": "#EBF0F8"
             },
             "line": {
              "color": "white"
             }
            },
            "header": {
             "fill": {
              "color": "#C8D4E3"
             },
             "line": {
              "color": "white"
             }
            },
            "type": "table"
           }
          ]
         },
         "layout": {
          "annotationdefaults": {
           "arrowcolor": "#2a3f5f",
           "arrowhead": 0,
           "arrowwidth": 1
          },
          "coloraxis": {
           "colorbar": {
            "outlinewidth": 0,
            "ticks": ""
           }
          },
          "colorscale": {
           "diverging": [
            [
             0,
             "#8e0152"
            ],
            [
             0.1,
             "#c51b7d"
            ],
            [
             0.2,
             "#de77ae"
            ],
            [
             0.3,
             "#f1b6da"
            ],
            [
             0.4,
             "#fde0ef"
            ],
            [
             0.5,
             "#f7f7f7"
            ],
            [
             0.6,
             "#e6f5d0"
            ],
            [
             0.7,
             "#b8e186"
            ],
            [
             0.8,
             "#7fbc41"
            ],
            [
             0.9,
             "#4d9221"
            ],
            [
             1,
             "#276419"
            ]
           ],
           "sequential": [
            [
             0,
             "#0d0887"
            ],
            [
             0.1111111111111111,
             "#46039f"
            ],
            [
             0.2222222222222222,
             "#7201a8"
            ],
            [
             0.3333333333333333,
             "#9c179e"
            ],
            [
             0.4444444444444444,
             "#bd3786"
            ],
            [
             0.5555555555555556,
             "#d8576b"
            ],
            [
             0.6666666666666666,
             "#ed7953"
            ],
            [
             0.7777777777777778,
             "#fb9f3a"
            ],
            [
             0.8888888888888888,
             "#fdca26"
            ],
            [
             1,
             "#f0f921"
            ]
           ],
           "sequentialminus": [
            [
             0,
             "#0d0887"
            ],
            [
             0.1111111111111111,
             "#46039f"
            ],
            [
             0.2222222222222222,
             "#7201a8"
            ],
            [
             0.3333333333333333,
             "#9c179e"
            ],
            [
             0.4444444444444444,
             "#bd3786"
            ],
            [
             0.5555555555555556,
             "#d8576b"
            ],
            [
             0.6666666666666666,
             "#ed7953"
            ],
            [
             0.7777777777777778,
             "#fb9f3a"
            ],
            [
             0.8888888888888888,
             "#fdca26"
            ],
            [
             1,
             "#f0f921"
            ]
           ]
          },
          "colorway": [
           "#636efa",
           "#EF553B",
           "#00cc96",
           "#ab63fa",
           "#FFA15A",
           "#19d3f3",
           "#FF6692",
           "#B6E880",
           "#FF97FF",
           "#FECB52"
          ],
          "font": {
           "color": "#2a3f5f"
          },
          "geo": {
           "bgcolor": "white",
           "lakecolor": "white",
           "landcolor": "#E5ECF6",
           "showlakes": true,
           "showland": true,
           "subunitcolor": "white"
          },
          "hoverlabel": {
           "align": "left"
          },
          "hovermode": "closest",
          "mapbox": {
           "style": "light"
          },
          "paper_bgcolor": "white",
          "plot_bgcolor": "#E5ECF6",
          "polar": {
           "angularaxis": {
            "gridcolor": "white",
            "linecolor": "white",
            "ticks": ""
           },
           "bgcolor": "#E5ECF6",
           "radialaxis": {
            "gridcolor": "white",
            "linecolor": "white",
            "ticks": ""
           }
          },
          "scene": {
           "xaxis": {
            "backgroundcolor": "#E5ECF6",
            "gridcolor": "white",
            "gridwidth": 2,
            "linecolor": "white",
            "showbackground": true,
            "ticks": "",
            "zerolinecolor": "white"
           },
           "yaxis": {
            "backgroundcolor": "#E5ECF6",
            "gridcolor": "white",
            "gridwidth": 2,
            "linecolor": "white",
            "showbackground": true,
            "ticks": "",
            "zerolinecolor": "white"
           },
           "zaxis": {
            "backgroundcolor": "#E5ECF6",
            "gridcolor": "white",
            "gridwidth": 2,
            "linecolor": "white",
            "showbackground": true,
            "ticks": "",
            "zerolinecolor": "white"
           }
          },
          "shapedefaults": {
           "line": {
            "color": "#2a3f5f"
           }
          },
          "ternary": {
           "aaxis": {
            "gridcolor": "white",
            "linecolor": "white",
            "ticks": ""
           },
           "baxis": {
            "gridcolor": "white",
            "linecolor": "white",
            "ticks": ""
           },
           "bgcolor": "#E5ECF6",
           "caxis": {
            "gridcolor": "white",
            "linecolor": "white",
            "ticks": ""
           }
          },
          "title": {
           "x": 0.05
          },
          "xaxis": {
           "automargin": true,
           "gridcolor": "white",
           "linecolor": "white",
           "ticks": "",
           "title": {
            "standoff": 15
           },
           "zerolinecolor": "white",
           "zerolinewidth": 2
          },
          "yaxis": {
           "automargin": true,
           "gridcolor": "white",
           "linecolor": "white",
           "ticks": "",
           "title": {
            "standoff": 15
           },
           "zerolinecolor": "white",
           "zerolinewidth": 2
          }
         }
        }
       }
      },
      "text/html": [
       "<div>\n",
       "        \n",
       "        \n",
       "            <div id=\"8aaab66e-d279-47bb-8cc0-3376aa9eba2c\" class=\"plotly-graph-div\" style=\"height:525px; width:100%;\"></div>\n",
       "            <script type=\"text/javascript\">\n",
       "                require([\"plotly\"], function(Plotly) {\n",
       "                    window.PLOTLYENV=window.PLOTLYENV || {};\n",
       "                    \n",
       "                if (document.getElementById(\"8aaab66e-d279-47bb-8cc0-3376aa9eba2c\")) {\n",
       "                    Plotly.newPlot(\n",
       "                        '8aaab66e-d279-47bb-8cc0-3376aa9eba2c',\n",
       "                        [{\"branchvalues\": \"total\", \"customdata\": [[\"MINISTERIO DE AMBIENTE Y ESPACIO PUBLICO\", \"MINISTERIO DE AMBIENTE Y ESPACIO PUBLICO\", \"DIRECCION GENERAL DE LIMPIEZA\", \"SERVICIOS DE HIGIENE URBANA\", \"A.CU.MAR - RIACHUELO\"], [\"MINISTERIO DE AMBIENTE Y ESPACIO PUBLICO\", \"AGENCIA AMBIENTAL\", \"DIRECCION GENERAL DE CONTROL\", \"ACCIONES PARA LA RESTAURACION ECOLOGICA\", \"ACCIONES PARA LA RESTAURACION ECOLOGICA\"], [\"MINISTERIO DE AMBIENTE Y ESPACIO PUBLICO\", \"MINISTERIO DE AMBIENTE Y ESPACIO PUBLICO\", \"MINISTERIO AMBIENTE Y ESPACIO PUBLICO\", \"ACTIVIDADES CENTRALES AMBIENTE Y ESPACIO PUBLICO\", \"ACTIVIDADES CENTRALES AMBIENTE Y ESPACIO PUBLICO\"], [\"MINISTERIO DE AMBIENTE Y ESPACIO PUBLICO\", \"MINISTERIO DE AMBIENTE Y ESPACIO PUBLICO\", \"SUBSECRETARIA DE ADMINISTRACION GENERAL Y DE USO DEL ESPACIO PUBLICO\", \"ACTIVIDADES COMUNES A LOS PROG 21,22,23,75,76 Y 77\", \"ACTIVIDADES COMUNES A LOS PROG 21,22,23,75,76 Y 77\"], [\"MINISTERIO DE AMBIENTE Y ESPACIO PUBLICO\", \"AGENCIA AMBIENTAL\", \"AGENCIA AMBIENTAL\", \"ACTIVIDADES COMUNES A LOS PROG. 91 AL 103\", \"ACTIVIDADES COMUNES A LOS PROG. 91 AL 103\"], [\"MINISTERIO DE AMBIENTE Y ESPACIO PUBLICO\", \"MINISTERIO DE AMBIENTE Y ESPACIO PUBLICO\", \"SUBSECRETARIA DE HIGIENE URBANA\", \"ACTIVIDADES COMUNES A LOS PROGRAMAS: 11-52-53-57-58-59\", \"ACTIVIDADES COMUNES A LOS PROGRAMAS: 11-52-53-57-58-59\"], [\"MINISTERIO DE AMBIENTE Y ESPACIO PUBLICO\", \"AGENCIA AMBIENTAL\", \"DIRECCION GENERAL POLITICA Y ESTRATEGIA AMBIENTAL\", \"BUENOS AIRES PRODUCE MAS LIMPIO (P+L)\", \"BUENOS AIRES PRODUCE MAS LIMPIO (P+L)\"], [\"MINISTERIO DE AMBIENTE Y ESPACIO PUBLICO\", \"AGENCIA AMBIENTAL\", \"DIRECCION GENERAL DE EVALUACION AMBIENTAL\", \"COMPENSACION AMBIENTAL\", \"COMPENSACION AMBIENTAL\"], [\"MINISTERIO DE AMBIENTE Y ESPACIO PUBLICO\", \"MINISTERIO DE AMBIENTE Y ESPACIO PUBLICO\", \"UPE ECOPARQUE INTERACTIVO DE LA CABA\", \"CONSERVACION DE LA BIODIVERSIDAD\", \"CONSERVACION DE LA BIODIVERSIDAD\"], [\"MINISTERIO DE AMBIENTE Y ESPACIO PUBLICO\", \"AGENCIA AMBIENTAL\", \"DIRECCION GENERAL DE CONTROL\", \"CONTROL AMBIENTAL\", \"CONTROL AMBIENTAL\"], [\"MINISTERIO DE AMBIENTE Y ESPACIO PUBLICO\", \"MINISTERIO DE AMBIENTE Y ESPACIO PUBLICO\", \"DIRECCION GENERAL CONTROL DE GESTION\", \"CONTROL DE GESTION Y RECLAMOS\", \"CONTROL DE GESTION Y RECLAMOS\"], [\"MINISTERIO DE AMBIENTE Y ESPACIO PUBLICO\", \"MINISTERIO DE AMBIENTE Y ESPACIO PUBLICO\", \"DIRECCION GENERAL DE LIMPIEZA\", \"CONTROL DE PLAGAS\", \"CONTROL DE PLAGAS\"], [\"MINISTERIO DE AMBIENTE Y ESPACIO PUBLICO\", \"MINISTERIO DE AMBIENTE Y ESPACIO PUBLICO\", \"DIRECCION GENERAL DE ESPACIOS VERDES\", \"CUIDADO Y PUESTA EN VALOR DE ESPACIOS VERDES\", \"CUIDADO Y PUESTA EN VALOR DE ESPACIOS VERDES\"], [\"MINISTERIO DE AMBIENTE Y ESPACIO PUBLICO\", \"AGENCIA AMBIENTAL\", \"DIRECCION GENERAL POLITICA Y ESTRATEGIA AMBIENTAL\", \"ESTRATEGIAS AMBIENTALES\", \"ESTRATEGIAS AMBIENTALES\"], [\"MINISTERIO DE AMBIENTE Y ESPACIO PUBLICO\", \"AGENCIA AMBIENTAL\", \"DIRECCION GENERAL DE EVALUACION AMBIENTAL\", \"EVALUACION TECNICA\", \"EVALUACION TECNICA\"], [\"MINISTERIO DE AMBIENTE Y ESPACIO PUBLICO\", \"AGENCIA AMBIENTAL\", \"AGENCIA AMBIENTAL\", \"INTERVENCIONES VETERINARIAS\", \"INTERVENCIONES VETERINARIAS\"], [\"MINISTERIO DE AMBIENTE Y ESPACIO PUBLICO\", \"AGENCIA AMBIENTAL\", \"DIRECCION GENERAL DE CONTROL\", \"LABORATORIO DE ANALISIS Y CALIDAD AMBIENTAL\", \"LABORATORIO DE ANALISIS Y CALIDAD AMBIENTAL\"], [\"MINISTERIO DE AMBIENTE Y ESPACIO PUBLICO\", \"MINISTERIO DE AMBIENTE Y ESPACIO PUBLICO\", \"DIRECCION GENERAL DE ESPACIOS VERDES\", \"CUIDADO Y PUESTA EN VALOR DE ESPACIOS VERDES\", \"OBRAS BA ELIGE EV\"], [\"MINISTERIO DE AMBIENTE Y ESPACIO PUBLICO\", \"MINISTERIO DE AMBIENTE Y ESPACIO PUBLICO\", \"DIRECCION GENERAL DE ESPACIOS VERDES\", \"CUIDADO Y PUESTA EN VALOR DE ESPACIOS VERDES\", \"OBRAS DE ESPACIOS VERDES\"], [\"MINISTERIO DE AMBIENTE Y ESPACIO PUBLICO\", \"MINISTERIO DE AMBIENTE Y ESPACIO PUBLICO\", \"DIRECCION GENERAL DE ESPACIOS VERDES\", \"CUIDADO Y PUESTA EN VALOR DE ESPACIOS VERDES\", \"OBRAS DE ESPACIOS VERDES II\"], [\"MINISTERIO DE AMBIENTE Y ESPACIO PUBLICO\", \"MINISTERIO DE AMBIENTE Y ESPACIO PUBLICO\", \"UPE ECOPARQUE INTERACTIVO DE LA CABA\", \"CONSERVACION DE LA BIODIVERSIDAD\", \"OBRAS ECOPARQUE MAYEP\"], [\"MINISTERIO DE AMBIENTE Y ESPACIO PUBLICO\", \"AGENCIA AMBIENTAL\", \"DIRECCION GENERAL POLITICA Y ESTRATEGIA AMBIENTAL\", \"PROGRAMA DE CAMBIO CLIMATICO E INFORMACION AMBIENTAL\", \"PROGRAMA DE CAMBIO CLIMATICO E INFORMACION AMBIENTAL\"], [\"MINISTERIO DE AMBIENTE Y ESPACIO PUBLICO\", \"AGENCIA AMBIENTAL\", \"DIRECCION GENERAL POLITICA Y ESTRATEGIA AMBIENTAL\", \"PROGRAMA DE GESTION ENERGETICA\", \"PROGRAMA DE GESTION ENERGETICA\"], [\"MINISTERIO DE AMBIENTE Y ESPACIO PUBLICO\", \"AGENCIA AMBIENTAL\", \"DIRECCION GENERAL POLITICA Y ESTRATEGIA AMBIENTAL\", \"PROGRAMA DE RESIDUOS DE MANEJO ESPECIAL\", \"PROGRAMA DE RESIDUOS DE MANEJO ESPECIAL\"], [\"MINISTERIO DE AMBIENTE Y ESPACIO PUBLICO\", \"AGENCIA AMBIENTAL\", \"DIRECCION GENERAL DE CONTROL\", \"REDES AMBIENTALES\", \"REDES AMBIENTALES\"], [\"MINISTERIO DE AMBIENTE Y ESPACIO PUBLICO\", \"AGENCIA AMBIENTAL\", \"AGENCIA AMBIENTAL\", \"SANIDAD Y TENENCIA RESPONSABLE DE MASCOTAS\", \"SANIDAD Y TENENCIA RESPONSABLE DE MASCOTAS\"], [\"MINISTERIO DE AMBIENTE Y ESPACIO PUBLICO\", \"MINISTERIO DE AMBIENTE Y ESPACIO PUBLICO\", \"DIRECCION GENERAL DE LIMPIEZA\", \"SERVICIOS DE HIGIENE URBANA\", \"SERVICIO DE LIMPIEZA DE ARROYOS\"], [\"MINISTERIO DE AMBIENTE Y ESPACIO PUBLICO\", \"MINISTERIO DE AMBIENTE Y ESPACIO PUBLICO\", \"DIRECCION GENERAL TECNICO ADMINISTRATIVA Y LEGAL\", \"TECNICA ADMINISTRATIVA Y LEGAL\", \"TECNICA ADMINISTRATIVA Y LEGAL\"], [\"MINISTERIO DE AMBIENTE Y ESPACIO PUBLICO\", \"MINISTERIO DE AMBIENTE Y ESPACIO PUBLICO\", \"DIRECCION GENERAL DE ESPACIOS VERDES\", \"CUIDADO Y PUESTA EN VALOR DE ESPACIOS VERDES\", \"VALORIZACION DE LOS ESPACIOS VERDES\"], [\"MINISTERIO DE AMBIENTE Y ESPACIO PUBLICO\", \"AGENCIA AMBIENTAL\", \"DIRECCION GENERAL DE CONTROL\", \"ACCIONES PARA LA RESTAURACION ECOLOGICA\", \"ACCIONES PARA LA RESTAURACION ECOLOGICA\"], [\"MINISTERIO DE AMBIENTE Y ESPACIO PUBLICO\", \"MINISTERIO DE AMBIENTE Y ESPACIO PUBLICO\", \"MINISTERIO AMBIENTE Y ESPACIO PUBLICO\", \"ACTIVIDADES CENTRALES AMBIENTE Y ESPACIO PUBLICO\", \"ACTIVIDADES CENTRALES AMBIENTE Y ESPACIO PUBLICO\"], [\"MINISTERIO DE AMBIENTE Y ESPACIO PUBLICO\", \"MINISTERIO DE AMBIENTE Y ESPACIO PUBLICO\", \"SUBSECRETARIA DE ADMINISTRACION GENERAL Y DE USO DEL ESPACIO PUBLICO\", \"ACTIVIDADES COMUNES A LOS PROG 21,22,23,75,76 Y 77\", \"ACTIVIDADES COMUNES A LOS PROG 21,22,23,75,76 Y 77\"], [\"MINISTERIO DE AMBIENTE Y ESPACIO PUBLICO\", \"AGENCIA AMBIENTAL\", \"AGENCIA AMBIENTAL\", \"ACTIVIDADES COMUNES A LOS PROG. 91 AL 103\", \"ACTIVIDADES COMUNES A LOS PROG. 91 AL 103\"], [\"MINISTERIO DE AMBIENTE Y ESPACIO PUBLICO\", \"MINISTERIO DE AMBIENTE Y ESPACIO PUBLICO\", \"SUBSECRETARIA DE HIGIENE URBANA\", \"ACTIVIDADES COMUNES A LOS PROGRAMAS: 11-52-53-57-58-59\", \"ACTIVIDADES COMUNES A LOS PROGRAMAS: 11-52-53-57-58-59\"], [\"MINISTERIO DE AMBIENTE Y ESPACIO PUBLICO\", \"AGENCIA AMBIENTAL\", \"DIRECCION GENERAL POLITICA Y ESTRATEGIA AMBIENTAL\", \"BUENOS AIRES PRODUCE MAS LIMPIO (P+L)\", \"BUENOS AIRES PRODUCE MAS LIMPIO (P+L)\"], [\"MINISTERIO DE AMBIENTE Y ESPACIO PUBLICO\", \"AGENCIA AMBIENTAL\", \"DIRECCION GENERAL DE EVALUACION AMBIENTAL\", \"COMPENSACION AMBIENTAL\", \"COMPENSACION AMBIENTAL\"], [\"MINISTERIO DE AMBIENTE Y ESPACIO PUBLICO\", \"MINISTERIO DE AMBIENTE Y ESPACIO PUBLICO\", \"UPE ECOPARQUE INTERACTIVO DE LA CABA\", \"CONSERVACION DE LA BIODIVERSIDAD\", \"(?)\"], [\"MINISTERIO DE AMBIENTE Y ESPACIO PUBLICO\", \"AGENCIA AMBIENTAL\", \"DIRECCION GENERAL DE CONTROL\", \"CONTROL AMBIENTAL\", \"CONTROL AMBIENTAL\"], [\"MINISTERIO DE AMBIENTE Y ESPACIO PUBLICO\", \"MINISTERIO DE AMBIENTE Y ESPACIO PUBLICO\", \"DIRECCION GENERAL CONTROL DE GESTION\", \"CONTROL DE GESTION Y RECLAMOS\", \"CONTROL DE GESTION Y RECLAMOS\"], [\"MINISTERIO DE AMBIENTE Y ESPACIO PUBLICO\", \"MINISTERIO DE AMBIENTE Y ESPACIO PUBLICO\", \"DIRECCION GENERAL DE LIMPIEZA\", \"CONTROL DE PLAGAS\", \"CONTROL DE PLAGAS\"], [\"MINISTERIO DE AMBIENTE Y ESPACIO PUBLICO\", \"MINISTERIO DE AMBIENTE Y ESPACIO PUBLICO\", \"DIRECCION GENERAL DE ESPACIOS VERDES\", \"CUIDADO Y PUESTA EN VALOR DE ESPACIOS VERDES\", \"(?)\"], [\"MINISTERIO DE AMBIENTE Y ESPACIO PUBLICO\", \"AGENCIA AMBIENTAL\", \"DIRECCION GENERAL POLITICA Y ESTRATEGIA AMBIENTAL\", \"ESTRATEGIAS AMBIENTALES\", \"ESTRATEGIAS AMBIENTALES\"], [\"MINISTERIO DE AMBIENTE Y ESPACIO PUBLICO\", \"AGENCIA AMBIENTAL\", \"DIRECCION GENERAL DE EVALUACION AMBIENTAL\", \"EVALUACION TECNICA\", \"EVALUACION TECNICA\"], [\"MINISTERIO DE AMBIENTE Y ESPACIO PUBLICO\", \"AGENCIA AMBIENTAL\", \"AGENCIA AMBIENTAL\", \"INTERVENCIONES VETERINARIAS\", \"INTERVENCIONES VETERINARIAS\"], [\"MINISTERIO DE AMBIENTE Y ESPACIO PUBLICO\", \"AGENCIA AMBIENTAL\", \"DIRECCION GENERAL DE CONTROL\", \"LABORATORIO DE ANALISIS Y CALIDAD AMBIENTAL\", \"LABORATORIO DE ANALISIS Y CALIDAD AMBIENTAL\"], [\"MINISTERIO DE AMBIENTE Y ESPACIO PUBLICO\", \"AGENCIA AMBIENTAL\", \"DIRECCION GENERAL POLITICA Y ESTRATEGIA AMBIENTAL\", \"PROGRAMA DE CAMBIO CLIMATICO E INFORMACION AMBIENTAL\", \"PROGRAMA DE CAMBIO CLIMATICO E INFORMACION AMBIENTAL\"], [\"MINISTERIO DE AMBIENTE Y ESPACIO PUBLICO\", \"AGENCIA AMBIENTAL\", \"DIRECCION GENERAL POLITICA Y ESTRATEGIA AMBIENTAL\", \"PROGRAMA DE GESTION ENERGETICA\", \"PROGRAMA DE GESTION ENERGETICA\"], [\"MINISTERIO DE AMBIENTE Y ESPACIO PUBLICO\", \"AGENCIA AMBIENTAL\", \"DIRECCION GENERAL POLITICA Y ESTRATEGIA AMBIENTAL\", \"PROGRAMA DE RESIDUOS DE MANEJO ESPECIAL\", \"PROGRAMA DE RESIDUOS DE MANEJO ESPECIAL\"], [\"MINISTERIO DE AMBIENTE Y ESPACIO PUBLICO\", \"AGENCIA AMBIENTAL\", \"DIRECCION GENERAL DE CONTROL\", \"REDES AMBIENTALES\", \"REDES AMBIENTALES\"], [\"MINISTERIO DE AMBIENTE Y ESPACIO PUBLICO\", \"AGENCIA AMBIENTAL\", \"AGENCIA AMBIENTAL\", \"SANIDAD Y TENENCIA RESPONSABLE DE MASCOTAS\", \"SANIDAD Y TENENCIA RESPONSABLE DE MASCOTAS\"], [\"MINISTERIO DE AMBIENTE Y ESPACIO PUBLICO\", \"MINISTERIO DE AMBIENTE Y ESPACIO PUBLICO\", \"DIRECCION GENERAL DE LIMPIEZA\", \"SERVICIOS DE HIGIENE URBANA\", \"(?)\"], [\"MINISTERIO DE AMBIENTE Y ESPACIO PUBLICO\", \"MINISTERIO DE AMBIENTE Y ESPACIO PUBLICO\", \"DIRECCION GENERAL TECNICO ADMINISTRATIVA Y LEGAL\", \"TECNICA ADMINISTRATIVA Y LEGAL\", \"TECNICA ADMINISTRATIVA Y LEGAL\"], [\"MINISTERIO DE AMBIENTE Y ESPACIO PUBLICO\", \"AGENCIA AMBIENTAL\", \"AGENCIA AMBIENTAL\", \"(?)\", \"(?)\"], [\"MINISTERIO DE AMBIENTE Y ESPACIO PUBLICO\", \"MINISTERIO DE AMBIENTE Y ESPACIO PUBLICO\", \"DIRECCION GENERAL CONTROL DE GESTION\", \"CONTROL DE GESTION Y RECLAMOS\", \"CONTROL DE GESTION Y RECLAMOS\"], [\"MINISTERIO DE AMBIENTE Y ESPACIO PUBLICO\", \"AGENCIA AMBIENTAL\", \"DIRECCION GENERAL DE CONTROL\", \"(?)\", \"(?)\"], [\"MINISTERIO DE AMBIENTE Y ESPACIO PUBLICO\", \"MINISTERIO DE AMBIENTE Y ESPACIO PUBLICO\", \"DIRECCION GENERAL DE ESPACIOS VERDES\", \"CUIDADO Y PUESTA EN VALOR DE ESPACIOS VERDES\", \"(?)\"], [\"MINISTERIO DE AMBIENTE Y ESPACIO PUBLICO\", \"AGENCIA AMBIENTAL\", \"DIRECCION GENERAL DE EVALUACION AMBIENTAL\", \"(?)\", \"(?)\"], [\"MINISTERIO DE AMBIENTE Y ESPACIO PUBLICO\", \"MINISTERIO DE AMBIENTE Y ESPACIO PUBLICO\", \"DIRECCION GENERAL DE LIMPIEZA\", \"(?)\", \"(?)\"], [\"MINISTERIO DE AMBIENTE Y ESPACIO PUBLICO\", \"AGENCIA AMBIENTAL\", \"DIRECCION GENERAL POLITICA Y ESTRATEGIA AMBIENTAL\", \"(?)\", \"(?)\"], [\"MINISTERIO DE AMBIENTE Y ESPACIO PUBLICO\", \"MINISTERIO DE AMBIENTE Y ESPACIO PUBLICO\", \"DIRECCION GENERAL TECNICO ADMINISTRATIVA Y LEGAL\", \"TECNICA ADMINISTRATIVA Y LEGAL\", \"TECNICA ADMINISTRATIVA Y LEGAL\"], [\"MINISTERIO DE AMBIENTE Y ESPACIO PUBLICO\", \"MINISTERIO DE AMBIENTE Y ESPACIO PUBLICO\", \"MINISTERIO AMBIENTE Y ESPACIO PUBLICO\", \"ACTIVIDADES CENTRALES AMBIENTE Y ESPACIO PUBLICO\", \"ACTIVIDADES CENTRALES AMBIENTE Y ESPACIO PUBLICO\"], [\"MINISTERIO DE AMBIENTE Y ESPACIO PUBLICO\", \"MINISTERIO DE AMBIENTE Y ESPACIO PUBLICO\", \"SUBSECRETARIA DE ADMINISTRACION GENERAL Y DE USO DEL ESPACIO PUBLICO\", \"ACTIVIDADES COMUNES A LOS PROG 21,22,23,75,76 Y 77\", \"ACTIVIDADES COMUNES A LOS PROG 21,22,23,75,76 Y 77\"], [\"MINISTERIO DE AMBIENTE Y ESPACIO PUBLICO\", \"MINISTERIO DE AMBIENTE Y ESPACIO PUBLICO\", \"SUBSECRETARIA DE HIGIENE URBANA\", \"ACTIVIDADES COMUNES A LOS PROGRAMAS: 11-52-53-57-58-59\", \"ACTIVIDADES COMUNES A LOS PROGRAMAS: 11-52-53-57-58-59\"], [\"MINISTERIO DE AMBIENTE Y ESPACIO PUBLICO\", \"MINISTERIO DE AMBIENTE Y ESPACIO PUBLICO\", \"UPE ECOPARQUE INTERACTIVO DE LA CABA\", \"CONSERVACION DE LA BIODIVERSIDAD\", \"(?)\"], [\"MINISTERIO DE AMBIENTE Y ESPACIO PUBLICO\", \"AGENCIA AMBIENTAL\", \"(?)\", \"(?)\", \"(?)\"], [\"MINISTERIO DE AMBIENTE Y ESPACIO PUBLICO\", \"MINISTERIO DE AMBIENTE Y ESPACIO PUBLICO\", \"(?)\", \"(?)\", \"(?)\"], [\"MINISTERIO DE AMBIENTE Y ESPACIO PUBLICO\", \"(?)\", \"(?)\", \"(?)\", \"(?)\"]], \"domain\": {\"x\": [0.0, 1.0], \"y\": [0.0, 1.0]}, \"hovertemplate\": \"<b>%{label}</b> <br>$%{value:,.0f}</b> \\n                <br>\\n                    <br>JURISDICCION: %{customdata[0]}</b>\\n                    <br>UNIDAD_EJECUTORA: %{customdata[2]}</b> \\n                    <br>\\n                        <br>PROGRAMA: %{customdata[3]}</b> \\n                        <br>PROYECTO: %{customdata[4]}</b>\\n                    </b>\\n                </b> \", \"ids\": [\"MINISTERIO DE AMBIENTE Y ESPACIO PUBLICO/MINISTERIO DE AMBIENTE Y ESPACIO PUBLICO/DIRECCION GENERAL DE LIMPIEZA/SERVICIOS DE HIGIENE URBANA/A.CU.MAR - RIACHUELO\", \"MINISTERIO DE AMBIENTE Y ESPACIO PUBLICO/AGENCIA AMBIENTAL/DIRECCION GENERAL DE CONTROL/ACCIONES PARA LA RESTAURACION ECOLOGICA/ACCIONES PARA LA RESTAURACION ECOLOGICA\", \"MINISTERIO DE AMBIENTE Y ESPACIO PUBLICO/MINISTERIO DE AMBIENTE Y ESPACIO PUBLICO/MINISTERIO AMBIENTE Y ESPACIO PUBLICO/ACTIVIDADES CENTRALES AMBIENTE Y ESPACIO PUBLICO/ACTIVIDADES CENTRALES AMBIENTE Y ESPACIO PUBLICO\", \"MINISTERIO DE AMBIENTE Y ESPACIO PUBLICO/MINISTERIO DE AMBIENTE Y ESPACIO PUBLICO/SUBSECRETARIA DE ADMINISTRACION GENERAL Y DE USO DEL ESPACIO PUBLICO/ACTIVIDADES COMUNES A LOS PROG 21,22,23,75,76 Y 77/ACTIVIDADES COMUNES A LOS PROG 21,22,23,75,76 Y 77\", \"MINISTERIO DE AMBIENTE Y ESPACIO PUBLICO/AGENCIA AMBIENTAL/AGENCIA AMBIENTAL/ACTIVIDADES COMUNES A LOS PROG. 91 AL 103/ACTIVIDADES COMUNES A LOS PROG. 91 AL 103\", \"MINISTERIO DE AMBIENTE Y ESPACIO PUBLICO/MINISTERIO DE AMBIENTE Y ESPACIO PUBLICO/SUBSECRETARIA DE HIGIENE URBANA/ACTIVIDADES COMUNES A LOS PROGRAMAS: 11-52-53-57-58-59/ACTIVIDADES COMUNES A LOS PROGRAMAS: 11-52-53-57-58-59\", \"MINISTERIO DE AMBIENTE Y ESPACIO PUBLICO/AGENCIA AMBIENTAL/DIRECCION GENERAL POLITICA Y ESTRATEGIA AMBIENTAL/BUENOS AIRES PRODUCE MAS LIMPIO (P+L)/BUENOS AIRES PRODUCE MAS LIMPIO (P+L)\", \"MINISTERIO DE AMBIENTE Y ESPACIO PUBLICO/AGENCIA AMBIENTAL/DIRECCION GENERAL DE EVALUACION AMBIENTAL/COMPENSACION AMBIENTAL/COMPENSACION AMBIENTAL\", \"MINISTERIO DE AMBIENTE Y ESPACIO PUBLICO/MINISTERIO DE AMBIENTE Y ESPACIO PUBLICO/UPE ECOPARQUE INTERACTIVO DE LA CABA/CONSERVACION DE LA BIODIVERSIDAD/CONSERVACION DE LA BIODIVERSIDAD\", \"MINISTERIO DE AMBIENTE Y ESPACIO PUBLICO/AGENCIA AMBIENTAL/DIRECCION GENERAL DE CONTROL/CONTROL AMBIENTAL/CONTROL AMBIENTAL\", \"MINISTERIO DE AMBIENTE Y ESPACIO PUBLICO/MINISTERIO DE AMBIENTE Y ESPACIO PUBLICO/DIRECCION GENERAL CONTROL DE GESTION/CONTROL DE GESTION Y RECLAMOS/CONTROL DE GESTION Y RECLAMOS\", \"MINISTERIO DE AMBIENTE Y ESPACIO PUBLICO/MINISTERIO DE AMBIENTE Y ESPACIO PUBLICO/DIRECCION GENERAL DE LIMPIEZA/CONTROL DE PLAGAS/CONTROL DE PLAGAS\", \"MINISTERIO DE AMBIENTE Y ESPACIO PUBLICO/MINISTERIO DE AMBIENTE Y ESPACIO PUBLICO/DIRECCION GENERAL DE ESPACIOS VERDES/CUIDADO Y PUESTA EN VALOR DE ESPACIOS VERDES/CUIDADO Y PUESTA EN VALOR DE ESPACIOS VERDES\", \"MINISTERIO DE AMBIENTE Y ESPACIO PUBLICO/AGENCIA AMBIENTAL/DIRECCION GENERAL POLITICA Y ESTRATEGIA AMBIENTAL/ESTRATEGIAS AMBIENTALES/ESTRATEGIAS AMBIENTALES\", \"MINISTERIO DE AMBIENTE Y ESPACIO PUBLICO/AGENCIA AMBIENTAL/DIRECCION GENERAL DE EVALUACION AMBIENTAL/EVALUACION TECNICA/EVALUACION TECNICA\", \"MINISTERIO DE AMBIENTE Y ESPACIO PUBLICO/AGENCIA AMBIENTAL/AGENCIA AMBIENTAL/INTERVENCIONES VETERINARIAS/INTERVENCIONES VETERINARIAS\", \"MINISTERIO DE AMBIENTE Y ESPACIO PUBLICO/AGENCIA AMBIENTAL/DIRECCION GENERAL DE CONTROL/LABORATORIO DE ANALISIS Y CALIDAD AMBIENTAL/LABORATORIO DE ANALISIS Y CALIDAD AMBIENTAL\", \"MINISTERIO DE AMBIENTE Y ESPACIO PUBLICO/MINISTERIO DE AMBIENTE Y ESPACIO PUBLICO/DIRECCION GENERAL DE ESPACIOS VERDES/CUIDADO Y PUESTA EN VALOR DE ESPACIOS VERDES/OBRAS BA ELIGE EV\", \"MINISTERIO DE AMBIENTE Y ESPACIO PUBLICO/MINISTERIO DE AMBIENTE Y ESPACIO PUBLICO/DIRECCION GENERAL DE ESPACIOS VERDES/CUIDADO Y PUESTA EN VALOR DE ESPACIOS VERDES/OBRAS DE ESPACIOS VERDES\", \"MINISTERIO DE AMBIENTE Y ESPACIO PUBLICO/MINISTERIO DE AMBIENTE Y ESPACIO PUBLICO/DIRECCION GENERAL DE ESPACIOS VERDES/CUIDADO Y PUESTA EN VALOR DE ESPACIOS VERDES/OBRAS DE ESPACIOS VERDES II\", \"MINISTERIO DE AMBIENTE Y ESPACIO PUBLICO/MINISTERIO DE AMBIENTE Y ESPACIO PUBLICO/UPE ECOPARQUE INTERACTIVO DE LA CABA/CONSERVACION DE LA BIODIVERSIDAD/OBRAS ECOPARQUE MAYEP\", \"MINISTERIO DE AMBIENTE Y ESPACIO PUBLICO/AGENCIA AMBIENTAL/DIRECCION GENERAL POLITICA Y ESTRATEGIA AMBIENTAL/PROGRAMA DE CAMBIO CLIMATICO E INFORMACION AMBIENTAL/PROGRAMA DE CAMBIO CLIMATICO E INFORMACION AMBIENTAL\", \"MINISTERIO DE AMBIENTE Y ESPACIO PUBLICO/AGENCIA AMBIENTAL/DIRECCION GENERAL POLITICA Y ESTRATEGIA AMBIENTAL/PROGRAMA DE GESTION ENERGETICA/PROGRAMA DE GESTION ENERGETICA\", \"MINISTERIO DE AMBIENTE Y ESPACIO PUBLICO/AGENCIA AMBIENTAL/DIRECCION GENERAL POLITICA Y ESTRATEGIA AMBIENTAL/PROGRAMA DE RESIDUOS DE MANEJO ESPECIAL/PROGRAMA DE RESIDUOS DE MANEJO ESPECIAL\", \"MINISTERIO DE AMBIENTE Y ESPACIO PUBLICO/AGENCIA AMBIENTAL/DIRECCION GENERAL DE CONTROL/REDES AMBIENTALES/REDES AMBIENTALES\", \"MINISTERIO DE AMBIENTE Y ESPACIO PUBLICO/AGENCIA AMBIENTAL/AGENCIA AMBIENTAL/SANIDAD Y TENENCIA RESPONSABLE DE MASCOTAS/SANIDAD Y TENENCIA RESPONSABLE DE MASCOTAS\", \"MINISTERIO DE AMBIENTE Y ESPACIO PUBLICO/MINISTERIO DE AMBIENTE Y ESPACIO PUBLICO/DIRECCION GENERAL DE LIMPIEZA/SERVICIOS DE HIGIENE URBANA/SERVICIO DE LIMPIEZA DE ARROYOS\", \"MINISTERIO DE AMBIENTE Y ESPACIO PUBLICO/MINISTERIO DE AMBIENTE Y ESPACIO PUBLICO/DIRECCION GENERAL TECNICO ADMINISTRATIVA Y LEGAL/TECNICA ADMINISTRATIVA Y LEGAL/TECNICA ADMINISTRATIVA Y LEGAL\", \"MINISTERIO DE AMBIENTE Y ESPACIO PUBLICO/MINISTERIO DE AMBIENTE Y ESPACIO PUBLICO/DIRECCION GENERAL DE ESPACIOS VERDES/CUIDADO Y PUESTA EN VALOR DE ESPACIOS VERDES/VALORIZACION DE LOS ESPACIOS VERDES\", \"MINISTERIO DE AMBIENTE Y ESPACIO PUBLICO/AGENCIA AMBIENTAL/DIRECCION GENERAL DE CONTROL/ACCIONES PARA LA RESTAURACION ECOLOGICA\", \"MINISTERIO DE AMBIENTE Y ESPACIO PUBLICO/MINISTERIO DE AMBIENTE Y ESPACIO PUBLICO/MINISTERIO AMBIENTE Y ESPACIO PUBLICO/ACTIVIDADES CENTRALES AMBIENTE Y ESPACIO PUBLICO\", \"MINISTERIO DE AMBIENTE Y ESPACIO PUBLICO/MINISTERIO DE AMBIENTE Y ESPACIO PUBLICO/SUBSECRETARIA DE ADMINISTRACION GENERAL Y DE USO DEL ESPACIO PUBLICO/ACTIVIDADES COMUNES A LOS PROG 21,22,23,75,76 Y 77\", \"MINISTERIO DE AMBIENTE Y ESPACIO PUBLICO/AGENCIA AMBIENTAL/AGENCIA AMBIENTAL/ACTIVIDADES COMUNES A LOS PROG. 91 AL 103\", \"MINISTERIO DE AMBIENTE Y ESPACIO PUBLICO/MINISTERIO DE AMBIENTE Y ESPACIO PUBLICO/SUBSECRETARIA DE HIGIENE URBANA/ACTIVIDADES COMUNES A LOS PROGRAMAS: 11-52-53-57-58-59\", \"MINISTERIO DE AMBIENTE Y ESPACIO PUBLICO/AGENCIA AMBIENTAL/DIRECCION GENERAL POLITICA Y ESTRATEGIA AMBIENTAL/BUENOS AIRES PRODUCE MAS LIMPIO (P+L)\", \"MINISTERIO DE AMBIENTE Y ESPACIO PUBLICO/AGENCIA AMBIENTAL/DIRECCION GENERAL DE EVALUACION AMBIENTAL/COMPENSACION AMBIENTAL\", \"MINISTERIO DE AMBIENTE Y ESPACIO PUBLICO/MINISTERIO DE AMBIENTE Y ESPACIO PUBLICO/UPE ECOPARQUE INTERACTIVO DE LA CABA/CONSERVACION DE LA BIODIVERSIDAD\", \"MINISTERIO DE AMBIENTE Y ESPACIO PUBLICO/AGENCIA AMBIENTAL/DIRECCION GENERAL DE CONTROL/CONTROL AMBIENTAL\", \"MINISTERIO DE AMBIENTE Y ESPACIO PUBLICO/MINISTERIO DE AMBIENTE Y ESPACIO PUBLICO/DIRECCION GENERAL CONTROL DE GESTION/CONTROL DE GESTION Y RECLAMOS\", \"MINISTERIO DE AMBIENTE Y ESPACIO PUBLICO/MINISTERIO DE AMBIENTE Y ESPACIO PUBLICO/DIRECCION GENERAL DE LIMPIEZA/CONTROL DE PLAGAS\", \"MINISTERIO DE AMBIENTE Y ESPACIO PUBLICO/MINISTERIO DE AMBIENTE Y ESPACIO PUBLICO/DIRECCION GENERAL DE ESPACIOS VERDES/CUIDADO Y PUESTA EN VALOR DE ESPACIOS VERDES\", \"MINISTERIO DE AMBIENTE Y ESPACIO PUBLICO/AGENCIA AMBIENTAL/DIRECCION GENERAL POLITICA Y ESTRATEGIA AMBIENTAL/ESTRATEGIAS AMBIENTALES\", \"MINISTERIO DE AMBIENTE Y ESPACIO PUBLICO/AGENCIA AMBIENTAL/DIRECCION GENERAL DE EVALUACION AMBIENTAL/EVALUACION TECNICA\", \"MINISTERIO DE AMBIENTE Y ESPACIO PUBLICO/AGENCIA AMBIENTAL/AGENCIA AMBIENTAL/INTERVENCIONES VETERINARIAS\", \"MINISTERIO DE AMBIENTE Y ESPACIO PUBLICO/AGENCIA AMBIENTAL/DIRECCION GENERAL DE CONTROL/LABORATORIO DE ANALISIS Y CALIDAD AMBIENTAL\", \"MINISTERIO DE AMBIENTE Y ESPACIO PUBLICO/AGENCIA AMBIENTAL/DIRECCION GENERAL POLITICA Y ESTRATEGIA AMBIENTAL/PROGRAMA DE CAMBIO CLIMATICO E INFORMACION AMBIENTAL\", \"MINISTERIO DE AMBIENTE Y ESPACIO PUBLICO/AGENCIA AMBIENTAL/DIRECCION GENERAL POLITICA Y ESTRATEGIA AMBIENTAL/PROGRAMA DE GESTION ENERGETICA\", \"MINISTERIO DE AMBIENTE Y ESPACIO PUBLICO/AGENCIA AMBIENTAL/DIRECCION GENERAL POLITICA Y ESTRATEGIA AMBIENTAL/PROGRAMA DE RESIDUOS DE MANEJO ESPECIAL\", \"MINISTERIO DE AMBIENTE Y ESPACIO PUBLICO/AGENCIA AMBIENTAL/DIRECCION GENERAL DE CONTROL/REDES AMBIENTALES\", \"MINISTERIO DE AMBIENTE Y ESPACIO PUBLICO/AGENCIA AMBIENTAL/AGENCIA AMBIENTAL/SANIDAD Y TENENCIA RESPONSABLE DE MASCOTAS\", \"MINISTERIO DE AMBIENTE Y ESPACIO PUBLICO/MINISTERIO DE AMBIENTE Y ESPACIO PUBLICO/DIRECCION GENERAL DE LIMPIEZA/SERVICIOS DE HIGIENE URBANA\", \"MINISTERIO DE AMBIENTE Y ESPACIO PUBLICO/MINISTERIO DE AMBIENTE Y ESPACIO PUBLICO/DIRECCION GENERAL TECNICO ADMINISTRATIVA Y LEGAL/TECNICA ADMINISTRATIVA Y LEGAL\", \"MINISTERIO DE AMBIENTE Y ESPACIO PUBLICO/AGENCIA AMBIENTAL/AGENCIA AMBIENTAL\", \"MINISTERIO DE AMBIENTE Y ESPACIO PUBLICO/MINISTERIO DE AMBIENTE Y ESPACIO PUBLICO/DIRECCION GENERAL CONTROL DE GESTION\", \"MINISTERIO DE AMBIENTE Y ESPACIO PUBLICO/AGENCIA AMBIENTAL/DIRECCION GENERAL DE CONTROL\", \"MINISTERIO DE AMBIENTE Y ESPACIO PUBLICO/MINISTERIO DE AMBIENTE Y ESPACIO PUBLICO/DIRECCION GENERAL DE ESPACIOS VERDES\", \"MINISTERIO DE AMBIENTE Y ESPACIO PUBLICO/AGENCIA AMBIENTAL/DIRECCION GENERAL DE EVALUACION AMBIENTAL\", \"MINISTERIO DE AMBIENTE Y ESPACIO PUBLICO/MINISTERIO DE AMBIENTE Y ESPACIO PUBLICO/DIRECCION GENERAL DE LIMPIEZA\", \"MINISTERIO DE AMBIENTE Y ESPACIO PUBLICO/AGENCIA AMBIENTAL/DIRECCION GENERAL POLITICA Y ESTRATEGIA AMBIENTAL\", \"MINISTERIO DE AMBIENTE Y ESPACIO PUBLICO/MINISTERIO DE AMBIENTE Y ESPACIO PUBLICO/DIRECCION GENERAL TECNICO ADMINISTRATIVA Y LEGAL\", \"MINISTERIO DE AMBIENTE Y ESPACIO PUBLICO/MINISTERIO DE AMBIENTE Y ESPACIO PUBLICO/MINISTERIO AMBIENTE Y ESPACIO PUBLICO\", \"MINISTERIO DE AMBIENTE Y ESPACIO PUBLICO/MINISTERIO DE AMBIENTE Y ESPACIO PUBLICO/SUBSECRETARIA DE ADMINISTRACION GENERAL Y DE USO DEL ESPACIO PUBLICO\", \"MINISTERIO DE AMBIENTE Y ESPACIO PUBLICO/MINISTERIO DE AMBIENTE Y ESPACIO PUBLICO/SUBSECRETARIA DE HIGIENE URBANA\", \"MINISTERIO DE AMBIENTE Y ESPACIO PUBLICO/MINISTERIO DE AMBIENTE Y ESPACIO PUBLICO/UPE ECOPARQUE INTERACTIVO DE LA CABA\", \"MINISTERIO DE AMBIENTE Y ESPACIO PUBLICO/AGENCIA AMBIENTAL\", \"MINISTERIO DE AMBIENTE Y ESPACIO PUBLICO/MINISTERIO DE AMBIENTE Y ESPACIO PUBLICO\", \"MINISTERIO DE AMBIENTE Y ESPACIO PUBLICO\"], \"insidetextorientation\": \"auto\", \"labels\": [\"A.CU.MAR - RIACHUELO\", \"ACCIONES PARA LA RESTAURACION ECOLOGICA\", \"ACTIVIDADES CENTRALES AMBIENTE Y ESPACIO PUBLICO\", \"ACTIVIDADES COMUNES A LOS PROG 21,22,23,75,76 Y 77\", \"ACTIVIDADES COMUNES A LOS PROG. 91 AL 103\", \"ACTIVIDADES COMUNES A LOS PROGRAMAS: 11-52-53-57-58-59\", \"BUENOS AIRES PRODUCE MAS LIMPIO (P+L)\", \"COMPENSACION AMBIENTAL\", \"CONSERVACION DE LA BIODIVERSIDAD\", \"CONTROL AMBIENTAL\", \"CONTROL DE GESTION Y RECLAMOS\", \"CONTROL DE PLAGAS\", \"CUIDADO Y PUESTA EN VALOR DE ESPACIOS VERDES\", \"ESTRATEGIAS AMBIENTALES\", \"EVALUACION TECNICA\", \"INTERVENCIONES VETERINARIAS\", \"LABORATORIO DE ANALISIS Y CALIDAD AMBIENTAL\", \"OBRAS BA ELIGE EV\", \"OBRAS DE ESPACIOS VERDES\", \"OBRAS DE ESPACIOS VERDES II\", \"OBRAS ECOPARQUE MAYEP\", \"PROGRAMA DE CAMBIO CLIMATICO E INFORMACION AMBIENTAL\", \"PROGRAMA DE GESTION ENERGETICA\", \"PROGRAMA DE RESIDUOS DE MANEJO ESPECIAL\", \"REDES AMBIENTALES\", \"SANIDAD Y TENENCIA RESPONSABLE DE MASCOTAS\", \"SERVICIO DE LIMPIEZA DE ARROYOS\", \"TECNICA ADMINISTRATIVA Y LEGAL\", \"VALORIZACION DE LOS ESPACIOS VERDES\", \"ACCIONES PARA LA RESTAURACION ECOLOGICA\", \"ACTIVIDADES CENTRALES AMBIENTE Y ESPACIO PUBLICO\", \"ACTIVIDADES COMUNES A LOS PROG 21,22,23,75,76 Y 77\", \"ACTIVIDADES COMUNES A LOS PROG. 91 AL 103\", \"ACTIVIDADES COMUNES A LOS PROGRAMAS: 11-52-53-57-58-59\", \"BUENOS AIRES PRODUCE MAS LIMPIO (P+L)\", \"COMPENSACION AMBIENTAL\", \"CONSERVACION DE LA BIODIVERSIDAD\", \"CONTROL AMBIENTAL\", \"CONTROL DE GESTION Y RECLAMOS\", \"CONTROL DE PLAGAS\", \"CUIDADO Y PUESTA EN VALOR DE ESPACIOS VERDES\", \"ESTRATEGIAS AMBIENTALES\", \"EVALUACION TECNICA\", \"INTERVENCIONES VETERINARIAS\", \"LABORATORIO DE ANALISIS Y CALIDAD AMBIENTAL\", \"PROGRAMA DE CAMBIO CLIMATICO E INFORMACION AMBIENTAL\", \"PROGRAMA DE GESTION ENERGETICA\", \"PROGRAMA DE RESIDUOS DE MANEJO ESPECIAL\", \"REDES AMBIENTALES\", \"SANIDAD Y TENENCIA RESPONSABLE DE MASCOTAS\", \"SERVICIOS DE HIGIENE URBANA\", \"TECNICA ADMINISTRATIVA Y LEGAL\", \"AGENCIA AMBIENTAL\", \"DIRECCION GENERAL CONTROL DE GESTION\", \"DIRECCION GENERAL DE CONTROL\", \"DIRECCION GENERAL DE ESPACIOS VERDES\", \"DIRECCION GENERAL DE EVALUACION AMBIENTAL\", \"DIRECCION GENERAL DE LIMPIEZA\", \"DIRECCION GENERAL POLITICA Y ESTRATEGIA AMBIENTAL\", \"DIRECCION GENERAL TECNICO ADMINISTRATIVA Y LEGAL\", \"MINISTERIO AMBIENTE Y ESPACIO PUBLICO\", \"SUBSECRETARIA DE ADMINISTRACION GENERAL Y DE USO DEL ESPACIO PUBLICO\", \"SUBSECRETARIA DE HIGIENE URBANA\", \"UPE ECOPARQUE INTERACTIVO DE LA CABA\", \"AGENCIA AMBIENTAL\", \"MINISTERIO DE AMBIENTE Y ESPACIO PUBLICO\", \"MINISTERIO DE AMBIENTE Y ESPACIO PUBLICO\"], \"maxdepth\": 10, \"name\": \"\", \"parents\": [\"MINISTERIO DE AMBIENTE Y ESPACIO PUBLICO/MINISTERIO DE AMBIENTE Y ESPACIO PUBLICO/DIRECCION GENERAL DE LIMPIEZA/SERVICIOS DE HIGIENE URBANA\", \"MINISTERIO DE AMBIENTE Y ESPACIO PUBLICO/AGENCIA AMBIENTAL/DIRECCION GENERAL DE CONTROL/ACCIONES PARA LA RESTAURACION ECOLOGICA\", \"MINISTERIO DE AMBIENTE Y ESPACIO PUBLICO/MINISTERIO DE AMBIENTE Y ESPACIO PUBLICO/MINISTERIO AMBIENTE Y ESPACIO PUBLICO/ACTIVIDADES CENTRALES AMBIENTE Y ESPACIO PUBLICO\", \"MINISTERIO DE AMBIENTE Y ESPACIO PUBLICO/MINISTERIO DE AMBIENTE Y ESPACIO PUBLICO/SUBSECRETARIA DE ADMINISTRACION GENERAL Y DE USO DEL ESPACIO PUBLICO/ACTIVIDADES COMUNES A LOS PROG 21,22,23,75,76 Y 77\", \"MINISTERIO DE AMBIENTE Y ESPACIO PUBLICO/AGENCIA AMBIENTAL/AGENCIA AMBIENTAL/ACTIVIDADES COMUNES A LOS PROG. 91 AL 103\", \"MINISTERIO DE AMBIENTE Y ESPACIO PUBLICO/MINISTERIO DE AMBIENTE Y ESPACIO PUBLICO/SUBSECRETARIA DE HIGIENE URBANA/ACTIVIDADES COMUNES A LOS PROGRAMAS: 11-52-53-57-58-59\", \"MINISTERIO DE AMBIENTE Y ESPACIO PUBLICO/AGENCIA AMBIENTAL/DIRECCION GENERAL POLITICA Y ESTRATEGIA AMBIENTAL/BUENOS AIRES PRODUCE MAS LIMPIO (P+L)\", \"MINISTERIO DE AMBIENTE Y ESPACIO PUBLICO/AGENCIA AMBIENTAL/DIRECCION GENERAL DE EVALUACION AMBIENTAL/COMPENSACION AMBIENTAL\", \"MINISTERIO DE AMBIENTE Y ESPACIO PUBLICO/MINISTERIO DE AMBIENTE Y ESPACIO PUBLICO/UPE ECOPARQUE INTERACTIVO DE LA CABA/CONSERVACION DE LA BIODIVERSIDAD\", \"MINISTERIO DE AMBIENTE Y ESPACIO PUBLICO/AGENCIA AMBIENTAL/DIRECCION GENERAL DE CONTROL/CONTROL AMBIENTAL\", \"MINISTERIO DE AMBIENTE Y ESPACIO PUBLICO/MINISTERIO DE AMBIENTE Y ESPACIO PUBLICO/DIRECCION GENERAL CONTROL DE GESTION/CONTROL DE GESTION Y RECLAMOS\", \"MINISTERIO DE AMBIENTE Y ESPACIO PUBLICO/MINISTERIO DE AMBIENTE Y ESPACIO PUBLICO/DIRECCION GENERAL DE LIMPIEZA/CONTROL DE PLAGAS\", \"MINISTERIO DE AMBIENTE Y ESPACIO PUBLICO/MINISTERIO DE AMBIENTE Y ESPACIO PUBLICO/DIRECCION GENERAL DE ESPACIOS VERDES/CUIDADO Y PUESTA EN VALOR DE ESPACIOS VERDES\", \"MINISTERIO DE AMBIENTE Y ESPACIO PUBLICO/AGENCIA AMBIENTAL/DIRECCION GENERAL POLITICA Y ESTRATEGIA AMBIENTAL/ESTRATEGIAS AMBIENTALES\", \"MINISTERIO DE AMBIENTE Y ESPACIO PUBLICO/AGENCIA AMBIENTAL/DIRECCION GENERAL DE EVALUACION AMBIENTAL/EVALUACION TECNICA\", \"MINISTERIO DE AMBIENTE Y ESPACIO PUBLICO/AGENCIA AMBIENTAL/AGENCIA AMBIENTAL/INTERVENCIONES VETERINARIAS\", \"MINISTERIO DE AMBIENTE Y ESPACIO PUBLICO/AGENCIA AMBIENTAL/DIRECCION GENERAL DE CONTROL/LABORATORIO DE ANALISIS Y CALIDAD AMBIENTAL\", \"MINISTERIO DE AMBIENTE Y ESPACIO PUBLICO/MINISTERIO DE AMBIENTE Y ESPACIO PUBLICO/DIRECCION GENERAL DE ESPACIOS VERDES/CUIDADO Y PUESTA EN VALOR DE ESPACIOS VERDES\", \"MINISTERIO DE AMBIENTE Y ESPACIO PUBLICO/MINISTERIO DE AMBIENTE Y ESPACIO PUBLICO/DIRECCION GENERAL DE ESPACIOS VERDES/CUIDADO Y PUESTA EN VALOR DE ESPACIOS VERDES\", \"MINISTERIO DE AMBIENTE Y ESPACIO PUBLICO/MINISTERIO DE AMBIENTE Y ESPACIO PUBLICO/DIRECCION GENERAL DE ESPACIOS VERDES/CUIDADO Y PUESTA EN VALOR DE ESPACIOS VERDES\", \"MINISTERIO DE AMBIENTE Y ESPACIO PUBLICO/MINISTERIO DE AMBIENTE Y ESPACIO PUBLICO/UPE ECOPARQUE INTERACTIVO DE LA CABA/CONSERVACION DE LA BIODIVERSIDAD\", \"MINISTERIO DE AMBIENTE Y ESPACIO PUBLICO/AGENCIA AMBIENTAL/DIRECCION GENERAL POLITICA Y ESTRATEGIA AMBIENTAL/PROGRAMA DE CAMBIO CLIMATICO E INFORMACION AMBIENTAL\", \"MINISTERIO DE AMBIENTE Y ESPACIO PUBLICO/AGENCIA AMBIENTAL/DIRECCION GENERAL POLITICA Y ESTRATEGIA AMBIENTAL/PROGRAMA DE GESTION ENERGETICA\", \"MINISTERIO DE AMBIENTE Y ESPACIO PUBLICO/AGENCIA AMBIENTAL/DIRECCION GENERAL POLITICA Y ESTRATEGIA AMBIENTAL/PROGRAMA DE RESIDUOS DE MANEJO ESPECIAL\", \"MINISTERIO DE AMBIENTE Y ESPACIO PUBLICO/AGENCIA AMBIENTAL/DIRECCION GENERAL DE CONTROL/REDES AMBIENTALES\", \"MINISTERIO DE AMBIENTE Y ESPACIO PUBLICO/AGENCIA AMBIENTAL/AGENCIA AMBIENTAL/SANIDAD Y TENENCIA RESPONSABLE DE MASCOTAS\", \"MINISTERIO DE AMBIENTE Y ESPACIO PUBLICO/MINISTERIO DE AMBIENTE Y ESPACIO PUBLICO/DIRECCION GENERAL DE LIMPIEZA/SERVICIOS DE HIGIENE URBANA\", \"MINISTERIO DE AMBIENTE Y ESPACIO PUBLICO/MINISTERIO DE AMBIENTE Y ESPACIO PUBLICO/DIRECCION GENERAL TECNICO ADMINISTRATIVA Y LEGAL/TECNICA ADMINISTRATIVA Y LEGAL\", \"MINISTERIO DE AMBIENTE Y ESPACIO PUBLICO/MINISTERIO DE AMBIENTE Y ESPACIO PUBLICO/DIRECCION GENERAL DE ESPACIOS VERDES/CUIDADO Y PUESTA EN VALOR DE ESPACIOS VERDES\", \"MINISTERIO DE AMBIENTE Y ESPACIO PUBLICO/AGENCIA AMBIENTAL/DIRECCION GENERAL DE CONTROL\", \"MINISTERIO DE AMBIENTE Y ESPACIO PUBLICO/MINISTERIO DE AMBIENTE Y ESPACIO PUBLICO/MINISTERIO AMBIENTE Y ESPACIO PUBLICO\", \"MINISTERIO DE AMBIENTE Y ESPACIO PUBLICO/MINISTERIO DE AMBIENTE Y ESPACIO PUBLICO/SUBSECRETARIA DE ADMINISTRACION GENERAL Y DE USO DEL ESPACIO PUBLICO\", \"MINISTERIO DE AMBIENTE Y ESPACIO PUBLICO/AGENCIA AMBIENTAL/AGENCIA AMBIENTAL\", \"MINISTERIO DE AMBIENTE Y ESPACIO PUBLICO/MINISTERIO DE AMBIENTE Y ESPACIO PUBLICO/SUBSECRETARIA DE HIGIENE URBANA\", \"MINISTERIO DE AMBIENTE Y ESPACIO PUBLICO/AGENCIA AMBIENTAL/DIRECCION GENERAL POLITICA Y ESTRATEGIA AMBIENTAL\", \"MINISTERIO DE AMBIENTE Y ESPACIO PUBLICO/AGENCIA AMBIENTAL/DIRECCION GENERAL DE EVALUACION AMBIENTAL\", \"MINISTERIO DE AMBIENTE Y ESPACIO PUBLICO/MINISTERIO DE AMBIENTE Y ESPACIO PUBLICO/UPE ECOPARQUE INTERACTIVO DE LA CABA\", \"MINISTERIO DE AMBIENTE Y ESPACIO PUBLICO/AGENCIA AMBIENTAL/DIRECCION GENERAL DE CONTROL\", \"MINISTERIO DE AMBIENTE Y ESPACIO PUBLICO/MINISTERIO DE AMBIENTE Y ESPACIO PUBLICO/DIRECCION GENERAL CONTROL DE GESTION\", \"MINISTERIO DE AMBIENTE Y ESPACIO PUBLICO/MINISTERIO DE AMBIENTE Y ESPACIO PUBLICO/DIRECCION GENERAL DE LIMPIEZA\", \"MINISTERIO DE AMBIENTE Y ESPACIO PUBLICO/MINISTERIO DE AMBIENTE Y ESPACIO PUBLICO/DIRECCION GENERAL DE ESPACIOS VERDES\", \"MINISTERIO DE AMBIENTE Y ESPACIO PUBLICO/AGENCIA AMBIENTAL/DIRECCION GENERAL POLITICA Y ESTRATEGIA AMBIENTAL\", \"MINISTERIO DE AMBIENTE Y ESPACIO PUBLICO/AGENCIA AMBIENTAL/DIRECCION GENERAL DE EVALUACION AMBIENTAL\", \"MINISTERIO DE AMBIENTE Y ESPACIO PUBLICO/AGENCIA AMBIENTAL/AGENCIA AMBIENTAL\", \"MINISTERIO DE AMBIENTE Y ESPACIO PUBLICO/AGENCIA AMBIENTAL/DIRECCION GENERAL DE CONTROL\", \"MINISTERIO DE AMBIENTE Y ESPACIO PUBLICO/AGENCIA AMBIENTAL/DIRECCION GENERAL POLITICA Y ESTRATEGIA AMBIENTAL\", \"MINISTERIO DE AMBIENTE Y ESPACIO PUBLICO/AGENCIA AMBIENTAL/DIRECCION GENERAL POLITICA Y ESTRATEGIA AMBIENTAL\", \"MINISTERIO DE AMBIENTE Y ESPACIO PUBLICO/AGENCIA AMBIENTAL/DIRECCION GENERAL POLITICA Y ESTRATEGIA AMBIENTAL\", \"MINISTERIO DE AMBIENTE Y ESPACIO PUBLICO/AGENCIA AMBIENTAL/DIRECCION GENERAL DE CONTROL\", \"MINISTERIO DE AMBIENTE Y ESPACIO PUBLICO/AGENCIA AMBIENTAL/AGENCIA AMBIENTAL\", \"MINISTERIO DE AMBIENTE Y ESPACIO PUBLICO/MINISTERIO DE AMBIENTE Y ESPACIO PUBLICO/DIRECCION GENERAL DE LIMPIEZA\", \"MINISTERIO DE AMBIENTE Y ESPACIO PUBLICO/MINISTERIO DE AMBIENTE Y ESPACIO PUBLICO/DIRECCION GENERAL TECNICO ADMINISTRATIVA Y LEGAL\", \"MINISTERIO DE AMBIENTE Y ESPACIO PUBLICO/AGENCIA AMBIENTAL\", \"MINISTERIO DE AMBIENTE Y ESPACIO PUBLICO/MINISTERIO DE AMBIENTE Y ESPACIO PUBLICO\", \"MINISTERIO DE AMBIENTE Y ESPACIO PUBLICO/AGENCIA AMBIENTAL\", \"MINISTERIO DE AMBIENTE Y ESPACIO PUBLICO/MINISTERIO DE AMBIENTE Y ESPACIO PUBLICO\", \"MINISTERIO DE AMBIENTE Y ESPACIO PUBLICO/AGENCIA AMBIENTAL\", \"MINISTERIO DE AMBIENTE Y ESPACIO PUBLICO/MINISTERIO DE AMBIENTE Y ESPACIO PUBLICO\", \"MINISTERIO DE AMBIENTE Y ESPACIO PUBLICO/AGENCIA AMBIENTAL\", \"MINISTERIO DE AMBIENTE Y ESPACIO PUBLICO/MINISTERIO DE AMBIENTE Y ESPACIO PUBLICO\", \"MINISTERIO DE AMBIENTE Y ESPACIO PUBLICO/MINISTERIO DE AMBIENTE Y ESPACIO PUBLICO\", \"MINISTERIO DE AMBIENTE Y ESPACIO PUBLICO/MINISTERIO DE AMBIENTE Y ESPACIO PUBLICO\", \"MINISTERIO DE AMBIENTE Y ESPACIO PUBLICO/MINISTERIO DE AMBIENTE Y ESPACIO PUBLICO\", \"MINISTERIO DE AMBIENTE Y ESPACIO PUBLICO/MINISTERIO DE AMBIENTE Y ESPACIO PUBLICO\", \"MINISTERIO DE AMBIENTE Y ESPACIO PUBLICO\", \"MINISTERIO DE AMBIENTE Y ESPACIO PUBLICO\", \"\"], \"textinfo\": \"percent entry\", \"type\": \"sunburst\", \"values\": [72814770.0, 10818489.0, 286020781.0, 2500000.0, 141102216.0, 36647045.0, 4115146.0, 1993859.0, 235009468.0, 94456267.0, 37152961.0, 94193870.0, 273729024.0, 34392092.0, 56195595.0, 14300001.0, 18769780.0, 7252834.0, 29860001.0, 102530490.0, 106286583.0, 8025542.0, 6890776.0, 10483260.0, 1300000.0, 42353074.0, 68843158.0, 66531500.0, 1040075483.0, 10818489.0, 286020781.0, 2500000.0, 141102216.0, 36647045.0, 4115146.0, 1993859.0, 341296051.0, 94456267.0, 37152961.0, 94193870.0, 1453447832.0, 34392092.0, 56195595.0, 14300001.0, 18769780.0, 8025542.0, 6890776.0, 10483260.0, 1300000.0, 42353074.0, 141657928.0, 66531500.0, 197755291.0, 37152961.0, 125344536.0, 1453447832.0, 58189454.0, 235851798.0, 63906816.0, 66531500.0, 286020781.0, 2500000.0, 36647045.0, 341296051.0, 445196097.0, 2459447968.0, 2904644065.0]}],\n",
       "                        {\"legend\": {\"tracegroupgap\": 0}, \"margin\": {\"t\": 60}, \"template\": {\"data\": {\"bar\": [{\"error_x\": {\"color\": \"#2a3f5f\"}, \"error_y\": {\"color\": \"#2a3f5f\"}, \"marker\": {\"line\": {\"color\": \"#E5ECF6\", \"width\": 0.5}}, \"type\": \"bar\"}], \"barpolar\": [{\"marker\": {\"line\": {\"color\": \"#E5ECF6\", \"width\": 0.5}}, \"type\": \"barpolar\"}], \"carpet\": [{\"aaxis\": {\"endlinecolor\": \"#2a3f5f\", \"gridcolor\": \"white\", \"linecolor\": \"white\", \"minorgridcolor\": \"white\", \"startlinecolor\": \"#2a3f5f\"}, \"baxis\": {\"endlinecolor\": \"#2a3f5f\", \"gridcolor\": \"white\", \"linecolor\": \"white\", \"minorgridcolor\": \"white\", \"startlinecolor\": \"#2a3f5f\"}, \"type\": \"carpet\"}], \"choropleth\": [{\"colorbar\": {\"outlinewidth\": 0, \"ticks\": \"\"}, \"type\": \"choropleth\"}], \"contour\": [{\"colorbar\": {\"outlinewidth\": 0, \"ticks\": \"\"}, \"colorscale\": [[0.0, \"#0d0887\"], [0.1111111111111111, \"#46039f\"], [0.2222222222222222, \"#7201a8\"], [0.3333333333333333, \"#9c179e\"], [0.4444444444444444, \"#bd3786\"], [0.5555555555555556, \"#d8576b\"], [0.6666666666666666, \"#ed7953\"], [0.7777777777777778, \"#fb9f3a\"], [0.8888888888888888, \"#fdca26\"], [1.0, \"#f0f921\"]], \"type\": \"contour\"}], \"contourcarpet\": [{\"colorbar\": {\"outlinewidth\": 0, \"ticks\": \"\"}, \"type\": \"contourcarpet\"}], \"heatmap\": [{\"colorbar\": {\"outlinewidth\": 0, \"ticks\": \"\"}, \"colorscale\": [[0.0, \"#0d0887\"], [0.1111111111111111, \"#46039f\"], [0.2222222222222222, \"#7201a8\"], [0.3333333333333333, \"#9c179e\"], [0.4444444444444444, \"#bd3786\"], [0.5555555555555556, \"#d8576b\"], [0.6666666666666666, \"#ed7953\"], [0.7777777777777778, \"#fb9f3a\"], [0.8888888888888888, \"#fdca26\"], [1.0, \"#f0f921\"]], \"type\": \"heatmap\"}], \"heatmapgl\": [{\"colorbar\": {\"outlinewidth\": 0, \"ticks\": \"\"}, \"colorscale\": [[0.0, \"#0d0887\"], [0.1111111111111111, \"#46039f\"], [0.2222222222222222, \"#7201a8\"], [0.3333333333333333, \"#9c179e\"], [0.4444444444444444, \"#bd3786\"], [0.5555555555555556, \"#d8576b\"], [0.6666666666666666, \"#ed7953\"], [0.7777777777777778, \"#fb9f3a\"], [0.8888888888888888, \"#fdca26\"], [1.0, \"#f0f921\"]], \"type\": \"heatmapgl\"}], \"histogram\": [{\"marker\": {\"colorbar\": {\"outlinewidth\": 0, \"ticks\": \"\"}}, \"type\": \"histogram\"}], \"histogram2d\": [{\"colorbar\": {\"outlinewidth\": 0, \"ticks\": \"\"}, \"colorscale\": [[0.0, \"#0d0887\"], [0.1111111111111111, \"#46039f\"], [0.2222222222222222, \"#7201a8\"], [0.3333333333333333, \"#9c179e\"], [0.4444444444444444, \"#bd3786\"], [0.5555555555555556, \"#d8576b\"], [0.6666666666666666, \"#ed7953\"], [0.7777777777777778, \"#fb9f3a\"], [0.8888888888888888, \"#fdca26\"], [1.0, \"#f0f921\"]], \"type\": \"histogram2d\"}], \"histogram2dcontour\": [{\"colorbar\": {\"outlinewidth\": 0, \"ticks\": \"\"}, \"colorscale\": [[0.0, \"#0d0887\"], [0.1111111111111111, \"#46039f\"], [0.2222222222222222, \"#7201a8\"], [0.3333333333333333, \"#9c179e\"], [0.4444444444444444, \"#bd3786\"], [0.5555555555555556, \"#d8576b\"], [0.6666666666666666, \"#ed7953\"], [0.7777777777777778, \"#fb9f3a\"], [0.8888888888888888, \"#fdca26\"], [1.0, \"#f0f921\"]], \"type\": \"histogram2dcontour\"}], \"mesh3d\": [{\"colorbar\": {\"outlinewidth\": 0, \"ticks\": \"\"}, \"type\": \"mesh3d\"}], \"parcoords\": [{\"line\": {\"colorbar\": {\"outlinewidth\": 0, \"ticks\": \"\"}}, \"type\": \"parcoords\"}], \"pie\": [{\"automargin\": true, \"type\": \"pie\"}], \"scatter\": [{\"marker\": {\"colorbar\": {\"outlinewidth\": 0, \"ticks\": \"\"}}, \"type\": \"scatter\"}], \"scatter3d\": [{\"line\": {\"colorbar\": {\"outlinewidth\": 0, \"ticks\": \"\"}}, \"marker\": {\"colorbar\": {\"outlinewidth\": 0, \"ticks\": \"\"}}, \"type\": \"scatter3d\"}], \"scattercarpet\": [{\"marker\": {\"colorbar\": {\"outlinewidth\": 0, \"ticks\": \"\"}}, \"type\": \"scattercarpet\"}], \"scattergeo\": [{\"marker\": {\"colorbar\": {\"outlinewidth\": 0, \"ticks\": \"\"}}, \"type\": \"scattergeo\"}], \"scattergl\": [{\"marker\": {\"colorbar\": {\"outlinewidth\": 0, \"ticks\": \"\"}}, \"type\": \"scattergl\"}], \"scattermapbox\": [{\"marker\": {\"colorbar\": {\"outlinewidth\": 0, \"ticks\": \"\"}}, \"type\": \"scattermapbox\"}], \"scatterpolar\": [{\"marker\": {\"colorbar\": {\"outlinewidth\": 0, \"ticks\": \"\"}}, \"type\": \"scatterpolar\"}], \"scatterpolargl\": [{\"marker\": {\"colorbar\": {\"outlinewidth\": 0, \"ticks\": \"\"}}, \"type\": \"scatterpolargl\"}], \"scatterternary\": [{\"marker\": {\"colorbar\": {\"outlinewidth\": 0, \"ticks\": \"\"}}, \"type\": \"scatterternary\"}], \"surface\": [{\"colorbar\": {\"outlinewidth\": 0, \"ticks\": \"\"}, \"colorscale\": [[0.0, \"#0d0887\"], [0.1111111111111111, \"#46039f\"], [0.2222222222222222, \"#7201a8\"], [0.3333333333333333, \"#9c179e\"], [0.4444444444444444, \"#bd3786\"], [0.5555555555555556, \"#d8576b\"], [0.6666666666666666, \"#ed7953\"], [0.7777777777777778, \"#fb9f3a\"], [0.8888888888888888, \"#fdca26\"], [1.0, \"#f0f921\"]], \"type\": \"surface\"}], \"table\": [{\"cells\": {\"fill\": {\"color\": \"#EBF0F8\"}, \"line\": {\"color\": \"white\"}}, \"header\": {\"fill\": {\"color\": \"#C8D4E3\"}, \"line\": {\"color\": \"white\"}}, \"type\": \"table\"}]}, \"layout\": {\"annotationdefaults\": {\"arrowcolor\": \"#2a3f5f\", \"arrowhead\": 0, \"arrowwidth\": 1}, \"coloraxis\": {\"colorbar\": {\"outlinewidth\": 0, \"ticks\": \"\"}}, \"colorscale\": {\"diverging\": [[0, \"#8e0152\"], [0.1, \"#c51b7d\"], [0.2, \"#de77ae\"], [0.3, \"#f1b6da\"], [0.4, \"#fde0ef\"], [0.5, \"#f7f7f7\"], [0.6, \"#e6f5d0\"], [0.7, \"#b8e186\"], [0.8, \"#7fbc41\"], [0.9, \"#4d9221\"], [1, \"#276419\"]], \"sequential\": [[0.0, \"#0d0887\"], [0.1111111111111111, \"#46039f\"], [0.2222222222222222, \"#7201a8\"], [0.3333333333333333, \"#9c179e\"], [0.4444444444444444, \"#bd3786\"], [0.5555555555555556, \"#d8576b\"], [0.6666666666666666, \"#ed7953\"], [0.7777777777777778, \"#fb9f3a\"], [0.8888888888888888, \"#fdca26\"], [1.0, \"#f0f921\"]], \"sequentialminus\": [[0.0, \"#0d0887\"], [0.1111111111111111, \"#46039f\"], [0.2222222222222222, \"#7201a8\"], [0.3333333333333333, \"#9c179e\"], [0.4444444444444444, \"#bd3786\"], [0.5555555555555556, \"#d8576b\"], [0.6666666666666666, \"#ed7953\"], [0.7777777777777778, \"#fb9f3a\"], [0.8888888888888888, \"#fdca26\"], [1.0, \"#f0f921\"]]}, \"colorway\": [\"#636efa\", \"#EF553B\", \"#00cc96\", \"#ab63fa\", \"#FFA15A\", \"#19d3f3\", \"#FF6692\", \"#B6E880\", \"#FF97FF\", \"#FECB52\"], \"font\": {\"color\": \"#2a3f5f\"}, \"geo\": {\"bgcolor\": \"white\", \"lakecolor\": \"white\", \"landcolor\": \"#E5ECF6\", \"showlakes\": true, \"showland\": true, \"subunitcolor\": \"white\"}, \"hoverlabel\": {\"align\": \"left\"}, \"hovermode\": \"closest\", \"mapbox\": {\"style\": \"light\"}, \"paper_bgcolor\": \"white\", \"plot_bgcolor\": \"#E5ECF6\", \"polar\": {\"angularaxis\": {\"gridcolor\": \"white\", \"linecolor\": \"white\", \"ticks\": \"\"}, \"bgcolor\": \"#E5ECF6\", \"radialaxis\": {\"gridcolor\": \"white\", \"linecolor\": \"white\", \"ticks\": \"\"}}, \"scene\": {\"xaxis\": {\"backgroundcolor\": \"#E5ECF6\", \"gridcolor\": \"white\", \"gridwidth\": 2, \"linecolor\": \"white\", \"showbackground\": true, \"ticks\": \"\", \"zerolinecolor\": \"white\"}, \"yaxis\": {\"backgroundcolor\": \"#E5ECF6\", \"gridcolor\": \"white\", \"gridwidth\": 2, \"linecolor\": \"white\", \"showbackground\": true, \"ticks\": \"\", \"zerolinecolor\": \"white\"}, \"zaxis\": {\"backgroundcolor\": \"#E5ECF6\", \"gridcolor\": \"white\", \"gridwidth\": 2, \"linecolor\": \"white\", \"showbackground\": true, \"ticks\": \"\", \"zerolinecolor\": \"white\"}}, \"shapedefaults\": {\"line\": {\"color\": \"#2a3f5f\"}}, \"ternary\": {\"aaxis\": {\"gridcolor\": \"white\", \"linecolor\": \"white\", \"ticks\": \"\"}, \"baxis\": {\"gridcolor\": \"white\", \"linecolor\": \"white\", \"ticks\": \"\"}, \"bgcolor\": \"#E5ECF6\", \"caxis\": {\"gridcolor\": \"white\", \"linecolor\": \"white\", \"ticks\": \"\"}}, \"title\": {\"x\": 0.05}, \"xaxis\": {\"automargin\": true, \"gridcolor\": \"white\", \"linecolor\": \"white\", \"ticks\": \"\", \"title\": {\"standoff\": 15}, \"zerolinecolor\": \"white\", \"zerolinewidth\": 2}, \"yaxis\": {\"automargin\": true, \"gridcolor\": \"white\", \"linecolor\": \"white\", \"ticks\": \"\", \"title\": {\"standoff\": 15}, \"zerolinecolor\": \"white\", \"zerolinewidth\": 2}}}},\n",
       "                        {\"responsive\": true}\n",
       "                    ).then(function(){\n",
       "                            \n",
       "var gd = document.getElementById('8aaab66e-d279-47bb-8cc0-3376aa9eba2c');\n",
       "var x = new MutationObserver(function (mutations, observer) {{\n",
       "        var display = window.getComputedStyle(gd).display;\n",
       "        if (!display || display === 'none') {{\n",
       "            console.log([gd, 'removed!']);\n",
       "            Plotly.purge(gd);\n",
       "            observer.disconnect();\n",
       "        }}\n",
       "}});\n",
       "\n",
       "// Listen for the removal of the full notebook cells\n",
       "var notebookContainer = gd.closest('#notebook-container');\n",
       "if (notebookContainer) {{\n",
       "    x.observe(notebookContainer, {childList: true});\n",
       "}}\n",
       "\n",
       "// Listen for the clearing of the current output cell\n",
       "var outputEl = gd.closest('.output');\n",
       "if (outputEl) {{\n",
       "    x.observe(outputEl, {childList: true});\n",
       "}}\n",
       "\n",
       "                        })\n",
       "                };\n",
       "                });\n",
       "            </script>\n",
       "        </div>"
      ]
     },
     "metadata": {},
     "output_type": "display_data"
    }
   ],
   "source": [
    "sunburst(ecologia[ecologia['AÑO'] == 2019])"
   ]
  },
  {
   "cell_type": "code",
   "execution_count": 97,
   "metadata": {
    "scrolled": true
   },
   "outputs": [
    {
     "data": {
      "text/plain": [
       "CUIDADO Y PUESTA EN VALOR DE ESPACIOS VERDES                                          3607\n",
       "VALORIZACION DE LOS ESPACIOS VERDES                                                   382 \n",
       "VALORIZACION DE LOS ESPACIOS VERDES DE LA CIUDAD                                      85  \n",
       "OBRAS DE ESPACIOS VERDES                                                              70  \n",
       "CUIDADO Y PUESTA EN VALOR DEL PATRIMONIO CULTURAL Y NATURAL DE LOS ESPACIOS VERDES    33  \n",
       "CUIDADO Y PRESERVACION DEL ARBOLADO URBANO                                            24  \n",
       "CUIDADO Y PUESTA EN VALOR DE GRANDES PARQUES                                          15  \n",
       "OBRAS BA ELIGE EV                                                                     3   \n",
       "A.CU.MAR - VALORIZACION DE LOS ESPACIOS VERDES                                        3   \n",
       "PUESTA EN VALOR EDIFICIOS                                                             2   \n",
       "OBRAS DE ESPACIOS VERDES II                                                           1   \n",
       "JARDIN BOTANICO CARLOS THAYS                                                          1   \n",
       "Name: PROYECTO, dtype: int64"
      ]
     },
     "execution_count": 97,
     "metadata": {},
     "output_type": "execute_result"
    },
    {
     "data": {
      "text/plain": [
       "ARBOLADO URBANO                               504\n",
       "INTERVENCIONES SOBRE EL ARBOLADO              121\n",
       "CUIDADO Y PRESERVACION DEL ARBOLADO URBANO    50 \n",
       "Name: PROYECTO, dtype: int64"
      ]
     },
     "execution_count": 97,
     "metadata": {},
     "output_type": "execute_result"
    }
   ],
   "source": [
    "espacios_verdes['PROYECTO'].value_counts()\n",
    "arbolado['PROYECTO'].value_counts()"
   ]
  },
  {
   "cell_type": "code",
   "execution_count": 98,
   "metadata": {
    "scrolled": true
   },
   "outputs": [
    {
     "data": {
      "text/plain": [
       "OPERATIVOS DE CONTROL Y MANTENIMIENTO DE ESPACIOS VERDES                              516\n",
       "MANTENIMIENTO DE FUENTES, MONUMENTOS Y OBRAS DE ARTE                                  494\n",
       "CONDUCCION                                                                            397\n",
       "JARDIN BOTANICO \"CARLOS THAYS\"                                                        355\n",
       "PARQUE 3 DE FEBRERO                                                                   349\n",
       "RESERVA ECOLOGICA COSTANERA SUR                                                       311\n",
       "ADMINISTRACION Y SERVICIOS GENERALES                                                  311\n",
       "VALORIZACION DE LOS ESPACIOS VERDES                                                   262\n",
       "GUARDIANES DE PLAZA                                                                   261\n",
       "CUIDADO Y PUESTA EN VALOR PATRIMONIO CULTURAL Y NATURAL DE LOS ESPACIOS VERDES        132\n",
       "RESERVA ECOLOGICA \"COSTANERA SUR\"                                                     132\n",
       "PARQUE AVELLANEDA                                                                     121\n",
       "PRESERVACION Y PUESTA EN VALOR DE ESPEJOS DE AGUA                                     92 \n",
       "VALORIZACION DE LOS ESPACIOS VERDES DE LA CIUDAD                                      80 \n",
       "ESTUDIOS Y PROYECTOS                                                                  59 \n",
       "JARDIN BOTANICO CARLOS THAYS                                                          53 \n",
       "PARQUE INDOAMERICANO                                                                  38 \n",
       "CONTROL Y MANTENIMIENTO DE ESPACIOS VERDES                                            37 \n",
       "SERVICIOS ESPECIALES                                                                  35 \n",
       "CUIDADO Y PUESTA EN VALOR DEL PATRIMONIO CULTURAL Y NATURAL DE LOS ESPACIOS VERDES    33 \n",
       "CUIDADO Y PRESERVACION DEL ARBOLADO URBANO                                            24 \n",
       "LICITACION PUBLICA MANTENIMIENTO INTEGRAL DE MUROS VERDES Y ZONAS ANEXAS              16 \n",
       "CUIDADO Y PUESTA EN VALOR DE GRANDES PARQUES                                          15 \n",
       "MANTENIMIENTO ESPACIOS VERDES LIC 248/2011                                            10 \n",
       "TRABAJOS COMPLEMENTARIOS MANTENIMIENTO ESPACIOS VERDES                                10 \n",
       "CUIDADO Y PUESTA EN VALOR PARIMONIO CULTURAL Y NATURAL DE LOS ESPACIOS VERDES         9  \n",
       "OBRAS DE ESPACIOS VERDES                                                              8  \n",
       "MANTENIMIENTO INTEGRAL Y LIMPIEZA DE FUENTES ORNAMENTALES                             8  \n",
       "ESTUDIOS, INVESTIGACIONES Y PROYECTOS DE FACTIBILIDAD                                 3  \n",
       "A.CU.MAR - VALORIZACION DE LOS ESPACIOS VERDES                                        3  \n",
       "PARQUE DE VOLEY PLAYA- VELODROMO                                                      3  \n",
       "PARQUE LAS HERAS                                                                      2  \n",
       "PARQUE ALBERDI                                                                        2  \n",
       "CEMENTERIO RECOLETA CINERARIO Y MURO VERDE                                            2  \n",
       "PARQUE ISLA DE LA PATERNAL                                                            2  \n",
       "PUESTA EN VALOR EDIFICIOS                                                             2  \n",
       "PARQUE CHACABUCO                                                                      2  \n",
       "EX ESMA                                                                               2  \n",
       "2Â° ETAPA PM CHACARITA PLAZA NEWBERY Y TRASL. OSARIO                                  2  \n",
       "PUESTA EN VALOR PLAZA EGIPTO                                                          1  \n",
       "PLAZA PUEYRREDON                                                                      1  \n",
       "TRATAMIENTO BAJO PUENTES ALCORTA                                                      1  \n",
       "PLAZA DE MAYO                                                                         1  \n",
       "TERMINACION SECTOR ESPIGON PLUS ULTRA Y ENTORNO                                       1  \n",
       "CIRCUITO AEROBICO ENTORNO GOLF                                                        1  \n",
       "RESERVA ECOLOGICA LAGO LUGANO                                                         1  \n",
       "PLAZA GOULD PUESTA EN VALOR INTEGRAL                                                  1  \n",
       "2Â° ETAPA PM CHACARITA PLAZAS SOBRE GUZMAN                                            1  \n",
       "PLAN MAESTRO CEMENTERIO FLORES                                                        1  \n",
       "2Â° ETAPA PLAYAS DE BOLSILLOS Y NODO 2 PLAYA                                          1  \n",
       "LA BOYERA RECUP. Y PUESTA EN VALOR                                                    1  \n",
       "2Â° ETAPA SENDEROS JARDIN BOTANICO, INGRESO PLAZA ITALIA                              1  \n",
       "PADELAI ETAPA I                                                                       1  \n",
       "PARQUE TRES DE FEBRERO - APERTURA GOLF MUNICIPAL                                      1  \n",
       "REUCN PARQUE URBANO Y RESERVA                                                         1  \n",
       "HABILITACION TUNEL LIBERTADOR                                                         1  \n",
       "PUERTO ARGENTINO COLON                                                                1  \n",
       "PUESTA EN VALOR DEL EX VELODROMO MUNICIPAL Y ENTORNO                                  1  \n",
       "PLAZAS PROVINCIALES 9 DE JULIO                                                        1  \n",
       "EDIFICIO EX-PADELAI ETAPA 2                                                           1  \n",
       "TRATAMIENTO CALLE LA PAMPA Y PLAZA RUSIA                                              1  \n",
       "TRATAMIENTO ENTORNO VELODROMO SOBRE ALCORTA                                           1  \n",
       "PLAZA CONGRESO                                                                        1  \n",
       "PLAZA SICILIA RECUPERACION Y PUESTA EN VALOR                                          1  \n",
       "ENTORNO ESTACION SALUDABLE SARMIENTO Y REGATAS                                        1  \n",
       "PLAZA HAITI RECUPERACION Y PUESTA EN VALOR                                            1  \n",
       "INTERVENCION CASONA OLIVERA Y PROYECTO AUSA                                           1  \n",
       "MODULOS BAÑOS LAGO REGATAS                                                            1  \n",
       "TRATAMIENTO ARCOS DORREGO Y ENTORNO                                                   1  \n",
       "PARQUE DE LOS NIÑOS SECTOR LADO PROVINCIA                                             1  \n",
       "NUEVO ACCESO JARDIN BOTANICO DE LA CIUDAD DE BUENOS AIRES CARLOS THAYS                1  \n",
       "PARQUE ESTACION BUENOS AIRES                                                          1  \n",
       "Name: ACTIVIDAD, dtype: int64"
      ]
     },
     "execution_count": 98,
     "metadata": {},
     "output_type": "execute_result"
    }
   ],
   "source": [
    "espacios_verdes['ACTIVIDAD'].value_counts()"
   ]
  },
  {
   "cell_type": "code",
   "execution_count": 99,
   "metadata": {},
   "outputs": [
    {
     "data": {
      "text/plain": [
       "MANTENIMIENTO DEL ARBOLADO URBANO POR ADMINISTRACION     180\n",
       "INTERVENCIONES SOBRE EL ARBOLADO                         118\n",
       "ADMINISTRACION Y SERVICIOS GENERALES                     108\n",
       "CONDUCCION                                               66 \n",
       "CUIDADO Y PRESERVACION DEL ARBOLADO URBANO               50 \n",
       "MANTENIMIENTO DEL ARBOLADO URBANO POR TERCEROS           35 \n",
       "MANTENIMIENTODEL ARBOLADO URBANO POR 3EROS               30 \n",
       "DISEÑO DE PROYECTOS, OPERATIVOS Y SEGUIMIENTOS           25 \n",
       "MANTENIMIENTO DEL ARBOLADO URBANO                        22 \n",
       "DISEÑO DE PROYECTOS OPERATIVOS Y SEGUIMIENTOS            14 \n",
       "DISEÑO DE PROYECTOS OPERATIVOS Y SEGUIMIENTO             14 \n",
       "SERVICIOS POR TERCEROS                                   10 \n",
       "ESTUDIOS, INVESTIGACIONES Y PROYECTOS DE FACTIBILIDAD    3  \n",
       "Name: ACTIVIDAD, dtype: int64"
      ]
     },
     "execution_count": 99,
     "metadata": {},
     "output_type": "execute_result"
    }
   ],
   "source": [
    "arbolado['ACTIVIDAD'].value_counts()"
   ]
  },
  {
   "cell_type": "code",
   "execution_count": 100,
   "metadata": {
    "scrolled": true
   },
   "outputs": [
    {
     "data": {
      "text/plain": [
       "ADMINISTRACION Y SERVICIOS GENERALES                                                          3335\n",
       "CONDUCCION                                                                                    3209\n",
       "OPERATIVOS DE CONTROL Y MANTENIMIENTO DE ESPACIOS VERDES                                      516 \n",
       "MANTENIMIENTO DE FUENTES, MONUMENTOS Y OBRAS DE ARTE                                          494 \n",
       "INTERVENCIONES VETERINARIAS                                                                   453 \n",
       "AUTORIDAD CUENCA MATANZA RIACHUELO                                                            416 \n",
       "JARDIN BOTANICO \"CARLOS THAYS\"                                                                355 \n",
       "PARQUE 3 DE FEBRERO                                                                           352 \n",
       "UNIDAD DE AUDITORIA INTERNA                                                                   321 \n",
       "DESINSECTACION - DESINFECCION - DESRATIZACION                                                 312 \n",
       "RESERVA ECOLOGICA COSTANERA SUR                                                               311 \n",
       "GUARDIANES DE PLAZA                                                                           261 \n",
       "OPERATIVOS EN LA VIA PUBLICA - INFRACCIONES                                                   219 \n",
       "SANIDAD ANIMAL                                                                                219 \n",
       "SANIDAD Y TENENCIA RESPONSABLE DE MASCOTAS                                                    218 \n",
       "SANIDAD ANIMAL                                                                                200 \n",
       "INSPECCIONES DE CUMPLIMIENTO AMBIENTAL                                                        197 \n",
       "MANTENIMIENTO DEL ARBOLADO URBANO POR ADMINISTRACION                                          180 \n",
       "CERTIFICADOS AMBIENTALES                                                                      170 \n",
       "INSPECCION DE INMUEBLES ABANDONADOS                                                           161 \n",
       "REPRESENTACION EN ACUMAR                                                                      143 \n",
       "RESERVA ECOLOGICA \"COSTANERA SUR\"                                                             132 \n",
       "CUIDADO Y PUESTA EN VALOR PATRIMONIO CULTURAL Y NATURAL DE LOS ESPACIOS VERDES                132 \n",
       "EVALUACION DEL IMPACTO AMBIENTAL                                                              130 \n",
       "PARQUE AVELLANEDA                                                                             121 \n",
       "EVALUACION DEL IMPACTO AMBIENTAL ACUMULADO                                                    103 \n",
       "REGISTROS AMBIENTALES                                                                         100 \n",
       "CONTRAVERIFICACION DE ACTAS                                                                   99  \n",
       "MANTENIMIENTO INTEGRAL Y LIMPIEZA DE FUENTES ORNAMENTALES                                     98  \n",
       "MANTENIMIENTO ESPACIOS VERDES LIC 248/2011                                                    91  \n",
       "DETERMINACIONES DE CALIDAD AMBIENTALES                                                        86  \n",
       "DETERMINACIONES DE CALIDAD AMBIENTAL                                                          84  \n",
       "LABORATORIO DE CALIDAD AMBIENTAL                                                              83  \n",
       "LIMPIEZA Y ASEO DE CARTELERIA INFORMAL                                                        74  \n",
       "DESARROLLO E IMPLEMENTACION DE PROCESOS                                                       74  \n",
       "ESTRATEGIAS DE FORMACION E INTERPRETACION                                                     67  \n",
       "COORDINACION OPERATIVA                                                                        66  \n",
       "BUENOS AIRES PRODUCE MAS LIMPIO                                                               64  \n",
       "ESTUDIOS Y PROYECTOS                                                                          59  \n",
       "ADMINSITRACION Y SERVICIOS GENERALES                                                          59  \n",
       "CONSUMO RESPONSABLE                                                                           57  \n",
       "PROGRAMA DE ADECUACION AMBIENTAL                                                              53  \n",
       "JARDIN BOTANICO CARLOS THAYS                                                                  52  \n",
       "TRABAJOS COMPLEMENTARIOS MANTENIMIENTO ESPACIOS VERDES                                        46  \n",
       "ARBOLES HISTORICOS                                                                            45  \n",
       "EDUCACION, FORMACION E INFORMACION AMBIENTAL                                                  44  \n",
       "UNIDAD DE COORDINACION OPERATIVA                                                              43  \n",
       "CONSERVACION DE LA BIODIVERSIDAD                                                              42  \n",
       "INFRACCIONES, RECLAMOS, DENUNCIAS - FALTAS COMUNALES                                          41  \n",
       "INTERVENCIONES SOBRE EL ARBOLADO PUBLICO                                                      40  \n",
       "SANIDAD Y PROTECCION ANIMAL                                                                   39  \n",
       "PARQUE INDOAMERICANO                                                                          38  \n",
       "FUMIGACION / DESRATIZACION / DESINFECCION                                                     38  \n",
       "CONTROL Y MANTENIMIENTO DE ESPACIOS VERDES                                                    37  \n",
       "SISTEMAS, INFRAESTRUCTURAS Y PROCESOS                                                         36  \n",
       "VERIFICACIONES AMBIENTALES                                                                    36  \n",
       "FORMACION AMBIENTAL                                                                           36  \n",
       "OBRAS EN PLAZAS Y PARQUES                                                                     36  \n",
       "MANTENIMIENTO DEL ARBOLADO URBANO POR TERCEROS                                                35  \n",
       "SERVICIOS ESPECIALES                                                                          35  \n",
       "VOLQUETES ESTACIONADOS EN LA VIA PUBLICA                                                      35  \n",
       "PRESERVACION Y PUESTA EN VALOR DE ESPEJOS DE AGUA                                             34  \n",
       "INSPECCION DE CUMPLIMIENTO AMBIENTAL                                                          34  \n",
       "CONSERVACION ESPACIOS VERDES                                                                  32  \n",
       "ANALISIS AMBIENTALES                                                                          32  \n",
       "COMUNICACION Y DIFUSION DE POLITICAS AMBIENTALES                                              31  \n",
       "DESINSECTACION-DESINFECCION-DESRATIZACION                                                     31  \n",
       "EDUCACION, FORMACION, E INFORMACION AMBIENTAL                                                 31  \n",
       "DETERMINACIONES DE CALIDAD AMBIENTAL                                                          31  \n",
       "OPERATIVOS EN LA VIA PUBLICA                                                                  31  \n",
       "MANTENIMIENTODEL ARBOLADO URBANO POR 3EROS                                                    30  \n",
       "MANTENIMIENTO DE MONUMENTOS                                                                   30  \n",
       "GESTION AMBIENTAL BORDE COSTERO                                                               30  \n",
       "PROVISION Y EJECUCION DE SOLADO DRENANTE                                                      30  \n",
       "NUEVOS ARBOLES DE LA CIUDAD DE BUENOS AIRES                                                   30  \n",
       "INVESTIGACION Y DESARROLLO                                                                    29  \n",
       "EFICIENCIA ENERGETICA                                                                         28  \n",
       "INSPECCION INMUEBLES ABANDONADOS                                                              28  \n",
       "CONDUCCION                                                                                    27  \n",
       "TECNOLOGIA, SISTEMAS Y ADMINISTRACION                                                         27  \n",
       "GESTION AMBIENTAL DE SITIOS CONTAMINADOS                                                      26  \n",
       "ATENCION VETERINARIA                                                                          25  \n",
       "CORREDORES VERDES                                                                             25  \n",
       "PLAN DE ACCION CAMBIO CLIMATICO                                                               25  \n",
       "DISEÑO DE PROYECTOS, OPERATIVOS Y SEGUIMIENTOS                                                25  \n",
       "DESINSECTACION, DESINFECCION Y DESRATIZACION                                                  24  \n",
       "RED DE MONITOREO DE AIRE Y RUIDO                                                              24  \n",
       "LICITACION PUBLICA MANTENIMIENTO INTEGRAL DE MUROS VERDES Y ZONAS ANEXAS                      24  \n",
       "ECONOMIA SUSTENTABLE Y CONSUMO RESPONSABLE                                                    24  \n",
       "PROGRAMA DE ADECUACION AMBIENTAL Y PROMOCION DE LA ECONOMIA VERDE                             23  \n",
       "PALACIO LEZAMA                                                                                23  \n",
       "INFRAESTRUCTURA Y MANTENIMIENTO                                                               23  \n",
       "ESTRATEGIAS DE PROMOCION E INNOVACION                                                         23  \n",
       "ESTRATEGIAS DE PROMOCION E INNOVACION                                                         23  \n",
       "FORMACION E INFORMACION AMBIENTAL                                                             23  \n",
       "MANTENIMIENTO DEL ARBOLADO URBANO                                                             22  \n",
       "INDEMNIZACIONES                                                                               22  \n",
       "ESTRATEGIAS DE BIODIVERSIDAD                                                                  21  \n",
       "PROGRAMAS INTEGRADOS DE GESTION AMBIENTAL                                                     21  \n",
       "GESTION DE RECLAMOS                                                                           20  \n",
       "ARBOLES HISTORICOS, NOTABLES Y SINGULARES DE LA CIUDAD                                        18  \n",
       "FUMIGACION DENGUE                                                                             17  \n",
       "HIGIENIZACION DE PREDIOS DE LA C.A.B.A.                                                       17  \n",
       "DESINSECTACION - DESINFECCION Y DESRATIZACION                                                 17  \n",
       "CONTROL FITOSANITARIO SOBRE EL ARBOLADO URBANO                                                16  \n",
       "INFRAESTRUCTURA Y MANTENIMIENTO                                                               16  \n",
       "BIODIVERSIDAD                                                                                 16  \n",
       "EVENTOS MASIVOS                                                                               15  \n",
       "ADECUACION DE PLANTERAS EN ZONA DE ALTO TRANSITO                                              15  \n",
       "ESTRATEGIAS DE FORMACION E INTERPRETACION                                                     15  \n",
       "MEDICAMENTOS PARA CASTRACION                                                                  15  \n",
       "DESARROLLO DE CORREDORES VERDES                                                               15  \n",
       "TRANSPORTE SUSTENTABLE                                                                        15  \n",
       "RETIRO DE PUBLICIDAD EN INFRACCION                                                            15  \n",
       "DISEÑO DE PROYECTOS OPERATIVOS Y SEGUIMIENTO                                                  14  \n",
       "DISEÑO DE PROYECTOS OPERATIVOS Y SEGUIMIENTOS                                                 14  \n",
       "RESTAURACION Y MITIGACION AMBIENTAL                                                           13  \n",
       "RECICLADORES URBANOS                                                                          12  \n",
       "ATENCION EN CENTROS VETERINARIOS                                                              12  \n",
       "PROGRAMAS INTEGRADOS DE GESTION AMBIENTAL                                                     12  \n",
       "GESTION INTEGRAL DE RESIDUOS PELIGROSOS.                                                      12  \n",
       "SERVICIO DE LIMPIEZA DE ARROYOS                                                               12  \n",
       "REFORESTACION DE AVENIDAS                                                                     11  \n",
       "ECONOMIA SUSTENTABLE                                                                          11  \n",
       "PRESERVACION Y NORMALIZACION DE FUENTES HIDROELECTRICAS                                       10  \n",
       "GESTION AMBIENTAL                                                                             10  \n",
       "MITIGACION DE SITIOS CONTAMINADOS                                                             10  \n",
       "SERVICIOS POR TERCEROS                                                                        10  \n",
       "CONTENEDORES PARA CENTROS VERDES                                                              10  \n",
       "ESTUDIOS, INVESTIGACIONES Y PROYECTOS DE FACTIBILIDAD                                         10  \n",
       "MONITOREO Y CONTROL DEL ARBOLADO                                                              10  \n",
       "REPOSICION DEL ARBOLADO LINEAL                                                                9   \n",
       "CERTIFICADOS Y REGISTROS AMBIENTALES                                                          9   \n",
       "CAMBIO CLIMATICO E INFORMACION AMBIENTAL                                                      9   \n",
       "RED INTEGRADA DE MONITOREO AMBIENTAL                                                          9   \n",
       "CUIDADO Y PUESTA EN VALOR PARIMONIO CULTURAL Y NATURAL DE LOS ESPACIOS VERDES                 9   \n",
       "ACCIONES AMBIENTALES                                                                          8   \n",
       "ESTRATEGIAS AMBIENTALES                                                                       8   \n",
       "INCLUSION E INNOVACION DE PATIOS DE JUEGOS                                                    8   \n",
       "INSTALACION DE ESTACIONES AEROBICAS Y DE LA TERCERA EDAD                                      8   \n",
       "CLASIFICACION Y COMERCIALIZACION DE LOS R.S.U                                                 8   \n",
       "RECOLECCION Y LIMPIEZA DEL RIO DE LA PLATA                                                    7   \n",
       "RED INTEGRADA DE MONITOREO AMBIENTAL                                                          7   \n",
       "TRASLADO DEL MATERIAL RECOLECTADO                                                             7   \n",
       "GENERACION ESPACIOS VERDES                                                                    7   \n",
       "SISTEMAS Y PROCESOS                                                                           7   \n",
       "RECOLECIION Y LIMPIEZA DEL RIACHUELO                                                          6   \n",
       "COMPENSACION AMBIENTAL                                                                        6   \n",
       "CAMBIO CLIMATICO Y ENERGIA                                                                    6   \n",
       "SEPARACION EN ORIGEN DE LOS R.S.U. (VECINOS Y GRANDES GENERADORES)                            5   \n",
       "CENTRO DE INFORMACION Y FORMACION AMBIENTAL                                                   5   \n",
       "PRODUCCION Y CONSUMO SUSTENTABLES                                                             5   \n",
       "RED DE MONITOREO DE AIRE, RUIDO Y AGUA.                                                       5   \n",
       "GESTION INTEGRAL DE RESIDUOS PELIGROSOS                                                       5   \n",
       "ANALISIS AMBINETALES                                                                          5   \n",
       "REMEDIACION AMBIENTAL CABA                                                                    4   \n",
       "TRATAMIENTO PET                                                                               4   \n",
       "ACCIONES AMBIENTALES CABA                                                                     4   \n",
       "ECONOMIO SUSTENTABLE                                                                          4   \n",
       "REMEDIACION Y MITIGACION                                                                      4   \n",
       "ORGANICOS CENTRALIZADOS ( COMPOSTAJES)                                                        4   \n",
       "JUEGOS DE VANGUARDIA                                                                          4   \n",
       "RESTAURACION Y MITIGACION GCBA                                                                4   \n",
       "SISTEMAS , INFRAESTRUCTURAS Y PROCESOS                                                        4   \n",
       "MONUMENTOS Y OBRAS DE ARTE - PRESERVACION Y RESTAURACION                                      4   \n",
       "RECOLECCION Y TRATAMIENTO DE RAEES                                                            3   \n",
       "PRESERVACION Y PUESTA EN VALOR RESERVA ECOLOGICA                                              3   \n",
       "PUESTA EN VALOR CIFA                                                                          3   \n",
       "PRESERVACION Y PUESTA EN VALOR DEL JARDIN BOTANICO \"CARLOS THAYS\"                             3   \n",
       "ESTUDIO DE CAMBIO CLIMATICO                                                                   3   \n",
       "MANTENIMIENTO DE CENTROS VERDES                                                               3   \n",
       "MANTENIMIENTO DE LA RESERVA ECOLOGICA COSTANERA SUR                                           3   \n",
       "DESARROLLO DE LA RED DE AIRE Y RUIDO                                                          3   \n",
       "JUEGOS DE AGUA LOCALIZACIONES VARIAS                                                          3   \n",
       "MANTENIMIENTO DE ESPACIOS VERDES LICITACION 248/2011                                          3   \n",
       "2Â° ETAPA PM CHACARITA PLAZA NEWBERY Y TRASL. OSARIO                                          2   \n",
       "LIMPIEZA, ASEO Y FUMIGACION                                                                   2   \n",
       "PARQUE ALBERDI                                                                                2   \n",
       "CEMENTERIO RECOLETA CINERARIO Y MURO VERDE                                                    2   \n",
       "CUBIERTAS VERDES EN LA CABA                                                                   2   \n",
       "PRESERVACION Y PUESTA EN VALOR PARQUE AVELLANEDA                                              2   \n",
       "OBRAS EN RECINTOS                                                                             2   \n",
       "MANTENIMIENTO Y REPARACION DE EDIFICIOS Y LOCALES                                             2   \n",
       "REMODELACION EDIFICIOS - \"GARAY\" \"VARELA\"                                                     2   \n",
       "SOFTWARE Y DESARROLLO                                                                         2   \n",
       "CONCIENTIZACION Y CAPACITACION DEL VECINO                                                     2   \n",
       "PARQUE CHACABUCO                                                                              2   \n",
       "ALQUILER DE EDIFICIOS Y LOCALES                                                               2   \n",
       "ACUMAR                                                                                        2   \n",
       "PARQUE ISLA DE LA PATERNAL                                                                    2   \n",
       "EDIFICIOS DGEV - CONSTRUCCION Y REFUNCIONALIZACION                                            2   \n",
       "DESARROLLO E IMPLEMENTACIONES DE PROCESOS                                                     2   \n",
       "EX ESMA                                                                                       2   \n",
       "RED DE MONITOREO DE LA CALIDAD DEL AGUA EN LA CABA                                            2   \n",
       "RECOLECCION Y LIMPIEZA DEL RIACHUELO                                                          2   \n",
       "MANTENIMIENTO RIEGO PARQUE INDOAMERICANO                                                      2   \n",
       "PARQUE LAS HERAS                                                                              2   \n",
       "RED DE MONITOREO AMBIENTAL                                                                    1   \n",
       "CAMINOS INTERNOS JARDIN BOTANICO                                                              1   \n",
       "ECOPARQUE ZONA -1B LAS HERAS                                                                  1   \n",
       "PLAZA CONGRESO                                                                                1   \n",
       "COORDINACION DEL PLAN DE ACCION DEL CAMBIO CLIMATICO DE LA CABA                               1   \n",
       "HABILITACION TUNEL LIBERTADOR                                                                 1   \n",
       "PARQUE DEL BICENTENARIO - ETAPA I.                                                            1   \n",
       "REMEDIACION Y MITIGACION AMBIENTAL                                                            1   \n",
       "PUESTA EN VALOR DEL EX VELODROMO MUNICIPAL Y ENTORNO                                          1   \n",
       "AMPLIACION CIFA PARA SU TRANSFORMACION EN CENTRO METROPOLITANO VERDE                          1   \n",
       "SERVICIO DE RECOLECCION DE RESIDUOS PELIGROSOS                                                1   \n",
       "RES. ECOLOGICA - EXTENSION SISTEMA DE INCENDIO                                                1   \n",
       "2Â° ETAPA PM CHACARITA PLAZAS SOBRE GUZMAN                                                    1   \n",
       "ALQUILER GRUAS + ALQUILER PLANTA ASFALTO                                                      1   \n",
       "INSTALACION SISTEMA MONITOREO MAPEO CONTAMINACION ACUSTICA EN EL AMBITO CABA                  1   \n",
       "PARQUE ESTACION BUENOS AIRES                                                                  1   \n",
       "DEPOSITO PARA LA RECEPCION ADECUACION Y COMERCIALIZACION DE LOS BHDS                          1   \n",
       "2Â° ETAPA PLAYAS DE BOLSILLOS Y NODO 2 PLAYA                                                  1   \n",
       "TERMINACION SECTOR ESPIGON PLUS ULTRA Y ENTORNO                                               1   \n",
       "ALQUILER OFICINAS                                                                             1   \n",
       "SEÑALIZACION EN LA VIA PUBLICA                                                                1   \n",
       "MODULOS BAÑOS LAGO REGATAS                                                                    1   \n",
       "INTERVENCION CASONA OLIVERA Y PROYECTO AUSA                                                   1   \n",
       "PLAZA GOULD PUESTA EN VALOR INTEGRAL                                                          1   \n",
       "TRATAMIENTO BAJO PUENTES ALCORTA                                                              1   \n",
       "CONTRUCCION Y PUESTA EN FUNCIONAMIENTO DE CENTROS VERDES                                      1   \n",
       "PUESTA EN VALOR EDIFICIO AMEGHINO Y VIVERO DE TRANSITO Y CRIANZA                              1   \n",
       "PADELAI ETAPA I                                                                               1   \n",
       "TRASLADO MONUMENTO A COLON                                                                    1   \n",
       "PLANTA CHIPEADORA PARA TRATAMIENTO DE PODA                                                    1   \n",
       "PLAZA PUEYRREDON                                                                              1   \n",
       "PLAZA GOULD - PUESTA EN VALOR                                                                 1   \n",
       "REUCN PARQUE URBANO Y RESERVA                                                                 1   \n",
       "PUESTA EN VALOR PLAZA EGIPTO                                                                  1   \n",
       "REFACCION EDIFICIO PICO Y SAN ISIDRO                                                          1   \n",
       "PARQUE TRES FEBRERO                                                                           1   \n",
       "NUEVO ACCESO JARDIN BOTANICO DE LA CIUDAD DE BUENOS AIRES CARLOS THAYS                        1   \n",
       "RES. ECOLOGICA - PUESTA EN VALOR AREA RECREATIVA NUEVA RESERVA                                1   \n",
       "RESERVA ECOLOGICA COSTANERA NORTE ETAPA INICIAL PARA HABILITACION AL USO PUBLICO              1   \n",
       "PLAN MAESTRO CEMENTERIO FLORES                                                                1   \n",
       "JARDIN BOTANICO - ACCESO Y TRATAMIENTO DE SENDEROS - 2Â° ETAPA                                1   \n",
       "NUEVO CIRCUITO AEROBICO AGRONOMIA                                                             1   \n",
       "PUESTA EN VALOR DEPOSITOS RAES                                                                1   \n",
       "PLAZAS PROVINCIALES 9 DE JULIO                                                                1   \n",
       "PLANTA DE MRF CHILAVERT - REMODELACION Y PUESTA EN VALOR                                      1   \n",
       "ENTORNO ESTACION SALUDABLE SARMIENTO Y REGATAS                                                1   \n",
       "PLAZA HAITI RECUPERACION Y PUESTA EN VALOR                                                    1   \n",
       "CENTRO DEMOSTRATIVO DE ACEITES                                                                1   \n",
       "NUEVOS ESPACIOS VERDES EN LATERALES VIAS DEL TREN VILLA DEL PARQUE                            1   \n",
       "EVALUACION SUELOS CONTAMINADOS PREDIOS DE IVC                                                 1   \n",
       "EDIFICIO AMEGHINO Y VIVERO DE TRANSITO Y CRIANZA                                              1   \n",
       "PARQUE TRES DE FEBRERO - APERTURA GOLF MUNICIPAL                                              1   \n",
       "LICENCIAS                                                                                     1   \n",
       "RECUPERACION Y PUESTA EN VALOR DEL TUNEL PEATONAL DE AV LIBERTADOR 3200 (ESQ AV. SARMIENTO    1   \n",
       "RESERVA ECOLOGICA LAGO LUGANO                                                                 1   \n",
       "EVALUACION SUELOS CONTAMINADOS PREDIOS DE IVC -                                               1   \n",
       "PUESTA EN VALOR EDIFICIO APRA SEDE MORENO SEDE OCAMPO                                         1   \n",
       "PRESERVACION Y PUESTA EN VALOR PARQUE INDOAMERICANO                                           1   \n",
       "TRATAMIENTO ENTORNO VELODROMO SOBRE ALCORTA                                                   1   \n",
       "SANEAMIENTO Y REMEDIACION - PREDIO ACHA Y MENDOZA                                             1   \n",
       "UBICACION Y FIJACION DE CONTENEDORES                                                          1   \n",
       "PLAN MAESTRO RESERVA ECOLOGICA COSTANERA SUR                                                  1   \n",
       "PARQUE LEZAMA                                                                                 1   \n",
       "PLAZA DE MAYO                                                                                 1   \n",
       "PARQUE DE LOS NIÑOS SECTOR LADO PROVINCIA                                                     1   \n",
       "RES. ECOLOGICA - CONSTRUCCION DE CENTRO EDUCATIVO NUEVA RESERVA /TALLER DE RECICLADO          1   \n",
       "CIRCUITO AEROBICO ENTORNO GOLF                                                                1   \n",
       "PLAZA SICILIA RECUPERACION Y PUESTA EN VALOR                                                  1   \n",
       "PUESTA EN VALOR DE FUENTES Y OBRA DE ARTE                                                     1   \n",
       "DISPOSICION FINAL DE LOS RESIDUOS SOLIDOS URBANOS                                             1   \n",
       "INSTALACION Y DESARROLLO DE REDES MONITOREO CALIDAD AGUA AIRE Y RUIDO                         1   \n",
       "DESARROLLO DE RESIDUOS PELIGROSOS PATOGENICOS Y DESECHABLES                                   1   \n",
       "CUBIERTA VEDE CABA                                                                            1   \n",
       "CONSTRUCCION DE COMPOSTERAS                                                                   1   \n",
       "CENTRO DE PROMOCION DEL RECICLADO SISTEMA PASARELAS                                           1   \n",
       "PUERTO ARGENTINO COLON                                                                        1   \n",
       "EDIFICIO EX-PADELAI ETAPA 2                                                                   1   \n",
       "GESTION AMBIENTAL DE SITIOS CONTAMINADOS.                                                     1   \n",
       "PUERTO MADERO                                                                                 1   \n",
       "CENTROS VERDES                                                                                1   \n",
       "LA BOYERA RECUP. Y PUESTA EN VALOR                                                            1   \n",
       "2Â° ETAPA SENDEROS JARDIN BOTANICO, INGRESO PLAZA ITALIA                                      1   \n",
       "DETERMINACION DE CONTAMINANTES EN AIRE, AGUA Y SUELO                                          1   \n",
       "PARQUE DE VOLEY PLAYA- VELODROMO                                                              1   \n",
       "TRATAMIENTO CALLE LA PAMPA Y PLAZA RUSIA                                                      1   \n",
       "JARDIN BOTANICO - JARDIN DE LOS SENTIDOS                                                      1   \n",
       "CUIDADO Y PUESTA EN VALOR ESPACIOS VERDES - MONUMENTO CAIDOS EN MALVINAS                      1   \n",
       "HOGAR TRANSITORIO DE MASCOTAS                                                                 1   \n",
       "TRATAMIENTO ARCOS DORREGO Y ENTORNO                                                           1   \n",
       "MICROCENTRO VERDE                                                                             1   \n",
       "Name: OBRA, dtype: int64"
      ]
     },
     "execution_count": 100,
     "metadata": {},
     "output_type": "execute_result"
    }
   ],
   "source": [
    "ecologia['OBRA'].value_counts()"
   ]
  },
  {
   "cell_type": "code",
   "execution_count": 101,
   "metadata": {},
   "outputs": [
    {
     "data": {
      "text/plain": [
       "BIENES DE CONSUMO          5540\n",
       "SERVICIOS NO PERSONALES    4647\n",
       "GASTOS EN PERSONAL         3813\n",
       "BIENES DE USO              2271\n",
       "TRANSFERENCIAS             152 \n",
       "ACTIVOS FINANCIEROS        34  \n",
       "Name: INCISO, dtype: int64"
      ]
     },
     "execution_count": 101,
     "metadata": {},
     "output_type": "execute_result"
    }
   ],
   "source": [
    "ecologia['INCISO'].value_counts()"
   ]
  },
  {
   "cell_type": "code",
   "execution_count": 102,
   "metadata": {},
   "outputs": [
    {
     "data": {
      "text/plain": [
       "OTROS NO ESPECIFICADOS PRECEDENTEMENTE                                    1851\n",
       "SUELDO ANUAL COMPLEMENTARIO                                               782 \n",
       "CONTRIBUCIONES PATRONALES                                                 781 \n",
       "RETRIBUCION DEL CARGO                                                     672 \n",
       "COMPLEMENTOS                                                              555 \n",
       "SEGUROS DE RIESGO DE TRABAJO                                              495 \n",
       "CONSTRUCCIONES EN BIENES DE DOMINIO PUBLICO                               390 \n",
       "UTILES DE ESCRITORIO, OFICINA Y ENSEÑANZA                                 364 \n",
       "PRENDAS DE VESTIR                                                         355 \n",
       "PERSONAL PERMANENTE                                                       320 \n",
       "MANTENIMIENTO Y REPARACION DE MAQUINARIA Y EQUIPO                         315 \n",
       "IMPRENTA, PUBLICACIONES Y REPRODUCCIONES                                  308 \n",
       "PAPEL Y CARTON PARA OFICINA                                               280 \n",
       "EQUIPOS VARIOS                                                            275 \n",
       "SERVICIOS ESPECIALIZADOS                                                  273 \n",
       "MOVILIDAD                                                                 271 \n",
       "EQUIPO DE OFICINA Y MOBLAJE                                               264 \n",
       "PRODUCTOS DE MATERIAL PLASTICO                                            260 \n",
       "REPUESTOS Y ACCESORIOS                                                    260 \n",
       "ALIMENTOS PARA PERSONAS                                                   247 \n",
       "EQUIPO PARA COMPUTACION                                                   247 \n",
       "HERRAMIENTAS Y REPUESTOS MAYORES                                          227 \n",
       "MANUFACTURA DE PULPA, PAPEL Y CARTION                                     215 \n",
       "PRODUCTOS DE ARTES GRAFICAS                                               210 \n",
       "UTILES Y MATERIALES ELECTRICOS                                            207 \n",
       "PRODUCTOS FARMACEUTICOS Y MEDICINALES                                     205 \n",
       "MANTENIMIENTO Y REPARACION DE EDIFICIOS Y LOCALES                         193 \n",
       "UTILES MENORES MEDICOS, QUIRURGICOS Y DE LABORATORIO                      193 \n",
       "LIMPIEZA, ASEO Y FUMIGACION                                               171 \n",
       "HIGIENE URBANA                                                            169 \n",
       "TINTAS, PINTURAS Y COLORANTES                                             169 \n",
       "HERRAMIENTAS MENORES                                                      165 \n",
       "ALQUILER DE MAQUINARIA, EQUIPO Y MEDIOS DE TRANSPORTE                     162 \n",
       "INSECTICIDAS, FUMIGANTES Y OTROS                                          161 \n",
       "EQUIPO SANITARIO Y DE LABORATORIO                                         160 \n",
       "ALQUILER DE FOTOCOPIADORAS                                                155 \n",
       "TRANSPORTE Y ALMACENAMIENTO                                               142 \n",
       "EQUIPO DE TRANSPORTE, TRACCION Y ELEVACION                                141 \n",
       "PAPEL Y CARTON PARA COMPUTACION                                           141 \n",
       "ELEMENTOS DE LIMPIEZA                                                     128 \n",
       "RETRIBUCION DEL SERVICIO                                                  125 \n",
       "EQUIPO EDUCACIONAL, CULTURAL Y RECREATIVO                                 111 \n",
       "EQUIPO DE COMUNICACION Y SEÑALAMIENTO                                     110 \n",
       "PRODUCTOS FERROSOS                                                        108 \n",
       "UTENSILIOS DE COCINA Y COMEDOR                                            100 \n",
       "CONFECCIONES TEXTILES                                                     100 \n",
       "CEMENTO, CAL Y YESO                                                       100 \n",
       "PRODUCTOS AGROFORESTALES                                                  99  \n",
       "SERVICIOS DE CONSULTORIA                                                  97  \n",
       "ALQUILER DE EDIFICIOS Y LOCALES                                           96  \n",
       "VIATICOS                                                                  94  \n",
       "PASAJES                                                                   92  \n",
       "COMPUESTOS QUIMICOS                                                       86  \n",
       "SERVICIOS DE COMIDAS, VIANDAS Y REFRIGERIOS                               84  \n",
       "TELEFONOS, TELEX Y TELEFAX                                                83  \n",
       "PROGRAMAS DE COMPUTACION                                                  79  \n",
       "ESTRUCTURAS METALICAS ACABADAS                                            79  \n",
       "MANTENIMIENTO Y REPARACION DE VEHICULOS                                   75  \n",
       "MAQUINARIA Y EQUIPO DE PRODUCCION                                         75  \n",
       "MADERA, CORCHO Y SUS MANUFACTURAS                                         71  \n",
       "PRODUCTOS NO FERROSOS                                                     71  \n",
       "CONVENIOS DE ASISTENCIATECNICA                                            71  \n",
       "PIEDRA, ARCILLA Y ARENA                                                   69  \n",
       "PRODUCTOS ELABORADOS DE CEMENTO Y YESO                                    67  \n",
       "PRODUCTOS DE VIDRIO                                                       62  \n",
       "LIBROS, REVISTAS Y OTROS ELEMENTOS DE COLECCION                           62  \n",
       "COMBUSTIBLES Y LUBRICANTES                                                58  \n",
       "AGUA                                                                      56  \n",
       "ENERGIA ELECTRICA                                                         54  \n",
       "GAS                                                                       52  \n",
       "SISTEMAS INFORMATICOS Y DE REGISTRO                                       49  \n",
       "ABONOS Y FERTILIZANTES                                                    48  \n",
       "HILADOS Y TELAS                                                           47  \n",
       "OTROS BIENES DE USO NO ESPECIFICADOS PRECEDENTEMENTE                      45  \n",
       "EQUIPO DE SEGURIDAD                                                       42  \n",
       "PERSONAL TEMPORARIO                                                       42  \n",
       "ALIMENTOS PARA ANIMALES                                                   41  \n",
       "SERVICIOS DE CEREMONIAL                                                   41  \n",
       "PRIMAS Y GASTOS DE SEGUROS                                                39  \n",
       "ADELANTOS A PROVEEDORES Y CONTRATISTAS A CORTO PLAZO                      34  \n",
       "PREMIOS Y RECONOCIMIENTOS                                                 34  \n",
       "LIBROS, REVISTAS Y PERIODICOS                                             33  \n",
       "ARTICULOS DE CAUCHO                                                       32  \n",
       "CONSTRUCCIONES EN BIENES DE DOMINIO PRIVADO                               32  \n",
       "ESTUDIOS, INVESTIGACIONES Y PROYECTOS DE FACTIBILIDAD                     31  \n",
       "CUBIERTAS Y CAMARAS DE AIRE                                               31  \n",
       "MANTENIMIENTO DE ESPACIOS VERDES                                          28  \n",
       "DE CAPACITACION                                                           27  \n",
       "TRANSFERENCIAS PARA ACTIVIDADES CIENTIFICAS O ACADEMICAS                  27  \n",
       "PUBLICIDAD Y PROPAGANDA                                                   24  \n",
       "PRODUCTOS DE LOZA Y PORCELANA                                             23  \n",
       "TRANSFERENCIAS A UNIVERSIDADES PARA FINANCIAR GASTOS CORRIENTES           21  \n",
       "DERECHOS Y TASAS                                                          21  \n",
       "CONTRATOS POR TIEMPO DETERMINADO                                          17  \n",
       "TRANSFERENCIAS A OTRAS INSTITUCIONES SIN FINES DE LUCRO                   17  \n",
       "SUBSIDIOS, TRANSFERENCIAS Y APOYOS                                        17  \n",
       "TRANSFERENCIAS A PERSONAS                                                 17  \n",
       "TEXTOS DE ENSEÑANZA                                                       16  \n",
       "MANUFACTURA DE PULPA, PAPEL Y CARTON                                      15  \n",
       "SERVICIO DE VIGILANCIA                                                    15  \n",
       "RETIRO VOLUNTARIO                                                         14  \n",
       "SERV.DE ACCESO A INTERNET Y STREAMING                                     14  \n",
       "TRANSFERENCIAS A EMPRESAS PRIVADAS                                        13  \n",
       "TRANSFERENCIAS A INSTITUCIONES DE ENSEÑANZA                               12  \n",
       "ALQUILER DE EQUIPOS DE COMPUTACION                                        12  \n",
       "MANTENIMIENTO Y REPARACION DE VIAS DE COMUNICACION                        12  \n",
       "BENEFICIOS Y COMPENSACIONES SIN DISCRIMINAR                               9   \n",
       "DE INFORMATICA Y SISTEMAS COMPUTARIZADOS                                  8   \n",
       "TRANSF.A INSTITUCIONES PCAS FINANCIERAS PARA FINANCIAR GTOS CORRIENTES    8   \n",
       "OBRAS DE MEJORA Y AMPLIACION                                              8   \n",
       "TRANSFERENCIAS A EMPRESAS PUBLICAS NO FINANCIERAS MUNICIPALES             7   \n",
       "COMISIONES Y GASTOS BANCARIOS                                             7   \n",
       "ÃŠTILES DE ESCRITORIO, OFICINA Y ENSEÑANZA                                6   \n",
       "CORREOS Y TELEGRAFO                                                       6   \n",
       "TRANSFERENCIAS A ENTES TRIPARTITOS                                        6   \n",
       "JUICIOS, MEDIACIONES Y OTROS GASTOS JUDICIALES                            5   \n",
       "ARTICULOS DE CUERO                                                        5   \n",
       "INTERNET BANDA ANCHA                                                      4   \n",
       "ÃŠTILES Y MATERIALES ELECTRICOS                                           4   \n",
       "PRODUCTOS DE ARCILLA Y CERAMICA                                           3   \n",
       "A OTRAS INSTITUCIONES PUBLICAS NACIONALES                                 3   \n",
       "IMPUESTOS DIRECTOS                                                        2   \n",
       "IMPUESTOS INDIRECTOS                                                      2   \n",
       "TRANSFERENCIAS A COOPERATIVAS                                             2   \n",
       "A INSTITUCIONES DESCENTRALIZADAS NACIONALES                               2   \n",
       "OTROS ACTIVOS INTANGIBLES                                                 1   \n",
       "TIERRAS Y TERRENOS PARA EL DOMINIO PRIVADO DE LA CABA                     1   \n",
       "PETROLEO CRUDO Y GAS NATURAL                                              1   \n",
       "CONTABILIDAD Y AUDITORIA                                                  1   \n",
       "ARRENDAMIENTO DE TIERRAS Y TERRENOS                                       1   \n",
       "MINERALES METALIFEROS                                                     1   \n",
       "ÃŠTILES MENORES MEDICOS, QUIRURGICOS Y DE LABORATORIO                     1   \n",
       "JURIDICOS                                                                 1   \n",
       "MEDICOS Y SANITARIOS                                                      1   \n",
       "RELLENO SANITARIO                                                         1   \n",
       "ESPECIES TIMBRADAS Y VALORES                                              1   \n",
       "HORAS RECURRENTES                                                         1   \n",
       "Name: PARCIAL, dtype: int64"
      ]
     },
     "execution_count": 102,
     "metadata": {},
     "output_type": "execute_result"
    }
   ],
   "source": [
    "ecologia['PARCIAL'].value_counts()"
   ]
  },
  {
   "cell_type": "code",
   "execution_count": 165,
   "metadata": {
    "scrolled": true
   },
   "outputs": [
    {
     "data": {
      "application/vnd.plotly.v1+json": {
       "config": {
        "plotlyServerURL": "https://plot.ly"
       },
       "data": [
        {
         "branchvalues": "total",
         "customdata": [
          [
           "MINISTERIO DE AMBIENTE Y ESPACIO PUBLICO",
           "MINISTERIO DE AMBIENTE Y ESPACIO PUBLICO",
           "DIRECCION GENERAL DE ARBOLADO",
           "ARBOLADO URBANO",
           "ARBOLADO URBANO"
          ],
          [
           "MINISTERIO DE AMBIENTE Y ESPACIO PUBLICO",
           "MINISTERIO DE AMBIENTE Y ESPACIO PUBLICO",
           "DIRECCION GENERAL DE ARBOLADO",
           "ARBOLADO URBANO",
           "CUIDADO Y PRESERVACION DEL ARBOLADO URBANO"
          ],
          [
           "MINISTERIO DE AMBIENTE Y ESPACIO PUBLICO",
           "MINISTERIO DE AMBIENTE Y ESPACIO PUBLICO",
           "DIRECCION GENERAL DE ARBOLADO",
           "ARBOLADO URBANO",
           "INTERVENCIONES SOBRE EL ARBOLADO"
          ],
          [
           "MINISTERIO DE AMBIENTE Y ESPACIO PUBLICO",
           "MINISTERIO DE AMBIENTE Y ESPACIO PUBLICO",
           "DIRECCION GENERAL DE ARBOLADO",
           "ARBOLADO URBANO",
           "(?)"
          ],
          [
           "MINISTERIO DE AMBIENTE Y ESPACIO PUBLICO",
           "MINISTERIO DE AMBIENTE Y ESPACIO PUBLICO",
           "DIRECCION GENERAL DE ARBOLADO",
           "ARBOLADO URBANO",
           "(?)"
          ],
          [
           "MINISTERIO DE AMBIENTE Y ESPACIO PUBLICO",
           "MINISTERIO DE AMBIENTE Y ESPACIO PUBLICO",
           "DIRECCION GENERAL DE ARBOLADO",
           "ARBOLADO URBANO",
           "(?)"
          ],
          [
           "MINISTERIO DE AMBIENTE Y ESPACIO PUBLICO",
           "MINISTERIO DE AMBIENTE Y ESPACIO PUBLICO",
           "DIRECCION GENERAL DE ARBOLADO",
           "ARBOLADO URBANO",
           "(?)"
          ]
         ],
         "domain": {
          "x": [
           0,
           1
          ],
          "y": [
           0,
           1
          ]
         },
         "hovertemplate": "<b>%{label}</b> <br>$%{value:,.0f}</b> \n                <br>\n                    <br>JURISDICCION: %{customdata[0]}</b>\n                    <br>UNIDAD_EJECUTORA: %{customdata[2]}</b> \n                    <br>\n                        <br>PROGRAMA: %{customdata[3]}</b> \n                        <br>PROYECTO: %{customdata[4]}</b>\n                    </b>\n                </b> ",
         "ids": [
          "MINISTERIO DE AMBIENTE Y ESPACIO PUBLICO/MINISTERIO DE AMBIENTE Y ESPACIO PUBLICO/DIRECCION GENERAL DE ARBOLADO/ARBOLADO URBANO/ARBOLADO URBANO",
          "MINISTERIO DE AMBIENTE Y ESPACIO PUBLICO/MINISTERIO DE AMBIENTE Y ESPACIO PUBLICO/DIRECCION GENERAL DE ARBOLADO/ARBOLADO URBANO/CUIDADO Y PRESERVACION DEL ARBOLADO URBANO",
          "MINISTERIO DE AMBIENTE Y ESPACIO PUBLICO/MINISTERIO DE AMBIENTE Y ESPACIO PUBLICO/DIRECCION GENERAL DE ARBOLADO/ARBOLADO URBANO/INTERVENCIONES SOBRE EL ARBOLADO",
          "MINISTERIO DE AMBIENTE Y ESPACIO PUBLICO/MINISTERIO DE AMBIENTE Y ESPACIO PUBLICO/DIRECCION GENERAL DE ARBOLADO/ARBOLADO URBANO",
          "MINISTERIO DE AMBIENTE Y ESPACIO PUBLICO/MINISTERIO DE AMBIENTE Y ESPACIO PUBLICO/DIRECCION GENERAL DE ARBOLADO",
          "MINISTERIO DE AMBIENTE Y ESPACIO PUBLICO/MINISTERIO DE AMBIENTE Y ESPACIO PUBLICO",
          "MINISTERIO DE AMBIENTE Y ESPACIO PUBLICO"
         ],
         "insidetextorientation": "auto",
         "labels": [
          "ARBOLADO URBANO",
          "CUIDADO Y PRESERVACION DEL ARBOLADO URBANO",
          "INTERVENCIONES SOBRE EL ARBOLADO",
          "ARBOLADO URBANO",
          "DIRECCION GENERAL DE ARBOLADO",
          "MINISTERIO DE AMBIENTE Y ESPACIO PUBLICO",
          "MINISTERIO DE AMBIENTE Y ESPACIO PUBLICO"
         ],
         "maxdepth": 10,
         "name": "",
         "parents": [
          "MINISTERIO DE AMBIENTE Y ESPACIO PUBLICO/MINISTERIO DE AMBIENTE Y ESPACIO PUBLICO/DIRECCION GENERAL DE ARBOLADO/ARBOLADO URBANO",
          "MINISTERIO DE AMBIENTE Y ESPACIO PUBLICO/MINISTERIO DE AMBIENTE Y ESPACIO PUBLICO/DIRECCION GENERAL DE ARBOLADO/ARBOLADO URBANO",
          "MINISTERIO DE AMBIENTE Y ESPACIO PUBLICO/MINISTERIO DE AMBIENTE Y ESPACIO PUBLICO/DIRECCION GENERAL DE ARBOLADO/ARBOLADO URBANO",
          "MINISTERIO DE AMBIENTE Y ESPACIO PUBLICO/MINISTERIO DE AMBIENTE Y ESPACIO PUBLICO/DIRECCION GENERAL DE ARBOLADO",
          "MINISTERIO DE AMBIENTE Y ESPACIO PUBLICO/MINISTERIO DE AMBIENTE Y ESPACIO PUBLICO",
          "MINISTERIO DE AMBIENTE Y ESPACIO PUBLICO",
          ""
         ],
         "textinfo": "percent entry",
         "type": "sunburst",
         "values": [
          74869104,
          7303552,
          140214401,
          222387057,
          222387057,
          222387057,
          222387057
         ]
        }
       ],
       "layout": {
        "legend": {
         "tracegroupgap": 0
        },
        "margin": {
         "t": 60
        },
        "template": {
         "data": {
          "bar": [
           {
            "error_x": {
             "color": "#2a3f5f"
            },
            "error_y": {
             "color": "#2a3f5f"
            },
            "marker": {
             "line": {
              "color": "#E5ECF6",
              "width": 0.5
             }
            },
            "type": "bar"
           }
          ],
          "barpolar": [
           {
            "marker": {
             "line": {
              "color": "#E5ECF6",
              "width": 0.5
             }
            },
            "type": "barpolar"
           }
          ],
          "carpet": [
           {
            "aaxis": {
             "endlinecolor": "#2a3f5f",
             "gridcolor": "white",
             "linecolor": "white",
             "minorgridcolor": "white",
             "startlinecolor": "#2a3f5f"
            },
            "baxis": {
             "endlinecolor": "#2a3f5f",
             "gridcolor": "white",
             "linecolor": "white",
             "minorgridcolor": "white",
             "startlinecolor": "#2a3f5f"
            },
            "type": "carpet"
           }
          ],
          "choropleth": [
           {
            "colorbar": {
             "outlinewidth": 0,
             "ticks": ""
            },
            "type": "choropleth"
           }
          ],
          "contour": [
           {
            "colorbar": {
             "outlinewidth": 0,
             "ticks": ""
            },
            "colorscale": [
             [
              0,
              "#0d0887"
             ],
             [
              0.1111111111111111,
              "#46039f"
             ],
             [
              0.2222222222222222,
              "#7201a8"
             ],
             [
              0.3333333333333333,
              "#9c179e"
             ],
             [
              0.4444444444444444,
              "#bd3786"
             ],
             [
              0.5555555555555556,
              "#d8576b"
             ],
             [
              0.6666666666666666,
              "#ed7953"
             ],
             [
              0.7777777777777778,
              "#fb9f3a"
             ],
             [
              0.8888888888888888,
              "#fdca26"
             ],
             [
              1,
              "#f0f921"
             ]
            ],
            "type": "contour"
           }
          ],
          "contourcarpet": [
           {
            "colorbar": {
             "outlinewidth": 0,
             "ticks": ""
            },
            "type": "contourcarpet"
           }
          ],
          "heatmap": [
           {
            "colorbar": {
             "outlinewidth": 0,
             "ticks": ""
            },
            "colorscale": [
             [
              0,
              "#0d0887"
             ],
             [
              0.1111111111111111,
              "#46039f"
             ],
             [
              0.2222222222222222,
              "#7201a8"
             ],
             [
              0.3333333333333333,
              "#9c179e"
             ],
             [
              0.4444444444444444,
              "#bd3786"
             ],
             [
              0.5555555555555556,
              "#d8576b"
             ],
             [
              0.6666666666666666,
              "#ed7953"
             ],
             [
              0.7777777777777778,
              "#fb9f3a"
             ],
             [
              0.8888888888888888,
              "#fdca26"
             ],
             [
              1,
              "#f0f921"
             ]
            ],
            "type": "heatmap"
           }
          ],
          "heatmapgl": [
           {
            "colorbar": {
             "outlinewidth": 0,
             "ticks": ""
            },
            "colorscale": [
             [
              0,
              "#0d0887"
             ],
             [
              0.1111111111111111,
              "#46039f"
             ],
             [
              0.2222222222222222,
              "#7201a8"
             ],
             [
              0.3333333333333333,
              "#9c179e"
             ],
             [
              0.4444444444444444,
              "#bd3786"
             ],
             [
              0.5555555555555556,
              "#d8576b"
             ],
             [
              0.6666666666666666,
              "#ed7953"
             ],
             [
              0.7777777777777778,
              "#fb9f3a"
             ],
             [
              0.8888888888888888,
              "#fdca26"
             ],
             [
              1,
              "#f0f921"
             ]
            ],
            "type": "heatmapgl"
           }
          ],
          "histogram": [
           {
            "marker": {
             "colorbar": {
              "outlinewidth": 0,
              "ticks": ""
             }
            },
            "type": "histogram"
           }
          ],
          "histogram2d": [
           {
            "colorbar": {
             "outlinewidth": 0,
             "ticks": ""
            },
            "colorscale": [
             [
              0,
              "#0d0887"
             ],
             [
              0.1111111111111111,
              "#46039f"
             ],
             [
              0.2222222222222222,
              "#7201a8"
             ],
             [
              0.3333333333333333,
              "#9c179e"
             ],
             [
              0.4444444444444444,
              "#bd3786"
             ],
             [
              0.5555555555555556,
              "#d8576b"
             ],
             [
              0.6666666666666666,
              "#ed7953"
             ],
             [
              0.7777777777777778,
              "#fb9f3a"
             ],
             [
              0.8888888888888888,
              "#fdca26"
             ],
             [
              1,
              "#f0f921"
             ]
            ],
            "type": "histogram2d"
           }
          ],
          "histogram2dcontour": [
           {
            "colorbar": {
             "outlinewidth": 0,
             "ticks": ""
            },
            "colorscale": [
             [
              0,
              "#0d0887"
             ],
             [
              0.1111111111111111,
              "#46039f"
             ],
             [
              0.2222222222222222,
              "#7201a8"
             ],
             [
              0.3333333333333333,
              "#9c179e"
             ],
             [
              0.4444444444444444,
              "#bd3786"
             ],
             [
              0.5555555555555556,
              "#d8576b"
             ],
             [
              0.6666666666666666,
              "#ed7953"
             ],
             [
              0.7777777777777778,
              "#fb9f3a"
             ],
             [
              0.8888888888888888,
              "#fdca26"
             ],
             [
              1,
              "#f0f921"
             ]
            ],
            "type": "histogram2dcontour"
           }
          ],
          "mesh3d": [
           {
            "colorbar": {
             "outlinewidth": 0,
             "ticks": ""
            },
            "type": "mesh3d"
           }
          ],
          "parcoords": [
           {
            "line": {
             "colorbar": {
              "outlinewidth": 0,
              "ticks": ""
             }
            },
            "type": "parcoords"
           }
          ],
          "pie": [
           {
            "automargin": true,
            "type": "pie"
           }
          ],
          "scatter": [
           {
            "marker": {
             "colorbar": {
              "outlinewidth": 0,
              "ticks": ""
             }
            },
            "type": "scatter"
           }
          ],
          "scatter3d": [
           {
            "line": {
             "colorbar": {
              "outlinewidth": 0,
              "ticks": ""
             }
            },
            "marker": {
             "colorbar": {
              "outlinewidth": 0,
              "ticks": ""
             }
            },
            "type": "scatter3d"
           }
          ],
          "scattercarpet": [
           {
            "marker": {
             "colorbar": {
              "outlinewidth": 0,
              "ticks": ""
             }
            },
            "type": "scattercarpet"
           }
          ],
          "scattergeo": [
           {
            "marker": {
             "colorbar": {
              "outlinewidth": 0,
              "ticks": ""
             }
            },
            "type": "scattergeo"
           }
          ],
          "scattergl": [
           {
            "marker": {
             "colorbar": {
              "outlinewidth": 0,
              "ticks": ""
             }
            },
            "type": "scattergl"
           }
          ],
          "scattermapbox": [
           {
            "marker": {
             "colorbar": {
              "outlinewidth": 0,
              "ticks": ""
             }
            },
            "type": "scattermapbox"
           }
          ],
          "scatterpolar": [
           {
            "marker": {
             "colorbar": {
              "outlinewidth": 0,
              "ticks": ""
             }
            },
            "type": "scatterpolar"
           }
          ],
          "scatterpolargl": [
           {
            "marker": {
             "colorbar": {
              "outlinewidth": 0,
              "ticks": ""
             }
            },
            "type": "scatterpolargl"
           }
          ],
          "scatterternary": [
           {
            "marker": {
             "colorbar": {
              "outlinewidth": 0,
              "ticks": ""
             }
            },
            "type": "scatterternary"
           }
          ],
          "surface": [
           {
            "colorbar": {
             "outlinewidth": 0,
             "ticks": ""
            },
            "colorscale": [
             [
              0,
              "#0d0887"
             ],
             [
              0.1111111111111111,
              "#46039f"
             ],
             [
              0.2222222222222222,
              "#7201a8"
             ],
             [
              0.3333333333333333,
              "#9c179e"
             ],
             [
              0.4444444444444444,
              "#bd3786"
             ],
             [
              0.5555555555555556,
              "#d8576b"
             ],
             [
              0.6666666666666666,
              "#ed7953"
             ],
             [
              0.7777777777777778,
              "#fb9f3a"
             ],
             [
              0.8888888888888888,
              "#fdca26"
             ],
             [
              1,
              "#f0f921"
             ]
            ],
            "type": "surface"
           }
          ],
          "table": [
           {
            "cells": {
             "fill": {
              "color": "#EBF0F8"
             },
             "line": {
              "color": "white"
             }
            },
            "header": {
             "fill": {
              "color": "#C8D4E3"
             },
             "line": {
              "color": "white"
             }
            },
            "type": "table"
           }
          ]
         },
         "layout": {
          "annotationdefaults": {
           "arrowcolor": "#2a3f5f",
           "arrowhead": 0,
           "arrowwidth": 1
          },
          "coloraxis": {
           "colorbar": {
            "outlinewidth": 0,
            "ticks": ""
           }
          },
          "colorscale": {
           "diverging": [
            [
             0,
             "#8e0152"
            ],
            [
             0.1,
             "#c51b7d"
            ],
            [
             0.2,
             "#de77ae"
            ],
            [
             0.3,
             "#f1b6da"
            ],
            [
             0.4,
             "#fde0ef"
            ],
            [
             0.5,
             "#f7f7f7"
            ],
            [
             0.6,
             "#e6f5d0"
            ],
            [
             0.7,
             "#b8e186"
            ],
            [
             0.8,
             "#7fbc41"
            ],
            [
             0.9,
             "#4d9221"
            ],
            [
             1,
             "#276419"
            ]
           ],
           "sequential": [
            [
             0,
             "#0d0887"
            ],
            [
             0.1111111111111111,
             "#46039f"
            ],
            [
             0.2222222222222222,
             "#7201a8"
            ],
            [
             0.3333333333333333,
             "#9c179e"
            ],
            [
             0.4444444444444444,
             "#bd3786"
            ],
            [
             0.5555555555555556,
             "#d8576b"
            ],
            [
             0.6666666666666666,
             "#ed7953"
            ],
            [
             0.7777777777777778,
             "#fb9f3a"
            ],
            [
             0.8888888888888888,
             "#fdca26"
            ],
            [
             1,
             "#f0f921"
            ]
           ],
           "sequentialminus": [
            [
             0,
             "#0d0887"
            ],
            [
             0.1111111111111111,
             "#46039f"
            ],
            [
             0.2222222222222222,
             "#7201a8"
            ],
            [
             0.3333333333333333,
             "#9c179e"
            ],
            [
             0.4444444444444444,
             "#bd3786"
            ],
            [
             0.5555555555555556,
             "#d8576b"
            ],
            [
             0.6666666666666666,
             "#ed7953"
            ],
            [
             0.7777777777777778,
             "#fb9f3a"
            ],
            [
             0.8888888888888888,
             "#fdca26"
            ],
            [
             1,
             "#f0f921"
            ]
           ]
          },
          "colorway": [
           "#636efa",
           "#EF553B",
           "#00cc96",
           "#ab63fa",
           "#FFA15A",
           "#19d3f3",
           "#FF6692",
           "#B6E880",
           "#FF97FF",
           "#FECB52"
          ],
          "font": {
           "color": "#2a3f5f"
          },
          "geo": {
           "bgcolor": "white",
           "lakecolor": "white",
           "landcolor": "#E5ECF6",
           "showlakes": true,
           "showland": true,
           "subunitcolor": "white"
          },
          "hoverlabel": {
           "align": "left"
          },
          "hovermode": "closest",
          "mapbox": {
           "style": "light"
          },
          "paper_bgcolor": "white",
          "plot_bgcolor": "#E5ECF6",
          "polar": {
           "angularaxis": {
            "gridcolor": "white",
            "linecolor": "white",
            "ticks": ""
           },
           "bgcolor": "#E5ECF6",
           "radialaxis": {
            "gridcolor": "white",
            "linecolor": "white",
            "ticks": ""
           }
          },
          "scene": {
           "xaxis": {
            "backgroundcolor": "#E5ECF6",
            "gridcolor": "white",
            "gridwidth": 2,
            "linecolor": "white",
            "showbackground": true,
            "ticks": "",
            "zerolinecolor": "white"
           },
           "yaxis": {
            "backgroundcolor": "#E5ECF6",
            "gridcolor": "white",
            "gridwidth": 2,
            "linecolor": "white",
            "showbackground": true,
            "ticks": "",
            "zerolinecolor": "white"
           },
           "zaxis": {
            "backgroundcolor": "#E5ECF6",
            "gridcolor": "white",
            "gridwidth": 2,
            "linecolor": "white",
            "showbackground": true,
            "ticks": "",
            "zerolinecolor": "white"
           }
          },
          "shapedefaults": {
           "line": {
            "color": "#2a3f5f"
           }
          },
          "ternary": {
           "aaxis": {
            "gridcolor": "white",
            "linecolor": "white",
            "ticks": ""
           },
           "baxis": {
            "gridcolor": "white",
            "linecolor": "white",
            "ticks": ""
           },
           "bgcolor": "#E5ECF6",
           "caxis": {
            "gridcolor": "white",
            "linecolor": "white",
            "ticks": ""
           }
          },
          "title": {
           "x": 0.05
          },
          "xaxis": {
           "automargin": true,
           "gridcolor": "white",
           "linecolor": "white",
           "ticks": "",
           "title": {
            "standoff": 15
           },
           "zerolinecolor": "white",
           "zerolinewidth": 2
          },
          "yaxis": {
           "automargin": true,
           "gridcolor": "white",
           "linecolor": "white",
           "ticks": "",
           "title": {
            "standoff": 15
           },
           "zerolinecolor": "white",
           "zerolinewidth": 2
          }
         }
        }
       }
      },
      "text/html": [
       "<div>\n",
       "        \n",
       "        \n",
       "            <div id=\"c140a18a-f5ef-453b-9d47-566b84e435ea\" class=\"plotly-graph-div\" style=\"height:525px; width:100%;\"></div>\n",
       "            <script type=\"text/javascript\">\n",
       "                require([\"plotly\"], function(Plotly) {\n",
       "                    window.PLOTLYENV=window.PLOTLYENV || {};\n",
       "                    \n",
       "                if (document.getElementById(\"c140a18a-f5ef-453b-9d47-566b84e435ea\")) {\n",
       "                    Plotly.newPlot(\n",
       "                        'c140a18a-f5ef-453b-9d47-566b84e435ea',\n",
       "                        [{\"branchvalues\": \"total\", \"customdata\": [[\"MINISTERIO DE AMBIENTE Y ESPACIO PUBLICO\", \"MINISTERIO DE AMBIENTE Y ESPACIO PUBLICO\", \"DIRECCION GENERAL DE ARBOLADO\", \"ARBOLADO URBANO\", \"ARBOLADO URBANO\"], [\"MINISTERIO DE AMBIENTE Y ESPACIO PUBLICO\", \"MINISTERIO DE AMBIENTE Y ESPACIO PUBLICO\", \"DIRECCION GENERAL DE ARBOLADO\", \"ARBOLADO URBANO\", \"CUIDADO Y PRESERVACION DEL ARBOLADO URBANO\"], [\"MINISTERIO DE AMBIENTE Y ESPACIO PUBLICO\", \"MINISTERIO DE AMBIENTE Y ESPACIO PUBLICO\", \"DIRECCION GENERAL DE ARBOLADO\", \"ARBOLADO URBANO\", \"INTERVENCIONES SOBRE EL ARBOLADO\"], [\"MINISTERIO DE AMBIENTE Y ESPACIO PUBLICO\", \"MINISTERIO DE AMBIENTE Y ESPACIO PUBLICO\", \"DIRECCION GENERAL DE ARBOLADO\", \"ARBOLADO URBANO\", \"(?)\"], [\"MINISTERIO DE AMBIENTE Y ESPACIO PUBLICO\", \"MINISTERIO DE AMBIENTE Y ESPACIO PUBLICO\", \"DIRECCION GENERAL DE ARBOLADO\", \"ARBOLADO URBANO\", \"(?)\"], [\"MINISTERIO DE AMBIENTE Y ESPACIO PUBLICO\", \"MINISTERIO DE AMBIENTE Y ESPACIO PUBLICO\", \"DIRECCION GENERAL DE ARBOLADO\", \"ARBOLADO URBANO\", \"(?)\"], [\"MINISTERIO DE AMBIENTE Y ESPACIO PUBLICO\", \"MINISTERIO DE AMBIENTE Y ESPACIO PUBLICO\", \"DIRECCION GENERAL DE ARBOLADO\", \"ARBOLADO URBANO\", \"(?)\"]], \"domain\": {\"x\": [0.0, 1.0], \"y\": [0.0, 1.0]}, \"hovertemplate\": \"<b>%{label}</b> <br>$%{value:,.0f}</b> \\n                <br>\\n                    <br>JURISDICCION: %{customdata[0]}</b>\\n                    <br>UNIDAD_EJECUTORA: %{customdata[2]}</b> \\n                    <br>\\n                        <br>PROGRAMA: %{customdata[3]}</b> \\n                        <br>PROYECTO: %{customdata[4]}</b>\\n                    </b>\\n                </b> \", \"ids\": [\"MINISTERIO DE AMBIENTE Y ESPACIO PUBLICO/MINISTERIO DE AMBIENTE Y ESPACIO PUBLICO/DIRECCION GENERAL DE ARBOLADO/ARBOLADO URBANO/ARBOLADO URBANO\", \"MINISTERIO DE AMBIENTE Y ESPACIO PUBLICO/MINISTERIO DE AMBIENTE Y ESPACIO PUBLICO/DIRECCION GENERAL DE ARBOLADO/ARBOLADO URBANO/CUIDADO Y PRESERVACION DEL ARBOLADO URBANO\", \"MINISTERIO DE AMBIENTE Y ESPACIO PUBLICO/MINISTERIO DE AMBIENTE Y ESPACIO PUBLICO/DIRECCION GENERAL DE ARBOLADO/ARBOLADO URBANO/INTERVENCIONES SOBRE EL ARBOLADO\", \"MINISTERIO DE AMBIENTE Y ESPACIO PUBLICO/MINISTERIO DE AMBIENTE Y ESPACIO PUBLICO/DIRECCION GENERAL DE ARBOLADO/ARBOLADO URBANO\", \"MINISTERIO DE AMBIENTE Y ESPACIO PUBLICO/MINISTERIO DE AMBIENTE Y ESPACIO PUBLICO/DIRECCION GENERAL DE ARBOLADO\", \"MINISTERIO DE AMBIENTE Y ESPACIO PUBLICO/MINISTERIO DE AMBIENTE Y ESPACIO PUBLICO\", \"MINISTERIO DE AMBIENTE Y ESPACIO PUBLICO\"], \"insidetextorientation\": \"auto\", \"labels\": [\"ARBOLADO URBANO\", \"CUIDADO Y PRESERVACION DEL ARBOLADO URBANO\", \"INTERVENCIONES SOBRE EL ARBOLADO\", \"ARBOLADO URBANO\", \"DIRECCION GENERAL DE ARBOLADO\", \"MINISTERIO DE AMBIENTE Y ESPACIO PUBLICO\", \"MINISTERIO DE AMBIENTE Y ESPACIO PUBLICO\"], \"maxdepth\": 10, \"name\": \"\", \"parents\": [\"MINISTERIO DE AMBIENTE Y ESPACIO PUBLICO/MINISTERIO DE AMBIENTE Y ESPACIO PUBLICO/DIRECCION GENERAL DE ARBOLADO/ARBOLADO URBANO\", \"MINISTERIO DE AMBIENTE Y ESPACIO PUBLICO/MINISTERIO DE AMBIENTE Y ESPACIO PUBLICO/DIRECCION GENERAL DE ARBOLADO/ARBOLADO URBANO\", \"MINISTERIO DE AMBIENTE Y ESPACIO PUBLICO/MINISTERIO DE AMBIENTE Y ESPACIO PUBLICO/DIRECCION GENERAL DE ARBOLADO/ARBOLADO URBANO\", \"MINISTERIO DE AMBIENTE Y ESPACIO PUBLICO/MINISTERIO DE AMBIENTE Y ESPACIO PUBLICO/DIRECCION GENERAL DE ARBOLADO\", \"MINISTERIO DE AMBIENTE Y ESPACIO PUBLICO/MINISTERIO DE AMBIENTE Y ESPACIO PUBLICO\", \"MINISTERIO DE AMBIENTE Y ESPACIO PUBLICO\", \"\"], \"textinfo\": \"percent entry\", \"type\": \"sunburst\", \"values\": [74869104.0, 7303552.0, 140214401.0, 222387057.0, 222387057.0, 222387057.0, 222387057.0]}],\n",
       "                        {\"legend\": {\"tracegroupgap\": 0}, \"margin\": {\"t\": 60}, \"template\": {\"data\": {\"bar\": [{\"error_x\": {\"color\": \"#2a3f5f\"}, \"error_y\": {\"color\": \"#2a3f5f\"}, \"marker\": {\"line\": {\"color\": \"#E5ECF6\", \"width\": 0.5}}, \"type\": \"bar\"}], \"barpolar\": [{\"marker\": {\"line\": {\"color\": \"#E5ECF6\", \"width\": 0.5}}, \"type\": \"barpolar\"}], \"carpet\": [{\"aaxis\": {\"endlinecolor\": \"#2a3f5f\", \"gridcolor\": \"white\", \"linecolor\": \"white\", \"minorgridcolor\": \"white\", \"startlinecolor\": \"#2a3f5f\"}, \"baxis\": {\"endlinecolor\": \"#2a3f5f\", \"gridcolor\": \"white\", \"linecolor\": \"white\", \"minorgridcolor\": \"white\", \"startlinecolor\": \"#2a3f5f\"}, \"type\": \"carpet\"}], \"choropleth\": [{\"colorbar\": {\"outlinewidth\": 0, \"ticks\": \"\"}, \"type\": \"choropleth\"}], \"contour\": [{\"colorbar\": {\"outlinewidth\": 0, \"ticks\": \"\"}, \"colorscale\": [[0.0, \"#0d0887\"], [0.1111111111111111, \"#46039f\"], [0.2222222222222222, \"#7201a8\"], [0.3333333333333333, \"#9c179e\"], [0.4444444444444444, \"#bd3786\"], [0.5555555555555556, \"#d8576b\"], [0.6666666666666666, \"#ed7953\"], [0.7777777777777778, \"#fb9f3a\"], [0.8888888888888888, \"#fdca26\"], [1.0, \"#f0f921\"]], \"type\": \"contour\"}], \"contourcarpet\": [{\"colorbar\": {\"outlinewidth\": 0, \"ticks\": \"\"}, \"type\": \"contourcarpet\"}], \"heatmap\": [{\"colorbar\": {\"outlinewidth\": 0, \"ticks\": \"\"}, \"colorscale\": [[0.0, \"#0d0887\"], [0.1111111111111111, \"#46039f\"], [0.2222222222222222, \"#7201a8\"], [0.3333333333333333, \"#9c179e\"], [0.4444444444444444, \"#bd3786\"], [0.5555555555555556, \"#d8576b\"], [0.6666666666666666, \"#ed7953\"], [0.7777777777777778, \"#fb9f3a\"], [0.8888888888888888, \"#fdca26\"], [1.0, \"#f0f921\"]], \"type\": \"heatmap\"}], \"heatmapgl\": [{\"colorbar\": {\"outlinewidth\": 0, \"ticks\": \"\"}, \"colorscale\": [[0.0, \"#0d0887\"], [0.1111111111111111, \"#46039f\"], [0.2222222222222222, \"#7201a8\"], [0.3333333333333333, \"#9c179e\"], [0.4444444444444444, \"#bd3786\"], [0.5555555555555556, \"#d8576b\"], [0.6666666666666666, \"#ed7953\"], [0.7777777777777778, \"#fb9f3a\"], [0.8888888888888888, \"#fdca26\"], [1.0, \"#f0f921\"]], \"type\": \"heatmapgl\"}], \"histogram\": [{\"marker\": {\"colorbar\": {\"outlinewidth\": 0, \"ticks\": \"\"}}, \"type\": \"histogram\"}], \"histogram2d\": [{\"colorbar\": {\"outlinewidth\": 0, \"ticks\": \"\"}, \"colorscale\": [[0.0, \"#0d0887\"], [0.1111111111111111, \"#46039f\"], [0.2222222222222222, \"#7201a8\"], [0.3333333333333333, \"#9c179e\"], [0.4444444444444444, \"#bd3786\"], [0.5555555555555556, \"#d8576b\"], [0.6666666666666666, \"#ed7953\"], [0.7777777777777778, \"#fb9f3a\"], [0.8888888888888888, \"#fdca26\"], [1.0, \"#f0f921\"]], \"type\": \"histogram2d\"}], \"histogram2dcontour\": [{\"colorbar\": {\"outlinewidth\": 0, \"ticks\": \"\"}, \"colorscale\": [[0.0, \"#0d0887\"], [0.1111111111111111, \"#46039f\"], [0.2222222222222222, \"#7201a8\"], [0.3333333333333333, \"#9c179e\"], [0.4444444444444444, \"#bd3786\"], [0.5555555555555556, \"#d8576b\"], [0.6666666666666666, \"#ed7953\"], [0.7777777777777778, \"#fb9f3a\"], [0.8888888888888888, \"#fdca26\"], [1.0, \"#f0f921\"]], \"type\": \"histogram2dcontour\"}], \"mesh3d\": [{\"colorbar\": {\"outlinewidth\": 0, \"ticks\": \"\"}, \"type\": \"mesh3d\"}], \"parcoords\": [{\"line\": {\"colorbar\": {\"outlinewidth\": 0, \"ticks\": \"\"}}, \"type\": \"parcoords\"}], \"pie\": [{\"automargin\": true, \"type\": \"pie\"}], \"scatter\": [{\"marker\": {\"colorbar\": {\"outlinewidth\": 0, \"ticks\": \"\"}}, \"type\": \"scatter\"}], \"scatter3d\": [{\"line\": {\"colorbar\": {\"outlinewidth\": 0, \"ticks\": \"\"}}, \"marker\": {\"colorbar\": {\"outlinewidth\": 0, \"ticks\": \"\"}}, \"type\": \"scatter3d\"}], \"scattercarpet\": [{\"marker\": {\"colorbar\": {\"outlinewidth\": 0, \"ticks\": \"\"}}, \"type\": \"scattercarpet\"}], \"scattergeo\": [{\"marker\": {\"colorbar\": {\"outlinewidth\": 0, \"ticks\": \"\"}}, \"type\": \"scattergeo\"}], \"scattergl\": [{\"marker\": {\"colorbar\": {\"outlinewidth\": 0, \"ticks\": \"\"}}, \"type\": \"scattergl\"}], \"scattermapbox\": [{\"marker\": {\"colorbar\": {\"outlinewidth\": 0, \"ticks\": \"\"}}, \"type\": \"scattermapbox\"}], \"scatterpolar\": [{\"marker\": {\"colorbar\": {\"outlinewidth\": 0, \"ticks\": \"\"}}, \"type\": \"scatterpolar\"}], \"scatterpolargl\": [{\"marker\": {\"colorbar\": {\"outlinewidth\": 0, \"ticks\": \"\"}}, \"type\": \"scatterpolargl\"}], \"scatterternary\": [{\"marker\": {\"colorbar\": {\"outlinewidth\": 0, \"ticks\": \"\"}}, \"type\": \"scatterternary\"}], \"surface\": [{\"colorbar\": {\"outlinewidth\": 0, \"ticks\": \"\"}, \"colorscale\": [[0.0, \"#0d0887\"], [0.1111111111111111, \"#46039f\"], [0.2222222222222222, \"#7201a8\"], [0.3333333333333333, \"#9c179e\"], [0.4444444444444444, \"#bd3786\"], [0.5555555555555556, \"#d8576b\"], [0.6666666666666666, \"#ed7953\"], [0.7777777777777778, \"#fb9f3a\"], [0.8888888888888888, \"#fdca26\"], [1.0, \"#f0f921\"]], \"type\": \"surface\"}], \"table\": [{\"cells\": {\"fill\": {\"color\": \"#EBF0F8\"}, \"line\": {\"color\": \"white\"}}, \"header\": {\"fill\": {\"color\": \"#C8D4E3\"}, \"line\": {\"color\": \"white\"}}, \"type\": \"table\"}]}, \"layout\": {\"annotationdefaults\": {\"arrowcolor\": \"#2a3f5f\", \"arrowhead\": 0, \"arrowwidth\": 1}, \"coloraxis\": {\"colorbar\": {\"outlinewidth\": 0, \"ticks\": \"\"}}, \"colorscale\": {\"diverging\": [[0, \"#8e0152\"], [0.1, \"#c51b7d\"], [0.2, \"#de77ae\"], [0.3, \"#f1b6da\"], [0.4, \"#fde0ef\"], [0.5, \"#f7f7f7\"], [0.6, \"#e6f5d0\"], [0.7, \"#b8e186\"], [0.8, \"#7fbc41\"], [0.9, \"#4d9221\"], [1, \"#276419\"]], \"sequential\": [[0.0, \"#0d0887\"], [0.1111111111111111, \"#46039f\"], [0.2222222222222222, \"#7201a8\"], [0.3333333333333333, \"#9c179e\"], [0.4444444444444444, \"#bd3786\"], [0.5555555555555556, \"#d8576b\"], [0.6666666666666666, \"#ed7953\"], [0.7777777777777778, \"#fb9f3a\"], [0.8888888888888888, \"#fdca26\"], [1.0, \"#f0f921\"]], \"sequentialminus\": [[0.0, \"#0d0887\"], [0.1111111111111111, \"#46039f\"], [0.2222222222222222, \"#7201a8\"], [0.3333333333333333, \"#9c179e\"], [0.4444444444444444, \"#bd3786\"], [0.5555555555555556, \"#d8576b\"], [0.6666666666666666, \"#ed7953\"], [0.7777777777777778, \"#fb9f3a\"], [0.8888888888888888, \"#fdca26\"], [1.0, \"#f0f921\"]]}, \"colorway\": [\"#636efa\", \"#EF553B\", \"#00cc96\", \"#ab63fa\", \"#FFA15A\", \"#19d3f3\", \"#FF6692\", \"#B6E880\", \"#FF97FF\", \"#FECB52\"], \"font\": {\"color\": \"#2a3f5f\"}, \"geo\": {\"bgcolor\": \"white\", \"lakecolor\": \"white\", \"landcolor\": \"#E5ECF6\", \"showlakes\": true, \"showland\": true, \"subunitcolor\": \"white\"}, \"hoverlabel\": {\"align\": \"left\"}, \"hovermode\": \"closest\", \"mapbox\": {\"style\": \"light\"}, \"paper_bgcolor\": \"white\", \"plot_bgcolor\": \"#E5ECF6\", \"polar\": {\"angularaxis\": {\"gridcolor\": \"white\", \"linecolor\": \"white\", \"ticks\": \"\"}, \"bgcolor\": \"#E5ECF6\", \"radialaxis\": {\"gridcolor\": \"white\", \"linecolor\": \"white\", \"ticks\": \"\"}}, \"scene\": {\"xaxis\": {\"backgroundcolor\": \"#E5ECF6\", \"gridcolor\": \"white\", \"gridwidth\": 2, \"linecolor\": \"white\", \"showbackground\": true, \"ticks\": \"\", \"zerolinecolor\": \"white\"}, \"yaxis\": {\"backgroundcolor\": \"#E5ECF6\", \"gridcolor\": \"white\", \"gridwidth\": 2, \"linecolor\": \"white\", \"showbackground\": true, \"ticks\": \"\", \"zerolinecolor\": \"white\"}, \"zaxis\": {\"backgroundcolor\": \"#E5ECF6\", \"gridcolor\": \"white\", \"gridwidth\": 2, \"linecolor\": \"white\", \"showbackground\": true, \"ticks\": \"\", \"zerolinecolor\": \"white\"}}, \"shapedefaults\": {\"line\": {\"color\": \"#2a3f5f\"}}, \"ternary\": {\"aaxis\": {\"gridcolor\": \"white\", \"linecolor\": \"white\", \"ticks\": \"\"}, \"baxis\": {\"gridcolor\": \"white\", \"linecolor\": \"white\", \"ticks\": \"\"}, \"bgcolor\": \"#E5ECF6\", \"caxis\": {\"gridcolor\": \"white\", \"linecolor\": \"white\", \"ticks\": \"\"}}, \"title\": {\"x\": 0.05}, \"xaxis\": {\"automargin\": true, \"gridcolor\": \"white\", \"linecolor\": \"white\", \"ticks\": \"\", \"title\": {\"standoff\": 15}, \"zerolinecolor\": \"white\", \"zerolinewidth\": 2}, \"yaxis\": {\"automargin\": true, \"gridcolor\": \"white\", \"linecolor\": \"white\", \"ticks\": \"\", \"title\": {\"standoff\": 15}, \"zerolinecolor\": \"white\", \"zerolinewidth\": 2}}}},\n",
       "                        {\"responsive\": true}\n",
       "                    ).then(function(){\n",
       "                            \n",
       "var gd = document.getElementById('c140a18a-f5ef-453b-9d47-566b84e435ea');\n",
       "var x = new MutationObserver(function (mutations, observer) {{\n",
       "        var display = window.getComputedStyle(gd).display;\n",
       "        if (!display || display === 'none') {{\n",
       "            console.log([gd, 'removed!']);\n",
       "            Plotly.purge(gd);\n",
       "            observer.disconnect();\n",
       "        }}\n",
       "}});\n",
       "\n",
       "// Listen for the removal of the full notebook cells\n",
       "var notebookContainer = gd.closest('#notebook-container');\n",
       "if (notebookContainer) {{\n",
       "    x.observe(notebookContainer, {childList: true});\n",
       "}}\n",
       "\n",
       "// Listen for the clearing of the current output cell\n",
       "var outputEl = gd.closest('.output');\n",
       "if (outputEl) {{\n",
       "    x.observe(outputEl, {childList: true});\n",
       "}}\n",
       "\n",
       "                        })\n",
       "                };\n",
       "                });\n",
       "            </script>\n",
       "        </div>"
      ]
     },
     "metadata": {},
     "output_type": "display_data"
    }
   ],
   "source": [
    "sunburst(arbolado)"
   ]
  },
  {
   "cell_type": "code",
   "execution_count": 169,
   "metadata": {
    "scrolled": true
   },
   "outputs": [
    {
     "data": {
      "application/vnd.plotly.v1+json": {
       "config": {
        "plotlyServerURL": "https://plot.ly"
       },
       "data": [
        {
         "branchvalues": "total",
         "customdata": [
          [
           "MINISTERIO DE AMBIENTE Y ESPACIO PUBLICO",
           "MINISTERIO DE AMBIENTE Y ESPACIO PUBLICO",
           "DIRECCION GENERAL DE ESPACIOS VERDES",
           "CUIDADO Y PUESTA EN VALOR DE ESPACIOS VERDES",
           "A.CU.MAR - VALORIZACION DE LOS ESPACIOS VERDES"
          ],
          [
           "MINISTERIO DE AMBIENTE Y ESPACIO PUBLICO",
           "MINISTERIO DE AMBIENTE Y ESPACIO PUBLICO",
           "DIRECCION GENERAL DE ESPACIOS VERDES",
           "CUIDADO Y PUESTA EN VALOR DE ESPACIOS VERDES",
           "CUIDADO Y PRESERVACION DEL ARBOLADO URBANO"
          ],
          [
           "MINISTERIO DE AMBIENTE Y ESPACIO PUBLICO",
           "MINISTERIO DE AMBIENTE Y ESPACIO PUBLICO",
           "DIRECCION GENERAL DE ESPACIOS VERDES",
           "CUIDADO Y PUESTA EN VALOR DE ESPACIOS VERDES",
           "CUIDADO Y PUESTA EN VALOR DE ESPACIOS VERDES"
          ],
          [
           "MINISTERIO DE AMBIENTE Y ESPACIO PUBLICO",
           "MINISTERIO DE AMBIENTE Y ESPACIO PUBLICO",
           "DIRECCION GENERAL DE ESPACIOS VERDES",
           "CUIDADO Y PUESTA EN VALOR DE ESPACIOS VERDES",
           "CUIDADO Y PUESTA EN VALOR DE GRANDES PARQUES"
          ],
          [
           "MINISTERIO DE AMBIENTE Y ESPACIO PUBLICO",
           "MINISTERIO DE AMBIENTE Y ESPACIO PUBLICO",
           "DIRECCION GENERAL DE ESPACIOS VERDES",
           "CUIDADO Y PUESTA EN VALOR DE ESPACIOS VERDES",
           "CUIDADO Y PUESTA EN VALOR DEL PATRIMONIO CULTURAL Y NATURAL DE LOS ESPACIOS VERDES"
          ],
          [
           "MINISTERIO DE AMBIENTE Y ESPACIO PUBLICO",
           "MINISTERIO DE AMBIENTE Y ESPACIO PUBLICO",
           "DIRECCION GENERAL DE ESPACIOS VERDES",
           "CUIDADO Y PUESTA EN VALOR DE ESPACIOS VERDES",
           "JARDIN BOTANICO CARLOS THAYS"
          ],
          [
           "MINISTERIO DE AMBIENTE Y ESPACIO PUBLICO",
           "MINISTERIO DE AMBIENTE Y ESPACIO PUBLICO",
           "DIRECCION GENERAL DE ESPACIOS VERDES",
           "CUIDADO Y PUESTA EN VALOR DE ESPACIOS VERDES",
           "OBRAS BA ELIGE EV"
          ],
          [
           "MINISTERIO DE AMBIENTE Y ESPACIO PUBLICO",
           "MINISTERIO DE AMBIENTE Y ESPACIO PUBLICO",
           "DIRECCION GENERAL DE ESPACIOS VERDES",
           "CUIDADO Y PUESTA EN VALOR DE ESPACIOS VERDES",
           "OBRAS DE ESPACIOS VERDES"
          ],
          [
           "MINISTERIO DE AMBIENTE Y ESPACIO PUBLICO",
           "MINISTERIO DE AMBIENTE Y ESPACIO PUBLICO",
           "DIRECCION GENERAL DE ESPACIOS VERDES",
           "CUIDADO Y PUESTA EN VALOR DE ESPACIOS VERDES",
           "OBRAS DE ESPACIOS VERDES II"
          ],
          [
           "MINISTERIO DE AMBIENTE Y ESPACIO PUBLICO",
           "MINISTERIO DE AMBIENTE Y ESPACIO PUBLICO",
           "DIRECCION GENERAL DE ESPACIOS VERDES",
           "CUIDADO Y PUESTA EN VALOR DE ESPACIOS VERDES",
           "PUESTA EN VALOR EDIFICIOS"
          ],
          [
           "MINISTERIO DE AMBIENTE Y ESPACIO PUBLICO",
           "MINISTERIO DE AMBIENTE Y ESPACIO PUBLICO",
           "DIRECCION GENERAL DE ESPACIOS VERDES",
           "CUIDADO Y PUESTA EN VALOR DE ESPACIOS VERDES",
           "VALORIZACION DE LOS ESPACIOS VERDES"
          ],
          [
           "MINISTERIO DE AMBIENTE Y ESPACIO PUBLICO",
           "MINISTERIO DE AMBIENTE Y ESPACIO PUBLICO",
           "DIRECCION GENERAL DE ESPACIOS VERDES",
           "CUIDADO Y PUESTA EN VALOR DE ESPACIOS VERDES",
           "VALORIZACION DE LOS ESPACIOS VERDES DE LA CIUDAD"
          ],
          [
           "MINISTERIO DE AMBIENTE Y ESPACIO PUBLICO",
           "MINISTERIO DE AMBIENTE Y ESPACIO PUBLICO",
           "DIRECCION GENERAL DE ESPACIOS VERDES",
           "CUIDADO Y PUESTA EN VALOR DE ESPACIOS VERDES",
           "(?)"
          ],
          [
           "MINISTERIO DE AMBIENTE Y ESPACIO PUBLICO",
           "MINISTERIO DE AMBIENTE Y ESPACIO PUBLICO",
           "DIRECCION GENERAL DE ESPACIOS VERDES",
           "CUIDADO Y PUESTA EN VALOR DE ESPACIOS VERDES",
           "(?)"
          ],
          [
           "MINISTERIO DE AMBIENTE Y ESPACIO PUBLICO",
           "MINISTERIO DE AMBIENTE Y ESPACIO PUBLICO",
           "DIRECCION GENERAL DE ESPACIOS VERDES",
           "CUIDADO Y PUESTA EN VALOR DE ESPACIOS VERDES",
           "(?)"
          ],
          [
           "MINISTERIO DE AMBIENTE Y ESPACIO PUBLICO",
           "MINISTERIO DE AMBIENTE Y ESPACIO PUBLICO",
           "DIRECCION GENERAL DE ESPACIOS VERDES",
           "CUIDADO Y PUESTA EN VALOR DE ESPACIOS VERDES",
           "(?)"
          ]
         ],
         "domain": {
          "x": [
           0,
           1
          ],
          "y": [
           0,
           1
          ]
         },
         "hovertemplate": "<b>%{label}</b> <br>$%{value:,.0f}</b> \n                <br>\n                    <br>JURISDICCION: %{customdata[0]}</b>\n                    <br>UNIDAD_EJECUTORA: %{customdata[2]}</b> \n                    <br>\n                        <br>PROGRAMA: %{customdata[3]}</b> \n                        <br>PROYECTO: %{customdata[4]}</b>\n                    </b>\n                </b> ",
         "ids": [
          "MINISTERIO DE AMBIENTE Y ESPACIO PUBLICO/MINISTERIO DE AMBIENTE Y ESPACIO PUBLICO/DIRECCION GENERAL DE ESPACIOS VERDES/CUIDADO Y PUESTA EN VALOR DE ESPACIOS VERDES/A.CU.MAR - VALORIZACION DE LOS ESPACIOS VERDES",
          "MINISTERIO DE AMBIENTE Y ESPACIO PUBLICO/MINISTERIO DE AMBIENTE Y ESPACIO PUBLICO/DIRECCION GENERAL DE ESPACIOS VERDES/CUIDADO Y PUESTA EN VALOR DE ESPACIOS VERDES/CUIDADO Y PRESERVACION DEL ARBOLADO URBANO",
          "MINISTERIO DE AMBIENTE Y ESPACIO PUBLICO/MINISTERIO DE AMBIENTE Y ESPACIO PUBLICO/DIRECCION GENERAL DE ESPACIOS VERDES/CUIDADO Y PUESTA EN VALOR DE ESPACIOS VERDES/CUIDADO Y PUESTA EN VALOR DE ESPACIOS VERDES",
          "MINISTERIO DE AMBIENTE Y ESPACIO PUBLICO/MINISTERIO DE AMBIENTE Y ESPACIO PUBLICO/DIRECCION GENERAL DE ESPACIOS VERDES/CUIDADO Y PUESTA EN VALOR DE ESPACIOS VERDES/CUIDADO Y PUESTA EN VALOR DE GRANDES PARQUES",
          "MINISTERIO DE AMBIENTE Y ESPACIO PUBLICO/MINISTERIO DE AMBIENTE Y ESPACIO PUBLICO/DIRECCION GENERAL DE ESPACIOS VERDES/CUIDADO Y PUESTA EN VALOR DE ESPACIOS VERDES/CUIDADO Y PUESTA EN VALOR DEL PATRIMONIO CULTURAL Y NATURAL DE LOS ESPACIOS VERDES",
          "MINISTERIO DE AMBIENTE Y ESPACIO PUBLICO/MINISTERIO DE AMBIENTE Y ESPACIO PUBLICO/DIRECCION GENERAL DE ESPACIOS VERDES/CUIDADO Y PUESTA EN VALOR DE ESPACIOS VERDES/JARDIN BOTANICO CARLOS THAYS",
          "MINISTERIO DE AMBIENTE Y ESPACIO PUBLICO/MINISTERIO DE AMBIENTE Y ESPACIO PUBLICO/DIRECCION GENERAL DE ESPACIOS VERDES/CUIDADO Y PUESTA EN VALOR DE ESPACIOS VERDES/OBRAS BA ELIGE EV",
          "MINISTERIO DE AMBIENTE Y ESPACIO PUBLICO/MINISTERIO DE AMBIENTE Y ESPACIO PUBLICO/DIRECCION GENERAL DE ESPACIOS VERDES/CUIDADO Y PUESTA EN VALOR DE ESPACIOS VERDES/OBRAS DE ESPACIOS VERDES",
          "MINISTERIO DE AMBIENTE Y ESPACIO PUBLICO/MINISTERIO DE AMBIENTE Y ESPACIO PUBLICO/DIRECCION GENERAL DE ESPACIOS VERDES/CUIDADO Y PUESTA EN VALOR DE ESPACIOS VERDES/OBRAS DE ESPACIOS VERDES II",
          "MINISTERIO DE AMBIENTE Y ESPACIO PUBLICO/MINISTERIO DE AMBIENTE Y ESPACIO PUBLICO/DIRECCION GENERAL DE ESPACIOS VERDES/CUIDADO Y PUESTA EN VALOR DE ESPACIOS VERDES/PUESTA EN VALOR EDIFICIOS",
          "MINISTERIO DE AMBIENTE Y ESPACIO PUBLICO/MINISTERIO DE AMBIENTE Y ESPACIO PUBLICO/DIRECCION GENERAL DE ESPACIOS VERDES/CUIDADO Y PUESTA EN VALOR DE ESPACIOS VERDES/VALORIZACION DE LOS ESPACIOS VERDES",
          "MINISTERIO DE AMBIENTE Y ESPACIO PUBLICO/MINISTERIO DE AMBIENTE Y ESPACIO PUBLICO/DIRECCION GENERAL DE ESPACIOS VERDES/CUIDADO Y PUESTA EN VALOR DE ESPACIOS VERDES/VALORIZACION DE LOS ESPACIOS VERDES DE LA CIUDAD",
          "MINISTERIO DE AMBIENTE Y ESPACIO PUBLICO/MINISTERIO DE AMBIENTE Y ESPACIO PUBLICO/DIRECCION GENERAL DE ESPACIOS VERDES/CUIDADO Y PUESTA EN VALOR DE ESPACIOS VERDES",
          "MINISTERIO DE AMBIENTE Y ESPACIO PUBLICO/MINISTERIO DE AMBIENTE Y ESPACIO PUBLICO/DIRECCION GENERAL DE ESPACIOS VERDES",
          "MINISTERIO DE AMBIENTE Y ESPACIO PUBLICO/MINISTERIO DE AMBIENTE Y ESPACIO PUBLICO",
          "MINISTERIO DE AMBIENTE Y ESPACIO PUBLICO"
         ],
         "insidetextorientation": "auto",
         "labels": [
          "A.CU.MAR - VALORIZACION DE LOS ESPACIOS VERDES",
          "CUIDADO Y PRESERVACION DEL ARBOLADO URBANO",
          "CUIDADO Y PUESTA EN VALOR DE ESPACIOS VERDES",
          "CUIDADO Y PUESTA EN VALOR DE GRANDES PARQUES",
          "CUIDADO Y PUESTA EN VALOR DEL PATRIMONIO CULTURAL Y NATURAL DE LOS ESPACIOS VERDES",
          "JARDIN BOTANICO CARLOS THAYS",
          "OBRAS BA ELIGE EV",
          "OBRAS DE ESPACIOS VERDES",
          "OBRAS DE ESPACIOS VERDES II",
          "PUESTA EN VALOR EDIFICIOS",
          "VALORIZACION DE LOS ESPACIOS VERDES",
          "VALORIZACION DE LOS ESPACIOS VERDES DE LA CIUDAD",
          "CUIDADO Y PUESTA EN VALOR DE ESPACIOS VERDES",
          "DIRECCION GENERAL DE ESPACIOS VERDES",
          "MINISTERIO DE AMBIENTE Y ESPACIO PUBLICO",
          "MINISTERIO DE AMBIENTE Y ESPACIO PUBLICO"
         ],
         "maxdepth": 10,
         "name": "",
         "parents": [
          "MINISTERIO DE AMBIENTE Y ESPACIO PUBLICO/MINISTERIO DE AMBIENTE Y ESPACIO PUBLICO/DIRECCION GENERAL DE ESPACIOS VERDES/CUIDADO Y PUESTA EN VALOR DE ESPACIOS VERDES",
          "MINISTERIO DE AMBIENTE Y ESPACIO PUBLICO/MINISTERIO DE AMBIENTE Y ESPACIO PUBLICO/DIRECCION GENERAL DE ESPACIOS VERDES/CUIDADO Y PUESTA EN VALOR DE ESPACIOS VERDES",
          "MINISTERIO DE AMBIENTE Y ESPACIO PUBLICO/MINISTERIO DE AMBIENTE Y ESPACIO PUBLICO/DIRECCION GENERAL DE ESPACIOS VERDES/CUIDADO Y PUESTA EN VALOR DE ESPACIOS VERDES",
          "MINISTERIO DE AMBIENTE Y ESPACIO PUBLICO/MINISTERIO DE AMBIENTE Y ESPACIO PUBLICO/DIRECCION GENERAL DE ESPACIOS VERDES/CUIDADO Y PUESTA EN VALOR DE ESPACIOS VERDES",
          "MINISTERIO DE AMBIENTE Y ESPACIO PUBLICO/MINISTERIO DE AMBIENTE Y ESPACIO PUBLICO/DIRECCION GENERAL DE ESPACIOS VERDES/CUIDADO Y PUESTA EN VALOR DE ESPACIOS VERDES",
          "MINISTERIO DE AMBIENTE Y ESPACIO PUBLICO/MINISTERIO DE AMBIENTE Y ESPACIO PUBLICO/DIRECCION GENERAL DE ESPACIOS VERDES/CUIDADO Y PUESTA EN VALOR DE ESPACIOS VERDES",
          "MINISTERIO DE AMBIENTE Y ESPACIO PUBLICO/MINISTERIO DE AMBIENTE Y ESPACIO PUBLICO/DIRECCION GENERAL DE ESPACIOS VERDES/CUIDADO Y PUESTA EN VALOR DE ESPACIOS VERDES",
          "MINISTERIO DE AMBIENTE Y ESPACIO PUBLICO/MINISTERIO DE AMBIENTE Y ESPACIO PUBLICO/DIRECCION GENERAL DE ESPACIOS VERDES/CUIDADO Y PUESTA EN VALOR DE ESPACIOS VERDES",
          "MINISTERIO DE AMBIENTE Y ESPACIO PUBLICO/MINISTERIO DE AMBIENTE Y ESPACIO PUBLICO/DIRECCION GENERAL DE ESPACIOS VERDES/CUIDADO Y PUESTA EN VALOR DE ESPACIOS VERDES",
          "MINISTERIO DE AMBIENTE Y ESPACIO PUBLICO/MINISTERIO DE AMBIENTE Y ESPACIO PUBLICO/DIRECCION GENERAL DE ESPACIOS VERDES/CUIDADO Y PUESTA EN VALOR DE ESPACIOS VERDES",
          "MINISTERIO DE AMBIENTE Y ESPACIO PUBLICO/MINISTERIO DE AMBIENTE Y ESPACIO PUBLICO/DIRECCION GENERAL DE ESPACIOS VERDES/CUIDADO Y PUESTA EN VALOR DE ESPACIOS VERDES",
          "MINISTERIO DE AMBIENTE Y ESPACIO PUBLICO/MINISTERIO DE AMBIENTE Y ESPACIO PUBLICO/DIRECCION GENERAL DE ESPACIOS VERDES/CUIDADO Y PUESTA EN VALOR DE ESPACIOS VERDES",
          "MINISTERIO DE AMBIENTE Y ESPACIO PUBLICO/MINISTERIO DE AMBIENTE Y ESPACIO PUBLICO/DIRECCION GENERAL DE ESPACIOS VERDES",
          "MINISTERIO DE AMBIENTE Y ESPACIO PUBLICO/MINISTERIO DE AMBIENTE Y ESPACIO PUBLICO",
          "MINISTERIO DE AMBIENTE Y ESPACIO PUBLICO",
          ""
         ],
         "textinfo": "percent entry",
         "type": "sunburst",
         "values": [
          12607967,
          16600001,
          1333023236,
          49100000,
          3500000,
          4000000,
          7252834,
          169731781,
          102530490,
          200000,
          3580602639,
          248558473,
          5527707421,
          5527707421,
          5527707421,
          5527707421
         ]
        }
       ],
       "layout": {
        "legend": {
         "tracegroupgap": 0
        },
        "margin": {
         "t": 60
        },
        "template": {
         "data": {
          "bar": [
           {
            "error_x": {
             "color": "#2a3f5f"
            },
            "error_y": {
             "color": "#2a3f5f"
            },
            "marker": {
             "line": {
              "color": "#E5ECF6",
              "width": 0.5
             }
            },
            "type": "bar"
           }
          ],
          "barpolar": [
           {
            "marker": {
             "line": {
              "color": "#E5ECF6",
              "width": 0.5
             }
            },
            "type": "barpolar"
           }
          ],
          "carpet": [
           {
            "aaxis": {
             "endlinecolor": "#2a3f5f",
             "gridcolor": "white",
             "linecolor": "white",
             "minorgridcolor": "white",
             "startlinecolor": "#2a3f5f"
            },
            "baxis": {
             "endlinecolor": "#2a3f5f",
             "gridcolor": "white",
             "linecolor": "white",
             "minorgridcolor": "white",
             "startlinecolor": "#2a3f5f"
            },
            "type": "carpet"
           }
          ],
          "choropleth": [
           {
            "colorbar": {
             "outlinewidth": 0,
             "ticks": ""
            },
            "type": "choropleth"
           }
          ],
          "contour": [
           {
            "colorbar": {
             "outlinewidth": 0,
             "ticks": ""
            },
            "colorscale": [
             [
              0,
              "#0d0887"
             ],
             [
              0.1111111111111111,
              "#46039f"
             ],
             [
              0.2222222222222222,
              "#7201a8"
             ],
             [
              0.3333333333333333,
              "#9c179e"
             ],
             [
              0.4444444444444444,
              "#bd3786"
             ],
             [
              0.5555555555555556,
              "#d8576b"
             ],
             [
              0.6666666666666666,
              "#ed7953"
             ],
             [
              0.7777777777777778,
              "#fb9f3a"
             ],
             [
              0.8888888888888888,
              "#fdca26"
             ],
             [
              1,
              "#f0f921"
             ]
            ],
            "type": "contour"
           }
          ],
          "contourcarpet": [
           {
            "colorbar": {
             "outlinewidth": 0,
             "ticks": ""
            },
            "type": "contourcarpet"
           }
          ],
          "heatmap": [
           {
            "colorbar": {
             "outlinewidth": 0,
             "ticks": ""
            },
            "colorscale": [
             [
              0,
              "#0d0887"
             ],
             [
              0.1111111111111111,
              "#46039f"
             ],
             [
              0.2222222222222222,
              "#7201a8"
             ],
             [
              0.3333333333333333,
              "#9c179e"
             ],
             [
              0.4444444444444444,
              "#bd3786"
             ],
             [
              0.5555555555555556,
              "#d8576b"
             ],
             [
              0.6666666666666666,
              "#ed7953"
             ],
             [
              0.7777777777777778,
              "#fb9f3a"
             ],
             [
              0.8888888888888888,
              "#fdca26"
             ],
             [
              1,
              "#f0f921"
             ]
            ],
            "type": "heatmap"
           }
          ],
          "heatmapgl": [
           {
            "colorbar": {
             "outlinewidth": 0,
             "ticks": ""
            },
            "colorscale": [
             [
              0,
              "#0d0887"
             ],
             [
              0.1111111111111111,
              "#46039f"
             ],
             [
              0.2222222222222222,
              "#7201a8"
             ],
             [
              0.3333333333333333,
              "#9c179e"
             ],
             [
              0.4444444444444444,
              "#bd3786"
             ],
             [
              0.5555555555555556,
              "#d8576b"
             ],
             [
              0.6666666666666666,
              "#ed7953"
             ],
             [
              0.7777777777777778,
              "#fb9f3a"
             ],
             [
              0.8888888888888888,
              "#fdca26"
             ],
             [
              1,
              "#f0f921"
             ]
            ],
            "type": "heatmapgl"
           }
          ],
          "histogram": [
           {
            "marker": {
             "colorbar": {
              "outlinewidth": 0,
              "ticks": ""
             }
            },
            "type": "histogram"
           }
          ],
          "histogram2d": [
           {
            "colorbar": {
             "outlinewidth": 0,
             "ticks": ""
            },
            "colorscale": [
             [
              0,
              "#0d0887"
             ],
             [
              0.1111111111111111,
              "#46039f"
             ],
             [
              0.2222222222222222,
              "#7201a8"
             ],
             [
              0.3333333333333333,
              "#9c179e"
             ],
             [
              0.4444444444444444,
              "#bd3786"
             ],
             [
              0.5555555555555556,
              "#d8576b"
             ],
             [
              0.6666666666666666,
              "#ed7953"
             ],
             [
              0.7777777777777778,
              "#fb9f3a"
             ],
             [
              0.8888888888888888,
              "#fdca26"
             ],
             [
              1,
              "#f0f921"
             ]
            ],
            "type": "histogram2d"
           }
          ],
          "histogram2dcontour": [
           {
            "colorbar": {
             "outlinewidth": 0,
             "ticks": ""
            },
            "colorscale": [
             [
              0,
              "#0d0887"
             ],
             [
              0.1111111111111111,
              "#46039f"
             ],
             [
              0.2222222222222222,
              "#7201a8"
             ],
             [
              0.3333333333333333,
              "#9c179e"
             ],
             [
              0.4444444444444444,
              "#bd3786"
             ],
             [
              0.5555555555555556,
              "#d8576b"
             ],
             [
              0.6666666666666666,
              "#ed7953"
             ],
             [
              0.7777777777777778,
              "#fb9f3a"
             ],
             [
              0.8888888888888888,
              "#fdca26"
             ],
             [
              1,
              "#f0f921"
             ]
            ],
            "type": "histogram2dcontour"
           }
          ],
          "mesh3d": [
           {
            "colorbar": {
             "outlinewidth": 0,
             "ticks": ""
            },
            "type": "mesh3d"
           }
          ],
          "parcoords": [
           {
            "line": {
             "colorbar": {
              "outlinewidth": 0,
              "ticks": ""
             }
            },
            "type": "parcoords"
           }
          ],
          "pie": [
           {
            "automargin": true,
            "type": "pie"
           }
          ],
          "scatter": [
           {
            "marker": {
             "colorbar": {
              "outlinewidth": 0,
              "ticks": ""
             }
            },
            "type": "scatter"
           }
          ],
          "scatter3d": [
           {
            "line": {
             "colorbar": {
              "outlinewidth": 0,
              "ticks": ""
             }
            },
            "marker": {
             "colorbar": {
              "outlinewidth": 0,
              "ticks": ""
             }
            },
            "type": "scatter3d"
           }
          ],
          "scattercarpet": [
           {
            "marker": {
             "colorbar": {
              "outlinewidth": 0,
              "ticks": ""
             }
            },
            "type": "scattercarpet"
           }
          ],
          "scattergeo": [
           {
            "marker": {
             "colorbar": {
              "outlinewidth": 0,
              "ticks": ""
             }
            },
            "type": "scattergeo"
           }
          ],
          "scattergl": [
           {
            "marker": {
             "colorbar": {
              "outlinewidth": 0,
              "ticks": ""
             }
            },
            "type": "scattergl"
           }
          ],
          "scattermapbox": [
           {
            "marker": {
             "colorbar": {
              "outlinewidth": 0,
              "ticks": ""
             }
            },
            "type": "scattermapbox"
           }
          ],
          "scatterpolar": [
           {
            "marker": {
             "colorbar": {
              "outlinewidth": 0,
              "ticks": ""
             }
            },
            "type": "scatterpolar"
           }
          ],
          "scatterpolargl": [
           {
            "marker": {
             "colorbar": {
              "outlinewidth": 0,
              "ticks": ""
             }
            },
            "type": "scatterpolargl"
           }
          ],
          "scatterternary": [
           {
            "marker": {
             "colorbar": {
              "outlinewidth": 0,
              "ticks": ""
             }
            },
            "type": "scatterternary"
           }
          ],
          "surface": [
           {
            "colorbar": {
             "outlinewidth": 0,
             "ticks": ""
            },
            "colorscale": [
             [
              0,
              "#0d0887"
             ],
             [
              0.1111111111111111,
              "#46039f"
             ],
             [
              0.2222222222222222,
              "#7201a8"
             ],
             [
              0.3333333333333333,
              "#9c179e"
             ],
             [
              0.4444444444444444,
              "#bd3786"
             ],
             [
              0.5555555555555556,
              "#d8576b"
             ],
             [
              0.6666666666666666,
              "#ed7953"
             ],
             [
              0.7777777777777778,
              "#fb9f3a"
             ],
             [
              0.8888888888888888,
              "#fdca26"
             ],
             [
              1,
              "#f0f921"
             ]
            ],
            "type": "surface"
           }
          ],
          "table": [
           {
            "cells": {
             "fill": {
              "color": "#EBF0F8"
             },
             "line": {
              "color": "white"
             }
            },
            "header": {
             "fill": {
              "color": "#C8D4E3"
             },
             "line": {
              "color": "white"
             }
            },
            "type": "table"
           }
          ]
         },
         "layout": {
          "annotationdefaults": {
           "arrowcolor": "#2a3f5f",
           "arrowhead": 0,
           "arrowwidth": 1
          },
          "coloraxis": {
           "colorbar": {
            "outlinewidth": 0,
            "ticks": ""
           }
          },
          "colorscale": {
           "diverging": [
            [
             0,
             "#8e0152"
            ],
            [
             0.1,
             "#c51b7d"
            ],
            [
             0.2,
             "#de77ae"
            ],
            [
             0.3,
             "#f1b6da"
            ],
            [
             0.4,
             "#fde0ef"
            ],
            [
             0.5,
             "#f7f7f7"
            ],
            [
             0.6,
             "#e6f5d0"
            ],
            [
             0.7,
             "#b8e186"
            ],
            [
             0.8,
             "#7fbc41"
            ],
            [
             0.9,
             "#4d9221"
            ],
            [
             1,
             "#276419"
            ]
           ],
           "sequential": [
            [
             0,
             "#0d0887"
            ],
            [
             0.1111111111111111,
             "#46039f"
            ],
            [
             0.2222222222222222,
             "#7201a8"
            ],
            [
             0.3333333333333333,
             "#9c179e"
            ],
            [
             0.4444444444444444,
             "#bd3786"
            ],
            [
             0.5555555555555556,
             "#d8576b"
            ],
            [
             0.6666666666666666,
             "#ed7953"
            ],
            [
             0.7777777777777778,
             "#fb9f3a"
            ],
            [
             0.8888888888888888,
             "#fdca26"
            ],
            [
             1,
             "#f0f921"
            ]
           ],
           "sequentialminus": [
            [
             0,
             "#0d0887"
            ],
            [
             0.1111111111111111,
             "#46039f"
            ],
            [
             0.2222222222222222,
             "#7201a8"
            ],
            [
             0.3333333333333333,
             "#9c179e"
            ],
            [
             0.4444444444444444,
             "#bd3786"
            ],
            [
             0.5555555555555556,
             "#d8576b"
            ],
            [
             0.6666666666666666,
             "#ed7953"
            ],
            [
             0.7777777777777778,
             "#fb9f3a"
            ],
            [
             0.8888888888888888,
             "#fdca26"
            ],
            [
             1,
             "#f0f921"
            ]
           ]
          },
          "colorway": [
           "#636efa",
           "#EF553B",
           "#00cc96",
           "#ab63fa",
           "#FFA15A",
           "#19d3f3",
           "#FF6692",
           "#B6E880",
           "#FF97FF",
           "#FECB52"
          ],
          "font": {
           "color": "#2a3f5f"
          },
          "geo": {
           "bgcolor": "white",
           "lakecolor": "white",
           "landcolor": "#E5ECF6",
           "showlakes": true,
           "showland": true,
           "subunitcolor": "white"
          },
          "hoverlabel": {
           "align": "left"
          },
          "hovermode": "closest",
          "mapbox": {
           "style": "light"
          },
          "paper_bgcolor": "white",
          "plot_bgcolor": "#E5ECF6",
          "polar": {
           "angularaxis": {
            "gridcolor": "white",
            "linecolor": "white",
            "ticks": ""
           },
           "bgcolor": "#E5ECF6",
           "radialaxis": {
            "gridcolor": "white",
            "linecolor": "white",
            "ticks": ""
           }
          },
          "scene": {
           "xaxis": {
            "backgroundcolor": "#E5ECF6",
            "gridcolor": "white",
            "gridwidth": 2,
            "linecolor": "white",
            "showbackground": true,
            "ticks": "",
            "zerolinecolor": "white"
           },
           "yaxis": {
            "backgroundcolor": "#E5ECF6",
            "gridcolor": "white",
            "gridwidth": 2,
            "linecolor": "white",
            "showbackground": true,
            "ticks": "",
            "zerolinecolor": "white"
           },
           "zaxis": {
            "backgroundcolor": "#E5ECF6",
            "gridcolor": "white",
            "gridwidth": 2,
            "linecolor": "white",
            "showbackground": true,
            "ticks": "",
            "zerolinecolor": "white"
           }
          },
          "shapedefaults": {
           "line": {
            "color": "#2a3f5f"
           }
          },
          "ternary": {
           "aaxis": {
            "gridcolor": "white",
            "linecolor": "white",
            "ticks": ""
           },
           "baxis": {
            "gridcolor": "white",
            "linecolor": "white",
            "ticks": ""
           },
           "bgcolor": "#E5ECF6",
           "caxis": {
            "gridcolor": "white",
            "linecolor": "white",
            "ticks": ""
           }
          },
          "title": {
           "x": 0.05
          },
          "xaxis": {
           "automargin": true,
           "gridcolor": "white",
           "linecolor": "white",
           "ticks": "",
           "title": {
            "standoff": 15
           },
           "zerolinecolor": "white",
           "zerolinewidth": 2
          },
          "yaxis": {
           "automargin": true,
           "gridcolor": "white",
           "linecolor": "white",
           "ticks": "",
           "title": {
            "standoff": 15
           },
           "zerolinecolor": "white",
           "zerolinewidth": 2
          }
         }
        }
       }
      },
      "text/html": [
       "<div>\n",
       "        \n",
       "        \n",
       "            <div id=\"e6625aad-1e2c-4a2d-8537-630226aabf0c\" class=\"plotly-graph-div\" style=\"height:525px; width:100%;\"></div>\n",
       "            <script type=\"text/javascript\">\n",
       "                require([\"plotly\"], function(Plotly) {\n",
       "                    window.PLOTLYENV=window.PLOTLYENV || {};\n",
       "                    \n",
       "                if (document.getElementById(\"e6625aad-1e2c-4a2d-8537-630226aabf0c\")) {\n",
       "                    Plotly.newPlot(\n",
       "                        'e6625aad-1e2c-4a2d-8537-630226aabf0c',\n",
       "                        [{\"branchvalues\": \"total\", \"customdata\": [[\"MINISTERIO DE AMBIENTE Y ESPACIO PUBLICO\", \"MINISTERIO DE AMBIENTE Y ESPACIO PUBLICO\", \"DIRECCION GENERAL DE ESPACIOS VERDES\", \"CUIDADO Y PUESTA EN VALOR DE ESPACIOS VERDES\", \"A.CU.MAR - VALORIZACION DE LOS ESPACIOS VERDES\"], [\"MINISTERIO DE AMBIENTE Y ESPACIO PUBLICO\", \"MINISTERIO DE AMBIENTE Y ESPACIO PUBLICO\", \"DIRECCION GENERAL DE ESPACIOS VERDES\", \"CUIDADO Y PUESTA EN VALOR DE ESPACIOS VERDES\", \"CUIDADO Y PRESERVACION DEL ARBOLADO URBANO\"], [\"MINISTERIO DE AMBIENTE Y ESPACIO PUBLICO\", \"MINISTERIO DE AMBIENTE Y ESPACIO PUBLICO\", \"DIRECCION GENERAL DE ESPACIOS VERDES\", \"CUIDADO Y PUESTA EN VALOR DE ESPACIOS VERDES\", \"CUIDADO Y PUESTA EN VALOR DE ESPACIOS VERDES\"], [\"MINISTERIO DE AMBIENTE Y ESPACIO PUBLICO\", \"MINISTERIO DE AMBIENTE Y ESPACIO PUBLICO\", \"DIRECCION GENERAL DE ESPACIOS VERDES\", \"CUIDADO Y PUESTA EN VALOR DE ESPACIOS VERDES\", \"CUIDADO Y PUESTA EN VALOR DE GRANDES PARQUES\"], [\"MINISTERIO DE AMBIENTE Y ESPACIO PUBLICO\", \"MINISTERIO DE AMBIENTE Y ESPACIO PUBLICO\", \"DIRECCION GENERAL DE ESPACIOS VERDES\", \"CUIDADO Y PUESTA EN VALOR DE ESPACIOS VERDES\", \"CUIDADO Y PUESTA EN VALOR DEL PATRIMONIO CULTURAL Y NATURAL DE LOS ESPACIOS VERDES\"], [\"MINISTERIO DE AMBIENTE Y ESPACIO PUBLICO\", \"MINISTERIO DE AMBIENTE Y ESPACIO PUBLICO\", \"DIRECCION GENERAL DE ESPACIOS VERDES\", \"CUIDADO Y PUESTA EN VALOR DE ESPACIOS VERDES\", \"JARDIN BOTANICO CARLOS THAYS\"], [\"MINISTERIO DE AMBIENTE Y ESPACIO PUBLICO\", \"MINISTERIO DE AMBIENTE Y ESPACIO PUBLICO\", \"DIRECCION GENERAL DE ESPACIOS VERDES\", \"CUIDADO Y PUESTA EN VALOR DE ESPACIOS VERDES\", \"OBRAS BA ELIGE EV\"], [\"MINISTERIO DE AMBIENTE Y ESPACIO PUBLICO\", \"MINISTERIO DE AMBIENTE Y ESPACIO PUBLICO\", \"DIRECCION GENERAL DE ESPACIOS VERDES\", \"CUIDADO Y PUESTA EN VALOR DE ESPACIOS VERDES\", \"OBRAS DE ESPACIOS VERDES\"], [\"MINISTERIO DE AMBIENTE Y ESPACIO PUBLICO\", \"MINISTERIO DE AMBIENTE Y ESPACIO PUBLICO\", \"DIRECCION GENERAL DE ESPACIOS VERDES\", \"CUIDADO Y PUESTA EN VALOR DE ESPACIOS VERDES\", \"OBRAS DE ESPACIOS VERDES II\"], [\"MINISTERIO DE AMBIENTE Y ESPACIO PUBLICO\", \"MINISTERIO DE AMBIENTE Y ESPACIO PUBLICO\", \"DIRECCION GENERAL DE ESPACIOS VERDES\", \"CUIDADO Y PUESTA EN VALOR DE ESPACIOS VERDES\", \"PUESTA EN VALOR EDIFICIOS\"], [\"MINISTERIO DE AMBIENTE Y ESPACIO PUBLICO\", \"MINISTERIO DE AMBIENTE Y ESPACIO PUBLICO\", \"DIRECCION GENERAL DE ESPACIOS VERDES\", \"CUIDADO Y PUESTA EN VALOR DE ESPACIOS VERDES\", \"VALORIZACION DE LOS ESPACIOS VERDES\"], [\"MINISTERIO DE AMBIENTE Y ESPACIO PUBLICO\", \"MINISTERIO DE AMBIENTE Y ESPACIO PUBLICO\", \"DIRECCION GENERAL DE ESPACIOS VERDES\", \"CUIDADO Y PUESTA EN VALOR DE ESPACIOS VERDES\", \"VALORIZACION DE LOS ESPACIOS VERDES DE LA CIUDAD\"], [\"MINISTERIO DE AMBIENTE Y ESPACIO PUBLICO\", \"MINISTERIO DE AMBIENTE Y ESPACIO PUBLICO\", \"DIRECCION GENERAL DE ESPACIOS VERDES\", \"CUIDADO Y PUESTA EN VALOR DE ESPACIOS VERDES\", \"(?)\"], [\"MINISTERIO DE AMBIENTE Y ESPACIO PUBLICO\", \"MINISTERIO DE AMBIENTE Y ESPACIO PUBLICO\", \"DIRECCION GENERAL DE ESPACIOS VERDES\", \"CUIDADO Y PUESTA EN VALOR DE ESPACIOS VERDES\", \"(?)\"], [\"MINISTERIO DE AMBIENTE Y ESPACIO PUBLICO\", \"MINISTERIO DE AMBIENTE Y ESPACIO PUBLICO\", \"DIRECCION GENERAL DE ESPACIOS VERDES\", \"CUIDADO Y PUESTA EN VALOR DE ESPACIOS VERDES\", \"(?)\"], [\"MINISTERIO DE AMBIENTE Y ESPACIO PUBLICO\", \"MINISTERIO DE AMBIENTE Y ESPACIO PUBLICO\", \"DIRECCION GENERAL DE ESPACIOS VERDES\", \"CUIDADO Y PUESTA EN VALOR DE ESPACIOS VERDES\", \"(?)\"]], \"domain\": {\"x\": [0.0, 1.0], \"y\": [0.0, 1.0]}, \"hovertemplate\": \"<b>%{label}</b> <br>$%{value:,.0f}</b> \\n                <br>\\n                    <br>JURISDICCION: %{customdata[0]}</b>\\n                    <br>UNIDAD_EJECUTORA: %{customdata[2]}</b> \\n                    <br>\\n                        <br>PROGRAMA: %{customdata[3]}</b> \\n                        <br>PROYECTO: %{customdata[4]}</b>\\n                    </b>\\n                </b> \", \"ids\": [\"MINISTERIO DE AMBIENTE Y ESPACIO PUBLICO/MINISTERIO DE AMBIENTE Y ESPACIO PUBLICO/DIRECCION GENERAL DE ESPACIOS VERDES/CUIDADO Y PUESTA EN VALOR DE ESPACIOS VERDES/A.CU.MAR - VALORIZACION DE LOS ESPACIOS VERDES\", \"MINISTERIO DE AMBIENTE Y ESPACIO PUBLICO/MINISTERIO DE AMBIENTE Y ESPACIO PUBLICO/DIRECCION GENERAL DE ESPACIOS VERDES/CUIDADO Y PUESTA EN VALOR DE ESPACIOS VERDES/CUIDADO Y PRESERVACION DEL ARBOLADO URBANO\", \"MINISTERIO DE AMBIENTE Y ESPACIO PUBLICO/MINISTERIO DE AMBIENTE Y ESPACIO PUBLICO/DIRECCION GENERAL DE ESPACIOS VERDES/CUIDADO Y PUESTA EN VALOR DE ESPACIOS VERDES/CUIDADO Y PUESTA EN VALOR DE ESPACIOS VERDES\", \"MINISTERIO DE AMBIENTE Y ESPACIO PUBLICO/MINISTERIO DE AMBIENTE Y ESPACIO PUBLICO/DIRECCION GENERAL DE ESPACIOS VERDES/CUIDADO Y PUESTA EN VALOR DE ESPACIOS VERDES/CUIDADO Y PUESTA EN VALOR DE GRANDES PARQUES\", \"MINISTERIO DE AMBIENTE Y ESPACIO PUBLICO/MINISTERIO DE AMBIENTE Y ESPACIO PUBLICO/DIRECCION GENERAL DE ESPACIOS VERDES/CUIDADO Y PUESTA EN VALOR DE ESPACIOS VERDES/CUIDADO Y PUESTA EN VALOR DEL PATRIMONIO CULTURAL Y NATURAL DE LOS ESPACIOS VERDES\", \"MINISTERIO DE AMBIENTE Y ESPACIO PUBLICO/MINISTERIO DE AMBIENTE Y ESPACIO PUBLICO/DIRECCION GENERAL DE ESPACIOS VERDES/CUIDADO Y PUESTA EN VALOR DE ESPACIOS VERDES/JARDIN BOTANICO CARLOS THAYS\", \"MINISTERIO DE AMBIENTE Y ESPACIO PUBLICO/MINISTERIO DE AMBIENTE Y ESPACIO PUBLICO/DIRECCION GENERAL DE ESPACIOS VERDES/CUIDADO Y PUESTA EN VALOR DE ESPACIOS VERDES/OBRAS BA ELIGE EV\", \"MINISTERIO DE AMBIENTE Y ESPACIO PUBLICO/MINISTERIO DE AMBIENTE Y ESPACIO PUBLICO/DIRECCION GENERAL DE ESPACIOS VERDES/CUIDADO Y PUESTA EN VALOR DE ESPACIOS VERDES/OBRAS DE ESPACIOS VERDES\", \"MINISTERIO DE AMBIENTE Y ESPACIO PUBLICO/MINISTERIO DE AMBIENTE Y ESPACIO PUBLICO/DIRECCION GENERAL DE ESPACIOS VERDES/CUIDADO Y PUESTA EN VALOR DE ESPACIOS VERDES/OBRAS DE ESPACIOS VERDES II\", \"MINISTERIO DE AMBIENTE Y ESPACIO PUBLICO/MINISTERIO DE AMBIENTE Y ESPACIO PUBLICO/DIRECCION GENERAL DE ESPACIOS VERDES/CUIDADO Y PUESTA EN VALOR DE ESPACIOS VERDES/PUESTA EN VALOR EDIFICIOS\", \"MINISTERIO DE AMBIENTE Y ESPACIO PUBLICO/MINISTERIO DE AMBIENTE Y ESPACIO PUBLICO/DIRECCION GENERAL DE ESPACIOS VERDES/CUIDADO Y PUESTA EN VALOR DE ESPACIOS VERDES/VALORIZACION DE LOS ESPACIOS VERDES\", \"MINISTERIO DE AMBIENTE Y ESPACIO PUBLICO/MINISTERIO DE AMBIENTE Y ESPACIO PUBLICO/DIRECCION GENERAL DE ESPACIOS VERDES/CUIDADO Y PUESTA EN VALOR DE ESPACIOS VERDES/VALORIZACION DE LOS ESPACIOS VERDES DE LA CIUDAD\", \"MINISTERIO DE AMBIENTE Y ESPACIO PUBLICO/MINISTERIO DE AMBIENTE Y ESPACIO PUBLICO/DIRECCION GENERAL DE ESPACIOS VERDES/CUIDADO Y PUESTA EN VALOR DE ESPACIOS VERDES\", \"MINISTERIO DE AMBIENTE Y ESPACIO PUBLICO/MINISTERIO DE AMBIENTE Y ESPACIO PUBLICO/DIRECCION GENERAL DE ESPACIOS VERDES\", \"MINISTERIO DE AMBIENTE Y ESPACIO PUBLICO/MINISTERIO DE AMBIENTE Y ESPACIO PUBLICO\", \"MINISTERIO DE AMBIENTE Y ESPACIO PUBLICO\"], \"insidetextorientation\": \"auto\", \"labels\": [\"A.CU.MAR - VALORIZACION DE LOS ESPACIOS VERDES\", \"CUIDADO Y PRESERVACION DEL ARBOLADO URBANO\", \"CUIDADO Y PUESTA EN VALOR DE ESPACIOS VERDES\", \"CUIDADO Y PUESTA EN VALOR DE GRANDES PARQUES\", \"CUIDADO Y PUESTA EN VALOR DEL PATRIMONIO CULTURAL Y NATURAL DE LOS ESPACIOS VERDES\", \"JARDIN BOTANICO CARLOS THAYS\", \"OBRAS BA ELIGE EV\", \"OBRAS DE ESPACIOS VERDES\", \"OBRAS DE ESPACIOS VERDES II\", \"PUESTA EN VALOR EDIFICIOS\", \"VALORIZACION DE LOS ESPACIOS VERDES\", \"VALORIZACION DE LOS ESPACIOS VERDES DE LA CIUDAD\", \"CUIDADO Y PUESTA EN VALOR DE ESPACIOS VERDES\", \"DIRECCION GENERAL DE ESPACIOS VERDES\", \"MINISTERIO DE AMBIENTE Y ESPACIO PUBLICO\", \"MINISTERIO DE AMBIENTE Y ESPACIO PUBLICO\"], \"maxdepth\": 10, \"name\": \"\", \"parents\": [\"MINISTERIO DE AMBIENTE Y ESPACIO PUBLICO/MINISTERIO DE AMBIENTE Y ESPACIO PUBLICO/DIRECCION GENERAL DE ESPACIOS VERDES/CUIDADO Y PUESTA EN VALOR DE ESPACIOS VERDES\", \"MINISTERIO DE AMBIENTE Y ESPACIO PUBLICO/MINISTERIO DE AMBIENTE Y ESPACIO PUBLICO/DIRECCION GENERAL DE ESPACIOS VERDES/CUIDADO Y PUESTA EN VALOR DE ESPACIOS VERDES\", \"MINISTERIO DE AMBIENTE Y ESPACIO PUBLICO/MINISTERIO DE AMBIENTE Y ESPACIO PUBLICO/DIRECCION GENERAL DE ESPACIOS VERDES/CUIDADO Y PUESTA EN VALOR DE ESPACIOS VERDES\", \"MINISTERIO DE AMBIENTE Y ESPACIO PUBLICO/MINISTERIO DE AMBIENTE Y ESPACIO PUBLICO/DIRECCION GENERAL DE ESPACIOS VERDES/CUIDADO Y PUESTA EN VALOR DE ESPACIOS VERDES\", \"MINISTERIO DE AMBIENTE Y ESPACIO PUBLICO/MINISTERIO DE AMBIENTE Y ESPACIO PUBLICO/DIRECCION GENERAL DE ESPACIOS VERDES/CUIDADO Y PUESTA EN VALOR DE ESPACIOS VERDES\", \"MINISTERIO DE AMBIENTE Y ESPACIO PUBLICO/MINISTERIO DE AMBIENTE Y ESPACIO PUBLICO/DIRECCION GENERAL DE ESPACIOS VERDES/CUIDADO Y PUESTA EN VALOR DE ESPACIOS VERDES\", \"MINISTERIO DE AMBIENTE Y ESPACIO PUBLICO/MINISTERIO DE AMBIENTE Y ESPACIO PUBLICO/DIRECCION GENERAL DE ESPACIOS VERDES/CUIDADO Y PUESTA EN VALOR DE ESPACIOS VERDES\", \"MINISTERIO DE AMBIENTE Y ESPACIO PUBLICO/MINISTERIO DE AMBIENTE Y ESPACIO PUBLICO/DIRECCION GENERAL DE ESPACIOS VERDES/CUIDADO Y PUESTA EN VALOR DE ESPACIOS VERDES\", \"MINISTERIO DE AMBIENTE Y ESPACIO PUBLICO/MINISTERIO DE AMBIENTE Y ESPACIO PUBLICO/DIRECCION GENERAL DE ESPACIOS VERDES/CUIDADO Y PUESTA EN VALOR DE ESPACIOS VERDES\", \"MINISTERIO DE AMBIENTE Y ESPACIO PUBLICO/MINISTERIO DE AMBIENTE Y ESPACIO PUBLICO/DIRECCION GENERAL DE ESPACIOS VERDES/CUIDADO Y PUESTA EN VALOR DE ESPACIOS VERDES\", \"MINISTERIO DE AMBIENTE Y ESPACIO PUBLICO/MINISTERIO DE AMBIENTE Y ESPACIO PUBLICO/DIRECCION GENERAL DE ESPACIOS VERDES/CUIDADO Y PUESTA EN VALOR DE ESPACIOS VERDES\", \"MINISTERIO DE AMBIENTE Y ESPACIO PUBLICO/MINISTERIO DE AMBIENTE Y ESPACIO PUBLICO/DIRECCION GENERAL DE ESPACIOS VERDES/CUIDADO Y PUESTA EN VALOR DE ESPACIOS VERDES\", \"MINISTERIO DE AMBIENTE Y ESPACIO PUBLICO/MINISTERIO DE AMBIENTE Y ESPACIO PUBLICO/DIRECCION GENERAL DE ESPACIOS VERDES\", \"MINISTERIO DE AMBIENTE Y ESPACIO PUBLICO/MINISTERIO DE AMBIENTE Y ESPACIO PUBLICO\", \"MINISTERIO DE AMBIENTE Y ESPACIO PUBLICO\", \"\"], \"textinfo\": \"percent entry\", \"type\": \"sunburst\", \"values\": [12607967.0, 16600001.0, 1333023236.0, 49100000.0, 3500000.0, 4000000.0, 7252834.0, 169731781.0, 102530490.0, 200000.0, 3580602639.0, 248558473.0, 5527707421.0, 5527707421.0, 5527707421.0, 5527707421.0]}],\n",
       "                        {\"legend\": {\"tracegroupgap\": 0}, \"margin\": {\"t\": 60}, \"template\": {\"data\": {\"bar\": [{\"error_x\": {\"color\": \"#2a3f5f\"}, \"error_y\": {\"color\": \"#2a3f5f\"}, \"marker\": {\"line\": {\"color\": \"#E5ECF6\", \"width\": 0.5}}, \"type\": \"bar\"}], \"barpolar\": [{\"marker\": {\"line\": {\"color\": \"#E5ECF6\", \"width\": 0.5}}, \"type\": \"barpolar\"}], \"carpet\": [{\"aaxis\": {\"endlinecolor\": \"#2a3f5f\", \"gridcolor\": \"white\", \"linecolor\": \"white\", \"minorgridcolor\": \"white\", \"startlinecolor\": \"#2a3f5f\"}, \"baxis\": {\"endlinecolor\": \"#2a3f5f\", \"gridcolor\": \"white\", \"linecolor\": \"white\", \"minorgridcolor\": \"white\", \"startlinecolor\": \"#2a3f5f\"}, \"type\": \"carpet\"}], \"choropleth\": [{\"colorbar\": {\"outlinewidth\": 0, \"ticks\": \"\"}, \"type\": \"choropleth\"}], \"contour\": [{\"colorbar\": {\"outlinewidth\": 0, \"ticks\": \"\"}, \"colorscale\": [[0.0, \"#0d0887\"], [0.1111111111111111, \"#46039f\"], [0.2222222222222222, \"#7201a8\"], [0.3333333333333333, \"#9c179e\"], [0.4444444444444444, \"#bd3786\"], [0.5555555555555556, \"#d8576b\"], [0.6666666666666666, \"#ed7953\"], [0.7777777777777778, \"#fb9f3a\"], [0.8888888888888888, \"#fdca26\"], [1.0, \"#f0f921\"]], \"type\": \"contour\"}], \"contourcarpet\": [{\"colorbar\": {\"outlinewidth\": 0, \"ticks\": \"\"}, \"type\": \"contourcarpet\"}], \"heatmap\": [{\"colorbar\": {\"outlinewidth\": 0, \"ticks\": \"\"}, \"colorscale\": [[0.0, \"#0d0887\"], [0.1111111111111111, \"#46039f\"], [0.2222222222222222, \"#7201a8\"], [0.3333333333333333, \"#9c179e\"], [0.4444444444444444, \"#bd3786\"], [0.5555555555555556, \"#d8576b\"], [0.6666666666666666, \"#ed7953\"], [0.7777777777777778, \"#fb9f3a\"], [0.8888888888888888, \"#fdca26\"], [1.0, \"#f0f921\"]], \"type\": \"heatmap\"}], \"heatmapgl\": [{\"colorbar\": {\"outlinewidth\": 0, \"ticks\": \"\"}, \"colorscale\": [[0.0, \"#0d0887\"], [0.1111111111111111, \"#46039f\"], [0.2222222222222222, \"#7201a8\"], [0.3333333333333333, \"#9c179e\"], [0.4444444444444444, \"#bd3786\"], [0.5555555555555556, \"#d8576b\"], [0.6666666666666666, \"#ed7953\"], [0.7777777777777778, \"#fb9f3a\"], [0.8888888888888888, \"#fdca26\"], [1.0, \"#f0f921\"]], \"type\": \"heatmapgl\"}], \"histogram\": [{\"marker\": {\"colorbar\": {\"outlinewidth\": 0, \"ticks\": \"\"}}, \"type\": \"histogram\"}], \"histogram2d\": [{\"colorbar\": {\"outlinewidth\": 0, \"ticks\": \"\"}, \"colorscale\": [[0.0, \"#0d0887\"], [0.1111111111111111, \"#46039f\"], [0.2222222222222222, \"#7201a8\"], [0.3333333333333333, \"#9c179e\"], [0.4444444444444444, \"#bd3786\"], [0.5555555555555556, \"#d8576b\"], [0.6666666666666666, \"#ed7953\"], [0.7777777777777778, \"#fb9f3a\"], [0.8888888888888888, \"#fdca26\"], [1.0, \"#f0f921\"]], \"type\": \"histogram2d\"}], \"histogram2dcontour\": [{\"colorbar\": {\"outlinewidth\": 0, \"ticks\": \"\"}, \"colorscale\": [[0.0, \"#0d0887\"], [0.1111111111111111, \"#46039f\"], [0.2222222222222222, \"#7201a8\"], [0.3333333333333333, \"#9c179e\"], [0.4444444444444444, \"#bd3786\"], [0.5555555555555556, \"#d8576b\"], [0.6666666666666666, \"#ed7953\"], [0.7777777777777778, \"#fb9f3a\"], [0.8888888888888888, \"#fdca26\"], [1.0, \"#f0f921\"]], \"type\": \"histogram2dcontour\"}], \"mesh3d\": [{\"colorbar\": {\"outlinewidth\": 0, \"ticks\": \"\"}, \"type\": \"mesh3d\"}], \"parcoords\": [{\"line\": {\"colorbar\": {\"outlinewidth\": 0, \"ticks\": \"\"}}, \"type\": \"parcoords\"}], \"pie\": [{\"automargin\": true, \"type\": \"pie\"}], \"scatter\": [{\"marker\": {\"colorbar\": {\"outlinewidth\": 0, \"ticks\": \"\"}}, \"type\": \"scatter\"}], \"scatter3d\": [{\"line\": {\"colorbar\": {\"outlinewidth\": 0, \"ticks\": \"\"}}, \"marker\": {\"colorbar\": {\"outlinewidth\": 0, \"ticks\": \"\"}}, \"type\": \"scatter3d\"}], \"scattercarpet\": [{\"marker\": {\"colorbar\": {\"outlinewidth\": 0, \"ticks\": \"\"}}, \"type\": \"scattercarpet\"}], \"scattergeo\": [{\"marker\": {\"colorbar\": {\"outlinewidth\": 0, \"ticks\": \"\"}}, \"type\": \"scattergeo\"}], \"scattergl\": [{\"marker\": {\"colorbar\": {\"outlinewidth\": 0, \"ticks\": \"\"}}, \"type\": \"scattergl\"}], \"scattermapbox\": [{\"marker\": {\"colorbar\": {\"outlinewidth\": 0, \"ticks\": \"\"}}, \"type\": \"scattermapbox\"}], \"scatterpolar\": [{\"marker\": {\"colorbar\": {\"outlinewidth\": 0, \"ticks\": \"\"}}, \"type\": \"scatterpolar\"}], \"scatterpolargl\": [{\"marker\": {\"colorbar\": {\"outlinewidth\": 0, \"ticks\": \"\"}}, \"type\": \"scatterpolargl\"}], \"scatterternary\": [{\"marker\": {\"colorbar\": {\"outlinewidth\": 0, \"ticks\": \"\"}}, \"type\": \"scatterternary\"}], \"surface\": [{\"colorbar\": {\"outlinewidth\": 0, \"ticks\": \"\"}, \"colorscale\": [[0.0, \"#0d0887\"], [0.1111111111111111, \"#46039f\"], [0.2222222222222222, \"#7201a8\"], [0.3333333333333333, \"#9c179e\"], [0.4444444444444444, \"#bd3786\"], [0.5555555555555556, \"#d8576b\"], [0.6666666666666666, \"#ed7953\"], [0.7777777777777778, \"#fb9f3a\"], [0.8888888888888888, \"#fdca26\"], [1.0, \"#f0f921\"]], \"type\": \"surface\"}], \"table\": [{\"cells\": {\"fill\": {\"color\": \"#EBF0F8\"}, \"line\": {\"color\": \"white\"}}, \"header\": {\"fill\": {\"color\": \"#C8D4E3\"}, \"line\": {\"color\": \"white\"}}, \"type\": \"table\"}]}, \"layout\": {\"annotationdefaults\": {\"arrowcolor\": \"#2a3f5f\", \"arrowhead\": 0, \"arrowwidth\": 1}, \"coloraxis\": {\"colorbar\": {\"outlinewidth\": 0, \"ticks\": \"\"}}, \"colorscale\": {\"diverging\": [[0, \"#8e0152\"], [0.1, \"#c51b7d\"], [0.2, \"#de77ae\"], [0.3, \"#f1b6da\"], [0.4, \"#fde0ef\"], [0.5, \"#f7f7f7\"], [0.6, \"#e6f5d0\"], [0.7, \"#b8e186\"], [0.8, \"#7fbc41\"], [0.9, \"#4d9221\"], [1, \"#276419\"]], \"sequential\": [[0.0, \"#0d0887\"], [0.1111111111111111, \"#46039f\"], [0.2222222222222222, \"#7201a8\"], [0.3333333333333333, \"#9c179e\"], [0.4444444444444444, \"#bd3786\"], [0.5555555555555556, \"#d8576b\"], [0.6666666666666666, \"#ed7953\"], [0.7777777777777778, \"#fb9f3a\"], [0.8888888888888888, \"#fdca26\"], [1.0, \"#f0f921\"]], \"sequentialminus\": [[0.0, \"#0d0887\"], [0.1111111111111111, \"#46039f\"], [0.2222222222222222, \"#7201a8\"], [0.3333333333333333, \"#9c179e\"], [0.4444444444444444, \"#bd3786\"], [0.5555555555555556, \"#d8576b\"], [0.6666666666666666, \"#ed7953\"], [0.7777777777777778, \"#fb9f3a\"], [0.8888888888888888, \"#fdca26\"], [1.0, \"#f0f921\"]]}, \"colorway\": [\"#636efa\", \"#EF553B\", \"#00cc96\", \"#ab63fa\", \"#FFA15A\", \"#19d3f3\", \"#FF6692\", \"#B6E880\", \"#FF97FF\", \"#FECB52\"], \"font\": {\"color\": \"#2a3f5f\"}, \"geo\": {\"bgcolor\": \"white\", \"lakecolor\": \"white\", \"landcolor\": \"#E5ECF6\", \"showlakes\": true, \"showland\": true, \"subunitcolor\": \"white\"}, \"hoverlabel\": {\"align\": \"left\"}, \"hovermode\": \"closest\", \"mapbox\": {\"style\": \"light\"}, \"paper_bgcolor\": \"white\", \"plot_bgcolor\": \"#E5ECF6\", \"polar\": {\"angularaxis\": {\"gridcolor\": \"white\", \"linecolor\": \"white\", \"ticks\": \"\"}, \"bgcolor\": \"#E5ECF6\", \"radialaxis\": {\"gridcolor\": \"white\", \"linecolor\": \"white\", \"ticks\": \"\"}}, \"scene\": {\"xaxis\": {\"backgroundcolor\": \"#E5ECF6\", \"gridcolor\": \"white\", \"gridwidth\": 2, \"linecolor\": \"white\", \"showbackground\": true, \"ticks\": \"\", \"zerolinecolor\": \"white\"}, \"yaxis\": {\"backgroundcolor\": \"#E5ECF6\", \"gridcolor\": \"white\", \"gridwidth\": 2, \"linecolor\": \"white\", \"showbackground\": true, \"ticks\": \"\", \"zerolinecolor\": \"white\"}, \"zaxis\": {\"backgroundcolor\": \"#E5ECF6\", \"gridcolor\": \"white\", \"gridwidth\": 2, \"linecolor\": \"white\", \"showbackground\": true, \"ticks\": \"\", \"zerolinecolor\": \"white\"}}, \"shapedefaults\": {\"line\": {\"color\": \"#2a3f5f\"}}, \"ternary\": {\"aaxis\": {\"gridcolor\": \"white\", \"linecolor\": \"white\", \"ticks\": \"\"}, \"baxis\": {\"gridcolor\": \"white\", \"linecolor\": \"white\", \"ticks\": \"\"}, \"bgcolor\": \"#E5ECF6\", \"caxis\": {\"gridcolor\": \"white\", \"linecolor\": \"white\", \"ticks\": \"\"}}, \"title\": {\"x\": 0.05}, \"xaxis\": {\"automargin\": true, \"gridcolor\": \"white\", \"linecolor\": \"white\", \"ticks\": \"\", \"title\": {\"standoff\": 15}, \"zerolinecolor\": \"white\", \"zerolinewidth\": 2}, \"yaxis\": {\"automargin\": true, \"gridcolor\": \"white\", \"linecolor\": \"white\", \"ticks\": \"\", \"title\": {\"standoff\": 15}, \"zerolinecolor\": \"white\", \"zerolinewidth\": 2}}}},\n",
       "                        {\"responsive\": true}\n",
       "                    ).then(function(){\n",
       "                            \n",
       "var gd = document.getElementById('e6625aad-1e2c-4a2d-8537-630226aabf0c');\n",
       "var x = new MutationObserver(function (mutations, observer) {{\n",
       "        var display = window.getComputedStyle(gd).display;\n",
       "        if (!display || display === 'none') {{\n",
       "            console.log([gd, 'removed!']);\n",
       "            Plotly.purge(gd);\n",
       "            observer.disconnect();\n",
       "        }}\n",
       "}});\n",
       "\n",
       "// Listen for the removal of the full notebook cells\n",
       "var notebookContainer = gd.closest('#notebook-container');\n",
       "if (notebookContainer) {{\n",
       "    x.observe(notebookContainer, {childList: true});\n",
       "}}\n",
       "\n",
       "// Listen for the clearing of the current output cell\n",
       "var outputEl = gd.closest('.output');\n",
       "if (outputEl) {{\n",
       "    x.observe(outputEl, {childList: true});\n",
       "}}\n",
       "\n",
       "                        })\n",
       "                };\n",
       "                });\n",
       "            </script>\n",
       "        </div>"
      ]
     },
     "metadata": {},
     "output_type": "display_data"
    }
   ],
   "source": [
    "sunburst(espacios_verdes)"
   ]
  },
  {
   "cell_type": "code",
   "execution_count": 176,
   "metadata": {},
   "outputs": [],
   "source": [
    "sancion_espacios_verdes = espacios_verdes.groupby(['AÑO', 'UBICACION_GEOGRAFICA']).agg({'SANCION': 'sum'})\n",
    "sancion_espacios_verdes = sancion_espacios_verdes.reset_index()"
   ]
  },
  {
   "cell_type": "code",
   "execution_count": 185,
   "metadata": {},
   "outputs": [],
   "source": [
    "sancion_espacios_verdes = sancion_espacios_verdes.sort_values(by='SANCION')"
   ]
  },
  {
   "cell_type": "code",
   "execution_count": 189,
   "metadata": {},
   "outputs": [
    {
     "data": {
      "application/vnd.plotly.v1+json": {
       "config": {
        "plotlyServerURL": "https://plot.ly"
       },
       "data": [
        {
         "alignmentgroup": "True",
         "hovertemplate": "AÑO=%{x}<br>SANCION=%{y}<extra></extra>",
         "legendgroup": "",
         "marker": {
          "color": "#636efa"
         },
         "name": "",
         "offsetgroup": "",
         "orientation": "v",
         "showlegend": false,
         "textposition": "auto",
         "type": "bar",
         "x": [
          2017,
          2016,
          2016,
          2016,
          2017,
          2010,
          2012,
          2016,
          2018,
          2013,
          2011,
          2011,
          2011,
          2011,
          2015,
          2013,
          2016,
          2017,
          2016,
          2011,
          2011,
          2011,
          2011,
          2011,
          2012,
          2018,
          2015,
          2019,
          2017,
          2013,
          2018,
          2018,
          2011,
          2012,
          2012,
          2012,
          2017,
          2012,
          2011,
          2017,
          2018,
          2012,
          2012,
          2019,
          2013,
          2015,
          2016,
          2011,
          2013,
          2013,
          2015,
          2018,
          2013,
          2012,
          2011,
          2017,
          2012,
          2013,
          2012,
          2018,
          2015,
          2014,
          2014,
          2014,
          2014,
          2016,
          2014,
          2014,
          2014,
          2014,
          2014,
          2014,
          2015,
          2014,
          2015,
          2014,
          2016,
          2015,
          2013,
          2012,
          2013,
          2017,
          2011,
          2015,
          2013,
          2015,
          2013,
          2016,
          2015,
          2013,
          2014,
          2016,
          2012,
          2016,
          2015,
          2012,
          2013,
          2016,
          2017,
          2017,
          2019,
          2015,
          2017,
          2018,
          2014,
          2018,
          2019,
          2018,
          2019,
          2019,
          2018,
          2017,
          2019,
          2012,
          2019,
          2017,
          2019,
          2010,
          2018,
          2019,
          2010,
          2014,
          2019,
          2015,
          2018,
          2011,
          2019,
          2013,
          2016,
          2019,
          2015,
          2019,
          2018,
          2017,
          2016,
          2017,
          2018,
          2019
         ],
         "xaxis": "x",
         "y": [
          288000,
          358621,
          358621,
          717242,
          752002,
          1400000,
          1409086,
          2016884,
          2245430,
          2255674,
          2506366,
          2506366,
          2506366,
          2506366,
          2677533,
          2759967,
          3048276,
          3125916,
          3265354,
          3357126,
          3357126,
          3357126,
          4041091,
          4041091,
          4106099,
          4423160,
          4571633,
          4790279,
          5000000,
          5191485,
          5422188,
          5487340,
          5679141,
          5780012,
          6404320,
          6581970,
          6725916,
          6818835,
          7097918,
          7191458,
          7597820,
          8318049,
          8343438,
          8824048,
          8834906,
          9031933,
          9589567,
          9699505,
          10008073,
          10630954,
          10645167,
          10815070,
          11315877,
          11364805,
          11433311,
          11439658,
          11814303,
          12326941,
          13078107,
          13180620,
          13477316,
          14236300,
          14236300,
          14236300,
          14241300,
          14242118,
          14256300,
          14256300,
          14261300,
          14261300,
          14358300,
          14415300,
          14439283,
          14588827,
          14653133,
          14938300,
          16640953,
          17555383,
          18468298,
          18606574,
          18858723,
          18919833,
          19527989,
          20549283,
          20831082,
          21740733,
          23515684,
          24372650,
          25009583,
          25637586,
          25906800,
          26513349,
          27352340,
          27889099,
          28834033,
          29249610,
          29264293,
          35750817,
          38014427,
          38094114,
          38849910,
          39332587,
          39834514,
          40180008,
          41432647,
          41510062,
          42376813,
          42484011,
          43885886,
          47223095,
          47496266,
          58439089,
          59492271,
          63397083,
          66794573,
          67839794,
          68213428,
          68400000,
          68863620,
          72378735,
          76868026,
          82934846,
          93436001,
          94621559,
          95083050,
          100422622,
          106052286,
          106809673,
          123591476,
          143107034,
          155008553,
          184815781,
          199629904,
          234894803,
          284455961,
          317506684,
          416214329,
          473207692
         ],
         "yaxis": "y"
        }
       ],
       "layout": {
        "barmode": "relative",
        "legend": {
         "tracegroupgap": 0
        },
        "margin": {
         "t": 60
        },
        "template": {
         "data": {
          "bar": [
           {
            "error_x": {
             "color": "#2a3f5f"
            },
            "error_y": {
             "color": "#2a3f5f"
            },
            "marker": {
             "line": {
              "color": "#E5ECF6",
              "width": 0.5
             }
            },
            "type": "bar"
           }
          ],
          "barpolar": [
           {
            "marker": {
             "line": {
              "color": "#E5ECF6",
              "width": 0.5
             }
            },
            "type": "barpolar"
           }
          ],
          "carpet": [
           {
            "aaxis": {
             "endlinecolor": "#2a3f5f",
             "gridcolor": "white",
             "linecolor": "white",
             "minorgridcolor": "white",
             "startlinecolor": "#2a3f5f"
            },
            "baxis": {
             "endlinecolor": "#2a3f5f",
             "gridcolor": "white",
             "linecolor": "white",
             "minorgridcolor": "white",
             "startlinecolor": "#2a3f5f"
            },
            "type": "carpet"
           }
          ],
          "choropleth": [
           {
            "colorbar": {
             "outlinewidth": 0,
             "ticks": ""
            },
            "type": "choropleth"
           }
          ],
          "contour": [
           {
            "colorbar": {
             "outlinewidth": 0,
             "ticks": ""
            },
            "colorscale": [
             [
              0,
              "#0d0887"
             ],
             [
              0.1111111111111111,
              "#46039f"
             ],
             [
              0.2222222222222222,
              "#7201a8"
             ],
             [
              0.3333333333333333,
              "#9c179e"
             ],
             [
              0.4444444444444444,
              "#bd3786"
             ],
             [
              0.5555555555555556,
              "#d8576b"
             ],
             [
              0.6666666666666666,
              "#ed7953"
             ],
             [
              0.7777777777777778,
              "#fb9f3a"
             ],
             [
              0.8888888888888888,
              "#fdca26"
             ],
             [
              1,
              "#f0f921"
             ]
            ],
            "type": "contour"
           }
          ],
          "contourcarpet": [
           {
            "colorbar": {
             "outlinewidth": 0,
             "ticks": ""
            },
            "type": "contourcarpet"
           }
          ],
          "heatmap": [
           {
            "colorbar": {
             "outlinewidth": 0,
             "ticks": ""
            },
            "colorscale": [
             [
              0,
              "#0d0887"
             ],
             [
              0.1111111111111111,
              "#46039f"
             ],
             [
              0.2222222222222222,
              "#7201a8"
             ],
             [
              0.3333333333333333,
              "#9c179e"
             ],
             [
              0.4444444444444444,
              "#bd3786"
             ],
             [
              0.5555555555555556,
              "#d8576b"
             ],
             [
              0.6666666666666666,
              "#ed7953"
             ],
             [
              0.7777777777777778,
              "#fb9f3a"
             ],
             [
              0.8888888888888888,
              "#fdca26"
             ],
             [
              1,
              "#f0f921"
             ]
            ],
            "type": "heatmap"
           }
          ],
          "heatmapgl": [
           {
            "colorbar": {
             "outlinewidth": 0,
             "ticks": ""
            },
            "colorscale": [
             [
              0,
              "#0d0887"
             ],
             [
              0.1111111111111111,
              "#46039f"
             ],
             [
              0.2222222222222222,
              "#7201a8"
             ],
             [
              0.3333333333333333,
              "#9c179e"
             ],
             [
              0.4444444444444444,
              "#bd3786"
             ],
             [
              0.5555555555555556,
              "#d8576b"
             ],
             [
              0.6666666666666666,
              "#ed7953"
             ],
             [
              0.7777777777777778,
              "#fb9f3a"
             ],
             [
              0.8888888888888888,
              "#fdca26"
             ],
             [
              1,
              "#f0f921"
             ]
            ],
            "type": "heatmapgl"
           }
          ],
          "histogram": [
           {
            "marker": {
             "colorbar": {
              "outlinewidth": 0,
              "ticks": ""
             }
            },
            "type": "histogram"
           }
          ],
          "histogram2d": [
           {
            "colorbar": {
             "outlinewidth": 0,
             "ticks": ""
            },
            "colorscale": [
             [
              0,
              "#0d0887"
             ],
             [
              0.1111111111111111,
              "#46039f"
             ],
             [
              0.2222222222222222,
              "#7201a8"
             ],
             [
              0.3333333333333333,
              "#9c179e"
             ],
             [
              0.4444444444444444,
              "#bd3786"
             ],
             [
              0.5555555555555556,
              "#d8576b"
             ],
             [
              0.6666666666666666,
              "#ed7953"
             ],
             [
              0.7777777777777778,
              "#fb9f3a"
             ],
             [
              0.8888888888888888,
              "#fdca26"
             ],
             [
              1,
              "#f0f921"
             ]
            ],
            "type": "histogram2d"
           }
          ],
          "histogram2dcontour": [
           {
            "colorbar": {
             "outlinewidth": 0,
             "ticks": ""
            },
            "colorscale": [
             [
              0,
              "#0d0887"
             ],
             [
              0.1111111111111111,
              "#46039f"
             ],
             [
              0.2222222222222222,
              "#7201a8"
             ],
             [
              0.3333333333333333,
              "#9c179e"
             ],
             [
              0.4444444444444444,
              "#bd3786"
             ],
             [
              0.5555555555555556,
              "#d8576b"
             ],
             [
              0.6666666666666666,
              "#ed7953"
             ],
             [
              0.7777777777777778,
              "#fb9f3a"
             ],
             [
              0.8888888888888888,
              "#fdca26"
             ],
             [
              1,
              "#f0f921"
             ]
            ],
            "type": "histogram2dcontour"
           }
          ],
          "mesh3d": [
           {
            "colorbar": {
             "outlinewidth": 0,
             "ticks": ""
            },
            "type": "mesh3d"
           }
          ],
          "parcoords": [
           {
            "line": {
             "colorbar": {
              "outlinewidth": 0,
              "ticks": ""
             }
            },
            "type": "parcoords"
           }
          ],
          "pie": [
           {
            "automargin": true,
            "type": "pie"
           }
          ],
          "scatter": [
           {
            "marker": {
             "colorbar": {
              "outlinewidth": 0,
              "ticks": ""
             }
            },
            "type": "scatter"
           }
          ],
          "scatter3d": [
           {
            "line": {
             "colorbar": {
              "outlinewidth": 0,
              "ticks": ""
             }
            },
            "marker": {
             "colorbar": {
              "outlinewidth": 0,
              "ticks": ""
             }
            },
            "type": "scatter3d"
           }
          ],
          "scattercarpet": [
           {
            "marker": {
             "colorbar": {
              "outlinewidth": 0,
              "ticks": ""
             }
            },
            "type": "scattercarpet"
           }
          ],
          "scattergeo": [
           {
            "marker": {
             "colorbar": {
              "outlinewidth": 0,
              "ticks": ""
             }
            },
            "type": "scattergeo"
           }
          ],
          "scattergl": [
           {
            "marker": {
             "colorbar": {
              "outlinewidth": 0,
              "ticks": ""
             }
            },
            "type": "scattergl"
           }
          ],
          "scattermapbox": [
           {
            "marker": {
             "colorbar": {
              "outlinewidth": 0,
              "ticks": ""
             }
            },
            "type": "scattermapbox"
           }
          ],
          "scatterpolar": [
           {
            "marker": {
             "colorbar": {
              "outlinewidth": 0,
              "ticks": ""
             }
            },
            "type": "scatterpolar"
           }
          ],
          "scatterpolargl": [
           {
            "marker": {
             "colorbar": {
              "outlinewidth": 0,
              "ticks": ""
             }
            },
            "type": "scatterpolargl"
           }
          ],
          "scatterternary": [
           {
            "marker": {
             "colorbar": {
              "outlinewidth": 0,
              "ticks": ""
             }
            },
            "type": "scatterternary"
           }
          ],
          "surface": [
           {
            "colorbar": {
             "outlinewidth": 0,
             "ticks": ""
            },
            "colorscale": [
             [
              0,
              "#0d0887"
             ],
             [
              0.1111111111111111,
              "#46039f"
             ],
             [
              0.2222222222222222,
              "#7201a8"
             ],
             [
              0.3333333333333333,
              "#9c179e"
             ],
             [
              0.4444444444444444,
              "#bd3786"
             ],
             [
              0.5555555555555556,
              "#d8576b"
             ],
             [
              0.6666666666666666,
              "#ed7953"
             ],
             [
              0.7777777777777778,
              "#fb9f3a"
             ],
             [
              0.8888888888888888,
              "#fdca26"
             ],
             [
              1,
              "#f0f921"
             ]
            ],
            "type": "surface"
           }
          ],
          "table": [
           {
            "cells": {
             "fill": {
              "color": "#EBF0F8"
             },
             "line": {
              "color": "white"
             }
            },
            "header": {
             "fill": {
              "color": "#C8D4E3"
             },
             "line": {
              "color": "white"
             }
            },
            "type": "table"
           }
          ]
         },
         "layout": {
          "annotationdefaults": {
           "arrowcolor": "#2a3f5f",
           "arrowhead": 0,
           "arrowwidth": 1
          },
          "coloraxis": {
           "colorbar": {
            "outlinewidth": 0,
            "ticks": ""
           }
          },
          "colorscale": {
           "diverging": [
            [
             0,
             "#8e0152"
            ],
            [
             0.1,
             "#c51b7d"
            ],
            [
             0.2,
             "#de77ae"
            ],
            [
             0.3,
             "#f1b6da"
            ],
            [
             0.4,
             "#fde0ef"
            ],
            [
             0.5,
             "#f7f7f7"
            ],
            [
             0.6,
             "#e6f5d0"
            ],
            [
             0.7,
             "#b8e186"
            ],
            [
             0.8,
             "#7fbc41"
            ],
            [
             0.9,
             "#4d9221"
            ],
            [
             1,
             "#276419"
            ]
           ],
           "sequential": [
            [
             0,
             "#0d0887"
            ],
            [
             0.1111111111111111,
             "#46039f"
            ],
            [
             0.2222222222222222,
             "#7201a8"
            ],
            [
             0.3333333333333333,
             "#9c179e"
            ],
            [
             0.4444444444444444,
             "#bd3786"
            ],
            [
             0.5555555555555556,
             "#d8576b"
            ],
            [
             0.6666666666666666,
             "#ed7953"
            ],
            [
             0.7777777777777778,
             "#fb9f3a"
            ],
            [
             0.8888888888888888,
             "#fdca26"
            ],
            [
             1,
             "#f0f921"
            ]
           ],
           "sequentialminus": [
            [
             0,
             "#0d0887"
            ],
            [
             0.1111111111111111,
             "#46039f"
            ],
            [
             0.2222222222222222,
             "#7201a8"
            ],
            [
             0.3333333333333333,
             "#9c179e"
            ],
            [
             0.4444444444444444,
             "#bd3786"
            ],
            [
             0.5555555555555556,
             "#d8576b"
            ],
            [
             0.6666666666666666,
             "#ed7953"
            ],
            [
             0.7777777777777778,
             "#fb9f3a"
            ],
            [
             0.8888888888888888,
             "#fdca26"
            ],
            [
             1,
             "#f0f921"
            ]
           ]
          },
          "colorway": [
           "#636efa",
           "#EF553B",
           "#00cc96",
           "#ab63fa",
           "#FFA15A",
           "#19d3f3",
           "#FF6692",
           "#B6E880",
           "#FF97FF",
           "#FECB52"
          ],
          "font": {
           "color": "#2a3f5f"
          },
          "geo": {
           "bgcolor": "white",
           "lakecolor": "white",
           "landcolor": "#E5ECF6",
           "showlakes": true,
           "showland": true,
           "subunitcolor": "white"
          },
          "hoverlabel": {
           "align": "left"
          },
          "hovermode": "closest",
          "mapbox": {
           "style": "light"
          },
          "paper_bgcolor": "white",
          "plot_bgcolor": "#E5ECF6",
          "polar": {
           "angularaxis": {
            "gridcolor": "white",
            "linecolor": "white",
            "ticks": ""
           },
           "bgcolor": "#E5ECF6",
           "radialaxis": {
            "gridcolor": "white",
            "linecolor": "white",
            "ticks": ""
           }
          },
          "scene": {
           "xaxis": {
            "backgroundcolor": "#E5ECF6",
            "gridcolor": "white",
            "gridwidth": 2,
            "linecolor": "white",
            "showbackground": true,
            "ticks": "",
            "zerolinecolor": "white"
           },
           "yaxis": {
            "backgroundcolor": "#E5ECF6",
            "gridcolor": "white",
            "gridwidth": 2,
            "linecolor": "white",
            "showbackground": true,
            "ticks": "",
            "zerolinecolor": "white"
           },
           "zaxis": {
            "backgroundcolor": "#E5ECF6",
            "gridcolor": "white",
            "gridwidth": 2,
            "linecolor": "white",
            "showbackground": true,
            "ticks": "",
            "zerolinecolor": "white"
           }
          },
          "shapedefaults": {
           "line": {
            "color": "#2a3f5f"
           }
          },
          "ternary": {
           "aaxis": {
            "gridcolor": "white",
            "linecolor": "white",
            "ticks": ""
           },
           "baxis": {
            "gridcolor": "white",
            "linecolor": "white",
            "ticks": ""
           },
           "bgcolor": "#E5ECF6",
           "caxis": {
            "gridcolor": "white",
            "linecolor": "white",
            "ticks": ""
           }
          },
          "title": {
           "x": 0.05
          },
          "xaxis": {
           "automargin": true,
           "gridcolor": "white",
           "linecolor": "white",
           "ticks": "",
           "title": {
            "standoff": 15
           },
           "zerolinecolor": "white",
           "zerolinewidth": 2
          },
          "yaxis": {
           "automargin": true,
           "gridcolor": "white",
           "linecolor": "white",
           "ticks": "",
           "title": {
            "standoff": 15
           },
           "zerolinecolor": "white",
           "zerolinewidth": 2
          }
         }
        },
        "xaxis": {
         "anchor": "y",
         "domain": [
          0,
          1
         ],
         "title": {
          "text": "AÑO"
         }
        },
        "yaxis": {
         "anchor": "x",
         "domain": [
          0,
          1
         ],
         "title": {
          "text": "SANCION"
         }
        }
       }
      },
      "text/html": [
       "<div>\n",
       "        \n",
       "        \n",
       "            <div id=\"0eb14469-d5b1-4f50-a22f-01e82d01e6d9\" class=\"plotly-graph-div\" style=\"height:525px; width:100%;\"></div>\n",
       "            <script type=\"text/javascript\">\n",
       "                require([\"plotly\"], function(Plotly) {\n",
       "                    window.PLOTLYENV=window.PLOTLYENV || {};\n",
       "                    \n",
       "                if (document.getElementById(\"0eb14469-d5b1-4f50-a22f-01e82d01e6d9\")) {\n",
       "                    Plotly.newPlot(\n",
       "                        '0eb14469-d5b1-4f50-a22f-01e82d01e6d9',\n",
       "                        [{\"alignmentgroup\": \"True\", \"hovertemplate\": \"A\\u00d1O=%{x}<br>SANCION=%{y}<extra></extra>\", \"legendgroup\": \"\", \"marker\": {\"color\": \"#636efa\"}, \"name\": \"\", \"offsetgroup\": \"\", \"orientation\": \"v\", \"showlegend\": false, \"textposition\": \"auto\", \"type\": \"bar\", \"x\": [2017, 2016, 2016, 2016, 2017, 2010, 2012, 2016, 2018, 2013, 2011, 2011, 2011, 2011, 2015, 2013, 2016, 2017, 2016, 2011, 2011, 2011, 2011, 2011, 2012, 2018, 2015, 2019, 2017, 2013, 2018, 2018, 2011, 2012, 2012, 2012, 2017, 2012, 2011, 2017, 2018, 2012, 2012, 2019, 2013, 2015, 2016, 2011, 2013, 2013, 2015, 2018, 2013, 2012, 2011, 2017, 2012, 2013, 2012, 2018, 2015, 2014, 2014, 2014, 2014, 2016, 2014, 2014, 2014, 2014, 2014, 2014, 2015, 2014, 2015, 2014, 2016, 2015, 2013, 2012, 2013, 2017, 2011, 2015, 2013, 2015, 2013, 2016, 2015, 2013, 2014, 2016, 2012, 2016, 2015, 2012, 2013, 2016, 2017, 2017, 2019, 2015, 2017, 2018, 2014, 2018, 2019, 2018, 2019, 2019, 2018, 2017, 2019, 2012, 2019, 2017, 2019, 2010, 2018, 2019, 2010, 2014, 2019, 2015, 2018, 2011, 2019, 2013, 2016, 2019, 2015, 2019, 2018, 2017, 2016, 2017, 2018, 2019], \"xaxis\": \"x\", \"y\": [288000.0, 358621.0, 358621.0, 717242.0, 752002.0, 1400000.0, 1409086.0, 2016884.0, 2245430.0, 2255674.0, 2506366.0, 2506366.0, 2506366.0, 2506366.0, 2677533.0, 2759967.0, 3048276.0, 3125916.0, 3265354.0, 3357126.0, 3357126.0, 3357126.0, 4041091.0, 4041091.0, 4106099.0, 4423160.0, 4571633.0, 4790279.0, 5000000.0, 5191485.0, 5422188.0, 5487340.0, 5679141.0, 5780012.0, 6404320.0, 6581970.0, 6725916.0, 6818835.0, 7097918.0, 7191458.0, 7597820.0, 8318049.0, 8343438.0, 8824048.0, 8834906.0, 9031933.0, 9589567.0, 9699505.0, 10008073.0, 10630954.0, 10645167.0, 10815070.0, 11315877.0, 11364805.0, 11433311.0, 11439658.0, 11814303.0, 12326941.0, 13078107.0, 13180620.0, 13477316.0, 14236300.0, 14236300.0, 14236300.0, 14241300.0, 14242118.0, 14256300.0, 14256300.0, 14261300.0, 14261300.0, 14358300.0, 14415300.0, 14439283.0, 14588827.0, 14653133.0, 14938300.0, 16640953.0, 17555383.0, 18468298.0, 18606574.0, 18858723.0, 18919833.0, 19527989.0, 20549283.0, 20831082.0, 21740733.0, 23515684.0, 24372650.0, 25009583.0, 25637586.0, 25906800.0, 26513349.0, 27352340.0, 27889099.0, 28834033.0, 29249610.0, 29264293.0, 35750817.0, 38014427.0, 38094114.0, 38849910.0, 39332587.0, 39834514.0, 40180008.0, 41432647.0, 41510062.0, 42376813.0, 42484011.0, 43885886.0, 47223095.0, 47496266.0, 58439089.0, 59492271.0, 63397083.0, 66794573.0, 67839794.0, 68213428.0, 68400000.0, 68863620.0, 72378735.0, 76868026.0, 82934846.0, 93436001.0, 94621559.0, 95083050.0, 100422622.0, 106052286.0, 106809673.0, 123591476.0, 143107034.0, 155008553.0, 184815781.0, 199629904.0, 234894803.0, 284455961.0, 317506684.0, 416214329.0, 473207692.0], \"yaxis\": \"y\"}],\n",
       "                        {\"barmode\": \"relative\", \"legend\": {\"tracegroupgap\": 0}, \"margin\": {\"t\": 60}, \"template\": {\"data\": {\"bar\": [{\"error_x\": {\"color\": \"#2a3f5f\"}, \"error_y\": {\"color\": \"#2a3f5f\"}, \"marker\": {\"line\": {\"color\": \"#E5ECF6\", \"width\": 0.5}}, \"type\": \"bar\"}], \"barpolar\": [{\"marker\": {\"line\": {\"color\": \"#E5ECF6\", \"width\": 0.5}}, \"type\": \"barpolar\"}], \"carpet\": [{\"aaxis\": {\"endlinecolor\": \"#2a3f5f\", \"gridcolor\": \"white\", \"linecolor\": \"white\", \"minorgridcolor\": \"white\", \"startlinecolor\": \"#2a3f5f\"}, \"baxis\": {\"endlinecolor\": \"#2a3f5f\", \"gridcolor\": \"white\", \"linecolor\": \"white\", \"minorgridcolor\": \"white\", \"startlinecolor\": \"#2a3f5f\"}, \"type\": \"carpet\"}], \"choropleth\": [{\"colorbar\": {\"outlinewidth\": 0, \"ticks\": \"\"}, \"type\": \"choropleth\"}], \"contour\": [{\"colorbar\": {\"outlinewidth\": 0, \"ticks\": \"\"}, \"colorscale\": [[0.0, \"#0d0887\"], [0.1111111111111111, \"#46039f\"], [0.2222222222222222, \"#7201a8\"], [0.3333333333333333, \"#9c179e\"], [0.4444444444444444, \"#bd3786\"], [0.5555555555555556, \"#d8576b\"], [0.6666666666666666, \"#ed7953\"], [0.7777777777777778, \"#fb9f3a\"], [0.8888888888888888, \"#fdca26\"], [1.0, \"#f0f921\"]], \"type\": \"contour\"}], \"contourcarpet\": [{\"colorbar\": {\"outlinewidth\": 0, \"ticks\": \"\"}, \"type\": \"contourcarpet\"}], \"heatmap\": [{\"colorbar\": {\"outlinewidth\": 0, \"ticks\": \"\"}, \"colorscale\": [[0.0, \"#0d0887\"], [0.1111111111111111, \"#46039f\"], [0.2222222222222222, \"#7201a8\"], [0.3333333333333333, \"#9c179e\"], [0.4444444444444444, \"#bd3786\"], [0.5555555555555556, \"#d8576b\"], [0.6666666666666666, \"#ed7953\"], [0.7777777777777778, \"#fb9f3a\"], [0.8888888888888888, \"#fdca26\"], [1.0, \"#f0f921\"]], \"type\": \"heatmap\"}], \"heatmapgl\": [{\"colorbar\": {\"outlinewidth\": 0, \"ticks\": \"\"}, \"colorscale\": [[0.0, \"#0d0887\"], [0.1111111111111111, \"#46039f\"], [0.2222222222222222, \"#7201a8\"], [0.3333333333333333, \"#9c179e\"], [0.4444444444444444, \"#bd3786\"], [0.5555555555555556, \"#d8576b\"], [0.6666666666666666, \"#ed7953\"], [0.7777777777777778, \"#fb9f3a\"], [0.8888888888888888, \"#fdca26\"], [1.0, \"#f0f921\"]], \"type\": \"heatmapgl\"}], \"histogram\": [{\"marker\": {\"colorbar\": {\"outlinewidth\": 0, \"ticks\": \"\"}}, \"type\": \"histogram\"}], \"histogram2d\": [{\"colorbar\": {\"outlinewidth\": 0, \"ticks\": \"\"}, \"colorscale\": [[0.0, \"#0d0887\"], [0.1111111111111111, \"#46039f\"], [0.2222222222222222, \"#7201a8\"], [0.3333333333333333, \"#9c179e\"], [0.4444444444444444, \"#bd3786\"], [0.5555555555555556, \"#d8576b\"], [0.6666666666666666, \"#ed7953\"], [0.7777777777777778, \"#fb9f3a\"], [0.8888888888888888, \"#fdca26\"], [1.0, \"#f0f921\"]], \"type\": \"histogram2d\"}], \"histogram2dcontour\": [{\"colorbar\": {\"outlinewidth\": 0, \"ticks\": \"\"}, \"colorscale\": [[0.0, \"#0d0887\"], [0.1111111111111111, \"#46039f\"], [0.2222222222222222, \"#7201a8\"], [0.3333333333333333, \"#9c179e\"], [0.4444444444444444, \"#bd3786\"], [0.5555555555555556, \"#d8576b\"], [0.6666666666666666, \"#ed7953\"], [0.7777777777777778, \"#fb9f3a\"], [0.8888888888888888, \"#fdca26\"], [1.0, \"#f0f921\"]], \"type\": \"histogram2dcontour\"}], \"mesh3d\": [{\"colorbar\": {\"outlinewidth\": 0, \"ticks\": \"\"}, \"type\": \"mesh3d\"}], \"parcoords\": [{\"line\": {\"colorbar\": {\"outlinewidth\": 0, \"ticks\": \"\"}}, \"type\": \"parcoords\"}], \"pie\": [{\"automargin\": true, \"type\": \"pie\"}], \"scatter\": [{\"marker\": {\"colorbar\": {\"outlinewidth\": 0, \"ticks\": \"\"}}, \"type\": \"scatter\"}], \"scatter3d\": [{\"line\": {\"colorbar\": {\"outlinewidth\": 0, \"ticks\": \"\"}}, \"marker\": {\"colorbar\": {\"outlinewidth\": 0, \"ticks\": \"\"}}, \"type\": \"scatter3d\"}], \"scattercarpet\": [{\"marker\": {\"colorbar\": {\"outlinewidth\": 0, \"ticks\": \"\"}}, \"type\": \"scattercarpet\"}], \"scattergeo\": [{\"marker\": {\"colorbar\": {\"outlinewidth\": 0, \"ticks\": \"\"}}, \"type\": \"scattergeo\"}], \"scattergl\": [{\"marker\": {\"colorbar\": {\"outlinewidth\": 0, \"ticks\": \"\"}}, \"type\": \"scattergl\"}], \"scattermapbox\": [{\"marker\": {\"colorbar\": {\"outlinewidth\": 0, \"ticks\": \"\"}}, \"type\": \"scattermapbox\"}], \"scatterpolar\": [{\"marker\": {\"colorbar\": {\"outlinewidth\": 0, \"ticks\": \"\"}}, \"type\": \"scatterpolar\"}], \"scatterpolargl\": [{\"marker\": {\"colorbar\": {\"outlinewidth\": 0, \"ticks\": \"\"}}, \"type\": \"scatterpolargl\"}], \"scatterternary\": [{\"marker\": {\"colorbar\": {\"outlinewidth\": 0, \"ticks\": \"\"}}, \"type\": \"scatterternary\"}], \"surface\": [{\"colorbar\": {\"outlinewidth\": 0, \"ticks\": \"\"}, \"colorscale\": [[0.0, \"#0d0887\"], [0.1111111111111111, \"#46039f\"], [0.2222222222222222, \"#7201a8\"], [0.3333333333333333, \"#9c179e\"], [0.4444444444444444, \"#bd3786\"], [0.5555555555555556, \"#d8576b\"], [0.6666666666666666, \"#ed7953\"], [0.7777777777777778, \"#fb9f3a\"], [0.8888888888888888, \"#fdca26\"], [1.0, \"#f0f921\"]], \"type\": \"surface\"}], \"table\": [{\"cells\": {\"fill\": {\"color\": \"#EBF0F8\"}, \"line\": {\"color\": \"white\"}}, \"header\": {\"fill\": {\"color\": \"#C8D4E3\"}, \"line\": {\"color\": \"white\"}}, \"type\": \"table\"}]}, \"layout\": {\"annotationdefaults\": {\"arrowcolor\": \"#2a3f5f\", \"arrowhead\": 0, \"arrowwidth\": 1}, \"coloraxis\": {\"colorbar\": {\"outlinewidth\": 0, \"ticks\": \"\"}}, \"colorscale\": {\"diverging\": [[0, \"#8e0152\"], [0.1, \"#c51b7d\"], [0.2, \"#de77ae\"], [0.3, \"#f1b6da\"], [0.4, \"#fde0ef\"], [0.5, \"#f7f7f7\"], [0.6, \"#e6f5d0\"], [0.7, \"#b8e186\"], [0.8, \"#7fbc41\"], [0.9, \"#4d9221\"], [1, \"#276419\"]], \"sequential\": [[0.0, \"#0d0887\"], [0.1111111111111111, \"#46039f\"], [0.2222222222222222, \"#7201a8\"], [0.3333333333333333, \"#9c179e\"], [0.4444444444444444, \"#bd3786\"], [0.5555555555555556, \"#d8576b\"], [0.6666666666666666, \"#ed7953\"], [0.7777777777777778, \"#fb9f3a\"], [0.8888888888888888, \"#fdca26\"], [1.0, \"#f0f921\"]], \"sequentialminus\": [[0.0, \"#0d0887\"], [0.1111111111111111, \"#46039f\"], [0.2222222222222222, \"#7201a8\"], [0.3333333333333333, \"#9c179e\"], [0.4444444444444444, \"#bd3786\"], [0.5555555555555556, \"#d8576b\"], [0.6666666666666666, \"#ed7953\"], [0.7777777777777778, \"#fb9f3a\"], [0.8888888888888888, \"#fdca26\"], [1.0, \"#f0f921\"]]}, \"colorway\": [\"#636efa\", \"#EF553B\", \"#00cc96\", \"#ab63fa\", \"#FFA15A\", \"#19d3f3\", \"#FF6692\", \"#B6E880\", \"#FF97FF\", \"#FECB52\"], \"font\": {\"color\": \"#2a3f5f\"}, \"geo\": {\"bgcolor\": \"white\", \"lakecolor\": \"white\", \"landcolor\": \"#E5ECF6\", \"showlakes\": true, \"showland\": true, \"subunitcolor\": \"white\"}, \"hoverlabel\": {\"align\": \"left\"}, \"hovermode\": \"closest\", \"mapbox\": {\"style\": \"light\"}, \"paper_bgcolor\": \"white\", \"plot_bgcolor\": \"#E5ECF6\", \"polar\": {\"angularaxis\": {\"gridcolor\": \"white\", \"linecolor\": \"white\", \"ticks\": \"\"}, \"bgcolor\": \"#E5ECF6\", \"radialaxis\": {\"gridcolor\": \"white\", \"linecolor\": \"white\", \"ticks\": \"\"}}, \"scene\": {\"xaxis\": {\"backgroundcolor\": \"#E5ECF6\", \"gridcolor\": \"white\", \"gridwidth\": 2, \"linecolor\": \"white\", \"showbackground\": true, \"ticks\": \"\", \"zerolinecolor\": \"white\"}, \"yaxis\": {\"backgroundcolor\": \"#E5ECF6\", \"gridcolor\": \"white\", \"gridwidth\": 2, \"linecolor\": \"white\", \"showbackground\": true, \"ticks\": \"\", \"zerolinecolor\": \"white\"}, \"zaxis\": {\"backgroundcolor\": \"#E5ECF6\", \"gridcolor\": \"white\", \"gridwidth\": 2, \"linecolor\": \"white\", \"showbackground\": true, \"ticks\": \"\", \"zerolinecolor\": \"white\"}}, \"shapedefaults\": {\"line\": {\"color\": \"#2a3f5f\"}}, \"ternary\": {\"aaxis\": {\"gridcolor\": \"white\", \"linecolor\": \"white\", \"ticks\": \"\"}, \"baxis\": {\"gridcolor\": \"white\", \"linecolor\": \"white\", \"ticks\": \"\"}, \"bgcolor\": \"#E5ECF6\", \"caxis\": {\"gridcolor\": \"white\", \"linecolor\": \"white\", \"ticks\": \"\"}}, \"title\": {\"x\": 0.05}, \"xaxis\": {\"automargin\": true, \"gridcolor\": \"white\", \"linecolor\": \"white\", \"ticks\": \"\", \"title\": {\"standoff\": 15}, \"zerolinecolor\": \"white\", \"zerolinewidth\": 2}, \"yaxis\": {\"automargin\": true, \"gridcolor\": \"white\", \"linecolor\": \"white\", \"ticks\": \"\", \"title\": {\"standoff\": 15}, \"zerolinecolor\": \"white\", \"zerolinewidth\": 2}}}, \"xaxis\": {\"anchor\": \"y\", \"domain\": [0.0, 1.0], \"title\": {\"text\": \"A\\u00d1O\"}}, \"yaxis\": {\"anchor\": \"x\", \"domain\": [0.0, 1.0], \"title\": {\"text\": \"SANCION\"}}},\n",
       "                        {\"responsive\": true}\n",
       "                    ).then(function(){\n",
       "                            \n",
       "var gd = document.getElementById('0eb14469-d5b1-4f50-a22f-01e82d01e6d9');\n",
       "var x = new MutationObserver(function (mutations, observer) {{\n",
       "        var display = window.getComputedStyle(gd).display;\n",
       "        if (!display || display === 'none') {{\n",
       "            console.log([gd, 'removed!']);\n",
       "            Plotly.purge(gd);\n",
       "            observer.disconnect();\n",
       "        }}\n",
       "}});\n",
       "\n",
       "// Listen for the removal of the full notebook cells\n",
       "var notebookContainer = gd.closest('#notebook-container');\n",
       "if (notebookContainer) {{\n",
       "    x.observe(notebookContainer, {childList: true});\n",
       "}}\n",
       "\n",
       "// Listen for the clearing of the current output cell\n",
       "var outputEl = gd.closest('.output');\n",
       "if (outputEl) {{\n",
       "    x.observe(outputEl, {childList: true});\n",
       "}}\n",
       "\n",
       "                        })\n",
       "                };\n",
       "                });\n",
       "            </script>\n",
       "        </div>"
      ]
     },
     "metadata": {},
     "output_type": "display_data"
    }
   ],
   "source": [
    "fig = px.bar(sancion_espacios_verdes, x=\"AÑO\", y=\"SANCION\", title=\"\")\n",
    "fig.show()"
   ]
  },
  {
   "cell_type": "code",
   "execution_count": 188,
   "metadata": {},
   "outputs": [
    {
     "data": {
      "application/vnd.plotly.v1+json": {
       "config": {
        "plotlyServerURL": "https://plot.ly"
       },
       "data": [
        {
         "alignmentgroup": "True",
         "hovertemplate": "UBICACION_GEOGRAFICA=COMUNA 10<br>AÑO=%{x}<br>SANCION=%{y}<extra></extra>",
         "legendgroup": "COMUNA 10",
         "marker": {
          "color": "#636efa"
         },
         "name": "COMUNA 10",
         "offsetgroup": "COMUNA 10",
         "orientation": "v",
         "showlegend": true,
         "textposition": "auto",
         "type": "bar",
         "x": [
          2017,
          2016,
          2011,
          2018,
          2013,
          2012,
          2015,
          2014,
          2019
         ],
         "xaxis": "x",
         "y": [
          288000,
          358621,
          4041091,
          4423160,
          5191485,
          6404320,
          9031933,
          14236300,
          38849910
         ],
         "yaxis": "y"
        },
        {
         "alignmentgroup": "True",
         "hovertemplate": "UBICACION_GEOGRAFICA=COMUNA 11<br>AÑO=%{x}<br>SANCION=%{y}<extra></extra>",
         "legendgroup": "COMUNA 11",
         "marker": {
          "color": "#EF553B"
         },
         "name": "COMUNA 11",
         "offsetgroup": "COMUNA 11",
         "orientation": "v",
         "showlegend": true,
         "textposition": "auto",
         "type": "bar",
         "x": [
          2016,
          2018,
          2017,
          2011,
          2019,
          2012,
          2013,
          2014,
          2015
         ],
         "xaxis": "x",
         "y": [
          358621,
          2245430,
          3125916,
          3357126,
          4790279,
          6818835,
          8834906,
          14236300,
          14439283
         ],
         "yaxis": "y"
        },
        {
         "alignmentgroup": "True",
         "hovertemplate": "UBICACION_GEOGRAFICA=COMUNA 5<br>AÑO=%{x}<br>SANCION=%{y}<extra></extra>",
         "legendgroup": "COMUNA 5",
         "marker": {
          "color": "#00cc96"
         },
         "name": "COMUNA 5",
         "offsetgroup": "COMUNA 5",
         "orientation": "v",
         "showlegend": true,
         "textposition": "auto",
         "type": "bar",
         "x": [
          2016,
          2011,
          2015,
          2013,
          2012,
          2017,
          2018,
          2019,
          2014
         ],
         "xaxis": "x",
         "y": [
          717242,
          2506366,
          2677533,
          2759967,
          4106099,
          6725916,
          7597820,
          8824048,
          14256300
         ],
         "yaxis": "y"
        },
        {
         "alignmentgroup": "True",
         "hovertemplate": "UBICACION_GEOGRAFICA=COMUNA 8<br>AÑO=%{x}<br>SANCION=%{y}<extra></extra>",
         "legendgroup": "COMUNA 8",
         "marker": {
          "color": "#ab63fa"
         },
         "name": "COMUNA 8",
         "offsetgroup": "COMUNA 8",
         "orientation": "v",
         "showlegend": true,
         "textposition": "auto",
         "type": "bar",
         "x": [
          2017,
          2016,
          2018,
          2011,
          2015,
          2014,
          2012,
          2013,
          2019
         ],
         "xaxis": "x",
         "y": [
          752002,
          3265354,
          10815070,
          11433311,
          20549283,
          25906800,
          27352340,
          29264293,
          43885886
         ],
         "yaxis": "y"
        },
        {
         "alignmentgroup": "True",
         "hovertemplate": "UBICACION_GEOGRAFICA=COMUNA 14<br>AÑO=%{x}<br>SANCION=%{y}<extra></extra>",
         "legendgroup": "COMUNA 14",
         "marker": {
          "color": "#FFA15A"
         },
         "name": "COMUNA 14",
         "offsetgroup": "COMUNA 14",
         "orientation": "v",
         "showlegend": true,
         "textposition": "auto",
         "type": "bar",
         "x": [
          2010,
          2012,
          2011,
          2013,
          2014,
          2015,
          2016,
          2019,
          2018,
          2017
         ],
         "xaxis": "x",
         "y": [
          1400000,
          18606574,
          19527989,
          25637586,
          41432647,
          94621559,
          123591476,
          184815781,
          199629904,
          234894803
         ],
         "yaxis": "y"
        },
        {
         "alignmentgroup": "True",
         "hovertemplate": "UBICACION_GEOGRAFICA=COMUNA 3<br>AÑO=%{x}<br>SANCION=%{y}<extra></extra>",
         "legendgroup": "COMUNA 3",
         "marker": {
          "color": "#19d3f3"
         },
         "name": "COMUNA 3",
         "offsetgroup": "COMUNA 3",
         "orientation": "v",
         "showlegend": true,
         "textposition": "auto",
         "type": "bar",
         "x": [
          2012,
          2016,
          2013,
          2011,
          2015,
          2018,
          2017,
          2014,
          2019
         ],
         "xaxis": "x",
         "y": [
          1409086,
          2016884,
          2255674,
          2506366,
          4571633,
          5422188,
          7191458,
          14261300,
          42376813
         ],
         "yaxis": "y"
        },
        {
         "alignmentgroup": "True",
         "hovertemplate": "UBICACION_GEOGRAFICA=COMUNA 6<br>AÑO=%{x}<br>SANCION=%{y}<extra></extra>",
         "legendgroup": "COMUNA 6",
         "marker": {
          "color": "#FF6692"
         },
         "name": "COMUNA 6",
         "offsetgroup": "COMUNA 6",
         "orientation": "v",
         "showlegend": true,
         "textposition": "auto",
         "type": "bar",
         "x": [
          2011,
          2012,
          2016,
          2013,
          2015,
          2014,
          2017,
          2018,
          2019
         ],
         "xaxis": "x",
         "y": [
          2506366,
          8318049,
          9589567,
          10008073,
          13477316,
          14415300,
          18919833,
          40180008,
          72378735
         ],
         "yaxis": "y"
        },
        {
         "alignmentgroup": "True",
         "hovertemplate": "UBICACION_GEOGRAFICA=COMUNA 2<br>AÑO=%{x}<br>SANCION=%{y}<extra></extra>",
         "legendgroup": "COMUNA 2",
         "marker": {
          "color": "#B6E880"
         },
         "name": "COMUNA 2",
         "offsetgroup": "COMUNA 2",
         "orientation": "v",
         "showlegend": true,
         "textposition": "auto",
         "type": "bar",
         "x": [
          2011,
          2016,
          2017,
          2012,
          2013,
          2018,
          2014,
          2015,
          2019
         ],
         "xaxis": "x",
         "y": [
          2506366,
          3048276,
          5000000,
          6581970,
          10630954,
          13180620,
          14256300,
          17555383,
          47223095
         ],
         "yaxis": "y"
        },
        {
         "alignmentgroup": "True",
         "hovertemplate": "UBICACION_GEOGRAFICA=COMUNA 15<br>AÑO=%{x}<br>SANCION=%{y}<extra></extra>",
         "legendgroup": "COMUNA 15",
         "marker": {
          "color": "#FF97FF"
         },
         "name": "COMUNA 15",
         "offsetgroup": "COMUNA 15",
         "orientation": "v",
         "showlegend": true,
         "textposition": "auto",
         "type": "bar",
         "x": [
          2011,
          2012,
          2014,
          2015,
          2013,
          2016,
          2017,
          2018,
          2019
         ],
         "xaxis": "x",
         "y": [
          3357126,
          5780012,
          14588827,
          14653133,
          20831082,
          35750817,
          67839794,
          68863620,
          93436001
         ],
         "yaxis": "y"
        },
        {
         "alignmentgroup": "True",
         "hovertemplate": "UBICACION_GEOGRAFICA=COMUNA 12<br>AÑO=%{x}<br>SANCION=%{y}<extra></extra>",
         "legendgroup": "COMUNA 12",
         "marker": {
          "color": "#FECB52"
         },
         "name": "COMUNA 12",
         "offsetgroup": "COMUNA 12",
         "orientation": "v",
         "showlegend": true,
         "textposition": "auto",
         "type": "bar",
         "x": [
          2011,
          2012,
          2014,
          2013,
          2015,
          2016,
          2017,
          2018,
          2019
         ],
         "xaxis": "x",
         "y": [
          3357126,
          8343438,
          14236300,
          18468298,
          21740733,
          27889099,
          38014427,
          47496266,
          59492271
         ],
         "yaxis": "y"
        },
        {
         "alignmentgroup": "True",
         "hovertemplate": "UBICACION_GEOGRAFICA=COMUNA 7<br>AÑO=%{x}<br>SANCION=%{y}<extra></extra>",
         "legendgroup": "COMUNA 7",
         "marker": {
          "color": "#636efa"
         },
         "name": "COMUNA 7",
         "offsetgroup": "COMUNA 7",
         "orientation": "v",
         "showlegend": true,
         "textposition": "auto",
         "type": "bar",
         "x": [
          2011,
          2012,
          2014,
          2016,
          2013,
          2015,
          2017,
          2018,
          2019
         ],
         "xaxis": "x",
         "y": [
          4041091,
          11814303,
          14241300,
          16640953,
          23515684,
          28834033,
          39834514,
          41510062,
          68213428
         ],
         "yaxis": "y"
        },
        {
         "alignmentgroup": "True",
         "hovertemplate": "UBICACION_GEOGRAFICA=COMUNA 4<br>AÑO=%{x}<br>SANCION=%{y}<extra></extra>",
         "legendgroup": "COMUNA 4",
         "marker": {
          "color": "#EF553B"
         },
         "name": "COMUNA 4",
         "offsetgroup": "COMUNA 4",
         "orientation": "v",
         "showlegend": true,
         "textposition": "auto",
         "type": "bar",
         "x": [
          2018,
          2011,
          2012,
          2017,
          2014,
          2013,
          2016,
          2015,
          2019
         ],
         "xaxis": "x",
         "y": [
          5487340,
          7097918,
          11364805,
          11439658,
          14261300,
          18858723,
          24372650,
          25009583,
          143107034
         ],
         "yaxis": "y"
        },
        {
         "alignmentgroup": "True",
         "hovertemplate": "UBICACION_GEOGRAFICA=COMUNA 9<br>AÑO=%{x}<br>SANCION=%{y}<extra></extra>",
         "legendgroup": "COMUNA 9",
         "marker": {
          "color": "#00cc96"
         },
         "name": "COMUNA 9",
         "offsetgroup": "COMUNA 9",
         "orientation": "v",
         "showlegend": true,
         "textposition": "auto",
         "type": "bar",
         "x": [
          2011,
          2015,
          2013,
          2016,
          2014,
          2012,
          2017,
          2018,
          2019
         ],
         "xaxis": "x",
         "y": [
          5679141,
          10645167,
          12326941,
          14242118,
          14938300,
          29249610,
          38094114,
          42484011,
          66794573
         ],
         "yaxis": "y"
        },
        {
         "alignmentgroup": "True",
         "hovertemplate": "UBICACION_GEOGRAFICA=COMUNA 13<br>AÑO=%{x}<br>SANCION=%{y}<extra></extra>",
         "legendgroup": "COMUNA 13",
         "marker": {
          "color": "#ab63fa"
         },
         "name": "COMUNA 13",
         "offsetgroup": "COMUNA 13",
         "orientation": "v",
         "showlegend": true,
         "textposition": "auto",
         "type": "bar",
         "x": [
          2011,
          2013,
          2012,
          2014,
          2016,
          2015,
          2017,
          2018,
          2019
         ],
         "xaxis": "x",
         "y": [
          9699505,
          11315877,
          13078107,
          14358300,
          26513349,
          39332587,
          58439089,
          95083050,
          106052286
         ],
         "yaxis": "y"
        },
        {
         "alignmentgroup": "True",
         "hovertemplate": "UBICACION_GEOGRAFICA=COMUNA 1<br>AÑO=%{x}<br>SANCION=%{y}<extra></extra>",
         "legendgroup": "COMUNA 1",
         "marker": {
          "color": "#FFA15A"
         },
         "name": "COMUNA 1",
         "offsetgroup": "COMUNA 1",
         "orientation": "v",
         "showlegend": true,
         "textposition": "auto",
         "type": "bar",
         "x": [
          2012,
          2010,
          2014,
          2011,
          2013,
          2015,
          2016,
          2017,
          2018,
          2019
         ],
         "xaxis": "x",
         "y": [
          63397083,
          76868026,
          82934846,
          100422622,
          106809673,
          155008553,
          284455961,
          317506684,
          416214329,
          473207692
         ],
         "yaxis": "y"
        },
        {
         "alignmentgroup": "True",
         "hovertemplate": "UBICACION_GEOGRAFICA=A CLASIFICAR<br>AÑO=%{x}<br>SANCION=%{y}<extra></extra>",
         "legendgroup": "A CLASIFICAR",
         "marker": {
          "color": "#19d3f3"
         },
         "name": "A CLASIFICAR",
         "offsetgroup": "A CLASIFICAR",
         "orientation": "v",
         "showlegend": true,
         "textposition": "auto",
         "type": "bar",
         "x": [
          2010
         ],
         "xaxis": "x",
         "y": [
          68400000
         ],
         "yaxis": "y"
        }
       ],
       "layout": {
        "barmode": "relative",
        "legend": {
         "title": {
          "text": "UBICACION_GEOGRAFICA"
         },
         "tracegroupgap": 0
        },
        "margin": {
         "t": 60
        },
        "template": {
         "data": {
          "bar": [
           {
            "error_x": {
             "color": "#2a3f5f"
            },
            "error_y": {
             "color": "#2a3f5f"
            },
            "marker": {
             "line": {
              "color": "#E5ECF6",
              "width": 0.5
             }
            },
            "type": "bar"
           }
          ],
          "barpolar": [
           {
            "marker": {
             "line": {
              "color": "#E5ECF6",
              "width": 0.5
             }
            },
            "type": "barpolar"
           }
          ],
          "carpet": [
           {
            "aaxis": {
             "endlinecolor": "#2a3f5f",
             "gridcolor": "white",
             "linecolor": "white",
             "minorgridcolor": "white",
             "startlinecolor": "#2a3f5f"
            },
            "baxis": {
             "endlinecolor": "#2a3f5f",
             "gridcolor": "white",
             "linecolor": "white",
             "minorgridcolor": "white",
             "startlinecolor": "#2a3f5f"
            },
            "type": "carpet"
           }
          ],
          "choropleth": [
           {
            "colorbar": {
             "outlinewidth": 0,
             "ticks": ""
            },
            "type": "choropleth"
           }
          ],
          "contour": [
           {
            "colorbar": {
             "outlinewidth": 0,
             "ticks": ""
            },
            "colorscale": [
             [
              0,
              "#0d0887"
             ],
             [
              0.1111111111111111,
              "#46039f"
             ],
             [
              0.2222222222222222,
              "#7201a8"
             ],
             [
              0.3333333333333333,
              "#9c179e"
             ],
             [
              0.4444444444444444,
              "#bd3786"
             ],
             [
              0.5555555555555556,
              "#d8576b"
             ],
             [
              0.6666666666666666,
              "#ed7953"
             ],
             [
              0.7777777777777778,
              "#fb9f3a"
             ],
             [
              0.8888888888888888,
              "#fdca26"
             ],
             [
              1,
              "#f0f921"
             ]
            ],
            "type": "contour"
           }
          ],
          "contourcarpet": [
           {
            "colorbar": {
             "outlinewidth": 0,
             "ticks": ""
            },
            "type": "contourcarpet"
           }
          ],
          "heatmap": [
           {
            "colorbar": {
             "outlinewidth": 0,
             "ticks": ""
            },
            "colorscale": [
             [
              0,
              "#0d0887"
             ],
             [
              0.1111111111111111,
              "#46039f"
             ],
             [
              0.2222222222222222,
              "#7201a8"
             ],
             [
              0.3333333333333333,
              "#9c179e"
             ],
             [
              0.4444444444444444,
              "#bd3786"
             ],
             [
              0.5555555555555556,
              "#d8576b"
             ],
             [
              0.6666666666666666,
              "#ed7953"
             ],
             [
              0.7777777777777778,
              "#fb9f3a"
             ],
             [
              0.8888888888888888,
              "#fdca26"
             ],
             [
              1,
              "#f0f921"
             ]
            ],
            "type": "heatmap"
           }
          ],
          "heatmapgl": [
           {
            "colorbar": {
             "outlinewidth": 0,
             "ticks": ""
            },
            "colorscale": [
             [
              0,
              "#0d0887"
             ],
             [
              0.1111111111111111,
              "#46039f"
             ],
             [
              0.2222222222222222,
              "#7201a8"
             ],
             [
              0.3333333333333333,
              "#9c179e"
             ],
             [
              0.4444444444444444,
              "#bd3786"
             ],
             [
              0.5555555555555556,
              "#d8576b"
             ],
             [
              0.6666666666666666,
              "#ed7953"
             ],
             [
              0.7777777777777778,
              "#fb9f3a"
             ],
             [
              0.8888888888888888,
              "#fdca26"
             ],
             [
              1,
              "#f0f921"
             ]
            ],
            "type": "heatmapgl"
           }
          ],
          "histogram": [
           {
            "marker": {
             "colorbar": {
              "outlinewidth": 0,
              "ticks": ""
             }
            },
            "type": "histogram"
           }
          ],
          "histogram2d": [
           {
            "colorbar": {
             "outlinewidth": 0,
             "ticks": ""
            },
            "colorscale": [
             [
              0,
              "#0d0887"
             ],
             [
              0.1111111111111111,
              "#46039f"
             ],
             [
              0.2222222222222222,
              "#7201a8"
             ],
             [
              0.3333333333333333,
              "#9c179e"
             ],
             [
              0.4444444444444444,
              "#bd3786"
             ],
             [
              0.5555555555555556,
              "#d8576b"
             ],
             [
              0.6666666666666666,
              "#ed7953"
             ],
             [
              0.7777777777777778,
              "#fb9f3a"
             ],
             [
              0.8888888888888888,
              "#fdca26"
             ],
             [
              1,
              "#f0f921"
             ]
            ],
            "type": "histogram2d"
           }
          ],
          "histogram2dcontour": [
           {
            "colorbar": {
             "outlinewidth": 0,
             "ticks": ""
            },
            "colorscale": [
             [
              0,
              "#0d0887"
             ],
             [
              0.1111111111111111,
              "#46039f"
             ],
             [
              0.2222222222222222,
              "#7201a8"
             ],
             [
              0.3333333333333333,
              "#9c179e"
             ],
             [
              0.4444444444444444,
              "#bd3786"
             ],
             [
              0.5555555555555556,
              "#d8576b"
             ],
             [
              0.6666666666666666,
              "#ed7953"
             ],
             [
              0.7777777777777778,
              "#fb9f3a"
             ],
             [
              0.8888888888888888,
              "#fdca26"
             ],
             [
              1,
              "#f0f921"
             ]
            ],
            "type": "histogram2dcontour"
           }
          ],
          "mesh3d": [
           {
            "colorbar": {
             "outlinewidth": 0,
             "ticks": ""
            },
            "type": "mesh3d"
           }
          ],
          "parcoords": [
           {
            "line": {
             "colorbar": {
              "outlinewidth": 0,
              "ticks": ""
             }
            },
            "type": "parcoords"
           }
          ],
          "pie": [
           {
            "automargin": true,
            "type": "pie"
           }
          ],
          "scatter": [
           {
            "marker": {
             "colorbar": {
              "outlinewidth": 0,
              "ticks": ""
             }
            },
            "type": "scatter"
           }
          ],
          "scatter3d": [
           {
            "line": {
             "colorbar": {
              "outlinewidth": 0,
              "ticks": ""
             }
            },
            "marker": {
             "colorbar": {
              "outlinewidth": 0,
              "ticks": ""
             }
            },
            "type": "scatter3d"
           }
          ],
          "scattercarpet": [
           {
            "marker": {
             "colorbar": {
              "outlinewidth": 0,
              "ticks": ""
             }
            },
            "type": "scattercarpet"
           }
          ],
          "scattergeo": [
           {
            "marker": {
             "colorbar": {
              "outlinewidth": 0,
              "ticks": ""
             }
            },
            "type": "scattergeo"
           }
          ],
          "scattergl": [
           {
            "marker": {
             "colorbar": {
              "outlinewidth": 0,
              "ticks": ""
             }
            },
            "type": "scattergl"
           }
          ],
          "scattermapbox": [
           {
            "marker": {
             "colorbar": {
              "outlinewidth": 0,
              "ticks": ""
             }
            },
            "type": "scattermapbox"
           }
          ],
          "scatterpolar": [
           {
            "marker": {
             "colorbar": {
              "outlinewidth": 0,
              "ticks": ""
             }
            },
            "type": "scatterpolar"
           }
          ],
          "scatterpolargl": [
           {
            "marker": {
             "colorbar": {
              "outlinewidth": 0,
              "ticks": ""
             }
            },
            "type": "scatterpolargl"
           }
          ],
          "scatterternary": [
           {
            "marker": {
             "colorbar": {
              "outlinewidth": 0,
              "ticks": ""
             }
            },
            "type": "scatterternary"
           }
          ],
          "surface": [
           {
            "colorbar": {
             "outlinewidth": 0,
             "ticks": ""
            },
            "colorscale": [
             [
              0,
              "#0d0887"
             ],
             [
              0.1111111111111111,
              "#46039f"
             ],
             [
              0.2222222222222222,
              "#7201a8"
             ],
             [
              0.3333333333333333,
              "#9c179e"
             ],
             [
              0.4444444444444444,
              "#bd3786"
             ],
             [
              0.5555555555555556,
              "#d8576b"
             ],
             [
              0.6666666666666666,
              "#ed7953"
             ],
             [
              0.7777777777777778,
              "#fb9f3a"
             ],
             [
              0.8888888888888888,
              "#fdca26"
             ],
             [
              1,
              "#f0f921"
             ]
            ],
            "type": "surface"
           }
          ],
          "table": [
           {
            "cells": {
             "fill": {
              "color": "#EBF0F8"
             },
             "line": {
              "color": "white"
             }
            },
            "header": {
             "fill": {
              "color": "#C8D4E3"
             },
             "line": {
              "color": "white"
             }
            },
            "type": "table"
           }
          ]
         },
         "layout": {
          "annotationdefaults": {
           "arrowcolor": "#2a3f5f",
           "arrowhead": 0,
           "arrowwidth": 1
          },
          "coloraxis": {
           "colorbar": {
            "outlinewidth": 0,
            "ticks": ""
           }
          },
          "colorscale": {
           "diverging": [
            [
             0,
             "#8e0152"
            ],
            [
             0.1,
             "#c51b7d"
            ],
            [
             0.2,
             "#de77ae"
            ],
            [
             0.3,
             "#f1b6da"
            ],
            [
             0.4,
             "#fde0ef"
            ],
            [
             0.5,
             "#f7f7f7"
            ],
            [
             0.6,
             "#e6f5d0"
            ],
            [
             0.7,
             "#b8e186"
            ],
            [
             0.8,
             "#7fbc41"
            ],
            [
             0.9,
             "#4d9221"
            ],
            [
             1,
             "#276419"
            ]
           ],
           "sequential": [
            [
             0,
             "#0d0887"
            ],
            [
             0.1111111111111111,
             "#46039f"
            ],
            [
             0.2222222222222222,
             "#7201a8"
            ],
            [
             0.3333333333333333,
             "#9c179e"
            ],
            [
             0.4444444444444444,
             "#bd3786"
            ],
            [
             0.5555555555555556,
             "#d8576b"
            ],
            [
             0.6666666666666666,
             "#ed7953"
            ],
            [
             0.7777777777777778,
             "#fb9f3a"
            ],
            [
             0.8888888888888888,
             "#fdca26"
            ],
            [
             1,
             "#f0f921"
            ]
           ],
           "sequentialminus": [
            [
             0,
             "#0d0887"
            ],
            [
             0.1111111111111111,
             "#46039f"
            ],
            [
             0.2222222222222222,
             "#7201a8"
            ],
            [
             0.3333333333333333,
             "#9c179e"
            ],
            [
             0.4444444444444444,
             "#bd3786"
            ],
            [
             0.5555555555555556,
             "#d8576b"
            ],
            [
             0.6666666666666666,
             "#ed7953"
            ],
            [
             0.7777777777777778,
             "#fb9f3a"
            ],
            [
             0.8888888888888888,
             "#fdca26"
            ],
            [
             1,
             "#f0f921"
            ]
           ]
          },
          "colorway": [
           "#636efa",
           "#EF553B",
           "#00cc96",
           "#ab63fa",
           "#FFA15A",
           "#19d3f3",
           "#FF6692",
           "#B6E880",
           "#FF97FF",
           "#FECB52"
          ],
          "font": {
           "color": "#2a3f5f"
          },
          "geo": {
           "bgcolor": "white",
           "lakecolor": "white",
           "landcolor": "#E5ECF6",
           "showlakes": true,
           "showland": true,
           "subunitcolor": "white"
          },
          "hoverlabel": {
           "align": "left"
          },
          "hovermode": "closest",
          "mapbox": {
           "style": "light"
          },
          "paper_bgcolor": "white",
          "plot_bgcolor": "#E5ECF6",
          "polar": {
           "angularaxis": {
            "gridcolor": "white",
            "linecolor": "white",
            "ticks": ""
           },
           "bgcolor": "#E5ECF6",
           "radialaxis": {
            "gridcolor": "white",
            "linecolor": "white",
            "ticks": ""
           }
          },
          "scene": {
           "xaxis": {
            "backgroundcolor": "#E5ECF6",
            "gridcolor": "white",
            "gridwidth": 2,
            "linecolor": "white",
            "showbackground": true,
            "ticks": "",
            "zerolinecolor": "white"
           },
           "yaxis": {
            "backgroundcolor": "#E5ECF6",
            "gridcolor": "white",
            "gridwidth": 2,
            "linecolor": "white",
            "showbackground": true,
            "ticks": "",
            "zerolinecolor": "white"
           },
           "zaxis": {
            "backgroundcolor": "#E5ECF6",
            "gridcolor": "white",
            "gridwidth": 2,
            "linecolor": "white",
            "showbackground": true,
            "ticks": "",
            "zerolinecolor": "white"
           }
          },
          "shapedefaults": {
           "line": {
            "color": "#2a3f5f"
           }
          },
          "ternary": {
           "aaxis": {
            "gridcolor": "white",
            "linecolor": "white",
            "ticks": ""
           },
           "baxis": {
            "gridcolor": "white",
            "linecolor": "white",
            "ticks": ""
           },
           "bgcolor": "#E5ECF6",
           "caxis": {
            "gridcolor": "white",
            "linecolor": "white",
            "ticks": ""
           }
          },
          "title": {
           "x": 0.05
          },
          "xaxis": {
           "automargin": true,
           "gridcolor": "white",
           "linecolor": "white",
           "ticks": "",
           "title": {
            "standoff": 15
           },
           "zerolinecolor": "white",
           "zerolinewidth": 2
          },
          "yaxis": {
           "automargin": true,
           "gridcolor": "white",
           "linecolor": "white",
           "ticks": "",
           "title": {
            "standoff": 15
           },
           "zerolinecolor": "white",
           "zerolinewidth": 2
          }
         }
        },
        "xaxis": {
         "anchor": "y",
         "domain": [
          0,
          1
         ],
         "title": {
          "text": "AÑO"
         }
        },
        "yaxis": {
         "anchor": "x",
         "domain": [
          0,
          1
         ],
         "title": {
          "text": "SANCION"
         }
        }
       }
      },
      "text/html": [
       "<div>\n",
       "        \n",
       "        \n",
       "            <div id=\"ae0516f7-c5ed-4ccd-919e-3db2adfb44b4\" class=\"plotly-graph-div\" style=\"height:525px; width:100%;\"></div>\n",
       "            <script type=\"text/javascript\">\n",
       "                require([\"plotly\"], function(Plotly) {\n",
       "                    window.PLOTLYENV=window.PLOTLYENV || {};\n",
       "                    \n",
       "                if (document.getElementById(\"ae0516f7-c5ed-4ccd-919e-3db2adfb44b4\")) {\n",
       "                    Plotly.newPlot(\n",
       "                        'ae0516f7-c5ed-4ccd-919e-3db2adfb44b4',\n",
       "                        [{\"alignmentgroup\": \"True\", \"hovertemplate\": \"UBICACION_GEOGRAFICA=COMUNA 10<br>A\\u00d1O=%{x}<br>SANCION=%{y}<extra></extra>\", \"legendgroup\": \"COMUNA 10\", \"marker\": {\"color\": \"#636efa\"}, \"name\": \"COMUNA 10\", \"offsetgroup\": \"COMUNA 10\", \"orientation\": \"v\", \"showlegend\": true, \"textposition\": \"auto\", \"type\": \"bar\", \"x\": [2017, 2016, 2011, 2018, 2013, 2012, 2015, 2014, 2019], \"xaxis\": \"x\", \"y\": [288000.0, 358621.0, 4041091.0, 4423160.0, 5191485.0, 6404320.0, 9031933.0, 14236300.0, 38849910.0], \"yaxis\": \"y\"}, {\"alignmentgroup\": \"True\", \"hovertemplate\": \"UBICACION_GEOGRAFICA=COMUNA 11<br>A\\u00d1O=%{x}<br>SANCION=%{y}<extra></extra>\", \"legendgroup\": \"COMUNA 11\", \"marker\": {\"color\": \"#EF553B\"}, \"name\": \"COMUNA 11\", \"offsetgroup\": \"COMUNA 11\", \"orientation\": \"v\", \"showlegend\": true, \"textposition\": \"auto\", \"type\": \"bar\", \"x\": [2016, 2018, 2017, 2011, 2019, 2012, 2013, 2014, 2015], \"xaxis\": \"x\", \"y\": [358621.0, 2245430.0, 3125916.0, 3357126.0, 4790279.0, 6818835.0, 8834906.0, 14236300.0, 14439283.0], \"yaxis\": \"y\"}, {\"alignmentgroup\": \"True\", \"hovertemplate\": \"UBICACION_GEOGRAFICA=COMUNA 5<br>A\\u00d1O=%{x}<br>SANCION=%{y}<extra></extra>\", \"legendgroup\": \"COMUNA 5\", \"marker\": {\"color\": \"#00cc96\"}, \"name\": \"COMUNA 5\", \"offsetgroup\": \"COMUNA 5\", \"orientation\": \"v\", \"showlegend\": true, \"textposition\": \"auto\", \"type\": \"bar\", \"x\": [2016, 2011, 2015, 2013, 2012, 2017, 2018, 2019, 2014], \"xaxis\": \"x\", \"y\": [717242.0, 2506366.0, 2677533.0, 2759967.0, 4106099.0, 6725916.0, 7597820.0, 8824048.0, 14256300.0], \"yaxis\": \"y\"}, {\"alignmentgroup\": \"True\", \"hovertemplate\": \"UBICACION_GEOGRAFICA=COMUNA 8<br>A\\u00d1O=%{x}<br>SANCION=%{y}<extra></extra>\", \"legendgroup\": \"COMUNA 8\", \"marker\": {\"color\": \"#ab63fa\"}, \"name\": \"COMUNA 8\", \"offsetgroup\": \"COMUNA 8\", \"orientation\": \"v\", \"showlegend\": true, \"textposition\": \"auto\", \"type\": \"bar\", \"x\": [2017, 2016, 2018, 2011, 2015, 2014, 2012, 2013, 2019], \"xaxis\": \"x\", \"y\": [752002.0, 3265354.0, 10815070.0, 11433311.0, 20549283.0, 25906800.0, 27352340.0, 29264293.0, 43885886.0], \"yaxis\": \"y\"}, {\"alignmentgroup\": \"True\", \"hovertemplate\": \"UBICACION_GEOGRAFICA=COMUNA 14<br>A\\u00d1O=%{x}<br>SANCION=%{y}<extra></extra>\", \"legendgroup\": \"COMUNA 14\", \"marker\": {\"color\": \"#FFA15A\"}, \"name\": \"COMUNA 14\", \"offsetgroup\": \"COMUNA 14\", \"orientation\": \"v\", \"showlegend\": true, \"textposition\": \"auto\", \"type\": \"bar\", \"x\": [2010, 2012, 2011, 2013, 2014, 2015, 2016, 2019, 2018, 2017], \"xaxis\": \"x\", \"y\": [1400000.0, 18606574.0, 19527989.0, 25637586.0, 41432647.0, 94621559.0, 123591476.0, 184815781.0, 199629904.0, 234894803.0], \"yaxis\": \"y\"}, {\"alignmentgroup\": \"True\", \"hovertemplate\": \"UBICACION_GEOGRAFICA=COMUNA 3<br>A\\u00d1O=%{x}<br>SANCION=%{y}<extra></extra>\", \"legendgroup\": \"COMUNA 3\", \"marker\": {\"color\": \"#19d3f3\"}, \"name\": \"COMUNA 3\", \"offsetgroup\": \"COMUNA 3\", \"orientation\": \"v\", \"showlegend\": true, \"textposition\": \"auto\", \"type\": \"bar\", \"x\": [2012, 2016, 2013, 2011, 2015, 2018, 2017, 2014, 2019], \"xaxis\": \"x\", \"y\": [1409086.0, 2016884.0, 2255674.0, 2506366.0, 4571633.0, 5422188.0, 7191458.0, 14261300.0, 42376813.0], \"yaxis\": \"y\"}, {\"alignmentgroup\": \"True\", \"hovertemplate\": \"UBICACION_GEOGRAFICA=COMUNA 6<br>A\\u00d1O=%{x}<br>SANCION=%{y}<extra></extra>\", \"legendgroup\": \"COMUNA 6\", \"marker\": {\"color\": \"#FF6692\"}, \"name\": \"COMUNA 6\", \"offsetgroup\": \"COMUNA 6\", \"orientation\": \"v\", \"showlegend\": true, \"textposition\": \"auto\", \"type\": \"bar\", \"x\": [2011, 2012, 2016, 2013, 2015, 2014, 2017, 2018, 2019], \"xaxis\": \"x\", \"y\": [2506366.0, 8318049.0, 9589567.0, 10008073.0, 13477316.0, 14415300.0, 18919833.0, 40180008.0, 72378735.0], \"yaxis\": \"y\"}, {\"alignmentgroup\": \"True\", \"hovertemplate\": \"UBICACION_GEOGRAFICA=COMUNA 2<br>A\\u00d1O=%{x}<br>SANCION=%{y}<extra></extra>\", \"legendgroup\": \"COMUNA 2\", \"marker\": {\"color\": \"#B6E880\"}, \"name\": \"COMUNA 2\", \"offsetgroup\": \"COMUNA 2\", \"orientation\": \"v\", \"showlegend\": true, \"textposition\": \"auto\", \"type\": \"bar\", \"x\": [2011, 2016, 2017, 2012, 2013, 2018, 2014, 2015, 2019], \"xaxis\": \"x\", \"y\": [2506366.0, 3048276.0, 5000000.0, 6581970.0, 10630954.0, 13180620.0, 14256300.0, 17555383.0, 47223095.0], \"yaxis\": \"y\"}, {\"alignmentgroup\": \"True\", \"hovertemplate\": \"UBICACION_GEOGRAFICA=COMUNA 15<br>A\\u00d1O=%{x}<br>SANCION=%{y}<extra></extra>\", \"legendgroup\": \"COMUNA 15\", \"marker\": {\"color\": \"#FF97FF\"}, \"name\": \"COMUNA 15\", \"offsetgroup\": \"COMUNA 15\", \"orientation\": \"v\", \"showlegend\": true, \"textposition\": \"auto\", \"type\": \"bar\", \"x\": [2011, 2012, 2014, 2015, 2013, 2016, 2017, 2018, 2019], \"xaxis\": \"x\", \"y\": [3357126.0, 5780012.0, 14588827.0, 14653133.0, 20831082.0, 35750817.0, 67839794.0, 68863620.0, 93436001.0], \"yaxis\": \"y\"}, {\"alignmentgroup\": \"True\", \"hovertemplate\": \"UBICACION_GEOGRAFICA=COMUNA 12<br>A\\u00d1O=%{x}<br>SANCION=%{y}<extra></extra>\", \"legendgroup\": \"COMUNA 12\", \"marker\": {\"color\": \"#FECB52\"}, \"name\": \"COMUNA 12\", \"offsetgroup\": \"COMUNA 12\", \"orientation\": \"v\", \"showlegend\": true, \"textposition\": \"auto\", \"type\": \"bar\", \"x\": [2011, 2012, 2014, 2013, 2015, 2016, 2017, 2018, 2019], \"xaxis\": \"x\", \"y\": [3357126.0, 8343438.0, 14236300.0, 18468298.0, 21740733.0, 27889099.0, 38014427.0, 47496266.0, 59492271.0], \"yaxis\": \"y\"}, {\"alignmentgroup\": \"True\", \"hovertemplate\": \"UBICACION_GEOGRAFICA=COMUNA 7<br>A\\u00d1O=%{x}<br>SANCION=%{y}<extra></extra>\", \"legendgroup\": \"COMUNA 7\", \"marker\": {\"color\": \"#636efa\"}, \"name\": \"COMUNA 7\", \"offsetgroup\": \"COMUNA 7\", \"orientation\": \"v\", \"showlegend\": true, \"textposition\": \"auto\", \"type\": \"bar\", \"x\": [2011, 2012, 2014, 2016, 2013, 2015, 2017, 2018, 2019], \"xaxis\": \"x\", \"y\": [4041091.0, 11814303.0, 14241300.0, 16640953.0, 23515684.0, 28834033.0, 39834514.0, 41510062.0, 68213428.0], \"yaxis\": \"y\"}, {\"alignmentgroup\": \"True\", \"hovertemplate\": \"UBICACION_GEOGRAFICA=COMUNA 4<br>A\\u00d1O=%{x}<br>SANCION=%{y}<extra></extra>\", \"legendgroup\": \"COMUNA 4\", \"marker\": {\"color\": \"#EF553B\"}, \"name\": \"COMUNA 4\", \"offsetgroup\": \"COMUNA 4\", \"orientation\": \"v\", \"showlegend\": true, \"textposition\": \"auto\", \"type\": \"bar\", \"x\": [2018, 2011, 2012, 2017, 2014, 2013, 2016, 2015, 2019], \"xaxis\": \"x\", \"y\": [5487340.0, 7097918.0, 11364805.0, 11439658.0, 14261300.0, 18858723.0, 24372650.0, 25009583.0, 143107034.0], \"yaxis\": \"y\"}, {\"alignmentgroup\": \"True\", \"hovertemplate\": \"UBICACION_GEOGRAFICA=COMUNA 9<br>A\\u00d1O=%{x}<br>SANCION=%{y}<extra></extra>\", \"legendgroup\": \"COMUNA 9\", \"marker\": {\"color\": \"#00cc96\"}, \"name\": \"COMUNA 9\", \"offsetgroup\": \"COMUNA 9\", \"orientation\": \"v\", \"showlegend\": true, \"textposition\": \"auto\", \"type\": \"bar\", \"x\": [2011, 2015, 2013, 2016, 2014, 2012, 2017, 2018, 2019], \"xaxis\": \"x\", \"y\": [5679141.0, 10645167.0, 12326941.0, 14242118.0, 14938300.0, 29249610.0, 38094114.0, 42484011.0, 66794573.0], \"yaxis\": \"y\"}, {\"alignmentgroup\": \"True\", \"hovertemplate\": \"UBICACION_GEOGRAFICA=COMUNA 13<br>A\\u00d1O=%{x}<br>SANCION=%{y}<extra></extra>\", \"legendgroup\": \"COMUNA 13\", \"marker\": {\"color\": \"#ab63fa\"}, \"name\": \"COMUNA 13\", \"offsetgroup\": \"COMUNA 13\", \"orientation\": \"v\", \"showlegend\": true, \"textposition\": \"auto\", \"type\": \"bar\", \"x\": [2011, 2013, 2012, 2014, 2016, 2015, 2017, 2018, 2019], \"xaxis\": \"x\", \"y\": [9699505.0, 11315877.0, 13078107.0, 14358300.0, 26513349.0, 39332587.0, 58439089.0, 95083050.0, 106052286.0], \"yaxis\": \"y\"}, {\"alignmentgroup\": \"True\", \"hovertemplate\": \"UBICACION_GEOGRAFICA=COMUNA 1<br>A\\u00d1O=%{x}<br>SANCION=%{y}<extra></extra>\", \"legendgroup\": \"COMUNA 1\", \"marker\": {\"color\": \"#FFA15A\"}, \"name\": \"COMUNA 1\", \"offsetgroup\": \"COMUNA 1\", \"orientation\": \"v\", \"showlegend\": true, \"textposition\": \"auto\", \"type\": \"bar\", \"x\": [2012, 2010, 2014, 2011, 2013, 2015, 2016, 2017, 2018, 2019], \"xaxis\": \"x\", \"y\": [63397083.0, 76868026.0, 82934846.0, 100422622.0, 106809673.0, 155008553.0, 284455961.0, 317506684.0, 416214329.0, 473207692.0], \"yaxis\": \"y\"}, {\"alignmentgroup\": \"True\", \"hovertemplate\": \"UBICACION_GEOGRAFICA=A CLASIFICAR<br>A\\u00d1O=%{x}<br>SANCION=%{y}<extra></extra>\", \"legendgroup\": \"A CLASIFICAR\", \"marker\": {\"color\": \"#19d3f3\"}, \"name\": \"A CLASIFICAR\", \"offsetgroup\": \"A CLASIFICAR\", \"orientation\": \"v\", \"showlegend\": true, \"textposition\": \"auto\", \"type\": \"bar\", \"x\": [2010], \"xaxis\": \"x\", \"y\": [68400000.0], \"yaxis\": \"y\"}],\n",
       "                        {\"barmode\": \"relative\", \"legend\": {\"title\": {\"text\": \"UBICACION_GEOGRAFICA\"}, \"tracegroupgap\": 0}, \"margin\": {\"t\": 60}, \"template\": {\"data\": {\"bar\": [{\"error_x\": {\"color\": \"#2a3f5f\"}, \"error_y\": {\"color\": \"#2a3f5f\"}, \"marker\": {\"line\": {\"color\": \"#E5ECF6\", \"width\": 0.5}}, \"type\": \"bar\"}], \"barpolar\": [{\"marker\": {\"line\": {\"color\": \"#E5ECF6\", \"width\": 0.5}}, \"type\": \"barpolar\"}], \"carpet\": [{\"aaxis\": {\"endlinecolor\": \"#2a3f5f\", \"gridcolor\": \"white\", \"linecolor\": \"white\", \"minorgridcolor\": \"white\", \"startlinecolor\": \"#2a3f5f\"}, \"baxis\": {\"endlinecolor\": \"#2a3f5f\", \"gridcolor\": \"white\", \"linecolor\": \"white\", \"minorgridcolor\": \"white\", \"startlinecolor\": \"#2a3f5f\"}, \"type\": \"carpet\"}], \"choropleth\": [{\"colorbar\": {\"outlinewidth\": 0, \"ticks\": \"\"}, \"type\": \"choropleth\"}], \"contour\": [{\"colorbar\": {\"outlinewidth\": 0, \"ticks\": \"\"}, \"colorscale\": [[0.0, \"#0d0887\"], [0.1111111111111111, \"#46039f\"], [0.2222222222222222, \"#7201a8\"], [0.3333333333333333, \"#9c179e\"], [0.4444444444444444, \"#bd3786\"], [0.5555555555555556, \"#d8576b\"], [0.6666666666666666, \"#ed7953\"], [0.7777777777777778, \"#fb9f3a\"], [0.8888888888888888, \"#fdca26\"], [1.0, \"#f0f921\"]], \"type\": \"contour\"}], \"contourcarpet\": [{\"colorbar\": {\"outlinewidth\": 0, \"ticks\": \"\"}, \"type\": \"contourcarpet\"}], \"heatmap\": [{\"colorbar\": {\"outlinewidth\": 0, \"ticks\": \"\"}, \"colorscale\": [[0.0, \"#0d0887\"], [0.1111111111111111, \"#46039f\"], [0.2222222222222222, \"#7201a8\"], [0.3333333333333333, \"#9c179e\"], [0.4444444444444444, \"#bd3786\"], [0.5555555555555556, \"#d8576b\"], [0.6666666666666666, \"#ed7953\"], [0.7777777777777778, \"#fb9f3a\"], [0.8888888888888888, \"#fdca26\"], [1.0, \"#f0f921\"]], \"type\": \"heatmap\"}], \"heatmapgl\": [{\"colorbar\": {\"outlinewidth\": 0, \"ticks\": \"\"}, \"colorscale\": [[0.0, \"#0d0887\"], [0.1111111111111111, \"#46039f\"], [0.2222222222222222, \"#7201a8\"], [0.3333333333333333, \"#9c179e\"], [0.4444444444444444, \"#bd3786\"], [0.5555555555555556, \"#d8576b\"], [0.6666666666666666, \"#ed7953\"], [0.7777777777777778, \"#fb9f3a\"], [0.8888888888888888, \"#fdca26\"], [1.0, \"#f0f921\"]], \"type\": \"heatmapgl\"}], \"histogram\": [{\"marker\": {\"colorbar\": {\"outlinewidth\": 0, \"ticks\": \"\"}}, \"type\": \"histogram\"}], \"histogram2d\": [{\"colorbar\": {\"outlinewidth\": 0, \"ticks\": \"\"}, \"colorscale\": [[0.0, \"#0d0887\"], [0.1111111111111111, \"#46039f\"], [0.2222222222222222, \"#7201a8\"], [0.3333333333333333, \"#9c179e\"], [0.4444444444444444, \"#bd3786\"], [0.5555555555555556, \"#d8576b\"], [0.6666666666666666, \"#ed7953\"], [0.7777777777777778, \"#fb9f3a\"], [0.8888888888888888, \"#fdca26\"], [1.0, \"#f0f921\"]], \"type\": \"histogram2d\"}], \"histogram2dcontour\": [{\"colorbar\": {\"outlinewidth\": 0, \"ticks\": \"\"}, \"colorscale\": [[0.0, \"#0d0887\"], [0.1111111111111111, \"#46039f\"], [0.2222222222222222, \"#7201a8\"], [0.3333333333333333, \"#9c179e\"], [0.4444444444444444, \"#bd3786\"], [0.5555555555555556, \"#d8576b\"], [0.6666666666666666, \"#ed7953\"], [0.7777777777777778, \"#fb9f3a\"], [0.8888888888888888, \"#fdca26\"], [1.0, \"#f0f921\"]], \"type\": \"histogram2dcontour\"}], \"mesh3d\": [{\"colorbar\": {\"outlinewidth\": 0, \"ticks\": \"\"}, \"type\": \"mesh3d\"}], \"parcoords\": [{\"line\": {\"colorbar\": {\"outlinewidth\": 0, \"ticks\": \"\"}}, \"type\": \"parcoords\"}], \"pie\": [{\"automargin\": true, \"type\": \"pie\"}], \"scatter\": [{\"marker\": {\"colorbar\": {\"outlinewidth\": 0, \"ticks\": \"\"}}, \"type\": \"scatter\"}], \"scatter3d\": [{\"line\": {\"colorbar\": {\"outlinewidth\": 0, \"ticks\": \"\"}}, \"marker\": {\"colorbar\": {\"outlinewidth\": 0, \"ticks\": \"\"}}, \"type\": \"scatter3d\"}], \"scattercarpet\": [{\"marker\": {\"colorbar\": {\"outlinewidth\": 0, \"ticks\": \"\"}}, \"type\": \"scattercarpet\"}], \"scattergeo\": [{\"marker\": {\"colorbar\": {\"outlinewidth\": 0, \"ticks\": \"\"}}, \"type\": \"scattergeo\"}], \"scattergl\": [{\"marker\": {\"colorbar\": {\"outlinewidth\": 0, \"ticks\": \"\"}}, \"type\": \"scattergl\"}], \"scattermapbox\": [{\"marker\": {\"colorbar\": {\"outlinewidth\": 0, \"ticks\": \"\"}}, \"type\": \"scattermapbox\"}], \"scatterpolar\": [{\"marker\": {\"colorbar\": {\"outlinewidth\": 0, \"ticks\": \"\"}}, \"type\": \"scatterpolar\"}], \"scatterpolargl\": [{\"marker\": {\"colorbar\": {\"outlinewidth\": 0, \"ticks\": \"\"}}, \"type\": \"scatterpolargl\"}], \"scatterternary\": [{\"marker\": {\"colorbar\": {\"outlinewidth\": 0, \"ticks\": \"\"}}, \"type\": \"scatterternary\"}], \"surface\": [{\"colorbar\": {\"outlinewidth\": 0, \"ticks\": \"\"}, \"colorscale\": [[0.0, \"#0d0887\"], [0.1111111111111111, \"#46039f\"], [0.2222222222222222, \"#7201a8\"], [0.3333333333333333, \"#9c179e\"], [0.4444444444444444, \"#bd3786\"], [0.5555555555555556, \"#d8576b\"], [0.6666666666666666, \"#ed7953\"], [0.7777777777777778, \"#fb9f3a\"], [0.8888888888888888, \"#fdca26\"], [1.0, \"#f0f921\"]], \"type\": \"surface\"}], \"table\": [{\"cells\": {\"fill\": {\"color\": \"#EBF0F8\"}, \"line\": {\"color\": \"white\"}}, \"header\": {\"fill\": {\"color\": \"#C8D4E3\"}, \"line\": {\"color\": \"white\"}}, \"type\": \"table\"}]}, \"layout\": {\"annotationdefaults\": {\"arrowcolor\": \"#2a3f5f\", \"arrowhead\": 0, \"arrowwidth\": 1}, \"coloraxis\": {\"colorbar\": {\"outlinewidth\": 0, \"ticks\": \"\"}}, \"colorscale\": {\"diverging\": [[0, \"#8e0152\"], [0.1, \"#c51b7d\"], [0.2, \"#de77ae\"], [0.3, \"#f1b6da\"], [0.4, \"#fde0ef\"], [0.5, \"#f7f7f7\"], [0.6, \"#e6f5d0\"], [0.7, \"#b8e186\"], [0.8, \"#7fbc41\"], [0.9, \"#4d9221\"], [1, \"#276419\"]], \"sequential\": [[0.0, \"#0d0887\"], [0.1111111111111111, \"#46039f\"], [0.2222222222222222, \"#7201a8\"], [0.3333333333333333, \"#9c179e\"], [0.4444444444444444, \"#bd3786\"], [0.5555555555555556, \"#d8576b\"], [0.6666666666666666, \"#ed7953\"], [0.7777777777777778, \"#fb9f3a\"], [0.8888888888888888, \"#fdca26\"], [1.0, \"#f0f921\"]], \"sequentialminus\": [[0.0, \"#0d0887\"], [0.1111111111111111, \"#46039f\"], [0.2222222222222222, \"#7201a8\"], [0.3333333333333333, \"#9c179e\"], [0.4444444444444444, \"#bd3786\"], [0.5555555555555556, \"#d8576b\"], [0.6666666666666666, \"#ed7953\"], [0.7777777777777778, \"#fb9f3a\"], [0.8888888888888888, \"#fdca26\"], [1.0, \"#f0f921\"]]}, \"colorway\": [\"#636efa\", \"#EF553B\", \"#00cc96\", \"#ab63fa\", \"#FFA15A\", \"#19d3f3\", \"#FF6692\", \"#B6E880\", \"#FF97FF\", \"#FECB52\"], \"font\": {\"color\": \"#2a3f5f\"}, \"geo\": {\"bgcolor\": \"white\", \"lakecolor\": \"white\", \"landcolor\": \"#E5ECF6\", \"showlakes\": true, \"showland\": true, \"subunitcolor\": \"white\"}, \"hoverlabel\": {\"align\": \"left\"}, \"hovermode\": \"closest\", \"mapbox\": {\"style\": \"light\"}, \"paper_bgcolor\": \"white\", \"plot_bgcolor\": \"#E5ECF6\", \"polar\": {\"angularaxis\": {\"gridcolor\": \"white\", \"linecolor\": \"white\", \"ticks\": \"\"}, \"bgcolor\": \"#E5ECF6\", \"radialaxis\": {\"gridcolor\": \"white\", \"linecolor\": \"white\", \"ticks\": \"\"}}, \"scene\": {\"xaxis\": {\"backgroundcolor\": \"#E5ECF6\", \"gridcolor\": \"white\", \"gridwidth\": 2, \"linecolor\": \"white\", \"showbackground\": true, \"ticks\": \"\", \"zerolinecolor\": \"white\"}, \"yaxis\": {\"backgroundcolor\": \"#E5ECF6\", \"gridcolor\": \"white\", \"gridwidth\": 2, \"linecolor\": \"white\", \"showbackground\": true, \"ticks\": \"\", \"zerolinecolor\": \"white\"}, \"zaxis\": {\"backgroundcolor\": \"#E5ECF6\", \"gridcolor\": \"white\", \"gridwidth\": 2, \"linecolor\": \"white\", \"showbackground\": true, \"ticks\": \"\", \"zerolinecolor\": \"white\"}}, \"shapedefaults\": {\"line\": {\"color\": \"#2a3f5f\"}}, \"ternary\": {\"aaxis\": {\"gridcolor\": \"white\", \"linecolor\": \"white\", \"ticks\": \"\"}, \"baxis\": {\"gridcolor\": \"white\", \"linecolor\": \"white\", \"ticks\": \"\"}, \"bgcolor\": \"#E5ECF6\", \"caxis\": {\"gridcolor\": \"white\", \"linecolor\": \"white\", \"ticks\": \"\"}}, \"title\": {\"x\": 0.05}, \"xaxis\": {\"automargin\": true, \"gridcolor\": \"white\", \"linecolor\": \"white\", \"ticks\": \"\", \"title\": {\"standoff\": 15}, \"zerolinecolor\": \"white\", \"zerolinewidth\": 2}, \"yaxis\": {\"automargin\": true, \"gridcolor\": \"white\", \"linecolor\": \"white\", \"ticks\": \"\", \"title\": {\"standoff\": 15}, \"zerolinecolor\": \"white\", \"zerolinewidth\": 2}}}, \"xaxis\": {\"anchor\": \"y\", \"domain\": [0.0, 1.0], \"title\": {\"text\": \"A\\u00d1O\"}}, \"yaxis\": {\"anchor\": \"x\", \"domain\": [0.0, 1.0], \"title\": {\"text\": \"SANCION\"}}},\n",
       "                        {\"responsive\": true}\n",
       "                    ).then(function(){\n",
       "                            \n",
       "var gd = document.getElementById('ae0516f7-c5ed-4ccd-919e-3db2adfb44b4');\n",
       "var x = new MutationObserver(function (mutations, observer) {{\n",
       "        var display = window.getComputedStyle(gd).display;\n",
       "        if (!display || display === 'none') {{\n",
       "            console.log([gd, 'removed!']);\n",
       "            Plotly.purge(gd);\n",
       "            observer.disconnect();\n",
       "        }}\n",
       "}});\n",
       "\n",
       "// Listen for the removal of the full notebook cells\n",
       "var notebookContainer = gd.closest('#notebook-container');\n",
       "if (notebookContainer) {{\n",
       "    x.observe(notebookContainer, {childList: true});\n",
       "}}\n",
       "\n",
       "// Listen for the clearing of the current output cell\n",
       "var outputEl = gd.closest('.output');\n",
       "if (outputEl) {{\n",
       "    x.observe(outputEl, {childList: true});\n",
       "}}\n",
       "\n",
       "                        })\n",
       "                };\n",
       "                });\n",
       "            </script>\n",
       "        </div>"
      ]
     },
     "metadata": {},
     "output_type": "display_data"
    }
   ],
   "source": [
    "fig = px.bar(sancion_espacios_verdes, x=\"AÑO\", y=\"SANCION\", color=\"UBICACION_GEOGRAFICA\", title=\"\")\n",
    "fig.show()"
   ]
  },
  {
   "cell_type": "code",
   "execution_count": 104,
   "metadata": {},
   "outputs": [
    {
     "data": {
      "text/plain": [
       "<matplotlib.axes._subplots.AxesSubplot at 0x2740707d2e8>"
      ]
     },
     "execution_count": 104,
     "metadata": {},
     "output_type": "execute_result"
    },
    {
     "data": {
      "image/png": "[encoded data removed]",
      "text/plain": [
       "<Figure size 432x288 with 1 Axes>"
      ]
     },
     "metadata": {
      "needs_background": "light"
     },
     "output_type": "display_data"
    }
   ],
   "source": [
    "sancion_espacios_verdes = espacios_verdes.groupby('AÑO').agg({'SANCION': 'sum'})['SANCION']\n",
    "sancion_espacios_verdes.plot(kind='bar')"
   ]
  },
  {
   "cell_type": "code",
   "execution_count": 107,
   "metadata": {},
   "outputs": [
    {
     "data": {
      "text/plain": [
       "<matplotlib.axes._subplots.AxesSubplot at 0x27406e23940>"
      ]
     },
     "execution_count": 107,
     "metadata": {},
     "output_type": "execute_result"
    },
    {
     "data": {
      "image/png": "[encoded data removed]",
      "text/plain": [
       "<Figure size 432x288 with 1 Axes>"
      ]
     },
     "metadata": {
      "needs_background": "light"
     },
     "output_type": "display_data"
    }
   ],
   "source": [
    "inflacion = pd.Series([0.239, 0.183, 0.218, 0.266, 0.38, 0.269, 0.41, 0.261, 0.455, 0.506,\n",
    "#                        0.448\n",
    "                      ])\n",
    "inflacion.index = sancion_espacios_verdes.index\n",
    "inflacion.plot(kind='bar')"
   ]
  },
  {
   "cell_type": "code",
   "execution_count": 108,
   "metadata": {},
   "outputs": [
    {
     "data": {
      "text/plain": [
       "<matplotlib.axes._subplots.AxesSubplot at 0x274061ca898>"
      ]
     },
     "execution_count": 108,
     "metadata": {},
     "output_type": "execute_result"
    },
    {
     "data": {
      "image/png": "[encoded data removed]",
      "text/plain": [
       "<Figure size 432x288 with 1 Axes>"
      ]
     },
     "metadata": {
      "needs_background": "light"
     },
     "output_type": "display_data"
    }
   ],
   "source": [
    "dolar = pd.Series([4, 4.3, 5, 6.5, 8.6, 13.4, 16.3, 19, 38.9, 63.35,\n",
    "#                    83.7\n",
    "                  ])\n",
    "dolar.index = sancion_espacios_verdes.index\n",
    "dolar.plot(kind='bar')"
   ]
  },
  {
   "cell_type": "code",
   "execution_count": 109,
   "metadata": {},
   "outputs": [
    {
     "data": {
      "text/plain": [
       "<matplotlib.axes._subplots.AxesSubplot at 0x274073df4a8>"
      ]
     },
     "execution_count": 109,
     "metadata": {},
     "output_type": "execute_result"
    },
    {
     "data": {
      "image/png": "[encoded data removed]",
      "text/plain": [
       "<Figure size 432x288 with 1 Axes>"
      ]
     },
     "metadata": {
      "needs_background": "light"
     },
     "output_type": "display_data"
    }
   ],
   "source": [
    "(sancion_espacios_verdes / dolar).plot(kind='bar')"
   ]
  },
  {
   "cell_type": "code",
   "execution_count": 110,
   "metadata": {},
   "outputs": [
    {
     "data": {
      "text/plain": [
       "<matplotlib.axes._subplots.AxesSubplot at 0x274076b9ba8>"
      ]
     },
     "execution_count": 110,
     "metadata": {},
     "output_type": "execute_result"
    },
    {
     "data": {
      "image/png": "[encoded data removed]",
      "text/plain": [
       "<Figure size 432x288 with 1 Axes>"
      ]
     },
     "metadata": {
      "needs_background": "light"
     },
     "output_type": "display_data"
    }
   ],
   "source": [
    "(sancion_espacios_verdes + sancion_espacios_verdes * inflacion).plot(kind='bar')"
   ]
  },
  {
   "cell_type": "code",
   "execution_count": 111,
   "metadata": {},
   "outputs": [
    {
     "data": {
      "text/plain": [
       "<matplotlib.axes._subplots.AxesSubplot at 0x27407ed6e80>"
      ]
     },
     "execution_count": 111,
     "metadata": {},
     "output_type": "execute_result"
    },
    {
     "data": {
      "image/png": "[encoded data removed]",
      "text/plain": [
       "<Figure size 432x288 with 1 Axes>"
      ]
     },
     "metadata": {
      "needs_background": "light"
     },
     "output_type": "display_data"
    }
   ],
   "source": [
    "((sancion_espacios_verdes / sancion_espacios_verdes.shift()) - inflacion).plot(kind='bar')"
   ]
  },
  {
   "attachments": {
    "image.png": {
     "image/png": "[encoded data removed]"
    }
   },
   "cell_type": "markdown",
   "metadata": {},
   "source": [
    "![image.png](attachment:image.png)"
   ]
  },
  {
   "cell_type": "markdown",
   "metadata": {},
   "source": [
    "7. Conceptos en acción: Las obras en la Ciudad 103\n",
    "\n",
    "Grandes Parques Urbanos 107\n",
    "\n",
    "Centro de Exposiciones y Convenciones (CEC) 108\n",
    "\n",
    "Ciudad del Rock y Teatro Polo Circo 116\n",
    "\n",
    "Arena Parque Roca 122\n",
    "\n",
    "Desarrollo paisajístico de la Nueva Costanera Rafael Obligado 126\n",
    "\n",
    "Parque Costanera Norte Punta Carrasco 130\n",
    "\n",
    "Desarrollo urbano-paisajístico Barrio Parque Donado-Holmberg 134\n",
    "\n",
    "Villa Olímpica 138\n",
    "\n",
    "Cuenco regulador y puesta en valor del Parque Sarmiento 148\n",
    "\n",
    "Cuenco regulador y puesta en valor del Parque Saavedra 152\n",
    "\n",
    "Nuevos Espacios Verdes de Proximidad 155\n",
    "\n",
    "Plaza Monroe 156\n",
    "\n",
    "Nueva Plaza Villa Real 160\n",
    "\n",
    "Conectores Ambientales 165\n",
    "\n",
    "Bulevar Roosevelt 166\n",
    "\n",
    "Avenida Iriarte 170\n",
    "\n",
    "Soluciones viales: Lacroze, Olazábal-Superí, Donado-Holmberg y Constituyentes 174\n",
    "\n",
    "Parque Lineal de la Ribera del Riachuelo 182\n",
    "\n",
    "Parque Lineal Beiró 188\n",
    "\n",
    "Bulevar Soldado de la Frontera, Lugano I y II 192\n",
    "\n",
    "Autopistas Verdes 196\n",
    "\n",
    "Terrazas Verdes 199\n",
    "\n",
    "Terrazas verdes en escuelas 200\n",
    "\n",
    "MAMBA (Museo de Arte Moderno de Buenos Aires) 204\n",
    "\n",
    "NIDO (Núcleo de Inclusión y Desarrollo de Oportunidades) 208\n",
    "\n",
    "Edificio de la Comuna 12 214\n",
    "\n",
    "Macromanzanas y Plazas Integradas 217\n",
    "\n",
    "Prioridad Peatón - Macromanzana Área Central 218\n",
    "\n",
    "Macromanzana - Plaza Integrada Manuel Belgrano"
   ]
  },
  {
   "cell_type": "code",
   "execution_count": null,
   "metadata": {},
   "outputs": [],
   "source": []
  }
 ],
 "metadata": {
  "kernelspec": {
   "display_name": "Python 3",
   "language": "python",
   "name": "python3"
  },
  "language_info": {
   "codemirror_mode": {
    "name": "ipython",
    "version": 3
   },
   "file_extension": ".py",
   "mimetype": "text/x-python",
   "name": "python",
   "nbconvert_exporter": "python",
   "pygments_lexer": "ipython3",
   "version": "3.7.1"
  },
  "toc": {
   "base_numbering": 1,
   "nav_menu": {},
   "number_sections": false,
   "sideBar": true,
   "skip_h1_title": false,
   "title_cell": "Table of Contents",
   "title_sidebar": "Contents",
   "toc_cell": false,
   "toc_position": {},
   "toc_section_display": true,
   "toc_window_display": false
  }
 },
 "nbformat": 4,
 "nbformat_minor": 2
}
