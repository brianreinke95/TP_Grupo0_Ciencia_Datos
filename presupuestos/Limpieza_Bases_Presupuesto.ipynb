{
 "cells": [
  {
   "cell_type": "code",
   "execution_count": 1,
   "metadata": {},
   "outputs": [],
   "source": [
    "import pandas as pd\n",
    "import glob\n",
    "import os\n",
    "import re\n",
    "import numpy as np"
   ]
  },
  {
   "cell_type": "code",
   "execution_count": 2,
   "metadata": {},
   "outputs": [
    {
     "name": "stderr",
     "output_type": "stream",
     "text": [
      "C:\\Users\\brian\\AppData\\Roaming\\Python\\Python37\\site-packages\\statsmodels\\tools\\_testing.py:19: FutureWarning: pandas.util.testing is deprecated. Use the functions in the public API at pandas.testing instead.\n",
      "  import pandas.util.testing as tm\n"
     ]
    }
   ],
   "source": [
    "import seaborn as sns"
   ]
  },
  {
   "cell_type": "code",
   "execution_count": 3,
   "metadata": {},
   "outputs": [
    {
     "data": {
      "text/html": [
       "<style>.container { width:80% !important; }</style>"
      ],
      "text/plain": [
       "<IPython.core.display.HTML object>"
      ]
     },
     "metadata": {},
     "output_type": "display_data"
    }
   ],
   "source": [
    "from IPython.core.display import display, HTML\n",
    "display(HTML(\"<style>.container { width:80% !important; }</style>\"))  # Agranda el ancho de la ventana."
   ]
  },
  {
   "cell_type": "code",
   "execution_count": 4,
   "metadata": {},
   "outputs": [],
   "source": [
    "import warnings\n",
    "warnings.filterwarnings('ignore') \n",
    "from IPython.core.interactiveshell import InteractiveShell\n",
    "InteractiveShell.ast_node_interactivity = \"all\"  \n",
    "pd.set_option('display.max_colwidth', -1)  \n",
    "pd.set_option('display.max_rows', 100)  \n",
    "pd.set_option('display.max_columns', 100) "
   ]
  },
  {
   "cell_type": "code",
   "execution_count": 5,
   "metadata": {},
   "outputs": [],
   "source": [
    "path_to_dir = r\"C:\\Brian\\Industrial Plan I07\\Ciencia de Datos\\Tp\\Presupuestos_Obras\\historico_presupuesto_separados_por_cuatrimestres/\""
   ]
  },
  {
   "cell_type": "code",
   "execution_count": 6,
   "metadata": {},
   "outputs": [],
   "source": [
    "path_to_file = path_to_dir + \"presupuesto-ejecutado-2020-segundo-trimestre.csv\""
   ]
  },
  {
   "cell_type": "code",
   "execution_count": 7,
   "metadata": {},
   "outputs": [],
   "source": [
    "all_paths = glob.glob(path_to_dir + \"*.csv\")"
   ]
  },
  {
   "cell_type": "code",
   "execution_count": 10,
   "metadata": {},
   "outputs": [
    {
     "data": {
      "text/plain": [
       "array(['cp1252'], dtype=object)"
      ]
     },
     "execution_count": 10,
     "metadata": {},
     "output_type": "execute_result"
    }
   ],
   "source": [
    "encodes = []\n",
    "for path in all_paths:\n",
    "    with open(path, 'a') as f:\n",
    "        encodes.append(f.encoding)\n",
    "pd.Series(encodes).unique()"
   ]
  },
  {
   "cell_type": "code",
   "execution_count": 16,
   "metadata": {
    "collapsed": true
   },
   "outputs": [
    {
     "name": "stdout",
     "output_type": "stream",
     "text": [
      "cp\n",
      "cp\n",
      "utf-8-sig\n"
     ]
    },
    {
     "ename": "ParserError",
     "evalue": "Error tokenizing data. C error: Expected 4 fields in line 3, saw 6\n",
     "output_type": "error",
     "traceback": [
      "\u001b[1;31m---------------------------------------------------------------------------\u001b[0m",
      "\u001b[1;31mUnicodeDecodeError\u001b[0m                        Traceback (most recent call last)",
      "\u001b[1;32m<ipython-input-16-3164368092be>\u001b[0m in \u001b[0;36m<module>\u001b[1;34m\u001b[0m\n\u001b[0;32m      3\u001b[0m         \u001b[0mprint\u001b[0m\u001b[1;33m(\u001b[0m\u001b[1;34m'cp'\u001b[0m\u001b[1;33m)\u001b[0m\u001b[1;33m\u001b[0m\u001b[1;33m\u001b[0m\u001b[0m\n\u001b[1;32m----> 4\u001b[1;33m         \u001b[0maux\u001b[0m \u001b[1;33m=\u001b[0m \u001b[0mpd\u001b[0m\u001b[1;33m.\u001b[0m\u001b[0mread_csv\u001b[0m\u001b[1;33m(\u001b[0m\u001b[0mfile\u001b[0m\u001b[1;33m,\u001b[0m \u001b[0msep\u001b[0m\u001b[1;33m=\u001b[0m\u001b[1;34m';'\u001b[0m\u001b[1;33m,\u001b[0m \u001b[0mencoding\u001b[0m\u001b[1;33m=\u001b[0m\u001b[1;34m'cp1252'\u001b[0m\u001b[1;33m)\u001b[0m\u001b[1;33m\u001b[0m\u001b[1;33m\u001b[0m\u001b[0m\n\u001b[0m\u001b[0;32m      5\u001b[0m     \u001b[1;32mexcept\u001b[0m\u001b[1;33m:\u001b[0m\u001b[1;33m\u001b[0m\u001b[1;33m\u001b[0m\u001b[0m\n",
      "\u001b[1;32m~\\Anaconda3\\lib\\site-packages\\pandas\\io\\parsers.py\u001b[0m in \u001b[0;36mread_csv\u001b[1;34m(filepath_or_buffer, sep, delimiter, header, names, index_col, usecols, squeeze, prefix, mangle_dupe_cols, dtype, engine, converters, true_values, false_values, skipinitialspace, skiprows, skipfooter, nrows, na_values, keep_default_na, na_filter, verbose, skip_blank_lines, parse_dates, infer_datetime_format, keep_date_col, date_parser, dayfirst, cache_dates, iterator, chunksize, compression, thousands, decimal, lineterminator, quotechar, quoting, doublequote, escapechar, comment, encoding, dialect, error_bad_lines, warn_bad_lines, delim_whitespace, low_memory, memory_map, float_precision)\u001b[0m\n\u001b[0;32m    685\u001b[0m \u001b[1;33m\u001b[0m\u001b[0m\n\u001b[1;32m--> 686\u001b[1;33m     \u001b[1;32mreturn\u001b[0m \u001b[0m_read\u001b[0m\u001b[1;33m(\u001b[0m\u001b[0mfilepath_or_buffer\u001b[0m\u001b[1;33m,\u001b[0m \u001b[0mkwds\u001b[0m\u001b[1;33m)\u001b[0m\u001b[1;33m\u001b[0m\u001b[1;33m\u001b[0m\u001b[0m\n\u001b[0m\u001b[0;32m    687\u001b[0m \u001b[1;33m\u001b[0m\u001b[0m\n",
      "\u001b[1;32m~\\Anaconda3\\lib\\site-packages\\pandas\\io\\parsers.py\u001b[0m in \u001b[0;36m_read\u001b[1;34m(filepath_or_buffer, kwds)\u001b[0m\n\u001b[0;32m    451\u001b[0m     \u001b[1;31m# Create the parser.\u001b[0m\u001b[1;33m\u001b[0m\u001b[1;33m\u001b[0m\u001b[1;33m\u001b[0m\u001b[0m\n\u001b[1;32m--> 452\u001b[1;33m     \u001b[0mparser\u001b[0m \u001b[1;33m=\u001b[0m \u001b[0mTextFileReader\u001b[0m\u001b[1;33m(\u001b[0m\u001b[0mfp_or_buf\u001b[0m\u001b[1;33m,\u001b[0m \u001b[1;33m**\u001b[0m\u001b[0mkwds\u001b[0m\u001b[1;33m)\u001b[0m\u001b[1;33m\u001b[0m\u001b[1;33m\u001b[0m\u001b[0m\n\u001b[0m\u001b[0;32m    453\u001b[0m \u001b[1;33m\u001b[0m\u001b[0m\n",
      "\u001b[1;32m~\\Anaconda3\\lib\\site-packages\\pandas\\io\\parsers.py\u001b[0m in \u001b[0;36m__init__\u001b[1;34m(self, f, engine, **kwds)\u001b[0m\n\u001b[0;32m    945\u001b[0m \u001b[1;33m\u001b[0m\u001b[0m\n\u001b[1;32m--> 946\u001b[1;33m         \u001b[0mself\u001b[0m\u001b[1;33m.\u001b[0m\u001b[0m_make_engine\u001b[0m\u001b[1;33m(\u001b[0m\u001b[0mself\u001b[0m\u001b[1;33m.\u001b[0m\u001b[0mengine\u001b[0m\u001b[1;33m)\u001b[0m\u001b[1;33m\u001b[0m\u001b[1;33m\u001b[0m\u001b[0m\n\u001b[0m\u001b[0;32m    947\u001b[0m \u001b[1;33m\u001b[0m\u001b[0m\n",
      "\u001b[1;32m~\\Anaconda3\\lib\\site-packages\\pandas\\io\\parsers.py\u001b[0m in \u001b[0;36m_make_engine\u001b[1;34m(self, engine)\u001b[0m\n\u001b[0;32m   1177\u001b[0m         \u001b[1;32mif\u001b[0m \u001b[0mengine\u001b[0m \u001b[1;33m==\u001b[0m \u001b[1;34m\"c\"\u001b[0m\u001b[1;33m:\u001b[0m\u001b[1;33m\u001b[0m\u001b[1;33m\u001b[0m\u001b[0m\n\u001b[1;32m-> 1178\u001b[1;33m             \u001b[0mself\u001b[0m\u001b[1;33m.\u001b[0m\u001b[0m_engine\u001b[0m \u001b[1;33m=\u001b[0m \u001b[0mCParserWrapper\u001b[0m\u001b[1;33m(\u001b[0m\u001b[0mself\u001b[0m\u001b[1;33m.\u001b[0m\u001b[0mf\u001b[0m\u001b[1;33m,\u001b[0m \u001b[1;33m**\u001b[0m\u001b[0mself\u001b[0m\u001b[1;33m.\u001b[0m\u001b[0moptions\u001b[0m\u001b[1;33m)\u001b[0m\u001b[1;33m\u001b[0m\u001b[1;33m\u001b[0m\u001b[0m\n\u001b[0m\u001b[0;32m   1179\u001b[0m         \u001b[1;32melse\u001b[0m\u001b[1;33m:\u001b[0m\u001b[1;33m\u001b[0m\u001b[1;33m\u001b[0m\u001b[0m\n",
      "\u001b[1;32m~\\Anaconda3\\lib\\site-packages\\pandas\\io\\parsers.py\u001b[0m in \u001b[0;36m__init__\u001b[1;34m(self, src, **kwds)\u001b[0m\n\u001b[0;32m   2007\u001b[0m \u001b[1;33m\u001b[0m\u001b[0m\n\u001b[1;32m-> 2008\u001b[1;33m         \u001b[0mself\u001b[0m\u001b[1;33m.\u001b[0m\u001b[0m_reader\u001b[0m \u001b[1;33m=\u001b[0m \u001b[0mparsers\u001b[0m\u001b[1;33m.\u001b[0m\u001b[0mTextReader\u001b[0m\u001b[1;33m(\u001b[0m\u001b[0msrc\u001b[0m\u001b[1;33m,\u001b[0m \u001b[1;33m**\u001b[0m\u001b[0mkwds\u001b[0m\u001b[1;33m)\u001b[0m\u001b[1;33m\u001b[0m\u001b[1;33m\u001b[0m\u001b[0m\n\u001b[0m\u001b[0;32m   2009\u001b[0m         \u001b[0mself\u001b[0m\u001b[1;33m.\u001b[0m\u001b[0munnamed_cols\u001b[0m \u001b[1;33m=\u001b[0m \u001b[0mself\u001b[0m\u001b[1;33m.\u001b[0m\u001b[0m_reader\u001b[0m\u001b[1;33m.\u001b[0m\u001b[0munnamed_cols\u001b[0m\u001b[1;33m\u001b[0m\u001b[1;33m\u001b[0m\u001b[0m\n",
      "\u001b[1;32mpandas\\_libs\\parsers.pyx\u001b[0m in \u001b[0;36mpandas._libs.parsers.TextReader.__cinit__\u001b[1;34m()\u001b[0m\n",
      "\u001b[1;32mpandas\\_libs\\parsers.pyx\u001b[0m in \u001b[0;36mpandas._libs.parsers.TextReader._get_header\u001b[1;34m()\u001b[0m\n",
      "\u001b[1;32mpandas\\_libs\\parsers.pyx\u001b[0m in \u001b[0;36mpandas._libs.parsers.TextReader._tokenize_rows\u001b[1;34m()\u001b[0m\n",
      "\u001b[1;32mpandas\\_libs\\parsers.pyx\u001b[0m in \u001b[0;36mpandas._libs.parsers.raise_parser_error\u001b[1;34m()\u001b[0m\n",
      "\u001b[1;31mUnicodeDecodeError\u001b[0m: 'charmap' codec can't decode byte 0x81 in position 85834: character maps to <undefined>",
      "\nDuring handling of the above exception, another exception occurred:\n",
      "\u001b[1;31mParserError\u001b[0m                               Traceback (most recent call last)",
      "\u001b[1;32m<ipython-input-16-3164368092be>\u001b[0m in \u001b[0;36m<module>\u001b[1;34m\u001b[0m\n\u001b[0;32m      5\u001b[0m     \u001b[1;32mexcept\u001b[0m\u001b[1;33m:\u001b[0m\u001b[1;33m\u001b[0m\u001b[1;33m\u001b[0m\u001b[0m\n\u001b[0;32m      6\u001b[0m         \u001b[0mprint\u001b[0m\u001b[1;33m(\u001b[0m\u001b[1;34m'utf-8-sig'\u001b[0m\u001b[1;33m)\u001b[0m\u001b[1;33m\u001b[0m\u001b[1;33m\u001b[0m\u001b[0m\n\u001b[1;32m----> 7\u001b[1;33m         \u001b[0maux\u001b[0m \u001b[1;33m=\u001b[0m \u001b[0mpd\u001b[0m\u001b[1;33m.\u001b[0m\u001b[0mread_csv\u001b[0m\u001b[1;33m(\u001b[0m\u001b[0mfile\u001b[0m\u001b[1;33m,\u001b[0m \u001b[0msep\u001b[0m\u001b[1;33m=\u001b[0m\u001b[1;34m','\u001b[0m\u001b[1;33m,\u001b[0m \u001b[0mencoding\u001b[0m\u001b[1;33m=\u001b[0m\u001b[1;34m'utf-8-sig'\u001b[0m\u001b[1;33m)\u001b[0m\u001b[1;33m\u001b[0m\u001b[1;33m\u001b[0m\u001b[0m\n\u001b[0m",
      "\u001b[1;32m~\\Anaconda3\\lib\\site-packages\\pandas\\io\\parsers.py\u001b[0m in \u001b[0;36mread_csv\u001b[1;34m(filepath_or_buffer, sep, delimiter, header, names, index_col, usecols, squeeze, prefix, mangle_dupe_cols, dtype, engine, converters, true_values, false_values, skipinitialspace, skiprows, skipfooter, nrows, na_values, keep_default_na, na_filter, verbose, skip_blank_lines, parse_dates, infer_datetime_format, keep_date_col, date_parser, dayfirst, cache_dates, iterator, chunksize, compression, thousands, decimal, lineterminator, quotechar, quoting, doublequote, escapechar, comment, encoding, dialect, error_bad_lines, warn_bad_lines, delim_whitespace, low_memory, memory_map, float_precision)\u001b[0m\n\u001b[0;32m    684\u001b[0m     )\n\u001b[0;32m    685\u001b[0m \u001b[1;33m\u001b[0m\u001b[0m\n\u001b[1;32m--> 686\u001b[1;33m     \u001b[1;32mreturn\u001b[0m \u001b[0m_read\u001b[0m\u001b[1;33m(\u001b[0m\u001b[0mfilepath_or_buffer\u001b[0m\u001b[1;33m,\u001b[0m \u001b[0mkwds\u001b[0m\u001b[1;33m)\u001b[0m\u001b[1;33m\u001b[0m\u001b[1;33m\u001b[0m\u001b[0m\n\u001b[0m\u001b[0;32m    687\u001b[0m \u001b[1;33m\u001b[0m\u001b[0m\n\u001b[0;32m    688\u001b[0m \u001b[1;33m\u001b[0m\u001b[0m\n",
      "\u001b[1;32m~\\Anaconda3\\lib\\site-packages\\pandas\\io\\parsers.py\u001b[0m in \u001b[0;36m_read\u001b[1;34m(filepath_or_buffer, kwds)\u001b[0m\n\u001b[0;32m    456\u001b[0m \u001b[1;33m\u001b[0m\u001b[0m\n\u001b[0;32m    457\u001b[0m     \u001b[1;32mtry\u001b[0m\u001b[1;33m:\u001b[0m\u001b[1;33m\u001b[0m\u001b[1;33m\u001b[0m\u001b[0m\n\u001b[1;32m--> 458\u001b[1;33m         \u001b[0mdata\u001b[0m \u001b[1;33m=\u001b[0m \u001b[0mparser\u001b[0m\u001b[1;33m.\u001b[0m\u001b[0mread\u001b[0m\u001b[1;33m(\u001b[0m\u001b[0mnrows\u001b[0m\u001b[1;33m)\u001b[0m\u001b[1;33m\u001b[0m\u001b[1;33m\u001b[0m\u001b[0m\n\u001b[0m\u001b[0;32m    459\u001b[0m     \u001b[1;32mfinally\u001b[0m\u001b[1;33m:\u001b[0m\u001b[1;33m\u001b[0m\u001b[1;33m\u001b[0m\u001b[0m\n\u001b[0;32m    460\u001b[0m         \u001b[0mparser\u001b[0m\u001b[1;33m.\u001b[0m\u001b[0mclose\u001b[0m\u001b[1;33m(\u001b[0m\u001b[1;33m)\u001b[0m\u001b[1;33m\u001b[0m\u001b[1;33m\u001b[0m\u001b[0m\n",
      "\u001b[1;32m~\\Anaconda3\\lib\\site-packages\\pandas\\io\\parsers.py\u001b[0m in \u001b[0;36mread\u001b[1;34m(self, nrows)\u001b[0m\n\u001b[0;32m   1194\u001b[0m     \u001b[1;32mdef\u001b[0m \u001b[0mread\u001b[0m\u001b[1;33m(\u001b[0m\u001b[0mself\u001b[0m\u001b[1;33m,\u001b[0m \u001b[0mnrows\u001b[0m\u001b[1;33m=\u001b[0m\u001b[1;32mNone\u001b[0m\u001b[1;33m)\u001b[0m\u001b[1;33m:\u001b[0m\u001b[1;33m\u001b[0m\u001b[1;33m\u001b[0m\u001b[0m\n\u001b[0;32m   1195\u001b[0m         \u001b[0mnrows\u001b[0m \u001b[1;33m=\u001b[0m \u001b[0m_validate_integer\u001b[0m\u001b[1;33m(\u001b[0m\u001b[1;34m\"nrows\"\u001b[0m\u001b[1;33m,\u001b[0m \u001b[0mnrows\u001b[0m\u001b[1;33m)\u001b[0m\u001b[1;33m\u001b[0m\u001b[1;33m\u001b[0m\u001b[0m\n\u001b[1;32m-> 1196\u001b[1;33m         \u001b[0mret\u001b[0m \u001b[1;33m=\u001b[0m \u001b[0mself\u001b[0m\u001b[1;33m.\u001b[0m\u001b[0m_engine\u001b[0m\u001b[1;33m.\u001b[0m\u001b[0mread\u001b[0m\u001b[1;33m(\u001b[0m\u001b[0mnrows\u001b[0m\u001b[1;33m)\u001b[0m\u001b[1;33m\u001b[0m\u001b[1;33m\u001b[0m\u001b[0m\n\u001b[0m\u001b[0;32m   1197\u001b[0m \u001b[1;33m\u001b[0m\u001b[0m\n\u001b[0;32m   1198\u001b[0m         \u001b[1;31m# May alter columns / col_dict\u001b[0m\u001b[1;33m\u001b[0m\u001b[1;33m\u001b[0m\u001b[1;33m\u001b[0m\u001b[0m\n",
      "\u001b[1;32m~\\Anaconda3\\lib\\site-packages\\pandas\\io\\parsers.py\u001b[0m in \u001b[0;36mread\u001b[1;34m(self, nrows)\u001b[0m\n\u001b[0;32m   2153\u001b[0m     \u001b[1;32mdef\u001b[0m \u001b[0mread\u001b[0m\u001b[1;33m(\u001b[0m\u001b[0mself\u001b[0m\u001b[1;33m,\u001b[0m \u001b[0mnrows\u001b[0m\u001b[1;33m=\u001b[0m\u001b[1;32mNone\u001b[0m\u001b[1;33m)\u001b[0m\u001b[1;33m:\u001b[0m\u001b[1;33m\u001b[0m\u001b[1;33m\u001b[0m\u001b[0m\n\u001b[0;32m   2154\u001b[0m         \u001b[1;32mtry\u001b[0m\u001b[1;33m:\u001b[0m\u001b[1;33m\u001b[0m\u001b[1;33m\u001b[0m\u001b[0m\n\u001b[1;32m-> 2155\u001b[1;33m             \u001b[0mdata\u001b[0m \u001b[1;33m=\u001b[0m \u001b[0mself\u001b[0m\u001b[1;33m.\u001b[0m\u001b[0m_reader\u001b[0m\u001b[1;33m.\u001b[0m\u001b[0mread\u001b[0m\u001b[1;33m(\u001b[0m\u001b[0mnrows\u001b[0m\u001b[1;33m)\u001b[0m\u001b[1;33m\u001b[0m\u001b[1;33m\u001b[0m\u001b[0m\n\u001b[0m\u001b[0;32m   2156\u001b[0m         \u001b[1;32mexcept\u001b[0m \u001b[0mStopIteration\u001b[0m\u001b[1;33m:\u001b[0m\u001b[1;33m\u001b[0m\u001b[1;33m\u001b[0m\u001b[0m\n\u001b[0;32m   2157\u001b[0m             \u001b[1;32mif\u001b[0m \u001b[0mself\u001b[0m\u001b[1;33m.\u001b[0m\u001b[0m_first_chunk\u001b[0m\u001b[1;33m:\u001b[0m\u001b[1;33m\u001b[0m\u001b[1;33m\u001b[0m\u001b[0m\n",
      "\u001b[1;32mpandas\\_libs\\parsers.pyx\u001b[0m in \u001b[0;36mpandas._libs.parsers.TextReader.read\u001b[1;34m()\u001b[0m\n",
      "\u001b[1;32mpandas\\_libs\\parsers.pyx\u001b[0m in \u001b[0;36mpandas._libs.parsers.TextReader._read_low_memory\u001b[1;34m()\u001b[0m\n",
      "\u001b[1;32mpandas\\_libs\\parsers.pyx\u001b[0m in \u001b[0;36mpandas._libs.parsers.TextReader._read_rows\u001b[1;34m()\u001b[0m\n",
      "\u001b[1;32mpandas\\_libs\\parsers.pyx\u001b[0m in \u001b[0;36mpandas._libs.parsers.TextReader._tokenize_rows\u001b[1;34m()\u001b[0m\n",
      "\u001b[1;32mpandas\\_libs\\parsers.pyx\u001b[0m in \u001b[0;36mpandas._libs.parsers.raise_parser_error\u001b[1;34m()\u001b[0m\n",
      "\u001b[1;31mParserError\u001b[0m: Error tokenizing data. C error: Expected 4 fields in line 3, saw 6\n"
     ]
    }
   ],
   "source": [
    "for file in all_paths:\n",
    "    try:\n",
    "        print('cp')\n",
    "        aux = pd.read_csv(file, sep=';', encoding='cp1252')\n",
    "    except:\n",
    "        print('utf-8-sig')\n",
    "        aux = pd.read_csv(file, sep=',', encoding='utf-8-sig') "
   ]
  },
  {
   "cell_type": "code",
   "execution_count": 14,
   "metadata": {},
   "outputs": [
    {
     "data": {
      "text/plain": [
       "Index(['Car,Car_desc,Jur,Jur_desc,subj,Sjur_desc,Ent,Ent_desc,Og,Og_desc,UE,UE_desc,Prog,Prog_desc,Sprog,Sprog_desc,Proy,Proy_desc,Act,Act_desc,Ob,Ob_desc,Fin,Fin_desc,Fun,Fun_desc,Inc,Inc_desc,Ppal,Ppal_desc,Par,Par_desc,Spar,Spar_desc,Eco,Eco_desc,Fte,Fte_desc,Geo,Geo_desc,Sanción,Vigente,Definitivo,Devengado'], dtype='object')"
      ]
     },
     "execution_count": 14,
     "metadata": {},
     "output_type": "execute_result"
    }
   ],
   "source": [
    "aux.columns"
   ]
  },
  {
   "cell_type": "code",
   "execution_count": 301,
   "metadata": {
    "collapsed": true
   },
   "outputs": [
    {
     "data": {
      "text/plain": [
       "DIRECCION EJECUTIVA                   9786\n",
       "EDUCACION                             7894\n",
       "SALUD                                 6265\n",
       "PROMOCION Y ACCION SOCIAL             5995\n",
       "SERVICIOS URBANOS                     4003\n",
       "CULTURA                               3639\n",
       "SEGURIDAD INTERIOR                    3159\n",
       "JUDICIAL                              2609\n",
       "ADMINISTRACION FISCAL                 2490\n",
       "ECOLOGIA                              2488\n",
       "CONTROL DE LA GESTION                 1094\n",
       "INDUSTRIA Y COMERCIO                  802 \n",
       "TRABAJO                               715 \n",
       "VIVIENDA                              663 \n",
       "TRANSPORTE                            453 \n",
       "AGUA POTABLE Y ALCANTARILLADO         335 \n",
       "TURISMO                               251 \n",
       "SEGUROS Y FINANZAS                    94  \n",
       "LEGISLATIVA                           82  \n",
       "DEUDA PUBLICA - INTERESES Y GASTOS    12  \n",
       "Name: FUN_DESC, dtype: int64"
      ]
     },
     "execution_count": 301,
     "metadata": {},
     "output_type": "execute_result"
    }
   ],
   "source": [
    "aux['FUN_DESC'].value_counts()"
   ]
  },
  {
   "cell_type": "code",
   "execution_count": 17,
   "metadata": {
    "scrolled": true
   },
   "outputs": [
    {
     "name": "stdout",
     "output_type": "stream",
     "text": [
      "0 cp\n",
      "1 utf-8-sig\n",
      "2 utf-8-sig\n",
      "3 utf-8-sig\n",
      "4 cp\n",
      "5 utf-8-sig\n",
      "6 utf-8-sig\n",
      "7 utf-8-sig\n",
      "8 cp\n",
      "9 utf-8-sig\n",
      "10 utf-8-sig\n",
      "11 utf-8-sig\n",
      "12 cp\n",
      "13 cp\n",
      "14 cp\n",
      "15 cp\n",
      "16 utf-8-sig\n",
      "17 cp\n",
      "18 cp\n",
      "19 cp\n",
      "20 utf-8-sig\n",
      "21 utf-8-sig\n",
      "22 utf-8-sig\n",
      "23 utf-8-sig\n",
      "24 cp\n",
      "25 utf-8-sig\n",
      "26 cp\n",
      "27 cp\n",
      "28 utf-8-sig\n",
      "29 utf-8-sig\n"
     ]
    }
   ],
   "source": [
    "list_df_1 = []\n",
    "list_df_2 = []\n",
    "\n",
    "trimestres_dict = {\n",
    "    'primer':  1,\n",
    "    'segundo': 2,\n",
    "    'tercer':  3,\n",
    "    'cuarto':  4\n",
    "}\n",
    "\n",
    "for i, path in enumerate(all_paths):\n",
    "    \n",
    "#     with open(path) as f:\n",
    "#         print(f)\n",
    "    \n",
    "    file_name = os.path.basename(path)\n",
    "    trimestre = file_name.split(\"-\")[-2]\n",
    "    anio = re.findall(\"\\d{4}\", file_name).pop(0)\n",
    "    if i in [16, 20, 22, 23, 24, 25, 26, 27, 28, 29]:\n",
    "        try:\n",
    "            df = pd.read_csv(path, encoding='cp1252')\n",
    "            print(i, 'cp')\n",
    "        except:\n",
    "            df = pd.read_csv(path, encoding='utf-8-sig')\n",
    "            print(i, 'utf-8-sig')\n",
    "    else:\n",
    "        try:\n",
    "            \n",
    "            df = pd.read_csv(path, sep=';', encoding='cp1252')\n",
    "            print(i, 'cp')\n",
    "        except:\n",
    "            df = pd.read_csv(path, sep=';', encoding='utf-8-sig')\n",
    "            print(i, 'utf-8-sig')\n",
    "    \n",
    "    df.columns = [x.upper() for x in df.columns]\n",
    "    \n",
    "    df['AÑO'] = anio\n",
    "    df['TRIMESTRE'] = trimestres_dict[trimestre]\n",
    "    \n",
    "    if df.columns[0] == 'SECTOR':\n",
    "        pass\n",
    "        list_df_1.append(df)\n",
    "        \n",
    "    elif df.columns[0] == 'CAR':\n",
    "        df.columns = pd.Series(df.columns).str.replace(\"SANCIÃ³N\", \"SANCION\")\n",
    "        df.columns = pd.Series(df.columns).str.replace(\"SANCIÓN\", \"SANCION\")\n",
    "        df.columns = pd.Series(df.columns).str.replace(\"INC_\", \"INCISO_\")\n",
    "        df.columns = pd.Series(df.columns).str.replace(\"INC$\", \"INCISO\")\n",
    "        df.columns = pd.Series(df.columns).str.replace(\"INCISCO\", \"INCISO\")\n",
    "        df.columns = pd.Series(df.columns).str.replace(\"ECO _DESC\", \"ECO_DESC\")\n",
    "        df.columns = pd.Series(df.columns).str.replace(\"FF\", \"FTE\")\n",
    "        df.columns = pd.Series(df.columns).str.replace(\"OGESE\", \"OG\")\n",
    "        df.columns = pd.Series(df.columns).str.replace(\"EG_DESC\", \"OG_DESC\")\n",
    "        df.columns = pd.Series(df.columns).str.replace(\"SUBJ\", \"SJUR\")\n",
    "        df.columns = pd.Series(df.columns).str.replace(\"ACTIVIDAD\", \"ACT\")\n",
    "        df.columns = pd.Series(df.columns).str.replace(\"OBRA\", \"OB\")\n",
    "        df.columns = pd.Series(df.columns).str.replace(\"^PARC\", \"PAR\")\n",
    "        df.columns = pd.Series(df.columns).str.replace(\"SPARC\", \"SPAR\")\n",
    "        df.columns = pd.Series(df.columns).str.replace(\"SAR\", \"SPAR\")\n",
    "\n",
    "        list_df_2.append(df)\n",
    "    \n",
    "    \n",
    "df_1 = pd.concat(list_df_1, axis=0)\n",
    "df_2 = pd.concat(list_df_2, axis=0)"
   ]
  },
  {
   "cell_type": "code",
   "execution_count": null,
   "metadata": {},
   "outputs": [],
   "source": [
    "df_1 = df_1.drop(['SECTOR','SUBSECTOR','MONEDA'], axis=1)"
   ]
  },
  {
   "cell_type": "code",
   "execution_count": 6,
   "metadata": {},
   "outputs": [],
   "source": [
    "def fix_chars(string):\n",
    "    dictionary = {\n",
    "        \"Ã±\":\"ñ\", \"Ã³\": \"ó\", \"Ã‘\": \"Ñ\", \"Ãƒâ€™\": \"Ó\", \"Ã’\": \"Ó\", \"ÃŒ\": \"Í\", \"ÃƒÅ’\": \"Í\",\n",
    "        \"Âº\": \"u\",\"Ãƒâ‚¬\": \"A\", \"Ã©\": \"e\", \"Ã¡\": \"a\", \"Ã­\":\"í\",\"Ã \":\"a\",\"à\": \"a\", \"Ã€\": \"A\",\n",
    "        \"á\": \"a\", \"é\": \"e\", \"í\": \"i\",\"ó\": \"o\", \"ú\": \"u\",\n",
    "        \"Á\": \"A\", \"É\": \"E\", \"Í\": \"I\", \"Ó\": \"O\", \"Ú\": \"U\",\n",
    "        \"Ò\": \"O\", \"Ã¬\": \"I\", \"Ã²\": \"O\", \"Ãº\": \"U\", \"Â€“\": \"-\", \"–\": \"-\",\n",
    "    }\n",
    "\n",
    "    for key in dictionary:\n",
    "        try:\n",
    "            if key in string:\n",
    "                string = string.replace(key, dictionary[key])\n",
    "        except:\n",
    "            pass\n",
    "    return string"
   ]
  },
  {
   "cell_type": "code",
   "execution_count": 7,
   "metadata": {},
   "outputs": [],
   "source": [
    "def normalize_titles(df_columns):\n",
    "    \n",
    "    df_columns = pd.Series(df_columns)\n",
    "\n",
    "    df_columns = df_columns.str.replace(\"^CAR$\", \"CARACTER\")\n",
    "    df_columns = df_columns.str.replace(\"^CAR_DESC$\", \"DESC_CARACTER\")\n",
    "\n",
    "    df_columns = df_columns.str.replace(\"^JUR$\", \"JURISDICCION\")\n",
    "    df_columns = df_columns.str.replace(\"^JUR_DESC$\", \"DESC_JURIS\")\n",
    "\n",
    "    df_columns = df_columns.str.replace(\"^SJUR_DESC$\", \"DESC_SJURIS\")\n",
    "    df_columns = df_columns.str.replace(\"^SJUR$\", \"SUBJURISDICCION\")\n",
    "\n",
    "    df_columns = df_columns.str.replace(\"^ENT$\", \"ENTIDAD\")\n",
    "    df_columns = df_columns.str.replace(\"^ENT_DESC$\", \"DESC_ENTIDAD\")\n",
    "\n",
    "    df_columns = df_columns.str.replace(\"^OG$\", \"OGESE\")\n",
    "    df_columns = df_columns.str.replace(\"^OG_DESC$\", \"DESC_OGESE\")\n",
    "\n",
    "    df_columns = df_columns.str.replace(\"^UE$\", \"UNIDAD_EJECUTORA\")\n",
    "    df_columns = df_columns.str.replace(\"^UE_DESC$\", \"DESC_UE\")\n",
    "\n",
    "    df_columns = df_columns.str.replace(\"^PROG$\", \"PROGRAMA\")\n",
    "    df_columns = df_columns.str.replace(\"^PROG_DESC$\", \"DESC_PROGRAMA\")\n",
    "\n",
    "    df_columns = df_columns.str.replace(\"^SPROG$\", \"SUBPROGRAMA\")\n",
    "    df_columns = df_columns.str.replace(\"^SPROG_DESC$\", \"DESC_SPROGRAMA\")\n",
    "\n",
    "    df_columns = df_columns.str.replace(\"^PROY$\", \"PROYECTO\")\n",
    "    df_columns = df_columns.str.replace(\"^PROY_DESC$\", \"DESC_PROYECTO\")\n",
    "\n",
    "    df_columns = df_columns.str.replace(\"^ACT$\", \"ACTIVIDAD\")\n",
    "    df_columns = df_columns.str.replace(\"^ACT_DESC$\", \"DESC_ACTIVIDAD\")\n",
    "\n",
    "    df_columns = df_columns.str.replace(\"^OB$\", \"OBRA\")\n",
    "    df_columns = df_columns.str.replace(\"^OB_DESC$\", \"DESC_OBRA\")\n",
    "\n",
    "    df_columns = df_columns.str.replace(\"^FIN$\", \"FINALIDAD\")\n",
    "    df_columns = df_columns.str.replace(\"^FIN_DESC$\", \"DESC_FIN\")\n",
    "\n",
    "    df_columns = df_columns.str.replace(\"^FUN_DESC$\", \"DESC_FUN\")\n",
    "    df_columns = df_columns.str.replace(\"^FUN$\", \"FUNCION\")\n",
    "\n",
    "    df_columns = df_columns.str.replace(\"^INCISO_DESC$\", \"DESC_INCISO\")\n",
    "\n",
    "    df_columns = df_columns.str.replace(\"^PPAL$\", \"PRINCIPAL\")\n",
    "    df_columns = df_columns.str.replace(\"^PPAL_DESC$\", \"DESC_PRINCIPAL\")\n",
    "\n",
    "    df_columns = df_columns.str.replace(\"^PAR$\", \"PARCIAL\")\n",
    "    df_columns = df_columns.str.replace(\"^PAR_DESC$\", \"DESC_PARCIAL\")\n",
    "    \n",
    "    df_columns = df_columns.str.replace(\"^PARC$\", \"PARCIAL\")\n",
    "    df_columns = df_columns.str.replace(\"^PARC_DESC$\", \"DESC_PARCIAL\")\n",
    "\n",
    "    df_columns = df_columns.str.replace(\"^SPAR$\", \"SUBPARCIAL\")\n",
    "    df_columns = df_columns.str.replace(\"^SPAR_DESC$\", \"DESC_SUBPARCIAL\")\n",
    "    \n",
    "    df_columns = df_columns.str.replace(\"^SPARC$\", \"SUBPARCIAL\")\n",
    "    df_columns = df_columns.str.replace(\"^SPARC_DESC$\", \"DESC_SUBPARCIAL\")\n",
    "\n",
    "    df_columns = df_columns.str.replace(\"^ECO$\", \"CLAS_ECONOMICO\")\n",
    "    df_columns = df_columns.str.replace(\"^ECO_DESC$\", \"DESC_CLAS_ECO\")\n",
    "\n",
    "    df_columns = df_columns.str.replace(\"^FTE$\", \"FUENTE_FIN\")\n",
    "    df_columns = df_columns.str.replace(\"^FTE_DESC$\", \"DESC_FUENTE_FIN\")\n",
    "    \n",
    "    df_columns = df_columns.str.replace(\"^FF$\", \"FUENTE_FIN\")\n",
    "    df_columns = df_columns.str.replace(\"^FF_DESC$\", \"DESC_FUENTE_FIN\")\n",
    "\n",
    "    df_columns = df_columns.str.replace(\"^GEO$\", \"UBICACION_GEOGRAFICA\")\n",
    "    df_columns = df_columns.str.replace(\"^GEO_DESC$\", \"DESC_UBIC\")\n",
    "\n",
    "    df_columns = df_columns.str.replace(\"^GEO$\", \"UBICACION_GEOGRAFICA\")\n",
    "    df_columns = df_columns.str.replace(\"^GEO_DESC$\", \"DESC_UBIC\")\n",
    "    \n",
    "    df_columns = df_columns.str.replace(\"^OBRA_DESC$\", \"DESC_OBRA\")\n",
    "    df_columns = df_columns.str.replace(\"^OGESE_DESC$\", \"DESC_OGESE\")    \n",
    "    \n",
    "    df_columns = df_columns.str.replace(\"OGESE\", \"SERVICIO\") \n",
    "    \n",
    "    df_columns = df_columns.apply(lambda x: fix_chars(x))\n",
    "        \n",
    "    return df_columns"
   ]
  },
  {
   "cell_type": "code",
   "execution_count": null,
   "metadata": {},
   "outputs": [],
   "source": [
    "df_2.columns = normalize_titles(df_2.columns)"
   ]
  },
  {
   "cell_type": "code",
   "execution_count": 19,
   "metadata": {},
   "outputs": [],
   "source": [
    "df_all = pd.concat([df_1, df_2], axis=0).reset_index(drop=True)"
   ]
  },
  {
   "cell_type": "code",
   "execution_count": 20,
   "metadata": {
    "scrolled": true
   },
   "outputs": [
    {
     "name": "stdout",
     "output_type": "stream",
     "text": [
      "<class 'pandas.core.frame.DataFrame'>\n",
      "RangeIndex: 1247216 entries, 0 to 1247215\n",
      "Data columns (total 48 columns):\n",
      " #   Column                Non-Null Count    Dtype  \n",
      "---  ------                --------------    -----  \n",
      " 0   CARACTER              1247211 non-null  float64\n",
      " 1   JURISDICCION          1247211 non-null  float64\n",
      " 2   DESC_JURIS            1247211 non-null  object \n",
      " 3   SUBJURISDICCION       1247211 non-null  float64\n",
      " 4   DESC_SJURIS           1247211 non-null  object \n",
      " 5   ENTIDAD               1247211 non-null  float64\n",
      " 6   DESC_ENTIDAD          1247211 non-null  object \n",
      " 7   OGESE                 1247211 non-null  float64\n",
      " 8   DESC_SERVICIO         198168 non-null   object \n",
      " 9   UNIDAD_EJECUTORA      1247211 non-null  float64\n",
      " 10  DESC_UE               1247180 non-null  object \n",
      " 11  PROGRAMA              1247211 non-null  float64\n",
      " 12  DESC_PROGRAMA         1247180 non-null  object \n",
      " 13  SUBPROGRAMA           1247211 non-null  float64\n",
      " 14  DESC_SPROGRAMA        1247180 non-null  object \n",
      " 15  PROYECTO              1247211 non-null  float64\n",
      " 16  DESC_PROYECTO         1246992 non-null  object \n",
      " 17  ACTIVIDAD             1247211 non-null  float64\n",
      " 18  OBRA                  1247211 non-null  float64\n",
      " 19  DESC_OBRA             1246817 non-null  object \n",
      " 20  FINALIDAD             1247211 non-null  float64\n",
      " 21  FUNCION               1247211 non-null  float64\n",
      " 22  DESC_FIN_FUN          198168 non-null   object \n",
      " 23  INCISO                1247211 non-null  float64\n",
      " 24  DESC_INCISO           1247211 non-null  object \n",
      " 25  PRINCIPAL             1247211 non-null  float64\n",
      " 26  DESC_PRINCIPAL        1247211 non-null  object \n",
      " 27  PARCIAL               1247211 non-null  float64\n",
      " 28  DESC_PARCIAL          1247210 non-null  object \n",
      " 29  SUBPARCIAL            1247211 non-null  float64\n",
      " 30  DESC_SUBPARCIAL       1247153 non-null  object \n",
      " 31  CLAS_ECONOMICO        1247211 non-null  float64\n",
      " 32  DESC_CLAS_ECO         1247210 non-null  object \n",
      " 33  FUENTE_FIN            1247211 non-null  float64\n",
      " 34  DESC_FUENTE_FIN       1247211 non-null  object \n",
      " 35  UBICACION_GEOGRAFICA  1247211 non-null  float64\n",
      " 36  DESC_UBIC             1247203 non-null  object \n",
      " 37  VIGENTE               1247211 non-null  object \n",
      " 38  DEVENGADO             1247211 non-null  object \n",
      " 39  AÑO                   1247216 non-null  object \n",
      " 40  TRIMESTRE             1247216 non-null  int64  \n",
      " 41  DESC_CARACTER         1049043 non-null  object \n",
      " 42  DESC_OGESE            1049043 non-null  object \n",
      " 43  DESC_ACTIVIDAD        1048791 non-null  object \n",
      " 44  DESC_FIN              1049043 non-null  object \n",
      " 45  DESC_FUN              1049043 non-null  object \n",
      " 46  SANCION               1049044 non-null  object \n",
      " 47  DEFINITIVO            1049043 non-null  object \n",
      "dtypes: float64(20), int64(1), object(27)\n",
      "memory usage: 456.7+ MB\n"
     ]
    }
   ],
   "source": [
    "df_all.info()"
   ]
  },
  {
   "cell_type": "code",
   "execution_count": 8,
   "metadata": {},
   "outputs": [],
   "source": [
    "import time\n",
    "def fix_chars_in_columns(df_all):\n",
    "    description_columns = df_all.columns[[\"DESC_\" in col for col in df_all.columns]]    \n",
    "    \n",
    "    start_start = time.time()\n",
    "    asd = len(description_columns)\n",
    "    \n",
    "    for descripcion in description_columns:\n",
    "        start = time.time()\n",
    "        df_all[descripcion] = df_all[descripcion].apply(lambda string: fix_chars(string))\n",
    "        print(\"total time taken this loop: \", round(time.time() - start, 1), \"seg.  Faltan \", asd)\n",
    "        asd -= 1\n",
    "\n",
    "    print(\"\\nTotal time taken total loop: \", (time.time() - start_start)/60, \" min\")\n",
    "    \n",
    "    return df_all"
   ]
  },
  {
   "cell_type": "code",
   "execution_count": 9,
   "metadata": {},
   "outputs": [],
   "source": [
    "def fix_descripcion_strings(df_all):\n",
    "\n",
    "    description_columns = df_all.columns[[\"DESC_\" in col for col in df_all.columns]] \n",
    "\n",
    "    start = time.time()\n",
    "    count=len(description_columns)\n",
    "    for descripcion in description_columns:\n",
    "\n",
    "        start_start = time.time()\n",
    "\n",
    "        df_all[descripcion] = df_all[descripcion].str.upper()\n",
    "\n",
    "        df_all.loc[df_all[df_all[descripcion] == \"MIN.HÃ\\xa0BITAT Y DES. HUMANO\"].index,\n",
    "                                                                 descripcion] = \"MINISTERIO HABITAT Y DESARROLO HUMANO\"\n",
    "\n",
    "        habitat_pattern = '|'.join(['MIN.HÃ\\xa0BITAT Y DES. HUMANO', 'MIN.HABITAT Y DES. HUMANO',\n",
    "                                    'MIN. HABITAT Y DES. HUMANO', \"MINISTERIO DE HABITAT Y DES. HUMANO\",\n",
    "                                    \"MINISTERIO DE DESARROLLO HUMANO Y HABITAT\"])\n",
    "\n",
    "        moden_pattern = '|'.join(['MINISTERIO DE MODERN. INNOVACION Y TECNOLOGIA', 'MIN.MODERN.INNOVACION Y TECNOLOGIA'])\n",
    "\n",
    "        df_all[descripcion] = df_all[descripcion].str.replace(habitat_pattern, 'MINISTERIO HABITAT Y DESARROLO HUMANO')\n",
    "\n",
    "        df_all[descripcion] = df_all[descripcion].str.replace(moden_pattern, 'MINISTERIO DE MODERNIZACION')\n",
    "\n",
    "        df_all[descripcion] = df_all[descripcion].str.replace('MINISTERIO DE HACIENDA$',\n",
    "                                                                'MINISTERIO DE HACIENDA Y FINANZAS')\n",
    "\n",
    "        df_all[descripcion] = df_all[descripcion].str.replace('MIN.DESA.ECON Y PROD',\n",
    "                                                                'MINISTERIO DE DESARROLLO ECONOMICO')\n",
    "\n",
    "        economy_pattern = '|'.join([\"MINISTERIO DE HACIENDA Y FINANZAS\", \"MINISTERIO DE ECONOMIA Y FINANZAS\"])\n",
    "\n",
    "        df_all[descripcion] = df_all[descripcion].str.replace(economy_pattern, 'MINISTERIO DE ECONOMIA, HACIENDA Y FINANZAS')\n",
    "\n",
    "        ceys_pattern = '|'.join([\"CONSEJO ECONOMICO Y SOCIAL DE LA CABA\",\n",
    "                                 \"CONSEJO ECONOMICO Y SOCIAL DE LA CIUDAD DE BUENOS AIRES\",\n",
    "                                 \"CONSEJO ECONOMICO Y SOCIAL DE LA C.A.B.A\"])\n",
    "\n",
    "        df_all[descripcion] = df_all[descripcion].str.replace(ceys_pattern, \"CONSEJO ECONOMICO Y SOCIAL\")\n",
    "\n",
    "        dg_pattern = '|'.join([\"^DG.\",\"^D.G.\",\"^DG.\",\"^DIR.GRAL.\",\"^D.GRAL.\",\"^DIRECCION.GRAL.\",\"^DIR..GRAL.\",\n",
    "                               \"^DIR.G.\", \"^DIREC.GRAL.\", \"^D..G.\"])  \n",
    "\n",
    "        df_all[descripcion] = df_all[descripcion].str.replace(dg_pattern, 'DIRECCION GENERAL ')\n",
    "\n",
    "        ss_pattern = '|'.join([\"^SUBS\\.\",\"^SUBS \",\"^SUBSEC\\.\",\"^SUBSEC \",\"^SUBSECRET\\.\",\"^SUBSECRET \",\n",
    "                               \"^SS.\",\"^SUB\\.\",\"^SUB \",\"^SUBSECR\\.\",\"^SUBSECR \", \"^SUSEC\\.\"])\n",
    "\n",
    "        df_all[descripcion] = df_all[descripcion].str.replace(ss_pattern, 'SUBSECRETARIA ')\n",
    "\n",
    "        df_all[descripcion] = df_all[descripcion].str.replace(\"^CS.\", 'CENTROS SALUD ')\n",
    "        df_all[descripcion] = df_all[descripcion].str.replace(\"CTRO.DE SALUD\", 'CENTRO DE SALUD ')\n",
    "        df_all[descripcion] = df_all[descripcion].str.replace(\"FINANCIAMIENTO INTER$\", 'FINANCIAMIENTO INTERNO')\n",
    "        df_all[descripcion] = df_all[descripcion].str.replace(\"TRANSFERENCIAS INTER$\", 'TRANSFERENCIAS INTERNAS')\n",
    "        df_all[descripcion] = df_all[descripcion].str.replace(\"FINANCIAMIENTO EXTER$\", 'FINANCIAMIENTO EXTERNO')\n",
    "        df_all[descripcion] = df_all[descripcion].str.replace(\"TRANSFERENCIAS AFECT$\", 'TRANSFERENCIAS AFECTADAS')\n",
    "        \n",
    "        df_all[descripcion] = df_all[descripcion].str.replace(\"MIN.ESP.PUBLICO E HIG. URBANA$\",\n",
    "                                                              'MINISTERIO DE AMBIENTE Y ESPACIO PUBLICO')\n",
    "\n",
    "\n",
    "        \n",
    "        \n",
    "\n",
    "        df_all[descripcion] = df_all[descripcion].str.replace('  ', ' ')\n",
    "\n",
    "        print(\"total time taken this loop: \", round(time.time() - start_start, 1), \"seg.  Faltan \", count)\n",
    "        count -= 1\n",
    "\n",
    "    print(\"\\nTotal time taken: \", (time.time() - start)/60, \" min\")\n",
    "    \n",
    "    return df_all"
   ]
  },
  {
   "cell_type": "code",
   "execution_count": 603,
   "metadata": {
    "scrolled": true
   },
   "outputs": [
    {
     "data": {
      "text/plain": [
       "Index(['CARACTER', 'JURISDICCION', 'DESC_JURIS', 'SUBJURISDICCION',\n",
       "       'DESC_SJURIS', 'ENTIDAD', 'DESC_ENTIDAD', 'OGESE', 'DESC_SERVICIO',\n",
       "       'UNIDAD_EJECUTORA', 'DESC_UE', 'PROGRAMA', 'DESC_PROGRAMA',\n",
       "       'SUBPROGRAMA', 'DESC_SPROGRAMA', 'PROYECTO', 'DESC_PROYECTO',\n",
       "       'ACTIVIDAD', 'OBRA', 'DESC_OBRA', 'FINALIDAD', 'FUNCION',\n",
       "       'DESC_FIN_FUN', 'INCISO', 'DESC_INCISO', 'PRINCIPAL', 'DESC_PRINCIPAL',\n",
       "       'PARCIAL', 'DESC_PARCIAL', 'SUBPARCIAL', 'DESC_SUBPARCIAL',\n",
       "       'CLAS_ECONOMICO', 'DESC_CLAS_ECO', 'FUENTE_FIN', 'DESC_FUENTE_FIN',\n",
       "       'UBICACION_GEOGRAFICA', 'DESC_UBIC', 'VIGENTE', 'DEVENGADO', 'AÑO',\n",
       "       'TRIMESTRE', 'DESC_CARACTER', 'DESC_OGESE', 'DESC_ACTIVIDAD',\n",
       "       'DESC_FIN', 'DESC_FUN', 'SANCION', 'DEFINITIVO'],\n",
       "      dtype='object')"
      ]
     },
     "execution_count": 603,
     "metadata": {},
     "output_type": "execute_result"
    }
   ],
   "source": [
    "df_all.columns"
   ]
  },
  {
   "cell_type": "code",
   "execution_count": 604,
   "metadata": {
    "collapsed": true
   },
   "outputs": [
    {
     "name": "stdout",
     "output_type": "stream",
     "text": [
      "nan\n",
      "LEGISLATURA DE LA CIUDAD DE BUENOS AIRES\n",
      "TRIBUNAL SUPERIOR DE JUSTICIA\n",
      "PROCURACION GENERAL DE LA CIUDAD\n",
      "JEFATURA DE GOBIERNO\n",
      "VICEJEFATURA DE GOBIERNO\n",
      "JEFATURA DE GABINETE DE MINISTROS\n",
      "PLAN DE SEGURIDAD PUBLICA\n",
      "SERVICIO DE LA DEUDA PUBLICA\n",
      "OBLIGACIONES A CARGO DEL TESORO\n",
      "AUDITORIA GENERAL DE LA CIUDAD DE BUENOS AIRES\n",
      "DEFENSORIA DEL PUEBLO\n",
      "SINDICATURA GENERAL DE LA CIUDAD DE BUENOS AIRES\n",
      "ENTE REGULADOR DE SERVICIOS PUBLICOS\n",
      "EX CONSEJO ECON Y SOCIAL\n",
      "INSTITUTO ESPACIO PARA LA MEMORIA\n",
      "INSTITUTO SUPERIOR DE SEGURIDAD PUBLICA\n",
      "ENTE MANTENIMIENTO URBANO INTEGRAL\n",
      "ENTE DE HIGIENE URBANA\n",
      "TEATRO COLON\n",
      "INSTITUTO DE JUEGOS DE APUESTAS DE LA CABA\n",
      "ADMIN. GUBERNAMENTAL DE INGRESOS PUBLICOS\n",
      "INSTITUTO PARA LA VIVIENDA\n",
      "REGISTRO PUBLICO COMERCIO Y CONTRALOR PERSONAS JURIDICAS\n",
      "ENTE DE TURISMO\n",
      "VIAS PEATONALES\n",
      "I.V.C\n",
      "CON.ECON Y SOC\n"
     ]
    }
   ],
   "source": [
    "for i in df_all['DESC_OGESE'].unique():\n",
    "    i = str(i)\n",
    "    if i.startswith('MIN'):\n",
    "#         print(i)\n",
    "        pass\n",
    "    elif i.startswith('SEC'):\n",
    "#         print(i)\n",
    "        pass\n",
    "    elif i.startswith('AGENCIA'):\n",
    "#         print(i)\n",
    "        pass\n",
    "    elif i.startswith('COM'):\n",
    "#         print(i)\n",
    "        pass\n",
    "    elif i.startswith('CONS'):\n",
    "#         print(i)\n",
    "        pass\n",
    "    elif i.startswith('DIR'):\n",
    "#         print(i)\n",
    "        pass\n",
    "    elif i.startswith('SUB'):\n",
    "#         print(i)\n",
    "        pass\n",
    "    else:\n",
    "        print(i)\n",
    "        pass\n",
    "    \n"
   ]
  },
  {
   "cell_type": "markdown",
   "metadata": {},
   "source": [
    "# Revisar"
   ]
  },
  {
   "cell_type": "code",
   "execution_count": 25,
   "metadata": {
    "scrolled": true
   },
   "outputs": [],
   "source": [
    "df_all['DEVENGADO'] = df_all['DEVENGADO'].str.replace('\\.', '')\n",
    "df_all['DEVENGADO'] = df_all['DEVENGADO'].str.replace(',', '.')\n",
    "df_all['DEVENGADO'] = df_all['DEVENGADO'].astype(float)\n",
    "\n",
    "df_all['VIGENTE'] = df_all['VIGENTE'].str.replace(\"\\.\\d*$\", '')  # Si termina con .0 o .36 etc elimino esos decimales \n",
    "df_all['VIGENTE'] = df_all['VIGENTE'].str.replace('\\.', '')  # Hay números que aparecen con . como separador de 1000\n",
    "df_all['VIGENTE'] = df_all['VIGENTE'].str.replace(',', '.')  # Los floats se manejan con . para los decimales\n",
    "df_all['VIGENTE'] = df_all['VIGENTE'].astype(float)\n",
    "\n",
    "df_all['SANCION'] = df_all['SANCION'].apply(lambda x: np.NaN if x == ' ' else x)\n",
    "df_all['SANCION'] = df_all['SANCION'].str.replace(\"\\.\\d*$\", '')\n",
    "df_all['SANCION'] = df_all['SANCION'].str.replace('\\.', '')\n",
    "df_all['SANCION'] = df_all['SANCION'].str.replace(',', '.')\n",
    "df_all['SANCION'] = df_all['SANCION'].astype(float)\n",
    "\n",
    "df_all['DEFINITIVO'] = df_all['DEFINITIVO'].str.replace(\"\\.\\d*$\", '')\n",
    "df_all['DEFINITIVO'] = df_all['DEFINITIVO'].str.replace('\\.', '')\n",
    "df_all['DEFINITIVO'] = df_all['DEFINITIVO'].str.replace(',', '.')\n",
    "df_all['DEFINITIVO'] = df_all['DEFINITIVO'].astype(float)"
   ]
  },
  {
   "cell_type": "code",
   "execution_count": 10,
   "metadata": {},
   "outputs": [],
   "source": [
    "def drop_cve_columns(df_all):\n",
    "    \n",
    "    df_all['CARACTER']= df_all[\"DESC_CARACTER\"]\n",
    "    df_all['JURISDICCION']= df_all[\"DESC_JURIS\"]\n",
    "    df_all['SUBJURISDICCION']= df_all[\"DESC_SJURIS\"]\n",
    "    df_all['ENTIDAD']= df_all[\"DESC_ENTIDAD\"]\n",
    "    df_all['UNIDAD_EJECUTORA']= df_all[\"DESC_UE\"]\n",
    "    df_all['PROGRAMA']= df_all[\"DESC_PROGRAMA\"]\n",
    "    df_all['SUBPROGRAMA']= df_all[\"DESC_SPROGRAMA\"]\n",
    "    df_all['PROYECTO']= df_all[\"DESC_PROYECTO\"]\n",
    "    df_all['ACTIVIDAD']= df_all[\"DESC_ACTIVIDAD\"]\n",
    "    df_all['OBRA']= df_all[\"DESC_OBRA\"]\n",
    "    df_all['FINALIDAD']= df_all[\"DESC_FIN\"]\n",
    "    df_all['FUNCION']= df_all[\"DESC_FUN\"]\n",
    "    df_all['INCISO']= df_all[\"DESC_INCISO\"]\n",
    "    df_all['PRINCIPAL']= df_all[\"DESC_PRINCIPAL\"]\n",
    "    df_all['PARCIAL']= df_all[\"DESC_PARCIAL\"]\n",
    "    df_all['SUBPARCIAL']= df_all[\"DESC_SUBPARCIAL\"]\n",
    "    df_all['CLAS_ECONOMICO']= df_all[\"DESC_CLAS_ECO\"]\n",
    "    df_all['FUENTE_FIN']= df_all[\"DESC_FUENTE_FIN\"]\n",
    "    df_all['UBICACION_GEOGRAFICA']= df_all[\"DESC_UBIC\"]\n",
    "    df_all['SERVICIO']= df_all[\"DESC_SERVICIO\"]\n",
    "\n",
    "\n",
    "#     df_all.loc[df_all['OGESE'].isna(), \"OGESE\"] = df_all.loc[df_all['OGESE'].isna(), \"DESC_SERVICIO\"] \n",
    "#     df_all.loc[df_all['FINALIDAD'].isna(), \"FINALIDAD\"] = df_all.loc[df_all['FINALIDAD'].isna(), \"DESC_FIN_FUN\"]  \n",
    "#     df_all.loc[df_all['FUNCION'].isna(), \"FUNCION\"] = df_all.loc[df_all['FUNCION'].isna(), \"DESC_FIN_FUN\"]   \n",
    "    \n",
    "#     df_all.loc[df_all[\"CARACTER\"] == 1, \"DESC_CARACTER\"] = \"ADMINISTRACION CENTRAL\"\n",
    "#     df_all.loc[df_all[\"CARACTER\"] == 2, \"DESC_CARACTER\"] = \"ORGANISMOS DESCENTRALIZADOS\"\n",
    "    \n",
    "    df_all = df_all.drop(['DESC_JURIS', 'DESC_SJURIS', 'DESC_ENTIDAD', 'DESC_UE',\n",
    "                       'DESC_PROGRAMA', 'DESC_SPROGRAMA', 'DESC_PROYECTO', 'DESC_OBRA',\n",
    "                       'DESC_INCISO', 'DESC_PRINCIPAL', 'DESC_PARCIAL',\n",
    "                       'DESC_SUBPARCIAL', 'DESC_CLAS_ECO', 'DESC_FUENTE_FIN', 'DESC_UBIC',\n",
    "                       'DESC_CARACTER', 'DESC_ACTIVIDAD', 'DESC_FIN',\n",
    "                       'DESC_FUN', \"DESC_SERVICIO\",\n",
    "#                           \"DESC_FIN_FUN\"\n",
    "                         ], axis=1)\n",
    "\n",
    "    return df_all"
   ]
  },
  {
   "cell_type": "code",
   "execution_count": 27,
   "metadata": {},
   "outputs": [],
   "source": []
  },
  {
   "cell_type": "code",
   "execution_count": 32,
   "metadata": {},
   "outputs": [],
   "source": [
    "df_all.to_csv(\"presupuestos_clean.csv\", index=False)"
   ]
  },
  {
   "cell_type": "code",
   "execution_count": 29,
   "metadata": {},
   "outputs": [
    {
     "data": {
      "text/plain": [
       "198425"
      ]
     },
     "execution_count": 29,
     "metadata": {},
     "output_type": "execute_result"
    }
   ],
   "source": [
    "df_all['ACTIVIDAD'].isna().sum()"
   ]
  },
  {
   "cell_type": "code",
   "execution_count": 30,
   "metadata": {},
   "outputs": [
    {
     "data": {
      "text/plain": [
       "1246817"
      ]
     },
     "execution_count": 30,
     "metadata": {},
     "output_type": "execute_result"
    }
   ],
   "source": [
    "len(df_all) - df_all['OBRA'].isna().sum()"
   ]
  },
  {
   "cell_type": "code",
   "execution_count": 31,
   "metadata": {
    "collapsed": true
   },
   "outputs": [
    {
     "name": "stdout",
     "output_type": "stream",
     "text": [
      "<class 'pandas.core.frame.DataFrame'>\n",
      "RangeIndex: 1247216 entries, 0 to 1247215\n",
      "Data columns (total 26 columns):\n",
      " #   Column                Non-Null Count    Dtype  \n",
      "---  ------                --------------    -----  \n",
      " 0   CARACTER              1049043 non-null  object \n",
      " 1   JURISDICCION          1247211 non-null  object \n",
      " 2   SUBJURISDICCION       1247211 non-null  object \n",
      " 3   ENTIDAD               1247211 non-null  object \n",
      " 4   OGESE                 1247211 non-null  object \n",
      " 5   UNIDAD_EJECUTORA      1247180 non-null  object \n",
      " 6   PROGRAMA              1247180 non-null  object \n",
      " 7   SUBPROGRAMA           1247180 non-null  object \n",
      " 8   PROYECTO              1246992 non-null  object \n",
      " 9   ACTIVIDAD             1048791 non-null  object \n",
      " 10  OBRA                  1246817 non-null  object \n",
      " 11  FINALIDAD             1247211 non-null  object \n",
      " 12  FUNCION               1247211 non-null  object \n",
      " 13  INCISO                1247211 non-null  object \n",
      " 14  PRINCIPAL             1247211 non-null  object \n",
      " 15  PARCIAL               1247210 non-null  object \n",
      " 16  SUBPARCIAL            1247153 non-null  object \n",
      " 17  CLAS_ECONOMICO        1247210 non-null  object \n",
      " 18  FUENTE_FIN            1247211 non-null  object \n",
      " 19  UBICACION_GEOGRAFICA  1247203 non-null  object \n",
      " 20  VIGENTE               296091 non-null   float64\n",
      " 21  DEVENGADO             757897 non-null   float64\n",
      " 22  AÑO                   1247216 non-null  object \n",
      " 23  TRIMESTRE             1247216 non-null  int64  \n",
      " 24  SANCION               110966 non-null   float64\n",
      " 25  DEFINITIVO            559729 non-null   float64\n",
      "dtypes: float64(4), int64(1), object(21)\n",
      "memory usage: 247.4+ MB\n"
     ]
    }
   ],
   "source": [
    "df_all.info()"
   ]
  },
  {
   "cell_type": "code",
   "execution_count": null,
   "metadata": {},
   "outputs": [],
   "source": []
  },
  {
   "cell_type": "code",
   "execution_count": null,
   "metadata": {},
   "outputs": [],
   "source": []
  },
  {
   "cell_type": "code",
   "execution_count": null,
   "metadata": {},
   "outputs": [],
   "source": []
  },
  {
   "cell_type": "code",
   "execution_count": null,
   "metadata": {},
   "outputs": [],
   "source": []
  },
  {
   "cell_type": "code",
   "execution_count": 11,
   "metadata": {},
   "outputs": [],
   "source": [
    "path_to_dir = r\"C:\\Brian\\Industrial Plan I07\\Ciencia de Datos\\Tp\\Presupuesto_Sancionado/\""
   ]
  },
  {
   "cell_type": "code",
   "execution_count": 12,
   "metadata": {},
   "outputs": [],
   "source": [
    "all_paths = glob.glob(path_to_dir + \"*.csv\")"
   ]
  },
  {
   "cell_type": "code",
   "execution_count": 13,
   "metadata": {},
   "outputs": [
    {
     "data": {
      "text/plain": [
       "array(['cp1252'], dtype=object)"
      ]
     },
     "execution_count": 13,
     "metadata": {},
     "output_type": "execute_result"
    }
   ],
   "source": [
    "encodes = []\n",
    "for path in all_paths:\n",
    "    with open(path, 'a') as f:\n",
    "        encodes.append(f.encoding)\n",
    "pd.Series(encodes).unique()"
   ]
  },
  {
   "cell_type": "code",
   "execution_count": 14,
   "metadata": {},
   "outputs": [],
   "source": [
    "list_df = []\n",
    "trimestres_dict = {'primer':  1, 'segundo': 2,'tercer':  3,'cuarto':  4}\n",
    "\n",
    "for file in all_paths:\n",
    "    \n",
    "    file_name = os.path.basename(file)\n",
    "    anio = re.findall(\"\\d{4}\", file_name).pop(0)\n",
    "    \n",
    "    try:\n",
    "        if file.endswith('2020.csv'):\n",
    "            df = pd.read_csv(file, sep=',', encoding='cp1252')\n",
    "            df.columns = pd.Series(df.columns).str.upper()\n",
    "        else:\n",
    "            df = pd.read_csv(file, sep=';', encoding='cp1252')\n",
    "    except:\n",
    "        if file.endswith('2019.csv'):\n",
    "            df = pd.read_csv(file, sep=',', encoding='utf-8-sig')\n",
    "            df.columns = pd.Series(df.columns).str.upper()\n",
    "        else:\n",
    "            df = pd.read_csv(file, sep=';', encoding='utf-8-sig')  \n",
    "            \n",
    "    finally:\n",
    "        df['AÑO'] = anio\n",
    "        \n",
    "        df.columns = pd.Series(df.columns).str.replace(\"INC_\", \"INCISO_\")\n",
    "        df.columns = pd.Series(df.columns).str.replace(\"INC$\", \"INCISO\")\n",
    "        df.columns = pd.Series(df.columns).str.replace(\"SPOR_DESC$\", \"SPROG_DESC\")\n",
    "        df.columns = normalize_titles(df.columns)\n",
    "        list_df.append(df)\n",
    "df_all = pd.concat(list_df)"
   ]
  },
  {
   "cell_type": "code",
   "execution_count": 15,
   "metadata": {},
   "outputs": [
    {
     "data": {
      "text/plain": [
       "(640405, 42)"
      ]
     },
     "execution_count": 15,
     "metadata": {},
     "output_type": "execute_result"
    }
   ],
   "source": [
    "df_all.shape"
   ]
  },
  {
   "cell_type": "code",
   "execution_count": 16,
   "metadata": {},
   "outputs": [
    {
     "data": {
      "text/plain": [
       "Index(['CARACTER', 'DESC_CARACTER', 'JURISDICCION', 'DESC_JURIS',\n",
       "       'SUBJURISDICCION', 'DESC_SJURIS', 'ENTIDAD', 'DESC_ENTIDAD', 'SERVICIO',\n",
       "       'DESC_SERVICIO', 'UNIDAD_EJECUTORA', 'DESC_UE', 'PROGRAMA',\n",
       "       'DESC_PROGRAMA', 'SUBPROGRAMA', 'DESC_SPROGRAMA', 'PROYECTO',\n",
       "       'DESC_PROYECTO', 'ACTIVIDAD', 'DESC_ACTIVIDAD', 'OBRA', 'DESC_OBRA',\n",
       "       'FINALIDAD', 'DESC_FIN', 'FUNCION', 'DESC_FUN', 'INCISO', 'DESC_INCISO',\n",
       "       'PRINCIPAL', 'DESC_PRINCIPAL', 'PARCIAL', 'DESC_PARCIAL', 'SUBPARCIAL',\n",
       "       'DESC_SUBPARCIAL', 'CLAS_ECONOMICO', 'DESC_CLAS_ECO', 'FUENTE_FIN',\n",
       "       'DESC_FUENTE_FIN', 'UBICACION_GEOGRAFICA', 'DESC_UBIC', 'SANCION',\n",
       "       'AÑO'],\n",
       "      dtype='object')"
      ]
     },
     "execution_count": 16,
     "metadata": {},
     "output_type": "execute_result"
    }
   ],
   "source": [
    "df.columns"
   ]
  },
  {
   "cell_type": "code",
   "execution_count": 17,
   "metadata": {},
   "outputs": [
    {
     "name": "stdout",
     "output_type": "stream",
     "text": [
      "total time taken this loop:  3.4 seg.  Faltan  20\n",
      "total time taken this loop:  3.4 seg.  Faltan  19\n",
      "total time taken this loop:  3.3 seg.  Faltan  18\n",
      "total time taken this loop:  3.5 seg.  Faltan  17\n",
      "total time taken this loop:  3.6 seg.  Faltan  16\n",
      "total time taken this loop:  3.5 seg.  Faltan  15\n",
      "total time taken this loop:  3.4 seg.  Faltan  14\n",
      "total time taken this loop:  3.3 seg.  Faltan  13\n",
      "total time taken this loop:  3.5 seg.  Faltan  12\n",
      "total time taken this loop:  3.4 seg.  Faltan  11\n",
      "total time taken this loop:  3.3 seg.  Faltan  10\n",
      "total time taken this loop:  3.1 seg.  Faltan  9\n",
      "total time taken this loop:  3.2 seg.  Faltan  8\n",
      "total time taken this loop:  3.2 seg.  Faltan  7\n",
      "total time taken this loop:  3.2 seg.  Faltan  6\n",
      "total time taken this loop:  3.4 seg.  Faltan  5\n",
      "total time taken this loop:  3.3 seg.  Faltan  4\n",
      "total time taken this loop:  3.4 seg.  Faltan  3\n",
      "total time taken this loop:  3.4 seg.  Faltan  2\n",
      "total time taken this loop:  3.1 seg.  Faltan  1\n",
      "\n",
      "Total time taken total loop:  1.115419860680898  min\n"
     ]
    }
   ],
   "source": [
    "df_all = fix_chars_in_columns(df_all)"
   ]
  },
  {
   "cell_type": "code",
   "execution_count": 18,
   "metadata": {},
   "outputs": [
    {
     "name": "stdout",
     "output_type": "stream",
     "text": [
      "total time taken this loop:  13.3 seg.  Faltan  20\n",
      "total time taken this loop:  12.1 seg.  Faltan  19\n",
      "total time taken this loop:  12.1 seg.  Faltan  18\n",
      "total time taken this loop:  12.2 seg.  Faltan  17\n",
      "total time taken this loop:  12.0 seg.  Faltan  16\n",
      "total time taken this loop:  12.6 seg.  Faltan  15\n",
      "total time taken this loop:  12.1 seg.  Faltan  14\n",
      "total time taken this loop:  12.1 seg.  Faltan  13\n",
      "total time taken this loop:  12.1 seg.  Faltan  12\n",
      "total time taken this loop:  11.7 seg.  Faltan  11\n",
      "total time taken this loop:  11.8 seg.  Faltan  10\n",
      "total time taken this loop:  11.3 seg.  Faltan  9\n",
      "total time taken this loop:  10.9 seg.  Faltan  8\n",
      "total time taken this loop:  11.2 seg.  Faltan  7\n",
      "total time taken this loop:  13.2 seg.  Faltan  6\n",
      "total time taken this loop:  12.8 seg.  Faltan  5\n",
      "total time taken this loop:  11.9 seg.  Faltan  4\n",
      "total time taken this loop:  11.3 seg.  Faltan  3\n",
      "total time taken this loop:  11.1 seg.  Faltan  2\n",
      "total time taken this loop:  10.6 seg.  Faltan  1\n",
      "\n",
      "Total time taken:  3.971755878130595  min\n"
     ]
    }
   ],
   "source": [
    "df_all = fix_descripcion_strings(df_all)"
   ]
  },
  {
   "cell_type": "code",
   "execution_count": 19,
   "metadata": {},
   "outputs": [],
   "source": [
    "df_all = drop_cve_columns(df_all)"
   ]
  },
  {
   "cell_type": "code",
   "execution_count": 20,
   "metadata": {},
   "outputs": [],
   "source": [
    "mask = [isinstance(x, str) for x in df_all['SANCION']]\n",
    "\n",
    "df_all.loc[mask, 'SANCION'] = df_all.loc[mask, 'SANCION'].apply(lambda x: np.NaN if x == ' ' else x)\n",
    "df_all.loc[mask,'SANCION'] = df_all.loc[mask,'SANCION'].str.replace(\"\\.00$\", '')\n",
    "df_all.loc[mask,'SANCION'] = df_all.loc[mask,'SANCION'].str.replace(\"\\.\", '')\n",
    "df_all.loc[mask,'SANCION'] = df_all.loc[mask,'SANCION'].str.replace(\",\", '')\n",
    "\n",
    "df_all['SANCION'] = df_all['SANCION'].astype(float)"
   ]
  },
  {
   "cell_type": "code",
   "execution_count": 21,
   "metadata": {},
   "outputs": [
    {
     "data": {
      "text/plain": [
       "(640405, 22)"
      ]
     },
     "execution_count": 21,
     "metadata": {},
     "output_type": "execute_result"
    }
   ],
   "source": [
    "df_all.shape"
   ]
  },
  {
   "cell_type": "code",
   "execution_count": 22,
   "metadata": {
    "scrolled": true
   },
   "outputs": [],
   "source": [
    "df_all.to_csv(\"presupuesto_sancionado_clean.csv\", index=False)"
   ]
  },
  {
   "cell_type": "code",
   "execution_count": null,
   "metadata": {},
   "outputs": [],
   "source": []
  }
 ],
 "metadata": {
  "kernelspec": {
   "display_name": "Python 3",
   "language": "python",
   "name": "python3"
  },
  "language_info": {
   "codemirror_mode": {
    "name": "ipython",
    "version": 3
   },
   "file_extension": ".py",
   "mimetype": "text/x-python",
   "name": "python",
   "nbconvert_exporter": "python",
   "pygments_lexer": "ipython3",
   "version": "3.7.1"
  },
  "toc": {
   "base_numbering": 1,
   "nav_menu": {},
   "number_sections": false,
   "sideBar": true,
   "skip_h1_title": false,
   "title_cell": "Table of Contents",
   "title_sidebar": "Contents",
   "toc_cell": false,
   "toc_position": {},
   "toc_section_display": true,
   "toc_window_display": false
  }
 },
 "nbformat": 4,
 "nbformat_minor": 2
}
