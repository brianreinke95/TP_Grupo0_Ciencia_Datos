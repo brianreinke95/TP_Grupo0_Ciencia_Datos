{
 "cells": [
  {
   "cell_type": "markdown",
   "metadata": {
    "id": "N4NAb77MIUeS"
   },
   "source": [
    "# EDA espacios Verdes y Comunas"
   ]
  },
  {
   "cell_type": "markdown",
   "metadata": {
    "id": "z44Tbq-iWKfz"
   },
   "source": [
    "El objetivo principal poder medir y analizar la cantidad y tipo de espacios verdes en la ciudad de buenos aires y a su vez poder compararlos con los que recomiendan organizaciones como la OMS en terminos de M2 (metros cuadrados) de espacios verdes por habitante. Teniendo en cuenta que C.A.B.A. es una de las grandes urbes a nivel mundial."
   ]
  },
  {
   "cell_type": "markdown",
   "metadata": {
    "id": "mDLRTe1E_3KS"
   },
   "source": [
    "## Primero se debe instalar geopandas y geoplot"
   ]
  },
  {
   "cell_type": "code",
   "execution_count": 1,
   "metadata": {
    "colab": {
     "base_uri": "https://localhost:8080/"
    },
    "executionInfo": {
     "elapsed": 62161,
     "status": "ok",
     "timestamp": 1605468124551,
     "user": {
      "displayName": "Pedro Kopyto",
      "photoUrl": "https://lh3.googleusercontent.com/a-/AOh14GguiRaio4_I2Ssm5ozad-jeC7XuDAQiYQwOGz_GYSw=s64",
      "userId": "02859114360731692156"
     },
     "user_tz": 180
    },
    "id": "6bivf6YT1W-s",
    "outputId": "5a9a5a90-79b2-48a0-8b0f-36ad94cf65d1"
   },
   "outputs": [
    {
     "name": "stdout",
     "output_type": "stream",
     "text": [
      "Collecting git+git://github.com/geopandas/geopandas.git\n",
      "  Cloning git://github.com/geopandas/geopandas.git to c:\\users\\tom\\appdata\\local\\temp\\pip-req-build-9zc3jltr\n"
     ]
    },
    {
     "name": "stderr",
     "output_type": "stream",
     "text": [
      "  Running command git clone -q git://github.com/geopandas/geopandas.git 'C:\\Users\\Tom\\AppData\\Local\\Temp\\pip-req-build-9zc3jltr'\n",
      "  ERROR: Error [WinError 2] El sistema no puede encontrar el archivo especificado while executing command git clone -q git://github.com/geopandas/geopandas.git 'C:\\Users\\Tom\\AppData\\Local\\Temp\\pip-req-build-9zc3jltr'\n",
      "ERROR: Cannot find command 'git' - do you have 'git' installed and in your PATH?\n",
      "\"apt\" no se reconoce como un comando interno o externo,\n",
      "programa o archivo por lotes ejecutable.\n"
     ]
    },
    {
     "name": "stdout",
     "output_type": "stream",
     "text": [
      "Collecting git+git://github.com/ResidentMario/geoplot.git"
     ]
    },
    {
     "name": "stderr",
     "output_type": "stream",
     "text": [
      "  Running command git clone -q git://github.com/ResidentMario/geoplot.git 'C:\\Users\\Tom\\AppData\\Local\\Temp\\pip-req-build-qljqaivb'\n",
      "  ERROR: Error [WinError 2] El sistema no puede encontrar el archivo especificado while executing command git clone -q git://github.com/ResidentMario/geoplot.git 'C:\\Users\\Tom\\AppData\\Local\\Temp\\pip-req-build-qljqaivb'\n",
      "ERROR: Cannot find command 'git' - do you have 'git' installed and in your PATH?\n"
     ]
    },
    {
     "name": "stdout",
     "output_type": "stream",
     "text": [
      "\n",
      "  Cloning git://github.com/ResidentMario/geoplot.git to c:\\users\\tom\\appdata\\local\\temp\\pip-req-build-qljqaivb\n"
     ]
    }
   ],
   "source": [
    "!pip install git+git://github.com/geopandas/geopandas.git\n",
    "!apt install proj-bin libproj-dev libgeos-dev\n",
    "!pip install git+git://github.com/ResidentMario/geoplot.git"
   ]
  },
  {
   "cell_type": "code",
   "execution_count": null,
   "metadata": {},
   "outputs": [],
   "source": [
    "conda install geopandas"
   ]
  },
  {
   "cell_type": "code",
   "execution_count": 2,
   "metadata": {},
   "outputs": [
    {
     "data": {
      "text/plain": [
       "False"
      ]
     },
     "execution_count": 2,
     "metadata": {},
     "output_type": "execute_result"
    }
   ],
   "source": [
    "import sys\n",
    "'geopandas' in sys.modules"
   ]
  },
  {
   "cell_type": "markdown",
   "metadata": {
    "id": "2Obv9-myInkw"
   },
   "source": [
    "### Se importan bibliotecas"
   ]
  },
  {
   "cell_type": "code",
   "execution_count": 3,
   "metadata": {},
   "outputs": [
    {
     "ename": "ModuleNotFoundError",
     "evalue": "No module named 'geopandas'",
     "output_type": "error",
     "traceback": [
      "\u001b[1;31m---------------------------------------------------------------------------\u001b[0m",
      "\u001b[1;31mModuleNotFoundError\u001b[0m                       Traceback (most recent call last)",
      "\u001b[1;32m<ipython-input-3-0c6fb62fe352>\u001b[0m in \u001b[0;36m<module>\u001b[1;34m\u001b[0m\n\u001b[1;32m----> 1\u001b[1;33m \u001b[1;32mimport\u001b[0m \u001b[0mgeopandas\u001b[0m \u001b[1;32mas\u001b[0m \u001b[0mgpd\u001b[0m\u001b[1;33m\u001b[0m\u001b[1;33m\u001b[0m\u001b[0m\n\u001b[0m\u001b[0;32m      2\u001b[0m \u001b[1;32mimport\u001b[0m \u001b[0mgeoplot\u001b[0m \u001b[1;32mas\u001b[0m \u001b[0mgplt\u001b[0m\u001b[1;33m\u001b[0m\u001b[1;33m\u001b[0m\u001b[0m\n",
      "\u001b[1;31mModuleNotFoundError\u001b[0m: No module named 'geopandas'"
     ]
    }
   ],
   "source": [
    "import geopandas as gpd\n",
    "import geoplot as gplt"
   ]
  },
  {
   "cell_type": "code",
   "execution_count": null,
   "metadata": {
    "id": "VOH73dZ21a1K"
   },
   "outputs": [],
   "source": [
    "import numpy as np\n",
    "import pandas as pd\n",
    "import matplotlib.pyplot as plt\n",
    "import warnings\n",
    "warnings.filterwarnings('ignore')"
   ]
  },
  {
   "cell_type": "code",
   "execution_count": null,
   "metadata": {
    "id": "N-qiINBQSK2g"
   },
   "outputs": [],
   "source": [
    "import seaborn as sns\n",
    "import plotly.express as px\n",
    "import plotly.graph_objects as go\n",
    "%matplotlib inline"
   ]
  },
  {
   "cell_type": "code",
   "execution_count": null,
   "metadata": {},
   "outputs": [],
   "source": [
    "pd.set_option('display.max_rows', 1000)  \n",
    "pd.set_option('display.max_columns', 1000) "
   ]
  },
  {
   "cell_type": "markdown",
   "metadata": {
    "id": "Hjn5niWozTRm"
   },
   "source": [
    "# Carga de datasets"
   ]
  },
  {
   "cell_type": "markdown",
   "metadata": {
    "id": "0wwuGWnPIxoY"
   },
   "source": [
    "Los datasets a utilizar se pueden encontrar en las siguentes paguinas: \n",
    "\n",
    "https://data.buenosaires.gob.ar/dataset/espacios-verdes\n",
    "\n",
    "https://data.buenosaires.gob.ar/dataset/comunas"
   ]
  },
  {
   "cell_type": "markdown",
   "metadata": {
    "id": "umRwrTMgNA95"
   },
   "source": [
    "El de espacios verdes se descarga tanto con pandas para poder manipularlo como con geopandas para las visualizaciones de los mapas. El de comunas solo con geopandas"
   ]
  },
  {
   "cell_type": "code",
   "execution_count": null,
   "metadata": {
    "id": "rc_ZrEvWJf9B"
   },
   "outputs": [],
   "source": [
    "evt = pd.read_csv(\"datasets/espacios_verdes.csv\")"
   ]
  },
  {
   "cell_type": "code",
   "execution_count": null,
   "metadata": {
    "colab": {
     "base_uri": "https://localhost:8080/"
    },
    "executionInfo": {
     "elapsed": 65170,
     "status": "ok",
     "timestamp": 1605468127596,
     "user": {
      "displayName": "Pedro Kopyto",
      "photoUrl": "https://lh3.googleusercontent.com/a-/AOh14GguiRaio4_I2Ssm5ozad-jeC7XuDAQiYQwOGz_GYSw=s64",
      "userId": "02859114360731692156"
     },
     "user_tz": 180
    },
    "id": "FbrcQnFnNjiZ",
    "outputId": "c9016db2-59e2-49b1-9341-7d69f6035d2b"
   },
   "outputs": [],
   "source": [
    "np.shape(evt)"
   ]
  },
  {
   "cell_type": "code",
   "execution_count": null,
   "metadata": {
    "colab": {
     "base_uri": "https://localhost:8080/",
     "height": 855
    },
    "executionInfo": {
     "elapsed": 65153,
     "status": "ok",
     "timestamp": 1605468127598,
     "user": {
      "displayName": "Pedro Kopyto",
      "photoUrl": "https://lh3.googleusercontent.com/a-/AOh14GguiRaio4_I2Ssm5ozad-jeC7XuDAQiYQwOGz_GYSw=s64",
      "userId": "02859114360731692156"
     },
     "user_tz": 180
    },
    "id": "epJTJ3e0NHNC",
    "outputId": "125413b1-68d1-4ea6-aff2-d33aa7b0f1fd"
   },
   "outputs": [],
   "source": [
    "evt.head(3)"
   ]
  },
  {
   "cell_type": "code",
   "execution_count": null,
   "metadata": {
    "colab": {
     "base_uri": "https://localhost:8080/"
    },
    "executionInfo": {
     "elapsed": 65120,
     "status": "ok",
     "timestamp": 1605468127599,
     "user": {
      "displayName": "Pedro Kopyto",
      "photoUrl": "https://lh3.googleusercontent.com/a-/AOh14GguiRaio4_I2Ssm5ozad-jeC7XuDAQiYQwOGz_GYSw=s64",
      "userId": "02859114360731692156"
     },
     "user_tz": 180
    },
    "id": "bn36LxHSVJW7",
    "outputId": "eb8e5ca7-01c5-4c68-eff6-a2edd966fcc5",
    "scrolled": true
   },
   "outputs": [],
   "source": [
    "evt.info()"
   ]
  },
  {
   "cell_type": "code",
   "execution_count": null,
   "metadata": {},
   "outputs": [],
   "source": [
    "num_rows = evt.shape[0]"
   ]
  },
  {
   "cell_type": "code",
   "execution_count": null,
   "metadata": {},
   "outputs": [],
   "source": [
    "nulls = evt.isnull().sum()"
   ]
  },
  {
   "cell_type": "code",
   "execution_count": null,
   "metadata": {
    "colab": {
     "base_uri": "https://localhost:8080/"
    },
    "executionInfo": {
     "elapsed": 65097,
     "status": "ok",
     "timestamp": 1605468127600,
     "user": {
      "displayName": "Pedro Kopyto",
      "photoUrl": "https://lh3.googleusercontent.com/a-/AOh14GguiRaio4_I2Ssm5ozad-jeC7XuDAQiYQwOGz_GYSw=s64",
      "userId": "02859114360731692156"
     },
     "user_tz": 180
    },
    "id": "yRNEJznPU7Kr",
    "outputId": "6358a693-dfd6-4619-91a7-186f7b464256"
   },
   "outputs": [],
   "source": [
    "# Columnas sin nulls\n",
    "print(nulls[nulls == 0].index.to_list())"
   ]
  },
  {
   "cell_type": "code",
   "execution_count": null,
   "metadata": {
    "scrolled": true
   },
   "outputs": [],
   "source": [
    "# Columnsas con nulls\n",
    "print(nulls[nulls != 0].sort_values(ascending=False))"
   ]
  },
  {
   "cell_type": "markdown",
   "metadata": {
    "id": "9FTnmrzkkr8X"
   },
   "source": [
    "Podemos notar que muchas de las columnas tienen una gran cantidad de nulos y no aportan informacion relevante.\n",
    "\n",
    "Se procede eliminando las columnas con muchos nulos"
   ]
  },
  {
   "cell_type": "markdown",
   "metadata": {
    "id": "R4GrOVnXzXyc"
   },
   "source": [
    "### Se depuran las columnas con nulos o irrelevantes"
   ]
  },
  {
   "cell_type": "code",
   "execution_count": null,
   "metadata": {
    "id": "PZPwk8E4Cp3w"
   },
   "outputs": [],
   "source": [
    "evt = evt.drop([\"nombre_ev\", \"apadrinada\", \"observacio\", \"fuente_geo\",\n",
    "                \"fuente_ins\", \"decreto\", \"fecha_decr\", \"ordenanza_\", \n",
    "                \"fecha_orde\", \"boletin_of\", \"fecha_bole\", \"fech_padri\", \n",
    "                \"vig_padri\", \"alc_conven\", \"nom_mapa\", \"DGEV_padri\", \n",
    "                \"mant_2017\", \"tareas\", \"estado\", \"sup_total\", \"canil\", \n",
    "                \"posta_aero\", \"etiqueta\", \"reja\", \"horario_invierno\", \n",
    "                \"horario_verano\", \"obs_reja\"], axis = 1)"
   ]
  },
  {
   "cell_type": "code",
   "execution_count": null,
   "metadata": {
    "colab": {
     "base_uri": "https://localhost:8080/"
    },
    "executionInfo": {
     "elapsed": 66444,
     "status": "ok",
     "timestamp": 1605468129050,
     "user": {
      "displayName": "Pedro Kopyto",
      "photoUrl": "https://lh3.googleusercontent.com/a-/AOh14GguiRaio4_I2Ssm5ozad-jeC7XuDAQiYQwOGz_GYSw=s64",
      "userId": "02859114360731692156"
     },
     "user_tz": 180
    },
    "id": "9y-JgcFvIEY1",
    "outputId": "f81124fc-7956-4035-cddf-bc59c5537733"
   },
   "outputs": [],
   "source": [
    "evt.head(3)"
   ]
  },
  {
   "cell_type": "markdown",
   "metadata": {},
   "source": [
    "## Uso de geopandas"
   ]
  },
  {
   "cell_type": "code",
   "execution_count": null,
   "metadata": {
    "colab": {
     "base_uri": "https://localhost:8080/"
    },
    "executionInfo": {
     "elapsed": 66058,
     "status": "ok",
     "timestamp": 1605468128601,
     "user": {
      "displayName": "Pedro Kopyto",
      "photoUrl": "https://lh3.googleusercontent.com/a-/AOh14GguiRaio4_I2Ssm5ozad-jeC7XuDAQiYQwOGz_GYSw=s64",
      "userId": "02859114360731692156"
     },
     "user_tz": 180
    },
    "id": "BHFzwJiQNPoX",
    "outputId": "efae2a61-1c3b-46bb-a110-eaecba11ed25"
   },
   "outputs": [],
   "source": [
    "ev = gpd.read_file(\"espacios_verdes.csv\")\n",
    "np.shape(ev)"
   ]
  },
  {
   "cell_type": "code",
   "execution_count": null,
   "metadata": {
    "colab": {
     "base_uri": "https://localhost:8080/",
     "height": 301
    },
    "executionInfo": {
     "elapsed": 66042,
     "status": "ok",
     "timestamp": 1605468128603,
     "user": {
      "displayName": "Pedro Kopyto",
      "photoUrl": "https://lh3.googleusercontent.com/a-/AOh14GguiRaio4_I2Ssm5ozad-jeC7XuDAQiYQwOGz_GYSw=s64",
      "userId": "02859114360731692156"
     },
     "user_tz": 180
    },
    "id": "cgYP9yq7N7Uo",
    "outputId": "8b21ed7b-be3c-4eec-dad4-f70c085ec495"
   },
   "outputs": [],
   "source": [
    "ev.head(2)"
   ]
  },
  {
   "cell_type": "code",
   "execution_count": null,
   "metadata": {
    "colab": {
     "base_uri": "https://localhost:8080/"
    },
    "executionInfo": {
     "elapsed": 66032,
     "status": "ok",
     "timestamp": 1605468128604,
     "user": {
      "displayName": "Pedro Kopyto",
      "photoUrl": "https://lh3.googleusercontent.com/a-/AOh14GguiRaio4_I2Ssm5ozad-jeC7XuDAQiYQwOGz_GYSw=s64",
      "userId": "02859114360731692156"
     },
     "user_tz": 180
    },
    "id": "DHpcehv8_9zq",
    "outputId": "c6b35854-979b-4325-eeaf-9856a64bff01"
   },
   "outputs": [],
   "source": [
    "com = gpd.read_file(\"comunasg.csv\")\n",
    "np.shape(com)"
   ]
  },
  {
   "cell_type": "code",
   "execution_count": null,
   "metadata": {
    "colab": {
     "base_uri": "https://localhost:8080/",
     "height": 193
    },
    "executionInfo": {
     "elapsed": 66464,
     "status": "ok",
     "timestamp": 1605468129046,
     "user": {
      "displayName": "Pedro Kopyto",
      "photoUrl": "https://lh3.googleusercontent.com/a-/AOh14GguiRaio4_I2Ssm5ozad-jeC7XuDAQiYQwOGz_GYSw=s64",
      "userId": "02859114360731692156"
     },
     "user_tz": 180
    },
    "id": "svNdyRDHOCIH",
    "outputId": "e4855644-6bde-4aa3-8be9-b4a9ecfcb77f"
   },
   "outputs": [],
   "source": [
    "com.head(3)"
   ]
  },
  {
   "cell_type": "markdown",
   "metadata": {
    "id": "DeuPz7mWRAh_"
   },
   "source": [
    "## Limpieza"
   ]
  },
  {
   "cell_type": "markdown",
   "metadata": {
    "id": "rditZIRAOxkO"
   },
   "source": [
    "Cambiamos los nombres de algunas columnas del dataset de comunas por las siguientes razones:\n",
    "- La columna \"comunas\" se cambia por \"comuna\", para que tenga el mismo nombre que en el dataset de espacios verdes.\n",
    "- La columna  \"area\" se cambia por \"areac\" ya que este es el area de la comuna y no se debe confundir con el dataset de espacios verdes ya que en ese caso \"area\" indica el area de los espacios verdes."
   ]
  },
  {
   "cell_type": "code",
   "execution_count": null,
   "metadata": {
    "colab": {
     "base_uri": "https://localhost:8080/",
     "height": 193
    },
    "executionInfo": {
     "elapsed": 66455,
     "status": "ok",
     "timestamp": 1605468129047,
     "user": {
      "displayName": "Pedro Kopyto",
      "photoUrl": "https://lh3.googleusercontent.com/a-/AOh14GguiRaio4_I2Ssm5ozad-jeC7XuDAQiYQwOGz_GYSw=s64",
      "userId": "02859114360731692156"
     },
     "user_tz": 180
    },
    "id": "I_QQaqy61b_5",
    "outputId": "d2c4df87-73e4-4da0-8a0e-59408b83ca91"
   },
   "outputs": [],
   "source": [
    "com = com.rename(columns = {'comunas': 'comuna', \"area\":\"areac\"}, inplace = False)\n",
    "com.head(3)"
   ]
  },
  {
   "cell_type": "code",
   "execution_count": null,
   "metadata": {
    "colab": {
     "base_uri": "https://localhost:8080/"
    },
    "executionInfo": {
     "elapsed": 66440,
     "status": "ok",
     "timestamp": 1605468129051,
     "user": {
      "displayName": "Pedro Kopyto",
      "photoUrl": "https://lh3.googleusercontent.com/a-/AOh14GguiRaio4_I2Ssm5ozad-jeC7XuDAQiYQwOGz_GYSw=s64",
      "userId": "02859114360731692156"
     },
     "user_tz": 180
    },
    "id": "zuEoRf1LQbzm",
    "outputId": "4717f932-9758-48f6-92a8-168503700528"
   },
   "outputs": [],
   "source": [
    "com.info()"
   ]
  },
  {
   "cell_type": "markdown",
   "metadata": {
    "id": "iMQvWV3DQdqU"
   },
   "source": [
    "En el caso de este datasets son pocas las features y todas utiles"
   ]
  },
  {
   "cell_type": "code",
   "execution_count": null,
   "metadata": {
    "colab": {
     "base_uri": "https://localhost:8080/"
    },
    "executionInfo": {
     "elapsed": 66433,
     "status": "ok",
     "timestamp": 1605468129052,
     "user": {
      "displayName": "Pedro Kopyto",
      "photoUrl": "https://lh3.googleusercontent.com/a-/AOh14GguiRaio4_I2Ssm5ozad-jeC7XuDAQiYQwOGz_GYSw=s64",
      "userId": "02859114360731692156"
     },
     "user_tz": 180
    },
    "id": "w96aeJeRv2VZ",
    "outputId": "1b9c3b83-dfef-42b1-cef6-b96bb2944f90"
   },
   "outputs": [],
   "source": [
    "# Se cambia el formato de la columna comunas a string:\n",
    "com[\"comuna\"] = com[\"comuna\"].astype(\"str\")\n",
    "com.head()"
   ]
  },
  {
   "cell_type": "markdown",
   "metadata": {
    "id": "NWnd8SEBRQTP"
   },
   "source": [
    "# Análisis"
   ]
  },
  {
   "cell_type": "markdown",
   "metadata": {
    "id": "vKcBD423ApjE"
   },
   "source": [
    "Muestro todas las clasificaciones que hay para espacios_verdes"
   ]
  },
  {
   "cell_type": "code",
   "execution_count": null,
   "metadata": {
    "colab": {
     "base_uri": "https://localhost:8080/"
    },
    "executionInfo": {
     "elapsed": 66427,
     "status": "ok",
     "timestamp": 1605468129053,
     "user": {
      "displayName": "Pedro Kopyto",
      "photoUrl": "https://lh3.googleusercontent.com/a-/AOh14GguiRaio4_I2Ssm5ozad-jeC7XuDAQiYQwOGz_GYSw=s64",
      "userId": "02859114360731692156"
     },
     "user_tz": 180
    },
    "id": "Afcxgo_qAcZ7",
    "outputId": "bf969242-b763-4dac-b79b-c1cc28806904"
   },
   "outputs": [],
   "source": [
    "ev[\"clasificac\"].unique()"
   ]
  },
  {
   "cell_type": "code",
   "execution_count": null,
   "metadata": {
    "colab": {
     "base_uri": "https://localhost:8080/"
    },
    "executionInfo": {
     "elapsed": 66422,
     "status": "ok",
     "timestamp": 1605468129054,
     "user": {
      "displayName": "Pedro Kopyto",
      "photoUrl": "https://lh3.googleusercontent.com/a-/AOh14GguiRaio4_I2Ssm5ozad-jeC7XuDAQiYQwOGz_GYSw=s64",
      "userId": "02859114360731692156"
     },
     "user_tz": 180
    },
    "id": "jverP9bP64Dq",
    "outputId": "f9e2b06a-f955-4a4b-c611-735b97cb8860"
   },
   "outputs": [],
   "source": [
    "evtxt= evt.groupby([\"clasificac\"]).area.sum()\n",
    "evtxt = evtxt.sort_values(ascending=False)"
   ]
  },
  {
   "cell_type": "code",
   "execution_count": null,
   "metadata": {},
   "outputs": [],
   "source": [
    "evtxt"
   ]
  },
  {
   "cell_type": "code",
   "execution_count": null,
   "metadata": {
    "colab": {
     "base_uri": "https://localhost:8080/",
     "height": 772
    },
    "executionInfo": {
     "elapsed": 67083,
     "status": "ok",
     "timestamp": 1605468129724,
     "user": {
      "displayName": "Pedro Kopyto",
      "photoUrl": "https://lh3.googleusercontent.com/a-/AOh14GguiRaio4_I2Ssm5ozad-jeC7XuDAQiYQwOGz_GYSw=s64",
      "userId": "02859114360731692156"
     },
     "user_tz": 180
    },
    "id": "8nY5pz_V6_DS",
    "outputId": "dad4ff7e-bbca-4053-ed46-b928347074b6"
   },
   "outputs": [],
   "source": [
    "evtxt.plot(kind = \"bar\", figsize = (10,5));\n",
    "plt.title(\"Suma de area por clasificacion\", fontsize=16)\n",
    "plt.ylabel(\"Area [millones de M2]\", fontsize=14);\n",
    "plt.xlabel(\"\");"
   ]
  },
  {
   "cell_type": "code",
   "execution_count": null,
   "metadata": {
    "colab": {
     "base_uri": "https://localhost:8080/"
    },
    "executionInfo": {
     "elapsed": 67073,
     "status": "ok",
     "timestamp": 1605468129725,
     "user": {
      "displayName": "Pedro Kopyto",
      "photoUrl": "https://lh3.googleusercontent.com/a-/AOh14GguiRaio4_I2Ssm5ozad-jeC7XuDAQiYQwOGz_GYSw=s64",
      "userId": "02859114360731692156"
     },
     "user_tz": 180
    },
    "id": "OWKHmJ9HoU7V",
    "outputId": "dc57da73-93a3-4f81-f600-3db5b713a6d2"
   },
   "outputs": [],
   "source": [
    "evtxc= evt.groupby([\"comuna\"]).area.sum()\n",
    "evtxc = evtxc.sort_values(ascending=False)"
   ]
  },
  {
   "cell_type": "code",
   "execution_count": null,
   "metadata": {
    "scrolled": true
   },
   "outputs": [],
   "source": [
    "evtxc"
   ]
  },
  {
   "cell_type": "markdown",
   "metadata": {
    "id": "mYPN1GZgRfHp"
   },
   "source": [
    "**Se genera un grafico de barras para conocer cuantos M2 de espacios verde tiene cada comuna**"
   ]
  },
  {
   "cell_type": "code",
   "execution_count": null,
   "metadata": {
    "colab": {
     "base_uri": "https://localhost:8080/",
     "height": 651
    },
    "executionInfo": {
     "elapsed": 67067,
     "status": "ok",
     "timestamp": 1605468129727,
     "user": {
      "displayName": "Pedro Kopyto",
      "photoUrl": "https://lh3.googleusercontent.com/a-/AOh14GguiRaio4_I2Ssm5ozad-jeC7XuDAQiYQwOGz_GYSw=s64",
      "userId": "02859114360731692156"
     },
     "user_tz": 180
    },
    "id": "fqBonMlhq23v",
    "outputId": "4bc77e01-b92e-4325-9a10-7d5f25c5fcc4"
   },
   "outputs": [],
   "source": [
    "evtxc.plot(kind=\"bar\", figsize = (10,5))\n",
    "plt.ylabel(\"Area [millones de M2]\", fontsize=14)\n",
    "plt.xlabel(\"Comuna\", fontsize=14)\n",
    "plt.title(\"Suma de area por comuna\", fontsize=16)"
   ]
  },
  {
   "cell_type": "markdown",
   "metadata": {
    "id": "rLfelyNdt1eB"
   },
   "source": [
    "que hay en la comuna cero?"
   ]
  },
  {
   "cell_type": "code",
   "execution_count": null,
   "metadata": {
    "colab": {
     "base_uri": "https://localhost:8080/"
    },
    "executionInfo": {
     "elapsed": 67624,
     "status": "ok",
     "timestamp": 1605468130292,
     "user": {
      "displayName": "Pedro Kopyto",
      "photoUrl": "https://lh3.googleusercontent.com/a-/AOh14GguiRaio4_I2Ssm5ozad-jeC7XuDAQiYQwOGz_GYSw=s64",
      "userId": "02859114360731692156"
     },
     "user_tz": 180
    },
    "id": "T068-kSkt4OQ",
    "outputId": "50201fea-f531-4b11-8b44-7f17c92acd7d"
   },
   "outputs": [],
   "source": [
    "comuna0 = evt.loc[evt[\"comuna\"] == 0]\n",
    "comuna0"
   ]
  },
  {
   "cell_type": "markdown",
   "metadata": {
    "id": "oD1_9nzP8mlN"
   },
   "source": [
    "**Se modifican los valores de la comuna por los que realmente son:**"
   ]
  },
  {
   "cell_type": "code",
   "execution_count": null,
   "metadata": {
    "colab": {
     "base_uri": "https://localhost:8080/",
     "height": 49
    },
    "executionInfo": {
     "elapsed": 67615,
     "status": "ok",
     "timestamp": 1605468130294,
     "user": {
      "displayName": "Pedro Kopyto",
      "photoUrl": "https://lh3.googleusercontent.com/a-/AOh14GguiRaio4_I2Ssm5ozad-jeC7XuDAQiYQwOGz_GYSw=s64",
      "userId": "02859114360731692156"
     },
     "user_tz": 180
    },
    "id": "IuDpn4LIpefM",
    "outputId": "3966cc46-89a3-41f3-8fe0-a5b33e48576d"
   },
   "outputs": [],
   "source": [
    "evt.loc[1497, 'comuna'] = 10.0\n",
    "evt.loc[1570, 'comuna'] = 8.0\n",
    "evt.loc[1571, 'comuna'] = 8.0\n",
    "evt.loc[1573, 'comuna'] = 8.0\n",
    "evt.loc[1574, 'comuna'] = 8.0\n",
    "evt.loc[1727, 'comuna'] = 1.0"
   ]
  },
  {
   "cell_type": "code",
   "execution_count": null,
   "metadata": {},
   "outputs": [],
   "source": [
    "# Chequeo de que no quedan comunas 0:\n",
    "comuna0 = evt[\"comuna\"] == 0\n",
    "comuna0 = evt[comuna0]\n",
    "comuna0"
   ]
  },
  {
   "cell_type": "code",
   "execution_count": null,
   "metadata": {
    "colab": {
     "base_uri": "https://localhost:8080/",
     "height": 542
    },
    "executionInfo": {
     "elapsed": 2199,
     "status": "ok",
     "timestamp": 1605469803184,
     "user": {
      "displayName": "Pedro Kopyto",
      "photoUrl": "https://lh3.googleusercontent.com/a-/AOh14GguiRaio4_I2Ssm5ozad-jeC7XuDAQiYQwOGz_GYSw=s64",
      "userId": "02859114360731692156"
     },
     "user_tz": 180
    },
    "id": "QAtrUBJGbblg",
    "outputId": "ac8294b8-d2bd-4f51-f8ad-f764a749a308"
   },
   "outputs": [],
   "source": [
    "sub_evt = evt.groupby([\"comuna\", \"clasificac\"])[\"area\"].sum().unstack()\n",
    "sub_evt.plot(kind=\"bar\", stacked=True, label=True, figsize = (12,8));\n",
    "plt.ylabel(\"Area [millones de M2]\", fontsize=14);\n",
    "plt.xlabel(\"Comuna\", fontsize=14);\n",
    "plt.title(\"Suma de area por comuna y clasificacion\", fontsize=16);\n",
    "plt.legend(bbox_to_anchor=(1.3, 1));"
   ]
  },
  {
   "cell_type": "markdown",
   "metadata": {
    "id": "UZQuXQFcDYDq"
   },
   "source": [
    "Se generan Boxplot por cada clasificacion de Espacios verdes y por comuna"
   ]
  },
  {
   "cell_type": "code",
   "execution_count": null,
   "metadata": {
    "colab": {
     "base_uri": "https://localhost:8080/",
     "height": 553
    },
    "executionInfo": {
     "elapsed": 67607,
     "status": "ok",
     "timestamp": 1605468130295,
     "user": {
      "displayName": "Pedro Kopyto",
      "photoUrl": "https://lh3.googleusercontent.com/a-/AOh14GguiRaio4_I2Ssm5ozad-jeC7XuDAQiYQwOGz_GYSw=s64",
      "userId": "02859114360731692156"
     },
     "user_tz": 180
    },
    "id": "fnxf-6npDiUf",
    "outputId": "cb1bb8c6-1f3f-4fcf-99eb-3ef2baea388d"
   },
   "outputs": [],
   "source": [
    "plt.figure(figsize=(12,7))\n",
    "ax = sns.boxplot(y=\"clasificac\", x=\"area\", data=evt, fliersize = 6)\n",
    "plt.title(\"Distribución de área por clasificación de Espacio Verde\", fontsize=16)\n",
    "plt.xlabel('Area', fontsize=14)\n",
    "plt.ylabel('')\n",
    "plt.tight_layout()"
   ]
  },
  {
   "cell_type": "markdown",
   "metadata": {
    "id": "nV-aJ93GY0KW"
   },
   "source": [
    "Se realiza el mismo grafico exceptuando el parque semipublico ya que tiene parametros muy lejanos a la media (una especie de outlier) y eso dificulta la visualizacion de las demas clasificaciones"
   ]
  },
  {
   "cell_type": "code",
   "execution_count": null,
   "metadata": {
    "colab": {
     "base_uri": "https://localhost:8080/",
     "height": 553
    },
    "executionInfo": {
     "elapsed": 1577,
     "status": "ok",
     "timestamp": 1605468914456,
     "user": {
      "displayName": "Pedro Kopyto",
      "photoUrl": "https://lh3.googleusercontent.com/a-/AOh14GguiRaio4_I2Ssm5ozad-jeC7XuDAQiYQwOGz_GYSw=s64",
      "userId": "02859114360731692156"
     },
     "user_tz": 180
    },
    "id": "CzT9o41CZXpq",
    "outputId": "2ba115f9-d0ce-449d-80fd-94c1b305cd67"
   },
   "outputs": [],
   "source": [
    "evtsps = evt[evt['clasificac'] != \"PARQUE SEMIPÚBLICO\"]\n",
    "\n",
    "plt.figure(figsize=(12,7))\n",
    "ax = sns.boxplot(y=\"clasificac\", x=\"area\", data=evtsps, fliersize = 6, showfliers=False)\n",
    "plt.title(\"Distribución de área por clasificación de Espacio Verde\", fontsize=16)\n",
    "plt.xlabel('Area [m2]', fontsize=14)\n",
    "plt.ylabel('')\n",
    "plt.tight_layout()"
   ]
  },
  {
   "cell_type": "markdown",
   "metadata": {
    "id": "SoyqUfkVaRN6"
   },
   "source": [
    "**Se puede notar facilmente que ademas de \"parque semipubluco\" las clasificaciones de mayor cantidad de metros cuadrados son los parques, jardines y plazas.**"
   ]
  },
  {
   "cell_type": "markdown",
   "metadata": {
    "id": "JQxiV_yo4DOL"
   },
   "source": [
    "#### Tambien mostramos un Pairplot clasificado por tipo de Espacio Verde para entender mejor las relaciones de las variables"
   ]
  },
  {
   "cell_type": "code",
   "execution_count": null,
   "metadata": {
    "colab": {
     "base_uri": "https://localhost:8080/",
     "height": 694
    },
    "executionInfo": {
     "elapsed": 78685,
     "status": "ok",
     "timestamp": 1605468141391,
     "user": {
      "displayName": "Pedro Kopyto",
      "photoUrl": "https://lh3.googleusercontent.com/a-/AOh14GguiRaio4_I2Ssm5ozad-jeC7XuDAQiYQwOGz_GYSw=s64",
      "userId": "02859114360731692156"
     },
     "user_tz": 180
    },
    "id": "Ves3Hr9e01YX",
    "outputId": "3c84334e-797a-44d6-ef4e-2b5ef3ce0c07"
   },
   "outputs": [],
   "source": [
    "sns.pairplot(evt, hue = \"clasificac\")\n",
    "\n",
    "plt.show()"
   ]
  },
  {
   "cell_type": "markdown",
   "metadata": {
    "id": "LDaq1LCffVuf"
   },
   "source": [
    "Se hacen tablas y gráficos de torta para entender la cantidad de cada espacio y la distribucion de los m2 por clasificacion"
   ]
  },
  {
   "cell_type": "code",
   "execution_count": null,
   "metadata": {
    "colab": {
     "base_uri": "https://localhost:8080/"
    },
    "executionInfo": {
     "elapsed": 78679,
     "status": "ok",
     "timestamp": 1605468141393,
     "user": {
      "displayName": "Pedro Kopyto",
      "photoUrl": "https://lh3.googleusercontent.com/a-/AOh14GguiRaio4_I2Ssm5ozad-jeC7XuDAQiYQwOGz_GYSw=s64",
      "userId": "02859114360731692156"
     },
     "user_tz": 180
    },
    "id": "CYS7v2ZThAc-",
    "outputId": "145fd79e-2a1b-46c1-d550-c008268602a0"
   },
   "outputs": [],
   "source": [
    "evxcl = evt.clasificac.value_counts()\n",
    "evxcl"
   ]
  },
  {
   "cell_type": "code",
   "execution_count": null,
   "metadata": {},
   "outputs": [],
   "source": [
    "evxcl.to_list()"
   ]
  },
  {
   "cell_type": "code",
   "execution_count": null,
   "metadata": {},
   "outputs": [],
   "source": [
    "fig, ax = plt.subplots(figsize=(10, 6), subplot_kw=dict(aspect=\"equal\"))\n",
    "\n",
    "categorias = evxcl.index.to_list()\n",
    "\n",
    "data = evxcl.to_list()\n",
    "\n",
    "wedges, texts = ax.pie(data, wedgeprops=dict(width=0.5), startangle=-40)\n",
    "\n",
    "bbox_props = dict(boxstyle=\"square,pad=0.3\", fc=\"w\", ec=\"k\", lw=0.72)\n",
    "kw = dict(arrowprops=dict(arrowstyle=\"-\"),\n",
    "          bbox=bbox_props, zorder=0, va=\"center\")\n",
    "\n",
    "for i, p in enumerate(wedges):\n",
    "    ang = (p.theta2 - p.theta1)/2. + p.theta1\n",
    "    y = np.sin(np.deg2rad(ang))\n",
    "    x = np.cos(np.deg2rad(ang))\n",
    "    horizontalalignment = {-1: \"right\", 1: \"left\"}[int(np.sign(x))]\n",
    "    connectionstyle = \"angle,angleA=0,angleB={}\".format(ang)\n",
    "    kw[\"arrowprops\"].update({\"connectionstyle\": connectionstyle})\n",
    "    ax.annotate(categorias[i], xy=(x, y), xytext=(1.35*np.sign(x), 1.4*y),\n",
    "                horizontalalignment=horizontalalignment, **kw)\n",
    "\n",
    "ax.set_title(\"Cantidad de Espacios Verdes por Clasificacion\", fontsize=16)\n",
    "\n",
    "percents = [str(round((x/np.array(data).sum())*100, 1))+\"%   \" + y for x, y in zip(data, categorias)]\n",
    "plt.legend(wedges, percents, loc='right center', bbox_to_anchor=(1.7, 1.),\n",
    "           fontsize=14)\n",
    "plt.tight_layout()\n",
    "plt.show()"
   ]
  },
  {
   "cell_type": "code",
   "execution_count": null,
   "metadata": {
    "colab": {
     "base_uri": "https://localhost:8080/",
     "height": 264
    },
    "executionInfo": {
     "elapsed": 78672,
     "status": "ok",
     "timestamp": 1605468141394,
     "user": {
      "displayName": "Pedro Kopyto",
      "photoUrl": "https://lh3.googleusercontent.com/a-/AOh14GguiRaio4_I2Ssm5ozad-jeC7XuDAQiYQwOGz_GYSw=s64",
      "userId": "02859114360731692156"
     },
     "user_tz": 180
    },
    "id": "PWKwaG3pgZOf",
    "outputId": "6235e48a-3466-42bc-a9b0-4685fa422716"
   },
   "outputs": [],
   "source": [
    "plt.pie(evxcl,labels = evxcl.index,autopct='%1.1f%%')\n",
    "plt.title('Cantidad de Espacios Verdes por Clasificacion')\n",
    "plt.axis('equal')\n",
    "plt.show()"
   ]
  },
  {
   "cell_type": "markdown",
   "metadata": {
    "id": "TAaE7J1aYeum"
   },
   "source": [
    "**Tambien se analiza la cantidad distribucion de los metros cuadrados por clasificacion**"
   ]
  },
  {
   "cell_type": "code",
   "execution_count": null,
   "metadata": {
    "colab": {
     "base_uri": "https://localhost:8080/",
     "height": 268
    },
    "executionInfo": {
     "elapsed": 1441,
     "status": "ok",
     "timestamp": 1605468541757,
     "user": {
      "displayName": "Pedro Kopyto",
      "photoUrl": "https://lh3.googleusercontent.com/a-/AOh14GguiRaio4_I2Ssm5ozad-jeC7XuDAQiYQwOGz_GYSw=s64",
      "userId": "02859114360731692156"
     },
     "user_tz": 180
    },
    "id": "QSUbBKtS9pTo",
    "outputId": "0b87b196-c2f6-4cf6-c9f9-1e0f0f8bc5bf"
   },
   "outputs": [],
   "source": [
    "plt.pie(evtxt,labels = evtxt.index,autopct='%1.1f%%',)\n",
    "plt.title('Metros cuadrados de Espacios Verdes por clasificacion')\n",
    "plt.axis('equal')\n",
    "plt.show()"
   ]
  },
  {
   "cell_type": "markdown",
   "metadata": {
    "id": "ApBT2sTTSOgx"
   },
   "source": [
    "Tanto la tabla como el grafico de tortas se realizan a nivel comuna"
   ]
  },
  {
   "cell_type": "code",
   "execution_count": null,
   "metadata": {
    "colab": {
     "base_uri": "https://localhost:8080/"
    },
    "executionInfo": {
     "elapsed": 1015,
     "status": "ok",
     "timestamp": 1605468523494,
     "user": {
      "displayName": "Pedro Kopyto",
      "photoUrl": "https://lh3.googleusercontent.com/a-/AOh14GguiRaio4_I2Ssm5ozad-jeC7XuDAQiYQwOGz_GYSw=s64",
      "userId": "02859114360731692156"
     },
     "user_tz": 180
    },
    "id": "6MDGDCP80vmt",
    "outputId": "815a8cc2-70d4-47d1-fbf8-afeac70940b1"
   },
   "outputs": [],
   "source": [
    "mevxc = evt.groupby([\"comuna\"]).area.sum()\n",
    "mevxc"
   ]
  },
  {
   "cell_type": "code",
   "execution_count": null,
   "metadata": {
    "colab": {
     "base_uri": "https://localhost:8080/",
     "height": 266
    },
    "executionInfo": {
     "elapsed": 1493,
     "status": "ok",
     "timestamp": 1605468527444,
     "user": {
      "displayName": "Pedro Kopyto",
      "photoUrl": "https://lh3.googleusercontent.com/a-/AOh14GguiRaio4_I2Ssm5ozad-jeC7XuDAQiYQwOGz_GYSw=s64",
      "userId": "02859114360731692156"
     },
     "user_tz": 180
    },
    "id": "TYjqy8oH0qwY",
    "outputId": "c2d1e6bb-5275-4c89-d3fe-61901ed20d43"
   },
   "outputs": [],
   "source": [
    "plt.pie(mevxc,labels = mevxc.index,autopct='%1.1f%%',)\n",
    "plt.title('Cantidad de Espacios Verdes por Clasificacion')\n",
    "plt.axis('equal')\n",
    "plt.show()"
   ]
  },
  {
   "cell_type": "code",
   "execution_count": null,
   "metadata": {
    "id": "Ei17Jyijg_By"
   },
   "outputs": [],
   "source": [
    "ordenevt = evt[evt.clasificac == \"PARQUE\" ].sort_values('area',ascending=False) \n",
    "ordenevt"
   ]
  },
  {
   "cell_type": "markdown",
   "metadata": {
    "id": "g2whg4a9TJ5F"
   },
   "source": [
    "## Geopandas"
   ]
  },
  {
   "cell_type": "code",
   "execution_count": null,
   "metadata": {
    "id": "R9f_zQnQk64t"
   },
   "outputs": [],
   "source": [
    "ev = ev.drop([\"nombre_ev\", \"apadrinada\", \"observacio\", \"fuente_geo\", \"fuente_ins\", \"decreto\", \"fecha_decr\", \"ordenanza_\", \"fecha_orde\", \"boletin_of\", \"fecha_bole\", \"fech_padri\", \"vig_padri\", \"alc_conven\", \"nom_mapa\", \"DGEV_padri\", \"mant_2017\", \"tareas\", \"estado\", \"sup_total\", \"canil\", \"posta_aero\", \"etiqueta\", \"reja\", \"horario_invierno\", \"horario_verano\", \"obs_reja\"], axis = 1)"
   ]
  },
  {
   "cell_type": "code",
   "execution_count": null,
   "metadata": {
    "id": "-mN4GoX5k9oa"
   },
   "outputs": [],
   "source": [
    "evt.loc[1497, 'comuna'] = 10.0\n",
    "evt.loc[1570, 'comuna'] = 8.0\n",
    "evt.loc[1571, 'comuna'] = 8.0\n",
    "evt.loc[1573, 'comuna'] = 8.0\n",
    "evt.loc[1574, 'comuna'] = 8.0\n",
    "evt.loc[1727, 'comuna'] = 1.0"
   ]
  },
  {
   "cell_type": "markdown",
   "metadata": {
    "id": "rD20MjtaTN12"
   },
   "source": [
    "### Se continuo realizando gráficos de mapas para entender la distribucion y clasificacion de los distintos espacios verdes en la ciudad de buenos aires"
   ]
  },
  {
   "cell_type": "markdown",
   "metadata": {
    "id": "2tuvFzIWThAB"
   },
   "source": [
    "Grafico de espacios verdes en la ciudad segun su clasificacion"
   ]
  },
  {
   "cell_type": "code",
   "execution_count": null,
   "metadata": {
    "colab": {
     "base_uri": "https://localhost:8080/",
     "height": 918
    },
    "executionInfo": {
     "elapsed": 93252,
     "status": "ok",
     "timestamp": 1605468156021,
     "user": {
      "displayName": "Pedro Kopyto",
      "photoUrl": "https://lh3.googleusercontent.com/a-/AOh14GguiRaio4_I2Ssm5ozad-jeC7XuDAQiYQwOGz_GYSw=s64",
      "userId": "02859114360731692156"
     },
     "user_tz": 180
    },
    "id": "en8I8rij3VGt",
    "outputId": "4a5a64c4-7208-438a-8c58-5693a64af726"
   },
   "outputs": [],
   "source": [
    "gplt.choropleth(ev, hue = ev['clasificac'], figsize = (20,16), legend = True)"
   ]
  },
  {
   "cell_type": "markdown",
   "metadata": {
    "id": "AmUcga7lTlO9"
   },
   "source": [
    "Grafico de espacios verdes, con escala de colores segun su area"
   ]
  },
  {
   "cell_type": "code",
   "execution_count": null,
   "metadata": {
    "colab": {
     "base_uri": "https://localhost:8080/",
     "height": 918
    },
    "executionInfo": {
     "elapsed": 104307,
     "status": "ok",
     "timestamp": 1605468167084,
     "user": {
      "displayName": "Pedro Kopyto",
      "photoUrl": "https://lh3.googleusercontent.com/a-/AOh14GguiRaio4_I2Ssm5ozad-jeC7XuDAQiYQwOGz_GYSw=s64",
      "userId": "02859114360731692156"
     },
     "user_tz": 180
    },
    "id": "tE6J83Vi4DbG",
    "outputId": "58168c5f-8d10-479e-d5db-eae761f4eb3e"
   },
   "outputs": [],
   "source": [
    "naranja = 'OrRd'\n",
    "gplt.choropleth(ev, hue = ev['area'], cmap = naranja, figsize = (20,16))"
   ]
  },
  {
   "cell_type": "markdown",
   "metadata": {
    "id": "pZolmqQBUxuo"
   },
   "source": [
    "Se probaron distintas formas para graficar lo mismo"
   ]
  },
  {
   "cell_type": "code",
   "execution_count": null,
   "metadata": {
    "colab": {
     "base_uri": "https://localhost:8080/",
     "height": 935
    },
    "executionInfo": {
     "elapsed": 106119,
     "status": "ok",
     "timestamp": 1605468168905,
     "user": {
      "displayName": "Pedro Kopyto",
      "photoUrl": "https://lh3.googleusercontent.com/a-/AOh14GguiRaio4_I2Ssm5ozad-jeC7XuDAQiYQwOGz_GYSw=s64",
      "userId": "02859114360731692156"
     },
     "user_tz": 180
    },
    "id": "g6gkqI0lS30k",
    "outputId": "6ca633a8-e9a5-445c-825b-81abe9a9acdc"
   },
   "outputs": [],
   "source": [
    "ev.plot(figsize = (20,16))"
   ]
  },
  {
   "cell_type": "code",
   "execution_count": null,
   "metadata": {
    "colab": {
     "base_uri": "https://localhost:8080/",
     "height": 717
    },
    "executionInfo": {
     "elapsed": 4462,
     "status": "ok",
     "timestamp": 1605469966185,
     "user": {
      "displayName": "Pedro Kopyto",
      "photoUrl": "https://lh3.googleusercontent.com/a-/AOh14GguiRaio4_I2Ssm5ozad-jeC7XuDAQiYQwOGz_GYSw=s64",
      "userId": "02859114360731692156"
     },
     "user_tz": 180
    },
    "id": "w24StE6fS9jZ",
    "outputId": "2649e4ec-9946-487c-8f40-90edf0153ff7"
   },
   "outputs": [],
   "source": [
    "ev.plot(column='clasificac', legend=True, figsize= (16,12))"
   ]
  },
  {
   "cell_type": "markdown",
   "metadata": {
    "id": "RHujaNeAVMZb"
   },
   "source": [
    "Se puede notar que los parques, plazoletas y plazas son los predominantes en la ciudad"
   ]
  },
  {
   "cell_type": "markdown",
   "metadata": {
    "id": "XeoTWsGUVsoG"
   },
   "source": [
    "tambien se separo por espacios con mayor area total para poder visualizarlo mejor, la leyenda indica area total"
   ]
  },
  {
   "cell_type": "code",
   "execution_count": null,
   "metadata": {
    "colab": {
     "base_uri": "https://localhost:8080/",
     "height": 646
    },
    "executionInfo": {
     "elapsed": 6536,
     "status": "ok",
     "timestamp": 1605469871147,
     "user": {
      "displayName": "Pedro Kopyto",
      "photoUrl": "https://lh3.googleusercontent.com/a-/AOh14GguiRaio4_I2Ssm5ozad-jeC7XuDAQiYQwOGz_GYSw=s64",
      "userId": "02859114360731692156"
     },
     "user_tz": 180
    },
    "id": "IxuFo-DYWQ2g",
    "outputId": "716d12cc-4ebe-483a-be77-96d8a7badf6f"
   },
   "outputs": [],
   "source": [
    "clasif = ev.dissolve(by='clasificac', aggfunc='sum')\n",
    "clasif.plot(column = 'area', scheme='quantiles', legend=True, figsize = (15,11));"
   ]
  },
  {
   "cell_type": "markdown",
   "metadata": {
    "id": "zeYH1bohWYpM"
   },
   "source": [
    "Luego se grafico solo un tipo de espacios verdes para entender la distribucion de cada uno"
   ]
  },
  {
   "cell_type": "markdown",
   "metadata": {
    "id": "BELrxw_SWfKE"
   },
   "source": [
    "PLAZAS"
   ]
  },
  {
   "cell_type": "code",
   "execution_count": null,
   "metadata": {
    "colab": {
     "base_uri": "https://localhost:8080/",
     "height": 265
    },
    "executionInfo": {
     "elapsed": 114743,
     "status": "ok",
     "timestamp": 1605468177557,
     "user": {
      "displayName": "Pedro Kopyto",
      "photoUrl": "https://lh3.googleusercontent.com/a-/AOh14GguiRaio4_I2Ssm5ozad-jeC7XuDAQiYQwOGz_GYSw=s64",
      "userId": "02859114360731692156"
     },
     "user_tz": 180
    },
    "id": "mEfId0DbZkVx",
    "outputId": "4581fec4-8c31-4797-f77f-b3963ab3655a"
   },
   "outputs": [],
   "source": [
    "ax = ev[ev.clasificac == 'PLAZA'].plot(color='white', edgecolor='black')\n",
    "ax.plot(ax=ax, color='red', figsize = (18,12))\n",
    "plt.show()"
   ]
  },
  {
   "cell_type": "markdown",
   "metadata": {
    "id": "LScJq7aGW5OY"
   },
   "source": [
    "PLAZOLETAS"
   ]
  },
  {
   "cell_type": "code",
   "execution_count": null,
   "metadata": {
    "colab": {
     "base_uri": "https://localhost:8080/",
     "height": 265
    },
    "executionInfo": {
     "elapsed": 114735,
     "status": "ok",
     "timestamp": 1605468177559,
     "user": {
      "displayName": "Pedro Kopyto",
      "photoUrl": "https://lh3.googleusercontent.com/a-/AOh14GguiRaio4_I2Ssm5ozad-jeC7XuDAQiYQwOGz_GYSw=s64",
      "userId": "02859114360731692156"
     },
     "user_tz": 180
    },
    "id": "dHl_7ZbBW6bk",
    "outputId": "a1dcc1cf-02e8-4204-9044-7344eeddf932"
   },
   "outputs": [],
   "source": [
    "ax = ev[ev.clasificac == 'PLAZOLETA'].plot(color='white', edgecolor='black')\n",
    "ax.plot(ax=ax, color='red', figsize = (18,12))\n",
    "plt.show()"
   ]
  },
  {
   "cell_type": "markdown",
   "metadata": {
    "id": "uFBDxax6W_BE"
   },
   "source": [
    "PARQUES"
   ]
  },
  {
   "cell_type": "code",
   "execution_count": null,
   "metadata": {
    "colab": {
     "base_uri": "https://localhost:8080/",
     "height": 268
    },
    "executionInfo": {
     "elapsed": 115215,
     "status": "ok",
     "timestamp": 1605468178049,
     "user": {
      "displayName": "Pedro Kopyto",
      "photoUrl": "https://lh3.googleusercontent.com/a-/AOh14GguiRaio4_I2Ssm5ozad-jeC7XuDAQiYQwOGz_GYSw=s64",
      "userId": "02859114360731692156"
     },
     "user_tz": 180
    },
    "id": "6aTc0ZqrXAFQ",
    "outputId": "bd8f846a-0a17-4f9a-bdf6-ea27a4f9b633"
   },
   "outputs": [],
   "source": [
    "ax = ev[ev.clasificac == 'PARQUE'].plot(color='white', edgecolor='black')\n",
    "ax.plot(ax=ax, color='red', figsize = (18,12))\n",
    "plt.show()"
   ]
  },
  {
   "cell_type": "code",
   "execution_count": null,
   "metadata": {
    "id": "T6Qjo7aLW1sQ"
   },
   "outputs": [],
   "source": []
  },
  {
   "cell_type": "markdown",
   "metadata": {
    "id": "kE84JyFzXGyV"
   },
   "source": [
    "Se puede notar una gran cantidad de plazas y plazoletas bastante distribuidas a lo largo de la ciudad, sin embargo parece los parques parecen no estar del todo distribuidos, dejando zonas lejos de alguno"
   ]
  },
  {
   "cell_type": "markdown",
   "metadata": {
    "id": "-rF3vL0qt3hU"
   },
   "source": [
    "### Se procedio a analizar las comunas"
   ]
  },
  {
   "cell_type": "code",
   "execution_count": null,
   "metadata": {
    "colab": {
     "base_uri": "https://localhost:8080/"
    },
    "executionInfo": {
     "elapsed": 116660,
     "status": "ok",
     "timestamp": 1605468179506,
     "user": {
      "displayName": "Pedro Kopyto",
      "photoUrl": "https://lh3.googleusercontent.com/a-/AOh14GguiRaio4_I2Ssm5ozad-jeC7XuDAQiYQwOGz_GYSw=s64",
      "userId": "02859114360731692156"
     },
     "user_tz": 180
    },
    "id": "Wo1yAiMjtod3",
    "outputId": "ba8bc263-1ec6-4305-b7c5-563367e29800"
   },
   "outputs": [],
   "source": [
    "gplt.choropleth(com, hue = com['comuna'], figsize = (20,16))"
   ]
  },
  {
   "cell_type": "markdown",
   "metadata": {
    "id": "7eHy03NkYK7Z"
   },
   "source": [
    "## Concatenar datasets"
   ]
  },
  {
   "cell_type": "markdown",
   "metadata": {
    "id": "iA2UybhEYviv"
   },
   "source": [
    "Se unio la coluna de area de espacios verdes al dataset de comuna, recordar:\n",
    "- \"area\" equivale a area de espacios verdes\n",
    "- \"areac\" equivale al area total de la comuna"
   ]
  },
  {
   "cell_type": "markdown",
   "metadata": {
    "id": "B_Uwi5WO1AgG"
   },
   "source": [
    "Se convierte el formato de la columna en string"
   ]
  },
  {
   "cell_type": "code",
   "execution_count": null,
   "metadata": {
    "colab": {
     "base_uri": "https://localhost:8080/"
    },
    "executionInfo": {
     "elapsed": 116652,
     "status": "ok",
     "timestamp": 1605468179507,
     "user": {
      "displayName": "Pedro Kopyto",
      "photoUrl": "https://lh3.googleusercontent.com/a-/AOh14GguiRaio4_I2Ssm5ozad-jeC7XuDAQiYQwOGz_GYSw=s64",
      "userId": "02859114360731692156"
     },
     "user_tz": 180
    },
    "id": "qJGuvC5g0RVb",
    "outputId": "6c65c6c3-3cef-48ab-faa3-941e7b07d14b"
   },
   "outputs": [],
   "source": [
    "mevxc = evt.groupby([\"comuna\"]).area.sum()\n",
    "mevxc = mevxc.reset_index()\n",
    "mevxc[\"comuna\"] = mevxc[\"comuna\"].astype(\"int\")\n",
    "mevxc[\"comuna\"] = mevxc[\"comuna\"].astype(\"str\")\n",
    "mevxc.head()\n"
   ]
  },
  {
   "cell_type": "markdown",
   "metadata": {
    "id": "Kz5P8ojY1jYG"
   },
   "source": [
    "Se concatenan los datos"
   ]
  },
  {
   "cell_type": "code",
   "execution_count": null,
   "metadata": {
    "colab": {
     "base_uri": "https://localhost:8080/"
    },
    "executionInfo": {
     "elapsed": 116645,
     "status": "ok",
     "timestamp": 1605468179508,
     "user": {
      "displayName": "Pedro Kopyto",
      "photoUrl": "https://lh3.googleusercontent.com/a-/AOh14GguiRaio4_I2Ssm5ozad-jeC7XuDAQiYQwOGz_GYSw=s64",
      "userId": "02859114360731692156"
     },
     "user_tz": 180
    },
    "id": "GI9IVOBpnbbB",
    "outputId": "025e0055-0f64-4062-9b21-051250739e20"
   },
   "outputs": [],
   "source": [
    "evxcom = com.merge(mevxc, left_on=\"comuna\", right_on=\"comuna\", how='inner')\n",
    "evxcom.head()"
   ]
  },
  {
   "cell_type": "markdown",
   "metadata": {
    "id": "K_S4DT4p1lWL"
   },
   "source": [
    "Se genera el gráfico degradado segun cantidad de M2 de espacios verdes por comuna"
   ]
  },
  {
   "cell_type": "code",
   "execution_count": null,
   "metadata": {
    "colab": {
     "base_uri": "https://localhost:8080/"
    },
    "executionInfo": {
     "elapsed": 116632,
     "status": "ok",
     "timestamp": 1605468179509,
     "user": {
      "displayName": "Pedro Kopyto",
      "photoUrl": "https://lh3.googleusercontent.com/a-/AOh14GguiRaio4_I2Ssm5ozad-jeC7XuDAQiYQwOGz_GYSw=s64",
      "userId": "02859114360731692156"
     },
     "user_tz": 180
    },
    "id": "VMp64psFsmUl",
    "outputId": "758eba82-4fbe-4a2c-f5b4-9b827fe903b3"
   },
   "outputs": [],
   "source": [
    "gplt.choropleth(evxcom, hue = evxcom['area'], cmap = 'OrRd', figsize = (20,16), legend = True)"
   ]
  },
  {
   "cell_type": "markdown",
   "metadata": {
    "id": "7arKJ32XZO8g"
   },
   "source": [
    "## Conclusion parcial"
   ]
  },
  {
   "cell_type": "markdown",
   "metadata": {
    "id": "fxvL-Dk8ZSq9"
   },
   "source": [
    "Creeamos que si bien los datasets no contiene muchas features cuantificables, con los datos de areas de espacios verdes y formas geometricas tanto de espacios como comunas se pueden analisis utiles y especificos. Ademas se tiene pensado unirlo con mas datasets de densidad poblacional en cada comuna de la ciudad y con el financiamiento que cada una recibe, para hacer un analisis aun mas global."
   ]
  },
  {
   "cell_type": "markdown",
   "metadata": {
    "id": "RKvu_jKBSY5r"
   },
   "source": [
    "# Bibliografía"
   ]
  },
  {
   "cell_type": "markdown",
   "metadata": {
    "id": "dQ8RBcRXSxi-"
   },
   "source": [
    "Se utilizaron distintas paguinas para contender el manejo de datasets de caracter geografico, sumado a las librerias basicas"
   ]
  },
  {
   "cell_type": "markdown",
   "metadata": {
    "id": "YkHFjHLJSdwk"
   },
   "source": [
    "\n",
    "\n",
    "https://towardsdatascience.com/plotting-geographical-data-with-geopandas-338cc7e17e4e\n",
    "\n",
    "https://geopandas.org/aggregation_with_dissolve.html\n",
    "\n",
    "https://geopandas.org/aggregation_with_dissolve.html\n",
    "https://www.datacamp.com/community/tutorials/geospatial-data-python?utm_source=adwords_ppc&utm_campaignid=1455363063&utm_adgroupid=65083631748&utm_device=c&utm_keyword=&utm_matchtype=b&utm_network=g&utm_adpostion=&utm_creative=332602034364&utm_targetid=dsa-429603003980&utm_loc_interest_ms=&utm_loc_physical_ms=1000073&gclid=Cj0KCQjwt4X8BRCPARIsABmcnOrWMSIaHzSoPH6EUAqAK2TPpsrLjKSR6wy41-uzoi5kBgnQXT49jBgaAuOgEALw_wcB\n",
    "\n"
   ]
  },
  {
   "cell_type": "code",
   "execution_count": null,
   "metadata": {},
   "outputs": [],
   "source": []
  },
  {
   "cell_type": "markdown",
   "metadata": {},
   "source": [
    "# EDA Población"
   ]
  },
  {
   "cell_type": "markdown",
   "metadata": {},
   "source": [
    "Para un complemento al análisis se obtuvieron datos acerca de la demografía de la Ciudad con datos desde el 2015."
   ]
  },
  {
   "cell_type": "markdown",
   "metadata": {},
   "source": [
    "### Data extraida de la página del Gobierno de la Ciudad\n",
    "\n",
    "Links: https://data.buenosaires.gob.ar/dataset/estructura-poblacion"
   ]
  },
  {
   "cell_type": "code",
   "execution_count": null,
   "metadata": {},
   "outputs": [],
   "source": [
    "poblacion = pd.read_excel(r'datasets\\Estimacion_Poblacion_nuevo.xlsx', delimiter=',', parse_dates = True)"
   ]
  },
  {
   "cell_type": "code",
   "execution_count": null,
   "metadata": {},
   "outputs": [],
   "source": [
    "poblacion.AÑO.unique()"
   ]
  },
  {
   "cell_type": "code",
   "execution_count": null,
   "metadata": {},
   "outputs": [],
   "source": [
    "np.shape(poblacion)"
   ]
  },
  {
   "cell_type": "code",
   "execution_count": null,
   "metadata": {},
   "outputs": [],
   "source": [
    "poblacion.head()"
   ]
  },
  {
   "cell_type": "code",
   "execution_count": null,
   "metadata": {},
   "outputs": [],
   "source": [
    "poblacion.columns"
   ]
  },
  {
   "cell_type": "code",
   "execution_count": null,
   "metadata": {
    "scrolled": true
   },
   "outputs": [],
   "source": [
    "col_nulls = poblacion.isnull().any()\n",
    "col_nulls"
   ]
  },
  {
   "cell_type": "code",
   "execution_count": null,
   "metadata": {},
   "outputs": [],
   "source": [
    "comunas_renames = dict([(x, 'Comuna ' + str(x)) for x in range(1, 16)])\n",
    "\n",
    "poblacion.rename(columns={'Grupo de edad (años)':'Rango Etario'},inplace=True) \n",
    "poblacion.rename(columns=comunas_renames,inplace=True)"
   ]
  },
  {
   "cell_type": "code",
   "execution_count": null,
   "metadata": {},
   "outputs": [],
   "source": [
    "poblacion.columns"
   ]
  },
  {
   "cell_type": "code",
   "execution_count": null,
   "metadata": {
    "scrolled": true
   },
   "outputs": [],
   "source": [
    "poblacion.head()"
   ]
  },
  {
   "cell_type": "code",
   "execution_count": null,
   "metadata": {},
   "outputs": [],
   "source": [
    "index_pobl=poblacion[poblacion ['Rango Etario'] == 'Total'].index"
   ]
  },
  {
   "cell_type": "code",
   "execution_count": null,
   "metadata": {},
   "outputs": [],
   "source": [
    "poblacion.drop(index_pobl , inplace=True)"
   ]
  },
  {
   "cell_type": "code",
   "execution_count": null,
   "metadata": {},
   "outputs": [],
   "source": [
    "poblacion.head()"
   ]
  },
  {
   "cell_type": "code",
   "execution_count": null,
   "metadata": {},
   "outputs": [],
   "source": [
    "# Mayor registro de población por comuna\n",
    "np.max(poblacion.loc[:, 'Comuna 1':'Comuna 15'])"
   ]
  },
  {
   "cell_type": "markdown",
   "metadata": {},
   "source": [
    "### Nos quedamos con el estimado de población del año 2020"
   ]
  },
  {
   "cell_type": "code",
   "execution_count": null,
   "metadata": {},
   "outputs": [],
   "source": [
    "pobl_2020 = poblacion.loc[poblacion.AÑO == 2020]"
   ]
  },
  {
   "cell_type": "code",
   "execution_count": null,
   "metadata": {},
   "outputs": [],
   "source": [
    "pobl_2020.head(5)"
   ]
  },
  {
   "cell_type": "code",
   "execution_count": null,
   "metadata": {},
   "outputs": [],
   "source": [
    "# total de la población para 2020\n",
    "total_poblacion = pobl_2020['Total'].sum()\n",
    "f_string = f'Total estimado de la población en CABA para el 2020: {total_poblacion:,} personas'.replace(',','.')\n",
    "print(f_string)"
   ]
  },
  {
   "cell_type": "markdown",
   "metadata": {},
   "source": [
    "## Total por género"
   ]
  },
  {
   "cell_type": "code",
   "execution_count": null,
   "metadata": {},
   "outputs": [],
   "source": [
    "pivot_2020 = pd.pivot_table(data = pobl_2020, values = ['Total'], index = ['SEXO'], aggfunc= np.sum) "
   ]
  },
  {
   "cell_type": "code",
   "execution_count": null,
   "metadata": {},
   "outputs": [],
   "source": [
    "pivot_2020"
   ]
  },
  {
   "cell_type": "code",
   "execution_count": null,
   "metadata": {},
   "outputs": [],
   "source": [
    "pivot_2020.plot(kind='pie', subplots=True, figsize=(12, 6), autopct='%1.1f%%')"
   ]
  },
  {
   "cell_type": "markdown",
   "metadata": {},
   "source": [
    "## Total por comuna y género"
   ]
  },
  {
   "cell_type": "code",
   "execution_count": null,
   "metadata": {},
   "outputs": [],
   "source": [
    "pivot_comuna_2020 = pd.pivot_table(data = pobl_2020, index = ['SEXO'], values= ['Comuna 1', 'Comuna 2', 'Comuna 3', 'Comuna 4',\n",
    "       'Comuna 5', 'Comuna 6', 'Comuna 7', 'Comuna 8', 'Comuna 9', 'Comuna 10',\n",
    "       'Comuna 11', 'Comuna 12', 'Comuna 13', 'Comuna 14', 'Comuna 15'] ,aggfunc= np.sum) "
   ]
  },
  {
   "cell_type": "code",
   "execution_count": null,
   "metadata": {},
   "outputs": [],
   "source": [
    "pivot_comuna_2020"
   ]
  },
  {
   "cell_type": "code",
   "execution_count": null,
   "metadata": {},
   "outputs": [],
   "source": [
    "pivot_comuna_2020.columns"
   ]
  },
  {
   "cell_type": "code",
   "execution_count": null,
   "metadata": {},
   "outputs": [],
   "source": [
    "sns.barplot(x='SEXO',y='Total',data=pobl_2020,palette=\"rocket\")\n",
    "plt.title(\"Distribución población por género\", fontsize=14)"
   ]
  },
  {
   "cell_type": "markdown",
   "metadata": {},
   "source": [
    "# Conclusión parcial:"
   ]
  },
  {
   "cell_type": "code",
   "execution_count": null,
   "metadata": {},
   "outputs": [],
   "source": []
  },
  {
   "cell_type": "markdown",
   "metadata": {},
   "source": [
    "# EDA presupuestos"
   ]
  },
  {
   "cell_type": "markdown",
   "metadata": {},
   "source": [
    "Al igual que el análisis de Población este de Presupuestos se utiliza como un complemento del análisis de Espacios Verdes. \n",
    "Se busca obtener insights que relacionen la cantidad presupuestada a los proyectos de espacios verdes con la calidad de los mismos por comuna\n",
    "\n",
    "Links: https://data.buenosaires.gob.ar/dataset/presupuesto-sancionado"
   ]
  },
  {
   "cell_type": "code",
   "execution_count": null,
   "metadata": {
    "scrolled": false
   },
   "outputs": [],
   "source": [
    "%run Funciones_Auxiliares.ipynb"
   ]
  },
  {
   "cell_type": "markdown",
   "metadata": {},
   "source": [
    "# Lectura de la base unificada y selección de los campos a analizar\n",
    "\n",
    "La base contiene todos los gastos que demande el desenvolvimiento de los órganos del gobierno central, de los entes descentralizados y comunas, el servicio de la deuda pública, las inversiones patrimoniales y los recursos para cubrir tales erogaciones. Los recursos publicados detallan la distribución de los créditos aprobados al máximo nivel de desagregación.\n",
    "\n",
    "De todas las áreas querremos analizar la destinada a espacios verdes."
   ]
  },
  {
   "cell_type": "code",
   "execution_count": null,
   "metadata": {},
   "outputs": [],
   "source": [
    "presupuesto_sancionado = pd.read_csv(\"datasets/presupuesto_sancionado_clean.csv\")"
   ]
  },
  {
   "cell_type": "code",
   "execution_count": null,
   "metadata": {},
   "outputs": [],
   "source": [
    "presupuesto_sancionado['SANCION'] = presupuesto_sancionado['SANCION'].astype(float)"
   ]
  },
  {
   "cell_type": "code",
   "execution_count": null,
   "metadata": {
    "scrolled": true
   },
   "outputs": [],
   "source": [
    "presupuesto_sancionado = presupuesto_sancionado.loc[presupuesto_sancionado['SANCION'] != 0]\n",
    "presupuesto_sancionado = presupuesto_sancionado.loc[presupuesto_sancionado['AÑO'] > 2009]"
   ]
  },
  {
   "cell_type": "code",
   "execution_count": null,
   "metadata": {},
   "outputs": [],
   "source": [
    "presupuesto_sancionado.AÑO.unique()"
   ]
  },
  {
   "cell_type": "code",
   "execution_count": null,
   "metadata": {},
   "outputs": [],
   "source": [
    "presupuesto_sancionado.shape"
   ]
  },
  {
   "cell_type": "code",
   "execution_count": null,
   "metadata": {},
   "outputs": [],
   "source": [
    "cols = presupuesto_sancionado.dtypes[(presupuesto_sancionado.dtypes == 'object')].index\n",
    "for col in cols:\n",
    "    presupuesto_sancionado[col] = presupuesto_sancionado[col].astype(str)"
   ]
  },
  {
   "cell_type": "markdown",
   "metadata": {},
   "source": [
    "**El Ministerio de Ambiente pasa a ser una secretaria en 2020 bajo la dependencia de la Jefatura de Gobierno**"
   ]
  },
  {
   "cell_type": "code",
   "execution_count": null,
   "metadata": {},
   "outputs": [],
   "source": [
    "jef_gob = presupuesto_sancionado.groupby('JURISDICCION').get_group(\"JEFATURA DE GOBIERNO\")\n",
    "sec_ambiente = jef_gob.groupby('SUBJURISDICCION').get_group(\"SECRETARIA DE AMBIENTE\")\n",
    "min_ambiente = presupuesto_sancionado.groupby('JURISDICCION').get_group(\"MINISTERIO DE AMBIENTE Y ESPACIO PUBLICO\")\n",
    "\n",
    "ambiente = pd.concat([min_ambiente, sec_ambiente])"
   ]
  },
  {
   "cell_type": "code",
   "execution_count": null,
   "metadata": {},
   "outputs": [],
   "source": [
    "ambiente['JURISDICCION'].value_counts()"
   ]
  },
  {
   "cell_type": "code",
   "execution_count": null,
   "metadata": {},
   "outputs": [],
   "source": [
    "ambiente['FUNCION'].value_counts()"
   ]
  },
  {
   "cell_type": "code",
   "execution_count": null,
   "metadata": {},
   "outputs": [],
   "source": [
    "ecologia = ambiente[ambiente['FUNCION'] == 'ECOLOGIA']\n",
    "ecologia = ecologia.T.drop_duplicates().T  # Elimino columnas que contienen la misma información."
   ]
  },
  {
   "cell_type": "code",
   "execution_count": null,
   "metadata": {},
   "outputs": [],
   "source": [
    "ecologia.shape"
   ]
  },
  {
   "cell_type": "code",
   "execution_count": null,
   "metadata": {},
   "outputs": [],
   "source": [
    "def repr_high_values(series):\n",
    "\n",
    "        series = series.apply(lambda x: f\"${x:,.0f}\" if not pd.isnull(x) else x)\n",
    "        series = series.str.replace(\",\", \".\")\n",
    "\n",
    "        return series"
   ]
  },
  {
   "cell_type": "code",
   "execution_count": null,
   "metadata": {},
   "outputs": [],
   "source": [
    "def repr_sancion_by_subset(df, subset):\n",
    "\n",
    "    sancion_by_subset = df.groupby(subset).agg({'SANCION': 'sum'})\\\n",
    "                                .sort_values(by='SANCION', ascending=False)\n",
    "    \n",
    "    sancion_by_subset['SANCION_repr'] = repr_high_values(sancion_by_subset['SANCION'])\n",
    "    \n",
    "    return sancion_by_subset"
   ]
  },
  {
   "cell_type": "code",
   "execution_count": null,
   "metadata": {},
   "outputs": [],
   "source": [
    "ecologia['SANCION'] = ecologia['SANCION'].astype(float)"
   ]
  },
  {
   "cell_type": "code",
   "execution_count": null,
   "metadata": {},
   "outputs": [],
   "source": [
    "sancion_por_unidad_ejecutora_año = ecologia.pivot_table(index='AÑO', columns='UNIDAD_EJECUTORA', values='SANCION', aggfunc='sum')\n",
    "sancion_por_unidad_ejecutora_año.loc['Total'] = sancion_por_unidad_ejecutora_año.apply('sum', axis=0) \n",
    "sancion_por_unidad_ejecutora_año = sancion_por_unidad_ejecutora_año.T.sort_values(by='Total', ascending=False).T\n",
    "\n",
    "sancion_por_unidad_ejecutora_año = sancion_por_unidad_ejecutora_año.apply(repr_high_values, axis=1).fillna('-')\n",
    "\n",
    "sancion_por_unidad_ejecutora_año"
   ]
  },
  {
   "cell_type": "markdown",
   "metadata": {},
   "source": [
    "DIRECCION GENERAL DE ESPACIOS VERDES: https://www.buenosaires.gob.ar/gestioncomunal/institucional-subsecretaria-de-gestion-comunal/direccion-general-de"
   ]
  },
  {
   "cell_type": "code",
   "execution_count": null,
   "metadata": {},
   "outputs": [],
   "source": [
    "sancion_por_unidad_ejecutora_año[[\"DIRECCION GENERAL DE ESPACIOS VERDES\", 'DIRECCION GENERAL DE ARBOLADO']]"
   ]
  },
  {
   "cell_type": "markdown",
   "metadata": {},
   "source": [
    "**Los datos sobre la dirección general de arbolado están desactualizados.**\n",
    "\n",
    "**Y Falta información del 2020 sobre espacios verdes**"
   ]
  },
  {
   "cell_type": "markdown",
   "metadata": {},
   "source": [
    "### Acá filtramos la base para espacios verdes\n",
    "\n",
    "Los datos de arbolados en principio no se usarán por estar desactualizados"
   ]
  },
  {
   "cell_type": "code",
   "execution_count": null,
   "metadata": {},
   "outputs": [],
   "source": [
    "espacios_verdes = ecologia[ecologia['UNIDAD_EJECUTORA'] == 'DIRECCION GENERAL DE ESPACIOS VERDES']"
   ]
  },
  {
   "cell_type": "code",
   "execution_count": null,
   "metadata": {},
   "outputs": [],
   "source": [
    "espacios_verdes.shape"
   ]
  },
  {
   "cell_type": "markdown",
   "metadata": {},
   "source": [
    "### Sanción de presupuesto por año para Espacios Verdes"
   ]
  },
  {
   "cell_type": "code",
   "execution_count": null,
   "metadata": {},
   "outputs": [],
   "source": [
    "sancion_por_unidad_ejecutora_año[[\"DIRECCION GENERAL DE ESPACIOS VERDES\"]].T"
   ]
  },
  {
   "cell_type": "code",
   "execution_count": null,
   "metadata": {},
   "outputs": [],
   "source": [
    "sancion_espacios_verdes_año = espacios_verdes.groupby('AÑO').agg({'SANCION': 'sum'})['SANCION']\n",
    "g = sancion_espacios_verdes_año.plot(kind='bar', figsize=(12, 6));\n",
    "\n",
    "ylabels = ['$ {:,.0f}'.format(x) + ' M' for x in g.get_yticks()/1000000];\n",
    "g.set_yticklabels(ylabels);\n",
    "plt.title(\"Sanción de presupuesto por año para Espacios Verdes\", fontsize=18);"
   ]
  },
  {
   "cell_type": "markdown",
   "metadata": {},
   "source": [
    "### Pasaremos los datos de presupuestos a valores del 2010 para ver si realmente aumentó la inversión en el área"
   ]
  },
  {
   "cell_type": "code",
   "execution_count": null,
   "metadata": {},
   "outputs": [],
   "source": [
    "# http://estudiodelamo.com/inflacion-argentina-anual-mensual-2020/\n",
    "\n",
    "header = [\"AÑO\",\"PORC_ANUAL\", \"ENE\",\"FEB\",\"MAR\",\"ABR\",\"MAY\",\"JUN\",\"JUL\",\"AGO\",\"SEP\",\"OCT\",\"NOV\",\"DIC\"]\n",
    "inflacion = pd.DataFrame(([ 2011,  23.97, 2.10, 1.50, 2.10, 1.80, 1.33, 1.56, 1.66, 1.85, 1.82, 1.52, 1.46, 1.86],\n",
    "                          [ 2012,  25.98, 1.84, 1.79, 2.27, 2.19, 1.81, 1.63, 1.80, 1.93, 1.92, 1.72, 1.81, 2.04],\n",
    "                          [ 2013,  23.28, 2.61, 1.14, 1.50, 1.43, 1.63, 2.19, 2.63, 2.14, 2.12, 2.11, 2.38, 3.30],\n",
    "                          [ 2014,  38.53, 4.62, 4.31, 3.42, 2.59, 2.28, 2.20, 2.47, 2.65, 2.48, 2.25, 1.86, 1.87],\n",
    "                          [ 2015,  27.50, 2.08, 1.48, 2.12, 2.01, 2.00, 1.53, 1.92, 2.17, 1.92, 1.52, 2.20, 3.80],\n",
    "                          [ 2016,  40.30, 3.60, 4.80, 3.20, 6.70, 3.50, 2.90, 2.40, 0.50, 0.80, 2.90, 1.90, 1.60],\n",
    "                          [ 2017,  24.80, 1.60, 2.10, 2.20, 2.10, 1.80, 1.30, 2.10, 1.50, 1.60, 1.50, 1.40, 3.10],\n",
    "                          [ 2018,  47.65, 1.76, 2.42, 2.34, 2.74, 2.08, 3.74, 3.10, 3.89, 6.53, 5.39, 3.15, 2.57],\n",
    "                          [ 2019,  53.83, 2.91, 3.77, 4.68, 3.44, 3.06, 2.72, 2.20, 3.95, 5.89, 3.29, 4.25, 3.74],\n",
    "                          [ 2020,  36.62, 2.25, 2.01, 3.34, 1.50, 1.54, 2.24, 1.93, 2.70, 2.84,]), columns=header)\n",
    "\n",
    "inflacion"
   ]
  },
  {
   "cell_type": "code",
   "execution_count": null,
   "metadata": {},
   "outputs": [],
   "source": [
    "inflacion_anual = inflacion.set_index('AÑO')['PORC_ANUAL'] / 100\n",
    "inflacion_anual"
   ]
  },
  {
   "cell_type": "code",
   "execution_count": null,
   "metadata": {},
   "outputs": [],
   "source": [
    "def presupuestos_a_valores_2010(sancion_espacios_verdes_año):\n",
    "    presupuestos_llevados_2010 = []\n",
    "    for start_year, presupuesto in sancion_espacios_verdes_año.items():\n",
    "#         print('Pesos presupuestados finales del año {}:  $ {:,.0f}'.format(start_year, presupuesto))\n",
    "\n",
    "        for tasa_inflacion in inflacion_anual.loc[start_year::-1]:\n",
    "\n",
    "            presupuesto = presupuesto / (1+tasa_inflacion)\n",
    "\n",
    "        presupuestos_llevados_2010.append(presupuesto)    \n",
    "#         print(\"Pesos finales llevados a principios 2010:   $ {:,.0f}\\n\".format(presupuesto))\n",
    "\n",
    "    presupuestos_llevados_2010 = pd.Series(presupuestos_llevados_2010)\n",
    "    presupuestos_llevados_2010.index = sancion_espacios_verdes_año.index\n",
    "    \n",
    "    return presupuestos_llevados_2010"
   ]
  },
  {
   "cell_type": "code",
   "execution_count": null,
   "metadata": {},
   "outputs": [],
   "source": [
    "presupuestos_llevados_2010 = presupuestos_a_valores_2010(sancion_espacios_verdes_año)\n",
    "\n",
    "aux = pd.concat([presupuestos_llevados_2010, sancion_espacios_verdes_año], axis=1)\n",
    "aux.columns = ['presupuestos llevados a pesos del 2010', 'presupuestos sancionados para espacios verdes']\n",
    "g = aux.plot(figsize=(12,6))\n",
    "\n",
    "ylabels = ['$ {:,.0f}'.format(x) + ' M' for x in g.get_yticks()/1000000];\n",
    "g.set_yticklabels(ylabels);\n",
    "plt.title(\"Sanción de presupuesto por año para Espacios Verdes\", fontsize=18);"
   ]
  },
  {
   "cell_type": "code",
   "execution_count": null,
   "metadata": {},
   "outputs": [],
   "source": [
    "presupuestos_llevados_2010 = presupuestos_llevados_2010.reset_index()\n",
    "presupuestos_llevados_2010.columns = ['AÑO', 'SANCION']\n",
    "presupuestos_llevados_2010['SANCION_repr'] = repr_high_values(presupuestos_llevados_2010['SANCION'])"
   ]
  },
  {
   "cell_type": "code",
   "execution_count": null,
   "metadata": {},
   "outputs": [],
   "source": [
    "presupuestos_llevados_2010 = presupuestos_llevados_2010.set_index('AÑO')\n",
    "presupuestos_llevados_2010.T"
   ]
  },
  {
   "cell_type": "code",
   "execution_count": null,
   "metadata": {},
   "outputs": [],
   "source": [
    "g = presupuestos_llevados_2010.plot(figsize=(8, 6))\n",
    "\n",
    "ylabels = ['$ {:,.0f}'.format(x) + ' M' for x in g.get_yticks()/1000000];\n",
    "g.set_yticklabels(ylabels);\n",
    "plt.title(\"Sanción de presupuesto llevado a valores $ del 2010\", fontsize=14);\n",
    "plt.grid(True);"
   ]
  },
  {
   "cell_type": "markdown",
   "metadata": {},
   "source": [
    "**Se puede observar que la inversión real en el área viene bajando año a año con picos en los años impares**\n",
    "\n",
    "**Esta subida inferimos que viene asociada a años electorales**"
   ]
  },
  {
   "cell_type": "markdown",
   "metadata": {},
   "source": [
    "### Sanciones por Proyecto, Actividad y Obra."
   ]
  },
  {
   "cell_type": "code",
   "execution_count": null,
   "metadata": {},
   "outputs": [],
   "source": [
    "repr_sancion_by_subset(espacios_verdes, subset='PROYECTO')"
   ]
  },
  {
   "cell_type": "code",
   "execution_count": null,
   "metadata": {
    "scrolled": true
   },
   "outputs": [],
   "source": [
    "repr_sancion_by_subset(espacios_verdes, subset='ACTIVIDAD')"
   ]
  },
  {
   "cell_type": "code",
   "execution_count": null,
   "metadata": {
    "scrolled": true
   },
   "outputs": [],
   "source": [
    "repr_sancion_by_subset(espacios_verdes, subset='OBRA')"
   ]
  },
  {
   "cell_type": "code",
   "execution_count": null,
   "metadata": {
    "scrolled": false
   },
   "outputs": [],
   "source": [
    "# Sunburst que etiqueta los proyectos\n",
    "sunburst(espacios_verdes)"
   ]
  },
  {
   "cell_type": "markdown",
   "metadata": {},
   "source": [
    "### Sanción por Comuna"
   ]
  },
  {
   "cell_type": "code",
   "execution_count": null,
   "metadata": {},
   "outputs": [],
   "source": [
    "sancion_espacios_verdes = repr_sancion_by_subset(espacios_verdes, subset=['AÑO', 'UBICACION_GEOGRAFICA']).reset_index()"
   ]
  },
  {
   "cell_type": "code",
   "execution_count": null,
   "metadata": {},
   "outputs": [],
   "source": [
    "sancion_espacios_verdes"
   ]
  },
  {
   "cell_type": "code",
   "execution_count": null,
   "metadata": {},
   "outputs": [],
   "source": [
    "fig = px.bar(sancion_espacios_verdes, x=\"AÑO\", y=\"SANCION\", color=\"UBICACION_GEOGRAFICA\",\n",
    "             title=\"<b>Sanción por Comuna<b>\")\n",
    "fig = fig.update_layout(\n",
    "    title={\n",
    "        'y':0.9,\n",
    "        'x':0.135,\n",
    "        'xanchor': 'left',\n",
    "        'yanchor': 'top'})\n",
    "\n",
    "fig = fig.update_layout(yaxis_tickformat = '$,.')\n",
    "\n",
    "fig.show()"
   ]
  },
  {
   "cell_type": "markdown",
   "metadata": {},
   "source": [
    "**Análisis del gráfico de barras:**\n",
    "\n",
    "1. **Comuna 1:**  Sigue tendencia creciente\n",
    "9. **Comuna 9:**  Sigue tendencia creciente\n",
    "6. **Comuna 6:**  Sigue tendencia creciente\n",
    "12. **Comuna 12:** Sigue tendencia creciente\n",
    "13. **Comuna 13:** Sigue tendencia creciente\n",
    "15. **Comuna 15:** Sigue tendencia creciente\n",
    "\n",
    "\n",
    "2. **Comuna 2:**  Revisar datos. En 2016 hay una caida muy fuerte.\n",
    "7. **Comuna 7:**  Caida en 2016\n",
    "8. **Comuna 8:**  Brusca caida 2016 y 2017. Pico fuerte en 2019\n",
    "10. **Comuna 10:** Brusca caida 2016 y 2017. Pico fuerte en 2019\n",
    "\n",
    "\n",
    "\n",
    "3. **Comuna 3:**  Picos de inversión muy fuertes en 2014 y 2019\n",
    "4. **Comuna 4:**  Pico de inversión muy fuerte en 2019\n",
    "\n",
    "5. **Comuna 5:**  Mayor inversión en 2014, cae mucho en 2016.\n",
    "11. **Comuna 11:** Inversión hasta 2015 y luego cae bruscamente y queda en niveles bajos.\n",
    "14. **Comuna 14:** Inversión hasta 2017, cae en los últimos años\n",
    "\n"
   ]
  },
  {
   "cell_type": "markdown",
   "metadata": {},
   "source": [
    "### Búsqueda de match por categoría de espacios verdes"
   ]
  },
  {
   "cell_type": "code",
   "execution_count": null,
   "metadata": {},
   "outputs": [],
   "source": [
    "clasificaciones_espacios_verdes = ['PLAZOLETA', 'PARQUE', 'PLAZA', 'CANTERO', 'JARDIN',\n",
    "                                   'PASEO', 'PATIO',\n",
    "                                   'BARRIO', 'COMPLEJO', 'JARDIN BOTANICO',]"
   ]
  },
  {
   "cell_type": "code",
   "execution_count": null,
   "metadata": {
    "scrolled": true
   },
   "outputs": [],
   "source": [
    "a = espacios_verdes['ACTIVIDAD'].unique()\n",
    "a[['PARQUE' in x for x in a]]"
   ]
  },
  {
   "cell_type": "markdown",
   "metadata": {},
   "source": [
    "**plazoleta, barrio, complejo, cantero central . No se encuentran en espacios verdes pero hay referencias en otras categorías.**"
   ]
  },
  {
   "cell_type": "code",
   "execution_count": null,
   "metadata": {},
   "outputs": [],
   "source": [
    "for clas in clasificaciones_espacios_verdes:\n",
    " \n",
    "    for col in espacios_verdes.loc[:, 'PROGRAMA':'OBRA'].columns:\n",
    "        \n",
    "        print(col, clas, espacios_verdes[col].str.contains(clas).sum())\n",
    "        print(espacios_verdes.loc[espacios_verdes[col].str.contains(clas), col].unique())\n",
    "\n",
    "        print()"
   ]
  },
  {
   "cell_type": "markdown",
   "metadata": {},
   "source": [
    "**Queda como posibilidad mergear por categoría de espacio verde. Pero en proncipio se unirá por comuna**"
   ]
  },
  {
   "cell_type": "markdown",
   "metadata": {},
   "source": [
    "# Conclusión Parcial"
   ]
  },
  {
   "cell_type": "code",
   "execution_count": null,
   "metadata": {},
   "outputs": [],
   "source": []
  },
  {
   "cell_type": "code",
   "execution_count": null,
   "metadata": {},
   "outputs": [],
   "source": []
  },
  {
   "cell_type": "markdown",
   "metadata": {
    "id": "m1dIrAVttg2Q"
   },
   "source": [
    "### MERGE"
   ]
  },
  {
   "cell_type": "code",
   "execution_count": null,
   "metadata": {},
   "outputs": [],
   "source": []
  },
  {
   "cell_type": "code",
   "execution_count": null,
   "metadata": {},
   "outputs": [],
   "source": []
  },
  {
   "cell_type": "code",
   "execution_count": null,
   "metadata": {},
   "outputs": [],
   "source": []
  },
  {
   "cell_type": "code",
   "execution_count": null,
   "metadata": {},
   "outputs": [],
   "source": []
  }
 ],
 "metadata": {
  "colab": {
   "authorship_tag": "ABX9TyNPHM3LLXsL5msgJHvkt91r",
   "mount_file_id": "1nBJMML7b33TRAAHj2bv_aX3_t1p3Vshu",
   "name": "EDA_espaciosv_verdes_y_comunas.ipynb",
   "provenance": []
  },
  "kernelspec": {
   "display_name": "Python 3",
   "language": "python",
   "name": "python3"
  },
  "language_info": {
   "codemirror_mode": {
    "name": "ipython",
    "version": 3
   },
   "file_extension": ".py",
   "mimetype": "text/x-python",
   "name": "python",
   "nbconvert_exporter": "python",
   "pygments_lexer": "ipython3",
   "version": "3.8.3"
  },
  "toc": {
   "base_numbering": 1,
   "nav_menu": {},
   "number_sections": false,
   "sideBar": true,
   "skip_h1_title": false,
   "title_cell": "Table of Contents",
   "title_sidebar": "Contents",
   "toc_cell": false,
   "toc_position": {},
   "toc_section_display": true,
   "toc_window_display": false
  }
 },
 "nbformat": 4,
 "nbformat_minor": 1
}
