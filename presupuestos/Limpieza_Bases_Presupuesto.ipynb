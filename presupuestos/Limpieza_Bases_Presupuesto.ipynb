{
 "cells": [
  {
   "cell_type": "code",
   "execution_count": 18,
   "metadata": {},
   "outputs": [
    {
     "data": {
      "text/html": [
       "<style>.container { width:80% !important; }</style>"
      ],
      "text/plain": [
       "<IPython.core.display.HTML object>"
      ]
     },
     "metadata": {},
     "output_type": "display_data"
    }
   ],
   "source": [
    "import pandas as pd\n",
    "import glob\n",
    "import os\n",
    "import re\n",
    "import numpy as np\n",
    "import seaborn as sns\n",
    "import time\n",
    "from IPython.core.display import display, HTML\n",
    "display(HTML(\"<style>.container { width:80% !important; }</style>\"))  # Agranda el ancho de la ventana.\n",
    "import warnings\n",
    "warnings.filterwarnings('ignore') \n",
    "from IPython.core.interactiveshell import InteractiveShell\n",
    "InteractiveShell.ast_node_interactivity = \"all\"  \n",
    "pd.set_option('display.max_colwidth', -1)  \n",
    "pd.set_option('display.max_rows', 100)  \n",
    "pd.set_option('display.max_columns', 100) "
   ]
  },
  {
   "cell_type": "markdown",
   "metadata": {},
   "source": [
    "## Bases Presupuestos ejecutados"
   ]
  },
  {
   "cell_type": "code",
   "execution_count": 2,
   "metadata": {},
   "outputs": [],
   "source": [
    "path_to_dir = r\"C:\\Brian\\Industrial Plan I07\\Ciencia de Datos\\Tp\\Presupuestos_Obras\\historico_presupuesto_separados_por_cuatrimestres/\""
   ]
  },
  {
   "cell_type": "markdown",
   "metadata": {},
   "source": [
    "### Con Glob obtendré todos los path a los csv dentro de la carpeta especificada"
   ]
  },
  {
   "cell_type": "code",
   "execution_count": 3,
   "metadata": {},
   "outputs": [],
   "source": [
    "all_paths = glob.glob(path_to_dir + \"*.csv\")"
   ]
  },
  {
   "cell_type": "code",
   "execution_count": 5,
   "metadata": {},
   "outputs": [
    {
     "data": {
      "text/plain": [
       "'C:\\\\Brian\\\\Industrial Plan I07\\\\Ciencia de Datos\\\\Tp\\\\Presupuestos_Obras\\\\historico_presupuesto_separados_por_cuatrimestres\\\\presupuesto-ejecutado-2013-cuarto-trimestre.csv'"
      ]
     },
     "execution_count": 5,
     "metadata": {},
     "output_type": "execute_result"
    }
   ],
   "source": [
    "all_paths[0]"
   ]
  },
  {
   "cell_type": "code",
   "execution_count": 88,
   "metadata": {},
   "outputs": [
    {
     "data": {
      "text/plain": [
       "array(['cp1252'], dtype=object)"
      ]
     },
     "execution_count": 88,
     "metadata": {},
     "output_type": "execute_result"
    }
   ],
   "source": [
    "# Me fijo que encoding tienen los csv\n",
    "encodes = []\n",
    "for path in all_paths:\n",
    "    with open(path, 'a') as f:\n",
    "        encodes.append(f.encoding)\n",
    "pd.Series(encodes).unique()"
   ]
  },
  {
   "cell_type": "code",
   "execution_count": 89,
   "metadata": {
    "scrolled": true
   },
   "outputs": [
    {
     "name": "stdout",
     "output_type": "stream",
     "text": [
      "0 cp\n",
      "1 utf-8-sig\n",
      "2 utf-8-sig\n",
      "3 utf-8-sig\n",
      "4 cp\n",
      "5 utf-8-sig\n",
      "6 utf-8-sig\n",
      "7 utf-8-sig\n",
      "8 cp\n",
      "9 utf-8-sig\n",
      "10 utf-8-sig\n",
      "11 utf-8-sig\n",
      "12 cp\n",
      "13 cp\n",
      "14 cp\n",
      "15 cp\n",
      "16 utf-8-sig\n",
      "17 cp\n",
      "18 cp\n",
      "19 cp\n",
      "20 utf-8-sig\n",
      "21 utf-8-sig\n",
      "22 utf-8-sig\n",
      "23 utf-8-sig\n",
      "24 cp\n",
      "25 utf-8-sig\n",
      "26 cp\n",
      "27 cp\n",
      "28 utf-8-sig\n",
      "29 utf-8-sig\n"
     ]
    }
   ],
   "source": [
    "list_df_1 = []\n",
    "list_df_2 = []\n",
    "\n",
    "trimestres_dict = {\n",
    "    'primer':  1,\n",
    "    'segundo': 2,\n",
    "    'tercer':  3,\n",
    "    'cuarto':  4\n",
    "}\n",
    "\n",
    "for i, path in enumerate(all_paths):\n",
    "    \n",
    "    # Del nombre del file obtengo el año y trimestre en cuestión.\n",
    "    file_name = os.path.basename(path)  # extrae el nombre del file del path.\n",
    "    trimestre = file_name.split(\"-\")[-2]\n",
    "    año = re.findall(\"\\d{4}\", file_name).pop(0)  # uso regex para encontrar el año.\n",
    "    \n",
    "    # A mano definí cuáles csv estaban separados por coma y cuales por punto y coma.\n",
    "    if i in [16, 20, 22, 23, 24, 25, 26, 27, 28, 29]:\n",
    "        \n",
    "    # No todos los archivos tienen éxito al leerlos con 'cp1252' encoding por lo tanto si falla \n",
    "    # paso a utilizar 'utf-8-sig' encoding que maneja bien tildes y caracteres.\n",
    "    \n",
    "        try:\n",
    "            df = pd.read_csv(path, encoding='cp1252')\n",
    "            print(i, 'cp')\n",
    "        except:\n",
    "            df = pd.read_csv(path, encoding='utf-8-sig')\n",
    "            print(i, 'utf-8-sig')\n",
    "    else:\n",
    "        try:\n",
    "            \n",
    "            df = pd.read_csv(path, sep=';', encoding='cp1252')\n",
    "            print(i, 'cp')\n",
    "        except:\n",
    "            df = pd.read_csv(path, sep=';', encoding='utf-8-sig')\n",
    "            print(i, 'utf-8-sig')\n",
    "    \n",
    "    # Agrego año y trimestre a las bases.\n",
    "    df['AÑO'] = año\n",
    "    df['TRIMESTRE'] = trimestres_dict[trimestre]\n",
    "    \n",
    "    # Normalización de los nombres de las columnas para que coincidan los datasets:\n",
    "    df.columns = [x.upper() for x in df.columns]\n",
    "    \n",
    "    # se detectó dos estructuras. \n",
    "    # Aquellos que empezaban con SECTOR y los que empezaban con CAR\n",
    "    \n",
    "    if df.columns[0] == 'SECTOR':\n",
    "        # No venían con problemas en las columnas así que simplemente las agrego a la lista.\n",
    "        list_df_1.append(df)\n",
    "        \n",
    "    elif df.columns[0] == 'CAR':\n",
    "        # En cambio esta tira de dataframes tenían problemas y se tuvo que normalizar algunos puntos.\n",
    "        df.columns = pd.Series(df.columns).str.replace(\"SANCIÃ³N\", \"SANCION\")\n",
    "        df.columns = pd.Series(df.columns).str.replace(\"SANCIÓN\", \"SANCION\")\n",
    "        df.columns = pd.Series(df.columns).str.replace(\"INC_\", \"INCISO_\")\n",
    "        df.columns = pd.Series(df.columns).str.replace(\"INC$\", \"INCISO\")\n",
    "        df.columns = pd.Series(df.columns).str.replace(\"INCISCO\", \"INCISO\")\n",
    "        df.columns = pd.Series(df.columns).str.replace(\"ECO _DESC\", \"ECO_DESC\")\n",
    "        df.columns = pd.Series(df.columns).str.replace(\"FF\", \"FTE\")\n",
    "        df.columns = pd.Series(df.columns).str.replace(\"OGESE\", \"OG\")\n",
    "        df.columns = pd.Series(df.columns).str.replace(\"EG_DESC\", \"OG_DESC\")\n",
    "        df.columns = pd.Series(df.columns).str.replace(\"SUBJ\", \"SJUR\")\n",
    "        df.columns = pd.Series(df.columns).str.replace(\"ACTIVIDAD\", \"ACT\")\n",
    "        df.columns = pd.Series(df.columns).str.replace(\"OBRA\", \"OB\")\n",
    "        df.columns = pd.Series(df.columns).str.replace(\"^PARC\", \"PAR\")\n",
    "        df.columns = pd.Series(df.columns).str.replace(\"SPARC\", \"SPAR\")\n",
    "        df.columns = pd.Series(df.columns).str.replace(\"SAR\", \"SPAR\")\n",
    "\n",
    "        list_df_2.append(df)\n",
    "    \n",
    "# Separo en dos dataframes unificados que se seguirán normalizando hasta poder concatenarlos.    \n",
    "df_1 = pd.concat(list_df_1, axis=0)\n",
    "df_2 = pd.concat(list_df_2, axis=0)"
   ]
  },
  {
   "cell_type": "code",
   "execution_count": 90,
   "metadata": {},
   "outputs": [],
   "source": [
    "df_1 = df_1.drop(['SECTOR','SUBSECTOR','MONEDA'], axis=1)"
   ]
  },
  {
   "cell_type": "markdown",
   "metadata": {},
   "source": [
    "#### Defino un par de funciones para "
   ]
  },
  {
   "cell_type": "code",
   "execution_count": 23,
   "metadata": {},
   "outputs": [],
   "source": [
    "def fix_chars(string):\n",
    "    dictionary = {\n",
    "        \"Ã±\":\"ñ\", \"Ã³\": \"ó\", \"Ã‘\": \"Ñ\", \"Ãƒâ€™\": \"Ó\", \"Ã’\": \"Ó\", \"ÃŒ\": \"Í\", \"ÃƒÅ’\": \"Í\",\n",
    "        \"Âº\": \"u\",\"Ãƒâ‚¬\": \"A\", \"Ã©\": \"e\", \"Ã¡\": \"a\", \"Ã­\":\"í\",\"Ã \":\"a\",\"à\": \"a\", \"Ã€\": \"A\",\n",
    "        \"á\": \"a\", \"é\": \"e\", \"í\": \"i\",\"ó\": \"o\", \"ú\": \"u\",\n",
    "        \"Á\": \"A\", \"É\": \"E\", \"Í\": \"I\", \"Ó\": \"O\", \"Ú\": \"U\",\n",
    "        \"Ò\": \"O\", \"Ã¬\": \"I\", \"Ã²\": \"O\", \"Ãº\": \"U\", \"Â€“\": \"-\", \"–\": \"-\",\n",
    "        \"Â°\": \"da\"\n",
    "    }\n",
    "\n",
    "    for key in dictionary:\n",
    "        try:\n",
    "            if key in string:\n",
    "                string = string.replace(key, dictionary[key])\n",
    "        except:\n",
    "            pass\n",
    "    return string"
   ]
  },
  {
   "cell_type": "code",
   "execution_count": 24,
   "metadata": {},
   "outputs": [],
   "source": [
    "def normalize_titles(df_columns):\n",
    "    \n",
    "    df_columns = pd.Series(df_columns)\n",
    "\n",
    "    df_columns = df_columns.str.replace(\"^CAR$\", \"CARACTER\")\n",
    "    df_columns = df_columns.str.replace(\"^CAR_DESC$\", \"DESC_CARACTER\")\n",
    "\n",
    "    df_columns = df_columns.str.replace(\"^JUR$\", \"JURISDICCION\")\n",
    "    df_columns = df_columns.str.replace(\"^JUR_DESC$\", \"DESC_JURIS\")\n",
    "\n",
    "    df_columns = df_columns.str.replace(\"^SJUR_DESC$\", \"DESC_SJURIS\")\n",
    "    df_columns = df_columns.str.replace(\"^SJUR$\", \"SUBJURISDICCION\")\n",
    "\n",
    "    df_columns = df_columns.str.replace(\"^ENT$\", \"ENTIDAD\")\n",
    "    df_columns = df_columns.str.replace(\"^ENT_DESC$\", \"DESC_ENTIDAD\")\n",
    "\n",
    "    df_columns = df_columns.str.replace(\"^OG$\", \"OGESE\")\n",
    "    df_columns = df_columns.str.replace(\"^OG_DESC$\", \"DESC_OGESE\")\n",
    "\n",
    "    df_columns = df_columns.str.replace(\"^UE$\", \"UNIDAD_EJECUTORA\")\n",
    "    df_columns = df_columns.str.replace(\"^UE_DESC$\", \"DESC_UE\")\n",
    "\n",
    "    df_columns = df_columns.str.replace(\"^PROG$\", \"PROGRAMA\")\n",
    "    df_columns = df_columns.str.replace(\"^PROG_DESC$\", \"DESC_PROGRAMA\")\n",
    "\n",
    "    df_columns = df_columns.str.replace(\"^SPROG$\", \"SUBPROGRAMA\")\n",
    "    df_columns = df_columns.str.replace(\"^SPROG_DESC$\", \"DESC_SPROGRAMA\")\n",
    "\n",
    "    df_columns = df_columns.str.replace(\"^PROY$\", \"PROYECTO\")\n",
    "    df_columns = df_columns.str.replace(\"^PROY_DESC$\", \"DESC_PROYECTO\")\n",
    "\n",
    "    df_columns = df_columns.str.replace(\"^ACT$\", \"ACTIVIDAD\")\n",
    "    df_columns = df_columns.str.replace(\"^ACT_DESC$\", \"DESC_ACTIVIDAD\")\n",
    "\n",
    "    df_columns = df_columns.str.replace(\"^OB$\", \"OBRA\")\n",
    "    df_columns = df_columns.str.replace(\"^OB_DESC$\", \"DESC_OBRA\")\n",
    "\n",
    "    df_columns = df_columns.str.replace(\"^FIN$\", \"FINALIDAD\")\n",
    "    df_columns = df_columns.str.replace(\"^FIN_DESC$\", \"DESC_FIN\")\n",
    "\n",
    "    df_columns = df_columns.str.replace(\"^FUN_DESC$\", \"DESC_FUN\")\n",
    "    df_columns = df_columns.str.replace(\"^FUN$\", \"FUNCION\")\n",
    "\n",
    "    df_columns = df_columns.str.replace(\"^INCISO_DESC$\", \"DESC_INCISO\")\n",
    "\n",
    "    df_columns = df_columns.str.replace(\"^PPAL$\", \"PRINCIPAL\")\n",
    "    df_columns = df_columns.str.replace(\"^PPAL_DESC$\", \"DESC_PRINCIPAL\")\n",
    "\n",
    "    df_columns = df_columns.str.replace(\"^PAR$\", \"PARCIAL\")\n",
    "    df_columns = df_columns.str.replace(\"^PAR_DESC$\", \"DESC_PARCIAL\")\n",
    "    \n",
    "    df_columns = df_columns.str.replace(\"^PARC$\", \"PARCIAL\")\n",
    "    df_columns = df_columns.str.replace(\"^PARC_DESC$\", \"DESC_PARCIAL\")\n",
    "\n",
    "    df_columns = df_columns.str.replace(\"^SPAR$\", \"SUBPARCIAL\")\n",
    "    df_columns = df_columns.str.replace(\"^SPAR_DESC$\", \"DESC_SUBPARCIAL\")\n",
    "    \n",
    "    df_columns = df_columns.str.replace(\"^SPARC$\", \"SUBPARCIAL\")\n",
    "    df_columns = df_columns.str.replace(\"^SPARC_DESC$\", \"DESC_SUBPARCIAL\")\n",
    "\n",
    "    df_columns = df_columns.str.replace(\"^ECO$\", \"CLAS_ECONOMICO\")\n",
    "    df_columns = df_columns.str.replace(\"^ECO_DESC$\", \"DESC_CLAS_ECO\")\n",
    "\n",
    "    df_columns = df_columns.str.replace(\"^FTE$\", \"FUENTE_FIN\")\n",
    "    df_columns = df_columns.str.replace(\"^FTE_DESC$\", \"DESC_FUENTE_FIN\")\n",
    "    \n",
    "    df_columns = df_columns.str.replace(\"^FF$\", \"FUENTE_FIN\")\n",
    "    df_columns = df_columns.str.replace(\"^FF_DESC$\", \"DESC_FUENTE_FIN\")\n",
    "\n",
    "    df_columns = df_columns.str.replace(\"^GEO$\", \"UBICACION_GEOGRAFICA\")\n",
    "    df_columns = df_columns.str.replace(\"^GEO_DESC$\", \"DESC_UBIC\")\n",
    "\n",
    "    df_columns = df_columns.str.replace(\"^GEO$\", \"UBICACION_GEOGRAFICA\")\n",
    "    df_columns = df_columns.str.replace(\"^GEO_DESC$\", \"DESC_UBIC\")\n",
    "    \n",
    "    df_columns = df_columns.str.replace(\"^OBRA_DESC$\", \"DESC_OBRA\")\n",
    "    df_columns = df_columns.str.replace(\"^OGESE_DESC$\", \"DESC_OGESE\")    \n",
    "    \n",
    "    df_columns = df_columns.str.replace(\"OGESE\", \"SERVICIO\") \n",
    "    \n",
    "    df_columns = df_columns.apply(lambda x: fix_chars(x))\n",
    "        \n",
    "    return df_columns"
   ]
  },
  {
   "cell_type": "code",
   "execution_count": 93,
   "metadata": {},
   "outputs": [],
   "source": [
    "df_2.columns = normalize_titles(df_2.columns)\n",
    "df_1.columns = normalize_titles(df_1.columns)"
   ]
  },
  {
   "cell_type": "code",
   "execution_count": 94,
   "metadata": {},
   "outputs": [],
   "source": [
    "presupuesto_ejecutado = pd.concat([df_1, df_2], axis=0).reset_index(drop=True)"
   ]
  },
  {
   "cell_type": "code",
   "execution_count": 25,
   "metadata": {},
   "outputs": [],
   "source": [
    "def fix_chars_in_columns(df_all):\n",
    "    description_columns = df_all.columns[[\"DESC_\" in col for col in df_all.columns]]    \n",
    "    \n",
    "    start_start = time.time()\n",
    "    asd = len(description_columns)\n",
    "    \n",
    "    for descripcion in description_columns:\n",
    "        start = time.time()\n",
    "        df_all[descripcion] = df_all[descripcion].apply(lambda string: fix_chars(string))\n",
    "        print(\"total time taken this loop: \", round(time.time() - start, 1), \"seg.  Faltan \", asd)\n",
    "        asd -= 1\n",
    "\n",
    "    print(f\"\\nTotal time taken: {(time.time() - start_start)/60} min\\n\\n\")\n",
    "    \n",
    "    return df_all"
   ]
  },
  {
   "cell_type": "code",
   "execution_count": 26,
   "metadata": {},
   "outputs": [],
   "source": [
    "def fix_descripcion_strings(df_all):\n",
    "\n",
    "    description_columns = df_all.columns[[\"DESC_\" in col for col in df_all.columns]] \n",
    "\n",
    "    start = time.time()\n",
    "    count=len(description_columns)\n",
    "    for descripcion in description_columns:\n",
    "\n",
    "        start_start = time.time()\n",
    "\n",
    "        df_all[descripcion] = df_all[descripcion].str.upper()\n",
    "\n",
    "        df_all.loc[df_all[df_all[descripcion] == \"MIN.HÃ\\xa0BITAT Y DES. HUMANO\"].index,\n",
    "                                                                 descripcion] = \"MINISTERIO HABITAT Y DESARROLO HUMANO\"\n",
    "\n",
    "        habitat_pattern = '|'.join(['MIN.HÃ\\xa0BITAT Y DES. HUMANO', 'MIN.HABITAT Y DES. HUMANO',\n",
    "                                    'MIN. HABITAT Y DES. HUMANO', \"MINISTERIO DE HABITAT Y DES. HUMANO\",\n",
    "                                    \"MINISTERIO DE DESARROLLO HUMANO Y HABITAT\"])\n",
    "\n",
    "        moden_pattern = '|'.join(['MINISTERIO DE MODERN. INNOVACION Y TECNOLOGIA', 'MIN.MODERN.INNOVACION Y TECNOLOGIA'])\n",
    "\n",
    "        df_all[descripcion] = df_all[descripcion].str.replace(habitat_pattern, 'MINISTERIO HABITAT Y DESARROLO HUMANO')\n",
    "\n",
    "        df_all[descripcion] = df_all[descripcion].str.replace(moden_pattern, 'MINISTERIO DE MODERNIZACION')\n",
    "\n",
    "        df_all[descripcion] = df_all[descripcion].str.replace('MINISTERIO DE HACIENDA$',\n",
    "                                                                'MINISTERIO DE HACIENDA Y FINANZAS')\n",
    "\n",
    "        df_all[descripcion] = df_all[descripcion].str.replace('MIN.DESA.ECON Y PROD',\n",
    "                                                                'MINISTERIO DE DESARROLLO ECONOMICO')\n",
    "\n",
    "        economy_pattern = '|'.join([\"MINISTERIO DE HACIENDA Y FINANZAS\", \"MINISTERIO DE ECONOMIA Y FINANZAS\"])\n",
    "\n",
    "        df_all[descripcion] = df_all[descripcion].str.replace(economy_pattern, 'MINISTERIO DE ECONOMIA, HACIENDA Y FINANZAS')\n",
    "\n",
    "        ceys_pattern = '|'.join([\"CONSEJO ECONOMICO Y SOCIAL DE LA CABA\",\n",
    "                                 \"CONSEJO ECONOMICO Y SOCIAL DE LA CIUDAD DE BUENOS AIRES\",\n",
    "                                 \"CONSEJO ECONOMICO Y SOCIAL DE LA C.A.B.A\"])\n",
    "\n",
    "        df_all[descripcion] = df_all[descripcion].str.replace(ceys_pattern, \"CONSEJO ECONOMICO Y SOCIAL\")\n",
    "\n",
    "        dg_pattern = '|'.join([\"^DG.\",\"^D.G.\",\"^DG.\",\"^DIR.GRAL.\",\"^D.GRAL.\",\"^DIRECCION.GRAL.\",\"^DIR..GRAL.\",\n",
    "                               \"^DIR.G.\", \"^DIREC.GRAL.\", \"^D..G.\"])  \n",
    "\n",
    "        df_all[descripcion] = df_all[descripcion].str.replace(dg_pattern, 'DIRECCION GENERAL ')\n",
    "\n",
    "        ss_pattern = '|'.join([\"^SUBS\\.\",\"^SUBS \",\"^SUBSEC\\.\",\"^SUBSEC \",\"^SUBSECRET\\.\",\"^SUBSECRET \",\n",
    "                               \"^SS.\",\"^SUB\\.\",\"^SUB \",\"^SUBSECR\\.\",\"^SUBSECR \", \"^SUSEC\\.\"])\n",
    "\n",
    "        df_all[descripcion] = df_all[descripcion].str.replace(ss_pattern, 'SUBSECRETARIA ')\n",
    "\n",
    "        df_all[descripcion] = df_all[descripcion].str.replace(\"^CS.\", 'CENTROS SALUD ')\n",
    "        df_all[descripcion] = df_all[descripcion].str.replace(\"CTRO.DE SALUD\", 'CENTRO DE SALUD ')\n",
    "        df_all[descripcion] = df_all[descripcion].str.replace(\"FINANCIAMIENTO INTER$\", 'FINANCIAMIENTO INTERNO')\n",
    "        df_all[descripcion] = df_all[descripcion].str.replace(\"TRANSFERENCIAS INTER$\", 'TRANSFERENCIAS INTERNAS')\n",
    "        df_all[descripcion] = df_all[descripcion].str.replace(\"FINANCIAMIENTO EXTER$\", 'FINANCIAMIENTO EXTERNO')\n",
    "        df_all[descripcion] = df_all[descripcion].str.replace(\"TRANSFERENCIAS AFECT$\", 'TRANSFERENCIAS AFECTADAS')\n",
    "        \n",
    "        df_all[descripcion] = df_all[descripcion].str.replace(\"MIN.ESP.PUBLICO E HIG. URBANA$\",\n",
    "                                                              'MINISTERIO DE AMBIENTE Y ESPACIO PUBLICO')\n",
    "\n",
    "\n",
    "        \n",
    "        \n",
    "\n",
    "        df_all[descripcion] = df_all[descripcion].str.replace('  ', ' ')\n",
    "\n",
    "        print(\"total time taken this loop: \", round(time.time() - start_start, 1), \"seg.  Faltan \", count)\n",
    "        count -= 1\n",
    "\n",
    "    print(f\"\\nTotal time taken: {(time.time() - start)/60} min\\n\\n\")\n",
    "    \n",
    "    return df_all"
   ]
  },
  {
   "cell_type": "code",
   "execution_count": 27,
   "metadata": {},
   "outputs": [],
   "source": [
    "def drop_cve_columns(df_all):\n",
    "    \n",
    "    df_all['CARACTER']= df_all[\"DESC_CARACTER\"]\n",
    "    df_all['JURISDICCION']= df_all[\"DESC_JURIS\"]\n",
    "    df_all['SUBJURISDICCION']= df_all[\"DESC_SJURIS\"]\n",
    "    df_all['ENTIDAD']= df_all[\"DESC_ENTIDAD\"]\n",
    "    df_all['UNIDAD_EJECUTORA']= df_all[\"DESC_UE\"]\n",
    "    df_all['PROGRAMA']= df_all[\"DESC_PROGRAMA\"]\n",
    "    df_all['SUBPROGRAMA']= df_all[\"DESC_SPROGRAMA\"]\n",
    "    df_all['PROYECTO']= df_all[\"DESC_PROYECTO\"]\n",
    "    df_all['ACTIVIDAD']= df_all[\"DESC_ACTIVIDAD\"]\n",
    "    df_all['OBRA']= df_all[\"DESC_OBRA\"]\n",
    "    df_all['FINALIDAD']= df_all[\"DESC_FIN\"]\n",
    "    df_all['FUNCION']= df_all[\"DESC_FUN\"]\n",
    "    df_all['INCISO']= df_all[\"DESC_INCISO\"]\n",
    "    df_all['PRINCIPAL']= df_all[\"DESC_PRINCIPAL\"]\n",
    "    df_all['PARCIAL']= df_all[\"DESC_PARCIAL\"]\n",
    "    df_all['SUBPARCIAL']= df_all[\"DESC_SUBPARCIAL\"]\n",
    "    df_all['CLAS_ECONOMICO']= df_all[\"DESC_CLAS_ECO\"]\n",
    "    df_all['FUENTE_FIN']= df_all[\"DESC_FUENTE_FIN\"]\n",
    "    df_all['UBICACION_GEOGRAFICA']= df_all[\"DESC_UBIC\"]\n",
    "    df_all['SERVICIO']= df_all[\"DESC_SERVICIO\"]\n",
    "\n",
    "\n",
    "    if \"DESC_FIN_FUN\" in df_all.columns:\n",
    "        df_all.loc[df_all['FINALIDAD'].isna(), \"FINALIDAD\"] = df_all.loc[df_all['FINALIDAD'].isna(), \"DESC_FIN_FUN\"]  \n",
    "        df_all.loc[df_all['FUNCION'].isna(), \"FUNCION\"] = df_all.loc[df_all['FUNCION'].isna(), \"DESC_FIN_FUN\"]   \n",
    "        df_all = df_all.drop(\"DESC_FIN_FUN\", axis=1)\n",
    "        \n",
    "        df_all.loc[df_all[\"CARACTER\"] == 1, \"DESC_CARACTER\"] = \"ADMINISTRACION CENTRAL\"\n",
    "        df_all.loc[df_all[\"CARACTER\"] == 2, \"DESC_CARACTER\"] = \"ORGANISMOS DESCENTRALIZADOS\"\n",
    "    \n",
    "    df_all = df_all.drop(['DESC_JURIS', 'DESC_SJURIS', 'DESC_ENTIDAD', 'DESC_UE',\n",
    "                         'DESC_PROGRAMA', 'DESC_SPROGRAMA', 'DESC_PROYECTO', 'DESC_OBRA',\n",
    "                         'DESC_INCISO', 'DESC_PRINCIPAL', 'DESC_PARCIAL',\n",
    "                         'DESC_SUBPARCIAL', 'DESC_CLAS_ECO', 'DESC_FUENTE_FIN', 'DESC_UBIC',\n",
    "                         'DESC_CARACTER', 'DESC_ACTIVIDAD', 'DESC_FIN',\n",
    "                         'DESC_FUN', \"DESC_SERVICIO\",\n",
    "#                           \"DESC_FIN_FUN\"\n",
    "                         ], axis=1)\n",
    "\n",
    "    return df_all"
   ]
  },
  {
   "cell_type": "code",
   "execution_count": 28,
   "metadata": {},
   "outputs": [],
   "source": [
    "def replace_str_num_values(df_all, col):\n",
    "    \n",
    "    df_all[col] = df_all[col].astype(str)\n",
    "    \n",
    "    df_all.loc[:, col] = df_all.loc[:, col].str.replace(\",\", \".\")\n",
    "    df_all.loc[:, col] = df_all.loc[:, col].str.replace(\"\\...$\", '')\n",
    "    df_all.loc[:, col] = df_all.loc[:, col].str.replace(\"\\.\", '')\n",
    "    df_all.loc[:, col] = df_all.loc[:, col].replace(\" \", np.NaN)\n",
    "    \n",
    "    df_all[col] = df_all[col].astype(float)\n",
    "    df_all[col] = df_all[col].round(2)\n",
    "    \n",
    "    return df_all"
   ]
  },
  {
   "cell_type": "code",
   "execution_count": 99,
   "metadata": {},
   "outputs": [
    {
     "name": "stdout",
     "output_type": "stream",
     "text": [
      "total time taken this loop:  14.0 seg.  Faltan  21\n",
      "total time taken this loop:  10.2 seg.  Faltan  20\n",
      "total time taken this loop:  11.0 seg.  Faltan  19\n",
      "total time taken this loop:  8.5 seg.  Faltan  18\n",
      "total time taken this loop:  9.1 seg.  Faltan  17\n",
      "total time taken this loop:  9.7 seg.  Faltan  16\n",
      "total time taken this loop:  9.0 seg.  Faltan  15\n",
      "total time taken this loop:  8.1 seg.  Faltan  14\n",
      "total time taken this loop:  8.0 seg.  Faltan  13\n",
      "total time taken this loop:  42.4 seg.  Faltan  12\n",
      "total time taken this loop:  7.7 seg.  Faltan  11\n",
      "total time taken this loop:  7.7 seg.  Faltan  10\n",
      "total time taken this loop:  8.1 seg.  Faltan  9\n",
      "total time taken this loop:  8.0 seg.  Faltan  8\n",
      "total time taken this loop:  8.0 seg.  Faltan  7\n",
      "total time taken this loop:  8.4 seg.  Faltan  6\n",
      "total time taken this loop:  7.9 seg.  Faltan  5\n",
      "total time taken this loop:  14.7 seg.  Faltan  4\n",
      "total time taken this loop:  14.2 seg.  Faltan  3\n",
      "total time taken this loop:  14.3 seg.  Faltan  2\n",
      "total time taken this loop:  13.8 seg.  Faltan  1\n",
      "\n",
      "Total time taken: 4.04736606280009 min\n",
      "\n",
      "\n",
      "total time taken this loop:  24.9 seg.  Faltan  21\n",
      "total time taken this loop:  25.1 seg.  Faltan  20\n",
      "total time taken this loop:  25.8 seg.  Faltan  19\n",
      "total time taken this loop:  25.4 seg.  Faltan  18\n",
      "total time taken this loop:  25.3 seg.  Faltan  17\n",
      "total time taken this loop:  24.7 seg.  Faltan  16\n",
      "total time taken this loop:  24.7 seg.  Faltan  15\n",
      "total time taken this loop:  25.1 seg.  Faltan  14\n",
      "total time taken this loop:  24.5 seg.  Faltan  13\n",
      "total time taken this loop:  7.4 seg.  Faltan  12\n",
      "total time taken this loop:  23.1 seg.  Faltan  11\n",
      "total time taken this loop:  24.5 seg.  Faltan  10\n",
      "total time taken this loop:  24.7 seg.  Faltan  9\n",
      "total time taken this loop:  24.5 seg.  Faltan  8\n",
      "total time taken this loop:  23.8 seg.  Faltan  7\n",
      "total time taken this loop:  23.1 seg.  Faltan  6\n",
      "total time taken this loop:  21.8 seg.  Faltan  5\n",
      "total time taken this loop:  21.5 seg.  Faltan  4\n",
      "total time taken this loop:  22.0 seg.  Faltan  3\n",
      "total time taken this loop:  21.0 seg.  Faltan  2\n",
      "total time taken this loop:  19.9 seg.  Faltan  1\n",
      "\n",
      "Total time taken: 8.044790836175283 min\n",
      "\n",
      "\n"
     ]
    }
   ],
   "source": [
    "presupuesto_ejecutado = fix_chars_in_columns(presupuesto_ejecutado)\n",
    "presupuesto_ejecutado = fix_descripcion_strings(presupuesto_ejecutado)"
   ]
  },
  {
   "cell_type": "code",
   "execution_count": 100,
   "metadata": {},
   "outputs": [],
   "source": [
    "presupuesto_ejecutado = drop_cve_columns(presupuesto_ejecutado)"
   ]
  },
  {
   "cell_type": "code",
   "execution_count": 101,
   "metadata": {},
   "outputs": [],
   "source": [
    "presupuesto_ejecutado = replace_str_num_values(presupuesto_ejecutado, 'DEVENGADO')\n",
    "presupuesto_ejecutado = replace_str_num_values(presupuesto_ejecutado, 'SANCION')\n",
    "presupuesto_ejecutado = replace_str_num_values(presupuesto_ejecutado, 'VIGENTE')\n",
    "presupuesto_ejecutado = replace_str_num_values(presupuesto_ejecutado, 'DEFINITIVO')"
   ]
  },
  {
   "cell_type": "code",
   "execution_count": 102,
   "metadata": {
    "collapsed": true
   },
   "outputs": [
    {
     "data": {
      "text/plain": [
       "Index(['CARACTER', 'JURISDICCION', 'SUBJURISDICCION', 'ENTIDAD', 'SERVICIO',\n",
       "       'UNIDAD_EJECUTORA', 'PROGRAMA', 'SUBPROGRAMA', 'PROYECTO', 'ACTIVIDAD',\n",
       "       'OBRA', 'FINALIDAD', 'FUNCION', 'INCISO', 'PRINCIPAL', 'PARCIAL',\n",
       "       'SUBPARCIAL', 'CLAS_ECONOMICO', 'FUENTE_FIN', 'UBICACION_GEOGRAFICA',\n",
       "       'VIGENTE', 'DEVENGADO', 'AÑO', 'TRIMESTRE', 'SANCION', 'DEFINITIVO'],\n",
       "      dtype='object')"
      ]
     },
     "execution_count": 102,
     "metadata": {},
     "output_type": "execute_result"
    }
   ],
   "source": [
    "presupuesto_ejecutado.columns"
   ]
  },
  {
   "cell_type": "code",
   "execution_count": 103,
   "metadata": {
    "collapsed": true
   },
   "outputs": [
    {
     "name": "stdout",
     "output_type": "stream",
     "text": [
      "<class 'pandas.core.frame.DataFrame'>\n",
      "RangeIndex: 1247216 entries, 0 to 1247215\n",
      "Data columns (total 26 columns):\n",
      " #   Column                Non-Null Count    Dtype  \n",
      "---  ------                --------------    -----  \n",
      " 0   CARACTER              1049043 non-null  object \n",
      " 1   JURISDICCION          1247211 non-null  object \n",
      " 2   SUBJURISDICCION       1247211 non-null  object \n",
      " 3   ENTIDAD               1247211 non-null  object \n",
      " 4   SERVICIO              1247211 non-null  object \n",
      " 5   UNIDAD_EJECUTORA      1247180 non-null  object \n",
      " 6   PROGRAMA              1247180 non-null  object \n",
      " 7   SUBPROGRAMA           1247180 non-null  object \n",
      " 8   PROYECTO              1246992 non-null  object \n",
      " 9   ACTIVIDAD             1048791 non-null  object \n",
      " 10  OBRA                  1246817 non-null  object \n",
      " 11  FINALIDAD             1247211 non-null  object \n",
      " 12  FUNCION               1247211 non-null  object \n",
      " 13  INCISO                1247211 non-null  object \n",
      " 14  PRINCIPAL             1247211 non-null  object \n",
      " 15  PARCIAL               1247210 non-null  object \n",
      " 16  SUBPARCIAL            1247153 non-null  object \n",
      " 17  CLAS_ECONOMICO        1247210 non-null  object \n",
      " 18  FUENTE_FIN            1247211 non-null  object \n",
      " 19  UBICACION_GEOGRAFICA  1247203 non-null  object \n",
      " 20  VIGENTE               1247211 non-null  float64\n",
      " 21  DEVENGADO             1247211 non-null  float64\n",
      " 22  AÑO                   1247216 non-null  object \n",
      " 23  TRIMESTRE             1247216 non-null  int64  \n",
      " 24  SANCION               1049043 non-null  float64\n",
      " 25  DEFINITIVO            1049043 non-null  float64\n",
      "dtypes: float64(4), int64(1), object(21)\n",
      "memory usage: 247.4+ MB\n"
     ]
    }
   ],
   "source": [
    "presupuesto_ejecutado.info()"
   ]
  },
  {
   "cell_type": "code",
   "execution_count": 104,
   "metadata": {},
   "outputs": [],
   "source": [
    "presupuesto_ejecutado.to_csv(\"presupuestos_ejecutados_clean.csv\", index=False)"
   ]
  },
  {
   "cell_type": "markdown",
   "metadata": {},
   "source": [
    "### Bases Presupuestos Sancionados"
   ]
  },
  {
   "cell_type": "code",
   "execution_count": 19,
   "metadata": {},
   "outputs": [],
   "source": [
    "path_to_dir = r\"C:\\Brian\\Industrial Plan I07\\Ciencia de Datos\\Tp\\Presupuesto_Sancionado/\""
   ]
  },
  {
   "cell_type": "code",
   "execution_count": 20,
   "metadata": {},
   "outputs": [],
   "source": [
    "all_paths = glob.glob(path_to_dir + \"*.csv\")"
   ]
  },
  {
   "cell_type": "code",
   "execution_count": 107,
   "metadata": {},
   "outputs": [
    {
     "data": {
      "text/plain": [
       "array(['cp1252'], dtype=object)"
      ]
     },
     "execution_count": 107,
     "metadata": {},
     "output_type": "execute_result"
    }
   ],
   "source": [
    "encodes = []\n",
    "for path in all_paths:\n",
    "    with open(path, 'a') as f:\n",
    "        encodes.append(f.encoding)\n",
    "pd.Series(encodes).unique()"
   ]
  },
  {
   "cell_type": "code",
   "execution_count": 29,
   "metadata": {},
   "outputs": [],
   "source": [
    "list_df = []\n",
    "\n",
    "for file in all_paths:\n",
    "    \n",
    "    file_name = os.path.basename(file)\n",
    "    año = re.findall(\"\\d{4}\", file_name).pop(0)\n",
    "    \n",
    "    try:\n",
    "        if file.endswith('2020.csv'):\n",
    "            df = pd.read_csv(file, sep=',', encoding='cp1252')\n",
    "            df.columns = pd.Series(df.columns).str.upper()\n",
    "        else:\n",
    "            df = pd.read_csv(file, sep=';', encoding='cp1252')\n",
    "    except:\n",
    "        if file.endswith('2019.csv'):\n",
    "            df = pd.read_csv(file, sep=',', encoding='utf-8-sig')\n",
    "            df.columns = pd.Series(df.columns).str.upper()\n",
    "        else:\n",
    "            df = pd.read_csv(file, sep=';', encoding='utf-8-sig')  \n",
    "            \n",
    "    finally:\n",
    "        df['AÑO'] = año\n",
    "        \n",
    "        df.columns = pd.Series(df.columns).str.replace(\"INC_\", \"INCISO_\")\n",
    "        df.columns = pd.Series(df.columns).str.replace(\"INC$\", \"INCISO\")\n",
    "        df.columns = pd.Series(df.columns).str.replace(\"SPOR_DESC$\", \"SPROG_DESC\")\n",
    "        df.columns = normalize_titles(df.columns)\n",
    "        list_df.append(df)\n",
    "        \n",
    "presupuesto_sancionado = pd.concat(list_df)"
   ]
  },
  {
   "cell_type": "code",
   "execution_count": 30,
   "metadata": {},
   "outputs": [
    {
     "data": {
      "text/plain": [
       "(640405, 42)"
      ]
     },
     "execution_count": 30,
     "metadata": {},
     "output_type": "execute_result"
    }
   ],
   "source": [
    "presupuesto_sancionado.shape"
   ]
  },
  {
   "cell_type": "code",
   "execution_count": 31,
   "metadata": {
    "scrolled": true
   },
   "outputs": [
    {
     "name": "stdout",
     "output_type": "stream",
     "text": [
      "total time taken this loop:  4.0 seg.  Faltan  20\n",
      "total time taken this loop:  4.4 seg.  Faltan  19\n",
      "total time taken this loop:  4.5 seg.  Faltan  18\n",
      "total time taken this loop:  4.7 seg.  Faltan  17\n",
      "total time taken this loop:  5.3 seg.  Faltan  16\n",
      "total time taken this loop:  5.3 seg.  Faltan  15\n",
      "total time taken this loop:  5.3 seg.  Faltan  14\n",
      "total time taken this loop:  5.4 seg.  Faltan  13\n",
      "total time taken this loop:  5.9 seg.  Faltan  12\n",
      "total time taken this loop:  5.0 seg.  Faltan  11\n",
      "total time taken this loop:  5.0 seg.  Faltan  10\n",
      "total time taken this loop:  4.3 seg.  Faltan  9\n",
      "total time taken this loop:  4.3 seg.  Faltan  8\n",
      "total time taken this loop:  4.1 seg.  Faltan  7\n",
      "total time taken this loop:  4.5 seg.  Faltan  6\n",
      "total time taken this loop:  4.5 seg.  Faltan  5\n",
      "total time taken this loop:  4.3 seg.  Faltan  4\n",
      "total time taken this loop:  4.2 seg.  Faltan  3\n",
      "total time taken this loop:  4.3 seg.  Faltan  2\n",
      "total time taken this loop:  4.5 seg.  Faltan  1\n",
      "\n",
      "Total time taken: 1.5626473943392436 min\n",
      "\n",
      "\n",
      "total time taken this loop:  14.0 seg.  Faltan  20\n",
      "total time taken this loop:  13.8 seg.  Faltan  19\n",
      "total time taken this loop:  13.6 seg.  Faltan  18\n",
      "total time taken this loop:  13.8 seg.  Faltan  17\n",
      "total time taken this loop:  14.1 seg.  Faltan  16\n",
      "total time taken this loop:  14.4 seg.  Faltan  15\n",
      "total time taken this loop:  14.9 seg.  Faltan  14\n",
      "total time taken this loop:  14.5 seg.  Faltan  13\n",
      "total time taken this loop:  13.8 seg.  Faltan  12\n",
      "total time taken this loop:  13.1 seg.  Faltan  11\n",
      "total time taken this loop:  13.1 seg.  Faltan  10\n",
      "total time taken this loop:  13.8 seg.  Faltan  9\n",
      "total time taken this loop:  13.1 seg.  Faltan  8\n",
      "total time taken this loop:  12.2 seg.  Faltan  7\n",
      "total time taken this loop:  13.4 seg.  Faltan  6\n",
      "total time taken this loop:  13.4 seg.  Faltan  5\n",
      "total time taken this loop:  13.2 seg.  Faltan  4\n",
      "total time taken this loop:  13.4 seg.  Faltan  3\n",
      "total time taken this loop:  12.7 seg.  Faltan  2\n",
      "total time taken this loop:  12.0 seg.  Faltan  1\n",
      "\n",
      "Total time taken: 4.5062529365221655 min\n",
      "\n",
      "\n"
     ]
    }
   ],
   "source": [
    "presupuesto_sancionado = fix_chars_in_columns(presupuesto_sancionado)\n",
    "presupuesto_sancionado = fix_descripcion_strings(presupuesto_sancionado)"
   ]
  },
  {
   "cell_type": "code",
   "execution_count": 32,
   "metadata": {},
   "outputs": [],
   "source": [
    "presupuesto_sancionado = drop_cve_columns(presupuesto_sancionado)"
   ]
  },
  {
   "cell_type": "code",
   "execution_count": 33,
   "metadata": {},
   "outputs": [],
   "source": [
    "presupuesto_sancionado = replace_str_num_values(presupuesto_sancionado, 'SANCION')"
   ]
  },
  {
   "cell_type": "code",
   "execution_count": 34,
   "metadata": {},
   "outputs": [
    {
     "data": {
      "text/plain": [
       "(640405, 22)"
      ]
     },
     "execution_count": 34,
     "metadata": {},
     "output_type": "execute_result"
    }
   ],
   "source": [
    "presupuesto_sancionado.shape"
   ]
  },
  {
   "cell_type": "code",
   "execution_count": 36,
   "metadata": {},
   "outputs": [
    {
     "data": {
      "text/plain": [
       "Index(['CARACTER', 'JURISDICCION', 'SUBJURISDICCION', 'ENTIDAD', 'SERVICIO',\n",
       "       'UNIDAD_EJECUTORA', 'PROGRAMA', 'SUBPROGRAMA', 'PROYECTO', 'ACTIVIDAD',\n",
       "       'OBRA', 'FINALIDAD', 'FUNCION', 'INCISO', 'PRINCIPAL', 'PARCIAL',\n",
       "       'SUBPARCIAL', 'CLAS_ECONOMICO', 'FUENTE_FIN', 'UBICACION_GEOGRAFICA',\n",
       "       'SANCION', 'AÑO'],\n",
       "      dtype='object')"
      ]
     },
     "execution_count": 36,
     "metadata": {},
     "output_type": "execute_result"
    }
   ],
   "source": [
    "presupuesto_sancionado.columns"
   ]
  },
  {
   "cell_type": "code",
   "execution_count": 37,
   "metadata": {},
   "outputs": [
    {
     "data": {
      "text/plain": [
       "array(['2005', '2006', '2009', '2010', '2011', '2012', '2013', '2014',\n",
       "       '2015', '2016', '2017', '2018', '2019'], dtype=object)"
      ]
     },
     "execution_count": 37,
     "metadata": {},
     "output_type": "execute_result"
    }
   ],
   "source": [
    "presupuesto_sancionado[presupuesto_sancionado['UNIDAD_EJECUTORA']=='DIRECCION GENERAL DE ESPACIOS VERDES'].AÑO.unique()"
   ]
  },
  {
   "cell_type": "code",
   "execution_count": 38,
   "metadata": {
    "scrolled": true
   },
   "outputs": [],
   "source": [
    "presupuesto_sancionado.to_csv(\"datasets/presupuesto_sancionado_clean.csv\", index=False)"
   ]
  },
  {
   "cell_type": "code",
   "execution_count": null,
   "metadata": {},
   "outputs": [],
   "source": []
  },
  {
   "cell_type": "code",
   "execution_count": null,
   "metadata": {},
   "outputs": [],
   "source": []
  },
  {
   "cell_type": "code",
   "execution_count": 39,
   "metadata": {},
   "outputs": [],
   "source": [
    "presupuesto_sancionado = pd.read_csv(\"datasets/presupuesto_sancionado_clean.csv\")"
   ]
  },
  {
   "cell_type": "code",
   "execution_count": 40,
   "metadata": {},
   "outputs": [
    {
     "data": {
      "text/plain": [
       "(640405, 22)"
      ]
     },
     "execution_count": 40,
     "metadata": {},
     "output_type": "execute_result"
    }
   ],
   "source": [
    "presupuesto_sancionado.shape"
   ]
  },
  {
   "cell_type": "code",
   "execution_count": 41,
   "metadata": {},
   "outputs": [],
   "source": [
    "path_folder = r'C:\\Users\\brian\\Documents\\GitHub\\TP_Grupo0_Ciencia_Datos/datasets/presupuesto_partido/'\n",
    "index = 0\n",
    "for i in range(1, 11):\n",
    "    index_fw = round(presupuesto_sancionado.shape[0] / 10 * i, 0)\n",
    "    \n",
    "    path = path_folder + f\"presupuesto_sancionado_clean_{i}.csv\"\n",
    "    presupuesto_sancionado.loc[index:index_fw].to_csv(path, index=None)\n",
    "    \n",
    "    index = index_fw+1"
   ]
  },
  {
   "cell_type": "code",
   "execution_count": null,
   "metadata": {},
   "outputs": [],
   "source": []
  }
 ],
 "metadata": {
  "kernelspec": {
   "display_name": "Python 3",
   "language": "python",
   "name": "python3"
  },
  "language_info": {
   "codemirror_mode": {
    "name": "ipython",
    "version": 3
   },
   "file_extension": ".py",
   "mimetype": "text/x-python",
   "name": "python",
   "nbconvert_exporter": "python",
   "pygments_lexer": "ipython3",
   "version": "3.8.3"
  },
  "toc": {
   "base_numbering": 1,
   "nav_menu": {},
   "number_sections": false,
   "sideBar": true,
   "skip_h1_title": false,
   "title_cell": "Table of Contents",
   "title_sidebar": "Contents",
   "toc_cell": false,
   "toc_position": {},
   "toc_section_display": true,
   "toc_window_display": false
  }
 },
 "nbformat": 4,
 "nbformat_minor": 2
}
