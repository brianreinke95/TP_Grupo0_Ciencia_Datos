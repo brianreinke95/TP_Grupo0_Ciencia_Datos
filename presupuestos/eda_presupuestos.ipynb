{
 "cells": [
  {
   "cell_type": "code",
   "execution_count": 1,
   "metadata": {},
   "outputs": [
    {
     "data": {
      "text/html": [
       "<style>.container { width:80% !important; }</style>"
      ],
      "text/plain": [
       "<IPython.core.display.HTML object>"
      ]
     },
     "metadata": {},
     "output_type": "display_data"
    }
   ],
   "source": [
    "from IPython.core.display import display, HTML\n",
    "display(HTML(\"<style>.container { width:80% !important; }</style>\"))  # Agranda el ancho de la ventana."
   ]
  },
  {
   "cell_type": "code",
   "execution_count": 2,
   "metadata": {},
   "outputs": [],
   "source": [
    "import pandas as pd\n",
    "import numpy as np"
   ]
  },
  {
   "cell_type": "code",
   "execution_count": 3,
   "metadata": {},
   "outputs": [],
   "source": [
    "import warnings\n",
    "warnings.filterwarnings('ignore') \n",
    "from IPython.core.interactiveshell import InteractiveShell\n",
    "InteractiveShell.ast_node_interactivity = \"all\"  \n",
    "pd.set_option('display.max_colwidth', -1)  \n",
    "pd.set_option('display.max_rows', 1000)  \n",
    "pd.set_option('display.max_columns', 1000) "
   ]
  },
  {
   "cell_type": "code",
   "execution_count": 4,
   "metadata": {},
   "outputs": [],
   "source": [
    "import matplotlib.pyplot as plt\n",
    "import plotly.express as px"
   ]
  },
  {
   "cell_type": "code",
   "execution_count": 5,
   "metadata": {},
   "outputs": [],
   "source": [
    "df = pd.read_csv(\"presupuesto_sancionado_clean.csv\")"
   ]
  },
  {
   "cell_type": "code",
   "execution_count": 6,
   "metadata": {
    "scrolled": true
   },
   "outputs": [],
   "source": [
    "df = df.loc[df['SANCION'] != 0]\n",
    "df = df.loc[df['AÑO'] > 2009]"
   ]
  },
  {
   "cell_type": "code",
   "execution_count": 7,
   "metadata": {},
   "outputs": [
    {
     "data": {
      "text/plain": [
       "array([2010, 2011, 2012, 2013, 2014, 2015, 2016, 2017, 2018, 2019, 2020],\n",
       "      dtype=int64)"
      ]
     },
     "execution_count": 7,
     "metadata": {},
     "output_type": "execute_result"
    }
   ],
   "source": [
    "df.AÑO.unique()"
   ]
  },
  {
   "cell_type": "code",
   "execution_count": 8,
   "metadata": {},
   "outputs": [
    {
     "data": {
      "text/plain": [
       "(401068, 22)"
      ]
     },
     "execution_count": 8,
     "metadata": {},
     "output_type": "execute_result"
    }
   ],
   "source": [
    "df.shape"
   ]
  },
  {
   "cell_type": "code",
   "execution_count": 9,
   "metadata": {},
   "outputs": [],
   "source": [
    "cols = df.dtypes[(df.dtypes == 'object')].index\n",
    "for col in cols:\n",
    "    df[col] = df[col].astype(str)"
   ]
  },
  {
   "cell_type": "code",
   "execution_count": 10,
   "metadata": {},
   "outputs": [
    {
     "name": "stdout",
     "output_type": "stream",
     "text": [
      "CARACTER 0 0\n",
      "\n",
      "JURISDICCION 41441 1299\n",
      "\n",
      "SUBJURISDICCION 41192 1299\n",
      "\n",
      "ENTIDAD 29965 2548\n",
      "\n",
      "SERVICIO 29965 2548\n",
      "\n",
      "UNIDAD_EJECUTORA 7847 4246\n",
      "\n",
      "PROGRAMA 5922 3768\n",
      "\n",
      "SUBPROGRAMA 5922 3768\n",
      "\n",
      "PROYECTO 5978 3648\n",
      "\n",
      "ACTIVIDAD 1042 124\n",
      "\n",
      "OBRA 568 124\n",
      "\n",
      "FINALIDAD 0 0\n",
      "\n",
      "FUNCION 0 0\n",
      "\n",
      "INCISO 0 0\n",
      "\n",
      "PRINCIPAL 0 0\n",
      "\n",
      "PARCIAL 0 1266\n",
      "\n",
      "SUBPARCIAL 0 1266\n",
      "\n",
      "CLAS_ECONOMICO 0 0\n",
      "\n",
      "FUENTE_FIN 0 0\n",
      "\n",
      "UBICACION_GEOGRAFICA 0 0\n",
      "\n"
     ]
    }
   ],
   "source": [
    "for col in cols:\n",
    "#     print(col, df.loc[df[col].str.contains('HIGIENE'), col].unique())\n",
    "    print(col, df[col].str.contains('ESPACIO PUBLICO').sum(), df[col].str.contains('HIGIENE').sum())\n",
    "\n",
    "    print()"
   ]
  },
  {
   "cell_type": "code",
   "execution_count": 11,
   "metadata": {},
   "outputs": [],
   "source": [
    "aux_dict = dict([(i, 'MINISTERIO DE AMBIENTE Y ESPACIO PUBLICO') for i in np.arange(2013, 2020, 1)])\n",
    "aux_dict.update({2020: 'MINISTERIO DE ESPACIO PUBLICO E HIGIENE URBANA'})"
   ]
  },
  {
   "cell_type": "code",
   "execution_count": 12,
   "metadata": {},
   "outputs": [
    {
     "data": {
      "text/plain": [
       "{2013: 'MINISTERIO DE AMBIENTE Y ESPACIO PUBLICO',\n",
       " 2014: 'MINISTERIO DE AMBIENTE Y ESPACIO PUBLICO',\n",
       " 2015: 'MINISTERIO DE AMBIENTE Y ESPACIO PUBLICO',\n",
       " 2016: 'MINISTERIO DE AMBIENTE Y ESPACIO PUBLICO',\n",
       " 2017: 'MINISTERIO DE AMBIENTE Y ESPACIO PUBLICO',\n",
       " 2018: 'MINISTERIO DE AMBIENTE Y ESPACIO PUBLICO',\n",
       " 2019: 'MINISTERIO DE AMBIENTE Y ESPACIO PUBLICO',\n",
       " 2020: 'MINISTERIO DE ESPACIO PUBLICO E HIGIENE URBANA'}"
      ]
     },
     "execution_count": 12,
     "metadata": {},
     "output_type": "execute_result"
    }
   ],
   "source": [
    "aux_dict"
   ]
  },
  {
   "cell_type": "code",
   "execution_count": 13,
   "metadata": {},
   "outputs": [],
   "source": [
    "gf = pd.concat([df.groupby('JURISDICCION').get_group(\"MINISTERIO DE AMBIENTE Y ESPACIO PUBLICO\"),\n",
    "           df.groupby('JURISDICCION').get_group(\"MINISTERIO DE ESPACIO PUBLICO E HIGIENE URBANA\")])"
   ]
  },
  {
   "cell_type": "code",
   "execution_count": 49,
   "metadata": {},
   "outputs": [],
   "source": [
    "gf['SANCION'] = gf['SANCION'].astype(float)"
   ]
  },
  {
   "cell_type": "code",
   "execution_count": 14,
   "metadata": {
    "scrolled": true
   },
   "outputs": [
    {
     "data": {
      "text/html": [
       "<div>\n",
       "<style scoped>\n",
       "    .dataframe tbody tr th:only-of-type {\n",
       "        vertical-align: middle;\n",
       "    }\n",
       "\n",
       "    .dataframe tbody tr th {\n",
       "        vertical-align: top;\n",
       "    }\n",
       "\n",
       "    .dataframe thead th {\n",
       "        text-align: right;\n",
       "    }\n",
       "</style>\n",
       "<table border=\"1\" class=\"dataframe\">\n",
       "  <thead>\n",
       "    <tr style=\"text-align: right;\">\n",
       "      <th></th>\n",
       "      <th>CARACTER</th>\n",
       "      <th>JURISDICCION</th>\n",
       "      <th>SUBJURISDICCION</th>\n",
       "      <th>ENTIDAD</th>\n",
       "      <th>SERVICIO</th>\n",
       "      <th>UNIDAD_EJECUTORA</th>\n",
       "      <th>PROGRAMA</th>\n",
       "      <th>SUBPROGRAMA</th>\n",
       "      <th>PROYECTO</th>\n",
       "      <th>ACTIVIDAD</th>\n",
       "      <th>OBRA</th>\n",
       "      <th>FINALIDAD</th>\n",
       "      <th>FUNCION</th>\n",
       "      <th>INCISO</th>\n",
       "      <th>PRINCIPAL</th>\n",
       "      <th>PARCIAL</th>\n",
       "      <th>SUBPARCIAL</th>\n",
       "      <th>CLAS_ECONOMICO</th>\n",
       "      <th>FUENTE_FIN</th>\n",
       "      <th>UBICACION_GEOGRAFICA</th>\n",
       "      <th>SANCION</th>\n",
       "      <th>AÑO</th>\n",
       "    </tr>\n",
       "  </thead>\n",
       "  <tbody>\n",
       "    <tr>\n",
       "      <th>153664</th>\n",
       "      <td>ADMINISTRACION CENTRAL</td>\n",
       "      <td>MINISTERIO DE AMBIENTE Y ESPACIO PUBLICO</td>\n",
       "      <td>MINISTERIO DE AMBIENTE Y ESPACIO PUBLICO</td>\n",
       "      <td>MINISTERIO DE AMBIENTE Y ESPACIO PUBLICO</td>\n",
       "      <td>MINISTERIO DE AMBIENTE Y ESPACIO PUBLICO</td>\n",
       "      <td>DIRECCION GENERAL DE FERIAS Y MERCADOS</td>\n",
       "      <td>FERIAS Y MERCADOS</td>\n",
       "      <td>FERIAS Y MERCADOS</td>\n",
       "      <td>FERIAS Y MERCADOS</td>\n",
       "      <td>CONDUCCION</td>\n",
       "      <td>CONDUCCION</td>\n",
       "      <td>SERVICIOS ECONOMICOS</td>\n",
       "      <td>INDUSTRIA Y COMERCIO</td>\n",
       "      <td>GASTOS EN PERSONAL</td>\n",
       "      <td>PERSONAL PERMANENTE</td>\n",
       "      <td>RETRIBUCION DEL CARGO</td>\n",
       "      <td>RETRIBUCION DEL CARGO</td>\n",
       "      <td>REMUNERACIONES AL PERSONAL</td>\n",
       "      <td>TESORO DE LA CIUDAD</td>\n",
       "      <td>COMUNA 1</td>\n",
       "      <td>252990.0</td>\n",
       "      <td>2010</td>\n",
       "    </tr>\n",
       "    <tr>\n",
       "      <th>153666</th>\n",
       "      <td>ADMINISTRACION CENTRAL</td>\n",
       "      <td>MINISTERIO DE AMBIENTE Y ESPACIO PUBLICO</td>\n",
       "      <td>MINISTERIO DE AMBIENTE Y ESPACIO PUBLICO</td>\n",
       "      <td>MINISTERIO DE AMBIENTE Y ESPACIO PUBLICO</td>\n",
       "      <td>MINISTERIO DE AMBIENTE Y ESPACIO PUBLICO</td>\n",
       "      <td>DIRECCION GENERAL DE FERIAS Y MERCADOS</td>\n",
       "      <td>FERIAS Y MERCADOS</td>\n",
       "      <td>FERIAS Y MERCADOS</td>\n",
       "      <td>FERIAS Y MERCADOS</td>\n",
       "      <td>CONDUCCION</td>\n",
       "      <td>CONDUCCION</td>\n",
       "      <td>SERVICIOS ECONOMICOS</td>\n",
       "      <td>INDUSTRIA Y COMERCIO</td>\n",
       "      <td>GASTOS EN PERSONAL</td>\n",
       "      <td>PERSONAL PERMANENTE</td>\n",
       "      <td>SUELDO ANUAL COMPLEMENTARIO</td>\n",
       "      <td>SUELDO ANUAL COMPLEMENTARIO</td>\n",
       "      <td>REMUNERACIONES AL PERSONAL</td>\n",
       "      <td>TESORO DE LA CIUDAD</td>\n",
       "      <td>COMUNA 1</td>\n",
       "      <td>9000.0</td>\n",
       "      <td>2010</td>\n",
       "    </tr>\n",
       "    <tr>\n",
       "      <th>153668</th>\n",
       "      <td>ADMINISTRACION CENTRAL</td>\n",
       "      <td>MINISTERIO DE AMBIENTE Y ESPACIO PUBLICO</td>\n",
       "      <td>MINISTERIO DE AMBIENTE Y ESPACIO PUBLICO</td>\n",
       "      <td>MINISTERIO DE AMBIENTE Y ESPACIO PUBLICO</td>\n",
       "      <td>MINISTERIO DE AMBIENTE Y ESPACIO PUBLICO</td>\n",
       "      <td>DIRECCION GENERAL DE FERIAS Y MERCADOS</td>\n",
       "      <td>FERIAS Y MERCADOS</td>\n",
       "      <td>FERIAS Y MERCADOS</td>\n",
       "      <td>FERIAS Y MERCADOS</td>\n",
       "      <td>CONDUCCION</td>\n",
       "      <td>CONDUCCION</td>\n",
       "      <td>SERVICIOS ECONOMICOS</td>\n",
       "      <td>INDUSTRIA Y COMERCIO</td>\n",
       "      <td>GASTOS EN PERSONAL</td>\n",
       "      <td>PERSONAL PERMANENTE</td>\n",
       "      <td>CONTRIBUCIONES PATRONALES</td>\n",
       "      <td>CONTRIBUCIONES PATRONALES</td>\n",
       "      <td>REMUNERACIONES AL PERSONAL</td>\n",
       "      <td>TESORO DE LA CIUDAD</td>\n",
       "      <td>COMUNA 1</td>\n",
       "      <td>18920.0</td>\n",
       "      <td>2010</td>\n",
       "    </tr>\n",
       "    <tr>\n",
       "      <th>153675</th>\n",
       "      <td>ADMINISTRACION CENTRAL</td>\n",
       "      <td>MINISTERIO DE AMBIENTE Y ESPACIO PUBLICO</td>\n",
       "      <td>MINISTERIO DE AMBIENTE Y ESPACIO PUBLICO</td>\n",
       "      <td>MINISTERIO DE AMBIENTE Y ESPACIO PUBLICO</td>\n",
       "      <td>MINISTERIO DE AMBIENTE Y ESPACIO PUBLICO</td>\n",
       "      <td>DIRECCION GENERAL DE FERIAS Y MERCADOS</td>\n",
       "      <td>FERIAS Y MERCADOS</td>\n",
       "      <td>FERIAS Y MERCADOS</td>\n",
       "      <td>FERIAS Y MERCADOS</td>\n",
       "      <td>CONDUCCION</td>\n",
       "      <td>CONDUCCION</td>\n",
       "      <td>SERVICIOS ECONOMICOS</td>\n",
       "      <td>INDUSTRIA Y COMERCIO</td>\n",
       "      <td>GASTOS EN PERSONAL</td>\n",
       "      <td>ASISTENCIA SOCIAL AL PERSONAL</td>\n",
       "      <td>SEGUROS DE RIESGO DE TRABAJO</td>\n",
       "      <td>SEGUROS DE RIESGO DE TRABAJO</td>\n",
       "      <td>REMUNERACIONES AL PERSONAL</td>\n",
       "      <td>TESORO DE LA CIUDAD</td>\n",
       "      <td>COMUNA 1</td>\n",
       "      <td>2850.0</td>\n",
       "      <td>2010</td>\n",
       "    </tr>\n",
       "    <tr>\n",
       "      <th>153679</th>\n",
       "      <td>ADMINISTRACION CENTRAL</td>\n",
       "      <td>MINISTERIO DE AMBIENTE Y ESPACIO PUBLICO</td>\n",
       "      <td>MINISTERIO DE AMBIENTE Y ESPACIO PUBLICO</td>\n",
       "      <td>MINISTERIO DE AMBIENTE Y ESPACIO PUBLICO</td>\n",
       "      <td>MINISTERIO DE AMBIENTE Y ESPACIO PUBLICO</td>\n",
       "      <td>DIRECCION GENERAL DE FERIAS Y MERCADOS</td>\n",
       "      <td>FERIAS Y MERCADOS</td>\n",
       "      <td>FERIAS Y MERCADOS</td>\n",
       "      <td>FERIAS Y MERCADOS</td>\n",
       "      <td>CONDUCCION</td>\n",
       "      <td>CONDUCCION</td>\n",
       "      <td>SERVICIOS ECONOMICOS</td>\n",
       "      <td>INDUSTRIA Y COMERCIO</td>\n",
       "      <td>GASTOS EN PERSONAL</td>\n",
       "      <td>GABINETE DE AUTORIDADES SUPERIORES</td>\n",
       "      <td>RETRIBUCION DEL CARGO</td>\n",
       "      <td>RETRIBUCION DEL CARGO</td>\n",
       "      <td>REMUNERACIONES AL PERSONAL</td>\n",
       "      <td>TESORO DE LA CIUDAD</td>\n",
       "      <td>COMUNA 1</td>\n",
       "      <td>156220.0</td>\n",
       "      <td>2010</td>\n",
       "    </tr>\n",
       "    <tr>\n",
       "      <th>153691</th>\n",
       "      <td>ADMINISTRACION CENTRAL</td>\n",
       "      <td>MINISTERIO DE AMBIENTE Y ESPACIO PUBLICO</td>\n",
       "      <td>MINISTERIO DE AMBIENTE Y ESPACIO PUBLICO</td>\n",
       "      <td>MINISTERIO DE AMBIENTE Y ESPACIO PUBLICO</td>\n",
       "      <td>MINISTERIO DE AMBIENTE Y ESPACIO PUBLICO</td>\n",
       "      <td>DIRECCION GENERAL DE FERIAS Y MERCADOS</td>\n",
       "      <td>FERIAS Y MERCADOS</td>\n",
       "      <td>FERIAS Y MERCADOS</td>\n",
       "      <td>FERIAS Y MERCADOS</td>\n",
       "      <td>CONDUCCION</td>\n",
       "      <td>CONDUCCION</td>\n",
       "      <td>SERVICIOS ECONOMICOS</td>\n",
       "      <td>INDUSTRIA Y COMERCIO</td>\n",
       "      <td>BIENES DE CONSUMO</td>\n",
       "      <td>PRODUCTOS ALIMENTICIOS, AGROPECUARIOS Y FORESTALES</td>\n",
       "      <td>ALIMENTOS PARA PERSONAS</td>\n",
       "      <td>ALIMENTOS PARA PERSONAS</td>\n",
       "      <td>BIENES DE CONSUMO</td>\n",
       "      <td>TESORO DE LA CIUDAD</td>\n",
       "      <td>COMUNA 1</td>\n",
       "      <td>5405.0</td>\n",
       "      <td>2010</td>\n",
       "    </tr>\n",
       "    <tr>\n",
       "      <th>153692</th>\n",
       "      <td>ADMINISTRACION CENTRAL</td>\n",
       "      <td>MINISTERIO DE AMBIENTE Y ESPACIO PUBLICO</td>\n",
       "      <td>MINISTERIO DE AMBIENTE Y ESPACIO PUBLICO</td>\n",
       "      <td>MINISTERIO DE AMBIENTE Y ESPACIO PUBLICO</td>\n",
       "      <td>MINISTERIO DE AMBIENTE Y ESPACIO PUBLICO</td>\n",
       "      <td>DIRECCION GENERAL DE FERIAS Y MERCADOS</td>\n",
       "      <td>FERIAS Y MERCADOS</td>\n",
       "      <td>FERIAS Y MERCADOS</td>\n",
       "      <td>FERIAS Y MERCADOS</td>\n",
       "      <td>CONDUCCION</td>\n",
       "      <td>CONDUCCION</td>\n",
       "      <td>SERVICIOS ECONOMICOS</td>\n",
       "      <td>INDUSTRIA Y COMERCIO</td>\n",
       "      <td>BIENES DE CONSUMO</td>\n",
       "      <td>TEXTILES Y VESTUARIO</td>\n",
       "      <td>HILADOS Y TELAS</td>\n",
       "      <td>HILADOS Y TELAS</td>\n",
       "      <td>BIENES DE CONSUMO</td>\n",
       "      <td>TESORO DE LA CIUDAD</td>\n",
       "      <td>COMUNA 1</td>\n",
       "      <td>200.0</td>\n",
       "      <td>2010</td>\n",
       "    </tr>\n",
       "    <tr>\n",
       "      <th>153693</th>\n",
       "      <td>ADMINISTRACION CENTRAL</td>\n",
       "      <td>MINISTERIO DE AMBIENTE Y ESPACIO PUBLICO</td>\n",
       "      <td>MINISTERIO DE AMBIENTE Y ESPACIO PUBLICO</td>\n",
       "      <td>MINISTERIO DE AMBIENTE Y ESPACIO PUBLICO</td>\n",
       "      <td>MINISTERIO DE AMBIENTE Y ESPACIO PUBLICO</td>\n",
       "      <td>DIRECCION GENERAL DE FERIAS Y MERCADOS</td>\n",
       "      <td>FERIAS Y MERCADOS</td>\n",
       "      <td>FERIAS Y MERCADOS</td>\n",
       "      <td>FERIAS Y MERCADOS</td>\n",
       "      <td>CONDUCCION</td>\n",
       "      <td>CONDUCCION</td>\n",
       "      <td>SERVICIOS ECONOMICOS</td>\n",
       "      <td>INDUSTRIA Y COMERCIO</td>\n",
       "      <td>BIENES DE CONSUMO</td>\n",
       "      <td>TEXTILES Y VESTUARIO</td>\n",
       "      <td>PRENDAS DE VESTIR</td>\n",
       "      <td>PRENDAS DE VESTIR</td>\n",
       "      <td>BIENES DE CONSUMO</td>\n",
       "      <td>TESORO DE LA CIUDAD</td>\n",
       "      <td>COMUNA 1</td>\n",
       "      <td>12126.0</td>\n",
       "      <td>2010</td>\n",
       "    </tr>\n",
       "    <tr>\n",
       "      <th>153694</th>\n",
       "      <td>ADMINISTRACION CENTRAL</td>\n",
       "      <td>MINISTERIO DE AMBIENTE Y ESPACIO PUBLICO</td>\n",
       "      <td>MINISTERIO DE AMBIENTE Y ESPACIO PUBLICO</td>\n",
       "      <td>MINISTERIO DE AMBIENTE Y ESPACIO PUBLICO</td>\n",
       "      <td>MINISTERIO DE AMBIENTE Y ESPACIO PUBLICO</td>\n",
       "      <td>DIRECCION GENERAL DE FERIAS Y MERCADOS</td>\n",
       "      <td>FERIAS Y MERCADOS</td>\n",
       "      <td>FERIAS Y MERCADOS</td>\n",
       "      <td>FERIAS Y MERCADOS</td>\n",
       "      <td>CONDUCCION</td>\n",
       "      <td>CONDUCCION</td>\n",
       "      <td>SERVICIOS ECONOMICOS</td>\n",
       "      <td>INDUSTRIA Y COMERCIO</td>\n",
       "      <td>BIENES DE CONSUMO</td>\n",
       "      <td>PULPA, PAPEL, CARTON Y SUS PRODUCTOS</td>\n",
       "      <td>PAPEL Y CARTON PARA OFICINA</td>\n",
       "      <td>PAPEL Y CARTON PARA OFICINA</td>\n",
       "      <td>BIENES DE CONSUMO</td>\n",
       "      <td>TESORO DE LA CIUDAD</td>\n",
       "      <td>COMUNA 1</td>\n",
       "      <td>5070.0</td>\n",
       "      <td>2010</td>\n",
       "    </tr>\n",
       "    <tr>\n",
       "      <th>153695</th>\n",
       "      <td>ADMINISTRACION CENTRAL</td>\n",
       "      <td>MINISTERIO DE AMBIENTE Y ESPACIO PUBLICO</td>\n",
       "      <td>MINISTERIO DE AMBIENTE Y ESPACIO PUBLICO</td>\n",
       "      <td>MINISTERIO DE AMBIENTE Y ESPACIO PUBLICO</td>\n",
       "      <td>MINISTERIO DE AMBIENTE Y ESPACIO PUBLICO</td>\n",
       "      <td>DIRECCION GENERAL DE FERIAS Y MERCADOS</td>\n",
       "      <td>FERIAS Y MERCADOS</td>\n",
       "      <td>FERIAS Y MERCADOS</td>\n",
       "      <td>FERIAS Y MERCADOS</td>\n",
       "      <td>CONDUCCION</td>\n",
       "      <td>CONDUCCION</td>\n",
       "      <td>SERVICIOS ECONOMICOS</td>\n",
       "      <td>INDUSTRIA Y COMERCIO</td>\n",
       "      <td>BIENES DE CONSUMO</td>\n",
       "      <td>PULPA, PAPEL, CARTON Y SUS PRODUCTOS</td>\n",
       "      <td>PAPEL Y CARTON PARA COMPUTACION</td>\n",
       "      <td>PAPEL Y CARTON PARA COMPUTACION</td>\n",
       "      <td>BIENES DE CONSUMO</td>\n",
       "      <td>TESORO DE LA CIUDAD</td>\n",
       "      <td>COMUNA 1</td>\n",
       "      <td>300.0</td>\n",
       "      <td>2010</td>\n",
       "    </tr>\n",
       "  </tbody>\n",
       "</table>\n",
       "</div>"
      ],
      "text/plain": [
       "                      CARACTER                              JURISDICCION  \\\n",
       "153664  ADMINISTRACION CENTRAL  MINISTERIO DE AMBIENTE Y ESPACIO PUBLICO   \n",
       "153666  ADMINISTRACION CENTRAL  MINISTERIO DE AMBIENTE Y ESPACIO PUBLICO   \n",
       "153668  ADMINISTRACION CENTRAL  MINISTERIO DE AMBIENTE Y ESPACIO PUBLICO   \n",
       "153675  ADMINISTRACION CENTRAL  MINISTERIO DE AMBIENTE Y ESPACIO PUBLICO   \n",
       "153679  ADMINISTRACION CENTRAL  MINISTERIO DE AMBIENTE Y ESPACIO PUBLICO   \n",
       "153691  ADMINISTRACION CENTRAL  MINISTERIO DE AMBIENTE Y ESPACIO PUBLICO   \n",
       "153692  ADMINISTRACION CENTRAL  MINISTERIO DE AMBIENTE Y ESPACIO PUBLICO   \n",
       "153693  ADMINISTRACION CENTRAL  MINISTERIO DE AMBIENTE Y ESPACIO PUBLICO   \n",
       "153694  ADMINISTRACION CENTRAL  MINISTERIO DE AMBIENTE Y ESPACIO PUBLICO   \n",
       "153695  ADMINISTRACION CENTRAL  MINISTERIO DE AMBIENTE Y ESPACIO PUBLICO   \n",
       "\n",
       "                                 SUBJURISDICCION  \\\n",
       "153664  MINISTERIO DE AMBIENTE Y ESPACIO PUBLICO   \n",
       "153666  MINISTERIO DE AMBIENTE Y ESPACIO PUBLICO   \n",
       "153668  MINISTERIO DE AMBIENTE Y ESPACIO PUBLICO   \n",
       "153675  MINISTERIO DE AMBIENTE Y ESPACIO PUBLICO   \n",
       "153679  MINISTERIO DE AMBIENTE Y ESPACIO PUBLICO   \n",
       "153691  MINISTERIO DE AMBIENTE Y ESPACIO PUBLICO   \n",
       "153692  MINISTERIO DE AMBIENTE Y ESPACIO PUBLICO   \n",
       "153693  MINISTERIO DE AMBIENTE Y ESPACIO PUBLICO   \n",
       "153694  MINISTERIO DE AMBIENTE Y ESPACIO PUBLICO   \n",
       "153695  MINISTERIO DE AMBIENTE Y ESPACIO PUBLICO   \n",
       "\n",
       "                                         ENTIDAD  \\\n",
       "153664  MINISTERIO DE AMBIENTE Y ESPACIO PUBLICO   \n",
       "153666  MINISTERIO DE AMBIENTE Y ESPACIO PUBLICO   \n",
       "153668  MINISTERIO DE AMBIENTE Y ESPACIO PUBLICO   \n",
       "153675  MINISTERIO DE AMBIENTE Y ESPACIO PUBLICO   \n",
       "153679  MINISTERIO DE AMBIENTE Y ESPACIO PUBLICO   \n",
       "153691  MINISTERIO DE AMBIENTE Y ESPACIO PUBLICO   \n",
       "153692  MINISTERIO DE AMBIENTE Y ESPACIO PUBLICO   \n",
       "153693  MINISTERIO DE AMBIENTE Y ESPACIO PUBLICO   \n",
       "153694  MINISTERIO DE AMBIENTE Y ESPACIO PUBLICO   \n",
       "153695  MINISTERIO DE AMBIENTE Y ESPACIO PUBLICO   \n",
       "\n",
       "                                        SERVICIO  \\\n",
       "153664  MINISTERIO DE AMBIENTE Y ESPACIO PUBLICO   \n",
       "153666  MINISTERIO DE AMBIENTE Y ESPACIO PUBLICO   \n",
       "153668  MINISTERIO DE AMBIENTE Y ESPACIO PUBLICO   \n",
       "153675  MINISTERIO DE AMBIENTE Y ESPACIO PUBLICO   \n",
       "153679  MINISTERIO DE AMBIENTE Y ESPACIO PUBLICO   \n",
       "153691  MINISTERIO DE AMBIENTE Y ESPACIO PUBLICO   \n",
       "153692  MINISTERIO DE AMBIENTE Y ESPACIO PUBLICO   \n",
       "153693  MINISTERIO DE AMBIENTE Y ESPACIO PUBLICO   \n",
       "153694  MINISTERIO DE AMBIENTE Y ESPACIO PUBLICO   \n",
       "153695  MINISTERIO DE AMBIENTE Y ESPACIO PUBLICO   \n",
       "\n",
       "                              UNIDAD_EJECUTORA           PROGRAMA  \\\n",
       "153664  DIRECCION GENERAL DE FERIAS Y MERCADOS  FERIAS Y MERCADOS   \n",
       "153666  DIRECCION GENERAL DE FERIAS Y MERCADOS  FERIAS Y MERCADOS   \n",
       "153668  DIRECCION GENERAL DE FERIAS Y MERCADOS  FERIAS Y MERCADOS   \n",
       "153675  DIRECCION GENERAL DE FERIAS Y MERCADOS  FERIAS Y MERCADOS   \n",
       "153679  DIRECCION GENERAL DE FERIAS Y MERCADOS  FERIAS Y MERCADOS   \n",
       "153691  DIRECCION GENERAL DE FERIAS Y MERCADOS  FERIAS Y MERCADOS   \n",
       "153692  DIRECCION GENERAL DE FERIAS Y MERCADOS  FERIAS Y MERCADOS   \n",
       "153693  DIRECCION GENERAL DE FERIAS Y MERCADOS  FERIAS Y MERCADOS   \n",
       "153694  DIRECCION GENERAL DE FERIAS Y MERCADOS  FERIAS Y MERCADOS   \n",
       "153695  DIRECCION GENERAL DE FERIAS Y MERCADOS  FERIAS Y MERCADOS   \n",
       "\n",
       "              SUBPROGRAMA           PROYECTO   ACTIVIDAD        OBRA  \\\n",
       "153664  FERIAS Y MERCADOS  FERIAS Y MERCADOS  CONDUCCION  CONDUCCION   \n",
       "153666  FERIAS Y MERCADOS  FERIAS Y MERCADOS  CONDUCCION  CONDUCCION   \n",
       "153668  FERIAS Y MERCADOS  FERIAS Y MERCADOS  CONDUCCION  CONDUCCION   \n",
       "153675  FERIAS Y MERCADOS  FERIAS Y MERCADOS  CONDUCCION  CONDUCCION   \n",
       "153679  FERIAS Y MERCADOS  FERIAS Y MERCADOS  CONDUCCION  CONDUCCION   \n",
       "153691  FERIAS Y MERCADOS  FERIAS Y MERCADOS  CONDUCCION  CONDUCCION   \n",
       "153692  FERIAS Y MERCADOS  FERIAS Y MERCADOS  CONDUCCION  CONDUCCION   \n",
       "153693  FERIAS Y MERCADOS  FERIAS Y MERCADOS  CONDUCCION  CONDUCCION   \n",
       "153694  FERIAS Y MERCADOS  FERIAS Y MERCADOS  CONDUCCION  CONDUCCION   \n",
       "153695  FERIAS Y MERCADOS  FERIAS Y MERCADOS  CONDUCCION  CONDUCCION   \n",
       "\n",
       "                   FINALIDAD               FUNCION              INCISO  \\\n",
       "153664  SERVICIOS ECONOMICOS  INDUSTRIA Y COMERCIO  GASTOS EN PERSONAL   \n",
       "153666  SERVICIOS ECONOMICOS  INDUSTRIA Y COMERCIO  GASTOS EN PERSONAL   \n",
       "153668  SERVICIOS ECONOMICOS  INDUSTRIA Y COMERCIO  GASTOS EN PERSONAL   \n",
       "153675  SERVICIOS ECONOMICOS  INDUSTRIA Y COMERCIO  GASTOS EN PERSONAL   \n",
       "153679  SERVICIOS ECONOMICOS  INDUSTRIA Y COMERCIO  GASTOS EN PERSONAL   \n",
       "153691  SERVICIOS ECONOMICOS  INDUSTRIA Y COMERCIO  BIENES DE CONSUMO    \n",
       "153692  SERVICIOS ECONOMICOS  INDUSTRIA Y COMERCIO  BIENES DE CONSUMO    \n",
       "153693  SERVICIOS ECONOMICOS  INDUSTRIA Y COMERCIO  BIENES DE CONSUMO    \n",
       "153694  SERVICIOS ECONOMICOS  INDUSTRIA Y COMERCIO  BIENES DE CONSUMO    \n",
       "153695  SERVICIOS ECONOMICOS  INDUSTRIA Y COMERCIO  BIENES DE CONSUMO    \n",
       "\n",
       "                                                 PRINCIPAL  \\\n",
       "153664  PERSONAL PERMANENTE                                  \n",
       "153666  PERSONAL PERMANENTE                                  \n",
       "153668  PERSONAL PERMANENTE                                  \n",
       "153675  ASISTENCIA SOCIAL AL PERSONAL                        \n",
       "153679  GABINETE DE AUTORIDADES SUPERIORES                   \n",
       "153691  PRODUCTOS ALIMENTICIOS, AGROPECUARIOS Y FORESTALES   \n",
       "153692  TEXTILES Y VESTUARIO                                 \n",
       "153693  TEXTILES Y VESTUARIO                                 \n",
       "153694  PULPA, PAPEL, CARTON Y SUS PRODUCTOS                 \n",
       "153695  PULPA, PAPEL, CARTON Y SUS PRODUCTOS                 \n",
       "\n",
       "                                PARCIAL                       SUBPARCIAL  \\\n",
       "153664  RETRIBUCION DEL CARGO            RETRIBUCION DEL CARGO             \n",
       "153666  SUELDO ANUAL COMPLEMENTARIO      SUELDO ANUAL COMPLEMENTARIO       \n",
       "153668  CONTRIBUCIONES PATRONALES        CONTRIBUCIONES PATRONALES         \n",
       "153675  SEGUROS DE RIESGO DE TRABAJO     SEGUROS DE RIESGO DE TRABAJO      \n",
       "153679  RETRIBUCION DEL CARGO            RETRIBUCION DEL CARGO             \n",
       "153691  ALIMENTOS PARA PERSONAS          ALIMENTOS PARA PERSONAS           \n",
       "153692  HILADOS Y TELAS                  HILADOS Y TELAS                   \n",
       "153693  PRENDAS DE VESTIR                PRENDAS DE VESTIR                 \n",
       "153694  PAPEL Y CARTON PARA OFICINA      PAPEL Y CARTON PARA OFICINA       \n",
       "153695  PAPEL Y CARTON PARA COMPUTACION  PAPEL Y CARTON PARA COMPUTACION   \n",
       "\n",
       "                    CLAS_ECONOMICO           FUENTE_FIN UBICACION_GEOGRAFICA  \\\n",
       "153664  REMUNERACIONES AL PERSONAL  TESORO DE LA CIUDAD  COMUNA 1              \n",
       "153666  REMUNERACIONES AL PERSONAL  TESORO DE LA CIUDAD  COMUNA 1              \n",
       "153668  REMUNERACIONES AL PERSONAL  TESORO DE LA CIUDAD  COMUNA 1              \n",
       "153675  REMUNERACIONES AL PERSONAL  TESORO DE LA CIUDAD  COMUNA 1              \n",
       "153679  REMUNERACIONES AL PERSONAL  TESORO DE LA CIUDAD  COMUNA 1              \n",
       "153691  BIENES DE CONSUMO           TESORO DE LA CIUDAD  COMUNA 1              \n",
       "153692  BIENES DE CONSUMO           TESORO DE LA CIUDAD  COMUNA 1              \n",
       "153693  BIENES DE CONSUMO           TESORO DE LA CIUDAD  COMUNA 1              \n",
       "153694  BIENES DE CONSUMO           TESORO DE LA CIUDAD  COMUNA 1              \n",
       "153695  BIENES DE CONSUMO           TESORO DE LA CIUDAD  COMUNA 1              \n",
       "\n",
       "         SANCION   AÑO  \n",
       "153664  252990.0  2010  \n",
       "153666  9000.0    2010  \n",
       "153668  18920.0   2010  \n",
       "153675  2850.0    2010  \n",
       "153679  156220.0  2010  \n",
       "153691  5405.0    2010  \n",
       "153692  200.0     2010  \n",
       "153693  12126.0   2010  \n",
       "153694  5070.0    2010  \n",
       "153695  300.0     2010  "
      ]
     },
     "execution_count": 14,
     "metadata": {},
     "output_type": "execute_result"
    }
   ],
   "source": [
    "gf.head(10)"
   ]
  },
  {
   "cell_type": "code",
   "execution_count": 15,
   "metadata": {},
   "outputs": [
    {
     "data": {
      "text/plain": [
       "SERVICIOS URBANOS                18459\n",
       "ECOLOGIA                         16457\n",
       "AGUA POTABLE Y ALCANTARILLADO    1602 \n",
       "SEGURIDAD INTERIOR               1494 \n",
       "TRABAJO                          1384 \n",
       "INDUSTRIA Y COMERCIO             1255 \n",
       "DIRECCION EJECUTIVA              365  \n",
       "CONTROL DE LA GESTION            205  \n",
       "PROMOCION Y ACCION SOCIAL        131  \n",
       "EDUCACION                        51   \n",
       "SALUD                            38   \n",
       "Name: FUNCION, dtype: int64"
      ]
     },
     "execution_count": 15,
     "metadata": {},
     "output_type": "execute_result"
    }
   ],
   "source": [
    "gf['FUNCION'].value_counts()"
   ]
  },
  {
   "cell_type": "code",
   "execution_count": 16,
   "metadata": {},
   "outputs": [
    {
     "data": {
      "text/plain": [
       "Index(['CARACTER', 'JURISDICCION', 'SUBJURISDICCION', 'ENTIDAD', 'SERVICIO',\n",
       "       'UNIDAD_EJECUTORA', 'PROGRAMA', 'SUBPROGRAMA', 'PROYECTO', 'ACTIVIDAD',\n",
       "       'OBRA', 'FINALIDAD', 'FUNCION', 'INCISO', 'PRINCIPAL', 'PARCIAL',\n",
       "       'SUBPARCIAL', 'CLAS_ECONOMICO', 'FUENTE_FIN', 'UBICACION_GEOGRAFICA',\n",
       "       'SANCION', 'AÑO'],\n",
       "      dtype='object')"
      ]
     },
     "execution_count": 16,
     "metadata": {},
     "output_type": "execute_result"
    }
   ],
   "source": [
    "gf.columns"
   ]
  },
  {
   "cell_type": "code",
   "execution_count": 23,
   "metadata": {},
   "outputs": [],
   "source": [
    "ecologia = gf[gf['FUNCION'] == 'ECOLOGIA']"
   ]
  },
  {
   "cell_type": "code",
   "execution_count": 24,
   "metadata": {},
   "outputs": [
    {
     "data": {
      "text/plain": [
       "Index(['CARACTER', 'JURISDICCION', 'SUBJURISDICCION', 'ENTIDAD', 'SERVICIO',\n",
       "       'UNIDAD_EJECUTORA', 'PROGRAMA', 'SUBPROGRAMA', 'PROYECTO', 'ACTIVIDAD',\n",
       "       'OBRA', 'FINALIDAD', 'FUNCION', 'INCISO', 'PRINCIPAL', 'PARCIAL',\n",
       "       'SUBPARCIAL', 'CLAS_ECONOMICO', 'FUENTE_FIN', 'UBICACION_GEOGRAFICA',\n",
       "       'SANCION', 'AÑO'],\n",
       "      dtype='object')"
      ]
     },
     "execution_count": 24,
     "metadata": {},
     "output_type": "execute_result"
    }
   ],
   "source": [
    "ecologia.columns"
   ]
  },
  {
   "cell_type": "code",
   "execution_count": 25,
   "metadata": {},
   "outputs": [
    {
     "data": {
      "text/plain": [
       "Index(['CARACTER', 'JURISDICCION', 'ENTIDAD', 'UNIDAD_EJECUTORA', 'PROGRAMA',\n",
       "       'PROYECTO', 'ACTIVIDAD', 'OBRA', 'FINALIDAD', 'FUNCION', 'INCISO',\n",
       "       'PRINCIPAL', 'PARCIAL', 'SUBPARCIAL', 'CLAS_ECONOMICO', 'FUENTE_FIN',\n",
       "       'UBICACION_GEOGRAFICA', 'SANCION', 'AÑO'],\n",
       "      dtype='object')"
      ]
     },
     "execution_count": 25,
     "metadata": {},
     "output_type": "execute_result"
    }
   ],
   "source": [
    "ecologia = ecologia.T.drop_duplicates().T  # Elimino columnas que contienen la misma información.\n",
    "\n",
    "ecologia.columns  "
   ]
  },
  {
   "cell_type": "code",
   "execution_count": 41,
   "metadata": {},
   "outputs": [],
   "source": [
    "import plotly.graph_objects as go"
   ]
  },
  {
   "cell_type": "code",
   "execution_count": 94,
   "metadata": {
    "scrolled": false
   },
   "outputs": [
    {
     "data": {
      "application/vnd.plotly.v1+json": {
       "config": {
        "plotlyServerURL": "https://plot.ly"
       },
       "data": [
        {
         "branchvalues": "total",
         "customdata": [
          [
           "MINISTERIO DE AMBIENTE Y ESPACIO PUBLICO",
           "MINISTERIO DE AMBIENTE Y ESPACIO PUBLICO",
           "DIRECCION GENERAL DE RECICLADO",
           "RECICLADO DE RESIDUOS URBANOS",
           "A.CU.MAR - CENTROS VERDES"
          ],
          [
           "MINISTERIO DE AMBIENTE Y ESPACIO PUBLICO",
           "MINISTERIO DE AMBIENTE Y ESPACIO PUBLICO",
           "DIRECCION GENERAL DE LIMPIEZA",
           "SERVICIOS DE HIGIENE URBANA",
           "A.CU.MAR - RIACHUELO"
          ],
          [
           "MINISTERIO DE AMBIENTE Y ESPACIO PUBLICO",
           "MINISTERIO DE AMBIENTE Y ESPACIO PUBLICO",
           "DIRECCION GENERAL DE ESPACIOS VERDES",
           "CUIDADO Y PUESTA EN VALOR DE ESPACIOS VERDES",
           "A.CU.MAR - VALORIZACION DE LOS ESPACIOS VERDES"
          ],
          [
           "MINISTERIO DE AMBIENTE Y ESPACIO PUBLICO",
           "AGENCIA AMBIENTAL",
           "AGENCIA AMBIENTAL",
           "ACTIV. COMUNES A LOS PROG. 91,92 ,93 Y 94",
           "ACCIONES AMBIENTALES CABA"
          ],
          [
           "MINISTERIO DE AMBIENTE Y ESPACIO PUBLICO",
           "AGENCIA AMBIENTAL",
           "DIRECCION GENERAL DE CONTROL",
           "ACCIONES PARA LA RESTAURACION ECOLOGICA",
           "ACCIONES PARA LA RESTAURACION ECOLOGICA"
          ],
          [
           "MINISTERIO DE ESPACIO PUBLICO E HIGIENE URBANA",
           "MINISTERIO DE ESPACIO PUBLICO E HIGIENE URBANA",
           "MIN.ESP.PUBLICO E HIG. URBANA",
           "ACT.CEN.ESP.PUB.HIG.URBANA",
           "ACT.CEN.ESP.PUB.HIG.URBANA"
          ],
          [
           "MINISTERIO DE AMBIENTE Y ESPACIO PUBLICO",
           "AGENCIA AMBIENTAL",
           "AGENCIA AMBIENTAL",
           "ACTIV. COMUNES A LOS PROG. 91,92 ,93 Y 94",
           "ACTIV. COMUNES A LOS PROG. 91,92 ,93 Y 94"
          ],
          [
           "MINISTERIO DE AMBIENTE Y ESPACIO PUBLICO",
           "AGENCIA AMBIENTAL",
           "AGENCIA AMBIENTAL",
           "ACTIV. COMUNES A LOS PROG. 91,92 Y93",
           "ACTIV. COMUNES A LOS PROG. 91,92 Y93"
          ],
          [
           "MINISTERIO DE AMBIENTE Y ESPACIO PUBLICO",
           "MINISTERIO DE AMBIENTE Y ESPACIO PUBLICO",
           "MINISTERIO AMBIENTE Y ESPACIO PUBLICO",
           "ACTIVIDADES CENTRALES AMBIENTE Y ESPACIO PUBLICO",
           "ACTIVIDADES CENTRALES AMBIENTE Y ESPACIO PUBLICO"
          ],
          [
           "MINISTERIO DE AMBIENTE Y ESPACIO PUBLICO",
           "AGENCIA AMBIENTAL",
           "AGENCIA AMBIENTAL",
           "ACTIVIDADES COMUMES A LOS PROGRAMAS 91,92,93,94,95,96",
           "ACTIVIDADES COMUMES A LOS PROGRAMAS 91,92,93,94,95,96"
          ],
          [
           "MINISTERIO DE AMBIENTE Y ESPACIO PUBLICO",
           "MINISTERIO DE AMBIENTE Y ESPACIO PUBLICO",
           "SUBSECRETARIA DE ADMINISTRACION",
           "ACTIVIDADES COMUNES A LOS PROG 21 Y 22",
           "ACTIVIDADES COMUNES A LOS PROG 21 Y 22"
          ],
          [
           "MINISTERIO DE AMBIENTE Y ESPACIO PUBLICO",
           "MINISTERIO DE AMBIENTE Y ESPACIO PUBLICO",
           "SUBSECRETARIA DE ADMINISTRACION GENERAL Y DE USO DEL ESPACIO PUBLICO",
           "ACTIVIDADES COMUNES A LOS PROG 21,22,23,75,76 Y 77",
           "ACTIVIDADES COMUNES A LOS PROG 21,22,23,75,76 Y 77"
          ],
          [
           "MINISTERIO DE ESPACIO PUBLICO E HIGIENE URBANA",
           "MINISTERIO DE ESPACIO PUBLICO E HIGIENE URBANA",
           "SUBSECRETARIA DE ADMINISTRACION",
           "ACTIVIDADES COMUNES A LOS PROG 22 Y 23",
           "ACTIVIDADES COMUNES A LOS PROG 22 Y 23"
          ],
          [
           "MINISTERIO DE AMBIENTE Y ESPACIO PUBLICO",
           "AGENCIA AMBIENTAL",
           "AGENCIA AMBIENTAL",
           "ACTIVIDADES COMUNES A LOS PROG. 91 AL 100 Y 102",
           "ACTIVIDADES COMUNES A LOS PROG. 91 AL 100 Y 102"
          ],
          [
           "MINISTERIO DE AMBIENTE Y ESPACIO PUBLICO",
           "AGENCIA AMBIENTAL",
           "AGENCIA AMBIENTAL",
           "ACTIVIDADES COMUNES A LOS PROG. 91 AL 103",
           "ACTIVIDADES COMUNES A LOS PROG. 91 AL 103"
          ],
          [
           "MINISTERIO DE AMBIENTE Y ESPACIO PUBLICO",
           "AGENCIA AMBIENTAL",
           "AGENCIA AMBIENTAL",
           "ACTIVIDADES COMUNES A LOS PROG. 91,92,93, 94,95 Y 96",
           "ACTIVIDADES COMUNES A LOS PROG. 91,92,93, 94,95 Y 96"
          ],
          [
           "MINISTERIO DE AMBIENTE Y ESPACIO PUBLICO",
           "AGENCIA AMBIENTAL",
           "AGENCIA AMBIENTAL",
           "ACTIVIDADES COMUNES A LOS PROG. 91,92,93, 94,95, 96 Y 100",
           "ACTIVIDADES COMUNES A LOS PROG. 91,92,93, 94,95, 96 Y 100"
          ],
          [
           "MINISTERIO DE AMBIENTE Y ESPACIO PUBLICO",
           "AGENCIA AMBIENTAL",
           "AGENCIA AMBIENTAL",
           "ACTIVIDADES COMUNES A LOS PROGRAMAS 91,92 Y 93",
           "ACTIVIDADES COMUNES A LOS PROGRAMAS 91,92 Y 93"
          ],
          [
           "MINISTERIO DE AMBIENTE Y ESPACIO PUBLICO",
           "MINISTERIO DE AMBIENTE Y ESPACIO PUBLICO",
           "SUBSECRETARIA DE HIGIENE URBANA",
           "ACTIVIDADES COMUNES A LOS PROGRAMAS: 11-52-53-56-57-58-59",
           "ACTIVIDADES COMUNES A LOS PROGRAMAS: 11-52-53-56-57-58-59"
          ],
          [
           "MINISTERIO DE AMBIENTE Y ESPACIO PUBLICO",
           "MINISTERIO DE AMBIENTE Y ESPACIO PUBLICO",
           "SUBSECRETARIA DE HIGIENE URBANA",
           "ACTIVIDADES COMUNES A LOS PROGRAMAS: 11-52-53-56-57-58-59 Y 85",
           "ACTIVIDADES COMUNES A LOS PROGRAMAS: 11-52-53-56-57-58-59 Y 85"
          ],
          [
           "MINISTERIO DE AMBIENTE Y ESPACIO PUBLICO",
           "MINISTERIO DE AMBIENTE Y ESPACIO PUBLICO",
           "SUBSECRETARIA DE HIGIENE URBANA",
           "ACTIVIDADES COMUNES A LOS PROGRAMAS: 11-52-53-56-57-58-59-79-85",
           "ACTIVIDADES COMUNES A LOS PROGRAMAS: 11-52-53-56-57-58-59-79-85"
          ],
          [
           "MINISTERIO DE AMBIENTE Y ESPACIO PUBLICO",
           "MINISTERIO DE AMBIENTE Y ESPACIO PUBLICO",
           "SUBSECRETARIA DE HIGIENE URBANA",
           "ACTIVIDADES COMUNES A LOS PROGRAMAS: 11-52-53-56-57-85",
           "ACTIVIDADES COMUNES A LOS PROGRAMAS: 11-52-53-56-57-85"
          ],
          [
           "MINISTERIO DE AMBIENTE Y ESPACIO PUBLICO",
           "MINISTERIO DE AMBIENTE Y ESPACIO PUBLICO",
           "SUBSECRETARIA DE HIGIENE URBANA",
           "ACTIVIDADES COMUNES A LOS PROGRAMAS: 11-52-53-57-58-59",
           "ACTIVIDADES COMUNES A LOS PROGRAMAS: 11-52-53-57-58-59"
          ],
          [
           "MINISTERIO DE AMBIENTE Y ESPACIO PUBLICO",
           "MINISTERIO DE AMBIENTE Y ESPACIO PUBLICO",
           "SUBSECRETARIA DE HIGIENE URBANA",
           "ACTIVIDADES COMUNES A LOS PROGRAMAS: 11-52-53-57-58-59 Y 85",
           "ACTIVIDADES COMUNES A LOS PROGRAMAS: 11-52-53-57-58-59 Y 85"
          ],
          [
           "MINISTERIO DE ESPACIO PUBLICO E HIGIENE URBANA",
           "MINISTERIO DE ESPACIO PUBLICO E HIGIENE URBANA",
           "SUBSECRETARIA DE HIGIENE URBANA",
           "ACTIVIDADES COMUNES A LOS PROGRAMAS: 11-52-57-58 Y 85",
           "ACTIVIDADES COMUNES A LOS PROGRAMAS: 11-52-57-58 Y 85"
          ],
          [
           "MINISTERIO DE AMBIENTE Y ESPACIO PUBLICO",
           "MINISTERIO DE AMBIENTE Y ESPACIO PUBLICO",
           "SUBSECRETARIA DE HIGIENE URBANA",
           "ACTIVIDADES COMUNES A LOS PROGRAMAS: 52.53.56.57 Y 85",
           "ACTIVIDADES COMUNES A LOS PROGRAMAS: 52.53.56.57 Y 85"
          ],
          [
           "MINISTERIO DE AMBIENTE Y ESPACIO PUBLICO",
           "AGENCIA AMBIENTAL",
           "AGENCIA AMBIENTAL",
           "ACTIVIDADES COMUMES A LOS PROGRAMAS 91,92,93,94,95,96",
           "AMPLIACION CIFA PARA SU TRANSFORMACION EN CENTRO METROPOLITANO VERDE"
          ],
          [
           "MINISTERIO DE AMBIENTE Y ESPACIO PUBLICO",
           "AGENCIA AMBIENTAL",
           "AGENCIA AMBIENTAL",
           "ACTIVIDADES COMUNES A LOS PROGRAMAS 91,92 Y 93",
           "ANALISIS DE SUSTANCIAS CONTAMINANTES EN AGUA, AIRE Y SUELO"
          ],
          [
           "MINISTERIO DE AMBIENTE Y ESPACIO PUBLICO",
           "MINISTERIO DE AMBIENTE Y ESPACIO PUBLICO",
           "DIRECCION GENERAL DE ARBOLADO",
           "ARBOLADO URBANO",
           "ARBOLADO URBANO"
          ],
          [
           "MINISTERIO DE AMBIENTE Y ESPACIO PUBLICO",
           "MINISTERIO DE AMBIENTE Y ESPACIO PUBLICO",
           "DIRECCION GENERAL TECNICO ADMINISTRATIVA Y LEGAL",
           "ASUNTOS LEGALES Y PRESUPUESTO",
           "ASUNTOS LEGALES Y PRESUPUESTO"
          ],
          [
           "MINISTERIO DE ESPACIO PUBLICO E HIGIENE URBANA",
           "MINISTERIO DE ESPACIO PUBLICO E HIGIENE URBANA",
           "DIRECCION GENERAL TECNICO ADMINISTRATIVA Y LEGAL",
           "ASUNTOS LEGALES Y PRESUPUESTO",
           "ASUNTOS LEGALES Y PRESUPUESTO"
          ],
          [
           "MINISTERIO DE AMBIENTE Y ESPACIO PUBLICO",
           "AGENCIA AMBIENTAL",
           "DIRECCION GENERAL DE EVALUACION TECNICA",
           "BUENOS AIRES PRODUCE MAS LIMPIO (P+L)",
           "BUENOS AIRES PRODUCE MAS LIMPIO (P+L)"
          ],
          [
           "MINISTERIO DE AMBIENTE Y ESPACIO PUBLICO",
           "AGENCIA AMBIENTAL",
           "DIRECCION GENERAL ESTRATEGIAS AMBIENTALES",
           "BUENOS AIRES PRODUCE MAS LIMPIO (P+L)",
           "BUENOS AIRES PRODUCE MAS LIMPIO (P+L)"
          ],
          [
           "MINISTERIO DE AMBIENTE Y ESPACIO PUBLICO",
           "AGENCIA AMBIENTAL",
           "DIRECCION GENERAL POLITICA Y ESTRATEGIA AMBIENTAL",
           "BUENOS AIRES PRODUCE MAS LIMPIO (P+L)",
           "BUENOS AIRES PRODUCE MAS LIMPIO (P+L)"
          ],
          [
           "MINISTERIO DE AMBIENTE Y ESPACIO PUBLICO",
           "AGENCIA AMBIENTAL",
           "AGENCIA AMBIENTAL",
           "ACTIV. COMUNES A LOS PROG. 91,92 ,93 Y 94",
           "CENTRO DE INFORMACION Y FORMACION AMBIENTAL"
          ],
          [
           "MINISTERIO DE AMBIENTE Y ESPACIO PUBLICO",
           "AGENCIA AMBIENTAL",
           "AGENCIA AMBIENTAL",
           "CENTROS DE ATENCION VETERINARIA",
           "CENTROS DE ATENCION VETERINARIA"
          ],
          [
           "MINISTERIO DE AMBIENTE Y ESPACIO PUBLICO",
           "AGENCIA AMBIENTAL",
           "DIRECCION GENERAL ESTRATEGIAS AMBIENTALES",
           "CENTROS DE ATENCION VETERINARIA",
           "CENTROS DE ATENCION VETERINARIA"
          ],
          [
           "MINISTERIO DE AMBIENTE Y ESPACIO PUBLICO",
           "MINISTERIO DE AMBIENTE Y ESPACIO PUBLICO",
           "DIRECCION GENERAL DE RECICLADO",
           "RECICLADO DE RESIDUOS URBANOS",
           "CENTROS VERDES"
          ],
          [
           "MINISTERIO DE AMBIENTE Y ESPACIO PUBLICO",
           "AGENCIA AMBIENTAL",
           "AGENCIA AMBIENTAL",
           "COMPENSACION AMBIENTAL",
           "COMPENSACION AMBIENTAL"
          ],
          [
           "MINISTERIO DE AMBIENTE Y ESPACIO PUBLICO",
           "AGENCIA AMBIENTAL",
           "DIRECCION GENERAL DE EVALUACION AMBIENTAL",
           "COMPENSACION AMBIENTAL",
           "COMPENSACION AMBIENTAL"
          ],
          [
           "MINISTERIO DE AMBIENTE Y ESPACIO PUBLICO",
           "MINISTERIO DE AMBIENTE Y ESPACIO PUBLICO",
           "UPE ECOPARQUE INTERACTIVO DE LA CABA",
           "CONSERVACION DE LA BIODIVERSIDAD",
           "CONSERVACION DE LA BIODIVERSIDAD"
          ],
          [
           "MINISTERIO DE AMBIENTE Y ESPACIO PUBLICO",
           "MINISTERIO DE AMBIENTE Y ESPACIO PUBLICO",
           "DIRECCION GENERAL DE LIMPIEZA",
           "SERVICIOS DE HIGIENE URBANA",
           "CONTENERIZACION"
          ],
          [
           "MINISTERIO DE AMBIENTE Y ESPACIO PUBLICO",
           "AGENCIA AMBIENTAL",
           "DIRECCION GENERAL DE CONTROL",
           "CONTROL AMBIENTAL",
           "CONTROL AMBIENTAL"
          ],
          [
           "MINISTERIO DE AMBIENTE Y ESPACIO PUBLICO",
           "MINISTERIO DE AMBIENTE Y ESPACIO PUBLICO",
           "DIRECCION GENERAL CONTROL DE GESTION",
           "CONTROL DE GESTION",
           "CONTROL DE GESTION"
          ],
          [
           "MINISTERIO DE AMBIENTE Y ESPACIO PUBLICO",
           "MINISTERIO DE AMBIENTE Y ESPACIO PUBLICO",
           "DIRECCION GENERAL CONTROL DE GESTION",
           "CONTROL DE GESTION Y RECLAMOS",
           "CONTROL DE GESTION Y RECLAMOS"
          ],
          [
           "MINISTERIO DE ESPACIO PUBLICO E HIGIENE URBANA",
           "MINISTERIO DE ESPACIO PUBLICO E HIGIENE URBANA",
           "DIRECCION GENERAL CONTROL DE GESTION",
           "CONTROL DE GESTION Y RECLAMOS",
           "CONTROL DE GESTION Y RECLAMOS"
          ],
          [
           "MINISTERIO DE AMBIENTE Y ESPACIO PUBLICO",
           "MINISTERIO DE AMBIENTE Y ESPACIO PUBLICO",
           "DIRECCION GENERAL DE LIMPIEZA",
           "CONTROL DE HIGIENE EN VIA PUBLICA E INMUEBLES",
           "CONTROL DE HIGIENE EN VIA PUBLICA E INMUEBLES"
          ],
          [
           "MINISTERIO DE AMBIENTE Y ESPACIO PUBLICO",
           "MINISTERIO DE AMBIENTE Y ESPACIO PUBLICO",
           "DIRECCION GENERAL INSPECCION DE HIGIENE URBANA",
           "CONTROL DE HIGIENE EN VIA PUBLICA E INMUEBLES",
           "CONTROL DE HIGIENE EN VIA PUBLICA E INMUEBLES"
          ],
          [
           "MINISTERIO DE AMBIENTE Y ESPACIO PUBLICO",
           "MINISTERIO DE AMBIENTE Y ESPACIO PUBLICO",
           "SUBSECRETARIA DE HIGIENE URBANA",
           "CONTROL DE HIGIENE EN VIA PUBLICA E INMUEBLES",
           "CONTROL DE HIGIENE EN VIA PUBLICA E INMUEBLES"
          ],
          [
           "MINISTERIO DE AMBIENTE Y ESPACIO PUBLICO",
           "MINISTERIO DE AMBIENTE Y ESPACIO PUBLICO",
           "DIRECCION GENERAL DE LIMPIEZA",
           "CONTROL DE PLAGAS",
           "CONTROL DE PLAGAS"
          ],
          [
           "MINISTERIO DE ESPACIO PUBLICO E HIGIENE URBANA",
           "MINISTERIO DE ESPACIO PUBLICO E HIGIENE URBANA",
           "DIRECCION GENERAL DE LIMPIEZA",
           "CONTROL DE PLAGAS",
           "CONTROL DE PLAGAS"
          ],
          [
           "MINISTERIO DE AMBIENTE Y ESPACIO PUBLICO",
           "MINISTERIO DE AMBIENTE Y ESPACIO PUBLICO",
           "DIRECCION GENERAL INSPECCION DE HIGIENE URBANA",
           "CONTROL DE PLAGAS",
           "CONTROL DE PLAGAS"
          ],
          [
           "MINISTERIO DE AMBIENTE Y ESPACIO PUBLICO",
           "AGENCIA AMBIENTAL",
           "DIRECCION GENERAL ESTRATEGIAS AMBIENTALES",
           "ESTRATEGIAS AMBIENTALES",
           "CUBIERTA VERDE"
          ],
          [
           "MINISTERIO DE AMBIENTE Y ESPACIO PUBLICO",
           "AGENCIA AMBIENTAL",
           "DIRECCION GENERAL ESTRATEGIAS AMBIENTALES",
           "ESTRATEGIAS AMBIENTALES",
           "CUBIERTA VERDE EN LA CABA"
          ],
          [
           "MINISTERIO DE AMBIENTE Y ESPACIO PUBLICO",
           "MINISTERIO DE AMBIENTE Y ESPACIO PUBLICO",
           "DIRECCION GENERAL DE ARBOLADO",
           "ARBOLADO URBANO",
           "CUIDADO Y PRESERVACION DEL ARBOLADO URBANO"
          ],
          [
           "MINISTERIO DE AMBIENTE Y ESPACIO PUBLICO",
           "MINISTERIO DE AMBIENTE Y ESPACIO PUBLICO",
           "DIRECCION GENERAL DE ESPACIOS VERDES",
           "CUIDADO Y PUESTA EN VALOR DE ESPACIOS VERDES",
           "CUIDADO Y PRESERVACION DEL ARBOLADO URBANO"
          ],
          [
           "MINISTERIO DE AMBIENTE Y ESPACIO PUBLICO",
           "MINISTERIO DE AMBIENTE Y ESPACIO PUBLICO",
           "DIRECCION GENERAL DE ESPACIOS VERDES",
           "CUIDADO Y PUESTA EN VALOR DE ESPACIOS VERDES",
           "CUIDADO Y PUESTA EN VALOR DE ESPACIOS VERDES"
          ],
          [
           "MINISTERIO DE AMBIENTE Y ESPACIO PUBLICO",
           "MINISTERIO DE AMBIENTE Y ESPACIO PUBLICO",
           "DIRECCION GENERAL DE ESPACIOS VERDES",
           "CUIDADO Y PUESTA EN VALOR DE ESPACIOS VERDES",
           "CUIDADO Y PUESTA EN VALOR DE GRANDES PARQUES"
          ],
          [
           "MINISTERIO DE AMBIENTE Y ESPACIO PUBLICO",
           "MINISTERIO DE AMBIENTE Y ESPACIO PUBLICO",
           "DIRECCION GENERAL DE ESPACIOS VERDES",
           "CUIDADO Y PUESTA EN VALOR DE ESPACIOS VERDES",
           "CUIDADO Y PUESTA EN VALOR DEL PATRIMONIO CULTURAL Y NATURAL DE LOS ESPACIOS VERDES"
          ],
          [
           "MINISTERIO DE AMBIENTE Y ESPACIO PUBLICO",
           "AGENCIA AMBIENTAL",
           "DIRECCION GENERAL ESTRATEGIAS AMBIENTALES",
           "ESTRATEGIAS AMBIENTALES",
           "DESARROLLO DE LA RED DE AIRE Y RUIDO EN LA CIUDAD DE BUENOS AIRES."
          ],
          [
           "MINISTERIO DE AMBIENTE Y ESPACIO PUBLICO",
           "AGENCIA AMBIENTAL",
           "DIRECCION GENERAL ESTRATEGIAS AMBIENTALES",
           "PLANEAMIENTO DE LA GESTION AMBIENTAL SOSTENIBLE",
           "DESARROLLO DE LA RED DE AIRE Y RUIDO EN LA CIUDAD DE BUENOS AIRES."
          ],
          [
           "MINISTERIO DE AMBIENTE Y ESPACIO PUBLICO",
           "MINISTERIO DE AMBIENTE Y ESPACIO PUBLICO",
           "DIRECCION GENERAL DE LIMPIEZA",
           "SERVICIOS DE HIGIENE URBANA",
           "DISPOSICION FINAL RESIDUOS SOLIDOS URBANOS"
          ],
          [
           "MINISTERIO DE AMBIENTE Y ESPACIO PUBLICO",
           "AGENCIA AMBIENTAL",
           "AGENCIA AMBIENTAL",
           "REDES AMBIENTALES",
           "ESTACIONES MONITOREO CALIDAD DEL AGUA EN RED DE HIDROMETEREOLOGIA DE CABA"
          ],
          [
           "MINISTERIO DE AMBIENTE Y ESPACIO PUBLICO",
           "AGENCIA AMBIENTAL",
           "DIRECCION GENERAL ESTRATEGIAS AMBIENTALES",
           "ESTRATEGIAS AMBIENTALES",
           "ESTRATEGIAS AMBIENTALES"
          ],
          [
           "MINISTERIO DE AMBIENTE Y ESPACIO PUBLICO",
           "AGENCIA AMBIENTAL",
           "DIRECCION GENERAL POLITICA Y ESTRATEGIA AMBIENTAL",
           "ESTRATEGIAS AMBIENTALES",
           "ESTRATEGIAS AMBIENTALES"
          ],
          [
           "MINISTERIO DE AMBIENTE Y ESPACIO PUBLICO",
           "AGENCIA AMBIENTAL",
           "DIRECCION GENERAL DE EVALUACION AMBIENTAL",
           "EVALUACION TECNICA",
           "EVALUACION TECNICA"
          ],
          [
           "MINISTERIO DE AMBIENTE Y ESPACIO PUBLICO",
           "AGENCIA AMBIENTAL",
           "DIRECCION GENERAL DE EVALUACION TECNICA",
           "EVALUACION TECNICA",
           "EVALUACION TECNICA"
          ],
          [
           "MINISTERIO DE AMBIENTE Y ESPACIO PUBLICO",
           "AGENCIA AMBIENTAL",
           "AGENCIA AMBIENTAL",
           "GESTION AMBIENTAL",
           "GESTION AMBIENTAL"
          ],
          [
           "MINISTERIO DE AMBIENTE Y ESPACIO PUBLICO",
           "AGENCIA AMBIENTAL",
           "DIRECCION GENERAL ESTRATEGIAS AMBIENTALES",
           "ESTRATEGIAS AMBIENTALES",
           "HOGAR TRANSITORIO DE MASCOTAS"
          ],
          [
           "MINISTERIO DE ESPACIO PUBLICO E HIGIENE URBANA",
           "MINISTERIO DE ESPACIO PUBLICO E HIGIENE URBANA",
           "SUBSECRETARIA DE ADMINISTRACION",
           "ACTIVIDADES COMUNES A LOS PROG 22 Y 23",
           "INSPECCION DEL USO DEL ESPACIO PUBLICO"
          ],
          [
           "MINISTERIO DE AMBIENTE Y ESPACIO PUBLICO",
           "MINISTERIO DE AMBIENTE Y ESPACIO PUBLICO",
           "DIRECCION GENERAL DE ARBOLADO",
           "ARBOLADO URBANO",
           "INTERVENCIONES SOBRE EL ARBOLADO"
          ],
          [
           "MINISTERIO DE AMBIENTE Y ESPACIO PUBLICO",
           "AGENCIA AMBIENTAL",
           "AGENCIA AMBIENTAL",
           "INTERVENCIONES VETERINARIAS",
           "INTERVENCIONES VETERINARIAS"
          ],
          [
           "MINISTERIO DE AMBIENTE Y ESPACIO PUBLICO",
           "MINISTERIO DE AMBIENTE Y ESPACIO PUBLICO",
           "DIRECCION GENERAL DE ESPACIOS VERDES",
           "CUIDADO Y PUESTA EN VALOR DE ESPACIOS VERDES",
           "JARDIN BOTANICO CARLOS THAYS"
          ],
          [
           "MINISTERIO DE AMBIENTE Y ESPACIO PUBLICO",
           "AGENCIA AMBIENTAL",
           "DIRECCION GENERAL DE CONTROL",
           "LABORATORIO DE ANALISIS Y CALIDAD AMBIENTAL",
           "LABORATORIO DE ANALISIS Y CALIDAD AMBIENTAL"
          ],
          [
           "MINISTERIO DE AMBIENTE Y ESPACIO PUBLICO",
           "AGENCIA AMBIENTAL",
           "DIRECCION GENERAL DE EVALUACION TECNICA",
           "LABORATORIO DE ANALISIS Y CALIDAD AMBIENTAL",
           "LABORATORIO DE ANALISIS Y CALIDAD AMBIENTAL"
          ],
          [
           "MINISTERIO DE AMBIENTE Y ESPACIO PUBLICO",
           "MINISTERIO DE AMBIENTE Y ESPACIO PUBLICO",
           "DIRECCION GENERAL DE ESPACIOS VERDES",
           "CUIDADO Y PUESTA EN VALOR DE ESPACIOS VERDES",
           "OBRAS BA ELIGE EV"
          ],
          [
           "MINISTERIO DE AMBIENTE Y ESPACIO PUBLICO",
           "AGENCIA AMBIENTAL",
           "AGENCIA AMBIENTAL",
           "COMPENSACION AMBIENTAL",
           "OBRAS CORRECTIVAS DE RECOMPOSICION PREDIOS CONTAMINADOS REQUERIDOS POR IVC"
          ],
          [
           "MINISTERIO DE AMBIENTE Y ESPACIO PUBLICO",
           "AGENCIA AMBIENTAL",
           "DIRECCION GENERAL DE EVALUACION TECNICA",
           "COMPENSACION AMBIENTAL",
           "OBRAS CORRECTIVAS DE RECOMPOSICION PREDIOS CONTAMINADOS REQUERIDOS POR IVC"
          ],
          [
           "MINISTERIO DE AMBIENTE Y ESPACIO PUBLICO",
           "MINISTERIO DE AMBIENTE Y ESPACIO PUBLICO",
           "DIRECCION GENERAL DE ESPACIOS VERDES",
           "CUIDADO Y PUESTA EN VALOR DE ESPACIOS VERDES",
           "OBRAS DE ESPACIOS VERDES"
          ],
          [
           "MINISTERIO DE AMBIENTE Y ESPACIO PUBLICO",
           "MINISTERIO DE AMBIENTE Y ESPACIO PUBLICO",
           "DIRECCION GENERAL DE ESPACIOS VERDES",
           "CUIDADO Y PUESTA EN VALOR DE ESPACIOS VERDES",
           "OBRAS DE ESPACIOS VERDES II"
          ],
          [
           "MINISTERIO DE AMBIENTE Y ESPACIO PUBLICO",
           "MINISTERIO DE AMBIENTE Y ESPACIO PUBLICO",
           "DIRECCION GENERAL REGENERACION URBANA",
           "REGENERACION URBANA",
           "OBRAS DE REGENERACION URBANA"
          ],
          [
           "MINISTERIO DE AMBIENTE Y ESPACIO PUBLICO",
           "MINISTERIO DE AMBIENTE Y ESPACIO PUBLICO",
           "UPE ECOPARQUE INTERACTIVO DE LA CABA",
           "CONSERVACION DE LA BIODIVERSIDAD",
           "OBRAS ECOPARQUE MAYEP"
          ],
          [
           "MINISTERIO DE AMBIENTE Y ESPACIO PUBLICO",
           "MINISTERIO DE AMBIENTE Y ESPACIO PUBLICO",
           "DIRECCION GENERAL OBRAS REGENERACION URBANA",
           "OBRAS DE REGENERACIONURBANA",
           "PARQUES URBANOS"
          ],
          [
           "MINISTERIO DE AMBIENTE Y ESPACIO PUBLICO",
           "AGENCIA AMBIENTAL",
           "DIRECCION GENERAL ESTRATEGIAS AMBIENTALES",
           "PLANEAMIENTO DE LA GESTION AMBIENTAL SOSTENIBLE",
           "PLANEAMIENTO DE LA GESTION AMBIENTAL SOSTENIBLE"
          ],
          [
           "MINISTERIO DE AMBIENTE Y ESPACIO PUBLICO",
           "MINISTERIO DE AMBIENTE Y ESPACIO PUBLICO",
           "DIRECCION GENERAL PLANIFICACION Y PRESUPUESTO",
           "PLANIFICACION Y PRESUPUESTO",
           "PLANIFICACION Y PRESUPUESTO"
          ],
          [
           "MINISTERIO DE AMBIENTE Y ESPACIO PUBLICO",
           "AGENCIA AMBIENTAL",
           "DIRECCION GENERAL DE EVALUACION TECNICA",
           "PREVENC.AMB.EVALUAC.TECNICA Y CERTIFICADOS AMBIENTALES",
           "PREVENC.AMB.EVALUAC.TECNICA Y CERTIFICADOS AMBIENTALES"
          ],
          [
           "MINISTERIO DE AMBIENTE Y ESPACIO PUBLICO",
           "AGENCIA AMBIENTAL",
           "DIRECCION GENERAL DE EVALUACION TECNICA",
           "PREVENCION AMBIENTAL EVALUACION TECNICA Y REGISTROS AMBIENTALES",
           "PREVENCION AMBIENTAL EVALUACION TECNICA Y REGISTROS AMBIENTALES"
          ],
          [
           "MINISTERIO DE AMBIENTE Y ESPACIO PUBLICO",
           "AGENCIA AMBIENTAL",
           "DIRECCION GENERAL POLITICA Y ESTRATEGIA AMBIENTAL",
           "PROGRAMA DE CAMBIO CLIMATICO E INFORMACION AMBIENTAL",
           "PROGRAMA DE CAMBIO CLIMATICO E INFORMACION AMBIENTAL"
          ],
          [
           "MINISTERIO DE AMBIENTE Y ESPACIO PUBLICO",
           "AGENCIA AMBIENTAL",
           "DIRECCION GENERAL POLITICA Y ESTRATEGIA AMBIENTAL",
           "PROGRAMA DE GESTION ENERGETICA",
           "PROGRAMA DE GESTION ENERGETICA"
          ],
          [
           "MINISTERIO DE AMBIENTE Y ESPACIO PUBLICO",
           "AGENCIA AMBIENTAL",
           "DIRECCION GENERAL POLITICA Y ESTRATEGIA AMBIENTAL",
           "PROGRAMA DE RESIDUOS DE MANEJO ESPECIAL",
           "PROGRAMA DE RESIDUOS DE MANEJO ESPECIAL"
          ],
          [
           "MINISTERIO DE AMBIENTE Y ESPACIO PUBLICO",
           "AGENCIA AMBIENTAL",
           "AGENCIA AMBIENTAL",
           "PROTECCION Y SANIDAD ANIMAL",
           "PROTECCION Y SANIDAD ANIMAL"
          ],
          [
           "MINISTERIO DE AMBIENTE Y ESPACIO PUBLICO",
           "AGENCIA AMBIENTAL",
           "DIRECCION GENERAL ESTRATEGIAS AMBIENTALES",
           "PROTECCION Y SANIDAD ANIMAL",
           "PROTECCION Y SANIDAD ANIMAL"
          ],
          [
           "MINISTERIO DE AMBIENTE Y ESPACIO PUBLICO",
           "AGENCIA AMBIENTAL",
           "AGENCIA AMBIENTAL",
           "GESTION AMBIENTAL",
           "PROYECTOS ACUMAR"
          ],
          [
           "MINISTERIO DE AMBIENTE Y ESPACIO PUBLICO",
           "MINISTERIO DE AMBIENTE Y ESPACIO PUBLICO",
           "DIRECCION GENERAL INSPECCION DE HIGIENE URBANA",
           "CONTROL DE HIGIENE EN VIA PUBLICA E INMUEBLES",
           "PUESTA EN VALOR DE EDIFICIOS"
          ],
          [
           "MINISTERIO DE AMBIENTE Y ESPACIO PUBLICO",
           "AGENCIA AMBIENTAL",
           "AGENCIA AMBIENTAL",
           "ACTIV. COMUNES A LOS PROG. 91,92 ,93 Y 94",
           "PUESTA EN VALOR DE LAS OFICINAS DE LA AGENCIA DE PROTECCION AMBIENTAL"
          ],
          [
           "MINISTERIO DE AMBIENTE Y ESPACIO PUBLICO",
           "AGENCIA AMBIENTAL",
           "DIRECCION GENERAL ESTRATEGIAS AMBIENTALES",
           "ESTRATEGIAS AMBIENTALES",
           "PUESTA EN VALOR DEPOSITO RAES"
          ],
          [
           "MINISTERIO DE AMBIENTE Y ESPACIO PUBLICO",
           "MINISTERIO DE AMBIENTE Y ESPACIO PUBLICO",
           "DIRECCION GENERAL DE ESPACIOS VERDES",
           "CUIDADO Y PUESTA EN VALOR DE ESPACIOS VERDES",
           "PUESTA EN VALOR EDIFICIOS"
          ],
          [
           "MINISTERIO DE AMBIENTE Y ESPACIO PUBLICO",
           "MINISTERIO DE AMBIENTE Y ESPACIO PUBLICO",
           "DIRECCION GENERAL DE RECICLADO",
           "RECICLADO DE RESIDUOS URBANOS",
           "RECICLADO DE RESIDUOS URBANOS"
          ],
          [
           "MINISTERIO DE AMBIENTE Y ESPACIO PUBLICO",
           "ENTE DE HIGIENE URBANA",
           "ENTE DE HIGIENE URBANA",
           "RECOLECCION, BARRIDO E HIGIENE DE LA CIUDAD DE BUENOS AIRES",
           "RECOLECCION, BARRIDO E HIGIENE DE LA CIUDAD DE BUENOS AIRES"
          ],
          [
           "MINISTERIO DE AMBIENTE Y ESPACIO PUBLICO",
           "AGENCIA AMBIENTAL",
           "DIRECCION GENERAL ESTRATEGIAS AMBIENTALES",
           "ESTRATEGIAS AMBIENTALES",
           "RED DE MONITOREO AMBIENTAL"
          ],
          [
           "MINISTERIO DE AMBIENTE Y ESPACIO PUBLICO",
           "AGENCIA AMBIENTAL",
           "DIRECCION GENERAL ESTRATEGIAS AMBIENTALES",
           "ESTRATEGIAS AMBIENTALES",
           "RED DE MONITOREO DE LA CALIDAD DEL AGUA SUPERFICIAL DE LA CABA."
          ],
          [
           "MINISTERIO DE AMBIENTE Y ESPACIO PUBLICO",
           "AGENCIA AMBIENTAL",
           "DIRECCION GENERAL ESTRATEGIAS AMBIENTALES",
           "PLANEAMIENTO DE LA GESTION AMBIENTAL SOSTENIBLE",
           "RED DE MONITOREO DE LA CALIDAD DEL AGUA SUPERFICIAL DE LA CABA."
          ],
          [
           "MINISTERIO DE AMBIENTE Y ESPACIO PUBLICO",
           "AGENCIA AMBIENTAL",
           "AGENCIA AMBIENTAL",
           "REDES AMBIENTALES",
           "REDES AMBIENTALES"
          ],
          [
           "MINISTERIO DE AMBIENTE Y ESPACIO PUBLICO",
           "AGENCIA AMBIENTAL",
           "DIRECCION GENERAL DE CONTROL",
           "REDES AMBIENTALES",
           "REDES AMBIENTALES"
          ],
          [
           "MINISTERIO DE AMBIENTE Y ESPACIO PUBLICO",
           "AGENCIA AMBIENTAL",
           "AGENCIA AMBIENTAL",
           "ACTIV. COMUNES A LOS PROG. 91,92 ,93 Y 94",
           "REMEDIACION AMBIENTAL GCBA"
          ],
          [
           "MINISTERIO DE AMBIENTE Y ESPACIO PUBLICO",
           "AGENCIA AMBIENTAL",
           "AGENCIA AMBIENTAL",
           "COMPENSACION AMBIENTAL",
           "REMEDIACION Y MITIGACION AMBIENTAL"
          ],
          [
           "MINISTERIO DE AMBIENTE Y ESPACIO PUBLICO",
           "MINISTERIO DE AMBIENTE Y ESPACIO PUBLICO",
           "MINISTERIO AMBIENTE Y ESPACIO PUBLICO",
           "MANTENIMIENTO ZONA PUERTO MADERO",
           "REPARACION Y MEJORAS EN BARRIOS DE BUENOS AIRES"
          ],
          [
           "MINISTERIO DE AMBIENTE Y ESPACIO PUBLICO",
           "AGENCIA AMBIENTAL",
           "AGENCIA AMBIENTAL",
           "ACTIV. COMUNES A LOS PROG. 91,92 ,93 Y 94",
           "RESTAURACION Y MITIGACION GCBA"
          ],
          [
           "MINISTERIO DE AMBIENTE Y ESPACIO PUBLICO",
           "AGENCIA AMBIENTAL",
           "AGENCIA AMBIENTAL",
           "ACTIV. COMUNES A LOS PROG. 91,92 ,93 Y 94",
           "SANEAMIENTO Y REMEDIACION DE SUELOS CONTAMINADOS ACHA 2102/04 Y MENDOZA"
          ],
          [
           "MINISTERIO DE AMBIENTE Y ESPACIO PUBLICO",
           "AGENCIA AMBIENTAL",
           "AGENCIA AMBIENTAL",
           "SANIDAD Y TENENCIA RESPONSABLE DE MASCOTAS",
           "SANIDAD Y TENENCIA RESPONSABLE DE MASCOTAS"
          ],
          [
           "MINISTERIO DE AMBIENTE Y ESPACIO PUBLICO",
           "MINISTERIO DE AMBIENTE Y ESPACIO PUBLICO",
           "DIRECCION GENERAL DE LIMPIEZA",
           "SERVICIOS DE HIGIENE URBANA",
           "SERVICIO DE LIMPIEZA DE ARROYOS"
          ],
          [
           "MINISTERIO DE AMBIENTE Y ESPACIO PUBLICO",
           "MINISTERIO DE AMBIENTE Y ESPACIO PUBLICO",
           "MINISTERIO AMBIENTE Y ESPACIO PUBLICO",
           "SERVICIOS DE ADMINISTRACION",
           "SERVICIOS DE ADMINISTRACION"
          ],
          [
           "MINISTERIO DE AMBIENTE Y ESPACIO PUBLICO",
           "AGENCIA AMBIENTAL",
           "DIRECCION GENERAL DE EVALUACION TECNICA",
           "COMPENSACION AMBIENTAL",
           "SITIOS CONTAMINADOS"
          ],
          [
           "MINISTERIO DE AMBIENTE Y ESPACIO PUBLICO",
           "MINISTERIO DE AMBIENTE Y ESPACIO PUBLICO",
           "DIRECCION GENERAL TECNICO ADMINISTRATIVA Y LEGAL",
           "TECNICA ADMINISTRATIVA Y LEGAL",
           "TECNICA ADMINISTRATIVA Y LEGAL"
          ],
          [
           "MINISTERIO DE AMBIENTE Y ESPACIO PUBLICO",
           "MINISTERIO DE AMBIENTE Y ESPACIO PUBLICO",
           "DIRECCION GENERAL TRATAMIENTO Y NUEVAS TECNOLOGIAS",
           "TRATAMIENTO DE RESIDUOS SOLIDOS URBANOS",
           "TRATAMIENTO DE RESIDUOS ORGANICOS"
          ],
          [
           "MINISTERIO DE AMBIENTE Y ESPACIO PUBLICO",
           "MINISTERIO DE AMBIENTE Y ESPACIO PUBLICO",
           "DIRECCION GENERAL DE ESPACIOS VERDES",
           "CUIDADO Y PUESTA EN VALOR DE ESPACIOS VERDES",
           "VALORIZACION DE LOS ESPACIOS VERDES"
          ],
          [
           "MINISTERIO DE AMBIENTE Y ESPACIO PUBLICO",
           "MINISTERIO DE AMBIENTE Y ESPACIO PUBLICO",
           "DIRECCION GENERAL DE ESPACIOS VERDES",
           "CUIDADO Y PUESTA EN VALOR DE ESPACIOS VERDES",
           "VALORIZACION DE LOS ESPACIOS VERDES DE LA CIUDAD"
          ],
          [
           "MINISTERIO DE AMBIENTE Y ESPACIO PUBLICO",
           "AGENCIA AMBIENTAL",
           "DIRECCION GENERAL DE CONTROL",
           "ACCIONES PARA LA RESTAURACION ECOLOGICA",
           "ACCIONES PARA LA RESTAURACION ECOLOGICA"
          ],
          [
           "MINISTERIO DE ESPACIO PUBLICO E HIGIENE URBANA",
           "MINISTERIO DE ESPACIO PUBLICO E HIGIENE URBANA",
           "MIN.ESP.PUBLICO E HIG. URBANA",
           "ACT.CEN.ESP.PUB.HIG.URBANA",
           "ACT.CEN.ESP.PUB.HIG.URBANA"
          ],
          [
           "MINISTERIO DE AMBIENTE Y ESPACIO PUBLICO",
           "AGENCIA AMBIENTAL",
           "AGENCIA AMBIENTAL",
           "ACTIV. COMUNES A LOS PROG. 91,92 ,93 Y 94",
           "(?)"
          ],
          [
           "MINISTERIO DE AMBIENTE Y ESPACIO PUBLICO",
           "AGENCIA AMBIENTAL",
           "AGENCIA AMBIENTAL",
           "ACTIV. COMUNES A LOS PROG. 91,92 Y93",
           "ACTIV. COMUNES A LOS PROG. 91,92 Y93"
          ],
          [
           "MINISTERIO DE AMBIENTE Y ESPACIO PUBLICO",
           "MINISTERIO DE AMBIENTE Y ESPACIO PUBLICO",
           "MINISTERIO AMBIENTE Y ESPACIO PUBLICO",
           "ACTIVIDADES CENTRALES AMBIENTE Y ESPACIO PUBLICO",
           "ACTIVIDADES CENTRALES AMBIENTE Y ESPACIO PUBLICO"
          ],
          [
           "MINISTERIO DE AMBIENTE Y ESPACIO PUBLICO",
           "AGENCIA AMBIENTAL",
           "AGENCIA AMBIENTAL",
           "ACTIVIDADES COMUMES A LOS PROGRAMAS 91,92,93,94,95,96",
           "(?)"
          ],
          [
           "MINISTERIO DE AMBIENTE Y ESPACIO PUBLICO",
           "MINISTERIO DE AMBIENTE Y ESPACIO PUBLICO",
           "SUBSECRETARIA DE ADMINISTRACION",
           "ACTIVIDADES COMUNES A LOS PROG 21 Y 22",
           "ACTIVIDADES COMUNES A LOS PROG 21 Y 22"
          ],
          [
           "MINISTERIO DE AMBIENTE Y ESPACIO PUBLICO",
           "MINISTERIO DE AMBIENTE Y ESPACIO PUBLICO",
           "SUBSECRETARIA DE ADMINISTRACION GENERAL Y DE USO DEL ESPACIO PUBLICO",
           "ACTIVIDADES COMUNES A LOS PROG 21,22,23,75,76 Y 77",
           "ACTIVIDADES COMUNES A LOS PROG 21,22,23,75,76 Y 77"
          ],
          [
           "MINISTERIO DE ESPACIO PUBLICO E HIGIENE URBANA",
           "MINISTERIO DE ESPACIO PUBLICO E HIGIENE URBANA",
           "SUBSECRETARIA DE ADMINISTRACION",
           "ACTIVIDADES COMUNES A LOS PROG 22 Y 23",
           "(?)"
          ],
          [
           "MINISTERIO DE AMBIENTE Y ESPACIO PUBLICO",
           "AGENCIA AMBIENTAL",
           "AGENCIA AMBIENTAL",
           "ACTIVIDADES COMUNES A LOS PROG. 91 AL 100 Y 102",
           "ACTIVIDADES COMUNES A LOS PROG. 91 AL 100 Y 102"
          ],
          [
           "MINISTERIO DE AMBIENTE Y ESPACIO PUBLICO",
           "AGENCIA AMBIENTAL",
           "AGENCIA AMBIENTAL",
           "ACTIVIDADES COMUNES A LOS PROG. 91 AL 103",
           "ACTIVIDADES COMUNES A LOS PROG. 91 AL 103"
          ],
          [
           "MINISTERIO DE AMBIENTE Y ESPACIO PUBLICO",
           "AGENCIA AMBIENTAL",
           "AGENCIA AMBIENTAL",
           "ACTIVIDADES COMUNES A LOS PROG. 91,92,93, 94,95 Y 96",
           "ACTIVIDADES COMUNES A LOS PROG. 91,92,93, 94,95 Y 96"
          ],
          [
           "MINISTERIO DE AMBIENTE Y ESPACIO PUBLICO",
           "AGENCIA AMBIENTAL",
           "AGENCIA AMBIENTAL",
           "ACTIVIDADES COMUNES A LOS PROG. 91,92,93, 94,95, 96 Y 100",
           "ACTIVIDADES COMUNES A LOS PROG. 91,92,93, 94,95, 96 Y 100"
          ],
          [
           "MINISTERIO DE AMBIENTE Y ESPACIO PUBLICO",
           "AGENCIA AMBIENTAL",
           "AGENCIA AMBIENTAL",
           "ACTIVIDADES COMUNES A LOS PROGRAMAS 91,92 Y 93",
           "(?)"
          ],
          [
           "MINISTERIO DE AMBIENTE Y ESPACIO PUBLICO",
           "MINISTERIO DE AMBIENTE Y ESPACIO PUBLICO",
           "SUBSECRETARIA DE HIGIENE URBANA",
           "ACTIVIDADES COMUNES A LOS PROGRAMAS: 11-52-53-56-57-58-59",
           "ACTIVIDADES COMUNES A LOS PROGRAMAS: 11-52-53-56-57-58-59"
          ],
          [
           "MINISTERIO DE AMBIENTE Y ESPACIO PUBLICO",
           "MINISTERIO DE AMBIENTE Y ESPACIO PUBLICO",
           "SUBSECRETARIA DE HIGIENE URBANA",
           "ACTIVIDADES COMUNES A LOS PROGRAMAS: 11-52-53-56-57-58-59 Y 85",
           "ACTIVIDADES COMUNES A LOS PROGRAMAS: 11-52-53-56-57-58-59 Y 85"
          ],
          [
           "MINISTERIO DE AMBIENTE Y ESPACIO PUBLICO",
           "MINISTERIO DE AMBIENTE Y ESPACIO PUBLICO",
           "SUBSECRETARIA DE HIGIENE URBANA",
           "ACTIVIDADES COMUNES A LOS PROGRAMAS: 11-52-53-56-57-58-59-79-85",
           "ACTIVIDADES COMUNES A LOS PROGRAMAS: 11-52-53-56-57-58-59-79-85"
          ],
          [
           "MINISTERIO DE AMBIENTE Y ESPACIO PUBLICO",
           "MINISTERIO DE AMBIENTE Y ESPACIO PUBLICO",
           "SUBSECRETARIA DE HIGIENE URBANA",
           "ACTIVIDADES COMUNES A LOS PROGRAMAS: 11-52-53-56-57-85",
           "ACTIVIDADES COMUNES A LOS PROGRAMAS: 11-52-53-56-57-85"
          ],
          [
           "MINISTERIO DE AMBIENTE Y ESPACIO PUBLICO",
           "MINISTERIO DE AMBIENTE Y ESPACIO PUBLICO",
           "SUBSECRETARIA DE HIGIENE URBANA",
           "ACTIVIDADES COMUNES A LOS PROGRAMAS: 11-52-53-57-58-59",
           "ACTIVIDADES COMUNES A LOS PROGRAMAS: 11-52-53-57-58-59"
          ],
          [
           "MINISTERIO DE AMBIENTE Y ESPACIO PUBLICO",
           "MINISTERIO DE AMBIENTE Y ESPACIO PUBLICO",
           "SUBSECRETARIA DE HIGIENE URBANA",
           "ACTIVIDADES COMUNES A LOS PROGRAMAS: 11-52-53-57-58-59 Y 85",
           "ACTIVIDADES COMUNES A LOS PROGRAMAS: 11-52-53-57-58-59 Y 85"
          ],
          [
           "MINISTERIO DE ESPACIO PUBLICO E HIGIENE URBANA",
           "MINISTERIO DE ESPACIO PUBLICO E HIGIENE URBANA",
           "SUBSECRETARIA DE HIGIENE URBANA",
           "ACTIVIDADES COMUNES A LOS PROGRAMAS: 11-52-57-58 Y 85",
           "ACTIVIDADES COMUNES A LOS PROGRAMAS: 11-52-57-58 Y 85"
          ],
          [
           "MINISTERIO DE AMBIENTE Y ESPACIO PUBLICO",
           "MINISTERIO DE AMBIENTE Y ESPACIO PUBLICO",
           "SUBSECRETARIA DE HIGIENE URBANA",
           "ACTIVIDADES COMUNES A LOS PROGRAMAS: 52.53.56.57 Y 85",
           "ACTIVIDADES COMUNES A LOS PROGRAMAS: 52.53.56.57 Y 85"
          ],
          [
           "MINISTERIO DE AMBIENTE Y ESPACIO PUBLICO",
           "MINISTERIO DE AMBIENTE Y ESPACIO PUBLICO",
           "DIRECCION GENERAL DE ARBOLADO",
           "ARBOLADO URBANO",
           "(?)"
          ],
          [
           "MINISTERIO DE AMBIENTE Y ESPACIO PUBLICO",
           "MINISTERIO DE AMBIENTE Y ESPACIO PUBLICO",
           "DIRECCION GENERAL TECNICO ADMINISTRATIVA Y LEGAL",
           "ASUNTOS LEGALES Y PRESUPUESTO",
           "ASUNTOS LEGALES Y PRESUPUESTO"
          ],
          [
           "MINISTERIO DE ESPACIO PUBLICO E HIGIENE URBANA",
           "MINISTERIO DE ESPACIO PUBLICO E HIGIENE URBANA",
           "DIRECCION GENERAL TECNICO ADMINISTRATIVA Y LEGAL",
           "ASUNTOS LEGALES Y PRESUPUESTO",
           "ASUNTOS LEGALES Y PRESUPUESTO"
          ],
          [
           "MINISTERIO DE AMBIENTE Y ESPACIO PUBLICO",
           "AGENCIA AMBIENTAL",
           "DIRECCION GENERAL DE EVALUACION TECNICA",
           "BUENOS AIRES PRODUCE MAS LIMPIO (P+L)",
           "BUENOS AIRES PRODUCE MAS LIMPIO (P+L)"
          ],
          [
           "MINISTERIO DE AMBIENTE Y ESPACIO PUBLICO",
           "AGENCIA AMBIENTAL",
           "DIRECCION GENERAL ESTRATEGIAS AMBIENTALES",
           "BUENOS AIRES PRODUCE MAS LIMPIO (P+L)",
           "BUENOS AIRES PRODUCE MAS LIMPIO (P+L)"
          ],
          [
           "MINISTERIO DE AMBIENTE Y ESPACIO PUBLICO",
           "AGENCIA AMBIENTAL",
           "DIRECCION GENERAL POLITICA Y ESTRATEGIA AMBIENTAL",
           "BUENOS AIRES PRODUCE MAS LIMPIO (P+L)",
           "BUENOS AIRES PRODUCE MAS LIMPIO (P+L)"
          ],
          [
           "MINISTERIO DE AMBIENTE Y ESPACIO PUBLICO",
           "AGENCIA AMBIENTAL",
           "AGENCIA AMBIENTAL",
           "CENTROS DE ATENCION VETERINARIA",
           "CENTROS DE ATENCION VETERINARIA"
          ],
          [
           "MINISTERIO DE AMBIENTE Y ESPACIO PUBLICO",
           "AGENCIA AMBIENTAL",
           "DIRECCION GENERAL ESTRATEGIAS AMBIENTALES",
           "CENTROS DE ATENCION VETERINARIA",
           "CENTROS DE ATENCION VETERINARIA"
          ],
          [
           "MINISTERIO DE AMBIENTE Y ESPACIO PUBLICO",
           "AGENCIA AMBIENTAL",
           "AGENCIA AMBIENTAL",
           "COMPENSACION AMBIENTAL",
           "(?)"
          ],
          [
           "MINISTERIO DE AMBIENTE Y ESPACIO PUBLICO",
           "AGENCIA AMBIENTAL",
           "DIRECCION GENERAL DE EVALUACION AMBIENTAL",
           "COMPENSACION AMBIENTAL",
           "COMPENSACION AMBIENTAL"
          ],
          [
           "MINISTERIO DE AMBIENTE Y ESPACIO PUBLICO",
           "AGENCIA AMBIENTAL",
           "DIRECCION GENERAL DE EVALUACION TECNICA",
           "COMPENSACION AMBIENTAL",
           "(?)"
          ],
          [
           "MINISTERIO DE AMBIENTE Y ESPACIO PUBLICO",
           "MINISTERIO DE AMBIENTE Y ESPACIO PUBLICO",
           "UPE ECOPARQUE INTERACTIVO DE LA CABA",
           "CONSERVACION DE LA BIODIVERSIDAD",
           "(?)"
          ],
          [
           "MINISTERIO DE AMBIENTE Y ESPACIO PUBLICO",
           "AGENCIA AMBIENTAL",
           "DIRECCION GENERAL DE CONTROL",
           "CONTROL AMBIENTAL",
           "CONTROL AMBIENTAL"
          ],
          [
           "MINISTERIO DE AMBIENTE Y ESPACIO PUBLICO",
           "MINISTERIO DE AMBIENTE Y ESPACIO PUBLICO",
           "DIRECCION GENERAL CONTROL DE GESTION",
           "CONTROL DE GESTION",
           "CONTROL DE GESTION"
          ],
          [
           "MINISTERIO DE AMBIENTE Y ESPACIO PUBLICO",
           "MINISTERIO DE AMBIENTE Y ESPACIO PUBLICO",
           "DIRECCION GENERAL CONTROL DE GESTION",
           "CONTROL DE GESTION Y RECLAMOS",
           "CONTROL DE GESTION Y RECLAMOS"
          ],
          [
           "MINISTERIO DE ESPACIO PUBLICO E HIGIENE URBANA",
           "MINISTERIO DE ESPACIO PUBLICO E HIGIENE URBANA",
           "DIRECCION GENERAL CONTROL DE GESTION",
           "CONTROL DE GESTION Y RECLAMOS",
           "CONTROL DE GESTION Y RECLAMOS"
          ],
          [
           "MINISTERIO DE AMBIENTE Y ESPACIO PUBLICO",
           "MINISTERIO DE AMBIENTE Y ESPACIO PUBLICO",
           "DIRECCION GENERAL DE LIMPIEZA",
           "CONTROL DE HIGIENE EN VIA PUBLICA E INMUEBLES",
           "CONTROL DE HIGIENE EN VIA PUBLICA E INMUEBLES"
          ],
          [
           "MINISTERIO DE AMBIENTE Y ESPACIO PUBLICO",
           "MINISTERIO DE AMBIENTE Y ESPACIO PUBLICO",
           "DIRECCION GENERAL INSPECCION DE HIGIENE URBANA",
           "CONTROL DE HIGIENE EN VIA PUBLICA E INMUEBLES",
           "(?)"
          ],
          [
           "MINISTERIO DE AMBIENTE Y ESPACIO PUBLICO",
           "MINISTERIO DE AMBIENTE Y ESPACIO PUBLICO",
           "SUBSECRETARIA DE HIGIENE URBANA",
           "CONTROL DE HIGIENE EN VIA PUBLICA E INMUEBLES",
           "CONTROL DE HIGIENE EN VIA PUBLICA E INMUEBLES"
          ],
          [
           "MINISTERIO DE AMBIENTE Y ESPACIO PUBLICO",
           "MINISTERIO DE AMBIENTE Y ESPACIO PUBLICO",
           "DIRECCION GENERAL DE LIMPIEZA",
           "CONTROL DE PLAGAS",
           "CONTROL DE PLAGAS"
          ],
          [
           "MINISTERIO DE ESPACIO PUBLICO E HIGIENE URBANA",
           "MINISTERIO DE ESPACIO PUBLICO E HIGIENE URBANA",
           "DIRECCION GENERAL DE LIMPIEZA",
           "CONTROL DE PLAGAS",
           "CONTROL DE PLAGAS"
          ],
          [
           "MINISTERIO DE AMBIENTE Y ESPACIO PUBLICO",
           "MINISTERIO DE AMBIENTE Y ESPACIO PUBLICO",
           "DIRECCION GENERAL INSPECCION DE HIGIENE URBANA",
           "CONTROL DE PLAGAS",
           "CONTROL DE PLAGAS"
          ],
          [
           "MINISTERIO DE AMBIENTE Y ESPACIO PUBLICO",
           "MINISTERIO DE AMBIENTE Y ESPACIO PUBLICO",
           "DIRECCION GENERAL DE ESPACIOS VERDES",
           "CUIDADO Y PUESTA EN VALOR DE ESPACIOS VERDES",
           "(?)"
          ],
          [
           "MINISTERIO DE AMBIENTE Y ESPACIO PUBLICO",
           "AGENCIA AMBIENTAL",
           "DIRECCION GENERAL ESTRATEGIAS AMBIENTALES",
           "ESTRATEGIAS AMBIENTALES",
           "(?)"
          ],
          [
           "MINISTERIO DE AMBIENTE Y ESPACIO PUBLICO",
           "AGENCIA AMBIENTAL",
           "DIRECCION GENERAL POLITICA Y ESTRATEGIA AMBIENTAL",
           "ESTRATEGIAS AMBIENTALES",
           "ESTRATEGIAS AMBIENTALES"
          ],
          [
           "MINISTERIO DE AMBIENTE Y ESPACIO PUBLICO",
           "AGENCIA AMBIENTAL",
           "DIRECCION GENERAL DE EVALUACION AMBIENTAL",
           "EVALUACION TECNICA",
           "EVALUACION TECNICA"
          ],
          [
           "MINISTERIO DE AMBIENTE Y ESPACIO PUBLICO",
           "AGENCIA AMBIENTAL",
           "DIRECCION GENERAL DE EVALUACION TECNICA",
           "EVALUACION TECNICA",
           "EVALUACION TECNICA"
          ],
          [
           "MINISTERIO DE AMBIENTE Y ESPACIO PUBLICO",
           "AGENCIA AMBIENTAL",
           "AGENCIA AMBIENTAL",
           "GESTION AMBIENTAL",
           "(?)"
          ],
          [
           "MINISTERIO DE AMBIENTE Y ESPACIO PUBLICO",
           "AGENCIA AMBIENTAL",
           "AGENCIA AMBIENTAL",
           "INTERVENCIONES VETERINARIAS",
           "INTERVENCIONES VETERINARIAS"
          ],
          [
           "MINISTERIO DE AMBIENTE Y ESPACIO PUBLICO",
           "AGENCIA AMBIENTAL",
           "DIRECCION GENERAL DE CONTROL",
           "LABORATORIO DE ANALISIS Y CALIDAD AMBIENTAL",
           "LABORATORIO DE ANALISIS Y CALIDAD AMBIENTAL"
          ],
          [
           "MINISTERIO DE AMBIENTE Y ESPACIO PUBLICO",
           "AGENCIA AMBIENTAL",
           "DIRECCION GENERAL DE EVALUACION TECNICA",
           "LABORATORIO DE ANALISIS Y CALIDAD AMBIENTAL",
           "LABORATORIO DE ANALISIS Y CALIDAD AMBIENTAL"
          ],
          [
           "MINISTERIO DE AMBIENTE Y ESPACIO PUBLICO",
           "MINISTERIO DE AMBIENTE Y ESPACIO PUBLICO",
           "MINISTERIO AMBIENTE Y ESPACIO PUBLICO",
           "MANTENIMIENTO ZONA PUERTO MADERO",
           "REPARACION Y MEJORAS EN BARRIOS DE BUENOS AIRES"
          ],
          [
           "MINISTERIO DE AMBIENTE Y ESPACIO PUBLICO",
           "MINISTERIO DE AMBIENTE Y ESPACIO PUBLICO",
           "DIRECCION GENERAL OBRAS REGENERACION URBANA",
           "OBRAS DE REGENERACIONURBANA",
           "PARQUES URBANOS"
          ],
          [
           "MINISTERIO DE AMBIENTE Y ESPACIO PUBLICO",
           "AGENCIA AMBIENTAL",
           "DIRECCION GENERAL ESTRATEGIAS AMBIENTALES",
           "PLANEAMIENTO DE LA GESTION AMBIENTAL SOSTENIBLE",
           "(?)"
          ],
          [
           "MINISTERIO DE AMBIENTE Y ESPACIO PUBLICO",
           "MINISTERIO DE AMBIENTE Y ESPACIO PUBLICO",
           "DIRECCION GENERAL PLANIFICACION Y PRESUPUESTO",
           "PLANIFICACION Y PRESUPUESTO",
           "PLANIFICACION Y PRESUPUESTO"
          ],
          [
           "MINISTERIO DE AMBIENTE Y ESPACIO PUBLICO",
           "AGENCIA AMBIENTAL",
           "DIRECCION GENERAL DE EVALUACION TECNICA",
           "PREVENC.AMB.EVALUAC.TECNICA Y CERTIFICADOS AMBIENTALES",
           "PREVENC.AMB.EVALUAC.TECNICA Y CERTIFICADOS AMBIENTALES"
          ],
          [
           "MINISTERIO DE AMBIENTE Y ESPACIO PUBLICO",
           "AGENCIA AMBIENTAL",
           "DIRECCION GENERAL DE EVALUACION TECNICA",
           "PREVENCION AMBIENTAL EVALUACION TECNICA Y REGISTROS AMBIENTALES",
           "PREVENCION AMBIENTAL EVALUACION TECNICA Y REGISTROS AMBIENTALES"
          ],
          [
           "MINISTERIO DE AMBIENTE Y ESPACIO PUBLICO",
           "AGENCIA AMBIENTAL",
           "DIRECCION GENERAL POLITICA Y ESTRATEGIA AMBIENTAL",
           "PROGRAMA DE CAMBIO CLIMATICO E INFORMACION AMBIENTAL",
           "PROGRAMA DE CAMBIO CLIMATICO E INFORMACION AMBIENTAL"
          ],
          [
           "MINISTERIO DE AMBIENTE Y ESPACIO PUBLICO",
           "AGENCIA AMBIENTAL",
           "DIRECCION GENERAL POLITICA Y ESTRATEGIA AMBIENTAL",
           "PROGRAMA DE GESTION ENERGETICA",
           "PROGRAMA DE GESTION ENERGETICA"
          ],
          [
           "MINISTERIO DE AMBIENTE Y ESPACIO PUBLICO",
           "AGENCIA AMBIENTAL",
           "DIRECCION GENERAL POLITICA Y ESTRATEGIA AMBIENTAL",
           "PROGRAMA DE RESIDUOS DE MANEJO ESPECIAL",
           "PROGRAMA DE RESIDUOS DE MANEJO ESPECIAL"
          ],
          [
           "MINISTERIO DE AMBIENTE Y ESPACIO PUBLICO",
           "AGENCIA AMBIENTAL",
           "AGENCIA AMBIENTAL",
           "PROTECCION Y SANIDAD ANIMAL",
           "PROTECCION Y SANIDAD ANIMAL"
          ],
          [
           "MINISTERIO DE AMBIENTE Y ESPACIO PUBLICO",
           "AGENCIA AMBIENTAL",
           "DIRECCION GENERAL ESTRATEGIAS AMBIENTALES",
           "PROTECCION Y SANIDAD ANIMAL",
           "PROTECCION Y SANIDAD ANIMAL"
          ],
          [
           "MINISTERIO DE AMBIENTE Y ESPACIO PUBLICO",
           "MINISTERIO DE AMBIENTE Y ESPACIO PUBLICO",
           "DIRECCION GENERAL DE RECICLADO",
           "RECICLADO DE RESIDUOS URBANOS",
           "(?)"
          ],
          [
           "MINISTERIO DE AMBIENTE Y ESPACIO PUBLICO",
           "ENTE DE HIGIENE URBANA",
           "ENTE DE HIGIENE URBANA",
           "RECOLECCION, BARRIDO E HIGIENE DE LA CIUDAD DE BUENOS AIRES",
           "RECOLECCION, BARRIDO E HIGIENE DE LA CIUDAD DE BUENOS AIRES"
          ],
          [
           "MINISTERIO DE AMBIENTE Y ESPACIO PUBLICO",
           "AGENCIA AMBIENTAL",
           "AGENCIA AMBIENTAL",
           "REDES AMBIENTALES",
           "(?)"
          ],
          [
           "MINISTERIO DE AMBIENTE Y ESPACIO PUBLICO",
           "AGENCIA AMBIENTAL",
           "DIRECCION GENERAL DE CONTROL",
           "REDES AMBIENTALES",
           "REDES AMBIENTALES"
          ],
          [
           "MINISTERIO DE AMBIENTE Y ESPACIO PUBLICO",
           "MINISTERIO DE AMBIENTE Y ESPACIO PUBLICO",
           "DIRECCION GENERAL REGENERACION URBANA",
           "REGENERACION URBANA",
           "OBRAS DE REGENERACION URBANA"
          ],
          [
           "MINISTERIO DE AMBIENTE Y ESPACIO PUBLICO",
           "AGENCIA AMBIENTAL",
           "AGENCIA AMBIENTAL",
           "SANIDAD Y TENENCIA RESPONSABLE DE MASCOTAS",
           "SANIDAD Y TENENCIA RESPONSABLE DE MASCOTAS"
          ],
          [
           "MINISTERIO DE AMBIENTE Y ESPACIO PUBLICO",
           "MINISTERIO DE AMBIENTE Y ESPACIO PUBLICO",
           "MINISTERIO AMBIENTE Y ESPACIO PUBLICO",
           "SERVICIOS DE ADMINISTRACION",
           "SERVICIOS DE ADMINISTRACION"
          ],
          [
           "MINISTERIO DE AMBIENTE Y ESPACIO PUBLICO",
           "MINISTERIO DE AMBIENTE Y ESPACIO PUBLICO",
           "DIRECCION GENERAL DE LIMPIEZA",
           "SERVICIOS DE HIGIENE URBANA",
           "(?)"
          ],
          [
           "MINISTERIO DE AMBIENTE Y ESPACIO PUBLICO",
           "MINISTERIO DE AMBIENTE Y ESPACIO PUBLICO",
           "DIRECCION GENERAL TECNICO ADMINISTRATIVA Y LEGAL",
           "TECNICA ADMINISTRATIVA Y LEGAL",
           "TECNICA ADMINISTRATIVA Y LEGAL"
          ],
          [
           "MINISTERIO DE AMBIENTE Y ESPACIO PUBLICO",
           "MINISTERIO DE AMBIENTE Y ESPACIO PUBLICO",
           "DIRECCION GENERAL TRATAMIENTO Y NUEVAS TECNOLOGIAS",
           "TRATAMIENTO DE RESIDUOS SOLIDOS URBANOS",
           "TRATAMIENTO DE RESIDUOS ORGANICOS"
          ],
          [
           "MINISTERIO DE AMBIENTE Y ESPACIO PUBLICO",
           "AGENCIA AMBIENTAL",
           "AGENCIA AMBIENTAL",
           "(?)",
           "(?)"
          ],
          [
           "MINISTERIO DE AMBIENTE Y ESPACIO PUBLICO",
           "MINISTERIO DE AMBIENTE Y ESPACIO PUBLICO",
           "DIRECCION GENERAL CONTROL DE GESTION",
           "(?)",
           "(?)"
          ],
          [
           "MINISTERIO DE ESPACIO PUBLICO E HIGIENE URBANA",
           "MINISTERIO DE ESPACIO PUBLICO E HIGIENE URBANA",
           "DIRECCION GENERAL CONTROL DE GESTION",
           "CONTROL DE GESTION Y RECLAMOS",
           "CONTROL DE GESTION Y RECLAMOS"
          ],
          [
           "MINISTERIO DE AMBIENTE Y ESPACIO PUBLICO",
           "MINISTERIO DE AMBIENTE Y ESPACIO PUBLICO",
           "DIRECCION GENERAL DE ARBOLADO",
           "ARBOLADO URBANO",
           "(?)"
          ],
          [
           "MINISTERIO DE AMBIENTE Y ESPACIO PUBLICO",
           "AGENCIA AMBIENTAL",
           "DIRECCION GENERAL DE CONTROL",
           "(?)",
           "(?)"
          ],
          [
           "MINISTERIO DE AMBIENTE Y ESPACIO PUBLICO",
           "MINISTERIO DE AMBIENTE Y ESPACIO PUBLICO",
           "DIRECCION GENERAL DE ESPACIOS VERDES",
           "CUIDADO Y PUESTA EN VALOR DE ESPACIOS VERDES",
           "(?)"
          ],
          [
           "MINISTERIO DE AMBIENTE Y ESPACIO PUBLICO",
           "AGENCIA AMBIENTAL",
           "DIRECCION GENERAL DE EVALUACION AMBIENTAL",
           "(?)",
           "(?)"
          ],
          [
           "MINISTERIO DE AMBIENTE Y ESPACIO PUBLICO",
           "AGENCIA AMBIENTAL",
           "DIRECCION GENERAL DE EVALUACION TECNICA",
           "(?)",
           "(?)"
          ],
          [
           "MINISTERIO DE AMBIENTE Y ESPACIO PUBLICO",
           "MINISTERIO DE AMBIENTE Y ESPACIO PUBLICO",
           "DIRECCION GENERAL DE LIMPIEZA",
           "(?)",
           "(?)"
          ],
          [
           "MINISTERIO DE ESPACIO PUBLICO E HIGIENE URBANA",
           "MINISTERIO DE ESPACIO PUBLICO E HIGIENE URBANA",
           "DIRECCION GENERAL DE LIMPIEZA",
           "CONTROL DE PLAGAS",
           "CONTROL DE PLAGAS"
          ],
          [
           "MINISTERIO DE AMBIENTE Y ESPACIO PUBLICO",
           "MINISTERIO DE AMBIENTE Y ESPACIO PUBLICO",
           "DIRECCION GENERAL DE RECICLADO",
           "RECICLADO DE RESIDUOS URBANOS",
           "(?)"
          ],
          [
           "MINISTERIO DE AMBIENTE Y ESPACIO PUBLICO",
           "AGENCIA AMBIENTAL",
           "DIRECCION GENERAL ESTRATEGIAS AMBIENTALES",
           "(?)",
           "(?)"
          ],
          [
           "MINISTERIO DE AMBIENTE Y ESPACIO PUBLICO",
           "MINISTERIO DE AMBIENTE Y ESPACIO PUBLICO",
           "DIRECCION GENERAL INSPECCION DE HIGIENE URBANA",
           "(?)",
           "(?)"
          ],
          [
           "MINISTERIO DE AMBIENTE Y ESPACIO PUBLICO",
           "MINISTERIO DE AMBIENTE Y ESPACIO PUBLICO",
           "DIRECCION GENERAL OBRAS REGENERACION URBANA",
           "OBRAS DE REGENERACIONURBANA",
           "PARQUES URBANOS"
          ],
          [
           "MINISTERIO DE AMBIENTE Y ESPACIO PUBLICO",
           "MINISTERIO DE AMBIENTE Y ESPACIO PUBLICO",
           "DIRECCION GENERAL PLANIFICACION Y PRESUPUESTO",
           "PLANIFICACION Y PRESUPUESTO",
           "PLANIFICACION Y PRESUPUESTO"
          ],
          [
           "MINISTERIO DE AMBIENTE Y ESPACIO PUBLICO",
           "AGENCIA AMBIENTAL",
           "DIRECCION GENERAL POLITICA Y ESTRATEGIA AMBIENTAL",
           "(?)",
           "(?)"
          ],
          [
           "MINISTERIO DE AMBIENTE Y ESPACIO PUBLICO",
           "MINISTERIO DE AMBIENTE Y ESPACIO PUBLICO",
           "DIRECCION GENERAL REGENERACION URBANA",
           "REGENERACION URBANA",
           "OBRAS DE REGENERACION URBANA"
          ],
          [
           "MINISTERIO DE AMBIENTE Y ESPACIO PUBLICO",
           "MINISTERIO DE AMBIENTE Y ESPACIO PUBLICO",
           "DIRECCION GENERAL TECNICO ADMINISTRATIVA Y LEGAL",
           "(?)",
           "(?)"
          ],
          [
           "MINISTERIO DE ESPACIO PUBLICO E HIGIENE URBANA",
           "MINISTERIO DE ESPACIO PUBLICO E HIGIENE URBANA",
           "DIRECCION GENERAL TECNICO ADMINISTRATIVA Y LEGAL",
           "ASUNTOS LEGALES Y PRESUPUESTO",
           "ASUNTOS LEGALES Y PRESUPUESTO"
          ],
          [
           "MINISTERIO DE AMBIENTE Y ESPACIO PUBLICO",
           "MINISTERIO DE AMBIENTE Y ESPACIO PUBLICO",
           "DIRECCION GENERAL TRATAMIENTO Y NUEVAS TECNOLOGIAS",
           "TRATAMIENTO DE RESIDUOS SOLIDOS URBANOS",
           "TRATAMIENTO DE RESIDUOS ORGANICOS"
          ],
          [
           "MINISTERIO DE AMBIENTE Y ESPACIO PUBLICO",
           "ENTE DE HIGIENE URBANA",
           "ENTE DE HIGIENE URBANA",
           "RECOLECCION, BARRIDO E HIGIENE DE LA CIUDAD DE BUENOS AIRES",
           "RECOLECCION, BARRIDO E HIGIENE DE LA CIUDAD DE BUENOS AIRES"
          ],
          [
           "MINISTERIO DE ESPACIO PUBLICO E HIGIENE URBANA",
           "MINISTERIO DE ESPACIO PUBLICO E HIGIENE URBANA",
           "MIN.ESP.PUBLICO E HIG. URBANA",
           "ACT.CEN.ESP.PUB.HIG.URBANA",
           "ACT.CEN.ESP.PUB.HIG.URBANA"
          ],
          [
           "MINISTERIO DE AMBIENTE Y ESPACIO PUBLICO",
           "MINISTERIO DE AMBIENTE Y ESPACIO PUBLICO",
           "MINISTERIO AMBIENTE Y ESPACIO PUBLICO",
           "(?)",
           "(?)"
          ],
          [
           "MINISTERIO DE AMBIENTE Y ESPACIO PUBLICO",
           "MINISTERIO DE AMBIENTE Y ESPACIO PUBLICO",
           "SUBSECRETARIA DE ADMINISTRACION",
           "ACTIVIDADES COMUNES A LOS PROG 21 Y 22",
           "ACTIVIDADES COMUNES A LOS PROG 21 Y 22"
          ],
          [
           "MINISTERIO DE ESPACIO PUBLICO E HIGIENE URBANA",
           "MINISTERIO DE ESPACIO PUBLICO E HIGIENE URBANA",
           "SUBSECRETARIA DE ADMINISTRACION",
           "ACTIVIDADES COMUNES A LOS PROG 22 Y 23",
           "(?)"
          ],
          [
           "MINISTERIO DE AMBIENTE Y ESPACIO PUBLICO",
           "MINISTERIO DE AMBIENTE Y ESPACIO PUBLICO",
           "SUBSECRETARIA DE ADMINISTRACION GENERAL Y DE USO DEL ESPACIO PUBLICO",
           "ACTIVIDADES COMUNES A LOS PROG 21,22,23,75,76 Y 77",
           "ACTIVIDADES COMUNES A LOS PROG 21,22,23,75,76 Y 77"
          ],
          [
           "MINISTERIO DE AMBIENTE Y ESPACIO PUBLICO",
           "MINISTERIO DE AMBIENTE Y ESPACIO PUBLICO",
           "SUBSECRETARIA DE HIGIENE URBANA",
           "(?)",
           "(?)"
          ],
          [
           "MINISTERIO DE ESPACIO PUBLICO E HIGIENE URBANA",
           "MINISTERIO DE ESPACIO PUBLICO E HIGIENE URBANA",
           "SUBSECRETARIA DE HIGIENE URBANA",
           "ACTIVIDADES COMUNES A LOS PROGRAMAS: 11-52-57-58 Y 85",
           "ACTIVIDADES COMUNES A LOS PROGRAMAS: 11-52-57-58 Y 85"
          ],
          [
           "MINISTERIO DE AMBIENTE Y ESPACIO PUBLICO",
           "MINISTERIO DE AMBIENTE Y ESPACIO PUBLICO",
           "UPE ECOPARQUE INTERACTIVO DE LA CABA",
           "CONSERVACION DE LA BIODIVERSIDAD",
           "(?)"
          ],
          [
           "MINISTERIO DE AMBIENTE Y ESPACIO PUBLICO",
           "AGENCIA AMBIENTAL",
           "(?)",
           "(?)",
           "(?)"
          ],
          [
           "MINISTERIO DE AMBIENTE Y ESPACIO PUBLICO",
           "ENTE DE HIGIENE URBANA",
           "ENTE DE HIGIENE URBANA",
           "RECOLECCION, BARRIDO E HIGIENE DE LA CIUDAD DE BUENOS AIRES",
           "RECOLECCION, BARRIDO E HIGIENE DE LA CIUDAD DE BUENOS AIRES"
          ],
          [
           "MINISTERIO DE AMBIENTE Y ESPACIO PUBLICO",
           "MINISTERIO DE AMBIENTE Y ESPACIO PUBLICO",
           "(?)",
           "(?)",
           "(?)"
          ],
          [
           "MINISTERIO DE ESPACIO PUBLICO E HIGIENE URBANA",
           "MINISTERIO DE ESPACIO PUBLICO E HIGIENE URBANA",
           "(?)",
           "(?)",
           "(?)"
          ],
          [
           "MINISTERIO DE AMBIENTE Y ESPACIO PUBLICO",
           "(?)",
           "(?)",
           "(?)",
           "(?)"
          ],
          [
           "MINISTERIO DE ESPACIO PUBLICO E HIGIENE URBANA",
           "MINISTERIO DE ESPACIO PUBLICO E HIGIENE URBANA",
           "(?)",
           "(?)",
           "(?)"
          ]
         ],
         "domain": {
          "x": [
           0,
           1
          ],
          "y": [
           0,
           1
          ]
         },
         "hovertemplate": "<b>%{label}</b> <br>$%{value:,.0f}</b> \n            <br>\n                <br>JURISDICCION: %{customdata[0]}</b>\n                <br>UNIDAD_EJECUTORA: %{customdata[2]}</b> \n                <br>\n                    <br>PROGRAMA: %{customdata[3]}</b> \n                    <br>PROYECTO: %{customdata[4]}</b>\n                </b>\n            </b> ",
         "ids": [
          "MINISTERIO DE AMBIENTE Y ESPACIO PUBLICO/MINISTERIO DE AMBIENTE Y ESPACIO PUBLICO/DIRECCION GENERAL DE RECICLADO/RECICLADO DE RESIDUOS URBANOS/A.CU.MAR - CENTROS VERDES",
          "MINISTERIO DE AMBIENTE Y ESPACIO PUBLICO/MINISTERIO DE AMBIENTE Y ESPACIO PUBLICO/DIRECCION GENERAL DE LIMPIEZA/SERVICIOS DE HIGIENE URBANA/A.CU.MAR - RIACHUELO",
          "MINISTERIO DE AMBIENTE Y ESPACIO PUBLICO/MINISTERIO DE AMBIENTE Y ESPACIO PUBLICO/DIRECCION GENERAL DE ESPACIOS VERDES/CUIDADO Y PUESTA EN VALOR DE ESPACIOS VERDES/A.CU.MAR - VALORIZACION DE LOS ESPACIOS VERDES",
          "MINISTERIO DE AMBIENTE Y ESPACIO PUBLICO/AGENCIA AMBIENTAL/AGENCIA AMBIENTAL/ACTIV. COMUNES A LOS PROG. 91,92 ,93 Y 94/ACCIONES AMBIENTALES CABA",
          "MINISTERIO DE AMBIENTE Y ESPACIO PUBLICO/AGENCIA AMBIENTAL/DIRECCION GENERAL DE CONTROL/ACCIONES PARA LA RESTAURACION ECOLOGICA/ACCIONES PARA LA RESTAURACION ECOLOGICA",
          "MINISTERIO DE ESPACIO PUBLICO E HIGIENE URBANA/MINISTERIO DE ESPACIO PUBLICO E HIGIENE URBANA/MIN.ESP.PUBLICO E HIG. URBANA/ACT.CEN.ESP.PUB.HIG.URBANA/ACT.CEN.ESP.PUB.HIG.URBANA",
          "MINISTERIO DE AMBIENTE Y ESPACIO PUBLICO/AGENCIA AMBIENTAL/AGENCIA AMBIENTAL/ACTIV. COMUNES A LOS PROG. 91,92 ,93 Y 94/ACTIV. COMUNES A LOS PROG. 91,92 ,93 Y 94",
          "MINISTERIO DE AMBIENTE Y ESPACIO PUBLICO/AGENCIA AMBIENTAL/AGENCIA AMBIENTAL/ACTIV. COMUNES A LOS PROG. 91,92 Y93/ACTIV. COMUNES A LOS PROG. 91,92 Y93",
          "MINISTERIO DE AMBIENTE Y ESPACIO PUBLICO/MINISTERIO DE AMBIENTE Y ESPACIO PUBLICO/MINISTERIO AMBIENTE Y ESPACIO PUBLICO/ACTIVIDADES CENTRALES AMBIENTE Y ESPACIO PUBLICO/ACTIVIDADES CENTRALES AMBIENTE Y ESPACIO PUBLICO",
          "MINISTERIO DE AMBIENTE Y ESPACIO PUBLICO/AGENCIA AMBIENTAL/AGENCIA AMBIENTAL/ACTIVIDADES COMUMES A LOS PROGRAMAS 91,92,93,94,95,96/ACTIVIDADES COMUMES A LOS PROGRAMAS 91,92,93,94,95,96",
          "MINISTERIO DE AMBIENTE Y ESPACIO PUBLICO/MINISTERIO DE AMBIENTE Y ESPACIO PUBLICO/SUBSECRETARIA DE ADMINISTRACION/ACTIVIDADES COMUNES A LOS PROG 21 Y 22/ACTIVIDADES COMUNES A LOS PROG 21 Y 22",
          "MINISTERIO DE AMBIENTE Y ESPACIO PUBLICO/MINISTERIO DE AMBIENTE Y ESPACIO PUBLICO/SUBSECRETARIA DE ADMINISTRACION GENERAL Y DE USO DEL ESPACIO PUBLICO/ACTIVIDADES COMUNES A LOS PROG 21,22,23,75,76 Y 77/ACTIVIDADES COMUNES A LOS PROG 21,22,23,75,76 Y 77",
          "MINISTERIO DE ESPACIO PUBLICO E HIGIENE URBANA/MINISTERIO DE ESPACIO PUBLICO E HIGIENE URBANA/SUBSECRETARIA DE ADMINISTRACION/ACTIVIDADES COMUNES A LOS PROG 22 Y 23/ACTIVIDADES COMUNES A LOS PROG 22 Y 23",
          "MINISTERIO DE AMBIENTE Y ESPACIO PUBLICO/AGENCIA AMBIENTAL/AGENCIA AMBIENTAL/ACTIVIDADES COMUNES A LOS PROG. 91 AL 100 Y 102/ACTIVIDADES COMUNES A LOS PROG. 91 AL 100 Y 102",
          "MINISTERIO DE AMBIENTE Y ESPACIO PUBLICO/AGENCIA AMBIENTAL/AGENCIA AMBIENTAL/ACTIVIDADES COMUNES A LOS PROG. 91 AL 103/ACTIVIDADES COMUNES A LOS PROG. 91 AL 103",
          "MINISTERIO DE AMBIENTE Y ESPACIO PUBLICO/AGENCIA AMBIENTAL/AGENCIA AMBIENTAL/ACTIVIDADES COMUNES A LOS PROG. 91,92,93, 94,95 Y 96/ACTIVIDADES COMUNES A LOS PROG. 91,92,93, 94,95 Y 96",
          "MINISTERIO DE AMBIENTE Y ESPACIO PUBLICO/AGENCIA AMBIENTAL/AGENCIA AMBIENTAL/ACTIVIDADES COMUNES A LOS PROG. 91,92,93, 94,95, 96 Y 100/ACTIVIDADES COMUNES A LOS PROG. 91,92,93, 94,95, 96 Y 100",
          "MINISTERIO DE AMBIENTE Y ESPACIO PUBLICO/AGENCIA AMBIENTAL/AGENCIA AMBIENTAL/ACTIVIDADES COMUNES A LOS PROGRAMAS 91,92 Y 93/ACTIVIDADES COMUNES A LOS PROGRAMAS 91,92 Y 93",
          "MINISTERIO DE AMBIENTE Y ESPACIO PUBLICO/MINISTERIO DE AMBIENTE Y ESPACIO PUBLICO/SUBSECRETARIA DE HIGIENE URBANA/ACTIVIDADES COMUNES A LOS PROGRAMAS: 11-52-53-56-57-58-59/ACTIVIDADES COMUNES A LOS PROGRAMAS: 11-52-53-56-57-58-59",
          "MINISTERIO DE AMBIENTE Y ESPACIO PUBLICO/MINISTERIO DE AMBIENTE Y ESPACIO PUBLICO/SUBSECRETARIA DE HIGIENE URBANA/ACTIVIDADES COMUNES A LOS PROGRAMAS: 11-52-53-56-57-58-59 Y 85/ACTIVIDADES COMUNES A LOS PROGRAMAS: 11-52-53-56-57-58-59 Y 85",
          "MINISTERIO DE AMBIENTE Y ESPACIO PUBLICO/MINISTERIO DE AMBIENTE Y ESPACIO PUBLICO/SUBSECRETARIA DE HIGIENE URBANA/ACTIVIDADES COMUNES A LOS PROGRAMAS: 11-52-53-56-57-58-59-79-85/ACTIVIDADES COMUNES A LOS PROGRAMAS: 11-52-53-56-57-58-59-79-85",
          "MINISTERIO DE AMBIENTE Y ESPACIO PUBLICO/MINISTERIO DE AMBIENTE Y ESPACIO PUBLICO/SUBSECRETARIA DE HIGIENE URBANA/ACTIVIDADES COMUNES A LOS PROGRAMAS: 11-52-53-56-57-85/ACTIVIDADES COMUNES A LOS PROGRAMAS: 11-52-53-56-57-85",
          "MINISTERIO DE AMBIENTE Y ESPACIO PUBLICO/MINISTERIO DE AMBIENTE Y ESPACIO PUBLICO/SUBSECRETARIA DE HIGIENE URBANA/ACTIVIDADES COMUNES A LOS PROGRAMAS: 11-52-53-57-58-59/ACTIVIDADES COMUNES A LOS PROGRAMAS: 11-52-53-57-58-59",
          "MINISTERIO DE AMBIENTE Y ESPACIO PUBLICO/MINISTERIO DE AMBIENTE Y ESPACIO PUBLICO/SUBSECRETARIA DE HIGIENE URBANA/ACTIVIDADES COMUNES A LOS PROGRAMAS: 11-52-53-57-58-59 Y 85/ACTIVIDADES COMUNES A LOS PROGRAMAS: 11-52-53-57-58-59 Y 85",
          "MINISTERIO DE ESPACIO PUBLICO E HIGIENE URBANA/MINISTERIO DE ESPACIO PUBLICO E HIGIENE URBANA/SUBSECRETARIA DE HIGIENE URBANA/ACTIVIDADES COMUNES A LOS PROGRAMAS: 11-52-57-58 Y 85/ACTIVIDADES COMUNES A LOS PROGRAMAS: 11-52-57-58 Y 85",
          "MINISTERIO DE AMBIENTE Y ESPACIO PUBLICO/MINISTERIO DE AMBIENTE Y ESPACIO PUBLICO/SUBSECRETARIA DE HIGIENE URBANA/ACTIVIDADES COMUNES A LOS PROGRAMAS: 52.53.56.57 Y 85/ACTIVIDADES COMUNES A LOS PROGRAMAS: 52.53.56.57 Y 85",
          "MINISTERIO DE AMBIENTE Y ESPACIO PUBLICO/AGENCIA AMBIENTAL/AGENCIA AMBIENTAL/ACTIVIDADES COMUMES A LOS PROGRAMAS 91,92,93,94,95,96/AMPLIACION CIFA PARA SU TRANSFORMACION EN CENTRO METROPOLITANO VERDE",
          "MINISTERIO DE AMBIENTE Y ESPACIO PUBLICO/AGENCIA AMBIENTAL/AGENCIA AMBIENTAL/ACTIVIDADES COMUNES A LOS PROGRAMAS 91,92 Y 93/ANALISIS DE SUSTANCIAS CONTAMINANTES EN AGUA, AIRE Y SUELO",
          "MINISTERIO DE AMBIENTE Y ESPACIO PUBLICO/MINISTERIO DE AMBIENTE Y ESPACIO PUBLICO/DIRECCION GENERAL DE ARBOLADO/ARBOLADO URBANO/ARBOLADO URBANO",
          "MINISTERIO DE AMBIENTE Y ESPACIO PUBLICO/MINISTERIO DE AMBIENTE Y ESPACIO PUBLICO/DIRECCION GENERAL TECNICO ADMINISTRATIVA Y LEGAL/ASUNTOS LEGALES Y PRESUPUESTO/ASUNTOS LEGALES Y PRESUPUESTO",
          "MINISTERIO DE ESPACIO PUBLICO E HIGIENE URBANA/MINISTERIO DE ESPACIO PUBLICO E HIGIENE URBANA/DIRECCION GENERAL TECNICO ADMINISTRATIVA Y LEGAL/ASUNTOS LEGALES Y PRESUPUESTO/ASUNTOS LEGALES Y PRESUPUESTO",
          "MINISTERIO DE AMBIENTE Y ESPACIO PUBLICO/AGENCIA AMBIENTAL/DIRECCION GENERAL DE EVALUACION TECNICA/BUENOS AIRES PRODUCE MAS LIMPIO (P+L)/BUENOS AIRES PRODUCE MAS LIMPIO (P+L)",
          "MINISTERIO DE AMBIENTE Y ESPACIO PUBLICO/AGENCIA AMBIENTAL/DIRECCION GENERAL ESTRATEGIAS AMBIENTALES/BUENOS AIRES PRODUCE MAS LIMPIO (P+L)/BUENOS AIRES PRODUCE MAS LIMPIO (P+L)",
          "MINISTERIO DE AMBIENTE Y ESPACIO PUBLICO/AGENCIA AMBIENTAL/DIRECCION GENERAL POLITICA Y ESTRATEGIA AMBIENTAL/BUENOS AIRES PRODUCE MAS LIMPIO (P+L)/BUENOS AIRES PRODUCE MAS LIMPIO (P+L)",
          "MINISTERIO DE AMBIENTE Y ESPACIO PUBLICO/AGENCIA AMBIENTAL/AGENCIA AMBIENTAL/ACTIV. COMUNES A LOS PROG. 91,92 ,93 Y 94/CENTRO DE INFORMACION Y FORMACION AMBIENTAL",
          "MINISTERIO DE AMBIENTE Y ESPACIO PUBLICO/AGENCIA AMBIENTAL/AGENCIA AMBIENTAL/CENTROS DE ATENCION VETERINARIA/CENTROS DE ATENCION VETERINARIA",
          "MINISTERIO DE AMBIENTE Y ESPACIO PUBLICO/AGENCIA AMBIENTAL/DIRECCION GENERAL ESTRATEGIAS AMBIENTALES/CENTROS DE ATENCION VETERINARIA/CENTROS DE ATENCION VETERINARIA",
          "MINISTERIO DE AMBIENTE Y ESPACIO PUBLICO/MINISTERIO DE AMBIENTE Y ESPACIO PUBLICO/DIRECCION GENERAL DE RECICLADO/RECICLADO DE RESIDUOS URBANOS/CENTROS VERDES",
          "MINISTERIO DE AMBIENTE Y ESPACIO PUBLICO/AGENCIA AMBIENTAL/AGENCIA AMBIENTAL/COMPENSACION AMBIENTAL/COMPENSACION AMBIENTAL",
          "MINISTERIO DE AMBIENTE Y ESPACIO PUBLICO/AGENCIA AMBIENTAL/DIRECCION GENERAL DE EVALUACION AMBIENTAL/COMPENSACION AMBIENTAL/COMPENSACION AMBIENTAL",
          "MINISTERIO DE AMBIENTE Y ESPACIO PUBLICO/MINISTERIO DE AMBIENTE Y ESPACIO PUBLICO/UPE ECOPARQUE INTERACTIVO DE LA CABA/CONSERVACION DE LA BIODIVERSIDAD/CONSERVACION DE LA BIODIVERSIDAD",
          "MINISTERIO DE AMBIENTE Y ESPACIO PUBLICO/MINISTERIO DE AMBIENTE Y ESPACIO PUBLICO/DIRECCION GENERAL DE LIMPIEZA/SERVICIOS DE HIGIENE URBANA/CONTENERIZACION",
          "MINISTERIO DE AMBIENTE Y ESPACIO PUBLICO/AGENCIA AMBIENTAL/DIRECCION GENERAL DE CONTROL/CONTROL AMBIENTAL/CONTROL AMBIENTAL",
          "MINISTERIO DE AMBIENTE Y ESPACIO PUBLICO/MINISTERIO DE AMBIENTE Y ESPACIO PUBLICO/DIRECCION GENERAL CONTROL DE GESTION/CONTROL DE GESTION/CONTROL DE GESTION",
          "MINISTERIO DE AMBIENTE Y ESPACIO PUBLICO/MINISTERIO DE AMBIENTE Y ESPACIO PUBLICO/DIRECCION GENERAL CONTROL DE GESTION/CONTROL DE GESTION Y RECLAMOS/CONTROL DE GESTION Y RECLAMOS",
          "MINISTERIO DE ESPACIO PUBLICO E HIGIENE URBANA/MINISTERIO DE ESPACIO PUBLICO E HIGIENE URBANA/DIRECCION GENERAL CONTROL DE GESTION/CONTROL DE GESTION Y RECLAMOS/CONTROL DE GESTION Y RECLAMOS",
          "MINISTERIO DE AMBIENTE Y ESPACIO PUBLICO/MINISTERIO DE AMBIENTE Y ESPACIO PUBLICO/DIRECCION GENERAL DE LIMPIEZA/CONTROL DE HIGIENE EN VIA PUBLICA E INMUEBLES/CONTROL DE HIGIENE EN VIA PUBLICA E INMUEBLES",
          "MINISTERIO DE AMBIENTE Y ESPACIO PUBLICO/MINISTERIO DE AMBIENTE Y ESPACIO PUBLICO/DIRECCION GENERAL INSPECCION DE HIGIENE URBANA/CONTROL DE HIGIENE EN VIA PUBLICA E INMUEBLES/CONTROL DE HIGIENE EN VIA PUBLICA E INMUEBLES",
          "MINISTERIO DE AMBIENTE Y ESPACIO PUBLICO/MINISTERIO DE AMBIENTE Y ESPACIO PUBLICO/SUBSECRETARIA DE HIGIENE URBANA/CONTROL DE HIGIENE EN VIA PUBLICA E INMUEBLES/CONTROL DE HIGIENE EN VIA PUBLICA E INMUEBLES",
          "MINISTERIO DE AMBIENTE Y ESPACIO PUBLICO/MINISTERIO DE AMBIENTE Y ESPACIO PUBLICO/DIRECCION GENERAL DE LIMPIEZA/CONTROL DE PLAGAS/CONTROL DE PLAGAS",
          "MINISTERIO DE ESPACIO PUBLICO E HIGIENE URBANA/MINISTERIO DE ESPACIO PUBLICO E HIGIENE URBANA/DIRECCION GENERAL DE LIMPIEZA/CONTROL DE PLAGAS/CONTROL DE PLAGAS",
          "MINISTERIO DE AMBIENTE Y ESPACIO PUBLICO/MINISTERIO DE AMBIENTE Y ESPACIO PUBLICO/DIRECCION GENERAL INSPECCION DE HIGIENE URBANA/CONTROL DE PLAGAS/CONTROL DE PLAGAS",
          "MINISTERIO DE AMBIENTE Y ESPACIO PUBLICO/AGENCIA AMBIENTAL/DIRECCION GENERAL ESTRATEGIAS AMBIENTALES/ESTRATEGIAS AMBIENTALES/CUBIERTA VERDE",
          "MINISTERIO DE AMBIENTE Y ESPACIO PUBLICO/AGENCIA AMBIENTAL/DIRECCION GENERAL ESTRATEGIAS AMBIENTALES/ESTRATEGIAS AMBIENTALES/CUBIERTA VERDE EN LA CABA",
          "MINISTERIO DE AMBIENTE Y ESPACIO PUBLICO/MINISTERIO DE AMBIENTE Y ESPACIO PUBLICO/DIRECCION GENERAL DE ARBOLADO/ARBOLADO URBANO/CUIDADO Y PRESERVACION DEL ARBOLADO URBANO",
          "MINISTERIO DE AMBIENTE Y ESPACIO PUBLICO/MINISTERIO DE AMBIENTE Y ESPACIO PUBLICO/DIRECCION GENERAL DE ESPACIOS VERDES/CUIDADO Y PUESTA EN VALOR DE ESPACIOS VERDES/CUIDADO Y PRESERVACION DEL ARBOLADO URBANO",
          "MINISTERIO DE AMBIENTE Y ESPACIO PUBLICO/MINISTERIO DE AMBIENTE Y ESPACIO PUBLICO/DIRECCION GENERAL DE ESPACIOS VERDES/CUIDADO Y PUESTA EN VALOR DE ESPACIOS VERDES/CUIDADO Y PUESTA EN VALOR DE ESPACIOS VERDES",
          "MINISTERIO DE AMBIENTE Y ESPACIO PUBLICO/MINISTERIO DE AMBIENTE Y ESPACIO PUBLICO/DIRECCION GENERAL DE ESPACIOS VERDES/CUIDADO Y PUESTA EN VALOR DE ESPACIOS VERDES/CUIDADO Y PUESTA EN VALOR DE GRANDES PARQUES",
          "MINISTERIO DE AMBIENTE Y ESPACIO PUBLICO/MINISTERIO DE AMBIENTE Y ESPACIO PUBLICO/DIRECCION GENERAL DE ESPACIOS VERDES/CUIDADO Y PUESTA EN VALOR DE ESPACIOS VERDES/CUIDADO Y PUESTA EN VALOR DEL PATRIMONIO CULTURAL Y NATURAL DE LOS ESPACIOS VERDES",
          "MINISTERIO DE AMBIENTE Y ESPACIO PUBLICO/AGENCIA AMBIENTAL/DIRECCION GENERAL ESTRATEGIAS AMBIENTALES/ESTRATEGIAS AMBIENTALES/DESARROLLO DE LA RED DE AIRE Y RUIDO EN LA CIUDAD DE BUENOS AIRES.",
          "MINISTERIO DE AMBIENTE Y ESPACIO PUBLICO/AGENCIA AMBIENTAL/DIRECCION GENERAL ESTRATEGIAS AMBIENTALES/PLANEAMIENTO DE LA GESTION AMBIENTAL SOSTENIBLE/DESARROLLO DE LA RED DE AIRE Y RUIDO EN LA CIUDAD DE BUENOS AIRES.",
          "MINISTERIO DE AMBIENTE Y ESPACIO PUBLICO/MINISTERIO DE AMBIENTE Y ESPACIO PUBLICO/DIRECCION GENERAL DE LIMPIEZA/SERVICIOS DE HIGIENE URBANA/DISPOSICION FINAL RESIDUOS SOLIDOS URBANOS",
          "MINISTERIO DE AMBIENTE Y ESPACIO PUBLICO/AGENCIA AMBIENTAL/AGENCIA AMBIENTAL/REDES AMBIENTALES/ESTACIONES MONITOREO CALIDAD DEL AGUA EN RED DE HIDROMETEREOLOGIA DE CABA",
          "MINISTERIO DE AMBIENTE Y ESPACIO PUBLICO/AGENCIA AMBIENTAL/DIRECCION GENERAL ESTRATEGIAS AMBIENTALES/ESTRATEGIAS AMBIENTALES/ESTRATEGIAS AMBIENTALES",
          "MINISTERIO DE AMBIENTE Y ESPACIO PUBLICO/AGENCIA AMBIENTAL/DIRECCION GENERAL POLITICA Y ESTRATEGIA AMBIENTAL/ESTRATEGIAS AMBIENTALES/ESTRATEGIAS AMBIENTALES",
          "MINISTERIO DE AMBIENTE Y ESPACIO PUBLICO/AGENCIA AMBIENTAL/DIRECCION GENERAL DE EVALUACION AMBIENTAL/EVALUACION TECNICA/EVALUACION TECNICA",
          "MINISTERIO DE AMBIENTE Y ESPACIO PUBLICO/AGENCIA AMBIENTAL/DIRECCION GENERAL DE EVALUACION TECNICA/EVALUACION TECNICA/EVALUACION TECNICA",
          "MINISTERIO DE AMBIENTE Y ESPACIO PUBLICO/AGENCIA AMBIENTAL/AGENCIA AMBIENTAL/GESTION AMBIENTAL/GESTION AMBIENTAL",
          "MINISTERIO DE AMBIENTE Y ESPACIO PUBLICO/AGENCIA AMBIENTAL/DIRECCION GENERAL ESTRATEGIAS AMBIENTALES/ESTRATEGIAS AMBIENTALES/HOGAR TRANSITORIO DE MASCOTAS",
          "MINISTERIO DE ESPACIO PUBLICO E HIGIENE URBANA/MINISTERIO DE ESPACIO PUBLICO E HIGIENE URBANA/SUBSECRETARIA DE ADMINISTRACION/ACTIVIDADES COMUNES A LOS PROG 22 Y 23/INSPECCION DEL USO DEL ESPACIO PUBLICO",
          "MINISTERIO DE AMBIENTE Y ESPACIO PUBLICO/MINISTERIO DE AMBIENTE Y ESPACIO PUBLICO/DIRECCION GENERAL DE ARBOLADO/ARBOLADO URBANO/INTERVENCIONES SOBRE EL ARBOLADO",
          "MINISTERIO DE AMBIENTE Y ESPACIO PUBLICO/AGENCIA AMBIENTAL/AGENCIA AMBIENTAL/INTERVENCIONES VETERINARIAS/INTERVENCIONES VETERINARIAS",
          "MINISTERIO DE AMBIENTE Y ESPACIO PUBLICO/MINISTERIO DE AMBIENTE Y ESPACIO PUBLICO/DIRECCION GENERAL DE ESPACIOS VERDES/CUIDADO Y PUESTA EN VALOR DE ESPACIOS VERDES/JARDIN BOTANICO CARLOS THAYS",
          "MINISTERIO DE AMBIENTE Y ESPACIO PUBLICO/AGENCIA AMBIENTAL/DIRECCION GENERAL DE CONTROL/LABORATORIO DE ANALISIS Y CALIDAD AMBIENTAL/LABORATORIO DE ANALISIS Y CALIDAD AMBIENTAL",
          "MINISTERIO DE AMBIENTE Y ESPACIO PUBLICO/AGENCIA AMBIENTAL/DIRECCION GENERAL DE EVALUACION TECNICA/LABORATORIO DE ANALISIS Y CALIDAD AMBIENTAL/LABORATORIO DE ANALISIS Y CALIDAD AMBIENTAL",
          "MINISTERIO DE AMBIENTE Y ESPACIO PUBLICO/MINISTERIO DE AMBIENTE Y ESPACIO PUBLICO/DIRECCION GENERAL DE ESPACIOS VERDES/CUIDADO Y PUESTA EN VALOR DE ESPACIOS VERDES/OBRAS BA ELIGE EV",
          "MINISTERIO DE AMBIENTE Y ESPACIO PUBLICO/AGENCIA AMBIENTAL/AGENCIA AMBIENTAL/COMPENSACION AMBIENTAL/OBRAS CORRECTIVAS DE RECOMPOSICION PREDIOS CONTAMINADOS REQUERIDOS POR IVC",
          "MINISTERIO DE AMBIENTE Y ESPACIO PUBLICO/AGENCIA AMBIENTAL/DIRECCION GENERAL DE EVALUACION TECNICA/COMPENSACION AMBIENTAL/OBRAS CORRECTIVAS DE RECOMPOSICION PREDIOS CONTAMINADOS REQUERIDOS POR IVC",
          "MINISTERIO DE AMBIENTE Y ESPACIO PUBLICO/MINISTERIO DE AMBIENTE Y ESPACIO PUBLICO/DIRECCION GENERAL DE ESPACIOS VERDES/CUIDADO Y PUESTA EN VALOR DE ESPACIOS VERDES/OBRAS DE ESPACIOS VERDES",
          "MINISTERIO DE AMBIENTE Y ESPACIO PUBLICO/MINISTERIO DE AMBIENTE Y ESPACIO PUBLICO/DIRECCION GENERAL DE ESPACIOS VERDES/CUIDADO Y PUESTA EN VALOR DE ESPACIOS VERDES/OBRAS DE ESPACIOS VERDES II",
          "MINISTERIO DE AMBIENTE Y ESPACIO PUBLICO/MINISTERIO DE AMBIENTE Y ESPACIO PUBLICO/DIRECCION GENERAL REGENERACION URBANA/REGENERACION URBANA/OBRAS DE REGENERACION URBANA",
          "MINISTERIO DE AMBIENTE Y ESPACIO PUBLICO/MINISTERIO DE AMBIENTE Y ESPACIO PUBLICO/UPE ECOPARQUE INTERACTIVO DE LA CABA/CONSERVACION DE LA BIODIVERSIDAD/OBRAS ECOPARQUE MAYEP",
          "MINISTERIO DE AMBIENTE Y ESPACIO PUBLICO/MINISTERIO DE AMBIENTE Y ESPACIO PUBLICO/DIRECCION GENERAL OBRAS REGENERACION URBANA/OBRAS DE REGENERACIONURBANA/PARQUES URBANOS",
          "MINISTERIO DE AMBIENTE Y ESPACIO PUBLICO/AGENCIA AMBIENTAL/DIRECCION GENERAL ESTRATEGIAS AMBIENTALES/PLANEAMIENTO DE LA GESTION AMBIENTAL SOSTENIBLE/PLANEAMIENTO DE LA GESTION AMBIENTAL SOSTENIBLE",
          "MINISTERIO DE AMBIENTE Y ESPACIO PUBLICO/MINISTERIO DE AMBIENTE Y ESPACIO PUBLICO/DIRECCION GENERAL PLANIFICACION Y PRESUPUESTO/PLANIFICACION Y PRESUPUESTO/PLANIFICACION Y PRESUPUESTO",
          "MINISTERIO DE AMBIENTE Y ESPACIO PUBLICO/AGENCIA AMBIENTAL/DIRECCION GENERAL DE EVALUACION TECNICA/PREVENC.AMB.EVALUAC.TECNICA Y CERTIFICADOS AMBIENTALES/PREVENC.AMB.EVALUAC.TECNICA Y CERTIFICADOS AMBIENTALES",
          "MINISTERIO DE AMBIENTE Y ESPACIO PUBLICO/AGENCIA AMBIENTAL/DIRECCION GENERAL DE EVALUACION TECNICA/PREVENCION AMBIENTAL EVALUACION TECNICA Y REGISTROS AMBIENTALES/PREVENCION AMBIENTAL EVALUACION TECNICA Y REGISTROS AMBIENTALES",
          "MINISTERIO DE AMBIENTE Y ESPACIO PUBLICO/AGENCIA AMBIENTAL/DIRECCION GENERAL POLITICA Y ESTRATEGIA AMBIENTAL/PROGRAMA DE CAMBIO CLIMATICO E INFORMACION AMBIENTAL/PROGRAMA DE CAMBIO CLIMATICO E INFORMACION AMBIENTAL",
          "MINISTERIO DE AMBIENTE Y ESPACIO PUBLICO/AGENCIA AMBIENTAL/DIRECCION GENERAL POLITICA Y ESTRATEGIA AMBIENTAL/PROGRAMA DE GESTION ENERGETICA/PROGRAMA DE GESTION ENERGETICA",
          "MINISTERIO DE AMBIENTE Y ESPACIO PUBLICO/AGENCIA AMBIENTAL/DIRECCION GENERAL POLITICA Y ESTRATEGIA AMBIENTAL/PROGRAMA DE RESIDUOS DE MANEJO ESPECIAL/PROGRAMA DE RESIDUOS DE MANEJO ESPECIAL",
          "MINISTERIO DE AMBIENTE Y ESPACIO PUBLICO/AGENCIA AMBIENTAL/AGENCIA AMBIENTAL/PROTECCION Y SANIDAD ANIMAL/PROTECCION Y SANIDAD ANIMAL",
          "MINISTERIO DE AMBIENTE Y ESPACIO PUBLICO/AGENCIA AMBIENTAL/DIRECCION GENERAL ESTRATEGIAS AMBIENTALES/PROTECCION Y SANIDAD ANIMAL/PROTECCION Y SANIDAD ANIMAL",
          "MINISTERIO DE AMBIENTE Y ESPACIO PUBLICO/AGENCIA AMBIENTAL/AGENCIA AMBIENTAL/GESTION AMBIENTAL/PROYECTOS ACUMAR",
          "MINISTERIO DE AMBIENTE Y ESPACIO PUBLICO/MINISTERIO DE AMBIENTE Y ESPACIO PUBLICO/DIRECCION GENERAL INSPECCION DE HIGIENE URBANA/CONTROL DE HIGIENE EN VIA PUBLICA E INMUEBLES/PUESTA EN VALOR DE EDIFICIOS",
          "MINISTERIO DE AMBIENTE Y ESPACIO PUBLICO/AGENCIA AMBIENTAL/AGENCIA AMBIENTAL/ACTIV. COMUNES A LOS PROG. 91,92 ,93 Y 94/PUESTA EN VALOR DE LAS OFICINAS DE LA AGENCIA DE PROTECCION AMBIENTAL",
          "MINISTERIO DE AMBIENTE Y ESPACIO PUBLICO/AGENCIA AMBIENTAL/DIRECCION GENERAL ESTRATEGIAS AMBIENTALES/ESTRATEGIAS AMBIENTALES/PUESTA EN VALOR DEPOSITO RAES",
          "MINISTERIO DE AMBIENTE Y ESPACIO PUBLICO/MINISTERIO DE AMBIENTE Y ESPACIO PUBLICO/DIRECCION GENERAL DE ESPACIOS VERDES/CUIDADO Y PUESTA EN VALOR DE ESPACIOS VERDES/PUESTA EN VALOR EDIFICIOS",
          "MINISTERIO DE AMBIENTE Y ESPACIO PUBLICO/MINISTERIO DE AMBIENTE Y ESPACIO PUBLICO/DIRECCION GENERAL DE RECICLADO/RECICLADO DE RESIDUOS URBANOS/RECICLADO DE RESIDUOS URBANOS",
          "MINISTERIO DE AMBIENTE Y ESPACIO PUBLICO/ENTE DE HIGIENE URBANA/ENTE DE HIGIENE URBANA/RECOLECCION, BARRIDO E HIGIENE DE LA CIUDAD DE BUENOS AIRES/RECOLECCION, BARRIDO E HIGIENE DE LA CIUDAD DE BUENOS AIRES",
          "MINISTERIO DE AMBIENTE Y ESPACIO PUBLICO/AGENCIA AMBIENTAL/DIRECCION GENERAL ESTRATEGIAS AMBIENTALES/ESTRATEGIAS AMBIENTALES/RED DE MONITOREO AMBIENTAL",
          "MINISTERIO DE AMBIENTE Y ESPACIO PUBLICO/AGENCIA AMBIENTAL/DIRECCION GENERAL ESTRATEGIAS AMBIENTALES/ESTRATEGIAS AMBIENTALES/RED DE MONITOREO DE LA CALIDAD DEL AGUA SUPERFICIAL DE LA CABA.",
          "MINISTERIO DE AMBIENTE Y ESPACIO PUBLICO/AGENCIA AMBIENTAL/DIRECCION GENERAL ESTRATEGIAS AMBIENTALES/PLANEAMIENTO DE LA GESTION AMBIENTAL SOSTENIBLE/RED DE MONITOREO DE LA CALIDAD DEL AGUA SUPERFICIAL DE LA CABA.",
          "MINISTERIO DE AMBIENTE Y ESPACIO PUBLICO/AGENCIA AMBIENTAL/AGENCIA AMBIENTAL/REDES AMBIENTALES/REDES AMBIENTALES",
          "MINISTERIO DE AMBIENTE Y ESPACIO PUBLICO/AGENCIA AMBIENTAL/DIRECCION GENERAL DE CONTROL/REDES AMBIENTALES/REDES AMBIENTALES",
          "MINISTERIO DE AMBIENTE Y ESPACIO PUBLICO/AGENCIA AMBIENTAL/AGENCIA AMBIENTAL/ACTIV. COMUNES A LOS PROG. 91,92 ,93 Y 94/REMEDIACION AMBIENTAL GCBA",
          "MINISTERIO DE AMBIENTE Y ESPACIO PUBLICO/AGENCIA AMBIENTAL/AGENCIA AMBIENTAL/COMPENSACION AMBIENTAL/REMEDIACION Y MITIGACION AMBIENTAL",
          "MINISTERIO DE AMBIENTE Y ESPACIO PUBLICO/MINISTERIO DE AMBIENTE Y ESPACIO PUBLICO/MINISTERIO AMBIENTE Y ESPACIO PUBLICO/MANTENIMIENTO ZONA PUERTO MADERO/REPARACION Y MEJORAS EN BARRIOS DE BUENOS AIRES",
          "MINISTERIO DE AMBIENTE Y ESPACIO PUBLICO/AGENCIA AMBIENTAL/AGENCIA AMBIENTAL/ACTIV. COMUNES A LOS PROG. 91,92 ,93 Y 94/RESTAURACION Y MITIGACION GCBA",
          "MINISTERIO DE AMBIENTE Y ESPACIO PUBLICO/AGENCIA AMBIENTAL/AGENCIA AMBIENTAL/ACTIV. COMUNES A LOS PROG. 91,92 ,93 Y 94/SANEAMIENTO Y REMEDIACION DE SUELOS CONTAMINADOS ACHA 2102/04 Y MENDOZA",
          "MINISTERIO DE AMBIENTE Y ESPACIO PUBLICO/AGENCIA AMBIENTAL/AGENCIA AMBIENTAL/SANIDAD Y TENENCIA RESPONSABLE DE MASCOTAS/SANIDAD Y TENENCIA RESPONSABLE DE MASCOTAS",
          "MINISTERIO DE AMBIENTE Y ESPACIO PUBLICO/MINISTERIO DE AMBIENTE Y ESPACIO PUBLICO/DIRECCION GENERAL DE LIMPIEZA/SERVICIOS DE HIGIENE URBANA/SERVICIO DE LIMPIEZA DE ARROYOS",
          "MINISTERIO DE AMBIENTE Y ESPACIO PUBLICO/MINISTERIO DE AMBIENTE Y ESPACIO PUBLICO/MINISTERIO AMBIENTE Y ESPACIO PUBLICO/SERVICIOS DE ADMINISTRACION/SERVICIOS DE ADMINISTRACION",
          "MINISTERIO DE AMBIENTE Y ESPACIO PUBLICO/AGENCIA AMBIENTAL/DIRECCION GENERAL DE EVALUACION TECNICA/COMPENSACION AMBIENTAL/SITIOS CONTAMINADOS",
          "MINISTERIO DE AMBIENTE Y ESPACIO PUBLICO/MINISTERIO DE AMBIENTE Y ESPACIO PUBLICO/DIRECCION GENERAL TECNICO ADMINISTRATIVA Y LEGAL/TECNICA ADMINISTRATIVA Y LEGAL/TECNICA ADMINISTRATIVA Y LEGAL",
          "MINISTERIO DE AMBIENTE Y ESPACIO PUBLICO/MINISTERIO DE AMBIENTE Y ESPACIO PUBLICO/DIRECCION GENERAL TRATAMIENTO Y NUEVAS TECNOLOGIAS/TRATAMIENTO DE RESIDUOS SOLIDOS URBANOS/TRATAMIENTO DE RESIDUOS ORGANICOS",
          "MINISTERIO DE AMBIENTE Y ESPACIO PUBLICO/MINISTERIO DE AMBIENTE Y ESPACIO PUBLICO/DIRECCION GENERAL DE ESPACIOS VERDES/CUIDADO Y PUESTA EN VALOR DE ESPACIOS VERDES/VALORIZACION DE LOS ESPACIOS VERDES",
          "MINISTERIO DE AMBIENTE Y ESPACIO PUBLICO/MINISTERIO DE AMBIENTE Y ESPACIO PUBLICO/DIRECCION GENERAL DE ESPACIOS VERDES/CUIDADO Y PUESTA EN VALOR DE ESPACIOS VERDES/VALORIZACION DE LOS ESPACIOS VERDES DE LA CIUDAD",
          "MINISTERIO DE AMBIENTE Y ESPACIO PUBLICO/AGENCIA AMBIENTAL/DIRECCION GENERAL DE CONTROL/ACCIONES PARA LA RESTAURACION ECOLOGICA",
          "MINISTERIO DE ESPACIO PUBLICO E HIGIENE URBANA/MINISTERIO DE ESPACIO PUBLICO E HIGIENE URBANA/MIN.ESP.PUBLICO E HIG. URBANA/ACT.CEN.ESP.PUB.HIG.URBANA",
          "MINISTERIO DE AMBIENTE Y ESPACIO PUBLICO/AGENCIA AMBIENTAL/AGENCIA AMBIENTAL/ACTIV. COMUNES A LOS PROG. 91,92 ,93 Y 94",
          "MINISTERIO DE AMBIENTE Y ESPACIO PUBLICO/AGENCIA AMBIENTAL/AGENCIA AMBIENTAL/ACTIV. COMUNES A LOS PROG. 91,92 Y93",
          "MINISTERIO DE AMBIENTE Y ESPACIO PUBLICO/MINISTERIO DE AMBIENTE Y ESPACIO PUBLICO/MINISTERIO AMBIENTE Y ESPACIO PUBLICO/ACTIVIDADES CENTRALES AMBIENTE Y ESPACIO PUBLICO",
          "MINISTERIO DE AMBIENTE Y ESPACIO PUBLICO/AGENCIA AMBIENTAL/AGENCIA AMBIENTAL/ACTIVIDADES COMUMES A LOS PROGRAMAS 91,92,93,94,95,96",
          "MINISTERIO DE AMBIENTE Y ESPACIO PUBLICO/MINISTERIO DE AMBIENTE Y ESPACIO PUBLICO/SUBSECRETARIA DE ADMINISTRACION/ACTIVIDADES COMUNES A LOS PROG 21 Y 22",
          "MINISTERIO DE AMBIENTE Y ESPACIO PUBLICO/MINISTERIO DE AMBIENTE Y ESPACIO PUBLICO/SUBSECRETARIA DE ADMINISTRACION GENERAL Y DE USO DEL ESPACIO PUBLICO/ACTIVIDADES COMUNES A LOS PROG 21,22,23,75,76 Y 77",
          "MINISTERIO DE ESPACIO PUBLICO E HIGIENE URBANA/MINISTERIO DE ESPACIO PUBLICO E HIGIENE URBANA/SUBSECRETARIA DE ADMINISTRACION/ACTIVIDADES COMUNES A LOS PROG 22 Y 23",
          "MINISTERIO DE AMBIENTE Y ESPACIO PUBLICO/AGENCIA AMBIENTAL/AGENCIA AMBIENTAL/ACTIVIDADES COMUNES A LOS PROG. 91 AL 100 Y 102",
          "MINISTERIO DE AMBIENTE Y ESPACIO PUBLICO/AGENCIA AMBIENTAL/AGENCIA AMBIENTAL/ACTIVIDADES COMUNES A LOS PROG. 91 AL 103",
          "MINISTERIO DE AMBIENTE Y ESPACIO PUBLICO/AGENCIA AMBIENTAL/AGENCIA AMBIENTAL/ACTIVIDADES COMUNES A LOS PROG. 91,92,93, 94,95 Y 96",
          "MINISTERIO DE AMBIENTE Y ESPACIO PUBLICO/AGENCIA AMBIENTAL/AGENCIA AMBIENTAL/ACTIVIDADES COMUNES A LOS PROG. 91,92,93, 94,95, 96 Y 100",
          "MINISTERIO DE AMBIENTE Y ESPACIO PUBLICO/AGENCIA AMBIENTAL/AGENCIA AMBIENTAL/ACTIVIDADES COMUNES A LOS PROGRAMAS 91,92 Y 93",
          "MINISTERIO DE AMBIENTE Y ESPACIO PUBLICO/MINISTERIO DE AMBIENTE Y ESPACIO PUBLICO/SUBSECRETARIA DE HIGIENE URBANA/ACTIVIDADES COMUNES A LOS PROGRAMAS: 11-52-53-56-57-58-59",
          "MINISTERIO DE AMBIENTE Y ESPACIO PUBLICO/MINISTERIO DE AMBIENTE Y ESPACIO PUBLICO/SUBSECRETARIA DE HIGIENE URBANA/ACTIVIDADES COMUNES A LOS PROGRAMAS: 11-52-53-56-57-58-59 Y 85",
          "MINISTERIO DE AMBIENTE Y ESPACIO PUBLICO/MINISTERIO DE AMBIENTE Y ESPACIO PUBLICO/SUBSECRETARIA DE HIGIENE URBANA/ACTIVIDADES COMUNES A LOS PROGRAMAS: 11-52-53-56-57-58-59-79-85",
          "MINISTERIO DE AMBIENTE Y ESPACIO PUBLICO/MINISTERIO DE AMBIENTE Y ESPACIO PUBLICO/SUBSECRETARIA DE HIGIENE URBANA/ACTIVIDADES COMUNES A LOS PROGRAMAS: 11-52-53-56-57-85",
          "MINISTERIO DE AMBIENTE Y ESPACIO PUBLICO/MINISTERIO DE AMBIENTE Y ESPACIO PUBLICO/SUBSECRETARIA DE HIGIENE URBANA/ACTIVIDADES COMUNES A LOS PROGRAMAS: 11-52-53-57-58-59",
          "MINISTERIO DE AMBIENTE Y ESPACIO PUBLICO/MINISTERIO DE AMBIENTE Y ESPACIO PUBLICO/SUBSECRETARIA DE HIGIENE URBANA/ACTIVIDADES COMUNES A LOS PROGRAMAS: 11-52-53-57-58-59 Y 85",
          "MINISTERIO DE ESPACIO PUBLICO E HIGIENE URBANA/MINISTERIO DE ESPACIO PUBLICO E HIGIENE URBANA/SUBSECRETARIA DE HIGIENE URBANA/ACTIVIDADES COMUNES A LOS PROGRAMAS: 11-52-57-58 Y 85",
          "MINISTERIO DE AMBIENTE Y ESPACIO PUBLICO/MINISTERIO DE AMBIENTE Y ESPACIO PUBLICO/SUBSECRETARIA DE HIGIENE URBANA/ACTIVIDADES COMUNES A LOS PROGRAMAS: 52.53.56.57 Y 85",
          "MINISTERIO DE AMBIENTE Y ESPACIO PUBLICO/MINISTERIO DE AMBIENTE Y ESPACIO PUBLICO/DIRECCION GENERAL DE ARBOLADO/ARBOLADO URBANO",
          "MINISTERIO DE AMBIENTE Y ESPACIO PUBLICO/MINISTERIO DE AMBIENTE Y ESPACIO PUBLICO/DIRECCION GENERAL TECNICO ADMINISTRATIVA Y LEGAL/ASUNTOS LEGALES Y PRESUPUESTO",
          "MINISTERIO DE ESPACIO PUBLICO E HIGIENE URBANA/MINISTERIO DE ESPACIO PUBLICO E HIGIENE URBANA/DIRECCION GENERAL TECNICO ADMINISTRATIVA Y LEGAL/ASUNTOS LEGALES Y PRESUPUESTO",
          "MINISTERIO DE AMBIENTE Y ESPACIO PUBLICO/AGENCIA AMBIENTAL/DIRECCION GENERAL DE EVALUACION TECNICA/BUENOS AIRES PRODUCE MAS LIMPIO (P+L)",
          "MINISTERIO DE AMBIENTE Y ESPACIO PUBLICO/AGENCIA AMBIENTAL/DIRECCION GENERAL ESTRATEGIAS AMBIENTALES/BUENOS AIRES PRODUCE MAS LIMPIO (P+L)",
          "MINISTERIO DE AMBIENTE Y ESPACIO PUBLICO/AGENCIA AMBIENTAL/DIRECCION GENERAL POLITICA Y ESTRATEGIA AMBIENTAL/BUENOS AIRES PRODUCE MAS LIMPIO (P+L)",
          "MINISTERIO DE AMBIENTE Y ESPACIO PUBLICO/AGENCIA AMBIENTAL/AGENCIA AMBIENTAL/CENTROS DE ATENCION VETERINARIA",
          "MINISTERIO DE AMBIENTE Y ESPACIO PUBLICO/AGENCIA AMBIENTAL/DIRECCION GENERAL ESTRATEGIAS AMBIENTALES/CENTROS DE ATENCION VETERINARIA",
          "MINISTERIO DE AMBIENTE Y ESPACIO PUBLICO/AGENCIA AMBIENTAL/AGENCIA AMBIENTAL/COMPENSACION AMBIENTAL",
          "MINISTERIO DE AMBIENTE Y ESPACIO PUBLICO/AGENCIA AMBIENTAL/DIRECCION GENERAL DE EVALUACION AMBIENTAL/COMPENSACION AMBIENTAL",
          "MINISTERIO DE AMBIENTE Y ESPACIO PUBLICO/AGENCIA AMBIENTAL/DIRECCION GENERAL DE EVALUACION TECNICA/COMPENSACION AMBIENTAL",
          "MINISTERIO DE AMBIENTE Y ESPACIO PUBLICO/MINISTERIO DE AMBIENTE Y ESPACIO PUBLICO/UPE ECOPARQUE INTERACTIVO DE LA CABA/CONSERVACION DE LA BIODIVERSIDAD",
          "MINISTERIO DE AMBIENTE Y ESPACIO PUBLICO/AGENCIA AMBIENTAL/DIRECCION GENERAL DE CONTROL/CONTROL AMBIENTAL",
          "MINISTERIO DE AMBIENTE Y ESPACIO PUBLICO/MINISTERIO DE AMBIENTE Y ESPACIO PUBLICO/DIRECCION GENERAL CONTROL DE GESTION/CONTROL DE GESTION",
          "MINISTERIO DE AMBIENTE Y ESPACIO PUBLICO/MINISTERIO DE AMBIENTE Y ESPACIO PUBLICO/DIRECCION GENERAL CONTROL DE GESTION/CONTROL DE GESTION Y RECLAMOS",
          "MINISTERIO DE ESPACIO PUBLICO E HIGIENE URBANA/MINISTERIO DE ESPACIO PUBLICO E HIGIENE URBANA/DIRECCION GENERAL CONTROL DE GESTION/CONTROL DE GESTION Y RECLAMOS",
          "MINISTERIO DE AMBIENTE Y ESPACIO PUBLICO/MINISTERIO DE AMBIENTE Y ESPACIO PUBLICO/DIRECCION GENERAL DE LIMPIEZA/CONTROL DE HIGIENE EN VIA PUBLICA E INMUEBLES",
          "MINISTERIO DE AMBIENTE Y ESPACIO PUBLICO/MINISTERIO DE AMBIENTE Y ESPACIO PUBLICO/DIRECCION GENERAL INSPECCION DE HIGIENE URBANA/CONTROL DE HIGIENE EN VIA PUBLICA E INMUEBLES",
          "MINISTERIO DE AMBIENTE Y ESPACIO PUBLICO/MINISTERIO DE AMBIENTE Y ESPACIO PUBLICO/SUBSECRETARIA DE HIGIENE URBANA/CONTROL DE HIGIENE EN VIA PUBLICA E INMUEBLES",
          "MINISTERIO DE AMBIENTE Y ESPACIO PUBLICO/MINISTERIO DE AMBIENTE Y ESPACIO PUBLICO/DIRECCION GENERAL DE LIMPIEZA/CONTROL DE PLAGAS",
          "MINISTERIO DE ESPACIO PUBLICO E HIGIENE URBANA/MINISTERIO DE ESPACIO PUBLICO E HIGIENE URBANA/DIRECCION GENERAL DE LIMPIEZA/CONTROL DE PLAGAS",
          "MINISTERIO DE AMBIENTE Y ESPACIO PUBLICO/MINISTERIO DE AMBIENTE Y ESPACIO PUBLICO/DIRECCION GENERAL INSPECCION DE HIGIENE URBANA/CONTROL DE PLAGAS",
          "MINISTERIO DE AMBIENTE Y ESPACIO PUBLICO/MINISTERIO DE AMBIENTE Y ESPACIO PUBLICO/DIRECCION GENERAL DE ESPACIOS VERDES/CUIDADO Y PUESTA EN VALOR DE ESPACIOS VERDES",
          "MINISTERIO DE AMBIENTE Y ESPACIO PUBLICO/AGENCIA AMBIENTAL/DIRECCION GENERAL ESTRATEGIAS AMBIENTALES/ESTRATEGIAS AMBIENTALES",
          "MINISTERIO DE AMBIENTE Y ESPACIO PUBLICO/AGENCIA AMBIENTAL/DIRECCION GENERAL POLITICA Y ESTRATEGIA AMBIENTAL/ESTRATEGIAS AMBIENTALES",
          "MINISTERIO DE AMBIENTE Y ESPACIO PUBLICO/AGENCIA AMBIENTAL/DIRECCION GENERAL DE EVALUACION AMBIENTAL/EVALUACION TECNICA",
          "MINISTERIO DE AMBIENTE Y ESPACIO PUBLICO/AGENCIA AMBIENTAL/DIRECCION GENERAL DE EVALUACION TECNICA/EVALUACION TECNICA",
          "MINISTERIO DE AMBIENTE Y ESPACIO PUBLICO/AGENCIA AMBIENTAL/AGENCIA AMBIENTAL/GESTION AMBIENTAL",
          "MINISTERIO DE AMBIENTE Y ESPACIO PUBLICO/AGENCIA AMBIENTAL/AGENCIA AMBIENTAL/INTERVENCIONES VETERINARIAS",
          "MINISTERIO DE AMBIENTE Y ESPACIO PUBLICO/AGENCIA AMBIENTAL/DIRECCION GENERAL DE CONTROL/LABORATORIO DE ANALISIS Y CALIDAD AMBIENTAL",
          "MINISTERIO DE AMBIENTE Y ESPACIO PUBLICO/AGENCIA AMBIENTAL/DIRECCION GENERAL DE EVALUACION TECNICA/LABORATORIO DE ANALISIS Y CALIDAD AMBIENTAL",
          "MINISTERIO DE AMBIENTE Y ESPACIO PUBLICO/MINISTERIO DE AMBIENTE Y ESPACIO PUBLICO/MINISTERIO AMBIENTE Y ESPACIO PUBLICO/MANTENIMIENTO ZONA PUERTO MADERO",
          "MINISTERIO DE AMBIENTE Y ESPACIO PUBLICO/MINISTERIO DE AMBIENTE Y ESPACIO PUBLICO/DIRECCION GENERAL OBRAS REGENERACION URBANA/OBRAS DE REGENERACIONURBANA",
          "MINISTERIO DE AMBIENTE Y ESPACIO PUBLICO/AGENCIA AMBIENTAL/DIRECCION GENERAL ESTRATEGIAS AMBIENTALES/PLANEAMIENTO DE LA GESTION AMBIENTAL SOSTENIBLE",
          "MINISTERIO DE AMBIENTE Y ESPACIO PUBLICO/MINISTERIO DE AMBIENTE Y ESPACIO PUBLICO/DIRECCION GENERAL PLANIFICACION Y PRESUPUESTO/PLANIFICACION Y PRESUPUESTO",
          "MINISTERIO DE AMBIENTE Y ESPACIO PUBLICO/AGENCIA AMBIENTAL/DIRECCION GENERAL DE EVALUACION TECNICA/PREVENC.AMB.EVALUAC.TECNICA Y CERTIFICADOS AMBIENTALES",
          "MINISTERIO DE AMBIENTE Y ESPACIO PUBLICO/AGENCIA AMBIENTAL/DIRECCION GENERAL DE EVALUACION TECNICA/PREVENCION AMBIENTAL EVALUACION TECNICA Y REGISTROS AMBIENTALES",
          "MINISTERIO DE AMBIENTE Y ESPACIO PUBLICO/AGENCIA AMBIENTAL/DIRECCION GENERAL POLITICA Y ESTRATEGIA AMBIENTAL/PROGRAMA DE CAMBIO CLIMATICO E INFORMACION AMBIENTAL",
          "MINISTERIO DE AMBIENTE Y ESPACIO PUBLICO/AGENCIA AMBIENTAL/DIRECCION GENERAL POLITICA Y ESTRATEGIA AMBIENTAL/PROGRAMA DE GESTION ENERGETICA",
          "MINISTERIO DE AMBIENTE Y ESPACIO PUBLICO/AGENCIA AMBIENTAL/DIRECCION GENERAL POLITICA Y ESTRATEGIA AMBIENTAL/PROGRAMA DE RESIDUOS DE MANEJO ESPECIAL",
          "MINISTERIO DE AMBIENTE Y ESPACIO PUBLICO/AGENCIA AMBIENTAL/AGENCIA AMBIENTAL/PROTECCION Y SANIDAD ANIMAL",
          "MINISTERIO DE AMBIENTE Y ESPACIO PUBLICO/AGENCIA AMBIENTAL/DIRECCION GENERAL ESTRATEGIAS AMBIENTALES/PROTECCION Y SANIDAD ANIMAL",
          "MINISTERIO DE AMBIENTE Y ESPACIO PUBLICO/MINISTERIO DE AMBIENTE Y ESPACIO PUBLICO/DIRECCION GENERAL DE RECICLADO/RECICLADO DE RESIDUOS URBANOS",
          "MINISTERIO DE AMBIENTE Y ESPACIO PUBLICO/ENTE DE HIGIENE URBANA/ENTE DE HIGIENE URBANA/RECOLECCION, BARRIDO E HIGIENE DE LA CIUDAD DE BUENOS AIRES",
          "MINISTERIO DE AMBIENTE Y ESPACIO PUBLICO/AGENCIA AMBIENTAL/AGENCIA AMBIENTAL/REDES AMBIENTALES",
          "MINISTERIO DE AMBIENTE Y ESPACIO PUBLICO/AGENCIA AMBIENTAL/DIRECCION GENERAL DE CONTROL/REDES AMBIENTALES",
          "MINISTERIO DE AMBIENTE Y ESPACIO PUBLICO/MINISTERIO DE AMBIENTE Y ESPACIO PUBLICO/DIRECCION GENERAL REGENERACION URBANA/REGENERACION URBANA",
          "MINISTERIO DE AMBIENTE Y ESPACIO PUBLICO/AGENCIA AMBIENTAL/AGENCIA AMBIENTAL/SANIDAD Y TENENCIA RESPONSABLE DE MASCOTAS",
          "MINISTERIO DE AMBIENTE Y ESPACIO PUBLICO/MINISTERIO DE AMBIENTE Y ESPACIO PUBLICO/MINISTERIO AMBIENTE Y ESPACIO PUBLICO/SERVICIOS DE ADMINISTRACION",
          "MINISTERIO DE AMBIENTE Y ESPACIO PUBLICO/MINISTERIO DE AMBIENTE Y ESPACIO PUBLICO/DIRECCION GENERAL DE LIMPIEZA/SERVICIOS DE HIGIENE URBANA",
          "MINISTERIO DE AMBIENTE Y ESPACIO PUBLICO/MINISTERIO DE AMBIENTE Y ESPACIO PUBLICO/DIRECCION GENERAL TECNICO ADMINISTRATIVA Y LEGAL/TECNICA ADMINISTRATIVA Y LEGAL",
          "MINISTERIO DE AMBIENTE Y ESPACIO PUBLICO/MINISTERIO DE AMBIENTE Y ESPACIO PUBLICO/DIRECCION GENERAL TRATAMIENTO Y NUEVAS TECNOLOGIAS/TRATAMIENTO DE RESIDUOS SOLIDOS URBANOS",
          "MINISTERIO DE AMBIENTE Y ESPACIO PUBLICO/AGENCIA AMBIENTAL/AGENCIA AMBIENTAL",
          "MINISTERIO DE AMBIENTE Y ESPACIO PUBLICO/MINISTERIO DE AMBIENTE Y ESPACIO PUBLICO/DIRECCION GENERAL CONTROL DE GESTION",
          "MINISTERIO DE ESPACIO PUBLICO E HIGIENE URBANA/MINISTERIO DE ESPACIO PUBLICO E HIGIENE URBANA/DIRECCION GENERAL CONTROL DE GESTION",
          "MINISTERIO DE AMBIENTE Y ESPACIO PUBLICO/MINISTERIO DE AMBIENTE Y ESPACIO PUBLICO/DIRECCION GENERAL DE ARBOLADO",
          "MINISTERIO DE AMBIENTE Y ESPACIO PUBLICO/AGENCIA AMBIENTAL/DIRECCION GENERAL DE CONTROL",
          "MINISTERIO DE AMBIENTE Y ESPACIO PUBLICO/MINISTERIO DE AMBIENTE Y ESPACIO PUBLICO/DIRECCION GENERAL DE ESPACIOS VERDES",
          "MINISTERIO DE AMBIENTE Y ESPACIO PUBLICO/AGENCIA AMBIENTAL/DIRECCION GENERAL DE EVALUACION AMBIENTAL",
          "MINISTERIO DE AMBIENTE Y ESPACIO PUBLICO/AGENCIA AMBIENTAL/DIRECCION GENERAL DE EVALUACION TECNICA",
          "MINISTERIO DE AMBIENTE Y ESPACIO PUBLICO/MINISTERIO DE AMBIENTE Y ESPACIO PUBLICO/DIRECCION GENERAL DE LIMPIEZA",
          "MINISTERIO DE ESPACIO PUBLICO E HIGIENE URBANA/MINISTERIO DE ESPACIO PUBLICO E HIGIENE URBANA/DIRECCION GENERAL DE LIMPIEZA",
          "MINISTERIO DE AMBIENTE Y ESPACIO PUBLICO/MINISTERIO DE AMBIENTE Y ESPACIO PUBLICO/DIRECCION GENERAL DE RECICLADO",
          "MINISTERIO DE AMBIENTE Y ESPACIO PUBLICO/AGENCIA AMBIENTAL/DIRECCION GENERAL ESTRATEGIAS AMBIENTALES",
          "MINISTERIO DE AMBIENTE Y ESPACIO PUBLICO/MINISTERIO DE AMBIENTE Y ESPACIO PUBLICO/DIRECCION GENERAL INSPECCION DE HIGIENE URBANA",
          "MINISTERIO DE AMBIENTE Y ESPACIO PUBLICO/MINISTERIO DE AMBIENTE Y ESPACIO PUBLICO/DIRECCION GENERAL OBRAS REGENERACION URBANA",
          "MINISTERIO DE AMBIENTE Y ESPACIO PUBLICO/MINISTERIO DE AMBIENTE Y ESPACIO PUBLICO/DIRECCION GENERAL PLANIFICACION Y PRESUPUESTO",
          "MINISTERIO DE AMBIENTE Y ESPACIO PUBLICO/AGENCIA AMBIENTAL/DIRECCION GENERAL POLITICA Y ESTRATEGIA AMBIENTAL",
          "MINISTERIO DE AMBIENTE Y ESPACIO PUBLICO/MINISTERIO DE AMBIENTE Y ESPACIO PUBLICO/DIRECCION GENERAL REGENERACION URBANA",
          "MINISTERIO DE AMBIENTE Y ESPACIO PUBLICO/MINISTERIO DE AMBIENTE Y ESPACIO PUBLICO/DIRECCION GENERAL TECNICO ADMINISTRATIVA Y LEGAL",
          "MINISTERIO DE ESPACIO PUBLICO E HIGIENE URBANA/MINISTERIO DE ESPACIO PUBLICO E HIGIENE URBANA/DIRECCION GENERAL TECNICO ADMINISTRATIVA Y LEGAL",
          "MINISTERIO DE AMBIENTE Y ESPACIO PUBLICO/MINISTERIO DE AMBIENTE Y ESPACIO PUBLICO/DIRECCION GENERAL TRATAMIENTO Y NUEVAS TECNOLOGIAS",
          "MINISTERIO DE AMBIENTE Y ESPACIO PUBLICO/ENTE DE HIGIENE URBANA/ENTE DE HIGIENE URBANA",
          "MINISTERIO DE ESPACIO PUBLICO E HIGIENE URBANA/MINISTERIO DE ESPACIO PUBLICO E HIGIENE URBANA/MIN.ESP.PUBLICO E HIG. URBANA",
          "MINISTERIO DE AMBIENTE Y ESPACIO PUBLICO/MINISTERIO DE AMBIENTE Y ESPACIO PUBLICO/MINISTERIO AMBIENTE Y ESPACIO PUBLICO",
          "MINISTERIO DE AMBIENTE Y ESPACIO PUBLICO/MINISTERIO DE AMBIENTE Y ESPACIO PUBLICO/SUBSECRETARIA DE ADMINISTRACION",
          "MINISTERIO DE ESPACIO PUBLICO E HIGIENE URBANA/MINISTERIO DE ESPACIO PUBLICO E HIGIENE URBANA/SUBSECRETARIA DE ADMINISTRACION",
          "MINISTERIO DE AMBIENTE Y ESPACIO PUBLICO/MINISTERIO DE AMBIENTE Y ESPACIO PUBLICO/SUBSECRETARIA DE ADMINISTRACION GENERAL Y DE USO DEL ESPACIO PUBLICO",
          "MINISTERIO DE AMBIENTE Y ESPACIO PUBLICO/MINISTERIO DE AMBIENTE Y ESPACIO PUBLICO/SUBSECRETARIA DE HIGIENE URBANA",
          "MINISTERIO DE ESPACIO PUBLICO E HIGIENE URBANA/MINISTERIO DE ESPACIO PUBLICO E HIGIENE URBANA/SUBSECRETARIA DE HIGIENE URBANA",
          "MINISTERIO DE AMBIENTE Y ESPACIO PUBLICO/MINISTERIO DE AMBIENTE Y ESPACIO PUBLICO/UPE ECOPARQUE INTERACTIVO DE LA CABA",
          "MINISTERIO DE AMBIENTE Y ESPACIO PUBLICO/AGENCIA AMBIENTAL",
          "MINISTERIO DE AMBIENTE Y ESPACIO PUBLICO/ENTE DE HIGIENE URBANA",
          "MINISTERIO DE AMBIENTE Y ESPACIO PUBLICO/MINISTERIO DE AMBIENTE Y ESPACIO PUBLICO",
          "MINISTERIO DE ESPACIO PUBLICO E HIGIENE URBANA/MINISTERIO DE ESPACIO PUBLICO E HIGIENE URBANA",
          "MINISTERIO DE AMBIENTE Y ESPACIO PUBLICO",
          "MINISTERIO DE ESPACIO PUBLICO E HIGIENE URBANA"
         ],
         "insidetextorientation": "radial",
         "labels": [
          "A.CU.MAR - CENTROS VERDES",
          "A.CU.MAR - RIACHUELO",
          "A.CU.MAR - VALORIZACION DE LOS ESPACIOS VERDES",
          "ACCIONES AMBIENTALES CABA",
          "ACCIONES PARA LA RESTAURACION ECOLOGICA",
          "ACT.CEN.ESP.PUB.HIG.URBANA",
          "ACTIV. COMUNES A LOS PROG. 91,92 ,93 Y 94",
          "ACTIV. COMUNES A LOS PROG. 91,92 Y93",
          "ACTIVIDADES CENTRALES AMBIENTE Y ESPACIO PUBLICO",
          "ACTIVIDADES COMUMES A LOS PROGRAMAS 91,92,93,94,95,96",
          "ACTIVIDADES COMUNES A LOS PROG 21 Y 22",
          "ACTIVIDADES COMUNES A LOS PROG 21,22,23,75,76 Y 77",
          "ACTIVIDADES COMUNES A LOS PROG 22 Y 23",
          "ACTIVIDADES COMUNES A LOS PROG. 91 AL 100 Y 102",
          "ACTIVIDADES COMUNES A LOS PROG. 91 AL 103",
          "ACTIVIDADES COMUNES A LOS PROG. 91,92,93, 94,95 Y 96",
          "ACTIVIDADES COMUNES A LOS PROG. 91,92,93, 94,95, 96 Y 100",
          "ACTIVIDADES COMUNES A LOS PROGRAMAS 91,92 Y 93",
          "ACTIVIDADES COMUNES A LOS PROGRAMAS: 11-52-53-56-57-58-59",
          "ACTIVIDADES COMUNES A LOS PROGRAMAS: 11-52-53-56-57-58-59 Y 85",
          "ACTIVIDADES COMUNES A LOS PROGRAMAS: 11-52-53-56-57-58-59-79-85",
          "ACTIVIDADES COMUNES A LOS PROGRAMAS: 11-52-53-56-57-85",
          "ACTIVIDADES COMUNES A LOS PROGRAMAS: 11-52-53-57-58-59",
          "ACTIVIDADES COMUNES A LOS PROGRAMAS: 11-52-53-57-58-59 Y 85",
          "ACTIVIDADES COMUNES A LOS PROGRAMAS: 11-52-57-58 Y 85",
          "ACTIVIDADES COMUNES A LOS PROGRAMAS: 52.53.56.57 Y 85",
          "AMPLIACION CIFA PARA SU TRANSFORMACION EN CENTRO METROPOLITANO VERDE",
          "ANALISIS DE SUSTANCIAS CONTAMINANTES EN AGUA, AIRE Y SUELO",
          "ARBOLADO URBANO",
          "ASUNTOS LEGALES Y PRESUPUESTO",
          "ASUNTOS LEGALES Y PRESUPUESTO",
          "BUENOS AIRES PRODUCE MAS LIMPIO (P+L)",
          "BUENOS AIRES PRODUCE MAS LIMPIO (P+L)",
          "BUENOS AIRES PRODUCE MAS LIMPIO (P+L)",
          "CENTRO DE INFORMACION Y FORMACION AMBIENTAL",
          "CENTROS DE ATENCION VETERINARIA",
          "CENTROS DE ATENCION VETERINARIA",
          "CENTROS VERDES",
          "COMPENSACION AMBIENTAL",
          "COMPENSACION AMBIENTAL",
          "CONSERVACION DE LA BIODIVERSIDAD",
          "CONTENERIZACION",
          "CONTROL AMBIENTAL",
          "CONTROL DE GESTION",
          "CONTROL DE GESTION Y RECLAMOS",
          "CONTROL DE GESTION Y RECLAMOS",
          "CONTROL DE HIGIENE EN VIA PUBLICA E INMUEBLES",
          "CONTROL DE HIGIENE EN VIA PUBLICA E INMUEBLES",
          "CONTROL DE HIGIENE EN VIA PUBLICA E INMUEBLES",
          "CONTROL DE PLAGAS",
          "CONTROL DE PLAGAS",
          "CONTROL DE PLAGAS",
          "CUBIERTA VERDE",
          "CUBIERTA VERDE EN LA CABA",
          "CUIDADO Y PRESERVACION DEL ARBOLADO URBANO",
          "CUIDADO Y PRESERVACION DEL ARBOLADO URBANO",
          "CUIDADO Y PUESTA EN VALOR DE ESPACIOS VERDES",
          "CUIDADO Y PUESTA EN VALOR DE GRANDES PARQUES",
          "CUIDADO Y PUESTA EN VALOR DEL PATRIMONIO CULTURAL Y NATURAL DE LOS ESPACIOS VERDES",
          "DESARROLLO DE LA RED DE AIRE Y RUIDO EN LA CIUDAD DE BUENOS AIRES.",
          "DESARROLLO DE LA RED DE AIRE Y RUIDO EN LA CIUDAD DE BUENOS AIRES.",
          "DISPOSICION FINAL RESIDUOS SOLIDOS URBANOS",
          "ESTACIONES MONITOREO CALIDAD DEL AGUA EN RED DE HIDROMETEREOLOGIA DE CABA",
          "ESTRATEGIAS AMBIENTALES",
          "ESTRATEGIAS AMBIENTALES",
          "EVALUACION TECNICA",
          "EVALUACION TECNICA",
          "GESTION AMBIENTAL",
          "HOGAR TRANSITORIO DE MASCOTAS",
          "INSPECCION DEL USO DEL ESPACIO PUBLICO",
          "INTERVENCIONES SOBRE EL ARBOLADO",
          "INTERVENCIONES VETERINARIAS",
          "JARDIN BOTANICO CARLOS THAYS",
          "LABORATORIO DE ANALISIS Y CALIDAD AMBIENTAL",
          "LABORATORIO DE ANALISIS Y CALIDAD AMBIENTAL",
          "OBRAS BA ELIGE EV",
          "OBRAS CORRECTIVAS DE RECOMPOSICION PREDIOS CONTAMINADOS REQUERIDOS POR IVC",
          "OBRAS CORRECTIVAS DE RECOMPOSICION PREDIOS CONTAMINADOS REQUERIDOS POR IVC",
          "OBRAS DE ESPACIOS VERDES",
          "OBRAS DE ESPACIOS VERDES II",
          "OBRAS DE REGENERACION URBANA",
          "OBRAS ECOPARQUE MAYEP",
          "PARQUES URBANOS",
          "PLANEAMIENTO DE LA GESTION AMBIENTAL SOSTENIBLE",
          "PLANIFICACION Y PRESUPUESTO",
          "PREVENC.AMB.EVALUAC.TECNICA Y CERTIFICADOS AMBIENTALES",
          "PREVENCION AMBIENTAL EVALUACION TECNICA Y REGISTROS AMBIENTALES",
          "PROGRAMA DE CAMBIO CLIMATICO E INFORMACION AMBIENTAL",
          "PROGRAMA DE GESTION ENERGETICA",
          "PROGRAMA DE RESIDUOS DE MANEJO ESPECIAL",
          "PROTECCION Y SANIDAD ANIMAL",
          "PROTECCION Y SANIDAD ANIMAL",
          "PROYECTOS ACUMAR",
          "PUESTA EN VALOR DE EDIFICIOS",
          "PUESTA EN VALOR DE LAS OFICINAS DE LA AGENCIA DE PROTECCION AMBIENTAL",
          "PUESTA EN VALOR DEPOSITO RAES",
          "PUESTA EN VALOR EDIFICIOS",
          "RECICLADO DE RESIDUOS URBANOS",
          "RECOLECCION, BARRIDO E HIGIENE DE LA CIUDAD DE BUENOS AIRES",
          "RED DE MONITOREO AMBIENTAL",
          "RED DE MONITOREO DE LA CALIDAD DEL AGUA SUPERFICIAL DE LA CABA.",
          "RED DE MONITOREO DE LA CALIDAD DEL AGUA SUPERFICIAL DE LA CABA.",
          "REDES AMBIENTALES",
          "REDES AMBIENTALES",
          "REMEDIACION AMBIENTAL GCBA",
          "REMEDIACION Y MITIGACION AMBIENTAL",
          "REPARACION Y MEJORAS EN BARRIOS DE BUENOS AIRES",
          "RESTAURACION Y MITIGACION GCBA",
          "SANEAMIENTO Y REMEDIACION DE SUELOS CONTAMINADOS ACHA 2102/04 Y MENDOZA",
          "SANIDAD Y TENENCIA RESPONSABLE DE MASCOTAS",
          "SERVICIO DE LIMPIEZA DE ARROYOS",
          "SERVICIOS DE ADMINISTRACION",
          "SITIOS CONTAMINADOS",
          "TECNICA ADMINISTRATIVA Y LEGAL",
          "TRATAMIENTO DE RESIDUOS ORGANICOS",
          "VALORIZACION DE LOS ESPACIOS VERDES",
          "VALORIZACION DE LOS ESPACIOS VERDES DE LA CIUDAD",
          "ACCIONES PARA LA RESTAURACION ECOLOGICA",
          "ACT.CEN.ESP.PUB.HIG.URBANA",
          "ACTIV. COMUNES A LOS PROG. 91,92 ,93 Y 94",
          "ACTIV. COMUNES A LOS PROG. 91,92 Y93",
          "ACTIVIDADES CENTRALES AMBIENTE Y ESPACIO PUBLICO",
          "ACTIVIDADES COMUMES A LOS PROGRAMAS 91,92,93,94,95,96",
          "ACTIVIDADES COMUNES A LOS PROG 21 Y 22",
          "ACTIVIDADES COMUNES A LOS PROG 21,22,23,75,76 Y 77",
          "ACTIVIDADES COMUNES A LOS PROG 22 Y 23",
          "ACTIVIDADES COMUNES A LOS PROG. 91 AL 100 Y 102",
          "ACTIVIDADES COMUNES A LOS PROG. 91 AL 103",
          "ACTIVIDADES COMUNES A LOS PROG. 91,92,93, 94,95 Y 96",
          "ACTIVIDADES COMUNES A LOS PROG. 91,92,93, 94,95, 96 Y 100",
          "ACTIVIDADES COMUNES A LOS PROGRAMAS 91,92 Y 93",
          "ACTIVIDADES COMUNES A LOS PROGRAMAS: 11-52-53-56-57-58-59",
          "ACTIVIDADES COMUNES A LOS PROGRAMAS: 11-52-53-56-57-58-59 Y 85",
          "ACTIVIDADES COMUNES A LOS PROGRAMAS: 11-52-53-56-57-58-59-79-85",
          "ACTIVIDADES COMUNES A LOS PROGRAMAS: 11-52-53-56-57-85",
          "ACTIVIDADES COMUNES A LOS PROGRAMAS: 11-52-53-57-58-59",
          "ACTIVIDADES COMUNES A LOS PROGRAMAS: 11-52-53-57-58-59 Y 85",
          "ACTIVIDADES COMUNES A LOS PROGRAMAS: 11-52-57-58 Y 85",
          "ACTIVIDADES COMUNES A LOS PROGRAMAS: 52.53.56.57 Y 85",
          "ARBOLADO URBANO",
          "ASUNTOS LEGALES Y PRESUPUESTO",
          "ASUNTOS LEGALES Y PRESUPUESTO",
          "BUENOS AIRES PRODUCE MAS LIMPIO (P+L)",
          "BUENOS AIRES PRODUCE MAS LIMPIO (P+L)",
          "BUENOS AIRES PRODUCE MAS LIMPIO (P+L)",
          "CENTROS DE ATENCION VETERINARIA",
          "CENTROS DE ATENCION VETERINARIA",
          "COMPENSACION AMBIENTAL",
          "COMPENSACION AMBIENTAL",
          "COMPENSACION AMBIENTAL",
          "CONSERVACION DE LA BIODIVERSIDAD",
          "CONTROL AMBIENTAL",
          "CONTROL DE GESTION",
          "CONTROL DE GESTION Y RECLAMOS",
          "CONTROL DE GESTION Y RECLAMOS",
          "CONTROL DE HIGIENE EN VIA PUBLICA E INMUEBLES",
          "CONTROL DE HIGIENE EN VIA PUBLICA E INMUEBLES",
          "CONTROL DE HIGIENE EN VIA PUBLICA E INMUEBLES",
          "CONTROL DE PLAGAS",
          "CONTROL DE PLAGAS",
          "CONTROL DE PLAGAS",
          "CUIDADO Y PUESTA EN VALOR DE ESPACIOS VERDES",
          "ESTRATEGIAS AMBIENTALES",
          "ESTRATEGIAS AMBIENTALES",
          "EVALUACION TECNICA",
          "EVALUACION TECNICA",
          "GESTION AMBIENTAL",
          "INTERVENCIONES VETERINARIAS",
          "LABORATORIO DE ANALISIS Y CALIDAD AMBIENTAL",
          "LABORATORIO DE ANALISIS Y CALIDAD AMBIENTAL",
          "MANTENIMIENTO ZONA PUERTO MADERO",
          "OBRAS DE REGENERACIONURBANA",
          "PLANEAMIENTO DE LA GESTION AMBIENTAL SOSTENIBLE",
          "PLANIFICACION Y PRESUPUESTO",
          "PREVENC.AMB.EVALUAC.TECNICA Y CERTIFICADOS AMBIENTALES",
          "PREVENCION AMBIENTAL EVALUACION TECNICA Y REGISTROS AMBIENTALES",
          "PROGRAMA DE CAMBIO CLIMATICO E INFORMACION AMBIENTAL",
          "PROGRAMA DE GESTION ENERGETICA",
          "PROGRAMA DE RESIDUOS DE MANEJO ESPECIAL",
          "PROTECCION Y SANIDAD ANIMAL",
          "PROTECCION Y SANIDAD ANIMAL",
          "RECICLADO DE RESIDUOS URBANOS",
          "RECOLECCION, BARRIDO E HIGIENE DE LA CIUDAD DE BUENOS AIRES",
          "REDES AMBIENTALES",
          "REDES AMBIENTALES",
          "REGENERACION URBANA",
          "SANIDAD Y TENENCIA RESPONSABLE DE MASCOTAS",
          "SERVICIOS DE ADMINISTRACION",
          "SERVICIOS DE HIGIENE URBANA",
          "TECNICA ADMINISTRATIVA Y LEGAL",
          "TRATAMIENTO DE RESIDUOS SOLIDOS URBANOS",
          "AGENCIA AMBIENTAL",
          "DIRECCION GENERAL CONTROL DE GESTION",
          "DIRECCION GENERAL CONTROL DE GESTION",
          "DIRECCION GENERAL DE ARBOLADO",
          "DIRECCION GENERAL DE CONTROL",
          "DIRECCION GENERAL DE ESPACIOS VERDES",
          "DIRECCION GENERAL DE EVALUACION AMBIENTAL",
          "DIRECCION GENERAL DE EVALUACION TECNICA",
          "DIRECCION GENERAL DE LIMPIEZA",
          "DIRECCION GENERAL DE LIMPIEZA",
          "DIRECCION GENERAL DE RECICLADO",
          "DIRECCION GENERAL ESTRATEGIAS AMBIENTALES",
          "DIRECCION GENERAL INSPECCION DE HIGIENE URBANA",
          "DIRECCION GENERAL OBRAS REGENERACION URBANA",
          "DIRECCION GENERAL PLANIFICACION Y PRESUPUESTO",
          "DIRECCION GENERAL POLITICA Y ESTRATEGIA AMBIENTAL",
          "DIRECCION GENERAL REGENERACION URBANA",
          "DIRECCION GENERAL TECNICO ADMINISTRATIVA Y LEGAL",
          "DIRECCION GENERAL TECNICO ADMINISTRATIVA Y LEGAL",
          "DIRECCION GENERAL TRATAMIENTO Y NUEVAS TECNOLOGIAS",
          "ENTE DE HIGIENE URBANA",
          "MIN.ESP.PUBLICO E HIG. URBANA",
          "MINISTERIO AMBIENTE Y ESPACIO PUBLICO",
          "SUBSECRETARIA DE ADMINISTRACION",
          "SUBSECRETARIA DE ADMINISTRACION",
          "SUBSECRETARIA DE ADMINISTRACION GENERAL Y DE USO DEL ESPACIO PUBLICO",
          "SUBSECRETARIA DE HIGIENE URBANA",
          "SUBSECRETARIA DE HIGIENE URBANA",
          "UPE ECOPARQUE INTERACTIVO DE LA CABA",
          "AGENCIA AMBIENTAL",
          "ENTE DE HIGIENE URBANA",
          "MINISTERIO DE AMBIENTE Y ESPACIO PUBLICO",
          "MINISTERIO DE ESPACIO PUBLICO E HIGIENE URBANA",
          "MINISTERIO DE AMBIENTE Y ESPACIO PUBLICO",
          "MINISTERIO DE ESPACIO PUBLICO E HIGIENE URBANA"
         ],
         "maxdepth": 10,
         "name": "",
         "parents": [
          "MINISTERIO DE AMBIENTE Y ESPACIO PUBLICO/MINISTERIO DE AMBIENTE Y ESPACIO PUBLICO/DIRECCION GENERAL DE RECICLADO/RECICLADO DE RESIDUOS URBANOS",
          "MINISTERIO DE AMBIENTE Y ESPACIO PUBLICO/MINISTERIO DE AMBIENTE Y ESPACIO PUBLICO/DIRECCION GENERAL DE LIMPIEZA/SERVICIOS DE HIGIENE URBANA",
          "MINISTERIO DE AMBIENTE Y ESPACIO PUBLICO/MINISTERIO DE AMBIENTE Y ESPACIO PUBLICO/DIRECCION GENERAL DE ESPACIOS VERDES/CUIDADO Y PUESTA EN VALOR DE ESPACIOS VERDES",
          "MINISTERIO DE AMBIENTE Y ESPACIO PUBLICO/AGENCIA AMBIENTAL/AGENCIA AMBIENTAL/ACTIV. COMUNES A LOS PROG. 91,92 ,93 Y 94",
          "MINISTERIO DE AMBIENTE Y ESPACIO PUBLICO/AGENCIA AMBIENTAL/DIRECCION GENERAL DE CONTROL/ACCIONES PARA LA RESTAURACION ECOLOGICA",
          "MINISTERIO DE ESPACIO PUBLICO E HIGIENE URBANA/MINISTERIO DE ESPACIO PUBLICO E HIGIENE URBANA/MIN.ESP.PUBLICO E HIG. URBANA/ACT.CEN.ESP.PUB.HIG.URBANA",
          "MINISTERIO DE AMBIENTE Y ESPACIO PUBLICO/AGENCIA AMBIENTAL/AGENCIA AMBIENTAL/ACTIV. COMUNES A LOS PROG. 91,92 ,93 Y 94",
          "MINISTERIO DE AMBIENTE Y ESPACIO PUBLICO/AGENCIA AMBIENTAL/AGENCIA AMBIENTAL/ACTIV. COMUNES A LOS PROG. 91,92 Y93",
          "MINISTERIO DE AMBIENTE Y ESPACIO PUBLICO/MINISTERIO DE AMBIENTE Y ESPACIO PUBLICO/MINISTERIO AMBIENTE Y ESPACIO PUBLICO/ACTIVIDADES CENTRALES AMBIENTE Y ESPACIO PUBLICO",
          "MINISTERIO DE AMBIENTE Y ESPACIO PUBLICO/AGENCIA AMBIENTAL/AGENCIA AMBIENTAL/ACTIVIDADES COMUMES A LOS PROGRAMAS 91,92,93,94,95,96",
          "MINISTERIO DE AMBIENTE Y ESPACIO PUBLICO/MINISTERIO DE AMBIENTE Y ESPACIO PUBLICO/SUBSECRETARIA DE ADMINISTRACION/ACTIVIDADES COMUNES A LOS PROG 21 Y 22",
          "MINISTERIO DE AMBIENTE Y ESPACIO PUBLICO/MINISTERIO DE AMBIENTE Y ESPACIO PUBLICO/SUBSECRETARIA DE ADMINISTRACION GENERAL Y DE USO DEL ESPACIO PUBLICO/ACTIVIDADES COMUNES A LOS PROG 21,22,23,75,76 Y 77",
          "MINISTERIO DE ESPACIO PUBLICO E HIGIENE URBANA/MINISTERIO DE ESPACIO PUBLICO E HIGIENE URBANA/SUBSECRETARIA DE ADMINISTRACION/ACTIVIDADES COMUNES A LOS PROG 22 Y 23",
          "MINISTERIO DE AMBIENTE Y ESPACIO PUBLICO/AGENCIA AMBIENTAL/AGENCIA AMBIENTAL/ACTIVIDADES COMUNES A LOS PROG. 91 AL 100 Y 102",
          "MINISTERIO DE AMBIENTE Y ESPACIO PUBLICO/AGENCIA AMBIENTAL/AGENCIA AMBIENTAL/ACTIVIDADES COMUNES A LOS PROG. 91 AL 103",
          "MINISTERIO DE AMBIENTE Y ESPACIO PUBLICO/AGENCIA AMBIENTAL/AGENCIA AMBIENTAL/ACTIVIDADES COMUNES A LOS PROG. 91,92,93, 94,95 Y 96",
          "MINISTERIO DE AMBIENTE Y ESPACIO PUBLICO/AGENCIA AMBIENTAL/AGENCIA AMBIENTAL/ACTIVIDADES COMUNES A LOS PROG. 91,92,93, 94,95, 96 Y 100",
          "MINISTERIO DE AMBIENTE Y ESPACIO PUBLICO/AGENCIA AMBIENTAL/AGENCIA AMBIENTAL/ACTIVIDADES COMUNES A LOS PROGRAMAS 91,92 Y 93",
          "MINISTERIO DE AMBIENTE Y ESPACIO PUBLICO/MINISTERIO DE AMBIENTE Y ESPACIO PUBLICO/SUBSECRETARIA DE HIGIENE URBANA/ACTIVIDADES COMUNES A LOS PROGRAMAS: 11-52-53-56-57-58-59",
          "MINISTERIO DE AMBIENTE Y ESPACIO PUBLICO/MINISTERIO DE AMBIENTE Y ESPACIO PUBLICO/SUBSECRETARIA DE HIGIENE URBANA/ACTIVIDADES COMUNES A LOS PROGRAMAS: 11-52-53-56-57-58-59 Y 85",
          "MINISTERIO DE AMBIENTE Y ESPACIO PUBLICO/MINISTERIO DE AMBIENTE Y ESPACIO PUBLICO/SUBSECRETARIA DE HIGIENE URBANA/ACTIVIDADES COMUNES A LOS PROGRAMAS: 11-52-53-56-57-58-59-79-85",
          "MINISTERIO DE AMBIENTE Y ESPACIO PUBLICO/MINISTERIO DE AMBIENTE Y ESPACIO PUBLICO/SUBSECRETARIA DE HIGIENE URBANA/ACTIVIDADES COMUNES A LOS PROGRAMAS: 11-52-53-56-57-85",
          "MINISTERIO DE AMBIENTE Y ESPACIO PUBLICO/MINISTERIO DE AMBIENTE Y ESPACIO PUBLICO/SUBSECRETARIA DE HIGIENE URBANA/ACTIVIDADES COMUNES A LOS PROGRAMAS: 11-52-53-57-58-59",
          "MINISTERIO DE AMBIENTE Y ESPACIO PUBLICO/MINISTERIO DE AMBIENTE Y ESPACIO PUBLICO/SUBSECRETARIA DE HIGIENE URBANA/ACTIVIDADES COMUNES A LOS PROGRAMAS: 11-52-53-57-58-59 Y 85",
          "MINISTERIO DE ESPACIO PUBLICO E HIGIENE URBANA/MINISTERIO DE ESPACIO PUBLICO E HIGIENE URBANA/SUBSECRETARIA DE HIGIENE URBANA/ACTIVIDADES COMUNES A LOS PROGRAMAS: 11-52-57-58 Y 85",
          "MINISTERIO DE AMBIENTE Y ESPACIO PUBLICO/MINISTERIO DE AMBIENTE Y ESPACIO PUBLICO/SUBSECRETARIA DE HIGIENE URBANA/ACTIVIDADES COMUNES A LOS PROGRAMAS: 52.53.56.57 Y 85",
          "MINISTERIO DE AMBIENTE Y ESPACIO PUBLICO/AGENCIA AMBIENTAL/AGENCIA AMBIENTAL/ACTIVIDADES COMUMES A LOS PROGRAMAS 91,92,93,94,95,96",
          "MINISTERIO DE AMBIENTE Y ESPACIO PUBLICO/AGENCIA AMBIENTAL/AGENCIA AMBIENTAL/ACTIVIDADES COMUNES A LOS PROGRAMAS 91,92 Y 93",
          "MINISTERIO DE AMBIENTE Y ESPACIO PUBLICO/MINISTERIO DE AMBIENTE Y ESPACIO PUBLICO/DIRECCION GENERAL DE ARBOLADO/ARBOLADO URBANO",
          "MINISTERIO DE AMBIENTE Y ESPACIO PUBLICO/MINISTERIO DE AMBIENTE Y ESPACIO PUBLICO/DIRECCION GENERAL TECNICO ADMINISTRATIVA Y LEGAL/ASUNTOS LEGALES Y PRESUPUESTO",
          "MINISTERIO DE ESPACIO PUBLICO E HIGIENE URBANA/MINISTERIO DE ESPACIO PUBLICO E HIGIENE URBANA/DIRECCION GENERAL TECNICO ADMINISTRATIVA Y LEGAL/ASUNTOS LEGALES Y PRESUPUESTO",
          "MINISTERIO DE AMBIENTE Y ESPACIO PUBLICO/AGENCIA AMBIENTAL/DIRECCION GENERAL DE EVALUACION TECNICA/BUENOS AIRES PRODUCE MAS LIMPIO (P+L)",
          "MINISTERIO DE AMBIENTE Y ESPACIO PUBLICO/AGENCIA AMBIENTAL/DIRECCION GENERAL ESTRATEGIAS AMBIENTALES/BUENOS AIRES PRODUCE MAS LIMPIO (P+L)",
          "MINISTERIO DE AMBIENTE Y ESPACIO PUBLICO/AGENCIA AMBIENTAL/DIRECCION GENERAL POLITICA Y ESTRATEGIA AMBIENTAL/BUENOS AIRES PRODUCE MAS LIMPIO (P+L)",
          "MINISTERIO DE AMBIENTE Y ESPACIO PUBLICO/AGENCIA AMBIENTAL/AGENCIA AMBIENTAL/ACTIV. COMUNES A LOS PROG. 91,92 ,93 Y 94",
          "MINISTERIO DE AMBIENTE Y ESPACIO PUBLICO/AGENCIA AMBIENTAL/AGENCIA AMBIENTAL/CENTROS DE ATENCION VETERINARIA",
          "MINISTERIO DE AMBIENTE Y ESPACIO PUBLICO/AGENCIA AMBIENTAL/DIRECCION GENERAL ESTRATEGIAS AMBIENTALES/CENTROS DE ATENCION VETERINARIA",
          "MINISTERIO DE AMBIENTE Y ESPACIO PUBLICO/MINISTERIO DE AMBIENTE Y ESPACIO PUBLICO/DIRECCION GENERAL DE RECICLADO/RECICLADO DE RESIDUOS URBANOS",
          "MINISTERIO DE AMBIENTE Y ESPACIO PUBLICO/AGENCIA AMBIENTAL/AGENCIA AMBIENTAL/COMPENSACION AMBIENTAL",
          "MINISTERIO DE AMBIENTE Y ESPACIO PUBLICO/AGENCIA AMBIENTAL/DIRECCION GENERAL DE EVALUACION AMBIENTAL/COMPENSACION AMBIENTAL",
          "MINISTERIO DE AMBIENTE Y ESPACIO PUBLICO/MINISTERIO DE AMBIENTE Y ESPACIO PUBLICO/UPE ECOPARQUE INTERACTIVO DE LA CABA/CONSERVACION DE LA BIODIVERSIDAD",
          "MINISTERIO DE AMBIENTE Y ESPACIO PUBLICO/MINISTERIO DE AMBIENTE Y ESPACIO PUBLICO/DIRECCION GENERAL DE LIMPIEZA/SERVICIOS DE HIGIENE URBANA",
          "MINISTERIO DE AMBIENTE Y ESPACIO PUBLICO/AGENCIA AMBIENTAL/DIRECCION GENERAL DE CONTROL/CONTROL AMBIENTAL",
          "MINISTERIO DE AMBIENTE Y ESPACIO PUBLICO/MINISTERIO DE AMBIENTE Y ESPACIO PUBLICO/DIRECCION GENERAL CONTROL DE GESTION/CONTROL DE GESTION",
          "MINISTERIO DE AMBIENTE Y ESPACIO PUBLICO/MINISTERIO DE AMBIENTE Y ESPACIO PUBLICO/DIRECCION GENERAL CONTROL DE GESTION/CONTROL DE GESTION Y RECLAMOS",
          "MINISTERIO DE ESPACIO PUBLICO E HIGIENE URBANA/MINISTERIO DE ESPACIO PUBLICO E HIGIENE URBANA/DIRECCION GENERAL CONTROL DE GESTION/CONTROL DE GESTION Y RECLAMOS",
          "MINISTERIO DE AMBIENTE Y ESPACIO PUBLICO/MINISTERIO DE AMBIENTE Y ESPACIO PUBLICO/DIRECCION GENERAL DE LIMPIEZA/CONTROL DE HIGIENE EN VIA PUBLICA E INMUEBLES",
          "MINISTERIO DE AMBIENTE Y ESPACIO PUBLICO/MINISTERIO DE AMBIENTE Y ESPACIO PUBLICO/DIRECCION GENERAL INSPECCION DE HIGIENE URBANA/CONTROL DE HIGIENE EN VIA PUBLICA E INMUEBLES",
          "MINISTERIO DE AMBIENTE Y ESPACIO PUBLICO/MINISTERIO DE AMBIENTE Y ESPACIO PUBLICO/SUBSECRETARIA DE HIGIENE URBANA/CONTROL DE HIGIENE EN VIA PUBLICA E INMUEBLES",
          "MINISTERIO DE AMBIENTE Y ESPACIO PUBLICO/MINISTERIO DE AMBIENTE Y ESPACIO PUBLICO/DIRECCION GENERAL DE LIMPIEZA/CONTROL DE PLAGAS",
          "MINISTERIO DE ESPACIO PUBLICO E HIGIENE URBANA/MINISTERIO DE ESPACIO PUBLICO E HIGIENE URBANA/DIRECCION GENERAL DE LIMPIEZA/CONTROL DE PLAGAS",
          "MINISTERIO DE AMBIENTE Y ESPACIO PUBLICO/MINISTERIO DE AMBIENTE Y ESPACIO PUBLICO/DIRECCION GENERAL INSPECCION DE HIGIENE URBANA/CONTROL DE PLAGAS",
          "MINISTERIO DE AMBIENTE Y ESPACIO PUBLICO/AGENCIA AMBIENTAL/DIRECCION GENERAL ESTRATEGIAS AMBIENTALES/ESTRATEGIAS AMBIENTALES",
          "MINISTERIO DE AMBIENTE Y ESPACIO PUBLICO/AGENCIA AMBIENTAL/DIRECCION GENERAL ESTRATEGIAS AMBIENTALES/ESTRATEGIAS AMBIENTALES",
          "MINISTERIO DE AMBIENTE Y ESPACIO PUBLICO/MINISTERIO DE AMBIENTE Y ESPACIO PUBLICO/DIRECCION GENERAL DE ARBOLADO/ARBOLADO URBANO",
          "MINISTERIO DE AMBIENTE Y ESPACIO PUBLICO/MINISTERIO DE AMBIENTE Y ESPACIO PUBLICO/DIRECCION GENERAL DE ESPACIOS VERDES/CUIDADO Y PUESTA EN VALOR DE ESPACIOS VERDES",
          "MINISTERIO DE AMBIENTE Y ESPACIO PUBLICO/MINISTERIO DE AMBIENTE Y ESPACIO PUBLICO/DIRECCION GENERAL DE ESPACIOS VERDES/CUIDADO Y PUESTA EN VALOR DE ESPACIOS VERDES",
          "MINISTERIO DE AMBIENTE Y ESPACIO PUBLICO/MINISTERIO DE AMBIENTE Y ESPACIO PUBLICO/DIRECCION GENERAL DE ESPACIOS VERDES/CUIDADO Y PUESTA EN VALOR DE ESPACIOS VERDES",
          "MINISTERIO DE AMBIENTE Y ESPACIO PUBLICO/MINISTERIO DE AMBIENTE Y ESPACIO PUBLICO/DIRECCION GENERAL DE ESPACIOS VERDES/CUIDADO Y PUESTA EN VALOR DE ESPACIOS VERDES",
          "MINISTERIO DE AMBIENTE Y ESPACIO PUBLICO/AGENCIA AMBIENTAL/DIRECCION GENERAL ESTRATEGIAS AMBIENTALES/ESTRATEGIAS AMBIENTALES",
          "MINISTERIO DE AMBIENTE Y ESPACIO PUBLICO/AGENCIA AMBIENTAL/DIRECCION GENERAL ESTRATEGIAS AMBIENTALES/PLANEAMIENTO DE LA GESTION AMBIENTAL SOSTENIBLE",
          "MINISTERIO DE AMBIENTE Y ESPACIO PUBLICO/MINISTERIO DE AMBIENTE Y ESPACIO PUBLICO/DIRECCION GENERAL DE LIMPIEZA/SERVICIOS DE HIGIENE URBANA",
          "MINISTERIO DE AMBIENTE Y ESPACIO PUBLICO/AGENCIA AMBIENTAL/AGENCIA AMBIENTAL/REDES AMBIENTALES",
          "MINISTERIO DE AMBIENTE Y ESPACIO PUBLICO/AGENCIA AMBIENTAL/DIRECCION GENERAL ESTRATEGIAS AMBIENTALES/ESTRATEGIAS AMBIENTALES",
          "MINISTERIO DE AMBIENTE Y ESPACIO PUBLICO/AGENCIA AMBIENTAL/DIRECCION GENERAL POLITICA Y ESTRATEGIA AMBIENTAL/ESTRATEGIAS AMBIENTALES",
          "MINISTERIO DE AMBIENTE Y ESPACIO PUBLICO/AGENCIA AMBIENTAL/DIRECCION GENERAL DE EVALUACION AMBIENTAL/EVALUACION TECNICA",
          "MINISTERIO DE AMBIENTE Y ESPACIO PUBLICO/AGENCIA AMBIENTAL/DIRECCION GENERAL DE EVALUACION TECNICA/EVALUACION TECNICA",
          "MINISTERIO DE AMBIENTE Y ESPACIO PUBLICO/AGENCIA AMBIENTAL/AGENCIA AMBIENTAL/GESTION AMBIENTAL",
          "MINISTERIO DE AMBIENTE Y ESPACIO PUBLICO/AGENCIA AMBIENTAL/DIRECCION GENERAL ESTRATEGIAS AMBIENTALES/ESTRATEGIAS AMBIENTALES",
          "MINISTERIO DE ESPACIO PUBLICO E HIGIENE URBANA/MINISTERIO DE ESPACIO PUBLICO E HIGIENE URBANA/SUBSECRETARIA DE ADMINISTRACION/ACTIVIDADES COMUNES A LOS PROG 22 Y 23",
          "MINISTERIO DE AMBIENTE Y ESPACIO PUBLICO/MINISTERIO DE AMBIENTE Y ESPACIO PUBLICO/DIRECCION GENERAL DE ARBOLADO/ARBOLADO URBANO",
          "MINISTERIO DE AMBIENTE Y ESPACIO PUBLICO/AGENCIA AMBIENTAL/AGENCIA AMBIENTAL/INTERVENCIONES VETERINARIAS",
          "MINISTERIO DE AMBIENTE Y ESPACIO PUBLICO/MINISTERIO DE AMBIENTE Y ESPACIO PUBLICO/DIRECCION GENERAL DE ESPACIOS VERDES/CUIDADO Y PUESTA EN VALOR DE ESPACIOS VERDES",
          "MINISTERIO DE AMBIENTE Y ESPACIO PUBLICO/AGENCIA AMBIENTAL/DIRECCION GENERAL DE CONTROL/LABORATORIO DE ANALISIS Y CALIDAD AMBIENTAL",
          "MINISTERIO DE AMBIENTE Y ESPACIO PUBLICO/AGENCIA AMBIENTAL/DIRECCION GENERAL DE EVALUACION TECNICA/LABORATORIO DE ANALISIS Y CALIDAD AMBIENTAL",
          "MINISTERIO DE AMBIENTE Y ESPACIO PUBLICO/MINISTERIO DE AMBIENTE Y ESPACIO PUBLICO/DIRECCION GENERAL DE ESPACIOS VERDES/CUIDADO Y PUESTA EN VALOR DE ESPACIOS VERDES",
          "MINISTERIO DE AMBIENTE Y ESPACIO PUBLICO/AGENCIA AMBIENTAL/AGENCIA AMBIENTAL/COMPENSACION AMBIENTAL",
          "MINISTERIO DE AMBIENTE Y ESPACIO PUBLICO/AGENCIA AMBIENTAL/DIRECCION GENERAL DE EVALUACION TECNICA/COMPENSACION AMBIENTAL",
          "MINISTERIO DE AMBIENTE Y ESPACIO PUBLICO/MINISTERIO DE AMBIENTE Y ESPACIO PUBLICO/DIRECCION GENERAL DE ESPACIOS VERDES/CUIDADO Y PUESTA EN VALOR DE ESPACIOS VERDES",
          "MINISTERIO DE AMBIENTE Y ESPACIO PUBLICO/MINISTERIO DE AMBIENTE Y ESPACIO PUBLICO/DIRECCION GENERAL DE ESPACIOS VERDES/CUIDADO Y PUESTA EN VALOR DE ESPACIOS VERDES",
          "MINISTERIO DE AMBIENTE Y ESPACIO PUBLICO/MINISTERIO DE AMBIENTE Y ESPACIO PUBLICO/DIRECCION GENERAL REGENERACION URBANA/REGENERACION URBANA",
          "MINISTERIO DE AMBIENTE Y ESPACIO PUBLICO/MINISTERIO DE AMBIENTE Y ESPACIO PUBLICO/UPE ECOPARQUE INTERACTIVO DE LA CABA/CONSERVACION DE LA BIODIVERSIDAD",
          "MINISTERIO DE AMBIENTE Y ESPACIO PUBLICO/MINISTERIO DE AMBIENTE Y ESPACIO PUBLICO/DIRECCION GENERAL OBRAS REGENERACION URBANA/OBRAS DE REGENERACIONURBANA",
          "MINISTERIO DE AMBIENTE Y ESPACIO PUBLICO/AGENCIA AMBIENTAL/DIRECCION GENERAL ESTRATEGIAS AMBIENTALES/PLANEAMIENTO DE LA GESTION AMBIENTAL SOSTENIBLE",
          "MINISTERIO DE AMBIENTE Y ESPACIO PUBLICO/MINISTERIO DE AMBIENTE Y ESPACIO PUBLICO/DIRECCION GENERAL PLANIFICACION Y PRESUPUESTO/PLANIFICACION Y PRESUPUESTO",
          "MINISTERIO DE AMBIENTE Y ESPACIO PUBLICO/AGENCIA AMBIENTAL/DIRECCION GENERAL DE EVALUACION TECNICA/PREVENC.AMB.EVALUAC.TECNICA Y CERTIFICADOS AMBIENTALES",
          "MINISTERIO DE AMBIENTE Y ESPACIO PUBLICO/AGENCIA AMBIENTAL/DIRECCION GENERAL DE EVALUACION TECNICA/PREVENCION AMBIENTAL EVALUACION TECNICA Y REGISTROS AMBIENTALES",
          "MINISTERIO DE AMBIENTE Y ESPACIO PUBLICO/AGENCIA AMBIENTAL/DIRECCION GENERAL POLITICA Y ESTRATEGIA AMBIENTAL/PROGRAMA DE CAMBIO CLIMATICO E INFORMACION AMBIENTAL",
          "MINISTERIO DE AMBIENTE Y ESPACIO PUBLICO/AGENCIA AMBIENTAL/DIRECCION GENERAL POLITICA Y ESTRATEGIA AMBIENTAL/PROGRAMA DE GESTION ENERGETICA",
          "MINISTERIO DE AMBIENTE Y ESPACIO PUBLICO/AGENCIA AMBIENTAL/DIRECCION GENERAL POLITICA Y ESTRATEGIA AMBIENTAL/PROGRAMA DE RESIDUOS DE MANEJO ESPECIAL",
          "MINISTERIO DE AMBIENTE Y ESPACIO PUBLICO/AGENCIA AMBIENTAL/AGENCIA AMBIENTAL/PROTECCION Y SANIDAD ANIMAL",
          "MINISTERIO DE AMBIENTE Y ESPACIO PUBLICO/AGENCIA AMBIENTAL/DIRECCION GENERAL ESTRATEGIAS AMBIENTALES/PROTECCION Y SANIDAD ANIMAL",
          "MINISTERIO DE AMBIENTE Y ESPACIO PUBLICO/AGENCIA AMBIENTAL/AGENCIA AMBIENTAL/GESTION AMBIENTAL",
          "MINISTERIO DE AMBIENTE Y ESPACIO PUBLICO/MINISTERIO DE AMBIENTE Y ESPACIO PUBLICO/DIRECCION GENERAL INSPECCION DE HIGIENE URBANA/CONTROL DE HIGIENE EN VIA PUBLICA E INMUEBLES",
          "MINISTERIO DE AMBIENTE Y ESPACIO PUBLICO/AGENCIA AMBIENTAL/AGENCIA AMBIENTAL/ACTIV. COMUNES A LOS PROG. 91,92 ,93 Y 94",
          "MINISTERIO DE AMBIENTE Y ESPACIO PUBLICO/AGENCIA AMBIENTAL/DIRECCION GENERAL ESTRATEGIAS AMBIENTALES/ESTRATEGIAS AMBIENTALES",
          "MINISTERIO DE AMBIENTE Y ESPACIO PUBLICO/MINISTERIO DE AMBIENTE Y ESPACIO PUBLICO/DIRECCION GENERAL DE ESPACIOS VERDES/CUIDADO Y PUESTA EN VALOR DE ESPACIOS VERDES",
          "MINISTERIO DE AMBIENTE Y ESPACIO PUBLICO/MINISTERIO DE AMBIENTE Y ESPACIO PUBLICO/DIRECCION GENERAL DE RECICLADO/RECICLADO DE RESIDUOS URBANOS",
          "MINISTERIO DE AMBIENTE Y ESPACIO PUBLICO/ENTE DE HIGIENE URBANA/ENTE DE HIGIENE URBANA/RECOLECCION, BARRIDO E HIGIENE DE LA CIUDAD DE BUENOS AIRES",
          "MINISTERIO DE AMBIENTE Y ESPACIO PUBLICO/AGENCIA AMBIENTAL/DIRECCION GENERAL ESTRATEGIAS AMBIENTALES/ESTRATEGIAS AMBIENTALES",
          "MINISTERIO DE AMBIENTE Y ESPACIO PUBLICO/AGENCIA AMBIENTAL/DIRECCION GENERAL ESTRATEGIAS AMBIENTALES/ESTRATEGIAS AMBIENTALES",
          "MINISTERIO DE AMBIENTE Y ESPACIO PUBLICO/AGENCIA AMBIENTAL/DIRECCION GENERAL ESTRATEGIAS AMBIENTALES/PLANEAMIENTO DE LA GESTION AMBIENTAL SOSTENIBLE",
          "MINISTERIO DE AMBIENTE Y ESPACIO PUBLICO/AGENCIA AMBIENTAL/AGENCIA AMBIENTAL/REDES AMBIENTALES",
          "MINISTERIO DE AMBIENTE Y ESPACIO PUBLICO/AGENCIA AMBIENTAL/DIRECCION GENERAL DE CONTROL/REDES AMBIENTALES",
          "MINISTERIO DE AMBIENTE Y ESPACIO PUBLICO/AGENCIA AMBIENTAL/AGENCIA AMBIENTAL/ACTIV. COMUNES A LOS PROG. 91,92 ,93 Y 94",
          "MINISTERIO DE AMBIENTE Y ESPACIO PUBLICO/AGENCIA AMBIENTAL/AGENCIA AMBIENTAL/COMPENSACION AMBIENTAL",
          "MINISTERIO DE AMBIENTE Y ESPACIO PUBLICO/MINISTERIO DE AMBIENTE Y ESPACIO PUBLICO/MINISTERIO AMBIENTE Y ESPACIO PUBLICO/MANTENIMIENTO ZONA PUERTO MADERO",
          "MINISTERIO DE AMBIENTE Y ESPACIO PUBLICO/AGENCIA AMBIENTAL/AGENCIA AMBIENTAL/ACTIV. COMUNES A LOS PROG. 91,92 ,93 Y 94",
          "MINISTERIO DE AMBIENTE Y ESPACIO PUBLICO/AGENCIA AMBIENTAL/AGENCIA AMBIENTAL/ACTIV. COMUNES A LOS PROG. 91,92 ,93 Y 94",
          "MINISTERIO DE AMBIENTE Y ESPACIO PUBLICO/AGENCIA AMBIENTAL/AGENCIA AMBIENTAL/SANIDAD Y TENENCIA RESPONSABLE DE MASCOTAS",
          "MINISTERIO DE AMBIENTE Y ESPACIO PUBLICO/MINISTERIO DE AMBIENTE Y ESPACIO PUBLICO/DIRECCION GENERAL DE LIMPIEZA/SERVICIOS DE HIGIENE URBANA",
          "MINISTERIO DE AMBIENTE Y ESPACIO PUBLICO/MINISTERIO DE AMBIENTE Y ESPACIO PUBLICO/MINISTERIO AMBIENTE Y ESPACIO PUBLICO/SERVICIOS DE ADMINISTRACION",
          "MINISTERIO DE AMBIENTE Y ESPACIO PUBLICO/AGENCIA AMBIENTAL/DIRECCION GENERAL DE EVALUACION TECNICA/COMPENSACION AMBIENTAL",
          "MINISTERIO DE AMBIENTE Y ESPACIO PUBLICO/MINISTERIO DE AMBIENTE Y ESPACIO PUBLICO/DIRECCION GENERAL TECNICO ADMINISTRATIVA Y LEGAL/TECNICA ADMINISTRATIVA Y LEGAL",
          "MINISTERIO DE AMBIENTE Y ESPACIO PUBLICO/MINISTERIO DE AMBIENTE Y ESPACIO PUBLICO/DIRECCION GENERAL TRATAMIENTO Y NUEVAS TECNOLOGIAS/TRATAMIENTO DE RESIDUOS SOLIDOS URBANOS",
          "MINISTERIO DE AMBIENTE Y ESPACIO PUBLICO/MINISTERIO DE AMBIENTE Y ESPACIO PUBLICO/DIRECCION GENERAL DE ESPACIOS VERDES/CUIDADO Y PUESTA EN VALOR DE ESPACIOS VERDES",
          "MINISTERIO DE AMBIENTE Y ESPACIO PUBLICO/MINISTERIO DE AMBIENTE Y ESPACIO PUBLICO/DIRECCION GENERAL DE ESPACIOS VERDES/CUIDADO Y PUESTA EN VALOR DE ESPACIOS VERDES",
          "MINISTERIO DE AMBIENTE Y ESPACIO PUBLICO/AGENCIA AMBIENTAL/DIRECCION GENERAL DE CONTROL",
          "MINISTERIO DE ESPACIO PUBLICO E HIGIENE URBANA/MINISTERIO DE ESPACIO PUBLICO E HIGIENE URBANA/MIN.ESP.PUBLICO E HIG. URBANA",
          "MINISTERIO DE AMBIENTE Y ESPACIO PUBLICO/AGENCIA AMBIENTAL/AGENCIA AMBIENTAL",
          "MINISTERIO DE AMBIENTE Y ESPACIO PUBLICO/AGENCIA AMBIENTAL/AGENCIA AMBIENTAL",
          "MINISTERIO DE AMBIENTE Y ESPACIO PUBLICO/MINISTERIO DE AMBIENTE Y ESPACIO PUBLICO/MINISTERIO AMBIENTE Y ESPACIO PUBLICO",
          "MINISTERIO DE AMBIENTE Y ESPACIO PUBLICO/AGENCIA AMBIENTAL/AGENCIA AMBIENTAL",
          "MINISTERIO DE AMBIENTE Y ESPACIO PUBLICO/MINISTERIO DE AMBIENTE Y ESPACIO PUBLICO/SUBSECRETARIA DE ADMINISTRACION",
          "MINISTERIO DE AMBIENTE Y ESPACIO PUBLICO/MINISTERIO DE AMBIENTE Y ESPACIO PUBLICO/SUBSECRETARIA DE ADMINISTRACION GENERAL Y DE USO DEL ESPACIO PUBLICO",
          "MINISTERIO DE ESPACIO PUBLICO E HIGIENE URBANA/MINISTERIO DE ESPACIO PUBLICO E HIGIENE URBANA/SUBSECRETARIA DE ADMINISTRACION",
          "MINISTERIO DE AMBIENTE Y ESPACIO PUBLICO/AGENCIA AMBIENTAL/AGENCIA AMBIENTAL",
          "MINISTERIO DE AMBIENTE Y ESPACIO PUBLICO/AGENCIA AMBIENTAL/AGENCIA AMBIENTAL",
          "MINISTERIO DE AMBIENTE Y ESPACIO PUBLICO/AGENCIA AMBIENTAL/AGENCIA AMBIENTAL",
          "MINISTERIO DE AMBIENTE Y ESPACIO PUBLICO/AGENCIA AMBIENTAL/AGENCIA AMBIENTAL",
          "MINISTERIO DE AMBIENTE Y ESPACIO PUBLICO/AGENCIA AMBIENTAL/AGENCIA AMBIENTAL",
          "MINISTERIO DE AMBIENTE Y ESPACIO PUBLICO/MINISTERIO DE AMBIENTE Y ESPACIO PUBLICO/SUBSECRETARIA DE HIGIENE URBANA",
          "MINISTERIO DE AMBIENTE Y ESPACIO PUBLICO/MINISTERIO DE AMBIENTE Y ESPACIO PUBLICO/SUBSECRETARIA DE HIGIENE URBANA",
          "MINISTERIO DE AMBIENTE Y ESPACIO PUBLICO/MINISTERIO DE AMBIENTE Y ESPACIO PUBLICO/SUBSECRETARIA DE HIGIENE URBANA",
          "MINISTERIO DE AMBIENTE Y ESPACIO PUBLICO/MINISTERIO DE AMBIENTE Y ESPACIO PUBLICO/SUBSECRETARIA DE HIGIENE URBANA",
          "MINISTERIO DE AMBIENTE Y ESPACIO PUBLICO/MINISTERIO DE AMBIENTE Y ESPACIO PUBLICO/SUBSECRETARIA DE HIGIENE URBANA",
          "MINISTERIO DE AMBIENTE Y ESPACIO PUBLICO/MINISTERIO DE AMBIENTE Y ESPACIO PUBLICO/SUBSECRETARIA DE HIGIENE URBANA",
          "MINISTERIO DE ESPACIO PUBLICO E HIGIENE URBANA/MINISTERIO DE ESPACIO PUBLICO E HIGIENE URBANA/SUBSECRETARIA DE HIGIENE URBANA",
          "MINISTERIO DE AMBIENTE Y ESPACIO PUBLICO/MINISTERIO DE AMBIENTE Y ESPACIO PUBLICO/SUBSECRETARIA DE HIGIENE URBANA",
          "MINISTERIO DE AMBIENTE Y ESPACIO PUBLICO/MINISTERIO DE AMBIENTE Y ESPACIO PUBLICO/DIRECCION GENERAL DE ARBOLADO",
          "MINISTERIO DE AMBIENTE Y ESPACIO PUBLICO/MINISTERIO DE AMBIENTE Y ESPACIO PUBLICO/DIRECCION GENERAL TECNICO ADMINISTRATIVA Y LEGAL",
          "MINISTERIO DE ESPACIO PUBLICO E HIGIENE URBANA/MINISTERIO DE ESPACIO PUBLICO E HIGIENE URBANA/DIRECCION GENERAL TECNICO ADMINISTRATIVA Y LEGAL",
          "MINISTERIO DE AMBIENTE Y ESPACIO PUBLICO/AGENCIA AMBIENTAL/DIRECCION GENERAL DE EVALUACION TECNICA",
          "MINISTERIO DE AMBIENTE Y ESPACIO PUBLICO/AGENCIA AMBIENTAL/DIRECCION GENERAL ESTRATEGIAS AMBIENTALES",
          "MINISTERIO DE AMBIENTE Y ESPACIO PUBLICO/AGENCIA AMBIENTAL/DIRECCION GENERAL POLITICA Y ESTRATEGIA AMBIENTAL",
          "MINISTERIO DE AMBIENTE Y ESPACIO PUBLICO/AGENCIA AMBIENTAL/AGENCIA AMBIENTAL",
          "MINISTERIO DE AMBIENTE Y ESPACIO PUBLICO/AGENCIA AMBIENTAL/DIRECCION GENERAL ESTRATEGIAS AMBIENTALES",
          "MINISTERIO DE AMBIENTE Y ESPACIO PUBLICO/AGENCIA AMBIENTAL/AGENCIA AMBIENTAL",
          "MINISTERIO DE AMBIENTE Y ESPACIO PUBLICO/AGENCIA AMBIENTAL/DIRECCION GENERAL DE EVALUACION AMBIENTAL",
          "MINISTERIO DE AMBIENTE Y ESPACIO PUBLICO/AGENCIA AMBIENTAL/DIRECCION GENERAL DE EVALUACION TECNICA",
          "MINISTERIO DE AMBIENTE Y ESPACIO PUBLICO/MINISTERIO DE AMBIENTE Y ESPACIO PUBLICO/UPE ECOPARQUE INTERACTIVO DE LA CABA",
          "MINISTERIO DE AMBIENTE Y ESPACIO PUBLICO/AGENCIA AMBIENTAL/DIRECCION GENERAL DE CONTROL",
          "MINISTERIO DE AMBIENTE Y ESPACIO PUBLICO/MINISTERIO DE AMBIENTE Y ESPACIO PUBLICO/DIRECCION GENERAL CONTROL DE GESTION",
          "MINISTERIO DE AMBIENTE Y ESPACIO PUBLICO/MINISTERIO DE AMBIENTE Y ESPACIO PUBLICO/DIRECCION GENERAL CONTROL DE GESTION",
          "MINISTERIO DE ESPACIO PUBLICO E HIGIENE URBANA/MINISTERIO DE ESPACIO PUBLICO E HIGIENE URBANA/DIRECCION GENERAL CONTROL DE GESTION",
          "MINISTERIO DE AMBIENTE Y ESPACIO PUBLICO/MINISTERIO DE AMBIENTE Y ESPACIO PUBLICO/DIRECCION GENERAL DE LIMPIEZA",
          "MINISTERIO DE AMBIENTE Y ESPACIO PUBLICO/MINISTERIO DE AMBIENTE Y ESPACIO PUBLICO/DIRECCION GENERAL INSPECCION DE HIGIENE URBANA",
          "MINISTERIO DE AMBIENTE Y ESPACIO PUBLICO/MINISTERIO DE AMBIENTE Y ESPACIO PUBLICO/SUBSECRETARIA DE HIGIENE URBANA",
          "MINISTERIO DE AMBIENTE Y ESPACIO PUBLICO/MINISTERIO DE AMBIENTE Y ESPACIO PUBLICO/DIRECCION GENERAL DE LIMPIEZA",
          "MINISTERIO DE ESPACIO PUBLICO E HIGIENE URBANA/MINISTERIO DE ESPACIO PUBLICO E HIGIENE URBANA/DIRECCION GENERAL DE LIMPIEZA",
          "MINISTERIO DE AMBIENTE Y ESPACIO PUBLICO/MINISTERIO DE AMBIENTE Y ESPACIO PUBLICO/DIRECCION GENERAL INSPECCION DE HIGIENE URBANA",
          "MINISTERIO DE AMBIENTE Y ESPACIO PUBLICO/MINISTERIO DE AMBIENTE Y ESPACIO PUBLICO/DIRECCION GENERAL DE ESPACIOS VERDES",
          "MINISTERIO DE AMBIENTE Y ESPACIO PUBLICO/AGENCIA AMBIENTAL/DIRECCION GENERAL ESTRATEGIAS AMBIENTALES",
          "MINISTERIO DE AMBIENTE Y ESPACIO PUBLICO/AGENCIA AMBIENTAL/DIRECCION GENERAL POLITICA Y ESTRATEGIA AMBIENTAL",
          "MINISTERIO DE AMBIENTE Y ESPACIO PUBLICO/AGENCIA AMBIENTAL/DIRECCION GENERAL DE EVALUACION AMBIENTAL",
          "MINISTERIO DE AMBIENTE Y ESPACIO PUBLICO/AGENCIA AMBIENTAL/DIRECCION GENERAL DE EVALUACION TECNICA",
          "MINISTERIO DE AMBIENTE Y ESPACIO PUBLICO/AGENCIA AMBIENTAL/AGENCIA AMBIENTAL",
          "MINISTERIO DE AMBIENTE Y ESPACIO PUBLICO/AGENCIA AMBIENTAL/AGENCIA AMBIENTAL",
          "MINISTERIO DE AMBIENTE Y ESPACIO PUBLICO/AGENCIA AMBIENTAL/DIRECCION GENERAL DE CONTROL",
          "MINISTERIO DE AMBIENTE Y ESPACIO PUBLICO/AGENCIA AMBIENTAL/DIRECCION GENERAL DE EVALUACION TECNICA",
          "MINISTERIO DE AMBIENTE Y ESPACIO PUBLICO/MINISTERIO DE AMBIENTE Y ESPACIO PUBLICO/MINISTERIO AMBIENTE Y ESPACIO PUBLICO",
          "MINISTERIO DE AMBIENTE Y ESPACIO PUBLICO/MINISTERIO DE AMBIENTE Y ESPACIO PUBLICO/DIRECCION GENERAL OBRAS REGENERACION URBANA",
          "MINISTERIO DE AMBIENTE Y ESPACIO PUBLICO/AGENCIA AMBIENTAL/DIRECCION GENERAL ESTRATEGIAS AMBIENTALES",
          "MINISTERIO DE AMBIENTE Y ESPACIO PUBLICO/MINISTERIO DE AMBIENTE Y ESPACIO PUBLICO/DIRECCION GENERAL PLANIFICACION Y PRESUPUESTO",
          "MINISTERIO DE AMBIENTE Y ESPACIO PUBLICO/AGENCIA AMBIENTAL/DIRECCION GENERAL DE EVALUACION TECNICA",
          "MINISTERIO DE AMBIENTE Y ESPACIO PUBLICO/AGENCIA AMBIENTAL/DIRECCION GENERAL DE EVALUACION TECNICA",
          "MINISTERIO DE AMBIENTE Y ESPACIO PUBLICO/AGENCIA AMBIENTAL/DIRECCION GENERAL POLITICA Y ESTRATEGIA AMBIENTAL",
          "MINISTERIO DE AMBIENTE Y ESPACIO PUBLICO/AGENCIA AMBIENTAL/DIRECCION GENERAL POLITICA Y ESTRATEGIA AMBIENTAL",
          "MINISTERIO DE AMBIENTE Y ESPACIO PUBLICO/AGENCIA AMBIENTAL/DIRECCION GENERAL POLITICA Y ESTRATEGIA AMBIENTAL",
          "MINISTERIO DE AMBIENTE Y ESPACIO PUBLICO/AGENCIA AMBIENTAL/AGENCIA AMBIENTAL",
          "MINISTERIO DE AMBIENTE Y ESPACIO PUBLICO/AGENCIA AMBIENTAL/DIRECCION GENERAL ESTRATEGIAS AMBIENTALES",
          "MINISTERIO DE AMBIENTE Y ESPACIO PUBLICO/MINISTERIO DE AMBIENTE Y ESPACIO PUBLICO/DIRECCION GENERAL DE RECICLADO",
          "MINISTERIO DE AMBIENTE Y ESPACIO PUBLICO/ENTE DE HIGIENE URBANA/ENTE DE HIGIENE URBANA",
          "MINISTERIO DE AMBIENTE Y ESPACIO PUBLICO/AGENCIA AMBIENTAL/AGENCIA AMBIENTAL",
          "MINISTERIO DE AMBIENTE Y ESPACIO PUBLICO/AGENCIA AMBIENTAL/DIRECCION GENERAL DE CONTROL",
          "MINISTERIO DE AMBIENTE Y ESPACIO PUBLICO/MINISTERIO DE AMBIENTE Y ESPACIO PUBLICO/DIRECCION GENERAL REGENERACION URBANA",
          "MINISTERIO DE AMBIENTE Y ESPACIO PUBLICO/AGENCIA AMBIENTAL/AGENCIA AMBIENTAL",
          "MINISTERIO DE AMBIENTE Y ESPACIO PUBLICO/MINISTERIO DE AMBIENTE Y ESPACIO PUBLICO/MINISTERIO AMBIENTE Y ESPACIO PUBLICO",
          "MINISTERIO DE AMBIENTE Y ESPACIO PUBLICO/MINISTERIO DE AMBIENTE Y ESPACIO PUBLICO/DIRECCION GENERAL DE LIMPIEZA",
          "MINISTERIO DE AMBIENTE Y ESPACIO PUBLICO/MINISTERIO DE AMBIENTE Y ESPACIO PUBLICO/DIRECCION GENERAL TECNICO ADMINISTRATIVA Y LEGAL",
          "MINISTERIO DE AMBIENTE Y ESPACIO PUBLICO/MINISTERIO DE AMBIENTE Y ESPACIO PUBLICO/DIRECCION GENERAL TRATAMIENTO Y NUEVAS TECNOLOGIAS",
          "MINISTERIO DE AMBIENTE Y ESPACIO PUBLICO/AGENCIA AMBIENTAL",
          "MINISTERIO DE AMBIENTE Y ESPACIO PUBLICO/MINISTERIO DE AMBIENTE Y ESPACIO PUBLICO",
          "MINISTERIO DE ESPACIO PUBLICO E HIGIENE URBANA/MINISTERIO DE ESPACIO PUBLICO E HIGIENE URBANA",
          "MINISTERIO DE AMBIENTE Y ESPACIO PUBLICO/MINISTERIO DE AMBIENTE Y ESPACIO PUBLICO",
          "MINISTERIO DE AMBIENTE Y ESPACIO PUBLICO/AGENCIA AMBIENTAL",
          "MINISTERIO DE AMBIENTE Y ESPACIO PUBLICO/MINISTERIO DE AMBIENTE Y ESPACIO PUBLICO",
          "MINISTERIO DE AMBIENTE Y ESPACIO PUBLICO/AGENCIA AMBIENTAL",
          "MINISTERIO DE AMBIENTE Y ESPACIO PUBLICO/AGENCIA AMBIENTAL",
          "MINISTERIO DE AMBIENTE Y ESPACIO PUBLICO/MINISTERIO DE AMBIENTE Y ESPACIO PUBLICO",
          "MINISTERIO DE ESPACIO PUBLICO E HIGIENE URBANA/MINISTERIO DE ESPACIO PUBLICO E HIGIENE URBANA",
          "MINISTERIO DE AMBIENTE Y ESPACIO PUBLICO/MINISTERIO DE AMBIENTE Y ESPACIO PUBLICO",
          "MINISTERIO DE AMBIENTE Y ESPACIO PUBLICO/AGENCIA AMBIENTAL",
          "MINISTERIO DE AMBIENTE Y ESPACIO PUBLICO/MINISTERIO DE AMBIENTE Y ESPACIO PUBLICO",
          "MINISTERIO DE AMBIENTE Y ESPACIO PUBLICO/MINISTERIO DE AMBIENTE Y ESPACIO PUBLICO",
          "MINISTERIO DE AMBIENTE Y ESPACIO PUBLICO/MINISTERIO DE AMBIENTE Y ESPACIO PUBLICO",
          "MINISTERIO DE AMBIENTE Y ESPACIO PUBLICO/AGENCIA AMBIENTAL",
          "MINISTERIO DE AMBIENTE Y ESPACIO PUBLICO/MINISTERIO DE AMBIENTE Y ESPACIO PUBLICO",
          "MINISTERIO DE AMBIENTE Y ESPACIO PUBLICO/MINISTERIO DE AMBIENTE Y ESPACIO PUBLICO",
          "MINISTERIO DE ESPACIO PUBLICO E HIGIENE URBANA/MINISTERIO DE ESPACIO PUBLICO E HIGIENE URBANA",
          "MINISTERIO DE AMBIENTE Y ESPACIO PUBLICO/MINISTERIO DE AMBIENTE Y ESPACIO PUBLICO",
          "MINISTERIO DE AMBIENTE Y ESPACIO PUBLICO/ENTE DE HIGIENE URBANA",
          "MINISTERIO DE ESPACIO PUBLICO E HIGIENE URBANA/MINISTERIO DE ESPACIO PUBLICO E HIGIENE URBANA",
          "MINISTERIO DE AMBIENTE Y ESPACIO PUBLICO/MINISTERIO DE AMBIENTE Y ESPACIO PUBLICO",
          "MINISTERIO DE AMBIENTE Y ESPACIO PUBLICO/MINISTERIO DE AMBIENTE Y ESPACIO PUBLICO",
          "MINISTERIO DE ESPACIO PUBLICO E HIGIENE URBANA/MINISTERIO DE ESPACIO PUBLICO E HIGIENE URBANA",
          "MINISTERIO DE AMBIENTE Y ESPACIO PUBLICO/MINISTERIO DE AMBIENTE Y ESPACIO PUBLICO",
          "MINISTERIO DE AMBIENTE Y ESPACIO PUBLICO/MINISTERIO DE AMBIENTE Y ESPACIO PUBLICO",
          "MINISTERIO DE ESPACIO PUBLICO E HIGIENE URBANA/MINISTERIO DE ESPACIO PUBLICO E HIGIENE URBANA",
          "MINISTERIO DE AMBIENTE Y ESPACIO PUBLICO/MINISTERIO DE AMBIENTE Y ESPACIO PUBLICO",
          "MINISTERIO DE AMBIENTE Y ESPACIO PUBLICO",
          "MINISTERIO DE AMBIENTE Y ESPACIO PUBLICO",
          "MINISTERIO DE AMBIENTE Y ESPACIO PUBLICO",
          "MINISTERIO DE ESPACIO PUBLICO E HIGIENE URBANA",
          "",
          ""
         ],
         "textinfo": "percent entry",
         "type": "sunburst",
         "values": [
          4050000,
          155469540,
          12607967,
          780000,
          14306339,
          338990674,
          48824258,
          32563320,
          1985095408,
          53769640,
          31815766,
          2500000,
          71934769,
          114924782,
          141102216,
          196058650,
          97683911,
          14223403,
          7784721,
          31645849,
          2703920,
          5518389,
          36647045,
          21695218,
          29399762,
          4243715,
          5000000,
          700000,
          74869104,
          45065786,
          74315592,
          815100,
          2943880,
          10706585,
          800000,
          10000000,
          5950000,
          69419600,
          2867774,
          1993859,
          235009468,
          2527400,
          418670997,
          19242300,
          165743542,
          50698964,
          24924701,
          83641483,
          3276000,
          322995646,
          149233977,
          27455532,
          60000,
          400000,
          7303552,
          16600001,
          1333023236,
          49100000,
          3500000,
          1800000,
          1200000,
          203036000,
          10060000,
          96277865,
          65276312,
          99837165,
          87077581,
          22317359,
          500000,
          164000010,
          140214401,
          36096324,
          4000000,
          53348816,
          2957515,
          7252834,
          14900000,
          13500000,
          169731781,
          102530490,
          1000006,
          106286583,
          1719000,
          6153946,
          5940950,
          14990880,
          19755999,
          8025542,
          6890776,
          19929965,
          14731026,
          15841445,
          9220000,
          1800000,
          800000,
          10000000,
          200000,
          36495055,
          4499450,
          10000000,
          687440,
          400000,
          14766225,
          3549635,
          1680000,
          4000000,
          15000000,
          780000,
          600000,
          102519367,
          186964798,
          35960184,
          10000000,
          66531500,
          50000000,
          3580602639,
          248558473,
          14306339,
          338990674,
          54264258,
          32563320,
          1985095408,
          58769640,
          31815766,
          2500000,
          235934779,
          114924782,
          141102216,
          196058650,
          97683911,
          14923403,
          7784721,
          31645849,
          2703920,
          5518389,
          36647045,
          21695218,
          29399762,
          4243715,
          222387057,
          45065786,
          74315592,
          815100,
          2943880,
          10706585,
          10000000,
          5950000,
          21767774,
          1993859,
          23500000,
          341296051,
          418670997,
          19242300,
          165743542,
          50698964,
          24924701,
          85441483,
          3276000,
          322995646,
          149233977,
          27455532,
          5527707421,
          119725305,
          65276312,
          99837165,
          87077581,
          31537359,
          36096324,
          53348816,
          2957515,
          15000000,
          1719000,
          7753946,
          5940950,
          14990880,
          19755999,
          8025542,
          6890776,
          19929965,
          14731026,
          15841445,
          109964655,
          4499450,
          24826225,
          3549635,
          1000006,
          102519367,
          35960184,
          547997738,
          66531500,
          50000000,
          951768255,
          184985842,
          50698964,
          222387057,
          489875787,
          5527707421,
          101831024,
          149097075,
          895918085,
          149233977,
          109964655,
          152214576,
          112897015,
          1719000,
          5940950,
          110829180,
          1000006,
          111597286,
          74315592,
          50000000,
          4499450,
          338990674,
          2036055592,
          31815766,
          235934779,
          2500000,
          113514857,
          29399762,
          341296051,
          1955615897,
          4499450,
          9749299583,
          878573748,
          11709414930,
          878573748
         ]
        }
       ],
       "layout": {
        "legend": {
         "tracegroupgap": 0
        },
        "margin": {
         "t": 60
        },
        "template": {
         "data": {
          "bar": [
           {
            "error_x": {
             "color": "#2a3f5f"
            },
            "error_y": {
             "color": "#2a3f5f"
            },
            "marker": {
             "line": {
              "color": "#E5ECF6",
              "width": 0.5
             }
            },
            "type": "bar"
           }
          ],
          "barpolar": [
           {
            "marker": {
             "line": {
              "color": "#E5ECF6",
              "width": 0.5
             }
            },
            "type": "barpolar"
           }
          ],
          "carpet": [
           {
            "aaxis": {
             "endlinecolor": "#2a3f5f",
             "gridcolor": "white",
             "linecolor": "white",
             "minorgridcolor": "white",
             "startlinecolor": "#2a3f5f"
            },
            "baxis": {
             "endlinecolor": "#2a3f5f",
             "gridcolor": "white",
             "linecolor": "white",
             "minorgridcolor": "white",
             "startlinecolor": "#2a3f5f"
            },
            "type": "carpet"
           }
          ],
          "choropleth": [
           {
            "colorbar": {
             "outlinewidth": 0,
             "ticks": ""
            },
            "type": "choropleth"
           }
          ],
          "contour": [
           {
            "colorbar": {
             "outlinewidth": 0,
             "ticks": ""
            },
            "colorscale": [
             [
              0,
              "#0d0887"
             ],
             [
              0.1111111111111111,
              "#46039f"
             ],
             [
              0.2222222222222222,
              "#7201a8"
             ],
             [
              0.3333333333333333,
              "#9c179e"
             ],
             [
              0.4444444444444444,
              "#bd3786"
             ],
             [
              0.5555555555555556,
              "#d8576b"
             ],
             [
              0.6666666666666666,
              "#ed7953"
             ],
             [
              0.7777777777777778,
              "#fb9f3a"
             ],
             [
              0.8888888888888888,
              "#fdca26"
             ],
             [
              1,
              "#f0f921"
             ]
            ],
            "type": "contour"
           }
          ],
          "contourcarpet": [
           {
            "colorbar": {
             "outlinewidth": 0,
             "ticks": ""
            },
            "type": "contourcarpet"
           }
          ],
          "heatmap": [
           {
            "colorbar": {
             "outlinewidth": 0,
             "ticks": ""
            },
            "colorscale": [
             [
              0,
              "#0d0887"
             ],
             [
              0.1111111111111111,
              "#46039f"
             ],
             [
              0.2222222222222222,
              "#7201a8"
             ],
             [
              0.3333333333333333,
              "#9c179e"
             ],
             [
              0.4444444444444444,
              "#bd3786"
             ],
             [
              0.5555555555555556,
              "#d8576b"
             ],
             [
              0.6666666666666666,
              "#ed7953"
             ],
             [
              0.7777777777777778,
              "#fb9f3a"
             ],
             [
              0.8888888888888888,
              "#fdca26"
             ],
             [
              1,
              "#f0f921"
             ]
            ],
            "type": "heatmap"
           }
          ],
          "heatmapgl": [
           {
            "colorbar": {
             "outlinewidth": 0,
             "ticks": ""
            },
            "colorscale": [
             [
              0,
              "#0d0887"
             ],
             [
              0.1111111111111111,
              "#46039f"
             ],
             [
              0.2222222222222222,
              "#7201a8"
             ],
             [
              0.3333333333333333,
              "#9c179e"
             ],
             [
              0.4444444444444444,
              "#bd3786"
             ],
             [
              0.5555555555555556,
              "#d8576b"
             ],
             [
              0.6666666666666666,
              "#ed7953"
             ],
             [
              0.7777777777777778,
              "#fb9f3a"
             ],
             [
              0.8888888888888888,
              "#fdca26"
             ],
             [
              1,
              "#f0f921"
             ]
            ],
            "type": "heatmapgl"
           }
          ],
          "histogram": [
           {
            "marker": {
             "colorbar": {
              "outlinewidth": 0,
              "ticks": ""
             }
            },
            "type": "histogram"
           }
          ],
          "histogram2d": [
           {
            "colorbar": {
             "outlinewidth": 0,
             "ticks": ""
            },
            "colorscale": [
             [
              0,
              "#0d0887"
             ],
             [
              0.1111111111111111,
              "#46039f"
             ],
             [
              0.2222222222222222,
              "#7201a8"
             ],
             [
              0.3333333333333333,
              "#9c179e"
             ],
             [
              0.4444444444444444,
              "#bd3786"
             ],
             [
              0.5555555555555556,
              "#d8576b"
             ],
             [
              0.6666666666666666,
              "#ed7953"
             ],
             [
              0.7777777777777778,
              "#fb9f3a"
             ],
             [
              0.8888888888888888,
              "#fdca26"
             ],
             [
              1,
              "#f0f921"
             ]
            ],
            "type": "histogram2d"
           }
          ],
          "histogram2dcontour": [
           {
            "colorbar": {
             "outlinewidth": 0,
             "ticks": ""
            },
            "colorscale": [
             [
              0,
              "#0d0887"
             ],
             [
              0.1111111111111111,
              "#46039f"
             ],
             [
              0.2222222222222222,
              "#7201a8"
             ],
             [
              0.3333333333333333,
              "#9c179e"
             ],
             [
              0.4444444444444444,
              "#bd3786"
             ],
             [
              0.5555555555555556,
              "#d8576b"
             ],
             [
              0.6666666666666666,
              "#ed7953"
             ],
             [
              0.7777777777777778,
              "#fb9f3a"
             ],
             [
              0.8888888888888888,
              "#fdca26"
             ],
             [
              1,
              "#f0f921"
             ]
            ],
            "type": "histogram2dcontour"
           }
          ],
          "mesh3d": [
           {
            "colorbar": {
             "outlinewidth": 0,
             "ticks": ""
            },
            "type": "mesh3d"
           }
          ],
          "parcoords": [
           {
            "line": {
             "colorbar": {
              "outlinewidth": 0,
              "ticks": ""
             }
            },
            "type": "parcoords"
           }
          ],
          "pie": [
           {
            "automargin": true,
            "type": "pie"
           }
          ],
          "scatter": [
           {
            "marker": {
             "colorbar": {
              "outlinewidth": 0,
              "ticks": ""
             }
            },
            "type": "scatter"
           }
          ],
          "scatter3d": [
           {
            "line": {
             "colorbar": {
              "outlinewidth": 0,
              "ticks": ""
             }
            },
            "marker": {
             "colorbar": {
              "outlinewidth": 0,
              "ticks": ""
             }
            },
            "type": "scatter3d"
           }
          ],
          "scattercarpet": [
           {
            "marker": {
             "colorbar": {
              "outlinewidth": 0,
              "ticks": ""
             }
            },
            "type": "scattercarpet"
           }
          ],
          "scattergeo": [
           {
            "marker": {
             "colorbar": {
              "outlinewidth": 0,
              "ticks": ""
             }
            },
            "type": "scattergeo"
           }
          ],
          "scattergl": [
           {
            "marker": {
             "colorbar": {
              "outlinewidth": 0,
              "ticks": ""
             }
            },
            "type": "scattergl"
           }
          ],
          "scattermapbox": [
           {
            "marker": {
             "colorbar": {
              "outlinewidth": 0,
              "ticks": ""
             }
            },
            "type": "scattermapbox"
           }
          ],
          "scatterpolar": [
           {
            "marker": {
             "colorbar": {
              "outlinewidth": 0,
              "ticks": ""
             }
            },
            "type": "scatterpolar"
           }
          ],
          "scatterpolargl": [
           {
            "marker": {
             "colorbar": {
              "outlinewidth": 0,
              "ticks": ""
             }
            },
            "type": "scatterpolargl"
           }
          ],
          "scatterternary": [
           {
            "marker": {
             "colorbar": {
              "outlinewidth": 0,
              "ticks": ""
             }
            },
            "type": "scatterternary"
           }
          ],
          "surface": [
           {
            "colorbar": {
             "outlinewidth": 0,
             "ticks": ""
            },
            "colorscale": [
             [
              0,
              "#0d0887"
             ],
             [
              0.1111111111111111,
              "#46039f"
             ],
             [
              0.2222222222222222,
              "#7201a8"
             ],
             [
              0.3333333333333333,
              "#9c179e"
             ],
             [
              0.4444444444444444,
              "#bd3786"
             ],
             [
              0.5555555555555556,
              "#d8576b"
             ],
             [
              0.6666666666666666,
              "#ed7953"
             ],
             [
              0.7777777777777778,
              "#fb9f3a"
             ],
             [
              0.8888888888888888,
              "#fdca26"
             ],
             [
              1,
              "#f0f921"
             ]
            ],
            "type": "surface"
           }
          ],
          "table": [
           {
            "cells": {
             "fill": {
              "color": "#EBF0F8"
             },
             "line": {
              "color": "white"
             }
            },
            "header": {
             "fill": {
              "color": "#C8D4E3"
             },
             "line": {
              "color": "white"
             }
            },
            "type": "table"
           }
          ]
         },
         "layout": {
          "annotationdefaults": {
           "arrowcolor": "#2a3f5f",
           "arrowhead": 0,
           "arrowwidth": 1
          },
          "coloraxis": {
           "colorbar": {
            "outlinewidth": 0,
            "ticks": ""
           }
          },
          "colorscale": {
           "diverging": [
            [
             0,
             "#8e0152"
            ],
            [
             0.1,
             "#c51b7d"
            ],
            [
             0.2,
             "#de77ae"
            ],
            [
             0.3,
             "#f1b6da"
            ],
            [
             0.4,
             "#fde0ef"
            ],
            [
             0.5,
             "#f7f7f7"
            ],
            [
             0.6,
             "#e6f5d0"
            ],
            [
             0.7,
             "#b8e186"
            ],
            [
             0.8,
             "#7fbc41"
            ],
            [
             0.9,
             "#4d9221"
            ],
            [
             1,
             "#276419"
            ]
           ],
           "sequential": [
            [
             0,
             "#0d0887"
            ],
            [
             0.1111111111111111,
             "#46039f"
            ],
            [
             0.2222222222222222,
             "#7201a8"
            ],
            [
             0.3333333333333333,
             "#9c179e"
            ],
            [
             0.4444444444444444,
             "#bd3786"
            ],
            [
             0.5555555555555556,
             "#d8576b"
            ],
            [
             0.6666666666666666,
             "#ed7953"
            ],
            [
             0.7777777777777778,
             "#fb9f3a"
            ],
            [
             0.8888888888888888,
             "#fdca26"
            ],
            [
             1,
             "#f0f921"
            ]
           ],
           "sequentialminus": [
            [
             0,
             "#0d0887"
            ],
            [
             0.1111111111111111,
             "#46039f"
            ],
            [
             0.2222222222222222,
             "#7201a8"
            ],
            [
             0.3333333333333333,
             "#9c179e"
            ],
            [
             0.4444444444444444,
             "#bd3786"
            ],
            [
             0.5555555555555556,
             "#d8576b"
            ],
            [
             0.6666666666666666,
             "#ed7953"
            ],
            [
             0.7777777777777778,
             "#fb9f3a"
            ],
            [
             0.8888888888888888,
             "#fdca26"
            ],
            [
             1,
             "#f0f921"
            ]
           ]
          },
          "colorway": [
           "#636efa",
           "#EF553B",
           "#00cc96",
           "#ab63fa",
           "#FFA15A",
           "#19d3f3",
           "#FF6692",
           "#B6E880",
           "#FF97FF",
           "#FECB52"
          ],
          "font": {
           "color": "#2a3f5f"
          },
          "geo": {
           "bgcolor": "white",
           "lakecolor": "white",
           "landcolor": "#E5ECF6",
           "showlakes": true,
           "showland": true,
           "subunitcolor": "white"
          },
          "hoverlabel": {
           "align": "left"
          },
          "hovermode": "closest",
          "mapbox": {
           "style": "light"
          },
          "paper_bgcolor": "white",
          "plot_bgcolor": "#E5ECF6",
          "polar": {
           "angularaxis": {
            "gridcolor": "white",
            "linecolor": "white",
            "ticks": ""
           },
           "bgcolor": "#E5ECF6",
           "radialaxis": {
            "gridcolor": "white",
            "linecolor": "white",
            "ticks": ""
           }
          },
          "scene": {
           "xaxis": {
            "backgroundcolor": "#E5ECF6",
            "gridcolor": "white",
            "gridwidth": 2,
            "linecolor": "white",
            "showbackground": true,
            "ticks": "",
            "zerolinecolor": "white"
           },
           "yaxis": {
            "backgroundcolor": "#E5ECF6",
            "gridcolor": "white",
            "gridwidth": 2,
            "linecolor": "white",
            "showbackground": true,
            "ticks": "",
            "zerolinecolor": "white"
           },
           "zaxis": {
            "backgroundcolor": "#E5ECF6",
            "gridcolor": "white",
            "gridwidth": 2,
            "linecolor": "white",
            "showbackground": true,
            "ticks": "",
            "zerolinecolor": "white"
           }
          },
          "shapedefaults": {
           "line": {
            "color": "#2a3f5f"
           }
          },
          "ternary": {
           "aaxis": {
            "gridcolor": "white",
            "linecolor": "white",
            "ticks": ""
           },
           "baxis": {
            "gridcolor": "white",
            "linecolor": "white",
            "ticks": ""
           },
           "bgcolor": "#E5ECF6",
           "caxis": {
            "gridcolor": "white",
            "linecolor": "white",
            "ticks": ""
           }
          },
          "title": {
           "x": 0.05
          },
          "xaxis": {
           "automargin": true,
           "gridcolor": "white",
           "linecolor": "white",
           "ticks": "",
           "title": {
            "standoff": 15
           },
           "zerolinecolor": "white",
           "zerolinewidth": 2
          },
          "yaxis": {
           "automargin": true,
           "gridcolor": "white",
           "linecolor": "white",
           "ticks": "",
           "title": {
            "standoff": 15
           },
           "zerolinecolor": "white",
           "zerolinewidth": 2
          }
         }
        }
       }
      },
      "text/html": [
       "<div>\n",
       "        \n",
       "        \n",
       "            <div id=\"807d3aa6-acd8-4984-941e-378ed5bbf5c3\" class=\"plotly-graph-div\" style=\"height:525px; width:100%;\"></div>\n",
       "            <script type=\"text/javascript\">\n",
       "                require([\"plotly\"], function(Plotly) {\n",
       "                    window.PLOTLYENV=window.PLOTLYENV || {};\n",
       "                    \n",
       "                if (document.getElementById(\"807d3aa6-acd8-4984-941e-378ed5bbf5c3\")) {\n",
       "                    Plotly.newPlot(\n",
       "                        '807d3aa6-acd8-4984-941e-378ed5bbf5c3',\n",
       "                        [{\"branchvalues\": \"total\", \"customdata\": [[\"MINISTERIO DE AMBIENTE Y ESPACIO PUBLICO\", \"MINISTERIO DE AMBIENTE Y ESPACIO PUBLICO\", \"DIRECCION GENERAL DE RECICLADO\", \"RECICLADO DE RESIDUOS URBANOS\", \"A.CU.MAR - CENTROS VERDES\"], [\"MINISTERIO DE AMBIENTE Y ESPACIO PUBLICO\", \"MINISTERIO DE AMBIENTE Y ESPACIO PUBLICO\", \"DIRECCION GENERAL DE LIMPIEZA\", \"SERVICIOS DE HIGIENE URBANA\", \"A.CU.MAR - RIACHUELO\"], [\"MINISTERIO DE AMBIENTE Y ESPACIO PUBLICO\", \"MINISTERIO DE AMBIENTE Y ESPACIO PUBLICO\", \"DIRECCION GENERAL DE ESPACIOS VERDES\", \"CUIDADO Y PUESTA EN VALOR DE ESPACIOS VERDES\", \"A.CU.MAR - VALORIZACION DE LOS ESPACIOS VERDES\"], [\"MINISTERIO DE AMBIENTE Y ESPACIO PUBLICO\", \"AGENCIA AMBIENTAL\", \"AGENCIA AMBIENTAL\", \"ACTIV. COMUNES A LOS PROG. 91,92 ,93 Y 94\", \"ACCIONES AMBIENTALES CABA\"], [\"MINISTERIO DE AMBIENTE Y ESPACIO PUBLICO\", \"AGENCIA AMBIENTAL\", \"DIRECCION GENERAL DE CONTROL\", \"ACCIONES PARA LA RESTAURACION ECOLOGICA\", \"ACCIONES PARA LA RESTAURACION ECOLOGICA\"], [\"MINISTERIO DE ESPACIO PUBLICO E HIGIENE URBANA\", \"MINISTERIO DE ESPACIO PUBLICO E HIGIENE URBANA\", \"MIN.ESP.PUBLICO E HIG. URBANA\", \"ACT.CEN.ESP.PUB.HIG.URBANA\", \"ACT.CEN.ESP.PUB.HIG.URBANA\"], [\"MINISTERIO DE AMBIENTE Y ESPACIO PUBLICO\", \"AGENCIA AMBIENTAL\", \"AGENCIA AMBIENTAL\", \"ACTIV. COMUNES A LOS PROG. 91,92 ,93 Y 94\", \"ACTIV. COMUNES A LOS PROG. 91,92 ,93 Y 94\"], [\"MINISTERIO DE AMBIENTE Y ESPACIO PUBLICO\", \"AGENCIA AMBIENTAL\", \"AGENCIA AMBIENTAL\", \"ACTIV. COMUNES A LOS PROG. 91,92 Y93\", \"ACTIV. COMUNES A LOS PROG. 91,92 Y93\"], [\"MINISTERIO DE AMBIENTE Y ESPACIO PUBLICO\", \"MINISTERIO DE AMBIENTE Y ESPACIO PUBLICO\", \"MINISTERIO AMBIENTE Y ESPACIO PUBLICO\", \"ACTIVIDADES CENTRALES AMBIENTE Y ESPACIO PUBLICO\", \"ACTIVIDADES CENTRALES AMBIENTE Y ESPACIO PUBLICO\"], [\"MINISTERIO DE AMBIENTE Y ESPACIO PUBLICO\", \"AGENCIA AMBIENTAL\", \"AGENCIA AMBIENTAL\", \"ACTIVIDADES COMUMES A LOS PROGRAMAS 91,92,93,94,95,96\", \"ACTIVIDADES COMUMES A LOS PROGRAMAS 91,92,93,94,95,96\"], [\"MINISTERIO DE AMBIENTE Y ESPACIO PUBLICO\", \"MINISTERIO DE AMBIENTE Y ESPACIO PUBLICO\", \"SUBSECRETARIA DE ADMINISTRACION\", \"ACTIVIDADES COMUNES A LOS PROG 21 Y 22\", \"ACTIVIDADES COMUNES A LOS PROG 21 Y 22\"], [\"MINISTERIO DE AMBIENTE Y ESPACIO PUBLICO\", \"MINISTERIO DE AMBIENTE Y ESPACIO PUBLICO\", \"SUBSECRETARIA DE ADMINISTRACION GENERAL Y DE USO DEL ESPACIO PUBLICO\", \"ACTIVIDADES COMUNES A LOS PROG 21,22,23,75,76 Y 77\", \"ACTIVIDADES COMUNES A LOS PROG 21,22,23,75,76 Y 77\"], [\"MINISTERIO DE ESPACIO PUBLICO E HIGIENE URBANA\", \"MINISTERIO DE ESPACIO PUBLICO E HIGIENE URBANA\", \"SUBSECRETARIA DE ADMINISTRACION\", \"ACTIVIDADES COMUNES A LOS PROG 22 Y 23\", \"ACTIVIDADES COMUNES A LOS PROG 22 Y 23\"], [\"MINISTERIO DE AMBIENTE Y ESPACIO PUBLICO\", \"AGENCIA AMBIENTAL\", \"AGENCIA AMBIENTAL\", \"ACTIVIDADES COMUNES A LOS PROG. 91 AL 100 Y 102\", \"ACTIVIDADES COMUNES A LOS PROG. 91 AL 100 Y 102\"], [\"MINISTERIO DE AMBIENTE Y ESPACIO PUBLICO\", \"AGENCIA AMBIENTAL\", \"AGENCIA AMBIENTAL\", \"ACTIVIDADES COMUNES A LOS PROG. 91 AL 103\", \"ACTIVIDADES COMUNES A LOS PROG. 91 AL 103\"], [\"MINISTERIO DE AMBIENTE Y ESPACIO PUBLICO\", \"AGENCIA AMBIENTAL\", \"AGENCIA AMBIENTAL\", \"ACTIVIDADES COMUNES A LOS PROG. 91,92,93, 94,95 Y 96\", \"ACTIVIDADES COMUNES A LOS PROG. 91,92,93, 94,95 Y 96\"], [\"MINISTERIO DE AMBIENTE Y ESPACIO PUBLICO\", \"AGENCIA AMBIENTAL\", \"AGENCIA AMBIENTAL\", \"ACTIVIDADES COMUNES A LOS PROG. 91,92,93, 94,95, 96 Y 100\", \"ACTIVIDADES COMUNES A LOS PROG. 91,92,93, 94,95, 96 Y 100\"], [\"MINISTERIO DE AMBIENTE Y ESPACIO PUBLICO\", \"AGENCIA AMBIENTAL\", \"AGENCIA AMBIENTAL\", \"ACTIVIDADES COMUNES A LOS PROGRAMAS 91,92 Y 93\", \"ACTIVIDADES COMUNES A LOS PROGRAMAS 91,92 Y 93\"], [\"MINISTERIO DE AMBIENTE Y ESPACIO PUBLICO\", \"MINISTERIO DE AMBIENTE Y ESPACIO PUBLICO\", \"SUBSECRETARIA DE HIGIENE URBANA\", \"ACTIVIDADES COMUNES A LOS PROGRAMAS: 11-52-53-56-57-58-59\", \"ACTIVIDADES COMUNES A LOS PROGRAMAS: 11-52-53-56-57-58-59\"], [\"MINISTERIO DE AMBIENTE Y ESPACIO PUBLICO\", \"MINISTERIO DE AMBIENTE Y ESPACIO PUBLICO\", \"SUBSECRETARIA DE HIGIENE URBANA\", \"ACTIVIDADES COMUNES A LOS PROGRAMAS: 11-52-53-56-57-58-59 Y 85\", \"ACTIVIDADES COMUNES A LOS PROGRAMAS: 11-52-53-56-57-58-59 Y 85\"], [\"MINISTERIO DE AMBIENTE Y ESPACIO PUBLICO\", \"MINISTERIO DE AMBIENTE Y ESPACIO PUBLICO\", \"SUBSECRETARIA DE HIGIENE URBANA\", \"ACTIVIDADES COMUNES A LOS PROGRAMAS: 11-52-53-56-57-58-59-79-85\", \"ACTIVIDADES COMUNES A LOS PROGRAMAS: 11-52-53-56-57-58-59-79-85\"], [\"MINISTERIO DE AMBIENTE Y ESPACIO PUBLICO\", \"MINISTERIO DE AMBIENTE Y ESPACIO PUBLICO\", \"SUBSECRETARIA DE HIGIENE URBANA\", \"ACTIVIDADES COMUNES A LOS PROGRAMAS: 11-52-53-56-57-85\", \"ACTIVIDADES COMUNES A LOS PROGRAMAS: 11-52-53-56-57-85\"], [\"MINISTERIO DE AMBIENTE Y ESPACIO PUBLICO\", \"MINISTERIO DE AMBIENTE Y ESPACIO PUBLICO\", \"SUBSECRETARIA DE HIGIENE URBANA\", \"ACTIVIDADES COMUNES A LOS PROGRAMAS: 11-52-53-57-58-59\", \"ACTIVIDADES COMUNES A LOS PROGRAMAS: 11-52-53-57-58-59\"], [\"MINISTERIO DE AMBIENTE Y ESPACIO PUBLICO\", \"MINISTERIO DE AMBIENTE Y ESPACIO PUBLICO\", \"SUBSECRETARIA DE HIGIENE URBANA\", \"ACTIVIDADES COMUNES A LOS PROGRAMAS: 11-52-53-57-58-59 Y 85\", \"ACTIVIDADES COMUNES A LOS PROGRAMAS: 11-52-53-57-58-59 Y 85\"], [\"MINISTERIO DE ESPACIO PUBLICO E HIGIENE URBANA\", \"MINISTERIO DE ESPACIO PUBLICO E HIGIENE URBANA\", \"SUBSECRETARIA DE HIGIENE URBANA\", \"ACTIVIDADES COMUNES A LOS PROGRAMAS: 11-52-57-58 Y 85\", \"ACTIVIDADES COMUNES A LOS PROGRAMAS: 11-52-57-58 Y 85\"], [\"MINISTERIO DE AMBIENTE Y ESPACIO PUBLICO\", \"MINISTERIO DE AMBIENTE Y ESPACIO PUBLICO\", \"SUBSECRETARIA DE HIGIENE URBANA\", \"ACTIVIDADES COMUNES A LOS PROGRAMAS: 52.53.56.57 Y 85\", \"ACTIVIDADES COMUNES A LOS PROGRAMAS: 52.53.56.57 Y 85\"], [\"MINISTERIO DE AMBIENTE Y ESPACIO PUBLICO\", \"AGENCIA AMBIENTAL\", \"AGENCIA AMBIENTAL\", \"ACTIVIDADES COMUMES A LOS PROGRAMAS 91,92,93,94,95,96\", \"AMPLIACION CIFA PARA SU TRANSFORMACION EN CENTRO METROPOLITANO VERDE\"], [\"MINISTERIO DE AMBIENTE Y ESPACIO PUBLICO\", \"AGENCIA AMBIENTAL\", \"AGENCIA AMBIENTAL\", \"ACTIVIDADES COMUNES A LOS PROGRAMAS 91,92 Y 93\", \"ANALISIS DE SUSTANCIAS CONTAMINANTES EN AGUA, AIRE Y SUELO\"], [\"MINISTERIO DE AMBIENTE Y ESPACIO PUBLICO\", \"MINISTERIO DE AMBIENTE Y ESPACIO PUBLICO\", \"DIRECCION GENERAL DE ARBOLADO\", \"ARBOLADO URBANO\", \"ARBOLADO URBANO\"], [\"MINISTERIO DE AMBIENTE Y ESPACIO PUBLICO\", \"MINISTERIO DE AMBIENTE Y ESPACIO PUBLICO\", \"DIRECCION GENERAL TECNICO ADMINISTRATIVA Y LEGAL\", \"ASUNTOS LEGALES Y PRESUPUESTO\", \"ASUNTOS LEGALES Y PRESUPUESTO\"], [\"MINISTERIO DE ESPACIO PUBLICO E HIGIENE URBANA\", \"MINISTERIO DE ESPACIO PUBLICO E HIGIENE URBANA\", \"DIRECCION GENERAL TECNICO ADMINISTRATIVA Y LEGAL\", \"ASUNTOS LEGALES Y PRESUPUESTO\", \"ASUNTOS LEGALES Y PRESUPUESTO\"], [\"MINISTERIO DE AMBIENTE Y ESPACIO PUBLICO\", \"AGENCIA AMBIENTAL\", \"DIRECCION GENERAL DE EVALUACION TECNICA\", \"BUENOS AIRES PRODUCE MAS LIMPIO (P+L)\", \"BUENOS AIRES PRODUCE MAS LIMPIO (P+L)\"], [\"MINISTERIO DE AMBIENTE Y ESPACIO PUBLICO\", \"AGENCIA AMBIENTAL\", \"DIRECCION GENERAL ESTRATEGIAS AMBIENTALES\", \"BUENOS AIRES PRODUCE MAS LIMPIO (P+L)\", \"BUENOS AIRES PRODUCE MAS LIMPIO (P+L)\"], [\"MINISTERIO DE AMBIENTE Y ESPACIO PUBLICO\", \"AGENCIA AMBIENTAL\", \"DIRECCION GENERAL POLITICA Y ESTRATEGIA AMBIENTAL\", \"BUENOS AIRES PRODUCE MAS LIMPIO (P+L)\", \"BUENOS AIRES PRODUCE MAS LIMPIO (P+L)\"], [\"MINISTERIO DE AMBIENTE Y ESPACIO PUBLICO\", \"AGENCIA AMBIENTAL\", \"AGENCIA AMBIENTAL\", \"ACTIV. COMUNES A LOS PROG. 91,92 ,93 Y 94\", \"CENTRO DE INFORMACION Y FORMACION AMBIENTAL\"], [\"MINISTERIO DE AMBIENTE Y ESPACIO PUBLICO\", \"AGENCIA AMBIENTAL\", \"AGENCIA AMBIENTAL\", \"CENTROS DE ATENCION VETERINARIA\", \"CENTROS DE ATENCION VETERINARIA\"], [\"MINISTERIO DE AMBIENTE Y ESPACIO PUBLICO\", \"AGENCIA AMBIENTAL\", \"DIRECCION GENERAL ESTRATEGIAS AMBIENTALES\", \"CENTROS DE ATENCION VETERINARIA\", \"CENTROS DE ATENCION VETERINARIA\"], [\"MINISTERIO DE AMBIENTE Y ESPACIO PUBLICO\", \"MINISTERIO DE AMBIENTE Y ESPACIO PUBLICO\", \"DIRECCION GENERAL DE RECICLADO\", \"RECICLADO DE RESIDUOS URBANOS\", \"CENTROS VERDES\"], [\"MINISTERIO DE AMBIENTE Y ESPACIO PUBLICO\", \"AGENCIA AMBIENTAL\", \"AGENCIA AMBIENTAL\", \"COMPENSACION AMBIENTAL\", \"COMPENSACION AMBIENTAL\"], [\"MINISTERIO DE AMBIENTE Y ESPACIO PUBLICO\", \"AGENCIA AMBIENTAL\", \"DIRECCION GENERAL DE EVALUACION AMBIENTAL\", \"COMPENSACION AMBIENTAL\", \"COMPENSACION AMBIENTAL\"], [\"MINISTERIO DE AMBIENTE Y ESPACIO PUBLICO\", \"MINISTERIO DE AMBIENTE Y ESPACIO PUBLICO\", \"UPE ECOPARQUE INTERACTIVO DE LA CABA\", \"CONSERVACION DE LA BIODIVERSIDAD\", \"CONSERVACION DE LA BIODIVERSIDAD\"], [\"MINISTERIO DE AMBIENTE Y ESPACIO PUBLICO\", \"MINISTERIO DE AMBIENTE Y ESPACIO PUBLICO\", \"DIRECCION GENERAL DE LIMPIEZA\", \"SERVICIOS DE HIGIENE URBANA\", \"CONTENERIZACION\"], [\"MINISTERIO DE AMBIENTE Y ESPACIO PUBLICO\", \"AGENCIA AMBIENTAL\", \"DIRECCION GENERAL DE CONTROL\", \"CONTROL AMBIENTAL\", \"CONTROL AMBIENTAL\"], [\"MINISTERIO DE AMBIENTE Y ESPACIO PUBLICO\", \"MINISTERIO DE AMBIENTE Y ESPACIO PUBLICO\", \"DIRECCION GENERAL CONTROL DE GESTION\", \"CONTROL DE GESTION\", \"CONTROL DE GESTION\"], [\"MINISTERIO DE AMBIENTE Y ESPACIO PUBLICO\", \"MINISTERIO DE AMBIENTE Y ESPACIO PUBLICO\", \"DIRECCION GENERAL CONTROL DE GESTION\", \"CONTROL DE GESTION Y RECLAMOS\", \"CONTROL DE GESTION Y RECLAMOS\"], [\"MINISTERIO DE ESPACIO PUBLICO E HIGIENE URBANA\", \"MINISTERIO DE ESPACIO PUBLICO E HIGIENE URBANA\", \"DIRECCION GENERAL CONTROL DE GESTION\", \"CONTROL DE GESTION Y RECLAMOS\", \"CONTROL DE GESTION Y RECLAMOS\"], [\"MINISTERIO DE AMBIENTE Y ESPACIO PUBLICO\", \"MINISTERIO DE AMBIENTE Y ESPACIO PUBLICO\", \"DIRECCION GENERAL DE LIMPIEZA\", \"CONTROL DE HIGIENE EN VIA PUBLICA E INMUEBLES\", \"CONTROL DE HIGIENE EN VIA PUBLICA E INMUEBLES\"], [\"MINISTERIO DE AMBIENTE Y ESPACIO PUBLICO\", \"MINISTERIO DE AMBIENTE Y ESPACIO PUBLICO\", \"DIRECCION GENERAL INSPECCION DE HIGIENE URBANA\", \"CONTROL DE HIGIENE EN VIA PUBLICA E INMUEBLES\", \"CONTROL DE HIGIENE EN VIA PUBLICA E INMUEBLES\"], [\"MINISTERIO DE AMBIENTE Y ESPACIO PUBLICO\", \"MINISTERIO DE AMBIENTE Y ESPACIO PUBLICO\", \"SUBSECRETARIA DE HIGIENE URBANA\", \"CONTROL DE HIGIENE EN VIA PUBLICA E INMUEBLES\", \"CONTROL DE HIGIENE EN VIA PUBLICA E INMUEBLES\"], [\"MINISTERIO DE AMBIENTE Y ESPACIO PUBLICO\", \"MINISTERIO DE AMBIENTE Y ESPACIO PUBLICO\", \"DIRECCION GENERAL DE LIMPIEZA\", \"CONTROL DE PLAGAS\", \"CONTROL DE PLAGAS\"], [\"MINISTERIO DE ESPACIO PUBLICO E HIGIENE URBANA\", \"MINISTERIO DE ESPACIO PUBLICO E HIGIENE URBANA\", \"DIRECCION GENERAL DE LIMPIEZA\", \"CONTROL DE PLAGAS\", \"CONTROL DE PLAGAS\"], [\"MINISTERIO DE AMBIENTE Y ESPACIO PUBLICO\", \"MINISTERIO DE AMBIENTE Y ESPACIO PUBLICO\", \"DIRECCION GENERAL INSPECCION DE HIGIENE URBANA\", \"CONTROL DE PLAGAS\", \"CONTROL DE PLAGAS\"], [\"MINISTERIO DE AMBIENTE Y ESPACIO PUBLICO\", \"AGENCIA AMBIENTAL\", \"DIRECCION GENERAL ESTRATEGIAS AMBIENTALES\", \"ESTRATEGIAS AMBIENTALES\", \"CUBIERTA VERDE\"], [\"MINISTERIO DE AMBIENTE Y ESPACIO PUBLICO\", \"AGENCIA AMBIENTAL\", \"DIRECCION GENERAL ESTRATEGIAS AMBIENTALES\", \"ESTRATEGIAS AMBIENTALES\", \"CUBIERTA VERDE EN LA CABA\"], [\"MINISTERIO DE AMBIENTE Y ESPACIO PUBLICO\", \"MINISTERIO DE AMBIENTE Y ESPACIO PUBLICO\", \"DIRECCION GENERAL DE ARBOLADO\", \"ARBOLADO URBANO\", \"CUIDADO Y PRESERVACION DEL ARBOLADO URBANO\"], [\"MINISTERIO DE AMBIENTE Y ESPACIO PUBLICO\", \"MINISTERIO DE AMBIENTE Y ESPACIO PUBLICO\", \"DIRECCION GENERAL DE ESPACIOS VERDES\", \"CUIDADO Y PUESTA EN VALOR DE ESPACIOS VERDES\", \"CUIDADO Y PRESERVACION DEL ARBOLADO URBANO\"], [\"MINISTERIO DE AMBIENTE Y ESPACIO PUBLICO\", \"MINISTERIO DE AMBIENTE Y ESPACIO PUBLICO\", \"DIRECCION GENERAL DE ESPACIOS VERDES\", \"CUIDADO Y PUESTA EN VALOR DE ESPACIOS VERDES\", \"CUIDADO Y PUESTA EN VALOR DE ESPACIOS VERDES\"], [\"MINISTERIO DE AMBIENTE Y ESPACIO PUBLICO\", \"MINISTERIO DE AMBIENTE Y ESPACIO PUBLICO\", \"DIRECCION GENERAL DE ESPACIOS VERDES\", \"CUIDADO Y PUESTA EN VALOR DE ESPACIOS VERDES\", \"CUIDADO Y PUESTA EN VALOR DE GRANDES PARQUES\"], [\"MINISTERIO DE AMBIENTE Y ESPACIO PUBLICO\", \"MINISTERIO DE AMBIENTE Y ESPACIO PUBLICO\", \"DIRECCION GENERAL DE ESPACIOS VERDES\", \"CUIDADO Y PUESTA EN VALOR DE ESPACIOS VERDES\", \"CUIDADO Y PUESTA EN VALOR DEL PATRIMONIO CULTURAL Y NATURAL DE LOS ESPACIOS VERDES\"], [\"MINISTERIO DE AMBIENTE Y ESPACIO PUBLICO\", \"AGENCIA AMBIENTAL\", \"DIRECCION GENERAL ESTRATEGIAS AMBIENTALES\", \"ESTRATEGIAS AMBIENTALES\", \"DESARROLLO DE LA RED DE AIRE Y RUIDO EN LA CIUDAD DE BUENOS AIRES.\"], [\"MINISTERIO DE AMBIENTE Y ESPACIO PUBLICO\", \"AGENCIA AMBIENTAL\", \"DIRECCION GENERAL ESTRATEGIAS AMBIENTALES\", \"PLANEAMIENTO DE LA GESTION AMBIENTAL SOSTENIBLE\", \"DESARROLLO DE LA RED DE AIRE Y RUIDO EN LA CIUDAD DE BUENOS AIRES.\"], [\"MINISTERIO DE AMBIENTE Y ESPACIO PUBLICO\", \"MINISTERIO DE AMBIENTE Y ESPACIO PUBLICO\", \"DIRECCION GENERAL DE LIMPIEZA\", \"SERVICIOS DE HIGIENE URBANA\", \"DISPOSICION FINAL RESIDUOS SOLIDOS URBANOS\"], [\"MINISTERIO DE AMBIENTE Y ESPACIO PUBLICO\", \"AGENCIA AMBIENTAL\", \"AGENCIA AMBIENTAL\", \"REDES AMBIENTALES\", \"ESTACIONES MONITOREO CALIDAD DEL AGUA EN RED DE HIDROMETEREOLOGIA DE CABA\"], [\"MINISTERIO DE AMBIENTE Y ESPACIO PUBLICO\", \"AGENCIA AMBIENTAL\", \"DIRECCION GENERAL ESTRATEGIAS AMBIENTALES\", \"ESTRATEGIAS AMBIENTALES\", \"ESTRATEGIAS AMBIENTALES\"], [\"MINISTERIO DE AMBIENTE Y ESPACIO PUBLICO\", \"AGENCIA AMBIENTAL\", \"DIRECCION GENERAL POLITICA Y ESTRATEGIA AMBIENTAL\", \"ESTRATEGIAS AMBIENTALES\", \"ESTRATEGIAS AMBIENTALES\"], [\"MINISTERIO DE AMBIENTE Y ESPACIO PUBLICO\", \"AGENCIA AMBIENTAL\", \"DIRECCION GENERAL DE EVALUACION AMBIENTAL\", \"EVALUACION TECNICA\", \"EVALUACION TECNICA\"], [\"MINISTERIO DE AMBIENTE Y ESPACIO PUBLICO\", \"AGENCIA AMBIENTAL\", \"DIRECCION GENERAL DE EVALUACION TECNICA\", \"EVALUACION TECNICA\", \"EVALUACION TECNICA\"], [\"MINISTERIO DE AMBIENTE Y ESPACIO PUBLICO\", \"AGENCIA AMBIENTAL\", \"AGENCIA AMBIENTAL\", \"GESTION AMBIENTAL\", \"GESTION AMBIENTAL\"], [\"MINISTERIO DE AMBIENTE Y ESPACIO PUBLICO\", \"AGENCIA AMBIENTAL\", \"DIRECCION GENERAL ESTRATEGIAS AMBIENTALES\", \"ESTRATEGIAS AMBIENTALES\", \"HOGAR TRANSITORIO DE MASCOTAS\"], [\"MINISTERIO DE ESPACIO PUBLICO E HIGIENE URBANA\", \"MINISTERIO DE ESPACIO PUBLICO E HIGIENE URBANA\", \"SUBSECRETARIA DE ADMINISTRACION\", \"ACTIVIDADES COMUNES A LOS PROG 22 Y 23\", \"INSPECCION DEL USO DEL ESPACIO PUBLICO\"], [\"MINISTERIO DE AMBIENTE Y ESPACIO PUBLICO\", \"MINISTERIO DE AMBIENTE Y ESPACIO PUBLICO\", \"DIRECCION GENERAL DE ARBOLADO\", \"ARBOLADO URBANO\", \"INTERVENCIONES SOBRE EL ARBOLADO\"], [\"MINISTERIO DE AMBIENTE Y ESPACIO PUBLICO\", \"AGENCIA AMBIENTAL\", \"AGENCIA AMBIENTAL\", \"INTERVENCIONES VETERINARIAS\", \"INTERVENCIONES VETERINARIAS\"], [\"MINISTERIO DE AMBIENTE Y ESPACIO PUBLICO\", \"MINISTERIO DE AMBIENTE Y ESPACIO PUBLICO\", \"DIRECCION GENERAL DE ESPACIOS VERDES\", \"CUIDADO Y PUESTA EN VALOR DE ESPACIOS VERDES\", \"JARDIN BOTANICO CARLOS THAYS\"], [\"MINISTERIO DE AMBIENTE Y ESPACIO PUBLICO\", \"AGENCIA AMBIENTAL\", \"DIRECCION GENERAL DE CONTROL\", \"LABORATORIO DE ANALISIS Y CALIDAD AMBIENTAL\", \"LABORATORIO DE ANALISIS Y CALIDAD AMBIENTAL\"], [\"MINISTERIO DE AMBIENTE Y ESPACIO PUBLICO\", \"AGENCIA AMBIENTAL\", \"DIRECCION GENERAL DE EVALUACION TECNICA\", \"LABORATORIO DE ANALISIS Y CALIDAD AMBIENTAL\", \"LABORATORIO DE ANALISIS Y CALIDAD AMBIENTAL\"], [\"MINISTERIO DE AMBIENTE Y ESPACIO PUBLICO\", \"MINISTERIO DE AMBIENTE Y ESPACIO PUBLICO\", \"DIRECCION GENERAL DE ESPACIOS VERDES\", \"CUIDADO Y PUESTA EN VALOR DE ESPACIOS VERDES\", \"OBRAS BA ELIGE EV\"], [\"MINISTERIO DE AMBIENTE Y ESPACIO PUBLICO\", \"AGENCIA AMBIENTAL\", \"AGENCIA AMBIENTAL\", \"COMPENSACION AMBIENTAL\", \"OBRAS CORRECTIVAS DE RECOMPOSICION PREDIOS CONTAMINADOS REQUERIDOS POR IVC\"], [\"MINISTERIO DE AMBIENTE Y ESPACIO PUBLICO\", \"AGENCIA AMBIENTAL\", \"DIRECCION GENERAL DE EVALUACION TECNICA\", \"COMPENSACION AMBIENTAL\", \"OBRAS CORRECTIVAS DE RECOMPOSICION PREDIOS CONTAMINADOS REQUERIDOS POR IVC\"], [\"MINISTERIO DE AMBIENTE Y ESPACIO PUBLICO\", \"MINISTERIO DE AMBIENTE Y ESPACIO PUBLICO\", \"DIRECCION GENERAL DE ESPACIOS VERDES\", \"CUIDADO Y PUESTA EN VALOR DE ESPACIOS VERDES\", \"OBRAS DE ESPACIOS VERDES\"], [\"MINISTERIO DE AMBIENTE Y ESPACIO PUBLICO\", \"MINISTERIO DE AMBIENTE Y ESPACIO PUBLICO\", \"DIRECCION GENERAL DE ESPACIOS VERDES\", \"CUIDADO Y PUESTA EN VALOR DE ESPACIOS VERDES\", \"OBRAS DE ESPACIOS VERDES II\"], [\"MINISTERIO DE AMBIENTE Y ESPACIO PUBLICO\", \"MINISTERIO DE AMBIENTE Y ESPACIO PUBLICO\", \"DIRECCION GENERAL REGENERACION URBANA\", \"REGENERACION URBANA\", \"OBRAS DE REGENERACION URBANA\"], [\"MINISTERIO DE AMBIENTE Y ESPACIO PUBLICO\", \"MINISTERIO DE AMBIENTE Y ESPACIO PUBLICO\", \"UPE ECOPARQUE INTERACTIVO DE LA CABA\", \"CONSERVACION DE LA BIODIVERSIDAD\", \"OBRAS ECOPARQUE MAYEP\"], [\"MINISTERIO DE AMBIENTE Y ESPACIO PUBLICO\", \"MINISTERIO DE AMBIENTE Y ESPACIO PUBLICO\", \"DIRECCION GENERAL OBRAS REGENERACION URBANA\", \"OBRAS DE REGENERACIONURBANA\", \"PARQUES URBANOS\"], [\"MINISTERIO DE AMBIENTE Y ESPACIO PUBLICO\", \"AGENCIA AMBIENTAL\", \"DIRECCION GENERAL ESTRATEGIAS AMBIENTALES\", \"PLANEAMIENTO DE LA GESTION AMBIENTAL SOSTENIBLE\", \"PLANEAMIENTO DE LA GESTION AMBIENTAL SOSTENIBLE\"], [\"MINISTERIO DE AMBIENTE Y ESPACIO PUBLICO\", \"MINISTERIO DE AMBIENTE Y ESPACIO PUBLICO\", \"DIRECCION GENERAL PLANIFICACION Y PRESUPUESTO\", \"PLANIFICACION Y PRESUPUESTO\", \"PLANIFICACION Y PRESUPUESTO\"], [\"MINISTERIO DE AMBIENTE Y ESPACIO PUBLICO\", \"AGENCIA AMBIENTAL\", \"DIRECCION GENERAL DE EVALUACION TECNICA\", \"PREVENC.AMB.EVALUAC.TECNICA Y CERTIFICADOS AMBIENTALES\", \"PREVENC.AMB.EVALUAC.TECNICA Y CERTIFICADOS AMBIENTALES\"], [\"MINISTERIO DE AMBIENTE Y ESPACIO PUBLICO\", \"AGENCIA AMBIENTAL\", \"DIRECCION GENERAL DE EVALUACION TECNICA\", \"PREVENCION AMBIENTAL EVALUACION TECNICA Y REGISTROS AMBIENTALES\", \"PREVENCION AMBIENTAL EVALUACION TECNICA Y REGISTROS AMBIENTALES\"], [\"MINISTERIO DE AMBIENTE Y ESPACIO PUBLICO\", \"AGENCIA AMBIENTAL\", \"DIRECCION GENERAL POLITICA Y ESTRATEGIA AMBIENTAL\", \"PROGRAMA DE CAMBIO CLIMATICO E INFORMACION AMBIENTAL\", \"PROGRAMA DE CAMBIO CLIMATICO E INFORMACION AMBIENTAL\"], [\"MINISTERIO DE AMBIENTE Y ESPACIO PUBLICO\", \"AGENCIA AMBIENTAL\", \"DIRECCION GENERAL POLITICA Y ESTRATEGIA AMBIENTAL\", \"PROGRAMA DE GESTION ENERGETICA\", \"PROGRAMA DE GESTION ENERGETICA\"], [\"MINISTERIO DE AMBIENTE Y ESPACIO PUBLICO\", \"AGENCIA AMBIENTAL\", \"DIRECCION GENERAL POLITICA Y ESTRATEGIA AMBIENTAL\", \"PROGRAMA DE RESIDUOS DE MANEJO ESPECIAL\", \"PROGRAMA DE RESIDUOS DE MANEJO ESPECIAL\"], [\"MINISTERIO DE AMBIENTE Y ESPACIO PUBLICO\", \"AGENCIA AMBIENTAL\", \"AGENCIA AMBIENTAL\", \"PROTECCION Y SANIDAD ANIMAL\", \"PROTECCION Y SANIDAD ANIMAL\"], [\"MINISTERIO DE AMBIENTE Y ESPACIO PUBLICO\", \"AGENCIA AMBIENTAL\", \"DIRECCION GENERAL ESTRATEGIAS AMBIENTALES\", \"PROTECCION Y SANIDAD ANIMAL\", \"PROTECCION Y SANIDAD ANIMAL\"], [\"MINISTERIO DE AMBIENTE Y ESPACIO PUBLICO\", \"AGENCIA AMBIENTAL\", \"AGENCIA AMBIENTAL\", \"GESTION AMBIENTAL\", \"PROYECTOS ACUMAR\"], [\"MINISTERIO DE AMBIENTE Y ESPACIO PUBLICO\", \"MINISTERIO DE AMBIENTE Y ESPACIO PUBLICO\", \"DIRECCION GENERAL INSPECCION DE HIGIENE URBANA\", \"CONTROL DE HIGIENE EN VIA PUBLICA E INMUEBLES\", \"PUESTA EN VALOR DE EDIFICIOS\"], [\"MINISTERIO DE AMBIENTE Y ESPACIO PUBLICO\", \"AGENCIA AMBIENTAL\", \"AGENCIA AMBIENTAL\", \"ACTIV. COMUNES A LOS PROG. 91,92 ,93 Y 94\", \"PUESTA EN VALOR DE LAS OFICINAS DE LA AGENCIA DE PROTECCION AMBIENTAL\"], [\"MINISTERIO DE AMBIENTE Y ESPACIO PUBLICO\", \"AGENCIA AMBIENTAL\", \"DIRECCION GENERAL ESTRATEGIAS AMBIENTALES\", \"ESTRATEGIAS AMBIENTALES\", \"PUESTA EN VALOR DEPOSITO RAES\"], [\"MINISTERIO DE AMBIENTE Y ESPACIO PUBLICO\", \"MINISTERIO DE AMBIENTE Y ESPACIO PUBLICO\", \"DIRECCION GENERAL DE ESPACIOS VERDES\", \"CUIDADO Y PUESTA EN VALOR DE ESPACIOS VERDES\", \"PUESTA EN VALOR EDIFICIOS\"], [\"MINISTERIO DE AMBIENTE Y ESPACIO PUBLICO\", \"MINISTERIO DE AMBIENTE Y ESPACIO PUBLICO\", \"DIRECCION GENERAL DE RECICLADO\", \"RECICLADO DE RESIDUOS URBANOS\", \"RECICLADO DE RESIDUOS URBANOS\"], [\"MINISTERIO DE AMBIENTE Y ESPACIO PUBLICO\", \"ENTE DE HIGIENE URBANA\", \"ENTE DE HIGIENE URBANA\", \"RECOLECCION, BARRIDO E HIGIENE DE LA CIUDAD DE BUENOS AIRES\", \"RECOLECCION, BARRIDO E HIGIENE DE LA CIUDAD DE BUENOS AIRES\"], [\"MINISTERIO DE AMBIENTE Y ESPACIO PUBLICO\", \"AGENCIA AMBIENTAL\", \"DIRECCION GENERAL ESTRATEGIAS AMBIENTALES\", \"ESTRATEGIAS AMBIENTALES\", \"RED DE MONITOREO AMBIENTAL\"], [\"MINISTERIO DE AMBIENTE Y ESPACIO PUBLICO\", \"AGENCIA AMBIENTAL\", \"DIRECCION GENERAL ESTRATEGIAS AMBIENTALES\", \"ESTRATEGIAS AMBIENTALES\", \"RED DE MONITOREO DE LA CALIDAD DEL AGUA SUPERFICIAL DE LA CABA.\"], [\"MINISTERIO DE AMBIENTE Y ESPACIO PUBLICO\", \"AGENCIA AMBIENTAL\", \"DIRECCION GENERAL ESTRATEGIAS AMBIENTALES\", \"PLANEAMIENTO DE LA GESTION AMBIENTAL SOSTENIBLE\", \"RED DE MONITOREO DE LA CALIDAD DEL AGUA SUPERFICIAL DE LA CABA.\"], [\"MINISTERIO DE AMBIENTE Y ESPACIO PUBLICO\", \"AGENCIA AMBIENTAL\", \"AGENCIA AMBIENTAL\", \"REDES AMBIENTALES\", \"REDES AMBIENTALES\"], [\"MINISTERIO DE AMBIENTE Y ESPACIO PUBLICO\", \"AGENCIA AMBIENTAL\", \"DIRECCION GENERAL DE CONTROL\", \"REDES AMBIENTALES\", \"REDES AMBIENTALES\"], [\"MINISTERIO DE AMBIENTE Y ESPACIO PUBLICO\", \"AGENCIA AMBIENTAL\", \"AGENCIA AMBIENTAL\", \"ACTIV. COMUNES A LOS PROG. 91,92 ,93 Y 94\", \"REMEDIACION AMBIENTAL GCBA\"], [\"MINISTERIO DE AMBIENTE Y ESPACIO PUBLICO\", \"AGENCIA AMBIENTAL\", \"AGENCIA AMBIENTAL\", \"COMPENSACION AMBIENTAL\", \"REMEDIACION Y MITIGACION AMBIENTAL\"], [\"MINISTERIO DE AMBIENTE Y ESPACIO PUBLICO\", \"MINISTERIO DE AMBIENTE Y ESPACIO PUBLICO\", \"MINISTERIO AMBIENTE Y ESPACIO PUBLICO\", \"MANTENIMIENTO ZONA PUERTO MADERO\", \"REPARACION Y MEJORAS EN BARRIOS DE BUENOS AIRES\"], [\"MINISTERIO DE AMBIENTE Y ESPACIO PUBLICO\", \"AGENCIA AMBIENTAL\", \"AGENCIA AMBIENTAL\", \"ACTIV. COMUNES A LOS PROG. 91,92 ,93 Y 94\", \"RESTAURACION Y MITIGACION GCBA\"], [\"MINISTERIO DE AMBIENTE Y ESPACIO PUBLICO\", \"AGENCIA AMBIENTAL\", \"AGENCIA AMBIENTAL\", \"ACTIV. COMUNES A LOS PROG. 91,92 ,93 Y 94\", \"SANEAMIENTO Y REMEDIACION DE SUELOS CONTAMINADOS ACHA 2102/04 Y MENDOZA\"], [\"MINISTERIO DE AMBIENTE Y ESPACIO PUBLICO\", \"AGENCIA AMBIENTAL\", \"AGENCIA AMBIENTAL\", \"SANIDAD Y TENENCIA RESPONSABLE DE MASCOTAS\", \"SANIDAD Y TENENCIA RESPONSABLE DE MASCOTAS\"], [\"MINISTERIO DE AMBIENTE Y ESPACIO PUBLICO\", \"MINISTERIO DE AMBIENTE Y ESPACIO PUBLICO\", \"DIRECCION GENERAL DE LIMPIEZA\", \"SERVICIOS DE HIGIENE URBANA\", \"SERVICIO DE LIMPIEZA DE ARROYOS\"], [\"MINISTERIO DE AMBIENTE Y ESPACIO PUBLICO\", \"MINISTERIO DE AMBIENTE Y ESPACIO PUBLICO\", \"MINISTERIO AMBIENTE Y ESPACIO PUBLICO\", \"SERVICIOS DE ADMINISTRACION\", \"SERVICIOS DE ADMINISTRACION\"], [\"MINISTERIO DE AMBIENTE Y ESPACIO PUBLICO\", \"AGENCIA AMBIENTAL\", \"DIRECCION GENERAL DE EVALUACION TECNICA\", \"COMPENSACION AMBIENTAL\", \"SITIOS CONTAMINADOS\"], [\"MINISTERIO DE AMBIENTE Y ESPACIO PUBLICO\", \"MINISTERIO DE AMBIENTE Y ESPACIO PUBLICO\", \"DIRECCION GENERAL TECNICO ADMINISTRATIVA Y LEGAL\", \"TECNICA ADMINISTRATIVA Y LEGAL\", \"TECNICA ADMINISTRATIVA Y LEGAL\"], [\"MINISTERIO DE AMBIENTE Y ESPACIO PUBLICO\", \"MINISTERIO DE AMBIENTE Y ESPACIO PUBLICO\", \"DIRECCION GENERAL TRATAMIENTO Y NUEVAS TECNOLOGIAS\", \"TRATAMIENTO DE RESIDUOS SOLIDOS URBANOS\", \"TRATAMIENTO DE RESIDUOS ORGANICOS\"], [\"MINISTERIO DE AMBIENTE Y ESPACIO PUBLICO\", \"MINISTERIO DE AMBIENTE Y ESPACIO PUBLICO\", \"DIRECCION GENERAL DE ESPACIOS VERDES\", \"CUIDADO Y PUESTA EN VALOR DE ESPACIOS VERDES\", \"VALORIZACION DE LOS ESPACIOS VERDES\"], [\"MINISTERIO DE AMBIENTE Y ESPACIO PUBLICO\", \"MINISTERIO DE AMBIENTE Y ESPACIO PUBLICO\", \"DIRECCION GENERAL DE ESPACIOS VERDES\", \"CUIDADO Y PUESTA EN VALOR DE ESPACIOS VERDES\", \"VALORIZACION DE LOS ESPACIOS VERDES DE LA CIUDAD\"], [\"MINISTERIO DE AMBIENTE Y ESPACIO PUBLICO\", \"AGENCIA AMBIENTAL\", \"DIRECCION GENERAL DE CONTROL\", \"ACCIONES PARA LA RESTAURACION ECOLOGICA\", \"ACCIONES PARA LA RESTAURACION ECOLOGICA\"], [\"MINISTERIO DE ESPACIO PUBLICO E HIGIENE URBANA\", \"MINISTERIO DE ESPACIO PUBLICO E HIGIENE URBANA\", \"MIN.ESP.PUBLICO E HIG. URBANA\", \"ACT.CEN.ESP.PUB.HIG.URBANA\", \"ACT.CEN.ESP.PUB.HIG.URBANA\"], [\"MINISTERIO DE AMBIENTE Y ESPACIO PUBLICO\", \"AGENCIA AMBIENTAL\", \"AGENCIA AMBIENTAL\", \"ACTIV. COMUNES A LOS PROG. 91,92 ,93 Y 94\", \"(?)\"], [\"MINISTERIO DE AMBIENTE Y ESPACIO PUBLICO\", \"AGENCIA AMBIENTAL\", \"AGENCIA AMBIENTAL\", \"ACTIV. COMUNES A LOS PROG. 91,92 Y93\", \"ACTIV. COMUNES A LOS PROG. 91,92 Y93\"], [\"MINISTERIO DE AMBIENTE Y ESPACIO PUBLICO\", \"MINISTERIO DE AMBIENTE Y ESPACIO PUBLICO\", \"MINISTERIO AMBIENTE Y ESPACIO PUBLICO\", \"ACTIVIDADES CENTRALES AMBIENTE Y ESPACIO PUBLICO\", \"ACTIVIDADES CENTRALES AMBIENTE Y ESPACIO PUBLICO\"], [\"MINISTERIO DE AMBIENTE Y ESPACIO PUBLICO\", \"AGENCIA AMBIENTAL\", \"AGENCIA AMBIENTAL\", \"ACTIVIDADES COMUMES A LOS PROGRAMAS 91,92,93,94,95,96\", \"(?)\"], [\"MINISTERIO DE AMBIENTE Y ESPACIO PUBLICO\", \"MINISTERIO DE AMBIENTE Y ESPACIO PUBLICO\", \"SUBSECRETARIA DE ADMINISTRACION\", \"ACTIVIDADES COMUNES A LOS PROG 21 Y 22\", \"ACTIVIDADES COMUNES A LOS PROG 21 Y 22\"], [\"MINISTERIO DE AMBIENTE Y ESPACIO PUBLICO\", \"MINISTERIO DE AMBIENTE Y ESPACIO PUBLICO\", \"SUBSECRETARIA DE ADMINISTRACION GENERAL Y DE USO DEL ESPACIO PUBLICO\", \"ACTIVIDADES COMUNES A LOS PROG 21,22,23,75,76 Y 77\", \"ACTIVIDADES COMUNES A LOS PROG 21,22,23,75,76 Y 77\"], [\"MINISTERIO DE ESPACIO PUBLICO E HIGIENE URBANA\", \"MINISTERIO DE ESPACIO PUBLICO E HIGIENE URBANA\", \"SUBSECRETARIA DE ADMINISTRACION\", \"ACTIVIDADES COMUNES A LOS PROG 22 Y 23\", \"(?)\"], [\"MINISTERIO DE AMBIENTE Y ESPACIO PUBLICO\", \"AGENCIA AMBIENTAL\", \"AGENCIA AMBIENTAL\", \"ACTIVIDADES COMUNES A LOS PROG. 91 AL 100 Y 102\", \"ACTIVIDADES COMUNES A LOS PROG. 91 AL 100 Y 102\"], [\"MINISTERIO DE AMBIENTE Y ESPACIO PUBLICO\", \"AGENCIA AMBIENTAL\", \"AGENCIA AMBIENTAL\", \"ACTIVIDADES COMUNES A LOS PROG. 91 AL 103\", \"ACTIVIDADES COMUNES A LOS PROG. 91 AL 103\"], [\"MINISTERIO DE AMBIENTE Y ESPACIO PUBLICO\", \"AGENCIA AMBIENTAL\", \"AGENCIA AMBIENTAL\", \"ACTIVIDADES COMUNES A LOS PROG. 91,92,93, 94,95 Y 96\", \"ACTIVIDADES COMUNES A LOS PROG. 91,92,93, 94,95 Y 96\"], [\"MINISTERIO DE AMBIENTE Y ESPACIO PUBLICO\", \"AGENCIA AMBIENTAL\", \"AGENCIA AMBIENTAL\", \"ACTIVIDADES COMUNES A LOS PROG. 91,92,93, 94,95, 96 Y 100\", \"ACTIVIDADES COMUNES A LOS PROG. 91,92,93, 94,95, 96 Y 100\"], [\"MINISTERIO DE AMBIENTE Y ESPACIO PUBLICO\", \"AGENCIA AMBIENTAL\", \"AGENCIA AMBIENTAL\", \"ACTIVIDADES COMUNES A LOS PROGRAMAS 91,92 Y 93\", \"(?)\"], [\"MINISTERIO DE AMBIENTE Y ESPACIO PUBLICO\", \"MINISTERIO DE AMBIENTE Y ESPACIO PUBLICO\", \"SUBSECRETARIA DE HIGIENE URBANA\", \"ACTIVIDADES COMUNES A LOS PROGRAMAS: 11-52-53-56-57-58-59\", \"ACTIVIDADES COMUNES A LOS PROGRAMAS: 11-52-53-56-57-58-59\"], [\"MINISTERIO DE AMBIENTE Y ESPACIO PUBLICO\", \"MINISTERIO DE AMBIENTE Y ESPACIO PUBLICO\", \"SUBSECRETARIA DE HIGIENE URBANA\", \"ACTIVIDADES COMUNES A LOS PROGRAMAS: 11-52-53-56-57-58-59 Y 85\", \"ACTIVIDADES COMUNES A LOS PROGRAMAS: 11-52-53-56-57-58-59 Y 85\"], [\"MINISTERIO DE AMBIENTE Y ESPACIO PUBLICO\", \"MINISTERIO DE AMBIENTE Y ESPACIO PUBLICO\", \"SUBSECRETARIA DE HIGIENE URBANA\", \"ACTIVIDADES COMUNES A LOS PROGRAMAS: 11-52-53-56-57-58-59-79-85\", \"ACTIVIDADES COMUNES A LOS PROGRAMAS: 11-52-53-56-57-58-59-79-85\"], [\"MINISTERIO DE AMBIENTE Y ESPACIO PUBLICO\", \"MINISTERIO DE AMBIENTE Y ESPACIO PUBLICO\", \"SUBSECRETARIA DE HIGIENE URBANA\", \"ACTIVIDADES COMUNES A LOS PROGRAMAS: 11-52-53-56-57-85\", \"ACTIVIDADES COMUNES A LOS PROGRAMAS: 11-52-53-56-57-85\"], [\"MINISTERIO DE AMBIENTE Y ESPACIO PUBLICO\", \"MINISTERIO DE AMBIENTE Y ESPACIO PUBLICO\", \"SUBSECRETARIA DE HIGIENE URBANA\", \"ACTIVIDADES COMUNES A LOS PROGRAMAS: 11-52-53-57-58-59\", \"ACTIVIDADES COMUNES A LOS PROGRAMAS: 11-52-53-57-58-59\"], [\"MINISTERIO DE AMBIENTE Y ESPACIO PUBLICO\", \"MINISTERIO DE AMBIENTE Y ESPACIO PUBLICO\", \"SUBSECRETARIA DE HIGIENE URBANA\", \"ACTIVIDADES COMUNES A LOS PROGRAMAS: 11-52-53-57-58-59 Y 85\", \"ACTIVIDADES COMUNES A LOS PROGRAMAS: 11-52-53-57-58-59 Y 85\"], [\"MINISTERIO DE ESPACIO PUBLICO E HIGIENE URBANA\", \"MINISTERIO DE ESPACIO PUBLICO E HIGIENE URBANA\", \"SUBSECRETARIA DE HIGIENE URBANA\", \"ACTIVIDADES COMUNES A LOS PROGRAMAS: 11-52-57-58 Y 85\", \"ACTIVIDADES COMUNES A LOS PROGRAMAS: 11-52-57-58 Y 85\"], [\"MINISTERIO DE AMBIENTE Y ESPACIO PUBLICO\", \"MINISTERIO DE AMBIENTE Y ESPACIO PUBLICO\", \"SUBSECRETARIA DE HIGIENE URBANA\", \"ACTIVIDADES COMUNES A LOS PROGRAMAS: 52.53.56.57 Y 85\", \"ACTIVIDADES COMUNES A LOS PROGRAMAS: 52.53.56.57 Y 85\"], [\"MINISTERIO DE AMBIENTE Y ESPACIO PUBLICO\", \"MINISTERIO DE AMBIENTE Y ESPACIO PUBLICO\", \"DIRECCION GENERAL DE ARBOLADO\", \"ARBOLADO URBANO\", \"(?)\"], [\"MINISTERIO DE AMBIENTE Y ESPACIO PUBLICO\", \"MINISTERIO DE AMBIENTE Y ESPACIO PUBLICO\", \"DIRECCION GENERAL TECNICO ADMINISTRATIVA Y LEGAL\", \"ASUNTOS LEGALES Y PRESUPUESTO\", \"ASUNTOS LEGALES Y PRESUPUESTO\"], [\"MINISTERIO DE ESPACIO PUBLICO E HIGIENE URBANA\", \"MINISTERIO DE ESPACIO PUBLICO E HIGIENE URBANA\", \"DIRECCION GENERAL TECNICO ADMINISTRATIVA Y LEGAL\", \"ASUNTOS LEGALES Y PRESUPUESTO\", \"ASUNTOS LEGALES Y PRESUPUESTO\"], [\"MINISTERIO DE AMBIENTE Y ESPACIO PUBLICO\", \"AGENCIA AMBIENTAL\", \"DIRECCION GENERAL DE EVALUACION TECNICA\", \"BUENOS AIRES PRODUCE MAS LIMPIO (P+L)\", \"BUENOS AIRES PRODUCE MAS LIMPIO (P+L)\"], [\"MINISTERIO DE AMBIENTE Y ESPACIO PUBLICO\", \"AGENCIA AMBIENTAL\", \"DIRECCION GENERAL ESTRATEGIAS AMBIENTALES\", \"BUENOS AIRES PRODUCE MAS LIMPIO (P+L)\", \"BUENOS AIRES PRODUCE MAS LIMPIO (P+L)\"], [\"MINISTERIO DE AMBIENTE Y ESPACIO PUBLICO\", \"AGENCIA AMBIENTAL\", \"DIRECCION GENERAL POLITICA Y ESTRATEGIA AMBIENTAL\", \"BUENOS AIRES PRODUCE MAS LIMPIO (P+L)\", \"BUENOS AIRES PRODUCE MAS LIMPIO (P+L)\"], [\"MINISTERIO DE AMBIENTE Y ESPACIO PUBLICO\", \"AGENCIA AMBIENTAL\", \"AGENCIA AMBIENTAL\", \"CENTROS DE ATENCION VETERINARIA\", \"CENTROS DE ATENCION VETERINARIA\"], [\"MINISTERIO DE AMBIENTE Y ESPACIO PUBLICO\", \"AGENCIA AMBIENTAL\", \"DIRECCION GENERAL ESTRATEGIAS AMBIENTALES\", \"CENTROS DE ATENCION VETERINARIA\", \"CENTROS DE ATENCION VETERINARIA\"], [\"MINISTERIO DE AMBIENTE Y ESPACIO PUBLICO\", \"AGENCIA AMBIENTAL\", \"AGENCIA AMBIENTAL\", \"COMPENSACION AMBIENTAL\", \"(?)\"], [\"MINISTERIO DE AMBIENTE Y ESPACIO PUBLICO\", \"AGENCIA AMBIENTAL\", \"DIRECCION GENERAL DE EVALUACION AMBIENTAL\", \"COMPENSACION AMBIENTAL\", \"COMPENSACION AMBIENTAL\"], [\"MINISTERIO DE AMBIENTE Y ESPACIO PUBLICO\", \"AGENCIA AMBIENTAL\", \"DIRECCION GENERAL DE EVALUACION TECNICA\", \"COMPENSACION AMBIENTAL\", \"(?)\"], [\"MINISTERIO DE AMBIENTE Y ESPACIO PUBLICO\", \"MINISTERIO DE AMBIENTE Y ESPACIO PUBLICO\", \"UPE ECOPARQUE INTERACTIVO DE LA CABA\", \"CONSERVACION DE LA BIODIVERSIDAD\", \"(?)\"], [\"MINISTERIO DE AMBIENTE Y ESPACIO PUBLICO\", \"AGENCIA AMBIENTAL\", \"DIRECCION GENERAL DE CONTROL\", \"CONTROL AMBIENTAL\", \"CONTROL AMBIENTAL\"], [\"MINISTERIO DE AMBIENTE Y ESPACIO PUBLICO\", \"MINISTERIO DE AMBIENTE Y ESPACIO PUBLICO\", \"DIRECCION GENERAL CONTROL DE GESTION\", \"CONTROL DE GESTION\", \"CONTROL DE GESTION\"], [\"MINISTERIO DE AMBIENTE Y ESPACIO PUBLICO\", \"MINISTERIO DE AMBIENTE Y ESPACIO PUBLICO\", \"DIRECCION GENERAL CONTROL DE GESTION\", \"CONTROL DE GESTION Y RECLAMOS\", \"CONTROL DE GESTION Y RECLAMOS\"], [\"MINISTERIO DE ESPACIO PUBLICO E HIGIENE URBANA\", \"MINISTERIO DE ESPACIO PUBLICO E HIGIENE URBANA\", \"DIRECCION GENERAL CONTROL DE GESTION\", \"CONTROL DE GESTION Y RECLAMOS\", \"CONTROL DE GESTION Y RECLAMOS\"], [\"MINISTERIO DE AMBIENTE Y ESPACIO PUBLICO\", \"MINISTERIO DE AMBIENTE Y ESPACIO PUBLICO\", \"DIRECCION GENERAL DE LIMPIEZA\", \"CONTROL DE HIGIENE EN VIA PUBLICA E INMUEBLES\", \"CONTROL DE HIGIENE EN VIA PUBLICA E INMUEBLES\"], [\"MINISTERIO DE AMBIENTE Y ESPACIO PUBLICO\", \"MINISTERIO DE AMBIENTE Y ESPACIO PUBLICO\", \"DIRECCION GENERAL INSPECCION DE HIGIENE URBANA\", \"CONTROL DE HIGIENE EN VIA PUBLICA E INMUEBLES\", \"(?)\"], [\"MINISTERIO DE AMBIENTE Y ESPACIO PUBLICO\", \"MINISTERIO DE AMBIENTE Y ESPACIO PUBLICO\", \"SUBSECRETARIA DE HIGIENE URBANA\", \"CONTROL DE HIGIENE EN VIA PUBLICA E INMUEBLES\", \"CONTROL DE HIGIENE EN VIA PUBLICA E INMUEBLES\"], [\"MINISTERIO DE AMBIENTE Y ESPACIO PUBLICO\", \"MINISTERIO DE AMBIENTE Y ESPACIO PUBLICO\", \"DIRECCION GENERAL DE LIMPIEZA\", \"CONTROL DE PLAGAS\", \"CONTROL DE PLAGAS\"], [\"MINISTERIO DE ESPACIO PUBLICO E HIGIENE URBANA\", \"MINISTERIO DE ESPACIO PUBLICO E HIGIENE URBANA\", \"DIRECCION GENERAL DE LIMPIEZA\", \"CONTROL DE PLAGAS\", \"CONTROL DE PLAGAS\"], [\"MINISTERIO DE AMBIENTE Y ESPACIO PUBLICO\", \"MINISTERIO DE AMBIENTE Y ESPACIO PUBLICO\", \"DIRECCION GENERAL INSPECCION DE HIGIENE URBANA\", \"CONTROL DE PLAGAS\", \"CONTROL DE PLAGAS\"], [\"MINISTERIO DE AMBIENTE Y ESPACIO PUBLICO\", \"MINISTERIO DE AMBIENTE Y ESPACIO PUBLICO\", \"DIRECCION GENERAL DE ESPACIOS VERDES\", \"CUIDADO Y PUESTA EN VALOR DE ESPACIOS VERDES\", \"(?)\"], [\"MINISTERIO DE AMBIENTE Y ESPACIO PUBLICO\", \"AGENCIA AMBIENTAL\", \"DIRECCION GENERAL ESTRATEGIAS AMBIENTALES\", \"ESTRATEGIAS AMBIENTALES\", \"(?)\"], [\"MINISTERIO DE AMBIENTE Y ESPACIO PUBLICO\", \"AGENCIA AMBIENTAL\", \"DIRECCION GENERAL POLITICA Y ESTRATEGIA AMBIENTAL\", \"ESTRATEGIAS AMBIENTALES\", \"ESTRATEGIAS AMBIENTALES\"], [\"MINISTERIO DE AMBIENTE Y ESPACIO PUBLICO\", \"AGENCIA AMBIENTAL\", \"DIRECCION GENERAL DE EVALUACION AMBIENTAL\", \"EVALUACION TECNICA\", \"EVALUACION TECNICA\"], [\"MINISTERIO DE AMBIENTE Y ESPACIO PUBLICO\", \"AGENCIA AMBIENTAL\", \"DIRECCION GENERAL DE EVALUACION TECNICA\", \"EVALUACION TECNICA\", \"EVALUACION TECNICA\"], [\"MINISTERIO DE AMBIENTE Y ESPACIO PUBLICO\", \"AGENCIA AMBIENTAL\", \"AGENCIA AMBIENTAL\", \"GESTION AMBIENTAL\", \"(?)\"], [\"MINISTERIO DE AMBIENTE Y ESPACIO PUBLICO\", \"AGENCIA AMBIENTAL\", \"AGENCIA AMBIENTAL\", \"INTERVENCIONES VETERINARIAS\", \"INTERVENCIONES VETERINARIAS\"], [\"MINISTERIO DE AMBIENTE Y ESPACIO PUBLICO\", \"AGENCIA AMBIENTAL\", \"DIRECCION GENERAL DE CONTROL\", \"LABORATORIO DE ANALISIS Y CALIDAD AMBIENTAL\", \"LABORATORIO DE ANALISIS Y CALIDAD AMBIENTAL\"], [\"MINISTERIO DE AMBIENTE Y ESPACIO PUBLICO\", \"AGENCIA AMBIENTAL\", \"DIRECCION GENERAL DE EVALUACION TECNICA\", \"LABORATORIO DE ANALISIS Y CALIDAD AMBIENTAL\", \"LABORATORIO DE ANALISIS Y CALIDAD AMBIENTAL\"], [\"MINISTERIO DE AMBIENTE Y ESPACIO PUBLICO\", \"MINISTERIO DE AMBIENTE Y ESPACIO PUBLICO\", \"MINISTERIO AMBIENTE Y ESPACIO PUBLICO\", \"MANTENIMIENTO ZONA PUERTO MADERO\", \"REPARACION Y MEJORAS EN BARRIOS DE BUENOS AIRES\"], [\"MINISTERIO DE AMBIENTE Y ESPACIO PUBLICO\", \"MINISTERIO DE AMBIENTE Y ESPACIO PUBLICO\", \"DIRECCION GENERAL OBRAS REGENERACION URBANA\", \"OBRAS DE REGENERACIONURBANA\", \"PARQUES URBANOS\"], [\"MINISTERIO DE AMBIENTE Y ESPACIO PUBLICO\", \"AGENCIA AMBIENTAL\", \"DIRECCION GENERAL ESTRATEGIAS AMBIENTALES\", \"PLANEAMIENTO DE LA GESTION AMBIENTAL SOSTENIBLE\", \"(?)\"], [\"MINISTERIO DE AMBIENTE Y ESPACIO PUBLICO\", \"MINISTERIO DE AMBIENTE Y ESPACIO PUBLICO\", \"DIRECCION GENERAL PLANIFICACION Y PRESUPUESTO\", \"PLANIFICACION Y PRESUPUESTO\", \"PLANIFICACION Y PRESUPUESTO\"], [\"MINISTERIO DE AMBIENTE Y ESPACIO PUBLICO\", \"AGENCIA AMBIENTAL\", \"DIRECCION GENERAL DE EVALUACION TECNICA\", \"PREVENC.AMB.EVALUAC.TECNICA Y CERTIFICADOS AMBIENTALES\", \"PREVENC.AMB.EVALUAC.TECNICA Y CERTIFICADOS AMBIENTALES\"], [\"MINISTERIO DE AMBIENTE Y ESPACIO PUBLICO\", \"AGENCIA AMBIENTAL\", \"DIRECCION GENERAL DE EVALUACION TECNICA\", \"PREVENCION AMBIENTAL EVALUACION TECNICA Y REGISTROS AMBIENTALES\", \"PREVENCION AMBIENTAL EVALUACION TECNICA Y REGISTROS AMBIENTALES\"], [\"MINISTERIO DE AMBIENTE Y ESPACIO PUBLICO\", \"AGENCIA AMBIENTAL\", \"DIRECCION GENERAL POLITICA Y ESTRATEGIA AMBIENTAL\", \"PROGRAMA DE CAMBIO CLIMATICO E INFORMACION AMBIENTAL\", \"PROGRAMA DE CAMBIO CLIMATICO E INFORMACION AMBIENTAL\"], [\"MINISTERIO DE AMBIENTE Y ESPACIO PUBLICO\", \"AGENCIA AMBIENTAL\", \"DIRECCION GENERAL POLITICA Y ESTRATEGIA AMBIENTAL\", \"PROGRAMA DE GESTION ENERGETICA\", \"PROGRAMA DE GESTION ENERGETICA\"], [\"MINISTERIO DE AMBIENTE Y ESPACIO PUBLICO\", \"AGENCIA AMBIENTAL\", \"DIRECCION GENERAL POLITICA Y ESTRATEGIA AMBIENTAL\", \"PROGRAMA DE RESIDUOS DE MANEJO ESPECIAL\", \"PROGRAMA DE RESIDUOS DE MANEJO ESPECIAL\"], [\"MINISTERIO DE AMBIENTE Y ESPACIO PUBLICO\", \"AGENCIA AMBIENTAL\", \"AGENCIA AMBIENTAL\", \"PROTECCION Y SANIDAD ANIMAL\", \"PROTECCION Y SANIDAD ANIMAL\"], [\"MINISTERIO DE AMBIENTE Y ESPACIO PUBLICO\", \"AGENCIA AMBIENTAL\", \"DIRECCION GENERAL ESTRATEGIAS AMBIENTALES\", \"PROTECCION Y SANIDAD ANIMAL\", \"PROTECCION Y SANIDAD ANIMAL\"], [\"MINISTERIO DE AMBIENTE Y ESPACIO PUBLICO\", \"MINISTERIO DE AMBIENTE Y ESPACIO PUBLICO\", \"DIRECCION GENERAL DE RECICLADO\", \"RECICLADO DE RESIDUOS URBANOS\", \"(?)\"], [\"MINISTERIO DE AMBIENTE Y ESPACIO PUBLICO\", \"ENTE DE HIGIENE URBANA\", \"ENTE DE HIGIENE URBANA\", \"RECOLECCION, BARRIDO E HIGIENE DE LA CIUDAD DE BUENOS AIRES\", \"RECOLECCION, BARRIDO E HIGIENE DE LA CIUDAD DE BUENOS AIRES\"], [\"MINISTERIO DE AMBIENTE Y ESPACIO PUBLICO\", \"AGENCIA AMBIENTAL\", \"AGENCIA AMBIENTAL\", \"REDES AMBIENTALES\", \"(?)\"], [\"MINISTERIO DE AMBIENTE Y ESPACIO PUBLICO\", \"AGENCIA AMBIENTAL\", \"DIRECCION GENERAL DE CONTROL\", \"REDES AMBIENTALES\", \"REDES AMBIENTALES\"], [\"MINISTERIO DE AMBIENTE Y ESPACIO PUBLICO\", \"MINISTERIO DE AMBIENTE Y ESPACIO PUBLICO\", \"DIRECCION GENERAL REGENERACION URBANA\", \"REGENERACION URBANA\", \"OBRAS DE REGENERACION URBANA\"], [\"MINISTERIO DE AMBIENTE Y ESPACIO PUBLICO\", \"AGENCIA AMBIENTAL\", \"AGENCIA AMBIENTAL\", \"SANIDAD Y TENENCIA RESPONSABLE DE MASCOTAS\", \"SANIDAD Y TENENCIA RESPONSABLE DE MASCOTAS\"], [\"MINISTERIO DE AMBIENTE Y ESPACIO PUBLICO\", \"MINISTERIO DE AMBIENTE Y ESPACIO PUBLICO\", \"MINISTERIO AMBIENTE Y ESPACIO PUBLICO\", \"SERVICIOS DE ADMINISTRACION\", \"SERVICIOS DE ADMINISTRACION\"], [\"MINISTERIO DE AMBIENTE Y ESPACIO PUBLICO\", \"MINISTERIO DE AMBIENTE Y ESPACIO PUBLICO\", \"DIRECCION GENERAL DE LIMPIEZA\", \"SERVICIOS DE HIGIENE URBANA\", \"(?)\"], [\"MINISTERIO DE AMBIENTE Y ESPACIO PUBLICO\", \"MINISTERIO DE AMBIENTE Y ESPACIO PUBLICO\", \"DIRECCION GENERAL TECNICO ADMINISTRATIVA Y LEGAL\", \"TECNICA ADMINISTRATIVA Y LEGAL\", \"TECNICA ADMINISTRATIVA Y LEGAL\"], [\"MINISTERIO DE AMBIENTE Y ESPACIO PUBLICO\", \"MINISTERIO DE AMBIENTE Y ESPACIO PUBLICO\", \"DIRECCION GENERAL TRATAMIENTO Y NUEVAS TECNOLOGIAS\", \"TRATAMIENTO DE RESIDUOS SOLIDOS URBANOS\", \"TRATAMIENTO DE RESIDUOS ORGANICOS\"], [\"MINISTERIO DE AMBIENTE Y ESPACIO PUBLICO\", \"AGENCIA AMBIENTAL\", \"AGENCIA AMBIENTAL\", \"(?)\", \"(?)\"], [\"MINISTERIO DE AMBIENTE Y ESPACIO PUBLICO\", \"MINISTERIO DE AMBIENTE Y ESPACIO PUBLICO\", \"DIRECCION GENERAL CONTROL DE GESTION\", \"(?)\", \"(?)\"], [\"MINISTERIO DE ESPACIO PUBLICO E HIGIENE URBANA\", \"MINISTERIO DE ESPACIO PUBLICO E HIGIENE URBANA\", \"DIRECCION GENERAL CONTROL DE GESTION\", \"CONTROL DE GESTION Y RECLAMOS\", \"CONTROL DE GESTION Y RECLAMOS\"], [\"MINISTERIO DE AMBIENTE Y ESPACIO PUBLICO\", \"MINISTERIO DE AMBIENTE Y ESPACIO PUBLICO\", \"DIRECCION GENERAL DE ARBOLADO\", \"ARBOLADO URBANO\", \"(?)\"], [\"MINISTERIO DE AMBIENTE Y ESPACIO PUBLICO\", \"AGENCIA AMBIENTAL\", \"DIRECCION GENERAL DE CONTROL\", \"(?)\", \"(?)\"], [\"MINISTERIO DE AMBIENTE Y ESPACIO PUBLICO\", \"MINISTERIO DE AMBIENTE Y ESPACIO PUBLICO\", \"DIRECCION GENERAL DE ESPACIOS VERDES\", \"CUIDADO Y PUESTA EN VALOR DE ESPACIOS VERDES\", \"(?)\"], [\"MINISTERIO DE AMBIENTE Y ESPACIO PUBLICO\", \"AGENCIA AMBIENTAL\", \"DIRECCION GENERAL DE EVALUACION AMBIENTAL\", \"(?)\", \"(?)\"], [\"MINISTERIO DE AMBIENTE Y ESPACIO PUBLICO\", \"AGENCIA AMBIENTAL\", \"DIRECCION GENERAL DE EVALUACION TECNICA\", \"(?)\", \"(?)\"], [\"MINISTERIO DE AMBIENTE Y ESPACIO PUBLICO\", \"MINISTERIO DE AMBIENTE Y ESPACIO PUBLICO\", \"DIRECCION GENERAL DE LIMPIEZA\", \"(?)\", \"(?)\"], [\"MINISTERIO DE ESPACIO PUBLICO E HIGIENE URBANA\", \"MINISTERIO DE ESPACIO PUBLICO E HIGIENE URBANA\", \"DIRECCION GENERAL DE LIMPIEZA\", \"CONTROL DE PLAGAS\", \"CONTROL DE PLAGAS\"], [\"MINISTERIO DE AMBIENTE Y ESPACIO PUBLICO\", \"MINISTERIO DE AMBIENTE Y ESPACIO PUBLICO\", \"DIRECCION GENERAL DE RECICLADO\", \"RECICLADO DE RESIDUOS URBANOS\", \"(?)\"], [\"MINISTERIO DE AMBIENTE Y ESPACIO PUBLICO\", \"AGENCIA AMBIENTAL\", \"DIRECCION GENERAL ESTRATEGIAS AMBIENTALES\", \"(?)\", \"(?)\"], [\"MINISTERIO DE AMBIENTE Y ESPACIO PUBLICO\", \"MINISTERIO DE AMBIENTE Y ESPACIO PUBLICO\", \"DIRECCION GENERAL INSPECCION DE HIGIENE URBANA\", \"(?)\", \"(?)\"], [\"MINISTERIO DE AMBIENTE Y ESPACIO PUBLICO\", \"MINISTERIO DE AMBIENTE Y ESPACIO PUBLICO\", \"DIRECCION GENERAL OBRAS REGENERACION URBANA\", \"OBRAS DE REGENERACIONURBANA\", \"PARQUES URBANOS\"], [\"MINISTERIO DE AMBIENTE Y ESPACIO PUBLICO\", \"MINISTERIO DE AMBIENTE Y ESPACIO PUBLICO\", \"DIRECCION GENERAL PLANIFICACION Y PRESUPUESTO\", \"PLANIFICACION Y PRESUPUESTO\", \"PLANIFICACION Y PRESUPUESTO\"], [\"MINISTERIO DE AMBIENTE Y ESPACIO PUBLICO\", \"AGENCIA AMBIENTAL\", \"DIRECCION GENERAL POLITICA Y ESTRATEGIA AMBIENTAL\", \"(?)\", \"(?)\"], [\"MINISTERIO DE AMBIENTE Y ESPACIO PUBLICO\", \"MINISTERIO DE AMBIENTE Y ESPACIO PUBLICO\", \"DIRECCION GENERAL REGENERACION URBANA\", \"REGENERACION URBANA\", \"OBRAS DE REGENERACION URBANA\"], [\"MINISTERIO DE AMBIENTE Y ESPACIO PUBLICO\", \"MINISTERIO DE AMBIENTE Y ESPACIO PUBLICO\", \"DIRECCION GENERAL TECNICO ADMINISTRATIVA Y LEGAL\", \"(?)\", \"(?)\"], [\"MINISTERIO DE ESPACIO PUBLICO E HIGIENE URBANA\", \"MINISTERIO DE ESPACIO PUBLICO E HIGIENE URBANA\", \"DIRECCION GENERAL TECNICO ADMINISTRATIVA Y LEGAL\", \"ASUNTOS LEGALES Y PRESUPUESTO\", \"ASUNTOS LEGALES Y PRESUPUESTO\"], [\"MINISTERIO DE AMBIENTE Y ESPACIO PUBLICO\", \"MINISTERIO DE AMBIENTE Y ESPACIO PUBLICO\", \"DIRECCION GENERAL TRATAMIENTO Y NUEVAS TECNOLOGIAS\", \"TRATAMIENTO DE RESIDUOS SOLIDOS URBANOS\", \"TRATAMIENTO DE RESIDUOS ORGANICOS\"], [\"MINISTERIO DE AMBIENTE Y ESPACIO PUBLICO\", \"ENTE DE HIGIENE URBANA\", \"ENTE DE HIGIENE URBANA\", \"RECOLECCION, BARRIDO E HIGIENE DE LA CIUDAD DE BUENOS AIRES\", \"RECOLECCION, BARRIDO E HIGIENE DE LA CIUDAD DE BUENOS AIRES\"], [\"MINISTERIO DE ESPACIO PUBLICO E HIGIENE URBANA\", \"MINISTERIO DE ESPACIO PUBLICO E HIGIENE URBANA\", \"MIN.ESP.PUBLICO E HIG. URBANA\", \"ACT.CEN.ESP.PUB.HIG.URBANA\", \"ACT.CEN.ESP.PUB.HIG.URBANA\"], [\"MINISTERIO DE AMBIENTE Y ESPACIO PUBLICO\", \"MINISTERIO DE AMBIENTE Y ESPACIO PUBLICO\", \"MINISTERIO AMBIENTE Y ESPACIO PUBLICO\", \"(?)\", \"(?)\"], [\"MINISTERIO DE AMBIENTE Y ESPACIO PUBLICO\", \"MINISTERIO DE AMBIENTE Y ESPACIO PUBLICO\", \"SUBSECRETARIA DE ADMINISTRACION\", \"ACTIVIDADES COMUNES A LOS PROG 21 Y 22\", \"ACTIVIDADES COMUNES A LOS PROG 21 Y 22\"], [\"MINISTERIO DE ESPACIO PUBLICO E HIGIENE URBANA\", \"MINISTERIO DE ESPACIO PUBLICO E HIGIENE URBANA\", \"SUBSECRETARIA DE ADMINISTRACION\", \"ACTIVIDADES COMUNES A LOS PROG 22 Y 23\", \"(?)\"], [\"MINISTERIO DE AMBIENTE Y ESPACIO PUBLICO\", \"MINISTERIO DE AMBIENTE Y ESPACIO PUBLICO\", \"SUBSECRETARIA DE ADMINISTRACION GENERAL Y DE USO DEL ESPACIO PUBLICO\", \"ACTIVIDADES COMUNES A LOS PROG 21,22,23,75,76 Y 77\", \"ACTIVIDADES COMUNES A LOS PROG 21,22,23,75,76 Y 77\"], [\"MINISTERIO DE AMBIENTE Y ESPACIO PUBLICO\", \"MINISTERIO DE AMBIENTE Y ESPACIO PUBLICO\", \"SUBSECRETARIA DE HIGIENE URBANA\", \"(?)\", \"(?)\"], [\"MINISTERIO DE ESPACIO PUBLICO E HIGIENE URBANA\", \"MINISTERIO DE ESPACIO PUBLICO E HIGIENE URBANA\", \"SUBSECRETARIA DE HIGIENE URBANA\", \"ACTIVIDADES COMUNES A LOS PROGRAMAS: 11-52-57-58 Y 85\", \"ACTIVIDADES COMUNES A LOS PROGRAMAS: 11-52-57-58 Y 85\"], [\"MINISTERIO DE AMBIENTE Y ESPACIO PUBLICO\", \"MINISTERIO DE AMBIENTE Y ESPACIO PUBLICO\", \"UPE ECOPARQUE INTERACTIVO DE LA CABA\", \"CONSERVACION DE LA BIODIVERSIDAD\", \"(?)\"], [\"MINISTERIO DE AMBIENTE Y ESPACIO PUBLICO\", \"AGENCIA AMBIENTAL\", \"(?)\", \"(?)\", \"(?)\"], [\"MINISTERIO DE AMBIENTE Y ESPACIO PUBLICO\", \"ENTE DE HIGIENE URBANA\", \"ENTE DE HIGIENE URBANA\", \"RECOLECCION, BARRIDO E HIGIENE DE LA CIUDAD DE BUENOS AIRES\", \"RECOLECCION, BARRIDO E HIGIENE DE LA CIUDAD DE BUENOS AIRES\"], [\"MINISTERIO DE AMBIENTE Y ESPACIO PUBLICO\", \"MINISTERIO DE AMBIENTE Y ESPACIO PUBLICO\", \"(?)\", \"(?)\", \"(?)\"], [\"MINISTERIO DE ESPACIO PUBLICO E HIGIENE URBANA\", \"MINISTERIO DE ESPACIO PUBLICO E HIGIENE URBANA\", \"(?)\", \"(?)\", \"(?)\"], [\"MINISTERIO DE AMBIENTE Y ESPACIO PUBLICO\", \"(?)\", \"(?)\", \"(?)\", \"(?)\"], [\"MINISTERIO DE ESPACIO PUBLICO E HIGIENE URBANA\", \"MINISTERIO DE ESPACIO PUBLICO E HIGIENE URBANA\", \"(?)\", \"(?)\", \"(?)\"]], \"domain\": {\"x\": [0.0, 1.0], \"y\": [0.0, 1.0]}, \"hovertemplate\": \"<b>%{label}</b> <br>$%{value:,.0f}</b> \\n            <br>\\n                <br>JURISDICCION: %{customdata[0]}</b>\\n                <br>UNIDAD_EJECUTORA: %{customdata[2]}</b> \\n                <br>\\n                    <br>PROGRAMA: %{customdata[3]}</b> \\n                    <br>PROYECTO: %{customdata[4]}</b>\\n                </b>\\n            </b> \", \"ids\": [\"MINISTERIO DE AMBIENTE Y ESPACIO PUBLICO/MINISTERIO DE AMBIENTE Y ESPACIO PUBLICO/DIRECCION GENERAL DE RECICLADO/RECICLADO DE RESIDUOS URBANOS/A.CU.MAR - CENTROS VERDES\", \"MINISTERIO DE AMBIENTE Y ESPACIO PUBLICO/MINISTERIO DE AMBIENTE Y ESPACIO PUBLICO/DIRECCION GENERAL DE LIMPIEZA/SERVICIOS DE HIGIENE URBANA/A.CU.MAR - RIACHUELO\", \"MINISTERIO DE AMBIENTE Y ESPACIO PUBLICO/MINISTERIO DE AMBIENTE Y ESPACIO PUBLICO/DIRECCION GENERAL DE ESPACIOS VERDES/CUIDADO Y PUESTA EN VALOR DE ESPACIOS VERDES/A.CU.MAR - VALORIZACION DE LOS ESPACIOS VERDES\", \"MINISTERIO DE AMBIENTE Y ESPACIO PUBLICO/AGENCIA AMBIENTAL/AGENCIA AMBIENTAL/ACTIV. COMUNES A LOS PROG. 91,92 ,93 Y 94/ACCIONES AMBIENTALES CABA\", \"MINISTERIO DE AMBIENTE Y ESPACIO PUBLICO/AGENCIA AMBIENTAL/DIRECCION GENERAL DE CONTROL/ACCIONES PARA LA RESTAURACION ECOLOGICA/ACCIONES PARA LA RESTAURACION ECOLOGICA\", \"MINISTERIO DE ESPACIO PUBLICO E HIGIENE URBANA/MINISTERIO DE ESPACIO PUBLICO E HIGIENE URBANA/MIN.ESP.PUBLICO E HIG. URBANA/ACT.CEN.ESP.PUB.HIG.URBANA/ACT.CEN.ESP.PUB.HIG.URBANA\", \"MINISTERIO DE AMBIENTE Y ESPACIO PUBLICO/AGENCIA AMBIENTAL/AGENCIA AMBIENTAL/ACTIV. COMUNES A LOS PROG. 91,92 ,93 Y 94/ACTIV. COMUNES A LOS PROG. 91,92 ,93 Y 94\", \"MINISTERIO DE AMBIENTE Y ESPACIO PUBLICO/AGENCIA AMBIENTAL/AGENCIA AMBIENTAL/ACTIV. COMUNES A LOS PROG. 91,92 Y93/ACTIV. COMUNES A LOS PROG. 91,92 Y93\", \"MINISTERIO DE AMBIENTE Y ESPACIO PUBLICO/MINISTERIO DE AMBIENTE Y ESPACIO PUBLICO/MINISTERIO AMBIENTE Y ESPACIO PUBLICO/ACTIVIDADES CENTRALES AMBIENTE Y ESPACIO PUBLICO/ACTIVIDADES CENTRALES AMBIENTE Y ESPACIO PUBLICO\", \"MINISTERIO DE AMBIENTE Y ESPACIO PUBLICO/AGENCIA AMBIENTAL/AGENCIA AMBIENTAL/ACTIVIDADES COMUMES A LOS PROGRAMAS 91,92,93,94,95,96/ACTIVIDADES COMUMES A LOS PROGRAMAS 91,92,93,94,95,96\", \"MINISTERIO DE AMBIENTE Y ESPACIO PUBLICO/MINISTERIO DE AMBIENTE Y ESPACIO PUBLICO/SUBSECRETARIA DE ADMINISTRACION/ACTIVIDADES COMUNES A LOS PROG 21 Y 22/ACTIVIDADES COMUNES A LOS PROG 21 Y 22\", \"MINISTERIO DE AMBIENTE Y ESPACIO PUBLICO/MINISTERIO DE AMBIENTE Y ESPACIO PUBLICO/SUBSECRETARIA DE ADMINISTRACION GENERAL Y DE USO DEL ESPACIO PUBLICO/ACTIVIDADES COMUNES A LOS PROG 21,22,23,75,76 Y 77/ACTIVIDADES COMUNES A LOS PROG 21,22,23,75,76 Y 77\", \"MINISTERIO DE ESPACIO PUBLICO E HIGIENE URBANA/MINISTERIO DE ESPACIO PUBLICO E HIGIENE URBANA/SUBSECRETARIA DE ADMINISTRACION/ACTIVIDADES COMUNES A LOS PROG 22 Y 23/ACTIVIDADES COMUNES A LOS PROG 22 Y 23\", \"MINISTERIO DE AMBIENTE Y ESPACIO PUBLICO/AGENCIA AMBIENTAL/AGENCIA AMBIENTAL/ACTIVIDADES COMUNES A LOS PROG. 91 AL 100 Y 102/ACTIVIDADES COMUNES A LOS PROG. 91 AL 100 Y 102\", \"MINISTERIO DE AMBIENTE Y ESPACIO PUBLICO/AGENCIA AMBIENTAL/AGENCIA AMBIENTAL/ACTIVIDADES COMUNES A LOS PROG. 91 AL 103/ACTIVIDADES COMUNES A LOS PROG. 91 AL 103\", \"MINISTERIO DE AMBIENTE Y ESPACIO PUBLICO/AGENCIA AMBIENTAL/AGENCIA AMBIENTAL/ACTIVIDADES COMUNES A LOS PROG. 91,92,93, 94,95 Y 96/ACTIVIDADES COMUNES A LOS PROG. 91,92,93, 94,95 Y 96\", \"MINISTERIO DE AMBIENTE Y ESPACIO PUBLICO/AGENCIA AMBIENTAL/AGENCIA AMBIENTAL/ACTIVIDADES COMUNES A LOS PROG. 91,92,93, 94,95, 96 Y 100/ACTIVIDADES COMUNES A LOS PROG. 91,92,93, 94,95, 96 Y 100\", \"MINISTERIO DE AMBIENTE Y ESPACIO PUBLICO/AGENCIA AMBIENTAL/AGENCIA AMBIENTAL/ACTIVIDADES COMUNES A LOS PROGRAMAS 91,92 Y 93/ACTIVIDADES COMUNES A LOS PROGRAMAS 91,92 Y 93\", \"MINISTERIO DE AMBIENTE Y ESPACIO PUBLICO/MINISTERIO DE AMBIENTE Y ESPACIO PUBLICO/SUBSECRETARIA DE HIGIENE URBANA/ACTIVIDADES COMUNES A LOS PROGRAMAS: 11-52-53-56-57-58-59/ACTIVIDADES COMUNES A LOS PROGRAMAS: 11-52-53-56-57-58-59\", \"MINISTERIO DE AMBIENTE Y ESPACIO PUBLICO/MINISTERIO DE AMBIENTE Y ESPACIO PUBLICO/SUBSECRETARIA DE HIGIENE URBANA/ACTIVIDADES COMUNES A LOS PROGRAMAS: 11-52-53-56-57-58-59 Y 85/ACTIVIDADES COMUNES A LOS PROGRAMAS: 11-52-53-56-57-58-59 Y 85\", \"MINISTERIO DE AMBIENTE Y ESPACIO PUBLICO/MINISTERIO DE AMBIENTE Y ESPACIO PUBLICO/SUBSECRETARIA DE HIGIENE URBANA/ACTIVIDADES COMUNES A LOS PROGRAMAS: 11-52-53-56-57-58-59-79-85/ACTIVIDADES COMUNES A LOS PROGRAMAS: 11-52-53-56-57-58-59-79-85\", \"MINISTERIO DE AMBIENTE Y ESPACIO PUBLICO/MINISTERIO DE AMBIENTE Y ESPACIO PUBLICO/SUBSECRETARIA DE HIGIENE URBANA/ACTIVIDADES COMUNES A LOS PROGRAMAS: 11-52-53-56-57-85/ACTIVIDADES COMUNES A LOS PROGRAMAS: 11-52-53-56-57-85\", \"MINISTERIO DE AMBIENTE Y ESPACIO PUBLICO/MINISTERIO DE AMBIENTE Y ESPACIO PUBLICO/SUBSECRETARIA DE HIGIENE URBANA/ACTIVIDADES COMUNES A LOS PROGRAMAS: 11-52-53-57-58-59/ACTIVIDADES COMUNES A LOS PROGRAMAS: 11-52-53-57-58-59\", \"MINISTERIO DE AMBIENTE Y ESPACIO PUBLICO/MINISTERIO DE AMBIENTE Y ESPACIO PUBLICO/SUBSECRETARIA DE HIGIENE URBANA/ACTIVIDADES COMUNES A LOS PROGRAMAS: 11-52-53-57-58-59 Y 85/ACTIVIDADES COMUNES A LOS PROGRAMAS: 11-52-53-57-58-59 Y 85\", \"MINISTERIO DE ESPACIO PUBLICO E HIGIENE URBANA/MINISTERIO DE ESPACIO PUBLICO E HIGIENE URBANA/SUBSECRETARIA DE HIGIENE URBANA/ACTIVIDADES COMUNES A LOS PROGRAMAS: 11-52-57-58 Y 85/ACTIVIDADES COMUNES A LOS PROGRAMAS: 11-52-57-58 Y 85\", \"MINISTERIO DE AMBIENTE Y ESPACIO PUBLICO/MINISTERIO DE AMBIENTE Y ESPACIO PUBLICO/SUBSECRETARIA DE HIGIENE URBANA/ACTIVIDADES COMUNES A LOS PROGRAMAS: 52.53.56.57 Y 85/ACTIVIDADES COMUNES A LOS PROGRAMAS: 52.53.56.57 Y 85\", \"MINISTERIO DE AMBIENTE Y ESPACIO PUBLICO/AGENCIA AMBIENTAL/AGENCIA AMBIENTAL/ACTIVIDADES COMUMES A LOS PROGRAMAS 91,92,93,94,95,96/AMPLIACION CIFA PARA SU TRANSFORMACION EN CENTRO METROPOLITANO VERDE\", \"MINISTERIO DE AMBIENTE Y ESPACIO PUBLICO/AGENCIA AMBIENTAL/AGENCIA AMBIENTAL/ACTIVIDADES COMUNES A LOS PROGRAMAS 91,92 Y 93/ANALISIS DE SUSTANCIAS CONTAMINANTES EN AGUA, AIRE Y SUELO\", \"MINISTERIO DE AMBIENTE Y ESPACIO PUBLICO/MINISTERIO DE AMBIENTE Y ESPACIO PUBLICO/DIRECCION GENERAL DE ARBOLADO/ARBOLADO URBANO/ARBOLADO URBANO\", \"MINISTERIO DE AMBIENTE Y ESPACIO PUBLICO/MINISTERIO DE AMBIENTE Y ESPACIO PUBLICO/DIRECCION GENERAL TECNICO ADMINISTRATIVA Y LEGAL/ASUNTOS LEGALES Y PRESUPUESTO/ASUNTOS LEGALES Y PRESUPUESTO\", \"MINISTERIO DE ESPACIO PUBLICO E HIGIENE URBANA/MINISTERIO DE ESPACIO PUBLICO E HIGIENE URBANA/DIRECCION GENERAL TECNICO ADMINISTRATIVA Y LEGAL/ASUNTOS LEGALES Y PRESUPUESTO/ASUNTOS LEGALES Y PRESUPUESTO\", \"MINISTERIO DE AMBIENTE Y ESPACIO PUBLICO/AGENCIA AMBIENTAL/DIRECCION GENERAL DE EVALUACION TECNICA/BUENOS AIRES PRODUCE MAS LIMPIO (P+L)/BUENOS AIRES PRODUCE MAS LIMPIO (P+L)\", \"MINISTERIO DE AMBIENTE Y ESPACIO PUBLICO/AGENCIA AMBIENTAL/DIRECCION GENERAL ESTRATEGIAS AMBIENTALES/BUENOS AIRES PRODUCE MAS LIMPIO (P+L)/BUENOS AIRES PRODUCE MAS LIMPIO (P+L)\", \"MINISTERIO DE AMBIENTE Y ESPACIO PUBLICO/AGENCIA AMBIENTAL/DIRECCION GENERAL POLITICA Y ESTRATEGIA AMBIENTAL/BUENOS AIRES PRODUCE MAS LIMPIO (P+L)/BUENOS AIRES PRODUCE MAS LIMPIO (P+L)\", \"MINISTERIO DE AMBIENTE Y ESPACIO PUBLICO/AGENCIA AMBIENTAL/AGENCIA AMBIENTAL/ACTIV. COMUNES A LOS PROG. 91,92 ,93 Y 94/CENTRO DE INFORMACION Y FORMACION AMBIENTAL\", \"MINISTERIO DE AMBIENTE Y ESPACIO PUBLICO/AGENCIA AMBIENTAL/AGENCIA AMBIENTAL/CENTROS DE ATENCION VETERINARIA/CENTROS DE ATENCION VETERINARIA\", \"MINISTERIO DE AMBIENTE Y ESPACIO PUBLICO/AGENCIA AMBIENTAL/DIRECCION GENERAL ESTRATEGIAS AMBIENTALES/CENTROS DE ATENCION VETERINARIA/CENTROS DE ATENCION VETERINARIA\", \"MINISTERIO DE AMBIENTE Y ESPACIO PUBLICO/MINISTERIO DE AMBIENTE Y ESPACIO PUBLICO/DIRECCION GENERAL DE RECICLADO/RECICLADO DE RESIDUOS URBANOS/CENTROS VERDES\", \"MINISTERIO DE AMBIENTE Y ESPACIO PUBLICO/AGENCIA AMBIENTAL/AGENCIA AMBIENTAL/COMPENSACION AMBIENTAL/COMPENSACION AMBIENTAL\", \"MINISTERIO DE AMBIENTE Y ESPACIO PUBLICO/AGENCIA AMBIENTAL/DIRECCION GENERAL DE EVALUACION AMBIENTAL/COMPENSACION AMBIENTAL/COMPENSACION AMBIENTAL\", \"MINISTERIO DE AMBIENTE Y ESPACIO PUBLICO/MINISTERIO DE AMBIENTE Y ESPACIO PUBLICO/UPE ECOPARQUE INTERACTIVO DE LA CABA/CONSERVACION DE LA BIODIVERSIDAD/CONSERVACION DE LA BIODIVERSIDAD\", \"MINISTERIO DE AMBIENTE Y ESPACIO PUBLICO/MINISTERIO DE AMBIENTE Y ESPACIO PUBLICO/DIRECCION GENERAL DE LIMPIEZA/SERVICIOS DE HIGIENE URBANA/CONTENERIZACION\", \"MINISTERIO DE AMBIENTE Y ESPACIO PUBLICO/AGENCIA AMBIENTAL/DIRECCION GENERAL DE CONTROL/CONTROL AMBIENTAL/CONTROL AMBIENTAL\", \"MINISTERIO DE AMBIENTE Y ESPACIO PUBLICO/MINISTERIO DE AMBIENTE Y ESPACIO PUBLICO/DIRECCION GENERAL CONTROL DE GESTION/CONTROL DE GESTION/CONTROL DE GESTION\", \"MINISTERIO DE AMBIENTE Y ESPACIO PUBLICO/MINISTERIO DE AMBIENTE Y ESPACIO PUBLICO/DIRECCION GENERAL CONTROL DE GESTION/CONTROL DE GESTION Y RECLAMOS/CONTROL DE GESTION Y RECLAMOS\", \"MINISTERIO DE ESPACIO PUBLICO E HIGIENE URBANA/MINISTERIO DE ESPACIO PUBLICO E HIGIENE URBANA/DIRECCION GENERAL CONTROL DE GESTION/CONTROL DE GESTION Y RECLAMOS/CONTROL DE GESTION Y RECLAMOS\", \"MINISTERIO DE AMBIENTE Y ESPACIO PUBLICO/MINISTERIO DE AMBIENTE Y ESPACIO PUBLICO/DIRECCION GENERAL DE LIMPIEZA/CONTROL DE HIGIENE EN VIA PUBLICA E INMUEBLES/CONTROL DE HIGIENE EN VIA PUBLICA E INMUEBLES\", \"MINISTERIO DE AMBIENTE Y ESPACIO PUBLICO/MINISTERIO DE AMBIENTE Y ESPACIO PUBLICO/DIRECCION GENERAL INSPECCION DE HIGIENE URBANA/CONTROL DE HIGIENE EN VIA PUBLICA E INMUEBLES/CONTROL DE HIGIENE EN VIA PUBLICA E INMUEBLES\", \"MINISTERIO DE AMBIENTE Y ESPACIO PUBLICO/MINISTERIO DE AMBIENTE Y ESPACIO PUBLICO/SUBSECRETARIA DE HIGIENE URBANA/CONTROL DE HIGIENE EN VIA PUBLICA E INMUEBLES/CONTROL DE HIGIENE EN VIA PUBLICA E INMUEBLES\", \"MINISTERIO DE AMBIENTE Y ESPACIO PUBLICO/MINISTERIO DE AMBIENTE Y ESPACIO PUBLICO/DIRECCION GENERAL DE LIMPIEZA/CONTROL DE PLAGAS/CONTROL DE PLAGAS\", \"MINISTERIO DE ESPACIO PUBLICO E HIGIENE URBANA/MINISTERIO DE ESPACIO PUBLICO E HIGIENE URBANA/DIRECCION GENERAL DE LIMPIEZA/CONTROL DE PLAGAS/CONTROL DE PLAGAS\", \"MINISTERIO DE AMBIENTE Y ESPACIO PUBLICO/MINISTERIO DE AMBIENTE Y ESPACIO PUBLICO/DIRECCION GENERAL INSPECCION DE HIGIENE URBANA/CONTROL DE PLAGAS/CONTROL DE PLAGAS\", \"MINISTERIO DE AMBIENTE Y ESPACIO PUBLICO/AGENCIA AMBIENTAL/DIRECCION GENERAL ESTRATEGIAS AMBIENTALES/ESTRATEGIAS AMBIENTALES/CUBIERTA VERDE\", \"MINISTERIO DE AMBIENTE Y ESPACIO PUBLICO/AGENCIA AMBIENTAL/DIRECCION GENERAL ESTRATEGIAS AMBIENTALES/ESTRATEGIAS AMBIENTALES/CUBIERTA VERDE EN LA CABA\", \"MINISTERIO DE AMBIENTE Y ESPACIO PUBLICO/MINISTERIO DE AMBIENTE Y ESPACIO PUBLICO/DIRECCION GENERAL DE ARBOLADO/ARBOLADO URBANO/CUIDADO Y PRESERVACION DEL ARBOLADO URBANO\", \"MINISTERIO DE AMBIENTE Y ESPACIO PUBLICO/MINISTERIO DE AMBIENTE Y ESPACIO PUBLICO/DIRECCION GENERAL DE ESPACIOS VERDES/CUIDADO Y PUESTA EN VALOR DE ESPACIOS VERDES/CUIDADO Y PRESERVACION DEL ARBOLADO URBANO\", \"MINISTERIO DE AMBIENTE Y ESPACIO PUBLICO/MINISTERIO DE AMBIENTE Y ESPACIO PUBLICO/DIRECCION GENERAL DE ESPACIOS VERDES/CUIDADO Y PUESTA EN VALOR DE ESPACIOS VERDES/CUIDADO Y PUESTA EN VALOR DE ESPACIOS VERDES\", \"MINISTERIO DE AMBIENTE Y ESPACIO PUBLICO/MINISTERIO DE AMBIENTE Y ESPACIO PUBLICO/DIRECCION GENERAL DE ESPACIOS VERDES/CUIDADO Y PUESTA EN VALOR DE ESPACIOS VERDES/CUIDADO Y PUESTA EN VALOR DE GRANDES PARQUES\", \"MINISTERIO DE AMBIENTE Y ESPACIO PUBLICO/MINISTERIO DE AMBIENTE Y ESPACIO PUBLICO/DIRECCION GENERAL DE ESPACIOS VERDES/CUIDADO Y PUESTA EN VALOR DE ESPACIOS VERDES/CUIDADO Y PUESTA EN VALOR DEL PATRIMONIO CULTURAL Y NATURAL DE LOS ESPACIOS VERDES\", \"MINISTERIO DE AMBIENTE Y ESPACIO PUBLICO/AGENCIA AMBIENTAL/DIRECCION GENERAL ESTRATEGIAS AMBIENTALES/ESTRATEGIAS AMBIENTALES/DESARROLLO DE LA RED DE AIRE Y RUIDO EN LA CIUDAD DE BUENOS AIRES.\", \"MINISTERIO DE AMBIENTE Y ESPACIO PUBLICO/AGENCIA AMBIENTAL/DIRECCION GENERAL ESTRATEGIAS AMBIENTALES/PLANEAMIENTO DE LA GESTION AMBIENTAL SOSTENIBLE/DESARROLLO DE LA RED DE AIRE Y RUIDO EN LA CIUDAD DE BUENOS AIRES.\", \"MINISTERIO DE AMBIENTE Y ESPACIO PUBLICO/MINISTERIO DE AMBIENTE Y ESPACIO PUBLICO/DIRECCION GENERAL DE LIMPIEZA/SERVICIOS DE HIGIENE URBANA/DISPOSICION FINAL RESIDUOS SOLIDOS URBANOS\", \"MINISTERIO DE AMBIENTE Y ESPACIO PUBLICO/AGENCIA AMBIENTAL/AGENCIA AMBIENTAL/REDES AMBIENTALES/ESTACIONES MONITOREO CALIDAD DEL AGUA EN RED DE HIDROMETEREOLOGIA DE CABA\", \"MINISTERIO DE AMBIENTE Y ESPACIO PUBLICO/AGENCIA AMBIENTAL/DIRECCION GENERAL ESTRATEGIAS AMBIENTALES/ESTRATEGIAS AMBIENTALES/ESTRATEGIAS AMBIENTALES\", \"MINISTERIO DE AMBIENTE Y ESPACIO PUBLICO/AGENCIA AMBIENTAL/DIRECCION GENERAL POLITICA Y ESTRATEGIA AMBIENTAL/ESTRATEGIAS AMBIENTALES/ESTRATEGIAS AMBIENTALES\", \"MINISTERIO DE AMBIENTE Y ESPACIO PUBLICO/AGENCIA AMBIENTAL/DIRECCION GENERAL DE EVALUACION AMBIENTAL/EVALUACION TECNICA/EVALUACION TECNICA\", \"MINISTERIO DE AMBIENTE Y ESPACIO PUBLICO/AGENCIA AMBIENTAL/DIRECCION GENERAL DE EVALUACION TECNICA/EVALUACION TECNICA/EVALUACION TECNICA\", \"MINISTERIO DE AMBIENTE Y ESPACIO PUBLICO/AGENCIA AMBIENTAL/AGENCIA AMBIENTAL/GESTION AMBIENTAL/GESTION AMBIENTAL\", \"MINISTERIO DE AMBIENTE Y ESPACIO PUBLICO/AGENCIA AMBIENTAL/DIRECCION GENERAL ESTRATEGIAS AMBIENTALES/ESTRATEGIAS AMBIENTALES/HOGAR TRANSITORIO DE MASCOTAS\", \"MINISTERIO DE ESPACIO PUBLICO E HIGIENE URBANA/MINISTERIO DE ESPACIO PUBLICO E HIGIENE URBANA/SUBSECRETARIA DE ADMINISTRACION/ACTIVIDADES COMUNES A LOS PROG 22 Y 23/INSPECCION DEL USO DEL ESPACIO PUBLICO\", \"MINISTERIO DE AMBIENTE Y ESPACIO PUBLICO/MINISTERIO DE AMBIENTE Y ESPACIO PUBLICO/DIRECCION GENERAL DE ARBOLADO/ARBOLADO URBANO/INTERVENCIONES SOBRE EL ARBOLADO\", \"MINISTERIO DE AMBIENTE Y ESPACIO PUBLICO/AGENCIA AMBIENTAL/AGENCIA AMBIENTAL/INTERVENCIONES VETERINARIAS/INTERVENCIONES VETERINARIAS\", \"MINISTERIO DE AMBIENTE Y ESPACIO PUBLICO/MINISTERIO DE AMBIENTE Y ESPACIO PUBLICO/DIRECCION GENERAL DE ESPACIOS VERDES/CUIDADO Y PUESTA EN VALOR DE ESPACIOS VERDES/JARDIN BOTANICO CARLOS THAYS\", \"MINISTERIO DE AMBIENTE Y ESPACIO PUBLICO/AGENCIA AMBIENTAL/DIRECCION GENERAL DE CONTROL/LABORATORIO DE ANALISIS Y CALIDAD AMBIENTAL/LABORATORIO DE ANALISIS Y CALIDAD AMBIENTAL\", \"MINISTERIO DE AMBIENTE Y ESPACIO PUBLICO/AGENCIA AMBIENTAL/DIRECCION GENERAL DE EVALUACION TECNICA/LABORATORIO DE ANALISIS Y CALIDAD AMBIENTAL/LABORATORIO DE ANALISIS Y CALIDAD AMBIENTAL\", \"MINISTERIO DE AMBIENTE Y ESPACIO PUBLICO/MINISTERIO DE AMBIENTE Y ESPACIO PUBLICO/DIRECCION GENERAL DE ESPACIOS VERDES/CUIDADO Y PUESTA EN VALOR DE ESPACIOS VERDES/OBRAS BA ELIGE EV\", \"MINISTERIO DE AMBIENTE Y ESPACIO PUBLICO/AGENCIA AMBIENTAL/AGENCIA AMBIENTAL/COMPENSACION AMBIENTAL/OBRAS CORRECTIVAS DE RECOMPOSICION PREDIOS CONTAMINADOS REQUERIDOS POR IVC\", \"MINISTERIO DE AMBIENTE Y ESPACIO PUBLICO/AGENCIA AMBIENTAL/DIRECCION GENERAL DE EVALUACION TECNICA/COMPENSACION AMBIENTAL/OBRAS CORRECTIVAS DE RECOMPOSICION PREDIOS CONTAMINADOS REQUERIDOS POR IVC\", \"MINISTERIO DE AMBIENTE Y ESPACIO PUBLICO/MINISTERIO DE AMBIENTE Y ESPACIO PUBLICO/DIRECCION GENERAL DE ESPACIOS VERDES/CUIDADO Y PUESTA EN VALOR DE ESPACIOS VERDES/OBRAS DE ESPACIOS VERDES\", \"MINISTERIO DE AMBIENTE Y ESPACIO PUBLICO/MINISTERIO DE AMBIENTE Y ESPACIO PUBLICO/DIRECCION GENERAL DE ESPACIOS VERDES/CUIDADO Y PUESTA EN VALOR DE ESPACIOS VERDES/OBRAS DE ESPACIOS VERDES II\", \"MINISTERIO DE AMBIENTE Y ESPACIO PUBLICO/MINISTERIO DE AMBIENTE Y ESPACIO PUBLICO/DIRECCION GENERAL REGENERACION URBANA/REGENERACION URBANA/OBRAS DE REGENERACION URBANA\", \"MINISTERIO DE AMBIENTE Y ESPACIO PUBLICO/MINISTERIO DE AMBIENTE Y ESPACIO PUBLICO/UPE ECOPARQUE INTERACTIVO DE LA CABA/CONSERVACION DE LA BIODIVERSIDAD/OBRAS ECOPARQUE MAYEP\", \"MINISTERIO DE AMBIENTE Y ESPACIO PUBLICO/MINISTERIO DE AMBIENTE Y ESPACIO PUBLICO/DIRECCION GENERAL OBRAS REGENERACION URBANA/OBRAS DE REGENERACIONURBANA/PARQUES URBANOS\", \"MINISTERIO DE AMBIENTE Y ESPACIO PUBLICO/AGENCIA AMBIENTAL/DIRECCION GENERAL ESTRATEGIAS AMBIENTALES/PLANEAMIENTO DE LA GESTION AMBIENTAL SOSTENIBLE/PLANEAMIENTO DE LA GESTION AMBIENTAL SOSTENIBLE\", \"MINISTERIO DE AMBIENTE Y ESPACIO PUBLICO/MINISTERIO DE AMBIENTE Y ESPACIO PUBLICO/DIRECCION GENERAL PLANIFICACION Y PRESUPUESTO/PLANIFICACION Y PRESUPUESTO/PLANIFICACION Y PRESUPUESTO\", \"MINISTERIO DE AMBIENTE Y ESPACIO PUBLICO/AGENCIA AMBIENTAL/DIRECCION GENERAL DE EVALUACION TECNICA/PREVENC.AMB.EVALUAC.TECNICA Y CERTIFICADOS AMBIENTALES/PREVENC.AMB.EVALUAC.TECNICA Y CERTIFICADOS AMBIENTALES\", \"MINISTERIO DE AMBIENTE Y ESPACIO PUBLICO/AGENCIA AMBIENTAL/DIRECCION GENERAL DE EVALUACION TECNICA/PREVENCION AMBIENTAL EVALUACION TECNICA Y REGISTROS AMBIENTALES/PREVENCION AMBIENTAL EVALUACION TECNICA Y REGISTROS AMBIENTALES\", \"MINISTERIO DE AMBIENTE Y ESPACIO PUBLICO/AGENCIA AMBIENTAL/DIRECCION GENERAL POLITICA Y ESTRATEGIA AMBIENTAL/PROGRAMA DE CAMBIO CLIMATICO E INFORMACION AMBIENTAL/PROGRAMA DE CAMBIO CLIMATICO E INFORMACION AMBIENTAL\", \"MINISTERIO DE AMBIENTE Y ESPACIO PUBLICO/AGENCIA AMBIENTAL/DIRECCION GENERAL POLITICA Y ESTRATEGIA AMBIENTAL/PROGRAMA DE GESTION ENERGETICA/PROGRAMA DE GESTION ENERGETICA\", \"MINISTERIO DE AMBIENTE Y ESPACIO PUBLICO/AGENCIA AMBIENTAL/DIRECCION GENERAL POLITICA Y ESTRATEGIA AMBIENTAL/PROGRAMA DE RESIDUOS DE MANEJO ESPECIAL/PROGRAMA DE RESIDUOS DE MANEJO ESPECIAL\", \"MINISTERIO DE AMBIENTE Y ESPACIO PUBLICO/AGENCIA AMBIENTAL/AGENCIA AMBIENTAL/PROTECCION Y SANIDAD ANIMAL/PROTECCION Y SANIDAD ANIMAL\", \"MINISTERIO DE AMBIENTE Y ESPACIO PUBLICO/AGENCIA AMBIENTAL/DIRECCION GENERAL ESTRATEGIAS AMBIENTALES/PROTECCION Y SANIDAD ANIMAL/PROTECCION Y SANIDAD ANIMAL\", \"MINISTERIO DE AMBIENTE Y ESPACIO PUBLICO/AGENCIA AMBIENTAL/AGENCIA AMBIENTAL/GESTION AMBIENTAL/PROYECTOS ACUMAR\", \"MINISTERIO DE AMBIENTE Y ESPACIO PUBLICO/MINISTERIO DE AMBIENTE Y ESPACIO PUBLICO/DIRECCION GENERAL INSPECCION DE HIGIENE URBANA/CONTROL DE HIGIENE EN VIA PUBLICA E INMUEBLES/PUESTA EN VALOR DE EDIFICIOS\", \"MINISTERIO DE AMBIENTE Y ESPACIO PUBLICO/AGENCIA AMBIENTAL/AGENCIA AMBIENTAL/ACTIV. COMUNES A LOS PROG. 91,92 ,93 Y 94/PUESTA EN VALOR DE LAS OFICINAS DE LA AGENCIA DE PROTECCION AMBIENTAL\", \"MINISTERIO DE AMBIENTE Y ESPACIO PUBLICO/AGENCIA AMBIENTAL/DIRECCION GENERAL ESTRATEGIAS AMBIENTALES/ESTRATEGIAS AMBIENTALES/PUESTA EN VALOR DEPOSITO RAES\", \"MINISTERIO DE AMBIENTE Y ESPACIO PUBLICO/MINISTERIO DE AMBIENTE Y ESPACIO PUBLICO/DIRECCION GENERAL DE ESPACIOS VERDES/CUIDADO Y PUESTA EN VALOR DE ESPACIOS VERDES/PUESTA EN VALOR EDIFICIOS\", \"MINISTERIO DE AMBIENTE Y ESPACIO PUBLICO/MINISTERIO DE AMBIENTE Y ESPACIO PUBLICO/DIRECCION GENERAL DE RECICLADO/RECICLADO DE RESIDUOS URBANOS/RECICLADO DE RESIDUOS URBANOS\", \"MINISTERIO DE AMBIENTE Y ESPACIO PUBLICO/ENTE DE HIGIENE URBANA/ENTE DE HIGIENE URBANA/RECOLECCION, BARRIDO E HIGIENE DE LA CIUDAD DE BUENOS AIRES/RECOLECCION, BARRIDO E HIGIENE DE LA CIUDAD DE BUENOS AIRES\", \"MINISTERIO DE AMBIENTE Y ESPACIO PUBLICO/AGENCIA AMBIENTAL/DIRECCION GENERAL ESTRATEGIAS AMBIENTALES/ESTRATEGIAS AMBIENTALES/RED DE MONITOREO AMBIENTAL\", \"MINISTERIO DE AMBIENTE Y ESPACIO PUBLICO/AGENCIA AMBIENTAL/DIRECCION GENERAL ESTRATEGIAS AMBIENTALES/ESTRATEGIAS AMBIENTALES/RED DE MONITOREO DE LA CALIDAD DEL AGUA SUPERFICIAL DE LA CABA.\", \"MINISTERIO DE AMBIENTE Y ESPACIO PUBLICO/AGENCIA AMBIENTAL/DIRECCION GENERAL ESTRATEGIAS AMBIENTALES/PLANEAMIENTO DE LA GESTION AMBIENTAL SOSTENIBLE/RED DE MONITOREO DE LA CALIDAD DEL AGUA SUPERFICIAL DE LA CABA.\", \"MINISTERIO DE AMBIENTE Y ESPACIO PUBLICO/AGENCIA AMBIENTAL/AGENCIA AMBIENTAL/REDES AMBIENTALES/REDES AMBIENTALES\", \"MINISTERIO DE AMBIENTE Y ESPACIO PUBLICO/AGENCIA AMBIENTAL/DIRECCION GENERAL DE CONTROL/REDES AMBIENTALES/REDES AMBIENTALES\", \"MINISTERIO DE AMBIENTE Y ESPACIO PUBLICO/AGENCIA AMBIENTAL/AGENCIA AMBIENTAL/ACTIV. COMUNES A LOS PROG. 91,92 ,93 Y 94/REMEDIACION AMBIENTAL GCBA\", \"MINISTERIO DE AMBIENTE Y ESPACIO PUBLICO/AGENCIA AMBIENTAL/AGENCIA AMBIENTAL/COMPENSACION AMBIENTAL/REMEDIACION Y MITIGACION AMBIENTAL\", \"MINISTERIO DE AMBIENTE Y ESPACIO PUBLICO/MINISTERIO DE AMBIENTE Y ESPACIO PUBLICO/MINISTERIO AMBIENTE Y ESPACIO PUBLICO/MANTENIMIENTO ZONA PUERTO MADERO/REPARACION Y MEJORAS EN BARRIOS DE BUENOS AIRES\", \"MINISTERIO DE AMBIENTE Y ESPACIO PUBLICO/AGENCIA AMBIENTAL/AGENCIA AMBIENTAL/ACTIV. COMUNES A LOS PROG. 91,92 ,93 Y 94/RESTAURACION Y MITIGACION GCBA\", \"MINISTERIO DE AMBIENTE Y ESPACIO PUBLICO/AGENCIA AMBIENTAL/AGENCIA AMBIENTAL/ACTIV. COMUNES A LOS PROG. 91,92 ,93 Y 94/SANEAMIENTO Y REMEDIACION DE SUELOS CONTAMINADOS ACHA 2102/04 Y MENDOZA\", \"MINISTERIO DE AMBIENTE Y ESPACIO PUBLICO/AGENCIA AMBIENTAL/AGENCIA AMBIENTAL/SANIDAD Y TENENCIA RESPONSABLE DE MASCOTAS/SANIDAD Y TENENCIA RESPONSABLE DE MASCOTAS\", \"MINISTERIO DE AMBIENTE Y ESPACIO PUBLICO/MINISTERIO DE AMBIENTE Y ESPACIO PUBLICO/DIRECCION GENERAL DE LIMPIEZA/SERVICIOS DE HIGIENE URBANA/SERVICIO DE LIMPIEZA DE ARROYOS\", \"MINISTERIO DE AMBIENTE Y ESPACIO PUBLICO/MINISTERIO DE AMBIENTE Y ESPACIO PUBLICO/MINISTERIO AMBIENTE Y ESPACIO PUBLICO/SERVICIOS DE ADMINISTRACION/SERVICIOS DE ADMINISTRACION\", \"MINISTERIO DE AMBIENTE Y ESPACIO PUBLICO/AGENCIA AMBIENTAL/DIRECCION GENERAL DE EVALUACION TECNICA/COMPENSACION AMBIENTAL/SITIOS CONTAMINADOS\", \"MINISTERIO DE AMBIENTE Y ESPACIO PUBLICO/MINISTERIO DE AMBIENTE Y ESPACIO PUBLICO/DIRECCION GENERAL TECNICO ADMINISTRATIVA Y LEGAL/TECNICA ADMINISTRATIVA Y LEGAL/TECNICA ADMINISTRATIVA Y LEGAL\", \"MINISTERIO DE AMBIENTE Y ESPACIO PUBLICO/MINISTERIO DE AMBIENTE Y ESPACIO PUBLICO/DIRECCION GENERAL TRATAMIENTO Y NUEVAS TECNOLOGIAS/TRATAMIENTO DE RESIDUOS SOLIDOS URBANOS/TRATAMIENTO DE RESIDUOS ORGANICOS\", \"MINISTERIO DE AMBIENTE Y ESPACIO PUBLICO/MINISTERIO DE AMBIENTE Y ESPACIO PUBLICO/DIRECCION GENERAL DE ESPACIOS VERDES/CUIDADO Y PUESTA EN VALOR DE ESPACIOS VERDES/VALORIZACION DE LOS ESPACIOS VERDES\", \"MINISTERIO DE AMBIENTE Y ESPACIO PUBLICO/MINISTERIO DE AMBIENTE Y ESPACIO PUBLICO/DIRECCION GENERAL DE ESPACIOS VERDES/CUIDADO Y PUESTA EN VALOR DE ESPACIOS VERDES/VALORIZACION DE LOS ESPACIOS VERDES DE LA CIUDAD\", \"MINISTERIO DE AMBIENTE Y ESPACIO PUBLICO/AGENCIA AMBIENTAL/DIRECCION GENERAL DE CONTROL/ACCIONES PARA LA RESTAURACION ECOLOGICA\", \"MINISTERIO DE ESPACIO PUBLICO E HIGIENE URBANA/MINISTERIO DE ESPACIO PUBLICO E HIGIENE URBANA/MIN.ESP.PUBLICO E HIG. URBANA/ACT.CEN.ESP.PUB.HIG.URBANA\", \"MINISTERIO DE AMBIENTE Y ESPACIO PUBLICO/AGENCIA AMBIENTAL/AGENCIA AMBIENTAL/ACTIV. COMUNES A LOS PROG. 91,92 ,93 Y 94\", \"MINISTERIO DE AMBIENTE Y ESPACIO PUBLICO/AGENCIA AMBIENTAL/AGENCIA AMBIENTAL/ACTIV. COMUNES A LOS PROG. 91,92 Y93\", \"MINISTERIO DE AMBIENTE Y ESPACIO PUBLICO/MINISTERIO DE AMBIENTE Y ESPACIO PUBLICO/MINISTERIO AMBIENTE Y ESPACIO PUBLICO/ACTIVIDADES CENTRALES AMBIENTE Y ESPACIO PUBLICO\", \"MINISTERIO DE AMBIENTE Y ESPACIO PUBLICO/AGENCIA AMBIENTAL/AGENCIA AMBIENTAL/ACTIVIDADES COMUMES A LOS PROGRAMAS 91,92,93,94,95,96\", \"MINISTERIO DE AMBIENTE Y ESPACIO PUBLICO/MINISTERIO DE AMBIENTE Y ESPACIO PUBLICO/SUBSECRETARIA DE ADMINISTRACION/ACTIVIDADES COMUNES A LOS PROG 21 Y 22\", \"MINISTERIO DE AMBIENTE Y ESPACIO PUBLICO/MINISTERIO DE AMBIENTE Y ESPACIO PUBLICO/SUBSECRETARIA DE ADMINISTRACION GENERAL Y DE USO DEL ESPACIO PUBLICO/ACTIVIDADES COMUNES A LOS PROG 21,22,23,75,76 Y 77\", \"MINISTERIO DE ESPACIO PUBLICO E HIGIENE URBANA/MINISTERIO DE ESPACIO PUBLICO E HIGIENE URBANA/SUBSECRETARIA DE ADMINISTRACION/ACTIVIDADES COMUNES A LOS PROG 22 Y 23\", \"MINISTERIO DE AMBIENTE Y ESPACIO PUBLICO/AGENCIA AMBIENTAL/AGENCIA AMBIENTAL/ACTIVIDADES COMUNES A LOS PROG. 91 AL 100 Y 102\", \"MINISTERIO DE AMBIENTE Y ESPACIO PUBLICO/AGENCIA AMBIENTAL/AGENCIA AMBIENTAL/ACTIVIDADES COMUNES A LOS PROG. 91 AL 103\", \"MINISTERIO DE AMBIENTE Y ESPACIO PUBLICO/AGENCIA AMBIENTAL/AGENCIA AMBIENTAL/ACTIVIDADES COMUNES A LOS PROG. 91,92,93, 94,95 Y 96\", \"MINISTERIO DE AMBIENTE Y ESPACIO PUBLICO/AGENCIA AMBIENTAL/AGENCIA AMBIENTAL/ACTIVIDADES COMUNES A LOS PROG. 91,92,93, 94,95, 96 Y 100\", \"MINISTERIO DE AMBIENTE Y ESPACIO PUBLICO/AGENCIA AMBIENTAL/AGENCIA AMBIENTAL/ACTIVIDADES COMUNES A LOS PROGRAMAS 91,92 Y 93\", \"MINISTERIO DE AMBIENTE Y ESPACIO PUBLICO/MINISTERIO DE AMBIENTE Y ESPACIO PUBLICO/SUBSECRETARIA DE HIGIENE URBANA/ACTIVIDADES COMUNES A LOS PROGRAMAS: 11-52-53-56-57-58-59\", \"MINISTERIO DE AMBIENTE Y ESPACIO PUBLICO/MINISTERIO DE AMBIENTE Y ESPACIO PUBLICO/SUBSECRETARIA DE HIGIENE URBANA/ACTIVIDADES COMUNES A LOS PROGRAMAS: 11-52-53-56-57-58-59 Y 85\", \"MINISTERIO DE AMBIENTE Y ESPACIO PUBLICO/MINISTERIO DE AMBIENTE Y ESPACIO PUBLICO/SUBSECRETARIA DE HIGIENE URBANA/ACTIVIDADES COMUNES A LOS PROGRAMAS: 11-52-53-56-57-58-59-79-85\", \"MINISTERIO DE AMBIENTE Y ESPACIO PUBLICO/MINISTERIO DE AMBIENTE Y ESPACIO PUBLICO/SUBSECRETARIA DE HIGIENE URBANA/ACTIVIDADES COMUNES A LOS PROGRAMAS: 11-52-53-56-57-85\", \"MINISTERIO DE AMBIENTE Y ESPACIO PUBLICO/MINISTERIO DE AMBIENTE Y ESPACIO PUBLICO/SUBSECRETARIA DE HIGIENE URBANA/ACTIVIDADES COMUNES A LOS PROGRAMAS: 11-52-53-57-58-59\", \"MINISTERIO DE AMBIENTE Y ESPACIO PUBLICO/MINISTERIO DE AMBIENTE Y ESPACIO PUBLICO/SUBSECRETARIA DE HIGIENE URBANA/ACTIVIDADES COMUNES A LOS PROGRAMAS: 11-52-53-57-58-59 Y 85\", \"MINISTERIO DE ESPACIO PUBLICO E HIGIENE URBANA/MINISTERIO DE ESPACIO PUBLICO E HIGIENE URBANA/SUBSECRETARIA DE HIGIENE URBANA/ACTIVIDADES COMUNES A LOS PROGRAMAS: 11-52-57-58 Y 85\", \"MINISTERIO DE AMBIENTE Y ESPACIO PUBLICO/MINISTERIO DE AMBIENTE Y ESPACIO PUBLICO/SUBSECRETARIA DE HIGIENE URBANA/ACTIVIDADES COMUNES A LOS PROGRAMAS: 52.53.56.57 Y 85\", \"MINISTERIO DE AMBIENTE Y ESPACIO PUBLICO/MINISTERIO DE AMBIENTE Y ESPACIO PUBLICO/DIRECCION GENERAL DE ARBOLADO/ARBOLADO URBANO\", \"MINISTERIO DE AMBIENTE Y ESPACIO PUBLICO/MINISTERIO DE AMBIENTE Y ESPACIO PUBLICO/DIRECCION GENERAL TECNICO ADMINISTRATIVA Y LEGAL/ASUNTOS LEGALES Y PRESUPUESTO\", \"MINISTERIO DE ESPACIO PUBLICO E HIGIENE URBANA/MINISTERIO DE ESPACIO PUBLICO E HIGIENE URBANA/DIRECCION GENERAL TECNICO ADMINISTRATIVA Y LEGAL/ASUNTOS LEGALES Y PRESUPUESTO\", \"MINISTERIO DE AMBIENTE Y ESPACIO PUBLICO/AGENCIA AMBIENTAL/DIRECCION GENERAL DE EVALUACION TECNICA/BUENOS AIRES PRODUCE MAS LIMPIO (P+L)\", \"MINISTERIO DE AMBIENTE Y ESPACIO PUBLICO/AGENCIA AMBIENTAL/DIRECCION GENERAL ESTRATEGIAS AMBIENTALES/BUENOS AIRES PRODUCE MAS LIMPIO (P+L)\", \"MINISTERIO DE AMBIENTE Y ESPACIO PUBLICO/AGENCIA AMBIENTAL/DIRECCION GENERAL POLITICA Y ESTRATEGIA AMBIENTAL/BUENOS AIRES PRODUCE MAS LIMPIO (P+L)\", \"MINISTERIO DE AMBIENTE Y ESPACIO PUBLICO/AGENCIA AMBIENTAL/AGENCIA AMBIENTAL/CENTROS DE ATENCION VETERINARIA\", \"MINISTERIO DE AMBIENTE Y ESPACIO PUBLICO/AGENCIA AMBIENTAL/DIRECCION GENERAL ESTRATEGIAS AMBIENTALES/CENTROS DE ATENCION VETERINARIA\", \"MINISTERIO DE AMBIENTE Y ESPACIO PUBLICO/AGENCIA AMBIENTAL/AGENCIA AMBIENTAL/COMPENSACION AMBIENTAL\", \"MINISTERIO DE AMBIENTE Y ESPACIO PUBLICO/AGENCIA AMBIENTAL/DIRECCION GENERAL DE EVALUACION AMBIENTAL/COMPENSACION AMBIENTAL\", \"MINISTERIO DE AMBIENTE Y ESPACIO PUBLICO/AGENCIA AMBIENTAL/DIRECCION GENERAL DE EVALUACION TECNICA/COMPENSACION AMBIENTAL\", \"MINISTERIO DE AMBIENTE Y ESPACIO PUBLICO/MINISTERIO DE AMBIENTE Y ESPACIO PUBLICO/UPE ECOPARQUE INTERACTIVO DE LA CABA/CONSERVACION DE LA BIODIVERSIDAD\", \"MINISTERIO DE AMBIENTE Y ESPACIO PUBLICO/AGENCIA AMBIENTAL/DIRECCION GENERAL DE CONTROL/CONTROL AMBIENTAL\", \"MINISTERIO DE AMBIENTE Y ESPACIO PUBLICO/MINISTERIO DE AMBIENTE Y ESPACIO PUBLICO/DIRECCION GENERAL CONTROL DE GESTION/CONTROL DE GESTION\", \"MINISTERIO DE AMBIENTE Y ESPACIO PUBLICO/MINISTERIO DE AMBIENTE Y ESPACIO PUBLICO/DIRECCION GENERAL CONTROL DE GESTION/CONTROL DE GESTION Y RECLAMOS\", \"MINISTERIO DE ESPACIO PUBLICO E HIGIENE URBANA/MINISTERIO DE ESPACIO PUBLICO E HIGIENE URBANA/DIRECCION GENERAL CONTROL DE GESTION/CONTROL DE GESTION Y RECLAMOS\", \"MINISTERIO DE AMBIENTE Y ESPACIO PUBLICO/MINISTERIO DE AMBIENTE Y ESPACIO PUBLICO/DIRECCION GENERAL DE LIMPIEZA/CONTROL DE HIGIENE EN VIA PUBLICA E INMUEBLES\", \"MINISTERIO DE AMBIENTE Y ESPACIO PUBLICO/MINISTERIO DE AMBIENTE Y ESPACIO PUBLICO/DIRECCION GENERAL INSPECCION DE HIGIENE URBANA/CONTROL DE HIGIENE EN VIA PUBLICA E INMUEBLES\", \"MINISTERIO DE AMBIENTE Y ESPACIO PUBLICO/MINISTERIO DE AMBIENTE Y ESPACIO PUBLICO/SUBSECRETARIA DE HIGIENE URBANA/CONTROL DE HIGIENE EN VIA PUBLICA E INMUEBLES\", \"MINISTERIO DE AMBIENTE Y ESPACIO PUBLICO/MINISTERIO DE AMBIENTE Y ESPACIO PUBLICO/DIRECCION GENERAL DE LIMPIEZA/CONTROL DE PLAGAS\", \"MINISTERIO DE ESPACIO PUBLICO E HIGIENE URBANA/MINISTERIO DE ESPACIO PUBLICO E HIGIENE URBANA/DIRECCION GENERAL DE LIMPIEZA/CONTROL DE PLAGAS\", \"MINISTERIO DE AMBIENTE Y ESPACIO PUBLICO/MINISTERIO DE AMBIENTE Y ESPACIO PUBLICO/DIRECCION GENERAL INSPECCION DE HIGIENE URBANA/CONTROL DE PLAGAS\", \"MINISTERIO DE AMBIENTE Y ESPACIO PUBLICO/MINISTERIO DE AMBIENTE Y ESPACIO PUBLICO/DIRECCION GENERAL DE ESPACIOS VERDES/CUIDADO Y PUESTA EN VALOR DE ESPACIOS VERDES\", \"MINISTERIO DE AMBIENTE Y ESPACIO PUBLICO/AGENCIA AMBIENTAL/DIRECCION GENERAL ESTRATEGIAS AMBIENTALES/ESTRATEGIAS AMBIENTALES\", \"MINISTERIO DE AMBIENTE Y ESPACIO PUBLICO/AGENCIA AMBIENTAL/DIRECCION GENERAL POLITICA Y ESTRATEGIA AMBIENTAL/ESTRATEGIAS AMBIENTALES\", \"MINISTERIO DE AMBIENTE Y ESPACIO PUBLICO/AGENCIA AMBIENTAL/DIRECCION GENERAL DE EVALUACION AMBIENTAL/EVALUACION TECNICA\", \"MINISTERIO DE AMBIENTE Y ESPACIO PUBLICO/AGENCIA AMBIENTAL/DIRECCION GENERAL DE EVALUACION TECNICA/EVALUACION TECNICA\", \"MINISTERIO DE AMBIENTE Y ESPACIO PUBLICO/AGENCIA AMBIENTAL/AGENCIA AMBIENTAL/GESTION AMBIENTAL\", \"MINISTERIO DE AMBIENTE Y ESPACIO PUBLICO/AGENCIA AMBIENTAL/AGENCIA AMBIENTAL/INTERVENCIONES VETERINARIAS\", \"MINISTERIO DE AMBIENTE Y ESPACIO PUBLICO/AGENCIA AMBIENTAL/DIRECCION GENERAL DE CONTROL/LABORATORIO DE ANALISIS Y CALIDAD AMBIENTAL\", \"MINISTERIO DE AMBIENTE Y ESPACIO PUBLICO/AGENCIA AMBIENTAL/DIRECCION GENERAL DE EVALUACION TECNICA/LABORATORIO DE ANALISIS Y CALIDAD AMBIENTAL\", \"MINISTERIO DE AMBIENTE Y ESPACIO PUBLICO/MINISTERIO DE AMBIENTE Y ESPACIO PUBLICO/MINISTERIO AMBIENTE Y ESPACIO PUBLICO/MANTENIMIENTO ZONA PUERTO MADERO\", \"MINISTERIO DE AMBIENTE Y ESPACIO PUBLICO/MINISTERIO DE AMBIENTE Y ESPACIO PUBLICO/DIRECCION GENERAL OBRAS REGENERACION URBANA/OBRAS DE REGENERACIONURBANA\", \"MINISTERIO DE AMBIENTE Y ESPACIO PUBLICO/AGENCIA AMBIENTAL/DIRECCION GENERAL ESTRATEGIAS AMBIENTALES/PLANEAMIENTO DE LA GESTION AMBIENTAL SOSTENIBLE\", \"MINISTERIO DE AMBIENTE Y ESPACIO PUBLICO/MINISTERIO DE AMBIENTE Y ESPACIO PUBLICO/DIRECCION GENERAL PLANIFICACION Y PRESUPUESTO/PLANIFICACION Y PRESUPUESTO\", \"MINISTERIO DE AMBIENTE Y ESPACIO PUBLICO/AGENCIA AMBIENTAL/DIRECCION GENERAL DE EVALUACION TECNICA/PREVENC.AMB.EVALUAC.TECNICA Y CERTIFICADOS AMBIENTALES\", \"MINISTERIO DE AMBIENTE Y ESPACIO PUBLICO/AGENCIA AMBIENTAL/DIRECCION GENERAL DE EVALUACION TECNICA/PREVENCION AMBIENTAL EVALUACION TECNICA Y REGISTROS AMBIENTALES\", \"MINISTERIO DE AMBIENTE Y ESPACIO PUBLICO/AGENCIA AMBIENTAL/DIRECCION GENERAL POLITICA Y ESTRATEGIA AMBIENTAL/PROGRAMA DE CAMBIO CLIMATICO E INFORMACION AMBIENTAL\", \"MINISTERIO DE AMBIENTE Y ESPACIO PUBLICO/AGENCIA AMBIENTAL/DIRECCION GENERAL POLITICA Y ESTRATEGIA AMBIENTAL/PROGRAMA DE GESTION ENERGETICA\", \"MINISTERIO DE AMBIENTE Y ESPACIO PUBLICO/AGENCIA AMBIENTAL/DIRECCION GENERAL POLITICA Y ESTRATEGIA AMBIENTAL/PROGRAMA DE RESIDUOS DE MANEJO ESPECIAL\", \"MINISTERIO DE AMBIENTE Y ESPACIO PUBLICO/AGENCIA AMBIENTAL/AGENCIA AMBIENTAL/PROTECCION Y SANIDAD ANIMAL\", \"MINISTERIO DE AMBIENTE Y ESPACIO PUBLICO/AGENCIA AMBIENTAL/DIRECCION GENERAL ESTRATEGIAS AMBIENTALES/PROTECCION Y SANIDAD ANIMAL\", \"MINISTERIO DE AMBIENTE Y ESPACIO PUBLICO/MINISTERIO DE AMBIENTE Y ESPACIO PUBLICO/DIRECCION GENERAL DE RECICLADO/RECICLADO DE RESIDUOS URBANOS\", \"MINISTERIO DE AMBIENTE Y ESPACIO PUBLICO/ENTE DE HIGIENE URBANA/ENTE DE HIGIENE URBANA/RECOLECCION, BARRIDO E HIGIENE DE LA CIUDAD DE BUENOS AIRES\", \"MINISTERIO DE AMBIENTE Y ESPACIO PUBLICO/AGENCIA AMBIENTAL/AGENCIA AMBIENTAL/REDES AMBIENTALES\", \"MINISTERIO DE AMBIENTE Y ESPACIO PUBLICO/AGENCIA AMBIENTAL/DIRECCION GENERAL DE CONTROL/REDES AMBIENTALES\", \"MINISTERIO DE AMBIENTE Y ESPACIO PUBLICO/MINISTERIO DE AMBIENTE Y ESPACIO PUBLICO/DIRECCION GENERAL REGENERACION URBANA/REGENERACION URBANA\", \"MINISTERIO DE AMBIENTE Y ESPACIO PUBLICO/AGENCIA AMBIENTAL/AGENCIA AMBIENTAL/SANIDAD Y TENENCIA RESPONSABLE DE MASCOTAS\", \"MINISTERIO DE AMBIENTE Y ESPACIO PUBLICO/MINISTERIO DE AMBIENTE Y ESPACIO PUBLICO/MINISTERIO AMBIENTE Y ESPACIO PUBLICO/SERVICIOS DE ADMINISTRACION\", \"MINISTERIO DE AMBIENTE Y ESPACIO PUBLICO/MINISTERIO DE AMBIENTE Y ESPACIO PUBLICO/DIRECCION GENERAL DE LIMPIEZA/SERVICIOS DE HIGIENE URBANA\", \"MINISTERIO DE AMBIENTE Y ESPACIO PUBLICO/MINISTERIO DE AMBIENTE Y ESPACIO PUBLICO/DIRECCION GENERAL TECNICO ADMINISTRATIVA Y LEGAL/TECNICA ADMINISTRATIVA Y LEGAL\", \"MINISTERIO DE AMBIENTE Y ESPACIO PUBLICO/MINISTERIO DE AMBIENTE Y ESPACIO PUBLICO/DIRECCION GENERAL TRATAMIENTO Y NUEVAS TECNOLOGIAS/TRATAMIENTO DE RESIDUOS SOLIDOS URBANOS\", \"MINISTERIO DE AMBIENTE Y ESPACIO PUBLICO/AGENCIA AMBIENTAL/AGENCIA AMBIENTAL\", \"MINISTERIO DE AMBIENTE Y ESPACIO PUBLICO/MINISTERIO DE AMBIENTE Y ESPACIO PUBLICO/DIRECCION GENERAL CONTROL DE GESTION\", \"MINISTERIO DE ESPACIO PUBLICO E HIGIENE URBANA/MINISTERIO DE ESPACIO PUBLICO E HIGIENE URBANA/DIRECCION GENERAL CONTROL DE GESTION\", \"MINISTERIO DE AMBIENTE Y ESPACIO PUBLICO/MINISTERIO DE AMBIENTE Y ESPACIO PUBLICO/DIRECCION GENERAL DE ARBOLADO\", \"MINISTERIO DE AMBIENTE Y ESPACIO PUBLICO/AGENCIA AMBIENTAL/DIRECCION GENERAL DE CONTROL\", \"MINISTERIO DE AMBIENTE Y ESPACIO PUBLICO/MINISTERIO DE AMBIENTE Y ESPACIO PUBLICO/DIRECCION GENERAL DE ESPACIOS VERDES\", \"MINISTERIO DE AMBIENTE Y ESPACIO PUBLICO/AGENCIA AMBIENTAL/DIRECCION GENERAL DE EVALUACION AMBIENTAL\", \"MINISTERIO DE AMBIENTE Y ESPACIO PUBLICO/AGENCIA AMBIENTAL/DIRECCION GENERAL DE EVALUACION TECNICA\", \"MINISTERIO DE AMBIENTE Y ESPACIO PUBLICO/MINISTERIO DE AMBIENTE Y ESPACIO PUBLICO/DIRECCION GENERAL DE LIMPIEZA\", \"MINISTERIO DE ESPACIO PUBLICO E HIGIENE URBANA/MINISTERIO DE ESPACIO PUBLICO E HIGIENE URBANA/DIRECCION GENERAL DE LIMPIEZA\", \"MINISTERIO DE AMBIENTE Y ESPACIO PUBLICO/MINISTERIO DE AMBIENTE Y ESPACIO PUBLICO/DIRECCION GENERAL DE RECICLADO\", \"MINISTERIO DE AMBIENTE Y ESPACIO PUBLICO/AGENCIA AMBIENTAL/DIRECCION GENERAL ESTRATEGIAS AMBIENTALES\", \"MINISTERIO DE AMBIENTE Y ESPACIO PUBLICO/MINISTERIO DE AMBIENTE Y ESPACIO PUBLICO/DIRECCION GENERAL INSPECCION DE HIGIENE URBANA\", \"MINISTERIO DE AMBIENTE Y ESPACIO PUBLICO/MINISTERIO DE AMBIENTE Y ESPACIO PUBLICO/DIRECCION GENERAL OBRAS REGENERACION URBANA\", \"MINISTERIO DE AMBIENTE Y ESPACIO PUBLICO/MINISTERIO DE AMBIENTE Y ESPACIO PUBLICO/DIRECCION GENERAL PLANIFICACION Y PRESUPUESTO\", \"MINISTERIO DE AMBIENTE Y ESPACIO PUBLICO/AGENCIA AMBIENTAL/DIRECCION GENERAL POLITICA Y ESTRATEGIA AMBIENTAL\", \"MINISTERIO DE AMBIENTE Y ESPACIO PUBLICO/MINISTERIO DE AMBIENTE Y ESPACIO PUBLICO/DIRECCION GENERAL REGENERACION URBANA\", \"MINISTERIO DE AMBIENTE Y ESPACIO PUBLICO/MINISTERIO DE AMBIENTE Y ESPACIO PUBLICO/DIRECCION GENERAL TECNICO ADMINISTRATIVA Y LEGAL\", \"MINISTERIO DE ESPACIO PUBLICO E HIGIENE URBANA/MINISTERIO DE ESPACIO PUBLICO E HIGIENE URBANA/DIRECCION GENERAL TECNICO ADMINISTRATIVA Y LEGAL\", \"MINISTERIO DE AMBIENTE Y ESPACIO PUBLICO/MINISTERIO DE AMBIENTE Y ESPACIO PUBLICO/DIRECCION GENERAL TRATAMIENTO Y NUEVAS TECNOLOGIAS\", \"MINISTERIO DE AMBIENTE Y ESPACIO PUBLICO/ENTE DE HIGIENE URBANA/ENTE DE HIGIENE URBANA\", \"MINISTERIO DE ESPACIO PUBLICO E HIGIENE URBANA/MINISTERIO DE ESPACIO PUBLICO E HIGIENE URBANA/MIN.ESP.PUBLICO E HIG. URBANA\", \"MINISTERIO DE AMBIENTE Y ESPACIO PUBLICO/MINISTERIO DE AMBIENTE Y ESPACIO PUBLICO/MINISTERIO AMBIENTE Y ESPACIO PUBLICO\", \"MINISTERIO DE AMBIENTE Y ESPACIO PUBLICO/MINISTERIO DE AMBIENTE Y ESPACIO PUBLICO/SUBSECRETARIA DE ADMINISTRACION\", \"MINISTERIO DE ESPACIO PUBLICO E HIGIENE URBANA/MINISTERIO DE ESPACIO PUBLICO E HIGIENE URBANA/SUBSECRETARIA DE ADMINISTRACION\", \"MINISTERIO DE AMBIENTE Y ESPACIO PUBLICO/MINISTERIO DE AMBIENTE Y ESPACIO PUBLICO/SUBSECRETARIA DE ADMINISTRACION GENERAL Y DE USO DEL ESPACIO PUBLICO\", \"MINISTERIO DE AMBIENTE Y ESPACIO PUBLICO/MINISTERIO DE AMBIENTE Y ESPACIO PUBLICO/SUBSECRETARIA DE HIGIENE URBANA\", \"MINISTERIO DE ESPACIO PUBLICO E HIGIENE URBANA/MINISTERIO DE ESPACIO PUBLICO E HIGIENE URBANA/SUBSECRETARIA DE HIGIENE URBANA\", \"MINISTERIO DE AMBIENTE Y ESPACIO PUBLICO/MINISTERIO DE AMBIENTE Y ESPACIO PUBLICO/UPE ECOPARQUE INTERACTIVO DE LA CABA\", \"MINISTERIO DE AMBIENTE Y ESPACIO PUBLICO/AGENCIA AMBIENTAL\", \"MINISTERIO DE AMBIENTE Y ESPACIO PUBLICO/ENTE DE HIGIENE URBANA\", \"MINISTERIO DE AMBIENTE Y ESPACIO PUBLICO/MINISTERIO DE AMBIENTE Y ESPACIO PUBLICO\", \"MINISTERIO DE ESPACIO PUBLICO E HIGIENE URBANA/MINISTERIO DE ESPACIO PUBLICO E HIGIENE URBANA\", \"MINISTERIO DE AMBIENTE Y ESPACIO PUBLICO\", \"MINISTERIO DE ESPACIO PUBLICO E HIGIENE URBANA\"], \"insidetextorientation\": \"radial\", \"labels\": [\"A.CU.MAR - CENTROS VERDES\", \"A.CU.MAR - RIACHUELO\", \"A.CU.MAR - VALORIZACION DE LOS ESPACIOS VERDES\", \"ACCIONES AMBIENTALES CABA\", \"ACCIONES PARA LA RESTAURACION ECOLOGICA\", \"ACT.CEN.ESP.PUB.HIG.URBANA\", \"ACTIV. COMUNES A LOS PROG. 91,92 ,93 Y 94\", \"ACTIV. COMUNES A LOS PROG. 91,92 Y93\", \"ACTIVIDADES CENTRALES AMBIENTE Y ESPACIO PUBLICO\", \"ACTIVIDADES COMUMES A LOS PROGRAMAS 91,92,93,94,95,96\", \"ACTIVIDADES COMUNES A LOS PROG 21 Y 22\", \"ACTIVIDADES COMUNES A LOS PROG 21,22,23,75,76 Y 77\", \"ACTIVIDADES COMUNES A LOS PROG 22 Y 23\", \"ACTIVIDADES COMUNES A LOS PROG. 91 AL 100 Y 102\", \"ACTIVIDADES COMUNES A LOS PROG. 91 AL 103\", \"ACTIVIDADES COMUNES A LOS PROG. 91,92,93, 94,95 Y 96\", \"ACTIVIDADES COMUNES A LOS PROG. 91,92,93, 94,95, 96 Y 100\", \"ACTIVIDADES COMUNES A LOS PROGRAMAS 91,92 Y 93\", \"ACTIVIDADES COMUNES A LOS PROGRAMAS: 11-52-53-56-57-58-59\", \"ACTIVIDADES COMUNES A LOS PROGRAMAS: 11-52-53-56-57-58-59 Y 85\", \"ACTIVIDADES COMUNES A LOS PROGRAMAS: 11-52-53-56-57-58-59-79-85\", \"ACTIVIDADES COMUNES A LOS PROGRAMAS: 11-52-53-56-57-85\", \"ACTIVIDADES COMUNES A LOS PROGRAMAS: 11-52-53-57-58-59\", \"ACTIVIDADES COMUNES A LOS PROGRAMAS: 11-52-53-57-58-59 Y 85\", \"ACTIVIDADES COMUNES A LOS PROGRAMAS: 11-52-57-58 Y 85\", \"ACTIVIDADES COMUNES A LOS PROGRAMAS: 52.53.56.57 Y 85\", \"AMPLIACION CIFA PARA SU TRANSFORMACION EN CENTRO METROPOLITANO VERDE\", \"ANALISIS DE SUSTANCIAS CONTAMINANTES EN AGUA, AIRE Y SUELO\", \"ARBOLADO URBANO\", \"ASUNTOS LEGALES Y PRESUPUESTO\", \"ASUNTOS LEGALES Y PRESUPUESTO\", \"BUENOS AIRES PRODUCE MAS LIMPIO (P+L)\", \"BUENOS AIRES PRODUCE MAS LIMPIO (P+L)\", \"BUENOS AIRES PRODUCE MAS LIMPIO (P+L)\", \"CENTRO DE INFORMACION Y FORMACION AMBIENTAL\", \"CENTROS DE ATENCION VETERINARIA\", \"CENTROS DE ATENCION VETERINARIA\", \"CENTROS VERDES\", \"COMPENSACION AMBIENTAL\", \"COMPENSACION AMBIENTAL\", \"CONSERVACION DE LA BIODIVERSIDAD\", \"CONTENERIZACION\", \"CONTROL AMBIENTAL\", \"CONTROL DE GESTION\", \"CONTROL DE GESTION Y RECLAMOS\", \"CONTROL DE GESTION Y RECLAMOS\", \"CONTROL DE HIGIENE EN VIA PUBLICA E INMUEBLES\", \"CONTROL DE HIGIENE EN VIA PUBLICA E INMUEBLES\", \"CONTROL DE HIGIENE EN VIA PUBLICA E INMUEBLES\", \"CONTROL DE PLAGAS\", \"CONTROL DE PLAGAS\", \"CONTROL DE PLAGAS\", \"CUBIERTA VERDE\", \"CUBIERTA VERDE EN LA CABA\", \"CUIDADO Y PRESERVACION DEL ARBOLADO URBANO\", \"CUIDADO Y PRESERVACION DEL ARBOLADO URBANO\", \"CUIDADO Y PUESTA EN VALOR DE ESPACIOS VERDES\", \"CUIDADO Y PUESTA EN VALOR DE GRANDES PARQUES\", \"CUIDADO Y PUESTA EN VALOR DEL PATRIMONIO CULTURAL Y NATURAL DE LOS ESPACIOS VERDES\", \"DESARROLLO DE LA RED DE AIRE Y RUIDO EN LA CIUDAD DE BUENOS AIRES.\", \"DESARROLLO DE LA RED DE AIRE Y RUIDO EN LA CIUDAD DE BUENOS AIRES.\", \"DISPOSICION FINAL RESIDUOS SOLIDOS URBANOS\", \"ESTACIONES MONITOREO CALIDAD DEL AGUA EN RED DE HIDROMETEREOLOGIA DE CABA\", \"ESTRATEGIAS AMBIENTALES\", \"ESTRATEGIAS AMBIENTALES\", \"EVALUACION TECNICA\", \"EVALUACION TECNICA\", \"GESTION AMBIENTAL\", \"HOGAR TRANSITORIO DE MASCOTAS\", \"INSPECCION DEL USO DEL ESPACIO PUBLICO\", \"INTERVENCIONES SOBRE EL ARBOLADO\", \"INTERVENCIONES VETERINARIAS\", \"JARDIN BOTANICO CARLOS THAYS\", \"LABORATORIO DE ANALISIS Y CALIDAD AMBIENTAL\", \"LABORATORIO DE ANALISIS Y CALIDAD AMBIENTAL\", \"OBRAS BA ELIGE EV\", \"OBRAS CORRECTIVAS DE RECOMPOSICION PREDIOS CONTAMINADOS REQUERIDOS POR IVC\", \"OBRAS CORRECTIVAS DE RECOMPOSICION PREDIOS CONTAMINADOS REQUERIDOS POR IVC\", \"OBRAS DE ESPACIOS VERDES\", \"OBRAS DE ESPACIOS VERDES II\", \"OBRAS DE REGENERACION URBANA\", \"OBRAS ECOPARQUE MAYEP\", \"PARQUES URBANOS\", \"PLANEAMIENTO DE LA GESTION AMBIENTAL SOSTENIBLE\", \"PLANIFICACION Y PRESUPUESTO\", \"PREVENC.AMB.EVALUAC.TECNICA Y CERTIFICADOS AMBIENTALES\", \"PREVENCION AMBIENTAL EVALUACION TECNICA Y REGISTROS AMBIENTALES\", \"PROGRAMA DE CAMBIO CLIMATICO E INFORMACION AMBIENTAL\", \"PROGRAMA DE GESTION ENERGETICA\", \"PROGRAMA DE RESIDUOS DE MANEJO ESPECIAL\", \"PROTECCION Y SANIDAD ANIMAL\", \"PROTECCION Y SANIDAD ANIMAL\", \"PROYECTOS ACUMAR\", \"PUESTA EN VALOR DE EDIFICIOS\", \"PUESTA EN VALOR DE LAS OFICINAS DE LA AGENCIA DE PROTECCION AMBIENTAL\", \"PUESTA EN VALOR DEPOSITO RAES\", \"PUESTA EN VALOR EDIFICIOS\", \"RECICLADO DE RESIDUOS URBANOS\", \"RECOLECCION, BARRIDO E HIGIENE DE LA CIUDAD DE BUENOS AIRES\", \"RED DE MONITOREO AMBIENTAL\", \"RED DE MONITOREO DE LA CALIDAD DEL AGUA SUPERFICIAL DE LA CABA.\", \"RED DE MONITOREO DE LA CALIDAD DEL AGUA SUPERFICIAL DE LA CABA.\", \"REDES AMBIENTALES\", \"REDES AMBIENTALES\", \"REMEDIACION AMBIENTAL GCBA\", \"REMEDIACION Y MITIGACION AMBIENTAL\", \"REPARACION Y MEJORAS EN BARRIOS DE BUENOS AIRES\", \"RESTAURACION Y MITIGACION GCBA\", \"SANEAMIENTO Y REMEDIACION DE SUELOS CONTAMINADOS ACHA 2102/04 Y MENDOZA\", \"SANIDAD Y TENENCIA RESPONSABLE DE MASCOTAS\", \"SERVICIO DE LIMPIEZA DE ARROYOS\", \"SERVICIOS DE ADMINISTRACION\", \"SITIOS CONTAMINADOS\", \"TECNICA ADMINISTRATIVA Y LEGAL\", \"TRATAMIENTO DE RESIDUOS ORGANICOS\", \"VALORIZACION DE LOS ESPACIOS VERDES\", \"VALORIZACION DE LOS ESPACIOS VERDES DE LA CIUDAD\", \"ACCIONES PARA LA RESTAURACION ECOLOGICA\", \"ACT.CEN.ESP.PUB.HIG.URBANA\", \"ACTIV. COMUNES A LOS PROG. 91,92 ,93 Y 94\", \"ACTIV. COMUNES A LOS PROG. 91,92 Y93\", \"ACTIVIDADES CENTRALES AMBIENTE Y ESPACIO PUBLICO\", \"ACTIVIDADES COMUMES A LOS PROGRAMAS 91,92,93,94,95,96\", \"ACTIVIDADES COMUNES A LOS PROG 21 Y 22\", \"ACTIVIDADES COMUNES A LOS PROG 21,22,23,75,76 Y 77\", \"ACTIVIDADES COMUNES A LOS PROG 22 Y 23\", \"ACTIVIDADES COMUNES A LOS PROG. 91 AL 100 Y 102\", \"ACTIVIDADES COMUNES A LOS PROG. 91 AL 103\", \"ACTIVIDADES COMUNES A LOS PROG. 91,92,93, 94,95 Y 96\", \"ACTIVIDADES COMUNES A LOS PROG. 91,92,93, 94,95, 96 Y 100\", \"ACTIVIDADES COMUNES A LOS PROGRAMAS 91,92 Y 93\", \"ACTIVIDADES COMUNES A LOS PROGRAMAS: 11-52-53-56-57-58-59\", \"ACTIVIDADES COMUNES A LOS PROGRAMAS: 11-52-53-56-57-58-59 Y 85\", \"ACTIVIDADES COMUNES A LOS PROGRAMAS: 11-52-53-56-57-58-59-79-85\", \"ACTIVIDADES COMUNES A LOS PROGRAMAS: 11-52-53-56-57-85\", \"ACTIVIDADES COMUNES A LOS PROGRAMAS: 11-52-53-57-58-59\", \"ACTIVIDADES COMUNES A LOS PROGRAMAS: 11-52-53-57-58-59 Y 85\", \"ACTIVIDADES COMUNES A LOS PROGRAMAS: 11-52-57-58 Y 85\", \"ACTIVIDADES COMUNES A LOS PROGRAMAS: 52.53.56.57 Y 85\", \"ARBOLADO URBANO\", \"ASUNTOS LEGALES Y PRESUPUESTO\", \"ASUNTOS LEGALES Y PRESUPUESTO\", \"BUENOS AIRES PRODUCE MAS LIMPIO (P+L)\", \"BUENOS AIRES PRODUCE MAS LIMPIO (P+L)\", \"BUENOS AIRES PRODUCE MAS LIMPIO (P+L)\", \"CENTROS DE ATENCION VETERINARIA\", \"CENTROS DE ATENCION VETERINARIA\", \"COMPENSACION AMBIENTAL\", \"COMPENSACION AMBIENTAL\", \"COMPENSACION AMBIENTAL\", \"CONSERVACION DE LA BIODIVERSIDAD\", \"CONTROL AMBIENTAL\", \"CONTROL DE GESTION\", \"CONTROL DE GESTION Y RECLAMOS\", \"CONTROL DE GESTION Y RECLAMOS\", \"CONTROL DE HIGIENE EN VIA PUBLICA E INMUEBLES\", \"CONTROL DE HIGIENE EN VIA PUBLICA E INMUEBLES\", \"CONTROL DE HIGIENE EN VIA PUBLICA E INMUEBLES\", \"CONTROL DE PLAGAS\", \"CONTROL DE PLAGAS\", \"CONTROL DE PLAGAS\", \"CUIDADO Y PUESTA EN VALOR DE ESPACIOS VERDES\", \"ESTRATEGIAS AMBIENTALES\", \"ESTRATEGIAS AMBIENTALES\", \"EVALUACION TECNICA\", \"EVALUACION TECNICA\", \"GESTION AMBIENTAL\", \"INTERVENCIONES VETERINARIAS\", \"LABORATORIO DE ANALISIS Y CALIDAD AMBIENTAL\", \"LABORATORIO DE ANALISIS Y CALIDAD AMBIENTAL\", \"MANTENIMIENTO ZONA PUERTO MADERO\", \"OBRAS DE REGENERACIONURBANA\", \"PLANEAMIENTO DE LA GESTION AMBIENTAL SOSTENIBLE\", \"PLANIFICACION Y PRESUPUESTO\", \"PREVENC.AMB.EVALUAC.TECNICA Y CERTIFICADOS AMBIENTALES\", \"PREVENCION AMBIENTAL EVALUACION TECNICA Y REGISTROS AMBIENTALES\", \"PROGRAMA DE CAMBIO CLIMATICO E INFORMACION AMBIENTAL\", \"PROGRAMA DE GESTION ENERGETICA\", \"PROGRAMA DE RESIDUOS DE MANEJO ESPECIAL\", \"PROTECCION Y SANIDAD ANIMAL\", \"PROTECCION Y SANIDAD ANIMAL\", \"RECICLADO DE RESIDUOS URBANOS\", \"RECOLECCION, BARRIDO E HIGIENE DE LA CIUDAD DE BUENOS AIRES\", \"REDES AMBIENTALES\", \"REDES AMBIENTALES\", \"REGENERACION URBANA\", \"SANIDAD Y TENENCIA RESPONSABLE DE MASCOTAS\", \"SERVICIOS DE ADMINISTRACION\", \"SERVICIOS DE HIGIENE URBANA\", \"TECNICA ADMINISTRATIVA Y LEGAL\", \"TRATAMIENTO DE RESIDUOS SOLIDOS URBANOS\", \"AGENCIA AMBIENTAL\", \"DIRECCION GENERAL CONTROL DE GESTION\", \"DIRECCION GENERAL CONTROL DE GESTION\", \"DIRECCION GENERAL DE ARBOLADO\", \"DIRECCION GENERAL DE CONTROL\", \"DIRECCION GENERAL DE ESPACIOS VERDES\", \"DIRECCION GENERAL DE EVALUACION AMBIENTAL\", \"DIRECCION GENERAL DE EVALUACION TECNICA\", \"DIRECCION GENERAL DE LIMPIEZA\", \"DIRECCION GENERAL DE LIMPIEZA\", \"DIRECCION GENERAL DE RECICLADO\", \"DIRECCION GENERAL ESTRATEGIAS AMBIENTALES\", \"DIRECCION GENERAL INSPECCION DE HIGIENE URBANA\", \"DIRECCION GENERAL OBRAS REGENERACION URBANA\", \"DIRECCION GENERAL PLANIFICACION Y PRESUPUESTO\", \"DIRECCION GENERAL POLITICA Y ESTRATEGIA AMBIENTAL\", \"DIRECCION GENERAL REGENERACION URBANA\", \"DIRECCION GENERAL TECNICO ADMINISTRATIVA Y LEGAL\", \"DIRECCION GENERAL TECNICO ADMINISTRATIVA Y LEGAL\", \"DIRECCION GENERAL TRATAMIENTO Y NUEVAS TECNOLOGIAS\", \"ENTE DE HIGIENE URBANA\", \"MIN.ESP.PUBLICO E HIG. URBANA\", \"MINISTERIO AMBIENTE Y ESPACIO PUBLICO\", \"SUBSECRETARIA DE ADMINISTRACION\", \"SUBSECRETARIA DE ADMINISTRACION\", \"SUBSECRETARIA DE ADMINISTRACION GENERAL Y DE USO DEL ESPACIO PUBLICO\", \"SUBSECRETARIA DE HIGIENE URBANA\", \"SUBSECRETARIA DE HIGIENE URBANA\", \"UPE ECOPARQUE INTERACTIVO DE LA CABA\", \"AGENCIA AMBIENTAL\", \"ENTE DE HIGIENE URBANA\", \"MINISTERIO DE AMBIENTE Y ESPACIO PUBLICO\", \"MINISTERIO DE ESPACIO PUBLICO E HIGIENE URBANA\", \"MINISTERIO DE AMBIENTE Y ESPACIO PUBLICO\", \"MINISTERIO DE ESPACIO PUBLICO E HIGIENE URBANA\"], \"maxdepth\": 10, \"name\": \"\", \"parents\": [\"MINISTERIO DE AMBIENTE Y ESPACIO PUBLICO/MINISTERIO DE AMBIENTE Y ESPACIO PUBLICO/DIRECCION GENERAL DE RECICLADO/RECICLADO DE RESIDUOS URBANOS\", \"MINISTERIO DE AMBIENTE Y ESPACIO PUBLICO/MINISTERIO DE AMBIENTE Y ESPACIO PUBLICO/DIRECCION GENERAL DE LIMPIEZA/SERVICIOS DE HIGIENE URBANA\", \"MINISTERIO DE AMBIENTE Y ESPACIO PUBLICO/MINISTERIO DE AMBIENTE Y ESPACIO PUBLICO/DIRECCION GENERAL DE ESPACIOS VERDES/CUIDADO Y PUESTA EN VALOR DE ESPACIOS VERDES\", \"MINISTERIO DE AMBIENTE Y ESPACIO PUBLICO/AGENCIA AMBIENTAL/AGENCIA AMBIENTAL/ACTIV. COMUNES A LOS PROG. 91,92 ,93 Y 94\", \"MINISTERIO DE AMBIENTE Y ESPACIO PUBLICO/AGENCIA AMBIENTAL/DIRECCION GENERAL DE CONTROL/ACCIONES PARA LA RESTAURACION ECOLOGICA\", \"MINISTERIO DE ESPACIO PUBLICO E HIGIENE URBANA/MINISTERIO DE ESPACIO PUBLICO E HIGIENE URBANA/MIN.ESP.PUBLICO E HIG. URBANA/ACT.CEN.ESP.PUB.HIG.URBANA\", \"MINISTERIO DE AMBIENTE Y ESPACIO PUBLICO/AGENCIA AMBIENTAL/AGENCIA AMBIENTAL/ACTIV. COMUNES A LOS PROG. 91,92 ,93 Y 94\", \"MINISTERIO DE AMBIENTE Y ESPACIO PUBLICO/AGENCIA AMBIENTAL/AGENCIA AMBIENTAL/ACTIV. COMUNES A LOS PROG. 91,92 Y93\", \"MINISTERIO DE AMBIENTE Y ESPACIO PUBLICO/MINISTERIO DE AMBIENTE Y ESPACIO PUBLICO/MINISTERIO AMBIENTE Y ESPACIO PUBLICO/ACTIVIDADES CENTRALES AMBIENTE Y ESPACIO PUBLICO\", \"MINISTERIO DE AMBIENTE Y ESPACIO PUBLICO/AGENCIA AMBIENTAL/AGENCIA AMBIENTAL/ACTIVIDADES COMUMES A LOS PROGRAMAS 91,92,93,94,95,96\", \"MINISTERIO DE AMBIENTE Y ESPACIO PUBLICO/MINISTERIO DE AMBIENTE Y ESPACIO PUBLICO/SUBSECRETARIA DE ADMINISTRACION/ACTIVIDADES COMUNES A LOS PROG 21 Y 22\", \"MINISTERIO DE AMBIENTE Y ESPACIO PUBLICO/MINISTERIO DE AMBIENTE Y ESPACIO PUBLICO/SUBSECRETARIA DE ADMINISTRACION GENERAL Y DE USO DEL ESPACIO PUBLICO/ACTIVIDADES COMUNES A LOS PROG 21,22,23,75,76 Y 77\", \"MINISTERIO DE ESPACIO PUBLICO E HIGIENE URBANA/MINISTERIO DE ESPACIO PUBLICO E HIGIENE URBANA/SUBSECRETARIA DE ADMINISTRACION/ACTIVIDADES COMUNES A LOS PROG 22 Y 23\", \"MINISTERIO DE AMBIENTE Y ESPACIO PUBLICO/AGENCIA AMBIENTAL/AGENCIA AMBIENTAL/ACTIVIDADES COMUNES A LOS PROG. 91 AL 100 Y 102\", \"MINISTERIO DE AMBIENTE Y ESPACIO PUBLICO/AGENCIA AMBIENTAL/AGENCIA AMBIENTAL/ACTIVIDADES COMUNES A LOS PROG. 91 AL 103\", \"MINISTERIO DE AMBIENTE Y ESPACIO PUBLICO/AGENCIA AMBIENTAL/AGENCIA AMBIENTAL/ACTIVIDADES COMUNES A LOS PROG. 91,92,93, 94,95 Y 96\", \"MINISTERIO DE AMBIENTE Y ESPACIO PUBLICO/AGENCIA AMBIENTAL/AGENCIA AMBIENTAL/ACTIVIDADES COMUNES A LOS PROG. 91,92,93, 94,95, 96 Y 100\", \"MINISTERIO DE AMBIENTE Y ESPACIO PUBLICO/AGENCIA AMBIENTAL/AGENCIA AMBIENTAL/ACTIVIDADES COMUNES A LOS PROGRAMAS 91,92 Y 93\", \"MINISTERIO DE AMBIENTE Y ESPACIO PUBLICO/MINISTERIO DE AMBIENTE Y ESPACIO PUBLICO/SUBSECRETARIA DE HIGIENE URBANA/ACTIVIDADES COMUNES A LOS PROGRAMAS: 11-52-53-56-57-58-59\", \"MINISTERIO DE AMBIENTE Y ESPACIO PUBLICO/MINISTERIO DE AMBIENTE Y ESPACIO PUBLICO/SUBSECRETARIA DE HIGIENE URBANA/ACTIVIDADES COMUNES A LOS PROGRAMAS: 11-52-53-56-57-58-59 Y 85\", \"MINISTERIO DE AMBIENTE Y ESPACIO PUBLICO/MINISTERIO DE AMBIENTE Y ESPACIO PUBLICO/SUBSECRETARIA DE HIGIENE URBANA/ACTIVIDADES COMUNES A LOS PROGRAMAS: 11-52-53-56-57-58-59-79-85\", \"MINISTERIO DE AMBIENTE Y ESPACIO PUBLICO/MINISTERIO DE AMBIENTE Y ESPACIO PUBLICO/SUBSECRETARIA DE HIGIENE URBANA/ACTIVIDADES COMUNES A LOS PROGRAMAS: 11-52-53-56-57-85\", \"MINISTERIO DE AMBIENTE Y ESPACIO PUBLICO/MINISTERIO DE AMBIENTE Y ESPACIO PUBLICO/SUBSECRETARIA DE HIGIENE URBANA/ACTIVIDADES COMUNES A LOS PROGRAMAS: 11-52-53-57-58-59\", \"MINISTERIO DE AMBIENTE Y ESPACIO PUBLICO/MINISTERIO DE AMBIENTE Y ESPACIO PUBLICO/SUBSECRETARIA DE HIGIENE URBANA/ACTIVIDADES COMUNES A LOS PROGRAMAS: 11-52-53-57-58-59 Y 85\", \"MINISTERIO DE ESPACIO PUBLICO E HIGIENE URBANA/MINISTERIO DE ESPACIO PUBLICO E HIGIENE URBANA/SUBSECRETARIA DE HIGIENE URBANA/ACTIVIDADES COMUNES A LOS PROGRAMAS: 11-52-57-58 Y 85\", \"MINISTERIO DE AMBIENTE Y ESPACIO PUBLICO/MINISTERIO DE AMBIENTE Y ESPACIO PUBLICO/SUBSECRETARIA DE HIGIENE URBANA/ACTIVIDADES COMUNES A LOS PROGRAMAS: 52.53.56.57 Y 85\", \"MINISTERIO DE AMBIENTE Y ESPACIO PUBLICO/AGENCIA AMBIENTAL/AGENCIA AMBIENTAL/ACTIVIDADES COMUMES A LOS PROGRAMAS 91,92,93,94,95,96\", \"MINISTERIO DE AMBIENTE Y ESPACIO PUBLICO/AGENCIA AMBIENTAL/AGENCIA AMBIENTAL/ACTIVIDADES COMUNES A LOS PROGRAMAS 91,92 Y 93\", \"MINISTERIO DE AMBIENTE Y ESPACIO PUBLICO/MINISTERIO DE AMBIENTE Y ESPACIO PUBLICO/DIRECCION GENERAL DE ARBOLADO/ARBOLADO URBANO\", \"MINISTERIO DE AMBIENTE Y ESPACIO PUBLICO/MINISTERIO DE AMBIENTE Y ESPACIO PUBLICO/DIRECCION GENERAL TECNICO ADMINISTRATIVA Y LEGAL/ASUNTOS LEGALES Y PRESUPUESTO\", \"MINISTERIO DE ESPACIO PUBLICO E HIGIENE URBANA/MINISTERIO DE ESPACIO PUBLICO E HIGIENE URBANA/DIRECCION GENERAL TECNICO ADMINISTRATIVA Y LEGAL/ASUNTOS LEGALES Y PRESUPUESTO\", \"MINISTERIO DE AMBIENTE Y ESPACIO PUBLICO/AGENCIA AMBIENTAL/DIRECCION GENERAL DE EVALUACION TECNICA/BUENOS AIRES PRODUCE MAS LIMPIO (P+L)\", \"MINISTERIO DE AMBIENTE Y ESPACIO PUBLICO/AGENCIA AMBIENTAL/DIRECCION GENERAL ESTRATEGIAS AMBIENTALES/BUENOS AIRES PRODUCE MAS LIMPIO (P+L)\", \"MINISTERIO DE AMBIENTE Y ESPACIO PUBLICO/AGENCIA AMBIENTAL/DIRECCION GENERAL POLITICA Y ESTRATEGIA AMBIENTAL/BUENOS AIRES PRODUCE MAS LIMPIO (P+L)\", \"MINISTERIO DE AMBIENTE Y ESPACIO PUBLICO/AGENCIA AMBIENTAL/AGENCIA AMBIENTAL/ACTIV. COMUNES A LOS PROG. 91,92 ,93 Y 94\", \"MINISTERIO DE AMBIENTE Y ESPACIO PUBLICO/AGENCIA AMBIENTAL/AGENCIA AMBIENTAL/CENTROS DE ATENCION VETERINARIA\", \"MINISTERIO DE AMBIENTE Y ESPACIO PUBLICO/AGENCIA AMBIENTAL/DIRECCION GENERAL ESTRATEGIAS AMBIENTALES/CENTROS DE ATENCION VETERINARIA\", \"MINISTERIO DE AMBIENTE Y ESPACIO PUBLICO/MINISTERIO DE AMBIENTE Y ESPACIO PUBLICO/DIRECCION GENERAL DE RECICLADO/RECICLADO DE RESIDUOS URBANOS\", \"MINISTERIO DE AMBIENTE Y ESPACIO PUBLICO/AGENCIA AMBIENTAL/AGENCIA AMBIENTAL/COMPENSACION AMBIENTAL\", \"MINISTERIO DE AMBIENTE Y ESPACIO PUBLICO/AGENCIA AMBIENTAL/DIRECCION GENERAL DE EVALUACION AMBIENTAL/COMPENSACION AMBIENTAL\", \"MINISTERIO DE AMBIENTE Y ESPACIO PUBLICO/MINISTERIO DE AMBIENTE Y ESPACIO PUBLICO/UPE ECOPARQUE INTERACTIVO DE LA CABA/CONSERVACION DE LA BIODIVERSIDAD\", \"MINISTERIO DE AMBIENTE Y ESPACIO PUBLICO/MINISTERIO DE AMBIENTE Y ESPACIO PUBLICO/DIRECCION GENERAL DE LIMPIEZA/SERVICIOS DE HIGIENE URBANA\", \"MINISTERIO DE AMBIENTE Y ESPACIO PUBLICO/AGENCIA AMBIENTAL/DIRECCION GENERAL DE CONTROL/CONTROL AMBIENTAL\", \"MINISTERIO DE AMBIENTE Y ESPACIO PUBLICO/MINISTERIO DE AMBIENTE Y ESPACIO PUBLICO/DIRECCION GENERAL CONTROL DE GESTION/CONTROL DE GESTION\", \"MINISTERIO DE AMBIENTE Y ESPACIO PUBLICO/MINISTERIO DE AMBIENTE Y ESPACIO PUBLICO/DIRECCION GENERAL CONTROL DE GESTION/CONTROL DE GESTION Y RECLAMOS\", \"MINISTERIO DE ESPACIO PUBLICO E HIGIENE URBANA/MINISTERIO DE ESPACIO PUBLICO E HIGIENE URBANA/DIRECCION GENERAL CONTROL DE GESTION/CONTROL DE GESTION Y RECLAMOS\", \"MINISTERIO DE AMBIENTE Y ESPACIO PUBLICO/MINISTERIO DE AMBIENTE Y ESPACIO PUBLICO/DIRECCION GENERAL DE LIMPIEZA/CONTROL DE HIGIENE EN VIA PUBLICA E INMUEBLES\", \"MINISTERIO DE AMBIENTE Y ESPACIO PUBLICO/MINISTERIO DE AMBIENTE Y ESPACIO PUBLICO/DIRECCION GENERAL INSPECCION DE HIGIENE URBANA/CONTROL DE HIGIENE EN VIA PUBLICA E INMUEBLES\", \"MINISTERIO DE AMBIENTE Y ESPACIO PUBLICO/MINISTERIO DE AMBIENTE Y ESPACIO PUBLICO/SUBSECRETARIA DE HIGIENE URBANA/CONTROL DE HIGIENE EN VIA PUBLICA E INMUEBLES\", \"MINISTERIO DE AMBIENTE Y ESPACIO PUBLICO/MINISTERIO DE AMBIENTE Y ESPACIO PUBLICO/DIRECCION GENERAL DE LIMPIEZA/CONTROL DE PLAGAS\", \"MINISTERIO DE ESPACIO PUBLICO E HIGIENE URBANA/MINISTERIO DE ESPACIO PUBLICO E HIGIENE URBANA/DIRECCION GENERAL DE LIMPIEZA/CONTROL DE PLAGAS\", \"MINISTERIO DE AMBIENTE Y ESPACIO PUBLICO/MINISTERIO DE AMBIENTE Y ESPACIO PUBLICO/DIRECCION GENERAL INSPECCION DE HIGIENE URBANA/CONTROL DE PLAGAS\", \"MINISTERIO DE AMBIENTE Y ESPACIO PUBLICO/AGENCIA AMBIENTAL/DIRECCION GENERAL ESTRATEGIAS AMBIENTALES/ESTRATEGIAS AMBIENTALES\", \"MINISTERIO DE AMBIENTE Y ESPACIO PUBLICO/AGENCIA AMBIENTAL/DIRECCION GENERAL ESTRATEGIAS AMBIENTALES/ESTRATEGIAS AMBIENTALES\", \"MINISTERIO DE AMBIENTE Y ESPACIO PUBLICO/MINISTERIO DE AMBIENTE Y ESPACIO PUBLICO/DIRECCION GENERAL DE ARBOLADO/ARBOLADO URBANO\", \"MINISTERIO DE AMBIENTE Y ESPACIO PUBLICO/MINISTERIO DE AMBIENTE Y ESPACIO PUBLICO/DIRECCION GENERAL DE ESPACIOS VERDES/CUIDADO Y PUESTA EN VALOR DE ESPACIOS VERDES\", \"MINISTERIO DE AMBIENTE Y ESPACIO PUBLICO/MINISTERIO DE AMBIENTE Y ESPACIO PUBLICO/DIRECCION GENERAL DE ESPACIOS VERDES/CUIDADO Y PUESTA EN VALOR DE ESPACIOS VERDES\", \"MINISTERIO DE AMBIENTE Y ESPACIO PUBLICO/MINISTERIO DE AMBIENTE Y ESPACIO PUBLICO/DIRECCION GENERAL DE ESPACIOS VERDES/CUIDADO Y PUESTA EN VALOR DE ESPACIOS VERDES\", \"MINISTERIO DE AMBIENTE Y ESPACIO PUBLICO/MINISTERIO DE AMBIENTE Y ESPACIO PUBLICO/DIRECCION GENERAL DE ESPACIOS VERDES/CUIDADO Y PUESTA EN VALOR DE ESPACIOS VERDES\", \"MINISTERIO DE AMBIENTE Y ESPACIO PUBLICO/AGENCIA AMBIENTAL/DIRECCION GENERAL ESTRATEGIAS AMBIENTALES/ESTRATEGIAS AMBIENTALES\", \"MINISTERIO DE AMBIENTE Y ESPACIO PUBLICO/AGENCIA AMBIENTAL/DIRECCION GENERAL ESTRATEGIAS AMBIENTALES/PLANEAMIENTO DE LA GESTION AMBIENTAL SOSTENIBLE\", \"MINISTERIO DE AMBIENTE Y ESPACIO PUBLICO/MINISTERIO DE AMBIENTE Y ESPACIO PUBLICO/DIRECCION GENERAL DE LIMPIEZA/SERVICIOS DE HIGIENE URBANA\", \"MINISTERIO DE AMBIENTE Y ESPACIO PUBLICO/AGENCIA AMBIENTAL/AGENCIA AMBIENTAL/REDES AMBIENTALES\", \"MINISTERIO DE AMBIENTE Y ESPACIO PUBLICO/AGENCIA AMBIENTAL/DIRECCION GENERAL ESTRATEGIAS AMBIENTALES/ESTRATEGIAS AMBIENTALES\", \"MINISTERIO DE AMBIENTE Y ESPACIO PUBLICO/AGENCIA AMBIENTAL/DIRECCION GENERAL POLITICA Y ESTRATEGIA AMBIENTAL/ESTRATEGIAS AMBIENTALES\", \"MINISTERIO DE AMBIENTE Y ESPACIO PUBLICO/AGENCIA AMBIENTAL/DIRECCION GENERAL DE EVALUACION AMBIENTAL/EVALUACION TECNICA\", \"MINISTERIO DE AMBIENTE Y ESPACIO PUBLICO/AGENCIA AMBIENTAL/DIRECCION GENERAL DE EVALUACION TECNICA/EVALUACION TECNICA\", \"MINISTERIO DE AMBIENTE Y ESPACIO PUBLICO/AGENCIA AMBIENTAL/AGENCIA AMBIENTAL/GESTION AMBIENTAL\", \"MINISTERIO DE AMBIENTE Y ESPACIO PUBLICO/AGENCIA AMBIENTAL/DIRECCION GENERAL ESTRATEGIAS AMBIENTALES/ESTRATEGIAS AMBIENTALES\", \"MINISTERIO DE ESPACIO PUBLICO E HIGIENE URBANA/MINISTERIO DE ESPACIO PUBLICO E HIGIENE URBANA/SUBSECRETARIA DE ADMINISTRACION/ACTIVIDADES COMUNES A LOS PROG 22 Y 23\", \"MINISTERIO DE AMBIENTE Y ESPACIO PUBLICO/MINISTERIO DE AMBIENTE Y ESPACIO PUBLICO/DIRECCION GENERAL DE ARBOLADO/ARBOLADO URBANO\", \"MINISTERIO DE AMBIENTE Y ESPACIO PUBLICO/AGENCIA AMBIENTAL/AGENCIA AMBIENTAL/INTERVENCIONES VETERINARIAS\", \"MINISTERIO DE AMBIENTE Y ESPACIO PUBLICO/MINISTERIO DE AMBIENTE Y ESPACIO PUBLICO/DIRECCION GENERAL DE ESPACIOS VERDES/CUIDADO Y PUESTA EN VALOR DE ESPACIOS VERDES\", \"MINISTERIO DE AMBIENTE Y ESPACIO PUBLICO/AGENCIA AMBIENTAL/DIRECCION GENERAL DE CONTROL/LABORATORIO DE ANALISIS Y CALIDAD AMBIENTAL\", \"MINISTERIO DE AMBIENTE Y ESPACIO PUBLICO/AGENCIA AMBIENTAL/DIRECCION GENERAL DE EVALUACION TECNICA/LABORATORIO DE ANALISIS Y CALIDAD AMBIENTAL\", \"MINISTERIO DE AMBIENTE Y ESPACIO PUBLICO/MINISTERIO DE AMBIENTE Y ESPACIO PUBLICO/DIRECCION GENERAL DE ESPACIOS VERDES/CUIDADO Y PUESTA EN VALOR DE ESPACIOS VERDES\", \"MINISTERIO DE AMBIENTE Y ESPACIO PUBLICO/AGENCIA AMBIENTAL/AGENCIA AMBIENTAL/COMPENSACION AMBIENTAL\", \"MINISTERIO DE AMBIENTE Y ESPACIO PUBLICO/AGENCIA AMBIENTAL/DIRECCION GENERAL DE EVALUACION TECNICA/COMPENSACION AMBIENTAL\", \"MINISTERIO DE AMBIENTE Y ESPACIO PUBLICO/MINISTERIO DE AMBIENTE Y ESPACIO PUBLICO/DIRECCION GENERAL DE ESPACIOS VERDES/CUIDADO Y PUESTA EN VALOR DE ESPACIOS VERDES\", \"MINISTERIO DE AMBIENTE Y ESPACIO PUBLICO/MINISTERIO DE AMBIENTE Y ESPACIO PUBLICO/DIRECCION GENERAL DE ESPACIOS VERDES/CUIDADO Y PUESTA EN VALOR DE ESPACIOS VERDES\", \"MINISTERIO DE AMBIENTE Y ESPACIO PUBLICO/MINISTERIO DE AMBIENTE Y ESPACIO PUBLICO/DIRECCION GENERAL REGENERACION URBANA/REGENERACION URBANA\", \"MINISTERIO DE AMBIENTE Y ESPACIO PUBLICO/MINISTERIO DE AMBIENTE Y ESPACIO PUBLICO/UPE ECOPARQUE INTERACTIVO DE LA CABA/CONSERVACION DE LA BIODIVERSIDAD\", \"MINISTERIO DE AMBIENTE Y ESPACIO PUBLICO/MINISTERIO DE AMBIENTE Y ESPACIO PUBLICO/DIRECCION GENERAL OBRAS REGENERACION URBANA/OBRAS DE REGENERACIONURBANA\", \"MINISTERIO DE AMBIENTE Y ESPACIO PUBLICO/AGENCIA AMBIENTAL/DIRECCION GENERAL ESTRATEGIAS AMBIENTALES/PLANEAMIENTO DE LA GESTION AMBIENTAL SOSTENIBLE\", \"MINISTERIO DE AMBIENTE Y ESPACIO PUBLICO/MINISTERIO DE AMBIENTE Y ESPACIO PUBLICO/DIRECCION GENERAL PLANIFICACION Y PRESUPUESTO/PLANIFICACION Y PRESUPUESTO\", \"MINISTERIO DE AMBIENTE Y ESPACIO PUBLICO/AGENCIA AMBIENTAL/DIRECCION GENERAL DE EVALUACION TECNICA/PREVENC.AMB.EVALUAC.TECNICA Y CERTIFICADOS AMBIENTALES\", \"MINISTERIO DE AMBIENTE Y ESPACIO PUBLICO/AGENCIA AMBIENTAL/DIRECCION GENERAL DE EVALUACION TECNICA/PREVENCION AMBIENTAL EVALUACION TECNICA Y REGISTROS AMBIENTALES\", \"MINISTERIO DE AMBIENTE Y ESPACIO PUBLICO/AGENCIA AMBIENTAL/DIRECCION GENERAL POLITICA Y ESTRATEGIA AMBIENTAL/PROGRAMA DE CAMBIO CLIMATICO E INFORMACION AMBIENTAL\", \"MINISTERIO DE AMBIENTE Y ESPACIO PUBLICO/AGENCIA AMBIENTAL/DIRECCION GENERAL POLITICA Y ESTRATEGIA AMBIENTAL/PROGRAMA DE GESTION ENERGETICA\", \"MINISTERIO DE AMBIENTE Y ESPACIO PUBLICO/AGENCIA AMBIENTAL/DIRECCION GENERAL POLITICA Y ESTRATEGIA AMBIENTAL/PROGRAMA DE RESIDUOS DE MANEJO ESPECIAL\", \"MINISTERIO DE AMBIENTE Y ESPACIO PUBLICO/AGENCIA AMBIENTAL/AGENCIA AMBIENTAL/PROTECCION Y SANIDAD ANIMAL\", \"MINISTERIO DE AMBIENTE Y ESPACIO PUBLICO/AGENCIA AMBIENTAL/DIRECCION GENERAL ESTRATEGIAS AMBIENTALES/PROTECCION Y SANIDAD ANIMAL\", \"MINISTERIO DE AMBIENTE Y ESPACIO PUBLICO/AGENCIA AMBIENTAL/AGENCIA AMBIENTAL/GESTION AMBIENTAL\", \"MINISTERIO DE AMBIENTE Y ESPACIO PUBLICO/MINISTERIO DE AMBIENTE Y ESPACIO PUBLICO/DIRECCION GENERAL INSPECCION DE HIGIENE URBANA/CONTROL DE HIGIENE EN VIA PUBLICA E INMUEBLES\", \"MINISTERIO DE AMBIENTE Y ESPACIO PUBLICO/AGENCIA AMBIENTAL/AGENCIA AMBIENTAL/ACTIV. COMUNES A LOS PROG. 91,92 ,93 Y 94\", \"MINISTERIO DE AMBIENTE Y ESPACIO PUBLICO/AGENCIA AMBIENTAL/DIRECCION GENERAL ESTRATEGIAS AMBIENTALES/ESTRATEGIAS AMBIENTALES\", \"MINISTERIO DE AMBIENTE Y ESPACIO PUBLICO/MINISTERIO DE AMBIENTE Y ESPACIO PUBLICO/DIRECCION GENERAL DE ESPACIOS VERDES/CUIDADO Y PUESTA EN VALOR DE ESPACIOS VERDES\", \"MINISTERIO DE AMBIENTE Y ESPACIO PUBLICO/MINISTERIO DE AMBIENTE Y ESPACIO PUBLICO/DIRECCION GENERAL DE RECICLADO/RECICLADO DE RESIDUOS URBANOS\", \"MINISTERIO DE AMBIENTE Y ESPACIO PUBLICO/ENTE DE HIGIENE URBANA/ENTE DE HIGIENE URBANA/RECOLECCION, BARRIDO E HIGIENE DE LA CIUDAD DE BUENOS AIRES\", \"MINISTERIO DE AMBIENTE Y ESPACIO PUBLICO/AGENCIA AMBIENTAL/DIRECCION GENERAL ESTRATEGIAS AMBIENTALES/ESTRATEGIAS AMBIENTALES\", \"MINISTERIO DE AMBIENTE Y ESPACIO PUBLICO/AGENCIA AMBIENTAL/DIRECCION GENERAL ESTRATEGIAS AMBIENTALES/ESTRATEGIAS AMBIENTALES\", \"MINISTERIO DE AMBIENTE Y ESPACIO PUBLICO/AGENCIA AMBIENTAL/DIRECCION GENERAL ESTRATEGIAS AMBIENTALES/PLANEAMIENTO DE LA GESTION AMBIENTAL SOSTENIBLE\", \"MINISTERIO DE AMBIENTE Y ESPACIO PUBLICO/AGENCIA AMBIENTAL/AGENCIA AMBIENTAL/REDES AMBIENTALES\", \"MINISTERIO DE AMBIENTE Y ESPACIO PUBLICO/AGENCIA AMBIENTAL/DIRECCION GENERAL DE CONTROL/REDES AMBIENTALES\", \"MINISTERIO DE AMBIENTE Y ESPACIO PUBLICO/AGENCIA AMBIENTAL/AGENCIA AMBIENTAL/ACTIV. COMUNES A LOS PROG. 91,92 ,93 Y 94\", \"MINISTERIO DE AMBIENTE Y ESPACIO PUBLICO/AGENCIA AMBIENTAL/AGENCIA AMBIENTAL/COMPENSACION AMBIENTAL\", \"MINISTERIO DE AMBIENTE Y ESPACIO PUBLICO/MINISTERIO DE AMBIENTE Y ESPACIO PUBLICO/MINISTERIO AMBIENTE Y ESPACIO PUBLICO/MANTENIMIENTO ZONA PUERTO MADERO\", \"MINISTERIO DE AMBIENTE Y ESPACIO PUBLICO/AGENCIA AMBIENTAL/AGENCIA AMBIENTAL/ACTIV. COMUNES A LOS PROG. 91,92 ,93 Y 94\", \"MINISTERIO DE AMBIENTE Y ESPACIO PUBLICO/AGENCIA AMBIENTAL/AGENCIA AMBIENTAL/ACTIV. COMUNES A LOS PROG. 91,92 ,93 Y 94\", \"MINISTERIO DE AMBIENTE Y ESPACIO PUBLICO/AGENCIA AMBIENTAL/AGENCIA AMBIENTAL/SANIDAD Y TENENCIA RESPONSABLE DE MASCOTAS\", \"MINISTERIO DE AMBIENTE Y ESPACIO PUBLICO/MINISTERIO DE AMBIENTE Y ESPACIO PUBLICO/DIRECCION GENERAL DE LIMPIEZA/SERVICIOS DE HIGIENE URBANA\", \"MINISTERIO DE AMBIENTE Y ESPACIO PUBLICO/MINISTERIO DE AMBIENTE Y ESPACIO PUBLICO/MINISTERIO AMBIENTE Y ESPACIO PUBLICO/SERVICIOS DE ADMINISTRACION\", \"MINISTERIO DE AMBIENTE Y ESPACIO PUBLICO/AGENCIA AMBIENTAL/DIRECCION GENERAL DE EVALUACION TECNICA/COMPENSACION AMBIENTAL\", \"MINISTERIO DE AMBIENTE Y ESPACIO PUBLICO/MINISTERIO DE AMBIENTE Y ESPACIO PUBLICO/DIRECCION GENERAL TECNICO ADMINISTRATIVA Y LEGAL/TECNICA ADMINISTRATIVA Y LEGAL\", \"MINISTERIO DE AMBIENTE Y ESPACIO PUBLICO/MINISTERIO DE AMBIENTE Y ESPACIO PUBLICO/DIRECCION GENERAL TRATAMIENTO Y NUEVAS TECNOLOGIAS/TRATAMIENTO DE RESIDUOS SOLIDOS URBANOS\", \"MINISTERIO DE AMBIENTE Y ESPACIO PUBLICO/MINISTERIO DE AMBIENTE Y ESPACIO PUBLICO/DIRECCION GENERAL DE ESPACIOS VERDES/CUIDADO Y PUESTA EN VALOR DE ESPACIOS VERDES\", \"MINISTERIO DE AMBIENTE Y ESPACIO PUBLICO/MINISTERIO DE AMBIENTE Y ESPACIO PUBLICO/DIRECCION GENERAL DE ESPACIOS VERDES/CUIDADO Y PUESTA EN VALOR DE ESPACIOS VERDES\", \"MINISTERIO DE AMBIENTE Y ESPACIO PUBLICO/AGENCIA AMBIENTAL/DIRECCION GENERAL DE CONTROL\", \"MINISTERIO DE ESPACIO PUBLICO E HIGIENE URBANA/MINISTERIO DE ESPACIO PUBLICO E HIGIENE URBANA/MIN.ESP.PUBLICO E HIG. URBANA\", \"MINISTERIO DE AMBIENTE Y ESPACIO PUBLICO/AGENCIA AMBIENTAL/AGENCIA AMBIENTAL\", \"MINISTERIO DE AMBIENTE Y ESPACIO PUBLICO/AGENCIA AMBIENTAL/AGENCIA AMBIENTAL\", \"MINISTERIO DE AMBIENTE Y ESPACIO PUBLICO/MINISTERIO DE AMBIENTE Y ESPACIO PUBLICO/MINISTERIO AMBIENTE Y ESPACIO PUBLICO\", \"MINISTERIO DE AMBIENTE Y ESPACIO PUBLICO/AGENCIA AMBIENTAL/AGENCIA AMBIENTAL\", \"MINISTERIO DE AMBIENTE Y ESPACIO PUBLICO/MINISTERIO DE AMBIENTE Y ESPACIO PUBLICO/SUBSECRETARIA DE ADMINISTRACION\", \"MINISTERIO DE AMBIENTE Y ESPACIO PUBLICO/MINISTERIO DE AMBIENTE Y ESPACIO PUBLICO/SUBSECRETARIA DE ADMINISTRACION GENERAL Y DE USO DEL ESPACIO PUBLICO\", \"MINISTERIO DE ESPACIO PUBLICO E HIGIENE URBANA/MINISTERIO DE ESPACIO PUBLICO E HIGIENE URBANA/SUBSECRETARIA DE ADMINISTRACION\", \"MINISTERIO DE AMBIENTE Y ESPACIO PUBLICO/AGENCIA AMBIENTAL/AGENCIA AMBIENTAL\", \"MINISTERIO DE AMBIENTE Y ESPACIO PUBLICO/AGENCIA AMBIENTAL/AGENCIA AMBIENTAL\", \"MINISTERIO DE AMBIENTE Y ESPACIO PUBLICO/AGENCIA AMBIENTAL/AGENCIA AMBIENTAL\", \"MINISTERIO DE AMBIENTE Y ESPACIO PUBLICO/AGENCIA AMBIENTAL/AGENCIA AMBIENTAL\", \"MINISTERIO DE AMBIENTE Y ESPACIO PUBLICO/AGENCIA AMBIENTAL/AGENCIA AMBIENTAL\", \"MINISTERIO DE AMBIENTE Y ESPACIO PUBLICO/MINISTERIO DE AMBIENTE Y ESPACIO PUBLICO/SUBSECRETARIA DE HIGIENE URBANA\", \"MINISTERIO DE AMBIENTE Y ESPACIO PUBLICO/MINISTERIO DE AMBIENTE Y ESPACIO PUBLICO/SUBSECRETARIA DE HIGIENE URBANA\", \"MINISTERIO DE AMBIENTE Y ESPACIO PUBLICO/MINISTERIO DE AMBIENTE Y ESPACIO PUBLICO/SUBSECRETARIA DE HIGIENE URBANA\", \"MINISTERIO DE AMBIENTE Y ESPACIO PUBLICO/MINISTERIO DE AMBIENTE Y ESPACIO PUBLICO/SUBSECRETARIA DE HIGIENE URBANA\", \"MINISTERIO DE AMBIENTE Y ESPACIO PUBLICO/MINISTERIO DE AMBIENTE Y ESPACIO PUBLICO/SUBSECRETARIA DE HIGIENE URBANA\", \"MINISTERIO DE AMBIENTE Y ESPACIO PUBLICO/MINISTERIO DE AMBIENTE Y ESPACIO PUBLICO/SUBSECRETARIA DE HIGIENE URBANA\", \"MINISTERIO DE ESPACIO PUBLICO E HIGIENE URBANA/MINISTERIO DE ESPACIO PUBLICO E HIGIENE URBANA/SUBSECRETARIA DE HIGIENE URBANA\", \"MINISTERIO DE AMBIENTE Y ESPACIO PUBLICO/MINISTERIO DE AMBIENTE Y ESPACIO PUBLICO/SUBSECRETARIA DE HIGIENE URBANA\", \"MINISTERIO DE AMBIENTE Y ESPACIO PUBLICO/MINISTERIO DE AMBIENTE Y ESPACIO PUBLICO/DIRECCION GENERAL DE ARBOLADO\", \"MINISTERIO DE AMBIENTE Y ESPACIO PUBLICO/MINISTERIO DE AMBIENTE Y ESPACIO PUBLICO/DIRECCION GENERAL TECNICO ADMINISTRATIVA Y LEGAL\", \"MINISTERIO DE ESPACIO PUBLICO E HIGIENE URBANA/MINISTERIO DE ESPACIO PUBLICO E HIGIENE URBANA/DIRECCION GENERAL TECNICO ADMINISTRATIVA Y LEGAL\", \"MINISTERIO DE AMBIENTE Y ESPACIO PUBLICO/AGENCIA AMBIENTAL/DIRECCION GENERAL DE EVALUACION TECNICA\", \"MINISTERIO DE AMBIENTE Y ESPACIO PUBLICO/AGENCIA AMBIENTAL/DIRECCION GENERAL ESTRATEGIAS AMBIENTALES\", \"MINISTERIO DE AMBIENTE Y ESPACIO PUBLICO/AGENCIA AMBIENTAL/DIRECCION GENERAL POLITICA Y ESTRATEGIA AMBIENTAL\", \"MINISTERIO DE AMBIENTE Y ESPACIO PUBLICO/AGENCIA AMBIENTAL/AGENCIA AMBIENTAL\", \"MINISTERIO DE AMBIENTE Y ESPACIO PUBLICO/AGENCIA AMBIENTAL/DIRECCION GENERAL ESTRATEGIAS AMBIENTALES\", \"MINISTERIO DE AMBIENTE Y ESPACIO PUBLICO/AGENCIA AMBIENTAL/AGENCIA AMBIENTAL\", \"MINISTERIO DE AMBIENTE Y ESPACIO PUBLICO/AGENCIA AMBIENTAL/DIRECCION GENERAL DE EVALUACION AMBIENTAL\", \"MINISTERIO DE AMBIENTE Y ESPACIO PUBLICO/AGENCIA AMBIENTAL/DIRECCION GENERAL DE EVALUACION TECNICA\", \"MINISTERIO DE AMBIENTE Y ESPACIO PUBLICO/MINISTERIO DE AMBIENTE Y ESPACIO PUBLICO/UPE ECOPARQUE INTERACTIVO DE LA CABA\", \"MINISTERIO DE AMBIENTE Y ESPACIO PUBLICO/AGENCIA AMBIENTAL/DIRECCION GENERAL DE CONTROL\", \"MINISTERIO DE AMBIENTE Y ESPACIO PUBLICO/MINISTERIO DE AMBIENTE Y ESPACIO PUBLICO/DIRECCION GENERAL CONTROL DE GESTION\", \"MINISTERIO DE AMBIENTE Y ESPACIO PUBLICO/MINISTERIO DE AMBIENTE Y ESPACIO PUBLICO/DIRECCION GENERAL CONTROL DE GESTION\", \"MINISTERIO DE ESPACIO PUBLICO E HIGIENE URBANA/MINISTERIO DE ESPACIO PUBLICO E HIGIENE URBANA/DIRECCION GENERAL CONTROL DE GESTION\", \"MINISTERIO DE AMBIENTE Y ESPACIO PUBLICO/MINISTERIO DE AMBIENTE Y ESPACIO PUBLICO/DIRECCION GENERAL DE LIMPIEZA\", \"MINISTERIO DE AMBIENTE Y ESPACIO PUBLICO/MINISTERIO DE AMBIENTE Y ESPACIO PUBLICO/DIRECCION GENERAL INSPECCION DE HIGIENE URBANA\", \"MINISTERIO DE AMBIENTE Y ESPACIO PUBLICO/MINISTERIO DE AMBIENTE Y ESPACIO PUBLICO/SUBSECRETARIA DE HIGIENE URBANA\", \"MINISTERIO DE AMBIENTE Y ESPACIO PUBLICO/MINISTERIO DE AMBIENTE Y ESPACIO PUBLICO/DIRECCION GENERAL DE LIMPIEZA\", \"MINISTERIO DE ESPACIO PUBLICO E HIGIENE URBANA/MINISTERIO DE ESPACIO PUBLICO E HIGIENE URBANA/DIRECCION GENERAL DE LIMPIEZA\", \"MINISTERIO DE AMBIENTE Y ESPACIO PUBLICO/MINISTERIO DE AMBIENTE Y ESPACIO PUBLICO/DIRECCION GENERAL INSPECCION DE HIGIENE URBANA\", \"MINISTERIO DE AMBIENTE Y ESPACIO PUBLICO/MINISTERIO DE AMBIENTE Y ESPACIO PUBLICO/DIRECCION GENERAL DE ESPACIOS VERDES\", \"MINISTERIO DE AMBIENTE Y ESPACIO PUBLICO/AGENCIA AMBIENTAL/DIRECCION GENERAL ESTRATEGIAS AMBIENTALES\", \"MINISTERIO DE AMBIENTE Y ESPACIO PUBLICO/AGENCIA AMBIENTAL/DIRECCION GENERAL POLITICA Y ESTRATEGIA AMBIENTAL\", \"MINISTERIO DE AMBIENTE Y ESPACIO PUBLICO/AGENCIA AMBIENTAL/DIRECCION GENERAL DE EVALUACION AMBIENTAL\", \"MINISTERIO DE AMBIENTE Y ESPACIO PUBLICO/AGENCIA AMBIENTAL/DIRECCION GENERAL DE EVALUACION TECNICA\", \"MINISTERIO DE AMBIENTE Y ESPACIO PUBLICO/AGENCIA AMBIENTAL/AGENCIA AMBIENTAL\", \"MINISTERIO DE AMBIENTE Y ESPACIO PUBLICO/AGENCIA AMBIENTAL/AGENCIA AMBIENTAL\", \"MINISTERIO DE AMBIENTE Y ESPACIO PUBLICO/AGENCIA AMBIENTAL/DIRECCION GENERAL DE CONTROL\", \"MINISTERIO DE AMBIENTE Y ESPACIO PUBLICO/AGENCIA AMBIENTAL/DIRECCION GENERAL DE EVALUACION TECNICA\", \"MINISTERIO DE AMBIENTE Y ESPACIO PUBLICO/MINISTERIO DE AMBIENTE Y ESPACIO PUBLICO/MINISTERIO AMBIENTE Y ESPACIO PUBLICO\", \"MINISTERIO DE AMBIENTE Y ESPACIO PUBLICO/MINISTERIO DE AMBIENTE Y ESPACIO PUBLICO/DIRECCION GENERAL OBRAS REGENERACION URBANA\", \"MINISTERIO DE AMBIENTE Y ESPACIO PUBLICO/AGENCIA AMBIENTAL/DIRECCION GENERAL ESTRATEGIAS AMBIENTALES\", \"MINISTERIO DE AMBIENTE Y ESPACIO PUBLICO/MINISTERIO DE AMBIENTE Y ESPACIO PUBLICO/DIRECCION GENERAL PLANIFICACION Y PRESUPUESTO\", \"MINISTERIO DE AMBIENTE Y ESPACIO PUBLICO/AGENCIA AMBIENTAL/DIRECCION GENERAL DE EVALUACION TECNICA\", \"MINISTERIO DE AMBIENTE Y ESPACIO PUBLICO/AGENCIA AMBIENTAL/DIRECCION GENERAL DE EVALUACION TECNICA\", \"MINISTERIO DE AMBIENTE Y ESPACIO PUBLICO/AGENCIA AMBIENTAL/DIRECCION GENERAL POLITICA Y ESTRATEGIA AMBIENTAL\", \"MINISTERIO DE AMBIENTE Y ESPACIO PUBLICO/AGENCIA AMBIENTAL/DIRECCION GENERAL POLITICA Y ESTRATEGIA AMBIENTAL\", \"MINISTERIO DE AMBIENTE Y ESPACIO PUBLICO/AGENCIA AMBIENTAL/DIRECCION GENERAL POLITICA Y ESTRATEGIA AMBIENTAL\", \"MINISTERIO DE AMBIENTE Y ESPACIO PUBLICO/AGENCIA AMBIENTAL/AGENCIA AMBIENTAL\", \"MINISTERIO DE AMBIENTE Y ESPACIO PUBLICO/AGENCIA AMBIENTAL/DIRECCION GENERAL ESTRATEGIAS AMBIENTALES\", \"MINISTERIO DE AMBIENTE Y ESPACIO PUBLICO/MINISTERIO DE AMBIENTE Y ESPACIO PUBLICO/DIRECCION GENERAL DE RECICLADO\", \"MINISTERIO DE AMBIENTE Y ESPACIO PUBLICO/ENTE DE HIGIENE URBANA/ENTE DE HIGIENE URBANA\", \"MINISTERIO DE AMBIENTE Y ESPACIO PUBLICO/AGENCIA AMBIENTAL/AGENCIA AMBIENTAL\", \"MINISTERIO DE AMBIENTE Y ESPACIO PUBLICO/AGENCIA AMBIENTAL/DIRECCION GENERAL DE CONTROL\", \"MINISTERIO DE AMBIENTE Y ESPACIO PUBLICO/MINISTERIO DE AMBIENTE Y ESPACIO PUBLICO/DIRECCION GENERAL REGENERACION URBANA\", \"MINISTERIO DE AMBIENTE Y ESPACIO PUBLICO/AGENCIA AMBIENTAL/AGENCIA AMBIENTAL\", \"MINISTERIO DE AMBIENTE Y ESPACIO PUBLICO/MINISTERIO DE AMBIENTE Y ESPACIO PUBLICO/MINISTERIO AMBIENTE Y ESPACIO PUBLICO\", \"MINISTERIO DE AMBIENTE Y ESPACIO PUBLICO/MINISTERIO DE AMBIENTE Y ESPACIO PUBLICO/DIRECCION GENERAL DE LIMPIEZA\", \"MINISTERIO DE AMBIENTE Y ESPACIO PUBLICO/MINISTERIO DE AMBIENTE Y ESPACIO PUBLICO/DIRECCION GENERAL TECNICO ADMINISTRATIVA Y LEGAL\", \"MINISTERIO DE AMBIENTE Y ESPACIO PUBLICO/MINISTERIO DE AMBIENTE Y ESPACIO PUBLICO/DIRECCION GENERAL TRATAMIENTO Y NUEVAS TECNOLOGIAS\", \"MINISTERIO DE AMBIENTE Y ESPACIO PUBLICO/AGENCIA AMBIENTAL\", \"MINISTERIO DE AMBIENTE Y ESPACIO PUBLICO/MINISTERIO DE AMBIENTE Y ESPACIO PUBLICO\", \"MINISTERIO DE ESPACIO PUBLICO E HIGIENE URBANA/MINISTERIO DE ESPACIO PUBLICO E HIGIENE URBANA\", \"MINISTERIO DE AMBIENTE Y ESPACIO PUBLICO/MINISTERIO DE AMBIENTE Y ESPACIO PUBLICO\", \"MINISTERIO DE AMBIENTE Y ESPACIO PUBLICO/AGENCIA AMBIENTAL\", \"MINISTERIO DE AMBIENTE Y ESPACIO PUBLICO/MINISTERIO DE AMBIENTE Y ESPACIO PUBLICO\", \"MINISTERIO DE AMBIENTE Y ESPACIO PUBLICO/AGENCIA AMBIENTAL\", \"MINISTERIO DE AMBIENTE Y ESPACIO PUBLICO/AGENCIA AMBIENTAL\", \"MINISTERIO DE AMBIENTE Y ESPACIO PUBLICO/MINISTERIO DE AMBIENTE Y ESPACIO PUBLICO\", \"MINISTERIO DE ESPACIO PUBLICO E HIGIENE URBANA/MINISTERIO DE ESPACIO PUBLICO E HIGIENE URBANA\", \"MINISTERIO DE AMBIENTE Y ESPACIO PUBLICO/MINISTERIO DE AMBIENTE Y ESPACIO PUBLICO\", \"MINISTERIO DE AMBIENTE Y ESPACIO PUBLICO/AGENCIA AMBIENTAL\", \"MINISTERIO DE AMBIENTE Y ESPACIO PUBLICO/MINISTERIO DE AMBIENTE Y ESPACIO PUBLICO\", \"MINISTERIO DE AMBIENTE Y ESPACIO PUBLICO/MINISTERIO DE AMBIENTE Y ESPACIO PUBLICO\", \"MINISTERIO DE AMBIENTE Y ESPACIO PUBLICO/MINISTERIO DE AMBIENTE Y ESPACIO PUBLICO\", \"MINISTERIO DE AMBIENTE Y ESPACIO PUBLICO/AGENCIA AMBIENTAL\", \"MINISTERIO DE AMBIENTE Y ESPACIO PUBLICO/MINISTERIO DE AMBIENTE Y ESPACIO PUBLICO\", \"MINISTERIO DE AMBIENTE Y ESPACIO PUBLICO/MINISTERIO DE AMBIENTE Y ESPACIO PUBLICO\", \"MINISTERIO DE ESPACIO PUBLICO E HIGIENE URBANA/MINISTERIO DE ESPACIO PUBLICO E HIGIENE URBANA\", \"MINISTERIO DE AMBIENTE Y ESPACIO PUBLICO/MINISTERIO DE AMBIENTE Y ESPACIO PUBLICO\", \"MINISTERIO DE AMBIENTE Y ESPACIO PUBLICO/ENTE DE HIGIENE URBANA\", \"MINISTERIO DE ESPACIO PUBLICO E HIGIENE URBANA/MINISTERIO DE ESPACIO PUBLICO E HIGIENE URBANA\", \"MINISTERIO DE AMBIENTE Y ESPACIO PUBLICO/MINISTERIO DE AMBIENTE Y ESPACIO PUBLICO\", \"MINISTERIO DE AMBIENTE Y ESPACIO PUBLICO/MINISTERIO DE AMBIENTE Y ESPACIO PUBLICO\", \"MINISTERIO DE ESPACIO PUBLICO E HIGIENE URBANA/MINISTERIO DE ESPACIO PUBLICO E HIGIENE URBANA\", \"MINISTERIO DE AMBIENTE Y ESPACIO PUBLICO/MINISTERIO DE AMBIENTE Y ESPACIO PUBLICO\", \"MINISTERIO DE AMBIENTE Y ESPACIO PUBLICO/MINISTERIO DE AMBIENTE Y ESPACIO PUBLICO\", \"MINISTERIO DE ESPACIO PUBLICO E HIGIENE URBANA/MINISTERIO DE ESPACIO PUBLICO E HIGIENE URBANA\", \"MINISTERIO DE AMBIENTE Y ESPACIO PUBLICO/MINISTERIO DE AMBIENTE Y ESPACIO PUBLICO\", \"MINISTERIO DE AMBIENTE Y ESPACIO PUBLICO\", \"MINISTERIO DE AMBIENTE Y ESPACIO PUBLICO\", \"MINISTERIO DE AMBIENTE Y ESPACIO PUBLICO\", \"MINISTERIO DE ESPACIO PUBLICO E HIGIENE URBANA\", \"\", \"\"], \"textinfo\": \"percent entry\", \"type\": \"sunburst\", \"values\": [4050000.0, 155469540.0, 12607967.0, 780000.0, 14306339.0, 338990674.0, 48824258.0, 32563320.0, 1985095408.0, 53769640.0, 31815766.0, 2500000.0, 71934769.0, 114924782.0, 141102216.0, 196058650.0, 97683911.0, 14223403.0, 7784721.0, 31645849.0, 2703920.0, 5518389.0, 36647045.0, 21695218.0, 29399762.0, 4243715.0, 5000000.0, 700000.0, 74869104.0, 45065786.0, 74315592.0, 815100.0, 2943880.0, 10706585.0, 800000.0, 10000000.0, 5950000.0, 69419600.0, 2867774.0, 1993859.0, 235009468.0, 2527400.0, 418670997.0, 19242300.0, 165743542.0, 50698964.0, 24924701.0, 83641483.0, 3276000.0, 322995646.0, 149233977.0, 27455532.0, 60000.0, 400000.0, 7303552.0, 16600001.0, 1333023236.0, 49100000.0, 3500000.0, 1800000.0, 1200000.0, 203036000.0, 10060000.0, 96277865.0, 65276312.0, 99837165.0, 87077581.0, 22317359.0, 500000.0, 164000010.0, 140214401.0, 36096324.0, 4000000.0, 53348816.0, 2957515.0, 7252834.0, 14900000.0, 13500000.0, 169731781.0, 102530490.0, 1000006.0, 106286583.0, 1719000.0, 6153946.0, 5940950.0, 14990880.0, 19755999.0, 8025542.0, 6890776.0, 19929965.0, 14731026.0, 15841445.0, 9220000.0, 1800000.0, 800000.0, 10000000.0, 200000.0, 36495055.0, 4499450.0, 10000000.0, 687440.0, 400000.0, 14766225.0, 3549635.0, 1680000.0, 4000000.0, 15000000.0, 780000.0, 600000.0, 102519367.0, 186964798.0, 35960184.0, 10000000.0, 66531500.0, 50000000.0, 3580602639.0, 248558473.0, 14306339.0, 338990674.0, 54264258.0, 32563320.0, 1985095408.0, 58769640.0, 31815766.0, 2500000.0, 235934779.0, 114924782.0, 141102216.0, 196058650.0, 97683911.0, 14923403.0, 7784721.0, 31645849.0, 2703920.0, 5518389.0, 36647045.0, 21695218.0, 29399762.0, 4243715.0, 222387057.0, 45065786.0, 74315592.0, 815100.0, 2943880.0, 10706585.0, 10000000.0, 5950000.0, 21767774.0, 1993859.0, 23500000.0, 341296051.0, 418670997.0, 19242300.0, 165743542.0, 50698964.0, 24924701.0, 85441483.0, 3276000.0, 322995646.0, 149233977.0, 27455532.0, 5527707421.0, 119725305.0, 65276312.0, 99837165.0, 87077581.0, 31537359.0, 36096324.0, 53348816.0, 2957515.0, 15000000.0, 1719000.0, 7753946.0, 5940950.0, 14990880.0, 19755999.0, 8025542.0, 6890776.0, 19929965.0, 14731026.0, 15841445.0, 109964655.0, 4499450.0, 24826225.0, 3549635.0, 1000006.0, 102519367.0, 35960184.0, 547997738.0, 66531500.0, 50000000.0, 951768255.0, 184985842.0, 50698964.0, 222387057.0, 489875787.0, 5527707421.0, 101831024.0, 149097075.0, 895918085.0, 149233977.0, 109964655.0, 152214576.0, 112897015.0, 1719000.0, 5940950.0, 110829180.0, 1000006.0, 111597286.0, 74315592.0, 50000000.0, 4499450.0, 338990674.0, 2036055592.0, 31815766.0, 235934779.0, 2500000.0, 113514857.0, 29399762.0, 341296051.0, 1955615897.0, 4499450.0, 9749299583.0, 878573748.0, 11709414930.0, 878573748.0]}],\n",
       "                        {\"legend\": {\"tracegroupgap\": 0}, \"margin\": {\"t\": 60}, \"template\": {\"data\": {\"bar\": [{\"error_x\": {\"color\": \"#2a3f5f\"}, \"error_y\": {\"color\": \"#2a3f5f\"}, \"marker\": {\"line\": {\"color\": \"#E5ECF6\", \"width\": 0.5}}, \"type\": \"bar\"}], \"barpolar\": [{\"marker\": {\"line\": {\"color\": \"#E5ECF6\", \"width\": 0.5}}, \"type\": \"barpolar\"}], \"carpet\": [{\"aaxis\": {\"endlinecolor\": \"#2a3f5f\", \"gridcolor\": \"white\", \"linecolor\": \"white\", \"minorgridcolor\": \"white\", \"startlinecolor\": \"#2a3f5f\"}, \"baxis\": {\"endlinecolor\": \"#2a3f5f\", \"gridcolor\": \"white\", \"linecolor\": \"white\", \"minorgridcolor\": \"white\", \"startlinecolor\": \"#2a3f5f\"}, \"type\": \"carpet\"}], \"choropleth\": [{\"colorbar\": {\"outlinewidth\": 0, \"ticks\": \"\"}, \"type\": \"choropleth\"}], \"contour\": [{\"colorbar\": {\"outlinewidth\": 0, \"ticks\": \"\"}, \"colorscale\": [[0.0, \"#0d0887\"], [0.1111111111111111, \"#46039f\"], [0.2222222222222222, \"#7201a8\"], [0.3333333333333333, \"#9c179e\"], [0.4444444444444444, \"#bd3786\"], [0.5555555555555556, \"#d8576b\"], [0.6666666666666666, \"#ed7953\"], [0.7777777777777778, \"#fb9f3a\"], [0.8888888888888888, \"#fdca26\"], [1.0, \"#f0f921\"]], \"type\": \"contour\"}], \"contourcarpet\": [{\"colorbar\": {\"outlinewidth\": 0, \"ticks\": \"\"}, \"type\": \"contourcarpet\"}], \"heatmap\": [{\"colorbar\": {\"outlinewidth\": 0, \"ticks\": \"\"}, \"colorscale\": [[0.0, \"#0d0887\"], [0.1111111111111111, \"#46039f\"], [0.2222222222222222, \"#7201a8\"], [0.3333333333333333, \"#9c179e\"], [0.4444444444444444, \"#bd3786\"], [0.5555555555555556, \"#d8576b\"], [0.6666666666666666, \"#ed7953\"], [0.7777777777777778, \"#fb9f3a\"], [0.8888888888888888, \"#fdca26\"], [1.0, \"#f0f921\"]], \"type\": \"heatmap\"}], \"heatmapgl\": [{\"colorbar\": {\"outlinewidth\": 0, \"ticks\": \"\"}, \"colorscale\": [[0.0, \"#0d0887\"], [0.1111111111111111, \"#46039f\"], [0.2222222222222222, \"#7201a8\"], [0.3333333333333333, \"#9c179e\"], [0.4444444444444444, \"#bd3786\"], [0.5555555555555556, \"#d8576b\"], [0.6666666666666666, \"#ed7953\"], [0.7777777777777778, \"#fb9f3a\"], [0.8888888888888888, \"#fdca26\"], [1.0, \"#f0f921\"]], \"type\": \"heatmapgl\"}], \"histogram\": [{\"marker\": {\"colorbar\": {\"outlinewidth\": 0, \"ticks\": \"\"}}, \"type\": \"histogram\"}], \"histogram2d\": [{\"colorbar\": {\"outlinewidth\": 0, \"ticks\": \"\"}, \"colorscale\": [[0.0, \"#0d0887\"], [0.1111111111111111, \"#46039f\"], [0.2222222222222222, \"#7201a8\"], [0.3333333333333333, \"#9c179e\"], [0.4444444444444444, \"#bd3786\"], [0.5555555555555556, \"#d8576b\"], [0.6666666666666666, \"#ed7953\"], [0.7777777777777778, \"#fb9f3a\"], [0.8888888888888888, \"#fdca26\"], [1.0, \"#f0f921\"]], \"type\": \"histogram2d\"}], \"histogram2dcontour\": [{\"colorbar\": {\"outlinewidth\": 0, \"ticks\": \"\"}, \"colorscale\": [[0.0, \"#0d0887\"], [0.1111111111111111, \"#46039f\"], [0.2222222222222222, \"#7201a8\"], [0.3333333333333333, \"#9c179e\"], [0.4444444444444444, \"#bd3786\"], [0.5555555555555556, \"#d8576b\"], [0.6666666666666666, \"#ed7953\"], [0.7777777777777778, \"#fb9f3a\"], [0.8888888888888888, \"#fdca26\"], [1.0, \"#f0f921\"]], \"type\": \"histogram2dcontour\"}], \"mesh3d\": [{\"colorbar\": {\"outlinewidth\": 0, \"ticks\": \"\"}, \"type\": \"mesh3d\"}], \"parcoords\": [{\"line\": {\"colorbar\": {\"outlinewidth\": 0, \"ticks\": \"\"}}, \"type\": \"parcoords\"}], \"pie\": [{\"automargin\": true, \"type\": \"pie\"}], \"scatter\": [{\"marker\": {\"colorbar\": {\"outlinewidth\": 0, \"ticks\": \"\"}}, \"type\": \"scatter\"}], \"scatter3d\": [{\"line\": {\"colorbar\": {\"outlinewidth\": 0, \"ticks\": \"\"}}, \"marker\": {\"colorbar\": {\"outlinewidth\": 0, \"ticks\": \"\"}}, \"type\": \"scatter3d\"}], \"scattercarpet\": [{\"marker\": {\"colorbar\": {\"outlinewidth\": 0, \"ticks\": \"\"}}, \"type\": \"scattercarpet\"}], \"scattergeo\": [{\"marker\": {\"colorbar\": {\"outlinewidth\": 0, \"ticks\": \"\"}}, \"type\": \"scattergeo\"}], \"scattergl\": [{\"marker\": {\"colorbar\": {\"outlinewidth\": 0, \"ticks\": \"\"}}, \"type\": \"scattergl\"}], \"scattermapbox\": [{\"marker\": {\"colorbar\": {\"outlinewidth\": 0, \"ticks\": \"\"}}, \"type\": \"scattermapbox\"}], \"scatterpolar\": [{\"marker\": {\"colorbar\": {\"outlinewidth\": 0, \"ticks\": \"\"}}, \"type\": \"scatterpolar\"}], \"scatterpolargl\": [{\"marker\": {\"colorbar\": {\"outlinewidth\": 0, \"ticks\": \"\"}}, \"type\": \"scatterpolargl\"}], \"scatterternary\": [{\"marker\": {\"colorbar\": {\"outlinewidth\": 0, \"ticks\": \"\"}}, \"type\": \"scatterternary\"}], \"surface\": [{\"colorbar\": {\"outlinewidth\": 0, \"ticks\": \"\"}, \"colorscale\": [[0.0, \"#0d0887\"], [0.1111111111111111, \"#46039f\"], [0.2222222222222222, \"#7201a8\"], [0.3333333333333333, \"#9c179e\"], [0.4444444444444444, \"#bd3786\"], [0.5555555555555556, \"#d8576b\"], [0.6666666666666666, \"#ed7953\"], [0.7777777777777778, \"#fb9f3a\"], [0.8888888888888888, \"#fdca26\"], [1.0, \"#f0f921\"]], \"type\": \"surface\"}], \"table\": [{\"cells\": {\"fill\": {\"color\": \"#EBF0F8\"}, \"line\": {\"color\": \"white\"}}, \"header\": {\"fill\": {\"color\": \"#C8D4E3\"}, \"line\": {\"color\": \"white\"}}, \"type\": \"table\"}]}, \"layout\": {\"annotationdefaults\": {\"arrowcolor\": \"#2a3f5f\", \"arrowhead\": 0, \"arrowwidth\": 1}, \"coloraxis\": {\"colorbar\": {\"outlinewidth\": 0, \"ticks\": \"\"}}, \"colorscale\": {\"diverging\": [[0, \"#8e0152\"], [0.1, \"#c51b7d\"], [0.2, \"#de77ae\"], [0.3, \"#f1b6da\"], [0.4, \"#fde0ef\"], [0.5, \"#f7f7f7\"], [0.6, \"#e6f5d0\"], [0.7, \"#b8e186\"], [0.8, \"#7fbc41\"], [0.9, \"#4d9221\"], [1, \"#276419\"]], \"sequential\": [[0.0, \"#0d0887\"], [0.1111111111111111, \"#46039f\"], [0.2222222222222222, \"#7201a8\"], [0.3333333333333333, \"#9c179e\"], [0.4444444444444444, \"#bd3786\"], [0.5555555555555556, \"#d8576b\"], [0.6666666666666666, \"#ed7953\"], [0.7777777777777778, \"#fb9f3a\"], [0.8888888888888888, \"#fdca26\"], [1.0, \"#f0f921\"]], \"sequentialminus\": [[0.0, \"#0d0887\"], [0.1111111111111111, \"#46039f\"], [0.2222222222222222, \"#7201a8\"], [0.3333333333333333, \"#9c179e\"], [0.4444444444444444, \"#bd3786\"], [0.5555555555555556, \"#d8576b\"], [0.6666666666666666, \"#ed7953\"], [0.7777777777777778, \"#fb9f3a\"], [0.8888888888888888, \"#fdca26\"], [1.0, \"#f0f921\"]]}, \"colorway\": [\"#636efa\", \"#EF553B\", \"#00cc96\", \"#ab63fa\", \"#FFA15A\", \"#19d3f3\", \"#FF6692\", \"#B6E880\", \"#FF97FF\", \"#FECB52\"], \"font\": {\"color\": \"#2a3f5f\"}, \"geo\": {\"bgcolor\": \"white\", \"lakecolor\": \"white\", \"landcolor\": \"#E5ECF6\", \"showlakes\": true, \"showland\": true, \"subunitcolor\": \"white\"}, \"hoverlabel\": {\"align\": \"left\"}, \"hovermode\": \"closest\", \"mapbox\": {\"style\": \"light\"}, \"paper_bgcolor\": \"white\", \"plot_bgcolor\": \"#E5ECF6\", \"polar\": {\"angularaxis\": {\"gridcolor\": \"white\", \"linecolor\": \"white\", \"ticks\": \"\"}, \"bgcolor\": \"#E5ECF6\", \"radialaxis\": {\"gridcolor\": \"white\", \"linecolor\": \"white\", \"ticks\": \"\"}}, \"scene\": {\"xaxis\": {\"backgroundcolor\": \"#E5ECF6\", \"gridcolor\": \"white\", \"gridwidth\": 2, \"linecolor\": \"white\", \"showbackground\": true, \"ticks\": \"\", \"zerolinecolor\": \"white\"}, \"yaxis\": {\"backgroundcolor\": \"#E5ECF6\", \"gridcolor\": \"white\", \"gridwidth\": 2, \"linecolor\": \"white\", \"showbackground\": true, \"ticks\": \"\", \"zerolinecolor\": \"white\"}, \"zaxis\": {\"backgroundcolor\": \"#E5ECF6\", \"gridcolor\": \"white\", \"gridwidth\": 2, \"linecolor\": \"white\", \"showbackground\": true, \"ticks\": \"\", \"zerolinecolor\": \"white\"}}, \"shapedefaults\": {\"line\": {\"color\": \"#2a3f5f\"}}, \"ternary\": {\"aaxis\": {\"gridcolor\": \"white\", \"linecolor\": \"white\", \"ticks\": \"\"}, \"baxis\": {\"gridcolor\": \"white\", \"linecolor\": \"white\", \"ticks\": \"\"}, \"bgcolor\": \"#E5ECF6\", \"caxis\": {\"gridcolor\": \"white\", \"linecolor\": \"white\", \"ticks\": \"\"}}, \"title\": {\"x\": 0.05}, \"xaxis\": {\"automargin\": true, \"gridcolor\": \"white\", \"linecolor\": \"white\", \"ticks\": \"\", \"title\": {\"standoff\": 15}, \"zerolinecolor\": \"white\", \"zerolinewidth\": 2}, \"yaxis\": {\"automargin\": true, \"gridcolor\": \"white\", \"linecolor\": \"white\", \"ticks\": \"\", \"title\": {\"standoff\": 15}, \"zerolinecolor\": \"white\", \"zerolinewidth\": 2}}}},\n",
       "                        {\"responsive\": true}\n",
       "                    ).then(function(){\n",
       "                            \n",
       "var gd = document.getElementById('807d3aa6-acd8-4984-941e-378ed5bbf5c3');\n",
       "var x = new MutationObserver(function (mutations, observer) {{\n",
       "        var display = window.getComputedStyle(gd).display;\n",
       "        if (!display || display === 'none') {{\n",
       "            console.log([gd, 'removed!']);\n",
       "            Plotly.purge(gd);\n",
       "            observer.disconnect();\n",
       "        }}\n",
       "}});\n",
       "\n",
       "// Listen for the removal of the full notebook cells\n",
       "var notebookContainer = gd.closest('#notebook-container');\n",
       "if (notebookContainer) {{\n",
       "    x.observe(notebookContainer, {childList: true});\n",
       "}}\n",
       "\n",
       "// Listen for the clearing of the current output cell\n",
       "var outputEl = gd.closest('.output');\n",
       "if (outputEl) {{\n",
       "    x.observe(outputEl, {childList: true});\n",
       "}}\n",
       "\n",
       "                        })\n",
       "                };\n",
       "                });\n",
       "            </script>\n",
       "        </div>"
      ]
     },
     "metadata": {},
     "output_type": "display_data"
    }
   ],
   "source": [
    "fig = px.sunburst(ecologia, \n",
    "                  path=['JURISDICCION', 'ENTIDAD','UNIDAD_EJECUTORA', 'PROGRAMA','PROYECTO',],\n",
    "                  values='SANCION', ids=None,\n",
    "#                   width=1200, height=700,\n",
    "                  maxdepth=10,\n",
    "          \n",
    "                  hover_data=['JURISDICCION', 'ENTIDAD','UNIDAD_EJECUTORA', 'PROGRAMA','PROYECTO',],\n",
    "                 )\n",
    "\n",
    "# fig = fig.update_traces(textinfo='label+percent entry')\n",
    "fig = fig.update_traces(textinfo='percent entry')\n",
    "\n",
    "template = \"\"\"<b>%{label}</b> <br>$%{value:,.0f}</b> \n",
    "            <br>\n",
    "                <br>JURISDICCION: %{customdata[0]}</b>\n",
    "                <br>UNIDAD_EJECUTORA: %{customdata[2]}</b> \n",
    "                <br>\n",
    "                    <br>PROGRAMA: %{customdata[3]}</b> \n",
    "                    <br>PROYECTO: %{customdata[4]}</b>\n",
    "                </b>\n",
    "            </b> \"\"\"\n",
    "\n",
    "fig = fig.update_traces(\n",
    "        \n",
    "        go.Sunburst(\n",
    "        hovertemplate=template,\n",
    "        insidetextorientation='radial',       \n",
    "    ))\n",
    "\n",
    "# fig.write_html('sunburst_cause_deads.html')\n",
    "fig.show()"
   ]
  },
  {
   "cell_type": "code",
   "execution_count": 111,
   "metadata": {},
   "outputs": [
    {
     "data": {
      "text/html": [
       "<div>\n",
       "<style scoped>\n",
       "    .dataframe tbody tr th:only-of-type {\n",
       "        vertical-align: middle;\n",
       "    }\n",
       "\n",
       "    .dataframe tbody tr th {\n",
       "        vertical-align: top;\n",
       "    }\n",
       "\n",
       "    .dataframe thead th {\n",
       "        text-align: right;\n",
       "    }\n",
       "</style>\n",
       "<table border=\"1\" class=\"dataframe\">\n",
       "  <thead>\n",
       "    <tr style=\"text-align: right;\">\n",
       "      <th></th>\n",
       "      <th>CARACTER</th>\n",
       "      <th>JURISDICCION</th>\n",
       "      <th>ENTIDAD</th>\n",
       "      <th>UNIDAD_EJECUTORA</th>\n",
       "      <th>PROGRAMA</th>\n",
       "      <th>PROYECTO</th>\n",
       "      <th>ACTIVIDAD</th>\n",
       "      <th>OBRA</th>\n",
       "      <th>FINALIDAD</th>\n",
       "      <th>FUNCION</th>\n",
       "      <th>INCISO</th>\n",
       "      <th>PRINCIPAL</th>\n",
       "      <th>PARCIAL</th>\n",
       "      <th>SUBPARCIAL</th>\n",
       "      <th>CLAS_ECONOMICO</th>\n",
       "      <th>FUENTE_FIN</th>\n",
       "      <th>UBICACION_GEOGRAFICA</th>\n",
       "      <th>SANCION</th>\n",
       "      <th>AÑO</th>\n",
       "    </tr>\n",
       "  </thead>\n",
       "  <tbody>\n",
       "    <tr>\n",
       "      <th>154031</th>\n",
       "      <td>ADMINISTRACION CENTRAL</td>\n",
       "      <td>MINISTERIO DE AMBIENTE Y ESPACIO PUBLICO</td>\n",
       "      <td>MINISTERIO DE AMBIENTE Y ESPACIO PUBLICO</td>\n",
       "      <td>MINISTERIO AMBIENTE Y ESPACIO PUBLICO</td>\n",
       "      <td>ACTIVIDADES CENTRALES AMBIENTE Y ESPACIO PUBLICO</td>\n",
       "      <td>ACTIVIDADES CENTRALES AMBIENTE Y ESPACIO PUBLICO</td>\n",
       "      <td>CONDUCCION</td>\n",
       "      <td>CONDUCCION</td>\n",
       "      <td>SERVICIOS ECONOMICOS</td>\n",
       "      <td>ECOLOGIA</td>\n",
       "      <td>GASTOS EN PERSONAL</td>\n",
       "      <td>PERSONAL PERMANENTE</td>\n",
       "      <td>RETRIBUCION DEL CARGO</td>\n",
       "      <td>RETRIBUCION DEL CARGO</td>\n",
       "      <td>REMUNERACIONES AL PERSONAL</td>\n",
       "      <td>TESORO DE LA CIUDAD</td>\n",
       "      <td>COMUNA 1</td>\n",
       "      <td>666520</td>\n",
       "      <td>2010</td>\n",
       "    </tr>\n",
       "    <tr>\n",
       "      <th>154034</th>\n",
       "      <td>ADMINISTRACION CENTRAL</td>\n",
       "      <td>MINISTERIO DE AMBIENTE Y ESPACIO PUBLICO</td>\n",
       "      <td>MINISTERIO DE AMBIENTE Y ESPACIO PUBLICO</td>\n",
       "      <td>MINISTERIO AMBIENTE Y ESPACIO PUBLICO</td>\n",
       "      <td>ACTIVIDADES CENTRALES AMBIENTE Y ESPACIO PUBLICO</td>\n",
       "      <td>ACTIVIDADES CENTRALES AMBIENTE Y ESPACIO PUBLICO</td>\n",
       "      <td>CONDUCCION</td>\n",
       "      <td>CONDUCCION</td>\n",
       "      <td>SERVICIOS ECONOMICOS</td>\n",
       "      <td>ECOLOGIA</td>\n",
       "      <td>GASTOS EN PERSONAL</td>\n",
       "      <td>PERSONAL PERMANENTE</td>\n",
       "      <td>SUELDO ANUAL COMPLEMENTARIO</td>\n",
       "      <td>SUELDO ANUAL COMPLEMENTARIO</td>\n",
       "      <td>REMUNERACIONES AL PERSONAL</td>\n",
       "      <td>TESORO DE LA CIUDAD</td>\n",
       "      <td>COMUNA 1</td>\n",
       "      <td>3980</td>\n",
       "      <td>2010</td>\n",
       "    </tr>\n",
       "    <tr>\n",
       "      <th>154037</th>\n",
       "      <td>ADMINISTRACION CENTRAL</td>\n",
       "      <td>MINISTERIO DE AMBIENTE Y ESPACIO PUBLICO</td>\n",
       "      <td>MINISTERIO DE AMBIENTE Y ESPACIO PUBLICO</td>\n",
       "      <td>MINISTERIO AMBIENTE Y ESPACIO PUBLICO</td>\n",
       "      <td>ACTIVIDADES CENTRALES AMBIENTE Y ESPACIO PUBLICO</td>\n",
       "      <td>ACTIVIDADES CENTRALES AMBIENTE Y ESPACIO PUBLICO</td>\n",
       "      <td>CONDUCCION</td>\n",
       "      <td>CONDUCCION</td>\n",
       "      <td>SERVICIOS ECONOMICOS</td>\n",
       "      <td>ECOLOGIA</td>\n",
       "      <td>GASTOS EN PERSONAL</td>\n",
       "      <td>PERSONAL PERMANENTE</td>\n",
       "      <td>CONTRIBUCIONES PATRONALES</td>\n",
       "      <td>CONTRIBUCIONES PATRONALES</td>\n",
       "      <td>REMUNERACIONES AL PERSONAL</td>\n",
       "      <td>TESORO DE LA CIUDAD</td>\n",
       "      <td>COMUNA 1</td>\n",
       "      <td>8360</td>\n",
       "      <td>2010</td>\n",
       "    </tr>\n",
       "    <tr>\n",
       "      <th>154040</th>\n",
       "      <td>ADMINISTRACION CENTRAL</td>\n",
       "      <td>MINISTERIO DE AMBIENTE Y ESPACIO PUBLICO</td>\n",
       "      <td>MINISTERIO DE AMBIENTE Y ESPACIO PUBLICO</td>\n",
       "      <td>MINISTERIO AMBIENTE Y ESPACIO PUBLICO</td>\n",
       "      <td>ACTIVIDADES CENTRALES AMBIENTE Y ESPACIO PUBLICO</td>\n",
       "      <td>ACTIVIDADES CENTRALES AMBIENTE Y ESPACIO PUBLICO</td>\n",
       "      <td>CONDUCCION</td>\n",
       "      <td>CONDUCCION</td>\n",
       "      <td>SERVICIOS ECONOMICOS</td>\n",
       "      <td>ECOLOGIA</td>\n",
       "      <td>GASTOS EN PERSONAL</td>\n",
       "      <td>PERSONAL PERMANENTE</td>\n",
       "      <td>COMPLEMENTOS</td>\n",
       "      <td>COMPLEMENTOS</td>\n",
       "      <td>REMUNERACIONES AL PERSONAL</td>\n",
       "      <td>TESORO DE LA CIUDAD</td>\n",
       "      <td>COMUNA 1</td>\n",
       "      <td>6000</td>\n",
       "      <td>2010</td>\n",
       "    </tr>\n",
       "    <tr>\n",
       "      <th>154047</th>\n",
       "      <td>ADMINISTRACION CENTRAL</td>\n",
       "      <td>MINISTERIO DE AMBIENTE Y ESPACIO PUBLICO</td>\n",
       "      <td>MINISTERIO DE AMBIENTE Y ESPACIO PUBLICO</td>\n",
       "      <td>MINISTERIO AMBIENTE Y ESPACIO PUBLICO</td>\n",
       "      <td>ACTIVIDADES CENTRALES AMBIENTE Y ESPACIO PUBLICO</td>\n",
       "      <td>ACTIVIDADES CENTRALES AMBIENTE Y ESPACIO PUBLICO</td>\n",
       "      <td>CONDUCCION</td>\n",
       "      <td>CONDUCCION</td>\n",
       "      <td>SERVICIOS ECONOMICOS</td>\n",
       "      <td>ECOLOGIA</td>\n",
       "      <td>GASTOS EN PERSONAL</td>\n",
       "      <td>ASISTENCIA SOCIAL AL PERSONAL</td>\n",
       "      <td>SEGUROS DE RIESGO DE TRABAJO</td>\n",
       "      <td>SEGUROS DE RIESGO DE TRABAJO</td>\n",
       "      <td>REMUNERACIONES AL PERSONAL</td>\n",
       "      <td>TESORO DE LA CIUDAD</td>\n",
       "      <td>COMUNA 1</td>\n",
       "      <td>9670</td>\n",
       "      <td>2010</td>\n",
       "    </tr>\n",
       "  </tbody>\n",
       "</table>\n",
       "</div>"
      ],
      "text/plain": [
       "                      CARACTER                              JURISDICCION  \\\n",
       "154031  ADMINISTRACION CENTRAL  MINISTERIO DE AMBIENTE Y ESPACIO PUBLICO   \n",
       "154034  ADMINISTRACION CENTRAL  MINISTERIO DE AMBIENTE Y ESPACIO PUBLICO   \n",
       "154037  ADMINISTRACION CENTRAL  MINISTERIO DE AMBIENTE Y ESPACIO PUBLICO   \n",
       "154040  ADMINISTRACION CENTRAL  MINISTERIO DE AMBIENTE Y ESPACIO PUBLICO   \n",
       "154047  ADMINISTRACION CENTRAL  MINISTERIO DE AMBIENTE Y ESPACIO PUBLICO   \n",
       "\n",
       "                                         ENTIDAD  \\\n",
       "154031  MINISTERIO DE AMBIENTE Y ESPACIO PUBLICO   \n",
       "154034  MINISTERIO DE AMBIENTE Y ESPACIO PUBLICO   \n",
       "154037  MINISTERIO DE AMBIENTE Y ESPACIO PUBLICO   \n",
       "154040  MINISTERIO DE AMBIENTE Y ESPACIO PUBLICO   \n",
       "154047  MINISTERIO DE AMBIENTE Y ESPACIO PUBLICO   \n",
       "\n",
       "                             UNIDAD_EJECUTORA  \\\n",
       "154031  MINISTERIO AMBIENTE Y ESPACIO PUBLICO   \n",
       "154034  MINISTERIO AMBIENTE Y ESPACIO PUBLICO   \n",
       "154037  MINISTERIO AMBIENTE Y ESPACIO PUBLICO   \n",
       "154040  MINISTERIO AMBIENTE Y ESPACIO PUBLICO   \n",
       "154047  MINISTERIO AMBIENTE Y ESPACIO PUBLICO   \n",
       "\n",
       "                                                PROGRAMA  \\\n",
       "154031  ACTIVIDADES CENTRALES AMBIENTE Y ESPACIO PUBLICO   \n",
       "154034  ACTIVIDADES CENTRALES AMBIENTE Y ESPACIO PUBLICO   \n",
       "154037  ACTIVIDADES CENTRALES AMBIENTE Y ESPACIO PUBLICO   \n",
       "154040  ACTIVIDADES CENTRALES AMBIENTE Y ESPACIO PUBLICO   \n",
       "154047  ACTIVIDADES CENTRALES AMBIENTE Y ESPACIO PUBLICO   \n",
       "\n",
       "                                                PROYECTO   ACTIVIDAD  \\\n",
       "154031  ACTIVIDADES CENTRALES AMBIENTE Y ESPACIO PUBLICO  CONDUCCION   \n",
       "154034  ACTIVIDADES CENTRALES AMBIENTE Y ESPACIO PUBLICO  CONDUCCION   \n",
       "154037  ACTIVIDADES CENTRALES AMBIENTE Y ESPACIO PUBLICO  CONDUCCION   \n",
       "154040  ACTIVIDADES CENTRALES AMBIENTE Y ESPACIO PUBLICO  CONDUCCION   \n",
       "154047  ACTIVIDADES CENTRALES AMBIENTE Y ESPACIO PUBLICO  CONDUCCION   \n",
       "\n",
       "              OBRA             FINALIDAD   FUNCION              INCISO  \\\n",
       "154031  CONDUCCION  SERVICIOS ECONOMICOS  ECOLOGIA  GASTOS EN PERSONAL   \n",
       "154034  CONDUCCION  SERVICIOS ECONOMICOS  ECOLOGIA  GASTOS EN PERSONAL   \n",
       "154037  CONDUCCION  SERVICIOS ECONOMICOS  ECOLOGIA  GASTOS EN PERSONAL   \n",
       "154040  CONDUCCION  SERVICIOS ECONOMICOS  ECOLOGIA  GASTOS EN PERSONAL   \n",
       "154047  CONDUCCION  SERVICIOS ECONOMICOS  ECOLOGIA  GASTOS EN PERSONAL   \n",
       "\n",
       "                            PRINCIPAL                       PARCIAL  \\\n",
       "154031  PERSONAL PERMANENTE            RETRIBUCION DEL CARGO          \n",
       "154034  PERSONAL PERMANENTE            SUELDO ANUAL COMPLEMENTARIO    \n",
       "154037  PERSONAL PERMANENTE            CONTRIBUCIONES PATRONALES      \n",
       "154040  PERSONAL PERMANENTE            COMPLEMENTOS                   \n",
       "154047  ASISTENCIA SOCIAL AL PERSONAL  SEGUROS DE RIESGO DE TRABAJO   \n",
       "\n",
       "                          SUBPARCIAL              CLAS_ECONOMICO  \\\n",
       "154031  RETRIBUCION DEL CARGO         REMUNERACIONES AL PERSONAL   \n",
       "154034  SUELDO ANUAL COMPLEMENTARIO   REMUNERACIONES AL PERSONAL   \n",
       "154037  CONTRIBUCIONES PATRONALES     REMUNERACIONES AL PERSONAL   \n",
       "154040  COMPLEMENTOS                  REMUNERACIONES AL PERSONAL   \n",
       "154047  SEGUROS DE RIESGO DE TRABAJO  REMUNERACIONES AL PERSONAL   \n",
       "\n",
       "                 FUENTE_FIN UBICACION_GEOGRAFICA SANCION   AÑO  \n",
       "154031  TESORO DE LA CIUDAD  COMUNA 1             666520  2010  \n",
       "154034  TESORO DE LA CIUDAD  COMUNA 1             3980    2010  \n",
       "154037  TESORO DE LA CIUDAD  COMUNA 1             8360    2010  \n",
       "154040  TESORO DE LA CIUDAD  COMUNA 1             6000    2010  \n",
       "154047  TESORO DE LA CIUDAD  COMUNA 1             9670    2010  "
      ]
     },
     "execution_count": 111,
     "metadata": {},
     "output_type": "execute_result"
    }
   ],
   "source": [
    "ecologia.head(5)"
   ]
  },
  {
   "cell_type": "code",
   "execution_count": 86,
   "metadata": {},
   "outputs": [
    {
     "data": {
      "text/plain": [
       "(16457, 22)"
      ]
     },
     "execution_count": 86,
     "metadata": {},
     "output_type": "execute_result"
    }
   ],
   "source": [
    "ecologia.shape"
   ]
  },
  {
   "cell_type": "code",
   "execution_count": 121,
   "metadata": {},
   "outputs": [
    {
     "data": {
      "text/plain": [
       "MINISTERIO DE AMBIENTE Y ESPACIO PUBLICO          16190\n",
       "MINISTERIO DE ESPACIO PUBLICO E HIGIENE URBANA    267  \n",
       "Name: JURISDICCION, dtype: int64"
      ]
     },
     "execution_count": 121,
     "metadata": {},
     "output_type": "execute_result"
    }
   ],
   "source": [
    "ecologia['JURISDICCION'].value_counts()"
   ]
  },
  {
   "cell_type": "code",
   "execution_count": 112,
   "metadata": {
    "scrolled": true
   },
   "outputs": [
    {
     "data": {
      "text/plain": [
       "MINISTERIO DE AMBIENTE Y ESPACIO PUBLICO          8629\n",
       "AGENCIA AMBIENTAL                                 7544\n",
       "MINISTERIO DE ESPACIO PUBLICO E HIGIENE URBANA    267 \n",
       "ENTE DE HIGIENE URBANA                            17  \n",
       "Name: ENTIDAD, dtype: int64"
      ]
     },
     "execution_count": 112,
     "metadata": {},
     "output_type": "execute_result"
    }
   ],
   "source": [
    "ecologia['ENTIDAD'].value_counts()"
   ]
  },
  {
   "cell_type": "markdown",
   "metadata": {},
   "source": [
    "1. DIRECCION GENERAL DE ESPACIOS VERDES: https://www.buenosaires.gob.ar/gestioncomunal/institucional-subsecretaria-de-gestion-comunal/direccion-general-de\n",
    "2. DIRECCION GENERAL DE ARBOLADO: https://www.buenosaires.gob.ar/gestioncomunal/institucional-subsecretaria-de-gestion-comunal/dg-de-arbolado"
   ]
  },
  {
   "cell_type": "code",
   "execution_count": 125,
   "metadata": {
    "scrolled": true
   },
   "outputs": [
    {
     "data": {
      "text/plain": [
       "CUIDADO Y PUESTA EN VALOR DE ESPACIOS VERDES                       4226\n",
       "ACTIVIDADES CENTRALES AMBIENTE Y ESPACIO PUBLICO                   1184\n",
       "ESTRATEGIAS AMBIENTALES                                            1019\n",
       "CONTROL AMBIENTAL                                                  964 \n",
       "SANIDAD Y TENENCIA RESPONSABLE DE MASCOTAS                         868 \n",
       "CONTROL DE HIGIENE EN VIA PUBLICA E INMUEBLES                      796 \n",
       "EVALUACION TECNICA                                                 691 \n",
       "ARBOLADO URBANO                                                    675 \n",
       "PREVENCION AMBIENTAL EVALUACION TECNICA Y REGISTROS AMBIENTALES    600 \n",
       "ACTIVIDADES COMUNES A LOS PROG. 91,92,93, 94,95 Y 96               465 \n",
       "CONTROL DE PLAGAS                                                  439 \n",
       "PREVENC.AMB.EVALUAC.TECNICA Y CERTIFICADOS AMBIENTALES             384 \n",
       "LABORATORIO DE ANALISIS Y CALIDAD AMBIENTAL                        363 \n",
       "INTERVENCIONES VETERINARIAS                                        311 \n",
       "CONTROL DE GESTION Y RECLAMOS                                      288 \n",
       "ACTIV. COMUNES A LOS PROG. 91,92 Y93                               251 \n",
       "ACTIVIDADES COMUNES A LOS PROGRAMAS 91,92 Y 93                     240 \n",
       "ACTIV. COMUNES A LOS PROG. 91,92 ,93 Y 94                          223 \n",
       "PROTECCION Y SANIDAD ANIMAL                                        182 \n",
       "ACTIVIDADES COMUMES A LOS PROGRAMAS 91,92,93,94,95,96              162 \n",
       "BUENOS AIRES PRODUCE MAS LIMPIO (P+L)                              149 \n",
       "PLANEAMIENTO DE LA GESTION AMBIENTAL SOSTENIBLE                    140 \n",
       "ACTIVIDADES COMUNES A LOS PROG 21 Y 22                             135 \n",
       "ACTIVIDADES COMUNES A LOS PROG. 91,92,93, 94,95, 96 Y 100          130 \n",
       "ACTIVIDADES COMUNES A LOS PROGRAMAS: 11-52-53-56-57-85             111 \n",
       "CONSERVACION DE LA BIODIVERSIDAD                                   99  \n",
       "CONTROL DE GESTION                                                 93  \n",
       "ACTIVIDADES COMUNES A LOS PROGRAMAS: 11-52-53-56-57-58-59 Y 85     93  \n",
       "RECICLADO DE RESIDUOS URBANOS                                      87  \n",
       "ACTIVIDADES COMUNES A LOS PROGRAMAS: 52.53.56.57 Y 85              85  \n",
       "ACTIVIDADES COMUNES A LOS PROGRAMAS: 11-52-53-56-57-58-59-79-85    76  \n",
       "ASUNTOS LEGALES Y PRESUPUESTO                                      72  \n",
       "COMPENSACION AMBIENTAL                                             67  \n",
       "ACTIVIDADES COMUNES A LOS PROG. 91 AL 100 Y 102                    67  \n",
       "ACT.CEN.ESP.PUB.HIG.URBANA                                         65  \n",
       "ACTIVIDADES COMUNES A LOS PROG. 91 AL 103                          63  \n",
       "GESTION AMBIENTAL                                                  63  \n",
       "ACTIVIDADES COMUNES A LOS PROG 22 Y 23                             58  \n",
       "ACCIONES PARA LA RESTAURACION ECOLOGICA                            51  \n",
       "SERVICIOS DE ADMINISTRACION                                        45  \n",
       "TECNICA ADMINISTRATIVA Y LEGAL                                     44  \n",
       "ACTIVIDADES COMUNES A LOS PROGRAMAS: 11-52-53-57-58-59             41  \n",
       "ACTIVIDADES COMUNES A LOS PROGRAMAS: 11-52-53-56-57-58-59          41  \n",
       "ACTIVIDADES COMUNES A LOS PROGRAMAS: 11-52-53-57-58-59 Y 85        39  \n",
       "PROGRAMA DE RESIDUOS DE MANEJO ESPECIAL                            32  \n",
       "SERVICIOS DE HIGIENE URBANA                                        31  \n",
       "ACTIVIDADES COMUNES A LOS PROGRAMAS: 11-52-57-58 Y 85              31  \n",
       "PLANIFICACION Y PRESUPUESTO                                        21  \n",
       "REDES AMBIENTALES                                                  19  \n",
       "RECOLECCION, BARRIDO E HIGIENE DE LA CIUDAD DE BUENOS AIRES        17  \n",
       "PROGRAMA DE CAMBIO CLIMATICO E INFORMACION AMBIENTAL               15  \n",
       "PROGRAMA DE GESTION ENERGETICA                                     13  \n",
       "CENTROS DE ATENCION VETERINARIA                                    12  \n",
       "TRATAMIENTO DE RESIDUOS SOLIDOS URBANOS                            11  \n",
       "REGENERACION URBANA                                                7   \n",
       "OBRAS DE REGENERACIONURBANA                                        1   \n",
       "ACTIVIDADES COMUNES A LOS PROG 21,22,23,75,76 Y 77                 1   \n",
       "MANTENIMIENTO ZONA PUERTO MADERO                                   1   \n",
       "Name: PROGRAMA, dtype: int64"
      ]
     },
     "execution_count": 125,
     "metadata": {},
     "output_type": "execute_result"
    }
   ],
   "source": [
    "ecologia['PROGRAMA'].value_counts()"
   ]
  },
  {
   "cell_type": "code",
   "execution_count": 96,
   "metadata": {
    "scrolled": true
   },
   "outputs": [
    {
     "data": {
      "text/plain": [
       "<Figure size 432x576 with 0 Axes>"
      ]
     },
     "execution_count": 96,
     "metadata": {},
     "output_type": "execute_result"
    },
    {
     "data": {
      "text/plain": [
       "<matplotlib.axes._subplots.AxesSubplot at 0x27406c5d128>"
      ]
     },
     "execution_count": 96,
     "metadata": {},
     "output_type": "execute_result"
    },
    {
     "data": {
      "image/png": "[encoded data removed]",
      "text/plain": [
       "<Figure size 432x576 with 1 Axes>"
      ]
     },
     "metadata": {
      "needs_background": "light"
     },
     "output_type": "display_data"
    }
   ],
   "source": [
    "plt.figure(figsize=(6 ,8))\n",
    "ecologia['UNIDAD_EJECUTORA'].value_counts(ascending=True).plot(kind='barh')\n",
    "\n",
    "espacios_verdes = ecologia[ecologia['UNIDAD_EJECUTORA'] == 'DIRECCION GENERAL DE ESPACIOS VERDES']\n",
    "arbolado = ecologia[ecologia['UNIDAD_EJECUTORA'] == 'DIRECCION GENERAL DE ARBOLADO']"
   ]
  },
  {
   "cell_type": "code",
   "execution_count": 97,
   "metadata": {
    "scrolled": true
   },
   "outputs": [
    {
     "data": {
      "text/plain": [
       "CUIDADO Y PUESTA EN VALOR DE ESPACIOS VERDES                                          3607\n",
       "VALORIZACION DE LOS ESPACIOS VERDES                                                   382 \n",
       "VALORIZACION DE LOS ESPACIOS VERDES DE LA CIUDAD                                      85  \n",
       "OBRAS DE ESPACIOS VERDES                                                              70  \n",
       "CUIDADO Y PUESTA EN VALOR DEL PATRIMONIO CULTURAL Y NATURAL DE LOS ESPACIOS VERDES    33  \n",
       "CUIDADO Y PRESERVACION DEL ARBOLADO URBANO                                            24  \n",
       "CUIDADO Y PUESTA EN VALOR DE GRANDES PARQUES                                          15  \n",
       "OBRAS BA ELIGE EV                                                                     3   \n",
       "A.CU.MAR - VALORIZACION DE LOS ESPACIOS VERDES                                        3   \n",
       "PUESTA EN VALOR EDIFICIOS                                                             2   \n",
       "OBRAS DE ESPACIOS VERDES II                                                           1   \n",
       "JARDIN BOTANICO CARLOS THAYS                                                          1   \n",
       "Name: PROYECTO, dtype: int64"
      ]
     },
     "execution_count": 97,
     "metadata": {},
     "output_type": "execute_result"
    },
    {
     "data": {
      "text/plain": [
       "ARBOLADO URBANO                               504\n",
       "INTERVENCIONES SOBRE EL ARBOLADO              121\n",
       "CUIDADO Y PRESERVACION DEL ARBOLADO URBANO    50 \n",
       "Name: PROYECTO, dtype: int64"
      ]
     },
     "execution_count": 97,
     "metadata": {},
     "output_type": "execute_result"
    }
   ],
   "source": [
    "espacios_verdes['PROYECTO'].value_counts()\n",
    "arbolado['PROYECTO'].value_counts()"
   ]
  },
  {
   "cell_type": "code",
   "execution_count": 98,
   "metadata": {
    "scrolled": true
   },
   "outputs": [
    {
     "data": {
      "text/plain": [
       "OPERATIVOS DE CONTROL Y MANTENIMIENTO DE ESPACIOS VERDES                              516\n",
       "MANTENIMIENTO DE FUENTES, MONUMENTOS Y OBRAS DE ARTE                                  494\n",
       "CONDUCCION                                                                            397\n",
       "JARDIN BOTANICO \"CARLOS THAYS\"                                                        355\n",
       "PARQUE 3 DE FEBRERO                                                                   349\n",
       "RESERVA ECOLOGICA COSTANERA SUR                                                       311\n",
       "ADMINISTRACION Y SERVICIOS GENERALES                                                  311\n",
       "VALORIZACION DE LOS ESPACIOS VERDES                                                   262\n",
       "GUARDIANES DE PLAZA                                                                   261\n",
       "CUIDADO Y PUESTA EN VALOR PATRIMONIO CULTURAL Y NATURAL DE LOS ESPACIOS VERDES        132\n",
       "RESERVA ECOLOGICA \"COSTANERA SUR\"                                                     132\n",
       "PARQUE AVELLANEDA                                                                     121\n",
       "PRESERVACION Y PUESTA EN VALOR DE ESPEJOS DE AGUA                                     92 \n",
       "VALORIZACION DE LOS ESPACIOS VERDES DE LA CIUDAD                                      80 \n",
       "ESTUDIOS Y PROYECTOS                                                                  59 \n",
       "JARDIN BOTANICO CARLOS THAYS                                                          53 \n",
       "PARQUE INDOAMERICANO                                                                  38 \n",
       "CONTROL Y MANTENIMIENTO DE ESPACIOS VERDES                                            37 \n",
       "SERVICIOS ESPECIALES                                                                  35 \n",
       "CUIDADO Y PUESTA EN VALOR DEL PATRIMONIO CULTURAL Y NATURAL DE LOS ESPACIOS VERDES    33 \n",
       "CUIDADO Y PRESERVACION DEL ARBOLADO URBANO                                            24 \n",
       "LICITACION PUBLICA MANTENIMIENTO INTEGRAL DE MUROS VERDES Y ZONAS ANEXAS              16 \n",
       "CUIDADO Y PUESTA EN VALOR DE GRANDES PARQUES                                          15 \n",
       "MANTENIMIENTO ESPACIOS VERDES LIC 248/2011                                            10 \n",
       "TRABAJOS COMPLEMENTARIOS MANTENIMIENTO ESPACIOS VERDES                                10 \n",
       "CUIDADO Y PUESTA EN VALOR PARIMONIO CULTURAL Y NATURAL DE LOS ESPACIOS VERDES         9  \n",
       "OBRAS DE ESPACIOS VERDES                                                              8  \n",
       "MANTENIMIENTO INTEGRAL Y LIMPIEZA DE FUENTES ORNAMENTALES                             8  \n",
       "ESTUDIOS, INVESTIGACIONES Y PROYECTOS DE FACTIBILIDAD                                 3  \n",
       "A.CU.MAR - VALORIZACION DE LOS ESPACIOS VERDES                                        3  \n",
       "PARQUE DE VOLEY PLAYA- VELODROMO                                                      3  \n",
       "PARQUE LAS HERAS                                                                      2  \n",
       "PARQUE ALBERDI                                                                        2  \n",
       "CEMENTERIO RECOLETA CINERARIO Y MURO VERDE                                            2  \n",
       "PARQUE ISLA DE LA PATERNAL                                                            2  \n",
       "PUESTA EN VALOR EDIFICIOS                                                             2  \n",
       "PARQUE CHACABUCO                                                                      2  \n",
       "EX ESMA                                                                               2  \n",
       "2Â° ETAPA PM CHACARITA PLAZA NEWBERY Y TRASL. OSARIO                                  2  \n",
       "PUESTA EN VALOR PLAZA EGIPTO                                                          1  \n",
       "PLAZA PUEYRREDON                                                                      1  \n",
       "TRATAMIENTO BAJO PUENTES ALCORTA                                                      1  \n",
       "PLAZA DE MAYO                                                                         1  \n",
       "TERMINACION SECTOR ESPIGON PLUS ULTRA Y ENTORNO                                       1  \n",
       "CIRCUITO AEROBICO ENTORNO GOLF                                                        1  \n",
       "RESERVA ECOLOGICA LAGO LUGANO                                                         1  \n",
       "PLAZA GOULD PUESTA EN VALOR INTEGRAL                                                  1  \n",
       "2Â° ETAPA PM CHACARITA PLAZAS SOBRE GUZMAN                                            1  \n",
       "PLAN MAESTRO CEMENTERIO FLORES                                                        1  \n",
       "2Â° ETAPA PLAYAS DE BOLSILLOS Y NODO 2 PLAYA                                          1  \n",
       "LA BOYERA RECUP. Y PUESTA EN VALOR                                                    1  \n",
       "2Â° ETAPA SENDEROS JARDIN BOTANICO, INGRESO PLAZA ITALIA                              1  \n",
       "PADELAI ETAPA I                                                                       1  \n",
       "PARQUE TRES DE FEBRERO - APERTURA GOLF MUNICIPAL                                      1  \n",
       "REUCN PARQUE URBANO Y RESERVA                                                         1  \n",
       "HABILITACION TUNEL LIBERTADOR                                                         1  \n",
       "PUERTO ARGENTINO COLON                                                                1  \n",
       "PUESTA EN VALOR DEL EX VELODROMO MUNICIPAL Y ENTORNO                                  1  \n",
       "PLAZAS PROVINCIALES 9 DE JULIO                                                        1  \n",
       "EDIFICIO EX-PADELAI ETAPA 2                                                           1  \n",
       "TRATAMIENTO CALLE LA PAMPA Y PLAZA RUSIA                                              1  \n",
       "TRATAMIENTO ENTORNO VELODROMO SOBRE ALCORTA                                           1  \n",
       "PLAZA CONGRESO                                                                        1  \n",
       "PLAZA SICILIA RECUPERACION Y PUESTA EN VALOR                                          1  \n",
       "ENTORNO ESTACION SALUDABLE SARMIENTO Y REGATAS                                        1  \n",
       "PLAZA HAITI RECUPERACION Y PUESTA EN VALOR                                            1  \n",
       "INTERVENCION CASONA OLIVERA Y PROYECTO AUSA                                           1  \n",
       "MODULOS BAÑOS LAGO REGATAS                                                            1  \n",
       "TRATAMIENTO ARCOS DORREGO Y ENTORNO                                                   1  \n",
       "PARQUE DE LOS NIÑOS SECTOR LADO PROVINCIA                                             1  \n",
       "NUEVO ACCESO JARDIN BOTANICO DE LA CIUDAD DE BUENOS AIRES CARLOS THAYS                1  \n",
       "PARQUE ESTACION BUENOS AIRES                                                          1  \n",
       "Name: ACTIVIDAD, dtype: int64"
      ]
     },
     "execution_count": 98,
     "metadata": {},
     "output_type": "execute_result"
    }
   ],
   "source": [
    "espacios_verdes['ACTIVIDAD'].value_counts()"
   ]
  },
  {
   "cell_type": "code",
   "execution_count": 99,
   "metadata": {},
   "outputs": [
    {
     "data": {
      "text/plain": [
       "MANTENIMIENTO DEL ARBOLADO URBANO POR ADMINISTRACION     180\n",
       "INTERVENCIONES SOBRE EL ARBOLADO                         118\n",
       "ADMINISTRACION Y SERVICIOS GENERALES                     108\n",
       "CONDUCCION                                               66 \n",
       "CUIDADO Y PRESERVACION DEL ARBOLADO URBANO               50 \n",
       "MANTENIMIENTO DEL ARBOLADO URBANO POR TERCEROS           35 \n",
       "MANTENIMIENTODEL ARBOLADO URBANO POR 3EROS               30 \n",
       "DISEÑO DE PROYECTOS, OPERATIVOS Y SEGUIMIENTOS           25 \n",
       "MANTENIMIENTO DEL ARBOLADO URBANO                        22 \n",
       "DISEÑO DE PROYECTOS OPERATIVOS Y SEGUIMIENTOS            14 \n",
       "DISEÑO DE PROYECTOS OPERATIVOS Y SEGUIMIENTO             14 \n",
       "SERVICIOS POR TERCEROS                                   10 \n",
       "ESTUDIOS, INVESTIGACIONES Y PROYECTOS DE FACTIBILIDAD    3  \n",
       "Name: ACTIVIDAD, dtype: int64"
      ]
     },
     "execution_count": 99,
     "metadata": {},
     "output_type": "execute_result"
    }
   ],
   "source": [
    "arbolado['ACTIVIDAD'].value_counts()"
   ]
  },
  {
   "cell_type": "code",
   "execution_count": 100,
   "metadata": {
    "scrolled": true
   },
   "outputs": [
    {
     "data": {
      "text/plain": [
       "ADMINISTRACION Y SERVICIOS GENERALES                                                          3335\n",
       "CONDUCCION                                                                                    3209\n",
       "OPERATIVOS DE CONTROL Y MANTENIMIENTO DE ESPACIOS VERDES                                      516 \n",
       "MANTENIMIENTO DE FUENTES, MONUMENTOS Y OBRAS DE ARTE                                          494 \n",
       "INTERVENCIONES VETERINARIAS                                                                   453 \n",
       "AUTORIDAD CUENCA MATANZA RIACHUELO                                                            416 \n",
       "JARDIN BOTANICO \"CARLOS THAYS\"                                                                355 \n",
       "PARQUE 3 DE FEBRERO                                                                           352 \n",
       "UNIDAD DE AUDITORIA INTERNA                                                                   321 \n",
       "DESINSECTACION - DESINFECCION - DESRATIZACION                                                 312 \n",
       "RESERVA ECOLOGICA COSTANERA SUR                                                               311 \n",
       "GUARDIANES DE PLAZA                                                                           261 \n",
       "OPERATIVOS EN LA VIA PUBLICA - INFRACCIONES                                                   219 \n",
       "SANIDAD ANIMAL                                                                                219 \n",
       "SANIDAD Y TENENCIA RESPONSABLE DE MASCOTAS                                                    218 \n",
       "SANIDAD ANIMAL                                                                                200 \n",
       "INSPECCIONES DE CUMPLIMIENTO AMBIENTAL                                                        197 \n",
       "MANTENIMIENTO DEL ARBOLADO URBANO POR ADMINISTRACION                                          180 \n",
       "CERTIFICADOS AMBIENTALES                                                                      170 \n",
       "INSPECCION DE INMUEBLES ABANDONADOS                                                           161 \n",
       "REPRESENTACION EN ACUMAR                                                                      143 \n",
       "RESERVA ECOLOGICA \"COSTANERA SUR\"                                                             132 \n",
       "CUIDADO Y PUESTA EN VALOR PATRIMONIO CULTURAL Y NATURAL DE LOS ESPACIOS VERDES                132 \n",
       "EVALUACION DEL IMPACTO AMBIENTAL                                                              130 \n",
       "PARQUE AVELLANEDA                                                                             121 \n",
       "EVALUACION DEL IMPACTO AMBIENTAL ACUMULADO                                                    103 \n",
       "REGISTROS AMBIENTALES                                                                         100 \n",
       "CONTRAVERIFICACION DE ACTAS                                                                   99  \n",
       "MANTENIMIENTO INTEGRAL Y LIMPIEZA DE FUENTES ORNAMENTALES                                     98  \n",
       "MANTENIMIENTO ESPACIOS VERDES LIC 248/2011                                                    91  \n",
       "DETERMINACIONES DE CALIDAD AMBIENTALES                                                        86  \n",
       "DETERMINACIONES DE CALIDAD AMBIENTAL                                                          84  \n",
       "LABORATORIO DE CALIDAD AMBIENTAL                                                              83  \n",
       "LIMPIEZA Y ASEO DE CARTELERIA INFORMAL                                                        74  \n",
       "DESARROLLO E IMPLEMENTACION DE PROCESOS                                                       74  \n",
       "ESTRATEGIAS DE FORMACION E INTERPRETACION                                                     67  \n",
       "COORDINACION OPERATIVA                                                                        66  \n",
       "BUENOS AIRES PRODUCE MAS LIMPIO                                                               64  \n",
       "ESTUDIOS Y PROYECTOS                                                                          59  \n",
       "ADMINSITRACION Y SERVICIOS GENERALES                                                          59  \n",
       "CONSUMO RESPONSABLE                                                                           57  \n",
       "PROGRAMA DE ADECUACION AMBIENTAL                                                              53  \n",
       "JARDIN BOTANICO CARLOS THAYS                                                                  52  \n",
       "TRABAJOS COMPLEMENTARIOS MANTENIMIENTO ESPACIOS VERDES                                        46  \n",
       "ARBOLES HISTORICOS                                                                            45  \n",
       "EDUCACION, FORMACION E INFORMACION AMBIENTAL                                                  44  \n",
       "UNIDAD DE COORDINACION OPERATIVA                                                              43  \n",
       "CONSERVACION DE LA BIODIVERSIDAD                                                              42  \n",
       "INFRACCIONES, RECLAMOS, DENUNCIAS - FALTAS COMUNALES                                          41  \n",
       "INTERVENCIONES SOBRE EL ARBOLADO PUBLICO                                                      40  \n",
       "SANIDAD Y PROTECCION ANIMAL                                                                   39  \n",
       "PARQUE INDOAMERICANO                                                                          38  \n",
       "FUMIGACION / DESRATIZACION / DESINFECCION                                                     38  \n",
       "CONTROL Y MANTENIMIENTO DE ESPACIOS VERDES                                                    37  \n",
       "SISTEMAS, INFRAESTRUCTURAS Y PROCESOS                                                         36  \n",
       "VERIFICACIONES AMBIENTALES                                                                    36  \n",
       "FORMACION AMBIENTAL                                                                           36  \n",
       "OBRAS EN PLAZAS Y PARQUES                                                                     36  \n",
       "MANTENIMIENTO DEL ARBOLADO URBANO POR TERCEROS                                                35  \n",
       "SERVICIOS ESPECIALES                                                                          35  \n",
       "VOLQUETES ESTACIONADOS EN LA VIA PUBLICA                                                      35  \n",
       "PRESERVACION Y PUESTA EN VALOR DE ESPEJOS DE AGUA                                             34  \n",
       "INSPECCION DE CUMPLIMIENTO AMBIENTAL                                                          34  \n",
       "CONSERVACION ESPACIOS VERDES                                                                  32  \n",
       "ANALISIS AMBIENTALES                                                                          32  \n",
       "COMUNICACION Y DIFUSION DE POLITICAS AMBIENTALES                                              31  \n",
       "DESINSECTACION-DESINFECCION-DESRATIZACION                                                     31  \n",
       "EDUCACION, FORMACION, E INFORMACION AMBIENTAL                                                 31  \n",
       "DETERMINACIONES DE CALIDAD AMBIENTAL                                                          31  \n",
       "OPERATIVOS EN LA VIA PUBLICA                                                                  31  \n",
       "MANTENIMIENTODEL ARBOLADO URBANO POR 3EROS                                                    30  \n",
       "MANTENIMIENTO DE MONUMENTOS                                                                   30  \n",
       "GESTION AMBIENTAL BORDE COSTERO                                                               30  \n",
       "PROVISION Y EJECUCION DE SOLADO DRENANTE                                                      30  \n",
       "NUEVOS ARBOLES DE LA CIUDAD DE BUENOS AIRES                                                   30  \n",
       "INVESTIGACION Y DESARROLLO                                                                    29  \n",
       "EFICIENCIA ENERGETICA                                                                         28  \n",
       "INSPECCION INMUEBLES ABANDONADOS                                                              28  \n",
       "CONDUCCION                                                                                    27  \n",
       "TECNOLOGIA, SISTEMAS Y ADMINISTRACION                                                         27  \n",
       "GESTION AMBIENTAL DE SITIOS CONTAMINADOS                                                      26  \n",
       "ATENCION VETERINARIA                                                                          25  \n",
       "CORREDORES VERDES                                                                             25  \n",
       "PLAN DE ACCION CAMBIO CLIMATICO                                                               25  \n",
       "DISEÑO DE PROYECTOS, OPERATIVOS Y SEGUIMIENTOS                                                25  \n",
       "DESINSECTACION, DESINFECCION Y DESRATIZACION                                                  24  \n",
       "RED DE MONITOREO DE AIRE Y RUIDO                                                              24  \n",
       "LICITACION PUBLICA MANTENIMIENTO INTEGRAL DE MUROS VERDES Y ZONAS ANEXAS                      24  \n",
       "ECONOMIA SUSTENTABLE Y CONSUMO RESPONSABLE                                                    24  \n",
       "PROGRAMA DE ADECUACION AMBIENTAL Y PROMOCION DE LA ECONOMIA VERDE                             23  \n",
       "PALACIO LEZAMA                                                                                23  \n",
       "INFRAESTRUCTURA Y MANTENIMIENTO                                                               23  \n",
       "ESTRATEGIAS DE PROMOCION E INNOVACION                                                         23  \n",
       "ESTRATEGIAS DE PROMOCION E INNOVACION                                                         23  \n",
       "FORMACION E INFORMACION AMBIENTAL                                                             23  \n",
       "MANTENIMIENTO DEL ARBOLADO URBANO                                                             22  \n",
       "INDEMNIZACIONES                                                                               22  \n",
       "ESTRATEGIAS DE BIODIVERSIDAD                                                                  21  \n",
       "PROGRAMAS INTEGRADOS DE GESTION AMBIENTAL                                                     21  \n",
       "GESTION DE RECLAMOS                                                                           20  \n",
       "ARBOLES HISTORICOS, NOTABLES Y SINGULARES DE LA CIUDAD                                        18  \n",
       "FUMIGACION DENGUE                                                                             17  \n",
       "HIGIENIZACION DE PREDIOS DE LA C.A.B.A.                                                       17  \n",
       "DESINSECTACION - DESINFECCION Y DESRATIZACION                                                 17  \n",
       "CONTROL FITOSANITARIO SOBRE EL ARBOLADO URBANO                                                16  \n",
       "INFRAESTRUCTURA Y MANTENIMIENTO                                                               16  \n",
       "BIODIVERSIDAD                                                                                 16  \n",
       "EVENTOS MASIVOS                                                                               15  \n",
       "ADECUACION DE PLANTERAS EN ZONA DE ALTO TRANSITO                                              15  \n",
       "ESTRATEGIAS DE FORMACION E INTERPRETACION                                                     15  \n",
       "MEDICAMENTOS PARA CASTRACION                                                                  15  \n",
       "DESARROLLO DE CORREDORES VERDES                                                               15  \n",
       "TRANSPORTE SUSTENTABLE                                                                        15  \n",
       "RETIRO DE PUBLICIDAD EN INFRACCION                                                            15  \n",
       "DISEÑO DE PROYECTOS OPERATIVOS Y SEGUIMIENTO                                                  14  \n",
       "DISEÑO DE PROYECTOS OPERATIVOS Y SEGUIMIENTOS                                                 14  \n",
       "RESTAURACION Y MITIGACION AMBIENTAL                                                           13  \n",
       "RECICLADORES URBANOS                                                                          12  \n",
       "ATENCION EN CENTROS VETERINARIOS                                                              12  \n",
       "PROGRAMAS INTEGRADOS DE GESTION AMBIENTAL                                                     12  \n",
       "GESTION INTEGRAL DE RESIDUOS PELIGROSOS.                                                      12  \n",
       "SERVICIO DE LIMPIEZA DE ARROYOS                                                               12  \n",
       "REFORESTACION DE AVENIDAS                                                                     11  \n",
       "ECONOMIA SUSTENTABLE                                                                          11  \n",
       "PRESERVACION Y NORMALIZACION DE FUENTES HIDROELECTRICAS                                       10  \n",
       "GESTION AMBIENTAL                                                                             10  \n",
       "MITIGACION DE SITIOS CONTAMINADOS                                                             10  \n",
       "SERVICIOS POR TERCEROS                                                                        10  \n",
       "CONTENEDORES PARA CENTROS VERDES                                                              10  \n",
       "ESTUDIOS, INVESTIGACIONES Y PROYECTOS DE FACTIBILIDAD                                         10  \n",
       "MONITOREO Y CONTROL DEL ARBOLADO                                                              10  \n",
       "REPOSICION DEL ARBOLADO LINEAL                                                                9   \n",
       "CERTIFICADOS Y REGISTROS AMBIENTALES                                                          9   \n",
       "CAMBIO CLIMATICO E INFORMACION AMBIENTAL                                                      9   \n",
       "RED INTEGRADA DE MONITOREO AMBIENTAL                                                          9   \n",
       "CUIDADO Y PUESTA EN VALOR PARIMONIO CULTURAL Y NATURAL DE LOS ESPACIOS VERDES                 9   \n",
       "ACCIONES AMBIENTALES                                                                          8   \n",
       "ESTRATEGIAS AMBIENTALES                                                                       8   \n",
       "INCLUSION E INNOVACION DE PATIOS DE JUEGOS                                                    8   \n",
       "INSTALACION DE ESTACIONES AEROBICAS Y DE LA TERCERA EDAD                                      8   \n",
       "CLASIFICACION Y COMERCIALIZACION DE LOS R.S.U                                                 8   \n",
       "RECOLECCION Y LIMPIEZA DEL RIO DE LA PLATA                                                    7   \n",
       "RED INTEGRADA DE MONITOREO AMBIENTAL                                                          7   \n",
       "TRASLADO DEL MATERIAL RECOLECTADO                                                             7   \n",
       "GENERACION ESPACIOS VERDES                                                                    7   \n",
       "SISTEMAS Y PROCESOS                                                                           7   \n",
       "RECOLECIION Y LIMPIEZA DEL RIACHUELO                                                          6   \n",
       "COMPENSACION AMBIENTAL                                                                        6   \n",
       "CAMBIO CLIMATICO Y ENERGIA                                                                    6   \n",
       "SEPARACION EN ORIGEN DE LOS R.S.U. (VECINOS Y GRANDES GENERADORES)                            5   \n",
       "CENTRO DE INFORMACION Y FORMACION AMBIENTAL                                                   5   \n",
       "PRODUCCION Y CONSUMO SUSTENTABLES                                                             5   \n",
       "RED DE MONITOREO DE AIRE, RUIDO Y AGUA.                                                       5   \n",
       "GESTION INTEGRAL DE RESIDUOS PELIGROSOS                                                       5   \n",
       "ANALISIS AMBINETALES                                                                          5   \n",
       "REMEDIACION AMBIENTAL CABA                                                                    4   \n",
       "TRATAMIENTO PET                                                                               4   \n",
       "ACCIONES AMBIENTALES CABA                                                                     4   \n",
       "ECONOMIO SUSTENTABLE                                                                          4   \n",
       "REMEDIACION Y MITIGACION                                                                      4   \n",
       "ORGANICOS CENTRALIZADOS ( COMPOSTAJES)                                                        4   \n",
       "JUEGOS DE VANGUARDIA                                                                          4   \n",
       "RESTAURACION Y MITIGACION GCBA                                                                4   \n",
       "SISTEMAS , INFRAESTRUCTURAS Y PROCESOS                                                        4   \n",
       "MONUMENTOS Y OBRAS DE ARTE - PRESERVACION Y RESTAURACION                                      4   \n",
       "RECOLECCION Y TRATAMIENTO DE RAEES                                                            3   \n",
       "PRESERVACION Y PUESTA EN VALOR RESERVA ECOLOGICA                                              3   \n",
       "PUESTA EN VALOR CIFA                                                                          3   \n",
       "PRESERVACION Y PUESTA EN VALOR DEL JARDIN BOTANICO \"CARLOS THAYS\"                             3   \n",
       "ESTUDIO DE CAMBIO CLIMATICO                                                                   3   \n",
       "MANTENIMIENTO DE CENTROS VERDES                                                               3   \n",
       "MANTENIMIENTO DE LA RESERVA ECOLOGICA COSTANERA SUR                                           3   \n",
       "DESARROLLO DE LA RED DE AIRE Y RUIDO                                                          3   \n",
       "JUEGOS DE AGUA LOCALIZACIONES VARIAS                                                          3   \n",
       "MANTENIMIENTO DE ESPACIOS VERDES LICITACION 248/2011                                          3   \n",
       "2Â° ETAPA PM CHACARITA PLAZA NEWBERY Y TRASL. OSARIO                                          2   \n",
       "LIMPIEZA, ASEO Y FUMIGACION                                                                   2   \n",
       "PARQUE ALBERDI                                                                                2   \n",
       "CEMENTERIO RECOLETA CINERARIO Y MURO VERDE                                                    2   \n",
       "CUBIERTAS VERDES EN LA CABA                                                                   2   \n",
       "PRESERVACION Y PUESTA EN VALOR PARQUE AVELLANEDA                                              2   \n",
       "OBRAS EN RECINTOS                                                                             2   \n",
       "MANTENIMIENTO Y REPARACION DE EDIFICIOS Y LOCALES                                             2   \n",
       "REMODELACION EDIFICIOS - \"GARAY\" \"VARELA\"                                                     2   \n",
       "SOFTWARE Y DESARROLLO                                                                         2   \n",
       "CONCIENTIZACION Y CAPACITACION DEL VECINO                                                     2   \n",
       "PARQUE CHACABUCO                                                                              2   \n",
       "ALQUILER DE EDIFICIOS Y LOCALES                                                               2   \n",
       "ACUMAR                                                                                        2   \n",
       "PARQUE ISLA DE LA PATERNAL                                                                    2   \n",
       "EDIFICIOS DGEV - CONSTRUCCION Y REFUNCIONALIZACION                                            2   \n",
       "DESARROLLO E IMPLEMENTACIONES DE PROCESOS                                                     2   \n",
       "EX ESMA                                                                                       2   \n",
       "RED DE MONITOREO DE LA CALIDAD DEL AGUA EN LA CABA                                            2   \n",
       "RECOLECCION Y LIMPIEZA DEL RIACHUELO                                                          2   \n",
       "MANTENIMIENTO RIEGO PARQUE INDOAMERICANO                                                      2   \n",
       "PARQUE LAS HERAS                                                                              2   \n",
       "RED DE MONITOREO AMBIENTAL                                                                    1   \n",
       "CAMINOS INTERNOS JARDIN BOTANICO                                                              1   \n",
       "ECOPARQUE ZONA -1B LAS HERAS                                                                  1   \n",
       "PLAZA CONGRESO                                                                                1   \n",
       "COORDINACION DEL PLAN DE ACCION DEL CAMBIO CLIMATICO DE LA CABA                               1   \n",
       "HABILITACION TUNEL LIBERTADOR                                                                 1   \n",
       "PARQUE DEL BICENTENARIO - ETAPA I.                                                            1   \n",
       "REMEDIACION Y MITIGACION AMBIENTAL                                                            1   \n",
       "PUESTA EN VALOR DEL EX VELODROMO MUNICIPAL Y ENTORNO                                          1   \n",
       "AMPLIACION CIFA PARA SU TRANSFORMACION EN CENTRO METROPOLITANO VERDE                          1   \n",
       "SERVICIO DE RECOLECCION DE RESIDUOS PELIGROSOS                                                1   \n",
       "RES. ECOLOGICA - EXTENSION SISTEMA DE INCENDIO                                                1   \n",
       "2Â° ETAPA PM CHACARITA PLAZAS SOBRE GUZMAN                                                    1   \n",
       "ALQUILER GRUAS + ALQUILER PLANTA ASFALTO                                                      1   \n",
       "INSTALACION SISTEMA MONITOREO MAPEO CONTAMINACION ACUSTICA EN EL AMBITO CABA                  1   \n",
       "PARQUE ESTACION BUENOS AIRES                                                                  1   \n",
       "DEPOSITO PARA LA RECEPCION ADECUACION Y COMERCIALIZACION DE LOS BHDS                          1   \n",
       "2Â° ETAPA PLAYAS DE BOLSILLOS Y NODO 2 PLAYA                                                  1   \n",
       "TERMINACION SECTOR ESPIGON PLUS ULTRA Y ENTORNO                                               1   \n",
       "ALQUILER OFICINAS                                                                             1   \n",
       "SEÑALIZACION EN LA VIA PUBLICA                                                                1   \n",
       "MODULOS BAÑOS LAGO REGATAS                                                                    1   \n",
       "INTERVENCION CASONA OLIVERA Y PROYECTO AUSA                                                   1   \n",
       "PLAZA GOULD PUESTA EN VALOR INTEGRAL                                                          1   \n",
       "TRATAMIENTO BAJO PUENTES ALCORTA                                                              1   \n",
       "CONTRUCCION Y PUESTA EN FUNCIONAMIENTO DE CENTROS VERDES                                      1   \n",
       "PUESTA EN VALOR EDIFICIO AMEGHINO Y VIVERO DE TRANSITO Y CRIANZA                              1   \n",
       "PADELAI ETAPA I                                                                               1   \n",
       "TRASLADO MONUMENTO A COLON                                                                    1   \n",
       "PLANTA CHIPEADORA PARA TRATAMIENTO DE PODA                                                    1   \n",
       "PLAZA PUEYRREDON                                                                              1   \n",
       "PLAZA GOULD - PUESTA EN VALOR                                                                 1   \n",
       "REUCN PARQUE URBANO Y RESERVA                                                                 1   \n",
       "PUESTA EN VALOR PLAZA EGIPTO                                                                  1   \n",
       "REFACCION EDIFICIO PICO Y SAN ISIDRO                                                          1   \n",
       "PARQUE TRES FEBRERO                                                                           1   \n",
       "NUEVO ACCESO JARDIN BOTANICO DE LA CIUDAD DE BUENOS AIRES CARLOS THAYS                        1   \n",
       "RES. ECOLOGICA - PUESTA EN VALOR AREA RECREATIVA NUEVA RESERVA                                1   \n",
       "RESERVA ECOLOGICA COSTANERA NORTE ETAPA INICIAL PARA HABILITACION AL USO PUBLICO              1   \n",
       "PLAN MAESTRO CEMENTERIO FLORES                                                                1   \n",
       "JARDIN BOTANICO - ACCESO Y TRATAMIENTO DE SENDEROS - 2Â° ETAPA                                1   \n",
       "NUEVO CIRCUITO AEROBICO AGRONOMIA                                                             1   \n",
       "PUESTA EN VALOR DEPOSITOS RAES                                                                1   \n",
       "PLAZAS PROVINCIALES 9 DE JULIO                                                                1   \n",
       "PLANTA DE MRF CHILAVERT - REMODELACION Y PUESTA EN VALOR                                      1   \n",
       "ENTORNO ESTACION SALUDABLE SARMIENTO Y REGATAS                                                1   \n",
       "PLAZA HAITI RECUPERACION Y PUESTA EN VALOR                                                    1   \n",
       "CENTRO DEMOSTRATIVO DE ACEITES                                                                1   \n",
       "NUEVOS ESPACIOS VERDES EN LATERALES VIAS DEL TREN VILLA DEL PARQUE                            1   \n",
       "EVALUACION SUELOS CONTAMINADOS PREDIOS DE IVC                                                 1   \n",
       "EDIFICIO AMEGHINO Y VIVERO DE TRANSITO Y CRIANZA                                              1   \n",
       "PARQUE TRES DE FEBRERO - APERTURA GOLF MUNICIPAL                                              1   \n",
       "LICENCIAS                                                                                     1   \n",
       "RECUPERACION Y PUESTA EN VALOR DEL TUNEL PEATONAL DE AV LIBERTADOR 3200 (ESQ AV. SARMIENTO    1   \n",
       "RESERVA ECOLOGICA LAGO LUGANO                                                                 1   \n",
       "EVALUACION SUELOS CONTAMINADOS PREDIOS DE IVC -                                               1   \n",
       "PUESTA EN VALOR EDIFICIO APRA SEDE MORENO SEDE OCAMPO                                         1   \n",
       "PRESERVACION Y PUESTA EN VALOR PARQUE INDOAMERICANO                                           1   \n",
       "TRATAMIENTO ENTORNO VELODROMO SOBRE ALCORTA                                                   1   \n",
       "SANEAMIENTO Y REMEDIACION - PREDIO ACHA Y MENDOZA                                             1   \n",
       "UBICACION Y FIJACION DE CONTENEDORES                                                          1   \n",
       "PLAN MAESTRO RESERVA ECOLOGICA COSTANERA SUR                                                  1   \n",
       "PARQUE LEZAMA                                                                                 1   \n",
       "PLAZA DE MAYO                                                                                 1   \n",
       "PARQUE DE LOS NIÑOS SECTOR LADO PROVINCIA                                                     1   \n",
       "RES. ECOLOGICA - CONSTRUCCION DE CENTRO EDUCATIVO NUEVA RESERVA /TALLER DE RECICLADO          1   \n",
       "CIRCUITO AEROBICO ENTORNO GOLF                                                                1   \n",
       "PLAZA SICILIA RECUPERACION Y PUESTA EN VALOR                                                  1   \n",
       "PUESTA EN VALOR DE FUENTES Y OBRA DE ARTE                                                     1   \n",
       "DISPOSICION FINAL DE LOS RESIDUOS SOLIDOS URBANOS                                             1   \n",
       "INSTALACION Y DESARROLLO DE REDES MONITOREO CALIDAD AGUA AIRE Y RUIDO                         1   \n",
       "DESARROLLO DE RESIDUOS PELIGROSOS PATOGENICOS Y DESECHABLES                                   1   \n",
       "CUBIERTA VEDE CABA                                                                            1   \n",
       "CONSTRUCCION DE COMPOSTERAS                                                                   1   \n",
       "CENTRO DE PROMOCION DEL RECICLADO SISTEMA PASARELAS                                           1   \n",
       "PUERTO ARGENTINO COLON                                                                        1   \n",
       "EDIFICIO EX-PADELAI ETAPA 2                                                                   1   \n",
       "GESTION AMBIENTAL DE SITIOS CONTAMINADOS.                                                     1   \n",
       "PUERTO MADERO                                                                                 1   \n",
       "CENTROS VERDES                                                                                1   \n",
       "LA BOYERA RECUP. Y PUESTA EN VALOR                                                            1   \n",
       "2Â° ETAPA SENDEROS JARDIN BOTANICO, INGRESO PLAZA ITALIA                                      1   \n",
       "DETERMINACION DE CONTAMINANTES EN AIRE, AGUA Y SUELO                                          1   \n",
       "PARQUE DE VOLEY PLAYA- VELODROMO                                                              1   \n",
       "TRATAMIENTO CALLE LA PAMPA Y PLAZA RUSIA                                                      1   \n",
       "JARDIN BOTANICO - JARDIN DE LOS SENTIDOS                                                      1   \n",
       "CUIDADO Y PUESTA EN VALOR ESPACIOS VERDES - MONUMENTO CAIDOS EN MALVINAS                      1   \n",
       "HOGAR TRANSITORIO DE MASCOTAS                                                                 1   \n",
       "TRATAMIENTO ARCOS DORREGO Y ENTORNO                                                           1   \n",
       "MICROCENTRO VERDE                                                                             1   \n",
       "Name: OBRA, dtype: int64"
      ]
     },
     "execution_count": 100,
     "metadata": {},
     "output_type": "execute_result"
    }
   ],
   "source": [
    "ecologia['OBRA'].value_counts()"
   ]
  },
  {
   "cell_type": "code",
   "execution_count": 101,
   "metadata": {},
   "outputs": [
    {
     "data": {
      "text/plain": [
       "BIENES DE CONSUMO          5540\n",
       "SERVICIOS NO PERSONALES    4647\n",
       "GASTOS EN PERSONAL         3813\n",
       "BIENES DE USO              2271\n",
       "TRANSFERENCIAS             152 \n",
       "ACTIVOS FINANCIEROS        34  \n",
       "Name: INCISO, dtype: int64"
      ]
     },
     "execution_count": 101,
     "metadata": {},
     "output_type": "execute_result"
    }
   ],
   "source": [
    "ecologia['INCISO'].value_counts()"
   ]
  },
  {
   "cell_type": "code",
   "execution_count": 102,
   "metadata": {},
   "outputs": [
    {
     "data": {
      "text/plain": [
       "OTROS NO ESPECIFICADOS PRECEDENTEMENTE                                    1851\n",
       "SUELDO ANUAL COMPLEMENTARIO                                               782 \n",
       "CONTRIBUCIONES PATRONALES                                                 781 \n",
       "RETRIBUCION DEL CARGO                                                     672 \n",
       "COMPLEMENTOS                                                              555 \n",
       "SEGUROS DE RIESGO DE TRABAJO                                              495 \n",
       "CONSTRUCCIONES EN BIENES DE DOMINIO PUBLICO                               390 \n",
       "UTILES DE ESCRITORIO, OFICINA Y ENSEÑANZA                                 364 \n",
       "PRENDAS DE VESTIR                                                         355 \n",
       "PERSONAL PERMANENTE                                                       320 \n",
       "MANTENIMIENTO Y REPARACION DE MAQUINARIA Y EQUIPO                         315 \n",
       "IMPRENTA, PUBLICACIONES Y REPRODUCCIONES                                  308 \n",
       "PAPEL Y CARTON PARA OFICINA                                               280 \n",
       "EQUIPOS VARIOS                                                            275 \n",
       "SERVICIOS ESPECIALIZADOS                                                  273 \n",
       "MOVILIDAD                                                                 271 \n",
       "EQUIPO DE OFICINA Y MOBLAJE                                               264 \n",
       "PRODUCTOS DE MATERIAL PLASTICO                                            260 \n",
       "REPUESTOS Y ACCESORIOS                                                    260 \n",
       "ALIMENTOS PARA PERSONAS                                                   247 \n",
       "EQUIPO PARA COMPUTACION                                                   247 \n",
       "HERRAMIENTAS Y REPUESTOS MAYORES                                          227 \n",
       "MANUFACTURA DE PULPA, PAPEL Y CARTION                                     215 \n",
       "PRODUCTOS DE ARTES GRAFICAS                                               210 \n",
       "UTILES Y MATERIALES ELECTRICOS                                            207 \n",
       "PRODUCTOS FARMACEUTICOS Y MEDICINALES                                     205 \n",
       "MANTENIMIENTO Y REPARACION DE EDIFICIOS Y LOCALES                         193 \n",
       "UTILES MENORES MEDICOS, QUIRURGICOS Y DE LABORATORIO                      193 \n",
       "LIMPIEZA, ASEO Y FUMIGACION                                               171 \n",
       "HIGIENE URBANA                                                            169 \n",
       "TINTAS, PINTURAS Y COLORANTES                                             169 \n",
       "HERRAMIENTAS MENORES                                                      165 \n",
       "ALQUILER DE MAQUINARIA, EQUIPO Y MEDIOS DE TRANSPORTE                     162 \n",
       "INSECTICIDAS, FUMIGANTES Y OTROS                                          161 \n",
       "EQUIPO SANITARIO Y DE LABORATORIO                                         160 \n",
       "ALQUILER DE FOTOCOPIADORAS                                                155 \n",
       "TRANSPORTE Y ALMACENAMIENTO                                               142 \n",
       "EQUIPO DE TRANSPORTE, TRACCION Y ELEVACION                                141 \n",
       "PAPEL Y CARTON PARA COMPUTACION                                           141 \n",
       "ELEMENTOS DE LIMPIEZA                                                     128 \n",
       "RETRIBUCION DEL SERVICIO                                                  125 \n",
       "EQUIPO EDUCACIONAL, CULTURAL Y RECREATIVO                                 111 \n",
       "EQUIPO DE COMUNICACION Y SEÑALAMIENTO                                     110 \n",
       "PRODUCTOS FERROSOS                                                        108 \n",
       "UTENSILIOS DE COCINA Y COMEDOR                                            100 \n",
       "CONFECCIONES TEXTILES                                                     100 \n",
       "CEMENTO, CAL Y YESO                                                       100 \n",
       "PRODUCTOS AGROFORESTALES                                                  99  \n",
       "SERVICIOS DE CONSULTORIA                                                  97  \n",
       "ALQUILER DE EDIFICIOS Y LOCALES                                           96  \n",
       "VIATICOS                                                                  94  \n",
       "PASAJES                                                                   92  \n",
       "COMPUESTOS QUIMICOS                                                       86  \n",
       "SERVICIOS DE COMIDAS, VIANDAS Y REFRIGERIOS                               84  \n",
       "TELEFONOS, TELEX Y TELEFAX                                                83  \n",
       "PROGRAMAS DE COMPUTACION                                                  79  \n",
       "ESTRUCTURAS METALICAS ACABADAS                                            79  \n",
       "MANTENIMIENTO Y REPARACION DE VEHICULOS                                   75  \n",
       "MAQUINARIA Y EQUIPO DE PRODUCCION                                         75  \n",
       "MADERA, CORCHO Y SUS MANUFACTURAS                                         71  \n",
       "PRODUCTOS NO FERROSOS                                                     71  \n",
       "CONVENIOS DE ASISTENCIATECNICA                                            71  \n",
       "PIEDRA, ARCILLA Y ARENA                                                   69  \n",
       "PRODUCTOS ELABORADOS DE CEMENTO Y YESO                                    67  \n",
       "PRODUCTOS DE VIDRIO                                                       62  \n",
       "LIBROS, REVISTAS Y OTROS ELEMENTOS DE COLECCION                           62  \n",
       "COMBUSTIBLES Y LUBRICANTES                                                58  \n",
       "AGUA                                                                      56  \n",
       "ENERGIA ELECTRICA                                                         54  \n",
       "GAS                                                                       52  \n",
       "SISTEMAS INFORMATICOS Y DE REGISTRO                                       49  \n",
       "ABONOS Y FERTILIZANTES                                                    48  \n",
       "HILADOS Y TELAS                                                           47  \n",
       "OTROS BIENES DE USO NO ESPECIFICADOS PRECEDENTEMENTE                      45  \n",
       "EQUIPO DE SEGURIDAD                                                       42  \n",
       "PERSONAL TEMPORARIO                                                       42  \n",
       "ALIMENTOS PARA ANIMALES                                                   41  \n",
       "SERVICIOS DE CEREMONIAL                                                   41  \n",
       "PRIMAS Y GASTOS DE SEGUROS                                                39  \n",
       "ADELANTOS A PROVEEDORES Y CONTRATISTAS A CORTO PLAZO                      34  \n",
       "PREMIOS Y RECONOCIMIENTOS                                                 34  \n",
       "LIBROS, REVISTAS Y PERIODICOS                                             33  \n",
       "ARTICULOS DE CAUCHO                                                       32  \n",
       "CONSTRUCCIONES EN BIENES DE DOMINIO PRIVADO                               32  \n",
       "ESTUDIOS, INVESTIGACIONES Y PROYECTOS DE FACTIBILIDAD                     31  \n",
       "CUBIERTAS Y CAMARAS DE AIRE                                               31  \n",
       "MANTENIMIENTO DE ESPACIOS VERDES                                          28  \n",
       "DE CAPACITACION                                                           27  \n",
       "TRANSFERENCIAS PARA ACTIVIDADES CIENTIFICAS O ACADEMICAS                  27  \n",
       "PUBLICIDAD Y PROPAGANDA                                                   24  \n",
       "PRODUCTOS DE LOZA Y PORCELANA                                             23  \n",
       "TRANSFERENCIAS A UNIVERSIDADES PARA FINANCIAR GASTOS CORRIENTES           21  \n",
       "DERECHOS Y TASAS                                                          21  \n",
       "CONTRATOS POR TIEMPO DETERMINADO                                          17  \n",
       "TRANSFERENCIAS A OTRAS INSTITUCIONES SIN FINES DE LUCRO                   17  \n",
       "SUBSIDIOS, TRANSFERENCIAS Y APOYOS                                        17  \n",
       "TRANSFERENCIAS A PERSONAS                                                 17  \n",
       "TEXTOS DE ENSEÑANZA                                                       16  \n",
       "MANUFACTURA DE PULPA, PAPEL Y CARTON                                      15  \n",
       "SERVICIO DE VIGILANCIA                                                    15  \n",
       "RETIRO VOLUNTARIO                                                         14  \n",
       "SERV.DE ACCESO A INTERNET Y STREAMING                                     14  \n",
       "TRANSFERENCIAS A EMPRESAS PRIVADAS                                        13  \n",
       "TRANSFERENCIAS A INSTITUCIONES DE ENSEÑANZA                               12  \n",
       "ALQUILER DE EQUIPOS DE COMPUTACION                                        12  \n",
       "MANTENIMIENTO Y REPARACION DE VIAS DE COMUNICACION                        12  \n",
       "BENEFICIOS Y COMPENSACIONES SIN DISCRIMINAR                               9   \n",
       "DE INFORMATICA Y SISTEMAS COMPUTARIZADOS                                  8   \n",
       "TRANSF.A INSTITUCIONES PCAS FINANCIERAS PARA FINANCIAR GTOS CORRIENTES    8   \n",
       "OBRAS DE MEJORA Y AMPLIACION                                              8   \n",
       "TRANSFERENCIAS A EMPRESAS PUBLICAS NO FINANCIERAS MUNICIPALES             7   \n",
       "COMISIONES Y GASTOS BANCARIOS                                             7   \n",
       "ÃŠTILES DE ESCRITORIO, OFICINA Y ENSEÑANZA                                6   \n",
       "CORREOS Y TELEGRAFO                                                       6   \n",
       "TRANSFERENCIAS A ENTES TRIPARTITOS                                        6   \n",
       "JUICIOS, MEDIACIONES Y OTROS GASTOS JUDICIALES                            5   \n",
       "ARTICULOS DE CUERO                                                        5   \n",
       "INTERNET BANDA ANCHA                                                      4   \n",
       "ÃŠTILES Y MATERIALES ELECTRICOS                                           4   \n",
       "PRODUCTOS DE ARCILLA Y CERAMICA                                           3   \n",
       "A OTRAS INSTITUCIONES PUBLICAS NACIONALES                                 3   \n",
       "IMPUESTOS DIRECTOS                                                        2   \n",
       "IMPUESTOS INDIRECTOS                                                      2   \n",
       "TRANSFERENCIAS A COOPERATIVAS                                             2   \n",
       "A INSTITUCIONES DESCENTRALIZADAS NACIONALES                               2   \n",
       "OTROS ACTIVOS INTANGIBLES                                                 1   \n",
       "TIERRAS Y TERRENOS PARA EL DOMINIO PRIVADO DE LA CABA                     1   \n",
       "PETROLEO CRUDO Y GAS NATURAL                                              1   \n",
       "CONTABILIDAD Y AUDITORIA                                                  1   \n",
       "ARRENDAMIENTO DE TIERRAS Y TERRENOS                                       1   \n",
       "MINERALES METALIFEROS                                                     1   \n",
       "ÃŠTILES MENORES MEDICOS, QUIRURGICOS Y DE LABORATORIO                     1   \n",
       "JURIDICOS                                                                 1   \n",
       "MEDICOS Y SANITARIOS                                                      1   \n",
       "RELLENO SANITARIO                                                         1   \n",
       "ESPECIES TIMBRADAS Y VALORES                                              1   \n",
       "HORAS RECURRENTES                                                         1   \n",
       "Name: PARCIAL, dtype: int64"
      ]
     },
     "execution_count": 102,
     "metadata": {},
     "output_type": "execute_result"
    }
   ],
   "source": [
    "ecologia['PARCIAL'].value_counts()"
   ]
  },
  {
   "cell_type": "code",
   "execution_count": null,
   "metadata": {},
   "outputs": [],
   "source": []
  },
  {
   "cell_type": "code",
   "execution_count": null,
   "metadata": {},
   "outputs": [],
   "source": []
  },
  {
   "cell_type": "code",
   "execution_count": 103,
   "metadata": {},
   "outputs": [
    {
     "data": {
      "text/plain": [
       "<Figure size 1296x864 with 0 Axes>"
      ]
     },
     "metadata": {},
     "output_type": "display_data"
    },
    {
     "data": {
      "image/png": "[encoded data removed]",
      "text/plain": [
       "<Figure size 1296x432 with 1 Axes>"
      ]
     },
     "metadata": {
      "needs_background": "light"
     },
     "output_type": "display_data"
    }
   ],
   "source": [
    "plt.figure(figsize=(18, 12))\n",
    "aux_comunas = espacios_verdes.groupby('AÑO')['UBICACION_GEOGRAFICA'].apply(pd.Series.value_counts).unstack()\n",
    "\n",
    "aux_comunas.plot(kind='bar', figsize=(18, 6));\n",
    "plt.legend(loc=\"upper right\", ncol=6);"
   ]
  },
  {
   "cell_type": "code",
   "execution_count": 51,
   "metadata": {},
   "outputs": [],
   "source": [
    "# aux = gf.groupby('AÑO').agg({'VIGENTE': 'sum', 'DEVENGADO': 'sum', 'SANCION': 'sum', 'DEFINITIVO': 'sum'})\n",
    "# aux.plot(kind='bar', figsize=(18, 6));"
   ]
  },
  {
   "cell_type": "code",
   "execution_count": 104,
   "metadata": {},
   "outputs": [
    {
     "data": {
      "text/plain": [
       "<matplotlib.axes._subplots.AxesSubplot at 0x2740707d2e8>"
      ]
     },
     "execution_count": 104,
     "metadata": {},
     "output_type": "execute_result"
    },
    {
     "data": {
      "image/png": "[encoded data removed]",
      "text/plain": [
       "<Figure size 432x288 with 1 Axes>"
      ]
     },
     "metadata": {
      "needs_background": "light"
     },
     "output_type": "display_data"
    }
   ],
   "source": [
    "sancion_espacios_verdes = espacios_verdes.groupby('AÑO').agg({'SANCION': 'sum'})['SANCION']\n",
    "sancion_espacios_verdes.plot(kind='bar')"
   ]
  },
  {
   "cell_type": "code",
   "execution_count": 107,
   "metadata": {},
   "outputs": [
    {
     "data": {
      "text/plain": [
       "<matplotlib.axes._subplots.AxesSubplot at 0x27406e23940>"
      ]
     },
     "execution_count": 107,
     "metadata": {},
     "output_type": "execute_result"
    },
    {
     "data": {
      "image/png": "[encoded data removed]",
      "text/plain": [
       "<Figure size 432x288 with 1 Axes>"
      ]
     },
     "metadata": {
      "needs_background": "light"
     },
     "output_type": "display_data"
    }
   ],
   "source": [
    "inflacion = pd.Series([0.239, 0.183, 0.218, 0.266, 0.38, 0.269, 0.41, 0.261, 0.455, 0.506,\n",
    "#                        0.448\n",
    "                      ])\n",
    "inflacion.index = sancion_espacios_verdes.index\n",
    "inflacion.plot(kind='bar')"
   ]
  },
  {
   "cell_type": "code",
   "execution_count": 108,
   "metadata": {},
   "outputs": [
    {
     "data": {
      "text/plain": [
       "<matplotlib.axes._subplots.AxesSubplot at 0x274061ca898>"
      ]
     },
     "execution_count": 108,
     "metadata": {},
     "output_type": "execute_result"
    },
    {
     "data": {
      "image/png": "[encoded data removed]",
      "text/plain": [
       "<Figure size 432x288 with 1 Axes>"
      ]
     },
     "metadata": {
      "needs_background": "light"
     },
     "output_type": "display_data"
    }
   ],
   "source": [
    "dolar = pd.Series([4, 4.3, 5, 6.5, 8.6, 13.4, 16.3, 19, 38.9, 63.35,\n",
    "#                    83.7\n",
    "                  ])\n",
    "dolar.index = sancion_espacios_verdes.index\n",
    "dolar.plot(kind='bar')"
   ]
  },
  {
   "cell_type": "code",
   "execution_count": 109,
   "metadata": {},
   "outputs": [
    {
     "data": {
      "text/plain": [
       "<matplotlib.axes._subplots.AxesSubplot at 0x274073df4a8>"
      ]
     },
     "execution_count": 109,
     "metadata": {},
     "output_type": "execute_result"
    },
    {
     "data": {
      "image/png": "[encoded data removed]",
      "text/plain": [
       "<Figure size 432x288 with 1 Axes>"
      ]
     },
     "metadata": {
      "needs_background": "light"
     },
     "output_type": "display_data"
    }
   ],
   "source": [
    "(sancion_espacios_verdes / dolar).plot(kind='bar')"
   ]
  },
  {
   "cell_type": "code",
   "execution_count": 110,
   "metadata": {},
   "outputs": [
    {
     "data": {
      "text/plain": [
       "<matplotlib.axes._subplots.AxesSubplot at 0x274076b9ba8>"
      ]
     },
     "execution_count": 110,
     "metadata": {},
     "output_type": "execute_result"
    },
    {
     "data": {
      "image/png": "[encoded data removed]",
      "text/plain": [
       "<Figure size 432x288 with 1 Axes>"
      ]
     },
     "metadata": {
      "needs_background": "light"
     },
     "output_type": "display_data"
    }
   ],
   "source": [
    "(sancion_espacios_verdes + sancion_espacios_verdes * inflacion).plot(kind='bar')"
   ]
  },
  {
   "cell_type": "code",
   "execution_count": 111,
   "metadata": {},
   "outputs": [
    {
     "data": {
      "text/plain": [
       "<matplotlib.axes._subplots.AxesSubplot at 0x27407ed6e80>"
      ]
     },
     "execution_count": 111,
     "metadata": {},
     "output_type": "execute_result"
    },
    {
     "data": {
      "image/png": "[encoded data removed]",
      "text/plain": [
       "<Figure size 432x288 with 1 Axes>"
      ]
     },
     "metadata": {
      "needs_background": "light"
     },
     "output_type": "display_data"
    }
   ],
   "source": [
    "((sancion_espacios_verdes / sancion_espacios_verdes.shift()) - inflacion).plot(kind='bar')"
   ]
  },
  {
   "attachments": {
    "image.png": {
     "image/png": "[encoded data removed]"
    }
   },
   "cell_type": "markdown",
   "metadata": {},
   "source": [
    "![image.png](attachment:image.png)"
   ]
  },
  {
   "cell_type": "markdown",
   "metadata": {},
   "source": [
    "7. Conceptos en acción: Las obras en la Ciudad 103\n",
    "\n",
    "Grandes Parques Urbanos 107\n",
    "\n",
    "Centro de Exposiciones y Convenciones (CEC) 108\n",
    "\n",
    "Ciudad del Rock y Teatro Polo Circo 116\n",
    "\n",
    "Arena Parque Roca 122\n",
    "\n",
    "Desarrollo paisajístico de la Nueva Costanera Rafael Obligado 126\n",
    "\n",
    "Parque Costanera Norte Punta Carrasco 130\n",
    "\n",
    "Desarrollo urbano-paisajístico Barrio Parque Donado-Holmberg 134\n",
    "\n",
    "Villa Olímpica 138\n",
    "\n",
    "Cuenco regulador y puesta en valor del Parque Sarmiento 148\n",
    "\n",
    "Cuenco regulador y puesta en valor del Parque Saavedra 152\n",
    "\n",
    "Nuevos Espacios Verdes de Proximidad 155\n",
    "\n",
    "Plaza Monroe 156\n",
    "\n",
    "Nueva Plaza Villa Real 160\n",
    "\n",
    "Conectores Ambientales 165\n",
    "\n",
    "Bulevar Roosevelt 166\n",
    "\n",
    "Avenida Iriarte 170\n",
    "\n",
    "Soluciones viales: Lacroze, Olazábal-Superí, Donado-Holmberg y Constituyentes 174\n",
    "\n",
    "Parque Lineal de la Ribera del Riachuelo 182\n",
    "\n",
    "Parque Lineal Beiró 188\n",
    "\n",
    "Bulevar Soldado de la Frontera, Lugano I y II 192\n",
    "\n",
    "Autopistas Verdes 196\n",
    "\n",
    "Terrazas Verdes 199\n",
    "\n",
    "Terrazas verdes en escuelas 200\n",
    "\n",
    "MAMBA (Museo de Arte Moderno de Buenos Aires) 204\n",
    "\n",
    "NIDO (Núcleo de Inclusión y Desarrollo de Oportunidades) 208\n",
    "\n",
    "Edificio de la Comuna 12 214\n",
    "\n",
    "Macromanzanas y Plazas Integradas 217\n",
    "\n",
    "Prioridad Peatón - Macromanzana Área Central 218\n",
    "\n",
    "Macromanzana - Plaza Integrada Manuel Belgrano"
   ]
  },
  {
   "cell_type": "code",
   "execution_count": null,
   "metadata": {},
   "outputs": [],
   "source": []
  }
 ],
 "metadata": {
  "kernelspec": {
   "display_name": "Python 3",
   "language": "python",
   "name": "python3"
  },
  "language_info": {
   "codemirror_mode": {
    "name": "ipython",
    "version": 3
   },
   "file_extension": ".py",
   "mimetype": "text/x-python",
   "name": "python",
   "nbconvert_exporter": "python",
   "pygments_lexer": "ipython3",
   "version": "3.7.1"
  },
  "toc": {
   "base_numbering": 1,
   "nav_menu": {},
   "number_sections": false,
   "sideBar": true,
   "skip_h1_title": false,
   "title_cell": "Table of Contents",
   "title_sidebar": "Contents",
   "toc_cell": false,
   "toc_position": {},
   "toc_section_display": true,
   "toc_window_display": false
  }
 },
 "nbformat": 4,
 "nbformat_minor": 2
}
